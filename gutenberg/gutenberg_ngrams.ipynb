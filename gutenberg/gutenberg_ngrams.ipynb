{
 "cells": [
  {
   "cell_type": "code",
   "execution_count": 1,
   "metadata": {
    "collapsed": true
   },
   "outputs": [],
   "source": [
    "from __future__ import print_function\n",
    "%matplotlib inline\n",
    "import matplotlib.pylab as plt\n",
    "import sys, os\n",
    "plt.rcParams['figure.figsize'] = (10,6)\n",
    "plt.rcParams['font.size'] = 18"
   ]
  },
  {
   "cell_type": "markdown",
   "metadata": {},
   "source": [
    "# Gutenberg N-Grams\n",
    "\n",
    "In this notebook, we will quantitatively explore the text of the [Gutenberg E-Books Project](https://www.gutenberg.org/), a free repository of e-books that are in the public domain. All of the English and German books have been downloaded for this tutorial and a small python package has been made available that allows you to easily parse the text and the associated metadata. \n",
    "\n",
    "But before we get to using the data, we need to take care of a few setup issues. "
   ]
  },
  {
   "cell_type": "markdown",
   "metadata": {},
   "source": [
    "## Setting up Python and Spark"
   ]
  },
  {
   "cell_type": "markdown",
   "metadata": {},
   "source": [
    "Setting up the spark environment can be a bit of a trial and error procedure. Often you'll need to configure settings (in particular dealing with memory) to fit your cluster and your particular application. Below, we will specify a few of the most important ones -- but you can see the full list in the [Spark Configuration guide](http://spark.apache.org/docs/latest/configuration.html) and if you are using YARN there are critical options also listed under the [YARN deployment guide](http://spark.apache.org/docs/latest/running-on-yarn.html)."
   ]
  },
  {
   "cell_type": "markdown",
   "metadata": {},
   "source": [
    "## Python environment setup\n",
    "\n",
    "First, we need to make sure that the `pyspark` libraries are accessible in this notebook. To do this, we can add them to the library search path: "
   ]
  },
  {
   "cell_type": "code",
   "execution_count": 2,
   "metadata": {
    "collapsed": true
   },
   "outputs": [],
   "source": [
    "import sys\n",
    "try: \n",
    "    spark_home = os.environ['SPARK_HOME']\n",
    "except KeyError: \n",
    "    raise KeyError(\"You must specify the SPARK_HOME environment variable -- is the Spark module loaded?\")\n",
    "\n",
    "python_lib_path = glob.glob('%s/python/lib/py4j*zip'%spark_home)[0]\n",
    "sys.path.insert(0,spark_home+'/python')\n",
    "sys.path.insert(0,python_lib_path)"
   ]
  },
  {
   "cell_type": "markdown",
   "metadata": {},
   "source": [
    "## Runtime settings"
   ]
  },
  {
   "cell_type": "markdown",
   "metadata": {},
   "source": [
    "### Driver memory"
   ]
  },
  {
   "cell_type": "markdown",
   "metadata": {},
   "source": [
    "The memory allocated to the Spark driver is often an insignificant parameter, but it your driver ends up having to handle a lot of data (i.e. in large reduces or if it collects subsamples of the dataset) then this could be important. With the YARN scheduler, it's not very obvious how to specify this value nicely, but using the environment variable seems to work. Note that this has to be done *before* importing the `pyspark` package. Once this is set and the `pyspark` package imported, you may need to restart the python kernel if you want to make a change. You can see how much memory has been allocated to the driver either in the Spark Web UI or in the messages printed to the console at initialization. "
   ]
  },
  {
   "cell_type": "code",
   "execution_count": 3,
   "metadata": {
    "collapsed": true
   },
   "outputs": [],
   "source": [
    "os.environ['SPARK_DRIVER_MEMORY'] = '8g'"
   ]
  },
  {
   "cell_type": "code",
   "execution_count": 4,
   "metadata": {
    "collapsed": false
   },
   "outputs": [],
   "source": [
    "import pyspark\n",
    "from pyspark import SparkConf, SparkContext"
   ]
  },
  {
   "cell_type": "markdown",
   "metadata": {},
   "source": [
    "### Initializing `SparkConf` \n",
    "When starting the Spark runtime through the notebook or inside a script (i.e. when not calling one of the spark scripts like `spark_submit`), you can create a `SparkConf` object that allows you to set up the runtime. This is quite convenient and much more clean and readable than specifying the options on the commandline."
   ]
  },
  {
   "cell_type": "code",
   "execution_count": 5,
   "metadata": {
    "collapsed": true
   },
   "outputs": [],
   "source": [
    "# put the number of executors and cores into variables so we can refer to it later\n",
    "num_execs = 20\n",
    "exec_cores = 4"
   ]
  },
  {
   "cell_type": "code",
   "execution_count": 6,
   "metadata": {
    "collapsed": true
   },
   "outputs": [],
   "source": [
    "# initializing the SparkConf\n",
    "conf = SparkConf()"
   ]
  },
  {
   "cell_type": "markdown",
   "metadata": {},
   "source": [
    "### Executor options\n",
    "\n",
    "The full list of options is very long, but the basic ones you'll *always* want to at least think about are ones pertaining to the basic configuration of the executors: number of executors, memory per executor, and number of cores per executor. \n",
    "\n",
    "A few notes about the memory configuration: the `spark.executor.memory` should not be set to the total memory of the node. Some memory is needed for the OS (including HDFS and other services), and still more is required for the Spark overhead. So in our case here, we have 16 Gb of memory per node but can only use around 12 Gb of this for the executors. Since we need to leave room for 10% YARN overhead, we specify 9 Gb here to be safe. If your executors start dying off for strange reasons, try reducing the memory here. "
   ]
  },
  {
   "cell_type": "code",
   "execution_count": 7,
   "metadata": {
    "collapsed": false
   },
   "outputs": [
    {
     "data": {
      "text/plain": [
       "<pyspark.conf.SparkConf at 0x2b2b47ef4690>"
      ]
     },
     "execution_count": 7,
     "metadata": {},
     "output_type": "execute_result"
    }
   ],
   "source": [
    "conf.set('spark.executor.memory', '9g')\n",
    "conf.set('spark.executor.instances', str(num_execs))\n",
    "conf.set('spark.executor.cores', str(exec_cores))"
   ]
  },
  {
   "cell_type": "markdown",
   "metadata": {},
   "source": [
    "### Memory configuration\n",
    "\n",
    "Two other key memory options exist, specifying the amount of executor memory reserved for *cached* data and for *shuffle* data. Depending on what your application is doing, you may need more of one or the other. For example, if you are running a lot of iterative operations on a large dataset, you probably want a good amount of memory for RDD caching. On the other hand, if you are doing lots of expensive shuffles that occur when sorting of grouping by key, you may want more shuffle memory. Note that if either one starts to run low, your application won't crash it will simply spill to disk. This usually isn't as bad as it sounds especially if the OS file cache kicks in. \n",
    "\n",
    "You can check on the cache memory and shuffle memory in two ways while your application is running. In the Spark UI, you can see the cached RDDs under the `Storage` tab - if they start spilling to disk, this is where you will see it. Similarly, if you are running a large shuffle job, you can click on the stage details in the Spark UI and see the shuffle memory and disk statistics. We will check on both of these later on in this application. \n",
    "\n",
    "Here we will set these two options explicitly for completeness, but actually keep the values at their defaults (60%  of the heap for caching, 20% for shuffles). "
   ]
  },
  {
   "cell_type": "code",
   "execution_count": 8,
   "metadata": {
    "collapsed": false
   },
   "outputs": [
    {
     "data": {
      "text/plain": [
       "<pyspark.conf.SparkConf at 0x2b2b47ef4690>"
      ]
     },
     "execution_count": 8,
     "metadata": {},
     "output_type": "execute_result"
    }
   ],
   "source": [
    "conf.set('spark.storage.memoryFraction', 0.6)\n",
    "conf.set('spark.shuffle.memoryFraction', 0.2)"
   ]
  },
  {
   "cell_type": "markdown",
   "metadata": {},
   "source": [
    "Finally, just to make sure, specify the driver memory also here:"
   ]
  },
  {
   "cell_type": "code",
   "execution_count": 9,
   "metadata": {
    "collapsed": false
   },
   "outputs": [
    {
     "data": {
      "text/plain": [
       "<pyspark.conf.SparkConf at 0x2b2b47ef4690>"
      ]
     },
     "execution_count": 9,
     "metadata": {},
     "output_type": "execute_result"
    }
   ],
   "source": [
    "conf.set('spark.driver.memory', '8g')"
   ]
  },
  {
   "cell_type": "markdown",
   "metadata": {},
   "source": [
    "### `PATH` and `PYTHONPATH`\n",
    "\n",
    "In some cases we need to tell the executors explicitly where the non-standard python libraries are located (this includes the spark libraries and seems to be new in Spark 1.4.0 -- a bug?). For this, we set the environment variable `PYTHONPATH`. Any other environment variable can be specified in this way, should it be needed."
   ]
  },
  {
   "cell_type": "code",
   "execution_count": 10,
   "metadata": {
    "collapsed": false
   },
   "outputs": [
    {
     "data": {
      "text/plain": [
       "<pyspark.conf.SparkConf at 0x2b2b47ef4690>"
      ]
     },
     "execution_count": 10,
     "metadata": {},
     "output_type": "execute_result"
    }
   ],
   "source": [
    "conf.set('spark.executorEnv.PYTHONPATH', \n",
    "         '/cluster/apps/spark/spark-1.4.0-bin-hadoop2.6/python/lib/py4j-0.8.2.1-src.zip:/cluster/apps/spark/spark-1.4.0-bin-hadoop2.6/python/:/cluster/home03/sdid/roskarr/spark_workshop/gutenberg')"
   ]
  },
  {
   "cell_type": "markdown",
   "metadata": {},
   "source": [
    "Since we are using a custom python (miniconda), we also set the `PATH` explicitly: "
   ]
  },
  {
   "cell_type": "code",
   "execution_count": 11,
   "metadata": {
    "collapsed": false
   },
   "outputs": [
    {
     "data": {
      "text/plain": [
       "<pyspark.conf.SparkConf at 0x2b2b47ef4690>"
      ]
     },
     "execution_count": 11,
     "metadata": {},
     "output_type": "execute_result"
    }
   ],
   "source": [
    "conf.set('spark.executorEnv.PATH', os.environ['PATH'])"
   ]
  },
  {
   "cell_type": "markdown",
   "metadata": {},
   "source": [
    "### Starting the `SparkContext`\n",
    "This is our entry point to the Spark runtime - it is used to push data into spark or load RDDs from disk etc. "
   ]
  },
  {
   "cell_type": "code",
   "execution_count": 12,
   "metadata": {
    "collapsed": false
   },
   "outputs": [],
   "source": [
    "sc = SparkContext(master = 'yarn-client', conf = conf)"
   ]
  },
  {
   "cell_type": "markdown",
   "metadata": {},
   "source": [
    "If this works successfully, you can check the [YARN application scheduler](http://a3000.hpc-net.ethz.ch:8088/cluster) and you should see your app listed there. Clicking on the \"Application Master\" link will bring up the familiar Spark Web UI. "
   ]
  },
  {
   "cell_type": "markdown",
   "metadata": {},
   "source": [
    "## Make a key-value RDD of book metadata and text"
   ]
  },
  {
   "cell_type": "markdown",
   "metadata": {},
   "source": [
    "Getting data into spark from a collection of local files is a very common task. A useful pattern to keep in mind is the following: \n",
    "\n",
    "1. make a list of filenames and distribute it among the workers\n",
    "3. \"map\" each filename to the data you want to get out\n",
    "4. now you are left with the RDD of raw data distributed among the workers!"
   ]
  },
  {
   "cell_type": "markdown",
   "metadata": {},
   "source": [
    "In our case of the Gutenberg Project e-book data, we have a directory of `html` files which hold the actual book text, and another directory of associated metadata files (the RDF files). To make your life easier for the purpose of this tutorial, we have made a small python module called `gutenberg_cleanup` that has some handy functions for pulling out the relevant text and metadata out of the raw dataset. \n",
    "\n",
    "The [`gutenberg_cleanup`](gutenberg_cleanup.py) module contains three functions that can help with this: `get_gid`, `get_metadata` and `get_text`.\n",
    "\n",
    "They pretty much do the obvious: \n",
    "\n",
    "`get_gid` takes an html path and pulls out the book ID (`gid`)\n",
    "\n",
    "`get_metadata` takes a `gid` and returns a metadata object with various useful fields that will be used to create a unique key for each book\n",
    "\n",
    "`get_text` takes a path to an html file and returns the raw text extracted from HTML, cleaned of tags and punctuation and converted to lower case. "
   ]
  },
  {
   "cell_type": "markdown",
   "metadata": {},
   "source": [
    "### Initializing the raw dataset using `sc.parallelize`"
   ]
  },
  {
   "cell_type": "code",
   "execution_count": 13,
   "metadata": {
    "collapsed": false
   },
   "outputs": [
    {
     "name": "stdout",
     "output_type": "stream",
     "text": [
      "number of books:  15081\n"
     ]
    }
   ],
   "source": [
    "import glob\n",
    "\n",
    "# get a list of all html files in the data directory\n",
    "flist = glob.glob('/cluster/home03/sdid/roskarr/work/gutenberg/html/*html')\n",
    "print('number of books: ', len(flist))"
   ]
  },
  {
   "cell_type": "markdown",
   "metadata": {},
   "source": [
    "When you use `sc.parallelize` to distribute a dataset across the cluster, you can choose the number of partitions across which to distribute the dataset. The higher the number of partitions, the higher the \"parallelism\". When Spark subsequently executes maps and reduces on this dataset, it does so by dispatching tasks to different executors, which then request the cores under their control to do the actual work. By increasing the number of partitions, you increase the number of tasks - more tasks gives the Spark scheduler more flexibility in distributing the work across the cluster and therefore maximally leveraging the compute resources at its disposal. In some cases, where a single partition might require a lot of memory it can cause `Out of memory` errors - in such cases, simply reducing the amount of data per task by increasing the parallelism can help. \n",
    "\n",
    "Note that the latency of scheduling is pretty low - as long as tasks take a few hundred milliseconds the scheduler should have no trouble dispatching them. On the other hand, there is a bit of overhead associated with partitioning the data so you don't want an unreasonably high number of partitions. You can see the [Spark guide](http://spark.apache.org/docs/latest/tuning.html#level-of-parallelism) for a bit more detail. \n",
    "\n",
    "Below, we will choose to use 5 times as many partitions as we have cores in the cluster. "
   ]
  },
  {
   "cell_type": "code",
   "execution_count": 14,
   "metadata": {
    "collapsed": false
   },
   "outputs": [],
   "source": [
    "files_rdd = sc.parallelize(flist, num_execs*exec_cores*5)"
   ]
  },
  {
   "cell_type": "code",
   "execution_count": 15,
   "metadata": {
    "collapsed": false,
    "scrolled": true
   },
   "outputs": [
    {
     "data": {
      "text/plain": [
       "['/cluster/home03/sdid/roskarr/work/gutenberg/html/1000.html',\n",
       " '/cluster/home03/sdid/roskarr/work/gutenberg/html/1001.html',\n",
       " '/cluster/home03/sdid/roskarr/work/gutenberg/html/1002.html',\n",
       " '/cluster/home03/sdid/roskarr/work/gutenberg/html/1003.html',\n",
       " '/cluster/home03/sdid/roskarr/work/gutenberg/html/1004.html']"
      ]
     },
     "execution_count": 15,
     "metadata": {},
     "output_type": "execute_result"
    }
   ],
   "source": [
    "files_rdd.take(5)"
   ]
  },
  {
   "cell_type": "markdown",
   "metadata": {},
   "source": [
    "### Transforming the list of filenames into a `key,value` pair RDD of metadata and text\n",
    "\n",
    "Use the `get_gid`, `get_text` and `get_metadata` functions to construct a key,value pair RDD, where `key` is the dictionary returned by `get_metadata`. For the `value` of each `key`,`value` pair use the raw text returned by `get_text`. "
   ]
  },
  {
   "cell_type": "code",
   "execution_count": 16,
   "metadata": {
    "collapsed": false
   },
   "outputs": [],
   "source": [
    "import gutenberg_cleanup\n",
    "from gutenberg_cleanup import get_metadata, get_text, get_gid"
   ]
  },
  {
   "cell_type": "markdown",
   "metadata": {},
   "source": [
    "Here are the doc strings for the three functions you'll need to ingest the data: "
   ]
  },
  {
   "cell_type": "code",
   "execution_count": 17,
   "metadata": {
    "collapsed": false
   },
   "outputs": [
    {
     "name": "stdout",
     "output_type": "stream",
     "text": [
      "Help on function get_gid in module gutenberg_cleanup:\n",
      "\n",
      "get_gid(html_path)\n",
      "    Return the Gutenberg book ID (`gid`) give the path to the raw html file.\n",
      "    \n",
      "    Input:\n",
      "        `html_path`: path to the html Gutenberg book file\n",
      "    \n",
      "    Output:\n",
      "        `gid`: the ID of the Gutenberg book\n",
      "\n",
      "Help on function get_metadata in module gutenberg_cleanup:\n",
      "\n",
      "get_metadata(gid, rdf_path='/cluster/home03/sdid/roskarr/work/gutenberg/rdf-files/')\n",
      "    Extract the metadata from the Gutenberg book represented by the gid.\n",
      "    \n",
      "    Inputs:\n",
      "        `gid`: the Gutenberg project book ID\n",
      "    \n",
      "    Optional Keywords:\n",
      "         `rdf_path`: path to the Gutenberg project RDF projects\n",
      "    \n",
      "    Outputs:\n",
      "        dictionary containing the book metadata\n",
      "\n",
      "Help on function get_text in module gutenberg_cleanup:\n",
      "\n",
      "get_text(html_path)\n",
      "    Clean HTML tags, escape characters, special unicode, punctuation, and empty spaces from the raw html\n",
      "    \n",
      "    Inputs:\n",
      "        `html_path`: path to the raw html Gutenberg project book file\n",
      "    \n",
      "    Outputs:\n",
      "        a string of cleaned, lower-case text\n",
      "\n"
     ]
    }
   ],
   "source": [
    "help(get_gid)\n",
    "help(get_metadata)\n",
    "help(get_text)"
   ]
  },
  {
   "cell_type": "markdown",
   "metadata": {},
   "source": [
    "Use the `map` method of `files_rdd` to map the filenames to `(metadata, text)` tuples: "
   ]
  },
  {
   "cell_type": "code",
   "execution_count": 18,
   "metadata": {
    "collapsed": false
   },
   "outputs": [],
   "source": [
    "text_rdd = (files_rdd.map(lambda filename: (get_metadata(get_gid(filename)), get_text(filename))))"
   ]
  },
  {
   "cell_type": "markdown",
   "metadata": {},
   "source": [
    "So that we don't have to constantly re-load the data off disk, lets cache this RDD: "
   ]
  },
  {
   "cell_type": "code",
   "execution_count": 19,
   "metadata": {
    "collapsed": false
   },
   "outputs": [
    {
     "name": "stdout",
     "output_type": "stream",
     "text": [
      "CPU times: user 127 ms, sys: 29 ms, total: 156 ms\n",
      "Wall time: 50.7 s\n"
     ]
    }
   ],
   "source": [
    "%%time\n",
    "text_rdd.cache()\n",
    "text_rdd.count()"
   ]
  },
  {
   "cell_type": "markdown",
   "metadata": {
    "variables": {
     "UI_url": {}
    }
   },
   "source": [
    "Since we called `count()`, it means that the entire RDD was generated/calculated. This combination of `cache` and `count` is a common way to check how much memory your dataset needs - once `count` completes you can check the memory taken up by the RDD by going to the \"Storage\" tag of the Spark UI. "
   ]
  },
  {
   "cell_type": "markdown",
   "metadata": {},
   "source": [
    "Because the data is cached, next time you try to use `text_rdd` it will be much much quicker. For example, "
   ]
  },
  {
   "cell_type": "code",
   "execution_count": 20,
   "metadata": {
    "collapsed": false
   },
   "outputs": [
    {
     "name": "stdout",
     "output_type": "stream",
     "text": [
      "CPU times: user 75 ms, sys: 24 ms, total: 99 ms\n",
      "Wall time: 1.86 s\n"
     ]
    },
    {
     "data": {
      "text/plain": [
       "15081"
      ]
     },
     "execution_count": 20,
     "metadata": {},
     "output_type": "execute_result"
    }
   ],
   "source": [
    "%%time\n",
    "text_rdd.count()"
   ]
  },
  {
   "cell_type": "markdown",
   "metadata": {},
   "source": [
    "As an aside, we could call the native python `map` in exactly the same way (and run it on the local machine only), though this would take much longer to complete, i.e. \n",
    "\n",
    "    text = map(lambda f: (get_metadata(get_gid(f)), get_text(f)), flist)"
   ]
  },
  {
   "cell_type": "markdown",
   "metadata": {},
   "source": [
    "Lets have a look at what this RDD looks like now: "
   ]
  },
  {
   "cell_type": "code",
   "execution_count": 21,
   "metadata": {
    "collapsed": false,
    "scrolled": true
   },
   "outputs": [
    {
     "data": {
      "text/plain": [
       "({'birth_year': None,\n",
       "  'death_year': None,\n",
       "  'downloads': u'243',\n",
       "  'first_name': None,\n",
       "  'gid': 1000,\n",
       "  'lang': u'en',\n",
       "  'last_name': None,\n",
       "  'title': '- No Title -'},\n",
       " 'pageno position absolute right font medium sansserif textindent pagenoafter color gray content attrtitle lineno position absolute left font medium sansserif textindent linenoafter color gray content attrtitle tocpageref float right pre fontfamily monospace fontsize em whitespace prewrap in italian with no accentsbit text please see my notes about various versions beneath this header copyright laws are changing all over the world be sure to check the copyright laws for your country before posting these files please take a look at the important information in this header we encourage you to keep this file on your own disk keeping an electronic path open for the next readers do not remove this information on contacting project gutenberg to get etexts and further information is included below we need your donations this file should be named ddcdtxt or ddcdzip versions based on separate sources get new letter ddcdatxt we are now trying to release all our books one month in advance of the official release dates for time for better editing please note neither this list nor its contents are final till midnight of the last day of the month of any such announcement the official release date of all project gutenberg etexts is at midnight central time of the last day of the stated month a preliminary version may often be posted for suggestion comment and editing by those who wish to do so to be sure you have an up to date first edition xxxxxxxxx please check file sizes in the first week of the next month since our ftp program has a bug in it that scrambles the date tried to fix and failed a look at the file size will have to do but we will try to see a new copy has at least one byte more or less we produce about two million dollars for each hour we work the fifty hours is one conservative estimate for how long it we take to get any etext selected entered proofread edited copyright searched and analyzed the copyright letters written etc this projected audience is one hundred million readers if our value per text is nominally estimated at one dollar then we produce million dollars per hour this year as we release thirtytwo text files per month or more etexts in for a total of if these reach just of the computerized population then the total should reach billion etexts the goal of project gutenberg is to give away one trillion etext files by the december x trillion this is ten thousand titles each to one hundred million readers which is only of the present number of computer users should have at least twice as many computer users as that so it will require us reaching less than of the users in all donations should be made to project gutenbergcmu and are tax deductible to the extent allowable by law cmu carnegie mellon university p o box champaign il michael s hart lthartpoboxcomgt internet bitnet compuserve attmail or mcimail if you have an ftp program or emulator please ftp directly to the project gutenberg archives mac users do not point and click type ftp uiarchivecsouiucedu login anonymous password yourlogin cd etextetext through etext or cd etextarticles get suggest gut for more information dir to see files get or mget to get files set bin for zip files get indexgut for a list of books and get new gut for general information and mget gut for newsletters information prepared by the project gutenberg legal advisor three pages startthe small printfor public domain etextsstart why is this small print statement here you know lawyers they tell us you might sue us if there is something wrong with your copy of this etext even if you got it for free from someone other than us and even if whats wrong is not our fault so among other things this small print statement disclaims most of our liability to you it also tells you how you can distribute copies of this etext if you want to before you use or read this etext by using or reading any part of this project gutenbergtm etext you indicate that you understand agree to and accept this small print statement if you do not you can receive a refund of the money if any you paid for this etext by sending a request within days of receiving it to the person you got it from if you received this etext on a physical medium such as a disk you must return it with your request about project gutenbergtm etexts this project gutenbergtm etext like most project gutenberg tm etexts is a public domain work distributed by professor michael s hart through the project gutenberg association at carnegiemellon university the project among other things this means that no one owns a united states copyright on or for this work so the project and you can copy and distribute it in the united states without permission and without paying copyright royalties special rules set forth below apply if you wish to copy and distribute this etext under the projects project gutenberg trademark to create these etexts the project expends considerable efforts to identify transcribe and proofread public domain works despite these efforts the projects etexts and any medium they may be on may contain defects among other things defects may take the form of incomplete inaccurate or corrupt data transcription errors a copyright or other intellectual property infringement a defective or damaged disk or other etext medium a computer virus or computer codes that damage or cannot be read by your equipment limited warranty disclaimer of damages but for the right of replacement or refund described below the project and any other party you may receive this etext from as a project gutenbergtm etext disclaims all liability to you for damages costs and expenses including legal fees and you have no remedies for negligence or under strict liability or for breach of warranty or contract including but not limited to indirect consequential punitive or incidental damages even if you give notice of the possibility of such damages if you discover a defect in this etext within days of receiving it you can receive a refund of the money if any you paid for it by sending an explanatory note within that time to the person you received it from if you received it on a physical medium you must return it with your note and such person may choose to alternatively give you a replacement copy if you received it electronically such person may choose to alternatively give you a second opportunity to receive it electronically this etext is otherwise provided to you asis no other warranties of any kind express or implied are made to you as to the etext or any medium it may be on including but not limited to warranties of merchantability or fitness for a particular purpose some states do not allow disclaimers of implied warranties or the exclusion or limitation of consequential damages so the above disclaimers and exclusions may not apply to you and you may have other legal rights indemnity you will indemnify and hold the project its directors officers members and agents harmless from all liability cost and expense including legal fees that arise directly or indirectly from any of the following that you do or cause distribution of this etext alteration modification or addition to the etext or any defect distribution under project gutenbergtm you may distribute copies of this etext electronically or by disk book or any other medium if you either delete this small print and all other references to project gutenberg or only give exact copies of it among other things this requires that you do not remove alter or modify the etext or this small print statement you may however if you wish distribute this etext in machine readable binary compressed markup or proprietary form including any form resulting from conversion by word pro cessing or hypertext software but only so long as either the etext when displayed is clearly readable and does not contain characters other than those intended by the author of the work although tilde asterisk and underline characters may be used to convey punctuation intended by the author and additional characters may be used to indicate hypertext links or the etext may be readily converted by the reader at no expense into plain ascii ebcdic or equivalent form by the program that displays the etext as is the case for instance with most word processors or you provide or agree to also provide on request at no additional cost fee or expense a copy of the etext in its original plain ascii form or in ebcdic or other equivalent proprietary form honor the etext refund and replacement provisions of this small print statement pay a trademark license fee to the project of of the net profits you derive calculated using the method you already use to calculate your applicable taxes if you dont derive profits no royalty is due royalties are payable to project gutenberg associationcarnegiemellon university within the days following each date you prepare or were legally required to prepare your annual or equivalent periodic tax return what if you want to send money even if you dont have to the project gratefully accepts contributions in money time scanning machines ocr software public domain etexts royalty free copyright licenses and every other sort of contribution you can think of money should be paid to project gutenberg association carnegiemellon university dantes divine comedy marks the th project gutenberg etext we will be presenting this work in a wide variety of formats in both english and italian and in translation by longfellow cary and possibly more to include html andor the italian accents right now we mostly need help with the italian and longfellow i think we may have enough proofers for a first run at the cary also because they are so preliminary i have not placed the names of the person working on the files in them as i take my complete repsponsibility for all errors that need to be corrected credit will be completely given when we have the final version ready july divina commedia di dante inferno bit italian ddcdxxxx divina commedia di dante purgatorio bit italianddcdxxxx divina commedia di dante paradiso bit italian ddcdxxxx divina commedia di dante inferno bit text ddcxxxxxx divina commedia di dante purgatorio bit text ddcxxxxxx divina commedia di dante paradiso bit text ddcxxxxxx h f carys tanslation of dante the inferno ddccxxxxxx h f carys translation of dante puragorty ddccxxxxxx h f carys translation of dante paradise ddccxxxxxx longfellows translation of dante the inferno ddclxxxxxx longfellows translation of dante purgatory ddclxxxxxx longfellows translation of dante paradise ddclxxxxxx this will be a long month of preparation hartpoboxcom project gutenberg executive director florentini natione non moribus la divina commedia di dante alighieri mi ritrovai per una selva oscura che la diritta via era smarrita esta selva selvaggia e aspra e forte che nel pensier rinova la paura ma per trattar del ben chi vi trovai diro de laltre cose chi vho scorte tantera pien di sonno a quel punto che la verace via abbandonai la dove terminava quella valle che mavea di paura il cor compunto vestite gia de raggi del pianeta che mena dritto altrui per ogne calle che nel lago del cor mera durata la notte chi passai con tanta pieta uscito fuor del pelago a la riva si volge a lacqua perigliosa e guata si volse a retro a rimirar lo passo che non lascio gia mai persona viva ripresi via per la piaggia diserta si che l pie fermo sempre era l piu basso una lonza leggera e presta molto che di pel macolato era coverta anzi mpediva tanto il mio cammino chi fui per ritornar piu volte volto e l sol montava n su con quelle stelle cheran con lui quando lamor divino si cha bene sperar mera cagione di quella fiera a la gaetta pelle ma non si che paura non mi desse la vista che mapparve dun leone con la testalta e con rabbiosa fame si che parea che laere ne tremesse sembiava carca ne la sua magrezza e molte genti fe gia viver grame con la paura chuscia di sua vista chio perdei la speranza de laltezza e giugne l tempo che perder lo face che n tutti suoi pensier piange e sattrista che venendomi ncontro a poco a poco mi ripigneva la dove l sol tace dinanzi a li occhi mi si fu offerto chi per lungo silenzio parea fioco ltltmiserere di megtgt gridai a lui ltltqual che tu sii od ombra od omo certogtgt e li parenti miei furon lombardi mantoani per patria ambedui e vissi a roma sotto l buono augusto nel tempo de li dei falsi e bugiardi figliuol danchise che venne di troia poi che l superbo ilion fu combusto perche non sali il dilettoso monte che principio e cagion di tutta gioiagtgt che spandi di parlar si largo fiumegtgt rispuosio lui con vergognosa fronte vagliami l lungo studio e l grande amore che mha fatto cercar lo tuo volume tu se solo colui da cu io tolsi lo bello stilo che mha fatto onore aiutami da lei famoso saggio chella mi fa tremar le vene e i polsigtgt rispuose poi che lagrimar mi vide ltltse vuo campar desto loco selvaggio non lascia altrui passar per la sua via ma tanto lo mpedisce che luccide che mai non empie la bramosa voglia e dopo l pasto ha piu fame che pria e piu saranno ancora infin che l veltro verra che la fara morir con doglia ma sapienza amore e virtute e sua nazion sara tra feltro e feltro per cui mori la vergine cammilla eurialo e turno e niso di ferute fin che lavra rimessa ne lo nferno la onde nvidia prima dipartilla che tu mi segui e io saro tua guida e trarrotti di qui per loco etterno vedrai li antichi spiriti dolenti cha la seconda morte ciascun grida nel foco perche speran di venire quando che sia a le beate genti anima fia a cio piu di me degna con lei ti lascero nel mio partire perchi fu ribellante a la sua legge non vuol che n sua citta per me si vegna quivi e la sua citta e lalto seggio oh felice colui cu ivi eleggegtgt per quello dio che tu non conoscesti accio chio fugga questo male e peggio si chio veggia la porta di san pietro e color cui tu fai cotanto mestigtgt toglieva li animai che sono in terra da le fatiche loro e io sol uno si del cammino e si de la pietate che ritrarra la mente che non erra o mente che scrivesti cio chio vidi qui si parra la tua nobilitate guarda la mia virtu selle possente prima cha lalto passo tu mi fidi corruttibile ancora ad immortale secolo ando e fu sensibilmente cortese i fu pensando lalto effetto chuscir dovea di lui e l chi e l quale che fu de lalma roma e di suo impero ne lempireo ciel per padre eletto fu stabilita per lo loco santo u siede il successor del maggior piero intese cose che furon cagione di sua vittoria e del papale ammanto per recarne conforto a quella fede che principio a la via di salvazione io non enea io non paulo sono me degno a cio ne io ne altri l crede temo che la venuta non sia folle se savio intendi me chi non ragionogtgt e per novi pensier cangia proposta si che dal cominciar tutto si tolle perche pensando consumai la mpresa che fu nel cominciar cotanto tosta rispuose del magnanimo quellombra ltltlanima tua e da viltade offesa si che donrata impresa lo rivolve come falso veder bestia quandombra dirotti perchio venni e quel chio ntesi nel primo punto che di te mi dolve e donna mi chiamo beata e bella tal che di comandare io la richiesi e cominciommi a dir soave e piana con angelica voce in sua favella di cui la fama ancor nel mondo dura e durera quanto l mondo lontana ne la diserta piaggia e impedito si nel cammin che volte per paura chio mi sia tardi al soccorso levata per quel chi ho di lui nel cielo udito e con cio cha mestieri al suo campare laiuta si chi ne sia consolata vegno del loco ove tornar disio amor mi mosse che mi fa parlare di te mi lodero sovente a lui tacette allora e poi comincia io lumana spezie eccede ogne contento di quel ciel cha minor li cerchi sui che lubidir se gia fosse me tardi piu non te uo chaprirmi il tuo talento de lo scender qua giuso in questo centro de lampio loco ove tornar tu ardi dirotti brievemente mi rispuose perchio non temo di venir qua entro channo potenza di fare altrui male de laltre no che non son paurose che la vostra miseria non mi tange ne fiamma desto incendio non massale di questo mpedimento ovio ti mando si che duro giudicio la su frange e disse or ha bisogno il tuo fedele di te e io a te lo raccomando si mosse e venne al loco dovi era che mi sedea con lantica rachele che non soccorri quei che tamo tanto chusci per te de la volgare schiera non vedi tu la morte che l combatte su la fiumana ove l mar non ha vanto a far lor pro o a fuggir lor danno comio dopo cotai parole fatte fidandomi del tuo parlare onesto chonora te e quei chudito lhanno li occhi lucenti lagrimando volse per che mi fece del venir piu presto dinanzi a quella fiera ti levai che del bel monte il corto andar ti tolse perche tanta vilta nel core allette perche ardire e franchezza non hai curan di te ne la corte del cielo e l mio parlar tanto ben ti promettegtgt chinati e chiusi poi che l sol li mbianca si drizzan tutti aperti in loro stelo e tanto buono ardire al cor mi corse chi cominciai come persona franca e te cortese chubidisti tosto a le vere parole che ti porse si al venir con le parole tue chi son tornato nel primo proposto tu duca tu segnore e tu maestrogtgt cosi li dissi e poi che mosso fue per me si va ne letterno dolore per me si va tra la perduta gente fecemi la divina podestate la somma sapienza e l primo amore se non etterne e io etterno duro lasciate ogne speranza voi chintrate vidio scritte al sommo duna porta per chio ltltmaestro il senso lor me durogtgt ltltqui si convien lasciare ogne sospetto ogne vilta convien che qui sia morta che tu vedrai le genti dolorose channo perduto il ben de lintellettogtgt con lieto volto ondio mi confortai mi mise dentro a le segrete cose risonavan per laere sanza stelle per chio al cominciar ne lagrimai parole di dolore accenti dira voci alte e fioche e suon di man con elle sempre in quellaura sanza tempo tinta come la rena quando turbo spira dissi ltltmaestro che e quel chi odo e che gente che par nel duol si vintagtgt tegnon lanime triste di coloro che visser sanza nfamia e sanza lodo de li angeli che non furon ribelli ne fur fedeli a dio ma per se fuoro ne lo profondo inferno li riceve chalcuna gloria i rei avrebber delligtgt a lor che lamentar li fa si fortegtgt rispuose ltltdicerolti molto breve e la lor cieca vita e tanto bassa che nvidiosi son dogne altra sorte misericordia e giustizia li sdegna non ragioniam di lor ma guarda e passagtgt che girando correva tanto ratta che dogne posa mi parea indegna di gente chi non averei creduto che morte tanta navesse disfatta vidi e conobbi lombra di colui che fece per viltade il gran rifiuto che questa era la setta di cattivi a dio spiacenti e a nemici sui erano ignudi e stimolati molto da mosconi e da vespe cheran ivi che mischiato di lagrime a lor piedi da fastidiosi vermi era ricolto vidi genti a la riva dun gran fiume per chio dissi ltltmaestro or mi concedi le fa di trapassar parer si pronte comio discerno per lo fioco lumegtgt quando noi fermerem li nostri passi su la trista riviera dacherontegtgt temendo no l mio dir li fosse grave infino al fiume del parlar mi trassi un vecchio bianco per antico pelo gridando ltltguai a voi anime prave i vegno per menarvi a laltra riva ne le tenebre etterne in caldo e n gelo partiti da cotesti che son mortigtgt ma poi che vide chio non mi partiva verrai a piaggia non qui per passare piu lieve legno convien che ti portigtgt vuolsi cosi cola dove si puote cio che si vuole e piu non dimandaregtgt al nocchier de la livida palude che ntorno a li occhi avea di fiamme rote cangiar colore e dibattero i denti ratto che nteser le parole crude lumana spezie e l loco e l tempo e l seme di lor semenza e di lor nascimenti forte piangendo a la riva malvagia chattende ciascun uom che dio non teme loro accennando tutte le raccoglie batte col remo qualunque sadagia luna appresso de laltra fin che l ramo vede a la terra tutte le sue spoglie gittansi di quel lito ad una ad una per cenni come augel per suo richiamo e avanti che sien di la discese anche di qua nuova schiera sauna ltltquelli che muoion ne lira di dio tutti convegnon qui dogne paese che la divina giustizia li sprona si che la tema si volve in disio e pero se caron di te si lagna ben puoi sapere omai che l suo dir suonagtgt tremo si forte che de lo spavento la mente di sudore ancor mi bagna che baleno una luce vermiglia la qual mi vinse ciascun sentimento un greve truono si chio mi riscossi come persona che per forza desta dritto levato e fiso riguardai per conoscer lo loco dovio fossi de la valle dabisso dolorosa che ntrono accoglie dinfiniti guai tanto che per ficcar lo viso a fondo io non vi discernea alcuna cosa comincio il poeta tutto smorto ltltio saro primo e tu sarai secondogtgt dissi ltltcome verro se tu paventi che suoli al mio dubbiare esser confortogtgt che son qua giu nel viso mi dipigne quella pieta che tu per tema senti cosi si mise e cosi mi fe intrare nel primo cerchio che labisso cigne non avea pianto mai che di sospiri che laura etterna facevan tremare chavean le turbe cheran molte e grandi dinfanti e di femmine e di viri che spiriti son questi che tu vedi or vo che sappi innanzi che piu andi non basta perche non ebber battesmo che porta de la fede che tu credi non adorar debitamente a dio e di questi cotai son io medesmo semo perduti e sol di tanto offesi che sanza speme vivemo in disiogtgt pero che gente di molto valore conobbi che n quel limbo eran sospesi comincia io per voler esser certo di quella fede che vince ogne errore o per altrui che poi fosse beatogtgt e quei che ntese il mio parlar coverto quando ci vidi venire un possente con segno di vittoria coronato dabel suo figlio e quella di noe di moise legista e ubidente israel con lo padre e co suoi nati e con rachele per cui tanto fe e vo che sappi che dinanzi ad essi spiriti umani non eran salvatigtgt ma passavam la selva tuttavia la selva dico di spiriti spessi di qua dal sonno quandio vidi un foco chemisperio di tenebre vincia ma non si chio non discernessi in parte chorrevol gente possedea quel loco questi chi son channo cotanta onranza che dal modo de li altri li dipartegtgt che di lor suona su ne la tua vita grazia acquista in ciel che si li avanzagtgt ltltonorate laltissimo poeta lombra sua torna chera dipartitagtgt vidi quattro grandombre a noi venire sembianzavevan ne trista ne lieta ltltmira colui con quella spada in mano che vien dinanzi ai tre si come sire laltro e orazio satiro che vene ovidio e l terzo e lultimo lucano nel nome che sono la voce sola fannomi onore e di cio fanno benegtgt di quel segnor de laltissimo canto che sovra li altri comaquila vola volsersi a me con salutevol cenno e l mio maestro sorrise di tanto che si mi fecer de la loro schiera si chio fui sesto tra cotanto senno parlando cose che l tacere e bello si comera l parlar cola dovera sette volte cerchiato dalte mura difeso intorno dun bel fiumicello per sette porte intrai con questi savi giugnemmo in prato di fresca verdura di grande autorita ne lor sembianti parlavan rado con voci soavi in loco aperto luminoso e alto si che veder si potien tutti quanti mi fuor mostrati li spiriti magni che del vedere in me stesso messalto tra quai conobbi ettor ed enea cesare armato con li occhi grifagni da laltra parte vidi l re latino che con lavina sua figlia sedea lucrezia iulia marzia e corniglia e solo in parte vidi l saladino vidi l maestro di color che sanno seder tra filosofica famiglia quivi vidio socrate e platone che nnanzi a li altri piu presso li stanno diogenes anassagora e tale empedocles eraclito e zenone diascoride dico e vidi orfeo tulio e lino e seneca morale ipocrate avicenna e galieno averois che l gran comento feo pero che si mi caccia il lungo tema che molte volte al fatto il dir vien meno per altra via mi mena il savio duca fuor de la queta ne laura che trema giu nel secondo che men loco cinghia e tanto piu dolor che punge a guaio essamina le colpe ne lintrata giudica e manda secondo chavvinghia li vien dinanzi tutta si confessa e quel conoscitor de le peccata cignesi con la coda tante volte quantunque gradi vuol che giu sia messa vanno a vicenda ciascuna al giudizio dicono e odono e poi son giu volte disse minos a me quando mi vide lasciando latto di cotanto offizio non tinganni lampiezza de lintraregtgt e l duca mio a lui ltltperche pur gride vuolsi cosi cola dove si puote cio che si vuole e piu non dimandaregtgt a farmisi sentire or son venuto la dove molto pianto mi percuote che mugghia come fa mar per tempesta se da contrari venti e combattuto mena li spirti con la sua rapina voltando e percotendo li molesta quivi le strida il compianto il lamento bestemmian quivi la virtu divina enno dannati i peccator carnali che la ragion sommettono al talento nel freddo tempo a schiera larga e piena cosi quel fiato li spiriti mali nulla speranza li conforta mai non che di posa ma di minor pena faccendo in aere di se lunga riga cosi vidio venir traendo guai per chi dissi ltltmaestro chi son quelle genti che laura nera si gastigagtgt tu vuo sapergtgt mi disse quelli allotta ltltfu imperadrice di molte favelle che libito fe licito in sua legge per torre il biasmo in che era condotta che succedette a nino e fu sua sposa tenne la terra che l soldan corregge e ruppe fede al cener di sicheo poi e cleopatras lussuriosa tempo si volse e vedi l grande achille che con amore al fine combatteo ombre mostrommi e nominommi a dito chamor di nostra vita dipartille nomar le donne antiche e cavalieri pieta mi giunse e fui quasi smarrito parlerei a quei due che nsieme vanno e paion si al vento esser leggerigtgt piu presso a noi e tu allor li priega per quello amor che i mena ed ei verrannogtgt mossi la voce ltlto anime affannate venite a noi parlar saltri nol niegagtgt con lali alzate e ferme al dolce nido vegnon per laere dal voler portate a noi venendo per laere maligno si forte fu laffettuoso grido che visitando vai per laere perso noi che tignemmo il mondo di sanguigno noi pregheremmo lui de la tua pace poi chai pieta del nostro mal perverso noi udiremo e parleremo a voi mentre che l vento come fa ci tace su la marina dove l po discende per aver pace co seguaci sui prese costui de la bella persona che mi fu tolta e l modo ancor moffende mi prese del costui piacer si forte che come vedi ancor non mabbandona caina attende chi a vita ci spensegtgt queste parole da lor ci fuor porte china il viso e tanto il tenni basso fin che l poeta mi disse ltltche pensegtgt quanti dolci pensier quanto disio meno costoro al doloroso passogtgt e cominciai ltltfrancesca i tuoi martiri a lagrimar mi fanno tristo e pio a che e come concedette amore che conosceste i dubbiosi disirigtgt che ricordarsi del tempo felice ne la miseria e cio sa l tuo dottore del nostro amor tu hai cotanto affetto diro come colui che piange e dice di lancialotto come amor lo strinse soli eravamo e sanza alcun sospetto quella lettura e scolorocci il viso ma solo un punto fu quel che ci vinse esser basciato da cotanto amante questi che mai da me non fia diviso galeotto fu l libro e chi lo scrisse quel giorno piu non vi leggemmo avantegtgt laltro piangea si che di pietade io venni men cosi comio morisse dinanzi a la pieta di due cognati che di trestizia tutto mi confuse mi veggio intorno come chio mi mova e chio mi volga e come che io guati etterna maladetta fredda e greve regola e qualita mai non le nova per laere tenebroso si riversa pute la terra che questo riceve con tre gole caninamente latra sovra la gente che quivi e sommersa e l ventre largo e unghiate le mani graffia li spirti ed iscoia ed isquatra de lun de lati fanno a laltro schermo volgonsi spesso i miseri profani le bocche aperse e mostrocci le sanne non avea membro che tenesse fermo prese la terra e con piene le pugna la gitto dentro a le bramose canne e si racqueta poi che l pasto morde che solo a divorarlo intende e pugna de lo demonio cerbero che ntrona lanime si chesser vorrebber sorde la greve pioggia e ponavam le piante sovra lor vanita che par persona fuor duna cha seder si levo ratto chella ci vide passarsi davante mi disse ltltriconoscimi se sai tu fosti prima chio disfatto fattogtgt forse ti tira fuor de la mia mente si che non par chi ti vedessi mai loco se messo e hai si fatta pena che saltra e maggio nulla e si spiacentegtgt dinvidia si che gia trabocca il sacco seco mi tenne in la vita serena per la dannosa colpa de la gola come tu vedi a la pioggia mi fiacco che tutte queste a simil pena stanno per simil colpagtgt e piu non fe parola mi pesa si cha lagrimar mi nvita ma dimmi se tu sai a che verranno salcun ve giusto e dimmi la cagione per che lha tanta discordia assalitagtgt verranno al sangue e la parte selvaggia caccera laltra con molta offensione infra tre soli e che laltra sormonti con la forza di tal che teste piaggia tenendo laltra sotto gravi pesi come che di cio pianga o che naonti superbia invidia e avarizia sono le tre faville channo i cuori accesigtgt e io a lui ltltancor vo che mi nsegni e che di piu parlar mi facci dono iacopo rusticucci arrigo e l mosca e li altri cha ben far puoser li ngegni che gran disio mi stringe di savere se l ciel li addolcia o lo nferno li attoscagtgt diverse colpe giu li grava al fondo se tanto scendi la i potrai vedere priegoti cha la mente altrui mi rechi piu non ti dico e piu non ti rispondogtgt guardommi un poco e poi chino la testa cadde con essa a par de li altri ciechi di qua dal suon de langelica tromba quando verra la nimica podesta ripigliera sua carne e sua figura udira quel chin etterno rimbombagtgt de lombre e de la pioggia a passi lenti toccando un poco la vita futura crescerannei dopo la gran sentenza o fier minori o saran si cocentigtgt che vuol quanto la cosa e piu perfetta piu senta il bene e cosi la doglienza in vera perfezion gia mai non vada di la piu che di qua essere aspettagtgt parlando piu assai chi non ridico venimmo al punto dove si digrada comincio pluto con la voce chioccia e quel savio gentil che tutto seppe la tua paura che poder chelli abbia non ci torra lo scender questa rocciagtgt e disse ltlttaci maladetto lupo consuma dentro te con la tua rabbia vuolsi ne lalto la dove michele fe la vendetta del superbo strupogtgt caggiono avvolte poi che lalber fiacca tal cadde a terra la fiera crudele pigliando piu de la dolente ripa che l mal de luniverso tutto insacca nove travaglie e pene quantio viddi e perche nostra colpa si ne scipa che si frange con quella in cui sintoppa cosi convien che qui la gente riddi e duna parte e daltra con grandurli voltando pesi per forza di poppa si rivolgea ciascun voltando a retro gridando ltltperche tienigtgt e ltltperche burligtgt da ogne mano a lopposito punto gridandosi anche loro ontoso metro per lo suo mezzo cerchio a laltra giostra e io chavea lo cor quasi compunto che gente e questa e se tutti fuor cherci questi chercuti a la sinistra nostragtgt si de la mente in la vita primaia che con misura nullo spendio ferci quando vegnono a due punti del cerchio dove colpa contraria li dispaia piloso al capo e papi e cardinali in cui usa avarizia il suo soperchiogtgt dovre io ben riconoscere alcuni che furo immondi di cotesti maligtgt la sconoscente vita che i fe sozzi ad ogne conoscenza or li fa bruni questi resurgeranno del sepulcro col pugno chiuso e questi coi crin mozzi ha tolto loro e posti a questa zuffa qual ella sia parole non ci appulcro di ben che son commessi a la fortuna per che lumana gente si rabbuffa e che gia fu di questanime stanche non poterebbe farne posare unagtgt questa fortuna di che tu mi tocche che e che i ben del mondo ha si tra branchegtgt quanta ignoranza e quella che voffende or vo che tu mia sentenza ne mbocche fece li cieli e die lor chi conduce si chogne parte ad ogne parte splende similemente a li splendor mondani ordino general ministra e duce di gente in gente e duno in altro sangue oltre la difension di senni umani seguendo lo giudicio di costei che e occulto come in erba langue questa provede giudica e persegue suo regno come il loro li altri dei necessita la fa esser veloce si spesso vien chi vicenda consegue pur da color che le dovrien dar lode dandole biasmo a torto e mala voce con laltre prime creature lieta volve sua spera e beata si gode gia ogne stella cade che saliva quandio mi mossi e l troppo star si vietagtgt sovruna fonte che bolle e riversa per un fossato che da lei deriva e noi in compagnia de londe bige intrammo giu per una via diversa questo tristo ruscel quande disceso al pie de le maligne piagge grige vidi genti fangose in quel pantano ignude tutte con sembiante offeso ma con la testa e col petto e coi piedi troncandosi co denti a brano a brano lanime di color cui vinse lira e anche vo che tu per certo credi e fanno pullular questacqua al summo come locchio ti dice u che saggira ne laere dolce che dal sol sallegra portando dentro accidioso fummo questinno si gorgoglian ne la strozza che dir nol posson con parola integragtgt grandarco tra la ripa secca e l mezzo con li occhi volti a chi del fango ingozza che noi fossimo al pie de lalta torre li occhi nostri nandar suso a la cima e unaltra da lungi render cenno tanto cha pena il potea locchio torre dissi ltltquesto che dice e che risponde quellaltro foco e chi son quei che l fennogtgt gia scorgere puoi quello che saspetta se l fummo del pantan nol ti nascondegtgt che si corresse via per laere snella comio vidi una nave piccioletta sotto l governo dun sol galeoto che gridava ltltor se giunta anima fellagtgt disse lo mio segnore ltlta questa volta piu non ci avrai che sol passando il lotogtgt che li sia fatto e poi se ne rammarca fecesi flegias ne lira accolta e poi mi fece intrare appresso lui e sol quandio fui dentro parve carca segando se ne va lantica prora de lacqua piu che non suol con altrui dinanzi mi si fece un pien di fango e disse ltltchi se tu che vieni anzi oragtgt ma tu chi se che si se fatto bruttogtgt rispuose ltltvedi che son un che piangogtgt spirito maladetto ti rimani chi ti conosco ancor sie lordo tuttogtgt per che l maestro accorto lo sospinse dicendo ltltvia costa con li altri canigtgt basciommi l volto e disse ltltalma sdegnosa benedetta colei che n te sincinse bonta non e che sua memoria fregi cosi se lombra sua qui furiosa che qui staranno come porci in brago di se lasciando orribili dispregigtgt di vederlo attuffare in questa broda prima che noi uscissimo del lagogtgt ti si lasci veder tu sarai sazio di tal disio convien che tu godagtgt far di costui a le fangose genti che dio ancor ne lodo e ne ringrazio e l fiorentino spirito bizzarro in se medesmo si volvea co denti ma ne lorecchie mi percosse un duolo per chio avante locchio intento sbarro sappressa la citta cha nome dite coi gravi cittadin col grande stuologtgt la entro certe ne la valle cerno vermiglie come se di foco uscite chentro laffoca le dimostra rosse come tu vedi in questo basso infernogtgt che vallan quella terra sconsolata le mura mi parean che ferro fosse venimmo in parte dove il nocchier forte ltltuscitecigtgt grido ltltqui e lintratagtgt da ciel piovuti che stizzosamente dicean ltltchi e costui che sanza morte e l savio mio maestro fece segno di voler lor parlar segretamente e disser ltltvien tu solo e quei sen vada che si ardito intro per questo regno pruovi se sa che tu qui rimarrai che li ha iscorta si buia contradagtgt nel suon de le parole maladette che non credetti ritornarci mai volte mhai sicurta renduta e tratto dalto periglio che ncontra mi stette e se l passar piu oltre ci e negato ritroviam lorme nostre insieme rattogtgt mi disse ltltnon temer che l nostro passo non ci puo torre alcun da tal ne dato conforta e ciba di speranza buona chi non ti lascero nel mondo bassogtgt lo dolce padre e io rimagno in forse che si e no nel capo mi tenciona ma ei non stette la con essi guari che ciascun dentro a pruova si ricorse nel petto al mio segnor che fuor rimase e rivolsesi a me con passi rari dogne baldanza e dicea ne sospiri ltltchi mha negate le dolenti casegtgt non sbigottir chio vincero la prova qual cha la difension dentro saggiri che gia lusaro a men segreta porta la qual sanza serrame ancor si trova e gia di qua da lei discende lerta passando per li cerchi sanza scorta veggendo il duca mio tornare in volta piu tosto dentro il suo novo ristrinse che locchio nol potea menare a lunga per laere nero e per la nebbia folta comincio el ltltse non tal ne sofferse oh quanto tarda a me chaltri qui giungagtgt lo cominciar con laltro che poi venne che fur parole a le prime diverse perchio traeva la parola tronca forse a peggior sentenzia che non tenne discende mai alcun del primo grado che sol per pena ha la speranza cioncagtgt incontragtgt mi rispuose ltltche di noi faccia il cammino alcun per qual io vado congiurato da quella eriton cruda che richiamava lombre a corpi sui chella mi fece intrar dentra quel muro per trarne un spirto del cerchio di giuda e l piu lontan dal ciel che tutto gira ben so l cammin pero ti fa sicuro cigne dintorno la citta dolente u non potemo intrare omai sanziragtgt pero che locchio mavea tutto tratto ver lalta torre a la cima rovente tre furie infernal di sangue tinte che membra feminine avieno e atto serpentelli e ceraste avien per crine onde le fiere tempie erano avvinte de la regina de letterno pianto ltltguardagtgt mi disse ltltle feroci erine quella che piange dal destro e aletto tesifon e nel mezzogtgt e tacque a tanto battiensi a palme e gridavan si alto chi mi strinsi al poeta per sospetto dicevan tutte riguardando in giuso ltltmal non vengiammo in teseo lassaltogtgt che se l gorgon si mostra e tu l vedessi nulla sarebbe di tornar mai susogtgt mi volse e non si tenne a le mie mani che con le sue ancor non mi chiudessi mirate la dottrina che sasconde sotto l velame de li versi strani un fracasso dun suon pien di spavento per cui tremavano amendue le sponde impetuoso per li avversi ardori che fier la selva e sanzalcun rattento dinanzi polveroso va superbo e fa fuggir le fiere e li pastori del viso su per quella schiuma antica per indi ove quel fummo e piu acerbogtgt biscia per lacqua si dileguan tutte fin cha la terra ciascuna sabbica fuggir cosi dinanzi ad un chal passo passava stige con le piante asciutte menando la sinistra innanzi spesso e sol di quellangoscia parea lasso e volsimi al maestro e quei fe segno chi stessi queto ed inchinassi ad esso venne a la porta e con una verghetta laperse che non vebbe alcun ritegno comincio elli in su lorribil soglia ltltondesta oltracotanza in voi salletta a cui non puote il fin mai esser mozzo e che piu volte vha cresciuta doglia cerbero vostro se ben vi ricorda ne porta ancor pelato il mento e l gozzogtgt e non fe motto a noi ma fe sembiante domo cui altra cura stringa e morda e noi movemmo i piedi inver la terra sicuri appresso le parole sante e io chavea di riguardar disio la condizion che tal fortezza serra e veggio ad ogne man grande campagna piena di duolo e di tormento rio si coma pola presso del carnaro chitalia chiude e suoi termini bagna cosi facevan quivi dogne parte salvo che l modo vera piu amaro per le quali eran si del tutto accesi che ferro piu non chiede verunarte e fuor nuscivan si duri lamenti che ben parean di miseri e doffesi che seppellite dentro da quellarche si fan sentir coi sospiri dolentigtgt con lor seguaci dogne setta e molto piu che non credi son le tombe carche e i monimenti son piu e men caldigtgt e poi cha la man destra si fu volto tra l muro de la terra e li martiri lo mio maestro e io dopo le spalle mi volvigtgt cominciai ltltcoma te piace parlami e sodisfammi a miei disiri potrebbesi veder gia son levati tutti coperchi e nessun guardia facegtgt quando di iosafat qui torneranno coi corpi che la su hanno lasciati con epicuro tutti suoi seguaci che lanima col corpo morta fanno quincentro satisfatto sara tosto e al disio ancor che tu mi tacigtgt a te mio cuor se non per dicer poco e tu mhai non pur mo a cio dispostogtgt vivo ten vai cosi parlando onesto piacciati di restare in questo loco di quella nobil patria natio a la qual forse fui troppo molestogtgt duna de larche pero maccostai temendo un poco piu al duca mio vedi la farinata che se dritto da la cintola in su tutto l vedraigtgt ed el sergea col petto e con la fronte comavesse linferno a gran dispitto mi pinser tra le sepulture a lui dicendo ltltle parole tue sien contegtgt guardommi un poco e poi quasi sdegnoso mi dimando ltltchi fuor li maggior tuigtgt non gliel celai ma tutto glielapersi ondei levo le ciglia un poco in suso a me e a miei primi e a mia parte si che per due fiate li dispersigtgt rispuosio lui ltltluna e laltra fiata ma i vostri non appreser ben quellartegtgt unombra lungo questa infino al mento credo che sera in ginocchie levata avesse di veder saltri era meco e poi che l sospecciar fu tutto spento carcere vai per altezza dingegno mio figlio ove e perche non e tecogtgt colui chattende la per qui mi mena forse cui guido vostro ebbe a disdegnogtgt mavean di costui gia letto il nome pero fu la risposta cosi piena dicesti elli ebbe non vivelli ancora non fiere li occhi suoi lo dolce lumegtgt chio facea dinanzi a la risposta supin ricadde e piu non parve fora restato mera non muto aspetto ne mosse collo ne piego sua costa ltltselli han quellartegtgt disse ltltmale appresa cio mi tormenta piu che questo letto la faccia de la donna che qui regge che tu saprai quanto quellarte pesa dimmi perche quel popolo e si empio incontra miei in ciascuna sua leggegtgt che fece larbia colorata in rosso tal orazion fa far nel nostro tempiogtgt ltlta cio non fu io solgtgt disse ltltne certo sanza cagion con li altri sarei mosso fu per ciascun di torre via fiorenza colui che la difesi a viso apertogtgt prega io lui ltltsolvetemi quel nodo che qui ha nviluppata mia sentenza dinanzi quel che l tempo seco adduce e nel presente tenete altro modogtgt le cosegtgt disse ltltche ne son lontano cotanto ancor ne splende il sommo duce nostro intelletto e saltri non ci apporta nulla sapem di vostro stato umano fia nostra conoscenza da quel punto che del futuro fia chiusa la portagtgt dissi ltltor direte dunque a quel caduto che l suo nato e covivi ancor congiunto fate i saper che l fei perche pensava gia ne lerror che mavete solutogtgt per chi pregai lo spirto piu avaccio che mi dicesse chi con lu istava qua dentro e l secondo federico e l cardinale e de li altri mi tacciogtgt poeta volsi i passi ripensando a quel parlar che mi parea nemico mi disse ltltperche se tu si smarritogtgt e io li sodisfeci al suo dimando hai contra tegtgt mi comando quel saggio ltlte ora attendi quigtgt e drizzo l dito di quella il cui bellocchio tutto vede da lei saprai di tua vita il viaggiogtgt lasciammo il muro e gimmo inver lo mezzo per un sentier cha una valle fiede che facevan gran pietre rotte in cerchio venimmo sopra piu crudele stipa del puzzo che l profondo abisso gitta ci raccostammo in dietro ad un coperchio che dicea anastasio papa guardo lo qual trasse fotin de la via dritta si che sausi un poco in prima il senso al tristo fiato e poi no i fia riguardogtgt dissi lui ltlttrova che l tempo non passi perdutogtgt ed elli ltltvedi cha cio pensogtgt comincio poi a dir ltltson tre cerchietti di grado in grado come que che lassi ma perche poi ti basti pur la vista intendi come e perche son costretti ingiuria e l fine ed ogne fin cotale o con forza o con frode altrui contrista piu spiace a dio e pero stan di sotto li frodolenti e piu dolor li assale ma perche si fa forza a tre persone in tre gironi e distinto e costrutto far forza dico in loro e in lor cose come udirai con aperta ragione nel prossimo si danno e nel suo avere ruine incendi e tollette dannose guastatori e predon tutti tormenta lo giron primo per diverse schiere e ne suoi beni e pero nel secondo giron convien che sanza pro si penta biscazza e fonde la sua facultade e piange la dovesser de giocondo col cor negando e bestemmiando quella e spregiando natura e sua bontade del segno suo e soddoma e caorsa e chi spregiando dio col cor favella puo lomo usare in colui che n lui fida e in quel che fidanza non imborsa pur lo vinco damor che fa natura onde nel cerchio secondo sannida falsita ladroneccio e simonia ruffian baratti e simile lordura che fa natura e quel che poi aggiunto di che la fede spezial si cria de luniverso in su che dite siede qualunque trade in etterno e consuntogtgt la tua ragione e assai ben distingue questo baratro e l popol che possiede che mena il vento e che batte la pioggia e che sincontran con si aspre lingue sono ei puniti se dio li ha in ira e se non li ha perche sono a tal foggiagtgt disse ltltlo ngegno tuo da quel che sole o ver la mente dove altrove mira con le quai la tua etica pertratta le tre disposizion che l ciel non vole bestialitade e come incontenenza men dio offende e men biasimo accatta e rechiti a la mente chi son quelli che su di fuor sostegnon penitenza sien dipartiti e perche men crucciata la divina vendetta li martelligtgt tu mi contenti si quando tu solvi che non men che saver dubbiar maggrata dissio ltltla dove di chusura offende la divina bontade e l groppo solvigtgt nota non pure in una sola parte come natura lo suo corso prende e se tu ben la tua fisica note tu troverai non dopo molte carte segue come l maestro fa l discente si che vostrarte a dio quasi e nepote lo genesi dal principio convene prender sua vita e avanzar la gente per se natura e per la sua seguace dispregia poi chin altro pon la spene che i pesci guizzan su per lorizzonta e l carro tutto sovra l coro giace venimmo alpestro e per quel che veranco tal chogne vista ne sarebbe schiva di qua da trento ladice percosse o per tremoto o per sostegno manco al piano e si la roccia discoscesa chalcuna via darebbe a chi su fosse e n su la punta de la rotta lacca linfamia di creti era distesa e quando vide noi se stesso morse si come quei cui lira dentro fiacca tu credi che qui sia l duca datene che su nel mondo la morte ti porse ammaestrato da la tua sorella ma vassi per veder le vostre penegtgt cha ricevuto gia l colpo mortale che gir non sa ma qua e la saltella e quello accorto grido ltltcorri al varco mentre che nfuria e buon che tu ti calegtgt di quelle pietre che spesso moviensi sotto i miei piedi per lo novo carco forse a questa ruina che guardata da quellira bestial chi ora spensi chi discesi qua giu nel basso inferno questa roccia non era ancor cascata che venisse colui che la gran preda levo a dite del cerchio superno tremo si chi pensai che luniverso sentisse amor per lo qual e chi creda e in quel punto questa vecchia roccia qui e altrove tal fece riverso la riviera del sangue in la qual bolle qual che per violenza in altrui nocciagtgt che si ci sproni ne la vita corta e ne letterna poi si mal cimmolle come quella che tutto l piano abbraccia secondo chavea detto la mia scorta corrien centauri armati di saette come solien nel mondo andare a caccia e de la schiera tre si dipartiro con archi e asticciuole prima elette venite voi che scendete la costa ditel costinci se non larco tirogtgt farem noi a chiron costa di presso mal fu la voglia tua sempre si tostagtgt che mori per la bella deianira e fe di se la vendetta elli stesso e il gran chiron il qual nodri achille quellaltro e folo che fu si pien dira saettando qual anima si svelle del sangue piu che sua colpa sortillegtgt chiron prese uno strale e con la cocca fece la barba in dietro a le mascelle disse a compagni ltltsiete voi accorti che quel di retro move cio chel tocca e l mio buon duca che gia li eral petto dove le due nature son consorti mostrar li mi convien la valle buia necessita l ci nduce e non diletto che mi commise questofficio novo non e ladron ne io anima fuia li passi miei per si selvaggia strada danne un de tuoi a cui noi siamo a provo e che porti costui in su la groppa che non e spirto che per laere vadagtgt e disse a nesso ltlttorna e si li guida e fa cansar saltra schiera vintoppagtgt lungo la proda del bollor vermiglio dove i bolliti facieno alte strida e l gran centauro disse ltlte son tiranni che dier nel sangue e ne laver di piglio quivi e alessandro e dionisio fero che fe cicilia aver dolorosi anni e azzolino e quellaltro che biondo e opizzo da esti il qual per vero allor mi volsi al poeta e quei disse ltltquesti ti sia or primo e io secondogtgt sovruna gente che nfino a la gola parea che di quel bulicame uscisse dicendo ltltcolui fesse in grembo a dio lo cor che n su tamisi ancor si colagtgt tenean la testa e ancor tutto l casso e di costoro assai riconobbio quel sangue si che cocea pur li piedi e quindi fu del fosso il nostro passo lo bulicame che sempre si scemagtgt disse l centauro ltltvoglio che tu credi lo fondo suo infin chel si raggiunge ove la tirannia convien che gema quellattila che fu flagello in terra e pirro e sesto e in etterno munge a rinier da corneto a rinier pazzo che fecero a le strade tanta guerragtgt quando noi ci mettemmo per un bosco che da neun sentiero era segnato non rami schietti ma nodosi e nvolti non pomi veran ma stecchi con tosco quelle fiere selvagge che n odio hanno tra cecina e corneto i luoghi colti che cacciar de le strofade i troiani con tristo annunzio di futuro danno pie con artigli e pennuto l gran ventre fanno lamenti in su li alberi strani sappi che se nel secondo gironegtgt mi comincio a dire ltlte sarai mentre pero riguarda ben si vederai cose che torrien fede al mio sermonegtgt e non vedea persona che l facesse per chio tutto smarrito marrestai che tante voci uscisser tra quei bronchi da gente che per noi si nascondesse qualche fraschetta duna deste piante li pensier chai si faran tutti monchigtgt e colsi un ramicel da un gran pruno e l tronco suo grido ltltperche mi schiantegtgt ricomincio a dir ltltperche mi scerpi non hai tu spirto di pietade alcuno ben dovrebbesser la tua man piu pia se state fossimo anime di serpigtgt da lun decapi che da laltro geme e cigola per vento che va via parole e sangue ondio lasciai la cima cadere e stetti come luom che teme rispuose l savio mio ltltanima lesa cio cha veduto pur con la mia rima ma la cosa incredibile mi fece indurlo ad ovra cha me stesso pesa dalcunammenda tua fama rinfreschi nel mondo su dove tornar li lecegtgt chi non posso tacere e voi non gravi perchio un poco a ragionar minveschi del cor di federigo e che le volsi serrando e diserrando si soavi fede portai al glorioso offizio tanto chi ne perde li sonni e polsi di cesare non torse li occhi putti morte comune e de le corti vizio e li nfiammati infiammar si augusto che lieti onor tornaro in tristi lutti credendo col morir fuggir disdegno ingiusto fece me contra me giusto vi giuro che gia mai non ruppi fede al mio segnor che fu donor si degno conforti la memoria mia che giace ancor del colpo che nvidia le diedegtgt disse l poeta a me ltltnon perder lora ma parla e chiedi a lui se piu ti piacegtgt di quel che credi cha me satisfaccia chi non potrei tanta pieta maccoragtgt liberamente cio che l tuo dir priega spirito incarcerato ancor ti piaccia in questi nocchi e dinne se tu puoi salcuna mai di tai membra si spiegagtgt si converti quel vento in cotal voce ltltbrievemente sara risposto a voi dal corpo ondella stessa se disvelta minos la manda a la settima foce ma la dove fortuna la balestra quivi germoglia come gran di spelta larpie pascendo poi de le sue foglie fanno dolore e al dolor fenestra ma non pero chalcuna sen rivesta che non e giusto aver cio chom si toglie selva saranno i nostri corpi appesi ciascuno al prun de lombra sua molestagtgt credendo chaltro ne volesse dire quando noi fummo dun romor sorpresi sente l porco e la caccia a la sua posta chode le bestie e le frasche stormire nudi e graffiati fuggendo si forte che de la selva rompieno ogni rosta e laltro cui pareva tardar troppo gridava ltltlano si non furo accorte e poi che forse li fallia la lena di se e dun cespuglio fece un groppo di nere cagne bramose e correnti come veltri chuscisser di catena e quel dilaceraro a brano a brano poi sen portar quelle membra dolenti e menommi al cespuglio che piangea per le rotture sanguinenti in vano che te giovato di me fare schermo che colpa ho io de la tua vita reagtgt disse ltltchi fosti che per tante punte soffi con sangue doloroso sermogtgt siete a veder lo strazio disonesto cha le mie fronde si da me disgiunte i fui de la citta che nel batista muto il primo padrone ondei per questo e se non fosse che n sul passo darno rimane ancor di lui alcuna vista sovra l cener che dattila rimase avrebber fatto lavorare indarno mi strinse raunai le fronde sparte e rendele a colui chera gia fioco lo secondo giron dal terzo e dove si vede di giustizia orribil arte dico che arrivammo ad una landa che dal suo letto ogne pianta rimove intorno come l fosso tristo ad essa quivi fermammo i passi a randa a randa non daltra foggia fatta che colei che fu da pie di caton gia soppressa esser temuta da ciascun che legge cio che fu manifesto a li occhi miei che piangean tutte assai miseramente e parea posta lor diversa legge alcuna si sedea tutta raccolta e altra andava continuamente e quella men che giacea al tormento ma piu al duolo avea la lingua sciolta piovean di foco dilatate falde come di neve in alpe sanza vento dindia vide sopra l suo stuolo fiamme cadere infino a terra salde con le sue schiere accio che lo vapore mei si stingueva mentre chera solo onde la rena saccendea comesca sotto focile a doppiar lo dolore de le misere mani or quindi or quinci escotendo da se larsura fresca tutte le cose fuor che demon duri cha lintrar de la porta incontra uscinci lo ncendio e giace dispettoso e torto si che la pioggia non par che l marturigtgt chio domandava il mio duca di lui grido ltltqual io fui vivo tal son morto crucciato prese la folgore aguta onde lultimo di percosso fui in mongibello a la focina negra chiamando buon vulcano aiuta aiuta e me saetti con tutta sua forza non ne potrebbe aver vendetta allegragtgt tanto chi non lavea si forte udito ltlto capaneo in cio che non sammorza nullo martiro fuor che la tua rabbia sarebbe al tuo furor dolor compitogtgt dicendo ltltquei fu lun di sette regi chassiser tebe ed ebbe e par chelli abbia ma comio dissi lui li suoi dispetti sono al suo petto assai debiti fregi ancor li piedi ne la rena arsiccia ma sempre al bosco tien li piedi strettigtgt fuor de la selva un picciol fiumicello lo cui rossore ancor mi raccapriccia che parton poi tra lor le peccatrici tal per la rena giu sen giva quello fattera n pietra e margini dallato per chio maccorsi che l passo era lici poscia che noi intrammo per la porta lo cui sogliare a nessuno e negato notabile come l presente rio che sovra se tutte fiammelle ammortagtgt per chio l pregai che mi largisse l pasto di cui largito mavea il disio disselli allora ltltche sappella creta sotto l cui rege fu gia l mondo casto dacqua e di fronde che si chiamo ida or e diserta come cosa vieta del suo figliuolo e per celarlo meglio quando piangea vi facea far le grida che tien volte le spalle inver dammiata e roma guarda come suo speglio e puro argento son le braccia e l petto poi e di rame infino a la forcata salvo che l destro piede e terra cotta e sta n su quel piu che n su laltro eretto duna fessura che lagrime goccia le quali accolte foran quella grotta fanno acheronte stige e flegetonta poi sen van giu per questa stretta doccia fanno cocito e qual sia quello stagno tu lo vedrai pero qui non si contagtgt si diriva cosi dal nostro mondo perche ci appar pur a questo vivagnogtgt e tutto che tu sie venuto molto pur a sinistra giu calando al fondo per che se cosa napparisce nova non de addur maraviglia al tuo voltogtgt flegetonta e lete che de lun taci e laltro di che si fa desta piovagtgt rispuose ltltma l bollor de lacqua rossa dovea ben solver luna che tu faci la dove vanno lanime a lavarsi quando la colpa pentuta e rimossagtgt dal bosco fa che di retro a me vegne li margini fan via che non son arsi e l fummo del ruscel di sopra aduggia si che dal foco salva lacqua e li argini temendo l fiotto che nver lor savventa fanno lo schermo perche l mar si fuggia per difender lor ville e lor castelli anzi che carentana il caldo senta tutto che ne si alti ne si grossi qual che si fosse lo maestro felli tanto chi non avrei visto dovera perchio in dietro rivolto mi fossi che venian lungo largine e ciascuna ci riguardava come suol da sera e si ver noi aguzzavan le ciglia come l vecchio sartor fa ne la cruna fui conosciuto da un che mi prese per lo lembo e grido ltltqual maravigliagtgt ficcai li occhi per lo cotto aspetto si che l viso abbrusciato non difese e chinando la mano a la sua faccia rispuosi ltltsiete voi qui ser brunettogtgt se brunetto latino un poco teco ritorna n dietro e lascia andar la tracciagtgt e se volete che con voi masseggia farol se piace a costui che vo secogtgt sarresta punto giace poi centanni sanzarrostarsi quando l foco il feggia e poi rigiugnero la mia masnada che va piangendo i suoi etterni dannigtgt per andar par di lui ma l capo chino tenea comuom che reverente vada anzi lultimo di qua giu ti mena e chi e questi che mostra l camminogtgt rispuosio lui ltltmi smarri in una valle avanti che leta mia fosse piena questi mapparve tornandio in quella e reducemi a ca per questo callegtgt non puoi fallire a glorioso porto se ben maccorsi ne la vita bella veggendo il cielo a te cosi benigno dato tavrei a lopera conforto che discese di fiesole ab antico e tiene ancor del monte e del macigno ed e ragion che tra li lazzi sorbi si disconvien fruttare al dolce fico gente avara invidiosa e superba dai lor costumi fa che tu ti forbi che luna parte e laltra avranno fame di te ma lungi fia dal becco lerba di lor medesme e non tocchin la pianta salcuna surge ancora in lor letame di que roman che vi rimaser quando fu fatto il nido di malizia tantagtgt rispuosio lui ltltvoi non sareste ancora de lumana natura posto in bando la cara e buona imagine paterna di voi quando nel mondo ad ora ad ora e quantio labbia in grado mentrio vivo convien che ne la mia lingua si scerna e serbolo a chiosar con altro testo a donna che sapra sa lei arrivo pur che mia coscienza non mi garra che a la fortuna come vuol son presto pero giri fortuna la sua rota come le piace e l villan la sua marragtgt destra si volse in dietro e riguardommi poi disse ltltbene ascolta chi la notagtgt con ser brunetto e dimando chi sono li suoi compagni piu noti e piu sommi de li altri fia laudabile tacerci che l tempo saria corto a tanto suono e litterati grandi e di gran fama dun peccato medesmo al mondo lerci e francesco daccorso anche e vedervi savessi avuto di tal tigna brama fu trasmutato darno in bacchiglione dove lascio li mal protesi nervi piu lungo esser non puo pero chi veggio la surger nuovo fummo del sabbione sieti raccomandato il mio tesoro nel qual io vivo ancora e piu non cheggiogtgt che corrono a verona il drappo verde per la campagna e parve di costoro de lacqua che cadea ne laltro giro simile a quel che larnie fanno rombo correndo duna torma che passava sotto la pioggia de laspro martiro ltltsostati tu cha labito ne sembri esser alcun di nostra terra pravagtgt ricenti e vecchie da le fiamme incese ancor men duol pur chi me ne rimembri volse l viso ver me e ltltor aspettagtgt disse ltlta costor si vuole esser cortese la natura del loco i dicerei che meglio stesse a te che a lor la frettagtgt lantico verso e quando a noi fuor giunti fenno una rota di se tutti e trei avvisando lor presa e lor vantaggio prima che sien tra lor battuti e punti drizzava a me si che n contraro il collo faceva ai pie continuo viaggio rende in dispetto noi e nostri prieghigtgt comincio luno ltlte l tinto aspetto e brollo a dirne chi tu se che i vivi piedi cosi sicuro per lo nferno freghi tutto che nudo e dipelato vada fu di grado maggior che tu non credi guido guerra ebbe nome e in sua vita fece col senno assai e con la spada e tegghiaio aldobrandi la cui voce nel mondo su dovria esser gradita iacopo rusticucci fui e certo la fiera moglie piu chaltro mi nuocegtgt gittato mi sarei tra lor di sotto e credo che l dottor lavria sofferto vinse paura la mia buona voglia che di loro abbracciar mi facea ghiotto la vostra condizion dentro mi fisse tanta che tardi tutta si dispoglia parole per le quali i mi pensai che qual voi siete tal gente venisse lovra di voi e li onorati nomi con affezion ritrassi e ascoltai promessi a me per lo verace duca ma nfino al centro pria convien chi tomigtgt le membra tuegtgt rispuose quelli ancora ltlte se la fama tua dopo te luca ne la nostra citta si come suole o se del tutto se ne gita fora con noi per poco e va la coi compagni assai ne cruccia con le sue parolegtgt orgoglio e dismisura han generata fiorenza in te si che tu gia ten piagnigtgt e i tre che cio inteser per risposta guardar lun laltro comal ver si guata rispuoser tutti ltltil satisfare altrui felice te se si parli a tua posta e torni a riveder le belle stelle quando ti giovera dicere i fui indi rupper la rota e a fuggirsi ali sembiar le gambe loro isnelle tosto cosi come fuoro spariti per chal maestro parve di partirsi che l suon de lacqua nera si vicino che per parlar saremmo a pena uditi prima dal monte viso nver levante da la sinistra costa dapennino che si divalli giu nel basso letto e a forli di quel nome e vacante de lalpe per cadere ad una scesa ove dovea per mille esser recetto trovammo risonar quellacqua tinta si che n pocora avria lorecchia offesa e con essa pensai alcuna volta prender la lonza a la pelle dipinta si come l duca mavea comandato porsila a lui aggroppata e ravvolta e alquanto di lunge da la sponda la gitto giuso in quellalto burrato dicea fra me medesmo al novo cenno che l maestro con locchio si seconda presso a color che non veggion pur lovra ma per entro i pensier miran col senno cio chio attendo e che il tuo pensier sogna tosto convien chal tuo viso si scovragtgt de luom chiuder le labbra fin chel puote pero che sanza colpa fa vergogna di questa comedia lettor ti giuro selle non sien di lunga grazia vote venir notando una figura in suso maravigliosa ad ogne cor sicuro talora a solver lancora chaggrappa o scoglio o altro che nel mare e chiuso che passa i monti e rompe i muri e larmi ecco colei che tutto l mondo appuzzagtgt e accennolle che venisse a proda vicino al fin di passeggiati marmi sen venne e arrivo la testa e l busto ma n su la riva non trasse la coda tanto benigna avea di fuor la pelle e dun serpente tutto laltro fusto lo dosso e l petto e ambedue le coste dipinti avea di nodi e di rotelle non fer mai drappi tartari ne turchi ne fuor tai tele per aragne imposte che parte sono in acqua e parte in terra e come la tra li tedeschi lurchi cosi la fiera pessima si stava su lorlo che di pietra e l sabbion serra torcendo in su la venenosa forca cha guisa di scorpion la punta armava la nostra via un poco insino a quella bestia malvagia che cola si corcagtgt e diece passi femmo in su lo stremo per ben cessar la rena e la fiammella poco piu oltre veggio in su la rena gente seder propinqua al loco scemo esperienza desto giron portigtgt mi disse ltltva e vedi la lor mena mentre che torni parlero con questa che ne conceda i suoi omeri fortigtgt di quel settimo cerchio tutto solo andai dove sedea la gente mesta e di qua di la soccorrien con le mani quando a vapori e quando al caldo suolo or col ceffo or col pie quando son morsi o da pulci o da mosche o da tafani ne quali l doloroso foco casca non ne conobbi alcun ma io maccorsi chavea certo colore e certo segno e quindi par che l loro occhio si pasca in una borsa gialla vidi azzurro che dun leone avea faccia e contegno vidine unaltra come sangue rossa mostrando unoca bianca piu che burro segnato avea lo suo sacchetto bianco mi disse ltltche fai tu in questa fossa sappi che l mio vicin vitaliano sedera qui dal mio sinistro fianco spesse fiate mi ntronan li orecchi gridando vegna l cavalier sovrano qui distorse la bocca e di fuor trasse la lingua come bue che l naso lecchi lui che di poco star mavea mmonito tornami in dietro da lanime lasse gia su la groppa del fiero animale e disse a me ltltor sie forte e ardito monta dinanzi chi voglio esser mezzo si che la coda non possa far malegtgt de la quartana cha gia lunghie smorte e triema tutto pur guardando l rezzo ma vergogna mi fe le sue minacce che innanzi a buon segnor fa servo forte si volli dir ma la voce non venne comio credetti fa che tu mabbracce ad altro forse tosto chi montai con le braccia mavvinse e mi sostenne le rote larghe e lo scender sia poco pensa la nova soma che tu haigtgt in dietro in dietro si quindi si tolse e poi chal tutto si senti a gioco e quella tesa come anguilla mosse e con le branche laere a se raccolse quando fetonte abbandono li freni per che l ciel come pare ancor si cosse senti spennar per la scaldata cera gridando il padre a lui ltltmala via tienigtgt ne laere dogne parte e vidi spenta ogne veduta fuor che de la fera rota e discende ma non me naccorgo se non che al viso e di sotto mi venta far sotto noi un orribile scroscio per che con li occhi n giu la testa sporgo pero chi vidi fuochi e senti pianti ondio tremando tutto mi raccoscio lo scendere e l girar per li gran mali che sappressavan da diversi canti che sanza veder logoro o uccello fa dire al falconiere ltltome tu caligtgt per cento rote e da lunge si pone dal suo maestro disdegnoso e fello al pie al pie de la stagliata rocca e discarcate le nostre persone tutto di pietra di color ferrigno come la cerchia che dintorno il volge vaneggia un pozzo assai largo e profondo di cui suo loco dicero lordigno tra l pozzo e l pie de lalta ripa dura e ha distinto in dieci valli il fondo piu e piu fossi cingon li castelli la parte dove son rende figura e come a tai fortezze da lor sogli a la ripa di fuor son ponticelli movien che ricidien li argini e fossi infino al pozzo che i tronca e raccogli di gerion trovammoci e l poeta tenne a sinistra e io dietro mi mossi novo tormento e novi frustatori di che la prima bolgia era repleta dal mezzo in qua ci venien verso l volto di la con noi ma con passi maggiori lanno del giubileo su per lo ponte hanno a passar la gente modo colto verso l castello e vanno a santo pietro da laltra sponda vanno verso l monte vidi demon cornuti con gran ferze che li battien crudelmente di retro a le prime percosse gia nessuno le seconde aspettava ne le terze furo scontrati e io si tosto dissi ltltgia di veder costui non son digiunogtgt e l dolce duca meco si ristette e assentio chalquanto in dietro gissi bassando l viso ma poco li valse chio dissi ltlto tu che locchio a terra gette venedico se tu caccianemico ma che ti mena a si pungenti salsegtgt ma sforzami la tua chiara favella che mi fa sovvenir del mondo antico condussi a far la voglia del marchese come che suoni la sconcia novella anzi ne questo luogo tanto pieno che tante lingue non son ora apprese e se di cio vuoi fede o testimonio recati a mente il nostro avaro senogtgt de la sua scuriada e disse ltltvia ruffian qui non son femmine da coniogtgt poscia con pochi passi divenimmo la vuno scoglio de la ripa uscia e volti a destra su per la sua scheggia da quelle cerchie etterne ci partimmo di sotto per dar passo a li sferzati lo duca disse ltltattienti e fa che feggia ai quali ancor non vedesti la faccia pero che son con noi insieme andatigtgt che venia verso noi da laltra banda e che la ferza similmente scaccia mi disse ltltguarda quel grande che vene e per dolor non par lagrime spanda quelli e iason che per cuore e per senno li colchi del monton privati fene poi che lardite femmine spietate tutti li maschi loro a morte dienno isifile inganno la giovinetta che prima avea tutte laltre ingannate tal colpa a tal martiro lui condanna e anche di medea si fa vendetta e questo basti de la prima valle sapere e di color che n se assannagtgt con largine secondo sincrocicchia e fa di quello ad un altrarco spalle ne laltra bolgia e che col muso scuffa e se medesma con le palme picchia per lalito di giu che vi sappasta che con li occhi e col naso facea zuffa loco a veder sanza montare al dosso de larco ove lo scoglio piu sovrasta vidi gente attuffata in uno sterco che da li uman privadi parea mosso vidi un col capo si di merda lordo che non parea sera laico o cherco di riguardar piu me che li altri bruttigtgt e io a lui ltltperche se ben ricordo e se alessio interminei da lucca pero tadocchio piu che li altri tuttigtgt ltltqua giu mhanno sommerso le lusinghe ondio non ebbi mai la lingua stuccagtgt mi disse ltltil viso un poco piu avante si che la faccia ben con locchio attinghe che la si graffia con lunghie merdose e or saccoscia e ora e in piedi stante al drudo suo quando disse ho io grazie grandi apo te anzi maravigliose che le cose di dio che di bontate deon essere spose e voi rapaci or convien che per voi suoni la tromba pero che ne la terza bolgia state montati de lo scoglio in quella parte cha punto sovra mezzo l fosso piomba che mostri in cielo in terra e nel mal mondo e quanto giusto tua virtu comparte piena la pietra livida di fori dun largo tutti e ciascun era tondo che que che son nel mio bel san giovanni fatti per loco di battezzatori ruppio per un che dentro vannegava e questo sia suggel chognomo sganni dun peccator li piedi e de le gambe infino al grosso e laltro dentro stava per che si forte guizzavan le giunte che spezzate averien ritorte e strambe muoversi pur su per la strema buccia tal era li dai calcagni a le punte guizzando piu che li altri suoi consortigtgt dissio ltlte cui piu roggia fiamma succiagtgt la giu per quella ripa che piu giace da lui saprai di se e de suoi tortigtgt tu se segnore e sai chi non mi parto dal tuo volere e sai quel che si tacegtgt volgemmo e discendemmo a mano stanca la giu nel fondo foracchiato e arto non mi dipuose si mi giunse al rotto di quel che si piangeva con la zanca anima trista come pal commessagtgt comincia io a dir ltltse puoi fa mottogtgt lo perfido assessin che poi che fitto richiama lui per che la morte cessa se tu gia costi ritto bonifazio di parecchi anni mi menti lo scritto per lo qual non temesti torre a nganno la bella donna e poi di farne straziogtgt per non intender cio che lor risposto quasi scornati e risponder non sanno non son colui non son colui che credigtgt e io rispuosi come a me fu imposto poi sospirando e con voce di pianto mi disse ltltdunque che a me richiedi che tu abbi pero la ripa corsa sappi chi fui vestito del gran manto cupido si per avanzar li orsatti che su lavere e qui me misi in borsa che precedetter me simoneggiando per le fessure de la pietra piatti verra colui chi credea che tu fossi allor chi feci l subito dimando e chi son stato cosi sottosopra chel non stara piantato coi pie rossi di ver ponente un pastor sanza legge tal che convien che lui e me ricuopra ne maccabei e come a quel fu molle suo re cosi fia lui chi francia reggegtgt chi pur rispuosi lui a questo metro ltltdeh or mi di quanto tesoro volle chei ponesse le chiavi in sua balia certo non chiese se non viemmi retro oro od argento quando fu sortito al loco che perde lanima ria e guarda ben la mal tolta moneta chesser ti fece contra carlo ardito la reverenza delle somme chiavi che tu tenesti ne la vita lieta che la vostra avarizia il mondo attrista calcando i buoni e sollevando i pravi quando colei che siede sopra lacque puttaneggiar coi regi a lui fu vista e da le diece corna ebbe argomento fin che virtute al suo marito piacque e che altro e da voi a lidolatre se non chelli uno e voi ne orate cento non la tua conversion ma quella dote che da te prese il primo ricco patregtgt o ira o coscienza che l mordesse forte spingava con ambo le piote con si contenta labbia sempre attese lo suon de le parole vere espresse e poi che tutto su mi sebbe al petto rimonto per la via onde discese si men porto sovra l colmo de larco che dal quarto al quinto argine e tragetto soave per lo scoglio sconcio ed erto che sarebbe a le capre duro varco e dar matera al ventesimo canto de la prima canzon che di sommersi a riguardar ne lo scoperto fondo che si bagnava dangoscioso pianto venir tacendo e lagrimando al passo che fanno le letane in questo mondo mirabilmente apparve esser travolto ciascun tra l mento e l principio del casso e in dietro venir li convenia perche l veder dinanzi era lor tolto si travolse cosi alcun del tutto ma io nol vidi ne credo che sia di tua lezione or pensa per te stesso comio potea tener lo viso asciutto vidi si torta che l pianto de li occhi le natiche bagnava per lo fesso del duro scoglio si che la mia scorta mi disse ltltancor se tu de li altri sciocchi chi e piu scellerato che colui che al giudicio divin passion comporta saperse a li occhi di teban la terra per chei gridavan tutti dove rui e non resto di ruinare a valle fino a minos che ciascheduno afferra perche volle veder troppo davante di retro guarda e fa retroso calle quando di maschio femmina divenne cangiandosi le membra tutte quante li duo serpenti avvolti con la verga che riavesse le maschili penne che ne monti di luni dove ronca lo carrarese che di sotto alberga per sua dimora onde a guardar le stelle e l mar no li era la veduta tronca che tu non vedi con le trecce sciolte e ha di la ogne pilosa pelle poscia si puose la dove nacquio onde un poco mi piace che mascolte e venne serva la citta di baco questa gran tempo per lo mondo gio a pie de lalpe che serra lamagna sovra tiralli cha nome benaco tra garda e val camonica e pennino de lacqua che nel detto laco stagna pastore e quel di brescia e l veronese segnar poria se fesse quel cammino da fronteggiar bresciani e bergamaschi ove la riva ntorno piu discese cio che n grembo a benaco star non puo e fassi fiume giu per verdi paschi non piu benaco ma mencio si chiama fino a governol dove cade in po ne la qual si distende e la mpaluda e suol di state talor essere grama vide terra nel mezzo del pantano sanza coltura e dabitanti nuda ristette con suoi servi a far sue arti e visse e vi lascio suo corpo vano saccolsero a quel loco chera forte per lo pantan chavea da tutte parti e per colei che l loco prima elesse mantua lappellar sanzaltra sorte prima che la mattia da casalodi da pinamonte inganno ricevesse originar la mia terra altrimenti la verita nulla menzogna frodigtgt mi son si certi e prendon si mia fede che li altri mi sarien carboni spenti se tu ne vedi alcun degno di nota che solo a cio la mia mente rifiedegtgt porge la barba in su le spalle brune fu quando grecia fu di maschi vota augure e diede l punto con calcanta in aulide a tagliar la prima fune lalta mia tragedia in alcun loco ben lo sai tu che la sai tutta quanta michele scotto fu che veramente de le magiche frode seppe l gioco chavere inteso al cuoio e a lo spago ora vorrebbe ma tardi si pente la spuola e l fuso e fecersi ndivine fecer malie con erbe e con imago damendue li emisperi e tocca londa sotto sobilia caino e le spine ben ten de ricordar che non ti nocque alcuna volta per la selva fondagtgt che la mia comedia cantar non cura venimmo e tenavamo il colmo quando di malebolge e li altri pianti vani e vidila mirabilmente oscura bolle linverno la tenace pece a rimpalmare i legni lor non sani chi fa suo legno novo e chi ristoppa le coste a quel che piu viaggi fece altri fa remi e altri volge sarte chi terzeruolo e artimon rintoppa bollia la giuso una pegola spessa che nviscava la ripa dogne parte mai che le bolle che l bollor levava e gonfiar tutta e riseder compressa lo duca mio dicendo ltltguarda guardagtgt mi trasse a se del loco dovio stava di veder quel che li convien fuggire e cui paura subita sgagliarda e vidi dietro a noi un diavol nero correndo su per lo scoglio venire e quanto mi parea ne latto acerbo con lali aperte e sovra i pie leggero carcava un peccator con ambo lanche e quei tenea de pie ghermito l nerbo ecco un de li anzian di santa zita mettetel sotto chi torno per anche ognuom ve barattier fuor che bonturo del no per li denar vi si fa itagtgt si volse e mai non fu mastino sciolto con tanta fretta a seguitar lo furo ma i demon che del ponte avean coperchio gridar ltltqui non ha loco il santo volto pero se tu non vuo di nostri graffi non far sopra la pegola soverchiogtgt disser ltltcoverto convien che qui balli si che se puoi nascosamente accaffigtgt fanno attuffare in mezzo la caldaia la carne con li uncin perche non galli che tu ci siagtgt mi disse ltltgiu tacquatta dopo uno scheggio chalcun schermo taia non temer tu chi ho le cose conte perchaltra volta fui a tal barattagtgt e comel giunse in su la ripa sesta mestier li fu daver sicura fronte chescono i cani a dosso al poverello che di subito chiede ove sarresta e volser contra lui tutti runcigli ma el grido ltltnessun di voi sia fello traggasi avante lun di voi che moda e poi darruncigliarmi si consigligtgt per chun si mosse e li altri stetter fermi e venne a lui dicendo ltltche li approdagtgt esser venutogtgt disse l mio maestro ltltsicuro gia da tutti vostri schermi lascianandar che nel cielo e voluto chi mostri altrui questo cammin silvestrogtgt che si lascio cascar luncino a piedi e disse a li altri ltltomai non sia ferutogtgt tra li scheggion del ponte quatto quatto sicuramente omai a me ti riedigtgt e i diavoli si fecer tutti avanti si chio temetti chei tenesser patto chuscivan patteggiati di caprona veggendo se tra nemici cotanti lungo l mio duca e non torceva li occhi da la sembianza lor chera non buona diceva lun con laltro ltltin sul gropponegtgt e rispondien ltltsi fa che glielaccocchigtgt col duca mio si volse tutto presto e disse ltltposa posa scarmiglionegtgt iscoglio non si puo pero che giace tutto spezzato al fondo larco sesto andatevene su per questa grotta presso e un altro scoglio che via face mille dugento con sessanta sei anni compie che qui la via fu rotta a riguardar salcun se ne sciorina gite con lor che non saranno reigtgt comincio elli a dire ltlte tu cagnazzo e barbariccia guidi la decina ciriatto sannuto e graffiacane e farfarello e rubicante pazzo costor sian salvi infino a laltro scheggio che tutto intero va sovra le tanegtgt dissio ltltdeh sanza scorta andianci soli se tu sa ir chi per me non la cheggio non vedi tu che digrignan li denti e con le ciglia ne minaccian duoligtgt lasciali digrignar pur a lor senno che fanno cio per li lessi dolentigtgt ma prima avea ciascun la lingua stretta coi denti verso lor duca per cenno e cominciare stormo e far lor mostra e talvolta partir per loro scampo o aretini e vidi gir gualdane fedir torneamenti e correr giostra con tamburi e con cenni di castella e con cose nostrali e con istrane cavalier vidi muover ne pedoni ne nave a segno di terra o di stella ahi fiera compagnia ma ne la chiesa coi santi e in taverna coi ghiottoni per veder de la bolgia ogne contegno e de la gente chentro vera incesa a marinar con larco de la schiena che sargomentin di campar lor legno mostravalcun de peccatori il dosso e nascondea in men che non balena stanno i ranocchi pur col muso fuori si che celano i piedi e laltro grosso ma come sappressava barbariccia cosi si ritraen sotto i bollori uno aspettar cosi comelli ncontra chuna rana rimane e laltra spiccia li arrunciglio le mpegolate chiome e trassel su che mi parve una lontra si li notai quando fuorono eletti e poi che si chiamaro attesi come li unghioni a dosso si che tu lo scuoigtgt gridavan tutti insieme i maladetti che tu sappi chi e lo sciagurato venuto a man de li avversari suoigtgt domandollo ondei fosse e quei rispuose ltlti fui del regno di navarra nato che mavea generato dun ribaldo distruggitor di se e di sue cose quivi mi misi a far baratteria di chio rendo ragione in questo caldogtgt dogne parte una sanna come a porco li fe sentir come luna sdruscia ma barbariccia il chiuse con le braccia e disse ltltstate in la mentrio lo nforcogtgt ltltdomandagtgt disse ltltancor se piu disii saper da lui prima chaltri l disfacciagtgt conosci tu alcun che sia latino sotto la pecegtgt e quelli ltlti mi partii cosi fossio ancor con lui coperto chi non temerei unghia ne uncinogtgt disse e preseli l braccio col runciglio si che stracciando ne porto un lacerto giuso a le gambe onde l decurio loro si volse intorno intorno con mal piglio a lui chancor mirava sua ferita domando l duca mio sanza dimoro di che facesti per venire a prodagtgt ed ei rispuose ltltfu frate gomita chebbe i nemici di suo donno in mano e fe si lor che ciascun se ne loda si come dice e ne li altri offici anche barattier fu non picciol ma sovrano di logodoro e a dir di sardigna le lingue lor non si sentono stanche i direi anche ma i temo chello non sapparecchi a grattarmi la tignagtgt che stralunava li occhi per fedire disse ltltfatti n costa malvagio uccellogtgt ricomincio lo spaurato appresso ltlttoschi o lombardi io ne faro venire si chei non teman de le lor vendette e io seggendo in questo loco stesso quandio suffolero come nostro uso di fare allor che fori alcun si mettegtgt crollando l capo e disse ltltodi malizia chelli ha pensata per gittarsi giusogtgt rispuose ltltmalizioso son io troppo quandio procuro a mia maggior trestiziagtgt a li altri disse a lui ltltse tu ti cali io non ti verro dietro di gualoppo lascisi l collo e sia la ripa scudo a veder se tu sol piu di noi valigtgt ciascun da laltra costa li occhi volse quel prima cha cio fare era piu crudo fermo le piante a terra e in un punto salto e dal proposto lor si sciolse ma quei piu che cagion fu del difetto pero si mosse e grido ltlttu se giuntogtgt non potero avanzar quelli ando sotto e quei drizzo volando suso il petto quando l falcon sappressa giu sattuffa ed ei ritorna su crucciato e rotto volando dietro li tenne invaghito che quei campasse per aver la zuffa cosi volse li artigli al suo compagno e fu con lui sopra l fosso ghermito ad artigliar ben lui e amendue cadder nel mezzo del bogliente stagno ma pero di levarsi era neente si avieno inviscate lali sue quattro ne fe volar da laltra costa con tutti raffi e assai prestamente porser li uncini verso li mpaniati cheran gia cotti dentro da la crosta nandavam lun dinanzi e laltro dopo come frati minor vanno per via lo mio pensier per la presente rissa dovel parlo de la rana e del topo che lun con laltro fa se ben saccoppia principio e fine con la mente fissa cosi nacque di quello un altro poi che la prima paura mi fe doppia sono scherniti con danno e con beffa si fatta chassai credo che lor noi ei ne verranno dietro piu crudeli che l cane a quella lievre chelli acceffa de la paura e stava in dietro intento quandio dissi ltltmaestro se non celi di malebranche noi li avem gia dietro io li magino si che gia li sentogtgt limagine di fuor tua non trarrei piu tosto a me che quella dentro mpetro con simile atto e con simile faccia si che dintrambi un sol consiglio fei che noi possiam ne laltra bolgia scendere noi fuggirem limaginata cacciagtgt chio li vidi venir con lali tese non molto lungi per volerne prendere come la madre chal romore e desta e vede presso a se le fiamme accese avendo piu di lui che di se cura tanto che solo una camiscia vesta supin si diede a la pendente roccia che lun de lati a laltra bolgia tura a volger ruota di molin terragno quandella piu verso le pale approccia portandosene me sovra l suo petto come suo figlio non come compagno del fondo giu che furon in sul colle sovresso noi ma non li era sospetto porre ministri de la fossa quinta poder di partirsindi a tutti tolle che giva intorno assai con lenti passi piangendo e nel sembiante stanca e vinta dinanzi a li occhi fatte de la taglia che in clugni per li monaci fassi ma dentro tutte piombo e gravi tanto che federigo le mettea di paglia noi ci volgemmo ancor pur a man manca con loro insieme intenti al tristo pianto venia si pian che noi eravam nuovi di compagnia ad ogne mover danca alcun chal fatto o al nome si conosca e li occhi si andando intorno movigtgt di retro a noi grido ltlttenete i piedi voi che correte si per laura fosca onde l duca si volse e disse ltltaspetta e poi secondo il suo passo procedigtgt de lanimo col viso desser meco ma tardavali l carco e la via stretta mi rimiraron sanza far parola poi si volsero in se e dicean seco e se son morti per qual privilegio vanno scoperti de la grave stolagtgt de lipocriti tristi se venuto dir chi tu se non avere in dispregiogtgt sovra l bel fiume darno a la gran villa e son col corpo chi ho sempre avuto quanti veggio dolor giu per le guance e che pena e in voi che si sfavillagtgt son di piombo si grosse che li pesi fan cosi cigolar le lor bilance io catalano e questi loderingo nomati e da tua terra insieme presi per conservar sua pace e fummo tali chancor si pare intorno dal gardingogtgt ma piu non dissi cha locchio mi corse un crucifisso in terra con tre pali soffiando ne la barba con sospiri e l frate catalan cha cio saccorse consiglio i farisei che convenia porre un uom per lo popolo a martiri come tu vedi ed e mestier chel senta qualunque passa come pesa pria in questa fossa e li altri dal concilio che fu per li giudei mala sementagtgt sovra colui chera disteso in croce tanto vilmente ne letterno essilio ltltnon vi dispiaccia se vi lece dirci sa la man destra giace alcuna foce sanza costrigner de li angeli neri che vegnan desto fondo a dipartircigtgt sappressa un sasso che de la gran cerchia si move e varca tutti vallon feri montar potrete su per la ruina che giace in costa e nel fondo soperchiagtgt poi disse ltltmal contava la bisogna colui che i peccator di qua uncinagtgt del diavol vizi assai tra quali udi chelli e bugiardo e padre di menzognagtgt turbato un poco dira nel sembiante ondio da li ncarcati mi parti che l sole i crin sotto laquario tempra e gia le notti al mezzo di sen vanno limagine di sua sorella bianca ma poco dura a la sua penna tempra si leva e guarda e vede la campagna biancheggiar tutta ondei si batte lanca come l tapin che non sa che si faccia poi riede e la speranza ringavagna in poco dora e prende suo vincastro e fuor le pecorelle a pascer caccia quandio li vidi si turbar la fronte e cosi tosto al mal giunse lo mpiastro lo duca a me si volse con quel piglio dolce chio vidi prima a pie del monte eletto seco riguardando prima ben la ruina e diedemi di piglio che sempre par che nnanzi si proveggia cosi levando me su ver la cima dicendo ltltsovra quella poi taggrappa ma tenta pria se tal chella ti reggiagtgt che noi a pena ei lieve e io sospinto potavam su montar di chiappa in chiappa piu che da laltro era la costa corta non so di lui ma io sarei ben vinto del bassissimo pozzo tutta pende lo sito di ciascuna valle porta noi pur venimmo al fine in su la punta onde lultima pietra si scoscende quandio fui su chi non potea piu oltre anzi massisi ne la prima giunta disse l maestro ltltche seggendo in piuma in fama non si vien ne sotto coltre cotal vestigio in terra di se lascia qual fummo in aere e in acqua la schiuma con lanimo che vince ogne battaglia se col suo grave corpo non saccascia non basta da costoro esser partito se tu mi ntendi or fa si che ti vagliagtgt meglio di lena chi non mi sentia e dissi ltltva chi son forte e arditogtgt chera ronchioso stretto e malagevole ed erto piu assai che quel di pria onde una voce usci de laltro fosso a parole formar disconvenevole fossi de larco gia che varca quivi ma chi parlava ad ire parea mosso non poteano ire al fondo per lo scuro per chio ltltmaestro fa che tu arrivi che comi odo quinci e non intendo cosi giu veggio e neente affigurogtgt se non lo far che la dimanda onesta si de seguir con lopera tacendogtgt dove saggiugne con lottava ripa e poi mi fu la bolgia manifesta di serpenti e di si diversa mena che la memoria il sangue ancor mi scipa che se chelidri iaculi e faree produce e cencri con anfisibena mostro gia mai con tutta letiopia ne con cio che di sopra al mar rosso ee correan genti nude e spaventate sanza sperar pertugio o elitropia quelle ficcavan per le ren la coda e l capo ed eran dinanzi aggroppate savvento un serpente che l trafisse la dove l collo a le spalle sannoda comel saccese e arse e cener tutto convenne che cascando divenisse la polver si raccolse per se stessa e n quel medesmo ritorno di butto che la fenice more e poi rinasce quando al cinquecentesimo anno appressa ma sol dincenso lagrime e damomo e nardo e mirra son lultime fasce per forza di demon cha terra il tira o daltra oppilazion che lega lomo tutto smarrito de la grande angoscia chelli ha sofferta e guardando sospira oh potenza di dio quante severa che cotai colpi per vendetta croscia per chei rispuose ltltio piovvi di toscana poco tempo e in questa gola fiera si come a mul chi fui son vanni fucci bestia e pistoia mi fu degna tanagtgt e domanda che colpa qua giu l pinse chio l vidi uomo di sangue e di cruccigtgt ma drizzo verso me lanimo e l volto e di trista vergogna si dipinse ne la miseria dove tu mi vedi che quando fui de laltra vita tolto in giu son messo tanto perchio fui ladro a la sagrestia di belli arredi ma perche di tal vista tu non godi se mai sarai di fuor da luoghi bui pistoia in pria di neri si dimagra poi fiorenza rinova gente e modi che di torbidi nuvoli involuto e con tempesta impetuosa e agra ondei repente spezzera la nebbia si chogne bianco ne sara feruto le mani alzo con amendue le fiche gridando ltlttogli dio cha te le squadrogtgt perchuna li savvolse allora al collo come dicesse non vo che piu diche ribadendo se stessa si dinanzi che non potea con esse dare un crollo dincenerarti si che piu non duri poi che n mal fare il seme tuo avanzi non vidi spirto in dio tanto superbo non quel che cadde a tebe giu da muri e io vidi un centauro pien di rabbia venir chiamando ltltove ove lacerbogtgt quante bisce elli avea su per la groppa infin ove comincia nostra labbia con lali aperte li giacea un draco e quello affuoca qualunque sintoppa che sotto l sasso di monte aventino di sangue fece spesse volte laco per lo furto che frodolente fece del grande armento chelli ebbe a vicino sotto la mazza dercule che forse gliene die cento e non senti le diecegtgt e tre spiriti venner sotto noi de quali ne io ne l duca mio saccorse per che nostra novella si ristette e intendemmo pur ad essi poi come suol seguitar per alcun caso che lun nomar un altro convenette per chio accio che l duca stesse attento mi puosi l dito su dal mento al naso cio chio diro non sara maraviglia che io che l vidi a pena il mi consento e un serpente con sei pie si lancia dinanzi a luno e tutto a lui sappiglia e con li anterior le braccia prese poi li addento e luna e laltra guancia e miseli la coda tra mbedue e dietro per le ren su la ritese ad alber si come lorribil fiera per laltrui membra avviticchio le sue fossero stati e mischiar lor colore ne lun ne laltro gia parea quel chera per lo papiro suso un color bruno che non e nero ancora e l bianco more gridava ltltome agnel come ti muti vedi che gia non se ne due ne unogtgt quando napparver due figure miste in una faccia overan due perduti le cosce con le gambe e l ventre e l casso divenner membra che non fuor mai viste due e nessun limagine perversa parea e tal sen gio con lento passo dei di canicular cangiando sepe folgore par se la via attraversa de li altri due un serpentello acceso livido e nero come gran di pepe nostro alimento a lun di lor trafisse poi cadde giuso innanzi lui disteso anzi co pie fermati sbadigliava pur come sonno o febbre lassalisse lun per la piaga e laltro per la bocca fummavan forte e l fummo si scontrava del misero sabello e di nasidio e attenda a udir quel chor si scocca che se quello in serpente e quella in fonte converte poetando io non lo nvidio non trasmuto si chamendue le forme a cambiar lor matera fosser pronte che l serpente la coda in forca fesse e il feruto ristrinse insieme lorme sappiccar si che n poco la giuntura non facea segno alcun che si paresse che si perdeva la e la sua pelle si facea molle e quella di la dura e i due pie de la fiera cheran corti tanto allungar quanto accorciavan quelle diventaron lo membro che luom cela e l misero del suo navea due porti di color novo e genera l pel suso per luna parte e da laltra il dipela non torcendo pero le lucerne empie sotto le quai ciascun cambiava muso e di troppa matera chin la venne uscir li orecchi de le gote scempie di quel soverchio fe naso a la faccia e le labbra ingrosso quanto convenne e li orecchi ritira per la testa come face le corna la lumaccia prima a parlar si fende e la forcuta ne laltro si richiude e l fummo resta suffolando si fugge per la valle e laltro dietro a lui parlando sputa e disse a laltro ltlti vo che buoso corra comho fattio carpon per questo callegtgt mutare e trasmutare e qui mi scusi la novita se fior la penna abborra fossero alquanto e lanimo smagato non poter quei fuggirsi tanto chiusi ed era quel che sol di tre compagni che venner prima non era mutato che per mare e per terra batti lali e per lo nferno tuo nome si spande tuoi cittadini onde mi ven vergogna e tu in grande orranza non ne sali tu sentirai di qua da picciol tempo di quel che prato non chaltri tagogna cosi fossei da che pur esser dee che piu mi gravera compiu mattempo che navea fatto iborni a scender pria rimonto l duca mio e trasse mee tra le schegge e tra rocchi de lo scoglio lo pie sanza la man non si spedia quando drizzo la mente a cio chio vidi e piu lo ngegno affreno chi non soglio si che se stella bona o miglior cosa mha dato l ben chio stessi nol minvidi nel tempo che colui che l mondo schiara la faccia sua a noi tien meno ascosa vede lucciole giu per la vallea forse cola dove vendemmia e ara lottava bolgia si comio maccorsi tosto che fui la ve l fondo parea vide l carro delia al dipartire quando i cavalli al cielo erti levorsi chel vedesse altro che la fiamma sola si come nuvoletta in su salire del fosso che nessuna mostra l furto e ogne fiamma un peccatore invola si che sio non avessi un ronchion preso caduto sarei giu sanzesser urto disse ltltdentro dai fuochi son li spirti catun si fascia di quel chelli e incesogtgt son io piu certo ma gia mera avviso che cosi fosse e gia voleva dirti di sopra che par surger de la pira doveteocle col fratel fu misogtgt ulisse e diomede e cosi insieme a la vendetta vanno come a lira lagguato del caval che fe la porta onde usci de romani il gentil seme deidamia ancor si duol dachille e del palladio pena vi si portagtgt parlargtgt dissio ltltmaestro assai ten priego e ripriego che l priego vaglia mille fin che la fiamma cornuta qua vegna vedi che del disio ver lei mi piegogtgt di molta loda e io pero laccetto ma fa che la tua lingua si sostegna cio che tu vuoi chei sarebbero schivi perche fuor greci forse del tuo dettogtgt dove parve al mio duca tempo e loco in questa forma lui parlare audivi sio meritai di voi mentre chio vissi sio meritai di voi assai o poco non vi movete ma lun di voi dica dove per lui perduto a morir gissigtgt comincio a crollarsi mormorando pur come quella cui vento affatica come fosse la lingua che parlasse gitto voce di fuori e disse ltltquando me piu dun anno la presso a gaeta prima che si enea la nomasse del vecchio padre ne l debito amore lo qual dovea penelope far lieta chi ebbi a divenir del mondo esperto e de li vizi umani e del valore sol con un legno e con quella compagna picciola da la qual non fui diserto fin nel morrocco e lisola di sardi e laltre che quel mare intorno bagna quando venimmo a quella foce stretta dovercule segno li suoi riguardi da la man destra mi lasciai sibilia da laltra gia mavea lasciata setta perigli siete giunti a loccidente a questa tanto picciola vigilia non vogliate negar lesperienza di retro al sol del mondo sanza gente fatti non foste a viver come bruti ma per seguir virtute e canoscenza con questa orazion picciola al cammino che a pena poscia li avrei ritenuti de remi facemmo ali al folle volo sempre acquistando dal lato mancino vedea la notte e l nostro tanto basso che non surgea fuor del marin suolo lo lume era di sotto da la luna poi che ntrati eravam ne lalto passo per la distanza e parvemi alta tanto quanto veduta non avea alcuna che de la nova terra un turbo nacque e percosse del legno il primo canto a la quarta levar la poppa in suso e la prora ire in giu comaltrui piacque per non dir piu e gia da noi sen gia con la licenza del dolce poeta ne fece volger li occhi a la sua cima per un confuso suon che fuor nuscia col pianto di colui e cio fu dritto che lavea temperato con sua lima si che con tutto che fosse di rame pur el pareva dal dolor trafitto dal principio nel foco in suo linguaggio si convertian le parole grame su per la punta dandole quel guizzo che dato avea la lingua in lor passaggio la voce e che parlavi mo lombardo dicendo istra ten va piu non tadizzo non tincresca restare a parlar meco vedi che non incresce a me e ardo caduto se di quella dolce terra latina ondio mia colpa tutta reco chio fui di monti la intra orbino e l giogo di che tever si diserragtgt quando il mio duca mi tento di costa dicendo ltltparla tu questi e latinogtgt sanza indugio a parlare incominciai ltlto anima che se la giu nascosta sanza guerra ne cuor de suoi tiranni ma n palese nessuna or vi lasciai laguglia da polenta la si cova si che cervia ricuopre co suoi vanni e di franceschi sanguinoso mucchio sotto le branche verdi si ritrova che fecer di montagna il mal governo la dove soglion fan di denti succhio conduce il lioncel dal nido bianco che muta parte da la state al verno cosi comella sie tra l piano e l monte tra tirannia si vive e stato franco non esser duro piu chaltri sia stato se l nome tuo nel mondo tegna frontegtgt al modo suo laguta punta mosse di qua di la e poi die cotal fiato a persona che mai tornasse al mondo questa fiamma staria sanza piu scosse non torno vivo alcun si odo il vero sanza tema dinfamia ti rispondo credendomi si cinto fare ammenda e certo il creder mio venia intero che mi rimise ne le prime colpe e come e quare voglio che mintenda che la madre mi die lopere mie non furon leonine ma di volpe io seppi tutte e si menai lor arte chal fine de la terra il suono uscie di mia etade ove ciascun dovrebbe calar le vele e raccoglier le sarte e pentuto e confesso mi rendei ahi miser lasso e giovato sarebbe avendo guerra presso a laterano e non con saracin ne con giudei e nessun era stato a vincer acri ne mercatante in terra di soldano guardo in se ne in me quel capestro che solea fare i suoi cinti piu macri dentro siratti a guerir de la lebbre cosi mi chiese questi per maestro domandommi consiglio e io tacetti perche le sue parole parver ebbre finor tassolvo e tu minsegna fare si come penestrino in terra getti come tu sai pero son due le chiavi che l mio antecessor non ebbe care la ve l tacer mi fu avviso l peggio e dissi padre da che tu mi lavi lunga promessa con lattender corto ti fara triunfar ne lalto seggio per me ma un di neri cherubini li disse non portar non mi far torto perche diede l consiglio frodolente dal quale in qua stato li sono a crini ne pentere e volere insieme puossi per la contradizion che nol consente quando mi prese dicendomi forse tu non pensavi chio loico fossi otto volte la coda al dosso duro e poi che per gran rabbia la si morse per chio la dove vedi son perduto e si vestito andando mi rancurogtgt la fiamma dolorando si partio torcendo e dibattendo l corno aguto su per lo scoglio infino in su laltrarco che cuopre l fosso in che si paga il fio dicer del sangue e de le piaghe a pieno chi ora vidi per narrar piu volte per lo nostro sermone e per la mente channo a tanto comprender poco seno che gia in su la fortunata terra di puglia fu del suo sangue dolente che de lanella fe si alte spoglie come livio scrive che non erra per contastare a ruberto guiscardo e laltra il cui ossame ancor saccoglie ciascun pugliese e la da tagliacozzo dove sanzarme vinse il vecchio alardo mostrasse daequar sarebbe nulla il modo de la nona bolgia sozzo comio vidi un cosi non si pertugia rotto dal mento infin dove si trulla la corata pareva e l tristo sacco che merda fa di quel che si trangugia guardommi e con le man saperse il petto dicendo ltltor vedi comio mi dilacco dinanzi a me sen va piangendo ali fesso nel volto dal mento al ciuffetto seminator di scandalo e di scisma fuor vivi e pero son fessi cosi si crudelmente al taglio de la spada rimettendo ciascun di questa risma pero che le ferite son richiuse prima chaltri dinanzi li rivada forse per indugiar dire a la pena che giudicata in su le tue accusegtgt rispuose l mio maestro ltlta tormentarlo ma per dar lui esperienza piena per lo nferno qua giu di giro in giro e queste ver cosi comio ti parlogtgt sarrestaron nel fosso a riguardarmi per maraviglia obliando il martiro tu che forse vedra il sole in breve sello non vuol qui tosto seguitarmi non rechi la vittoria al noarese chaltrimenti acquistar non saria levegtgt maometto mi disse esta parola indi a partirsi in terra lo distese e tronco l naso infin sotto le ciglia e non avea mai chuna orecchia sola con li altri innanzi a li altri apri la canna chera di fuor dogni parte vermiglia e cu io vidi su in terra latina se troppa simiglianza non minganna se mai torni a veder lo dolce piano che da vercelli a marcabo dichina a messer guido e anco ad angiolello che se lantiveder qui non e vano e mazzerati presso a la cattolica per tradimento dun tiranno fello non vide mai si gran fallo nettuno non da pirate non da gente argolica e tien la terra che tale qui meco vorrebbe di vedere esser digiuno poi fara si chal vento di focara non sara lor mestier voto ne precogtgt se vuo chi porti su di te novella chi e colui da la veduta amaragtgt dun suo compagno e la bocca li aperse gridando ltltquesti e desso e non favella in cesare affermando che l fornito sempre con danno lattender soffersegtgt con la lingua tagliata ne la strozza curio cha dir fu cosi ardito levando i moncherin per laura fosca si che l sangue facea la faccia sozza che disse lasso capo ha cosa fatta che fu mal seme per la gente toscagtgt per chelli accumulando duol con duolo sen gio come persona trista e matta e vidi cosa chio avrei paura sanza piu prova di contarla solo la buona compagnia che luom francheggia sotto lasbergo del sentirsi pura un busto sanza capo andar si come andavan li altri de la trista greggia pesol con mano a guisa di lanterna e quel mirava noi e dicea ltltoh megtgt ed eran due in uno e uno in due comesser puo quei sa che si governa levo l braccio alto con tutta la testa per appressarne le parole sue tu che spirando vai veggendo i morti vedi salcuna e grande come questa sappi chi son bertram dal bornio quelli che diedi al re giovane i ma conforti achitofel non fe piu dabsalone e di david coi malvagi punzelli partito porto il mio cerebro lasso dal suo principio che in questo troncone avean le luci mie si inebriate che de lo stare a piangere eran vaghe perche la vista tua pur si soffolge la giu tra lombre triste smozzicate pensa se tu annoverar le credi che miglia ventidue la valle volge lo tempo e poco omai che ne concesso e altro e da veder che tu non vedigtgt ltltatteso a la cagion perchio guardava forse mavresti ancor lo star dimessogtgt lo duca gia faccendo la risposta e soggiugnendo ltltdentro a quella cava credo chun spirto del mio sangue pianga la colpa che la giu cotanto costagtgt lo tuo pensier da qui innanzi sovrello attendi ad altro ed ei la si rimanga mostrarti e minacciar forte col dito e udi l nominar geri del bello sovra colui che gia tenne altaforte che non guardasti in la si fu partitogtgt che non li e vendicata ancorgtgt dissio ltltper alcun che de lonta sia consorte sanza parlarmi si comio estimo e in cio mha el fatto a se piu piogtgt che de lo scoglio laltra valle mostra se piu lume vi fosse tutto ad imo di malebolge si che i suoi conversi potean parere a la veduta nostra che di pieta ferrati avean li strali ondio li orecchi con le man copersi di valdichiana tra l luglio e l settembre e di maremma e di sardigna i mali tal era quivi e tal puzzo nusciva qual suol venir de le marcite membre del lungo scoglio pur da man sinistra e allor fu la mia vista piu viva de lalto sire infallibil giustizia punisce i falsador che qui registra fosse in egina il popol tutto infermo quando fu laere si pien di malizia cascaron tutti e poi le genti antiche secondo che i poeti hanno per fermo chera a veder per quella oscura valle languir li spirti per diverse biche lun de laltro giacea e qual carpone si trasmutava per lo tristo calle guardando e ascoltando li ammalati che non potean levar le lor persone coma scaldar si poggia tegghia a tegghia dal capo al pie di schianze macolati a ragazzo aspettato dal segnorso ne a colui che mal volontier vegghia de lunghie sopra se per la gran rabbia del pizzicor che non ha piu soccorso come coltel di scardova le scaglie o daltro pesce che piu larghe labbia comincio l duca mio a lun di loro ltlte che fai desse talvolta tanaglie che son quincentro se lunghia ti basti etternalmente a cotesto lavorogtgt qui ambeduegtgt rispuose lun piangendo ltltma tu chi se che di noi dimandastigtgt con questo vivo giu di balzo in balzo e di mostrar lo nferno a lui intendogtgt e tremando ciascuno a me si volse con altri che ludiron di rimbalzo dicendo ltltdi a lor cio che tu vuoligtgt e io incominciai poscia chei volse nel primo mondo da lumane menti ma sella viva sotto molti soli la vostra sconcia e fastidiosa pena di palesarvi a me non vi spaventigtgt rispuose lun ltltmi fe mettere al foco ma quel per chio mori qui non mi mena i mi saprei levar per laere a volo e quei chavea vaghezza e senno poco perchio nol feci dedalo mi fece ardere a tal che lavea per figliuolo me per lalchimia che nel mondo usai danno minos a cui fallar non lecegtgt gente si vana come la sanese certo non la francesca si dassaigtgt rispuose al detto mio ltlttramene stricca che seppe far le temperate spese del garofano prima discoverse ne lorto dove tal seme sappicca caccia dascian la vigna e la gran fonda e labbagliato suo senno proferse contra i sanesi aguzza ver me locchio si che la faccia mia ben ti risponda che falsai li metalli con lalchimia e te dee ricordar se ben tadocchio per semele contra l sangue tebano come mostro una e altra fiata che veggendo la moglie con due figli andar carcata da ciascuna mano la leonessa e leoncini al varcogtgt e poi distese i dispietati artigli e rotollo e percosselo ad un sasso e quella sannego con laltro carco laltezza de troian che tutto ardiva si che nsieme col regno il re fu casso poscia che vide polissena morta e del suo polidoro in su la riva forsennata latro si come cane tanto il dolor le fe la mente torta si vider mai in alcun tanto crude non punger bestie nonche membra umane che mordendo correvan di quel modo che l porco quando del porcil si schiude del collo lassanno si che tirando grattar li fece il ventre al fondo sodo mi disse ltltquel folletto e gianni schicchi e va rabbioso altrui cosi conciandogtgt li denti a dosso non ti sia fatica a dir chi e pria che di qui si spicchigtgt di mirra scellerata che divenne al padre fuor del dritto amore amica falsificando se in altrui forma come laltro che la sen va sostenne falsificare in se buoso donati testando e dando al testamento normagtgt sovra cu io avea locchio tenuto rivolsilo a guardar li altri mal nati pur chelli avesse avuta languinaia tronca da laltro che luomo ha forcuto le membra con lomor che mal converte che l viso non risponde a la ventraia come letico fa che per la sete lun verso l mento e laltro in su rinverte e non so io perche nel mondo gramogtgt disselli a noi ltltguardate e attendete io ebbi vivo assai di quel chi volli e ora lasso un gocciol dacqua bramo del casentin discendon giuso in arno faccendo i lor canali freddi e molli che limagine lor vie piu masciuga che l male ondio nel volto mi discarno tragge cagion del loco ovio peccai a metter piu li miei sospiri in fuga la lega suggellata del batista per chio il corpo su arso lasciai di guido o dalessandro o di lor frate per fonte branda non darei la vista ombre che vanno intorno dicon vero ma che mi val cho le membra legate chi potessi in centanni andare unoncia io sarei messo gia per lo sentiero con tutto chella volge undici miglia e men dun mezzo di traverso non ci ha e mindussero a batter li fiorini chavevan tre carati di mondigliagtgt che fumman come man bagnate l verno giacendo stretti a tuoi destri confinigtgt rispuose ltltquando piovvi in questo greppo e non credo che dieno in sempiterno laltre l falso sinon greco di troia per febbre aguta gittan tanto leppogtgt forse desser nomato si oscuro col pugno li percosse lepa croia e mastro adamo li percosse il volto col braccio suo che non parve men duro lo muover per le membra che son gravi ho io il braccio a tal mestiere scioltogtgt al fuoco non lavei tu cosi presto ma si e piu lavei quando coniavigtgt ma tu non fosti si ver testimonio la ve del ver fosti a troia richestogtgt disse sinon ltlte son qui per un fallo e tu per piu chalcun altro demoniogtgt rispuose quel chavea infiata lepa ltlte sieti reo che tutto il mondo sallogtgt disse l greco ltltla lingua e lacqua marcia che l ventre innanzi a li occhi si tassiepagtgt la bocca tua per tuo mal come suole che si ho sete e omor mi rinfarcia e per leccar lo specchio di narcisso non vorresti a nvitar molte parolegtgt quando l maestro mi disse ltltor pur mira che per poco che teco non mi rissogtgt volsimi verso lui con tal vergogna chancor per la memoria mi si gira che sognando desidera sognare si che quel che come non fosse agogna che disiava scusarmi e scusava me tuttavia e nol mi credea fare disse l maestro ltltche l tuo non e stato pero dogne trestizia ti disgrava se piu avvien che fortuna taccoglia dove sien genti in simigliante piato si che mi tinse luna e laltra guancia e poi la medicina mi riporse dachille e del suo padre esser cagione prima di trista e poi di buona mancia su per la ripa che l cinge dintorno attraversando sanza alcun sermone si che l viso mandava innanzi poco ma io senti sonare un alto corno che contra se la sua via seguitando dirizzo li occhi miei tutti ad un loco carlo magno perde la santa gesta non sono si terribilmente orlando che me parve veder molte alte torri ondio ltltmaestro di che terra e questagtgt per le tenebre troppo da la lungi avvien che poi nel maginare abborri quanto l senso singanna di lontano pero alquanto piu te stesso pungigtgt e disse ltltpria che noi siamo piu avanti accio che l fatto men ti paia strano e son nel pozzo intorno da la ripa da lumbilico in giuso tutti quantigtgt lo sguardo a poco a poco raffigura cio che cela l vapor che laere stipa piu e piu appressando ver la sponda fuggiemi errore e cresciemi paura montereggion di torri si corona cosi la proda che l pozzo circonda li orribili giganti cui minaccia giove del cielo ancora quando tuona le spalle e l petto e del ventre gran parte e per le coste giu ambo le braccia di si fatti animali assai fe bene per torre tali essecutori a marte non si pente chi guarda sottilmente piu giusta e piu discreta la ne tene saggiugne al mal volere e a la possa nessun riparo vi puo far la gente come la pina di san pietro a roma e a sua proporzione eran laltre ossa dal mezzo in giu ne mostrava ben tanto di sovra che di giugnere a la chioma pero chi ne vedea trenta gran palmi dal loco in giu dovomo affibbia l manto comincio a gridar la fiera bocca cui non si convenia piu dolci salmi tienti col corno e con quel ti disfoga quandira o altra passion ti tocca che l tien legato o anima confusa e vedi lui che l gran petto ti dogagtgt questi e nembrotto per lo cui mal coto pur un linguaggio nel mondo non susa che cosi e a lui ciascun linguaggio come l suo ad altrui cha nullo e notogtgt volti a sinistra e al trar dun balestro trovammo laltro assai piu fero e maggio non so io dir ma el tenea soccinto dinanzi laltro e dietro il braccio destro dal collo in giu si che n su lo scoperto si ravvolgea infino al giro quinto di sua potenza contra l sommo giovegtgt disse l mio duca ltltondelli ha cotal merto quando i giganti fer paura a dei le braccia chel meno gia mai non movegtgt che de lo smisurato briareo esperienza avesser li occhi mieigtgt presso di qui che parla ed e disciolto che ne porra nel fondo dogne reo ed e legato e fatto come questo salvo che piu feroce par nel voltogtgt che scotesse una torre cosi forte come fialte a scuotersi fu presto e non vera mestier piu che la dotta sio non avessi viste le ritorte e venimmo ad anteo che ben cinque alle sanza la testa uscia fuor de la grotta che fece scipion di gloria reda quandanibal co suoi diede le spalle e che se fossi stato a lalta guerra detuoi fratelli ancor par che si creda mettine giu e non ten vegna schifo dove cocito la freddura serra questi puo dar di quel che qui si brama pero ti china e non torcer lo grifo chel vive e lunga vita ancor aspetta se nnanzi tempo grazia a se nol chiamagtgt le man distese e prese l duca mio ondercule senti gia grande stretta disse a me ltltfatti qua si chio ti prendagtgt poi fece si chun fascio era elli e io sotto l chinato quando un nuvol vada sovressa si ched ella incontro penda di vederlo chinare e fu tal ora chi avrei voluto ir per altra strada lucifero con giuda ci sposo ne si chinato li fece dimora come si converrebbe al tristo buco sovra l qual pontan tutte laltre rocce piu pienamente ma perchio non labbo non sanza tema a dicer mi conduco discriver fondo a tutto luniverso ne da lingua che chiami mamma o babbo chaiutaro anfione a chiuder tebe si che dal fatto il dir non sia diverso che stai nel loco onde parlare e duro mei foste state qui pecore o zebe sotto i pie del gigante assai piu bassi e io mirava ancora a lalto muro va si che tu non calchi con le piante le teste de fratei miseri lassigtgt e sotto i piedi un lago che per gelo avea di vetro e non dacqua sembiante di verno la danoia in osterlicchi ne tanai la sotto l freddo cielo vi fosse su caduto o pietrapana non avria pur da lorlo fatto cricchi col muso fuor de lacqua quando sogna di spigolar sovente la villana eran lombre dolenti ne la ghiaccia mettendo i denti in nota di cicogna da bocca il freddo e da li occhi il cor tristo tra lor testimonianza si procaccia volsimi a piedi e vidi due si stretti che l pel del capo avieno insieme misto dissio ltltchi sietegtgt e quei piegaro i colli e poi chebber li visi a me eretti gocciar su per le labbra e l gelo strinse le lagrime tra essi e riserrolli forte cosi ondei come due becchi cozzaro insieme tanta ira li vinse per la freddura pur col viso in giue disse ltltperche cotanto in noi ti specchi la valle onde bisenzo si dichina del padre loro alberto e di lor fue potrai cercare e non troverai ombra degna piu desser fitta in gelatina con esso un colpo per la man dartu non focaccia non questi che mingombra e fu nomato sassol mascheroni se tosco se ben sai omai chi fu sappi chi fu il camiscion de pazzi e aspetto carlin che mi scagionigtgt fatti per freddo onde mi vien riprezzo e verra sempre de gelati guazzi al quale ogne gravezza si rauna e io tremava ne letterno rezzo non so ma passeggiando tra le teste forte percossi l pie nel viso ad una se tu non vieni a crescer la vendetta di montaperti perche mi molestegtgt si chio esca dun dubbio per costui poi mi farai quantunque vorrai frettagtgt che bestemmiava duramente ancora ltltqual se tu che cosi rampogni altruigtgt percotendogtgt rispuose ltltaltrui le gote si che se fossi vivo troppo foragtgt fu mia risposta ltltse dimandi fama chio metta il nome tuo tra laltre notegtgt levati quinci e non mi dar piu lagna che mal sai lusingar per questa lamagtgt e dissi ltltel converra che tu ti nomi o che capel qui su non ti rimagnagtgt ne ti diro chio sia ne mosterrolti se mille fiate in sul capo mi tomigtgt e tratto glienavea piu duna ciocca latrando lui con li occhi in giu raccolti non ti basta sonar con le mascelle se tu non latri qual diavol ti toccagtgt malvagio traditor cha la tua onta io portero di te vere novellegtgt ma non tacer se tu di qua entro eschi di quel chebbe or cosi la lingua pronta io vidi potrai dir quel da duera la dove i peccatori stanno freschi tu hai dallato quel di beccheria di cui sego fiorenza la gorgiera piu la con ganellone e tebaldello chapri faenza quando si dormiagtgt chio vidi due ghiacciati in una buca si che lun capo a laltro era cappello cosi l sovran li denti a laltro pose la ve l cervel saggiugne con la nuca le tempie a menalippo per disdegno che quei faceva il teschio e laltre cose odio sovra colui che tu ti mangi dimmi l perchegtgt dissio ltltper tal convegno sappiendo chi voi siete e la sua pecca nel mondo suso ancora io te ne cangi quel peccator forbendola acapelli del capo chelli avea di retro guasto disperato dolor che l cor mi preme gia pur pensando pria chio ne favelli che frutti infamia al traditor chi rodo parlar e lagrimar vedrai insieme venuto se qua giu ma fiorentino mi sembri veramente quandio todo e questi e larcivescovo ruggieri or ti diro perche i son tal vicino fidandomi di lui io fossi preso e poscia morto dir non e mestieri cioe come la morte mia fu cruda udirai e saprai se mha offeso la qual per me ha l titol de la fame e che conviene ancor chaltrui si chiuda piu lune gia quandio feci l mal sonno che del futuro mi squarcio l velame cacciando il lupo e lupicini al monte per che i pisan veder lucca non ponno gualandi con sismondi e con lanfranchi savea messi dinanzi da la fronte lo padre e figli e con lagute scane mi parea lor veder fender li fianchi pianger senti fra l sonno i miei figliuoli cheran con meco e dimandar del pane pensando cio che l mio cor sannunziava e se non piangi di che pianger suoli che l cibo ne solea essere addotto e per suo sogno ciascun dubitava a lorribile torre ondio guardai nel viso a mie figliuoi sanza far motto piangevan elli e anselmuccio mio disse tu guardi si padre che hai tutto quel giorno ne la notte appresso infin che laltro sol nel mondo uscio nel doloroso carcere e io scorsi per quattro visi il mio aspetto stesso ed ei pensando chio l fessi per voglia di manicar di subito levorsi se tu mangi di noi tu ne vestisti queste misere carni e tu le spoglia lo di e laltro stemmo tutti muti ahi dura terra perche non tapristi gaddo mi si gitto disteso a piedi dicendo padre mio che non mi aiuti vidio cascar li tre ad uno ad uno tra l quinto di e l sesto ondio mi diedi e due di li chiamai poi che fur morti poscia piu che l dolor pote l digiunogtgt riprese l teschio misero codenti che furo a losso come dun can forti del bel paese la dove l si suona poi che i vicini a te punir son lenti e faccian siepe ad arno in su la foce si chelli annieghi in te ogne persona daver tradita te de le castella non dovei tu i figliuoi porre a tal croce novella tebe uguiccione e l brigata e li altri due che l canto suso appella ruvidamente unaltra gente fascia non volta in giu ma tutta riversata e l duol che truova in su li occhi rintoppo si volge in entro a far crescer lambascia e si come visiere di cristallo riempion sotto l ciglio tutto il coppo per la freddura ciascun sentimento cessato avesse del mio viso stallo per chio ltltmaestro mio questo chi move non e qua giu ogne vapore spentogtgt di cio ti fara locchio la risposta veggendo la cagion che l fiato piovegtgt grido a noi ltlto anime crudeli tanto che data ve lultima posta si chio sfoghi l duol che l cor mimpregna un poco pria che l pianto si raggeligtgt dimmi chi se e sio non ti disbrigo al fondo de la ghiaccia ir mi convegnagtgt i son quel da le frutta del mal orto che qui riprendo dattero per figogtgt ed elli a me ltltcome l mio corpo stea nel mondo su nulla scienza porto che spesse volte lanima ci cade innanzi chatropos mossa le dea le nvetriate lagrime dal volto sappie che tosto che lanima trade da un demonio che poscia il governa mentre che l tempo suo tutto sia volto e forse pare ancor lo corpo suso de lombra che di qua dietro mi verna elli e ser branca doria e son piu anni poscia passati chel fu si racchiusogtgt che branca doria non mori unquanche e mangia e bee e dorme e veste pannigtgt la dove bolle la tenace pece non era ancor giunto michel zanche nel corpo suo ed un suo prossimano che l tradimento insieme con lui fece aprimi li occhigtgt e io non glielapersi e cortesia fu lui esser villano dogne costume e pien dogne magagna perche non siete voi del mondo spersi trovai di voi un tal che per sua opra in anima in cocito gia si bagna verso di noi pero dinanzi miragtgt disse l maestro mio ltltse tu l discernigtgt o quando lemisperio nostro annotta par di lungi un molin che l vento gira poi per lo vento mi ristrinsi retro al duca mio che non li era altra grotta la dove lombre tutte eran coperte e trasparien come festuca in vetro quella col capo e quella con le piante altra comarco il volto a pie rinverte chal mio maestro piacque di mostrarmi la creatura chebbe il bel sembiante ltltecco ditegtgt dicendo ltlted ecco il loco ove convien che di fortezza tarmigtgt nol dimandar lettor chi non lo scrivo pero chogne parlar sarebbe poco pensa oggimai per te shai fior dingegno qual io divenni duno e daltro privo da mezzo l petto uscia fuor de la ghiaccia e piu con un gigante io mi convegno vedi oggimai quantesser dee quel tutto cha cosi fatta parte si confaccia e contra l suo fattore alzo le ciglia ben dee da lui proceder ogne lutto quandio vidi tre facce a la sua testa luna dinanzi e quella era vermiglia sovresso l mezzo di ciascuna spalla e se giugnieno al loco de la cresta la sinistra a vedere era tal quali vegnon di la onde l nilo savvalla quanto si convenia a tanto uccello vele di mar non vidio mai cotali era lor modo e quelle svolazzava si che tre venti si movean da ello con sei occhi piangea e per tre menti gocciava l pianto e sanguinosa bava un peccatore a guisa di maciulla si che tre ne facea cosi dolenti verso l graffiar che talvolta la schiena rimanea de la pelle tutta brulla disse l maestro ltlte giuda scariotto che l capo ha dentro e fuor le gambe mena quel che pende dal nero ceffo e bruto vedi come si storce e non fa motto ma la notte risurge e oramai e da partir che tutto avem vedutogtgt ed el prese di tempo e loco poste e quando lali fuoro aperte assai di vello in vello giu discese poscia tra l folto pelo e le gelate croste si volge a punto in sul grosso de lanche lo duca con fatica e con angoscia e aggrappossi al pel comom che sale si che n inferno i credea tornar anche disse l maestro ansando comuom lasso ltltconviensi dipartir da tanto malegtgt e puose me in su lorlo a sedere appresso porse a me laccorto passo lucifero comio lavea lasciato e vidili le gambe in su tenere la gente grossa il pensi che non vede qual e quel punto chio avea passato la via e lunga e l cammino e malvagio e gia il sole a mezza terza riedegtgt la veravam ma natural burella chavea mal suolo e di lume disagio maestro miogtgt dissio quando fui dritto ltlta trarmi derro un poco mi favella si sottosopra e come in si pocora da sera a mane ha fatto il sol tragittogtgt desser di la dal centro ovio mi presi al pel del vermo reo che l mondo fora quandio mi volsi tu passasti l punto al qual si traggon dogne parte i pesi che contraposto a quel che la gran secca coverchia e sotto l cui colmo consunto tu hai i piedi in su picciola spera che laltra faccia fa de la giudecca e questi che ne fe scala col pelo fitto e ancora si come primera e la terra che pria di qua si sporse per paura di lui fe del mar velo per fuggir lui lascio qui loco voto quella chappar di qua e su ricorsegtgt tanto quanto la tomba si distende che non per vista ma per suono e noto per la buca dun sasso chelli ha roso col corso chelli avvolge e poco pende intrammo a ritornar nel chiaro mondo e sanza cura aver dalcun riposo tanto chi vidi de le cose belle che porta l ciel per un pertugio tondo la divina commedia di dante alighieri etext courtesy progetto manuzio omai la navicella del mio ingegno che lascia dietro a se mar si crudele dove lumano spirito si purga e di salire al ciel diventa degno o sante muse poi che vostro sono e qui caliope alquanto surga di cui le piche misere sentiro lo colpo tal che disperar perdono che saccoglieva nel sereno aspetto del mezzo puro infino al primo giro tosto chio usci fuor de laura morta che mavea contristati li occhi e l petto faceva tutto rider loriente velando i pesci cherano in sua scorta a laltro polo e vidi quattro stelle non viste mai fuor cha la prima gente oh settentrional vedovo sito poi che privato se di mirar quelle un poco me volgendo a l altro polo la onde il carro gia era sparito degno di tanta reverenza in vista che piu non dee a padre alcun figliuolo portava a suoi capelli simigliante de quai cadeva al petto doppia lista fregiavan si la sua faccia di lume chi l vedea come l sol fosse davante fuggita avete la pregione etternagtgt dissel movendo quelle oneste piume uscendo fuor de la profonda notte che sempre nera fa la valle inferna o e mutato in ciel novo consiglio che dannati venite a le mie grottegtgt e con parole e con mani e con cenni reverenti mi fe le gambe e l ciglio donna scese del ciel per li cui prieghi de la mia compagnia costui sovvenni di nostra condizion comelle vera esser non puote il mio che a te si nieghi ma per la sua follia le fu si presso che molto poco tempo a volger era per lui campare e non li era altra via che questa per la quale i mi son messo e ora intendo mostrar quelli spirti che purgan se sotto la tua balia de lalto scende virtu che maiuta conducerlo a vederti e a udirti liberta va cercando che si cara come sa chi per lei vita rifiuta in utica la morte ove lasciasti la vesta chal gran di sara si chiara che questi vive e minos me non lega ma son del cerchio ove son li occhi casti o santo petto che per tua la tegni per lo suo amore adunque a noi ti piega grazie riportero di te a lei se desser mentovato la giu degnigtgt mentre chi fu di lagtgt disselli allora ltltche quante grazie volse da me fei piu muover non mi puo per quella legge che fatta fu quando me nusci fora come tu di non ce mestier lusinghe bastisi ben che per lei mi richegge dun giunco schietto e che li lavi l viso si chogne sucidume quindi stinghe dalcuna nebbia andar dinanzi al primo ministro che di quei di paradiso la giu cola dove la batte londa porta di giunchi sovra l molle limo o indurasse vi puote aver vita pero cha le percosse non seconda lo sol vi mosterra che surge omai prendere il monte a piu lieve salitagtgt sanza parlare e tutto mi ritrassi al duca mio e li occhi a lui drizzai volgianci in dietro che di qua dichina questa pianura a suoi termini bassigtgt che fuggia innanzi si che di lontano conobbi il tremolar de la marina comom che torna a la perduta strada che nfino ad essa li pare ire in vano pugna col sole per essere in parte dove ad orezza poco si dirada soavemente l mio maestro pose ondio che fui accorto di sua arte ivi mi fece tutto discoverto quel color che linferno mi nascose che mai non vide navicar sue acque omo che di tornar sia poscia esperto oh maraviglia che qual elli scelse lumile pianta cotal si rinacque lo cui meridian cerchio coverchia ierusalem col suo piu alto punto uscia di gange fuor con le bilance che le caggion di man quando soverchia la dovi era de la bella aurora per troppa etate divenivan rance come gente che pensa a suo cammino che va col cuore e col corpo dimora per li grossi vapor marte rosseggia giu nel ponente sovra l suol marino un lume per lo mar venir si ratto che l muover suo nessun volar pareggia locchio per domandar lo duca mio rividil piu lucente e maggior fatto un non sapeva che bianco e di sotto a poco a poco un altro a lui uscio mentre che i primi bianchi apparver ali allor che ben conobbe il galeotto ecco langel di dio piega le mani omai vedrai di si fatti officiali si che remo non vuol ne altro velo che lali sue tra liti si lontani trattando laere con letterne penne che non si mutan come mortal pelogtgt luccel divino piu chiaro appariva per che locchio da presso nol sostenne con un vasello snelletto e leggero tanto che lacqua nulla ne nghiottiva tal che faria beato pur descripto e piu di cento spirti entro sediero cantavan tutti insieme ad una voce con quanto di quel salmo e poscia scripto ondei si gittar tutti in su la piaggia ed el sen gi come venne veloce parea del loco rimirando intorno come colui che nove cose assaggia lo sol chavea con le saette conte di mezzo l ciel cacciato capricorno ver noi dicendo a noi ltltse voi sapete mostratene la via di gire al montegtgt forse che siamo esperti desto loco ma noi siam peregrin come voi siete per altra via che fu si aspra e forte che lo salire omai ne parra giocogtgt per lo spirare chi era ancor vivo maravigliando diventaro smorte tragge la gente per udir novelle e di calcar nessun si mostra schivo anime fortunate tutte quante quasi obliando dire a farsi belle per abbracciarmi con si grande affetto che mosse me a far lo somigliante tre volte dietro a lei le mani avvinsi e tante mi tornai con esse al petto per che lombra sorrise e si ritrasse e io seguendo lei oltre mi pinsi allor conobbi chi era e pregai che per parlarmi un poco sarrestasse nel mortal corpo cosi tamo sciolta pero marresto ma tu perche vaigtgt la dovio son fo io questo viaggiogtgt dissio ltltma a te come tanta ora toltagtgt se quei che leva quando e cui li piace piu volte mha negato esto passaggio veramente da tre mesi elli ha tolto chi ha voluto intrar con tutta pace dove lacqua di tevero sinsala benignamente fu da lui ricolto pero che sempre quivi si ricoglie qual verso acheronte non si calagtgt memoria o uso a lamoroso canto che mi solea quetar tutte mie doglie lanima mia che con la sua persona venendo qui e affannata tantogtgt comincio elli allor si dolcemente che la dolcezza ancor dentro mi suona cheran con lui parevan si contenti come a nessun toccasse altro la mente a le sue note ed ecco il veglio onesto gridando ltltche e cio spiriti lenti correte al monte a spogliarvi lo scoglio chesser non lascia a voi dio manifestogtgt li colombi adunati a la pastura queti sanza mostrar lusato orgoglio subitamente lasciano star lesca perchassaliti son da maggior cura lasciar lo canto e fuggir ver la costa comom che va ne sa dove riesca dispergesse color per la campagna rivolti al monte ove ragion ne fruga e come sare io sanza lui corso chi mavria tratto su per la montagna o dignitosa coscienza e netta come te picciol fallo amaro morso che lonestade ad ognatto dismaga la mente mia che prima era ristretta e diedi l viso mio incontral poggio che nverso l ciel piu alto si dislaga rotto mera dinanzi a la figura chavea in me de suoi raggi lappoggio dessere abbandonato quandio vidi solo dinanzi a me la terra oscura a dir mi comincio tutto rivolto ltltnon credi tu me teco e chio ti guidi lo corpo dentro al quale io facea ombra napoli lha e da brandizio e tolto non ti maravigliar piu che di cieli che luno a laltro raggio non ingombra simili corpi la virtu dispone che come fa non vuol cha noi si sveli possa trascorrer la infinita via che tiene una sustanza in tre persone che se potuto aveste veder tutto mestier non era parturir maria tai che sarebbe lor disio quetato chetternalmente e dato lor per lutto e di moltaltrigtgt e qui chino la fronte e piu non disse e rimase turbato quivi trovammo la roccia si erta che ndarno vi sarien le gambe pronte la piu rotta ruina e una scala verso di quella agevole e aperta disse l maestro mio fermando l passo ltltsi che possa salir chi va sanzalagtgt essaminava del cammin la mente e io mirava suso intorno al sasso danime che movieno i pie ver noi e non pareva si venian lente ecco di qua chi ne dara consiglio se tu da te medesmo aver nol puoigtgt rispuose ltltandiamo in la chei vegnon piano e tu ferma la spene dolce figliogtgt i dico dopo i nostri mille passi quanto un buon gittator trarria con mano de lalta ripa e stetter fermi e stretti coma guardar chi va dubbiando stassi virgilio incomincio ltltper quella pace chi credo che per voi tutti saspetti si che possibil sia landare in suso che perder tempo a chi piu sa piu spiacegtgt a una a due a tre e laltre stanno timidette atterrando locchio e l muso addossandosi a lei sella sarresta semplici e quete e lo mperche non sanno di quella mandra fortunata allotta pudica in faccia e ne landare onesta la luce in terra dal mio destro canto si che lombra era da me a la grotta e tutti li altri che venieno appresso non sappiendo l perche fenno altrettanto che questo e corpo uman che voi vedete per che l lume del sole in terra e fesso che non sanza virtu che da ciel vegna cerchi di soverchiar questa paretegtgt ltlttornategtgt disse ltltintrate innanzi dunquegtgt coi dossi de le man faccendo insegna tu se cosi andando volgi l viso pon mente se di la mi vedesti unquegtgt biondo era e bello e di gentile aspetto ma lun de cigli un colpo avea diviso daverlo visto mai el disse ltltor vedigtgt e mostrommi una piaga a sommo l petto nepote di costanza imperadrice ondio ti priego che quando tu riedi de lonor di cicilia e daragona e dichi l vero a lei saltro si dice di due punte mortali io mi rendei piangendo a quei che volontier perdona ma la bonta infinita ha si gran braccia che prende cio che si rivolge a lei di me fu messo per clemente allora avesse in dio ben letta questa faccia in co del ponte presso a benevento sotto la guardia de la grave mora di fuor dal regno quasi lungo l verde dove le trasmuto a lume spento che non possa tornar letterno amore mentre che la speranza ha fior del verde di santa chiesa ancor chal fin si penta star li convien da questa ripa in fore in sua presunzion se tal decreto piu corto per buon prieghi non diventa revelando a la mia buona costanza come mhai visto e anco esto divieto che alcuna virtu nostra comprenda lanima bene ad essa si raccoglie e questo e contra quello error che crede chunanima sovraltra in noi saccenda che tegna forte a se lanima volta vassene l tempo e luom non se navvede e altra e quella cha lanima intera questa e quasi legata e quella e sciolta udendo quello spirto e ammirando che ben cinquanta gradi salito era venimmo ove quellanime ad una gridaro a noi ltltqui e vostro dimandogtgt con una forcatella di sue spine luom de la villa quando luva imbruna lo duca mio e io appresso soli come da noi la schiera si partine montasi su in bismantova n cacume con esso i pie ma qui convien chom voli del gran disio di retro a quel condotto che speranza mi dava e facea lume e dogne lato ne stringea lo stremo e piedi e man volea il suol di sotto de lalta ripa a la scoperta piaggia ltltmaestro miogtgt dissio ltltche via faremogtgt pur su al monte dietro a me acquista fin che nappaia alcuna scorta saggiagtgt e la costa superba piu assai che da mezzo quadrante a centro lista ltlto dolce padre volgiti e rimira comio rimango sol se non restaigtgt additandomi un balzo poco in sue che da quel lato il poggio tutto gira chi mi sforzai carpando appresso lui tanto che l cinghio sotto i pie mi fue volti a levante onderavam saliti che suole a riguardar giovare altrui poscia li alzai al sole e ammirava che da sinistra neravam feriti stupido tutto al carro de la luce ove tra noi e aquilone intrava fossero in compagnia di quello specchio che su e giu del suo lume conduce ancora a lorse piu stretto rotare se non uscisse fuor del cammin vecchio dentro raccolto imagina sion con questo monte in su la terra stare e diversi emisperi onde la strada che mal non seppe carreggiar feton da lun quando a colui da laltro fianco se lo ntelletto tuo ben chiaro badagtgt non vidio chiaro si comio discerno la dove mio ingegno parea manco che si chiama equatore in alcunarte e che sempre riman tra l sole e l verno verso settentrion quanto li ebrei vedevan lui verso la calda parte quanto avemo ad andar che l poggio sale piu che salir non posson li occhi mieigtgt che sempre al cominciar di sotto e grave e quantom piu va su e men fa male tanto che su andar ti fia leggero coma seconda giu andar per nave quivi di riposar laffanno aspetta piu non rispondo e questo so per verogtgt una voce di presso sono ltltforse che di sedere in pria avrai distrettagtgt e vedemmo a mancina un gran petrone del qual ne io ne ei prima saccorse che si stavano a lombra dietro al sasso come luom per negghienza a star si pone sedeva e abbracciava le ginocchia tenendo l viso giu tra esse basso colui che mostra se piu negligente che se pigrizia fosse sua serocchiagtgt movendo l viso pur su per la coscia e disse ltltor va tu su che se valentegtgt che mavacciava un poco ancor la lena non mimpedi landare a lui e poscia dicendo ltlthai ben veduto come l sole da lomero sinistro il carro menagtgt mosser le labbra mie un poco a riso poi cominciai ltltbelacqua a me non dole quiritto se attendi tu iscorta o pur lo modo usato tha riprisogtgt che non mi lascerebbe ire a martiri langel di dio che siede in su la porta di fuor da essa quanto fece in vita perchio ndugiai al fine i buon sospiri che surga su di cuor che in grazia viva laltra che val che n ciel non e uditagtgt e dicea ltltvienne omai vedi che tocco meridian dal sole e a la riva e seguitava lorme del mio duca quando di retro a me drizzando l dito lo raggio da sinistra a quel di sotto e come vivo par che si conducagtgt e vidile guardar per maraviglia pur me pur me e l lume chera rotto disse l maestro ltltche landare allenti che ti fa cio che quivi si pispiglia sta come torre ferma che non crolla gia mai la cima per soffiar di venti sovra pensier da se dilunga il segno perche la foga lun de laltro insollagtgt dissilo alquanto del color consperso che fa luom di perdon talvolta degno venivan genti innanzi a noi un poco cantando miserere a verso a verso per lo mio corpo al trapassar di raggi mutar lor canto in un ltltohgtgt lungo e roco corsero incontra noi e dimandarne ltltdi vostra condizion fatene saggigtgt e ritrarre a color che vi mandaro che l corpo di costui e vera carne comio avviso assai e lor risposto faccianli onore ed essere puo lor carogtgt di prima notte mai fender sereno ne sol calando nuvole dagosto e giunti la con li altri a noi dier volta come schiera che scorre sanza freno e vegnonti a pregargtgt disse l poeta ltltpero pur va e in andando ascoltagtgt con quelle membra con le quai nascestigtgt venian gridando ltltun poco il passo queta si che di lui di la novella porti deh perche vai deh perche non tarresti e peccatori infino a lultima ora quivi lume del ciel ne fece accorti di vita uscimmo a dio pacificati che del disio di se veder naccoragtgt non riconosco alcun ma sa voi piace cosa chio possa spiriti ben nati che dietro a piedi di si fatta guida di mondo in mondo cercar mi si facegtgt del beneficio tuo sanza giurarlo pur che l voler nonpossa non ricida ti priego se mai vedi quel paese che siede tra romagna e quel di carlo in fano si che ben per me sadori pur chi possa purgar le gravi offese ondusci l sangue in sul quale io sedea fatti mi fuoro in grembo a li antenori quel da esti il fe far che mavea in ira assai piu la che dritto non volea quando fu sovragiunto ad oriaco ancor sarei di la dove si spira mimpigliar si chi caddi e li vidio de le mie vene farsi in terra lacogtgt si compia che ti tragge a lalto monte con buona pietate aiuta il mio giovanna o altri non ha di me cura per chio vo tra costor con bassa frontegtgt ti travio si fuor di campaldino che non si seppe mai tua sepulturagtgt traversa unacqua cha nome larchiano che sovra lermo nasce in apennino arriva io forato ne la gola fuggendo a piede e sanguinando il piano nel nome di maria fini e quivi caddi e rimase la mia carne sola langel di dio mi prese e quel dinferno gridava o tu del ciel perche mi privi per una lagrimetta che l mi toglie ma io faro de laltro altro governo quellumido vapor che in acqua riede tosto che sale dove l freddo il coglie con lo ntelletto e mosse il fummo e l vento per la virtu che sua natura diede da pratomagno al gran giogo coperse di nebbia e l ciel di sopra fece intento la pioggia cadde e a fossati venne di lei cio che la terra non sofferse ver lo fiume real tanto veloce si ruino che nulla la ritenne trovo larchian rubesto e quel sospinse ne larno e sciolse al mio petto la croce voltommi per le ripe e per lo fondo poi di sua preda mi coperse e cinsegtgt e riposato de la lunga viagtgt seguito l terzo spirito al secondo siena mi fe disfecemi maremma salsi colui che nnanellata pria colui che perde si riman dolente repetendo le volte e tristo impara qual va dinanzi e qual di dietro il prende e qual dallato li si reca a mente a cui porge la man piu non fa pressa e cosi da la calca si difende volgendo a loro e qua e la la faccia e promettendo mi sciogliea da essa fiere di ghin di tacco ebbe la morte e laltro channego correndo in caccia federigo novello e quel da pisa che fe parer lo buon marzucco forte dal corpo suo per astio e per inveggia come dicea non per colpa commisa mentre di qua la donna di brabante si che pero non sia di peggior greggia quellombre che pregar pur chaltri prieghi si che savacci lor divenir sante o luce mia espresso in alcun testo che decreto del cielo orazion pieghi sarebbe dunque loro speme vana o non me l detto tuo ben manifestogtgt e la speranza di costor non falla se ben si guarda con la mente sana perche foco damor compia in un punto cio che de sodisfar chi qui sastalla non sammendava per pregar difetto perche l priego da dio era disgiunto non ti fermar se quella nol ti dice che lume fia tra l vero e lo ntelletto tu la vedrai di sopra in su la vetta di questo monte ridere e felicegtgt che gia non maffatico come dianzi e vedi omai che l poggio lombra gettagtgt rispuose ltltquanto piu potremo omai ma l fatto e daltra forma che non stanzi colui che gia si cuopre de la costa si che suoi raggi tu romper non fai sola soletta inverso noi riguarda quella ne nsegnera la via piu tostagtgt come ti stavi altera e disdegnosa e nel mover de li occhi onesta e tarda ma lasciavane gir solo sguardando a guisa di leon quando si posa che ne mostrasse la miglior salita e quella non rispuose al suo dimando ci nchiese e l dolce duca incominciava ltltmantua gtgt e lombra tutta in se romita dicendo ltlto mantoano io son sordello de la tua terragtgt e lun laltro abbracciava nave sanza nocchiere in gran tempesta non donna di province ma bordello sol per lo dolce suon de la sua terra di fare al cittadin suo quivi festa li vivi tuoi e lun laltro si rode di quei chun muro e una fossa serra le tue marine e poi ti guarda in seno salcuna parte in te di pace gode iustiniano se la sella e vota sanzesso fora la vergogna meno e lasciar seder cesare in la sella se bene intendi cio che dio ti nota per non esser corretta da li sproni poi che ponesti mano a la predella costei che fatta indomita e selvaggia e dovresti inforcar li suoi arcioni sovra l tuo sangue e sia novo e aperto tal che l tuo successor temenza naggia per cupidigia di costa distretti che l giardin de lo mperio sia diserto monaldi e filippeschi uom sanza cura color gia tristi e questi con sospetti di tuoi gentili e cura lor magagne e vedrai santafior come oscura vedova e sola e di e notte chiama ltltcesare mio perche non maccompagnegtgt e se nulla di noi pieta ti move a vergognar ti vien de la tua fama che fosti in terra per noi crucifisso son li giusti occhi tuoi rivolti altrove del tuo consiglio fai per alcun bene in tutto de laccorger nostro scisso son di tiranni e un marcel diventa ogne villan che parteggiando viene di questa digression che non ti tocca merce del popol tuo che si argomenta per non venir sanza consiglio a larco ma il popol tuo lha in sommo de la bocca ma il popol tuo solicito risponde sanza chiamare e grida ltlti mi sobbarcogtgt tu ricca tu con pace e tu con senno sio dico l ver leffetto nol nasconde lantiche leggi e furon si civili fecero al viver bene un picciol cenno provedimenti cha mezzo novembre non giugne quel che tu dottobre fili legge moneta officio e costume hai tu mutato e rinovate membre vedrai te somigliante a quella inferma che non puo trovar posa in su le piume furo iterate tre e quattro volte sordel si trasse e disse ltltvoi chi sietegtgt lanime degne di salire a dio fur lossa mie per ottavian sepolte lo ciel perdei che per non aver fegtgt cosi rispuose allora il duca mio subita vede onde si maraviglia che crede e non dicendo ltltella e non e gtgt e umilmente ritorno ver lui e abbracciol la ve l minor sappiglia mostro cio che potea la lingua nostra o pregio etterno del loco ondio fui sio son dudir le tue parole degno dimmi se vien dinferno e di qual chiostragtgt rispuose lui ltltson io di qua venuto virtu del ciel mi mosse e con lei vegno a veder lalto sol che tu disiri e che fu tardi per me conosciuto ma di tenebre solo ove i lamenti non suonan come guai ma son sospiri dai denti morsi de la morte avante che fosser da lumana colpa essenti virtu non si vestiro e sanza vizio conobber laltre e seguir tutte quante da noi per che venir possiam piu tosto la dove purgatorio ha dritto iniziogtgt licito me andar suso e intorno per quanto ir posso a guida mi taccosto e andar su di notte non si puote pero e buon pensar di bel soggiorno se mi consenti io ti merro ad esse e non sanza diletto ti fier notegtgt salir di notte fora elli impedito daltrui o non sarria che non potessegtgt dicendo ltltvedi sola questa riga non varcheresti dopo l sol partito che la notturna tenebra ad ir suso quella col nonpoder la voglia intriga e passeggiar la costa intorno errando mentre che lorizzonte il di tien chiusogtgt ltltmenanegtgt disse ltltdunque la ve dici chaver si puo diletto dimorandogtgt quandio maccorsi che l monte era scemo a guisa che i vallon li sceman quici dove la costa face di se grembo e la il novo giorno attenderemogtgt che ne condusse in fianco de la lacca la dove piu cha mezzo muore il lembo indaco legno lucido e sereno fresco smeraldo in lora che si fiacca posti ciascun saria di color vinto come dal suo maggiore e vinto il meno ma di soavita di mille odori vi facea uno incognito e indistinto quindi seder cantando anime vidi che per la valle non parean di fuori comincio l mantoan che ci avea volti ltlttra color non vogliate chio vi guidi conoscerete voi di tutti quanti che ne la lama giu tra essi accolti daver negletto cio che far dovea e che non move bocca a li altrui canti sanar le piaghe channo italia morta si che tardi per altri si ricrea resse la terra dove lacqua nasce che molta in albia e albia in mar ne porta fu meglio assai che vincislao suo figlio barbuto cui lussuria e ozio pasce par con colui cha si benigno aspetto mori fuggendo e disfiorando il giglio laltro vedete cha fatto a la guancia de la sua palma sospirando letto sanno la vita sua viziata e lorda e quindi viene il duol che si li lancia cantando con colui dal maschio naso dogne valor porto cinta la corda lo giovanetto che retro a lui siede ben andava il valor di vaso in vaso iacomo e federigo hanno i reami del retaggio miglior nessun possiede lumana probitate e questo vole quei che la da perche da lui si chiami non men cha laltro pier che con lui canta onde puglia e proenza gia si dole quanto piu che beatrice e margherita costanza di marito ancor si vanta seder la solo arrigo dinghilterra questi ha ne rami suoi migliore uscita guardando in suso e guiglielmo marchese per cui e alessandria e la sua guerra ai navicanti e ntenerisce il core lo di chan detto ai dolci amici addio punge se ode squilla di lontano che paia il giorno pianger che si more ludire e a mirare una de lalme surta che lascoltar chiedea con mano ficcando li occhi verso loriente come dicesse a dio daltro non calme le uscio di bocca e con si dolci note che fece me a me uscir di mente seguitar lei per tutto linno intero avendo li occhi a le superne rote che l velo e ora ben tanto sottile certo che l trapassar dentro e leggero tacito poscia riguardare in sue quasi aspettando palido e umile due angeli con due spade affocate tronche e private de le punte sue erano in veste che da verdi penne percosse traean dietro e ventilate e laltro scese in lopposita sponda si che la gente in mezzo si contenne ma ne la faccia locchio si smarria come virtu cha troppo si confonda disse sordello ltlta guardia de la valle per lo serpente che verra vie viagtgt mi volsi intorno e stretto maccostai tutto gelato a le fidate spalle tra le grandi ombre e parleremo ad esse grazioso fia lor vedervi assaigtgt e fui di sotto e vidi un che mirava pur me come conoscer mi volesse ma non si che tra li occhi suoi e miei non dichiarisse cio che pria serrava giudice nin gentil quanto mi piacque quando ti vidi non esser tra rei poi dimando ltltquante che tu venisti a pie del monte per le lontane acquegtgt venni stamane e sono in prima vita ancor che laltra si andando acquistigtgt sordello ed elli in dietro si raccolse come gente di subito smarrita che sedea li gridando ltltsu currado vieni a veder che dio per grazia volsegtgt che tu dei a colui che si nasconde lo suo primo perche che non li e guado di a giovanna mia che per me chiami la dove a li nnocenti si risponde poscia che trasmuto le bianche bende le quai convien che misera ancor brami quanto in femmina foco damor dura se locchio o l tatto spesso non laccende la vipera che melanesi accampa comavria fatto il gallo di galluragtgt nel suo aspetto di quel dritto zelo che misuratamente in core avvampa pur la dove le stelle son piu tarde si come rota piu presso a lo stelo e io a lui ltlta quelle tre facelle di che l polo di qua tutto quanto ardegtgt che vedevi staman son di la basse e queste son salite overan quellegtgt dicendo ltltvedi la l nostro avversarogtgt e drizzo il dito perche n la guardasse la picciola vallea era una biscia forse qual diede ad eva il cibo amaro volgendo ad ora ad or la testa e l dosso leccando come bestia che si liscia come mosser li astor celestiali ma vidi bene e luno e laltro mosso fuggi l serpente e li angeli dier volta suso a le poste rivolando iguali quando chiamo per tutto quello assalto punto non fu da me guardare sciolta truovi nel tuo arbitrio tanta cera quante mestiere infino al sommo smaltogtgt di val di magra o di parte vicina sai dillo a me che gia grande la era non son lantico ma di lui discesi a miei portai lamor che qui raffinagtgt gia mai non fui ma dove si dimora per tutta europa chei non sien palesi grida i segnori e grida la contrada si che ne sa chi non vi fu ancora che vostra gente onrata non si sfregia del pregio de la borsa e de la spada che perche il capo reo il mondo torca sola va dritta e l mal cammin dispregiagtgt sette volte nel letto che l montone con tutti e quattro i pie cuopre e inforca ti fia chiavata in mezzo de la testa con maggior chiovi che daltrui sermone gia simbiancava al balco doriente fuor de le braccia del suo dolce amico poste in figura del freddo animale che con la coda percuote la gente fatti avea due nel loco overavamo e l terzo gia chinava in giuso lale vinto dal sonno in su lerba inchinai la ve gia tutti e cinque sedavamo la rondinella presso a la mattina forse a memoria de suo primi guai piu da la carne e men da pensier presa a le sue vision quasi e divina unaguglia nel ciel con penne doro con lali aperte e a calare intesa abbandonati i suoi da ganimede quando fu ratto al sommo consistoro pur qui per uso e forse daltro loco disdegna di portarne suso in piede terribil come folgor discendesse e me rapisse suso infino al foco e si lo ncendio imaginato cosse che convenne che l sonno si rompesse li occhi svegliati rivolgendo in giro e non sappiendo la dove si fosse trafuggo lui dormendo in le sue braccia la onde poi li greci il dipartiro mi fuggi l sonno e diventa ismorto come fa luom che spaventato agghiaccia e l sole eralto gia piu che due ore e l viso mera a la marina torto ltltfatti sicur che noi semo a buon punto non stringer ma rallarga ogne vigore vedi la il balzo che l chiude dintorno vedi lentrata la ve par digiunto quando lanima tua dentro dormia sovra li fiori onde la giu addorno lasciatemi pigliar costui che dorme si lagevolero per la sua via ella ti tolse e come l di fu chiaro sen venne suso e io per le sue orme li occhi suoi belli quella intrata aperta poi ella e l sonno ad una se nandarogtgt e che muta in conforto sua paura poi che la verita li e discoperta vide me l duca mio su per lo balzo si mosse e io di rietro inver laltura la mia matera e pero con piu arte non ti maravigliar sio la rincalzo che la dove pareami prima rotto pur come un fesso che muro diparte per gire ad essa di color diversi e un portier chancor non facea motto vidil seder sovra l grado sovrano tal ne la faccia chio non lo soffersi che reflettea i raggi si ver noi chio drizzava spesso il viso in vano comincio elli a dire ltltove la scorta guardate che l venir su non vi noigtgt rispuose l mio maestro a lui ltltpur dianzi ne disse andate la quivi e la portagtgt ricomincio il cortese portinaio ltltvenite dunque a nostri gradi innanzigtgt bianco marmo era si pulito e terso chio mi specchiai in esso qual io paio duna petrina ruvida e arsiccia crepata per lo lungo e per traverso porfido mi parea si fiammeggiante come sangue che fuor di vena spiccia langel di dio sedendo in su la soglia che mi sembiava pietra di diamante mi trasse il duca mio dicendo ltltchiedi umilemente che l serrame sciogliagtgt misericordia chiesi e chel maprisse ma tre volte nel petto pria mi diedi col punton de la spada e ltltfa che lavi quando se dentro queste piaghegtgt disse dun color fora col suo vestimento e di sotto da quel trasse due chiavi pria con la bianca e poscia con la gialla fece a la porta si chi fu contento che non si volga dritta per la toppagtgt disselli a noi ltltnon sapre questa calla darte e dingegno avanti che diserri perchella e quella che l nodo digroppa anzi ad aprir cha tenerla serrata pur che la gente a piedi mi satterrigtgt dicendo ltltintrate ma facciovi accorti che di fuor torna chi n dietro si guatagtgt li spigoli di quella regge sacra che di metallo son sonanti e forti tarpea come tolto le fu il buono metello per che poi rimase macra e te deum laudamus mi parea udire in voce mista al dolce suono cio chio udiva qual prender si suole quando a cantar con organi si stea che l mal amor de lanime disusa perche fa parer dritta la via torta e sio avesse li occhi volti ad essa qual fora stata al fallo degna scusa che si moveva e duna e daltra parte si come londa che fugge e sappressa comincio l duca mio ltltin accostarsi or quinci or quindi al lato che si partegtgt tanto che pria lo scemo de la luna rigiunse al letto suo per ricorcarsi ma quando fummo liberi e aperti su dove il monte in dietro si rauna di nostra via restammo in su un piano solingo piu che strade per diserti al pie de lalta ripa che pur sale misurrebbe in tre volte un corpo umano or dal sinistro e or dal destro fianco questa cornice mi parea cotale quandio conobbi quella ripa intorno che dritto di salita aveva manco dintagli si che non pur policleto ma la natura li avrebbe scorno de la moltanni lagrimata pace chaperse il ciel del suo lungo divieto quivi intagliato in un atto soave che non sembiava imagine che tace perche ivera imaginata quella chad aprir lalto amor volse la chiave ecce ancilla dei propriamente come figura in cera si suggella disse l dolce maestro che mavea da quella parte onde l cuore ha la gente di retro da maria da quella costa onde mera colui che mi movea per chio varcai virgilio e femi presso accio che fosse a li occhi miei disposta lo carro e buoi traendo larca santa per che si teme officio non commesso partita in sette cori a due mie sensi faceva dir lun ltltnogtgt laltro ltltsi cantagtgt che vera imaginato li occhi e l naso e al si e al no discordi fensi trescando alzato lumile salmista e piu e men che re era in quel caso dun gran palazzo micol ammirava si come donna dispettosa e trista per avvisar da presso unaltra istoria che di dietro a micol mi biancheggiava del roman principato il cui valore mosse gregorio a la sua gran vittoria e una vedovella li era al freno di lagrime atteggiata e di dolore di cavalieri e laguglie ne loro sovressi in vista al vento si movieno pareva dir ltltsegnor fammi vendetta di mio figliuol che morto ondio maccorogtgt tanto chi tornigtgt e quella ltltsegnor miogtgt come persona in cui dolor saffretta la ti faragtgt ed ella ltltlaltrui bene a te che fia se l tuo metti in obliogtgt chi solva il mio dovere anzi chi mova giustizia vuole e pieta mi ritenegtgt produsse esto visibile parlare novello a noi perche qui non si trova limagini di tante umilitadi e per lo fabbro loro a veder care mormorava il poeta ltltmolte genti questi ne nvieranno a li alti gradigtgt per veder novitadi onde son vaghi volgendosi ver lui non furon lenti di buon proponimento per udire come dio vuol che l debito si paghi pensa la succession pensa chal peggio oltre la gran sentenza non puo ire muovere a noi non mi sembian persone e non so che si nel veder vaneggiogtgt di lor tormento a terra li rannicchia si che miei occhi pria nebber tencione col viso quel che vien sotto a quei sassi gia scorger puoi come ciascun si picchiagtgt che de la vista de la mente infermi fidanza avete ne retrosi passi nati a formar langelica farfalla che vola a la giustizia sanza schermi poi siete quasi antomata in difetto si come vermo in cui formazion falla per mensola talvolta una figura si vede giugner le ginocchia al petto nascere n chi la vede cosi fatti vidio color quando puosi ben cura secondo chavien piu e meno a dosso e qual piu pazienza avea ne li atti non circunscritto ma per piu amore chai primi effetti di la su tu hai da ogni creatura come degno di render grazie al tuo dolce vapore che noi ad essa non potem da noi sella non vien con tutto nostro ingegno fan sacrificio a te cantando osanna cosi facciano li uomini de suoi sanza la qual per questo aspro diserto a retro va chi piu di gir saffanna perdoniamo a ciascuno e tu perdona benigno e non guardar lo nostro merto non spermentar con lantico avversaro ma libera da lui che si la sprona gia non si fa per noi che non bisogna ma per color che dietro a noi restarogtgt quellombre orando andavan sotto l pondo simile a quel che tal volta si sogna e lasse su per la prima cornice purgando la caligine del mondo di qua che dire e far per lor si puote da quei chhanno al voler buona radice che portar quinci si che mondi e lievi possano uscire a le stellate ruote tosto si che possiate muover lala che secondo il disio vostro vi lievi si va piu corto e se ce piu dun varco quel ne nsegnate che men erto cala de la carne dadamo onde si veste al montar su contra sua voglia e parcogtgt che dette avea colui cu io seguiva non fur da cui venisser manifeste con noi venite e troverete il passo possibile a salir persona viva che la cervice mia superba doma onde portar convienmi il viso basso guardere io per veder si l conosco e per farlo pietoso a questa soma guiglielmo aldobrandesco fu mio padre non so se l nome suo gia mai fu vosco di miei maggior mi fer si arrogante che non pensando a la comune madre chio ne mori come i sanesi sanno e sallo in campagnatico ogne fante superbia fa che tutti miei consorti ha ella tratti seco nel malanno per lei tanto che a dio si sodisfaccia poi chio nol fe tra vivi qui tra mortigtgt e un di lor non questi che parlava si torse sotto il peso che li mpaccia tenendo li occhi con fatica fisi a me che tutto chin con loro andava lonor dagobbio e lonor di quellarte challuminar chiamata e in parisigtgt che pennelleggia franco bolognese lonore e tutto or suo e mio in parte mentre chio vissi per lo gran disio de leccellenza ove mio core intese e ancor non sarei qui se non fosse che possendo peccar mi volsi a dio compoco verde in su la cima dura se non e giunta da letati grosse tener lo campo e ora ha giotto il grido si che la fama di colui e scura la gloria de la lingua e forse e nato chi luno e laltro caccera del nido di vento chor vien quinci e or vien quindi e muta nome perche muta lato da te la carne che se fossi morto anzi che tu lasciassi il pappo e l dindi spazio a letterno chun muover di ciglia al cerchio che piu tardi in cielo e torto dinanzi a me toscana sono tutta e ora a pena in siena sen pispiglia la rabbia fiorentina che superba fu a quel tempo si comora e putta che viene e va e quei la discolora per cui ella esce de la terra acerbagtgt bona umilta e gran tumor mappiani ma chi e quei di cui tu parlavi oragtgt ed e qui perche fu presuntuoso a recar siena tutta a le sue mani poi che mori cotal moneta rende a sodisfar chi e di la troppo osogtgt pria che si penta lorlo de la vita qua giu dimora e qua su non ascende prima che passi tempo quanto visse come fu la venuta lui largitagtgt ltltliberamente nel campo di siena ogne vergogna diposta saffisse che sostenea ne la prigion di carlo si condusse a tremar per ogne vena ma poco tempo andra che tuoi vicini faranno si che tu potrai chiosarlo mandava io con quellanima carca fin che l sofferse il dolce pedagogo che qui e buono con lali e coi remi quantunque puo ciascun pinger sua barcagtgt con la persona avvegna che i pensieri mi rimanessero e chinati e scemi del mio maestro i passi e amendue gia mostravam comeravam leggeri buon ti sara per tranquillar la via veder lo letto de le piante tuegtgt sovra i sepolti le tombe terragne portan segnato quel chelli eran pria per la puntura de la rimembranza che solo a pii da de le calcagne secondo lartificio figurato quanto per via di fuor del monte avanza piu chaltra creatura giu dal cielo folgoreggiando scender da lun lato celestial giacer da laltra parte grave a la terra per lo mortal gelo armati ancora intorno al padre loro mirar le membra di giganti sparte quasi smarrito e riguardar le genti che n sennaar con lui superbi fuoro vedea io te segnata in su la strada tra sette e sette tuoi figliuoli spenti quivi parevi morto in gelboe che poi non senti pioggia ne rugiada gia mezza ragna trista in su li stracci de lopera che mal per te si fe quivi l tuo segno ma pien di spavento nel porta un carro sanza chaltri il cacci come almeon a sua madre fe caro parer lo sventurato addornamento sovra sennacherib dentro dal tempio e come morto lui quivi il lasciaro che fe tamiri quando disse a ciro ltltsangue sitisti e io di sangue tempiogtgt li assiri poi che fu morto oloferne e anche le reliquie del martiro o ilion come te basso e vile mostrava il segno che li si discerne che ritraesse lombre e tratti chivi mirar farieno uno ingegno sottile non vide mei di me chi vide il vero quantio calcai fin che chinato givi figliuoli deva e non chinate il volto si che veggiate il vostro mal sentero e del cammin del sole assai piu speso che non stimava lanimo non sciolto andava comincio ltltdrizza la testa non e piu tempo di gir si sospeso per venir verso noi vedi che torna dal servigio del di lancella sesta si che i diletti lo nviarci in suso pensa che questo di mai non raggiornagtgt pur di non perder tempo si che n quella materia non potea parlarmi chiuso biancovestito e ne la faccia quale par tremolando mattutina stella disse ltltvenite qui son presso i gradi e agevolemente omai si sale o gente umana per volar su nata perche a poco vento cosi cadigtgt quivi mi batte lali per la fronte poi mi promise sicura landata dove siede la chiesa che soggioga la ben guidata sopra rubaconte per le scalee che si fero ad etade chera sicuro il quaderno e la doga quivi ben ratta da laltro girone ma quinci e quindi lalta pietra rade beati pauperes spiritu voci cantaron si che nol diria sermone da linfernali che quivi per canti sentra e la giu per lamenti feroci ed esser mi parea troppo piu lieve che per lo pian non mi parea davanti levata se da me che nulla quasi per me fatica andando si ricevegtgt ancor nel volto tuo presso che stinti saranno come lun del tutto rasi che non pur non fatica sentiranno ma fia diletto loro esser su pintigtgt con cosa in capo non da lor saputa se non che cenni altrui sospecciar fanno e cerca e truova e quello officio adempie che non si puo fornir per la veduta trovai pur sei le lettere che ncise quel da le chiavi a me sovra le tempie dove secondamente si risega lo monte che salendo altrui dismala dintorno il poggio come la primaia se non che larco suo piu tosto piega parsi la ripa e parsi la via schietta col livido color de la petraia ragionava il poeta ltltio temo forse che troppo avra dindugio nostra elettagtgt fece del destro lato a muover centro e la sinistra parte di se torse per lo novo cammin tu ne conducigtgt dicea ltltcome condur si vuol quincentro saltra ragione in contrario non ponta esser dien sempre li tuoi raggi ducigtgt tanto di la eravam noi gia iti con poco tempo per la voglia pronta non pero visti spiriti parlando a la mensa damor cortesi inviti vinum non habent altamente disse e dietro a noi lando reiterando per allungarsi unaltra i sono oreste passo gridando e anco non saffisse e comio domandai ecco la terza dicendo amate da cui male aveste la colpa de la invidia e pero sono tratte damor le corde de la ferza credo che ludirai per mio avviso prima che giunghi al passo del perdono e vedrai gente innanzi a noi sedersi e ciascun e lungo la grotta assisogtgt guardami innanzi e vidi ombre con manti al color de la pietra non diversi udia gridar maria ora per noi gridar michele e pietro e tutti santi omo si duro che non fosse punto per compassion di quel chi vidi poi che li atti loro a me venivan certi per li occhi fui di grave dolor munto e lun sofferia laltro con la spalla e tutti da la ripa eran sofferti stanno a perdoni a chieder lor bisogna e luno il capo sopra laltro avvalla non pur per lo sonar de le parole ma per la vista che non meno agogna cosi a lombre quivi ondio parlo ora luce del ciel di se largir non vole e cusce si come a sparvier selvaggio si fa pero che queto non dimora veggendo altrui non essendo veduto per chio mi volsi al mio consiglio saggio e pero non attese mia dimanda ma disse ltltparla e sie breve e argutogtgt de la cornice onde cader si puote perche da nulla sponda singhirlanda ombre che per lorribile costura premevan si che bagnavan le gote incominciai ltltdi veder lalto lume che l disio vostro solo ha in sua cura di vostra coscienza si che chiaro per essa scenda de la mente il fiume sanima e qui tra voi che sia latina e forse lei sara buon si lapparogtgt duna vera citta ma tu vuo dire che vivesse in italia peregrinagtgt piu innanzi alquanto che la dovio stava ondio mi feci ancor piu la sentire in vista e se volesse alcun dir come lo mento a guisa dorbo in su levava se tu se quelli che mi rispondesti fammiti conto o per luogo o per nomegtgt altri rimendo qui la vita ria lagrimando a colui che se ne presti fossi chiamata e fui de li altrui danni piu lieta assai che di ventura mia odi si fui comio ti dico folle gia discendendo larco di miei anni in campo giunti co loro avversari e io pregava iddio di quel che volle passi di fuga e veggendo la caccia letizia presi a tutte altre dispari gridando a dio omai piu non ti temo come fe l merlo per poca bonaccia de la mia vita e ancor non sarebbe lo mio dover per penitenza scemo pier pettinaio in sue sante orazioni a cui di me per caritate increbbe vai dimandando e porti li occhi sciolti si comio credo e spirando ragionigtgt ma picciol tempo che poca e loffesa fatta per esser con invidia volti lanima mia del tormento di sotto che gia lo ncarco di la giu mi pesagtgt qua su tra noi se giu ritornar credigtgt e io ltltcostui che meco e non fa motto spirito eletto se tu vuo chi mova di la per te ancor li mortai piedigtgt rispuose ltltche gran segno e che dio tami pero col priego tuo talor mi giova se mai calchi la terra di toscana che a miei propinqui tu ben mi rinfami che spera in talamone e perderagli piu di speranza cha trovar la diana prima che morte li abbia dato il volo e apre li occhi a sua voglia e coverchiagtgt domandal tu che piu li tavvicini e dolcemente si che parli accologtgt ragionavan di me ivi a man dritta poi fer li visi per dirmi supini nel corpo ancora inver lo ciel ten vai per carita ne consola e ne ditta tanto maravigliar de la tua grazia quanto vuol cosa che non fu piu maigtgt un fiumicel che nasce in falterona e cento miglia di corso nol sazia dirvi chi sia saria parlare indarno che l nome mio ancor molto non suonagtgt con lo ntellettogtgt allora mi rispuose quei che diceva pria ltlttu parli darnogtgt questi il vocabol di quella riviera pur comom fa de lorribili cosegtgt si sdebito cosi ltltnon so ma degno ben e che l nome di tal valle pera lalpestro monte onde tronco peloro che n pochi luoghi passa oltra quel segno di quel che l ciel de la marina asciuga ondhanno i fiumi cio che va con loro da tutti come biscia o per sventura del luogo o per mal uso che li fruga li abitator de la misera valle che par che circe li avesse in pastura che daltro cibo fatto in uman uso dirizza prima il suo povero calle ringhiosi piu che non chiede lor possa e da lor disdegnosa torce il muso tanto piu trova di can farsi lupi la maladetta e sventurata fossa trova le volpi si piene di froda che non temono ingegno che le occupi e buon sara costui sancor sammenta di cio che vero spirto mi disnoda cacciator di quei lupi in su la riva del fiero fiume e tutti li sgomenta poscia li ancide come antica belva molti di vita e se di pregio priva lasciala tal che di qui a mille anni ne lo stato primaio non si rinselvagtgt si turba il viso di colui chascolta da qual che parte il periglio lassanni stava a udir turbarsi e farsi trista poi chebbe la parola a se raccolta mi fer voglioso di saper lor nomi e dimanda ne fei con prieghi mista ricomincio ltlttu vuo chio mi deduca nel fare a te cio che tu far non vuomi tanto sua grazia non ti saro scarso pero sappi chio fui guido del duca che se veduto avesse uom farsi lieto visto mavresti di livore sparso o gente umana perche poni l core la ve mestier di consorte divieto de la casa da calboli ove nullo fatto se reda poi del suo valore tra l po e l monte e la marina e l reno del ben richesto al vero e al trastullo di venenosi sterpi si che tardi per coltivare omai verrebber meno pier traversaro e guido di carpigna oh romagnuoli tornati in bastardi quando in faenza un bernardin di fosco verga gentil di picciola gramigna quando rimembro con guido da prata ugolin dazzo che vivette nosco la casa traversara e li anastagi e luna gente e laltra e diretata che ne nvogliava amore e cortesia la dove i cuor son fatti si malvagi poi che gita se ne la tua famiglia e molta gente per non esser ria e mal fa castrocaro e peggio conio che di figliar tai conti piu simpiglia lor sen gira ma non pero che puro gia mai rimagna dessi testimonio e il nome tuo da che piu non saspetta chi far lo possa tralignando scuro troppo di pianger piu che di parlare si mha nostra ragion la mente strettagtgt ci sentivano andar pero tacendo facean noi del cammin confidare folgore parve quando laere fende voce che giunse di contra dicendo e fuggi come tuon che si dilegua se subito la nuvola scoscende ed ecco laltra con si gran fracasso che somiglio tonar che tosto segua e allor per ristrignermi al poeta in destro feci e non innanzi il passo ed el mi disse ltltquel fu l duro camo che dovria luom tener dentro a sua meta de lantico avversaro a se vi tira e pero poco val freno o richiamo mostrandovi le sue bellezze etterne e locchio vostro pur a terra mira e l principio del di par de la spera che sempre a guisa di fanciullo scherza essere al sol del suo corso rimaso vespero la e qui mezza notte era perche per noi girato era si l monte che gia dritti andavamo inver loccaso a lo splendore assai piu che di prima e stupor meran le cose non conte de le mie ciglia e fecimi l solecchio che del soverchio visibile lima salta lo raggio a lopposita parte salendo su per lo modo parecchio dal cader de la pietra in igual tratta si come mostra esperienza e arte quivi dinanzi a me esser percosso per che a fuggir la mia vista fu ratta schermar lo viso tanto che mi vagliagtgt dissio ltlte pare inver noi esser mossogtgt la famiglia del cielogtgt a me rispuose ltltmesso e che viene ad invitar chom saglia non ti fia grave ma fieti diletto quanto natura a sentir ti dispuosegtgt con lieta voce disse ltltintrate quinci ad un scaleo vie men che li altri erettogtgt e beati misericordes fue cantato retro e godi tu che vinci suso andavamo e io pensai andando prode acquistar ne le parole sue ltltche volse dir lo spirto di romagna e divieto e consorte menzionandogtgt conosce il danno e pero non sammiri se ne riprende perche men si piagna dove per compagnia parte si scema invidia move il mantaco a sospiri torcesse in suso il disiderio vostro non vi sarebbe al petto quella tema tanto possiede piu di ben ciascuno e piu di caritate arde in quel chiostrogtgt dissio ltltche se mi fosse pria taciuto e piu di dubbio ne la mente aduno in piu posseditor faccia piu ricchi di se che se da pochi e possedutogtgt la mente pur a le cose terrene di vera luce tenebre dispicchi che la su e cosi corre ad amore coma lucido corpo raggio vene si che quantunque carita si stende cresce sovressa letterno valore piu ve da bene amare e piu vi sama e come specchio luno a laltro rende vedrai beatrice ed ella pienamente ti torra questa e ciascunaltra brama come son gia le due le cinque piaghe che si richiudon per esser dolentegtgt vidimi giunto in su laltro girone si che tacer mi fer le luci vaghe estatica di subito esser tratto e vedere in un tempio piu persone dolce di madre dicer ltltfigliuol mio perche hai tu cosi verso noi fatto ti cercavamogtgt e come qui si tacque cio che pareva prima dispario giu per le gote che l dolor distilla quando di gran dispetto in altrui nacque del cui nome ne dei fu tanta lite e onde ogni scienza disfavilla chabbracciar nostra figlia o pisistratogtgt e l segnor mi parea benigno e mite ltltche farem noi a chi mal ne disira se quei che ci ama e per noi condannatogtgt con pietre un giovinetto ancider forte gridando a se pur ltltmartira martiragtgt che laggravava gia inver la terra ma de li occhi facea sempre al ciel porte che perdonasse a suoi persecutori con quello aspetto che pieta diserra a le cose che son fuor di lei vere io riconobbi i miei non falsi errori far si comom che dal sonno si slega disse ltltche hai che non ti puoi tenere velando li occhi e con le gambe avvolte a guisa di cui vino o sonno piegagtgt io ti dirogtgt dissio ltltcio che mapparve quando le gambe mi furon si toltegtgt sovra la faccia non mi sarian chiuse le tue cogitazion quantunque parve daprir lo core a lacque de la pace che da letterno fonte son diffuse chi guarda pur con locchio che non vede quando disanimato il corpo giace cosi frugar conviensi i pigri lenti ad usar lor vigilia quando riedegtgt oltre quanto potean li occhi allungarsi contra i raggi serotini e lucenti verso di noi come la notte oscuro ne da quello era loco da cansarsi dogne pianeto sotto pover cielo quantesser puo di nuvol tenebrata come quel fummo chivi ci coperse ne a sentir di cosi aspro pelo onde la scorta mia saputa e fida mi saccosto e lomero mofferse per non smarrirsi e per non dar di cozzo in cosa che l molesti o forse ancida ascoltando il mio duca che diceva pur ltltguarda che da me tu non sia mozzogtgt pregar per pace e per misericordia lagnel di dio che le peccata leva una parola in tutte era e un modo si che parea tra esse ogne concordia dissio ed elli a me ltlttu vero apprendi e diracundia van solvendo il nodogtgt e di noi parli pur come se tue partissi ancor lo tempo per calendigtgt onde l maestro mio disse ltltrispondi e domanda se quinci si va suegtgt per tornar bella a colui che ti fece maraviglia udirai se mi secondigtgt rispuose ltlte se veder fummo non lascia ludir ci terra giunti in quella vecegtgt che la morte dissolve men vo suso e venni qui per linfernale ambascia tanto che vuol chi veggia la sua corte per modo tutto fuor del moderno uso ma dilmi e dimmi si vo bene al varco e tue parole fier le nostre scortegtgt del mondo seppi e quel valore amai al quale ha or ciascun disteso larco cosi rispuose e soggiunse ltlti ti prego che per me prieghi quando su saraigtgt di far cio che mi chiedi ma io scoppio dentro ad un dubbio sio non me ne spiego ne la sentenza tua che mi fa certo qui e altrove quello ovio laccoppio dogne virtute come tu mi sone e di malizia gravido e coverto si chi la veggia e chi la mostri altrui che nel cielo uno e un qua giu la ponegtgt mise fuor prima e poi comincio ltltfrate lo mondo e cieco e tu vien ben da lui pur suso al cielo pur come se tutto movesse seco di necessitate libero arbitrio e non fora giustizia per ben letizia e per male aver lutto non dico tutti ma posto chi l dica lume ve dato a bene e a malizia ne le prime battaglie col ciel dura poi vince tutto se ben si notrica liberi soggiacete e quella cria la mente in voi che l ciel non ha in sua cura in voi e la cagione in voi si cheggia e io te ne saro or vera spia prima che sia a guisa di fanciulla che piangendo e ridendo pargoleggia salvo che mossa da lieto fattore volontier torna a cio che la trastulla quivi singanna e dietro ad esso corre se guida o fren non torce suo amore convenne rege aver che discernesse de la vera cittade almen la torre nullo pero che l pastor che procede rugumar puo ma non ha lunghie fesse pur a quel ben fedire ondella e ghiotta di quel si pasce e piu oltre non chiede e la cagion che l mondo ha fatto reo e non natura che n voi sia corrotta due soli aver che luna e laltra strada facean vedere e del mondo e di deo col pasturale e lun con laltro insieme per viva forza mal convien che vada se non mi credi pon mente a la spiga chognerba si conosce per lo seme solea valore e cortesia trovarsi prima che federigo avesse briga per qualunque lasciasse per vergogna di ragionar coi buoni o dappressarsi lantica eta la nova e par lor tardo che dio a miglior vita li ripogna e guido da castel che mei si noma francescamente il semplice lombardo per confondere in se due reggimenti cade nel fango e se brutta e la somagtgt e or discerno perche dal retaggio li figli di levi furono essenti di che rimaso de la gente spenta in rimprovero del secol selvaggiogtgt rispuose a me ltltche parlandomi tosco par che del buon gherardo nulla senta sio nol togliessi da sua figlia gaia dio sia con voi che piu non vegno vosco gia biancheggiare e me convien partirmi langelo e ivi prima chio li paiagtgt ti colse nebbia per la qual vedessi non altrimenti che per pelle talpe a diradar cominciansi la spera del sol debilemente entra per essi in giugnere a veder comio rividi lo sole in pria che gia nel corcar era del mio maestro usci fuor di tal nube ai raggi morti gia ne bassi lidi talvolta si di fuor chom non saccorge perche dintorno suonin mille tube moveti lume che nel ciel sinforma per se o per voler che giu lo scorge ne luccel cha cantar piu si diletta ne limagine mia apparve lorma dentro da se che di fuor non venia cosa che fosse allor da lei ricetta un crucifisso dispettoso e fero ne la sua vista e cotal si moria ester sua sposa e l giusto mardoceo che fu al dire e al far cosi intero se per se stessa a guisa duna bulla cui manca lacqua sotto qual si feo piangendo forte e dicea ltlto regina perche per ira hai voluto esser nulla or mhai perduta io son essa che lutto madre a la tua pria cha laltrui ruinagtgt nova luce percuote il viso chiuso che fratto guizza pria che muoia tutto tosto che lume il volto mi percosse maggior assai che quel che in nostro uso quando una voce disse ltltqui si montagtgt che da ogne altro intento mi rimosse di riguardar chi era che parlava che mai non posa se non si raffronta e per soverchio sua figura vela cosi la mia virtu quivi mancava via da ir su ne drizza sanza prego e col suo lume se medesmo cela che quale aspetta prego e luopo vede malignamente gia si mette al nego procacciam di salir pria che sabbui che poi non si poria se l di non riedegtgt volgemmo i nostri passi ad una scala e tosto chio al primo grado fui e ventarmi nel viso e dir beati pacifici che son sanzira mala li ultimi raggi che la notte segue che le stelle apparivan da piu lati fra me stesso dicea che mi sentiva la possa de le gambe posta in triegue la scala su ed eravamo affissi pur come nave cha la piaggia arriva alcuna cosa nel novo girone poi mi volsi al maestro mio e dissi si purga qui nel giro dove semo se i pie si stanno non stea tuo sermonegtgt del suo dover quiritta si ristora qui si ribatte il mal tardato remo volgi la mente a me e prenderai alcun buon frutto di nostra dimoragtgt comincio el ltltfigliuol fu sanza amore o naturale o danimo e tu l sai ma laltro puote errar per malo obietto o per troppo o per poco di vigore e ne secondi se stesso misura esser non puo cagion di mal diletto o con men che non dee corre nel bene contra l fattore adovra sua fattura amor sementa in voi dogne virtute e dogne operazion che merta pene amor del suo subietto volger viso da lodio proprio son le cose tute e per se stante alcuno esser dal primo da quello odiare ogne effetto e deciso che l mal che sama e del prossimo ed esso amor nasce in tre modi in vostro limo spera eccellenza e sol per questo brama chel sia di sua grandezza in basso messo teme di perder perchaltri sormonti onde sattrista si che l contrario ama si che si fa de la vendetta ghiotto e tal convien che l male altrui impronti si piange or vo che tu de laltro intende che corre al ben con ordine corrotto nel qual si queti lanimo e disira per che di giugner lui ciascun contende o a lui acquistar questa cornice dopo giusto penter ve ne martira non e felicita non e la buona essenza dogne ben frutto e radice di sovra noi si piange per tre cerchi ma come tripartito si ragiona lalto dottore e attento guardava ne la mia vista sio parea contento di fuor tacea e dentro dicea forse lo troppo dimandar chio fo li grava del timido voler che non sapriva parlando di parlare ardir mi porse si nel tuo lume chio discerno chiaro quanto la tua ragion parta o descriva che mi dimostri amore a cui reduci ogne buono operare e l suo contrarogtgt de lo ntelletto e fieti manifesto lerror de ciechi che si fanno duci ad ogne cosa e mobile che piace tosto che dal piacere in atto e desto tragge intenzione e dentro a voi la spiega si che lanimo ad essa volger face quel piegare e amor quelle natura che per piacer di novo in voi si lega per la sua forma che nata a salire la dove piu in sua matera dura che moto spiritale e mai non posa fin che la cosa amata il fa gioire la veritate a la gente chavvera ciascun amore in se laudabil cosa sempre esser buona ma non ciascun segno e buono ancor che buona sia la ceragtgt rispuosio lui ltltmhanno amor discoverto ma cio mha fatto di dubbiar piu pregno e lanima non va con altro piede se dritta o torta va non e suo mertogtgt dir ti possio da indi in la taspetta pur a beatrice che opra di fede e da matera ed e con lei unita specifica vertute ha in se colletta ne si dimostra mai che per effetto come per verdi fronde in pianta vita de le prime notizie omo non sape e de primi appetibili laffetto di far lo mele e questa prima voglia merto di lode o di biasmo non cape innata ve la virtu che consiglia e de lassenso de tener la soglia ragion di meritare in voi secondo che buoni e rei amori accoglie e viglia saccorser desta innata libertate pero moralita lasciaro al mondo surga ogne amor che dentro a voi saccende di ritenerlo e in voi la podestate per lo libero arbitrio e pero guarda che labbi a mente sa parlar ten prendegtgt facea le stelle a noi parer piu rade fatta comun secchion che tuttor arda che l sole infiamma allor che quel da roma tra sardi e corsi il vede quando cade pietola piu che villa mantoana del mio carcar diposta avea la soma sovra le mie quistioni avea ricolta stava comom che sonnolento vana subitamente da gente che dopo le nostre spalle a noi era gia volta lungo di se di notte furia e calca pur che i teban di bacco avesser uopo per quel chio vidi di color venendo cui buon volere e giusto amor cavalca si movea tutta quella turba magna e due dinanzi gridavan piangendo e cesare per soggiogare ilerda punse marsilia e poi corse in ispagnagtgt per poco amorgtgt gridavan li altri appresso ltltche studio di ben far grazia rinverdagtgt ricompie forse negligenza e indugio da voi per tepidezza in ben far messo vuole andar su pur che l sol ne riluca pero ne dite onde presso il pertugiogtgt e un di quelli spirti disse ltltvieni di retro a noi e troverai la buca che restar non potem pero perdona se villania nostra giustizia tieni sotto lo mperio del buon barbarossa di cui dolente ancor milan ragiona che tosto piangera quel monastero e tristo fia davere avuta possa e de la mente peggio e che mal nacque ha posto in loco di suo pastor verogtgt tantera gia di la da noi trascorso ma questo intesi e ritener mi piacque disse ltltvolgiti qua vedine due venir dando a laccidia di morsogtgt morta la gente a cui il mar saperse che vedesse iordan le rede sue fino a la fine col figlio danchise se stessa a vita sanza gloria offersegtgt quellombre che veder piu non potiersi novo pensiero dentro a me si mise e tanto duno in altro vaneggiai che li occhi per vaghezza ricopersi intepidar piu l freddo de la luna vinto da terra e talor da saturno veggiono in oriiente innanzi a lalba surger per via che poco le sta bruna ne li occhi guercia e sovra i pie distorta con le man monche e di colore scialba le fredde membra che la notte aggrava cosi lo sguardo mio le facea scorta in poco dora e lo smarrito volto com amor vuol cosi le colorava cominciava a cantar si che con pena da lei avrei mio intento rivolto che marinari in mezzo mar dismago tanto son di piacere a sentir piena al canto mio e qual meco sausa rado sen parte si tutto lappagogtgt quand una donna apparve santa e presta lunghesso me per far colei confusa fieramente dicea ed el venia con li occhi fitti pur in quella onesta fendendo i drappi e mostravami l ventre quel mi sveglio col puzzo che nuscia voci tho messegtgt dicea ltltsurgi e vieni troviam laperta per la qual tu entregtgt de lalto di i giron del sacro monte e andavam col sol novo a le reni come colui che lha di pensier carca che fa di se un mezzo arco di ponte parlare in modo soave e benigno qual non si sente in questa mortal marca volseci in su colui che si parlonne tra due pareti del duro macigno qui lugent affermando esser beati chavran di consolar lanime donne la guida mia incomincio a dirmi poco amendue da langel sormontati novella visiion cha se mi piega si chio non posso dal pensar partirmigtgt che sola sovr a noi omai si piagne vedesti come luom da lei si slega li occhi rivolgi al logoro che gira lo rege etterno con le rote magnegtgt indi si volge al grido e si protende per lo disio del pasto che la il tira la roccia per dar via a chi va suso nandai infin dove l cerchiar si prende vidi gente per esso che piangea giacendo a terra tutta volta in giuso sentia dir lor con si alti sospiri che la parola a pena sintendea e giustizia e speranza fa men duri drizzate noi verso li alti salirigtgt e volete trovar la via piu tosto le vostre destre sien sempre di forigtgt poco dinanzi a noi ne fu per chio nel parlare avvisai laltro nascosto ond elli massenti con lieto cenno cio che chiedea la vista del disio trassimi sovra quella creatura le cui parole pria notar mi fenno quel sanza l quale a dio tornar non possi sosta un poco per me tua maggior cura al su mi di e se vuo chio timpetri cosa di la ond io vivendo mossigtgt rivolga il cielo a se saprai ma prima scias quod ego fui successor petri una fiumana bella e del suo nome lo titol del mio sangue fa sua cima pesa il gran manto a chi dal fango il guarda che piuma sembran tutte laltre some ma come fatto fui roman pastore cosi scopersi la vita bugiarda ne piu salir potiesi in quella vita er che di questa in me saccese amore da dio anima fui del tutto avara or come vedi qui ne son punita in purgazion de lanime converse e nulla pena il monte ha piu amara in alto fisso a le cose terrene cosi giustizia qui a terra il merse lo nostro amore onde operar perdesi cosi giustizia qui stretti ne tene e quanto fia piacer del giusto sire tanto staremo immobili e distesigtgt ma com io cominciai ed el saccorse solo ascoltando del mio reverire e io a lui ltltper vostra dignitate mia cosciienza dritto mi rimorsegtgt rispuose ltltnon errar conservo sono teco e con li altri ad una podestate che dice neque nubent intendesti ben puoi veder perchio cosi ragiono che la tua stanza mio pianger disagia col qual maturo cio che tu dicesti buona da se pur che la nostra casa non faccia lei per essempro malvagia onde contra l piacer mio per piacerli trassi de lacqua non sazia la spugna luoghi spediti pur lungo la roccia come si va per muro stretto a merli per li occhi il mal che tutto l mondo occupa da laltra parte in fuor troppo sapproccia che piu che tutte laltre bestie hai preda per la tua fame sanza fine cupa le condizion di qua giu trasmutarsi quando verra per cui questa disceda e io attento a lombre chi sentia pietosamente piangere e lagnarsi dinanzi a noi chiamar cosi nel pianto come fa donna che in parturir sia quanto veder si puo per quello ospizio dove sponesti il tuo portato santogtgt con poverta volesti anzi virtute che gran ricchezza posseder con viziogtgt chio mi trassi oltre per aver contezza di quello spirto onde parean venute che fece niccolo a le pulcelle per condurre ad onor lor giovinezza dimmi chi fostigtgt dissi ltlte perche sola tu queste degne lode rinovelle sio ritorno a compier lo cammin corto di quella vita chal termine volagtgt chio attenda di la ma perche tanta grazia in te luce prima che sie morto che la terra cristiana tutta aduggia si che buon frutto rado se ne schianta potesser tosto ne saria vendetta e io la cheggio a lui che tutto giuggia di me son nati i filippi e i luigi per cui novellamente e francia retta quando li regi antichi venner meno tutti fuor chun renduto in panni bigi del governo del regno e tanta possa di nuovo acquisto e si damici pieno la testa di mio figlio fu dal quale cominciar di costor le sacrate ossa al sangue mio non tolse la vergogna poco valea ma pur non facea male la sua rapina e poscia per ammenda ponti e normandia prese e guascogna vittima fe di curradino e poi ripinse al ciel tommaso per ammenda che tragge un altro carlo fuor di francia per far conoscer meglio e se e suoi con la qual giostro giuda e quella ponta si cha fiorenza fa scoppiar la pancia guadagnera per se tanto piu grave quanto piu lieve simil danno conta veggio vender sua figlia e patteggiarne come fanno i corsar de laltre schiave poscia cha il mio sangue a te si tratto che non si cura de la propria carne veggio in alagna intrar lo fiordaliso e nel vicario suo cristo esser catto veggio rinovellar laceto e l fiele e tra vivi ladroni esser anciso che cio nol sazia ma sanza decreto portar nel tempio le cupide vele a veder la vendetta che nascosa fa dolce lira tua nel tuo secreto de lo spirito santo e che ti fece verso me volger per alcuna chiosa quanto l di dura ma comel sannotta contrario suon prendemo in quella vece cui traditore e ladro e paricida fece la voglia sua de loro ghiotta che segui a la sua dimanda gorda per la qual sempre convien che si rida come furo le spoglie si che lira di iosue qui par chancor lo morda lodiam i calci chebbe eliodoro e in infamia tutto l monte gira ultimamente ci si grida crasso dilci che l sai di che sapore e loro secondo laffezion chad ir ci sprona ora a maggiore e ora a minor passo dianzi non era io sol ma qui da presso non alzava la voce altra personagtgt e brigavam di soverchiar la strada tanto quanto al poder nera permesso tremar lo monte onde mi prese un gelo qual prender suol colui cha morte vada pria che latona in lei facesse l nido a parturir li due occhi del cielo tal che l maestro inverso me si feo dicendo ltltnon dubbiar mentrio ti guidogtgt dicean per quel chio da vicin compresi onde intender lo grido si poteo come i pastor che prima udir quel canto fin che l tremar cesso ed el compiesi guardando lombre che giacean per terra tornate gia in su lusato pianto mi fe desideroso di sapere se la memoria mia in cio non erra ne per la fretta dimandare eroso ne per me li potea cosa vedere se non con lacqua onde la femminetta samaritana domando la grazia per la mpacciata via dietro al mio duca e condoleami a la giusta vendetta che cristo apparve a due cherano in via gia surto fuor de la sepulcral buca dal pie guardando la turba che giace ne ci addemmo di lei si parlo pria noi ci volgemmo subiti e virgilio rendeli l cenno cha cio si conface ti ponga in pace la verace corte che me rilega ne letterno essiliogtgt ltltse voi siete ombre che dio su non degni chi vha per la sua scala tanto scortegtgt che questi porta e che langel profila ben vedrai che coi buon convien che regni non li avea tratta ancora la conocchia che cloto impone a ciascuno e compila venendo su non potea venir sola pero chal nostro modo non adocchia dinferno per mostrarli e mosterrolli oltre quanto l potra menar mia scola die dianzi l monte e perche tutto ad una parve gridare infino a suoi pie molligtgt del mio disio che pur con la speranza si fece la mia sete men digiuna ordine senta la religione de la montagna o che sia fuor dusanza di quel che l ciel da se in se riceve esser ci puote e non daltro cagione non rugiada non brina piu su cade che la scaletta di tre gradi breve ne coruscar ne figlia di taumante che di la cangia sovente contrade chal sommo di tre gradi chio parlai dovha l vicario di pietro le piante ma per vento che n terra si nasconda non so come qua su non tremo mai sentesi si che surga o che si mova per salir su e tal grido seconda che tutto libero a mutar convento lalma sorprende e di voler le giova che divina giustizia contra voglia come fu al peccar pone al tormento cinquecentanni e piu pur mo sentii libera volonta di miglior soglia spiriti per lo monte render lode a quel segnor che tosto su li nviigtgt tanto del ber quante grande la sete non saprei dir quantel mi fece prode che qui vimpiglia e come si scalappia perche ci trema e di che congaudete e perche tanti secoli giaciuto qui se ne le parole tue mi cappiagtgt del sommo rege vendico le fora ondusci l sangue per giuda venduto era io di lagtgt rispuose quello spirto ltltfamoso assai ma non con fede ancora che tolosano a se mi trasse roma dove mertai le tempie ornar di mirto cantai di tebe e poi del grande achille ma caddi in via con la seconda soma che mi scaldar de la divina fiamma onde sono allumati piu di mille fummi e fummi nutrice poetando sanzessa non fermai peso di dramma visse virgilio assentirei un sole piu che non deggio al mio uscir di bandogtgt con viso che tacendo disse taci ma non puo tutto la virtu che vuole a la passion di che ciascun si spicca che men seguon voler ne piu veraci per che lombra si tacque e riguardommi ne li occhi ove l sembiante piu si ficca disse ltltperche la tua faccia testeso un lampeggiar di riso dimostrommigtgt luna mi fa tacer laltra scongiura chio dica ondio sospiro e sono inteso mi dice ltltdi parlar ma parla e digli quel che dimanda con cotanta curagtgt antico spirto del rider chio fei ma piu dammirazion vo che ti pigli e quel virgilio dal qual tu togliesti forza a cantar de li uomini e di dei lasciala per non vera ed esser credi quelle parole che di lui dicestigtgt al mio dottor ma el li disse ltltfrate non far che tu se ombra e ombra vedigtgt comprender de lamor cha te mi scalda quandio dismento nostra vanitate langel che navea volti al sesto giro avendomi dal viso un colpo raso detto navea beati e le sue voci con sitiunt sanzaltro cio forniro mandava si che sanzalcun labore seguiva in su li spiriti veloci acceso di virtu sempre altro accese pur che la fiamma sua paresse fore nel limbo de lo nferno giovenale che la tua affezion mi fe palese piu strinse mai di non vista persona si chor mi parran corte queste scale se troppa sicurta mallarga il freno e come amico omai meco ragiona loco avarizia tra cotanto senno di quanto per tua cura fosti pienogtgt un poco a riso pria poscia rispuose ltltogne tuo dir damor me caro cenno che danno a dubitar falsa matera per le vere ragion che son nascose esser chi fossi avaro in laltra vita forse per quella cerchia dovio era troppo da me e questa dismisura migliaia di lunari hanno punita quandio intesi la dove tu chiame crucciato quasi a lumana natura de loro lappetito de mortali voltando sentirei le giostre grame potean le mani a spendere e pentemi cosi di quel come de li altri mali per ignoranza che di questa pecca toglie l penter vivendo e ne li stremi per dritta opposizione alcun peccato con esso insieme qui suo verde secca che piange lavarizia per purgarmi per lo contrario suo me incontratogtgt de la doppia trestizia di giocastagtgt disse l cantor de buccolici carmi non par che ti facesse ancor fedele la fede sanza qual ben far non basta ti stenebraron si che tu drizzasti poscia di retro al pescator le velegtgt verso parnaso a ber ne le sue grotte e prima appresso dio malluminasti che porta il lume dietro e se non giova ma dopo se fa le persone dotte torna giustizia e primo tempo umano e progenie scende da ciel nova ma perche veggi mei cio chio disegno a colorare stendero la mano de la vera credenza seminata per li messaggi de letterno regno si consonava a nuovi predicanti ondio a visitarli presi usata che quando domizian li perseguette sanza mio lagrimar non fur lor pianti io li sovvenni e i lor dritti costumi fer dispregiare a me tutte altre sette di tebe poetando ebbio battesmo ma per paura chiuso cristian fumi e questa tepidezza il quarto cerchio cerchiar mi fe piu che l quarto centesmo che mascondeva quanto bene io dico mentre che del salire avem soverchio cecilio e plauto e varro se lo sai dimmi se son dannati e in qual vicogtgt rispuose il duca mio ltltsiam con quel greco che le muse lattar piu chaltri mai spesse fiate ragioniam del monte che sempre ha le nutrice nostre seco simonide agatone e altri piue greci che gia di lauro ornar la fronte antigone deifile e argia e ismene si trista come fue evvi la figlia di tiresia e teti e con le suore sue deidamiagtgt di novo attenti a riguardar dintorno liberi da saliri e da pareti rimase a dietro e la quinta era al temo drizzando pur in su lardente corno le destre spalle volger ne convegna girando il monte come far solemogtgt e prendemmo la via con men sospetto per lassentir di quellanima degna di retro e ascoltava i lor sermoni cha poetar mi davano intelletto un alber che trovammo in mezza strada con pomi a odorar soavi e buoni di ramo in ramo cosi quello in giuso credio perche persona su non vada cadea de lalta roccia un liquor chiaro e si spandeva per le foglie suso e una voce per entro le fronde grido ltltdi questo cibo avrete carogtgt fosser le nozze orrevoli e intere cha la sua bocca chor per voi risponde contente furon dacqua e daniello dispregio cibo e acquisto savere fe savorose con fame le ghiande e nettare con sete ogne ruscello che nodriro il batista nel diserto per chelli e glorioso e tanto grande ficcava io si come far suole chi dietro a li uccellin sua vita perde vienne oramai che l tempo che ne imposto piu utilmente compartir si vuolegtgt appresso i savi che parlavan sie che landar mi facean di nullo costo labia mea domine per modo tal che diletto e doglia parturie comincia io ed elli ltltombre che vanno forse di lor dover solvendo il nodogtgt giugnendo per cammin gente non nota che si volgono ad essa e non restanno venendo e trapassando ci ammirava danime turba tacita e devota palida ne la faccia e tanto scema che da lossa la pelle sinformava erisittone fosse fatto secco per digiunar quando piu nebbe tema la gente che perde ierusalemme quando maria nel figlio die di becco chi nel viso de li uomini legge omo ben avria quivi conosciuta lemme si governasse generando brama e quel dunacqua non sappiendo como per la cagione ancor non manifesta di lor magrezza e di lor trista squama volse a me li occhi unombra e guardo fiso poi grido forte ltltqual grazia me questagtgt ma ne la voce sua mi fu palese cio che laspetto in se avea conquiso mia conoscenza a la cangiata labbia e ravvisai la faccia di forese che mi scoloragtgt pregava ltltla pelle ne a difetto di carne chio abbia due anime che la ti fanno scorta non rimaner che tu non mi favellegtgt mi da di pianger mo non minor dogliagtgt rispuosio lui ltltveggendola si torta non mi far dir mentrio mi maraviglio che mal puo dir chi e pien daltra vogliagtgt cade vertu ne lacqua e ne la pianta rimasa dietro ondio si massottiglio per seguitar la gola oltra misura in fame e n sete qui si rifa santa lodor chesce del pomo e de lo sprazzo che si distende su per sua verdura girando si rinfresca nostra pena io dico pena e dovria dir sollazzo che meno cristo lieto a dire eli quando ne libero con la sua venagtgt nel qual mutasti mondo a miglior vita cinqanni non son volti infino a qui di peccar piu che sovvenisse lora del buon dolor cha dio ne rimarita io ti credea trovar la giu di sotto dove tempo per tempo si ristoragtgt a ber lo dolce assenzo di martiri la nella mia con suo pianger dirotto tratto mha de la costa ove saspetta e liberato mha de li altri giri la vedovella mia che molto amai quanto in bene operare e piu soletta ne le femmine sue piu e pudica che la barbagia dovio la lasciai tempo futuro me gia nel cospetto cui non sara questora molto antica a le sfacciate donne fiorentine landar mostrando con le poppe il petto cui bisognasse per farle ir coperte o spiritali o altre discipline di quel che l ciel veloce loro ammanna gia per urlare avrian le bocche aperte prima fien triste che le guance impeli colui che mo si consola con nanna vedi che non pur io ma questa gente tutta rimira la dove l sol veligtgt qual fosti meco e qual io teco fui ancor fia grave il memorar presente che mi va innanzi laltrier quando tonda vi si mostro la suora di coluigtgt notte menato mha di veri morti con questa vera carne che l seconda salendo e rigirando la montagna che drizza voi che l mondo fece torti che io saro la dove fia beatrice quivi convien che sanza lui rimagna e additalo ltlte questaltro e quellombra per cui scosse dianzi ogne pendice facea ma ragionando andavam forte si come nave pinta da buon vento per le fosse de li occhi ammirazione traean di me di mio vivere accorte dissi ltltella sen va su forse piu tarda che non farebbe per altrui cagione dimmi sio veggio da notar persona tra questa gente che si mi riguardagtgt non so qual fosse piu triunfa lieta ne lalto olimpo gia di sua coronagtgt di nominar ciascun da che si munta nostra sembianza via per la dieta bonagiunta da lucca e quella faccia di la da lui piu che laltre trapunta dal torso fu e purga per digiuno languille di bolsena e la vernacciagtgt e del nomar parean tutti contenti si chio pero non vidi un atto bruno ubaldin da la pila e bonifazio che pasturo col rocco molte genti gia di bere a forli con men secchezza e si fu tal che non si senti sazio piu dun che daltro fei a quel da lucca che piu parea di me aver contezza sentivio la ovel sentia la piaga de la giustizia che si li pilucca di parlar meco fa si chio tintenda e te e me col tuo parlare appagagtgt comincio el ltltche ti fara piacere la mia citta come chom la riprenda se nel mio mormorar prendesti errore dichiareranti ancor le cose vere trasse le nove rime cominciando donne chavete intelletto damoregtgt amor mi spira noto e a quel modo che ditta dentro vo significandogtgt che l notaro e guittone e me ritenne di qua dal dolce stil novo chi odo di retro al dittator sen vanno strette che de le nostre certo non avvenne non vede piu da luno a laltro stilogtgt e quasi contentato si tacette alcuna volta in aere fanno schiera poi volan piu a fretta e vanno in filo volgendo l viso raffretto suo passo e per magrezza e per voler leggera lascia andar li compagni e si passeggia fin che si sfoghi laffollar del casso forese e dietro meco sen veniva dicendo ltltquando fia chio ti riveggiagtgt ma gia non fia il tornar mio tantosto chio non sia col voler prima a la riva di giorno in giorno piu di ben si spolpa e a trista ruina par dispostogtgt veggio a coda duna bestia tratto inver la valle ove mai non si scolpa crescendo sempre fin chella il percuote e lascia il corpo vilmente disfatto e drizzo li ochi al ciel ltltche ti fia chiaro cio che l mio dir piu dichiarar non puote in questo regno si chio perdo troppo venendo teco si a paro a parogtgt lo cavalier di schiera che cavalchi e va per farsi onor del primo intoppo e io rimasi in via con esso i due che fuor del mondo si gran marescalchi che li occhi miei si fero a lui seguaci come la mente a le parole sue dun altro pomo e non molto lontani per esser pur allora volto in laci e gridar non so che verso le fronde quasi bramosi fantolini e vani ma per fare esser ben la voglia acuta tien alto lor disio e nol nasconde e noi venimmo al grande arbore adesso che tanti prieghi e lagrime rifiuta legno e piu su che fu morso da eva e questa pianta si levo da essogtgt per che virgilio e stazio e io ristretti oltre andavam dal lato che si leva nei nuvoli formati che satolli teseo combatter co doppi petti per che no i volle gedeon compagni quando inver madian discese i colligtgt passammo udendo colpe de la gola seguite gia da miseri guadagni ben mille passi e piu ci portar oltre contemplando ciascun sanza parola subita voce disse ondio mi scossi come fan bestie spaventate e poltre e gia mai non si videro in fornace vetri o metalli si lucenti e rossi montare in su qui si convien dar volta quinci si va chi vuole andar per pacegtgt per chio mi volsi dietro a miei dottori comom che va secondo chelli ascolta laura di maggio movesi e olezza tutta impregnata da lerba e da fiori la fronte e ben senti mover la piuma che fe sentir dambrosia lorezza tanto di grazia che lamor del gusto nel petto lor troppo disir non fuma che l sole avea il cerchio di merigge lasciato al tauro e la notte a lo scorpio ma vassi a la via sua che che li appaia se di bisogno stimolo il trafigge uno innanzi altro prendendo la scala che per artezza i salitor dispaia per voglia di volare e non sattenta dabbandonar lo nido e giu la cala di dimandar venendo infino a latto che fa colui cha dicer sargomenta lo dolce padre mio ma disse ltltscocca larco del dir che nfino al ferro hai trattogtgt e cominciai ltltcome si puo far magro la dove luopo di nodrir non toccagtgt si consumo al consumar dun stizzo non foragtgt disse ltlta te questo si agro guizza dentro a lo specchio vostra image cio che par duro ti parrebbe vizzo ecco qui stazio e io lui chiamo e prego che sia or sanator de le tue piagegtgt rispuose stazio ltltla dove tu sie discolpi me non potertio far negogtgt figlio la mente tua guarda e riceve lume ti fiero al come che tu die da lassetate vene e si rimane quasi alimento che di mensa leve virtute informativa come quello cha farsi quelle per le vene vane tacer che dire e quindi poscia geme sovraltrui sangue in natural vasello lun disposto a patire e laltro a fare per lo perfetto loco onde si preme coagulando prima e poi avviva cio che per sua matera fe constare qual duna pianta in tanto differente che questa e in via e quella e gia a riva come spungo marino e indi imprende ad organar le posse onde semente la virtu che dal cor del generante dove natura a tutte membra intende non vedi tu ancor queste tal punto che piu savio di te fe gia errante da lanima il possibile intelletto perche da lui non vide organo assunto e sappi che si tosto come al feto larticular del cerebro e perfetto sovra tantarte di natura e spira spirito novo di vertu repleto in sua sustanzia e fassi unalma sola che vive e sente e se in se rigira guarda il calor del sole che si fa vino giunto a lomor che de la vite cola solvesi da la carne e in virtute ne porta seco e lumano e l divino memoria intelligenza e volontade in atto molto piu che prima agute mirabilmente a luna de le rive quivi conosce prima le sue strade la virtu formativa raggia intorno cosi e quanto ne le membra vive per laltrui raggio che n se si reflette di diversi color diventa addorno in quella forma che in lui suggella virtualmente lalma che ristette che segue il foco la vunque si muta segue lo spirto sua forma novella e chiamata ombra e quindi organa poi ciascun sentire infino a la veduta quindi facciam le lagrime e sospiri che per lo monte aver sentiti puoi e li altri affetti lombra si figura e queste la cagion di che tu mirigtgt sera per noi e volto a la man destra ed eravamo attenti ad altra cura e la cornice spira fiato in suso che la reflette e via da lei sequestra ad uno ad uno e io temea l foco quinci e quindi temeva cader giuso si vuol tenere a li occhi stretto il freno pero cherrar potrebbesi per pocogtgt al grande ardore allora udi cantando che di volger mi fe caler non meno per chio guardava a loro e a miei passi compartendo la vista a quando a quando gridavano alto virum non cognosco indi ricominciavan linno bassi si tenne diana ed elice caccionne che di venere avea sentito il toscogtgt gridavano e mariti che fuor casti come virtute e matrimonio imponne per tutto il tempo che l foco li abbruscia con tal cura conviene e con tai pasti ce nandavamo e spesso il buon maestro diceami ltltguarda giovi chio ti scaltrogtgt che gia raggiando tutto loccidente mutava in bianco aspetto di cilestro parer la fiamma e pur a tanto indizio vidi moltombre andando poner mente loro a parlar di me e cominciarsi a dir ltltcolui non par corpo fittiziogtgt certi si fero sempre con riguardo di non uscir dove non fosser arsi ma forse reverente a li altri dopo rispondi a me che n sete e n foco ardo che tutti questi nhanno maggior sete che dacqua fredda indo o etiopo al sol pur come tu non fossi ancora di morte intrato dentro da la retegtgt gia manifesto sio non fossi atteso ad altra novita chapparve allora venne gente col viso incontro a questa la qual mi fece a rimirar sospeso ciascunombra e basciarsi una con una sanza restar contente a brieve festa sammusa luna con laltra formica forse a spiar lor via e lor fortuna prima che l primo passo li trascorra sopragridar ciascuna saffatica e laltra ltltne la vacca entra pasife perche l torello a sua lussuria corragtgt volasser parte e parte inver larene queste del gel quelle del sole schife e tornan lagrimando a primi canti e al gridar che piu lor si convene essi medesmi che mavean pregato attenti ad ascoltar ne lor sembianti incominciai ltlto anime sicure daver quando che sia di pace stato le membra mie di la ma son qui meco col sangue suo e con le sue giunture donna e di sopra che macquista grazia per che l mortal per vostro mondo reco tosto divegna si che l ciel valberghi che pien damore e piu ampio si spazia chi siete voi e chi e quella turba che se ne va di retro a vostri terghigtgt lo montanaro e rimirando ammuta quando rozzo e salvatico sinurba ma poi che furon di stupore scarche lo qual ne li alti cuor tosto sattuta ricomincio colei che pria minchiese ltltper morir meglio esperienza imbarche di cio per che gia cesar triunfando regina contra se chiamar sintese rimproverando a se comhai udito e aiutan larsura vergognando ma perche non servammo umana legge seguendo come bestie lappetito quando partinci il nome di colei che simbestio ne le mbestiate schegge se forse a nome vuo saper chi semo tempo non e di dire e non saprei son guido guinizzelli e gia mi purgo per ben dolermi prima cha lo stremogtgt si fer due figli a riveder la madre tal mi fecio ma non a tanto insurgo mio e de li altri miei miglior che mai rime damore usar dolci e leggiadre lunga fiata rimirando lui ne per lo foco in la piu mappressai tutto moffersi pronto al suo servigio con laffermar che fa credere altrui per quel chi odo in me e tanto chiaro che lete nol puo torre ne far bigio dimmi che e cagion per che dimostri nel dire e nel guardar davermi carogtgt che quanto durera luso moderno faranno cari ancora i loro incostrigtgt col ditogtgt e addito un spirto innanzi ltltfu miglior fabbro del parlar materno soverchio tutti e lascia dir li stolti che quel di lemosi credon chavanzi e cosi ferman sua oppinione prima charte o ragion per lor sascolti di grido in grido pur lui dando pregio fin che lha vinto il ver con piu persone che licito ti sia landare al chiostro nel quale e cristo abate del collegio quanto bisogna a noi di questo mondo dove poter peccar non e piu nostrogtgt che presso avea disparve per lo foco come per lacqua il pesce andando al fondo e dissi chal suo nome il mio disire apparecchiava grazioso loco ltlttan mabellis vostre cortes deman quieu no me puesc ni voill a vos cobrire consiros vei la passada folor e vei jausen lo joi quesper denan que vos guida al som de lescalina sovenha vos a temps de ma dolorgtgt la dove il suo fattor lo sangue sparse cadendo ibero sotto lalta libra si stava il sole onde l giorno sen giva come langel di dio lieto ci apparse e cantava beati mundo corde in voce assai piu che la nostra viva anime sante il foco intrate in esso e al cantar di la non siate sordegtgt per chio divenni tal quando lo ntesi qual e colui che ne la fossa e messo guardando il foco e imaginando forte umani corpi gia veduti accesi e virgilio mi disse ltltfigliuol mio qui puo esser tormento ma non morte sovresso gerion ti guidai salvo che faro ora presso piu a dio di questa fiamma stessi ben mille anni non ti potrebbe far dun capel calvo fatti ver lei e fatti far credenza con le tue mani al lembo di tuoi panni volgiti in qua e vieni entra sicurogtgt e io pur fermo e contra coscienza turbato un poco disse ltltor vedi figlio tra beatrice e te e questo murogtgt piramo in su la morte e riguardolla allor che l gelso divento vermiglio mi volsi al savio duca udendo il nome che ne la mente sempre mi rampolla volenci star di quagtgt indi sorrise come al fanciul si fa che vinto al pome pregando stazio che venisse retro che pria per lunga strada ci divise gittato mi sarei per rinfrescarmi tantera ivi lo ncendio sanza metro pur di beatrice ragionando andava dicendo ltltli occhi suoi gia veder parmigtgt di la e noi attenti pur a lei venimmo fuor la ove si montava sono dentro a un lume che li era tal che mi vinse e guardar nol potei non varrestate ma studiate il passo mentre che loccidente non si anneragtgt verso tal parte chio toglieva i raggi dinanzi a me del sol chera gia basso che l sol corcar per lombra che si spense sentimmo dietro e io e li miei saggi fosse orizzonte fatto duno aspetto e notte avesse tutte sue dispense che la natura del monte ci affranse la possa del salir piu e l diletto le capre state rapide e proterve sovra le cime avante che sien pranse guardate dal pastor che n su la verga poggiato se e lor di posa serve lungo il pecuglio suo queto pernotta guardando perche fiera non lo sperga io come capra ed ei come pastori fasciati quinci e quindi dalta grotta ma per quel poco vedea io le stelle di lor solere e piu chiare e maggiori mi prese il sonno il sonno che sovente anzi che l fatto sia sa le novelle prima raggio nel monte citerea che di foco damor par sempre ardente donna vedere andar per una landa cogliendo fiori e cantando dicea chi mi son lia e vo movendo intorno le belle mani a farmi una ghirlanda ma mia suora rachel mai non si smaga dal suo miraglio e siede tutto giorno comio de laddornarmi con le mani lei lo vedere e me lovrare appagagtgt che tanto a pellegrin surgon piu grati quanto tornando albergan men lontani e l sonno mio con esse ondio levami veggendo i gran maestri gia levati cercando va la cura de mortali oggi porra in pace le tue famigtgt parole uso e mai non furo strenne che fosser di piacere a queste iguali de lesser su chad ogne passo poi al volo mi sentia crescer le penne fu corsa e fummo in su l grado superno in me ficco virgilio li occhi suoi veduto hai figlio e se venuto in parte dovio per me piu oltre non discerno lo tuo piacere omai prendi per duce fuor se de lerte vie fuor se de larte vedi lerbette i fiori e li arbuscelli che qui la terra sol da se produce che lagrimando a te venir mi fenno seder ti puoi e puoi andar tra elli libero dritto e sano e tuo arbitrio e fallo fora non fare a suo senno la divina foresta spessa e viva cha li occhi temperava il novo giorno prendendo la campagna lento lento su per lo suol che dogne parte auliva avere in se mi feria per la fronte non di piu colpo che soave vento tutte quante piegavano a la parte u la primombra gitta il santo monte tanto che li augelletti per le cime lasciasser doperare ogne lor arte cantando ricevieno intra le foglie che tenevan bordone a le sue rime per la pineta in su l lito di chiassi quandeolo scilocco fuor discioglie dentro a la selva antica tanto chio non potea rivedere ondio mi ntrassi che nver sinistra con sue picciole onde piegava lerba che n sua ripa uscio parrieno avere in se mistura alcuna verso di quella che nulla nasconde sotto lombra perpetua che mai raggiar non lascia sole ivi ne luna di la dal fiumicello per mirare la gran variazion di freschi mai subitamente cosa che disvia per maraviglia tutto altro pensare e cantando e scegliendo fior da fiore ondera pinta tutta la sua via ti scaldi si vo credere a sembianti che soglion esser testimon del core dissio a lei ltltverso questa rivera tanto chio possa intender che tu canti proserpina nel tempo che perdette la madre lei ed ella primaveragtgt a terra e intra se donna che balli e piede innanzi piede a pena mette fioretti verso me non altrimenti che vergine che li occhi onesti avvalli si appressando se che l dolce suono veniva a me co suoi intendimenti bagnate gia da londe del bel fiume di levar li occhi suoi mi fece dono sotto le ciglia a venere trafitta dal figlio fuor di tutto suo costume trattando piu color con le sue mani che lalta terra sanza seme gitta ma elesponto la ve passo serse ancora freno a tutti orgogli umani per mareggiare intra sesto e abido che quel da me perchallor non saperse comincio ella ltltin questo luogo eletto a lumana natura per suo nido ma luce rende il salmo delectasti che puote disnebbiar vostro intelletto di saltro vuoli udir chi venni presta ad ogne tua question tanto che bastigtgt impugnan dentro a me novella fede di cosa chio udi contraria a questagtgt per sua cagion cio chammirar ti face e purghero la nebbia che ti fiede fe luom buono e a bene e questo loco diede per arra lui detterna pace per sua difalta in pianto e in affanno cambio onesto riso e dolce gioco lessalazion de lacqua e de la terra che quanto posson dietro al calor vanno questo monte salio verso l ciel tanto e libero ne dindi ove si serra laere si volge con la prima volta se non li e rotto il cerchio dalcun canto ne laere vivo tal moto percuote e fa sonar la selva perche folta che de la sua virtute laura impregna e quella poi girando intorno scuote per se e per suo ciel concepe e figlia di diverse virtu diverse legna udito questo quando alcuna pianta sanza seme palese vi sappiglia dove tu se dogne semenza e piena e frutto ha in se che di la non si schianta che ristori vapor che gel converta come fiume chacquista e perde lena che tanto dal voler di dio riprende quantella versa da due parti aperta che toglie altrui memoria del peccato da laltra dogne ben fatto la rende eunoe si chiama e non adopra se quinci e quindi pria non e gustato e avvegna chassai possa esser sazia la sete tua perchio piu non ti scuopra ne credo che l mio dir ti sia men caro se oltre promession teco si spazia leta de loro e suo stato felice forse in parnaso esto loco sognaro qui primavera sempre e ogne frutto nettare e questo di che ciascun dicegtgt a miei poeti e vidi che con riso udito avean lultimo costrutto continuo col fin di sue parole beati quorum tecta sunt peccata per le salvatiche ombre disiando qual di veder qual di fuggir lo sole su per la riva e io pari di lei picciol passo con picciol seguitando quando le ripe igualmente dier volta per modo cha levante mi rendei quando la donna tutta a me si torse dicendo ltltfrate mio guarda e ascoltagtgt da tutte parti per la gran foresta tal che di balenar mi mise in forse e quel durando piu e piu splendeva nel mio pensier dicea che cosa e questa per laere luminoso onde buon zelo mi fe riprender lardimento deva femmina sola e pur teste formata non sofferse di star sotto alcun velo avrei quelle ineffabili delizie sentite prima e piu lunga fiata de letterno piacer tutto sospeso e disioso ancora a piu letizie ci si fe laere sotto i verdi rami e l dolce suon per canti era gia inteso freddi o vigilie mai per voi soffersi cagion mi sprona chio merce vi chiami e uranie maiuti col suo coro forti cose a pensar mettere in versi falsava nel parere il lungo tratto del mezzo chera ancor tra noi e loro che lobietto comun che l senso inganna non perdea per distanza alcun suo atto si comelli eran candelabri apprese e ne le voci del cantare osanna piu chiaro assai che luna per sereno di mezza notte nel suo mezzo mese al buon virgilio ed esso mi rispuose con vista carca di stupor non meno che si movieno incontra noi si tardi che foran vinte da novelle spose si ne laffetto de le vive luci e cio che vien di retro a lor non guardigtgt venire appresso vestite di bianco e tal candor di qua gia mai non fuci e rendea me la mia sinistra costa sio riguardava in lei come specchio anco che solo il fiume mi facea distante per veder meglio ai passi diedi sosta lasciando dietro a se laere dipinto e di tratti pennelli avean sembiante di sette liste tutte in quei colori onde fa larco il sole e delia il cinto che la mia vista e quanto a mio avviso diece passi distavan quei di fori ventiquattro seniori a due a due coronati venien di fiordaliso ne le figlie dadamo e benedette sieno in etterno le bellezze tuegtgt a rimpetto di me da laltra sponda libere fuor da quelle genti elette vennero appresso lor quattro animali coronati ciascun di verde fronda le penne piene docchi e li occhi dargo se fosser vivi sarebber cotali rime lettor chaltra spesa mi strigne tanto cha questa non posso esser largo come li vide da la fredda parte venir con vento e con nube e con igne tali eran quivi salvo cha le penne giovanni e meco e da lui si diparte un carro in su due rote triunfale chal collo dun grifon tirato venne tra la mezzana e le tre e tre liste si cha nulla fendendo facea male le membra doro avea quantera uccello e bianche laltre di vermiglio miste rallegrasse affricano o vero augusto ma quel del sol saria pover con ello per lorazion de la terra devota quando fu giove arcanamente giusto venian danzando luna tanto rossa cha pena fora dentro al foco nota fossero state di smeraldo fatte la terza parea neve teste mossa or da la rossa e dal canto di questa laltre toglien landare e tarde e ratte in porpore vestite dietro al modo duna di lor chavea tre occhi in testa vidi due vecchi in abito dispari ma pari in atto e onesto e sodo di quel sommo ipocrate che natura a li animali fe chellha piu cari con una spada lucida e aguta tal che di qua dal rio mi fe paura e di retro da tutti un vecchio solo venir dormendo con la faccia arguta erano abituati ma di gigli dintorno al capo non facean brolo giurato avria poco lontano aspetto che tutti ardesser di sopra da cigli un tuon sudi e quelle genti degne parvero aver landar piu interdetto che ne occaso mai seppe ne orto ne daltra nebbia che di colpa velo di suo dover come l piu basso face qual temon gira per venire a porto venuta prima tra l grifone ed esso al carro volse se come a sua pace veni sponsa de libano cantando grido tre volte e tutti li altri appresso surgeran presti ognun di sua caverna la revestita voce alleluiando si levar cento ad vocem tanti senis ministri e messaggier di vita etterna e fior gittando e di sopra e dintorno manibus oh date lilia plenis la parte oriental tutta rosata e laltro ciel di bel sereno addorno si che per temperanza di vapori locchio la sostenea lunga fiata che da le mani angeliche saliva e ricadeva in giu dentro e di fori donna mapparve sotto verde manto vestita di color di fiamma viva tempo era stato cha la sua presenza non era di stupor tremando affranto per occulta virtu che da lei mosse dantico amor senti la gran potenza lalta virtu che gia mavea trafitto prima chio fuor di puerizia fosse col quale il fantolin corre a la mamma quando ha paura o quando elli e afflitto di sangue me rimaso che non tremi conosco i segni de lantica fiamma di se virgilio dolcissimo patre virgilio a cui per mia salute diemi valse a le guance nette di rugiada che lagrimando non tornasser atre non pianger anco non pianger ancora che pianger ti conven per altra spadagtgt viene a veder la gente che ministra per li altri legni e a ben far lincora quando mi volsi al suon del nome mio che di necessita qui si registra velata sotto langelica festa drizzar li occhi ver me di qua dal rio cerchiato de le fronde di minerva non la lasciasse parer manifesta continuo come colui che dice e l piu caldo parlar dietro reserva come degnasti daccedere al monte non sapei tu che qui e luom felicegtgt ma veggendomi in esso i trassi a lerba tanta vergogna mi gravo la fronte comella parve a me perche damaro sente il sapor de la pietade acerba di subito in te domine speravi ma oltre pedes meos non passaro per lo dosso ditalia si congela soffiata e stretta da li venti schiavi pur che la terra che perde ombra spiri si che par foco fonder la candela anzi l cantar di quei che notan sempre dietro a le note de li etterni giri lor compatire a me par che se detto avesser donna perche si lo stempre spirito e acqua fessi e con angoscia de la bocca e de li occhi usci del petto del carro stando a le sustanze pie volse le sue parole cosi poscia si che notte ne sonno a voi non fura passo che faccia il secol per sue vie che mintenda colui che di la piagne perche sia colpa e duol duna misura che drizzan ciascun seme ad alcun fine secondo che le stelle son compagne che si alti vapori hanno a lor piova che nostre viste la non van vicine virtualmente chogne abito destro fatto averebbe in lui mirabil prova si fa l terren col mal seme e non colto quantelli ha piu di buon vigor terrestro mostrando li occhi giovanetti a lui meco il menava in dritta parte volto di mia seconda etade e mutai vita questi si tolse a me e diessi altrui e bellezza e virtu cresciuta mera fu io a lui men cara e men gradita imagini di ben seguendo false che nulla promession rendono intera con le quali e in sogno e altrimenti lo rivocai si poco a lui ne calse a la salute sua eran gia corti fuor che mostrarli le perdute genti e a colui che lha qua su condotto li prieghi miei piangendo furon porti se lete si passasse e tal vivanda fosse gustata sanza alcuno scotto volgendo suo parlare a me per punta che pur per taglio mera paruto acro ltltdi di se questo e vero a tanta accusa tua confession conviene esser congiuntagtgt che la voce si mosse e pria si spense che da li organi suoi fosse dischiusa rispondi a me che le memorie triste in te non sono ancor da lacqua offensegtgt mi pinsero un tal ltltsigtgt fuor de la bocca al quale intender fuor mestier le viste da troppa tesa la sua corda e larco e con men foga lasta il segno tocca fuori sgorgando lagrime e sospiri e la voce allento per lo suo varco che ti menavano ad amar lo bene di la dal qual non e a che saspiri trovasti per che del passare innanzi dovessiti cosi spogliar la spene ne la fronte de li altri si mostraro per che dovessi lor passeggiare anzigtgt a pena ebbi la voce che rispuose e le labbra a fatica la formaro col falso lor piacer volser miei passi tosto che l vostro viso si nascosegtgt cio che confessi non fora men nota la colpa tua da tal giudice sassi laccusa del peccato in nostra corte rivolge se contra l taglio la rota del tuo errore e perche altra volta udendo le serene sie piu forte si udirai come in contraria parte mover dovieti mia carne sepolta piacer quanto le belle membra in chio rinchiusa fui e che so n terra sparte per la mia morte qual cosa mortale dovea poi trarre te nel suo disio de le cose fallaci levar suso di retro a me che non era piu tale ad aspettar piu colpo o pargoletta o altra vanita con si breve uso ma dinanzi da li occhi di pennuti rete si spiega indarno o si saettagtgt con li occhi a terra stannosi ascoltando e se riconoscendo e ripentuti per udir se dolente alza la barba e prenderai piu doglia riguardandogtgt robusto cerro o vero al nostral vento o vero a quel de la terra di iarba e quando per la barba il viso chiese ben conobbi il velen de largomento posarsi quelle prime creature da loro aspersion locchio comprese vider beatrice volta in su la fiera che sola una persona in due nature vincer pariemi piu se stessa antica vincer che laltre qui quandella cera che di tutte altre cose qual mi torse piu nel suo amor piu mi si fe nemica chio caddi vinto e quale allora femmi salsi colei che la cagion mi porse la donna chio avea trovata sola sopra me vidi e dicea ltlttiemmi tiemmigtgt e tirandosi me dietro sen giva sovresso lacqua lieve come scola asperges me si dolcemente udissi che nol so rimembrar non chio lo scriva abbracciommi la testa e mi sommerse ove convenne chio lacqua inghiottissi dentro a la danza de le quattro belle e ciascuna del braccio mi coperse pria che beatrice discendesse al mondo fummo ordinate a lei per sue ancelle lume che dentro aguzzeranno i tuoi le tre di la che miran piu profondogtgt al petto del grifon seco menarmi ove beatrice stava volta a noi posto tavem dinanzi a li smeraldi ondamor gia ti trasse le sue armigtgt strinsermi li occhi a li occhi rilucenti che pur sopra l grifone stavan saldi la doppia fiera dentro vi raggiava or con altri or con altri reggimenti quando vedea la cosa in se star queta e ne lidolo suo si trasmutava lanima mia gustava di quel cibo che saziando di se di se asseta ne li atti laltre tre si fero avanti danzando al loro angelico caribo era la sua canzone ltltal tuo fedele che per vederti ha mossi passi tanti a lui la bocca tua si che discerna la seconda bellezza che tu celegtgt chi palido si fece sotto lombra si di parnaso o bevve in sua cisterna tentando a render te qual tu paresti la dove armonizzando il ciel tadombra a disbramarsi la decenne sete che li altri sensi meran tutti spenti di non caler cosi lo santo riso a se traeli con lantica rete ver la sinistra mia da quelle dee perchio udi da loro un ltlttroppo fisogtgt ne li occhi pur teste dal sol percossi sanza la vista alquanto esser mi fee e dico al poco per rispetto al molto sensibile onde a forza mi rimossi lo glorioso essercito e tornarsi col sole e con le sette fiamme al volto volgesi schiera e se gira col segno prima che possa tutta in se mutarsi che procedeva tutta trapassonne pria che piegasse il carro il primo legno e l grifon mosse il benedetto carco si che pero nulla penna crollonne e stazio e io seguitavam la rota che fe lorbita sua con minore arco colpa di quella chal serpente crese temprava i passi unangelica nota disfrenata saetta quanto eramo rimossi quando beatrice scese poi cerchiaro una pianta dispogliata di foglie e daltra fronda in ciascun ramo piu quanto piu e su fora da lindi ne boschi lor per altezza ammirata col becco desto legno dolce al gusto poscia che mal si torce il ventre quindigtgt gridaron li altri e lanimal binato ltltsi si conserva il seme dogne giustogtgt trasselo al pie de la vedova frasca e quel di lei a lei lascio legato giu la gran luce mischiata con quella che raggia dietro a la celeste lasca di suo color ciascuna pria che l sole giunga li suoi corsier sotto altra stella colore aprendo sinnovo la pianta che prima avea le ramora si sole linno che quella gente allor cantaro ne la nota soffersi tutta quanta li occhi spietati udendo di siringa li occhi a cui pur vegghiar costo si caro disegnerei comio maddormentai ma qual vuol sia che lassonnar ben finga e dico chun splendor mi squarcio l velo del sonno e un chiamar ltltsurgi che faigtgt che del suo pome li angeli fa ghiotti e perpetue nozze fa nel cielo e vinti ritornaro a la parola da la qual furon maggior sonni rotti cosi di moise come delia e al maestro suo cangiata stola sovra me starsi che conducitrice fu de miei passi lungo l fiume pria ondella ltltvedi lei sotto la fronda nova sedere in su la sua radice li altri dopo l grifon sen vanno suso con piu dolce canzone e piu profondagtgt non so pero che gia ne li occhi mera quella chad altro intender mavea chiuso come guardia lasciata li del plaustro che legar vidi a la biforme fera le sette ninfe con quei lumi in mano che son sicuri daquilone e daustro e sarai meco sanza fine cive di quella roma onde cristo e romano al carro tieni or li occhi e quel che vedi ritornato di la fa che tu scrivegtgt di suoi comandamenti era divoto la mente e li occhi ovella volle diedi foco di spessa nube quando piove da quel confine che piu va remoto per lalber giu rompendo de la scorza non che di fiori e de le foglie nove ondel piego come nave in fortuna vinta da londa or da poggia or da orza del triunfal veiculo una volpe che dogne pasto buon parea digiuna la donna mia la volse in tanta futa quanto sofferser lossa sanza polpe laguglia vidi scender giu ne larca del carro e lasciar lei di se pennuta tal voce usci del cielo e cotal disse ltlto navicella mia commal se carcagtgt trambo le ruote e vidi uscirne un drago che per lo carro su la coda fisse a se traendo la coda maligna trasse del fondo e gissen vago vago vivace terra da la piuma offerta forse con intenzion sana e benigna e luna e laltra rota e l temo in tanto che piu tiene un sospir la bocca aperta mise fuor teste per le parti sue tre sovra l temo e una in ciascun canto ma le quattro un sol corno avean per fronte simile mostro visto ancor non fue seder sovresso una puttana sciolta mapparve con le ciglia intorno pronte vidi di costa a lei dritto un gigante e baciavansi insieme alcuna volta a me rivolse quel feroce drudo la flagello dal capo infin le piante disciolse il mostro e trassel per la selva tanto che sol di lei mi fece scudo or tre or quattro dolce salmodia le donne incominciaro e lagrimando quelle ascoltava si fatta che poco piu a la croce si cambio maria a lei di dir levata dritta in pe rispuose colorata come foco et iterum sorelle mie dilette modicum et vos videbitis me e dopo se solo accennando mosse me e la donna e l savio che ristette lo decimo suo passo in terra posto quando con li occhi li occhi mi percosse mi disse ltlttanto che sio parlo teco ad ascoltarmi tu sie ben dispostogtgt dissemi ltltfrate perche non tattenti a domandarmi omai venendo mecogtgt dinanzi a suo maggior parlando sono che non traggon la voce viva ai denti incominciai ltltmadonna mia bisogna voi conoscete e cio chad essa e buonogtgt voglio che tu omai ti disviluppe si che non parli piu comom che sogna fu e non e ma chi nha colpa creda che vendetta di dio non teme suppe laguglia che lascio le penne al carro per che divenne mostro e poscia preda a darne tempo gia stelle propinque secure dognintoppo e dogni sbarro messo di dio ancidera la fuia con quel gigante che con lei delinque qual temi e sfinge men ti persuade percha lor modo lo ntelletto attuia che solveranno questo enigma forte sanza danno di pecore o di biade cosi queste parole segna a vivi del viver che un correre a la morte di non celar qual hai vista la pianta che or due volte dirubata quivi con bestemmia di fatto offende a dio che solo a luso suo la creo santa cinquemilia anni e piu lanima prima bramo colui che l morso in se punio per singular cagione esser eccelsa lei tanto e si travolta ne la cima li pensier vani intorno a la tua mente e l piacer loro un piramo a la gelsa la giustizia di dio ne linterdetto conosceresti a larbor moralmente fatto di pietra e impetrato tinto si che tabbaglia il lume del mio detto che l te ne porti dentro a te per quello che si reca il bordon di palma cintogtgt che la figura impressa non trasmuta segnato e or da voi lo mio cervello vostra parola disiata vola che piu la perde quanto piu saiutagtgt chai seguitata e veggi sua dottrina come puo seguitar la mia parola distar cotanto quanto si discorda da terra il ciel che piu alto festinagtgt chi straniasse me gia mai da voi ne honne coscienza che rimordagtgt sorridendo rispuose ltltor ti rammenta come bevesti di lete ancoi cotesta oblivion chiaro conchiude colpa ne la tua voglia altrove attenta le mie parole quanto converrassi quelle scovrire a la tua vista rudegtgt teneva il sole il cerchio di merigge che qua e la come li aspetti fassi chi va dinanzi a gente per iscorta se trova novitate o sue vestigge qual sotto foglie verdi e rami nigri sovra suoi freddi rivi lalpe porta veder mi parve uscir duna fontana e quasi amici dipartirsi pigri che acqua e questa che qui si dispiega da un principio e se da se lontanagtgt matelda che l ti dicagtgt e qui rispuose come fa chi da colpa si dislega dette li son per me e son sicura che lacqua di lete non gliel nascosegtgt che spesse volte la memoria priva fattha la mente sua ne li occhi oscura menalo ad esso e come tu se usa la tramortita sua virtu ravvivagtgt ma fa sua voglia de la voglia altrui tosto che e per segno fuor dischiusa la bella donna mossesi e a stazio donnescamente disse ltltvien con luigtgt da scrivere i pur cantere in parte lo dolce ber che mai non mavria sazio ordite a questa cantica seconda non mi lascia piu ir lo fren de larte rifatto si come piante novelle rinnovellate di novella fronda la divina commedia di dante alighieri etext courtesy progetto manuzio per luniverso penetra e risplende in una parte piu e meno altrove fu io e vidi cose che ridire ne sa ne puo chi di la su discende nostro intelletto si profonda tanto che dietro la memoria non puo ire ne la mia mente potei far tesoro sara ora materia del mio canto fammi del tuo valor si fatto vaso come dimandi a dar lamato alloro assai mi fu ma or con amendue me uopo intrar ne laringo rimaso si come quando marsia traesti de la vagina de le membra sue tanto che lombra del beato regno segnata nel mio capo io manifesti venire e coronarmi de le foglie che la materia e tu mi farai degno per triunfare o cesare o poeta colpa e vergogna de lumane voglie delfica deita dovria la fronda peneia quando alcun di se asseta forse di retro a me con miglior voci si preghera perche cirra risponda la lucerna del mondo ma da quella che quattro cerchi giugne con tre croci esce congiunta e la mondana cera piu a suo modo tempera e suggella tal foce e quasi tutto era la bianco quello emisperio e laltra parte nera vidi rivolta e riguardar nel sole aquila si non li saffisse unquanco uscir del primo e risalire in suso pur come pelegrin che tornar vuole ne limagine mia il mio si fece e fissi li occhi al sole oltre nostruso a le nostre virtu merce del loco fatto per proprio de lumana spece chio nol vedessi sfavillar dintorno comferro che bogliente esce del foco essere aggiunto come quei che puote avesse il ciel dun altro sole addorno fissa con li occhi stava e io in lei le luci fissi di la su rimote qual si fe glauco nel gustar de lerba che l fe consorto in mar de li altri dei non si poria pero lessemplo basti a cui esperienza grazia serba novellamente amor che l ciel governi tu l sai che col tuo lume mi levasti desiderato a se mi fece atteso con larmonia che temperi e discerni de la fiamma del sol che pioggia o fiume lago non fece alcun tanto disteso di lor cagion maccesero un disio mai non sentito di cotanto acume a quietarmi lanimo commosso pria chio a dimandar la bocca aprio col falso imaginar si che non vedi cio che vedresti se lavessi scosso ma folgore fuggendo il proprio sito non corse come tu chad esso riedigtgt per le sorrise parolette brevi dentro ad un nuovo piu fu inretito di grande ammirazion ma ora ammiro comio trascenda questi corpi levigtgt li occhi drizzo ver me con quel sembiante che madre fa sovra figlio deliro hanno ordine tra loro e questo e forma che luniverso a dio fa simigliante de letterno valore il qual e fine al quale e fatta la toccata norma tutte nature per diverse sorti piu al principio loro e men vicine per lo gran mar de lessere e ciascuna con istinto a lei dato che la porti questi ne cor mortali e permotore questi la terra in se stringe e aduna dintelligenza questarco saetta ma quelle channo intelletto e amore del suo lume fa l ciel sempre quieto nel qual si volge quel cha maggior fretta cen porta la virtu di quella corda che cio che scocca drizza in segno lieto molte fiate a lintenzion de larte percha risponder la materia e sorda talor la creatura cha podere di piegar cosi pinta in altra parte foco di nube si limpeto primo latterra torto da falso piacere lo tuo salir se non come dun rivo se dalto monte scende giuso ad imo dimpedimento giu ti fossi assiso coma terra quiete in foco vivogtgt desiderosi dascoltar seguiti dietro al mio legno che cantando varca non vi mettete in pelago che forse perdendo me rimarreste smarriti minerva spira e conducemi appollo e nove muse mi dimostran lorse per tempo al pan de li angeli del quale vivesi qui ma non sen vien satollo vostro navigio servando mio solco dinanzi a lacqua che ritorna equale non sammiraron come voi farete quando iason vider fatto bifolco del deiforme regno cen portava veloci quasi come l ciel vedete e forse in tanto in quanto un quadrel posa e vola e da la noce si dischiava mi torse il viso a se e pero quella cui non potea mia cura essere ascosa ltltdrizza la mente in dio gratagtgt mi disse ltltche nha congiunti con la prima stellagtgt lucida spessa solida e pulita quasi adamante che lo sol ferisse ne ricevette comacqua recepe raggio di luce permanendo unita comuna dimensione altra patio chesser convien se corpo in corpo repe di veder quella essenza in che si vede come nostra natura e dio sunio non dimostrato ma fia per se noto a guisa del ver primo che luom crede comesser posso piu ringrazio lui lo qual dal mortal mondo mha remoto di questo corpo che la giuso in terra fan di cain favoleggiare altruigtgt loppiniongtgt mi disse ltltdi mortali dove chiave di senso non diserra dammirazione omai poi dietro ai sensi vedi che la ragione ha corte lali e io ltltcio che nappar qua su diverso credo che fanno i corpi rari e densigtgt nel falso il creder tuo se bene ascolti largomentar chio li faro avverso lumi li quali e nel quale e nel quanto notar si posson di diversi volti una sola virtu sarebbe in tutti piu e men distributa e altrettanto di principi formali e quei for chuno seguiterieno a tua ragion distrutti cagion che tu dimandi o doltre in parte fora di sua materia si digiuno lo grasso e l magro un corpo cosi questo nel suo volume cangerebbe carte ne leclissi del sol per trasparere lo lume come in altro raro ingesto de laltro e selli avvien chio laltro cassi falsificato fia lo tuo parere esser conviene un termine da onde lo suo contrario piu passar non lassi cosi come color torna per vetro lo qual di retro a se piombo nasconde ivi lo raggio piu che in altre parti per esser li refratto piu a retro esperienza se gia mai la provi chesser suol fonte ai rivi di vostrarti da te dun modo e laltro piu rimosso trambo li primi li occhi tuoi ritrovi ti stea un lume che i tre specchi accenda e torni a te da tutti ripercosso la vista piu lontana li vedrai come convien chigualmente risplenda de la neve riman nudo il suggetto e dal colore e dal freddo primai voglio informar di luce si vivace che ti tremolera nel suo aspetto si gira un corpo ne la cui virtute lesser di tutto suo contento giace quellesser parte per diverse essenze da lui distratte e da lui contenute le distinzion che dentro da se hanno dispongono a lor fini e lor semenze come tu vedi omai di grado in grado che di su prendono e di sotto fanno per questo loco al vero che disiri si che poi sappi sol tener lo guado come dal fabbro larte del martello da beati motor convien che spiri de la mente profonda che lui volve prende limage e fassene suggello per differenti membra e conformate a diverse potenze si risolve multiplicata per le stelle spiega girando se sovra sua unitate col prezioso corpo chella avviva nel qual si come vita in voi si lega la virtu mista per lo corpo luce come letizia per pupilla viva par differente non da denso e raro essa e formal principio che produce di bella verita mavea scoverto provando e riprovando il dolce aspetto me stesso tanto quanto si convenne leva il capo a proferer piu erto a se me tanto stretto per vedersi che di mia confession non mi sovvenne o ver per acque nitide e tranquille non si profonde che i fondi sien persi debili si che perla in bianca fronte non vien men forte a le nostre pupille per chio dentro a lerror contrario corsi a quel chaccese amor tra lomo e l fonte quelle stimando specchiati sembianti per veder di cui fosser li occhi torsi dritti nel lume de la dolce guida che sorridendo ardea ne li occhi santi mi disse ltltappresso il tuo pueril coto poi sopra l vero ancor lo pie non fida vere sustanze son cio che tu vedi qui rilegate per manco di voto che la verace luce che li appaga da se non lascia lor torcer li piedigtgt di ragionar drizzami e cominciai quasi comuom cui troppa voglia smaga di vita etterna la dolcezza senti che non gustata non sintende mai del nome tuo e de la vostra sortegtgt ondella pronta e con occhi ridenti a giusta voglia se non come quella che vuol simile a se tutta sua corte e se la mente tua ben se riguarda non mi ti celera lesser piu bella che posta qui con questi altri beati beata sono in la spera piu tarda son nel piacer de lo spirito santo letizian del suo ordine formati pero ne data perche fuor negletti li nostri voti e voti in alcun cantogtgt vostri risplende non so che divino che vi trasmuta da primi concetti ma or maiuta cio che tu mi dici si che raffigurar me piu latino disiderate voi piu alto loco per piu vedere e per piu farvi amicigtgt da indi mi rispuose tanto lieta charder parea damor nel primo foco virtu di carita che fa volerne sol quel chavemo e daltro non ci asseta foran discordi li nostri disiri dal voler di colui che qui ne cerne sessere in carita e qui necesse e se la sua natura ben rimiri tenersi dentro a la divina voglia per chuna fansi nostre voglie stesse per questo regno a tutto il regno piace coma lo re che n suo voler ne nvoglia elle quel mare al qual tutto si move cio chella cria o che natura facegtgt in cielo e paradiso etsi la grazia del sommo ben dun modo non vi piove e dun altro rimane ancor la gola che quel si chere e di quel si ringrazia per apprender da lei qual fu la tela onde non trasse infino a co la spuola donna piu sugtgt mi disse ltlta la cui norma nel vostro mondo giu si veste e vela con quello sposo chogne voto accetta che caritate a suo piacer conforma fuggimi e nel suo abito mi chiusi e promisi la via de la sua setta fuor mi rapiron de la dolce chiostra iddio si sa qual poi mia vita fusi da la mia destra parte e che saccende di tutto il lume de la spera nostra sorella fu e cosi le fu tolta di capo lombra de le sacre bende contra suo grado e contra buona usanza non fu dal vel del cor gia mai disciolta che del secondo vento di soave genero l terzo e lultima possanzagtgt maria cantando e cantando vanio come per acqua cupa cosa grave quanto possibil fu poi che la perse volsesi al segno di maggior disio ma quella folgoro nel mio sguardo si che da prima il viso non sofferse dun modo prima si morria di fame che liberomo lun recasse ai denti di fieri lupi igualmente temendo si si starebbe un cane intra due dame da li miei dubbi dun modo sospinto poi chera necessario ne commendo mera nel viso e l dimandar con ello piu caldo assai che per parlar distinto nabuccodonosor levando dira che lavea fatto ingiustamente fello uno e altro disio si che tua cura se stessa lega si che fuor non spira la violenza altrui per qual ragione di meritar mi scema la misura parer tornarsi lanime a le stelle secondo la sentenza di platone pontano igualmente e pero pria trattero quella che piu ha di felle moise samuel e quel giovanni che prender vuoli io dico non maria che questi spirti che mo tappariro ne hanno a lesser lor piu o meno anni e differentemente han dolce vita per sentir piu e men letterno spiro sia questa spera lor ma per far segno de la celestial cha men salita pero che solo da sensato apprende cio che fa poscia dintelletto degno a vostra facultate e piedi e mano attribuisce a dio e altro intende gabriel e michel vi rappresenta e laltro che tobia rifece sano non e simile a cio che qui si vede pero che come dice par che senta credendo quella quindi esser decisa quando natura per forma la diede che la voce non suona ed esser puote con intenzion da non esser derisa lonor de la influenza e l biasmo forse in alcun vero suo arco percuote gia tutto il mondo quasi si che giove mercurio e marte a nominar trascorse ha men velen pero che sua malizia non ti poria menar da me altrove ne li occhi di mortali e argomento di fede e non deretica nequizia ben penetrare a questa veritate come disiri ti faro contento niente conferisce a quel che sforza non fuor questalme per essa scusate ma fa come natura face in foco se mille volte violenza il torza segue la forza e cosi queste fero possendo rifuggir nel santo loco come tenne lorenzo in su la grada e fece muzio a la sua man severo onderan tratte come fuoro sciolte ma cosi salda voglia e troppo rada lhai come dei e largomento casso che tavria fatto noia ancor piu volte dinanzi a li occhi tal che per te stesso non usciresti pria saresti lasso chalma beata non poria mentire pero che sempre al primo vero appresso che laffezion del vel costanza tenne si chella par qui meco contradire che per fuggir periglio contra grato si fe di quel che far non si convenne dal padre suo la propria madre spense per non perder pieta si fe spietato che la forza al voler si mischia e fanno si che scusar non si posson loffense ma consentevi in tanto in quanto teme se si ritrae cadere in piu affanno de la voglia assoluta intende e io de laltra si che ver diciamo insiemegtgt chusci del fonte ondogne ver deriva tal puose in pace uno e altro disio dissio appresso ltltil cui parlar minonda e scalda si che piu e piu mavviva che basti a render voi grazia per grazia ma quei che vede e puote a cio risponda nostro intelletto se l ver non lo illustra di fuor dal qual nessun vero si spazia tosto che giunto lha e giugner puollo se non ciascun disio sarebbe frustra a pie del vero il dubbio ed e natura chal sommo pinge noi di collo in collo con reverenza donna a dimandarvi dunaltra verita che me oscura ai voti manchi si con altri beni cha la vostra statera non sien parvigtgt di faville damor cosi divini che vinta mia virtute die le reni di la dal modo che n terra si vede si che del viso tuo vinco il valore da perfetto veder che come apprende cosi nel bene appreso move il piede ne lintelletto tuo letterna luce che vista sola e sempre amore accende non e se non di quella alcun vestigio mal conosciuto che quivi traluce per manco voto si puo render tanto che lanima sicuri di letigiogtgt e si comuom che suo parlar non spezza continuo cosi l processo santo fesse creando e a la sua bontate piu conformato e quel che piu apprezza di che le creature intelligenti e tutte e sole fuoro e son dotate lalto valor del voto se si fatto che dio consenta quando tu consenti vittima fassi di questo tesoro tal quale io dico e fassi col suo atto se credi bene usar quel chai offerto di maltolletto vuo far buon lavoro ma perche santa chiesa in cio dispensa che par contra lo ver chi tho scoverto pero che l cibo rigido chai preso richiede ancora aiuto a tua dispensa e fermalvi entro che non fa scienza sanza lo ritenere avere inteso di questo sacrificio luna e quella di che si fa laltre la convenenza se non servata e intorno di lei si preciso di sopra si favella pur lofferere ancor chalcuna offerta si permutasse come saver dei puote ben esser tal che non si falla se con altra materia si converta per suo arbitrio alcun sanza la volta e de la chiave bianca e de la gialla se la cosa dimessa in la sorpresa come l quattro nel sei non e raccolta per suo valor che tragga ogne bilancia sodisfar non si puo con altra spesa siate fedeli e a cio far non bieci come iepte a la sua prima mancia che servando far peggio e cosi stolto ritrovar puoi il gran duca de greci e fe pianger di se i folli e i savi chudir parlar di cosi fatto colto non siate come penna ad ogne vento e non crediate chogne acqua vi lavi e l pastor de la chiesa che vi guida questo vi basti a vostro salvamento uomini siate e non pecore matte si che l giudeo di voi tra voi non rida de la sua madre e semplice e lascivo seco medesmo a suo piacer combattegtgt poi si rivolse tutta disiante a quella parte ove l mondo e piu vivo puoser silenzio al mio cupido ingegno che gia nuove questioni avea davante percuote pria che sia la corda queta cosi corremmo nel secondo regno come nel lume di quel ciel si mise che piu lucente se ne fe l pianeta qual mi fecio che pur da mia natura trasmutabile son per tutte guise traggonsi i pesci a cio che vien di fori per modo che lo stimin lor pastura trarsi ver noi e in ciascun sudia ltltecco chi crescera li nostri amorigtgt vedeasi lombra piena di letizia nel folgor chiaro che di lei uscia non procedesse come tu avresti di piu savere angosciosa carizia mera in disio dudir lor condizioni si come a li occhi mi fur manifesti del triunfo etternal concede grazia prima che la milizia sabbandoni noi semo accesi e pero se disii di noi chiarirti a tuo piacer ti saziagtgt detto mi fu e da beatrice ltltdi di sicuramente e credi come a diigtgt nel proprio lume e che de li occhi il traggi perche corusca si come tu ridi anima degna il grado de la spera che si vela a mortai con altrui raggigtgt che pria mavea parlato ondella fessi lucente piu assai di quel chellera per troppa luce come l caldo ha rose le temperanze di vapori spessi dentro al suo raggio la figura santa e cosi chiusa chiusa mi rispuose contral corso del ciel chella seguio dietro a lantico che lavina tolse ne lo stremo deuropa si ritenne vicino a monti de quai prima uscio governo l mondo li di mano in mano e si cangiando in su la mia pervenne che per voler del primo amor chi sento dentro le leggi trassi il troppo e l vano una natura in cristo esser non piue credea e di tal fede era contento sommo pastore a la fede sincera mi dirizzo con le parole sue veggio or chiaro si come tu vedi ogni contradizione e falsa e vera a dio per grazia piacque di spirarmi lalto lavoro e tutto n lui mi diedi cui la destra del ciel fu si congiunta che segno fu chi dovessi posarmi la mia risposta ma sua condizione mi stringe a seguitare alcuna giunta si move contral sacrosanto segno e chi l sappropria e chi a lui soppone di reverenza e comincio da lora che pallante mori per darli regno per trecento anni e oltre infino al fine che i tre a tre pugnar per lui ancora al dolor di lucrezia in sette regi vincendo intorno le genti vicine romani incontro a brenno incontro a pirro incontro a li altri principi e collegi negletto fu nomato i deci e fabi ebber la fama che volontier mirro che di retro ad annibale passaro lalpestre rocce po di che tu labi scipione e pompeo e a quel colle sotto l qual tu nascesti parve amaro redur lo mondo a suo modo sereno cesare per voler di roma il tolle isara vide ed era e vide senna e ogne valle onde rodano e pieno e salto rubicon fu di tal volo che nol seguiteria lingua ne penna poi ver durazzo e farsalia percosse si chal nil caldo si senti del duolo rivide e la dovettore si cuba e mal per tolomeo poscia si scosse onde si volse nel vostro occidente ove sentia la pompeana tuba bruto con cassio ne linferno latra e modena e perugia fu dolente che fuggendoli innanzi dal colubro la morte prese subitana e atra con costui puose il mondo in tanta pace che fu serrato a giano il suo delubro fatto avea prima e poi era fatturo per lo regno mortal cha lui soggiace se in mano al terzo cesare si mira con occhio chiaro e con affetto puro li concedette in mano a quel chi dico gloria di far vendetta a la sua ira poscia con tito a far vendetta corse de la vendetta del peccato antico la santa chiesa sotto le sue ali carlo magno vincendo la soccorse chio accusai di sopra e di lor falli che son cagion di tutti vostri mali oppone e laltro appropria quello a parte si che forte a veder chi piu si falli sottaltro segno che mal segue quello sempre chi la giustizia e lui diparte coi guelfi suoi ma tema de li artigli cha piu alto leon trasser lo vello per la colpa del padre e non si creda che dio trasmuti larme per suoi gigli di buoni spirti che son stati attivi perche onore e fama li succeda si disviando pur convien che i raggi del vero amore in su poggin men vivi col merto e parte di nostra letizia perche non li vedem minor ne maggi in noi laffetto si che non si puote torcer gia mai ad alcuna nequizia cosi diversi scanni in nostra vita rendon dolce armonia tra queste rote luce la luce di romeo di cui fu lovra grande e bella mal gradita non hanno riso e pero mal cammina qual si fa danno del ben fare altrui ramondo beringhiere e cio li fece romeo persona umile e peregrina a dimandar ragione a questo giusto che li assegno sette e cinque per diece e se l mondo sapesse il cor chelli ebbe mendicando sua vita a frusto a frusto superillustrans claritate tua felices ignes horum malacothgtgt fu viso a me cantare essa sustanza sopra la qual doppio lume saddua e quasi velocissime faville mi si velar di subita distanza fra me dille dicea a la mia donna che mi diseta con le dolci stille di tutto me pur per be e per ice mi richinava come luom chassonna e comincio raggiandomi dun riso tal che nel foco faria luom felice come giusta vendetta giustamente punita fosse tha in pensier miso e tu ascolta che le mie parole di gran sentenza ti faran presente freno a suo prode quelluom che non nacque dannando se danno tutta sua prole giu per secoli molti in grande errore fin chal verbo di dio discender piacque sera allungata uni a se in persona con latto sol del suo etterno amore questa natura al suo fattore unita qual fu creata fu sincera e buona di paradiso pero che si torse da via di verita e da sua vita sa la natura assunta si misura nulla gia mai si giustamente morse guardando a la persona che sofferse in che era contratta tal natura cha dio e a giudei piacque una morte per lei tremo la terra e l ciel saperse quando si dice che giusta vendetta poscia vengiata fu da giusta corte di pensiero in pensier dentro ad un nodo del qual con gran disio solver saspetta ma perche dio volesse me occulto a nostra redenzion pur questo modo a li occhi di ciascuno il cui ingegno ne la fiamma damor non e adulto molto si mira e poco si discerne diro perche tal modo fu piu degno ogne livore ardendo in se sfavilla si che dispiega le bellezze etterne non ha poi fine perche non si move la sua imprenta quandella sigilla libero e tutto perche non soggiace a la virtute de le cose nove che lardor santo chogne cosa raggia ne la piu somigliante e piu vivace lumana creatura e suna manca di sua nobilita convien che caggia e falla dissimile al sommo bene per che del lume suo poco simbianca se non riempie dove colpa vota contra mal dilettar con giuste pene nel seme suo da queste dignitadi come di paradiso fu remota ben sottilmente per alcuna via sanza passar per un di questi guadi dimesso avesse o che luom per se isso avesse sodisfatto a sua follia de letterno consiglio quanto puoi al mio parlar distrettamente fisso mai sodisfar per non potere ir giuso con umiltate obediendo poi e questa e la cagion per che luom fue da poter sodisfar per se dischiuso riparar lomo a sua intera vita dico con luna o ver con amendue da loperante quanto piu appresenta de la bonta del core ondelle uscita di proceder per tutte le sue vie a rilevarvi suso fu contenta si alto o si magnifico processo o per luna o per laltra fu o fie per far luom sufficiente a rilevarsi che selli avesse sol da se dimesso a la giustizia se l figliuol di dio non fosse umiliato ad incarnarsi ritorno a dichiararti in alcun loco perche tu veggi li cosi comio laere e la terra e tutte lor misture venire a corruzione e durar poco per che se cio che detto e stato vero esser dovrien da corruzion sicure nel qual tu se dir si posson creati si come sono in loro essere intero e quelle cose che di lor si fanno da creata virtu sono informati creata fu la virtu informante in queste stelle che ntorno a lor vanno di complession potenziata tira lo raggio e l moto de le luci sante la somma beninanza e la innamora di se si che poi sempre la disira vostra resurrezion se tu ripensi come lumana carne fessi allora che la bella ciprigna il folle amore raggiasse volta nel terzo epiciclo di sacrificio e di votivo grido le genti antiche ne lantico errore quella per madre sua questo per figlio e dicean chel sedette in grembo a dido pigliavano il vocabol de la stella che l sol vagheggia or da coppa or da ciglio ma desservi entro mi fe assai fede la donna mia chi vidi far piu bella e come in voce voce si discerne quanduna e ferma e altra va e riede muoversi in giro piu e men correnti al modo credo di lor viste interne o visibili o no tanto festini che non paressero impediti e lenti veduti a noi venir lasciando il giro pria cominciato in li alti serafini sonava osanna si che unque poi di riudir non fui sanza disiro e solo incomincio ltlttutti sem presti al tuo piacer perche di noi ti gioi dun giro e dun girare e duna sete ai quali tu del mondo gia dicesti e sem si pien damor che per piacerti non fia men dolce un poco di quietegtgt a la mia donna reverenti ed essa fatti li avea di se contenti e certi tanto savea e ltltdeh chi sietegtgt fue la voce mia di grande affetto impressa per allegrezza nova che saccrebbe quando parlai a lallegrezze sue giu poco tempo e se piu fosse stato molto sara di mal che non sarebbe che mi raggia dintorno e mi nasconde quasi animal di sua seta fasciato che sio fossi giu stato io ti mostrava di mio amor piu oltre che le fronde di rodano poi che misto con sorga per suo segnore a tempo maspettava di bari e di gaeta e di catona da ove tronto e verde in mare sgorga di quella terra che l danubio riga poi che le ripe tedesche abbandona tra pachino e peloro sopra l golfo che riceve da euro maggior briga attesi avrebbe li suoi regi ancora nati per me di carlo e di ridolfo li popoli suggetti non avesse mosso palermo a gridar mora mora lavara poverta di catalogna gia fuggeria perche non li offendesse per lui o per altrui si cha sua barca carcata piu dincarco non si pogna discese avria mestier di tal milizia che non curasse di mettere in arcagtgt che l tuo parlar minfonde segnor mio la ve ogne ben si termina e sinizia grata me piu e anco questho caro perche l discerni rimirando in dio poi che parlando a dubitar mhai mosso comesser puo di dolce seme amarogtgt mostrarti un vero a quel che tu dimandi terrai lo viso come tien lo dosso volge e contenta fa esser virtute sua provedenza in questi corpi grandi sono in la mente che da se perfetta ma esse insieme con la lor salute disposto cade a proveduto fine si come cosa in suo segno diretta producerebbe si li suoi effetti che non sarebbero arti ma ruine che muovon queste stelle non son manchi e manco il primo che non li ha perfetti e io ltltnon gia che impossibil veggio che la natura in quel che uopo stanchigtgt per lomo in terra se non fosse civegtgt ltltsigtgt rispuosio ltlte qui ragion non cheggiogtgt diversamente per diversi offici non se l maestro vostro ben vi scrivegtgt poscia conchiuse ltltdunque esser diverse convien di vostri effetti le radici altro melchisedech e altro quello che volando per laere il figlio perse a la cera mortal fa ben sua arte ma non distingue lun da laltro ostello per seme da iacob e vien quirino da si vil padre che si rende a marte simil farebbe sempre a generanti se non vincesse il proveder divino ma perche sappi che di te mi giova un corollario voglio che tammanti discorde a se comogne altra semente fuor di sua region fa mala prova al fondamento che natura pone seguendo lui avria buona la gente tal che fia nato a cignersi la spada e fate re di tal che da sermone mebbe chiarito mi narro li nganni che ricever dovea la sua semenza si chio non posso dir se non che pianto giusto verra di retro ai vostri danni rivolta sera al sol che la riempie come quel ben cha ogne cosa e tanto che da si fatto ben torcete i cuori drizzando in vanita le vostre tempie ver me si fece e l suo voler piacermi significava nel chiarir di fori sovra me come pria di caro assenso al mio disio certificato fermi beato spirtogtgt dissi ltlte fammi prova chi possa in te refletter quel chio pensogtgt del suo profondo ondella pria cantava seguette come a cui di ben far giova italica che siede tra rialto e le fontane di brenta e di piava la onde scese gia una facella che fece a la contrada un grande assalto cunizza fui chiamata e qui refulgo perche mi vinse il lume desta stella la cagion di mia sorte e non mi noia che parria forse forte al vostro vulgo del nostro cielo che piu me propinqua grande fama rimase e pria che moia vedi se far si dee lomo eccellente si chaltra vita la prima relinqua che tagliamento e adice richiude ne per esser battuta ancor si pente cangera lacqua che vincenza bagna per essere al dover le genti crude tal signoreggia e va con la testa alta che gia per lui carpir si fa la ragna de lempio suo pastor che sara sconcia si che per simil non sentro in malta che ricevesse il sangue ferrarese e stanco chi l pesasse a oncia a oncia per mostrarsi di parte e cotai doni conformi fieno al viver del paese onde refulge a noi dio giudicante si che questi parlar ne paion buonigtgt che fosse ad altro volta per la rota in che si mise comera davante per cara cosa mi si fece in vista qual fin balasso in che lo sol percuota si come riso qui ma giu sabbuia lombra di fuor come la mente e trista dissio ltltbeato spirto si che nulla voglia di se a te puotesser fuia sempre col canto di quei fuochi pii che di sei ali facen la coculla gia non attendere io tua dimanda sio mintuassi come tu tinmiigtgt incominciaro allor le sue parole ltltfuor di quel mar che la terra inghirlanda tanto sen va che fa meridiano la dove lorizzonte pria far suole tra ebro e macra che per cammin corto parte lo genovese dal toscano buggea siede e la terra ondio fui che fe del sangue suo gia caldo il porto fu noto il nome mio e questo cielo di me simprenta comio fe di lui noiando e a sicheo e a creusa di me infin che si convenne al pelo fu da demofoonte ne alcide quando iole nel core ebbe rinchiusa non de la colpa cha mente non torna ma del valor chordino e provide cotanto affetto e discernesi l bene per che l mondo di su quel di giu torna ten porti che son nate in questa spera proceder ancor oltre mi convene che qui appresso me cosi scintilla come raggio di sole in acqua mera raab e a nostrordine congiunta di lei nel sommo grado si sigilla che l vostro mondo face pria chaltralma del triunfo di cristo fu assunta in alcun cielo de lalta vittoria che sacquisto con luna e laltra palma di iosue in su la terra santa che poco tocca al papa la memoria che pria volse le spalle al suo fattore e di cui e la nvidia tanto pianta cha disviate le pecore e li agni pero che fatto ha lupo del pastore son derelitti e solo ai decretali si studia si che pare a lor vivagni non vanno i lor pensieri a nazarette la dove gabriello aperse lali di roma che son state cimitero a la milizia che pietro seguette che luno e laltro etternalmente spira lo primo e ineffabile valore con tantordine fe chesser non puote sanza gustar di lui chi cio rimira meco la vista dritto a quella parte dove lun moto e laltro si percuote di quel maestro che dentro a se lama tanto che mai da lei locchio non parte loblico cerchio che i pianeti porta per sodisfare al mondo che li chiama molta virtu nel ciel sarebbe in vano e quasi ogne potenza qua giu morta fosse l partire assai sarebbe manco e giu e su de lordine mondano dietro pensando a cio che si preliba sesser vuoi lieto assai prima che stanco che a se torce tutta la mia cura quella materia ondio son fatto scriba che del valor del ciel lo mondo imprenta e col suo lume il tempo ne misura congiunto si girava per le spire in che piu tosto ognora sappresenta non maccorsio se non comuom saccorge anzi l primo pensier del suo venire di bene in meglio si subitamente che latto suo per tempo non si sporge quel chera dentro al sol dovio entrami non per color ma per lume parvente si nol direi che mai simaginasse ma creder puossi e di veder si brami a tanta altezza non e maraviglia che sopra l sol non fu occhio chandasse de lalto padre che sempre la sazia mostrando come spira e come figlia ringrazia il sol de li angeli cha questo sensibil tha levato per sua graziagtgt a divozione e a rendersi a dio con tutto l suo gradir cotanto presto e si tutto l mio amore in lui si mise che beatrice eclisso ne loblio che lo splendor de li occhi suoi ridenti mia mente unita in piu cose divise far di noi centro e di se far corona piu dolci in voce che in vista lucenti vedem talvolta quando laere e pregno si che ritenga il fil che fa la zona si trovan molte gioie care e belle tanto che non si posson trar del regno chi non simpenna si che la su voli dal muto aspetti quindi le novelle si fuor girati intorno a noi tre volte come stelle vicine a fermi poli ma che sarrestin tacite ascoltando fin che le nove note hanno ricolte lo raggio de la grazia onde saccende verace amore e che poi cresce amando che ti conduce su per quella scala u sanza risalir nessun discende per la tua sete in liberta non fora se non comacqua chal mar non si cala questa ghirlanda che ntorno vagheggia la bella donna chal ciel tavvalora che domenico mena per cammino u ben simpingua se non si vaneggia frate e maestro fummi ed esso alberto e di cologna e io thomas daquino di retro al mio parlar ten vien col viso girando su per lo beato serto di grazian che luno e laltro foro aiuto si che piace in paradiso quel pietro fu che con la poverella offerse a santa chiesa suo tesoro spira di tal amor che tutto l mondo la giu ne gola di saper novella saver fu messo che se l vero e vero a veder tanto non surse il secondo che giu in carne piu a dentro vide langelica natura e l ministero quello avvocato de tempi cristiani del cui latino augustin si provide di luce in luce dietro a le mie lode gia de lottava con sete rimani lanima santa che l mondo fallace fa manifesto a chi di lei ben ode giuso in cieldauro ed essa da martiro e da essilio venne a questa pace disidoro di beda e di riccardo che a considerar fu piu che viro e l lume duno spirto che n pensieri gravi a morir li parve venir tardo che leggendo nel vico de li strami silogizzo invidiosi verigtgt ne lora che la sposa di dio surge a mattinar lo sposo perche lami tin tin sonando con si dolce nota che l ben disposto spirto damor turge muoversi e render voce a voce in tempra e in dolcezza chesser non po nota quanto son difettivi silogismi quei che ti fanno in basso batter lali sen giva e chi seguendo sacerdozio e chi regnar per forza o per sofismi chi nel diletto de la carne involto saffaticava e chi si dava a lozio con beatrice mera suso in cielo cotanto gloriosamente accolto punto del cerchio in che avanti sera fermossi come a candellier candelo che pria mavea parlato sorridendo incominciar faccendosi piu mera si riguardando ne la luce etterna li tuoi pensieri onde cagioni apprendo in si aperta e n si distesa lingua lo dicer mio chal tuo sentir si sterna e la u dissi non nacque il secondo e qui e uopo che ben si distingua con quel consiglio nel quale ogne aspetto creato e vinto pria che vada al fondo la sposa di colui chad alte grida disposo lei col sangue benedetto due principi ordino in suo favore che quinci e quindi le fosser per guida laltro per sapienza in terra fue di cherubica luce uno splendore si dice lun pregiando qual chom prende perchad un fine fur lopere sue del colle eletto dal beato ubaldo fertile costa dalto monte pende da porta sole e di rietro le piange per grave giogo nocera con gualdo piu sua rattezza nacque al mondo un sole come fa questo tal volta di gange non dica ascesi che direbbe corto ma oriente se proprio dir vuole chel comincio a far sentir la terra de la sua gran virtute alcun conforto del padre corse a cui come a la morte la porta del piacer nessun diserra et coram patre le si fece unito poscia di di in di lamo piu forte millecentanni e piu dispetta e scura fino a costui si stette sanza invito con amiclate al suon de la sua voce colui cha tutto l mondo fe paura si che dove maria rimase giuso ella con cristo pianse in su la croce francesco e poverta per questi amanti prendi oramai nel mio parlar diffuso amore e maraviglia e dolce sguardo facieno esser cagion di pensier santi si scalzo prima e dietro a tanta pace corse e correndo li parve esser tardo scalzasi egidio scalzasi silvestro dietro a lo sposo si la sposa piace con la sua donna e con quella famiglia che gia legava lumile capestro per esser fi di pietro bernardone ne per parer dispetto a maraviglia ad innocenzio aperse e da lui ebbe primo sigillo a sua religione dietro a costui la cui mirabil vita meglio in gloria del ciel si canterebbe fu per onorio da letterno spiro la santa voglia desto archimandrita ne la presenza del soldan superba predico cristo e li altri che l seguiro troppo la gente e per non stare indarno redissi al frutto de litalica erba da cristo prese lultimo sigillo che le sue membra due anni portarno piacque di trarlo suso a la mercede chel merito nel suo farsi pusillo raccomando la donna sua piu cara e comando che lamassero a fede mover si volle tornando al suo regno e al suo corpo non volle altra bara collega fu a mantener la barca di pietro in alto mar per dritto segno per che qual segue lui comel comanda discerner puoi che buone merce carca e fatto ghiotto si chesser non puote che per diversi salti non si spanda e vagabunde piu da esso vanno piu tornano a lovil di latte vote e stringonsi al pastor ma son si poche che le cappe fornisce poco panno se la tua audienza e stata attenta se cio che detto a la mente revoche perche vedrai la pianta onde si scheggia e vedra il corregger che argomenta la benedetta fiamma per dir tolse a rotar comincio la santa mola prima chunaltra di cerchio la chiuse e moto a moto e canto a canto colse nostre serene in quelle dolci tube quanto primo splendor quel che refuse due archi paralelli e concolori quando iunone a sua ancella iube a guisa del parlar di quella vaga chamor consunse come sol vapori per lo patto che dio con noe puose del mondo che gia mai piu non sallaga volgiensi circa noi le due ghirlande e si lestrema a lintima rispuose si del cantare e si del fiammeggiarsi luce con luce gaudiose e blande pur come li occhi chal piacer che i move conviene insieme chiudere e levarsi si mosse voce che lago a la stella parer mi fece in volgermi al suo dove mi tragge a ragionar de laltro duca per cui del mio si ben ci si favella si che comelli ad una militaro cosi la gloria loro insieme luca costo a riarmar dietro a la nsegna si movea tardo sospeccioso e raro provide a la milizia chera in forse per sola grazia non per esser degna con due campioni al cui fare al cui dire lo popol disviato si raccorse zefiro dolce le novelle fronde di che si vede europa rivestire dietro a le quali per la lunga foga lo sol talvolta ad ogne uom si nasconde sotto la protezion del grande scudo in che soggiace il leone e soggioga de la fede cristiana il santo atleta benigno a suoi e a nemici crudo si la sua mente di viva vertute che ne la madre lei fece profeta al sacro fonte intra lui e la fede u si dotar di mutua salute vide nel sonno il mirabile frutto chuscir dovea di lui e de le rede quinci si mosse spirito a nomarlo del possessivo di cui era tutto si come de lagricola che cristo elesse a lorto suo per aiutarlo che l primo amor che n lui fu manifesto fu al primo consiglio che die cristo trovato in terra da la sua nutrice come dicesse io son venuto a questo oh madre sua veramente giovanna se interpretata val come si dice di retro ad ostiense e a taddeo ma per amor de la verace manna tal che si mise a circuir la vigna che tosto imbianca se l vignaio e reo piu a poveri giusti non per lei ma per colui che siede che traligna non la fortuna di prima vacante non decimas quae sunt pauperum dei licenza di combatter per lo seme del qual ti fascian ventiquattro piante con lofficio appostolico si mosse quasi torrente chalta vena preme limpeto suo piu vivamente quivi dove le resistenze eran piu grosse onde lorto catolico si riga si che i suoi arbuscelli stan piu vivi in che la santa chiesa si difese e vinse in campo la sua civil briga leccellenza de laltra di cui tomma dinanzi al mio venir fu si cortese di sua circunferenza e derelitta si che la muffa dovera la gromma coi piedi a le sue orme e tanto volta che quel dinanzi a quel di retro gitta de la mala coltura quando il loglio si lagnera che larca li sia tolta nostro volume ancor troveria carta u leggerebbe i mi son quel chi soglio la onde vegnon tali a la scrittura chuno la fugge e altro la coarta da bagnoregio che ne grandi offici sempre pospuosi la sinistra cura che fuor de primi scalzi poverelli che nel capestro a dio si fero amici e pietro mangiadore e pietro spano lo qual giu luce in dodici libelli crisostomo e anselmo e quel donato cha la primarte degno porre mano il calavrese abate giovacchino di spirito profetico dotato mi mosse linfiammata cortesia di fra tommaso e l discreto latino quel chi or vidi e ritegna limage mentre chio dico come ferma rupe lo ciel avvivan di tanto sereno che soperchia de laere ogne compage basta del nostro cielo e notte e giorno si chal volger del temo non vien meno che si comincia in punta de lo stelo a cui la prima rota va dintorno qual fece la figliuola di minoi allora che senti di morte il gelo e amendue girarsi per maniera che luno andasse al primo e laltro al poi costellazione e de la doppia danza che circulava il punto dovio era quanto di la dal mover de la chiana si move il ciel che tutti li altri avanza ma tre persone in divina natura e in una persona essa e lumana e attesersi a noi quei santi lumi felicitando se di cura in cura poscia la luce in che mirabil vita del poverel di dio narrata fumi quando la sua semenza e gia riposta a batter laltra dolce amor minvita si trasse per formar la bella guancia il cui palato a tutto l mondo costa e prima e poscia tanto sodisfece che dogne colpa vince la bilancia aver di lume tutto fosse infuso da quel valor che luno e laltro fece quando narrai che non ebbe l secondo lo ben che ne la quinta luce e chiuso e vedrai il tuo credere e l mio dire nel vero farsi come centro in tondo non e se non splendor di quella idea che partorisce amando il nostro sire dal suo lucente che non si disuna da lui ne da lamor cha lor sintrea quasi specchiato in nove sussistenze etternalmente rimanendosi una giu datto in atto tanto divenendo che piu non fa che brevi contingenze le cose generate che produce con seme e sanza seme il ciel movendo non sta dun modo e pero sotto l segno ideale poi piu e men traluce secondo specie meglio e peggio frutta e voi nascete con diverso ingegno e fosse il cielo in sua virtu supprema la luce del suggel parrebbe tutta similemente operando a lartista cha labito de larte ha man che trema de la prima virtu dispone e segna tutta la perfezion quivi sacquista di tutta lanimal perfezione cosi fu fatta la vergine pregna che lumana natura mai non fue ne fia qual fu in quelle due persone dunque come costui fu sanza pare comincerebber le parole tue pensa chi era e la cagion che l mosse quando fu detto chiedi a dimandare ben veder chel fu re che chiese senno accio che re sufficiente fosse li motor di qua su o se necesse con contingente mai necesse fenno o se del mezzo cerchio far si puote triangol si chun retto non avesse regal prudenza e quel vedere impari in che lo stral di mia intenzion percuote vedrai aver solamente respetto ai regi che son molti e buon son rari e cosi puote star con quel che credi del primo padre e del nostro diletto per farti mover lento comuom lasso e al si e al no che tu non vedi che sanza distinzione afferma e nega ne lun cosi come ne laltro passo loppinion corrente in falsa parte e poi laffetto lintelletto lega perche non torna tal qual e si move chi pesca per lo vero e non ha larte parmenide melisso e brisso e molti li quali andaro e non sapean dove che furon come spade a le scritture in render torti li diritti volti a giudicar si come quei che stima le biade in campo pria che sien mature lo prun mostrarsi rigido e feroce poscia portar la rosa in su la cima correr lo mar per tutto suo cammino perire al fine a lintrar de la foce per vedere un furare altro offerere vederli dentro al consiglio divino movesi lacqua in un ritondo vaso secondo che percosso fuori o dentro questo chio dico si come si tacque la gloriosa vita di tommaso del suo parlare e di quel di beatrice a cui si cominciar dopo lui piacque ne con la voce ne pensando ancora dun altro vero andare a la radice vostra sustanza rimarra con voi etternalmente si comelle ora che sarete visibili rifatti esser pora chal veder non vi noigtgt a la fiata quei che vanno a rota levan la voce e rallegrano li atti li santi cerchi mostrar nova gioia nel torneare e ne la mira nota per viver cola su non vide quive lo refrigerio de letterna ploia e regna sempre in tre e n due e n uno non circunscritto e tutto circunscrive di quelli spirti con tal melodia chad ogne merto saria giusto muno del minor cerchio una voce modesta forse qual fu da langelo a maria di paradiso tanto il nostro amore si raggera dintorno cotal vesta lardor la visione e quella e tanta quantha di grazia sovra suo valore fia rivestita la nostra persona piu grata fia per esser tutta quanta di gratuito lume il sommo bene lume cha lui veder ne condiziona crescer lardor che di quella saccende crescer lo raggio che da esso vene e per vivo candor quella soverchia si che la sua parvenza si difende fia vinto in apparenza da la carne che tutto di la terra ricoperchia che li organi del corpo saran forti a tutto cio che potra dilettarnegtgt e luno e laltro coro a dicer ltltammegtgt che ben mostrar disio di corpi morti per li padri e per li altri che fuor cari anzi che fosser sempiterne fiamme nascere un lustro sopra quel che vera per guisa dorizzonte che rischiari comincian per lo ciel nove parvenze si che la vista pare e non par vera cominciare a vedere e fare un giro di fuor da laltre due circunferenze come si fece subito e candente a li occhi miei che vinti nol soffriro mi si mostro che tra quelle vedute si vuol lasciar che non seguir la mente a rilevarsi e vidimi translato sol con mia donna in piu alta salute per laffocato riso de la stella che mi parea piu roggio che lusato che una in tutti a dio feci olocausto qual conveniesi a la grazia novella lardor del sacrificio chio conobbi esso litare stato accetto e fausto mapparvero splendor dentro a due raggi chio dissi ltlto elios che si li addobbigtgt lumi biancheggia tra poli del mondo galassia si che fa dubbiar ben saggi marte quei raggi il venerabil segno che fan giunture di quadranti in tondo che quella croce lampeggiava cristo si chio non so trovare essempro degno ancor mi scusera di quel chio lasso vedendo in quellalbor balenar cristo si movien lumi scintillando forte nel congiugnersi insieme e nel trapasso veloci e tarde rinovando vista le minuzie di corpi lunghe e corte talvolta lombra che per sua difesa la gente con ingegno e arte acquista di molte corde fa dolce tintinno a tal da cui la nota non e intesa saccogliea per la croce una melode che mi rapiva sanza intender linno pero cha me venia ltltresurgigtgt e ltltvincigtgt come a colui che non intende e ode che nfino a li non fu alcuna cosa che mi legasse con si dolci vinci posponendo il piacer de li occhi belli ne quai mirando mio disio ha posa dogne bellezza piu fanno piu suso e chio non mera li rivolto a quelli per escusarmi e vedermi dir vero che l piacer santo non e qui dischiuso sempre lamor che drittamente spira come cupidita fa ne la iniqua e fece quietar le sante corde che la destra del cielo allenta e tira quelle sustanze che per darmi voglia chio le pregassi a tacer fur concorde chi per amor di cosa che non duri etternalmente quello amor si spoglia discorre ad ora ad or subito foco movendo li occhi che stavan sicuri se non che da la parte onde saccende nulla sen perde ed esso dura poco a pie di quella croce corse un astro de la costellazion che li resplende ma per la lista radial trascorse che parve foco dietro ad alabastro se fede merta nostra maggior musa quando in eliso del figlio saccorse gratia dei sicut tibi cui bis unquam celi ianua reclusagtgt poscia rivolsi a la mia donna il viso e quinci e quindi stupefatto fui tal chio pensai co miei toccar lo fondo de la mia gloria e del mio paradiso giunse lo spirto al suo principio cose chio non lo ntesi si parlo profondo ma per necessita che l suo concetto al segno di mortal si soprapuose fu si sfogato che l parlar discese inver lo segno del nostro intelletto ltltbenedetto sia tugtgt fu ltlttrino e uno che nel mio seme se tanto cortesegtgt tratto leggendo del magno volume du non si muta mai bianco ne bruno in chio ti parlo merce di colei cha lalto volo ti vesti le piume da quel che primo cosi come raia da lun se si conosce il cinque e l sei piu gaudioso a te non mi domandi che alcun altro in questa turba gaia di questa vita miran ne lo speglio in che prima che pensi il pensier pandi con perpetua vista e che masseta di dolce disiar sadempia meglio suoni la volonta suoni l disio a che la mia risposta e gia decretagtgt pria chio parlassi e arrisemi un cenno che fece crescer lali al voler mio come la prima equalita vapparse dun peso per ciascun di voi si fenno col caldo e con la luce e si iguali che tutte simiglianze sono scarse per la cagion cha voi e manifesta diversamente son pennuti in ali disagguaglianza e pero non ringrazio se non col core a la paterna festa che questa gioia preziosa ingemmi perche mi facci del tuo nome saziogtgt pur aspettando io fui la tua radicegtgt cotal principio rispondendo femmi tua cognazione e che centanni e piue girato ha l monte in la prima cornice ben si convien che la lunga fatica tu li raccorci con lopere tue ondella toglie ancora e terza e nona si stava in pace sobria e pudica non gonne contigiate non cintura che fosse a veder piu che la persona la figlia al padre che l tempo e la dote non fuggien quinci e quindi la misura non vera giunto ancor sardanapalo a mostrar cio che n camera si puote dal vostro uccellatoio che come vinto nel montar su cosi sara nel calo di cuoio e dosso e venir da lo specchio la donna sua sanza l viso dipinto esser contenti a la pelle scoperta e le sue donne al fuso e al pennecchio de la sua sepultura e ancor nulla era per francia nel letto diserta e consolando usava lidioma che prima i padri e le madri trastulla favoleggiava con la sua famiglia di troiani di fiesole e di roma una cianghella un lapo salterello qual or saria cincinnato e corniglia viver di cittadini a cosi fida cittadinanza a cosi dolce ostello e ne lantico vostro batisteo insieme fui cristiano e cacciaguida mia donna venne a me di val di pado e quindi il sopranome tuo si feo ed el mi cinse de la sua milizia tanto per bene ovrar li venni in grado di quella legge il cui popolo usurpa per colpa di pastor vostra giustizia disviluppato dal mondo fallace lo cui amor moltanime deturpa se gloriar di te la gente fai qua giu dove laffetto nostro langue che la dove appetito non si torce dico nel cielo io me ne gloriai si che se non sappon di di in die lo tempo va dintorno con le force in che la sua famiglia men persevra ricominciaron le parole mie ridendo parve quella che tossio al primo fallo scritto di ginevra voi mi date a parlar tutta baldezza voi mi levate si chi son piu chio la mente mia che di se fa letizia perche puo sostener che non si spezza quai fuor li vostri antichi e quai fuor li anni che si segnaro in vostra puerizia quanto era allora e chi eran le genti tra esso degne di piu alti scannigtgt carbone in fiamma cosi vidio quella luce risplendere a miei blandimenti cosi con voce piu dolce e soave ma non con questa moderna favella al parto in che mia madre che or santa sallevio di me ondera grave e trenta fiate venne questo foco a rinfiammarsi sotto la sua pianta dove si truova pria lultimo sesto da quei che corre il vostro annual gioco chi ei si fosser e onde venner quivi piu e tacer che ragionare onesto da poter arme tra marte e l batista eran il quinto di quei chor son vivi di campi di certaldo e di fegghine pura vediesi ne lultimo artista quelle genti chio dico e al galluzzo e a trespiano aver vostro confine del villan daguglion di quel da signa che gia per barattare ha locchio aguzzo non fosse stata a cesare noverca ma come madre a suo figlio benigna che si sarebbe volto a simifonti la dove andava lavolo a la cerca sarieno i cerchi nel piovier dacone e forse in valdigrieve i buondelmonti principio fu del mal de la cittade come del vostro il cibo che sappone che cieco agnello e molte volte taglia piu e meglio una che le cinque spade come sono ite e come se ne vanno di retro ad esse chiusi e sinigaglia non ti parra nova cosa ne forte poscia che le cittadi termine hanno si come voi ma celasi in alcuna che dura molto e le vite son corte cuopre e discuopre i liti sanza posa cosi fa di fiorenza la fortuna cio chio diro de li alti fiorentini onde e la fama nel tempo nascosa filippi greci ormanni e alberichi gia nel calare illustri cittadini con quel de la sannella quel de larca e soldanieri e ardinghi e bostichi di nova fellonia di tanto peso che tosto fia iattura de la barca il conte guido e qualunque del nome de lalto bellincione ha poscia preso regger si vuole e avea galigaio dorata in casa sua gia lelsa e l pome sacchetti giuochi fifanti e barucci e galli e quei charrossan per lo staio era gia grande e gia eran tratti a le curule sizii e arrigucci per lor superbia e le palle de loro fiorian fiorenza in tutti suoi gran fatti che sempre che la vostra chiesa vaca si fanno grassi stando a consistoro dietro a chi fugge e a chi mostra l dente o ver la borsa comagnel si placa si che non piacque ad ubertin donato che poi il suocero il fe lor parente disceso giu da fiesole e gia era buon cittadino giuda e infangato nel picciol cerchio sentrava per porta che si nomava da quei de la pera del gran barone il cui nome e l cui pregio la festa di tommaso riconforta avvegna che con popol si rauni oggi colui che la fascia col fregio e ancor saria borgo piu quieto se di novi vicin fosser digiuni per lo giusto disdegno che vha morti e puose fine al vostro viver lieto o buondelmonte quanto mal fuggisti le nozze sue per li altrui conforti se dio tavesse conceduto ad ema la prima volta cha citta venisti che guarda l ponte che fiorenza fesse vittima ne la sua pace postrema vidio fiorenza in si fatto riposo che non avea cagione onde piangesse e giusto il popol suo tanto che l giglio non era ad asta mai posto a ritroso di cio chavea incontro a se udito quei chancor fa li padri ai figli scarsi e da beatrice e da la santa lampa che pria per me avea mutato sito del tuo disiogtgt mi disse ltltsi chella esca segnata bene de la interna stampa per tuo parlare ma perche tausi a dir la sete si che luom ti mescagtgt che come veggion le terrene menti non capere in triangol due ottusi anzi che sieno in se mirando il punto a cui tutti li tempi son presenti su per lo monte che lanime cura e discendendo nel mondo defunto parole gravi avvegna chio mi senta ben tetragono ai colpi di ventura dintender qual fortuna mi sappressa che saetta previsa vien piu lentagtgt che pria mavea parlato e come volle beatrice fu la mia voglia confessa gia sinviscava pria che fosse anciso lagnel di dio che le peccata tolle latin rispuose quello amor paterno chiuso e parvente del suo proprio riso de la vostra matera non si stende tutta e dipinta nel cospetto etterno se non come dal viso in che si specchia nave che per torrente giu discende dolce armonia da organo mi viene a vista il tempo che ti sapparecchia per la spietata e perfida noverca tal di fiorenza partir ti convene e tosto verra fatto a chi cio pensa la dove cristo tutto di si merca in grido come suol ma la vendetta fia testimonio al ver che la dispensa piu caramente e questo e quello strale che larco de lo essilio pria saetta lo pane altrui e come e duro calle lo scendere e l salir per laltrui scale sara la compagnia malvagia e scempia con la qual tu cadrai in questa valle si fara contra te ma poco appresso ella non tu navra rossa la tempia fara la prova si cha te fia bello averti fatta parte per te stesso sara la cortesia del gran lombardo che n su la scala porta il santo uccello che del fare e del chieder tra voi due fia primo quel che tra li altri e piu tardo nascendo si da questa stella forte che notabili fier lopere sue per la novella eta che pur nove anni son queste rote intorno di lui torte parran faville de la sua virtute in non curar dargento ne daffanni saranno ancora si che suoi nemici non ne potran tener le lingue mute per lui fia trasmutata molta gente cambiando condizion ricchi e mendici di lui e nol diraigtgt e disse cose incredibili a quei che fier presente di quel che ti fu detto ecco le nsidie che dietro a pochi giri son nascose poscia che sinfutura la tua vita vie piu la che l punir di lor perfidiegtgt lanima santa di metter la trama in quella tela chio le porsi ordita dubitando consiglio da persona che vede e vuol dirittamente e ama lo tempo verso me per colpo darmi tal che piu grave a chi piu sabbandona si che se loco me tolto piu caro io non perdessi li altri per miei carmi e per lo monte del cui bel cacume li occhi de la mia donna mi levaro ho io appreso quel che sio ridico a molti fia sapor di forte agrume temo di perder viver tra coloro che questo tempo chiameranno anticogtgt chio trovai li si fe prima corusca quale a raggio di sole specchio doro o de la propria o de laltrui vergogna pur sentira la tua parola brusca tutta tua vision fa manifesta e lascia pur grattar dove la rogna nel primo gusto vital nodrimento lascera poi quando sara digesta che le piu alte cime piu percuote e cio non fa donor poco argomento nel monte e ne la valle dolorosa pur lanime che son di fama note ne ferma fede per essempro chaia la sua radice incognita e ascosa quello specchio beato e io gustava lo mio temprando col dolce lacerbo disse ltltmuta pensier pensa chi sono presso a colui chogne torto disgravagtgt del mio conforto e qual io allor vidi ne li occhi santi amor qui labbandono ma per la mente che non puo redire sovra se tanto saltri non la guidi che rimirando lei lo mio affetto libero fu da ogne altro disire raggiava in beatrice dal bel viso mi contentava col secondo aspetto ella mi disse ltltvolgiti e ascolta che non pur ne miei occhi e paradisogtgt laffetto ne la vista selli e tanto che da lui sia tutta lanima tolta a chio mi volsi conobbi la voglia in lui di ragionarmi ancora alquanto de lalbero che vive de la cima e frutta sempre e mai non perde foglia che venissero al ciel fuor di gran voce si chogne musa ne sarebbe opima quello chio nomero li fara latto che fa in nube il suo foco velocegtgt dal nomar iosue comel si feo ne mi fu noto il dir prima che l fatto vidi moversi un altro roteando e letizia era ferza del paleo due ne segui lo mio attento sguardo comocchio segue suo falcon volando e l duca gottifredi la mia vista per quella croce e ruberto guiscardo mostrommi lalma che mavea parlato qual era tra i cantor del cielo artista per vedere in beatrice il mio dovere o per parlare o per atto segnato tanto gioconde che la sua sembianza vinceva li altri e lultimo solere bene operando luom di giorno in giorno saccorge che la sua virtute avanza col cielo insieme avea cresciuto larco veggendo quel miracol piu addorno di tempo in bianca donna quando l volto suo si discarchi di vergogna il carco per lo candor de la temprata stella sesta che dentro a se mavea ricolto lo sfavillar de lamor che li era segnare a li occhi miei nostra favella quasi congratulando a lor pasture fanno di se or tonda or altra schiera volitando cantavano e faciensi or d or i or l in sue figure poi diventando lun di questi segni un poco sarrestavano e taciensi fai gloriosi e rendili longevi ed essi teco le cittadi e regni le lor figure comio lho concette paia tua possa in questi versi brevi vocali e consonanti e io notai le parti si come mi parver dette fur verbo e nome di tutto l dipinto qui iudicatis terram fur sezzai rimasero ordinate si che giove pareva argento li doro distinto era il colmo de lemme e li quetarsi cantando credo il ben cha se le move surgono innumerabili faville onde li stolti sogliono agurarsi luci e salir qual assai e qual poco si come l sol che laccende sortille la testa e l collo dunaguglia vidi rappresentare a quel distinto foco ma esso guida e da lui si rammenta quella virtu che forma per li nidi pareva prima dingigliarsi a lemme con poco moto seguito la mprenta mi dimostraro che nostra giustizia effetto sia del ciel che tu ingemme tuo moto e tua virtute che rimiri ondesce il fummo che l tuo raggio vizia del comperare e vender dentro al templo che si muro di segni e di martiri adora per color che sono in terra tutti sviati dietro al malo essemplo ma or si fa togliendo or qui or quivi lo pan che l pio padre a nessun serra pensa che pietro e paulo che moriro per la vigna che guasti ancor son vivi si a colui che volle viver solo e che per salti fu tratto al martiro la bella image che nel dolce frui liete facevan lanime conserte raggio di sole ardesse si acceso che ne miei occhi rifrangesse lui non porto voce mai ne scrisse incostro ne fu per fantasia gia mai compreso e sonar ne la voce e ltltiogtgt e ltltmiogtgt quandera nel concetto e noi e nostro son io qui essaltato a quella gloria che non si lascia vincere a disio si fatta che le genti li malvage commendan lei ma non seguon la storiagtgt si fa sentir come di molti amori usciva solo un suon di quella image de letterna letizia che pur uno parer mi fate tutti vostri odori che lungamente mha tenuto in fame non trovandoli in terra cibo alcuno la divina giustizia fa suo specchio che l vostro non lapprende con velame ad ascoltar sapete qual e quello dubbio che me digiun cotanto vecchiogtgt move la testa e con lali si plaude voglia mostrando e faccendosi bello de la divina grazia era contesto con canti quai si sa chi la su gaude a lo stremo del mondo e dentro ad esso distinse tanto occulto e manifesto in tutto luniverso che l suo verbo non rimanesse in infinito eccesso che fu la somma dogne creatura per non aspettar lume cadde acerbo e corto recettacolo a quel bene che non ha fine e se con se misura esser alcun de raggi de la mente di che tutte le cose son ripiene tanto che suo principio discerna molto di la da quel che le parvente la vista che riceve il vostro mondo comocchio per lo mare entro sinterna in pelago nol vede e nondimeno eli ma cela lui lesser profondo che non si turba mai anzi e tenebra od ombra de la carne o suo veleno che tascondeva la giustizia viva di che facei question cotanto crebra de lindo e quivi non e chi ragioni di cristo ne chi legga ne chi scriva sono quanto ragione umana vede sanza peccato in vita o in sermoni ove questa giustizia che l condanna ove la colpa sua se ei non crede per giudicar di lungi mille miglia con la veduta corta duna spanna se la scrittura sovra voi non fosse da dubitar sarebbe a maraviglia la prima volonta che da se buona da se che sommo ben mai non si mosse nullo creato bene a se la tira ma essa radiando lui cagionagtgt poi cha pasciuti la cicogna i figli e come quel che pasto la rimira la benedetta imagine che lali movea sospinte da tanti consigli son le mie note a te che non le ntendi tal e il giudicio etterno a voi mortaligtgt de lo spirito santo ancor nel segno che fe i romani al mondo reverendi non sali mai chi non credette n cristo ne pria ne poi chel si chiavasse al legno che saranno in giudicio assai men prope a lui che tal che non conosce cristo quando si partiranno i due collegi luno in etterno ricco e laltro inope come vedranno quel volume aperto nel qual si scrivon tutti suoi dispregi quella che tosto movera la penna per che l regno di praga fia diserto induce falseggiando la moneta quel che morra di colpo di cotenna che fa lo scotto e linghilese folle si che non puo soffrir dentro a sua meta di quel di spagna e di quel di boemme che mai valor non conobbe ne volle segnata con un i la sua bontate quando l contrario segnera un emme di quei che guarda lisola del foco ove anchise fini la lunga etate la sua scrittura fian lettere mozze che noteranno molto in parvo loco del barba e del fratel che tanto egregia nazione e due corone han fatte bozze li si conosceranno e quel di rascia che male ha visto il conio di vinegia piu malmenare e beata navarra se sarmasse del monte che la fascia di questo niccosia e famagosta per la lor bestia si lamenti e garra de lemisperio nostro si discende che l giorno dogne parte si consuma subitamente si rifa parvente per molte luci in che una risplende come l segno del mondo e de suoi duci nel benedetto rostro fu tacente vie piu lucendo cominciaron canti da mia memoria labili e caduci quanto parevi ardente in que flailli chavieno spirto sol di pensier santi ondio vidi ingemmato il sesto lume puoser silenzio a li angelici squilli che scende chiaro giu di pietra in pietra mostrando luberta del suo cacume prende sua forma e si comal pertugio de la sampogna vento che penetra quel mormorar de laguglia salissi su per lo collo come fosse bugio per lo suo becco in forma di parole quali aspettava il core ovio le scrissi ne laguglie mortaligtgt incominciommi ltltor fisamente riguardar si vole quelli onde locchio in testa mi scintilla e di tutti lor gradi son li sommi fu il cantor de lo spirito santo che larca traslato di villa in villa in quanto effetto fu del suo consiglio per lo remunerar che altrettanto colui che piu al becco mi saccosta la vedovella consolo del figlio non seguir cristo per lesperienza di questa dolce vita e de lopposta di che ragiono per larco superno morte indugio per vera penitenza non si trasmuta quando degno preco fa crastino la giu de lodierno sotto buona intenzion che fe mal frutto per cedere al pastor si fece greco dal suo bene operar non li e nocivo avvegna che sia l mondo indi distrutto guiglielmo fu cui quella terra plora che piagne carlo e federigo vivo lo ciel del giusto rege e al sembiante del suo fulgore il fa vedere ancora che rifeo troiano in questo tondo fosse la quinta de le luci sante veder non puo de la divina grazia ben che sua vista non discerna il fondogtgt prima cantando e poi tace contenta de lultima dolcezza che la sazia de letterno piacere al cui disio ciascuna cosa qual elle diventa li quasi vetro a lo color chel veste tempo aspettar tacendo non patio mi pinse con la forza del suo peso per chio di coruscar vidi gran feste lo benedetto segno mi rispuose per non tenermi in ammirar sospeso perchio le dico ma non vedi come si che se son credute sono ascose apprende ben ma la sua quiditate veder non puo se altri non la prome da caldo amore e da viva speranza che vince la divina volontate ma vince lei perche vuole esser vinta e vinta vince con sua beninanza ti fa maravigliar perche ne vedi la region de li angeli dipinta gentili ma cristiani in ferma fede quel di passuri e quel di passi piedi gia mai a buon voler torno a lossa e cio di viva spene fu mercede ne prieghi fatti a dio per suscitarla si che potesse sua voglia esser mossa tornata ne la carne in che fu poco credette in lui che potea aiutarla di vero amor cha la morte seconda fu degna di venire a questo gioco fontana stilla che mai creatura non pinse locchio infino a la prima onda per che di grazia in grazia dio li aperse locchio a la nostra redenzion futura da indi il puzzo piu del paganesmo e riprendiene le genti perverse che tu vedesti da la destra rota dinanzi al battezzar piu dun millesmo e la radice tua da quelli aspetti che la prima cagion non veggion tota a giudicar che noi che dio vedemo non conosciamo ancor tutti li eletti perche il ben nostro in questo ben saffina che quel che vole iddio e noi volemogtgt per farmi chiara la mia corta vista data mi fu soave medicina fa seguitar lo guizzo de la corda in che piu di piacer lo canto acquista chio vidi le due luci benedette pur come batter docchi si concorda de la mia donna e lanimo con essi e da ogne altro intento sera tolto mi comincio ltlttu ti faresti quale fu semele quando di cener fessi de letterno palazzo piu saccende comhai veduto quanto piu si sale che l tuo mortal podere al suo fulgore sarebbe fronda che trono scoscende che sotto l petto del leone ardente raggia mo misto giu del suo valore e fa di quelli specchi a la figura che n questo specchio ti sara parventegtgt del viso mio ne laspetto beato quandio mi trasmutai ad altra cura ubidire a la mia celeste scorta contrapesando lun con laltro lato cerchiando il mondo del suo caro duce sotto cui giacque ogne malizia morta vidio uno scaleo eretto in suso tanto che nol seguiva la mia luce tanti splendor chio pensai chogne lume che par nel ciel quindi fosse diffuso le pole insieme al cominciar del giorno si movono a scaldar le fredde piume altre rivolgon se onde son mosse e altre roteando fan soggiorno in quello sfavillar che nsieme venne si come in certo grado si percosse si fe si chiaro chio dicea pensando io veggio ben lamor che tu maccenne del dire e del tacer si sta ondio contra l disio fo ben chio non dimando nel veder di colui che tutto vede mi disse ltltsolvi il tuo caldo disiogtgt non mi fa degno de la tua risposta ma per colei che l chieder mi concede dentro a la tua letizia fammi nota la cagion che si presso mi tha posta la dolce sinfonia di paradiso che giu per laltre suona si divotagtgt rispuose a me ltltonde qui non si canta per quel che beatrice non ha riso discesi tanto sol per farti festa col dire e con la luce che mi ammanta che piu e tanto amor quinci su ferve si come il fiammeggiar ti manifesta pronte al consiglio che l mondo governa sorteggia qui si come tu osservegtgt come libero amore in questa corte basta a seguir la provedenza etterna perche predestinata fosti sola a questo officio tra le tue consortegtgt che del suo mezzo fece il lume centro girando se come veloce mola ltltluce divina sopra me sappunta penetrando per questa in chio minventro mi leva sopra me tanto chi veggio la somma essenza de la quale e munta per cha la vista mia quantella e chiara la chiarita de la fiamma pareggio quel serafin che n dio piu locchio ha fisso a la dimanda tua non satisfara de letterno statuto quel che chiedi che da ogne creata vista e scisso questo rapporta si che non presumma a tanto segno piu mover li piedi onde riguarda come puo la giue quel che non pote perche l ciel lassummagtgt chio lasciai la quistione e mi ritrassi a dimandarla umilmente chi fue e non molto distanti a la tua patria tanto che troni assai suonan piu bassi di sotto al quale e consecrato un ermo che suole esser disposto a sola latriagtgt e poi continuando disse ltltquivi al servigio di dio mi fe si fermo lievemente passava caldi e geli contento ne pensier contemplativi fertilemente e ora e fatto vano si che tosto convien che si riveli e pietro peccator fu ne la casa di nostra donna in sul lito adriano quando fui chiesto e tratto a quel cappello che pur di male in peggio si travasa de lo spirito santo magri e scalzi prendendo il cibo da qualunque ostello li moderni pastori e chi li meni tanto son gravi e chi di rietro li alzi si che due bestie van sottuna pelle oh pazienza che tanto sostienigtgt di grado in grado scendere e girarsi e ogne giro le facea piu belle e fero un grido di si alto suono che non potrebbe qui assomigliarsi mi volsi come parvol che ricorre sempre cola dove piu si confida subito al figlio palido e anelo con la sua voce che l suol ben disporre e non sai tu che l cielo e tutto santo e cio che ci si fa vien da buon zelo e io ridendo mo pensar lo puoi poscia che l grido tha mosso cotanto gia ti sarebbe nota la vendetta che tu vedrai innanzi che tu muoi ne tardo ma chal parer di colui che disiando o temendo laspetta chassai illustri spiriti vedrai se comio dico laspetto reduigtgt e vidi cento sperule che nsieme piu sabbellivan con mutui rai la punta del disio e non sattenta di domandar si del troppo si teme di quelle margherite innanzi fessi per far di se la mia voglia contenta comio la carita che tra noi arde li tuoi concetti sarebbero espressi a lalto fine io ti faro risposta pur al pensier da che si ti riguarde fu frequentato gia in su la cima da la gente ingannata e mal disposta lo nome di colui che n terra addusse la verita che tanto ci soblima chio ritrassi le ville circunstanti da lempio colto che l mondo sedusse uomini fuoro accesi di quel caldo che fa nascere i fiori e frutti santi qui son li frati miei che dentro ai chiostri fermar li piedi e tennero il cor saldogtgt meco parlando e la buona sembianza chio veggio e noto in tutti li ardor vostri come l sol fa la rosa quando aperta tanto divien quantellha di possanza sio posso prender tanta grazia chio ti veggia con imagine scovertagtgt sadempiera in su lultima spera ove sadempion tutti li altri e l mio ciascuna disianza in quella sola e ogne parte la ove semprera e nostra scala infino ad essa varca onde cosi dal viso ti sinvola iacobbe porger la superna parte quando li apparve dangeli si carca da terra i piedi e la regola mia rimasa e per danno de le carte fatte sono spelonche e le cocolle sacca son piene di farina ria contra l piacer di dio quanto quel frutto che fa il cor de monaci si folle e de la gente che per dio dimanda non di parenti ne daltro piu brutto che giu non basta buon cominciamento dal nascer de la quercia al far la ghianda e io con orazione e con digiuno e francesco umilmente il suo convento poscia riguardi la dove trascorso tu vederai del bianco fatto bruno piu fu e l mar fuggir quando dio volse mirabile a veder che qui l soccorsogtgt al suo collegio e l collegio si strinse poi come turbo in su tutto savvolse con un sol cenno su per quella scala si sua virtu la mia natura vinse naturalmente fu si ratto moto chagguagliar si potesse a la mia ala triunfo per lo quale io piango spesso le mie peccata e l petto mi percuoto nel foco il dito in quantio vidi l segno che segue il tauro e fui dentro da esso di gran virtu dal quale io riconosco tutto qual che si sia il mio ingegno quelli che padre dogne mortal vita quandio senti di prima laere tosco dentrar ne lalta rota che vi gira la vostra region mi fu sortita lanima mia per acquistar virtute al passo forte che a se la tira comincio beatrice ltltche tu dei aver le luci tue chiare e acute rimira in giu e vedi quanto mondo sotto li piedi gia esser ti fei sappresenti a la turba triunfante che lieta vien per questo etera tondogtgt le sette spere e vidi questo globo tal chio sorrisi del suo vil sembiante che lha per meno e chi ad altro pensa chiamar si puote veramente probo sanza quellombra che mi fu cagione per che gia la credetti rara e densa quivi sostenni e vidi comsi move circa e vicino a lui maia e dione tra l padre e l figlio e quindi mi fu chiaro il variar che fanno di lor dove quanto son grandi e quanto son veloci e come sono in distante riparo volgendomio con li etterni gemelli tutta mapparve da colli a le foci posato al nido de suoi dolci nati la notte che le cose ci nasconde e per trovar lo cibo onde li pasca in che gravi labor li sono aggrati e con ardente affetto il sole aspetta fiso guardando pur che lalba nasca e attenta rivolta inver la plaga sotto la quale il sol mostra men fretta fecimi qual e quei che disiando altro vorria e sperando sappaga del mio attender dico e del vedere lo ciel venir piu e piu rischiarando del triunfo di cristo e tutto l frutto ricolto del girar di queste speregtgt e li occhi avea di letizia si pieni che passarmen convien sanza costrutto trivia ride tra le ninfe etterne che dipingon lo ciel per tutti i seni un sol che tutte quante laccendea come fa l nostro le viste superne la lucente sustanza tanto chiara nel viso mio che non la sostenea ella mi disse ltltquel che ti sobranza e virtu da cui nulla si ripara chapri le strade tra l cielo e la terra onde fu gia si lunga disianzagtgt per dilatarsi si che non vi cape e fuor di sua natura in giu satterra fatta piu grande di se stessa uscio e che si fesse rimembrar non sape tu hai vedute cose che possente se fatto a sostener lo riso miogtgt di visione oblita e che singegna indarno di ridurlasi a la mente di tanto grato che mai non si stingue del libro che l preterito rassegna che polimnia con le suore fero del latte lor dolcissimo piu pingue non si verria cantando il santo riso e quanto il santo aspetto facea mero convien saltar lo sacrato poema come chi trova suo cammin riciso e lomero mortal che se ne carca nol biasmerebbe se sottesso trema quel che fendendo va lardita prora ne da nocchier cha se medesmo parca che tu non ti rivolgi al bel giardino che sotto i raggi di cristo sinfiora carne si fece quivi son li gigli al cui odor si prese il buon camminogtgt tutto era pronto ancora mi rendei a la battaglia de debili cigli per fratta nube gia prato di fiori vider coverti dombra li occhi miei folgorate di su da raggi ardenti sanza veder principio di folgori su tessaltasti per largirmi loco a li occhi li che non teran possenti e mane e sera tutto mi ristrinse lanimo ad avvisar lo maggior foco il quale e il quanto de la viva stella che la su vince come qua giu vinse formata in cerchio a guisa di corona e cinsela e girossi intorno ad ella qua giu e piu a se lanima tira parrebbe nube che squarciata tona onde si coronava il bel zaffiro del quale il ciel piu chiaro sinzaffira lalta letizia che spira del ventre che fu albergo del nostro disiro che seguirai tuo figlio e farai dia piu la spera suprema perche li entregtgt si sigillava e tutti li altri lumi facean sonare il nome di maria del mondo che piu ferve e piu savviva ne lalito di dio e nei costumi tanto distante che la sua parvenza la dovio era ancor non appariva di seguitar la coronata fiamma che si levo appresso sua semenza tende le braccia poi che l latte prese per lanimo che nfin di fuor sinfiamma con la sua cima si che lalto affetto chelli avieno a maria mi fu palese regina celi cantando si dolce che mai da me non si parti l diletto in quelle arche ricchissime che fuoro a seminar qua giu buone bobolce che sacquisto piangendo ne lo essilio di babillon ove si lascio loro di dio e di maria di sua vittoria e con lantico e col novo concilio del benedetto agnello il qual vi ciba si che la vostra voglia e sempre piena di quel che cade de la vostra mensa prima che morte tempo li prescriba e roratelo alquanto voi bevete sempre del fonte onde vien quel chei pensagtgt si fero spere sopra fissi poli fiammando a volte a guisa di comete si giran si che l primo a chi pon mente quieto pare e lultimo che voli mente danzando de la sua ricchezza mi facieno stimar veloci e lente vidio uscire un foco si felice che nullo vi lascio di piu chiarezza si volse con un canto tanto divo che la mia fantasia nol mi ridice che limagine nostra a cotai pieghe non che l parlare e troppo color vivo divota per lo tuo ardente affetto da quella bella spera mi disleghegtgt a la mia donna dirizzo lo spiro che favello cosi comi ho detto a cui nostro segnor lascio le chiavi chei porto giu di questo gaudio miro come ti piace intorno de la fede per la qual tu su per lo mare andavi non te occulto perche l viso hai quivi dovogne cosa dipinta si vede per la verace fede a gloriarla di lei parlare e ben cha lui arrivigtgt fin che l maestro la question propone per approvarla non per terminarla mentre chella dicea per esser presto a tal querente e a tal professione fede che egtgt ondio levai la fronte in quella luce onde spirava questo sembianze femmi perchio spandessi lacqua di fuor del mio interno fonte comincia io ltltda lalto primipilo faccia li miei concetti bene espressigtgt ne scrisse padre del tuo caro frate che mise teco roma nel buon filo e argomento de le non parventi e questa pare a me sua quiditategtgt se bene intendi perche la ripuose tra le sustanze e poi tra li argomentigtgt che mi largiscon qui la lor parvenza a li occhi di la giu son si ascose sopra la qual si fonda lalta spene e pero di sustanza prende intenza silogizzar sanzavere altra vista pero intenza dargomento tenegtgt giu per dottrina fosse cosi nteso non li avria loco ingegno di sofistagtgt indi soggiunse ltltassai bene e trascorsa desta moneta gia la lega e l peso ondio ltltsi ho si lucida e si tonda che nel suo conio nulla mi sinforsagtgt che li splendeva ltltquesta cara gioia sopra la quale ogne virtu si fonda de lo spirito santo che diffusa in su le vecchie e n su le nuove cuoia acutamente si che nverso della ogne dimostrazion mi pare ottusagtgt proposizion che cosi ti conchiude perche lhai tu per divina favellagtgt son lopere seguite a che natura non scalda ferro mai ne batte incudegtgt che quellopere fosser quel medesmo che vuol provarsi non altri il ti giuragtgt dissio ltltsanza miracoli questuno e tal che li altri non sono il centesmo in campo a seminar la buona pianta che fu gia vite e ora e fatta prunogtgt risono per le spere un dio laudamo ne la melode che la su si canta essaminando gia tratto mavea che a lultime fronde appressavamo con la tua mente la bocca taperse infino a qui come aprir si dovea ma or conviene espremer quel che credi e onde a la credenza tua soffersegtgt cio che credesti si che tu vincesti ver lo sepulcro piu giovani piedigtgt la forma qui del pronto creder mio e anche la cagion di lui chiedesti solo ed etterno che tutto l ciel move non moto con amore e con disio fisice e metafisice ma dalmi anche la verita che quinci piove per levangelio e per voi che scriveste poi che lardente spirto vi fe almi credo una essenza si una e si trina che soffera congiunto sono ed este chio tocco mo la mente mi sigilla piu volte levangelica dottrina che si dilata in fiamma poi vivace e come stella in cielo in me scintillagtgt da indi abbraccia il servo gratulando per la novella tosto chel si tace tre volte cinse me si comio tacqui lappostolico lume al cui comando al quale ha posto mano e cielo e terra si che mha fatto per molti anni macro del bello ovile ovio dormi agnello nimico ai lupi che li danno guerra ritornero poeta e in sul fonte del mio battesmo prendero l cappello lanime a dio quivi intra io e poi pietro per lei si mi giro la fronte di quella spera ondusci la primizia che lascio cristo di vicari suoi mi disse ltltmira mira ecco il barone per cui la giu si vicita galiziagtgt presso al compagno luno a laltro pande girando e mormorando laffezione principe glorioso essere accolto laudando il cibo che la su li prande tacito coram me ciascun saffisse ignito si che vincea l mio volto ltltinclita vita per cui la larghezza de la nostra basilica si scrisse tu sai che tante fiate la figuri quante iesu ai tre fe piu carezzagtgt che cio che vien qua su del mortal mondo convien chai nostri raggi si maturigtgt mi venne ondio levai li occhi a monti che li ncurvaron pria col troppo pondo lo nostro imperadore anzi la morte ne laula piu secreta co suoi conti la spene che la giu bene innamora in te e in altrui di cio conforte la mente tua e di onde a te vennegtgt cosi segui l secondo lume ancora de le mie ali a cosi alto volo a la risposta cosi mi prevenne non ha con piu speranza come scritto nel sol che raggia tutto nostro stuolo vegna in ierusalemme per vedere anzi che l militar li sia prescritto son dimandati ma perchei rapporti quanto questa virtu te in piacere ne di iattanza ed elli a cio risponda e la grazia di dio cio li comportigtgt pronto e libente in quel chelli e esperto perche la sua bonta si disasconda de la gloria futura il qual produce grazia divina e precedente merto ma quei la distillo nel mio cor pria che fu sommo cantor del sommo duce dice color che sanno il nome tuo e chi nol sa selli ha la fede mia ne la pistola poi si chio son pieno e in altrui vostra pioggia repluogtgt di quello incendio tremolava un lampo subito e spesso a guisa di baleno ancor ver la virtu che mi seguette infin la palma e a luscir del campo di lei ed emmi a grato che tu diche quello che la speranza ti mpromettegtgt pongon lo segno ed esso lo mi addita de lanime che dio sha fatte amiche ne la sua terra fia di doppia vesta e la sua terra e questa dolce vita la dove tratta de le bianche stole questa revelazion ci manifestagtgt sperent in te di sopra noi sudi a che rispuoser tutte le carole si che se l cancro avesse un tal cristallo linverno avrebbe un mese dun sol di vergine lieta sol per fare onore a la novizia non per alcun fallo venire a due che si volgieno a nota qual conveniesi al loro ardente amore e la mia donna in lor tenea laspetto pur come sposa tacita e immota del nostro pellicano e questi fue di su la croce al grande officio elettogtgt mosser la vista sua di stare attenta poscia che prima le parole sue di vedere eclissar lo sole un poco che per veder non vedente diventa mentre che detto fu ltltperche tabbagli per veder cosa che qui non ha loco tanto con li altri che l numero nostro con letterno proposito sagguagli son le due luci sole che saliro e questo apporterai nel mondo vostrogtgt si quieto con esso il dolce mischio che si facea nel suon del trino spiro li remi pria ne lacqua ripercossi tutti si posano al sonar dun fischio quando mi volsi per veder beatrice per non poter veder benche io fossi de la fulgida fiamma che lo spense usci un spiro che mi fece attento de la vista che hai in me consunta ben e che ragionando la compense lanima tua e fa ragion che sia la vista in te smarrita e non defunta region ti conduce ha ne lo sguardo la virtu chebbe la man dananiagtgt vegna remedio a li occhi che fuor porte quandella entro col foco ondio semprardo alfa e o e di quanta scrittura mi legge amore o lievemente o fortegtgt tolta mavea del subito abbarbaglio di ragionare ancor mi mise in cura ti conviene schiarar dicer convienti chi drizzo larco tuo a tal berzagliogtgt e per autorita che quinci scende cotale amor convien che in me si mprenti cosi accende amore e tanto maggio quanto piu di bontate in se comprende che ciascun ben che fuor di lei si trova altro non e chun lume di suo raggio la mente amando di ciascun che cerne il vero in che si fonda questa prova colui che mi dimostra il primo amore di tutte le sustanze sempiterne che dice a moise di se parlando io ti faro vedere ogne valore lalto preconio che grida larcano di qui la giu sovra ogne altro bandogtgt e per autoritadi a lui concorde di tuoi amori a dio guarda il sovrano tirarti verso lui si che tu suone con quanti denti questo amor ti mordegtgt de laguglia di cristo anzi maccorsi dove volea menar mia professione che posson far lo cor volgere a dio a la mia caritate son concorsi la morte chel sostenne perchio viva e quel che spera ogne fedel comio tratto mhanno del mar de lamor torto e del diritto mhan posto a la riva de lortolano etterno amio cotanto quanto da lui a lor di bene e portogtgt risono per lo cielo e la mia donna dicea con li altri ltltsanto santo santogtgt per lo spirto visivo che ricorre a lo splendor che va di gonna in gonna si nescia e la subita vigilia fin che la stimativa non soccorre fugo beatrice col raggio di suoi che rifulgea da piu di mille milia e quasi stupefatto domandai dun quarto lume chio vidi tra noi vagheggia il suo fattor lanima prima che la prima virtu creasse maigtgt nel transito del vento e poi si leva per la propria virtu che la soblima stupendo e poi mi rifece sicuro un disio di parlare ondio ardeva solo prodotto fosti o padre antico a cui ciascuna sposa e figlia e nuro perche mi parli tu vedi mia voglia e per udirti tosto non la dicogtgt si che laffetto convien che si paia per lo seguir che face a lui la nvoglia mi facea trasparer per la coverta quantella a compiacermi venia gaia da te la voglia tua discerno meglio che tu qualunque cosa te piu certa che fa di se pareglio a laltre cose e nulla face lui di se pareglio ne leccelso giardino ove costei a cosi lunga scala ti dispuose e la propria cagion del gran disdegno e lidioma chusai e che fei fu per se la cagion di tanto essilio ma solamente il trapassar del segno quattromilia trecento e due volumi di sol desiderai questo concilio de la sua strada novecento trenta fiate mentre chio in terra fu mi innanzi che a lovra inconsummabile fosse la gente di nembrot attenta per lo piacere uman che rinovella seguendo il cielo sempre fu durabile ma cosi o cosi natura lascia poi fare a voi secondo che vabbella i sappellava in terra il sommo bene onde vien la letizia che mi fascia che luso di mortali e come fronda in ramo che sen va e altra vene fu io con vita pura e disonesta da la primora a quella che seconda comincio gloria tutto l paradiso si che minebriava il dolce canto de luniverso per che mia ebbrezza intrava per ludire e per lo viso oh vita integra damore e di pace oh sanza brama sicura ricchezza stavano accese e quella che pria venne incomincio a farsi piu vivace qual diverrebbe iove selli e marte fossero augelli e cambiassersi penne vice e officio nel beato coro silenzio posto avea da ogne parte non ti maravigliar che dicendio vedrai trascolorar tutti costoro il luogo mio il luogo mio che vaca ne la presenza del figliuol di dio del sangue e de la puzza onde l perverso che cadde di qua su la giu si placagtgt nube dipigne da sera e da mane vidio allora tutto l ciel cosperso di se sicura e per laltrui fallanza pur ascoltando timida si fane e tale eclissi credo che n ciel fue quando pati la supprema possanza con voce tanto da se trasmutata che la sembianza non si muto piue del sangue mio di lin di quel di cleto per essere ad acquisto doro usata e sisto e pio e calisto e urbano sparser lo sangue dopo molto fleto di nostri successor parte sedesse parte da laltra del popol cristiano divenisser signaculo in vessillo che contra battezzati combattesse a privilegi venduti e mendaci ondio sovente arrosso e disfavillo si veggion di qua su per tutti i paschi o difesa di dio perche pur giaci sapparecchian di bere o buon principio a che vil fine convien che tu caschi difese a roma la gloria del mondo soccorra tosto si comio concipio ancor giu tornerai apri la bocca e non asconder quel chio non ascondogtgt in giuso laere nostro quando l corno de la capra del ciel col sol si tocca farsi e fioccar di vapor triunfanti che fatto avien con noi quivi soggiorno e segui fin che l mezzo per lo molto li tolse il trapassar del piu avanti de lattendere in su mi disse ltltadima il viso e guarda come tu se voltogtgt i vidi mosso me per tutto larco che fa dal mezzo al fine il primo clima folle dulisse e di qua presso il lito nel qual si fece europa dolce carco di questa aiuola ma l sol procedea sotto i mie piedi un segno e piu partito con la mia donna sempre di ridure ad essa li occhi piu che mai ardea da pigliare occhi per aver la mente in carne umana o ne le sue pitture ver lo piacer divin che mi refulse quando mi volsi al suo viso ridente del bel nido di leda mi divelse e nel ciel velocissimo mimpulse si uniforme son chi non so dire qual beatrice per loco mi scelse incomincio ridendo tanto lieta che dio parea nel suo volto gioire il mezzo e tutto laltro intorno move quinci comincia come da sua meta che la mente divina in che saccende lamor che l volge e la virtu chei piove si come questo li altri e quel precinto colui che l cinge solamente intende ma li altri son mensurati da questo si come diece da mezzo e da quinto le sue radici e ne li altri le fronde omai a te puo esser manifesto si sotto te che nessuno ha podere di trarre li occhi fuor de le tue onde ma la pioggia continua converte in bozzacchioni le sosine vere solo ne parvoletti poi ciascuna pria fugge che le guance sian coperte che poi divora con la lingua sciolta qualunque cibo per qualunque luna la madre sua che con loquela intera disia poi di vederla sepolta nel primo aspetto de la bella figlia di quel chapporta mane e lascia sera pensa che n terra non e chi governi onde si svia lumana famiglia per la centesma che la giu negletta raggeran si questi cerchi superni le poppe volgera u son le prore si che la classe correra diretta di miseri mortali aperse l vero quella che mparadisa la mia mente vede colui che se nalluma retro prima che labbia in vista o in pensiero li dice il vero e vede chel saccorda con esso come nota con suo metro chio feci riguardando ne belli occhi onde a pigliarmi fece amor la corda li miei da cio che pare in quel volume quandunque nel suo giro ben sadocchi acuto si che l viso chelli affoca chiuder conviensi per lo forte acume parrebbe luna locata con esso come stella con stella si colloca alo cigner la luce che l dipigne quando l vapor che l porta piu e spesso si girava si ratto chavria vinto quel moto che piu tosto il mondo cigne e quel dal terzo e l terzo poi dal quarto dal quinto il quarto e poi dal sesto il quinto gia di larghezza che l messo di iuno intero a contenerlo sarebbe arto piu tardo si movea secondo chera in numero distante piu da luno cui men distava la favilla pura credo pero che piu di lei sinvera forte sospeso disse ltltda quel punto depende il cielo e tutta la natura e sappi che l suo muovere e si tosto per laffocato amore ondelli e puntogtgt con lordine chio veggio in quelle rote sazio mavrebbe cio che me proposto veder le volte tanto piu divine quantelle son dal centro piu remote in questo miro e angelico templo che solo amore e luce ha per confine e lessemplare non vanno dun modo che io per me indarno a cio contemplogtgt sufficienti non e maraviglia tanto per non tentare e fatto sodogtgt quel chio ti dicero se vuo saziarti e intorno da esso tassottiglia secondo il piu e l men de la virtute che si distende per tutte lor parti maggior salute maggior corpo cape selli ha le parti igualmente compiute laltro universo seco corrisponde al cerchio che piu ama e che piu sape la tua misura non a la parvenza de le sustanze che tappaion tonde di maggio a piu e di minore a meno in ciascun cielo a sua intelligenzagtgt lemisperio de laere quando soffia borea da quella guancia onde piu leno che pria turbava si che l ciel ne ride con le bellezze dogne sua paroffia la donna mia del suo risponder chiaro e come stella in cielo il ver si vide non altrimenti ferro disfavilla che bolle come i cerchi sfavillaro ed eran tante che l numero loro piu che l doppiar de li scacchi sinmilla al punto fisso che li tiene a li ubi e terra sempre ne quai sempre fuoro ne la mia mente disse ltlti cerchi primi thanno mostrato serafi e cherubi per somigliarsi al punto quanto ponno e posson quanto a veder son soblimi si chiaman troni del divino aspetto per che l primo ternaro terminonno quanto la sua veduta si profonda nel vero in che si queta ogne intelletto lessere beato ne latto che vede non in quel chama che poscia seconda che grazia partorisce e buona voglia cosi di grado in grado si procede in questa primavera sempiterna che notturno ariete non dispoglia con tre melode che suonano in tree ordini di letizia onde sinterna prima dominazioni e poi virtudi lordine terzo di podestadi ee principati e arcangeli si girano lultimo e tutto dangelici ludi e di giu vincon si che verso dio tutti tirati sono e tutti tirano a contemplar questi ordini si mise che li nomo e distinse comio onde si tosto come li occhi aperse in questo ciel di se medesmo rise mortale in terra non voglio chammiri che chi l vide qua su gliel discoperse coperti del montone e de la libra fanno de lorizzonte insieme zona infin che luno e laltro da quel cinto cambiando lemisperio si dilibra si tacque beatrice riguardando fiso nel punto che mavea vinto quel che tu vuoli udir perchio lho visto la ve sappunta ogne ubi e ogne quando chesser non puo ma perche suo splendore potesse risplendendo dir subsisto fuor dogne altro comprender come i piacque saperse in nuovi amor letterno amore che ne prima ne poscia procedette lo discorrer di dio sovra questacque usciro ad esser che non avia fallo come darco tricordo tre saette raggio resplende si che dal venire a lesser tutto non e intervallo ne lesser suo raggio insieme tutto sanza distinzione in essordire a le sustanze e quelle furon cima nel mondo in che puro atto fu produtto nel mezzo strinse potenza con atto tal vime che gia mai non si divima di secoli de li angeli creati anzi che laltro mondo fosse fatto da li scrittor de lo spirito santo e tu te navvedrai se bene agguati che non concederebbe che motori sanza sua perfezion fosser cotanto furon creati e come si che spenti nel tuo disio gia son tre ardori si tosto come de li angeli parte turbo il suggetto di vostri alementi che tu discerni con tanto diletto che mai da circuir non si diparte superbir di colui che tu vedesti da tutti i pesi del mondo costretto a riconoscer se da la bontate che li avea fatti a tanto intender presti con grazia illuminante e con lor merto si channo ferma e piena volontate che ricever la grazia e meritorio secondo che laffetto le aperto puoi contemplare assai se le parole mie son ricolte sanzaltro aiutorio si legge che langelica natura e tal che ntende e si ricorda e vole la verita che la giu si confonde equivocando in si fatta lettura de la faccia di dio non volser viso da essa da cui nulla si nasconde da novo obietto e pero non bisogna rememorar per concetto diviso credendo e non credendo dicer vero ma ne luno e piu colpa e piu vergogna filosofando tanto vi trasporta lamor de lapparenza e l suo pensiero con men disdegno che quando e posposta la divina scrittura o quando e torta seminarla nel mondo e quanto piace chi umilmente con essa saccosta sue invenzioni e quelle son trascorse da predicanti e l vangelio si tace ne la passion di cristo e sinterpuose per che l lume del sol giu non si porse da se pero a li spani e a lindi come a giudei tale eclissi rispuose quante si fatte favole per anno in pergamo si gridan quinci e quindi tornan del pasco pasciute di vento e non le scusa non veder lo danno andate e predicate al mondo ciance ma diede lor verace fondamento si cha pugnar per accender la fede de levangelio fero scudo e lance a predicare e pur che ben si rida gonfia il cappuccio e piu non si richiede che se l vulgo il vedesse vederebbe la perdonanza di chel si confida che sanza prova dalcun testimonio ad ogne promession si correrebbe e altri assai che sono ancor piu porci pagando di moneta sanza conio li occhi oramai verso la dritta strada si che la via col tempo si raccorci in numero che mai non fu loquela ne concetto mortal che tanto vada per daniel vedrai che n sue migliaia determinato numero si cela per tanti modi in essa si recepe quanti son li splendori a chi sappaia segue laffetto damar la dolcezza diversamente in essa ferve e tepe de letterno valor poscia che tanti speculi fatti sha in che si spezza ci ferve lora sesta e questo mondo china gia lombra quasi al letto piano comincia a farsi tal chalcuna stella perde il parere infino a questo fondo del sol piu oltre cosi l ciel si chiude di vista in vista infino a la piu bella sempre dintorno al punto che mi vinse parendo inchiuso da quel chelli nchiude per che tornar con li occhi a beatrice nulla vedere e amor mi costrinse fosse conchiuso tutto in una loda poca sarebbe a fornir questa vice non pur di la da noi ma certo io credo che solo il suo fattor tutta la goda piu che gia mai da punto di suo tema soprato fosse comico o tragedo cosi lo rimembrar del dolce riso la mente mia da me medesmo scema in questa vita infino a questa vista non me il seguire al mio cantar preciso piu dietro a sua bellezza poetando come a lultimo suo ciascuno artista che quel de la mia tuba che deduce lardua sua matera terminando ricomincio ltltnoi siamo usciti fore del maggior corpo al ciel che pura luce amor di vero ben pien di letizia letizia che trascende ogne dolzore di paradiso e luna in quelli aspetti che tu vedrai a lultima giustiziagtgt li spiriti visivi si che priva da latto locchio di piu forti obietti e lasciommi fasciato di tal velo del suo fulgor che nulla mappariva accoglie in se con si fatta salute per far disposto a sua fiamma il candelogtgt queste parole brievi chio compresi me sormontar di sopra mia virtute tale che nulla luce e tanto mera che li occhi miei non si fosser difesi fulvido di fulgore intra due rive dipinte di mirabil primavera e dogne parte si mettien ne fiori quasi rubin che oro circunscrive riprofondavan se nel miro gurge e suna intrava unaltra nuscia fori daver notizia di cio che tu vei tanto mi piace piu quanto piu turge prima che tanta sete in te si sazigtgt cosi mi disse il sol de li occhi miei chentrano ed escono e l rider de lerbe son di lor vero umbriferi prefazi ma e difetto da la parte tua che non hai viste ancor tanto superbegtgt col volto verso il latte se si svegli molto tardato da lusanza sua ancor de li occhi chinandomi a londa che si deriva perche vi simmegli de le palpebre mie cosi mi parve di sua lunghezza divenuta tonda che pare altro che prima se si sveste la sembianza non sua in che disparve li fiori e le faville si chio vidi ambo le corti del ciel manifeste lalto triunfo del regno verace dammi virtu a dir comio il vidi lo creatore a quella creatura che solo in lui vedere ha la sua pace in tanto che la sua circunferenza sarebbe al sol troppo larga cintura reflesso al sommo del mobile primo che prende quindi vivere e potenza si specchia quasi per vedersi addorno quando e nel verde e ne fioretti opimo vidi specchiarsi in piu di mille soglie quanto di noi la su fatto ha ritorno si grande lume quanta e la larghezza di questa rosa ne lestreme foglie non si smarriva ma tutto prendeva il quanto e l quale di quella allegrezza che dove dio sanza mezzo governa la legge natural nulla rileva che si digrada e dilata e redole odor di lode al sol che sempre verna mi trasse beatrice e disse ltltmira quanto e l convento de le bianche stole vedi li nostri scanni si ripieni che poca gente piu ci si disira per la corona che gia ve su posta prima che tu a queste nozze ceni de lalto arrigo cha drizzare italia verra in prima chella sia disposta simili fatti vha al fantolino che muor per fame e caccia via la balia allora tal che palese e coverto non andera con lui per un cammino nel santo officio chel sara detruso la dove simon mago e per suo merto mi si mostrava la milizia santa che nel suo sangue cristo fece sposa la gloria di colui che la nnamora e la bonta che la fece cotanta una fiata e una si ritorna la dove suo laboro sinsapora di tante foglie e quindi risaliva la dove l suo amor sempre soggiorna e lali doro e laltro tanto bianco che nulla neve a quel termine arriva porgevan de la pace e de lardore chelli acquistavan ventilando il fianco di tanta moltitudine volante impediva la vista e lo splendore per luniverso secondo che degno si che nulla le puote essere ostante frequente in gente antica e in novella viso e amore avea tutto ad un segno scintillando a lor vista si li appaga guarda qua giuso a la nostra procella che ciascun giorno delice si cuopra rotante col suo figlio ondella e vaga stupefaciensi quando laterano a le cose mortali ando di sopra a letterno dal tempo era venuto e di fiorenza in popol giusto e sano certo tra esso e l gaudio mi facea libito non udire e starmi muto nel tempio del suo voto riguardando e spera gia ridir comello stea menava io li occhi per li gradi mo su mo giu e mo recirculando daltrui lume fregiati e di suo riso e atti ornati di tutte onestadi gia tutta mio sguardo avea compresa in nulla parte ancor fermato fiso per domandar la mia donna di cose di che la mente mia era sospesa credea veder beatrice e vidi un sene vestito con le genti gloriose di benigna letizia in atto pio quale a tenero padre si convene ondelli ltlta terminar lo tuo disiro mosse beatrice me del loco mio dal sommo grado tu la rivedrai nel trono che suoi merti le sortirogtgt e vidi lei che si facea corona reflettendo da se li etterni rai occhio mortale alcun tanto non dista qualunque in mare piu giu sabbandona ma nulla mi facea che sua effige non discendea a me per mezzo mista e che soffristi per la mia salute in inferno lasciar le tue vestige dal tuo podere e da la tua bontate riconosco la grazia e la virtute per tutte quelle vie per tutti modi che di cio fare avei la potestate si che lanima mia che fatthai sana piacente a te dal corpo si disnodigtgt come parea sorrise e riguardommi poi si torno a letterna fontana perfettamentegtgt disse ltltil tuo cammino a che priego e amor santo mandommi che veder lui tacconcera lo sguardo piu al montar per lo raggio divino tutto damor ne fara ogne grazia pero chi sono il suo fedel bernardogtgt viene a veder la veronica nostra che per lantica fame non sen sazia segnor mio iesu cristo dio verace or fu si fatta la sembianza vostra carita di colui che n questo mondo contemplando gusto di quella pace comincio elli ltltnon ti sara noto tenendo li occhi pur qua giu al fondo tanto che veggi seder la regina cui questo regno e suddito e devotogtgt la parte oriental de lorizzonte soverchia quella dove l sol declina con li occhi vidi parte ne lo stremo vincer di lume tutta laltra fronte che mal guido fetonte piu sinfiamma e quinci e quindi il lume si fa scemo nel mezzo savvivava e dogne parte per igual modo allentava la fiamma vidio piu di mille angeli festanti ciascun distinto di fulgore e darte ridere una bellezza che letizia era ne li occhi a tutti li altri santi quanta ad imaginar non ardirei lo minimo tentar di sua delizia nel caldo suo caler fissi e attenti li suoi con tanto affetto volse a lei libero officio di dottore assunse e comincio queste parole sante quella che tanto bella da suoi piedi e colei che laperse e che la punse siede rachel di sotto da costei con beatrice si come tu vedi che fu bisava al cantor che per doglia del fallo disse miserere mei giu digradar comio cha proprio nome vo per la rosa giu di foglia in foglia infino ad esso succedono ebree dirimendo del fior tutte le chiome la fede in cristo queste sono il muro a che si parton le sacre scalee di tutte le sue foglie sono assisi quei che credettero in cristo venturo di voti i semicirculi si stanno quei cha cristo venuto ebber li visi de la donna del cielo e li altri scanni di sotto lui cotanta cerna fanno che sempre santo l diserto e l martiro sofferse e poi linferno da due anni francesco benedetto e augustino e altri fin qua giu di giro in giro che luno e laltro aspetto de la fede igualmente empiera questo giardino a mezzo il tratto le due discrezioni per nullo proprio merito si siede che tutti questi son spiriti ascolti prima chavesser vere elezioni e anche per le voci puerili se tu li guardi bene e se li ascolti ma io disciogliero l forte legame in che ti stringon li pensier sottili casual punto non puote aver sito se non come tristizia o sete o fame quantunque vedi si che giustamente ci si risponde da lanello al dito a vera vita non e sine causa intra se qui piu e meno eccellente in tanto amore e in tanto diletto che nulla volonta e di piu ausa creando a suo piacer di grazia dota diversamente e qui basti leffetto ne la scrittura santa in quei gemelli che ne la madre ebber lira commota di cotal grazia laltissimo lume degnamente convien che sincappelli locati son per gradi differenti sol differendo nel primiero acume con linnocenza per aver salute solamente la fede di parenti convenne ai maschi a linnocenti penne per circuncidere acquistar virtute sanza battesmo perfetto di cristo tale innocenza la giu si ritenne piu si somiglia che la sua chiarezza sola ti puo disporre a veder cristogtgt piover portata ne le menti sante create a trasvolar per quella altezza di tanta ammirazion non mi sospese ne mi mostro di dio tanto sembiante cantando ave maria gratia plena dinanzi a lei le sue ali distese da tutte parti la beata corte si chogne vista sen fe piu serena lesser qua giu lasciando il dolce loco nel qual tu siedi per etterna sorte guarda ne li occhi la nostra regina innamorato si che par di focogtgt di colui chabbelliva di maria come del sole stella mattutina quantesser puote in angelo e in alma tutta e in lui e si volem che sia giuso a maria quando l figliuol di dio carcar si volse de la nostra salma andro parlando e nota i gran patrici di questo imperio giustissimo e pio per esser propinquissimi ad augusta son desta rosa quasi due radici e il padre per lo cui ardito gusto lumana specie tanto amaro gusta di santa chiesa a cui cristo le clavi raccomando di questo fior venusto pria che morisse de la bella sposa che sacquisto con la lancia e coi clavi quel duca sotto cui visse di manna la gente ingrata mobile e retrosa tanto contenta di mirar sua figlia che non move occhio per cantare osanna siede lucia che mosse la tua donna quando chinavi a rovinar le ciglia qui farem punto come buon sartore che comelli ha del panno fa la gonna si che guardando verso lui penetri quante possibil per lo suo fulgore movendo lali tue credendo oltrarti orando grazia conven che simpetri e tu mi seguirai con laffezione si che dal dicer mio lo cor non partigtgt umile e alta piu che creatura termine fisso detterno consiglio nobilitasti si che l suo fattore non disdegno di farsi sua fattura per lo cui caldo ne letterna pace cosi e germinato questo fiore di caritate e giuso intra mortali se di speranza fontana vivace che qual vuol grazia e a te non ricorre sua disianza vuol volar sanzali a chi domanda ma molte fiate liberamente al dimandar precorre in te magnificenza in te saduna quantunque in creatura e di bontate de luniverso infin qui ha vedute le vite spiritali ad una ad una tanto che possa con li occhi levarsi piu alto verso lultima salute piu chi fo per lo suo tutti miei prieghi ti porgo e priego che non sieno scarsi di sua mortalita co prieghi tuoi si che l sommo piacer li si dispieghi cio che tu vuoli che conservi sani dopo tanto veder li affetti suoi vedi beatrice con quanti beati per li miei prieghi ti chiudon le manigtgt fissi ne lorator ne dimostraro quanto i devoti prieghi le son grati nel qual non si dee creder che sinvii per creatura locchio tanto chiaro appropinquava si comio dovea lardor del desiderio in me finii perchio guardassi suso ma io era gia per me stesso tal qual ei volea e piu e piu intrava per lo raggio de lalta luce che da se e vera che l parlar mostra cha tal vista cede e cede la memoria a tanto oltraggio che dopo l sogno la passione impressa rimane e laltro a la mente non riede mia visione e ancor mi distilla nel core il dolce che nacque da essa cosi al vento ne le foglie levi si perdea la sentenza di sibilla da concetti mortali a la mia mente ripresta un poco di quel che parevi chuna favilla sol de la tua gloria possa lasciare a la futura gente e per sonare un poco in questi versi piu si concepera di tua vittoria del vivo raggio chi sarei smarrito se li occhi miei da lui fossero aversi per questo a sostener tanto chi giunsi laspetto mio col valore infinito ficcar lo viso per la luce etterna tanto che la veduta vi consunsi legato con amore in un volume cio che per luniverso si squaderna quasi conflati insieme per tal modo che cio chi dico e un semplice lume credo chi vidi perche piu di largo dicendo questo mi sento chi godo che venticinque secoli a la mpresa che fe nettuno ammirar lombra dargo mirava fissa immobile e attenta e sempre di mirar faceasi accesa che volgersi da lei per altro aspetto e impossibil che mai si consenta tutto saccoglie in lei e fuor di quella e defettivo cio che li perfetto pur a quel chio ricordo che dun fante che bagni ancor la lingua a la mammella fosse nel vivo lume chio mirava che tal e sempre qual sera davante in me guardando una sola parvenza mutandomio a me si travagliava de lalto lume parvermi tre giri di tre colori e duna contenenza parea reflesso e l terzo parea foco che quinci e quindi igualmente si spiri al mio concetto e questo a quel chi vidi e tanto che non basta a dicer poco sola tintendi e da te intelletta e intendente te ami e arridi pareva in te come lume reflesso da li occhi miei alquanto circunspetta mi parve pinta de la nostra effige per che l mio viso in lei tutto era messo per misurar lo cerchio e non ritrova pensando quel principio ondelli indige veder voleva come si convenne limago al cerchio e come vi sindova se non che la mia mente fu percossa da un fulgore in che sua voglia venne ma gia volgeva il mio disio e l velle si come rota chigualmente e mossa wo ich die baukunst eine erstarrte musik nenne johann wolfgang goethe march i found dante in a bar the poet had indeed lost the true way to be found reduced to party chatter in a capitol hill basement but i had found him at last i must have been drinking in the dark tavern of error for i did not even realize i had begun the dolorous path followed by many since the poets journey of ad actually no one spoke a word about dante or his divine comedy rather i heard a secondhand goethe call architecture frozen music soon i took my second step through the gate to a people lost this time on a more respectable occasion a lecture at the catholic university of america clio the muse of history must have been aiding prof schumacher that evening because it sustained my full threehour attention even after i had just presented an allnight project there i heard of a most astonishing italian translation of la divina commedia di dante alighieri an italian architect giuseppi terragni had translated the comedy into the danteum a projected stone and glass monument to poet and poem near the basilica of maxentius in rome do not look for the danteum in the eternal city in true dantean form politics stood in the way of its construction in ironically this literatureinspired building can itself most easily be found in book form reading this book i remembered goethes quote about frozen music did terragni try to freeze dantes medieval miracle of song certainly a coldpoem seems artistically repulsive unflattering comparisons to the lake of cocytus spring to mind too while i cannot read italian i can read some german after locating the original quotation i discovered that frozen is a problematic though common translation of goethes original erstarrte the verb erstarren more properly means to solidify or to stiffen this suggests a chemical reaction in which the art does not necessarily chill in the transformation nor can simple thawing yield the original work like a chemical reaction it requires an artistic catalyst a muse indeed the danteum is not a physical translation of the poem terragni thought it inappropriate to translate the comedy literally into a nonliterary work the danteum would not be a stage set rather terragni generated his design from the comedys structure not its finishes the poem is divided into three canticles of thirtythree cantos each plus one extra in the first the inferno making a total of one hundred cantos each canto is composed of threeline tercets the first and third lines rhyme the second line rhymes with the beginning of the next tercet establishing a kind of overlap reflected in the overlapping motif of the danteum design dantes realms are further subdivided the inferno is composed of nine levels the vestibule makes a tenth purgatory has seven terraces plus two ledges in an antepurgatory adding these to the earthly paradise yields ten zones paradise is composed of nine heavens empyrean makes the tenth in the inferno sinners are organized by three vices incontinence violence and fraud and further subdivided by the seven deadly sins in purgatory penance is ordered on the basis of three types of natural love paradise is organized on the basis of three types of divine love and further subdivided according to the three theological and four cardinal virtues thomas schumacher the danteum princeton architectural press by translating the structure terragni could then layer the literal and the spiritual meanings of the poem without allowing either to dominate these layers of meaning are native to the divine comedy as they are native to much medieval literature although modern readers and tourists may not be so familiar with them they are literal allegorical moral and anagogical i offer you st thomas of aquinas definition of these last three as they relate to sacred scripture this spiritual sense has a threefold division so far as the things of the old law signify the things of the new law there is the allegorical sense so far as the things done in christ or so far as the things which signify christ are types of what we ought to do there is the moral sense but so far as they signify what relates to eternal glory there is the anagogical sense summa theologica i within the danteum the poets meanings lurk in solid form an example the danteum design does have spaces literally associated with the comedy the dark wood of error inferno purgatorio and the paradiso but these spaces also relate among themselves spiritually dante often highlights a virtue by first condemning its corruption within dantes system justice is the greatest of the cardinal virtues its corruption fraud is the most contemptible of vices because dante saw the papacy as the most precious of sacred institutions corrupt popes figure prominently among the damned in the poets inferno in the danteum the materiality of the worldly dark wood directly opposes the transcendence of the paradiso in the realm of error every thought is lost and secular while in heaven every souls intent is directed toward god the shadowy inferno of the danteum mirrors the purgatorios illuminated ascent to heaven purgatory embodies hope and growth where hell chases its own dark inertia such is the cosmography shared by terragni and dante in this postscript i intend neither to fully examine the meaning nor the plan of the danteum but rather to evince the power that art has acted as a catalyst to other artists the danteum a modern design inspired by a medieval poem is but one example dantes poem is filled with characters epitomizing the full range of vices and virtues of human personalities dantes characters come from his present and literatures past they are mythological biblical classical ancient and medieval they rather than calliope and her sisters were dantes muses la divina commedia seems a natural candidate to complete project gutenbergs first milleditio and to begin its second thousand etexts although distinctly medieval its continuum of influence spans the renaissance and modernity terragni saw his place within the comedy as surely as dante saw his own we too fit within dantes understanding of the human condition we differ less from our past than we might like to believe t s eliot understood this when he wrote dante and shakespeare divide the modern world between them there is no third so now dante joins shakespeare etext in the project gutenberg collection two works that influenced dante are also part of the collection the bible and virgils aeneid other major influences st thomas of aquinas summa theologica the metamorphoses of ovid and aristotles nicomachean ethics are available in electronic form at other internet sites if one searches enough he may even find a computer rendering of the danteum on the internet by presenting this electronic text to project gutenberg it is my hope that in will not rest in a computer unknown and unread it is my hope that artists will see themselves in the divine comedy and be inspired just as dante ran the paths left by virgil and st thomas that lead him to the stars dennis mccarthy july atlanta georgia usa imprimaturjunocom this edition has been rendered in bit ascii special italian characters that require an bit format have been transcribed into multiple characters below is a chart with the bit character which may not display properly its written description and how it has been rendered in this bit version guillemot left ltlt guillemot right gtgt a grave accent a at the end of a word otherwise a e grave accent e at the end of a word otherwise e e acute accent e at the end of a word otherwise e i grave accent i at the end of a word otherwise i i diaresisumlaut ii o grave accent o at the end of a word otherwise o o acute accent o at the end of a word otherwise o u grave accent u at the end of a word otherwise u italic text displayed with markup tags ltigtitalicltigt in the bit version has has not been rendered here to view the italics and special characters please refer to the bit or html version of this etext la divina commedia di dante alighieri bit text')"
      ]
     },
     "execution_count": 21,
     "metadata": {},
     "output_type": "execute_result"
    }
   ],
   "source": [
    "text_rdd.first()"
   ]
  },
  {
   "cell_type": "markdown",
   "metadata": {},
   "source": [
    "### Saving the metadata as a broadcast variable"
   ]
  },
  {
   "cell_type": "markdown",
   "metadata": {},
   "source": [
    "As we manipulate the dataset, we will want ready access to the metadata, but we don't want to have to read it off the disk every time. We can extract it from the RDD and save it in a dictionary for later use: "
   ]
  },
  {
   "cell_type": "code",
   "execution_count": 22,
   "metadata": {
    "collapsed": true
   },
   "outputs": [],
   "source": [
    "# set up the list of fields\n",
    "metadata_fields = text_rdd.first()[0].keys() # this takes the metadata of the first element and extracts the keys\n",
    "meta_dict = dict()\n",
    "for meta in text_rdd.keys().collect() :\n",
    "    meta_dict[meta['gid']] = {key: meta[key] for key in metadata_fields}"
   ]
  },
  {
   "cell_type": "markdown",
   "metadata": {},
   "source": [
    "This is now a look-up table that allows us to quickly access all the metadata indexed by `gid`. For example:"
   ]
  },
  {
   "cell_type": "code",
   "execution_count": 23,
   "metadata": {
    "collapsed": false
   },
   "outputs": [
    {
     "data": {
      "text/plain": [
       "{'birth_year': u'1954',\n",
       " 'death_year': None,\n",
       " 'downloads': u'352',\n",
       " 'first_name': u'Bruce',\n",
       " 'gid': 101,\n",
       " 'lang': u'en',\n",
       " 'last_name': u'Sterling',\n",
       " 'title': u'The Hacker Crackdown: Law and Disorder on the Electronic Frontier'}"
      ]
     },
     "execution_count": 23,
     "metadata": {},
     "output_type": "execute_result"
    }
   ],
   "source": [
    "meta_dict[101]"
   ]
  },
  {
   "cell_type": "markdown",
   "metadata": {},
   "source": [
    "To get, for example, the author birth year for book with `gid = 101`:"
   ]
  },
  {
   "cell_type": "code",
   "execution_count": 24,
   "metadata": {
    "collapsed": false
   },
   "outputs": [
    {
     "data": {
      "text/plain": [
       "u'1954'"
      ]
     },
     "execution_count": 24,
     "metadata": {},
     "output_type": "execute_result"
    }
   ],
   "source": [
    "meta_dict[101]['birth_year']"
   ]
  },
  {
   "cell_type": "markdown",
   "metadata": {},
   "source": [
    "We'll need this lookup table often in the analysis. Since it will be used in many `map` transformations, we would have to send it across the wire every time we used it. Alternatively, we could read the metadata off the disk every time, but this is even worse for many reasons (for one, there are many thousands of RDF files). \n",
    "\n",
    "Instead, Spark offers us a [broadcast variable](http://spark.apache.org/docs/latest/programming-guide.html#broadcast-variables) mechanism. This allows us to distribute a non-trivial piece of data to all nodes and keep it there. When the code running on the nodes needs a value from the broadcast variable, it is simply grabbed from memory. Since the variable is stored in the JVM on the executor, if the executor runs many cores, those cores can share the data therefore even further reducing unnecessary network traffic. "
   ]
  },
  {
   "cell_type": "code",
   "execution_count": 25,
   "metadata": {
    "collapsed": true
   },
   "outputs": [],
   "source": [
    "# call it meta_b for 'broadcast'\n",
    "meta_b = sc.broadcast(meta_dict)"
   ]
  },
  {
   "cell_type": "markdown",
   "metadata": {},
   "source": [
    "The underlying data object stored in `meta_b` can be accessed simply by\n",
    "\n",
    "    > meta_b.value\n",
    "    \n",
    "We'll make use of this soon. If you check the console output, you will see an INFO message that the broadcast has been created, i.e. \n",
    "\n",
    "```\n",
    "15/06/24 17:18:44 INFO storage.MemoryStore: Block broadcast_6_piece0 stored as bytes in memory (estimated size 910.7 KB, free 4.1 GB)\n",
    "15/06/24 17:18:44 INFO storage.BlockManagerInfo: Added broadcast_6_piece0 in memory on 10.201.20.22:47821 (size: 910.7 KB, free: 4.1 GB)\n",
    "15/06/24 17:18:44 INFO spark.SparkContext: Created broadcast 6 from broadcast at PythonRDD.scala:403\n",
    "```"
   ]
  },
  {
   "cell_type": "markdown",
   "metadata": {},
   "source": [
    "## Save the raw dataset to HDFS (or local storage)\n",
    "\n",
    "As a final bit of preparation before continuing with analysis, we save the raw data in a way that makes it faster to access later. We don't want to have to read the data off local disk every time we need to repeat some part of the analysis. Instead, it's much more advantageous to use the Hadoop Distributed File System (HDFS) to store the data once we've read it in and put it in a `key,value` format. "
   ]
  },
  {
   "cell_type": "code",
   "execution_count": null,
   "metadata": {
    "collapsed": false
   },
   "outputs": [],
   "source": [
    "text_rdd.saveAsPickleFile('hdfs:///user/roskarr/gutenberg/raw_text_rdd')"
   ]
  },
  {
   "cell_type": "markdown",
   "metadata": {},
   "source": [
    "Now, whenever we need it, we can read the data off the HDFS instead: "
   ]
  },
  {
   "cell_type": "code",
   "execution_count": 27,
   "metadata": {
    "collapsed": true
   },
   "outputs": [],
   "source": [
    "loaded_text_rdd = sc.pickleFile('hdfs:///user/roskarr/gutenberg/raw_text_rdd')"
   ]
  },
  {
   "cell_type": "code",
   "execution_count": 28,
   "metadata": {
    "collapsed": false
   },
   "outputs": [
    {
     "name": "stdout",
     "output_type": "stream",
     "text": [
      "CPU times: user 101 ms, sys: 23 ms, total: 124 ms\n",
      "Wall time: 10.8 s\n"
     ]
    },
    {
     "data": {
      "text/plain": [
       "15081"
      ]
     },
     "execution_count": 28,
     "metadata": {},
     "output_type": "execute_result"
    }
   ],
   "source": [
    "%time loaded_text_rdd.count()"
   ]
  },
  {
   "cell_type": "markdown",
   "metadata": {},
   "source": [
    "Compare this read time to nearly two minutes it took to read it off the local filesystem initially. If you look at the details for this stage in the Spark UI you can understand why this is: in the column named \"locality level\", you see that for many tasks it says `NODE LOCAL` while for others it might say `RACK LOCAL`. These mean that either the data chunk was physically present on the disk of the node that was reading it in (`NODE LOCAL`) or it was on one of the nodes on the same switch (`RACK LOCAL`). Of course the additional advantage is not having to deal with the filesystem overhead of 10k+ small files.  "
   ]
  },
  {
   "cell_type": "markdown",
   "metadata": {},
   "source": [
    "## Cleaning the data with filtering"
   ]
  },
  {
   "cell_type": "markdown",
   "metadata": {},
   "source": [
    "Now we're ready to do some quality checks on the data. Let's check out the first couple of metadata entries: "
   ]
  },
  {
   "cell_type": "code",
   "execution_count": 29,
   "metadata": {
    "collapsed": false
   },
   "outputs": [
    {
     "data": {
      "text/plain": [
       "[{'birth_year': None,\n",
       "  'death_year': None,\n",
       "  'downloads': u'243',\n",
       "  'first_name': None,\n",
       "  'gid': 1000,\n",
       "  'lang': u'en',\n",
       "  'last_name': None,\n",
       "  'title': '- No Title -'},\n",
       " {'birth_year': u'1265',\n",
       "  'death_year': u'1321',\n",
       "  'downloads': u'931',\n",
       "  'first_name': None,\n",
       "  'gid': 1001,\n",
       "  'lang': u'en',\n",
       "  'last_name': u'Dante Alighieri',\n",
       "  'title': u\"Divine Comedy, Longfellow's Translation, Hell\"},\n",
       " {'birth_year': u'1807',\n",
       "  'death_year': u'1882',\n",
       "  'downloads': u'25',\n",
       "  'first_name': None,\n",
       "  'gid': 1002,\n",
       "  'lang': u'en',\n",
       "  'last_name': u'Dante Alighieri',\n",
       "  'title': u\"Divine Comedy, Longfellow's Translation, Purgatory\"},\n",
       " {'birth_year': u'1265',\n",
       "  'death_year': u'1321',\n",
       "  'downloads': u'24',\n",
       "  'first_name': None,\n",
       "  'gid': 1003,\n",
       "  'lang': u'en',\n",
       "  'last_name': u'Dante Alighieri',\n",
       "  'title': u\"Divine Comedy, Longfellow's Translation, Paradise\"},\n",
       " {'birth_year': u'1807',\n",
       "  'death_year': u'1882',\n",
       "  'downloads': u'434',\n",
       "  'first_name': None,\n",
       "  'gid': 1004,\n",
       "  'lang': u'en',\n",
       "  'last_name': u'Dante Alighieri',\n",
       "  'title': u\"Divine Comedy, Longfellow's Translation, Complete\"}]"
      ]
     },
     "execution_count": 29,
     "metadata": {},
     "output_type": "execute_result"
    }
   ],
   "source": [
    "text_rdd.keys().take(5)"
   ]
  },
  {
   "cell_type": "markdown",
   "metadata": {},
   "source": [
    "If you look at just the first few entries it becomes clear that we're going to have to do some quality control here. For example, we probably don't want books with \"None\" as either of the author names, and likewise we have to have the birth date in order to be able to create a time series out of the data in the end. \n",
    "\n",
    "Construct an RDD, as above, except that you filter out all the elements that have `None` for `title`, `first_name`, `last_name`, or `birth_year`. In addition, filter out the data with \"BC\" in either birth or death year. \n",
    "\n",
    "The `filter_func` has already been defined for you, but you need to apply it to `text_rdd`"
   ]
  },
  {
   "cell_type": "code",
   "execution_count": 30,
   "metadata": {
    "collapsed": true
   },
   "outputs": [],
   "source": [
    "def filter_func(meta) : \n",
    "    no_none = all([meta[name] is not None for name in ['title', 'first_name', 'last_name', 'birth_year']])\n",
    "    if not no_none : \n",
    "        return False\n",
    "    else : \n",
    "        no_birth_bc = 'BC' not in meta['birth_year']\n",
    "        no_death_bc = True if meta['death_year'] is None else 'BC' not in meta['death_year']\n",
    "        return no_birth_bc + no_death_bc"
   ]
  },
  {
   "cell_type": "code",
   "execution_count": 31,
   "metadata": {
    "collapsed": true
   },
   "outputs": [],
   "source": [
    "filtered_rdd = text_rdd.filter(lambda (meta, text): filter_func(meta))"
   ]
  },
  {
   "cell_type": "code",
   "execution_count": 32,
   "metadata": {
    "collapsed": false,
    "scrolled": false
   },
   "outputs": [
    {
     "data": {
      "text/plain": [
       "[{'birth_year': u'1954',\n",
       "  'death_year': None,\n",
       "  'downloads': u'352',\n",
       "  'first_name': u'Bruce',\n",
       "  'gid': 101,\n",
       "  'lang': u'en',\n",
       "  'last_name': u'Sterling',\n",
       "  'title': u'The Hacker Crackdown: Law and Disorder on the Electronic Frontier'},\n",
       " {'birth_year': u'1866',\n",
       "  'death_year': u'1946',\n",
       "  'downloads': u'430',\n",
       "  'first_name': u'H. G. (Herbert George)',\n",
       "  'gid': 1013,\n",
       "  'lang': u'en',\n",
       "  'last_name': u'Wells',\n",
       "  'title': u'The First Men in the Moon'},\n",
       " {'birth_year': u'1874',\n",
       "  'death_year': u'1940',\n",
       "  'downloads': u'60',\n",
       "  'first_name': u'B. M.',\n",
       "  'gid': 1014,\n",
       "  'lang': u'en',\n",
       "  'last_name': u'Bower',\n",
       "  'title': u'The Lure of the Dim Trails'},\n",
       " {'birth_year': u'1823',\n",
       "  'death_year': u'1893',\n",
       "  'downloads': u'265',\n",
       "  'first_name': u'Francis',\n",
       "  'gid': 1015,\n",
       "  'lang': u'en',\n",
       "  'last_name': u'Parkman',\n",
       "  'title': u'The Oregon Trail: Sketches of Prairie and Rocky-Mountain Life'},\n",
       " {'birth_year': u'1632',\n",
       "  'death_year': u'1677',\n",
       "  'downloads': u'207',\n",
       "  'first_name': u'Benedictus de',\n",
       "  'gid': 1016,\n",
       "  'lang': u'en',\n",
       "  'last_name': u'Spinoza',\n",
       "  'title': u'On the Improvement of the Understanding'}]"
      ]
     },
     "execution_count": 32,
     "metadata": {},
     "output_type": "execute_result"
    }
   ],
   "source": [
    "filtered_rdd.keys().take(5)"
   ]
  },
  {
   "cell_type": "markdown",
   "metadata": {},
   "source": [
    "How many do we have left? "
   ]
  },
  {
   "cell_type": "code",
   "execution_count": 33,
   "metadata": {
    "collapsed": false
   },
   "outputs": [
    {
     "name": "stdout",
     "output_type": "stream",
     "text": [
      "number of books after filtering:  11872\n"
     ]
    }
   ],
   "source": [
    "print('number of books after filtering: ', filtered_rdd.count())"
   ]
  },
  {
   "cell_type": "markdown",
   "metadata": {},
   "source": [
    "A final bit of cleanup: \n",
    "\n",
    "some of the books end up in multiple files, but they should all have the same `gid`. \n",
    "\n",
    "To check for this we will use one of the most basic and common MapReduce patterns -- the key count: \n",
    "\n",
    "* map the data into `key`,`value` pairs where `key` is the quantity we want to count and `value` is just 1. \n",
    "* invoke a reduction *by key*, where the reduction operator is a simple addition\n",
    "\n",
    "Finally, we will sort the result and print out the first few elements to check whether we have to worry about documents spanning multiple files or not. \n",
    "\n",
    "The RDD operations that are needed are [`reduceByKey`](http://spark.apache.org/docs/latest/api/python/pyspark.html#pyspark.RDD.reduceByKey) and [sortBy](http://spark.apache.org/docs/latest/api/python/pyspark.html#pyspark.RDD.sortBy).\n",
    "\n",
    "For the `keyFunc` of the call to `sortBy`, use a `lambda` function that extracts the counts obtained from the `reduceByKey`. "
   ]
  },
  {
   "cell_type": "code",
   "execution_count": 34,
   "metadata": {
    "collapsed": true
   },
   "outputs": [],
   "source": [
    "from operator import add"
   ]
  },
  {
   "cell_type": "code",
   "execution_count": null,
   "metadata": {
    "collapsed": true
   },
   "outputs": [],
   "source": [
    "map_filtered = filtered_rdd.map(<FILL>)\n",
    "\n",
    "reduced_map = filter_map.reduceByKey(add)\n",
    "\n",
    "sorted_reduced = reduced_map.sortBy(<FILL>)\n",
    "\n",
    "sorted_reduced.take(20)"
   ]
  },
  {
   "cell_type": "markdown",
   "metadata": {},
   "source": [
    "Note that there are several transformations here that lead to the final result, `sorted_reduced`. A common syntax is to group them all together, by enclosing them in `( )` and chaining them: "
   ]
  },
  {
   "cell_type": "code",
   "execution_count": 35,
   "metadata": {
    "collapsed": false
   },
   "outputs": [
    {
     "data": {
      "text/plain": [
       "[(6478, 43),\n",
       " (3772, 40),\n",
       " (8700, 35),\n",
       " (3332, 33),\n",
       " (12233, 29),\n",
       " (3425, 23),\n",
       " (2440, 16),\n",
       " (6475, 15),\n",
       " (12145, 9),\n",
       " (12383, 7),\n",
       " (15000, 6),\n",
       " (10625, 5),\n",
       " (4022, 5),\n",
       " (12030, 5),\n",
       " (16927, 4),\n",
       " (21053, 4),\n",
       " (10800, 4),\n",
       " (14052, 3),\n",
       " (14860, 3),\n",
       " (18436, 2)]"
      ]
     },
     "execution_count": 35,
     "metadata": {},
     "output_type": "execute_result"
    }
   ],
   "source": [
    "# FILL IN\n",
    "(filtered_rdd.map(lambda (meta, text): (meta['gid'], 1))\n",
    "             .reduceByKey(add)\n",
    "             .sortBy(lambda (key,count): count, False)\n",
    "             .take(20))"
   ]
  },
  {
   "cell_type": "markdown",
   "metadata": {},
   "source": [
    "Looks like we have a few that are made up of multiple sections. To combine them, we will use `reduceByKey` which will result in having an RDD of `gid`'s as keys and the combined text of each `gid`. The reduction function in `reduceByKey` can be a simple in-line function that just adds two elements together (but can't be the `add` function because that expects the arguments to be numbers). "
   ]
  },
  {
   "cell_type": "code",
   "execution_count": 69,
   "metadata": {
    "collapsed": false
   },
   "outputs": [],
   "source": [
    "# FILL IN\n",
    "cleaned_rdd = (filtered_rdd.map(lambda (meta, text): (meta['gid'], text))\n",
    "                           .reduceByKey(lambda a,b: a+b))"
   ]
  },
  {
   "cell_type": "markdown",
   "metadata": {},
   "source": [
    "As a simple sanity check, lets look at `gid`=6478, which according to the cell above has 43 sections in the original dataset: "
   ]
  },
  {
   "cell_type": "code",
   "execution_count": 37,
   "metadata": {
    "collapsed": false
   },
   "outputs": [
    {
     "data": {
      "text/plain": [
       "43"
      ]
     },
     "execution_count": 37,
     "metadata": {},
     "output_type": "execute_result"
    }
   ],
   "source": [
    "len(filtered_rdd.map(lambda (meta, text): (meta['gid'],1))\n",
    "                .lookup(6478))"
   ]
  },
  {
   "cell_type": "code",
   "execution_count": 38,
   "metadata": {
    "collapsed": false
   },
   "outputs": [
    {
     "data": {
      "text/plain": [
       "1"
      ]
     },
     "execution_count": 38,
     "metadata": {},
     "output_type": "execute_result"
    }
   ],
   "source": [
    "len(cleaned_rdd.lookup(6478))"
   ]
  },
  {
   "cell_type": "markdown",
   "metadata": {},
   "source": [
    "To avoid having to do all these pre-processing steps again at a later point, lets also save the `cleaned_rdd`:"
   ]
  },
  {
   "cell_type": "code",
   "execution_count": 41,
   "metadata": {
    "collapsed": true
   },
   "outputs": [],
   "source": [
    "cleaned_rdd.saveAsPickleFile('/user/roskarr/gutenberg/cleaned_rdd')"
   ]
  },
  {
   "cell_type": "markdown",
   "metadata": {},
   "source": [
    "This is now saved in the directory we specified, one file per partition:"
   ]
  },
  {
   "cell_type": "code",
   "execution_count": 42,
   "metadata": {
    "collapsed": false,
    "scrolled": true
   },
   "outputs": [
    {
     "name": "stdout",
     "output_type": "stream",
     "text": [
      "Picked up _JAVA_OPTIONS: -XX:ParallelGCThreads=1\n",
      "15/06/23 17:39:28 WARN util.NativeCodeLoader: Unable to load native-hadoop library for your platform... using builtin-java classes where applicable\n",
      "Found 401 items\n",
      "-rw-r--r--   3 roskarr supergroup          0 2015-06-23 17:39 /user/roskarr/gutenberg/cleaned_rdd/_SUCCESS\n",
      "-rw-r--r--   3 roskarr supergroup   50650862 2015-06-23 17:39 /user/roskarr/gutenberg/cleaned_rdd/part-00000\n",
      "-rw-r--r--   3 roskarr supergroup   14597171 2015-06-23 17:39 /user/roskarr/gutenberg/cleaned_rdd/part-00001\n",
      "-rw-r--r--   3 roskarr supergroup    9321127 2015-06-23 17:39 /user/roskarr/gutenberg/cleaned_rdd/part-00002\n",
      "-rw-r--r--   3 roskarr supergroup   12393074 2015-06-23 17:39 /user/roskarr/gutenberg/cleaned_rdd/part-00003\n",
      "-rw-r--r--   3 roskarr supergroup   12062283 2015-06-23 17:39 /user/roskarr/gutenberg/cleaned_rdd/part-00004\n",
      "-rw-r--r--   3 roskarr supergroup   12041333 2015-06-23 17:39 /user/roskarr/gutenberg/cleaned_rdd/part-00005\n",
      "-rw-r--r--   3 roskarr supergroup   10334508 2015-06-23 17:39 /user/roskarr/gutenberg/cleaned_rdd/part-00006\n",
      "-rw-r--r--   3 roskarr supergroup   14473845 2015-06-23 17:39 /user/roskarr/gutenberg/cleaned_rdd/part-00007\n",
      "-rw-r--r--   3 roskarr supergroup    8470298 2015-06-23 17:39 /user/roskarr/gutenberg/cleaned_rdd/part-00008\n",
      "-rw-r--r--   3 roskarr supergroup   10755771 2015-06-23 17:39 /user/roskarr/gutenberg/cleaned_rdd/part-00009\n",
      "-rw-r--r--   3 roskarr supergroup   10552119 2015-06-23 17:39 /user/roskarr/gutenberg/cleaned_rdd/part-00010\n",
      "-rw-r--r--   3 roskarr supergroup   14937092 2015-06-23 17:39 /user/roskarr/gutenberg/cleaned_rdd/part-00011\n",
      "-rw-r--r--   3 roskarr supergroup   11844742 2015-06-23 17:39 /user/roskarr/gutenberg/cleaned_rdd/part-00012\n",
      "-rw-r--r--   3 roskarr supergroup   10821331 2015-06-23 17:39 /user/roskarr/gutenberg/cleaned_rdd/part-00013\n",
      "-rw-r--r--   3 roskarr supergroup   13462505 2015-06-23 17:39 /user/roskarr/gutenberg/cleaned_rdd/part-00014\n",
      "-rw-r--r--   3 roskarr supergroup   13246687 2015-06-23 17:39 /user/roskarr/gutenberg/cleaned_rdd/part-00015\n",
      "-rw-r--r--   3 roskarr supergroup    6081915 2015-06-23 17:39 /user/roskarr/gutenberg/cleaned_rdd/part-00016\n",
      "-rw-r--r--   3 roskarr supergroup    8536689 2015-06-23 17:39 /user/roskarr/gutenberg/cleaned_rdd/part-00017\n",
      "-rw-r--r--   3 roskarr supergroup   11513597 2015-06-23 17:39 /user/roskarr/gutenberg/cleaned_rdd/part-00018\n",
      "-rw-r--r--   3 roskarr supergroup   10884469 2015-06-23 17:39 /user/roskarr/gutenberg/cleaned_rdd/part-00019\n",
      "-rw-r--r--   3 roskarr supergroup    9856172 2015-06-23 17:39 /user/roskarr/gutenberg/cleaned_rdd/part-00020\n",
      "-rw-r--r--   3 roskarr supergroup    9039369 2015-06-23 17:39 /user/roskarr/gutenberg/cleaned_rdd/part-00021\n",
      "-rw-r--r--   3 roskarr supergroup    9301779 2015-06-23 17:39 /user/roskarr/gutenberg/cleaned_rdd/part-00022\n",
      "-rw-r--r--   3 roskarr supergroup   10757182 2015-06-23 17:39 /user/roskarr/gutenberg/cleaned_rdd/part-00023\n",
      "-rw-r--r--   3 roskarr supergroup   10422512 2015-06-23 17:39 /user/roskarr/gutenberg/cleaned_rdd/part-00024\n",
      "-rw-r--r--   3 roskarr supergroup    9893045 2015-06-23 17:39 /user/roskarr/gutenberg/cleaned_rdd/part-00025\n",
      "-rw-r--r--   3 roskarr supergroup   10623136 2015-06-23 17:39 /user/roskarr/gutenberg/cleaned_rdd/part-00026\n",
      "-rw-r--r--   3 roskarr supergroup   10264082 2015-06-23 17:39 /user/roskarr/gutenberg/cleaned_rdd/part-00027\n",
      "-rw-r--r--   3 roskarr supergroup   10259563 2015-06-23 17:39 /user/roskarr/gutenberg/cleaned_rdd/part-00028\n",
      "-rw-r--r--   3 roskarr supergroup    9088110 2015-06-23 17:39 /user/roskarr/gutenberg/cleaned_rdd/part-00029\n",
      "-rw-r--r--   3 roskarr supergroup   10783893 2015-06-23 17:39 /user/roskarr/gutenberg/cleaned_rdd/part-00030\n",
      "-rw-r--r--   3 roskarr supergroup    7763796 2015-06-23 17:39 /user/roskarr/gutenberg/cleaned_rdd/part-00031\n",
      "-rw-r--r--   3 roskarr supergroup    8689787 2015-06-23 17:39 /user/roskarr/gutenberg/cleaned_rdd/part-00032\n",
      "-rw-r--r--   3 roskarr supergroup    9089806 2015-06-23 17:39 /user/roskarr/gutenberg/cleaned_rdd/part-00033\n",
      "-rw-r--r--   3 roskarr supergroup   10864769 2015-06-23 17:39 /user/roskarr/gutenberg/cleaned_rdd/part-00034\n",
      "-rw-r--r--   3 roskarr supergroup    9124846 2015-06-23 17:39 /user/roskarr/gutenberg/cleaned_rdd/part-00035\n",
      "-rw-r--r--   3 roskarr supergroup    9728156 2015-06-23 17:39 /user/roskarr/gutenberg/cleaned_rdd/part-00036\n",
      "-rw-r--r--   3 roskarr supergroup    7762797 2015-06-23 17:39 /user/roskarr/gutenberg/cleaned_rdd/part-00037\n",
      "-rw-r--r--   3 roskarr supergroup    4972423 2015-06-23 17:39 /user/roskarr/gutenberg/cleaned_rdd/part-00038\n",
      "-rw-r--r--   3 roskarr supergroup    8878092 2015-06-23 17:39 /user/roskarr/gutenberg/cleaned_rdd/part-00039\n",
      "-rw-r--r--   3 roskarr supergroup    8576507 2015-06-23 17:39 /user/roskarr/gutenberg/cleaned_rdd/part-00040\n",
      "-rw-r--r--   3 roskarr supergroup   10345613 2015-06-23 17:39 /user/roskarr/gutenberg/cleaned_rdd/part-00041\n",
      "-rw-r--r--   3 roskarr supergroup   11074230 2015-06-23 17:39 /user/roskarr/gutenberg/cleaned_rdd/part-00042\n",
      "-rw-r--r--   3 roskarr supergroup   10521701 2015-06-23 17:39 /user/roskarr/gutenberg/cleaned_rdd/part-00043\n",
      "-rw-r--r--   3 roskarr supergroup    8453360 2015-06-23 17:39 /user/roskarr/gutenberg/cleaned_rdd/part-00044\n",
      "-rw-r--r--   3 roskarr supergroup    8685791 2015-06-23 17:39 /user/roskarr/gutenberg/cleaned_rdd/part-00045\n",
      "-rw-r--r--   3 roskarr supergroup   13271276 2015-06-23 17:39 /user/roskarr/gutenberg/cleaned_rdd/part-00046\n",
      "-rw-r--r--   3 roskarr supergroup   15226433 2015-06-23 17:39 /user/roskarr/gutenberg/cleaned_rdd/part-00047\n",
      "-rw-r--r--   3 roskarr supergroup   14525410 2015-06-23 17:39 /user/roskarr/gutenberg/cleaned_rdd/part-00048\n",
      "-rw-r--r--   3 roskarr supergroup   22100106 2015-06-23 17:39 /user/roskarr/gutenberg/cleaned_rdd/part-00049\n",
      "-rw-r--r--   3 roskarr supergroup   10944882 2015-06-23 17:39 /user/roskarr/gutenberg/cleaned_rdd/part-00050\n",
      "-rw-r--r--   3 roskarr supergroup   13021574 2015-06-23 17:39 /user/roskarr/gutenberg/cleaned_rdd/part-00051\n",
      "-rw-r--r--   3 roskarr supergroup   17246364 2015-06-23 17:39 /user/roskarr/gutenberg/cleaned_rdd/part-00052\n",
      "-rw-r--r--   3 roskarr supergroup   11150189 2015-06-23 17:39 /user/roskarr/gutenberg/cleaned_rdd/part-00053\n",
      "-rw-r--r--   3 roskarr supergroup   16481596 2015-06-23 17:39 /user/roskarr/gutenberg/cleaned_rdd/part-00054\n",
      "-rw-r--r--   3 roskarr supergroup   10885967 2015-06-23 17:39 /user/roskarr/gutenberg/cleaned_rdd/part-00055\n",
      "-rw-r--r--   3 roskarr supergroup    9421681 2015-06-23 17:39 /user/roskarr/gutenberg/cleaned_rdd/part-00056\n",
      "-rw-r--r--   3 roskarr supergroup   10042923 2015-06-23 17:39 /user/roskarr/gutenberg/cleaned_rdd/part-00057\n",
      "-rw-r--r--   3 roskarr supergroup   11434297 2015-06-23 17:39 /user/roskarr/gutenberg/cleaned_rdd/part-00058\n",
      "-rw-r--r--   3 roskarr supergroup    9633336 2015-06-23 17:39 /user/roskarr/gutenberg/cleaned_rdd/part-00059\n",
      "-rw-r--r--   3 roskarr supergroup   17297085 2015-06-23 17:39 /user/roskarr/gutenberg/cleaned_rdd/part-00060\n",
      "-rw-r--r--   3 roskarr supergroup   11602308 2015-06-23 17:39 /user/roskarr/gutenberg/cleaned_rdd/part-00061\n",
      "-rw-r--r--   3 roskarr supergroup    9857378 2015-06-23 17:39 /user/roskarr/gutenberg/cleaned_rdd/part-00062\n",
      "-rw-r--r--   3 roskarr supergroup   11032866 2015-06-23 17:39 /user/roskarr/gutenberg/cleaned_rdd/part-00063\n",
      "-rw-r--r--   3 roskarr supergroup   11673887 2015-06-23 17:39 /user/roskarr/gutenberg/cleaned_rdd/part-00064\n",
      "-rw-r--r--   3 roskarr supergroup   12635624 2015-06-23 17:39 /user/roskarr/gutenberg/cleaned_rdd/part-00065\n",
      "-rw-r--r--   3 roskarr supergroup    9980224 2015-06-23 17:39 /user/roskarr/gutenberg/cleaned_rdd/part-00066\n",
      "-rw-r--r--   3 roskarr supergroup   10845530 2015-06-23 17:39 /user/roskarr/gutenberg/cleaned_rdd/part-00067\n",
      "-rw-r--r--   3 roskarr supergroup   15346764 2015-06-23 17:39 /user/roskarr/gutenberg/cleaned_rdd/part-00068\n",
      "-rw-r--r--   3 roskarr supergroup   10051446 2015-06-23 17:39 /user/roskarr/gutenberg/cleaned_rdd/part-00069\n",
      "-rw-r--r--   3 roskarr supergroup   11102525 2015-06-23 17:39 /user/roskarr/gutenberg/cleaned_rdd/part-00070\n",
      "-rw-r--r--   3 roskarr supergroup   13494686 2015-06-23 17:39 /user/roskarr/gutenberg/cleaned_rdd/part-00071\n",
      "-rw-r--r--   3 roskarr supergroup   11742221 2015-06-23 17:39 /user/roskarr/gutenberg/cleaned_rdd/part-00072\n",
      "-rw-r--r--   3 roskarr supergroup   11230386 2015-06-23 17:39 /user/roskarr/gutenberg/cleaned_rdd/part-00073\n",
      "-rw-r--r--   3 roskarr supergroup   12910927 2015-06-23 17:39 /user/roskarr/gutenberg/cleaned_rdd/part-00074\n",
      "-rw-r--r--   3 roskarr supergroup    8883761 2015-06-23 17:39 /user/roskarr/gutenberg/cleaned_rdd/part-00075\n",
      "-rw-r--r--   3 roskarr supergroup   11857829 2015-06-23 17:39 /user/roskarr/gutenberg/cleaned_rdd/part-00076\n",
      "-rw-r--r--   3 roskarr supergroup   12131483 2015-06-23 17:39 /user/roskarr/gutenberg/cleaned_rdd/part-00077\n",
      "-rw-r--r--   3 roskarr supergroup   13494509 2015-06-23 17:39 /user/roskarr/gutenberg/cleaned_rdd/part-00078\n",
      "-rw-r--r--   3 roskarr supergroup    7241829 2015-06-23 17:39 /user/roskarr/gutenberg/cleaned_rdd/part-00079\n",
      "-rw-r--r--   3 roskarr supergroup   11053947 2015-06-23 17:39 /user/roskarr/gutenberg/cleaned_rdd/part-00080\n",
      "-rw-r--r--   3 roskarr supergroup   10114743 2015-06-23 17:39 /user/roskarr/gutenberg/cleaned_rdd/part-00081\n",
      "-rw-r--r--   3 roskarr supergroup   11081851 2015-06-23 17:39 /user/roskarr/gutenberg/cleaned_rdd/part-00082\n",
      "-rw-r--r--   3 roskarr supergroup    9845628 2015-06-23 17:39 /user/roskarr/gutenberg/cleaned_rdd/part-00083\n",
      "-rw-r--r--   3 roskarr supergroup   15004051 2015-06-23 17:39 /user/roskarr/gutenberg/cleaned_rdd/part-00084\n",
      "-rw-r--r--   3 roskarr supergroup   15592655 2015-06-23 17:39 /user/roskarr/gutenberg/cleaned_rdd/part-00085\n",
      "-rw-r--r--   3 roskarr supergroup   11198883 2015-06-23 17:39 /user/roskarr/gutenberg/cleaned_rdd/part-00086\n",
      "-rw-r--r--   3 roskarr supergroup    8223449 2015-06-23 17:39 /user/roskarr/gutenberg/cleaned_rdd/part-00087\n",
      "-rw-r--r--   3 roskarr supergroup    8378262 2015-06-23 17:39 /user/roskarr/gutenberg/cleaned_rdd/part-00088\n",
      "-rw-r--r--   3 roskarr supergroup    9783768 2015-06-23 17:39 /user/roskarr/gutenberg/cleaned_rdd/part-00089\n",
      "-rw-r--r--   3 roskarr supergroup   11516333 2015-06-23 17:39 /user/roskarr/gutenberg/cleaned_rdd/part-00090\n",
      "-rw-r--r--   3 roskarr supergroup    9144894 2015-06-23 17:39 /user/roskarr/gutenberg/cleaned_rdd/part-00091\n",
      "-rw-r--r--   3 roskarr supergroup   11927717 2015-06-23 17:39 /user/roskarr/gutenberg/cleaned_rdd/part-00092\n",
      "-rw-r--r--   3 roskarr supergroup   10594491 2015-06-23 17:39 /user/roskarr/gutenberg/cleaned_rdd/part-00093\n",
      "-rw-r--r--   3 roskarr supergroup   11067948 2015-06-23 17:39 /user/roskarr/gutenberg/cleaned_rdd/part-00094\n",
      "-rw-r--r--   3 roskarr supergroup   12645223 2015-06-23 17:39 /user/roskarr/gutenberg/cleaned_rdd/part-00095\n",
      "-rw-r--r--   3 roskarr supergroup   11444432 2015-06-23 17:39 /user/roskarr/gutenberg/cleaned_rdd/part-00096\n",
      "-rw-r--r--   3 roskarr supergroup    9047252 2015-06-23 17:39 /user/roskarr/gutenberg/cleaned_rdd/part-00097\n",
      "-rw-r--r--   3 roskarr supergroup    9748404 2015-06-23 17:39 /user/roskarr/gutenberg/cleaned_rdd/part-00098\n",
      "-rw-r--r--   3 roskarr supergroup   10297450 2015-06-23 17:39 /user/roskarr/gutenberg/cleaned_rdd/part-00099\n",
      "-rw-r--r--   3 roskarr supergroup   34005495 2015-06-23 17:39 /user/roskarr/gutenberg/cleaned_rdd/part-00100\n",
      "-rw-r--r--   3 roskarr supergroup   13934673 2015-06-23 17:39 /user/roskarr/gutenberg/cleaned_rdd/part-00101\n",
      "-rw-r--r--   3 roskarr supergroup    9753023 2015-06-23 17:39 /user/roskarr/gutenberg/cleaned_rdd/part-00102\n",
      "-rw-r--r--   3 roskarr supergroup    9438263 2015-06-23 17:39 /user/roskarr/gutenberg/cleaned_rdd/part-00103\n",
      "-rw-r--r--   3 roskarr supergroup    9475768 2015-06-23 17:39 /user/roskarr/gutenberg/cleaned_rdd/part-00104\n",
      "-rw-r--r--   3 roskarr supergroup    9974258 2015-06-23 17:39 /user/roskarr/gutenberg/cleaned_rdd/part-00105\n",
      "-rw-r--r--   3 roskarr supergroup    9956391 2015-06-23 17:39 /user/roskarr/gutenberg/cleaned_rdd/part-00106\n",
      "-rw-r--r--   3 roskarr supergroup   12342928 2015-06-23 17:39 /user/roskarr/gutenberg/cleaned_rdd/part-00107\n",
      "-rw-r--r--   3 roskarr supergroup   10345175 2015-06-23 17:39 /user/roskarr/gutenberg/cleaned_rdd/part-00108\n",
      "-rw-r--r--   3 roskarr supergroup   10902727 2015-06-23 17:39 /user/roskarr/gutenberg/cleaned_rdd/part-00109\n",
      "-rw-r--r--   3 roskarr supergroup   10676420 2015-06-23 17:39 /user/roskarr/gutenberg/cleaned_rdd/part-00110\n",
      "-rw-r--r--   3 roskarr supergroup    9281894 2015-06-23 17:39 /user/roskarr/gutenberg/cleaned_rdd/part-00111\n",
      "-rw-r--r--   3 roskarr supergroup    8729006 2015-06-23 17:39 /user/roskarr/gutenberg/cleaned_rdd/part-00112\n",
      "-rw-r--r--   3 roskarr supergroup    8396356 2015-06-23 17:39 /user/roskarr/gutenberg/cleaned_rdd/part-00113\n",
      "-rw-r--r--   3 roskarr supergroup   12153146 2015-06-23 17:39 /user/roskarr/gutenberg/cleaned_rdd/part-00114\n",
      "-rw-r--r--   3 roskarr supergroup    9796486 2015-06-23 17:39 /user/roskarr/gutenberg/cleaned_rdd/part-00115\n",
      "-rw-r--r--   3 roskarr supergroup   11356072 2015-06-23 17:39 /user/roskarr/gutenberg/cleaned_rdd/part-00116\n",
      "-rw-r--r--   3 roskarr supergroup   11916888 2015-06-23 17:39 /user/roskarr/gutenberg/cleaned_rdd/part-00117\n",
      "-rw-r--r--   3 roskarr supergroup   11825115 2015-06-23 17:39 /user/roskarr/gutenberg/cleaned_rdd/part-00118\n",
      "-rw-r--r--   3 roskarr supergroup   11610375 2015-06-23 17:39 /user/roskarr/gutenberg/cleaned_rdd/part-00119\n",
      "-rw-r--r--   3 roskarr supergroup   13949667 2015-06-23 17:39 /user/roskarr/gutenberg/cleaned_rdd/part-00120\n",
      "-rw-r--r--   3 roskarr supergroup   14440072 2015-06-23 17:39 /user/roskarr/gutenberg/cleaned_rdd/part-00121\n",
      "-rw-r--r--   3 roskarr supergroup   10075111 2015-06-23 17:39 /user/roskarr/gutenberg/cleaned_rdd/part-00122\n",
      "-rw-r--r--   3 roskarr supergroup   12655951 2015-06-23 17:39 /user/roskarr/gutenberg/cleaned_rdd/part-00123\n",
      "-rw-r--r--   3 roskarr supergroup    8190275 2015-06-23 17:39 /user/roskarr/gutenberg/cleaned_rdd/part-00124\n",
      "-rw-r--r--   3 roskarr supergroup   11982713 2015-06-23 17:39 /user/roskarr/gutenberg/cleaned_rdd/part-00125\n",
      "-rw-r--r--   3 roskarr supergroup   10775488 2015-06-23 17:39 /user/roskarr/gutenberg/cleaned_rdd/part-00126\n",
      "-rw-r--r--   3 roskarr supergroup   11098320 2015-06-23 17:39 /user/roskarr/gutenberg/cleaned_rdd/part-00127\n",
      "-rw-r--r--   3 roskarr supergroup   13841738 2015-06-23 17:39 /user/roskarr/gutenberg/cleaned_rdd/part-00128\n",
      "-rw-r--r--   3 roskarr supergroup   10404874 2015-06-23 17:39 /user/roskarr/gutenberg/cleaned_rdd/part-00129\n",
      "-rw-r--r--   3 roskarr supergroup    9890361 2015-06-23 17:39 /user/roskarr/gutenberg/cleaned_rdd/part-00130\n",
      "-rw-r--r--   3 roskarr supergroup   10281512 2015-06-23 17:39 /user/roskarr/gutenberg/cleaned_rdd/part-00131\n",
      "-rw-r--r--   3 roskarr supergroup   12173015 2015-06-23 17:39 /user/roskarr/gutenberg/cleaned_rdd/part-00132\n",
      "-rw-r--r--   3 roskarr supergroup   12292552 2015-06-23 17:39 /user/roskarr/gutenberg/cleaned_rdd/part-00133\n",
      "-rw-r--r--   3 roskarr supergroup   10712308 2015-06-23 17:39 /user/roskarr/gutenberg/cleaned_rdd/part-00134\n",
      "-rw-r--r--   3 roskarr supergroup   14769530 2015-06-23 17:39 /user/roskarr/gutenberg/cleaned_rdd/part-00135\n",
      "-rw-r--r--   3 roskarr supergroup    8542933 2015-06-23 17:39 /user/roskarr/gutenberg/cleaned_rdd/part-00136\n",
      "-rw-r--r--   3 roskarr supergroup   11501178 2015-06-23 17:39 /user/roskarr/gutenberg/cleaned_rdd/part-00137\n",
      "-rw-r--r--   3 roskarr supergroup   10242730 2015-06-23 17:39 /user/roskarr/gutenberg/cleaned_rdd/part-00138\n",
      "-rw-r--r--   3 roskarr supergroup    9903449 2015-06-23 17:39 /user/roskarr/gutenberg/cleaned_rdd/part-00139\n",
      "-rw-r--r--   3 roskarr supergroup   11457630 2015-06-23 17:39 /user/roskarr/gutenberg/cleaned_rdd/part-00140\n",
      "-rw-r--r--   3 roskarr supergroup    9841502 2015-06-23 17:39 /user/roskarr/gutenberg/cleaned_rdd/part-00141\n",
      "-rw-r--r--   3 roskarr supergroup    9079657 2015-06-23 17:39 /user/roskarr/gutenberg/cleaned_rdd/part-00142\n",
      "-rw-r--r--   3 roskarr supergroup    8770101 2015-06-23 17:39 /user/roskarr/gutenberg/cleaned_rdd/part-00143\n",
      "-rw-r--r--   3 roskarr supergroup    8477887 2015-06-23 17:39 /user/roskarr/gutenberg/cleaned_rdd/part-00144\n",
      "-rw-r--r--   3 roskarr supergroup   17338464 2015-06-23 17:39 /user/roskarr/gutenberg/cleaned_rdd/part-00145\n",
      "-rw-r--r--   3 roskarr supergroup   13778670 2015-06-23 17:39 /user/roskarr/gutenberg/cleaned_rdd/part-00146\n",
      "-rw-r--r--   3 roskarr supergroup    7941914 2015-06-23 17:39 /user/roskarr/gutenberg/cleaned_rdd/part-00147\n",
      "-rw-r--r--   3 roskarr supergroup    9556207 2015-06-23 17:39 /user/roskarr/gutenberg/cleaned_rdd/part-00148\n",
      "-rw-r--r--   3 roskarr supergroup   15543477 2015-06-23 17:39 /user/roskarr/gutenberg/cleaned_rdd/part-00149\n",
      "-rw-r--r--   3 roskarr supergroup   10968354 2015-06-23 17:39 /user/roskarr/gutenberg/cleaned_rdd/part-00150\n",
      "-rw-r--r--   3 roskarr supergroup    9010162 2015-06-23 17:39 /user/roskarr/gutenberg/cleaned_rdd/part-00151\n",
      "-rw-r--r--   3 roskarr supergroup   10135210 2015-06-23 17:39 /user/roskarr/gutenberg/cleaned_rdd/part-00152\n",
      "-rw-r--r--   3 roskarr supergroup   10547057 2015-06-23 17:39 /user/roskarr/gutenberg/cleaned_rdd/part-00153\n",
      "-rw-r--r--   3 roskarr supergroup   11575439 2015-06-23 17:39 /user/roskarr/gutenberg/cleaned_rdd/part-00154\n",
      "-rw-r--r--   3 roskarr supergroup   12370160 2015-06-23 17:39 /user/roskarr/gutenberg/cleaned_rdd/part-00155\n",
      "-rw-r--r--   3 roskarr supergroup   14384569 2015-06-23 17:39 /user/roskarr/gutenberg/cleaned_rdd/part-00156\n",
      "-rw-r--r--   3 roskarr supergroup   10248289 2015-06-23 17:39 /user/roskarr/gutenberg/cleaned_rdd/part-00157\n",
      "-rw-r--r--   3 roskarr supergroup   10333746 2015-06-23 17:39 /user/roskarr/gutenberg/cleaned_rdd/part-00158\n",
      "-rw-r--r--   3 roskarr supergroup    7232879 2015-06-23 17:39 /user/roskarr/gutenberg/cleaned_rdd/part-00159\n",
      "-rw-r--r--   3 roskarr supergroup   10927345 2015-06-23 17:39 /user/roskarr/gutenberg/cleaned_rdd/part-00160\n",
      "-rw-r--r--   3 roskarr supergroup   10239805 2015-06-23 17:39 /user/roskarr/gutenberg/cleaned_rdd/part-00161\n",
      "-rw-r--r--   3 roskarr supergroup   10529944 2015-06-23 17:39 /user/roskarr/gutenberg/cleaned_rdd/part-00162\n",
      "-rw-r--r--   3 roskarr supergroup   10526860 2015-06-23 17:39 /user/roskarr/gutenberg/cleaned_rdd/part-00163\n",
      "-rw-r--r--   3 roskarr supergroup   10626531 2015-06-23 17:39 /user/roskarr/gutenberg/cleaned_rdd/part-00164\n",
      "-rw-r--r--   3 roskarr supergroup   13743439 2015-06-23 17:39 /user/roskarr/gutenberg/cleaned_rdd/part-00165\n",
      "-rw-r--r--   3 roskarr supergroup   13993595 2015-06-23 17:39 /user/roskarr/gutenberg/cleaned_rdd/part-00166\n",
      "-rw-r--r--   3 roskarr supergroup   10191702 2015-06-23 17:39 /user/roskarr/gutenberg/cleaned_rdd/part-00167\n",
      "-rw-r--r--   3 roskarr supergroup   10904991 2015-06-23 17:39 /user/roskarr/gutenberg/cleaned_rdd/part-00168\n",
      "-rw-r--r--   3 roskarr supergroup    8567907 2015-06-23 17:39 /user/roskarr/gutenberg/cleaned_rdd/part-00169\n",
      "-rw-r--r--   3 roskarr supergroup   10780068 2015-06-23 17:39 /user/roskarr/gutenberg/cleaned_rdd/part-00170\n",
      "-rw-r--r--   3 roskarr supergroup   11121509 2015-06-23 17:39 /user/roskarr/gutenberg/cleaned_rdd/part-00171\n",
      "-rw-r--r--   3 roskarr supergroup   11497460 2015-06-23 17:39 /user/roskarr/gutenberg/cleaned_rdd/part-00172\n",
      "-rw-r--r--   3 roskarr supergroup   10523504 2015-06-23 17:39 /user/roskarr/gutenberg/cleaned_rdd/part-00173\n",
      "-rw-r--r--   3 roskarr supergroup   14356061 2015-06-23 17:39 /user/roskarr/gutenberg/cleaned_rdd/part-00174\n",
      "-rw-r--r--   3 roskarr supergroup    9392360 2015-06-23 17:39 /user/roskarr/gutenberg/cleaned_rdd/part-00175\n",
      "-rw-r--r--   3 roskarr supergroup   10790487 2015-06-23 17:39 /user/roskarr/gutenberg/cleaned_rdd/part-00176\n",
      "-rw-r--r--   3 roskarr supergroup   10815486 2015-06-23 17:39 /user/roskarr/gutenberg/cleaned_rdd/part-00177\n",
      "-rw-r--r--   3 roskarr supergroup    8213858 2015-06-23 17:39 /user/roskarr/gutenberg/cleaned_rdd/part-00178\n",
      "-rw-r--r--   3 roskarr supergroup   10016530 2015-06-23 17:39 /user/roskarr/gutenberg/cleaned_rdd/part-00179\n",
      "-rw-r--r--   3 roskarr supergroup   11897464 2015-06-23 17:39 /user/roskarr/gutenberg/cleaned_rdd/part-00180\n",
      "-rw-r--r--   3 roskarr supergroup   18247840 2015-06-23 17:39 /user/roskarr/gutenberg/cleaned_rdd/part-00181\n",
      "-rw-r--r--   3 roskarr supergroup   10226632 2015-06-23 17:39 /user/roskarr/gutenberg/cleaned_rdd/part-00182\n",
      "-rw-r--r--   3 roskarr supergroup    8949927 2015-06-23 17:39 /user/roskarr/gutenberg/cleaned_rdd/part-00183\n",
      "-rw-r--r--   3 roskarr supergroup   12136324 2015-06-23 17:39 /user/roskarr/gutenberg/cleaned_rdd/part-00184\n",
      "-rw-r--r--   3 roskarr supergroup    9056052 2015-06-23 17:39 /user/roskarr/gutenberg/cleaned_rdd/part-00185\n",
      "-rw-r--r--   3 roskarr supergroup    8708828 2015-06-23 17:39 /user/roskarr/gutenberg/cleaned_rdd/part-00186\n",
      "-rw-r--r--   3 roskarr supergroup   13410934 2015-06-23 17:39 /user/roskarr/gutenberg/cleaned_rdd/part-00187\n",
      "-rw-r--r--   3 roskarr supergroup    8891084 2015-06-23 17:39 /user/roskarr/gutenberg/cleaned_rdd/part-00188\n",
      "-rw-r--r--   3 roskarr supergroup    9799392 2015-06-23 17:39 /user/roskarr/gutenberg/cleaned_rdd/part-00189\n",
      "-rw-r--r--   3 roskarr supergroup    7648139 2015-06-23 17:39 /user/roskarr/gutenberg/cleaned_rdd/part-00190\n",
      "-rw-r--r--   3 roskarr supergroup    7431032 2015-06-23 17:39 /user/roskarr/gutenberg/cleaned_rdd/part-00191\n",
      "-rw-r--r--   3 roskarr supergroup    6506646 2015-06-23 17:39 /user/roskarr/gutenberg/cleaned_rdd/part-00192\n",
      "-rw-r--r--   3 roskarr supergroup   11953634 2015-06-23 17:39 /user/roskarr/gutenberg/cleaned_rdd/part-00193\n",
      "-rw-r--r--   3 roskarr supergroup   10672074 2015-06-23 17:39 /user/roskarr/gutenberg/cleaned_rdd/part-00194\n",
      "-rw-r--r--   3 roskarr supergroup   10433776 2015-06-23 17:39 /user/roskarr/gutenberg/cleaned_rdd/part-00195\n",
      "-rw-r--r--   3 roskarr supergroup   12294383 2015-06-23 17:39 /user/roskarr/gutenberg/cleaned_rdd/part-00196\n",
      "-rw-r--r--   3 roskarr supergroup   11358750 2015-06-23 17:39 /user/roskarr/gutenberg/cleaned_rdd/part-00197\n",
      "-rw-r--r--   3 roskarr supergroup    8003949 2015-06-23 17:39 /user/roskarr/gutenberg/cleaned_rdd/part-00198\n",
      "-rw-r--r--   3 roskarr supergroup   10971207 2015-06-23 17:39 /user/roskarr/gutenberg/cleaned_rdd/part-00199\n",
      "-rw-r--r--   3 roskarr supergroup   40684526 2015-06-23 17:39 /user/roskarr/gutenberg/cleaned_rdd/part-00200\n",
      "-rw-r--r--   3 roskarr supergroup   12674241 2015-06-23 17:39 /user/roskarr/gutenberg/cleaned_rdd/part-00201\n",
      "-rw-r--r--   3 roskarr supergroup   10651998 2015-06-23 17:39 /user/roskarr/gutenberg/cleaned_rdd/part-00202\n",
      "-rw-r--r--   3 roskarr supergroup   11812910 2015-06-23 17:39 /user/roskarr/gutenberg/cleaned_rdd/part-00203\n",
      "-rw-r--r--   3 roskarr supergroup    8921005 2015-06-23 17:39 /user/roskarr/gutenberg/cleaned_rdd/part-00204\n",
      "-rw-r--r--   3 roskarr supergroup   12022805 2015-06-23 17:39 /user/roskarr/gutenberg/cleaned_rdd/part-00205\n",
      "-rw-r--r--   3 roskarr supergroup   13978113 2015-06-23 17:39 /user/roskarr/gutenberg/cleaned_rdd/part-00206\n",
      "-rw-r--r--   3 roskarr supergroup    9035869 2015-06-23 17:39 /user/roskarr/gutenberg/cleaned_rdd/part-00207\n",
      "-rw-r--r--   3 roskarr supergroup    8445662 2015-06-23 17:39 /user/roskarr/gutenberg/cleaned_rdd/part-00208\n",
      "-rw-r--r--   3 roskarr supergroup   10206399 2015-06-23 17:39 /user/roskarr/gutenberg/cleaned_rdd/part-00209\n",
      "-rw-r--r--   3 roskarr supergroup   12034341 2015-06-23 17:39 /user/roskarr/gutenberg/cleaned_rdd/part-00210\n",
      "-rw-r--r--   3 roskarr supergroup    9497333 2015-06-23 17:39 /user/roskarr/gutenberg/cleaned_rdd/part-00211\n",
      "-rw-r--r--   3 roskarr supergroup    8505812 2015-06-23 17:39 /user/roskarr/gutenberg/cleaned_rdd/part-00212\n",
      "-rw-r--r--   3 roskarr supergroup   12310140 2015-06-23 17:39 /user/roskarr/gutenberg/cleaned_rdd/part-00213\n",
      "-rw-r--r--   3 roskarr supergroup   10455492 2015-06-23 17:39 /user/roskarr/gutenberg/cleaned_rdd/part-00214\n",
      "-rw-r--r--   3 roskarr supergroup   11273967 2015-06-23 17:39 /user/roskarr/gutenberg/cleaned_rdd/part-00215\n",
      "-rw-r--r--   3 roskarr supergroup   12210428 2015-06-23 17:39 /user/roskarr/gutenberg/cleaned_rdd/part-00216\n",
      "-rw-r--r--   3 roskarr supergroup   12406864 2015-06-23 17:39 /user/roskarr/gutenberg/cleaned_rdd/part-00217\n",
      "-rw-r--r--   3 roskarr supergroup    8642402 2015-06-23 17:39 /user/roskarr/gutenberg/cleaned_rdd/part-00218\n",
      "-rw-r--r--   3 roskarr supergroup    6897114 2015-06-23 17:39 /user/roskarr/gutenberg/cleaned_rdd/part-00219\n",
      "-rw-r--r--   3 roskarr supergroup    7433853 2015-06-23 17:39 /user/roskarr/gutenberg/cleaned_rdd/part-00220\n",
      "-rw-r--r--   3 roskarr supergroup    7623013 2015-06-23 17:39 /user/roskarr/gutenberg/cleaned_rdd/part-00221\n",
      "-rw-r--r--   3 roskarr supergroup    9093292 2015-06-23 17:39 /user/roskarr/gutenberg/cleaned_rdd/part-00222\n",
      "-rw-r--r--   3 roskarr supergroup   10282776 2015-06-23 17:39 /user/roskarr/gutenberg/cleaned_rdd/part-00223\n",
      "-rw-r--r--   3 roskarr supergroup    9719162 2015-06-23 17:39 /user/roskarr/gutenberg/cleaned_rdd/part-00224\n",
      "-rw-r--r--   3 roskarr supergroup    9616134 2015-06-23 17:39 /user/roskarr/gutenberg/cleaned_rdd/part-00225\n",
      "-rw-r--r--   3 roskarr supergroup   10461942 2015-06-23 17:39 /user/roskarr/gutenberg/cleaned_rdd/part-00226\n",
      "-rw-r--r--   3 roskarr supergroup   10107186 2015-06-23 17:39 /user/roskarr/gutenberg/cleaned_rdd/part-00227\n",
      "-rw-r--r--   3 roskarr supergroup    6303398 2015-06-23 17:39 /user/roskarr/gutenberg/cleaned_rdd/part-00228\n",
      "-rw-r--r--   3 roskarr supergroup   11244542 2015-06-23 17:39 /user/roskarr/gutenberg/cleaned_rdd/part-00229\n",
      "-rw-r--r--   3 roskarr supergroup    8646103 2015-06-23 17:39 /user/roskarr/gutenberg/cleaned_rdd/part-00230\n",
      "-rw-r--r--   3 roskarr supergroup   13822201 2015-06-23 17:39 /user/roskarr/gutenberg/cleaned_rdd/part-00231\n",
      "-rw-r--r--   3 roskarr supergroup   10775863 2015-06-23 17:39 /user/roskarr/gutenberg/cleaned_rdd/part-00232\n",
      "-rw-r--r--   3 roskarr supergroup   13655411 2015-06-23 17:39 /user/roskarr/gutenberg/cleaned_rdd/part-00233\n",
      "-rw-r--r--   3 roskarr supergroup    9908810 2015-06-23 17:39 /user/roskarr/gutenberg/cleaned_rdd/part-00234\n",
      "-rw-r--r--   3 roskarr supergroup    8661160 2015-06-23 17:39 /user/roskarr/gutenberg/cleaned_rdd/part-00235\n",
      "-rw-r--r--   3 roskarr supergroup   11689492 2015-06-23 17:39 /user/roskarr/gutenberg/cleaned_rdd/part-00236\n",
      "-rw-r--r--   3 roskarr supergroup    9230593 2015-06-23 17:39 /user/roskarr/gutenberg/cleaned_rdd/part-00237\n",
      "-rw-r--r--   3 roskarr supergroup   10862988 2015-06-23 17:39 /user/roskarr/gutenberg/cleaned_rdd/part-00238\n",
      "-rw-r--r--   3 roskarr supergroup   11593273 2015-06-23 17:39 /user/roskarr/gutenberg/cleaned_rdd/part-00239\n",
      "-rw-r--r--   3 roskarr supergroup    9275071 2015-06-23 17:39 /user/roskarr/gutenberg/cleaned_rdd/part-00240\n",
      "-rw-r--r--   3 roskarr supergroup    8619601 2015-06-23 17:39 /user/roskarr/gutenberg/cleaned_rdd/part-00241\n",
      "-rw-r--r--   3 roskarr supergroup    6369153 2015-06-23 17:39 /user/roskarr/gutenberg/cleaned_rdd/part-00242\n",
      "-rw-r--r--   3 roskarr supergroup   11209855 2015-06-23 17:39 /user/roskarr/gutenberg/cleaned_rdd/part-00243\n",
      "-rw-r--r--   3 roskarr supergroup   10038578 2015-06-23 17:39 /user/roskarr/gutenberg/cleaned_rdd/part-00244\n",
      "-rw-r--r--   3 roskarr supergroup   10452157 2015-06-23 17:39 /user/roskarr/gutenberg/cleaned_rdd/part-00245\n",
      "-rw-r--r--   3 roskarr supergroup    8650941 2015-06-23 17:39 /user/roskarr/gutenberg/cleaned_rdd/part-00246\n",
      "-rw-r--r--   3 roskarr supergroup    9401661 2015-06-23 17:39 /user/roskarr/gutenberg/cleaned_rdd/part-00247\n",
      "-rw-r--r--   3 roskarr supergroup    7064094 2015-06-23 17:39 /user/roskarr/gutenberg/cleaned_rdd/part-00248\n",
      "-rw-r--r--   3 roskarr supergroup   10562454 2015-06-23 17:39 /user/roskarr/gutenberg/cleaned_rdd/part-00249\n",
      "-rw-r--r--   3 roskarr supergroup    5980816 2015-06-23 17:39 /user/roskarr/gutenberg/cleaned_rdd/part-00250\n",
      "-rw-r--r--   3 roskarr supergroup   12485096 2015-06-23 17:39 /user/roskarr/gutenberg/cleaned_rdd/part-00251\n",
      "-rw-r--r--   3 roskarr supergroup   10962350 2015-06-23 17:39 /user/roskarr/gutenberg/cleaned_rdd/part-00252\n",
      "-rw-r--r--   3 roskarr supergroup   12295911 2015-06-23 17:39 /user/roskarr/gutenberg/cleaned_rdd/part-00253\n",
      "-rw-r--r--   3 roskarr supergroup   12240303 2015-06-23 17:39 /user/roskarr/gutenberg/cleaned_rdd/part-00254\n",
      "-rw-r--r--   3 roskarr supergroup    8233226 2015-06-23 17:39 /user/roskarr/gutenberg/cleaned_rdd/part-00255\n",
      "-rw-r--r--   3 roskarr supergroup    5646914 2015-06-23 17:39 /user/roskarr/gutenberg/cleaned_rdd/part-00256\n",
      "-rw-r--r--   3 roskarr supergroup   10620006 2015-06-23 17:39 /user/roskarr/gutenberg/cleaned_rdd/part-00257\n",
      "-rw-r--r--   3 roskarr supergroup    9450552 2015-06-23 17:39 /user/roskarr/gutenberg/cleaned_rdd/part-00258\n",
      "-rw-r--r--   3 roskarr supergroup    7841254 2015-06-23 17:39 /user/roskarr/gutenberg/cleaned_rdd/part-00259\n",
      "-rw-r--r--   3 roskarr supergroup   11116437 2015-06-23 17:39 /user/roskarr/gutenberg/cleaned_rdd/part-00260\n",
      "-rw-r--r--   3 roskarr supergroup   11918562 2015-06-23 17:39 /user/roskarr/gutenberg/cleaned_rdd/part-00261\n",
      "-rw-r--r--   3 roskarr supergroup   10070767 2015-06-23 17:39 /user/roskarr/gutenberg/cleaned_rdd/part-00262\n",
      "-rw-r--r--   3 roskarr supergroup   11036785 2015-06-23 17:39 /user/roskarr/gutenberg/cleaned_rdd/part-00263\n",
      "-rw-r--r--   3 roskarr supergroup   12329123 2015-06-23 17:39 /user/roskarr/gutenberg/cleaned_rdd/part-00264\n",
      "-rw-r--r--   3 roskarr supergroup    9781289 2015-06-23 17:39 /user/roskarr/gutenberg/cleaned_rdd/part-00265\n",
      "-rw-r--r--   3 roskarr supergroup    9371435 2015-06-23 17:39 /user/roskarr/gutenberg/cleaned_rdd/part-00266\n",
      "-rw-r--r--   3 roskarr supergroup   15120531 2015-06-23 17:39 /user/roskarr/gutenberg/cleaned_rdd/part-00267\n",
      "-rw-r--r--   3 roskarr supergroup   10809531 2015-06-23 17:39 /user/roskarr/gutenberg/cleaned_rdd/part-00268\n",
      "-rw-r--r--   3 roskarr supergroup   15421755 2015-06-23 17:39 /user/roskarr/gutenberg/cleaned_rdd/part-00269\n",
      "-rw-r--r--   3 roskarr supergroup   11837471 2015-06-23 17:39 /user/roskarr/gutenberg/cleaned_rdd/part-00270\n",
      "-rw-r--r--   3 roskarr supergroup    8426309 2015-06-23 17:39 /user/roskarr/gutenberg/cleaned_rdd/part-00271\n",
      "-rw-r--r--   3 roskarr supergroup   12248663 2015-06-23 17:39 /user/roskarr/gutenberg/cleaned_rdd/part-00272\n",
      "-rw-r--r--   3 roskarr supergroup    8702321 2015-06-23 17:39 /user/roskarr/gutenberg/cleaned_rdd/part-00273\n",
      "-rw-r--r--   3 roskarr supergroup   12094855 2015-06-23 17:39 /user/roskarr/gutenberg/cleaned_rdd/part-00274\n",
      "-rw-r--r--   3 roskarr supergroup   13246418 2015-06-23 17:39 /user/roskarr/gutenberg/cleaned_rdd/part-00275\n",
      "-rw-r--r--   3 roskarr supergroup   13743866 2015-06-23 17:39 /user/roskarr/gutenberg/cleaned_rdd/part-00276\n",
      "-rw-r--r--   3 roskarr supergroup    7910855 2015-06-23 17:39 /user/roskarr/gutenberg/cleaned_rdd/part-00277\n",
      "-rw-r--r--   3 roskarr supergroup    8587625 2015-06-23 17:39 /user/roskarr/gutenberg/cleaned_rdd/part-00278\n",
      "-rw-r--r--   3 roskarr supergroup   12544182 2015-06-23 17:39 /user/roskarr/gutenberg/cleaned_rdd/part-00279\n",
      "-rw-r--r--   3 roskarr supergroup   12296487 2015-06-23 17:39 /user/roskarr/gutenberg/cleaned_rdd/part-00280\n",
      "-rw-r--r--   3 roskarr supergroup   11998650 2015-06-23 17:39 /user/roskarr/gutenberg/cleaned_rdd/part-00281\n",
      "-rw-r--r--   3 roskarr supergroup    9911893 2015-06-23 17:39 /user/roskarr/gutenberg/cleaned_rdd/part-00282\n",
      "-rw-r--r--   3 roskarr supergroup   11949364 2015-06-23 17:39 /user/roskarr/gutenberg/cleaned_rdd/part-00283\n",
      "-rw-r--r--   3 roskarr supergroup    9268874 2015-06-23 17:39 /user/roskarr/gutenberg/cleaned_rdd/part-00284\n",
      "-rw-r--r--   3 roskarr supergroup    8767608 2015-06-23 17:39 /user/roskarr/gutenberg/cleaned_rdd/part-00285\n",
      "-rw-r--r--   3 roskarr supergroup    8393942 2015-06-23 17:39 /user/roskarr/gutenberg/cleaned_rdd/part-00286\n",
      "-rw-r--r--   3 roskarr supergroup    9508147 2015-06-23 17:39 /user/roskarr/gutenberg/cleaned_rdd/part-00287\n",
      "-rw-r--r--   3 roskarr supergroup    9808898 2015-06-23 17:39 /user/roskarr/gutenberg/cleaned_rdd/part-00288\n",
      "-rw-r--r--   3 roskarr supergroup    8538746 2015-06-23 17:39 /user/roskarr/gutenberg/cleaned_rdd/part-00289\n",
      "-rw-r--r--   3 roskarr supergroup   12270387 2015-06-23 17:39 /user/roskarr/gutenberg/cleaned_rdd/part-00290\n",
      "-rw-r--r--   3 roskarr supergroup   10622260 2015-06-23 17:39 /user/roskarr/gutenberg/cleaned_rdd/part-00291\n",
      "-rw-r--r--   3 roskarr supergroup    7466108 2015-06-23 17:39 /user/roskarr/gutenberg/cleaned_rdd/part-00292\n",
      "-rw-r--r--   3 roskarr supergroup   10382773 2015-06-23 17:39 /user/roskarr/gutenberg/cleaned_rdd/part-00293\n",
      "-rw-r--r--   3 roskarr supergroup    7407929 2015-06-23 17:39 /user/roskarr/gutenberg/cleaned_rdd/part-00294\n",
      "-rw-r--r--   3 roskarr supergroup    9339190 2015-06-23 17:39 /user/roskarr/gutenberg/cleaned_rdd/part-00295\n",
      "-rw-r--r--   3 roskarr supergroup   10175375 2015-06-23 17:39 /user/roskarr/gutenberg/cleaned_rdd/part-00296\n",
      "-rw-r--r--   3 roskarr supergroup    8245657 2015-06-23 17:39 /user/roskarr/gutenberg/cleaned_rdd/part-00297\n",
      "-rw-r--r--   3 roskarr supergroup   11455049 2015-06-23 17:39 /user/roskarr/gutenberg/cleaned_rdd/part-00298\n",
      "-rw-r--r--   3 roskarr supergroup   10297342 2015-06-23 17:39 /user/roskarr/gutenberg/cleaned_rdd/part-00299\n",
      "-rw-r--r--   3 roskarr supergroup   19219513 2015-06-23 17:39 /user/roskarr/gutenberg/cleaned_rdd/part-00300\n",
      "-rw-r--r--   3 roskarr supergroup   11454509 2015-06-23 17:39 /user/roskarr/gutenberg/cleaned_rdd/part-00301\n",
      "-rw-r--r--   3 roskarr supergroup   11780892 2015-06-23 17:39 /user/roskarr/gutenberg/cleaned_rdd/part-00302\n",
      "-rw-r--r--   3 roskarr supergroup    8967268 2015-06-23 17:39 /user/roskarr/gutenberg/cleaned_rdd/part-00303\n",
      "-rw-r--r--   3 roskarr supergroup   10387177 2015-06-23 17:39 /user/roskarr/gutenberg/cleaned_rdd/part-00304\n",
      "-rw-r--r--   3 roskarr supergroup    9848938 2015-06-23 17:39 /user/roskarr/gutenberg/cleaned_rdd/part-00305\n",
      "-rw-r--r--   3 roskarr supergroup   13822597 2015-06-23 17:39 /user/roskarr/gutenberg/cleaned_rdd/part-00306\n",
      "-rw-r--r--   3 roskarr supergroup    7250567 2015-06-23 17:39 /user/roskarr/gutenberg/cleaned_rdd/part-00307\n",
      "-rw-r--r--   3 roskarr supergroup   10236329 2015-06-23 17:39 /user/roskarr/gutenberg/cleaned_rdd/part-00308\n",
      "-rw-r--r--   3 roskarr supergroup    6901996 2015-06-23 17:39 /user/roskarr/gutenberg/cleaned_rdd/part-00309\n",
      "-rw-r--r--   3 roskarr supergroup    7575850 2015-06-23 17:39 /user/roskarr/gutenberg/cleaned_rdd/part-00310\n",
      "-rw-r--r--   3 roskarr supergroup    9997427 2015-06-23 17:39 /user/roskarr/gutenberg/cleaned_rdd/part-00311\n",
      "-rw-r--r--   3 roskarr supergroup    7207442 2015-06-23 17:39 /user/roskarr/gutenberg/cleaned_rdd/part-00312\n",
      "-rw-r--r--   3 roskarr supergroup    9655954 2015-06-23 17:39 /user/roskarr/gutenberg/cleaned_rdd/part-00313\n",
      "-rw-r--r--   3 roskarr supergroup    9956079 2015-06-23 17:39 /user/roskarr/gutenberg/cleaned_rdd/part-00314\n",
      "-rw-r--r--   3 roskarr supergroup    8855272 2015-06-23 17:39 /user/roskarr/gutenberg/cleaned_rdd/part-00315\n",
      "-rw-r--r--   3 roskarr supergroup    8393537 2015-06-23 17:39 /user/roskarr/gutenberg/cleaned_rdd/part-00316\n",
      "-rw-r--r--   3 roskarr supergroup    8133494 2015-06-23 17:39 /user/roskarr/gutenberg/cleaned_rdd/part-00317\n",
      "-rw-r--r--   3 roskarr supergroup    6452710 2015-06-23 17:39 /user/roskarr/gutenberg/cleaned_rdd/part-00318\n",
      "-rw-r--r--   3 roskarr supergroup    5242068 2015-06-23 17:39 /user/roskarr/gutenberg/cleaned_rdd/part-00319\n",
      "-rw-r--r--   3 roskarr supergroup    7719066 2015-06-23 17:39 /user/roskarr/gutenberg/cleaned_rdd/part-00320\n",
      "-rw-r--r--   3 roskarr supergroup   11566113 2015-06-23 17:39 /user/roskarr/gutenberg/cleaned_rdd/part-00321\n",
      "-rw-r--r--   3 roskarr supergroup   10365466 2015-06-23 17:39 /user/roskarr/gutenberg/cleaned_rdd/part-00322\n",
      "-rw-r--r--   3 roskarr supergroup    7712279 2015-06-23 17:39 /user/roskarr/gutenberg/cleaned_rdd/part-00323\n",
      "-rw-r--r--   3 roskarr supergroup    6159357 2015-06-23 17:39 /user/roskarr/gutenberg/cleaned_rdd/part-00324\n",
      "-rw-r--r--   3 roskarr supergroup   10783608 2015-06-23 17:39 /user/roskarr/gutenberg/cleaned_rdd/part-00325\n",
      "-rw-r--r--   3 roskarr supergroup   10566326 2015-06-23 17:39 /user/roskarr/gutenberg/cleaned_rdd/part-00326\n",
      "-rw-r--r--   3 roskarr supergroup   11063779 2015-06-23 17:39 /user/roskarr/gutenberg/cleaned_rdd/part-00327\n",
      "-rw-r--r--   3 roskarr supergroup    7656638 2015-06-23 17:39 /user/roskarr/gutenberg/cleaned_rdd/part-00328\n",
      "-rw-r--r--   3 roskarr supergroup   12290341 2015-06-23 17:39 /user/roskarr/gutenberg/cleaned_rdd/part-00329\n",
      "-rw-r--r--   3 roskarr supergroup   11435462 2015-06-23 17:39 /user/roskarr/gutenberg/cleaned_rdd/part-00330\n",
      "-rw-r--r--   3 roskarr supergroup   11764084 2015-06-23 17:39 /user/roskarr/gutenberg/cleaned_rdd/part-00331\n",
      "-rw-r--r--   3 roskarr supergroup   12502008 2015-06-23 17:39 /user/roskarr/gutenberg/cleaned_rdd/part-00332\n",
      "-rw-r--r--   3 roskarr supergroup    8084010 2015-06-23 17:39 /user/roskarr/gutenberg/cleaned_rdd/part-00333\n",
      "-rw-r--r--   3 roskarr supergroup   11591391 2015-06-23 17:39 /user/roskarr/gutenberg/cleaned_rdd/part-00334\n",
      "-rw-r--r--   3 roskarr supergroup    9165630 2015-06-23 17:39 /user/roskarr/gutenberg/cleaned_rdd/part-00335\n",
      "-rw-r--r--   3 roskarr supergroup   11926042 2015-06-23 17:39 /user/roskarr/gutenberg/cleaned_rdd/part-00336\n",
      "-rw-r--r--   3 roskarr supergroup   11164932 2015-06-23 17:39 /user/roskarr/gutenberg/cleaned_rdd/part-00337\n",
      "-rw-r--r--   3 roskarr supergroup    6217129 2015-06-23 17:39 /user/roskarr/gutenberg/cleaned_rdd/part-00338\n",
      "-rw-r--r--   3 roskarr supergroup    6981994 2015-06-23 17:39 /user/roskarr/gutenberg/cleaned_rdd/part-00339\n",
      "-rw-r--r--   3 roskarr supergroup   10319123 2015-06-23 17:39 /user/roskarr/gutenberg/cleaned_rdd/part-00340\n",
      "-rw-r--r--   3 roskarr supergroup    9997719 2015-06-23 17:39 /user/roskarr/gutenberg/cleaned_rdd/part-00341\n",
      "-rw-r--r--   3 roskarr supergroup    9454645 2015-06-23 17:39 /user/roskarr/gutenberg/cleaned_rdd/part-00342\n",
      "-rw-r--r--   3 roskarr supergroup    9380895 2015-06-23 17:39 /user/roskarr/gutenberg/cleaned_rdd/part-00343\n",
      "-rw-r--r--   3 roskarr supergroup    7106563 2015-06-23 17:39 /user/roskarr/gutenberg/cleaned_rdd/part-00344\n",
      "-rw-r--r--   3 roskarr supergroup   10332445 2015-06-23 17:39 /user/roskarr/gutenberg/cleaned_rdd/part-00345\n",
      "-rw-r--r--   3 roskarr supergroup   10645817 2015-06-23 17:39 /user/roskarr/gutenberg/cleaned_rdd/part-00346\n",
      "-rw-r--r--   3 roskarr supergroup    9787784 2015-06-23 17:39 /user/roskarr/gutenberg/cleaned_rdd/part-00347\n",
      "-rw-r--r--   3 roskarr supergroup    8036286 2015-06-23 17:39 /user/roskarr/gutenberg/cleaned_rdd/part-00348\n",
      "-rw-r--r--   3 roskarr supergroup   10394347 2015-06-23 17:39 /user/roskarr/gutenberg/cleaned_rdd/part-00349\n",
      "-rw-r--r--   3 roskarr supergroup   11466542 2015-06-23 17:39 /user/roskarr/gutenberg/cleaned_rdd/part-00350\n",
      "-rw-r--r--   3 roskarr supergroup   10952443 2015-06-23 17:39 /user/roskarr/gutenberg/cleaned_rdd/part-00351\n",
      "-rw-r--r--   3 roskarr supergroup    9406165 2015-06-23 17:39 /user/roskarr/gutenberg/cleaned_rdd/part-00352\n",
      "-rw-r--r--   3 roskarr supergroup   10157175 2015-06-23 17:39 /user/roskarr/gutenberg/cleaned_rdd/part-00353\n",
      "-rw-r--r--   3 roskarr supergroup    7632443 2015-06-23 17:39 /user/roskarr/gutenberg/cleaned_rdd/part-00354\n",
      "-rw-r--r--   3 roskarr supergroup    9770559 2015-06-23 17:39 /user/roskarr/gutenberg/cleaned_rdd/part-00355\n",
      "-rw-r--r--   3 roskarr supergroup    9610218 2015-06-23 17:39 /user/roskarr/gutenberg/cleaned_rdd/part-00356\n",
      "-rw-r--r--   3 roskarr supergroup    8555956 2015-06-23 17:39 /user/roskarr/gutenberg/cleaned_rdd/part-00357\n",
      "-rw-r--r--   3 roskarr supergroup    7059162 2015-06-23 17:39 /user/roskarr/gutenberg/cleaned_rdd/part-00358\n",
      "-rw-r--r--   3 roskarr supergroup   12471882 2015-06-23 17:39 /user/roskarr/gutenberg/cleaned_rdd/part-00359\n",
      "-rw-r--r--   3 roskarr supergroup   10530774 2015-06-23 17:39 /user/roskarr/gutenberg/cleaned_rdd/part-00360\n",
      "-rw-r--r--   3 roskarr supergroup   11459362 2015-06-23 17:39 /user/roskarr/gutenberg/cleaned_rdd/part-00361\n",
      "-rw-r--r--   3 roskarr supergroup   11274859 2015-06-23 17:39 /user/roskarr/gutenberg/cleaned_rdd/part-00362\n",
      "-rw-r--r--   3 roskarr supergroup   11234803 2015-06-23 17:39 /user/roskarr/gutenberg/cleaned_rdd/part-00363\n",
      "-rw-r--r--   3 roskarr supergroup   11666140 2015-06-23 17:39 /user/roskarr/gutenberg/cleaned_rdd/part-00364\n",
      "-rw-r--r--   3 roskarr supergroup    9251041 2015-06-23 17:39 /user/roskarr/gutenberg/cleaned_rdd/part-00365\n",
      "-rw-r--r--   3 roskarr supergroup    9154895 2015-06-23 17:39 /user/roskarr/gutenberg/cleaned_rdd/part-00366\n",
      "-rw-r--r--   3 roskarr supergroup   13814365 2015-06-23 17:39 /user/roskarr/gutenberg/cleaned_rdd/part-00367\n",
      "-rw-r--r--   3 roskarr supergroup   10378637 2015-06-23 17:39 /user/roskarr/gutenberg/cleaned_rdd/part-00368\n",
      "-rw-r--r--   3 roskarr supergroup   11123098 2015-06-23 17:39 /user/roskarr/gutenberg/cleaned_rdd/part-00369\n",
      "-rw-r--r--   3 roskarr supergroup   16018822 2015-06-23 17:39 /user/roskarr/gutenberg/cleaned_rdd/part-00370\n",
      "-rw-r--r--   3 roskarr supergroup   10312485 2015-06-23 17:39 /user/roskarr/gutenberg/cleaned_rdd/part-00371\n",
      "-rw-r--r--   3 roskarr supergroup    8103802 2015-06-23 17:39 /user/roskarr/gutenberg/cleaned_rdd/part-00372\n",
      "-rw-r--r--   3 roskarr supergroup   10429529 2015-06-23 17:39 /user/roskarr/gutenberg/cleaned_rdd/part-00373\n",
      "-rw-r--r--   3 roskarr supergroup    9882056 2015-06-23 17:39 /user/roskarr/gutenberg/cleaned_rdd/part-00374\n",
      "-rw-r--r--   3 roskarr supergroup    8736618 2015-06-23 17:39 /user/roskarr/gutenberg/cleaned_rdd/part-00375\n",
      "-rw-r--r--   3 roskarr supergroup   10656620 2015-06-23 17:39 /user/roskarr/gutenberg/cleaned_rdd/part-00376\n",
      "-rw-r--r--   3 roskarr supergroup    9727310 2015-06-23 17:39 /user/roskarr/gutenberg/cleaned_rdd/part-00377\n",
      "-rw-r--r--   3 roskarr supergroup    9012712 2015-06-23 17:39 /user/roskarr/gutenberg/cleaned_rdd/part-00378\n",
      "-rw-r--r--   3 roskarr supergroup   11571196 2015-06-23 17:39 /user/roskarr/gutenberg/cleaned_rdd/part-00379\n",
      "-rw-r--r--   3 roskarr supergroup   14621094 2015-06-23 17:39 /user/roskarr/gutenberg/cleaned_rdd/part-00380\n",
      "-rw-r--r--   3 roskarr supergroup    9584278 2015-06-23 17:39 /user/roskarr/gutenberg/cleaned_rdd/part-00381\n",
      "-rw-r--r--   3 roskarr supergroup   10448724 2015-06-23 17:39 /user/roskarr/gutenberg/cleaned_rdd/part-00382\n",
      "-rw-r--r--   3 roskarr supergroup   11331855 2015-06-23 17:39 /user/roskarr/gutenberg/cleaned_rdd/part-00383\n",
      "-rw-r--r--   3 roskarr supergroup   12491300 2015-06-23 17:39 /user/roskarr/gutenberg/cleaned_rdd/part-00384\n",
      "-rw-r--r--   3 roskarr supergroup    8077019 2015-06-23 17:39 /user/roskarr/gutenberg/cleaned_rdd/part-00385\n",
      "-rw-r--r--   3 roskarr supergroup    7485364 2015-06-23 17:39 /user/roskarr/gutenberg/cleaned_rdd/part-00386\n",
      "-rw-r--r--   3 roskarr supergroup   11441664 2015-06-23 17:39 /user/roskarr/gutenberg/cleaned_rdd/part-00387\n",
      "-rw-r--r--   3 roskarr supergroup    6424481 2015-06-23 17:39 /user/roskarr/gutenberg/cleaned_rdd/part-00388\n",
      "-rw-r--r--   3 roskarr supergroup    9009718 2015-06-23 17:39 /user/roskarr/gutenberg/cleaned_rdd/part-00389\n",
      "-rw-r--r--   3 roskarr supergroup    6301330 2015-06-23 17:39 /user/roskarr/gutenberg/cleaned_rdd/part-00390\n",
      "-rw-r--r--   3 roskarr supergroup   11018337 2015-06-23 17:39 /user/roskarr/gutenberg/cleaned_rdd/part-00391\n",
      "-rw-r--r--   3 roskarr supergroup    8306912 2015-06-23 17:39 /user/roskarr/gutenberg/cleaned_rdd/part-00392\n",
      "-rw-r--r--   3 roskarr supergroup    6910620 2015-06-23 17:39 /user/roskarr/gutenberg/cleaned_rdd/part-00393\n",
      "-rw-r--r--   3 roskarr supergroup   10418179 2015-06-23 17:39 /user/roskarr/gutenberg/cleaned_rdd/part-00394\n",
      "-rw-r--r--   3 roskarr supergroup    7264984 2015-06-23 17:39 /user/roskarr/gutenberg/cleaned_rdd/part-00395\n",
      "-rw-r--r--   3 roskarr supergroup   10914233 2015-06-23 17:39 /user/roskarr/gutenberg/cleaned_rdd/part-00396\n",
      "-rw-r--r--   3 roskarr supergroup   15145356 2015-06-23 17:39 /user/roskarr/gutenberg/cleaned_rdd/part-00397\n",
      "-rw-r--r--   3 roskarr supergroup   11985166 2015-06-23 17:39 /user/roskarr/gutenberg/cleaned_rdd/part-00398\n",
      "-rw-r--r--   3 roskarr supergroup    8651101 2015-06-23 17:39 /user/roskarr/gutenberg/cleaned_rdd/part-00399\n"
     ]
    }
   ],
   "source": [
    "!hadoop fs -ls /user/roskarr/gutenberg/cleaned_rdd"
   ]
  },
  {
   "cell_type": "markdown",
   "metadata": {},
   "source": [
    "## Processing the data\n",
    "\n",
    "We're finished with the basic pre-processing. Our `cleaned_rdd` contains `gid`'s as keys and text as values. If we want some other piece of metadata, we can just access it via the lookup table, for example `meta_b.value[gid][meta_name]`. "
   ]
  },
  {
   "cell_type": "markdown",
   "metadata": {},
   "source": [
    "### Histogram of book publication years\n",
    "Now we're ready to start asking some questions of the data. To begin with, lets do a simple histogram of the year distribution of the books. Since we don't have original publication dates, we just use the simple formula: \n",
    "\n",
    "$year = max\\left((year_{birth} + year_{death})/2, year_{birth} + offset\\right)$, \n",
    "\n",
    "where $offset$ is a number drawn from a gaussian centered on 40 with $\\sigma = 5$ years. This means that we assume most people write their books around 40. ;)\n",
    "\n",
    "The function `publication_year` is provided for you and you should use it to *transform* the `year_rdd` into an RDD of publication years. "
   ]
  },
  {
   "cell_type": "code",
   "execution_count": 39,
   "metadata": {
    "collapsed": false
   },
   "outputs": [],
   "source": [
    "import numpy as np\n",
    "def publication_year(meta) : \n",
    "    birth_year = int(meta['birth_year'])\n",
    "    if meta['death_year'] is None : \n",
    "        year = birth_year + np.random.normal(40,5)\n",
    "    else :\n",
    "        death_year = int(meta['death_year'])\n",
    "        year = max((birth_year + death_year) / 2.0, birth_year+np.random.normal(40,5))\n",
    "\n",
    "    return min(int(year),2015)"
   ]
  },
  {
   "cell_type": "code",
   "execution_count": 76,
   "metadata": {
    "collapsed": false
   },
   "outputs": [
    {
     "data": {
      "text/plain": [
       "11598"
      ]
     },
     "execution_count": 76,
     "metadata": {},
     "output_type": "execute_result"
    }
   ],
   "source": [
    "# FILL IN \n",
    "year_rdd = (cleaned_rdd.map(lambda (gid, text): publication_year(get_metadata(gid)))\n",
    "                       .cache())\n",
    "year_rdd.count()"
   ]
  },
  {
   "cell_type": "markdown",
   "metadata": {},
   "source": [
    "The histogram function actually already exists in the Spark API (but it didn't use to!). However, for fun we will write our own. Calculating the histogram can be split up into two parts. First, we need to figure out which bin each value corresponds to: \n",
    "\n",
    "1. take bins and a value as input\n",
    "2. calculate the bin that the value maps to and return (`bin`, 1) pair\n",
    "\n",
    "Second, we need to do a simple `reduceByKey` where we just add up all the values belonging to each bin. "
   ]
  },
  {
   "cell_type": "code",
   "execution_count": 41,
   "metadata": {
    "collapsed": true
   },
   "outputs": [],
   "source": [
    "# define a helper function to determine which bin a value falls into\n",
    "from bisect import bisect_right\n",
    "def get_bin(bin_edges, value) : \n",
    "    \"\"\"Returns which bin, specified by `bin_edges` the `value` falls into.\"\"\"\n",
    "    return bisect_right(bin_edges, value) - 1"
   ]
  },
  {
   "cell_type": "code",
   "execution_count": 51,
   "metadata": {
    "collapsed": true
   },
   "outputs": [],
   "source": [
    "def histogram(rdd, nbins = 100, min_val=None, max_val=None) :\n",
    "    # if either min_val or max_val are missing, get them from the data\n",
    "    if min_val is None : \n",
    "        min_val = rdd.min() # FILL IN\n",
    "    if max_val is None : \n",
    "        max_val = rdd.max() # FILL IN\n",
    "        \n",
    "    bin_edges = np.linspace(min_val,max_val,nbins+1)\n",
    "    \n",
    "    binned_rdd = rdd.map(lambda x: (get_bin(bin_edges, x),1)) # FILL IN \n",
    "    \n",
    "    summed_bins = binned_rdd.reduceByKey(lambda a,b:a+b).collect() # FILL IN \n",
    "    \n",
    "    # This is a sparse result -- turn into a dense vector for plotting: \n",
    "    res_full = np.zeros(nbins)\n",
    "    overflow = 0\n",
    "    for item in summed_bins : \n",
    "        if item[0] > len(res_full)-1 or item[0] < 0: \n",
    "            continue # ignore\n",
    "        else: res_full[item[0]] = item[1]\n",
    "            \n",
    "    return .5*(bin_edges[:-1]+bin_edges[1:]), res_full"
   ]
  },
  {
   "cell_type": "code",
   "execution_count": 74,
   "metadata": {
    "collapsed": false
   },
   "outputs": [
    {
     "name": "stdout",
     "output_type": "stream",
     "text": [
      "CPU times: user 171 ms, sys: 41 ms, total: 212 ms\n",
      "Wall time: 1.23 s\n"
     ]
    }
   ],
   "source": [
    "# FILL IN \n",
    "%time bins, vals = histogram(year_rdd, min_val=1500, max_val=2015)"
   ]
  },
  {
   "cell_type": "markdown",
   "metadata": {},
   "source": [
    "This kind of operation is a good candidate for computing a partial result on each partition followed by a reduce step. This can dramatically reduce the network traffic. Instead of mapping each value to a bin and doing a potentially expensive shuffle during the `reduceByKey` operation, we can compute a histogram locally on each partition and then simply add them up at the end. \n",
    "\n",
    "Here is where our knowledge of generators comes in handy!"
   ]
  },
  {
   "cell_type": "code",
   "execution_count": 77,
   "metadata": {
    "collapsed": false
   },
   "outputs": [],
   "source": [
    "def bin_partition(iterator, nbins,  min_val, max_val) : \n",
    "    from bisect import bisect_right\n",
    "    \n",
    "    bin_edges = np.linspace(min_val,max_val,nbins+1)\n",
    "    \n",
    "    bin_vals = np.zeros(len(bin_edges)-1)\n",
    "    \n",
    "    for item in iterator : \n",
    "        try : \n",
    "            bin_vals[bisect_right(bin_edges, item)-1] += 1\n",
    "        except IndexError : \n",
    "            pass\n",
    "        \n",
    "    yield bin_vals\n",
    "\n",
    "def histogram_partition(rdd, nbins = 100, min_val=None, max_val=None) :\n",
    "    # if either min_val or max_val are missing, get them from the data\n",
    "    if min_val is None : \n",
    "        min_val = rdd.min() # FILL IN\n",
    "    if max_val is None : \n",
    "        max_val = rdd.max() # FILL IN\n",
    "        \n",
    "    bin_edges = np.linspace(min_val,max_val,nbins+1)\n",
    "    \n",
    "    result = (rdd.mapPartitions(lambda iterator: bin_partition(iterator, nbins, min_val, max_val))\n",
    "                 .reduce(lambda a,b: a+b))\n",
    "    \n",
    "    return .5*(bin_edges[:-1]+bin_edges[1:]), result"
   ]
  },
  {
   "cell_type": "code",
   "execution_count": 79,
   "metadata": {
    "collapsed": false
   },
   "outputs": [
    {
     "name": "stdout",
     "output_type": "stream",
     "text": [
      "CPU times: user 106 ms, sys: 24 ms, total: 130 ms\n",
      "Wall time: 611 ms\n"
     ]
    }
   ],
   "source": [
    "%time bins, vals = histogram_partition(year_rdd, min_val=1500, max_val=2015)"
   ]
  },
  {
   "cell_type": "markdown",
   "metadata": {},
   "source": [
    "The difference here doesn't look dramatic because the total amount of data is rather small, but have a look at the Spark Web UI and you will see that the second implementation didn't do any shuffle writing. With a bigger data set, this difference would potentially matter a lot. "
   ]
  },
  {
   "cell_type": "code",
   "execution_count": 80,
   "metadata": {
    "collapsed": false
   },
   "outputs": [
    {
     "data": {
      "text/plain": [
       "<matplotlib.text.Text at 0x2b2b707a3e50>"
      ]
     },
     "execution_count": 80,
     "metadata": {},
     "output_type": "execute_result"
    },
    {
     "data": {
      "image/png": "[encoded data removed]",
      "text/plain": [
       "<matplotlib.figure.Figure at 0x2b2b71220bd0>"
      ]
     },
     "metadata": {},
     "output_type": "display_data"
    }
   ],
   "source": [
    "plt.plot(bins, vals, color = '#3182bd', lw=2)\n",
    "plt.xlim(1500,2015)\n",
    "plt.xlabel('year')\n",
    "plt.ylabel('Number of books')"
   ]
  },
  {
   "cell_type": "markdown",
   "metadata": {},
   "source": [
    "### Inspecting the metadata some more\n",
    "\n",
    "Lets do a couple more checks and practice using the Spark API. \n",
    "\n",
    "How many unique authors are there in the dataset? \n",
    "\n",
    "1. make `author_rdd` that is composed of a string `\"last_name, first_name\"`\n",
    "2. keep only the unique author strings (*hint*: look at the Spark API to find an appropriate method)\n",
    "3. count the number of elements remaining"
   ]
  },
  {
   "cell_type": "code",
   "execution_count": 49,
   "metadata": {
    "collapsed": true
   },
   "outputs": [],
   "source": [
    "# FILL IN \n",
    "author_rdd = cleaned_rdd.map(lambda (gid, text): \n",
    "                             \"%s %s\"%(meta_b.value[gid]['last_name'], meta_b.value[gid]['first_name']))"
   ]
  },
  {
   "cell_type": "code",
   "execution_count": 50,
   "metadata": {
    "collapsed": false
   },
   "outputs": [
    {
     "name": "stdout",
     "output_type": "stream",
     "text": [
      "Number of distinct authors: 3831 \n"
     ]
    }
   ],
   "source": [
    "# FILL IN\n",
    "n_authors = (author_rdd.distinct()\n",
    "                       .count())\n",
    "print \"Number of distinct authors: %s \" % n_authors"
   ]
  },
  {
   "cell_type": "markdown",
   "metadata": {},
   "source": [
    "Most-represented authors in the corpus: \n",
    "\n",
    "1. use the `author_rdd` from above\n",
    "2. use the pattern `(key, 1)` to set up an RDD that can be passed to `reduceByKey`\n",
    "3. run `reduceByKey`, yielding an RDD composed of `(author, count)` tuples\n",
    "4. sort by descending order of number of books per author"
   ]
  },
  {
   "cell_type": "code",
   "execution_count": 51,
   "metadata": {
    "collapsed": false
   },
   "outputs": [
    {
     "data": {
      "text/plain": [
       "[(u'Lytton Baron Lytton', 212),\n",
       " (u'Ebers Georg', 163),\n",
       " (u'Shakespeare William', 145),\n",
       " (u'Twain Mark', 139),\n",
       " (u'Parker Gilbert', 131),\n",
       " (u'Meredith George', 107),\n",
       " (u'Motley John Lothrop', 102),\n",
       " (u'Jacobs W. W. (William Wymark)', 102),\n",
       " (u'Pepys Samuel', 87),\n",
       " (u'Hawthorne Nathaniel', 80)]"
      ]
     },
     "execution_count": 51,
     "metadata": {},
     "output_type": "execute_result"
    }
   ],
   "source": [
    "(author_rdd.map(lambda author: (author, 1))\n",
    "           .reduceByKey(lambda a,b: a+b)\n",
    "           .takeOrdered(10, lambda (a,c): -1*c))"
   ]
  },
  {
   "cell_type": "markdown",
   "metadata": {},
   "source": [
    "Finally, lets do the same thing per language, just to get an idea of how much data there is: "
   ]
  },
  {
   "cell_type": "code",
   "execution_count": 52,
   "metadata": {
    "collapsed": true
   },
   "outputs": [],
   "source": [
    "# FILL IN \n",
    "lang_rdd = cleaned_rdd.map(lambda (gid, text): meta_b.value[gid]['lang'])"
   ]
  },
  {
   "cell_type": "code",
   "execution_count": 53,
   "metadata": {
    "collapsed": false
   },
   "outputs": [
    {
     "data": {
      "text/plain": [
       "[(u'en', 10706), (u'de', 892)]"
      ]
     },
     "execution_count": 53,
     "metadata": {},
     "output_type": "execute_result"
    }
   ],
   "source": [
    "# FILL IN: reduce the `lang_rdd` to yield number of books in each language\n",
    "lang_rdd.map(lambda l: (l,1)).reduceByKey(lambda a,b: a+b).collect()"
   ]
  },
  {
   "cell_type": "markdown",
   "metadata": {},
   "source": [
    "## How many words were used in these 500 years? \n",
    "### Construct a corpus-wide vocabulary\n",
    "\n",
    "We could have done the above metadata gymnastics without ever invoking a distributed processing framework of course by simply extracting the years from the metadata. The text body of each data element is where the bulk of the data volume lies. \n",
    "\n",
    "To construct a corpus wide vocabulary, we have to deconstruct each document into a list of words and then extract the unique words from the entire data set. If our dataset fit into memory of a single machine, this is a simple set operation. But what if it doesn't? \n",
    "\n",
    "We'll assume this is the case and instead of converting each `gid,text` pair into a `gid,list_of_words` pair, we will simply construct one RDD of words. Here we aren't necessarily interested in preserving the provenance of words, but just finding the unique words in the whole corpus. \n",
    "\n",
    "1. map the entire RDD of text into an RDD of single words\n",
    "2. use the `distinct` method of the resulting RDD to transform it into an RDD with only unique words\n",
    "\n",
    "*Hint:* In python, splitting a string into a set of words separated by spaces is easy: "
   ]
  },
  {
   "cell_type": "code",
   "execution_count": 54,
   "metadata": {
    "collapsed": false
   },
   "outputs": [
    {
     "data": {
      "text/plain": [
       "['splitting', 'a', 'string', 'is', 'super', 'simple']"
      ]
     },
     "execution_count": 54,
     "metadata": {},
     "output_type": "execute_result"
    }
   ],
   "source": [
    "line = 'splitting a string is super simple'\n",
    "line.split()"
   ]
  },
  {
   "cell_type": "markdown",
   "metadata": {},
   "source": [
    "Make an RDD `distinct_rdd` which holds the *unique English* words:"
   ]
  },
  {
   "cell_type": "code",
   "execution_count": 55,
   "metadata": {
    "collapsed": false
   },
   "outputs": [
    {
     "name": "stdout",
     "output_type": "stream",
     "text": [
      "Number of unique words:  2807420\n"
     ]
    }
   ],
   "source": [
    "# FILL IN\n",
    "distinct_rdd = (cleaned_rdd.filter(lambda (gid, text): meta_b.value[gid]['lang'] == 'en')\n",
    "                           .flatMap(lambda (gid, text): text.split())\n",
    "                           .distinct())\n",
    "print \"Number of unique words: \", distinct_rdd.count()"
   ]
  },
  {
   "cell_type": "markdown",
   "metadata": {},
   "source": [
    "A \"MapReduce\" tutorial would self destruct if it didn't include a word counting example. So, lets count the occurences of all the words across the entire corpus. This is a fairly straightforward operation: \n",
    "\n",
    "0. keep only the english language books\n",
    "1. `map` each word into a (`word, count`) pair\n",
    "2. call `reduceByKey` to sum up all the `count`s for each word\n",
    "3. finally to make it useful, sort it in descending order\n",
    "\n",
    "*hint:* think about which mapping method you need to use to convert the single item (`text`) into many items (individual words)\n",
    "\n",
    "*hint \\#2:* list comprehension can lead to a nice concise solution here..."
   ]
  },
  {
   "cell_type": "code",
   "execution_count": 56,
   "metadata": {
    "collapsed": true
   },
   "outputs": [],
   "source": [
    "word_count = (cleaned_rdd.filter(lambda (gid, text): meta_b.value[gid]['lang'] == 'en')\n",
    "                         .flatMap(lambda (gid, text): [(word,1) for word in text.split()])\n",
    "                         .reduceByKey(lambda a,b: a+b)\n",
    "                         .sortBy(lambda (word, count): count, False)).cache()"
   ]
  },
  {
   "cell_type": "code",
   "execution_count": 57,
   "metadata": {
    "collapsed": false
   },
   "outputs": [
    {
     "data": {
      "text/plain": [
       "[('the', 47035021),\n",
       " ('of', 25973944),\n",
       " ('and', 24212041),\n",
       " ('to', 20546234),\n",
       " ('a', 15731804),\n",
       " ('in', 13394559),\n",
       " ('that', 9063159),\n",
       " ('i', 8370887),\n",
       " ('he', 8367341),\n",
       " ('was', 8131835),\n",
       " ('it', 7657037),\n",
       " ('his', 6919891),\n",
       " ('with', 6272850),\n",
       " ('for', 5850743),\n",
       " ('as', 5774069),\n",
       " ('is', 5769883),\n",
       " ('you', 5413220),\n",
       " ('had', 5075729),\n",
       " ('not', 4668707),\n",
       " ('her', 4372443),\n",
       " ('at', 4368730),\n",
       " ('be', 4363693),\n",
       " ('but', 4358541),\n",
       " ('on', 4172539),\n",
       " ('by', 3914924),\n",
       " ('this', 3744877),\n",
       " ('which', 3597949),\n",
       " ('she', 3554704),\n",
       " ('have', 3436484),\n",
       " ('from', 3281687),\n",
       " ('or', 3192287),\n",
       " ('him', 3102583),\n",
       " ('they', 3084159),\n",
       " ('all', 3069227),\n",
       " ('my', 2733775),\n",
       " ('were', 2673387),\n",
       " ('are', 2478379),\n",
       " ('so', 2449704),\n",
       " ('we', 2443380),\n",
       " ('one', 2348788),\n",
       " ('me', 2296208),\n",
       " ('an', 2256752),\n",
       " ('their', 2219106),\n",
       " ('no', 2122701),\n",
       " ('if', 2117103),\n",
       " ('there', 2063181),\n",
       " ('would', 1969250),\n",
       " ('who', 1964487),\n",
       " ('when', 1900255),\n",
       " ('been', 1882207)]"
      ]
     },
     "execution_count": 57,
     "metadata": {},
     "output_type": "execute_result"
    }
   ],
   "source": [
    "word_count.take(50)"
   ]
  },
  {
   "cell_type": "markdown",
   "metadata": {},
   "source": [
    "## Reduces, Shuffles, and Partitioning\n",
    "During a `reduceByKey`, or any other reduction for that matter, data must be shuffled around the cluster and combined. By default, this is done in an intelligent way by first reducing values locally on each partition, and then combining the results of the partitions. Still, as is the case here, for common keys, every partition will have to send its results to others. This can result in a lot of temporary file IO if the data that needs to be communicated can't all be held in memory on all of the executors. \n",
    "\n",
    "One way around this is to partition the data ahead of time so that the same keys land on the same partition by design. This results in much less data needing to be shipped around the network and can improve the performance. Of course, at the cost of an expensive initial shuffle! But if many reductions have to be done on the same data, it might be worth it. "
   ]
  },
  {
   "cell_type": "code",
   "execution_count": 70,
   "metadata": {
    "collapsed": true
   },
   "outputs": [],
   "source": [
    "from pickle import load\n",
    "stop_words = load(open('./stop_words.dump'))"
   ]
  },
  {
   "cell_type": "code",
   "execution_count": 73,
   "metadata": {
    "collapsed": false
   },
   "outputs": [],
   "source": [
    "word_rdd = (cleaned_rdd.filter(lambda (gid, text): meta_b.value[gid]['lang'] == 'en')\n",
    "                       .flatMap(lambda (gid, text): [(word,1) for word in text.split() if word not in stop_words])\n",
    "                       .cache())"
   ]
  },
  {
   "cell_type": "code",
   "execution_count": 74,
   "metadata": {
    "collapsed": false
   },
   "outputs": [
    {
     "data": {
      "text/plain": [
       "323027473"
      ]
     },
     "execution_count": 74,
     "metadata": {},
     "output_type": "execute_result"
    }
   ],
   "source": [
    "word_rdd.count()"
   ]
  },
  {
   "cell_type": "markdown",
   "metadata": {},
   "source": [
    "Here we re-partition the `word_rdd` using the built-in hashing function, which just turns the "
   ]
  },
  {
   "cell_type": "code",
   "execution_count": 75,
   "metadata": {
    "collapsed": true
   },
   "outputs": [],
   "source": [
    "num_partitions = word_rdd.getNumPartitions()"
   ]
  },
  {
   "cell_type": "code",
   "execution_count": 76,
   "metadata": {
    "collapsed": false
   },
   "outputs": [
    {
     "data": {
      "text/plain": [
       "323027473"
      ]
     },
     "execution_count": 76,
     "metadata": {},
     "output_type": "execute_result"
    }
   ],
   "source": [
    "par = word_rdd.partitionBy(num_partitions, lambda x: hash(x)%num_partitions).cache()\n",
    "par.count()"
   ]
  },
  {
   "cell_type": "markdown",
   "metadata": {},
   "source": [
    "Since both datasets are cached in memory, we can compare the time it takes the reduce step to complete:"
   ]
  },
  {
   "cell_type": "code",
   "execution_count": 77,
   "metadata": {
    "collapsed": false
   },
   "outputs": [
    {
     "name": "stdout",
     "output_type": "stream",
     "text": [
      "CPU times: user 91 ms, sys: 25 ms, total: 116 ms\n",
      "Wall time: 15.1 s\n"
     ]
    },
    {
     "data": {
      "text/plain": [
       "2807102"
      ]
     },
     "execution_count": 77,
     "metadata": {},
     "output_type": "execute_result"
    }
   ],
   "source": [
    "%%time\n",
    "word_rdd.reduceByKey(lambda a,b: a+b).count()"
   ]
  },
  {
   "cell_type": "code",
   "execution_count": 78,
   "metadata": {
    "collapsed": false
   },
   "outputs": [
    {
     "name": "stdout",
     "output_type": "stream",
     "text": [
      "CPU times: user 93 ms, sys: 23 ms, total: 116 ms\n",
      "Wall time: 8.73 s\n"
     ]
    },
    {
     "data": {
      "text/plain": [
       "2807102"
      ]
     },
     "execution_count": 78,
     "metadata": {},
     "output_type": "execute_result"
    }
   ],
   "source": [
    "%%time\n",
    "par.reduceByKey(lambda a,b: a+b).count()"
   ]
  },
  {
   "cell_type": "markdown",
   "metadata": {
    "collapsed": true
   },
   "source": [
    "A ~ 40% improvement! Not bad, though we can expect the difference to depend on the nature of the dataset. If you inspect the Spark UI, you can see that the first `reduceByKey` (i.e. one done on `word_rdd`) shuffled ~390 Mb of data, while the second `reduceByKey` (i.e. done on `par`) only shuffled ~50 Mb of data. This dataset is still pretty small, but when the shuffles are in the Gb range, the differences can be substantial. \n",
    "\n",
    "If you need to do lookups of individual keys, this becomes even more dramatic: "
   ]
  },
  {
   "cell_type": "code",
   "execution_count": 79,
   "metadata": {
    "collapsed": false
   },
   "outputs": [
    {
     "name": "stdout",
     "output_type": "stream",
     "text": [
      "CPU times: user 10 ms, sys: 999 µs, total: 11 ms\n",
      "Wall time: 460 ms\n"
     ]
    }
   ],
   "source": [
    "%time x = par.lookup('environment')"
   ]
  },
  {
   "cell_type": "code",
   "execution_count": 80,
   "metadata": {
    "collapsed": false
   },
   "outputs": [
    {
     "name": "stdout",
     "output_type": "stream",
     "text": [
      "CPU times: user 65 ms, sys: 24 ms, total: 89 ms\n",
      "Wall time: 7.07 s\n"
     ]
    }
   ],
   "source": [
    "%time x = word_rdd.lookup('environment')"
   ]
  },
  {
   "cell_type": "markdown",
   "metadata": {},
   "source": [
    "## Distributed Vectors\n",
    "### Computing word frequency vs. time\n",
    "\n",
    "Here we'll build a simple tool that visualizes the relative word frequency as a function of time in the Gutenberg corpus. For inspiration, see the [Google Ngram viewer](https://books.google.com/ngrams).\n",
    "\n",
    "To do this, we will convert each document into a vector that represents the word counts for each word appearing in the document. In order for the vector indices to remain consistent across the whole corpus, we have to build a corpus-wide lookup dictionary, a `word --> index` mapping. \n",
    "\n",
    "Then, once each document is converted to a vector, we will reduce the vectors by year, yielding an RDD that will have the total number of occurrences of each word in every year. From there, it is trivial to look up the desired word and plot the relative frequency vs. year. "
   ]
  },
  {
   "cell_type": "markdown",
   "metadata": {},
   "source": [
    "Create a look-up table of words by attaching a unique index to each word. The Spark API provides a [zipWithIndex](http://spark.apache.org/docs/latest/api/python/pyspark.html#pyspark.RDD.zipWithIndex) method that makes this easy. Use the `word_count` RDD we created above to begin, then filter the resulting RDD to include only the first 100000 words (they are sorted by count, so this will be the 100000 most common ones). Finally, use [collectAsMap](http://spark.apache.org/docs/latest/api/python/pyspark.html#pyspark.RDD.collectAsMap) to return the resulting RDD to the driver as a dictionary. "
   ]
  },
  {
   "cell_type": "code",
   "execution_count": 81,
   "metadata": {
    "collapsed": true
   },
   "outputs": [],
   "source": [
    "word_lookup = (word_count.zipWithIndex()\n",
    "                         .map(lambda ((word, count), ind): (word,ind))\n",
    "                         .filter(lambda (word, count): count < 100000)\n",
    "                         .collectAsMap())"
   ]
  },
  {
   "cell_type": "markdown",
   "metadata": {},
   "source": [
    "Broadcast `word_lookup` so we can use it on all the workers:"
   ]
  },
  {
   "cell_type": "code",
   "execution_count": 82,
   "metadata": {
    "collapsed": true
   },
   "outputs": [],
   "source": [
    "word_lookup_b = sc.broadcast(word_lookup)"
   ]
  },
  {
   "cell_type": "code",
   "execution_count": 83,
   "metadata": {
    "collapsed": true
   },
   "outputs": [],
   "source": [
    "from scipy.sparse import csr_matrix\n",
    "import re\n",
    "\n",
    "def split_iter(string):\n",
    "    \"\"\"\n",
    "    Generator replacement for string.split() to use minimal memory \n",
    "    overhead when iterating over an entire document\n",
    "    \"\"\"\n",
    "    return (x.group(0) for x in re.finditer(r\"[A-Za-z']+\", string))\n",
    "\n",
    "def count_doc_words(doc, vocab) : \n",
    "    \"\"\"\n",
    "    Returns a vector representation of `doc` given the reference \n",
    "    vocabulary `vocab`. \n",
    "    \"\"\"\n",
    "    from collections import defaultdict\n",
    "    from scipy.sparse import csr_matrix \n",
    "    \n",
    "    d = defaultdict(int)\n",
    "    \n",
    "    for word in split_iter(doc) : \n",
    "        if word in vocab : \n",
    "            d[word] += 1\n",
    "        \n",
    "    values = np.empty(len(d))\n",
    "    indices = np.empty(len(d))\n",
    "    \n",
    "    for i, (word, val) in enumerate(d.iteritems()) : \n",
    "        indices[i] = vocab[word]\n",
    "        values[i] = val\n",
    "        \n",
    "    return csr_matrix((values, (indices, np.zeros(len(d)))), shape = (len(vocab), 1))"
   ]
  },
  {
   "cell_type": "markdown",
   "metadata": {},
   "source": [
    "Create an RDD of english-language books:"
   ]
  },
  {
   "cell_type": "code",
   "execution_count": 84,
   "metadata": {
    "collapsed": true
   },
   "outputs": [],
   "source": [
    "# FILL IN \n",
    "eng_rdd = cleaned_rdd.filter(lambda (gid, text): meta_b.value[gid]['lang'] == 'en')\n",
    "\n",
    "year_rdd = eng_rdd.map(lambda (gid, text): (publication_year(meta_b.value[gid]), text)).cache()\n",
    "\n",
    "vector_year_rdd = year_rdd.map(lambda (year, text) : (year, count_doc_words(text, word_lookup_b.value)))"
   ]
  },
  {
   "cell_type": "code",
   "execution_count": 85,
   "metadata": {
    "collapsed": false
   },
   "outputs": [
    {
     "data": {
      "text/plain": [
       "[(1849, <100000x1 sparse matrix of type '<type 'numpy.float64'>'\n",
       "  \twith 1552 stored elements in Compressed Sparse Row format>),\n",
       " (1836, <100000x1 sparse matrix of type '<type 'numpy.float64'>'\n",
       "  \twith 9473 stored elements in Compressed Sparse Row format>),\n",
       " (1911, <100000x1 sparse matrix of type '<type 'numpy.float64'>'\n",
       "  \twith 4849 stored elements in Compressed Sparse Row format>),\n",
       " (1805, <100000x1 sparse matrix of type '<type 'numpy.float64'>'\n",
       "  \twith 23450 stored elements in Compressed Sparse Row format>),\n",
       " (1825, <100000x1 sparse matrix of type '<type 'numpy.float64'>'\n",
       "  \twith 8696 stored elements in Compressed Sparse Row format>)]"
      ]
     },
     "execution_count": 85,
     "metadata": {},
     "output_type": "execute_result"
    }
   ],
   "source": [
    "vector_year_rdd.take(5)"
   ]
  },
  {
   "cell_type": "markdown",
   "metadata": {},
   "source": [
    "We now have the entire Gutenberg English book corpus in the form of sparse vectors encoding the most used 10k words. \n",
    "\n",
    "Getting yearly sums is now a simple `reduceByKey`:"
   ]
  },
  {
   "cell_type": "code",
   "execution_count": 86,
   "metadata": {
    "collapsed": false
   },
   "outputs": [
    {
     "name": "stdout",
     "output_type": "stream",
     "text": [
      "CPU times: user 340 ms, sys: 429 ms, total: 769 ms\n",
      "Wall time: 26.9 s\n"
     ]
    }
   ],
   "source": [
    "%%time \n",
    "year_sums = vector_year_rdd.reduceByKey(lambda a,b: a+b)\n",
    "year_data = year_sums.collectAsMap()"
   ]
  },
  {
   "cell_type": "code",
   "execution_count": 87,
   "metadata": {
    "collapsed": false
   },
   "outputs": [],
   "source": [
    "def plot_usage_frequency(words, year_data, word_lookup, plot_range = [1500,2015]) : \n",
    "    years = sorted(year_data.keys())\n",
    "    tot_count = np.array([year_data[year].sum() for year in years])\n",
    "    \n",
    "    if type(words) is not str : \n",
    "        n_words = len(words) \n",
    "    else : \n",
    "        n_words = 1\n",
    "        words = [words]\n",
    "        \n",
    "    for i, word in enumerate(words) : \n",
    "        word_ind = word_lookup[word]\n",
    "        w_count = np.array([year_data[year][word_ind].toarray().squeeze() for year in years])\n",
    "        \n",
    "        plt.plot(years, smooth(w_count/(tot_count-w_count)),label=word, color = plt.cm.Set1(1.*i/n_words))\n",
    "    \n",
    "    plt.xlim(plot_range)\n",
    "    plt.xlabel('year')\n",
    "    plt.ylabel('relative frequency')\n",
    "    plt.legend(loc='upper left', fontsize = 'small')\n",
    "    \n",
    "    \n",
    "def smooth(x,window_len=11,window='hanning'):\n",
    "        if x.ndim != 1:\n",
    "                raise ValueError, \"smooth only accepts 1 dimension arrays.\"\n",
    "        if x.size < window_len:\n",
    "                raise ValueError, \"Input vector needs to be bigger than window size.\"\n",
    "        if window_len<3:\n",
    "                return x\n",
    "        if not window in ['flat', 'hanning', 'hamming', 'bartlett', 'blackman']:\n",
    "                raise ValueError, \"Window is on of 'flat', 'hanning', 'hamming', 'bartlett', 'blackman'\"\n",
    "        s=np.r_[2*x[0]-x[window_len-1::-1],x,2*x[-1]-x[-1:-window_len:-1]]\n",
    "        if window == 'flat': #moving average\n",
    "                w=np.ones(window_len,'d')\n",
    "        else:  \n",
    "                w=eval('np.'+window+'(window_len)')\n",
    "        y=np.convolve(w/w.sum(),s,mode='same')\n",
    "        return y[window_len:-window_len+1]"
   ]
  },
  {
   "cell_type": "code",
   "execution_count": 88,
   "metadata": {
    "collapsed": true
   },
   "outputs": [],
   "source": [
    "def plot_usage_frequency(words, year_data, word_lookup, plot_range = [1500,2015]) : \n",
    "    years = sorted(year_data.keys())\n",
    "    tot_count = np.array([year_data[year].sum() for year in years])\n",
    "    \n",
    "    if type(words) is not str : \n",
    "        n_words = len(words) \n",
    "    else : \n",
    "        n_words = 1\n",
    "        words = [words]\n",
    "        \n",
    "    for i, word in enumerate(words) : \n",
    "        word_ind = word_lookup[word]\n",
    "        w_count = np.array([year_data[year][word_ind].toarray().squeeze() for year in years])\n",
    "        \n",
    "        plt.plot(years, smooth(w_count/(tot_count-w_count)),label=word, color = plt.cm.Set1(1.*i/n_words))\n",
    "    \n",
    "    plt.xlim(plot_range)\n",
    "    plt.xlabel('year')\n",
    "    plt.ylabel('relative frequency')\n",
    "    plt.legend(loc='upper left', fontsize = 'small')\n",
    "    \n",
    "    \n",
    "def smooth(x,window_len=11,window='hanning'):\n",
    "        if x.ndim != 1:\n",
    "                raise ValueError, \"smooth only accepts 1 dimension arrays.\"\n",
    "        if x.size < window_len:\n",
    "                raise ValueError, \"Input vector needs to be bigger than window size.\"\n",
    "        if window_len<3:\n",
    "                return x\n",
    "        if not window in ['flat', 'hanning', 'hamming', 'bartlett', 'blackman']:\n",
    "                raise ValueError, \"Window is on of 'flat', 'hanning', 'hamming', 'bartlett', 'blackman'\"\n",
    "        s=np.r_[2*x[0]-x[window_len-1::-1],x,2*x[-1]-x[-1:-window_len:-1]]\n",
    "        if window == 'flat': #moving average\n",
    "                w=np.ones(window_len,'d')\n",
    "        else:  \n",
    "                w=eval('np.'+window+'(window_len)')\n",
    "        y=np.convolve(w/w.sum(),s,mode='same')\n",
    "        return y[window_len:-window_len+1]"
   ]
  },
  {
   "cell_type": "markdown",
   "metadata": {},
   "source": [
    "Here are some fun ones: "
   ]
  },
  {
   "cell_type": "code",
   "execution_count": 89,
   "metadata": {
    "collapsed": false
   },
   "outputs": [
    {
     "data": {
      "image/png": "[encoded data removed]",
      "text/plain": [
       "<matplotlib.figure.Figure at 0x2ace106e6ed0>"
      ]
     },
     "metadata": {},
     "output_type": "display_data"
    }
   ],
   "source": [
    "plot_usage_frequency(['giveth', 'environment', 'machine'], year_data, word_lookup, [1300, 2015])"
   ]
  },
  {
   "cell_type": "markdown",
   "metadata": {},
   "source": [
    "## Language classification"
   ]
  },
  {
   "cell_type": "code",
   "execution_count": 121,
   "metadata": {
    "collapsed": true
   },
   "outputs": [],
   "source": [
    "def extract_ngrams(tokens, ngram_range=[1,1]):\n",
    "    \"\"\"\n",
    "    Turn tokens into a sequence of n-grams \n",
    "\n",
    "    **Inputs**:\n",
    "\n",
    "    *tokens*: a list of tokens\n",
    "\n",
    "    **Optional Keywords**:\n",
    "\n",
    "    *ngram_range*: a tuple with min, max ngram ngram_range\n",
    "\n",
    "    **Output**\n",
    "\n",
    "    Generator yielding a list of ngrams in the desired range\n",
    "    generated from the input list of tokens\n",
    "\n",
    "    \"\"\"\n",
    "\n",
    "    # handle token n-grams\n",
    "    min_n, max_n = ngram_range\n",
    "    n_tokens = len(tokens)\n",
    "    for n in xrange(min_n, min(max_n + 1, n_tokens + 1)):\n",
    "        for i in xrange(n_tokens - n + 1):\n",
    "            if n == 1: \n",
    "                yield tokens[i]\n",
    "            else : \n",
    "                yield \"\".join(tokens[i: i+n])"
   ]
  },
  {
   "cell_type": "code",
   "execution_count": 127,
   "metadata": {
    "collapsed": false
   },
   "outputs": [
    {
     "data": {
      "text/plain": [
       "['p',\n",
       " 'a',\n",
       " 'g',\n",
       " 'e',\n",
       " 'n',\n",
       " 'o',\n",
       " ' ',\n",
       " 'p',\n",
       " 'o',\n",
       " 's',\n",
       " 'pa',\n",
       " 'ag',\n",
       " 'ge',\n",
       " 'en',\n",
       " 'no',\n",
       " 'o ',\n",
       " ' p',\n",
       " 'po',\n",
       " 'os']"
      ]
     },
     "execution_count": 127,
     "metadata": {},
     "output_type": "execute_result"
    }
   ],
   "source": [
    "list(extract_ngrams(list(text)[0:10], [1,2]))"
   ]
  },
  {
   "cell_type": "code",
   "execution_count": null,
   "metadata": {
    "collapsed": true
   },
   "outputs": [],
   "source": []
  }
 ],
 "metadata": {
  "kernelspec": {
   "display_name": "Python 2",
   "language": "python",
   "name": "python2"
  },
  "language_info": {
   "codemirror_mode": {
    "name": "ipython",
    "version": 2
   },
   "file_extension": ".py",
   "mimetype": "text/x-python",
   "name": "python",
   "nbconvert_exporter": "python",
   "pygments_lexer": "ipython2",
   "version": "2.7.10"
  }
 },
 "nbformat": 4,
 "nbformat_minor": 0
}
