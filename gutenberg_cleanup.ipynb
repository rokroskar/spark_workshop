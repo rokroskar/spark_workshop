{
 "cells": [
  {
   "cell_type": "code",
   "execution_count": 1,
   "metadata": {
    "collapsed": true
   },
   "outputs": [],
   "source": [
    "import glob, re\n",
    "from bs4 import BeautifulSoup\n",
    "import nltk"
   ]
  },
  {
   "cell_type": "code",
   "execution_count": 2,
   "metadata": {
    "collapsed": true
   },
   "outputs": [],
   "source": [
    "htmllist = glob.glob('/Users/rok/python_src/gutenberg/dl-cache/*html')"
   ]
  },
  {
   "cell_type": "code",
   "execution_count": 12,
   "metadata": {
    "collapsed": false
   },
   "outputs": [],
   "source": [
    "with open('/Users/rok/python_src/gutenberg/dl-cache/101.html') as f : \n",
    "    soup = BeautifulSoup(f, 'html.parser')\n",
    "text = soup('body')[0].text.lower()"
   ]
  },
  {
   "cell_type": "code",
   "execution_count": 131,
   "metadata": {
    "collapsed": true
   },
   "outputs": [],
   "source": [
    "#\n",
    "# from https://github.com/kiwix/gutenberg\n",
    "#\n",
    "\n",
    "def get_formatted_number(num):\n",
    "    \"\"\"\n",
    "    Get a formatted string of a number from a not-predictable-string\n",
    "    that may or may not actually contain a number.\n",
    "    Append a BC notation to the number num with, if the\n",
    "    number is negative.\n",
    "    returns: a formatted string of the number, or num if\n",
    "             num is not negative or None.\n",
    "    \"\"\"\n",
    "    if not num:\n",
    "        return None\n",
    "    if all(['-' in num, num.replace('-', '').strip().isdigit()]):\n",
    "        return ' '.join([num, 'BC'])\n",
    "    return num\n",
    "\n",
    "class RdfParser():\n",
    "    def __init__(self, rdf_data, gid):\n",
    "        self.rdf_data = rdf_data\n",
    "        self.gid = gid\n",
    "\n",
    "        self.author_id = None\n",
    "        self.author_name = None\n",
    "        self.first_name = None\n",
    "        self.last_name = None\n",
    "\n",
    "    def parse(self):\n",
    "        soup = BeautifulSoup(self.rdf_data, 'lxml', from_encoding='utf-8')\n",
    "\n",
    "        # The tile of the book: this may or may not be divided\n",
    "        # into a new-line-seperated title and subtitle.\n",
    "        # If it is, then we will just split the title.\n",
    "        self.title = soup.find('dcterms:title')\n",
    "        self.title = self.title.text if self.title else '- No Title -'\n",
    "        self.title = self.title.split('\\n')[0]\n",
    "        self.subtitle = ' '.join(self.title.split('\\n')[1:])\n",
    "        self.author_id = None\n",
    "\n",
    "        # Parsing the name of the Author. Sometimes it's the name of\n",
    "        # an organization or the name is not known and therefore\n",
    "        # the <dcterms:creator> or <marcrel:com> node only return\n",
    "        # \"anonymous\" or \"unknown\". For the case that it's only one word\n",
    "        # `self.last_name` will be null.\n",
    "        # Because of a rare edge case that the field of the parsed author's name\n",
    "        # has more than one comma we will join the first name in reverse, starting\n",
    "        # with the second item.\n",
    "        self.author = soup.find('dcterms:creator') or soup.find('marcrel:com')\n",
    "        if self.author:\n",
    "            self.author_id = self.author.find('pgterms:agent')\n",
    "            self.author_id = self.author_id.attrs['rdf:about'].split('/')[-1] \\\n",
    "                if 'rdf:about' in getattr(self.author_id, 'attrs', '') else None\n",
    "\n",
    "            if self.author.find('pgterms:name'):\n",
    "                self.author_name = self.author.find('pgterms:name')\n",
    "                self.author_name = self.author_name.text.split(',')\n",
    "\n",
    "                if len(self.author_name) > 1:\n",
    "                    self.first_name = ' '.join(self.author_name[::-2]).strip()\n",
    "                self.last_name = self.author_name[0]\n",
    "\n",
    "        # Parsing the birth and (death, if the case) year of the author.\n",
    "        # These values are likely to be null.\n",
    "        self.birth_year = soup.find('pgterms:birthdate')\n",
    "        self.birth_year = self.birth_year.text if self.birth_year else None\n",
    "        self.birth_year = get_formatted_number(self.birth_year)\n",
    "\n",
    "        self.death_year = soup.find('pgterms:deathdate')\n",
    "        self.death_year = self.death_year.text if self.death_year else None\n",
    "        self.death_year = get_formatted_number(self.death_year)\n",
    "\n",
    "        # ISO 639-3 language codes that consist of 2 or 3 letters\n",
    "        try : \n",
    "            self.language = soup.find('dcterms:language').find('rdf:value').text\n",
    "        except AttributeError : \n",
    "            self.language = None\n",
    "\n",
    "        # The download count of the books on www.gutenberg.org.\n",
    "        # This will be used to determine the popularity of the book.\n",
    "        self.downloads = soup.find('pgterms:downloads').text\n",
    "\n",
    "        # The book might be licensed under GPL, public domain\n",
    "        # or might be copyrighted\n",
    "        self.license = soup.find('dcterms:rights').text\n",
    "\n",
    "        # Finding out all the file types this book is available in\n",
    "        file_types = soup.find_all('pgterms:file')\n",
    "        self.file_types = {}\n",
    "        for x in file_types:\n",
    "            if not x.find('rdf:value').text.endswith('application/zip'):\n",
    "                k = x.attrs['rdf:about'].split('/')[-1]\n",
    "                v = x.find('rdf:value').text\n",
    "                self.file_types.update({k:v})\n",
    "\n",
    "        return self"
   ]
  },
  {
   "cell_type": "code",
   "execution_count": 132,
   "metadata": {
    "collapsed": false
   },
   "outputs": [],
   "source": [
    "def clean_html(source) :\n",
    "    \"\"\"Clean HTML tags, escape characters, special unicode, punctuation, and empty spaces from the raw html\"\"\"\n",
    "    \n",
    "    # lower case\n",
    "    source = source.lower()\n",
    "    \n",
    "    # define the regular expressions\n",
    "    \n",
    "    # remove tags and punctuation \n",
    "    no_tags = re.compile('<.*>')\n",
    "    cleaned = no_tags.sub('',source)\n",
    "    \n",
    "    # remove escape characters\n",
    "    no_escape = re.compile('\\r?\\n|\\r')\n",
    "    cleaned = no_escape.sub(' ', cleaned)\n",
    "    \n",
    "    # remove all non-ascii\n",
    "    no_non_ascii = re.compile('[^\\x00-\\x7F]+')\n",
    "    cleaned = no_non_ascii.sub(' ', cleaned)\n",
    "    \n",
    "    # remove punctuation\n",
    "    no_punctuation = re.compile('[^a-zA-Z0-9\\s]')\n",
    "    cleaned = no_punctuation.sub('', cleaned)\n",
    "    \n",
    "    # remove numbers\n",
    "    no_numbers = re.compile('[0-9]+')\n",
    "    cleaned = no_numbers.sub('', cleaned)\n",
    "   \n",
    "    # remove empty white space and numbers\n",
    "    no_empty_space = re.compile('\\s+')\n",
    "    cleaned = no_empty_space.sub(' ', cleaned) \n",
    "     \n",
    "    # when returning, remove also the left and right space padding\n",
    "    return cleaned.strip()"
   ]
  },
  {
   "cell_type": "code",
   "execution_count": 133,
   "metadata": {
    "collapsed": false
   },
   "outputs": [],
   "source": [
    "html_path = '/Users/rok/python_src/gutenberg/dl-cache/101.html'\n",
    "\n",
    "def get_metadata(html_path, rdf_path = '/Users/rok/python_src/gutenberg/rdf-files/') :\n",
    "    obj_id = os.path.splitext(os.path.basename(html_path))[0]\n",
    "    rdf_file = glob.glob(rdf_path+obj_id+'/*')[0]\n",
    "    with open(rdf_file) as f :\n",
    "        rdf_data = f.read()\n",
    "    return RdfParser(rdf_data, obj_id).parse()"
   ]
  },
  {
   "cell_type": "code",
   "execution_count": 134,
   "metadata": {
    "collapsed": false
   },
   "outputs": [],
   "source": [
    "meta = get_metadata(html_path)"
   ]
  },
  {
   "cell_type": "code",
   "execution_count": 135,
   "metadata": {
    "collapsed": false
   },
   "outputs": [
    {
     "data": {
      "text/plain": [
       "u'1954'"
      ]
     },
     "execution_count": 135,
     "metadata": {},
     "output_type": "execute_result"
    }
   ],
   "source": [
    "meta.birth_year"
   ]
  },
  {
   "cell_type": "code",
   "execution_count": 136,
   "metadata": {
    "collapsed": false
   },
   "outputs": [
    {
     "data": {
      "text/plain": [
       "u'352'"
      ]
     },
     "execution_count": 136,
     "metadata": {},
     "output_type": "execute_result"
    }
   ],
   "source": [
    "meta.downloads"
   ]
  },
  {
   "cell_type": "code",
   "execution_count": null,
   "metadata": {
    "collapsed": true
   },
   "outputs": [],
   "source": []
  }
 ],
 "metadata": {
  "kernelspec": {
   "display_name": "Python 2",
   "language": "python",
   "name": "python2"
  },
  "language_info": {
   "codemirror_mode": {
    "name": "ipython",
    "version": 2
   },
   "file_extension": ".py",
   "mimetype": "text/x-python",
   "name": "python",
   "nbconvert_exporter": "python",
   "pygments_lexer": "ipython2",
   "version": "2.7.10"
  }
 },
 "nbformat": 4,
 "nbformat_minor": 0
}
