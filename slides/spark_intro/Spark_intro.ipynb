{
 "cells": [
  {
   "cell_type": "markdown",
   "metadata": {
    "slideshow": {
     "slide_type": "slide"
    }
   },
   "source": [
    "# Getting started with...\n",
    "\n",
    "![Apache Spark](http://spark.apache.org/images/spark-logo.png)\n",
    "\n",
    "In the [previous session](../intro/Spark_workshop_Introduction.ipynb) we discussed some basics of the map/reduce programming paradigm. \n",
    "\n",
    "Now, we'll see how we can \"scale up\" these ideas to distribute the workload among many machines.\n",
    "\n",
    "For this, we will use [Spark](http://spark.apache.org), a distributed computing framework that fits nicely into \n",
    "the [Apache Hadoop](http://hadoop.apache.org) ecosystem."
   ]
  },
  {
   "cell_type": "markdown",
   "metadata": {
    "slideshow": {
     "slide_type": "slide"
    }
   },
   "source": [
    "## Basic Data Abstraction: the Resilient Distributed Dataset\n",
    "\n",
    "An RDD is the essential building block of every Spark application. \n",
    "\n",
    "* keeps track of data distribution across the workers  \n",
    "* provides an interface to the user to access and operate on the data\n",
    "* can rebuild data upon failure\n",
    "* keeps track of lineage \n",
    "* ** is immutable **\n",
    "\n",
    "** As a Spark user, you write applications that feed data into RDDs and subsequently transform them into something useful **\n",
    "\n"
   ]
  },
  {
   "cell_type": "markdown",
   "metadata": {
    "slideshow": {
     "slide_type": "-"
    }
   },
   "source": [
    "![Basic RDD diagram](../figs/basic_rdd.png)"
   ]
  },
  {
   "cell_type": "markdown",
   "metadata": {
    "slideshow": {
     "slide_type": "slide"
    }
   },
   "source": [
    "## Spark Architecture Overview\n",
    "\n",
    "A very abbreviated and naive description of how Spark works: \n",
    "\n",
    "The runtime system consists of a **driver** and **workers** (there are more specific components like schedulers and memory managers, but those are details). \n",
    "\n",
    "**Driver**\n",
    "\n",
    "* coordinates the work to be done  \n",
    "* keeps track of tasks\n",
    "* collects metrics about the tasks (disk IO, memory, etc.) \n",
    "* communicates with the workers (and the user) \n",
    "\n",
    "**Workers**  \n",
    "\n",
    "* receive tasks to be done from the driver\n",
    "* store data in memory or on disk\n",
    "* perform calculations\n",
    "* return results to the driver\n",
    "\n",
    "The user's access point to this Spark universe is the **Spark Context** which provides an interface to generate RDDs. \n",
    "\n",
    "** The only point of contact with the Spark \"universe\" is the Spark Context and the RDDs via the driver **"
   ]
  },
  {
   "cell_type": "markdown",
   "metadata": {
    "slideshow": {
     "slide_type": "slide"
    }
   },
   "source": [
    "### The Spark Architecture\n",
    "\n",
    "(in a very abbreviated form) \n",
    "<img src=\"https://jaceklaskowski.gitbooks.io/mastering-apache-spark/content/images/driver-sparkcontext-clustermanager-workers-executors.png\">"
   ]
  },
  {
   "cell_type": "markdown",
   "metadata": {
    "slideshow": {
     "slide_type": "slide"
    }
   },
   "source": [
    "![Spark Universe](../figs/spark_universe.png)"
   ]
  },
  {
   "cell_type": "markdown",
   "metadata": {
    "slideshow": {
     "slide_type": "slide"
    }
   },
   "source": [
    "## Flexibility of Spark runtime\n",
    "\n",
    "A few points before we get our feet wet with doing some basic data massaging in Spark. \n",
    "\n",
    "The spark runtime can be deployed on: \n",
    "* a single machine (local)\n",
    "* a set of pre-defined machines (stand-alone)\n",
    "* a dedicated Hadoop-aware scheduler (YARN/Mesos )\n",
    "* \"cloud\", e.g. Amazon EC2, Google Cloud, Azure\n",
    "\n",
    "The development workflow is that you start small (local) and scale up to one of the other solutions, depending on your needs and resources. \n",
    "\n",
    "In addition, you can run applications on any of these platforms either\n",
    "\n",
    "* interactively through a shell (or an ipython notebook as we'll see)\n",
    "* batch mode \n",
    "\n",
    "** Often, you don't need to change *any* code to go between these methods of deployment! **"
   ]
  },
  {
   "cell_type": "markdown",
   "metadata": {
    "slideshow": {
     "slide_type": "slide"
    }
   },
   "source": [
    "## RDD transformations/actions\n",
    "\n",
    "Once an RDD is created, it is **immutable** - it can only be modified via a *transformation*\n",
    "\n",
    "Transformations include: \n",
    "* `map` -- the most basic component of map/reduce with 1:1 correspondence to original data\n",
    "* `flatMap` -- returns a number of items different from the original data\n",
    "* `filter` -- only keep those elements for which the filter function evaluates to `True`\n",
    "* `distinct` -- only retain the unique elements of the entire RDD\n",
    "* `reduceByKey` -- group elements by key and keep the data distributed \n",
    "* `mapPartitions` -- similar to `map` but done on a per-partition basis (requires a generator function)\n",
    "* `sortBy` -- sort using the provided function\n",
    "\n",
    "Transformations are evaluated \"lazily\" - only executed once an *action* is performed. \n",
    "\n",
    "Actions include: \n",
    "* `collect` -- pulls all elements of the RDD to the driver (often a bad idea!!)\n",
    "* `collectAsMap` -- like `collect` but returns a dictionary to the driver which makes it easy to lookup the keys \n",
    "* `reduce` -- reduces the entire RDD to a single value\n",
    "* `countByKey`/`countByValue`\n",
    "* `take` -- yields a desired number of items to the driver\n",
    "* `first` -- returns the first element of the RDD to the driver -- very useful for inspecting the data!"
   ]
  },
  {
   "cell_type": "markdown",
   "metadata": {
    "slideshow": {
     "slide_type": "slide"
    }
   },
   "source": [
    "## Lineage\n",
    "\n",
    "* When an RDD is transformed, this **transformation** is not automatically carried out. \n",
    "* Instead, the system remembers how to get from one RDD to another and only executes whatever is needed for the **action** that is being done. \n",
    "* this allows one to build up a complex \"pipeline\" and easily tweak/rerun it in its entirety \n",
    "\n",
    "## Partitioning\n",
    "\n",
    "* data of each RDD is partitioned and each partition is assigned to an executor\n",
    "* each partition in a transformation results in a task\n",
    "* there may be many more tasks than cores in the system, which allows for good utilization by fine-graining the overall load.\n",
    "\n",
    "## Caching \n",
    "\n",
    "* RDD evalutations are *lazy* \n",
    "* whenever an action is performed, the entire lineage graph is recalculated\n",
    "* unless! an intermediate RDD is cached -- then it is only calculated once and reused from memory each subsequent time\n",
    "* this allows for good performance when iterating on an RDD is required \n"
   ]
  },
  {
   "cell_type": "markdown",
   "metadata": {
    "slideshow": {
     "slide_type": "slide"
    }
   },
   "source": [
    "### A typical execution path\n",
    "\n",
    "Spark separates execution into stages consisting of many narrow dependencies between partitions. \n",
    "\n",
    "** Narrow ** : `map`, `filter`\n",
    "\n",
    "** Wide ** : `join`, `groupBy`\n",
    "\n",
    "If some parts of the RDD were to be lost due to executor failure, the missing pieces are automatically recomputed via the appropriate stages. "
   ]
  },
  {
   "cell_type": "markdown",
   "metadata": {
    "collapsed": true,
    "slideshow": {
     "slide_type": "slide"
    }
   },
   "source": [
    "Here we have a few things going on: \n",
    "\n",
    "* the elements of RDD $A$ are grouped by key yielding RDD $B$\n",
    "* $C$ is mapped to $D$ and unioned with $E$ resulting in $F$\n",
    "* $B$ and $F$ are joined together\n",
    "\n",
    "<img src=\"http://qph.is.quoracdn.net/main-qimg-d2eaaaad37ec65f2b21f6a6cc9f35ae8?convert_to_webp=true\">"
   ]
  },
  {
   "cell_type": "code",
   "execution_count": null,
   "metadata": {
    "collapsed": true
   },
   "outputs": [],
   "source": []
  }
 ],
 "metadata": {
  "celltoolbar": "Slideshow",
  "kernelspec": {
   "display_name": "Python 3",
   "language": "python",
   "name": "python3"
  },
  "language_info": {
   "codemirror_mode": {
    "name": "ipython",
    "version": 3
   },
   "file_extension": ".py",
   "mimetype": "text/x-python",
   "name": "python",
   "nbconvert_exporter": "python",
   "pygments_lexer": "ipython3",
   "version": "3.6.5"
  }
 },
 "nbformat": 4,
 "nbformat_minor": 1
}
