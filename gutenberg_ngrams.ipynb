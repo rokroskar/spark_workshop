{
 "cells": [
  {
   "cell_type": "markdown",
   "metadata": {},
   "source": [
    "# Gutenberg N-Grams"
   ]
  },
  {
   "cell_type": "markdown",
   "metadata": {},
   "source": [
    "Start the Spark Context: "
   ]
  },
  {
   "cell_type": "code",
   "execution_count": 1,
   "metadata": {
    "collapsed": true
   },
   "outputs": [],
   "source": [
    "import sys, os\n",
    "os.environ['SPARK_DRIVER_MEMORY'] = '8g'\n",
    "\n",
    "import pyspark\n",
    "from pyspark import SparkConf, SparkContext"
   ]
  },
  {
   "cell_type": "code",
   "execution_count": 2,
   "metadata": {
    "collapsed": true
   },
   "outputs": [],
   "source": [
    "conf = SparkConf()"
   ]
  },
  {
   "cell_type": "code",
   "execution_count": 3,
   "metadata": {
    "collapsed": true
   },
   "outputs": [],
   "source": [
    "num_execs = 10\n",
    "exec_cores = 4"
   ]
  },
  {
   "cell_type": "code",
   "execution_count": 4,
   "metadata": {
    "collapsed": false
   },
   "outputs": [
    {
     "data": {
      "text/plain": [
       "<pyspark.conf.SparkConf at 0x2af69a433e50>"
      ]
     },
     "execution_count": 4,
     "metadata": {},
     "output_type": "execute_result"
    }
   ],
   "source": [
    "conf.set('spark.executor.memory', '8g')\n",
    "conf.set('spark.executor.instances', str(num_execs))\n",
    "conf.set('spark.executor.cores', str(exec_cores))\n",
    "conf.set('spark.executorEnv.PYTHONPATH', \n",
    "         '/cluster/apps/spark/spark-1.4.0-bin-hadoop2.6/python/lib/py4j-0.8.2.1-src.zip:/cluster/apps/spark/spark-1.4.0-bin-hadoop2.6/python/:/cluster/home03/sdid/roskarr/spark_workshop')\n",
    "\n",
    "conf.set('spark.driver.memory', '8g')"
   ]
  },
  {
   "cell_type": "code",
   "execution_count": 6,
   "metadata": {
    "collapsed": false
   },
   "outputs": [],
   "source": [
    "sc = pyspark.SparkContext(master = 'yarn-client', conf = conf)"
   ]
  },
  {
   "cell_type": "markdown",
   "metadata": {},
   "source": [
    "## Make a key-value RDD of book metadata and text"
   ]
  },
  {
   "cell_type": "markdown",
   "metadata": {},
   "source": [
    "Getting data into spark from a collection of local files is a very common task. A useful pattern to keep in mind is the following: \n",
    "\n",
    "1. make a list of filenames and distribute it among the workers\n",
    "3. \"map\" each filename to the data you want to get out\n",
    "4. now you are left with the RDD of raw data distributed among the workers!"
   ]
  },
  {
   "cell_type": "markdown",
   "metadata": {},
   "source": [
    "The [`gutenberg_cleanup`](gutenberg_cleanup.py) module contains two functions that can help with this: `get_text` and `get_metadata`.\n",
    "\n",
    "They pretty much do the obvious: \n",
    "\n",
    "`get_metadata` returns a metadata object with various useful fields that will be used to create a unique key for each book\n",
    "\n",
    "`get_text` returns the raw text extracted from HTML, cleaned of tags and punctuation and converted to lower case. "
   ]
  },
  {
   "cell_type": "markdown",
   "metadata": {},
   "source": [
    "### 1. Distributing the filenames"
   ]
  },
  {
   "cell_type": "code",
   "execution_count": 7,
   "metadata": {
    "collapsed": false
   },
   "outputs": [
    {
     "name": "stdout",
     "output_type": "stream",
     "text": [
      "number of books:  5530\n"
     ]
    }
   ],
   "source": [
    "import glob\n",
    "flist = glob.glob('/cluster/home03/sdid/roskarr/work/gutenberg/html/*html')\n",
    "print 'number of books: ', len(flist)"
   ]
  },
  {
   "cell_type": "code",
   "execution_count": 8,
   "metadata": {
    "collapsed": true
   },
   "outputs": [],
   "source": [
    "files_rdd = sc.parallelize(flist, 200)"
   ]
  },
  {
   "cell_type": "code",
   "execution_count": 9,
   "metadata": {
    "collapsed": false
   },
   "outputs": [
    {
     "data": {
      "text/plain": [
       "['/cluster/home03/sdid/roskarr/work/gutenberg/html/1000.html',\n",
       " '/cluster/home03/sdid/roskarr/work/gutenberg/html/1001.html',\n",
       " '/cluster/home03/sdid/roskarr/work/gutenberg/html/1002.html',\n",
       " '/cluster/home03/sdid/roskarr/work/gutenberg/html/1003.html',\n",
       " '/cluster/home03/sdid/roskarr/work/gutenberg/html/1004.html']"
      ]
     },
     "execution_count": 9,
     "metadata": {},
     "output_type": "execute_result"
    }
   ],
   "source": [
    "files_rdd.take(5)"
   ]
  },
  {
   "cell_type": "markdown",
   "metadata": {},
   "source": [
    "### 2. Map the filenames to metadata, text key-value pairs\n",
    "\n",
    "Use the `get_text` and `get_metadata` functions to construct a key,value pair RDD, where `key` is the dictionary returned by `get_metadata`. For the `value` of each `key`,`value` pair use the raw text returned by `get_text`. \n",
    "\n",
    "Hint: in Python, there are many ways to make a string, but a pretty easy one is like this: \n",
    "\n",
    "    \"bla_%s\"%(var)\"\n",
    "\n",
    "where `var` matches the `%s` and is a variable that can be converted to a string. You can include more `%s` (or `%d`, `%f` etc) and more variables in the tuple that follows. "
   ]
  },
  {
   "cell_type": "code",
   "execution_count": 13,
   "metadata": {
    "collapsed": false
   },
   "outputs": [],
   "source": [
    "import gutenberg_cleanup\n",
    "reload(gutenberg_cleanup)\n",
    "from gutenberg_cleanup import get_metadata, get_text, get_gid"
   ]
  },
  {
   "cell_type": "code",
   "execution_count": 14,
   "metadata": {
    "collapsed": false
   },
   "outputs": [],
   "source": [
    "text_rdd = (files_rdd.map(lambda filename: \n",
    "                        (get_metadata(get_gid(filename)), get_text(filename))))"
   ]
  },
  {
   "cell_type": "markdown",
   "metadata": {},
   "source": [
    "So that we don't have to constantly re-load the data off disk, lets cache this RDD: "
   ]
  },
  {
   "cell_type": "code",
   "execution_count": 16,
   "metadata": {
    "collapsed": false
   },
   "outputs": [
    {
     "data": {
      "text/plain": [
       "5530"
      ]
     },
     "execution_count": 16,
     "metadata": {},
     "output_type": "execute_result"
    }
   ],
   "source": [
    "text_rdd.cache()\n",
    "text_rdd.count()"
   ]
  },
  {
   "cell_type": "markdown",
   "metadata": {},
   "source": [
    "Take a look at the first set of keys:"
   ]
  },
  {
   "cell_type": "code",
   "execution_count": 17,
   "metadata": {
    "collapsed": false
   },
   "outputs": [
    {
     "data": {
      "text/plain": [
       "[{'birth_year': None,\n",
       "  'death_year': None,\n",
       "  'first_name': None,\n",
       "  'gid': 1000,\n",
       "  'last_name': None,\n",
       "  'title': '- No Title -'},\n",
       " {'birth_year': u'1265',\n",
       "  'death_year': u'1321',\n",
       "  'first_name': None,\n",
       "  'gid': 1001,\n",
       "  'last_name': u'Dante Alighieri',\n",
       "  'title': u\"Divine Comedy, Longfellow's Translation, Hell\"},\n",
       " {'birth_year': u'1807',\n",
       "  'death_year': u'1882',\n",
       "  'first_name': None,\n",
       "  'gid': 1002,\n",
       "  'last_name': u'Dante Alighieri',\n",
       "  'title': u\"Divine Comedy, Longfellow's Translation, Purgatory\"},\n",
       " {'birth_year': u'1265',\n",
       "  'death_year': u'1321',\n",
       "  'first_name': None,\n",
       "  'gid': 1003,\n",
       "  'last_name': u'Dante Alighieri',\n",
       "  'title': u\"Divine Comedy, Longfellow's Translation, Paradise\"},\n",
       " {'birth_year': u'1807',\n",
       "  'death_year': u'1882',\n",
       "  'first_name': None,\n",
       "  'gid': 1004,\n",
       "  'last_name': u'Dante Alighieri',\n",
       "  'title': u\"Divine Comedy, Longfellow's Translation, Complete\"},\n",
       " {'birth_year': u'1772',\n",
       "  'death_year': u'1844',\n",
       "  'first_name': None,\n",
       "  'gid': 1005,\n",
       "  'last_name': u'Dante Alighieri',\n",
       "  'title': u\"Divine Comedy, Cary's Translation, Hell\"},\n",
       " {'birth_year': u'1265',\n",
       "  'death_year': u'1321',\n",
       "  'first_name': None,\n",
       "  'gid': 1006,\n",
       "  'last_name': u'Dante Alighieri',\n",
       "  'title': u\"Divine Comedy, Cary's Translation, Purgatory\"},\n",
       " {'birth_year': u'1265',\n",
       "  'death_year': u'1321',\n",
       "  'first_name': None,\n",
       "  'gid': 1007,\n",
       "  'last_name': u'Dante Alighieri',\n",
       "  'title': u\"Divine Comedy, Cary's Translation, Paradise\"},\n",
       " {'birth_year': u'1772',\n",
       "  'death_year': u'1844',\n",
       "  'first_name': None,\n",
       "  'gid': 1008,\n",
       "  'last_name': u'Dante Alighieri',\n",
       "  'title': u\"Divine Comedy, Cary's Translation, Complete\"},\n",
       " {'birth_year': u'1954',\n",
       "  'death_year': None,\n",
       "  'first_name': u'Bruce',\n",
       "  'gid': 101,\n",
       "  'last_name': u'Sterling',\n",
       "  'title': u'The Hacker Crackdown: Law and Disorder on the Electronic Frontier'}]"
      ]
     },
     "execution_count": 17,
     "metadata": {},
     "output_type": "execute_result"
    }
   ],
   "source": [
    "text_rdd.keys().take(10)"
   ]
  },
  {
   "cell_type": "markdown",
   "metadata": {},
   "source": [
    "If you look at just the first few entries it becomes clear that we're going to have to do some quality control here. For example, we probably don't want books with \"None\" as either of the author names, and likewise we have to have the birth date in order to be able to create a time series out of the data in the end. \n",
    "\n",
    "Construct an RDD, as above, except that you filter out all elements that lack a value for `title`, `first_name`, `last_name`, or `birth_year`."
   ]
  },
  {
   "cell_type": "code",
   "execution_count": 18,
   "metadata": {
    "collapsed": true
   },
   "outputs": [],
   "source": [
    "filtered_rdd = (files_rdd.map(lambda filename: (filename, get_metadata(get_gid(filename))))\n",
    "                         .filter(lambda (filename,meta): all([meta[name] is not None for name in ['title', 'first_name', 'last_name', 'birth_year']])))"
   ]
  },
  {
   "cell_type": "code",
   "execution_count": 19,
   "metadata": {
    "collapsed": false,
    "scrolled": false
   },
   "outputs": [
    {
     "data": {
      "text/plain": [
       "[('/cluster/home03/sdid/roskarr/work/gutenberg/html/101.html',\n",
       "  {'birth_year': u'1954',\n",
       "   'death_year': None,\n",
       "   'first_name': u'Bruce',\n",
       "   'gid': 101,\n",
       "   'last_name': u'Sterling',\n",
       "   'title': u'The Hacker Crackdown: Law and Disorder on the Electronic Frontier'}),\n",
       " ('/cluster/home03/sdid/roskarr/work/gutenberg/html/1013.html',\n",
       "  {'birth_year': u'1866',\n",
       "   'death_year': u'1946',\n",
       "   'first_name': u'H. G. (Herbert George)',\n",
       "   'gid': 1013,\n",
       "   'last_name': u'Wells',\n",
       "   'title': u'The First Men in the Moon'}),\n",
       " ('/cluster/home03/sdid/roskarr/work/gutenberg/html/1014.html',\n",
       "  {'birth_year': u'1874',\n",
       "   'death_year': u'1940',\n",
       "   'first_name': u'B. M.',\n",
       "   'gid': 1014,\n",
       "   'last_name': u'Bower',\n",
       "   'title': u'The Lure of the Dim Trails'}),\n",
       " ('/cluster/home03/sdid/roskarr/work/gutenberg/html/1015.html',\n",
       "  {'birth_year': u'1823',\n",
       "   'death_year': u'1893',\n",
       "   'first_name': u'Francis',\n",
       "   'gid': 1015,\n",
       "   'last_name': u'Parkman',\n",
       "   'title': u'The Oregon Trail: Sketches of Prairie and Rocky-Mountain Life'}),\n",
       " ('/cluster/home03/sdid/roskarr/work/gutenberg/html/1016.html',\n",
       "  {'birth_year': u'1632',\n",
       "   'death_year': u'1677',\n",
       "   'first_name': u'Benedictus de',\n",
       "   'gid': 1016,\n",
       "   'last_name': u'Spinoza',\n",
       "   'title': u'On the Improvement of the Understanding'}),\n",
       " ('/cluster/home03/sdid/roskarr/work/gutenberg/html/1017.html',\n",
       "  {'birth_year': u'1854',\n",
       "   'death_year': u'1900',\n",
       "   'first_name': u'Oscar',\n",
       "   'gid': 1017,\n",
       "   'last_name': u'Wilde',\n",
       "   'title': u'The Soul of Man under Socialism'}),\n",
       " ('/cluster/home03/sdid/roskarr/work/gutenberg/html/1019.html',\n",
       "  {'birth_year': u'1818',\n",
       "   'death_year': u'1848',\n",
       "   'first_name': u'Emily',\n",
       "   'gid': 1019,\n",
       "   'last_name': u'Bront\\xeb',\n",
       "   'title': u'Poems by Currer, Ellis, and Acton Bell'}),\n",
       " ('/cluster/home03/sdid/roskarr/work/gutenberg/html/102.html',\n",
       "  {'birth_year': u'1835',\n",
       "   'death_year': u'1910',\n",
       "   'first_name': u'Mark',\n",
       "   'gid': 102,\n",
       "   'last_name': u'Twain',\n",
       "   'title': u\"The Tragedy of Pudd'nhead Wilson\"}),\n",
       " ('/cluster/home03/sdid/roskarr/work/gutenberg/html/1020.html',\n",
       "  {'birth_year': u'1874',\n",
       "   'death_year': u'1925',\n",
       "   'first_name': u'Amy',\n",
       "   'gid': 1020,\n",
       "   'last_name': u'Lowell',\n",
       "   'title': u'Sword Blades and Poppy Seed'}),\n",
       " ('/cluster/home03/sdid/roskarr/work/gutenberg/html/1021.html',\n",
       "  {'birth_year': u'1879',\n",
       "   'death_year': u'1931',\n",
       "   'first_name': u'Vachel',\n",
       "   'gid': 1021,\n",
       "   'last_name': u'Lindsay',\n",
       "   'title': u'The Congo, and Other Poems'})]"
      ]
     },
     "execution_count": 19,
     "metadata": {},
     "output_type": "execute_result"
    }
   ],
   "source": [
    "filtered_rdd.take(10)"
   ]
  },
  {
   "cell_type": "markdown",
   "metadata": {},
   "source": [
    "How many do we have left? "
   ]
  },
  {
   "cell_type": "code",
   "execution_count": 20,
   "metadata": {
    "collapsed": false
   },
   "outputs": [
    {
     "name": "stdout",
     "output_type": "stream",
     "text": [
      "number of books after filtering:  4883\n"
     ]
    }
   ],
   "source": [
    "print 'number of books after filtering: ', filtered_rdd.count()"
   ]
  },
  {
   "cell_type": "markdown",
   "metadata": {},
   "source": [
    "Some of the books end up in multiple files, but they should all have the same gid. \n",
    "\n",
    "To check for this we will use one of the most basic and common Map/Reduce patterns: \n",
    "\n",
    "* map the data into `key`,`value` pairs where `key` is the quantity we want to count and `value` is just 1. \n",
    "* invoke a reduction *by key*, where the reduction operator is a simple addition\n",
    "\n",
    "Finally, we will sort the result and print out the first few elements to check whether we have to worry about documents spanning multiple files or not. \n",
    "\n",
    "The RDD operations that are needed are [`reduceByKey`](http://spark.apache.org/docs/latest/api/python/pyspark.html#pyspark.RDD.reduceByKey) and [sortBy](http://spark.apache.org/docs/latest/api/python/pyspark.html#pyspark.RDD.sortBy).\n",
    "\n",
    "For the `keyFunc` of the call to `sortBy`, use a `lambda` function that extracts the counts obtained from the `reduceByKey`. "
   ]
  },
  {
   "cell_type": "code",
   "execution_count": 21,
   "metadata": {
    "collapsed": true
   },
   "outputs": [],
   "source": [
    "from operator import add"
   ]
  },
  {
   "cell_type": "code",
   "execution_count": 22,
   "metadata": {
    "collapsed": false
   },
   "outputs": [
    {
     "data": {
      "text/plain": [
       "[(6478, 43),\n",
       " (3772, 40),\n",
       " (3332, 33),\n",
       " (3425, 23),\n",
       " (2440, 16),\n",
       " (6475, 15),\n",
       " (4022, 5),\n",
       " (1079, 2),\n",
       " (2401, 1),\n",
       " (2601, 1),\n",
       " (5601, 1),\n",
       " (4201, 1),\n",
       " (3801, 1),\n",
       " (6401, 1),\n",
       " (4401, 1),\n",
       " (1201, 1),\n",
       " (5001, 1),\n",
       " (6801, 1),\n",
       " (3601, 1),\n",
       " (6201, 1)]"
      ]
     },
     "execution_count": 22,
     "metadata": {},
     "output_type": "execute_result"
    }
   ],
   "source": [
    "(filtered_rdd.map(lambda (filename, meta): (meta['gid'], 1))\n",
    "             .reduceByKey(add)\n",
    "             .sortBy(lambda (key,count): count, False)\n",
    "             .take(20))"
   ]
  },
  {
   "cell_type": "markdown",
   "metadata": {},
   "source": [
    "Looks like we have a few that are made up of multiple sections. To combine them, we will use `groupByKey` (see warning below) which will result in having an RDD of `gid`'s as keys and lists of filenames for each `gid`. Once we have the lists combined, we will do another `map` to read the actual text. Note that doing this is much cheaper than reading the text first and then combining (if we had used the `text_rdd` from the top of the notebook, for example) because we are only sending around file names rather than all the document data. \n",
    "\n",
    "** warning about `groupByKey` **: this is in general the most expensive of the grouping/accumulating operations because it sends the entire RDD across the network in order to group the values in a list. No local aggregation happens on the partitions. By contrast, `reduceByKey` and `aggregateByKey` do the reductions/aggregations *localy* on each partition first and only then shuffle the data around, resulting in much less traffic. However, since we actually aren't sending much data here and since we only have a few elements that need to be grouped, it's fine to use it for simplicity's sake. In general, however, `groupByKey` likes to cause memory problems and runs very slowly. "
   ]
  },
  {
   "cell_type": "markdown",
   "metadata": {},
   "source": [
    "So, the procedure for doing this final step of pre-processing: \n",
    "\n",
    "1. `map` the `filtered_rdd` to have the `gid` as a key and `filename` as the value\n",
    "2. do `groupByKey`\n",
    "3. `map` the resulting (`gid`,`flist`) key value pair RDD to yield a (`gid`, `<combined text>`) RDD\n",
    "\n",
    "*hint*: the `join` function in the `string` module can combine a list of strings efficiently. \n",
    "*hint2*: `groupByKey` will give you an *iterable* of filenames as a result -- you can use it inside a list comprehension with the `get_text` function "
   ]
  },
  {
   "cell_type": "code",
   "execution_count": 25,
   "metadata": {
    "collapsed": false
   },
   "outputs": [],
   "source": [
    "import string\n",
    "cleaned_rdd = (filtered_rdd.map(lambda (filename, meta): (meta['gid'], filename))\n",
    "                           .groupByKey()\n",
    "                           .map(lambda (gid,flist): (gid,string.join([get_text(f) for f in flist]))))"
   ]
  },
  {
   "cell_type": "code",
   "execution_count": 26,
   "metadata": {
    "collapsed": false
   },
   "outputs": [
    {
     "data": {
      "text/plain": [
       "4714"
      ]
     },
     "execution_count": 26,
     "metadata": {},
     "output_type": "execute_result"
    }
   ],
   "source": [
    "cleaned_rdd.cache().count()"
   ]
  },
  {
   "cell_type": "markdown",
   "metadata": {},
   "source": [
    "## Processing the data\n",
    "\n",
    "We're finished with the pre-processing. `cleaned_rdd` contains `gid`'s as keys and text as values. If we want some other piece of metadata, we can just call the `get_metadata` function inside a `map` to extract it. "
   ]
  },
  {
   "cell_type": "markdown",
   "metadata": {},
   "source": [
    "### Histogram of book years\n",
    "Now we're ready to start asking some questions of the data. To begin with, lets do a simple histogram of the year distribution of the books. Since we don't have original publication dates, we just use the simple formula: \n",
    "\n",
    "$year = max\\left((year_{birth} + year_{death})/2, year_{birth} + 30\\right)$. \n",
    "\n",
    "This means that for authors that are still living, we assume they wrote their book at 30.  "
   ]
  },
  {
   "cell_type": "code",
   "execution_count": 27,
   "metadata": {
    "collapsed": false
   },
   "outputs": [],
   "source": [
    "def publication_year(meta) : \n",
    "    birth_year = int(meta['birth_year'])\n",
    "    if meta['death_year'] is None : \n",
    "        return int(meta['birth_year']) + 30\n",
    "    else :\n",
    "        death_year = int(meta['death_year'])\n",
    "        return max((birth_year + death_year) / 2.0, birth_year+30)"
   ]
  },
  {
   "cell_type": "code",
   "execution_count": 28,
   "metadata": {
    "collapsed": true
   },
   "outputs": [],
   "source": [
    "year_rdd = cleaned_rdd.map(lambda (gid, text): publication_year(get_metadata(gid)))"
   ]
  },
  {
   "cell_type": "markdown",
   "metadata": {},
   "source": [
    "The histogram function actually already exists in the Spark API (but it didn't use to!). However, for fun we will write our own. Calculating the histogram can be split up into two parts. First, we need to figure out which bin each value corresponds to: \n",
    "\n",
    "1. take bins and a value as input\n",
    "2. calculate the bin that the value maps to and return (`bin`, 1) pair\n",
    "\n",
    "Second, we need to do a simple `reduceByKey` where we just add up all the values belonging to each bin. "
   ]
  },
  {
   "cell_type": "code",
   "execution_count": 29,
   "metadata": {
    "collapsed": true
   },
   "outputs": [],
   "source": [
    "from bisect import bisect_right\n",
    "import numpy as np\n",
    "def get_bin(bin_edges, value) : \n",
    "    return bisect_right(bin_edges, value) - 1"
   ]
  },
  {
   "cell_type": "code",
   "execution_count": 43,
   "metadata": {
    "collapsed": true
   },
   "outputs": [],
   "source": [
    "def histogram(rdd, nbins = 100, min_val=None, max_val=None) :\n",
    "    # if either min_val or max_val are missing, get them from the data\n",
    "    if min_val is None : \n",
    "        min_val = rdd.min()\n",
    "    if max_val is None : \n",
    "        max_val = rdd.max()\n",
    "        \n",
    "    bin_edges = np.linspace(min_val,max_val,nbins+1)\n",
    "    \n",
    "    binned_rdd = rdd.map(lambda x: get_bin(bin_edges, x))\n",
    "    \n",
    "    res = binned_rdd.countByValue()\n",
    "    \n",
    "    # This is a sparse result -- turn into a dense vector for plotting: \n",
    "    res_full = np.zeros(nbins)\n",
    "    overflow = 0\n",
    "    for item in res.iteritems() : \n",
    "        if item[0] > len(res_full)-1 : overflow += item[1]\n",
    "        else: res_full[item[0]] = item[1]\n",
    "    res_full[-1] += overflow\n",
    "    \n",
    "    return .5*(bin_edges[:-1]+bin_edges[1:]), res_full"
   ]
  },
  {
   "cell_type": "code",
   "execution_count": 48,
   "metadata": {
    "collapsed": false
   },
   "outputs": [],
   "source": [
    "res = histogram(year_rdd, min_val = 1600)"
   ]
  },
  {
   "cell_type": "code",
   "execution_count": 49,
   "metadata": {
    "collapsed": false
   },
   "outputs": [
    {
     "data": {
      "text/plain": [
       "(array([ 1602.005,  1606.015,  1610.025,  1614.035,  1618.045,  1622.055,\n",
       "         1626.065,  1630.075,  1634.085,  1638.095,  1642.105,  1646.115,\n",
       "         1650.125,  1654.135,  1658.145,  1662.155,  1666.165,  1670.175,\n",
       "         1674.185,  1678.195,  1682.205,  1686.215,  1690.225,  1694.235,\n",
       "         1698.245,  1702.255,  1706.265,  1710.275,  1714.285,  1718.295,\n",
       "         1722.305,  1726.315,  1730.325,  1734.335,  1738.345,  1742.355,\n",
       "         1746.365,  1750.375,  1754.385,  1758.395,  1762.405,  1766.415,\n",
       "         1770.425,  1774.435,  1778.445,  1782.455,  1786.465,  1790.475,\n",
       "         1794.485,  1798.495,  1802.505,  1806.515,  1810.525,  1814.535,\n",
       "         1818.545,  1822.555,  1826.565,  1830.575,  1834.585,  1838.595,\n",
       "         1842.605,  1846.615,  1850.625,  1854.635,  1858.645,  1862.655,\n",
       "         1866.665,  1870.675,  1874.685,  1878.695,  1882.705,  1886.715,\n",
       "         1890.725,  1894.735,  1898.745,  1902.755,  1906.765,  1910.775,\n",
       "         1914.785,  1918.795,  1922.805,  1926.815,  1930.825,  1934.835,\n",
       "         1938.845,  1942.855,  1946.865,  1950.875,  1954.885,  1958.895,\n",
       "         1962.905,  1966.915,  1970.925,  1974.935,  1978.945,  1982.955,\n",
       "         1986.965,  1990.975,  1994.985,  1998.995]),\n",
       " array([   1.,    2.,    0.,    0.,    0.,    0.,    1.,    0.,    2.,\n",
       "           0.,    5.,    7.,    1.,    2.,   38.,    3.,   27.,    0.,\n",
       "           8.,    0.,    0.,    8.,    4.,    0.,   15.,    2.,    4.,\n",
       "           2.,   19.,    6.,    1.,    1.,    0.,   11.,    9.,    4.,\n",
       "          22.,    7.,    0.,    9.,   28.,    6.,    2.,    7.,    8.,\n",
       "           7.,   15.,   34.,    9.,    7.,   55.,   16.,   13.,    8.,\n",
       "          41.,   47.,   33.,   73.,   68.,  100.,   79.,  212.,   87.,\n",
       "          70.,  111.,  222.,  363.,  242.,   83.,  303.,  130.,  132.,\n",
       "         211.,  162.,  358.,  189.,  245.,  200.,   75.,   94.,   78.,\n",
       "          45.,    5.,    8.,    6.,    2.,    1.,    1.,    3.,    2.,\n",
       "          13.,    1.,    2.,    2.,    3.,    2.,    1.,    7.,    0.,  164.]))"
      ]
     },
     "execution_count": 49,
     "metadata": {},
     "output_type": "execute_result"
    }
   ],
   "source": [
    "res"
   ]
  },
  {
   "cell_type": "code",
   "execution_count": 52,
   "metadata": {
    "collapsed": false
   },
   "outputs": [
    {
     "data": {
      "text/plain": [
       "[<matplotlib.lines.Line2D at 0x2af6be048a90>]"
      ]
     },
     "execution_count": 52,
     "metadata": {},
     "output_type": "execute_result"
    },
    {
     "data": {
      "image/png": "[encoded data removed]",
      "text/plain": [
       "<matplotlib.figure.Figure at 0x2af6be09f650>"
      ]
     },
     "metadata": {},
     "output_type": "display_data"
    }
   ],
   "source": [
    "plt.plot(res[0], res[1])"
   ]
  },
  {
   "cell_type": "code",
   "execution_count": null,
   "metadata": {
    "collapsed": true
   },
   "outputs": [],
   "source": [
    "# First figure out which bin each document falls into: \n",
    "    binned = rdd.map(lambda (_,x): get_bins(len(x),binedges))\n",
    "\n",
    "    # Then add up all the bins: \n",
    "    res = binned.countByValue()\n",
    "\n",
    "    # This is a sparse result -- turn into a dense vector for plotting: \n",
    "    res_full = np.zeros(nbins)\n",
    "    overflow = 0\n",
    "    for item in res.iteritems() : \n",
    "        if item[0] > len(res_full)-1 : overflow += item[1]\n",
    "        else: res_full[item[0]] = item[1]\n",
    "    res_full[-1] += overflow\n",
    "    \n",
    "    return bins, res_full\n"
   ]
  }
 ],
 "metadata": {
  "kernelspec": {
   "display_name": "Python 2",
   "language": "python",
   "name": "python2"
  },
  "language_info": {
   "codemirror_mode": {
    "name": "ipython",
    "version": 2
   },
   "file_extension": ".py",
   "mimetype": "text/x-python",
   "name": "python",
   "nbconvert_exporter": "python",
   "pygments_lexer": "ipython2",
   "version": "2.7.10"
  }
 },
 "nbformat": 4,
 "nbformat_minor": 0
}
