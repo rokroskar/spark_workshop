{
 "cells": [
  {
   "cell_type": "code",
   "execution_count": 89,
   "metadata": {
    "collapsed": true
   },
   "outputs": [],
   "source": [
    "%matplotlib inline\n",
    "import matplotlib.pylab as plt"
   ]
  },
  {
   "cell_type": "markdown",
   "metadata": {},
   "source": [
    "# Gutenberg N-Grams"
   ]
  },
  {
   "cell_type": "markdown",
   "metadata": {},
   "source": [
    "Start the Spark Context: "
   ]
  },
  {
   "cell_type": "code",
   "execution_count": 2,
   "metadata": {
    "collapsed": true
   },
   "outputs": [],
   "source": [
    "import sys, os\n",
    "os.environ['SPARK_DRIVER_MEMORY'] = '8g'\n",
    "\n",
    "import pyspark\n",
    "from pyspark import SparkConf, SparkContext"
   ]
  },
  {
   "cell_type": "code",
   "execution_count": 3,
   "metadata": {
    "collapsed": true
   },
   "outputs": [],
   "source": [
    "conf = SparkConf()"
   ]
  },
  {
   "cell_type": "code",
   "execution_count": 4,
   "metadata": {
    "collapsed": true
   },
   "outputs": [],
   "source": [
    "num_execs = 10\n",
    "exec_cores = 4"
   ]
  },
  {
   "cell_type": "code",
   "execution_count": 5,
   "metadata": {
    "collapsed": false
   },
   "outputs": [
    {
     "data": {
      "text/plain": [
       "<pyspark.conf.SparkConf at 0x2b0429916150>"
      ]
     },
     "execution_count": 5,
     "metadata": {},
     "output_type": "execute_result"
    }
   ],
   "source": [
    "conf.set('spark.executor.memory', '8g')\n",
    "conf.set('spark.executor.instances', str(num_execs))\n",
    "conf.set('spark.executor.cores', str(exec_cores))\n",
    "conf.set('spark.executorEnv.PYTHONPATH', \n",
    "         '/cluster/apps/spark/spark-1.4.0-bin-hadoop2.6/python/lib/py4j-0.8.2.1-src.zip:/cluster/apps/spark/spark-1.4.0-bin-hadoop2.6/python/:/cluster/home03/sdid/roskarr/spark_workshop')\n",
    "\n",
    "conf.set('spark.driver.memory', '8g')"
   ]
  },
  {
   "cell_type": "code",
   "execution_count": 6,
   "metadata": {
    "collapsed": false
   },
   "outputs": [],
   "source": [
    "sc = pyspark.SparkContext(master = 'yarn-client', conf = conf)"
   ]
  },
  {
   "cell_type": "markdown",
   "metadata": {},
   "source": [
    "## Make a key-value RDD of book metadata and text"
   ]
  },
  {
   "cell_type": "markdown",
   "metadata": {},
   "source": [
    "Getting data into spark from a collection of local files is a very common task. A useful pattern to keep in mind is the following: \n",
    "\n",
    "1. make a list of filenames and distribute it among the workers\n",
    "3. \"map\" each filename to the data you want to get out\n",
    "4. now you are left with the RDD of raw data distributed among the workers!"
   ]
  },
  {
   "cell_type": "markdown",
   "metadata": {},
   "source": [
    "The [`gutenberg_cleanup`](gutenberg_cleanup.py) module contains two functions that can help with this: `get_text` and `get_metadata`.\n",
    "\n",
    "They pretty much do the obvious: \n",
    "\n",
    "`get_metadata` returns a metadata object with various useful fields that will be used to create a unique key for each book\n",
    "\n",
    "`get_text` returns the raw text extracted from HTML, cleaned of tags and punctuation and converted to lower case. "
   ]
  },
  {
   "cell_type": "markdown",
   "metadata": {},
   "source": [
    "### Initializing the raw dataset using `sc.parallelize`"
   ]
  },
  {
   "cell_type": "code",
   "execution_count": 7,
   "metadata": {
    "collapsed": false
   },
   "outputs": [
    {
     "name": "stdout",
     "output_type": "stream",
     "text": [
      "number of books:  13963\n"
     ]
    }
   ],
   "source": [
    "import glob\n",
    "flist = glob.glob('/cluster/home03/sdid/roskarr/work/gutenberg/html/*html')\n",
    "print 'number of books: ', len(flist)"
   ]
  },
  {
   "cell_type": "code",
   "execution_count": 8,
   "metadata": {
    "collapsed": true
   },
   "outputs": [],
   "source": [
    "files_rdd = sc.parallelize(flist, 200)"
   ]
  },
  {
   "cell_type": "code",
   "execution_count": 9,
   "metadata": {
    "collapsed": false
   },
   "outputs": [
    {
     "data": {
      "text/plain": [
       "['/cluster/home03/sdid/roskarr/work/gutenberg/html/1000.html',\n",
       " '/cluster/home03/sdid/roskarr/work/gutenberg/html/1001.html',\n",
       " '/cluster/home03/sdid/roskarr/work/gutenberg/html/1002.html',\n",
       " '/cluster/home03/sdid/roskarr/work/gutenberg/html/1003.html',\n",
       " '/cluster/home03/sdid/roskarr/work/gutenberg/html/1004.html']"
      ]
     },
     "execution_count": 9,
     "metadata": {},
     "output_type": "execute_result"
    }
   ],
   "source": [
    "files_rdd.take(5)"
   ]
  },
  {
   "cell_type": "markdown",
   "metadata": {},
   "source": [
    "### Transforming the list of filenames into `key,value` pair RDD of metadata and text\n",
    "\n",
    "Use the `get_text` and `get_metadata` functions to construct a key,value pair RDD, where `key` is the dictionary returned by `get_metadata`. For the `value` of each `key`,`value` pair use the raw text returned by `get_text`. "
   ]
  },
  {
   "cell_type": "code",
   "execution_count": 10,
   "metadata": {
    "collapsed": false
   },
   "outputs": [],
   "source": [
    "import gutenberg_cleanup\n",
    "reload(gutenberg_cleanup)\n",
    "from gutenberg_cleanup import get_metadata, get_text, get_gid"
   ]
  },
  {
   "cell_type": "code",
   "execution_count": 11,
   "metadata": {
    "collapsed": false
   },
   "outputs": [],
   "source": [
    "text_rdd = (files_rdd.map(lambda filename: \n",
    "                        (get_metadata(get_gid(filename)), get_text(filename))))"
   ]
  },
  {
   "cell_type": "markdown",
   "metadata": {},
   "source": [
    "So that we don't have to constantly re-load the data off disk, lets cache this RDD: "
   ]
  },
  {
   "cell_type": "code",
   "execution_count": 12,
   "metadata": {
    "collapsed": false
   },
   "outputs": [
    {
     "data": {
      "text/plain": [
       "13963"
      ]
     },
     "execution_count": 12,
     "metadata": {},
     "output_type": "execute_result"
    }
   ],
   "source": [
    "%%time\n",
    "text_rdd.cache()\n",
    "text_rdd.count()"
   ]
  },
  {
   "cell_type": "markdown",
   "metadata": {
    "variables": {
     "UI_url": {}
    }
   },
   "source": [
    "Since we called `count()`, it means that the entire RDD was generated/calculated. This combination of `cache` and `count` is a common way to check how much memory your dataset needs. You can check this by going to the \"Storage\" tag of the Spark UI. "
   ]
  },
  {
   "cell_type": "markdown",
   "metadata": {},
   "source": [
    "### Broadcasting the metadata"
   ]
  },
  {
   "cell_type": "markdown",
   "metadata": {},
   "source": [
    "We save the meta-data in a dictionary for later use: "
   ]
  },
  {
   "cell_type": "code",
   "execution_count": 13,
   "metadata": {
    "collapsed": true
   },
   "outputs": [],
   "source": [
    "meta_dict = dict()\n",
    "for meta in text_rdd.keys().collect() :\n",
    "    meta_dict[meta['gid']] = {key: meta[key] for key in ['gid', 'birth_year', 'death_year', 'first_name', 'last_name', 'title']}"
   ]
  },
  {
   "cell_type": "markdown",
   "metadata": {},
   "source": [
    "This is now a look-up table that allows us to quickly access all the metadata indexed by `gid`. For example:"
   ]
  },
  {
   "cell_type": "code",
   "execution_count": 14,
   "metadata": {
    "collapsed": false
   },
   "outputs": [
    {
     "data": {
      "text/plain": [
       "{'birth_year': u'1954',\n",
       " 'death_year': None,\n",
       " 'first_name': u'Bruce',\n",
       " 'gid': 101,\n",
       " 'last_name': u'Sterling',\n",
       " 'title': u'The Hacker Crackdown: Law and Disorder on the Electronic Frontier'}"
      ]
     },
     "execution_count": 14,
     "metadata": {},
     "output_type": "execute_result"
    }
   ],
   "source": [
    "meta_dict[101]"
   ]
  },
  {
   "cell_type": "markdown",
   "metadata": {},
   "source": [
    "We'll need this lookup table later on in the analysis. Since it will be used in many `map` transformations, we would have to send it across the wire every time we used it. Alternatively, we could read the metadata off the disk every time, but this is even worse for many reasons. \n",
    "\n",
    "Instead, Spark offers us a [broadcast variable](http://spark.apache.org/docs/latest/programming-guide.html#broadcast-variables) mechanism. This allows us to distribute a non-trivial piece of data to all nodes and keep it there. When the code running on the nodes needs a value from the broadcast variable, it is simply grabbed from memory. Since the variable is stored in the JVM on the executor, if the executor runs many cores, those cores can share the data therefore even further reducing unnecessary network traffic. "
   ]
  },
  {
   "cell_type": "code",
   "execution_count": 15,
   "metadata": {
    "collapsed": true
   },
   "outputs": [],
   "source": [
    "meta_b = sc.broadcast(meta_dict)"
   ]
  },
  {
   "cell_type": "markdown",
   "metadata": {},
   "source": [
    "The underlying data object stored in `meta_b` can be accessed simply by\n",
    "\n",
    "    > meta_b.value\n",
    "    \n",
    "We'll make use of this soon."
   ]
  },
  {
   "cell_type": "markdown",
   "metadata": {},
   "source": [
    "## Save the raw dataset to HDFS \n",
    "We don't want to have to read the data off local disk every time we want to repeat some part of the analysis. Instead, it's much more advantageous to use the Hadoop Distributed File System (HDFS) to store the data once we've read it in and put it in a `key,value` format. "
   ]
  },
  {
   "cell_type": "code",
   "execution_count": 27,
   "metadata": {
    "collapsed": true
   },
   "outputs": [],
   "source": [
    "text_rdd.saveAsPickleFile('/user/roskarr/gutenberg/raw_text_rdd')"
   ]
  },
  {
   "cell_type": "markdown",
   "metadata": {},
   "source": [
    "Now, whenever we need it, we can read the data off the HDFS instead: "
   ]
  },
  {
   "cell_type": "code",
   "execution_count": 28,
   "metadata": {
    "collapsed": true
   },
   "outputs": [],
   "source": [
    "loaded_text_rdd = sc.pickleFile('/user/roskarr/gutenberg/raw_text_rdd')"
   ]
  },
  {
   "cell_type": "code",
   "execution_count": 29,
   "metadata": {
    "collapsed": false
   },
   "outputs": [
    {
     "name": "stdout",
     "output_type": "stream",
     "text": [
      "CPU times: user 35 ms, sys: 6 ms, total: 41 ms\n",
      "Wall time: 3.89 s\n"
     ]
    },
    {
     "data": {
      "text/plain": [
       "13963"
      ]
     },
     "execution_count": 29,
     "metadata": {},
     "output_type": "execute_result"
    }
   ],
   "source": [
    "%time loaded_text_rdd.count()"
   ]
  },
  {
   "cell_type": "markdown",
   "metadata": {},
   "source": [
    "This now only takes ~4 seconds instead of about a minute it took to read the data off local disk. "
   ]
  },
  {
   "cell_type": "markdown",
   "metadata": {},
   "source": [
    "## Cleaning the data with filtering"
   ]
  },
  {
   "cell_type": "markdown",
   "metadata": {},
   "source": [
    "Now we're ready to do some quality checks on the data. Let's check out the first couple of metadata entries: "
   ]
  },
  {
   "cell_type": "code",
   "execution_count": 30,
   "metadata": {
    "collapsed": false
   },
   "outputs": [
    {
     "data": {
      "text/plain": [
       "[{'birth_year': None,\n",
       "  'death_year': None,\n",
       "  'first_name': None,\n",
       "  'gid': 1000,\n",
       "  'last_name': None,\n",
       "  'title': '- No Title -'},\n",
       " {'birth_year': u'1265',\n",
       "  'death_year': u'1321',\n",
       "  'first_name': None,\n",
       "  'gid': 1001,\n",
       "  'last_name': u'Dante Alighieri',\n",
       "  'title': u\"Divine Comedy, Longfellow's Translation, Hell\"},\n",
       " {'birth_year': u'1807',\n",
       "  'death_year': u'1882',\n",
       "  'first_name': None,\n",
       "  'gid': 1002,\n",
       "  'last_name': u'Dante Alighieri',\n",
       "  'title': u\"Divine Comedy, Longfellow's Translation, Purgatory\"},\n",
       " {'birth_year': u'1265',\n",
       "  'death_year': u'1321',\n",
       "  'first_name': None,\n",
       "  'gid': 1003,\n",
       "  'last_name': u'Dante Alighieri',\n",
       "  'title': u\"Divine Comedy, Longfellow's Translation, Paradise\"},\n",
       " {'birth_year': u'1807',\n",
       "  'death_year': u'1882',\n",
       "  'first_name': None,\n",
       "  'gid': 1004,\n",
       "  'last_name': u'Dante Alighieri',\n",
       "  'title': u\"Divine Comedy, Longfellow's Translation, Complete\"}]"
      ]
     },
     "execution_count": 30,
     "metadata": {},
     "output_type": "execute_result"
    }
   ],
   "source": [
    "text_rdd.keys().take(5)"
   ]
  },
  {
   "cell_type": "markdown",
   "metadata": {},
   "source": [
    "If you look at just the first few entries it becomes clear that we're going to have to do some quality control here. For example, we probably don't want books with \"None\" as either of the author names, and likewise we have to have the birth date in order to be able to create a time series out of the data in the end. \n",
    "\n",
    "Construct an RDD, as above, except that you filter out all the elements that have `None` for `title`, `first_name`, `last_name`, or `birth_year`. In addition, filter out the data with \"BC\" in either birth or death year. "
   ]
  },
  {
   "cell_type": "code",
   "execution_count": 67,
   "metadata": {
    "collapsed": true
   },
   "outputs": [],
   "source": [
    "def filter_func(meta) : \n",
    "    no_none = all([meta[name] is not None for name in ['title', 'first_name', 'last_name', 'birth_year']])\n",
    "    if not no_none : \n",
    "        return False\n",
    "    else : \n",
    "        no_birth_bc = 'BC' not in meta['birth_year']\n",
    "        no_death_bc = True if meta['death_year'] is None else 'BC' not in meta['death_year']\n",
    "        return no_birth_bc + no_death_bc"
   ]
  },
  {
   "cell_type": "code",
   "execution_count": 68,
   "metadata": {
    "collapsed": true
   },
   "outputs": [],
   "source": [
    "filtered_rdd = text_rdd.filter(lambda (meta, text): filter_func(meta))"
   ]
  },
  {
   "cell_type": "code",
   "execution_count": 70,
   "metadata": {
    "collapsed": false
   },
   "outputs": [
    {
     "data": {
      "text/plain": [
       "{'birth_year': u'1954',\n",
       " 'death_year': None,\n",
       " 'first_name': u'Bruce',\n",
       " 'gid': 101,\n",
       " 'last_name': u'Sterling',\n",
       " 'title': u'The Hacker Crackdown: Law and Disorder on the Electronic Frontier'}"
      ]
     },
     "execution_count": 70,
     "metadata": {},
     "output_type": "execute_result"
    }
   ],
   "source": [
    "filtered_rdd.keys().first()"
   ]
  },
  {
   "cell_type": "code",
   "execution_count": 71,
   "metadata": {
    "collapsed": false,
    "scrolled": false
   },
   "outputs": [
    {
     "data": {
      "text/plain": [
       "[{'birth_year': u'1954',\n",
       "  'death_year': None,\n",
       "  'first_name': u'Bruce',\n",
       "  'gid': 101,\n",
       "  'last_name': u'Sterling',\n",
       "  'title': u'The Hacker Crackdown: Law and Disorder on the Electronic Frontier'},\n",
       " {'birth_year': u'1866',\n",
       "  'death_year': u'1946',\n",
       "  'first_name': u'H. G. (Herbert George)',\n",
       "  'gid': 1013,\n",
       "  'last_name': u'Wells',\n",
       "  'title': u'The First Men in the Moon'},\n",
       " {'birth_year': u'1874',\n",
       "  'death_year': u'1940',\n",
       "  'first_name': u'B. M.',\n",
       "  'gid': 1014,\n",
       "  'last_name': u'Bower',\n",
       "  'title': u'The Lure of the Dim Trails'},\n",
       " {'birth_year': u'1823',\n",
       "  'death_year': u'1893',\n",
       "  'first_name': u'Francis',\n",
       "  'gid': 1015,\n",
       "  'last_name': u'Parkman',\n",
       "  'title': u'The Oregon Trail: Sketches of Prairie and Rocky-Mountain Life'},\n",
       " {'birth_year': u'1632',\n",
       "  'death_year': u'1677',\n",
       "  'first_name': u'Benedictus de',\n",
       "  'gid': 1016,\n",
       "  'last_name': u'Spinoza',\n",
       "  'title': u'On the Improvement of the Understanding'}]"
      ]
     },
     "execution_count": 71,
     "metadata": {},
     "output_type": "execute_result"
    }
   ],
   "source": [
    "filtered_rdd.keys().take(5)"
   ]
  },
  {
   "cell_type": "markdown",
   "metadata": {},
   "source": [
    "How many do we have left? "
   ]
  },
  {
   "cell_type": "code",
   "execution_count": 72,
   "metadata": {
    "collapsed": false
   },
   "outputs": [
    {
     "name": "stdout",
     "output_type": "stream",
     "text": [
      "number of books after filtering:  10976\n"
     ]
    }
   ],
   "source": [
    "print 'number of books after filtering: ', filtered_rdd.count()"
   ]
  },
  {
   "cell_type": "markdown",
   "metadata": {},
   "source": [
    "Some of the books end up in multiple files, but they should all have the same gid. \n",
    "\n",
    "To check for this we will use one of the most basic and common Map/Reduce patterns: \n",
    "\n",
    "* map the data into `key`,`value` pairs where `key` is the quantity we want to count and `value` is just 1. \n",
    "* invoke a reduction *by key*, where the reduction operator is a simple addition\n",
    "\n",
    "Finally, we will sort the result and print out the first few elements to check whether we have to worry about documents spanning multiple files or not. \n",
    "\n",
    "The RDD operations that are needed are [`reduceByKey`](http://spark.apache.org/docs/latest/api/python/pyspark.html#pyspark.RDD.reduceByKey) and [sortBy](http://spark.apache.org/docs/latest/api/python/pyspark.html#pyspark.RDD.sortBy).\n",
    "\n",
    "For the `keyFunc` of the call to `sortBy`, use a `lambda` function that extracts the counts obtained from the `reduceByKey`. "
   ]
  },
  {
   "cell_type": "code",
   "execution_count": 73,
   "metadata": {
    "collapsed": true
   },
   "outputs": [],
   "source": [
    "from operator import add"
   ]
  },
  {
   "cell_type": "code",
   "execution_count": 74,
   "metadata": {
    "collapsed": false
   },
   "outputs": [
    {
     "data": {
      "text/plain": [
       "[(6478, 43),\n",
       " (3772, 40),\n",
       " (8700, 35),\n",
       " (3332, 33),\n",
       " (12233, 29),\n",
       " (3425, 23),\n",
       " (2440, 16),\n",
       " (6475, 15),\n",
       " (12145, 9),\n",
       " (12383, 7),\n",
       " (15000, 6),\n",
       " (4022, 5),\n",
       " (10625, 5),\n",
       " (12030, 5),\n",
       " (10800, 4),\n",
       " (16927, 4),\n",
       " (14860, 3),\n",
       " (14052, 3),\n",
       " (14495, 2),\n",
       " (1079, 2)]"
      ]
     },
     "execution_count": 74,
     "metadata": {},
     "output_type": "execute_result"
    }
   ],
   "source": [
    "(filtered_rdd.map(lambda (meta, text): (meta['gid'], 1))\n",
    "             .reduceByKey(add)\n",
    "             .sortBy(lambda (key,count): count, False)\n",
    "             .take(20))"
   ]
  },
  {
   "cell_type": "markdown",
   "metadata": {},
   "source": [
    "Looks like we have a few that are made up of multiple sections. To combine them, we will use `reduceByKey` which will result in having an RDD of `gid`'s as keys and the combined text of each `gid`. The reduction function in `reduceByKey` can be a simple in-line function that just adds two elements together. "
   ]
  },
  {
   "cell_type": "code",
   "execution_count": 75,
   "metadata": {
    "collapsed": false
   },
   "outputs": [],
   "source": [
    "cleaned_rdd = (filtered_rdd.map(lambda (meta, text): (meta['gid'], text))\n",
    "                           .reduceByKey(lambda a,b: a+b))"
   ]
  },
  {
   "cell_type": "markdown",
   "metadata": {},
   "source": [
    "As a simple sanity check, lets look at `gid`=6478, which according to the cell above has 43 sections in the original dataset: "
   ]
  },
  {
   "cell_type": "code",
   "execution_count": 76,
   "metadata": {
    "collapsed": false
   },
   "outputs": [
    {
     "data": {
      "text/plain": [
       "43"
      ]
     },
     "execution_count": 76,
     "metadata": {},
     "output_type": "execute_result"
    }
   ],
   "source": [
    "len(filtered_rdd.map(lambda (meta, text): (meta['gid'],1)).lookup(6478))"
   ]
  },
  {
   "cell_type": "code",
   "execution_count": 77,
   "metadata": {
    "collapsed": false
   },
   "outputs": [
    {
     "data": {
      "text/plain": [
       "1"
      ]
     },
     "execution_count": 77,
     "metadata": {},
     "output_type": "execute_result"
    }
   ],
   "source": [
    "len(cleaned_rdd.lookup(6478))"
   ]
  },
  {
   "cell_type": "markdown",
   "metadata": {},
   "source": [
    "To avoid having to do all these pre-processing steps again at a later point, lets also save the `cleaned_rdd`:"
   ]
  },
  {
   "cell_type": "code",
   "execution_count": 79,
   "metadata": {
    "collapsed": true
   },
   "outputs": [],
   "source": [
    "cleaned_rdd.saveAsPickleFile('/user/roskarr/gutenberg/cleaned_rdd')"
   ]
  },
  {
   "cell_type": "markdown",
   "metadata": {},
   "source": [
    "This is now saved in the directory we specified, one file per partition:"
   ]
  },
  {
   "cell_type": "code",
   "execution_count": 80,
   "metadata": {
    "collapsed": false
   },
   "outputs": [
    {
     "name": "stdout",
     "output_type": "stream",
     "text": [
      "Found 201 items\n",
      "-rw-r--r--   3 roskarr supergroup          0 2015-06-18 18:36 /user/roskarr/gutenberg/cleaned_rdd/_SUCCESS\n",
      "-rw-r--r--   3 roskarr supergroup   90662087 2015-06-18 18:36 /user/roskarr/gutenberg/cleaned_rdd/part-00000\n",
      "-rw-r--r--   3 roskarr supergroup   25827115 2015-06-18 18:36 /user/roskarr/gutenberg/cleaned_rdd/part-00001\n",
      "-rw-r--r--   3 roskarr supergroup   18721125 2015-06-18 18:35 /user/roskarr/gutenberg/cleaned_rdd/part-00002\n",
      "-rw-r--r--   3 roskarr supergroup   22067951 2015-06-18 18:35 /user/roskarr/gutenberg/cleaned_rdd/part-00003\n",
      "-rw-r--r--   3 roskarr supergroup   19626700 2015-06-18 18:35 /user/roskarr/gutenberg/cleaned_rdd/part-00004\n",
      "-rw-r--r--   3 roskarr supergroup   21188890 2015-06-18 18:35 /user/roskarr/gutenberg/cleaned_rdd/part-00005\n",
      "-rw-r--r--   3 roskarr supergroup   22330584 2015-06-18 18:35 /user/roskarr/gutenberg/cleaned_rdd/part-00006\n",
      "-rw-r--r--   3 roskarr supergroup   22251456 2015-06-18 18:35 /user/roskarr/gutenberg/cleaned_rdd/part-00007\n",
      "-rw-r--r--   3 roskarr supergroup   16715880 2015-06-18 18:35 /user/roskarr/gutenberg/cleaned_rdd/part-00008\n",
      "-rw-r--r--   3 roskarr supergroup   19982363 2015-06-18 18:35 /user/roskarr/gutenberg/cleaned_rdd/part-00009\n",
      "-rw-r--r--   3 roskarr supergroup   21065196 2015-06-18 18:35 /user/roskarr/gutenberg/cleaned_rdd/part-00010\n",
      "-rw-r--r--   3 roskarr supergroup   21219505 2015-06-18 18:36 /user/roskarr/gutenberg/cleaned_rdd/part-00011\n",
      "-rw-r--r--   3 roskarr supergroup   19131870 2015-06-18 18:35 /user/roskarr/gutenberg/cleaned_rdd/part-00012\n",
      "-rw-r--r--   3 roskarr supergroup   21348137 2015-06-18 18:35 /user/roskarr/gutenberg/cleaned_rdd/part-00013\n",
      "-rw-r--r--   3 roskarr supergroup   22942347 2015-06-18 18:35 /user/roskarr/gutenberg/cleaned_rdd/part-00014\n",
      "-rw-r--r--   3 roskarr supergroup   24520429 2015-06-18 18:35 /user/roskarr/gutenberg/cleaned_rdd/part-00015\n",
      "-rw-r--r--   3 roskarr supergroup   17822700 2015-06-18 18:35 /user/roskarr/gutenberg/cleaned_rdd/part-00016\n",
      "-rw-r--r--   3 roskarr supergroup   19238417 2015-06-18 18:35 /user/roskarr/gutenberg/cleaned_rdd/part-00017\n",
      "-rw-r--r--   3 roskarr supergroup   19329301 2015-06-18 18:35 /user/roskarr/gutenberg/cleaned_rdd/part-00018\n",
      "-rw-r--r--   3 roskarr supergroup   17514311 2015-06-18 18:35 /user/roskarr/gutenberg/cleaned_rdd/part-00019\n",
      "-rw-r--r--   3 roskarr supergroup   16366258 2015-06-18 18:35 /user/roskarr/gutenberg/cleaned_rdd/part-00020\n",
      "-rw-r--r--   3 roskarr supergroup   15484062 2015-06-18 18:36 /user/roskarr/gutenberg/cleaned_rdd/part-00021\n",
      "-rw-r--r--   3 roskarr supergroup   17754293 2015-06-18 18:35 /user/roskarr/gutenberg/cleaned_rdd/part-00022\n",
      "-rw-r--r--   3 roskarr supergroup   19420668 2015-06-18 18:35 /user/roskarr/gutenberg/cleaned_rdd/part-00023\n",
      "-rw-r--r--   3 roskarr supergroup   18996854 2015-06-18 18:35 /user/roskarr/gutenberg/cleaned_rdd/part-00024\n",
      "-rw-r--r--   3 roskarr supergroup   18664756 2015-06-18 18:35 /user/roskarr/gutenberg/cleaned_rdd/part-00025\n",
      "-rw-r--r--   3 roskarr supergroup   20444340 2015-06-18 18:35 /user/roskarr/gutenberg/cleaned_rdd/part-00026\n",
      "-rw-r--r--   3 roskarr supergroup   20253899 2015-06-18 18:35 /user/roskarr/gutenberg/cleaned_rdd/part-00027\n",
      "-rw-r--r--   3 roskarr supergroup   15414854 2015-06-18 18:35 /user/roskarr/gutenberg/cleaned_rdd/part-00028\n",
      "-rw-r--r--   3 roskarr supergroup   19827191 2015-06-18 18:36 /user/roskarr/gutenberg/cleaned_rdd/part-00029\n",
      "-rw-r--r--   3 roskarr supergroup   17369916 2015-06-18 18:35 /user/roskarr/gutenberg/cleaned_rdd/part-00030\n",
      "-rw-r--r--   3 roskarr supergroup   20306460 2015-06-18 18:36 /user/roskarr/gutenberg/cleaned_rdd/part-00031\n",
      "-rw-r--r--   3 roskarr supergroup   19036039 2015-06-18 18:35 /user/roskarr/gutenberg/cleaned_rdd/part-00032\n",
      "-rw-r--r--   3 roskarr supergroup   21200833 2015-06-18 18:35 /user/roskarr/gutenberg/cleaned_rdd/part-00033\n",
      "-rw-r--r--   3 roskarr supergroup   19954151 2015-06-18 18:35 /user/roskarr/gutenberg/cleaned_rdd/part-00034\n",
      "-rw-r--r--   3 roskarr supergroup   17238166 2015-06-18 18:35 /user/roskarr/gutenberg/cleaned_rdd/part-00035\n",
      "-rw-r--r--   3 roskarr supergroup   20121083 2015-06-18 18:35 /user/roskarr/gutenberg/cleaned_rdd/part-00036\n",
      "-rw-r--r--   3 roskarr supergroup   16159477 2015-06-18 18:35 /user/roskarr/gutenberg/cleaned_rdd/part-00037\n",
      "-rw-r--r--   3 roskarr supergroup   13445802 2015-06-18 18:35 /user/roskarr/gutenberg/cleaned_rdd/part-00038\n",
      "-rw-r--r--   3 roskarr supergroup   19718962 2015-06-18 18:35 /user/roskarr/gutenberg/cleaned_rdd/part-00039\n",
      "-rw-r--r--   3 roskarr supergroup   17270108 2015-06-18 18:35 /user/roskarr/gutenberg/cleaned_rdd/part-00040\n",
      "-rw-r--r--   3 roskarr supergroup   16861155 2015-06-18 18:35 /user/roskarr/gutenberg/cleaned_rdd/part-00041\n",
      "-rw-r--r--   3 roskarr supergroup   15936987 2015-06-18 18:36 /user/roskarr/gutenberg/cleaned_rdd/part-00042\n",
      "-rw-r--r--   3 roskarr supergroup   20481855 2015-06-18 18:36 /user/roskarr/gutenberg/cleaned_rdd/part-00043\n",
      "-rw-r--r--   3 roskarr supergroup   18303062 2015-06-18 18:36 /user/roskarr/gutenberg/cleaned_rdd/part-00044\n",
      "-rw-r--r--   3 roskarr supergroup   18451159 2015-06-18 18:36 /user/roskarr/gutenberg/cleaned_rdd/part-00045\n",
      "-rw-r--r--   3 roskarr supergroup   21379663 2015-06-18 18:36 /user/roskarr/gutenberg/cleaned_rdd/part-00046\n",
      "-rw-r--r--   3 roskarr supergroup   23933828 2015-06-18 18:36 /user/roskarr/gutenberg/cleaned_rdd/part-00047\n",
      "-rw-r--r--   3 roskarr supergroup   20646036 2015-06-18 18:36 /user/roskarr/gutenberg/cleaned_rdd/part-00048\n",
      "-rw-r--r--   3 roskarr supergroup   31712069 2015-06-18 18:36 /user/roskarr/gutenberg/cleaned_rdd/part-00049\n",
      "-rw-r--r--   3 roskarr supergroup   16353942 2015-06-18 18:36 /user/roskarr/gutenberg/cleaned_rdd/part-00050\n",
      "-rw-r--r--   3 roskarr supergroup   23485543 2015-06-18 18:36 /user/roskarr/gutenberg/cleaned_rdd/part-00051\n",
      "-rw-r--r--   3 roskarr supergroup   28127669 2015-06-18 18:36 /user/roskarr/gutenberg/cleaned_rdd/part-00052\n",
      "-rw-r--r--   3 roskarr supergroup   21859213 2015-06-18 18:36 /user/roskarr/gutenberg/cleaned_rdd/part-00053\n",
      "-rw-r--r--   3 roskarr supergroup   27421753 2015-06-18 18:36 /user/roskarr/gutenberg/cleaned_rdd/part-00054\n",
      "-rw-r--r--   3 roskarr supergroup   17743823 2015-06-18 18:36 /user/roskarr/gutenberg/cleaned_rdd/part-00055\n",
      "-rw-r--r--   3 roskarr supergroup   14964817 2015-06-18 18:36 /user/roskarr/gutenberg/cleaned_rdd/part-00056\n",
      "-rw-r--r--   3 roskarr supergroup   19916305 2015-06-18 18:36 /user/roskarr/gutenberg/cleaned_rdd/part-00057\n",
      "-rw-r--r--   3 roskarr supergroup   19876905 2015-06-18 18:36 /user/roskarr/gutenberg/cleaned_rdd/part-00058\n",
      "-rw-r--r--   3 roskarr supergroup   16258519 2015-06-18 18:36 /user/roskarr/gutenberg/cleaned_rdd/part-00059\n",
      "-rw-r--r--   3 roskarr supergroup   26137088 2015-06-18 18:36 /user/roskarr/gutenberg/cleaned_rdd/part-00060\n",
      "-rw-r--r--   3 roskarr supergroup   21813583 2015-06-18 18:36 /user/roskarr/gutenberg/cleaned_rdd/part-00061\n",
      "-rw-r--r--   3 roskarr supergroup   18458146 2015-06-18 18:36 /user/roskarr/gutenberg/cleaned_rdd/part-00062\n",
      "-rw-r--r--   3 roskarr supergroup   20259000 2015-06-18 18:36 /user/roskarr/gutenberg/cleaned_rdd/part-00063\n",
      "-rw-r--r--   3 roskarr supergroup   19841142 2015-06-18 18:36 /user/roskarr/gutenberg/cleaned_rdd/part-00064\n",
      "-rw-r--r--   3 roskarr supergroup   18747836 2015-06-18 18:36 /user/roskarr/gutenberg/cleaned_rdd/part-00065\n",
      "-rw-r--r--   3 roskarr supergroup   18327728 2015-06-18 18:36 /user/roskarr/gutenberg/cleaned_rdd/part-00066\n",
      "-rw-r--r--   3 roskarr supergroup   24622371 2015-06-18 18:36 /user/roskarr/gutenberg/cleaned_rdd/part-00067\n",
      "-rw-r--r--   3 roskarr supergroup   23783006 2015-06-18 18:36 /user/roskarr/gutenberg/cleaned_rdd/part-00068\n",
      "-rw-r--r--   3 roskarr supergroup   25086800 2015-06-18 18:36 /user/roskarr/gutenberg/cleaned_rdd/part-00069\n",
      "-rw-r--r--   3 roskarr supergroup   21604836 2015-06-18 18:36 /user/roskarr/gutenberg/cleaned_rdd/part-00070\n",
      "-rw-r--r--   3 roskarr supergroup   21644755 2015-06-18 18:36 /user/roskarr/gutenberg/cleaned_rdd/part-00071\n",
      "-rw-r--r--   3 roskarr supergroup   23435404 2015-06-18 18:36 /user/roskarr/gutenberg/cleaned_rdd/part-00072\n",
      "-rw-r--r--   3 roskarr supergroup   18782005 2015-06-18 18:36 /user/roskarr/gutenberg/cleaned_rdd/part-00073\n",
      "-rw-r--r--   3 roskarr supergroup   24329077 2015-06-18 18:36 /user/roskarr/gutenberg/cleaned_rdd/part-00074\n",
      "-rw-r--r--   3 roskarr supergroup   19300848 2015-06-18 18:36 /user/roskarr/gutenberg/cleaned_rdd/part-00075\n",
      "-rw-r--r--   3 roskarr supergroup   24856623 2015-06-18 18:36 /user/roskarr/gutenberg/cleaned_rdd/part-00076\n",
      "-rw-r--r--   3 roskarr supergroup   18932413 2015-06-18 18:36 /user/roskarr/gutenberg/cleaned_rdd/part-00077\n",
      "-rw-r--r--   3 roskarr supergroup   20902772 2015-06-18 18:36 /user/roskarr/gutenberg/cleaned_rdd/part-00078\n",
      "-rw-r--r--   3 roskarr supergroup   18888832 2015-06-18 18:36 /user/roskarr/gutenberg/cleaned_rdd/part-00079\n",
      "-rw-r--r--   3 roskarr supergroup   21840426 2015-06-18 18:36 /user/roskarr/gutenberg/cleaned_rdd/part-00080\n",
      "-rw-r--r--   3 roskarr supergroup   21215984 2015-06-18 18:36 /user/roskarr/gutenberg/cleaned_rdd/part-00081\n",
      "-rw-r--r--   3 roskarr supergroup   20921917 2015-06-18 18:36 /user/roskarr/gutenberg/cleaned_rdd/part-00082\n",
      "-rw-r--r--   3 roskarr supergroup   19865246 2015-06-18 18:36 /user/roskarr/gutenberg/cleaned_rdd/part-00083\n",
      "-rw-r--r--   3 roskarr supergroup   23526279 2015-06-18 18:36 /user/roskarr/gutenberg/cleaned_rdd/part-00084\n",
      "-rw-r--r--   3 roskarr supergroup   23868074 2015-06-18 18:36 /user/roskarr/gutenberg/cleaned_rdd/part-00085\n",
      "-rw-r--r--   3 roskarr supergroup   19066315 2015-06-18 18:36 /user/roskarr/gutenberg/cleaned_rdd/part-00086\n",
      "-rw-r--r--   3 roskarr supergroup   17512613 2015-06-18 18:36 /user/roskarr/gutenberg/cleaned_rdd/part-00087\n",
      "-rw-r--r--   3 roskarr supergroup   18001594 2015-06-18 18:36 /user/roskarr/gutenberg/cleaned_rdd/part-00088\n",
      "-rw-r--r--   3 roskarr supergroup   17136950 2015-06-18 18:36 /user/roskarr/gutenberg/cleaned_rdd/part-00089\n",
      "-rw-r--r--   3 roskarr supergroup   21322648 2015-06-18 18:36 /user/roskarr/gutenberg/cleaned_rdd/part-00090\n",
      "-rw-r--r--   3 roskarr supergroup   19006373 2015-06-18 18:36 /user/roskarr/gutenberg/cleaned_rdd/part-00091\n",
      "-rw-r--r--   3 roskarr supergroup   17562211 2015-06-18 18:36 /user/roskarr/gutenberg/cleaned_rdd/part-00092\n",
      "-rw-r--r--   3 roskarr supergroup   20506650 2015-06-18 18:36 /user/roskarr/gutenberg/cleaned_rdd/part-00093\n",
      "-rw-r--r--   3 roskarr supergroup   17087509 2015-06-18 18:36 /user/roskarr/gutenberg/cleaned_rdd/part-00094\n",
      "-rw-r--r--   3 roskarr supergroup   20829447 2015-06-18 18:36 /user/roskarr/gutenberg/cleaned_rdd/part-00095\n",
      "-rw-r--r--   3 roskarr supergroup   20487992 2015-06-18 18:36 /user/roskarr/gutenberg/cleaned_rdd/part-00096\n",
      "-rw-r--r--   3 roskarr supergroup   16769869 2015-06-18 18:36 /user/roskarr/gutenberg/cleaned_rdd/part-00097\n",
      "-rw-r--r--   3 roskarr supergroup   18881953 2015-06-18 18:36 /user/roskarr/gutenberg/cleaned_rdd/part-00098\n",
      "-rw-r--r--   3 roskarr supergroup   19486063 2015-06-18 18:36 /user/roskarr/gutenberg/cleaned_rdd/part-00099\n",
      "-rw-r--r--   3 roskarr supergroup   52184605 2015-06-18 18:36 /user/roskarr/gutenberg/cleaned_rdd/part-00100\n",
      "-rw-r--r--   3 roskarr supergroup   23485075 2015-06-18 18:36 /user/roskarr/gutenberg/cleaned_rdd/part-00101\n",
      "-rw-r--r--   3 roskarr supergroup   19218590 2015-06-18 18:36 /user/roskarr/gutenberg/cleaned_rdd/part-00102\n",
      "-rw-r--r--   3 roskarr supergroup   17849468 2015-06-18 18:36 /user/roskarr/gutenberg/cleaned_rdd/part-00103\n",
      "-rw-r--r--   3 roskarr supergroup   19132150 2015-06-18 18:36 /user/roskarr/gutenberg/cleaned_rdd/part-00104\n",
      "-rw-r--r--   3 roskarr supergroup   18980030 2015-06-18 18:36 /user/roskarr/gutenberg/cleaned_rdd/part-00105\n",
      "-rw-r--r--   3 roskarr supergroup   22989512 2015-06-18 18:36 /user/roskarr/gutenberg/cleaned_rdd/part-00106\n",
      "-rw-r--r--   3 roskarr supergroup   19010759 2015-06-18 18:36 /user/roskarr/gutenberg/cleaned_rdd/part-00107\n",
      "-rw-r--r--   3 roskarr supergroup   20038882 2015-06-18 18:36 /user/roskarr/gutenberg/cleaned_rdd/part-00108\n",
      "-rw-r--r--   3 roskarr supergroup   17362287 2015-06-18 18:36 /user/roskarr/gutenberg/cleaned_rdd/part-00109\n",
      "-rw-r--r--   3 roskarr supergroup   18179417 2015-06-18 18:36 /user/roskarr/gutenberg/cleaned_rdd/part-00110\n",
      "-rw-r--r--   3 roskarr supergroup   17182618 2015-06-18 18:36 /user/roskarr/gutenberg/cleaned_rdd/part-00111\n",
      "-rw-r--r--   3 roskarr supergroup   15223467 2015-06-18 18:36 /user/roskarr/gutenberg/cleaned_rdd/part-00112\n",
      "-rw-r--r--   3 roskarr supergroup   15630772 2015-06-18 18:36 /user/roskarr/gutenberg/cleaned_rdd/part-00113\n",
      "-rw-r--r--   3 roskarr supergroup   19861087 2015-06-18 18:36 /user/roskarr/gutenberg/cleaned_rdd/part-00114\n",
      "-rw-r--r--   3 roskarr supergroup   18472340 2015-06-18 18:36 /user/roskarr/gutenberg/cleaned_rdd/part-00115\n",
      "-rw-r--r--   3 roskarr supergroup   18526156 2015-06-18 18:36 /user/roskarr/gutenberg/cleaned_rdd/part-00116\n",
      "-rw-r--r--   3 roskarr supergroup   18833073 2015-06-18 18:36 /user/roskarr/gutenberg/cleaned_rdd/part-00117\n",
      "-rw-r--r--   3 roskarr supergroup   17042013 2015-06-18 18:36 /user/roskarr/gutenberg/cleaned_rdd/part-00118\n",
      "-rw-r--r--   3 roskarr supergroup   16262452 2015-06-18 18:36 /user/roskarr/gutenberg/cleaned_rdd/part-00119\n",
      "-rw-r--r--   3 roskarr supergroup   21427257 2015-06-18 18:36 /user/roskarr/gutenberg/cleaned_rdd/part-00120\n",
      "-rw-r--r--   3 roskarr supergroup   22299164 2015-06-18 18:36 /user/roskarr/gutenberg/cleaned_rdd/part-00121\n",
      "-rw-r--r--   3 roskarr supergroup   19305374 2015-06-18 18:36 /user/roskarr/gutenberg/cleaned_rdd/part-00122\n",
      "-rw-r--r--   3 roskarr supergroup   18058104 2015-06-18 18:36 /user/roskarr/gutenberg/cleaned_rdd/part-00123\n",
      "-rw-r--r--   3 roskarr supergroup   13806683 2015-06-18 18:36 /user/roskarr/gutenberg/cleaned_rdd/part-00124\n",
      "-rw-r--r--   3 roskarr supergroup   22234762 2015-06-18 18:36 /user/roskarr/gutenberg/cleaned_rdd/part-00125\n",
      "-rw-r--r--   3 roskarr supergroup   17595655 2015-06-18 18:36 /user/roskarr/gutenberg/cleaned_rdd/part-00126\n",
      "-rw-r--r--   3 roskarr supergroup   21278517 2015-06-18 18:36 /user/roskarr/gutenberg/cleaned_rdd/part-00127\n",
      "-rw-r--r--   3 roskarr supergroup   20215360 2015-06-18 18:36 /user/roskarr/gutenberg/cleaned_rdd/part-00128\n",
      "-rw-r--r--   3 roskarr supergroup   20209446 2015-06-18 18:36 /user/roskarr/gutenberg/cleaned_rdd/part-00129\n",
      "-rw-r--r--   3 roskarr supergroup   19849872 2015-06-18 18:36 /user/roskarr/gutenberg/cleaned_rdd/part-00130\n",
      "-rw-r--r--   3 roskarr supergroup   20073806 2015-06-18 18:36 /user/roskarr/gutenberg/cleaned_rdd/part-00131\n",
      "-rw-r--r--   3 roskarr supergroup   23274874 2015-06-18 18:36 /user/roskarr/gutenberg/cleaned_rdd/part-00132\n",
      "-rw-r--r--   3 roskarr supergroup   17710468 2015-06-18 18:36 /user/roskarr/gutenberg/cleaned_rdd/part-00133\n",
      "-rw-r--r--   3 roskarr supergroup   21060756 2015-06-18 18:36 /user/roskarr/gutenberg/cleaned_rdd/part-00134\n",
      "-rw-r--r--   3 roskarr supergroup   23259064 2015-06-18 18:36 /user/roskarr/gutenberg/cleaned_rdd/part-00135\n",
      "-rw-r--r--   3 roskarr supergroup   18520857 2015-06-18 18:36 /user/roskarr/gutenberg/cleaned_rdd/part-00136\n",
      "-rw-r--r--   3 roskarr supergroup   20876970 2015-06-18 18:36 /user/roskarr/gutenberg/cleaned_rdd/part-00137\n",
      "-rw-r--r--   3 roskarr supergroup   14449188 2015-06-18 18:36 /user/roskarr/gutenberg/cleaned_rdd/part-00138\n",
      "-rw-r--r--   3 roskarr supergroup   14536416 2015-06-18 18:36 /user/roskarr/gutenberg/cleaned_rdd/part-00139\n",
      "-rw-r--r--   3 roskarr supergroup   20914935 2015-06-18 18:36 /user/roskarr/gutenberg/cleaned_rdd/part-00140\n",
      "-rw-r--r--   3 roskarr supergroup   18212277 2015-06-18 18:36 /user/roskarr/gutenberg/cleaned_rdd/part-00141\n",
      "-rw-r--r--   3 roskarr supergroup   16518639 2015-06-18 18:36 /user/roskarr/gutenberg/cleaned_rdd/part-00142\n",
      "-rw-r--r--   3 roskarr supergroup   16529472 2015-06-18 18:36 /user/roskarr/gutenberg/cleaned_rdd/part-00143\n",
      "-rw-r--r--   3 roskarr supergroup   15175493 2015-06-18 18:36 /user/roskarr/gutenberg/cleaned_rdd/part-00144\n",
      "-rw-r--r--   3 roskarr supergroup   26788610 2015-06-18 18:36 /user/roskarr/gutenberg/cleaned_rdd/part-00145\n",
      "-rw-r--r--   3 roskarr supergroup   23578408 2015-06-18 18:36 /user/roskarr/gutenberg/cleaned_rdd/part-00146\n",
      "-rw-r--r--   3 roskarr supergroup   17339523 2015-06-18 18:36 /user/roskarr/gutenberg/cleaned_rdd/part-00147\n",
      "-rw-r--r--   3 roskarr supergroup   17181039 2015-06-18 18:36 /user/roskarr/gutenberg/cleaned_rdd/part-00148\n",
      "-rw-r--r--   3 roskarr supergroup   25007554 2015-06-18 18:36 /user/roskarr/gutenberg/cleaned_rdd/part-00149\n",
      "-rw-r--r--   3 roskarr supergroup   21827413 2015-06-18 18:36 /user/roskarr/gutenberg/cleaned_rdd/part-00150\n",
      "-rw-r--r--   3 roskarr supergroup   18556548 2015-06-18 18:36 /user/roskarr/gutenberg/cleaned_rdd/part-00151\n",
      "-rw-r--r--   3 roskarr supergroup   18283737 2015-06-18 18:36 /user/roskarr/gutenberg/cleaned_rdd/part-00152\n",
      "-rw-r--r--   3 roskarr supergroup   18981197 2015-06-18 18:36 /user/roskarr/gutenberg/cleaned_rdd/part-00153\n",
      "-rw-r--r--   3 roskarr supergroup   19104672 2015-06-18 18:36 /user/roskarr/gutenberg/cleaned_rdd/part-00154\n",
      "-rw-r--r--   3 roskarr supergroup   20913780 2015-06-18 18:36 /user/roskarr/gutenberg/cleaned_rdd/part-00155\n",
      "-rw-r--r--   3 roskarr supergroup   20727359 2015-06-18 18:36 /user/roskarr/gutenberg/cleaned_rdd/part-00156\n",
      "-rw-r--r--   3 roskarr supergroup   16982151 2015-06-18 18:36 /user/roskarr/gutenberg/cleaned_rdd/part-00157\n",
      "-rw-r--r--   3 roskarr supergroup   17119601 2015-06-18 18:36 /user/roskarr/gutenberg/cleaned_rdd/part-00158\n",
      "-rw-r--r--   3 roskarr supergroup   18865593 2015-06-18 18:36 /user/roskarr/gutenberg/cleaned_rdd/part-00159\n",
      "-rw-r--r--   3 roskarr supergroup   20698303 2015-06-18 18:36 /user/roskarr/gutenberg/cleaned_rdd/part-00160\n",
      "-rw-r--r--   3 roskarr supergroup   20653337 2015-06-18 18:36 /user/roskarr/gutenberg/cleaned_rdd/part-00161\n",
      "-rw-r--r--   3 roskarr supergroup   20456397 2015-06-18 18:36 /user/roskarr/gutenberg/cleaned_rdd/part-00162\n",
      "-rw-r--r--   3 roskarr supergroup   20216194 2015-06-18 18:36 /user/roskarr/gutenberg/cleaned_rdd/part-00163\n",
      "-rw-r--r--   3 roskarr supergroup   21389292 2015-06-18 18:36 /user/roskarr/gutenberg/cleaned_rdd/part-00164\n",
      "-rw-r--r--   3 roskarr supergroup   21731564 2015-06-18 18:36 /user/roskarr/gutenberg/cleaned_rdd/part-00165\n",
      "-rw-r--r--   3 roskarr supergroup   22928717 2015-06-18 18:36 /user/roskarr/gutenberg/cleaned_rdd/part-00166\n",
      "-rw-r--r--   3 roskarr supergroup   23585989 2015-06-18 18:36 /user/roskarr/gutenberg/cleaned_rdd/part-00167\n",
      "-rw-r--r--   3 roskarr supergroup   20840957 2015-06-18 18:36 /user/roskarr/gutenberg/cleaned_rdd/part-00168\n",
      "-rw-r--r--   3 roskarr supergroup   18885045 2015-06-18 18:36 /user/roskarr/gutenberg/cleaned_rdd/part-00169\n",
      "-rw-r--r--   3 roskarr supergroup   26456975 2015-06-18 18:36 /user/roskarr/gutenberg/cleaned_rdd/part-00170\n",
      "-rw-r--r--   3 roskarr supergroup   20408957 2015-06-18 18:36 /user/roskarr/gutenberg/cleaned_rdd/part-00171\n",
      "-rw-r--r--   3 roskarr supergroup   18017116 2015-06-18 18:36 /user/roskarr/gutenberg/cleaned_rdd/part-00172\n",
      "-rw-r--r--   3 roskarr supergroup   19692749 2015-06-18 18:36 /user/roskarr/gutenberg/cleaned_rdd/part-00173\n",
      "-rw-r--r--   3 roskarr supergroup   21559176 2015-06-18 18:36 /user/roskarr/gutenberg/cleaned_rdd/part-00174\n",
      "-rw-r--r--   3 roskarr supergroup   16995327 2015-06-18 18:36 /user/roskarr/gutenberg/cleaned_rdd/part-00175\n",
      "-rw-r--r--   3 roskarr supergroup   20546518 2015-06-18 18:36 /user/roskarr/gutenberg/cleaned_rdd/part-00176\n",
      "-rw-r--r--   3 roskarr supergroup   18776397 2015-06-18 18:36 /user/roskarr/gutenberg/cleaned_rdd/part-00177\n",
      "-rw-r--r--   3 roskarr supergroup   16677617 2015-06-18 18:36 /user/roskarr/gutenberg/cleaned_rdd/part-00178\n",
      "-rw-r--r--   3 roskarr supergroup   19347271 2015-06-18 18:36 /user/roskarr/gutenberg/cleaned_rdd/part-00179\n",
      "-rw-r--r--   3 roskarr supergroup   24536534 2015-06-18 18:36 /user/roskarr/gutenberg/cleaned_rdd/part-00180\n",
      "-rw-r--r--   3 roskarr supergroup   27546576 2015-06-18 18:36 /user/roskarr/gutenberg/cleaned_rdd/part-00181\n",
      "-rw-r--r--   3 roskarr supergroup   18395784 2015-06-18 18:36 /user/roskarr/gutenberg/cleaned_rdd/part-00182\n",
      "-rw-r--r--   3 roskarr supergroup   18913609 2015-06-18 18:36 /user/roskarr/gutenberg/cleaned_rdd/part-00183\n",
      "-rw-r--r--   3 roskarr supergroup   24080505 2015-06-18 18:36 /user/roskarr/gutenberg/cleaned_rdd/part-00184\n",
      "-rw-r--r--   3 roskarr supergroup   16315340 2015-06-18 18:36 /user/roskarr/gutenberg/cleaned_rdd/part-00185\n",
      "-rw-r--r--   3 roskarr supergroup   15239921 2015-06-18 18:36 /user/roskarr/gutenberg/cleaned_rdd/part-00186\n",
      "-rw-r--r--   3 roskarr supergroup   21929151 2015-06-18 18:36 /user/roskarr/gutenberg/cleaned_rdd/part-00187\n",
      "-rw-r--r--   3 roskarr supergroup   14923596 2015-06-18 18:36 /user/roskarr/gutenberg/cleaned_rdd/part-00188\n",
      "-rw-r--r--   3 roskarr supergroup   17694052 2015-06-18 18:36 /user/roskarr/gutenberg/cleaned_rdd/part-00189\n",
      "-rw-r--r--   3 roskarr supergroup   12916943 2015-06-18 18:36 /user/roskarr/gutenberg/cleaned_rdd/part-00190\n",
      "-rw-r--r--   3 roskarr supergroup   16893994 2015-06-18 18:36 /user/roskarr/gutenberg/cleaned_rdd/part-00191\n",
      "-rw-r--r--   3 roskarr supergroup   14610300 2015-06-18 18:36 /user/roskarr/gutenberg/cleaned_rdd/part-00192\n",
      "-rw-r--r--   3 roskarr supergroup   17128107 2015-06-18 18:36 /user/roskarr/gutenberg/cleaned_rdd/part-00193\n",
      "-rw-r--r--   3 roskarr supergroup   20560430 2015-06-18 18:36 /user/roskarr/gutenberg/cleaned_rdd/part-00194\n",
      "-rw-r--r--   3 roskarr supergroup   16992331 2015-06-18 18:36 /user/roskarr/gutenberg/cleaned_rdd/part-00195\n",
      "-rw-r--r--   3 roskarr supergroup   21756140 2015-06-18 18:36 /user/roskarr/gutenberg/cleaned_rdd/part-00196\n",
      "-rw-r--r--   3 roskarr supergroup   25968318 2015-06-18 18:36 /user/roskarr/gutenberg/cleaned_rdd/part-00197\n",
      "-rw-r--r--   3 roskarr supergroup   19167653 2015-06-18 18:36 /user/roskarr/gutenberg/cleaned_rdd/part-00198\n",
      "-rw-r--r--   3 roskarr supergroup   19103224 2015-06-18 18:36 /user/roskarr/gutenberg/cleaned_rdd/part-00199\n"
     ]
    },
    {
     "name": "stderr",
     "output_type": "stream",
     "text": [
      "Picked up _JAVA_OPTIONS: -XX:ParallelGCThreads=1\n",
      "15/06/18 18:36:32 WARN util.NativeCodeLoader: Unable to load native-hadoop library for your platform... using builtin-java classes where applicable\n"
     ]
    }
   ],
   "source": [
    "%%bash\n",
    "hadoop fs -ls /user/roskarr/gutenberg/cleaned_rdd"
   ]
  },
  {
   "cell_type": "markdown",
   "metadata": {},
   "source": [
    "## Processing the data\n",
    "\n",
    "We're finished with the basic pre-processing. Our `cleaned_rdd` contains `gid`'s as keys and text as values. If we want some other piece of metadata, we can just call the `get_metadata` function inside a `map` to extract it. "
   ]
  },
  {
   "cell_type": "markdown",
   "metadata": {},
   "source": [
    "### Histogram of book years\n",
    "Now we're ready to start asking some questions of the data. To begin with, lets do a simple histogram of the year distribution of the books. Since we don't have original publication dates, we just use the simple formula: \n",
    "\n",
    "$year = max\\left((year_{birth} + year_{death})/2, year_{birth} + offset\\right)$, \n",
    "\n",
    "where $offset$ is a number drawn from a gaussian centered on 40 with a $\\sigma$ of 5 years. This means that we assume most people write their books around 40. ;)"
   ]
  },
  {
   "cell_type": "code",
   "execution_count": 96,
   "metadata": {
    "collapsed": false
   },
   "outputs": [],
   "source": [
    "def publication_year(meta) : \n",
    "    birth_year = int(meta['birth_year'])\n",
    "    if meta['death_year'] is None : \n",
    "        return int(meta['birth_year']) + 30\n",
    "    else :\n",
    "        death_year = int(meta['death_year'])\n",
    "        return max((birth_year + death_year) / 2.0, birth_year+np.random.normal(40,5))"
   ]
  },
  {
   "cell_type": "code",
   "execution_count": 101,
   "metadata": {
    "collapsed": true
   },
   "outputs": [],
   "source": [
    "year_rdd = cleaned_rdd.map(lambda (gid, text): publication_year(get_metadata(gid))).cache()"
   ]
  },
  {
   "cell_type": "markdown",
   "metadata": {},
   "source": [
    "The histogram function actually already exists in the Spark API (but it didn't use to!). However, for fun we will write our own. Calculating the histogram can be split up into two parts. First, we need to figure out which bin each value corresponds to: \n",
    "\n",
    "1. take bins and a value as input\n",
    "2. calculate the bin that the value maps to and return (`bin`, 1) pair\n",
    "\n",
    "Second, we need to do a simple `reduceByKey` where we just add up all the values belonging to each bin. "
   ]
  },
  {
   "cell_type": "code",
   "execution_count": 102,
   "metadata": {
    "collapsed": true
   },
   "outputs": [],
   "source": [
    "from bisect import bisect_right\n",
    "import numpy as np\n",
    "def get_bin(bin_edges, value) : \n",
    "    return bisect_right(bin_edges, value) - 1"
   ]
  },
  {
   "cell_type": "code",
   "execution_count": 103,
   "metadata": {
    "collapsed": true
   },
   "outputs": [],
   "source": [
    "def histogram(rdd, nbins = 100, min_val=None, max_val=None) :\n",
    "    # if either min_val or max_val are missing, get them from the data\n",
    "    if min_val is None : \n",
    "        min_val = rdd.min()\n",
    "    if max_val is None : \n",
    "        max_val = rdd.max()\n",
    "        \n",
    "    bin_edges = np.linspace(min_val,max_val,nbins+1)\n",
    "    \n",
    "    binned_rdd = rdd.map(lambda x: get_bin(bin_edges, x))\n",
    "    \n",
    "    res = binned_rdd.countByValue()\n",
    "    \n",
    "    # This is a sparse result -- turn into a dense vector for plotting: \n",
    "    res_full = np.zeros(nbins)\n",
    "    overflow = 0\n",
    "    for item in res.iteritems() : \n",
    "        if item[0] > len(res_full)-1 : overflow += item[1]\n",
    "        else: res_full[item[0]] = item[1]\n",
    "    res_full[-1] += overflow\n",
    "    \n",
    "    return .5*(bin_edges[:-1]+bin_edges[1:]), res_full"
   ]
  },
  {
   "cell_type": "code",
   "execution_count": 110,
   "metadata": {
    "collapsed": false
   },
   "outputs": [
    {
     "name": "stdout",
     "output_type": "stream",
     "text": [
      "CPU times: user 51 ms, sys: 7 ms, total: 58 ms\n",
      "Wall time: 900 ms\n"
     ]
    }
   ],
   "source": [
    "%%time \n",
    "res = histogram(year_rdd, min_val = 1600)"
   ]
  },
  {
   "cell_type": "code",
   "execution_count": 109,
   "metadata": {
    "collapsed": false
   },
   "outputs": [
    {
     "data": {
      "text/plain": [
       "[<matplotlib.lines.Line2D at 0x2b044ef0a310>]"
      ]
     },
     "execution_count": 109,
     "metadata": {},
     "output_type": "execute_result"
    },
    {
     "data": {
      "image/png": "[encoded data removed]",
      "text/plain": [
       "<matplotlib.figure.Figure at 0x2b044ee65d50>"
      ]
     },
     "metadata": {},
     "output_type": "display_data"
    }
   ],
   "source": [
    "plt.plot(res[0], res[1])"
   ]
  },
  {
   "cell_type": "markdown",
   "metadata": {},
   "source": [
    "## Construct a corpus-wide vocabulary\n",
    "We could have done the above histogram without ever invoking a distributed processing framework of course by simply extracting the years from the metadata. The text body of each data element is where the bulk of the data volume lies. \n",
    "\n",
    "To construct a corpus wide vocabulary, we have to deconstruct each document into a list of words and then extract the unique words from the entire data set. If our dataset fit into memory of a single machine, this is a simple set operation. But what if it doesn't? \n",
    "\n",
    "We'll assume this is the case and instead of converting each `gid,text` pair into a `gid,list_of_words` pair, we will simply construct one RDD of words. Here we aren't necessarily interested in preserving the provenance of words, but just finding the unique words in the whole corpus. \n",
    "\n",
    "1. map the entire RDD of text into an RDD of single words\n",
    "2. use the `distinct` method of the resulting RDD to transform it into an RDD with only unique words"
   ]
  },
  {
   "cell_type": "code",
   "execution_count": 116,
   "metadata": {
    "collapsed": true
   },
   "outputs": [],
   "source": [
    "distinct_rdd = cleaned_rdd.flatMap(lambda (gid, text): text.split()).distinct()"
   ]
  },
  {
   "cell_type": "code",
   "execution_count": 117,
   "metadata": {
    "collapsed": false
   },
   "outputs": [
    {
     "name": "stdout",
     "output_type": "stream",
     "text": [
      "Number of unique words:  2805049\n"
     ]
    }
   ],
   "source": [
    "print \"Number of unique words: \", distinct_rdd.count()"
   ]
  },
  {
   "cell_type": "code",
   "execution_count": 124,
   "metadata": {
    "collapsed": true
   },
   "outputs": [],
   "source": [
    "word_count = (cleaned_rdd.flatMap(lambda (gid, text): [(word,1) for word in text.split()])\n",
    "                         .reduceByKey(lambda a,b: a+b)\n",
    "                         .sortBy(lambda (word, count): count, False))"
   ]
  },
  {
   "cell_type": "code",
   "execution_count": 125,
   "metadata": {
    "collapsed": false
   },
   "outputs": [
    {
     "data": {
      "text/plain": [
       "[('the', 47035036),\n",
       " ('of', 25973952),\n",
       " ('and', 24212041),\n",
       " ('to', 20546246),\n",
       " ('a', 15731834),\n",
       " ('in', 13394565),\n",
       " ('that', 9063159),\n",
       " ('i', 8370910),\n",
       " ('he', 8367365),\n",
       " ('was', 8131835),\n",
       " ('it', 7657038),\n",
       " ('his', 6919891),\n",
       " ('with', 6272850),\n",
       " ('for', 5850743),\n",
       " ('as', 5774070),\n",
       " ('is', 5769890),\n",
       " ('you', 5413220),\n",
       " ('had', 5075729),\n",
       " ('not', 4668707),\n",
       " ('her', 4372450),\n",
       " ('at', 4368744),\n",
       " ('be', 4363714),\n",
       " ('but', 4358541),\n",
       " ('on', 4172546),\n",
       " ('by', 3914924),\n",
       " ('this', 3744877),\n",
       " ('which', 3597949),\n",
       " ('she', 3554704),\n",
       " ('have', 3436484),\n",
       " ('from', 3281687),\n",
       " ('or', 3192292),\n",
       " ('him', 3102583),\n",
       " ('they', 3084159),\n",
       " ('all', 3069227),\n",
       " ('my', 2733775),\n",
       " ('were', 2673387),\n",
       " ('are', 2478379),\n",
       " ('so', 2449712),\n",
       " ('we', 2443400),\n",
       " ('one', 2348789),\n",
       " ('me', 2296231),\n",
       " ('an', 2257107),\n",
       " ('their', 2219106),\n",
       " ('no', 2122726),\n",
       " ('if', 2117104),\n",
       " ('there', 2063181),\n",
       " ('would', 1969250),\n",
       " ('who', 1964489),\n",
       " ('when', 1900255),\n",
       " ('been', 1882207),\n",
       " ('said', 1873861),\n",
       " ('them', 1873651),\n",
       " ('will', 1726314),\n",
       " ('what', 1636290),\n",
       " ('more', 1492414),\n",
       " ('out', 1461575),\n",
       " ('do', 1446209),\n",
       " ('up', 1415491),\n",
       " ('any', 1413593),\n",
       " ('its', 1354328),\n",
       " ('then', 1338225),\n",
       " ('into', 1323182),\n",
       " ('could', 1304491),\n",
       " ('your', 1304473),\n",
       " ('some', 1266107),\n",
       " ('now', 1251419),\n",
       " ('has', 1245323),\n",
       " ('man', 1213607),\n",
       " ('very', 1207237),\n",
       " ('than', 1197935),\n",
       " ('our', 1186378),\n",
       " ('other', 1172629),\n",
       " ('about', 1147520),\n",
       " ('upon', 1136680),\n",
       " ('time', 1125220),\n",
       " ('only', 1099974),\n",
       " ('little', 1047679),\n",
       " ('may', 1030505),\n",
       " ('like', 1025455),\n",
       " ('did', 985142),\n",
       " ('can', 976552),\n",
       " ('these', 970042),\n",
       " ('such', 966330),\n",
       " ('should', 924631),\n",
       " ('great', 924447),\n",
       " ('before', 922113),\n",
       " ('see', 911362),\n",
       " ('must', 909664),\n",
       " ('after', 903807),\n",
       " ('made', 900391),\n",
       " ('us', 900060),\n",
       " ('two', 890678),\n",
       " ('well', 862968),\n",
       " ('project', 838213),\n",
       " ('over', 833890),\n",
       " ('much', 831413),\n",
       " ('know', 825968),\n",
       " ('work', 811696),\n",
       " ('how', 799806),\n",
       " ('first', 788794)]"
      ]
     },
     "execution_count": 125,
     "metadata": {},
     "output_type": "execute_result"
    }
   ],
   "source": [
    "word_count.take(100)"
   ]
  },
  {
   "cell_type": "markdown",
   "metadata": {},
   "source": [
    "Now lets exclude the most trivial words (stop words): "
   ]
  },
  {
   "cell_type": "code",
   "execution_count": 130,
   "metadata": {
    "collapsed": true
   },
   "outputs": [],
   "source": [
    "ENGLISH_STOP_WORDS = frozenset([\n",
    "    \"a\", \"about\", \"above\", \"across\", \"after\", \"afterwards\", \"again\", \"against\",\n",
    "    \"all\", \"almost\", \"alone\", \"along\", \"already\", \"also\", \"although\", \"always\",\n",
    "    \"am\", \"among\", \"amongst\", \"amoungst\", \"amount\", \"an\", \"and\", \"another\",\n",
    "    \"any\", \"anyhow\", \"anyone\", \"anything\", \"anyway\", \"anywhere\", \"are\",\n",
    "    \"around\", \"as\", \"at\", \"back\", \"be\", \"became\", \"because\", \"become\",\n",
    "    \"becomes\", \"becoming\", \"been\", \"before\", \"beforehand\", \"behind\", \"being\",\n",
    "    \"below\", \"beside\", \"besides\", \"between\", \"beyond\", \"bill\", \"both\",\n",
    "    \"bottom\", \"but\", \"by\", \"call\", \"can\", \"cannot\", \"cant\", \"co\", \"con\",\n",
    "    \"could\", \"couldnt\", \"cry\", \"de\", \"describe\", \"detail\", \"do\", \"done\",\n",
    "    \"down\", \"due\", \"during\", \"each\", \"eg\", \"eight\", \"either\", \"eleven\", \"else\",\n",
    "    \"elsewhere\", \"empty\", \"enough\", \"etc\", \"even\", \"ever\", \"every\", \"everyone\",\n",
    "    \"everything\", \"everywhere\", \"except\", \"few\", \"fifteen\", \"fify\", \"fill\",\n",
    "    \"find\", \"fire\", \"first\", \"five\", \"for\", \"former\", \"formerly\", \"forty\",\n",
    "    \"found\", \"four\", \"from\", \"front\", \"full\", \"further\", \"get\", \"give\", \"go\",\n",
    "    \"had\", \"has\", \"hasnt\", \"have\", \"he\", \"hence\", \"her\", \"here\", \"hereafter\",\n",
    "    \"hereby\", \"herein\", \"hereupon\", \"hers\", \"herself\", \"him\", \"himself\", \"his\",\n",
    "    \"how\", \"however\", \"hundred\", \"i\", \"ie\", \"if\", \"in\", \"inc\", \"indeed\",\n",
    "    \"interest\", \"into\", \"is\", \"it\", \"its\", \"itself\", \"keep\", \"last\", \"latter\",\n",
    "    \"latterly\", \"least\", \"less\", \"ltd\", \"made\", \"many\", \"may\", \"me\",\n",
    "    \"meanwhile\", \"might\", \"mill\", \"mine\", \"more\", \"moreover\", \"most\", \"mostly\",\n",
    "    \"move\", \"much\", \"must\", \"my\", \"myself\", \"name\", \"namely\", \"neither\",\n",
    "    \"never\", \"nevertheless\", \"next\", \"nine\", \"no\", \"nobody\", \"none\", \"noone\",\n",
    "    \"nor\", \"not\", \"nothing\", \"now\", \"nowhere\", \"of\", \"off\", \"often\", \"on\",\n",
    "    \"once\", \"one\", \"only\", \"onto\", \"or\", \"other\", \"others\", \"otherwise\", \"our\",\n",
    "    \"ours\", \"ourselves\", \"out\", \"over\", \"own\", \"part\", \"per\", \"perhaps\",\n",
    "    \"please\", \"put\", \"rather\", \"re\", \"same\", \"see\", \"seem\", \"seemed\",\n",
    "    \"seeming\", \"seems\", \"serious\", \"several\", \"she\", \"should\", \"show\", \"side\",\n",
    "    \"since\", \"sincere\", \"six\", \"sixty\", \"so\", \"some\", \"somehow\", \"someone\",\n",
    "    \"something\", \"sometime\", \"sometimes\", \"somewhere\", \"still\", \"such\",\n",
    "    \"system\", \"take\", \"ten\", \"than\", \"that\", \"the\", \"their\", \"them\",\n",
    "    \"themselves\", \"then\", \"thence\", \"there\", \"thereafter\", \"thereby\",\n",
    "    \"therefore\", \"therein\", \"thereupon\", \"these\", \"they\", \"thick\", \"thin\",\n",
    "    \"third\", \"this\", \"those\", \"though\", \"three\", \"through\", \"throughout\",\n",
    "    \"thru\", \"thus\", \"to\", \"together\", \"too\", \"top\", \"toward\", \"towards\",\n",
    "    \"twelve\", \"twenty\", \"two\", \"un\", \"under\", \"until\", \"up\", \"upon\", \"us\",\n",
    "    \"very\", \"via\", \"was\", \"we\", \"well\", \"were\", \"what\", \"whatever\", \"when\",\n",
    "    \"whence\", \"whenever\", \"where\", \"whereafter\", \"whereas\", \"whereby\",\n",
    "    \"wherein\", \"whereupon\", \"wherever\", \"whether\", \"which\", \"while\", \"whither\",\n",
    "    \"who\", \"whoever\", \"whole\", \"whom\", \"whose\", \"why\", \"will\", \"with\",\n",
    "    \"within\", \"without\", \"would\", \"yet\", \"you\", \"your\", \"yours\", \"yourself\",\n",
    "    \"yourselves\"])"
   ]
  },
  {
   "cell_type": "code",
   "execution_count": 134,
   "metadata": {
    "collapsed": true
   },
   "outputs": [],
   "source": [
    "word_count = (cleaned_rdd.flatMap(lambda (gid, text): [(word,1) for word in text.split() if word not in ENGLISH_STOP_WORDS])\n",
    "                         .reduceByKey(lambda a,b: a+b)\n",
    "                         .sortBy(lambda (word, count): count, False))"
   ]
  },
  {
   "cell_type": "markdown",
   "metadata": {},
   "source": [
    "## Reduces, Shuffles, and Partitioning\n",
    "During a `reduceByKey`, or any other reduction for that matter, data must be shuffled around the cluster and combined. By default, this is done in an intelligent way by first reducing values locally on each partition, and then combining the results of the partitions. Still, as is the case here, for common keys, every partition will have to send its results to others. This can result in a lot of temporary file IO if the data that needs to be communicated can't all be held in memory on all of the executors. \n",
    "\n",
    "One way around this is to partition the data ahead of time so that the same keys land on the same partition by design. This results in much less data needing to be shipped around the network and can improve the performance. Of course, at the cost of an expensive initial shuffle! But if many reductions have to be done on the same data, it might be worth it. "
   ]
  },
  {
   "cell_type": "code",
   "execution_count": 146,
   "metadata": {
    "collapsed": true
   },
   "outputs": [],
   "source": [
    "word_rdd = cleaned_rdd.flatMap(lambda (gid, text): [(word,1) for word in text.split() if word not in ENGLISH_STOP_WORDS]).cache()"
   ]
  },
  {
   "cell_type": "code",
   "execution_count": 147,
   "metadata": {
    "collapsed": false
   },
   "outputs": [
    {
     "data": {
      "text/plain": [
       "323043148"
      ]
     },
     "execution_count": 147,
     "metadata": {},
     "output_type": "execute_result"
    }
   ],
   "source": [
    "word_rdd.count()"
   ]
  },
  {
   "cell_type": "code",
   "execution_count": 151,
   "metadata": {
    "collapsed": false
   },
   "outputs": [
    {
     "data": {
      "text/plain": [
       "323043148"
      ]
     },
     "execution_count": 151,
     "metadata": {},
     "output_type": "execute_result"
    }
   ],
   "source": [
    "par = word_rdd.partitionBy(200, lambda x: hash(x)%200).cache()\n",
    "par.count()"
   ]
  },
  {
   "cell_type": "code",
   "execution_count": 152,
   "metadata": {
    "collapsed": false
   },
   "outputs": [
    {
     "name": "stdout",
     "output_type": "stream",
     "text": [
      "CPU times: user 55 ms, sys: 12 ms, total: 67 ms\n",
      "Wall time: 25.2 s\n"
     ]
    },
    {
     "data": {
      "text/plain": [
       "2804732"
      ]
     },
     "execution_count": 152,
     "metadata": {},
     "output_type": "execute_result"
    }
   ],
   "source": [
    "%%time\n",
    "word_rdd.reduceByKey(lambda a,b: a+b).count()"
   ]
  },
  {
   "cell_type": "code",
   "execution_count": 153,
   "metadata": {
    "collapsed": false
   },
   "outputs": [
    {
     "name": "stdout",
     "output_type": "stream",
     "text": [
      "CPU times: user 57 ms, sys: 5 ms, total: 62 ms\n",
      "Wall time: 16.8 s\n"
     ]
    },
    {
     "data": {
      "text/plain": [
       "2804732"
      ]
     },
     "execution_count": 153,
     "metadata": {},
     "output_type": "execute_result"
    }
   ],
   "source": [
    "%%time\n",
    "par.reduceByKey(lambda a,b: a+b).count()"
   ]
  },
  {
   "cell_type": "code",
   "execution_count": null,
   "metadata": {
    "collapsed": true
   },
   "outputs": [],
   "source": []
  }
 ],
 "metadata": {
  "kernelspec": {
   "display_name": "Python 2",
   "language": "python",
   "name": "python2"
  },
  "language_info": {
   "codemirror_mode": {
    "name": "ipython",
    "version": 2
   },
   "file_extension": ".py",
   "mimetype": "text/x-python",
   "name": "python",
   "nbconvert_exporter": "python",
   "pygments_lexer": "ipython2",
   "version": "2.7.10"
  }
 },
 "nbformat": 4,
 "nbformat_minor": 0
}
