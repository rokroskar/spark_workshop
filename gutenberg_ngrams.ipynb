{
 "cells": [
  {
   "cell_type": "markdown",
   "metadata": {},
   "source": [
    "# Gutenberg N-Grams"
   ]
  },
  {
   "cell_type": "markdown",
   "metadata": {},
   "source": [
    "Start the Spark Context: "
   ]
  },
  {
   "cell_type": "code",
   "execution_count": 1,
   "metadata": {
    "collapsed": true
   },
   "outputs": [],
   "source": [
    "import sys, os\n",
    "os.environ['SPARK_HOME'] = '/Users/rok/spark'\n",
    "os.environ['SPARK_EXECUTOR_MEMORY'] = '2g'\n",
    "sys.path.insert(0, '/Users/rok/spark/python/')\n",
    "sys.path.insert(0, '/Users/rok/spark/python/lib/py4j-0.8.2.1-src.zip')\n",
    "\n",
    "import pyspark"
   ]
  },
  {
   "cell_type": "code",
   "execution_count": 2,
   "metadata": {
    "collapsed": true
   },
   "outputs": [],
   "source": [
    "conf = pyspark.SparkConf()"
   ]
  },
  {
   "cell_type": "code",
   "execution_count": 3,
   "metadata": {
    "collapsed": false
   },
   "outputs": [
    {
     "data": {
      "text/plain": [
       "<pyspark.conf.SparkConf at 0x105404b90>"
      ]
     },
     "execution_count": 3,
     "metadata": {},
     "output_type": "execute_result"
    }
   ],
   "source": [
    "conf.set('spark.executor.memory', '2g')\n",
    "conf.set('spark.driver.memory', '4g')"
   ]
  },
  {
   "cell_type": "code",
   "execution_count": 4,
   "metadata": {
    "collapsed": false
   },
   "outputs": [],
   "source": [
    "sc = pyspark.SparkContext(master = \"local[4]\", conf = conf)"
   ]
  },
  {
   "cell_type": "markdown",
   "metadata": {},
   "source": [
    "## Make a key-value RDD of book metadata and text"
   ]
  },
  {
   "cell_type": "markdown",
   "metadata": {},
   "source": [
    "Getting data into spark from a collection of local files is a very common task. A useful pattern to keep in mind is the following: \n",
    "\n",
    "1. make a list of filenames and distribute it among the workers\n",
    "3. \"map\" each filename to the data you want to get out\n",
    "4. now you are left with the RDD of raw data distributed among the workers!"
   ]
  },
  {
   "cell_type": "markdown",
   "metadata": {},
   "source": [
    "The [`gutenberg_cleanup`](gutenberg_cleanup.py) module contains two functions that can help with this: `get_text` and `get_metadata`.\n",
    "\n",
    "They pretty much do the obvious: \n",
    "\n",
    "`get_metadata` returns a metadata object with various useful fields that will be used to create a unique key for each book\n",
    "\n",
    "`get_text` returns the raw text extracted from HTML, cleaned of tags and punctuation and converted to lower case. "
   ]
  },
  {
   "cell_type": "markdown",
   "metadata": {},
   "source": [
    "### 1. Distributing the filenames"
   ]
  },
  {
   "cell_type": "code",
   "execution_count": 127,
   "metadata": {
    "collapsed": false
   },
   "outputs": [
    {
     "name": "stdout",
     "output_type": "stream",
     "text": [
      "number of books:  5022\n"
     ]
    }
   ],
   "source": [
    "import glob\n",
    "flist = glob.glob('/Users/rok/python_src/gutenberg/dl-cache/*html')\n",
    "print 'number of books: ', len(flist)"
   ]
  },
  {
   "cell_type": "code",
   "execution_count": 6,
   "metadata": {
    "collapsed": true
   },
   "outputs": [],
   "source": [
    "files_rdd = sc.parallelize(flist)"
   ]
  },
  {
   "cell_type": "code",
   "execution_count": 7,
   "metadata": {
    "collapsed": false
   },
   "outputs": [
    {
     "data": {
      "text/plain": [
       "['/Users/rok/python_src/gutenberg/dl-cache/1000.html',\n",
       " '/Users/rok/python_src/gutenberg/dl-cache/1001.html',\n",
       " '/Users/rok/python_src/gutenberg/dl-cache/1002.html',\n",
       " '/Users/rok/python_src/gutenberg/dl-cache/1003.html',\n",
       " '/Users/rok/python_src/gutenberg/dl-cache/1004.html']"
      ]
     },
     "execution_count": 7,
     "metadata": {},
     "output_type": "execute_result"
    }
   ],
   "source": [
    "files_rdd.take(5)"
   ]
  },
  {
   "cell_type": "markdown",
   "metadata": {},
   "source": [
    "### 2. Map the filenames to metadata, text key-value pairs\n",
    "\n",
    "Use the `get_text` and `get_metadata` functions to construct a key,value pair RDD, where `key` is the dictionary returned by `get_metadata`. For the `value` of each `key`,`value` pair use the raw text returned by `get_text`. \n",
    "\n",
    "Hint: in Python, there are many ways to make a string, but a pretty easy one is like this: \n",
    "\n",
    "    \"bla_%s\"%(var)\"\n",
    "\n",
    "where `var` matches the `%s` and is a variable that can be converted to a string. You can include more `%s` (or `%d`, `%f` etc) and more variables in the tuple that follows. "
   ]
  },
  {
   "cell_type": "code",
   "execution_count": 116,
   "metadata": {
    "collapsed": false
   },
   "outputs": [],
   "source": [
    "import gutenberg_cleanup\n",
    "reload(gutenberg_cleanup)\n",
    "from gutenberg_cleanup import get_metadata, get_text, get_gid"
   ]
  },
  {
   "cell_type": "code",
   "execution_count": 22,
   "metadata": {
    "collapsed": false
   },
   "outputs": [],
   "source": [
    "text_rdd = (files_rdd.map(lambda filename: \n",
    "                         (get_metadata(get_gid(filename)), get_text(filename))))"
   ]
  },
  {
   "cell_type": "markdown",
   "metadata": {},
   "source": [
    "So that we don't have to constantly re-load the data off disk, lets cache this RDD: "
   ]
  },
  {
   "cell_type": "code",
   "execution_count": 23,
   "metadata": {
    "collapsed": true
   },
   "outputs": [],
   "source": [
    "# text_rdd.cache()"
   ]
  },
  {
   "cell_type": "markdown",
   "metadata": {},
   "source": [
    "Take a look at the first set of keys:"
   ]
  },
  {
   "cell_type": "code",
   "execution_count": 24,
   "metadata": {
    "collapsed": false
   },
   "outputs": [
    {
     "data": {
      "text/plain": [
       "[{'birth_year': None,\n",
       "  'death_year': None,\n",
       "  'first_name': None,\n",
       "  'gid': 1000,\n",
       "  'last_name': None,\n",
       "  'title': '- No Title -'},\n",
       " {'birth_year': u'1265',\n",
       "  'death_year': u'1321',\n",
       "  'first_name': None,\n",
       "  'gid': 1001,\n",
       "  'last_name': u'Dante Alighieri',\n",
       "  'title': u\"Divine Comedy, Longfellow's Translation, Hell\"},\n",
       " {'birth_year': u'1807',\n",
       "  'death_year': u'1882',\n",
       "  'first_name': None,\n",
       "  'gid': 1002,\n",
       "  'last_name': u'Dante Alighieri',\n",
       "  'title': u\"Divine Comedy, Longfellow's Translation, Purgatory\"},\n",
       " {'birth_year': u'1265',\n",
       "  'death_year': u'1321',\n",
       "  'first_name': None,\n",
       "  'gid': 1003,\n",
       "  'last_name': u'Dante Alighieri',\n",
       "  'title': u\"Divine Comedy, Longfellow's Translation, Paradise\"},\n",
       " {'birth_year': u'1807',\n",
       "  'death_year': u'1882',\n",
       "  'first_name': None,\n",
       "  'gid': 1004,\n",
       "  'last_name': u'Dante Alighieri',\n",
       "  'title': u\"Divine Comedy, Longfellow's Translation, Complete\"},\n",
       " {'birth_year': u'1772',\n",
       "  'death_year': u'1844',\n",
       "  'first_name': None,\n",
       "  'gid': 1005,\n",
       "  'last_name': u'Dante Alighieri',\n",
       "  'title': u\"Divine Comedy, Cary's Translation, Hell\"},\n",
       " {'birth_year': u'1265',\n",
       "  'death_year': u'1321',\n",
       "  'first_name': None,\n",
       "  'gid': 1006,\n",
       "  'last_name': u'Dante Alighieri',\n",
       "  'title': u\"Divine Comedy, Cary's Translation, Purgatory\"},\n",
       " {'birth_year': u'1265',\n",
       "  'death_year': u'1321',\n",
       "  'first_name': None,\n",
       "  'gid': 1007,\n",
       "  'last_name': u'Dante Alighieri',\n",
       "  'title': u\"Divine Comedy, Cary's Translation, Paradise\"},\n",
       " {'birth_year': u'1772',\n",
       "  'death_year': u'1844',\n",
       "  'first_name': None,\n",
       "  'gid': 1008,\n",
       "  'last_name': u'Dante Alighieri',\n",
       "  'title': u\"Divine Comedy, Cary's Translation, Complete\"},\n",
       " {'birth_year': u'1954',\n",
       "  'death_year': None,\n",
       "  'first_name': u'Bruce',\n",
       "  'gid': 101,\n",
       "  'last_name': u'Sterling',\n",
       "  'title': u'The Hacker Crackdown: Law and Disorder on the Electronic Frontier'},\n",
       " {'birth_year': u'1866',\n",
       "  'death_year': u'1946',\n",
       "  'first_name': u'H. G. (Herbert George)',\n",
       "  'gid': 1013,\n",
       "  'last_name': u'Wells',\n",
       "  'title': u'The First Men in the Moon'},\n",
       " {'birth_year': u'1874',\n",
       "  'death_year': u'1940',\n",
       "  'first_name': u'B. M.',\n",
       "  'gid': 1014,\n",
       "  'last_name': u'Bower',\n",
       "  'title': u'The Lure of the Dim Trails'},\n",
       " {'birth_year': u'1823',\n",
       "  'death_year': u'1893',\n",
       "  'first_name': u'Francis',\n",
       "  'gid': 1015,\n",
       "  'last_name': u'Parkman',\n",
       "  'title': u'The Oregon Trail: Sketches of Prairie and Rocky-Mountain Life'},\n",
       " {'birth_year': u'1632',\n",
       "  'death_year': u'1677',\n",
       "  'first_name': u'Benedictus de',\n",
       "  'gid': 1016,\n",
       "  'last_name': u'Spinoza',\n",
       "  'title': u'On the Improvement of the Understanding'},\n",
       " {'birth_year': u'1854',\n",
       "  'death_year': u'1900',\n",
       "  'first_name': u'Oscar',\n",
       "  'gid': 1017,\n",
       "  'last_name': u'Wilde',\n",
       "  'title': u'The Soul of Man under Socialism'},\n",
       " {'birth_year': u'1818',\n",
       "  'death_year': u'1848',\n",
       "  'first_name': u'Emily',\n",
       "  'gid': 1019,\n",
       "  'last_name': u'Bront\\xeb',\n",
       "  'title': u'Poems by Currer, Ellis, and Acton Bell'},\n",
       " {'birth_year': u'1835',\n",
       "  'death_year': u'1910',\n",
       "  'first_name': u'Mark',\n",
       "  'gid': 102,\n",
       "  'last_name': u'Twain',\n",
       "  'title': u\"The Tragedy of Pudd'nhead Wilson\"},\n",
       " {'birth_year': u'1874',\n",
       "  'death_year': u'1925',\n",
       "  'first_name': u'Amy',\n",
       "  'gid': 1020,\n",
       "  'last_name': u'Lowell',\n",
       "  'title': u'Sword Blades and Poppy Seed'},\n",
       " {'birth_year': u'1879',\n",
       "  'death_year': u'1931',\n",
       "  'first_name': u'Vachel',\n",
       "  'gid': 1021,\n",
       "  'last_name': u'Lindsay',\n",
       "  'title': u'The Congo, and Other Poems'},\n",
       " {'birth_year': u'1817',\n",
       "  'death_year': u'1862',\n",
       "  'first_name': u'Henry David',\n",
       "  'gid': 1022,\n",
       "  'last_name': u'Thoreau',\n",
       "  'title': u'Walking'},\n",
       " {'birth_year': u'1812',\n",
       "  'death_year': u'1870',\n",
       "  'first_name': u'Charles',\n",
       "  'gid': 1023,\n",
       "  'last_name': u'Dickens',\n",
       "  'title': u'Bleak House'},\n",
       " {'birth_year': u'1868',\n",
       "  'death_year': u'1947',\n",
       "  'first_name': u'Lloyd',\n",
       "  'gid': 1024,\n",
       "  'last_name': u'Osbourne',\n",
       "  'title': u'The Wrecker'},\n",
       " {'birth_year': u'1753',\n",
       "  'death_year': u'1814',\n",
       "  'first_name': u'Graf von Rumford',\n",
       "  'gid': 1025,\n",
       "  'last_name': u'Rumford',\n",
       "  'title': u'Essays; Political, Economical, and Philosophical \\u2014 Volume 1'},\n",
       " {'birth_year': u'1852',\n",
       "  'death_year': u'1919',\n",
       "  'first_name': u'Weedon',\n",
       "  'gid': 1026,\n",
       "  'last_name': u'Grossmith',\n",
       "  'title': u'The Diary of a Nobody'},\n",
       " {'birth_year': u'1872',\n",
       "  'death_year': u'1939',\n",
       "  'first_name': u'Zane',\n",
       "  'gid': 1027,\n",
       "  'last_name': u'Grey',\n",
       "  'title': u'The Lone Star Ranger: A Romance of the Border'},\n",
       " {'birth_year': u'1816',\n",
       "  'death_year': u'1855',\n",
       "  'first_name': u'Charlotte',\n",
       "  'gid': 1028,\n",
       "  'last_name': u'Bront\\xeb',\n",
       "  'title': u'The Professor'},\n",
       " {'birth_year': u'1876',\n",
       "  'death_year': u'1916',\n",
       "  'first_name': u'Jack',\n",
       "  'gid': 1029,\n",
       "  'last_name': u'London',\n",
       "  'title': u'The Night-Born'},\n",
       " {'birth_year': u'1828',\n",
       "  'death_year': u'1905',\n",
       "  'first_name': u'Jules',\n",
       "  'gid': 103,\n",
       "  'last_name': u'Verne',\n",
       "  'title': u'Around the World in Eighty Days'},\n",
       " {'birth_year': u'1814',\n",
       "  'death_year': u'1889',\n",
       "  'first_name': None,\n",
       "  'gid': 1030,\n",
       "  'last_name': None,\n",
       "  'title': u'The Cavalier Songs and Ballads of England from 1642 to 1684'},\n",
       " {'birth_year': u'1854',\n",
       "  'death_year': u'1900',\n",
       "  'first_name': u'Oscar',\n",
       "  'gid': 1031,\n",
       "  'last_name': u'Wilde',\n",
       "  'title': u'Charmides, and Other Poems'},\n",
       " {'birth_year': u'1843',\n",
       "  'death_year': u'1916',\n",
       "  'first_name': u'Henry',\n",
       "  'gid': 1032,\n",
       "  'last_name': u'James',\n",
       "  'title': u'The Pupil'},\n",
       " {'birth_year': u'1856',\n",
       "  'death_year': u'1923',\n",
       "  'first_name': u'Kate Douglas Smith',\n",
       "  'gid': 1033,\n",
       "  'last_name': u'Wiggin',\n",
       "  'title': u\"Rose o' the River\"},\n",
       " {'birth_year': u'1893',\n",
       "  'death_year': u'1918',\n",
       "  'first_name': u'Wilfred',\n",
       "  'gid': 1034,\n",
       "  'last_name': u'Owen',\n",
       "  'title': u'Poems'},\n",
       " {'birth_year': u'1869',\n",
       "  'death_year': u'1935',\n",
       "  'first_name': u'Edwin Arlington',\n",
       "  'gid': 1035,\n",
       "  'last_name': u'Robinson',\n",
       "  'title': u'The Man Against the Sky: A Book of Poems'},\n",
       " {'birth_year': u'1867',\n",
       "  'death_year': u'1922',\n",
       "  'first_name': u'Henry',\n",
       "  'gid': 1036,\n",
       "  'last_name': u'Lawson',\n",
       "  'title': u'Joe Wilson and His Mates'},\n",
       " {'birth_year': u'1819',\n",
       "  'death_year': u'1895',\n",
       "  'first_name': u'Edmund',\n",
       "  'gid': 1037,\n",
       "  'last_name': u'Venables',\n",
       "  'title': u'The Life of John Bunyan'},\n",
       " {'birth_year': u'1861',\n",
       "  'death_year': u'1922',\n",
       "  'first_name': u'Sir Raleigh',\n",
       "  'gid': 1038,\n",
       "  'last_name': u'Raleigh',\n",
       "  'title': u'Style'},\n",
       " {'birth_year': u'1813',\n",
       "  'death_year': u'1873',\n",
       "  'first_name': u'David',\n",
       "  'gid': 1039,\n",
       "  'last_name': u'Livingstone',\n",
       "  'title': u'Missionary Travels and Researches in South Africa'},\n",
       " {'birth_year': u'1882',\n",
       "  'death_year': u'1945',\n",
       "  'first_name': u'Franklin D. (Franklin Delano)',\n",
       "  'gid': 104,\n",
       "  'last_name': u'Roosevelt',\n",
       "  'title': u'Inaugural Address of Franklin Delano Roosevelt\\r'},\n",
       " {'birth_year': u'1869',\n",
       "  'death_year': u'1935',\n",
       "  'first_name': u'Edwin Arlington',\n",
       "  'gid': 1040,\n",
       "  'last_name': u'Robinson',\n",
       "  'title': u'The Three Taverns: A Book of Poems'},\n",
       " {'birth_year': u'1564',\n",
       "  'death_year': u'1616',\n",
       "  'first_name': u'William',\n",
       "  'gid': 1041,\n",
       "  'last_name': u'Shakespeare',\n",
       "  'title': u\"Shakespeare's Sonnets\"},\n",
       " {'birth_year': u'1828',\n",
       "  'death_year': u'1909',\n",
       "  'first_name': u'George',\n",
       "  'gid': 1042,\n",
       "  'last_name': u'Meredith',\n",
       "  'title': u'A Reading of Life, with Other Poems'},\n",
       " {'birth_year': u'1867',\n",
       "  'death_year': u'1955',\n",
       "  'first_name': u'Joseph',\n",
       "  'gid': 1043,\n",
       "  'last_name': u'McCabe',\n",
       "  'title': u'The Story of Evolution'},\n",
       " {'birth_year': u'1835',\n",
       "  'death_year': u'1910',\n",
       "  'first_name': u'Mark',\n",
       "  'gid': 1044,\n",
       "  'last_name': u'Twain',\n",
       "  'title': u\"Extract from Captain Stormfield's Visit to Heaven\"},\n",
       " {'birth_year': u'1564',\n",
       "  'death_year': u'1616',\n",
       "  'first_name': u'William',\n",
       "  'gid': 1045,\n",
       "  'last_name': u'Shakespeare',\n",
       "  'title': u'Venus and Adonis'},\n",
       " {'birth_year': u'1866',\n",
       "  'death_year': u'1946',\n",
       "  'first_name': u'H. G. (Herbert George)',\n",
       "  'gid': 1046,\n",
       "  'last_name': u'Wells',\n",
       "  'title': u'God, the Invisible King'},\n",
       " {'birth_year': u'1866',\n",
       "  'death_year': u'1946',\n",
       "  'first_name': u'H. G. (Herbert George)',\n",
       "  'gid': 1047,\n",
       "  'last_name': u'Wells',\n",
       "  'title': u'The New Machiavelli'},\n",
       " {'birth_year': u'1852',\n",
       "  'death_year': u'1933',\n",
       "  'first_name': u'Henry',\n",
       "  'gid': 1048,\n",
       "  'last_name': u'Van Dyke',\n",
       "  'title': u'The Ruling Passion: Tales of Nature and Human Nature'},\n",
       " {'birth_year': u'1844',\n",
       "  'death_year': u'1926',\n",
       "  'first_name': u'Martha',\n",
       "  'gid': 1049,\n",
       "  'last_name': u'Summerhayes',\n",
       "  'title': u'Vanished Arizona: Recollections of the Army Life by a New England Woman'},\n",
       " {'birth_year': u'1775',\n",
       "  'death_year': u'1817',\n",
       "  'first_name': u'Jane',\n",
       "  'gid': 105,\n",
       "  'last_name': u'Austen',\n",
       "  'title': u'Persuasion'}]"
      ]
     },
     "execution_count": 24,
     "metadata": {},
     "output_type": "execute_result"
    }
   ],
   "source": [
    "text_rdd.keys().take(50)"
   ]
  },
  {
   "cell_type": "markdown",
   "metadata": {},
   "source": [
    "If you look at just the first few entries it becomes clear that we're going to have to do some quality control here. For example, we probably don't want books with \"None\" as either of the author names, and likewise we have to have the birth date in order to be able to create a time series out of the data in the end. \n",
    "\n",
    "Construct an RDD, as above, except that you filter out all elements that lack a value for `title`, `first_name`, `last_name`, or `birth_year`."
   ]
  },
  {
   "cell_type": "code",
   "execution_count": 27,
   "metadata": {
    "collapsed": true
   },
   "outputs": [],
   "source": [
    "filtered_rdd = (files_rdd.map(lambda filename: (filename, get_metadata(get_gid(filename))))\n",
    "                         .filter(lambda (filename,meta): all([meta[name] is not None for name in ['title', 'first_name', 'last_name', 'birth_year']])))"
   ]
  },
  {
   "cell_type": "code",
   "execution_count": 28,
   "metadata": {
    "collapsed": false,
    "scrolled": false
   },
   "outputs": [
    {
     "data": {
      "text/plain": [
       "[('/Users/rok/python_src/gutenberg/dl-cache/101.html',\n",
       "  {'birth_year': u'1954',\n",
       "   'death_year': None,\n",
       "   'first_name': u'Bruce',\n",
       "   'gid': 101,\n",
       "   'last_name': u'Sterling',\n",
       "   'title': u'The Hacker Crackdown: Law and Disorder on the Electronic Frontier'}),\n",
       " ('/Users/rok/python_src/gutenberg/dl-cache/1013.html',\n",
       "  {'birth_year': u'1866',\n",
       "   'death_year': u'1946',\n",
       "   'first_name': u'H. G. (Herbert George)',\n",
       "   'gid': 1013,\n",
       "   'last_name': u'Wells',\n",
       "   'title': u'The First Men in the Moon'}),\n",
       " ('/Users/rok/python_src/gutenberg/dl-cache/1014.html',\n",
       "  {'birth_year': u'1874',\n",
       "   'death_year': u'1940',\n",
       "   'first_name': u'B. M.',\n",
       "   'gid': 1014,\n",
       "   'last_name': u'Bower',\n",
       "   'title': u'The Lure of the Dim Trails'}),\n",
       " ('/Users/rok/python_src/gutenberg/dl-cache/1015.html',\n",
       "  {'birth_year': u'1823',\n",
       "   'death_year': u'1893',\n",
       "   'first_name': u'Francis',\n",
       "   'gid': 1015,\n",
       "   'last_name': u'Parkman',\n",
       "   'title': u'The Oregon Trail: Sketches of Prairie and Rocky-Mountain Life'}),\n",
       " ('/Users/rok/python_src/gutenberg/dl-cache/1016.html',\n",
       "  {'birth_year': u'1632',\n",
       "   'death_year': u'1677',\n",
       "   'first_name': u'Benedictus de',\n",
       "   'gid': 1016,\n",
       "   'last_name': u'Spinoza',\n",
       "   'title': u'On the Improvement of the Understanding'}),\n",
       " ('/Users/rok/python_src/gutenberg/dl-cache/1017.html',\n",
       "  {'birth_year': u'1854',\n",
       "   'death_year': u'1900',\n",
       "   'first_name': u'Oscar',\n",
       "   'gid': 1017,\n",
       "   'last_name': u'Wilde',\n",
       "   'title': u'The Soul of Man under Socialism'}),\n",
       " ('/Users/rok/python_src/gutenberg/dl-cache/1019.html',\n",
       "  {'birth_year': u'1818',\n",
       "   'death_year': u'1848',\n",
       "   'first_name': u'Emily',\n",
       "   'gid': 1019,\n",
       "   'last_name': u'Bront\\xeb',\n",
       "   'title': u'Poems by Currer, Ellis, and Acton Bell'}),\n",
       " ('/Users/rok/python_src/gutenberg/dl-cache/102.html',\n",
       "  {'birth_year': u'1835',\n",
       "   'death_year': u'1910',\n",
       "   'first_name': u'Mark',\n",
       "   'gid': 102,\n",
       "   'last_name': u'Twain',\n",
       "   'title': u\"The Tragedy of Pudd'nhead Wilson\"}),\n",
       " ('/Users/rok/python_src/gutenberg/dl-cache/1020.html',\n",
       "  {'birth_year': u'1874',\n",
       "   'death_year': u'1925',\n",
       "   'first_name': u'Amy',\n",
       "   'gid': 1020,\n",
       "   'last_name': u'Lowell',\n",
       "   'title': u'Sword Blades and Poppy Seed'}),\n",
       " ('/Users/rok/python_src/gutenberg/dl-cache/1021.html',\n",
       "  {'birth_year': u'1879',\n",
       "   'death_year': u'1931',\n",
       "   'first_name': u'Vachel',\n",
       "   'gid': 1021,\n",
       "   'last_name': u'Lindsay',\n",
       "   'title': u'The Congo, and Other Poems'})]"
      ]
     },
     "execution_count": 28,
     "metadata": {},
     "output_type": "execute_result"
    }
   ],
   "source": [
    "filtered_rdd.take(10)"
   ]
  },
  {
   "cell_type": "markdown",
   "metadata": {},
   "source": [
    "How many do we have left? "
   ]
  },
  {
   "cell_type": "code",
   "execution_count": 207,
   "metadata": {
    "collapsed": false
   },
   "outputs": [
    {
     "name": "stdout",
     "output_type": "stream",
     "text": [
      "number of books after filtering:  3247\n"
     ]
    }
   ],
   "source": [
    "print 'number of books after filtering: ', filtered_rdd.count()"
   ]
  },
  {
   "cell_type": "markdown",
   "metadata": {},
   "source": [
    "Some of the books end up in multiple files, but they should all have the same gid. \n",
    "\n",
    "To check for this we will use one of the most basic and common Map/Reduce patterns: \n",
    "\n",
    "* map the data into `key`,`value` pairs where `key` is the quantity we want to count and `value` is just 1. \n",
    "* invoke a reduction *by key*, where the reduction operator is a simple addition\n",
    "\n",
    "Finally, we will sort the result and print out the first few elements to check whether we have to worry about documents spanning multiple files or not. \n",
    "\n",
    "The RDD operations that are needed are [`reduceByKey`](http://spark.apache.org/docs/latest/api/python/pyspark.html#pyspark.RDD.reduceByKey) and [sortBy](http://spark.apache.org/docs/latest/api/python/pyspark.html#pyspark.RDD.sortBy).\n",
    "\n",
    "For the `keyFunc` of the call to `sortBy`, use a `lambda` function that extracts the counts obtained from the `reduceByKey`. "
   ]
  },
  {
   "cell_type": "code",
   "execution_count": 29,
   "metadata": {
    "collapsed": true
   },
   "outputs": [],
   "source": [
    "from operator import add"
   ]
  },
  {
   "cell_type": "code",
   "execution_count": 30,
   "metadata": {
    "collapsed": false
   },
   "outputs": [
    {
     "data": {
      "text/plain": [
       "[(3772, 40),\n",
       " (3332, 33),\n",
       " (3425, 23),\n",
       " (2440, 16),\n",
       " (4022, 5),\n",
       " (1079, 2),\n",
       " (2048, 1),\n",
       " (3072, 1),\n",
       " (4228, 1),\n",
       " (68, 1),\n",
       " (2056, 1),\n",
       " (4780, 1),\n",
       " (12, 1),\n",
       " (4092, 1),\n",
       " (2064, 1),\n",
       " (3416, 1),\n",
       " (20, 1),\n",
       " (5388, 1),\n",
       " (2072, 1),\n",
       " (3076, 1)]"
      ]
     },
     "execution_count": 30,
     "metadata": {},
     "output_type": "execute_result"
    }
   ],
   "source": [
    "(filtered_rdd.map(lambda (filename, meta): (meta['gid'], 1))\n",
    "             .reduceByKey(add)\n",
    "             .sortBy(lambda (key,count): count, False)\n",
    "             .take(20))"
   ]
  },
  {
   "cell_type": "markdown",
   "metadata": {},
   "source": [
    "Looks like we have a few that are made up of multiple sections. To combine them, we will use `groupByKey` (see warning below) which will result in having an RDD of `gid`'s as keys and lists of filenames for each `gid`. Once we have the lists combined, we will do another `map` to read the actual text. Note that doing this is much cheaper than reading the text first and then combining (if we had used the `text_rdd` from the top of the notebook, for example) because we are only sending around file names rather than all the document data. \n",
    "\n",
    "** warning about `groupByKey` **: this is in general the most expensive of the grouping/accumulating operations because it sends the entire RDD across the network in order to group the values in a list. No local aggregation happens on the partitions. By contrast, `reduceByKey` and `aggregateByKey` do the reductions/aggregations *localy* on each partition first and only then shuffle the data around, resulting in much less traffic. However, since we actually aren't sending much data here and since we only have a few elements that need to be grouped, it's fine to use it for simplicity's sake. In general, however, `groupByKey` likes to cause memory problems and runs very slowly. "
   ]
  },
  {
   "cell_type": "markdown",
   "metadata": {},
   "source": [
    "So, the procedure for doing this final step of pre-processing: \n",
    "\n",
    "1. `map` the `filtered_rdd` to have the `gid` as a key and `filename` as the value\n",
    "2. do `groupByKey`\n",
    "3. `map` the resulting (`gid`,`flist`) key value pair RDD to yield a (`gid`, `<combined text>`) RDD\n",
    "\n",
    "*hint*: the `join` function in the `string` module can combine a list of strings efficiently. \n",
    "*hint2*: `groupByKey` will give you an *iterable* of filenames as a result -- you can use it inside a list comprehension with the `get_text` function "
   ]
  },
  {
   "cell_type": "code",
   "execution_count": 76,
   "metadata": {
    "collapsed": false
   },
   "outputs": [],
   "source": [
    "cleaned_rdd = (filtered_rdd.map(lambda (filename, meta): (meta['gid'], filename))\n",
    "                           .groupByKey()\n",
    "                           .map(lambda (gid,flist): (gid,string.join([get_text(f) for f in flist]))))"
   ]
  },
  {
   "cell_type": "markdown",
   "metadata": {},
   "source": [
    "## Processing the data\n",
    "\n",
    "We're finished with the pre-processing. `cleaned_rdd` contains `gid`'s as keys and text as values. If we want some other piece of metadata, we can just call the `get_metadata` function inside a `map` to extract it. "
   ]
  },
  {
   "cell_type": "markdown",
   "metadata": {},
   "source": [
    "### Histogram of book years\n",
    "Now we're ready to start asking some questions of the data. To begin with, lets do a simple histogram of the year distribution of the books. Since we don't have original publication dates, we just use the simple formula: \n",
    "\n",
    "$year = max\\left((year_{birth} + year_{death})/2, year_{birth} + 30\\right)$. \n",
    "\n",
    "This means that for authors that are still living, we assume they wrote their book at 30.  "
   ]
  },
  {
   "cell_type": "code",
   "execution_count": 118,
   "metadata": {
    "collapsed": false
   },
   "outputs": [],
   "source": [
    "def publication_year(meta) : \n",
    "    birth_year = int(meta['birth_year'])\n",
    "    if meta['death_year'] is None : \n",
    "        return int(meta['birth_year']) + 30\n",
    "    else :\n",
    "        death_year = int(meta['death_year'])\n",
    "        return max((birth_year + death_year) / 2.0, birth_year+30)"
   ]
  },
  {
   "cell_type": "code",
   "execution_count": 125,
   "metadata": {
    "collapsed": true
   },
   "outputs": [],
   "source": [
    "year_rdd = cleaned_rdd.map(lambda (gid, text): publication_year(get_metadata(gid)))"
   ]
  },
  {
   "cell_type": "markdown",
   "metadata": {},
   "source": [
    "The histogram function actually already exists in the Spark API (but it didn't use to!). However, for fun we will write our own. Calculating the histogram can be split up into two parts. First, we need to figure out which bin each value corresponds to: \n",
    "\n",
    "1. take bins and a value as input\n",
    "2. calculate the bin that the value maps to and return (`bin`, 1) pair\n",
    "\n",
    "Second, we need to do a simple `reduceByKey` where we just add up all the values belonging to each bin. "
   ]
  },
  {
   "cell_type": "code",
   "execution_count": 132,
   "metadata": {
    "collapsed": true
   },
   "outputs": [],
   "source": [
    "from bisect import bisect_right\n",
    "import numpy as np\n",
    "def get_bin(bin_edges, value) : \n",
    "    return bisect_right(bin_edges, value) - 1"
   ]
  },
  {
   "cell_type": "code",
   "execution_count": 136,
   "metadata": {
    "collapsed": true
   },
   "outputs": [],
   "source": [
    "def histogram(rdd, nbins = 100, min_val=None, max_val=None) :\n",
    "    # if either min_val or max_val are missing, get them from the data\n",
    "    if min_val is None : \n",
    "        min_val = rdd.min()\n",
    "    if max_val is None : \n",
    "        max_val = rdd.max()\n",
    "        \n",
    "    bin_edges = np.linspace(min_val,max_val,nbins+1)\n",
    "    \n",
    "    binned_rdd = rdd.map(lambda x: get_bin(bin_edges, x))\n",
    "    \n",
    "    res = binned_rdd.countByValue()\n",
    "    \n",
    "    return res, .5*(bin_edges[:-1]+bin_edges[1:])"
   ]
  },
  {
   "cell_type": "code",
   "execution_count": 134,
   "metadata": {
    "collapsed": false
   },
   "outputs": [],
   "source": [
    "res = histogram(year_rdd)"
   ]
  },
  {
   "cell_type": "code",
   "execution_count": null,
   "metadata": {
    "collapsed": true
   },
   "outputs": [],
   "source": []
  },
  {
   "cell_type": "code",
   "execution_count": 135,
   "metadata": {
    "collapsed": false
   },
   "outputs": [
    {
     "data": {
      "text/plain": [
       "defaultdict(<type 'int'>, {0: 1, 3: 1, 15: 1, 16: 1, 42: 3, 44: 1, 67: 1, 70: 2, 73: 2, 77: 6, 78: 127, 79: 1, 80: 3, 81: 12, 82: 74, 83: 11, 84: 13, 85: 23, 86: 43, 87: 39, 88: 40, 89: 69, 90: 98, 91: 443, 92: 432, 93: 811, 94: 707, 95: 508, 96: 43, 97: 18, 98: 9, 99: 8, 100: 1})"
      ]
     },
     "execution_count": 135,
     "metadata": {},
     "output_type": "execute_result"
    }
   ],
   "source": [
    "res"
   ]
  },
  {
   "cell_type": "code",
   "execution_count": null,
   "metadata": {
    "collapsed": true
   },
   "outputs": [],
   "source": [
    "# First figure out which bin each document falls into: \n",
    "    binned = rdd.map(lambda (_,x): get_bins(len(x),binedges))\n",
    "\n",
    "    # Then add up all the bins: \n",
    "    res = binned.countByValue()\n",
    "\n",
    "    # This is a sparse result -- turn into a dense vector for plotting: \n",
    "    res_full = np.zeros(nbins)\n",
    "    overflow = 0\n",
    "    for item in res.iteritems() : \n",
    "        if item[0] > len(res_full)-1 : overflow += item[1]\n",
    "        else: res_full[item[0]] = item[1]\n",
    "    res_full[-1] += overflow\n",
    "    \n",
    "    return bins, res_full\n"
   ]
  }
 ],
 "metadata": {
  "kernelspec": {
   "display_name": "Python 2",
   "language": "python",
   "name": "python2"
  },
  "language_info": {
   "codemirror_mode": {
    "name": "ipython",
    "version": 2
   },
   "file_extension": ".py",
   "mimetype": "text/x-python",
   "name": "python",
   "nbconvert_exporter": "python",
   "pygments_lexer": "ipython2",
   "version": "2.7.10"
  }
 },
 "nbformat": 4,
 "nbformat_minor": 0
}
