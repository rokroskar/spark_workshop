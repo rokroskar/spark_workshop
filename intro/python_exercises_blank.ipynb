{
 "cells": [
  {
   "cell_type": "code",
   "execution_count": null,
   "metadata": {
    "collapsed": false
   },
   "outputs": [],
   "source": [
    "from __future__ import print_function"
   ]
  },
  {
   "cell_type": "markdown",
   "metadata": {},
   "source": [
    "# Python Exercises\n",
    "\n",
    "The purpose of this notebook is to get some practice with the special python concepts that are useful for writing Spark applications. Here we will do them in the (safe) controlled environment of a simple python shell for simpler debugging -- later on we will use these same constructs in the Spark framework. \n",
    "\n",
    "### How to use this notebook\n",
    "You can (and should) execute all the cells in this notebook. Where your input is required, you will see `<FILL>` in the source code with some instructions. Replace those with working code, execute, debug, rinse, repeat. "
   ]
  },
  {
   "cell_type": "markdown",
   "metadata": {},
   "source": [
    "##1.  `map`\n",
    "\n",
    "Use the python `map` function to convert the first and last letter of the string `test_string` to uppercase.\n",
    "\n",
    "*hint*: use the standard string method `split` to create a list of words; then use a `map` to convert the appropriate letters of each word\n",
    "\n",
    "*hint \\#2:* Use `Edit -> Split Cell` to create easily-executable code chunks that you can debug. When they all run individually, you can merge them back together."
   ]
  },
  {
   "cell_type": "code",
   "execution_count": null,
   "metadata": {
    "collapsed": false
   },
   "outputs": [],
   "source": [
    "# From Sun Tzu's Art of War\n",
    "test_string = 'The supreme art of war is to subdue the enemy without fighting.'\n",
    "\n",
    "words = <FILL>\n",
    "\n",
    "def first_last_capitalize(word) : \n",
    "    # first convert the string `word` to a list of characters\n",
    "    l = <FILL>\n",
    "    \n",
    "    # now change the first and last character to uppercase (use the upper() method of a string)\n",
    "    l[0] = <FILL>\n",
    "    l[-1] = <FILL>\n",
    "    \n",
    "    # convert back to a string\n",
    "    return str(\"\".join(l))\n",
    "\n",
    "upper_lower = <FILL>\n",
    "\n",
    "result = \" \".join(upper_lower)\n",
    "print(result)\n",
    "assert(result == 'ThE SupremE ArT OF WaR IS TO SubduE ThE EnemY WithouT Fighting.')"
   ]
  },
  {
   "cell_type": "markdown",
   "metadata": {},
   "source": [
    "## 2. List comprehension and tuples\n",
    "\n",
    "Use a list comprehension to convert the list of words into a list of tuples, where the first element of the tuple is the word and the second element is the word length.\n",
    "\n",
    "\n",
    "*hint:* use the python built-in len() function to get the string length"
   ]
  },
  {
   "cell_type": "code",
   "execution_count": null,
   "metadata": {
    "collapsed": true
   },
   "outputs": [],
   "source": [
    "word_length = <FILL>"
   ]
  },
  {
   "cell_type": "code",
   "execution_count": null,
   "metadata": {
    "collapsed": false
   },
   "outputs": [],
   "source": [
    "print(word_length)\n",
    "assert(word_length == [('The', 3),\n",
    " ('supreme', 7),\n",
    " ('art', 3),\n",
    " ('of', 2),\n",
    " ('war', 3),\n",
    " ('is', 2),\n",
    " ('to', 2),\n",
    " ('subdue', 6),\n",
    " ('the', 3),\n",
    " ('enemy', 5),\n",
    " ('without', 7),\n",
    " ('fighting.', 9)])"
   ]
  },
  {
   "cell_type": "markdown",
   "metadata": {},
   "source": [
    "## 3. `reduce`"
   ]
  },
  {
   "cell_type": "markdown",
   "metadata": {},
   "source": [
    "Compute the average word length in the sentence by: \n",
    "\n",
    "1. mapping the `word_length` list from above to contain just the word lengths\n",
    "2. using `reduce` to sum up the lengths\n",
    "3. dividing by the total number of words"
   ]
  },
  {
   "cell_type": "code",
   "execution_count": null,
   "metadata": {
    "collapsed": true
   },
   "outputs": [],
   "source": [
    "word_counts = <FILL>"
   ]
  },
  {
   "cell_type": "code",
   "execution_count": null,
   "metadata": {
    "collapsed": true
   },
   "outputs": [],
   "source": [
    "total_chars = <FILL>"
   ]
  },
  {
   "cell_type": "code",
   "execution_count": null,
   "metadata": {
    "collapsed": false
   },
   "outputs": [],
   "source": [
    "import numpy as np\n",
    "print(float(total_chars)/len(words))\n",
    "assert(np.allclose(float(total_chars)/len(words),4.33333333333))"
   ]
  },
  {
   "cell_type": "markdown",
   "metadata": {},
   "source": [
    "## 4. Generators\n",
    "\n",
    "Write a generator that returns the words with an even character count into the list `result`. At least two possible solutions! "
   ]
  },
  {
   "cell_type": "code",
   "execution_count": null,
   "metadata": {
    "collapsed": true
   },
   "outputs": [],
   "source": [
    "result = <FILL>"
   ]
  },
  {
   "cell_type": "code",
   "execution_count": null,
   "metadata": {
    "collapsed": false
   },
   "outputs": [],
   "source": [
    "assert(result == ['of', 'is', 'to', 'subdue'])"
   ]
  }
 ],
 "metadata": {
  "kernelspec": {
   "display_name": "Python 2",
   "language": "python",
   "name": "python2"
  },
  "language_info": {
   "codemirror_mode": {
    "name": "ipython",
    "version": 2
   },
   "file_extension": ".py",
   "mimetype": "text/x-python",
   "name": "python",
   "nbconvert_exporter": "python",
   "pygments_lexer": "ipython2",
   "version": "2.7.10"
  }
 },
 "nbformat": 4,
 "nbformat_minor": 0
}
