{
 "cells": [
  {
   "cell_type": "code",
   "execution_count": 14,
   "metadata": {
    "collapsed": true
   },
   "outputs": [],
   "source": [
    "from __future__ import print_function\n",
    "from functools import reduce"
   ]
  },
  {
   "cell_type": "markdown",
   "metadata": {},
   "source": [
    "# Python Exercises\n",
    "\n",
    "The purpose of this notebook is to get some practice with the special python concepts that are useful for writing Spark applications. Here we will do them in the (safe) controlled environment of a simple python shell for simpler debugging -- later on we will use these same constructs in the Spark framework. "
   ]
  },
  {
   "cell_type": "markdown",
   "metadata": {},
   "source": [
    "##1.  `map`\n",
    "\n",
    "Use the python `map` function to convert the first and last letter of the string `test_string` to uppercase.\n",
    "\n",
    "*hint*: use the standard string method `split` to create a list of words; then use a `map` to convert the appropriate letters of each word\n",
    "\n",
    "*hint \\#2:* Use `Edit -> Split Cell` to create easily-executable code chunks that you can debug. When they all run individually, you can merge them back together."
   ]
  },
  {
   "cell_type": "code",
   "execution_count": 4,
   "metadata": {
    "collapsed": false
   },
   "outputs": [
    {
     "name": "stdout",
     "output_type": "stream",
     "text": [
      "ThE SupremE ArT OF WaR IS TO SubduE ThE EnemY WithouT Fighting.\n"
     ]
    }
   ],
   "source": [
    "# From Sun Tzu's Art of War\n",
    "test_string = 'The supreme art of war is to subdue the enemy without fighting.'\n",
    "\n",
    "words = test_string.split()\n",
    "\n",
    "def first_last_capitalize(word) : \n",
    "    # first convert the string `word` to a list of characters\n",
    "    l = list(word)\n",
    "    \n",
    "    # now change the first and last character to uppercase (use the upper() method of a string)\n",
    "    l[0] = l[0].upper()\n",
    "    l[-1] = l[-1].upper()\n",
    "    \n",
    "    # convert back to a string\n",
    "    return str(\"\".join(l))\n",
    "\n",
    "upper_lower = map(first_last_capitalize, test_string.split())\n",
    "\n",
    "result = \" \".join(upper_lower)\n",
    "print(result)\n",
    "assert(result == 'ThE SupremE ArT OF WaR IS TO SubduE ThE EnemY WithouT Fighting.')"
   ]
  },
  {
   "cell_type": "markdown",
   "metadata": {},
   "source": [
    "## 2. List comprehension and tuples\n",
    "\n",
    "Use a list comprehension to convert the list of words into a list of tuples, where the first element of the tuple is the word and the second element is the word length.\n",
    "\n",
    "\n",
    "*hint:* use the python built-in len() function to get the string length"
   ]
  },
  {
   "cell_type": "code",
   "execution_count": 5,
   "metadata": {
    "collapsed": true
   },
   "outputs": [],
   "source": [
    "word_length = [(word, len(word)) for word in words]"
   ]
  },
  {
   "cell_type": "code",
   "execution_count": 6,
   "metadata": {
    "collapsed": false
   },
   "outputs": [
    {
     "name": "stdout",
     "output_type": "stream",
     "text": [
      "[('The', 3), ('supreme', 7), ('art', 3), ('of', 2), ('war', 3), ('is', 2), ('to', 2), ('subdue', 6), ('the', 3), ('enemy', 5), ('without', 7), ('fighting.', 9)]\n"
     ]
    }
   ],
   "source": [
    "print(word_length)\n",
    "assert(word_length == [('The', 3),\n",
    " ('supreme', 7),\n",
    " ('art', 3),\n",
    " ('of', 2),\n",
    " ('war', 3),\n",
    " ('is', 2),\n",
    " ('to', 2),\n",
    " ('subdue', 6),\n",
    " ('the', 3),\n",
    " ('enemy', 5),\n",
    " ('without', 7),\n",
    " ('fighting.', 9)])"
   ]
  },
  {
   "cell_type": "markdown",
   "metadata": {},
   "source": [
    "## 3. `reduce`"
   ]
  },
  {
   "cell_type": "markdown",
   "metadata": {},
   "source": [
    "Compute the average word length in the sentence by first mapping the `word_length` list to contain just the word lengths, then using `reduce` to sum up the lengths, and finally dividing by the total number of words: "
   ]
  },
  {
   "cell_type": "code",
   "execution_count": 7,
   "metadata": {
    "collapsed": true
   },
   "outputs": [],
   "source": [
    "word_counts = map(lambda (word, count): count, word_length)"
   ]
  },
  {
   "cell_type": "code",
   "execution_count": 8,
   "metadata": {
    "collapsed": true
   },
   "outputs": [],
   "source": [
    "total_chars = reduce(lambda a,b: a+b, word_counts)"
   ]
  },
  {
   "cell_type": "code",
   "execution_count": 9,
   "metadata": {
    "collapsed": false
   },
   "outputs": [
    {
     "name": "stdout",
     "output_type": "stream",
     "text": [
      "4.33333333333\n"
     ]
    }
   ],
   "source": [
    "import numpy as np\n",
    "print(float(total_chars)/len(words))\n",
    "assert(np.allclose(float(total_chars)/len(words),4.33333333333))"
   ]
  },
  {
   "cell_type": "markdown",
   "metadata": {},
   "source": [
    "## 4. Generators\n",
    "\n",
    "Write a generator `even_words` that returns the words with an even character count. At least two possible solutions! "
   ]
  },
  {
   "cell_type": "code",
   "execution_count": 10,
   "metadata": {
    "collapsed": true
   },
   "outputs": [],
   "source": [
    "def even_words(words) : \n",
    "    for word in words : \n",
    "        if len(word) % 2 == 0: \n",
    "            yield word"
   ]
  },
  {
   "cell_type": "code",
   "execution_count": 11,
   "metadata": {
    "collapsed": false
   },
   "outputs": [],
   "source": [
    "result = list(even_words(words))"
   ]
  },
  {
   "cell_type": "code",
   "execution_count": 12,
   "metadata": {
    "collapsed": false
   },
   "outputs": [],
   "source": [
    "result2 = list((word for word in words if len(word)%2==0))"
   ]
  },
  {
   "cell_type": "code",
   "execution_count": 13,
   "metadata": {
    "collapsed": false
   },
   "outputs": [],
   "source": [
    "assert(result == result2 == ['of', 'is', 'to', 'subdue'])"
   ]
  }
 ],
 "metadata": {
  "kernelspec": {
   "display_name": "Python 2",
   "language": "python",
   "name": "python2"
  },
  "language_info": {
   "codemirror_mode": {
    "name": "ipython",
    "version": 2
   },
   "file_extension": ".py",
   "mimetype": "text/x-python",
   "name": "python",
   "nbconvert_exporter": "python",
   "pygments_lexer": "ipython2",
   "version": "2.7.10"
  }
 },
 "nbformat": 4,
 "nbformat_minor": 0
}
