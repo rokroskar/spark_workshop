{
 "cells": [
  {
   "cell_type": "code",
   "execution_count": 1,
   "metadata": {
    "collapsed": true
   },
   "outputs": [],
   "source": [
    "from __future__ import print_function\n",
    "%matplotlib inline\n",
    "import matplotlib.pylab as plt\n",
    "import sys, os, glob\n",
    "import numpy as np\n",
    "\n",
    "plt.rcParams['figure.figsize'] = (10,6)\n",
    "plt.rcParams['font.size'] = 18\n",
    "plt.style.use('fivethirtyeight')"
   ]
  },
  {
   "cell_type": "markdown",
   "metadata": {},
   "source": [
    "# Gutenberg N-Grams\n",
    "\n",
    "In this notebook, we will quantitatively explore the text of the [Gutenberg E-Books Project](https://www.gutenberg.org/), a free repository of e-books that are in the public domain. All of the English and German books have been downloaded for this tutorial and a small python package has been made available that allows you to easily parse the text and the associated metadata. "
   ]
  },
  {
   "cell_type": "markdown",
   "metadata": {},
   "source": [
    "## Preprocessing procedure\n",
    "\n",
    "1. Generate `(metadata,text)` RDD from raw data and save in HDFS\n",
    "2. create a metadata lookup table that can be distributed to the workers\n",
    "3. clean the dataset for missing values and repeated entries\n",
    "4. save the final, cleaned dataset to HDFS"
   ]
  },
  {
   "cell_type": "markdown",
   "metadata": {},
   "source": [
    "## Setting up Python and Spark"
   ]
  },
  {
   "cell_type": "markdown",
   "metadata": {},
   "source": [
    "Setting up the spark environment can be a bit of a trial and error procedure. Often you'll need to configure settings (in particular dealing with memory) to fit your cluster and your particular application. Below, we will specify a few of the most important ones -- but you can see the full list in the [Spark Configuration guide](http://spark.apache.org/docs/latest/configuration.html) and if you are using YARN there are critical options also listed under the [YARN deployment guide](http://spark.apache.org/docs/latest/running-on-yarn.html)."
   ]
  },
  {
   "cell_type": "markdown",
   "metadata": {},
   "source": [
    "## Python environment setup\n",
    "\n",
    "First, we need to make sure that the `pyspark` libraries are accessible in this notebook. To do this, we can add them to the library search path: "
   ]
  },
  {
   "cell_type": "code",
   "execution_count": 2,
   "metadata": {
    "collapsed": true
   },
   "outputs": [],
   "source": [
    "import findspark\n",
    "findspark.init()"
   ]
  },
  {
   "cell_type": "markdown",
   "metadata": {},
   "source": [
    "## Runtime settings"
   ]
  },
  {
   "cell_type": "code",
   "execution_count": 3,
   "metadata": {
    "collapsed": false
   },
   "outputs": [],
   "source": [
    "import pyspark\n",
    "from pyspark import SparkConf, SparkContext"
   ]
  },
  {
   "cell_type": "markdown",
   "metadata": {},
   "source": [
    "### Initializing `SparkConf` \n",
    "When starting the Spark runtime through the notebook or inside a script (i.e. when not calling one of the spark scripts like `spark_submit`), you can create a `SparkConf` object that allows you to set up the runtime. This is quite convenient and much more clean and readable than specifying the options on the commandline."
   ]
  },
  {
   "cell_type": "code",
   "execution_count": 4,
   "metadata": {
    "collapsed": true
   },
   "outputs": [],
   "source": [
    "# put the number of executors and cores into variables so we can refer to it later\n",
    "num_execs = 20\n",
    "exec_cores = 4"
   ]
  },
  {
   "cell_type": "code",
   "execution_count": 5,
   "metadata": {
    "collapsed": true
   },
   "outputs": [],
   "source": [
    "# initializing the SparkConf\n",
    "conf = SparkConf()"
   ]
  },
  {
   "cell_type": "markdown",
   "metadata": {},
   "source": [
    "### Executor options\n",
    "\n",
    "The full list of options is very long, but the basic ones you'll *always* want to at least think about are ones pertaining to the basic configuration of the executors: number of executors, memory per executor, and number of cores per executor. \n",
    "\n",
    "A few notes about the memory configuration: the `spark.executor.memory` should not be set to the total memory of the node. Some memory is needed for the OS (including HDFS and other services), and still more is required for the Spark overhead. So in our case here, we have 16 Gb of memory per node but can only use around 12 Gb of this for the executors. Since we need to leave room for 10% YARN overhead, we specify 9 Gb here to be safe. If your executors start dying off for strange reasons, try reducing the memory here. "
   ]
  },
  {
   "cell_type": "code",
   "execution_count": 6,
   "metadata": {
    "collapsed": false
   },
   "outputs": [
    {
     "data": {
      "text/plain": [
       "<pyspark.conf.SparkConf at 0x2b3fb5855110>"
      ]
     },
     "execution_count": 6,
     "metadata": {},
     "output_type": "execute_result"
    }
   ],
   "source": [
    "conf.set('spark.executor.memory', '9g')\n",
    "conf.set('spark.executor.instances', str(num_execs))\n",
    "conf.set('spark.executor.cores', str(exec_cores))"
   ]
  },
  {
   "cell_type": "markdown",
   "metadata": {},
   "source": [
    "### Memory configuration\n",
    "\n",
    "Two other key memory options exist, specifying the amount of executor memory reserved for *cached* data and for *shuffle* data. Depending on what your application is doing, you may need more of one or the other. For example, if you are running a lot of iterative operations on a large dataset, you probably want a good amount of memory for RDD caching. On the other hand, if you are doing lots of expensive shuffles that occur when sorting of grouping by key, you may want more shuffle memory. Note that if either one starts to run low, your application won't crash it will simply spill to disk. This usually isn't as bad as it sounds especially if the OS file cache kicks in. \n",
    "\n",
    "You can check on the cache memory and shuffle memory in two ways while your application is running. In the Spark UI, you can see the cached RDDs under the `Storage` tab - if they start spilling to disk, this is where you will see it. Similarly, if you are running a large shuffle job, you can click on the stage details in the Spark UI and see the shuffle memory and disk statistics. We will check on both of these later on in this application. \n",
    "\n",
    "Here we will set these two options explicitly for completeness, but actually keep the values at their defaults (60%  of the heap for caching, 20% for shuffles). "
   ]
  },
  {
   "cell_type": "code",
   "execution_count": 7,
   "metadata": {
    "collapsed": false
   },
   "outputs": [
    {
     "data": {
      "text/plain": [
       "<pyspark.conf.SparkConf at 0x2b3fb5855110>"
      ]
     },
     "execution_count": 7,
     "metadata": {},
     "output_type": "execute_result"
    }
   ],
   "source": [
    "conf.set('spark.storage.memoryFraction', 0.6)\n",
    "conf.set('spark.shuffle.memoryFraction', 0.2)"
   ]
  },
  {
   "cell_type": "markdown",
   "metadata": {},
   "source": [
    "### Driver memory\n",
    "\n",
    "The amount of memory allocated to the driver program could be crucial if the driver has to deal with a lot of late-stage aggegation products or if you want to collect a significant chunk of data out of the RDD. You can see how much memory has been allocated to the driver either in the Spark Web UI or in the messages printed to the console at initialization. "
   ]
  },
  {
   "cell_type": "code",
   "execution_count": 8,
   "metadata": {
    "collapsed": false
   },
   "outputs": [
    {
     "data": {
      "text/plain": [
       "<pyspark.conf.SparkConf at 0x2b3fb5855110>"
      ]
     },
     "execution_count": 8,
     "metadata": {},
     "output_type": "execute_result"
    }
   ],
   "source": [
    "conf.set('spark.yarn.am.memory', '8g')\n",
    "conf.set('spark.yarn.am.cores', 4)"
   ]
  },
  {
   "cell_type": "markdown",
   "metadata": {},
   "source": [
    "### `PATH` and `PYTHONPATH`\n",
    "\n",
    "In some cases we need to tell the executors explicitly where the non-standard python libraries are located (this includes the spark libraries and seems to be new in Spark 1.4.0 -- a bug?). For this, we set the environment variable `PYTHONPATH`. Any other environment variable can be specified in this way, should it be needed."
   ]
  },
  {
   "cell_type": "code",
   "execution_count": 9,
   "metadata": {
    "collapsed": false
   },
   "outputs": [
    {
     "data": {
      "text/plain": [
       "<pyspark.conf.SparkConf at 0x2b3fb5855110>"
      ]
     },
     "execution_count": 9,
     "metadata": {},
     "output_type": "execute_result"
    }
   ],
   "source": [
    "conf.set('spark.executorEnv.PYTHONPATH', \n",
    "         '/cluster/apps/spark/spark-current/python:/cluster/apps/spark/spark-current/python/lib/py4j-0.8.2.1-src.zip')"
   ]
  },
  {
   "cell_type": "markdown",
   "metadata": {},
   "source": [
    "Since we are using a custom python (miniconda), we also set the `PATH` explicitly: "
   ]
  },
  {
   "cell_type": "code",
   "execution_count": 10,
   "metadata": {
    "collapsed": false
   },
   "outputs": [
    {
     "data": {
      "text/plain": [
       "<pyspark.conf.SparkConf at 0x2b3fb5855110>"
      ]
     },
     "execution_count": 10,
     "metadata": {},
     "output_type": "execute_result"
    }
   ],
   "source": [
    "conf.set('spark.executorEnv.PATH', os.environ['PATH'])"
   ]
  },
  {
   "cell_type": "markdown",
   "metadata": {},
   "source": [
    "### Starting the `SparkContext`\n",
    "This is our entry point to the Spark runtime - it is used to push data into spark or load RDDs from disk etc. "
   ]
  },
  {
   "cell_type": "code",
   "execution_count": 11,
   "metadata": {
    "collapsed": false
   },
   "outputs": [],
   "source": [
    "sc = SparkContext(master = 'yarn-client', conf = conf)"
   ]
  },
  {
   "cell_type": "markdown",
   "metadata": {},
   "source": [
    "If this works successfully, you can check the [YARN application scheduler](http://hadoop.ethz.ch:8088/cluster) and you should see your app listed there. Clicking on the \"Application Master\" link will bring up the familiar Spark Web UI. "
   ]
  },
  {
   "cell_type": "markdown",
   "metadata": {},
   "source": [
    "## Make a key-value RDD of book metadata and text"
   ]
  },
  {
   "cell_type": "markdown",
   "metadata": {},
   "source": [
    "Getting data into spark from a collection of local files is a very common task. A useful pattern to keep in mind is the following: \n",
    "\n",
    "1. make a list of filenames and distribute it among the workers\n",
    "3. \"map\" each filename to the data you want to get out\n",
    "4. now you are left with the RDD of raw data distributed among the workers!"
   ]
  },
  {
   "cell_type": "markdown",
   "metadata": {},
   "source": [
    "In our case of the Gutenberg Project e-book data, we have a directory of `html` files which hold the actual book text, and another directory of associated metadata files (the RDF files). To make your life easier for the purpose of this tutorial, we have made a small python module called `gutenberg_cleanup` that has some handy functions for pulling out the relevant text and metadata out of the raw dataset. \n",
    "\n",
    "The [`gutenberg_cleanup`](gutenberg_cleanup.py) module contains three functions that can help with this: `get_gid`, `get_metadata` and `get_text`.\n",
    "\n",
    "They pretty much do the obvious: \n",
    "\n",
    "`get_gid` takes an html path and pulls out the book ID (`gid`)\n",
    "\n",
    "`get_metadata` takes a `gid` and returns a metadata object with various useful fields that will be used to create a unique key for each book\n",
    "\n",
    "`get_text` takes a path to an html file and returns the raw text extracted from HTML, cleaned of tags and punctuation and converted to lower case. "
   ]
  },
  {
   "cell_type": "markdown",
   "metadata": {},
   "source": [
    "### Initializing the raw dataset using `sc.parallelize`"
   ]
  },
  {
   "cell_type": "code",
   "execution_count": 12,
   "metadata": {
    "collapsed": false
   },
   "outputs": [
    {
     "name": "stdout",
     "output_type": "stream",
     "text": [
      "number of books:  21469\n"
     ]
    }
   ],
   "source": [
    "import glob\n",
    "\n",
    "# get a list of all html files in the data directory\n",
    "flist = glob.glob('/cluster/work/sdid/roskarr/gutenberg/html/*html')\n",
    "print('number of books: ', len(flist))"
   ]
  },
  {
   "cell_type": "markdown",
   "metadata": {},
   "source": [
    "When you use `sc.parallelize` to distribute a dataset across the cluster, you can choose the number of partitions across which to distribute the dataset. The higher the number of partitions, the higher the \"parallelism\". When Spark subsequently executes maps and reduces on this dataset, it does so by dispatching tasks to different executors, which then request the cores under their control to do the actual work. By increasing the number of partitions, you increase the number of tasks - more tasks gives the Spark scheduler more flexibility in distributing the work across the cluster and therefore maximally leveraging the compute resources at its disposal. In some cases, where a single partition might require a lot of memory it can cause `Out of memory` errors - in such cases, simply reducing the amount of data per task by increasing the parallelism can help. \n",
    "\n",
    "Note that as long as the tasks take a few hundred milliseconds the scheduler should have no trouble dispatching them. On the other hand, there is a bit of overhead associated with partitioning the data so you don't want an unreasonably high number of partitions. You can see the [Spark guide](http://spark.apache.org/docs/latest/tuning.html#level-of-parallelism) for a bit more detail. \n",
    "\n",
    "Below, we will choose to use 5 times as many partitions as we have cores in the job. "
   ]
  },
  {
   "cell_type": "code",
   "execution_count": 13,
   "metadata": {
    "collapsed": false
   },
   "outputs": [],
   "source": [
    "files_rdd = sc.parallelize(flist, num_execs*exec_cores*5)"
   ]
  },
  {
   "cell_type": "code",
   "execution_count": 14,
   "metadata": {
    "collapsed": false,
    "scrolled": true
   },
   "outputs": [
    {
     "data": {
      "text/plain": [
       "['/cluster/work/sdid/roskarr/gutenberg/html/1000.html',\n",
       " '/cluster/work/sdid/roskarr/gutenberg/html/10000.html',\n",
       " '/cluster/work/sdid/roskarr/gutenberg/html/10001.html',\n",
       " '/cluster/work/sdid/roskarr/gutenberg/html/10002.html',\n",
       " '/cluster/work/sdid/roskarr/gutenberg/html/10003.html']"
      ]
     },
     "execution_count": 14,
     "metadata": {},
     "output_type": "execute_result"
    }
   ],
   "source": [
    "files_rdd.take(5)"
   ]
  },
  {
   "cell_type": "markdown",
   "metadata": {},
   "source": [
    "### Transforming the list of filenames into a `key,value` pair RDD of metadata and text\n",
    "\n",
    "The raw Gutenberg Project dataset consists of HTML files and files that hold metadata in JSON format. For example: "
   ]
  },
  {
   "cell_type": "code",
   "execution_count": 15,
   "metadata": {
    "collapsed": false
   },
   "outputs": [
    {
     "name": "stdout",
     "output_type": "stream",
     "text": [
      "<?xml version='1.0' encoding='utf-8'?>\r",
      "\r\n",
      "<!DOCTYPE html PUBLIC '-//W3C//DTD XHTML 1.1//EN' 'http://www.w3.org/TR/xhtml11/DTD/xhtml11.dtd'>\r",
      "\r\n",
      "<html xmlns=\"http://www.w3.org/1999/xhtml\">\r",
      "\r\n",
      "  <head><title> </title><meta http-equiv=\"Content-Style-Type\" content=\"text/css\"/><meta http-equiv=\"Content-Type\" content=\"application/xhtml+xml; charset=utf-8\"/><link rel=\"schema.DCTERMS\" href=\"http://purl.org/dc/terms/\"/>\r",
      "\r\n",
      "<link rel=\"schema.MARCREL\" href=\"http://id.loc.gov/vocabulary/relators/\"/>\r",
      "\r\n",
      "<meta content=\"The Magna Carta\" name=\"DCTERMS.title\"/>\r",
      "\r\n",
      "<meta content=\"http://www.gutenberg.orgfiles/10000/10000.txt\" name=\"DCTERMS.source\"/>\r",
      "\r\n",
      "<meta content=\"en\" scheme=\"DCTERMS.RFC4646\" name=\"DCTERMS.language\"/>\r",
      "\r\n",
      "<meta content=\"2015-04-04T04:40:30.599547+00:00\" scheme=\"DCTERMS.W3CDTF\" name=\"DCTERMS.modified\"/>\r",
      "\r\n",
      "<meta content=\"Public domain in the USA.\" name=\"DCTERMS.rights\"/>\r",
      "\r\n"
     ]
    }
   ],
   "source": [
    "!head /cluster/work/sdid/roskarr/gutenberg/html/10000.html"
   ]
  },
  {
   "cell_type": "code",
   "execution_count": 16,
   "metadata": {
    "collapsed": false
   },
   "outputs": [
    {
     "name": "stdout",
     "output_type": "stream",
     "text": [
      "<?xml version=\"1.0\" encoding=\"utf-8\"?>\r\n",
      "<rdf:RDF xml:base=\"http://www.gutenberg.org/\"\r\n",
      "  xmlns:cc=\"http://web.resource.org/cc/\"\r\n",
      "  xmlns:dcterms=\"http://purl.org/dc/terms/\"\r\n",
      "  xmlns:rdfs=\"http://www.w3.org/2000/01/rdf-schema#\"\r\n",
      "  xmlns:pgterms=\"http://www.gutenberg.org/2009/pgterms/\"\r\n",
      "  xmlns:rdf=\"http://www.w3.org/1999/02/22-rdf-syntax-ns#\"\r\n",
      "  xmlns:dcam=\"http://purl.org/dc/dcam/\"\r\n",
      ">\r\n",
      "  <pgterms:ebook rdf:about=\"ebooks/10000\">\r\n"
     ]
    }
   ],
   "source": [
    "!head /cluster/work/sdid/roskarr/gutenberg/rdf-files/10000/pg10000.rdf"
   ]
  },
  {
   "cell_type": "markdown",
   "metadata": {},
   "source": [
    "#### Data Ingestion procedure\n",
    "\n",
    "Our first task is to ingest this dataset by doing the following: \n",
    "\n",
    "1. convert the html into raw text\n",
    "2. deal with special characters, HTML tags, etc.\n",
    "3. match each metadata entry with its corresponding raw text and compose tuples of the type (metadata, text)\n",
    "\n",
    "\n",
    "These three steps are often the first step of any analysis, and can be quite time consuming to get right. For the purposes of this exercise, we have already built the functions needed to perform these operations. They are found in [`gutenberg_cleanup.py`](gutenberg_cleanup.py) if you want to have a look. \n",
    "\n",
    "The important functions are:\n",
    "\n",
    "* `get_gid` -- returns the Gutenberg ID given an html file\n",
    "* `get_text` -- get cleaned, raw text out of an html file\n",
    "* `get_metadata` -- return the metadata given an ID \n",
    "\n",
    "These will be used to construct a `key,value` pair RDD. The `key` will be the dictionary returned by `get_metadata`, while the `value` we will use the raw text returned by `get_text`. "
   ]
  },
  {
   "cell_type": "code",
   "execution_count": 17,
   "metadata": {
    "collapsed": false
   },
   "outputs": [],
   "source": [
    "import gutenberg_cleanup\n",
    "from gutenberg_cleanup import get_metadata, get_text, get_gid"
   ]
  },
  {
   "cell_type": "markdown",
   "metadata": {},
   "source": [
    "To pass the `gutenberg_cleanup` source file to the executors, we will use the `addPyFile` method of the `SparkContext`:"
   ]
  },
  {
   "cell_type": "code",
   "execution_count": 18,
   "metadata": {
    "collapsed": true
   },
   "outputs": [],
   "source": [
    "sc.addPyFile('{cwd}/gutenberg_cleanup.py'.format(cwd=os.getcwd()))"
   ]
  },
  {
   "cell_type": "markdown",
   "metadata": {},
   "source": [
    "Use the `map` method of `files_rdd` to map the filenames to `(metadata, text)` tuples using `get_gid` and `get_text` functions:"
   ]
  },
  {
   "cell_type": "code",
   "execution_count": 19,
   "metadata": {
    "collapsed": true
   },
   "outputs": [],
   "source": [
    "# TODO\n",
    "id_text_rdd = files_rdd.map(lambda filename: (get_gid(filename), get_text(filename)))"
   ]
  },
  {
   "cell_type": "markdown",
   "metadata": {},
   "source": [
    "Now we have (ID, text), and we need to make another `map` to get (`metadata, text`) tuples:"
   ]
  },
  {
   "cell_type": "code",
   "execution_count": 20,
   "metadata": {
    "collapsed": false
   },
   "outputs": [],
   "source": [
    "# TODO\n",
    "text_rdd = (id_text_rdd.map(lambda (ID, text): (get_metadata(ID), text)))"
   ]
  },
  {
   "cell_type": "markdown",
   "metadata": {},
   "source": [
    "So that we don't have to constantly re-load the data off disk, lets cache this RDD: "
   ]
  },
  {
   "cell_type": "code",
   "execution_count": 21,
   "metadata": {
    "collapsed": false
   },
   "outputs": [
    {
     "name": "stdout",
     "output_type": "stream",
     "text": [
      "CPU times: user 61 ms, sys: 9 ms, total: 70 ms\n",
      "Wall time: 2min 4s\n"
     ]
    }
   ],
   "source": [
    "%%time\n",
    "text_rdd.cache()\n",
    "text_rdd.count()"
   ]
  },
  {
   "cell_type": "markdown",
   "metadata": {
    "variables": {
     "UI_url": {}
    }
   },
   "source": [
    "Since we called `count()`, it means that the entire RDD was generated/calculated. This combination of `cache` and `count` is a common way to check how much memory your dataset needs - once `count` completes you can check the memory taken up by the RDD by going to the \"Storage\" tag of the Spark UI. "
   ]
  },
  {
   "cell_type": "markdown",
   "metadata": {},
   "source": [
    "Because the data is cached, next time you try to use `text_rdd` it will be much much quicker. For example, "
   ]
  },
  {
   "cell_type": "code",
   "execution_count": 22,
   "metadata": {
    "collapsed": false
   },
   "outputs": [
    {
     "name": "stdout",
     "output_type": "stream",
     "text": [
      "CPU times: user 37 ms, sys: 8 ms, total: 45 ms\n",
      "Wall time: 25.8 s\n"
     ]
    },
    {
     "data": {
      "text/plain": [
       "21469"
      ]
     },
     "execution_count": 22,
     "metadata": {},
     "output_type": "execute_result"
    }
   ],
   "source": [
    "%%time\n",
    "text_rdd.count()"
   ]
  },
  {
   "cell_type": "code",
   "execution_count": 23,
   "metadata": {
    "collapsed": false
   },
   "outputs": [],
   "source": [
    "#assert(_ == 15081)"
   ]
  },
  {
   "cell_type": "markdown",
   "metadata": {},
   "source": [
    "As an aside, we could call the native python `map` in exactly the same way (and run it on the local machine only), though this would take much longer to complete, i.e. \n",
    "\n",
    "    text = map(lambda f: (get_metadata(get_gid(f)), get_text(f)), flist)"
   ]
  },
  {
   "cell_type": "markdown",
   "metadata": {},
   "source": [
    "## Save the raw dataset to HDFS (or local storage)\n",
    "\n",
    "As a final bit of preparation before continuing with analysis, we save the raw data in a way that makes it faster to access later. We don't want to have to read the data off local disk every time we need to repeat some part of the analysis. Instead, it's much more advantageous to use the Hadoop Distributed File System (HDFS) to store the data once we've read it in and put it in a `key,value` format. \n",
    "\n",
    "By storing the data in HDFS, we make sure that the system can take advantage of data-locality at a later stage in our analysis. "
   ]
  },
  {
   "cell_type": "code",
   "execution_count": 24,
   "metadata": {
    "collapsed": false
   },
   "outputs": [],
   "source": [
    "# TODO\n",
    "text_rdd.saveAsPickleFile('hdfs:///user/roskarr/gutenberg/raw_text_rdd')"
   ]
  },
  {
   "cell_type": "markdown",
   "metadata": {},
   "source": [
    "Now, whenever we need it, we can read the data off the HDFS instead: "
   ]
  },
  {
   "cell_type": "code",
   "execution_count": 25,
   "metadata": {
    "collapsed": true
   },
   "outputs": [],
   "source": [
    "# TODO\n",
    "text_rdd = sc.pickleFile('hdfs:///user/roskarr/gutenberg/raw_text_rdd')"
   ]
  },
  {
   "cell_type": "code",
   "execution_count": 26,
   "metadata": {
    "collapsed": false,
    "scrolled": true
   },
   "outputs": [
    {
     "name": "stdout",
     "output_type": "stream",
     "text": [
      "CPU times: user 44 ms, sys: 9 ms, total: 53 ms\n",
      "Wall time: 6 s\n"
     ]
    },
    {
     "data": {
      "text/plain": [
       "21469"
      ]
     },
     "execution_count": 26,
     "metadata": {},
     "output_type": "execute_result"
    }
   ],
   "source": [
    "%time text_rdd.cache().count()"
   ]
  },
  {
   "cell_type": "markdown",
   "metadata": {},
   "source": [
    "Compare this read time to nearly two minutes it took to read it off the local filesystem initially. If you look at the details for this stage in the Spark UI you can understand why this is: in the column named \"locality level\", you see that for many tasks it says `NODE LOCAL` while for others it might say `RACK LOCAL`. These mean that either the data chunk was physically present on the disk of the node that was reading it in (`NODE LOCAL`) or it was on one of the nodes on the same switch (`RACK LOCAL`). Of course the additional advantage is not having to deal with the filesystem overhead of 10k+ small files.  "
   ]
  },
  {
   "cell_type": "markdown",
   "metadata": {},
   "source": [
    "## A first look at the data"
   ]
  },
  {
   "cell_type": "markdown",
   "metadata": {},
   "source": [
    "Lets have a look at what this RDD looks like -- this is often most easily done using the `first` method of the RDD: "
   ]
  },
  {
   "cell_type": "code",
   "execution_count": 27,
   "metadata": {
    "collapsed": false,
    "scrolled": true
   },
   "outputs": [
    {
     "name": "stdout",
     "output_type": "stream",
     "text": [
      "metadata:  {'lang': u'en', 'first_name': None, 'last_name': None, 'title': '- No Title -', 'downloads': u'243', 'death_year': None, 'gid': 1000, 'birth_year': None}\n",
      "\n",
      "text:  pageno position absolute right font medium sansserif textindent pagenoafter color gray content attrtitle lineno position absolute left font medium sansserif textindent linenoafter color gray content attrtitle tocpageref float right pre fontfamily monospace fontsize em whitespace prewrap in italian with no accentsbit text please see my notes about various versions beneath this header copyright laws are changing all over the world be sure to check the copyright laws for your country before posting these files please take a look at the important information in this header we encourage you to keep this file on your own disk keeping an electronic path open for the next readers do not remove this information on contacting project gutenberg to get etexts and further information is included below we need your donations this file should be named ddcdtxt or ddcdzip versions based on separate sources get new letter ddcdatxt we are now trying to release all our books one month in advance of the of\n"
     ]
    }
   ],
   "source": [
    "# TODO\n",
    "meta, text = text_rdd.first()\n",
    "print('metadata: ', meta)\n",
    "print('\\ntext: ', text[0:1000])"
   ]
  },
  {
   "cell_type": "markdown",
   "metadata": {},
   "source": [
    "Note that the `key` is now a dictionary, and the `value` is the text, as expected. "
   ]
  },
  {
   "cell_type": "markdown",
   "metadata": {},
   "source": [
    "#### First bit of analysis -- how long are the documents? \n",
    "\n",
    "Lets have a quick look at the number of words in these books. We'll do this by taking the values of the `text_rdd` (i.e. the text), use the `split` method of the text string to break it up into a list of words, and then use the built-in `len` method to get the length of this sequence. Finally, we will use the `collect` method to extract the numbers to the driver. "
   ]
  },
  {
   "cell_type": "code",
   "execution_count": 28,
   "metadata": {
    "collapsed": false
   },
   "outputs": [],
   "source": [
    "# TODO\n",
    "text_lengths = (text_rdd.values()\n",
    "                        .map(lambda text: len(text.split()))).collect()"
   ]
  },
  {
   "cell_type": "code",
   "execution_count": 29,
   "metadata": {
    "collapsed": false
   },
   "outputs": [],
   "source": [
    "#assert(text_lengths[:10] == [66976, 17180, 8455, 53505, 65001, 50678, 72798, 16377, 30705, 68609])"
   ]
  },
  {
   "cell_type": "code",
   "execution_count": 30,
   "metadata": {
    "collapsed": false
   },
   "outputs": [
    {
     "data": {
      "image/png": "[encoded data removed]",
      "text/plain": [
       "<matplotlib.figure.Figure at 0x2b3fcce64a90>"
      ]
     },
     "metadata": {},
     "output_type": "display_data"
    }
   ],
   "source": [
    "plt.hist(text_lengths, bins = 100, range=[0,3e5]);\n",
    "plt.xlabel('$N_{words}$'); plt.ylabel('count');"
   ]
  },
  {
   "cell_type": "markdown",
   "metadata": {},
   "source": [
    "## Broadcast variables: a good way to distribute metadata"
   ]
  },
  {
   "cell_type": "markdown",
   "metadata": {},
   "source": [
    "As we manipulate the dataset, we will want ready access to the metadata, but at the moment we have no efficient way of working with it. This is because it is either\n",
    "\n",
    "a) on disk in many thousands of small files (killing the filesystem and making HPC admins furious)\n",
    "\n",
    "*or*\n",
    "\n",
    "b) a part of the RDD itself \n",
    "\n",
    "So if we want to look at just the metadata, we need to either read it off the disk (bad) or extract it from the RDD every time (expensive). \n",
    "\n",
    "For these kinds of situations when passing around some data to all the workers is required, you should use Spark's [broadcast variable](http://spark.apache.org/docs/latest/programming-guide.html#broadcast-variables) mechanism. By placing data inside a broadcast variable, you make it available to all the workers and it only needs to be sent across the network once. The next time a value from the broadcast variable is needed, it's simply taken from the local executor's memory, incurring no extra network cost. "
   ]
  },
  {
   "cell_type": "code",
   "execution_count": 31,
   "metadata": {
    "collapsed": true
   },
   "outputs": [],
   "source": [
    "# set up the list of fields\n",
    "metadata_fields = text_rdd.first()[0].keys() # this takes the metadata of the first element and extracts the keys\n",
    "meta_dict = dict()\n",
    "\n",
    "for meta in text_rdd.keys().collect() :\n",
    "    meta_dict[meta['gid']] = {key: meta[key] for key in metadata_fields}"
   ]
  },
  {
   "cell_type": "markdown",
   "metadata": {},
   "source": [
    "This is now a look-up table that allows us to quickly access all the metadata indexed by `gid`. For example:"
   ]
  },
  {
   "cell_type": "code",
   "execution_count": 32,
   "metadata": {
    "collapsed": false
   },
   "outputs": [
    {
     "data": {
      "text/plain": [
       "{'birth_year': u'1954',\n",
       " 'death_year': None,\n",
       " 'downloads': u'352',\n",
       " 'first_name': u'Bruce',\n",
       " 'gid': 101,\n",
       " 'lang': u'en',\n",
       " 'last_name': u'Sterling',\n",
       " 'title': u'The Hacker Crackdown: Law and Disorder on the Electronic Frontier'}"
      ]
     },
     "execution_count": 32,
     "metadata": {},
     "output_type": "execute_result"
    }
   ],
   "source": [
    "meta_dict[101]"
   ]
  },
  {
   "cell_type": "markdown",
   "metadata": {},
   "source": [
    "To get, for example, the author birth year for book with `gid = 101`:"
   ]
  },
  {
   "cell_type": "code",
   "execution_count": 33,
   "metadata": {
    "collapsed": false
   },
   "outputs": [
    {
     "data": {
      "text/plain": [
       "u'1954'"
      ]
     },
     "execution_count": 33,
     "metadata": {},
     "output_type": "execute_result"
    }
   ],
   "source": [
    "meta_dict[101]['birth_year']"
   ]
  },
  {
   "cell_type": "markdown",
   "metadata": {},
   "source": [
    "Now we need to create the broadcast variable: "
   ]
  },
  {
   "cell_type": "code",
   "execution_count": 34,
   "metadata": {
    "collapsed": true
   },
   "outputs": [],
   "source": [
    "# call it meta_b for 'broadcast'\n",
    "meta_b = sc.broadcast(meta_dict)"
   ]
  },
  {
   "cell_type": "markdown",
   "metadata": {},
   "source": [
    "The underlying data object stored in `meta_b` can be accessed simply by\n",
    "\n",
    "    > meta_b.value\n",
    "    \n",
    "We'll make use of this soon. If you check the console output, you will see an INFO message that the broadcast has been created, i.e. \n",
    "\n",
    "```\n",
    "15/06/24 17:18:44 INFO storage.MemoryStore: Block broadcast_6_piece0 stored as bytes in memory (estimated size 910.7 KB, free 4.1 GB)\n",
    "15/06/24 17:18:44 INFO storage.BlockManagerInfo: Added broadcast_6_piece0 in memory on 10.201.20.22:47821 (size: 910.7 KB, free: 4.1 GB)\n",
    "15/06/24 17:18:44 INFO spark.SparkContext: Created broadcast 6 from broadcast at PythonRDD.scala:403\n",
    "```"
   ]
  },
  {
   "cell_type": "markdown",
   "metadata": {},
   "source": [
    "### Save the metadata dictionary for later use\n",
    "We will need the metadata dictionary at a later point, so we save it to disk now to avoid having to regenerate it later. "
   ]
  },
  {
   "cell_type": "code",
   "execution_count": 35,
   "metadata": {
    "collapsed": true
   },
   "outputs": [],
   "source": [
    "from cPickle import dump"
   ]
  },
  {
   "cell_type": "code",
   "execution_count": 36,
   "metadata": {
    "collapsed": false
   },
   "outputs": [],
   "source": [
    "dump(meta_dict, open('{home}/gutenberg_metadata.dump'.format(home=os.environ['HOME']), 'w'))"
   ]
  },
  {
   "cell_type": "markdown",
   "metadata": {},
   "source": [
    "## Cleaning the data with filtering"
   ]
  },
  {
   "cell_type": "markdown",
   "metadata": {},
   "source": [
    "Now we're ready to do some quality checks on the data. Let's check out the first couple of metadata entries: "
   ]
  },
  {
   "cell_type": "code",
   "execution_count": 37,
   "metadata": {
    "collapsed": false
   },
   "outputs": [
    {
     "data": {
      "text/plain": [
       "[{'birth_year': None,\n",
       "  'death_year': None,\n",
       "  'downloads': u'243',\n",
       "  'first_name': None,\n",
       "  'gid': 1000,\n",
       "  'lang': u'en',\n",
       "  'last_name': None,\n",
       "  'title': '- No Title -'},\n",
       " {'birth_year': None,\n",
       "  'death_year': None,\n",
       "  'downloads': u'269',\n",
       "  'first_name': None,\n",
       "  'gid': 10000,\n",
       "  'lang': u'en',\n",
       "  'last_name': u'Anonymous',\n",
       "  'title': u'The Magna Carta'},\n",
       " {'birth_year': u'1863',\n",
       "  'death_year': u'1950',\n",
       "  'downloads': u'274',\n",
       "  'first_name': u'Lucius Annaeus',\n",
       "  'gid': 10001,\n",
       "  'lang': u'en',\n",
       "  'last_name': u'Seneca',\n",
       "  'title': u'Apocolocyntosis'},\n",
       " {'birth_year': u'1877',\n",
       "  'death_year': u'1918',\n",
       "  'downloads': u'865',\n",
       "  'first_name': u'William Hope',\n",
       "  'gid': 10002,\n",
       "  'lang': u'en',\n",
       "  'last_name': u'Hodgson',\n",
       "  'title': u'The House on the Borderland'},\n",
       " {'birth_year': u'1833',\n",
       "  'death_year': u'1923',\n",
       "  'downloads': u'15',\n",
       "  'first_name': u'Mary King',\n",
       "  'gid': 10003,\n",
       "  'lang': u'en',\n",
       "  'last_name': u'Waddington',\n",
       "  'title': u'My First Years as a Frenchwoman, 1876-1879'}]"
      ]
     },
     "execution_count": 37,
     "metadata": {},
     "output_type": "execute_result"
    }
   ],
   "source": [
    "text_rdd.keys().take(5)"
   ]
  },
  {
   "cell_type": "markdown",
   "metadata": {},
   "source": [
    "If you look at just the first few entries it becomes clear that we're going to have to do some quality control here. For example, we probably don't want books with \"None\" as either of the author names, and likewise we have to have the birth date in order to be able to create a time series out of the data in the end. \n",
    "\n",
    "Construct an RDD, as above, except that you filter out all the elements that have `None` for `title`, `first_name`, `last_name`, or `birth_year`. In addition, filter out the data with \"BC\" in either birth or death year. \n",
    "\n",
    "As a reminder, here is a cartoon illustration of the difference between `map` and `filter` RDD methods. `map` simply applies the function to each element, returning another element. \n",
    "\n",
    "![map](../figs/map_example.svg)\n",
    "\n",
    "In this example, with `filter` we are filtering out all the even elements of the RDD. The function that is passed to `filter` just has to evaluate to either `True` (1) or `False` (0) given the input data. The function `lambda (k,v): v%2` evaluates to 0 if `v` is even and 1 of `v` is odd. Hence, only the odd values pass the filter. \n",
    "\n",
    "![filter](../figs/filter_example.svg)\n",
    "\n",
    "The `filter_func` has already been defined for you below, but you need to apply it to `text_rdd`. "
   ]
  },
  {
   "cell_type": "code",
   "execution_count": 38,
   "metadata": {
    "collapsed": true
   },
   "outputs": [],
   "source": [
    "def filter_func(meta) : \n",
    "    no_none = all([meta[name] is not None for name in ['title', 'first_name', 'last_name', 'birth_year']])\n",
    "    if not no_none : \n",
    "        return False\n",
    "    else : \n",
    "        no_birth_bc = 'BC' not in meta['birth_year']\n",
    "        no_death_bc = True if meta['death_year'] is None else 'BC' not in meta['death_year']\n",
    "        return no_birth_bc + no_death_bc"
   ]
  },
  {
   "cell_type": "code",
   "execution_count": 39,
   "metadata": {
    "collapsed": true
   },
   "outputs": [],
   "source": [
    "# TODO\n",
    "filtered_rdd = text_rdd.filter(lambda (meta, text): filter_func(meta))"
   ]
  },
  {
   "cell_type": "code",
   "execution_count": 40,
   "metadata": {
    "collapsed": false,
    "scrolled": false
   },
   "outputs": [
    {
     "data": {
      "text/plain": [
       "[{'birth_year': u'1863',\n",
       "  'death_year': u'1950',\n",
       "  'downloads': u'274',\n",
       "  'first_name': u'Lucius Annaeus',\n",
       "  'gid': 10001,\n",
       "  'lang': u'en',\n",
       "  'last_name': u'Seneca',\n",
       "  'title': u'Apocolocyntosis'},\n",
       " {'birth_year': u'1877',\n",
       "  'death_year': u'1918',\n",
       "  'downloads': u'865',\n",
       "  'first_name': u'William Hope',\n",
       "  'gid': 10002,\n",
       "  'lang': u'en',\n",
       "  'last_name': u'Hodgson',\n",
       "  'title': u'The House on the Borderland'},\n",
       " {'birth_year': u'1833',\n",
       "  'death_year': u'1923',\n",
       "  'downloads': u'15',\n",
       "  'first_name': u'Mary King',\n",
       "  'gid': 10003,\n",
       "  'lang': u'en',\n",
       "  'last_name': u'Waddington',\n",
       "  'title': u'My First Years as a Frenchwoman, 1876-1879'},\n",
       " {'birth_year': u'1864',\n",
       "  'death_year': u'1948',\n",
       "  'downloads': u'9',\n",
       "  'first_name': u'Anna Robertson Brown',\n",
       "  'gid': 10004,\n",
       "  'lang': u'en',\n",
       "  'last_name': u'Lindsay',\n",
       "  'title': u'The Warriors'},\n",
       " {'birth_year': u'1775',\n",
       "  'death_year': u'1861',\n",
       "  'downloads': u'17',\n",
       "  'first_name': u'George',\n",
       "  'gid': 10005,\n",
       "  'lang': u'en',\n",
       "  'last_name': u'Tucker',\n",
       "  'title': u'A Voyage to the Moon\\r'}]"
      ]
     },
     "execution_count": 40,
     "metadata": {},
     "output_type": "execute_result"
    }
   ],
   "source": [
    "filtered_rdd.keys().take(5)"
   ]
  },
  {
   "cell_type": "markdown",
   "metadata": {},
   "source": [
    "How many do we have left? "
   ]
  },
  {
   "cell_type": "code",
   "execution_count": 41,
   "metadata": {
    "collapsed": false
   },
   "outputs": [
    {
     "name": "stdout",
     "output_type": "stream",
     "text": [
      "number of books after filtering:  16227\n"
     ]
    }
   ],
   "source": [
    "nfiltered = filtered_rdd.count()\n",
    "print('number of books after filtering: ', nfiltered)\n",
    "#assert(nfiltered == 11872)"
   ]
  },
  {
   "cell_type": "markdown",
   "metadata": {},
   "source": [
    "A final bit of cleanup: \n",
    "\n",
    "some of the books end up split across multiple entries. Since it's the same book, each of the entries should have the same `gid`. \n",
    "\n",
    "To check for this we will use one of the most basic and common MapReduce patterns -- the key count: \n",
    "\n",
    "* map the data into `key`,`value` pairs where `key` is the quantity we want to count and `value` is just 1. In this case, the `key` will be `gid`\n",
    "* invoke a reduction *by key*, where the reduction operator is a simple addition\n",
    "\n",
    "Finally, we will sort the result in descending order and print out the first few elements to check whether we have to worry about documents spanning multiple files or not. \n",
    "\n",
    "The RDD operations that are needed are [`reduceByKey`](http://spark.apache.org/docs/latest/api/python/pyspark.html#pyspark.RDD.reduceByKey) and [sortBy](http://spark.apache.org/docs/latest/api/python/pyspark.html#pyspark.RDD.sortBy).\n",
    "\n",
    "`reduceByKey` works by grouping all data of a key together and applying the reduction function just to that data. Here's a simple illustration, in this case using a simple addition of two elements as a reduction:\n",
    "\n",
    "![reducebykey](../figs/reduceByKey_example.svg)\n",
    "\n",
    "\n",
    "\n",
    "For the `keyFunc` of the call to `sortBy`, use a `lambda` function that extracts the counts obtained from the `reduceByKey`. \n",
    "\n",
    "So, the procedure should be : \n",
    "\n",
    "1. `map` the `filtered_rdd` using a lambda function to contain (`gid`, 1) tuples\n",
    "2. `reduceByKey`\n",
    "3. `sortBy` (specify decreasing order, see the API) "
   ]
  },
  {
   "cell_type": "code",
   "execution_count": 42,
   "metadata": {
    "collapsed": true
   },
   "outputs": [],
   "source": [
    "from operator import add"
   ]
  },
  {
   "cell_type": "code",
   "execution_count": 43,
   "metadata": {
    "collapsed": false
   },
   "outputs": [
    {
     "data": {
      "text/plain": [
       "[(6478, 43),\n",
       " (3772, 40),\n",
       " (8700, 35),\n",
       " (3332, 33),\n",
       " (12233, 29),\n",
       " (3425, 23),\n",
       " (2440, 16),\n",
       " (6475, 15),\n",
       " (12145, 9),\n",
       " (12383, 7)]"
      ]
     },
     "execution_count": 43,
     "metadata": {},
     "output_type": "execute_result"
    }
   ],
   "source": [
    "# FILL IN: map the filtered_rdd to contain just the tuple (gid, 1)\n",
    "map_filtered = filtered_rdd.map(lambda (meta, text): (meta['gid'],1))\n",
    "\n",
    "# reduce the map_filtered rdd by key to get the total counts per gid\n",
    "reduced_gid_rdd = map_filtered.reduceByKey(add)\n",
    "\n",
    "# sort by count and print out the top 10\n",
    "reduced_gid_rdd.sortBy(lambda (key, count): count, False).take(10)"
   ]
  },
  {
   "cell_type": "code",
   "execution_count": 44,
   "metadata": {
    "collapsed": true
   },
   "outputs": [],
   "source": [
    "#assert(_ == [(6478, 43), (3772, 40), (8700, 35), (3332, 33), (12233, 29), (3425, 23), (2440, 16), (6475, 15), (12145, 9), (12383, 7)])"
   ]
  },
  {
   "cell_type": "markdown",
   "metadata": {},
   "source": [
    "Note that there are several transformations here that lead to the final result, `sorted_reduced`. A common syntax is to group them all together, by enclosing them in `( )` and chaining them: "
   ]
  },
  {
   "cell_type": "code",
   "execution_count": 45,
   "metadata": {
    "collapsed": false
   },
   "outputs": [
    {
     "data": {
      "text/plain": [
       "[(6478, 43),\n",
       " (3772, 40),\n",
       " (8700, 35),\n",
       " (3332, 33),\n",
       " (12233, 29),\n",
       " (3425, 23),\n",
       " (2440, 16),\n",
       " (6475, 15),\n",
       " (12145, 9),\n",
       " (12383, 7)]"
      ]
     },
     "execution_count": 45,
     "metadata": {},
     "output_type": "execute_result"
    }
   ],
   "source": [
    "# TODO\n",
    "(filtered_rdd.map(lambda (meta, text): (meta['gid'], 1))\n",
    "             .reduceByKey(add)\n",
    "             .sortBy(lambda (key,count): count, False)\n",
    "             .take(10))"
   ]
  },
  {
   "cell_type": "markdown",
   "metadata": {},
   "source": [
    "Looks like we have a few that are made up of multiple sections. To combine them, we will use `reduceByKey` which will result in having an RDD of `gid`'s as keys and the combined text of each `gid`. The reduction function in `reduceByKey` can be a simple in-line function that just adds two elements together (but can't be the `add` function because that expects the arguments to be numbers). "
   ]
  },
  {
   "cell_type": "code",
   "execution_count": 46,
   "metadata": {
    "collapsed": false
   },
   "outputs": [],
   "source": [
    "cleaned_rdd = (filtered_rdd.map(lambda (meta, text): (meta['gid'], text))\n",
    "                           .reduceByKey(lambda a,b: a+b))"
   ]
  },
  {
   "cell_type": "markdown",
   "metadata": {},
   "source": [
    "As a simple sanity check, lets look at `gid`=6478, which according to the cell above has 43 sections in the original dataset: "
   ]
  },
  {
   "cell_type": "code",
   "execution_count": 47,
   "metadata": {
    "collapsed": false
   },
   "outputs": [
    {
     "data": {
      "text/plain": [
       "43"
      ]
     },
     "execution_count": 47,
     "metadata": {},
     "output_type": "execute_result"
    }
   ],
   "source": [
    "len(filtered_rdd.map(lambda (meta, text): (meta['gid'],1))\n",
    "                .lookup(6478))"
   ]
  },
  {
   "cell_type": "code",
   "execution_count": 48,
   "metadata": {
    "collapsed": false
   },
   "outputs": [
    {
     "data": {
      "text/plain": [
       "1"
      ]
     },
     "execution_count": 48,
     "metadata": {},
     "output_type": "execute_result"
    }
   ],
   "source": [
    "len(cleaned_rdd.lookup(6478))"
   ]
  },
  {
   "cell_type": "markdown",
   "metadata": {},
   "source": [
    "To avoid having to do all these pre-processing steps again at a later point, lets also save the `cleaned_rdd`:"
   ]
  },
  {
   "cell_type": "code",
   "execution_count": 49,
   "metadata": {
    "collapsed": true
   },
   "outputs": [],
   "source": [
    "cleaned_rdd.saveAsPickleFile('/user/roskarr/gutenberg/cleaned_rdd')"
   ]
  },
  {
   "cell_type": "markdown",
   "metadata": {},
   "source": [
    "This is now saved in the directory we specified, one file per partition:"
   ]
  },
  {
   "cell_type": "code",
   "execution_count": 50,
   "metadata": {
    "collapsed": false,
    "scrolled": true
   },
   "outputs": [
    {
     "name": "stdout",
     "output_type": "stream",
     "text": [
      "Picked up _JAVA_OPTIONS: -XX:ParallelGCThreads=1\n",
      "15/09/04 09:32:06 WARN util.NativeCodeLoader: Unable to load native-hadoop library for your platform... using builtin-java classes where applicable\n",
      "Found 401 items\n",
      "-rw-r--r--   3 roskarr supergroup          0 2015-09-04 09:32 /user/roskarr/gutenberg/cleaned_rdd/_SUCCESS\n",
      "-rw-r--r--   3 roskarr supergroup   63571800 2015-09-04 09:31 /user/roskarr/gutenberg/cleaned_rdd/part-00000\n",
      "-rw-r--r--   3 roskarr supergroup   19921938 2015-09-04 09:31 /user/roskarr/gutenberg/cleaned_rdd/part-00001\n",
      "-rw-r--r--   3 roskarr supergroup   13487504 2015-09-04 09:31 /user/roskarr/gutenberg/cleaned_rdd/part-00002\n",
      "-rw-r--r--   3 roskarr supergroup   15221090 2015-09-04 09:31 /user/roskarr/gutenberg/cleaned_rdd/part-00003\n",
      "-rw-r--r--   3 roskarr supergroup   17893803 2015-09-04 09:31 /user/roskarr/gutenberg/cleaned_rdd/part-00004\n",
      "-rw-r--r--   3 roskarr supergroup   18726897 2015-09-04 09:31 /user/roskarr/gutenberg/cleaned_rdd/part-00005\n",
      "-rw-r--r--   3 roskarr supergroup   14910372 2015-09-04 09:31 /user/roskarr/gutenberg/cleaned_rdd/part-00006\n",
      "-rw-r--r--   3 roskarr supergroup   17157664 2015-09-04 09:31 /user/roskarr/gutenberg/cleaned_rdd/part-00007\n"
     ]
    }
   ],
   "source": [
    "!hadoop fs -ls /user/roskarr/gutenberg/cleaned_rdd | head"
   ]
  },
  {
   "cell_type": "markdown",
   "metadata": {},
   "source": [
    "Note that here we used the `hadoop` command in the local bash shell (the `!` at the beginning of the line means we are executing the command in the shell). This allows us to access the hadoop filesystem (HDFS), which is separate from the local file system we are used to. You'll notice, for example, that this directory doesn't exist in the local filesystem:"
   ]
  },
  {
   "cell_type": "code",
   "execution_count": 51,
   "metadata": {
    "collapsed": false
   },
   "outputs": [
    {
     "name": "stdout",
     "output_type": "stream",
     "text": [
      "ls: cannot access /user/roskarr/gutenberg/: No such file or directory\r\n"
     ]
    }
   ],
   "source": [
    "!ls /user/roskarr/gutenberg/"
   ]
  },
  {
   "cell_type": "markdown",
   "metadata": {},
   "source": [
    "You can also browse the filesystem via the [HDFS web UI](http://hadoop.ethz.ch:50070). The `hadoop fs` command has many of the same options as regular Linux/Unix shell commands you might be used to for manipulating files and directories. Try running\n",
    "\n",
    "```bash\n",
    "cluster $> module load hadoop\n",
    "cluster $> hadoop fs -help\n",
    "```\n",
    "\n",
    "in a new shell to see all the options. "
   ]
  },
  {
   "cell_type": "markdown",
   "metadata": {},
   "source": [
    "### Recap of steps up until this point\n",
    "\n",
    "We've done quite a lot already with our dataset in Spark, although it's only the beginning!\n",
    "\n",
    "1. created an RDD of filenames (`filename_rdd`)\n",
    "2. transformed the `filename_rdd` into an RDD of `(metadata, text)` (`text_rdd`); we also saved this to HDFS\n",
    "3. filtered out data with bad metadata, e.g. missing author names etc.\n",
    "3. cleaned up the entries a bit more by merging ones with identical IDs; we called this `cleaned_rdd`"
   ]
  },
  {
   "cell_type": "markdown",
   "metadata": {},
   "source": [
    "## Shutting down the `SparkContext`\n",
    "\n",
    "Now that the pre-processing is done, we will shut down the `SparkContext` before continuing to the data analysis notebook. We have all of our results saved in HDFS, so to continue from where we left off will just require loading data from there. "
   ]
  },
  {
   "cell_type": "code",
   "execution_count": 52,
   "metadata": {
    "collapsed": true
   },
   "outputs": [],
   "source": [
    "sc.stop()"
   ]
  },
  {
   "cell_type": "markdown",
   "metadata": {},
   "source": [
    "Now that the pre-processing steps are complete, we can continue to the [analysis notebook](part2-ngram-viewer-SOLUTIONS.ipynb)"
   ]
  }
 ],
 "metadata": {
  "kernelspec": {
   "display_name": "Python 2",
   "language": "python",
   "name": "python2"
  },
  "language_info": {
   "codemirror_mode": {
    "name": "ipython",
    "version": 2
   },
   "file_extension": ".py",
   "mimetype": "text/x-python",
   "name": "python",
   "nbconvert_exporter": "python",
   "pygments_lexer": "ipython2",
   "version": "2.7.10"
  }
 },
 "nbformat": 4,
 "nbformat_minor": 0
}
