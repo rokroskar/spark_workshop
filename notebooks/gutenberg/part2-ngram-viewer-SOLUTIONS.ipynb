{
 "cells": [
  {
   "cell_type": "code",
   "execution_count": 1,
   "metadata": {
    "collapsed": false
   },
   "outputs": [],
   "source": [
    "from __future__ import print_function\n",
    "%matplotlib inline\n",
    "import matplotlib.pylab as plt\n",
    "import sys, os, glob\n",
    "import numpy as np\n",
    "\n",
    "plt.rcParams['figure.figsize'] = (10,6)\n",
    "plt.rcParams['font.size'] = 18\n",
    "plt.style.use('fivethirtyeight')"
   ]
  },
  {
   "cell_type": "markdown",
   "metadata": {},
   "source": [
    "# Analyzing the Gutenberg Books Corpus"
   ]
  },
  {
   "cell_type": "markdown",
   "metadata": {},
   "source": [
    "In this notebook, we will use the cleaned, pre-processed data that we created in the [pre-processing part](gutenberg-preprocessing-SOLUTIONS.ipynb). As a reminder, we ended up with an RDD of `(gid, text)` tuples that has been cleaned and we stored it on HDFS at `/user/<YOUR_USERNAME>/gutenberg/cleaned_rdd`. \n",
    "\n",
    "We have two goals in this notebook:\n",
    "\n",
    "1. generate data that will enable us to create something like the [Google Ngram Viewer](https://books.google.com/ngrams) but for the Gutenberg book corpus. \n",
    "2. Use Spark's machine learning library to perform language classification on the English and German book corpus"
   ]
  },
  {
   "cell_type": "markdown",
   "metadata": {},
   "source": [
    "## Load the data from HDFS"
   ]
  },
  {
   "cell_type": "code",
   "execution_count": 2,
   "metadata": {
    "collapsed": false
   },
   "outputs": [],
   "source": [
    "# TODO: load cleaned_rdd from the HDFS\n",
    "cleaned_rdd = sc.pickleFile('/user/roskarr/gutenberg/cleaned_rdd').setName('cleaned_rdd').cache()"
   ]
  },
  {
   "cell_type": "markdown",
   "metadata": {},
   "source": [
    "A quick inspection of the data to remind ourselves what it looks like: "
   ]
  },
  {
   "cell_type": "code",
   "execution_count": 3,
   "metadata": {
    "collapsed": false
   },
   "outputs": [
    {
     "name": "stdout",
     "output_type": "stream",
     "text": [
      "38400 re coeligur dans la bible de la famille la naissance dun fardeau vivant des d penses in vitables le fatigu rent tellement quil sattrista et perdit le courage de t cher dy pourvoir sur ces malheureuses entrefaites un legs lui fut laiss et en relevant son affaiblissement moral cette bonne fortune augmenta sil tait possible son syst me d conomie et ses d sirs damasser de largent cette avare occupation devint alors lunique emploi de son temps il y concentra toutes ses facult s et fut enfin ce que lo\n"
     ]
    }
   ],
   "source": [
    "gid, text = cleaned_rdd.first()\n",
    "print(gid, text[10000:10500]) # somewhere in the middle of the book"
   ]
  },
  {
   "cell_type": "markdown",
   "metadata": {},
   "source": [
    "### Load in the metadata dictionary and broadcast it"
   ]
  },
  {
   "cell_type": "code",
   "execution_count": 4,
   "metadata": {
    "collapsed": true
   },
   "outputs": [],
   "source": [
    "from cPickle import load\n",
    "\n",
    "with open('{home}/gutenberg_metadata.dump'.format(home=os.environ['HOME']), 'r') as f :\n",
    "    meta_dict = load(f)"
   ]
  },
  {
   "cell_type": "code",
   "execution_count": 5,
   "metadata": {
    "collapsed": false
   },
   "outputs": [],
   "source": [
    "# TODO: create meta_b by broadcasting meta_dict\n",
    "meta_b = sc.broadcast(meta_dict)"
   ]
  },
  {
   "cell_type": "markdown",
   "metadata": {},
   "source": [
    "Now, our `cleaned_rdd` contains `gid`'s as keys and text as values and if we want some other piece of metadata, we can just access it via the lookup table, for example `meta_b.value[gid][meta_name]`. "
   ]
  },
  {
   "cell_type": "markdown",
   "metadata": {},
   "source": [
    "### Histogram of book publication years\n",
    "Now we're ready to start asking some questions of the data. To begin with, lets do a simple histogram of the year distribution of the books. Since we don't have original publication dates, we just use the simple formula: \n",
    "\n",
    "$year = max\\left((year_{birth} + year_{death})/2, year_{birth} + offset\\right)$, \n",
    "\n",
    "where $offset$ is a number drawn from a gaussian centered on 40 with $\\sigma = 5$ years. This means that we assume most people write their books around age 40. ;)\n",
    "\n",
    "The function `publication_year` is provided for you and you should use it to *transform* the `year_rdd` into an RDD of publication years. \n",
    "\n",
    "Remember that we created a broadcast variable at the beginning of the notebook, which can be used to efficiently look up metadata."
   ]
  },
  {
   "cell_type": "code",
   "execution_count": 6,
   "metadata": {
    "collapsed": false
   },
   "outputs": [],
   "source": [
    "import numpy as np\n",
    "def publication_year(meta) : \n",
    "    \"\"\"Returns the publication year for the given metadata dictionary\"\"\"\n",
    "    \n",
    "    birth_year = int(meta['birth_year'])\n",
    "    if meta['death_year'] is None : \n",
    "        year = birth_year + np.random.normal(40,5)\n",
    "    else :\n",
    "        death_year = int(meta['death_year'])\n",
    "        year = max((birth_year + death_year) / 2.0, birth_year+np.random.normal(40,5))\n",
    "\n",
    "    return min(int(year),2015)"
   ]
  },
  {
   "cell_type": "code",
   "execution_count": 7,
   "metadata": {
    "collapsed": false
   },
   "outputs": [
    {
     "data": {
      "text/plain": [
       "33666"
      ]
     },
     "execution_count": 7,
     "metadata": {},
     "output_type": "execute_result"
    }
   ],
   "source": [
    "# TODO: map cleaned_rdd to contain just the publication years by using the publication_year function above\n",
    "year_rdd = cleaned_rdd.map(lambda (gid, text): publication_year(meta_b.value[gid]))\n",
    "                       \n",
    "year_rdd.count()"
   ]
  },
  {
   "cell_type": "code",
   "execution_count": 8,
   "metadata": {
    "collapsed": false
   },
   "outputs": [
    {
     "data": {
      "text/plain": [
       "1836"
      ]
     },
     "execution_count": 8,
     "metadata": {},
     "output_type": "execute_result"
    }
   ],
   "source": [
    "year_rdd.first()"
   ]
  },
  {
   "cell_type": "markdown",
   "metadata": {},
   "source": [
    "The histogram function actually already exists in the Spark API (but it didn't use to!). However, for fun we will write our own. Calculating the histogram can be split up into two parts:\n",
    "\n",
    "2. calculate the bin that the value maps to and create an RDD of (`bin`, 1) pair\n",
    "3. do a `reduceByKey` where we just add up all the values belonging to each bin. \n",
    "\n",
    "The last step is the simplest for us to execute, but the most complicated in terms of what happens behind the scenes. The reduction happens in two parts - first, it creates a list of `(key, count)` pairs locally by iterating through all the elements of the partition and creating a hash table. Then, these pairs are communicated to other partitions and added up. "
   ]
  },
  {
   "cell_type": "code",
   "execution_count": 9,
   "metadata": {
    "collapsed": true
   },
   "outputs": [],
   "source": [
    "# define a helper function to determine which bin a value falls into\n",
    "from bisect import bisect_right\n",
    "def get_bin(bin_edges, value) : \n",
    "    \"\"\"Returns which bin, specified by `bin_edges`, the `value` falls into.\"\"\"\n",
    "    \n",
    "    return bisect_right(bin_edges, value) - 1"
   ]
  },
  {
   "cell_type": "code",
   "execution_count": 10,
   "metadata": {
    "collapsed": true
   },
   "outputs": [],
   "source": [
    "# TODO: fill in the bits and pieces of the histogram function\n",
    "\n",
    "def histogram(rdd, nbins = 100, min_val=None, max_val=None) :\n",
    "    \"\"\"\n",
    "    Calculate a histogram of the data, given the number of bins and the data range. \n",
    "    \n",
    "    Arguments: \n",
    "        \n",
    "        rdd: the data RDD\n",
    "    \n",
    "    Optional Keywords:\n",
    "        \n",
    "        nbins: number of bins (default 100)\n",
    "        \n",
    "        min_val: minimum value to consider (default, min value of the input data)\n",
    "        \n",
    "        max_val: maximum value to consider (default, max value of the input data)\n",
    "    \n",
    "    Returns: \n",
    "        \n",
    "        tuple of bins and array of counts\n",
    "        \n",
    "    \"\"\"\n",
    "    # if either min_val or max_val are missing, get them from the data\n",
    "    if min_val is None : \n",
    "        min_val = rdd.min() # FILL IN --> look at the Spark API!\n",
    "    if max_val is None : \n",
    "        max_val = rdd.max() # FILL IN --> look at the Spark API!\n",
    "        \n",
    "    # create the array of bin edges\n",
    "    bin_edges = np.linspace(min_val,max_val,nbins+1)\n",
    "    \n",
    "    # create an RDD where each data value is mapped into a tuple (bin, 1) that will \n",
    "    # be used for counting up the bin values\n",
    "    binned_rdd = rdd.map(lambda x: (get_bin(bin_edges, x),1)) # FILL IN \n",
    "    \n",
    "    # reduce binned_rdd \n",
    "    summed_bins = binned_rdd.reduceByKey(lambda a,b:a+b).collect() # FILL IN \n",
    "    \n",
    "    # This is a sparse result -- turn into a dense vector for plotting: \n",
    "    res_full = np.zeros(nbins)\n",
    "    overflow = 0\n",
    "    for item in summed_bins : \n",
    "        if item[0] > len(res_full)-1 or item[0] < 0: \n",
    "            continue # ignore\n",
    "        else: res_full[item[0]] = item[1]\n",
    "            \n",
    "    return .5*(bin_edges[:-1]+bin_edges[1:]), res_full"
   ]
  },
  {
   "cell_type": "code",
   "execution_count": 11,
   "metadata": {
    "collapsed": false
   },
   "outputs": [
    {
     "name": "stdout",
     "output_type": "stream",
     "text": [
      "CPU times: user 96 ms, sys: 23 ms, total: 119 ms\n",
      "Wall time: 4.32 s\n"
     ]
    }
   ],
   "source": [
    "# FILL IN \n",
    "%time bins, vals = histogram(year_rdd, min_val=1500, max_val=2015)"
   ]
  },
  {
   "cell_type": "markdown",
   "metadata": {},
   "source": [
    "Finally, here is the histogram of publication years:"
   ]
  },
  {
   "cell_type": "code",
   "execution_count": 12,
   "metadata": {
    "collapsed": false
   },
   "outputs": [
    {
     "data": {
      "image/png": "[encoded data removed]",
      "text/plain": [
       "<matplotlib.figure.Figure at 0x2b0bf5b64c10>"
      ]
     },
     "metadata": {},
     "output_type": "display_data"
    }
   ],
   "source": [
    "plt.plot(bins, vals)\n",
    "plt.xlim(1500,2015)\n",
    "plt.xlabel('year')\n",
    "plt.ylabel('Number of books')\n",
    "plt.semilogy()\n",
    "pass"
   ]
  },
  {
   "cell_type": "markdown",
   "metadata": {},
   "source": [
    "### Reducing network traffic by using `mapPartition`\n",
    "\n",
    "This kind of operation is a good candidate for first computing a partial result on each partition and then following with a reduce step. \n",
    "\n",
    "In our `histogram` function above, the `reduceByKey` step requires a reshuffling of the data which means spending potentially a lot of time in network communication and other overhead associated with creating distributed hash tables for all the keys. \n",
    "\n",
    "However, since our binning function effectively already hashes the values anyway, we can avoid this by instructing first each partition to calculate its local histogram and then simply adding up the histograms in the end. In this way, we are basically combinging the `map` operation with a local `reduce` operation, and since the number of bins is always relatively small, we end up sending a trivial amount of data across the network. \n",
    "\n",
    "Here is where our knowledge of generators comes in handy, because the method [`mapPartitions`](http://spark.apache.org/docs/latest/api/python/pyspark.html#pyspark.RDD.mapPartitions) *requires* a generator function. "
   ]
  },
  {
   "cell_type": "markdown",
   "metadata": {},
   "source": [
    "The key here is to define a histogram function that calculates the histogram on each partition locally. `mapPartitions` gives us an *iterator* over the data; we need to extract the data out of this iterator and calculate the local histograms *for the data in each partition*. Below, this is accomplished using the `bin_partition` function.\n",
    "\n",
    "Finally, we define a new `histogram_partition` function that uses `bin_partition` to compute the local histograms and a simple addition in a `reduce` operation to sum up the histograms in the end. "
   ]
  },
  {
   "cell_type": "code",
   "execution_count": 13,
   "metadata": {
    "collapsed": false
   },
   "outputs": [],
   "source": [
    "def bin_partition(iterator, nbins,  min_val, max_val) : \n",
    "    \"\"\"\n",
    "    Perform the binning of data contained in an iterator\n",
    "    \n",
    "    Arguments: \n",
    "        \n",
    "        iterator: the data iterable \n",
    "        \n",
    "        nbins: number of bins\n",
    "        \n",
    "        min_val, max_val: min and max values to consider\n",
    "    \n",
    "    yields the local histogram\n",
    "    \"\"\"\n",
    "    from bisect import bisect_right\n",
    "    \n",
    "    bin_edges = np.linspace(min_val,max_val,nbins+1)\n",
    "    \n",
    "    histogram = np.zeros(len(bin_edges)-1)\n",
    "    \n",
    "    for item in iterator : # iterating over all the items in the partition\n",
    "        try : \n",
    "            ind = get_bin(bin_edges,item)\n",
    "            histogram[ind] += 1\n",
    "        except IndexError : \n",
    "            pass\n",
    "        \n",
    "    yield histogram\n",
    "\n",
    "def histogram_partition(rdd, nbins = 100, min_val=None, max_val=None) :\n",
    "    \"\"\"\n",
    "    Calculate a histogram of the data by using partition methods\n",
    "    \n",
    "    Arguments: \n",
    "    \n",
    "        rdd: the data\n",
    "        \n",
    "    Optional Keywords:\n",
    "    \n",
    "        nbins: number of bins (default 100)\n",
    "        \n",
    "        min_val: minimum value to consider (default, min value of the input data)\n",
    "        \n",
    "        max_val: maximum value to consider (default, max value of the input data)\n",
    "    \n",
    "    Returns: \n",
    "        \n",
    "        tuple of bins and array of counts\n",
    "    \"\"\"\n",
    "    # if either min_val or max_val are missing, get them from the data\n",
    "    if min_val is None : \n",
    "        min_val = rdd.min() # FILL IN\n",
    "    if max_val is None : \n",
    "        max_val = rdd.max() # FILL IN\n",
    "        \n",
    "    bin_edges = np.linspace(min_val,max_val,nbins+1)\n",
    "    \n",
    "    result = (rdd.mapPartitions(lambda iterator: bin_partition(iterator, nbins, min_val, max_val))\n",
    "                 .reduce(lambda a,b: a+b))\n",
    "    \n",
    "    return .5*(bin_edges[:-1]+bin_edges[1:]), result"
   ]
  },
  {
   "cell_type": "code",
   "execution_count": 14,
   "metadata": {
    "collapsed": false
   },
   "outputs": [
    {
     "name": "stdout",
     "output_type": "stream",
     "text": [
      "CPU times: user 69 ms, sys: 11 ms, total: 80 ms\n",
      "Wall time: 2.99 s\n"
     ]
    }
   ],
   "source": [
    "%time bins, vals = histogram_partition(year_rdd, min_val=1500, max_val=2015)"
   ]
  },
  {
   "cell_type": "markdown",
   "metadata": {},
   "source": [
    "The difference here doesn't look dramatic because the total amount of data is rather small, but have a look at the Spark Web UI and you will see that the second implementation didn't do any shuffle writing. If you have a large number of keys, the intermediate shuffles that need to take place can have a substantial impact on performance. With a bigger data set, this difference could potentially matter quite a lot!"
   ]
  },
  {
   "cell_type": "markdown",
   "metadata": {},
   "source": [
    "### Inspecting the metadata some more\n",
    "\n",
    "Lets do a couple more checks and practice using the Spark API. \n",
    "\n",
    "#### How many unique authors are there in the dataset? \n",
    "\n",
    "1. make `author_rdd` that is composed of a string `\"last_name, first_name\"` (use the broadcast variable `meta_b` to get the data for each `gid`)\n",
    "2. keep only the unique author strings (*hint*: look at the Spark API to find an appropriate method)\n",
    "3. count the number of elements remaining\n",
    "\n",
    "**note**: use `meta_b.value` to access the actual metadata dictionary, i.e. to get the metadata for `gid=101`:"
   ]
  },
  {
   "cell_type": "code",
   "execution_count": 54,
   "metadata": {
    "collapsed": false
   },
   "outputs": [
    {
     "data": {
      "text/plain": [
       "{'birth_year': u'1954',\n",
       " 'death_year': None,\n",
       " 'downloads': u'352',\n",
       " 'first_name': u'Bruce',\n",
       " 'gid': 101,\n",
       " 'lang': u'en',\n",
       " 'last_name': u'Sterling',\n",
       " 'title': u'The Hacker Crackdown: Law and Disorder on the Electronic Frontier'}"
      ]
     },
     "execution_count": 54,
     "metadata": {},
     "output_type": "execute_result"
    }
   ],
   "source": [
    "meta_b.value[101]"
   ]
  },
  {
   "cell_type": "code",
   "execution_count": 15,
   "metadata": {
    "collapsed": true
   },
   "outputs": [],
   "source": [
    "# TODO: map cleaned_rdd to contain the string \"last_name, first_name\" \n",
    "author_rdd = cleaned_rdd.map(lambda (gid, text): \n",
    "                             \"%s %s\"%(meta_b.value[gid]['last_name'], meta_b.value[gid]['first_name']))"
   ]
  },
  {
   "cell_type": "code",
   "execution_count": 16,
   "metadata": {
    "collapsed": false
   },
   "outputs": [
    {
     "name": "stdout",
     "output_type": "stream",
     "text": [
      "Number of distinct authors: 10192 \n"
     ]
    }
   ],
   "source": [
    "# TODO: use RDD methods to obtain the distinct author strings and count them\n",
    "n_authors = (author_rdd.distinct()\n",
    "                       .count())\n",
    "print(\"Number of distinct authors: %s \" % n_authors)"
   ]
  },
  {
   "cell_type": "code",
   "execution_count": 17,
   "metadata": {
    "collapsed": true
   },
   "outputs": [],
   "source": [
    "assert(n_authors == 10192)"
   ]
  },
  {
   "cell_type": "markdown",
   "metadata": {},
   "source": [
    "#### Most-represented authors in the corpus: \n",
    "\n",
    "1. use the `author_rdd` from above\n",
    "2. use the pattern `(key, 1)` to set up an RDD that can be passed to `reduceByKey`\n",
    "3. run `reduceByKey`, yielding an RDD composed of `(author, count)` tuples\n",
    "4. sort by descending order of number of books per author and print out the top 10 "
   ]
  },
  {
   "cell_type": "code",
   "execution_count": 18,
   "metadata": {
    "collapsed": false
   },
   "outputs": [
    {
     "data": {
      "text/plain": [
       "[(u'Shakespeare William', 295),\n",
       " (u'Lytton Baron Lytton', 218),\n",
       " (u'Ebers Georg', 171),\n",
       " (u'Twain Mark', 161),\n",
       " (u'Parker Gilbert', 133),\n",
       " (u'Kingston William Henry Giles', 132),\n",
       " (u'Verne Jules', 131),\n",
       " (u'Balzac Honor\\xe9 de', 129),\n",
       " (u'Fenn George Manville', 128),\n",
       " (u'Meredith George', 111)]"
      ]
     },
     "execution_count": 18,
     "metadata": {},
     "output_type": "execute_result"
    }
   ],
   "source": [
    "# TODO: generate a list of authors, reverse-sorted by the number of books they have in the corpus\n",
    "(author_rdd.map(lambda author: (author, 1))\n",
    "           .reduceByKey(lambda a,b: a+b)\n",
    "           .takeOrdered(10, lambda (a,c): -1*c))"
   ]
  },
  {
   "cell_type": "markdown",
   "metadata": {},
   "source": [
    "Finally, lets do the same thing per language, just to get an idea of how much data there is: "
   ]
  },
  {
   "cell_type": "code",
   "execution_count": 19,
   "metadata": {
    "collapsed": true
   },
   "outputs": [],
   "source": [
    "# FILL IN \n",
    "lang_rdd = cleaned_rdd.map(lambda (gid, text): meta_b.value[gid]['lang'])"
   ]
  },
  {
   "cell_type": "code",
   "execution_count": 20,
   "metadata": {
    "collapsed": false
   },
   "outputs": [
    {
     "data": {
      "text/plain": [
       "[(u'zh', 155),\n",
       " (u'ru', 4),\n",
       " (u'bg', 5),\n",
       " (u'nah', 1),\n",
       " (u'nap', 1),\n",
       " (u'ro', 1),\n",
       " (u'ja', 21),\n",
       " (u'ga', 1),\n",
       " (u'gl', 1),\n",
       " (u'oji', 1),\n",
       " (u'kld', 1),\n",
       " (u'sr', 4),\n",
       " (u'sv', 71),\n",
       " (u'pt', 423),\n",
       " (u'sl', 1),\n",
       " (u'pl', 29),\n",
       " (u'hu', 83),\n",
       " (u'el', 121),\n",
       " (u'eo', 60),\n",
       " (u'en', 27524),\n",
       " (u'he', 5),\n",
       " (u'et', 1),\n",
       " (u'es', 328),\n",
       " (u'ceb', 1),\n",
       " (u'nl', 483),\n",
       " (u'no', 16),\n",
       " (u'fr', 1822),\n",
       " (u'fy', 1),\n",
       " (u'fa', 1),\n",
       " (u'fur', 1),\n",
       " (u'myn', 1),\n",
       " (u'fi', 947),\n",
       " (u'ca', 22),\n",
       " (u'cy', 6),\n",
       " (u'cs', 9),\n",
       " (u'kha', 1),\n",
       " (u'oc', 1),\n",
       " (u'la', 37),\n",
       " (u'de', 934),\n",
       " (u'da', 42),\n",
       " (u'tl', 36),\n",
       " (u'af', 3),\n",
       " (u'te', 5),\n",
       " (u'is', 2),\n",
       " (u'it', 449),\n",
       " (u'ia', 1),\n",
       " (u'mi', 1),\n",
       " (u'enm', 2)]"
      ]
     },
     "execution_count": 20,
     "metadata": {},
     "output_type": "execute_result"
    }
   ],
   "source": [
    "# FILL IN: reduce the `lang_rdd` to yield number of books in each language\n",
    "lang_rdd.map(lambda l: (l,1)).reduceByKey(lambda a,b: a+b).collect()"
   ]
  },
  {
   "cell_type": "markdown",
   "metadata": {},
   "source": [
    "## How many unique words were used in English in these 500+ years? \n",
    "\n",
    "We could have done the above metadata gymnastics without ever invoking a distributed processing framework by simply extracting the years from the metadata -- nevertheless we used the metadata to have a closer look at some of the RDD methods. However, the text body of each data element is where the bulk of the data volume lies. \n",
    "\n",
    "To construct a corpus wide vocabulary, we have to deconstruct each document into a list of words and then extract the unique words from the entire data set. If our dataset fits into memory of a single machine, this is a simple `set` operation. But what if it doesn't? \n",
    "\n",
    "We'll assume this is the case and instead of converting each `gid,text` pair into a `gid,list_of_words` pair, we will simply construct one global RDD of words. Here we aren't necessarily interested in preserving the provenance of words, but just finding the unique words in the whole corpus, so we drop the metadata altogether. \n",
    "\n",
    "The steps are as follows:\n",
    "\n",
    "1. map the entire RDD of text into an RDD of single words (use flatMap -- this returns a different number of elements than it takes in)\n",
    "2. use the `distinct` method of the resulting RDD to transform it into an RDD with only unique words\n",
    "\n",
    "As a reminder, here's an illustration of how `flatMap` differs from `map`:\n",
    "\n",
    "![flatMap](../figs/flatMap_example.svg)"
   ]
  },
  {
   "cell_type": "markdown",
   "metadata": {},
   "source": [
    "*Hint:* In python, splitting a string into a set of words separated by spaces is easy: "
   ]
  },
  {
   "cell_type": "code",
   "execution_count": 21,
   "metadata": {
    "collapsed": false
   },
   "outputs": [
    {
     "data": {
      "text/plain": [
       "['splitting', 'a', 'string', 'is', 'super', 'simple']"
      ]
     },
     "execution_count": 21,
     "metadata": {},
     "output_type": "execute_result"
    }
   ],
   "source": [
    "line = 'splitting a string is super simple'\n",
    "line.split()"
   ]
  },
  {
   "cell_type": "markdown",
   "metadata": {},
   "source": [
    "Make an RDD `distinct_rdd` which holds the *unique English* words. Consider the steps this will require:\n",
    "\n",
    "* use `cleaned_rdd` but keep only books in the english language (make sure you use the broadcast metadata variable!)\n",
    "* convert each document into individual words\n",
    "* retain only the unique words\n",
    "\n",
    "Which RDD methods can you use to achieve these three steps? (note that this will be a pretty expensive operation so it might take some time...)"
   ]
  },
  {
   "cell_type": "code",
   "execution_count": 22,
   "metadata": {
    "collapsed": false
   },
   "outputs": [
    {
     "name": "stdout",
     "output_type": "stream",
     "text": [
      "Number of unique English words:  3688479\n"
     ]
    }
   ],
   "source": [
    "# TODO: create distinct_rdd by filtering for english books and using RDD methods to generate an RDD of distinct words\n",
    "distinct_rdd = (cleaned_rdd.filter(lambda (gid, text): meta_b.value[gid]['lang'] == 'en')\n",
    "                           .flatMap(lambda (gid, text): text.split())\n",
    "                           .distinct())\n",
    "nwords = distinct_rdd.count()\n",
    "print(\"Number of unique English words: \", nwords)"
   ]
  },
  {
   "cell_type": "code",
   "execution_count": 23,
   "metadata": {
    "collapsed": false
   },
   "outputs": [],
   "source": [
    "assert(nwords == 3688479)"
   ]
  },
  {
   "cell_type": "markdown",
   "metadata": {},
   "source": [
    "Note that not all of these are actual words, this is just how many character sequences separated by spaces we found. The pre-processing steps are less than perfect so there is some garbage in there. We will trim this down to just the most commonly-used ones later and that will get rid of most of the nonsense. "
   ]
  },
  {
   "cell_type": "markdown",
   "metadata": {},
   "source": [
    "**Bonus question**: can you write this by using `mapPartitions` to first make sets of words unique to each partition? It's much faster...\n",
    "\n",
    "*hint*: use the python [set](https://docs.python.org/2/library/stdtypes.html#set) to find unique words in each partition"
   ]
  },
  {
   "cell_type": "code",
   "execution_count": 24,
   "metadata": {
    "collapsed": true
   },
   "outputs": [],
   "source": [
    "# FILL IN \n",
    "def partition_set(iterator): \n",
    "    words = set()\n",
    "    \n",
    "    # iterate through the data\n",
    "    for text in iterator : \n",
    "        # use the \"update\" method of the words set to add a new set composed of all the words\n",
    "        # from the \"text\" item. Remember that \"text\" is just a string, so can use the split() method\n",
    "        words.update(set(text.split())) # FILL IN\n",
    "    \n",
    "    # now we have the unique words of the partition --> yield them into the RDD\n",
    "    for word in words: \n",
    "        yield word"
   ]
  },
  {
   "cell_type": "code",
   "execution_count": 25,
   "metadata": {
    "collapsed": false
   },
   "outputs": [
    {
     "data": {
      "text/plain": [
       "3688479"
      ]
     },
     "execution_count": 25,
     "metadata": {},
     "output_type": "execute_result"
    }
   ],
   "source": [
    "res = (cleaned_rdd.filter(lambda (gid, text): meta_b.value[gid]['lang'] == 'en')\n",
    "            .values()\n",
    "            .mapPartitions(partition_set)\n",
    "            .distinct())\n",
    "res.count()"
   ]
  },
  {
   "cell_type": "markdown",
   "metadata": {},
   "source": [
    "## What are the most common words? \n",
    "\n",
    "A \"MapReduce\" tutorial has to include a word counting example -- it's basically the equivalent of a \"Hello World!\" example for a programming tutorial!\n",
    "\n",
    "So, lets count the occurences of all the words across the entire corpus. This is a fairly straightforward operation, but it exposes some very common patterns that can be useful for many tasks. To simplify this a bit, we'll use only the English-language corpus for the moment.\n",
    "\n",
    "Here are the steps we need to take:\n",
    "\n",
    "0. keep only the english language books (use a filter)\n",
    "1. `flatMap` each document into (`word, count`) pairs, but only for words that are not in the `stop_words` set (try with a list comprehension!)\n",
    "2. call `reduceByKey` to sum up all the `count`s for each word\n",
    "3. finally sort it in descending order to see the most common words first\n",
    "\n",
    "The first part here (filtering and `flatMap`) is much like what we did before, but with a twist: for each word, check that it is *not* a member of the `stop_words` set. \"Stop words\" include common words like \"a, the, he\" etc.  "
   ]
  },
  {
   "cell_type": "code",
   "execution_count": 26,
   "metadata": {
    "collapsed": false,
    "scrolled": true
   },
   "outputs": [],
   "source": [
    "from pickle import load\n",
    "stop_words = load(open('./stop_words.dump')).union(['gutenbergtm', 'gutenberg', 'electronic', 'foundation', 'license', 'copyright', 'donation', 'donations'])"
   ]
  },
  {
   "cell_type": "code",
   "execution_count": 27,
   "metadata": {
    "collapsed": true
   },
   "outputs": [],
   "source": [
    "# TODO: create english_rdd which contains only the english books by filtering on the metadata\n",
    "english_rdd = cleaned_rdd.filter(lambda (gid, text): meta_b.value[gid]['lang'] == 'en').cache()"
   ]
  },
  {
   "cell_type": "code",
   "execution_count": 28,
   "metadata": {
    "collapsed": true
   },
   "outputs": [],
   "source": [
    "# TODO: use flatMap to extract the words from each document's text using the english_rdd we made above\n",
    "words_rdd = (english_rdd.flatMap(lambda (gid, text): [word for word in text.split() if word not in stop_words])\n",
    "                        .setName('words_rdd')\n",
    "                        .cache())"
   ]
  },
  {
   "cell_type": "markdown",
   "metadata": {},
   "source": [
    "Now that we have our \"flattened\" data set, do the counting by first mapping each word in `words_rdd` into a `(word, 1)` tuple, and then using `reduceByKey` to calculate the word frequencies. At the end of this step, use the `sortBy` method to sort the word counts in descending order. "
   ]
  },
  {
   "cell_type": "code",
   "execution_count": 29,
   "metadata": {
    "collapsed": false
   },
   "outputs": [],
   "source": [
    "# TODO: do the word count!\n",
    "word_count = (words_rdd.map(lambda word: (word,1))\n",
    "                       .reduceByKey(lambda a,b: a+b)\n",
    "                       .sortBy(lambda (word, count): count, False)\n",
    "                       .setName('word_count')\n",
    "                       .cache())"
   ]
  },
  {
   "cell_type": "code",
   "execution_count": 30,
   "metadata": {
    "collapsed": false
   },
   "outputs": [],
   "source": [
    "assert(word_count.take(5) == [('said', 4339532), ('man', 2775185), ('time', 2688315), ('little', 2458328), ('like', 2342552)])"
   ]
  },
  {
   "cell_type": "code",
   "execution_count": 31,
   "metadata": {
    "collapsed": false
   },
   "outputs": [
    {
     "data": {
      "text/plain": [
       "[('said', 4339532),\n",
       " ('man', 2775185),\n",
       " ('time', 2688315),\n",
       " ('little', 2458328),\n",
       " ('like', 2342552),\n",
       " ('project', 2312744),\n",
       " ('did', 2191390),\n",
       " ('work', 2171932),\n",
       " ('great', 2152157),\n",
       " ('know', 1869099),\n",
       " ('old', 1795532),\n",
       " ('good', 1778801),\n",
       " ('mr', 1732731),\n",
       " ('men', 1721180),\n",
       " ('come', 1683570),\n",
       " ('way', 1623895),\n",
       " ('life', 1602771),\n",
       " ('came', 1569277),\n",
       " ('day', 1544134),\n",
       " ('long', 1531792),\n",
       " ('make', 1465303),\n",
       " ('say', 1392275),\n",
       " ('shall', 1332589),\n",
       " ('new', 1302405),\n",
       " ('think', 1300065),\n",
       " ('people', 1298256),\n",
       " ('just', 1285777),\n",
       " ('away', 1249704),\n",
       " ('thought', 1238659),\n",
       " ('went', 1220658),\n",
       " ('right', 1177801),\n",
       " ('eyes', 1176248),\n",
       " ('place', 1172754),\n",
       " ('hand', 1141677),\n",
       " ('left', 1127134),\n",
       " ('house', 1091411),\n",
       " ('years', 1078848),\n",
       " ('young', 1070013),\n",
       " ('works', 1021823),\n",
       " ('things', 1001645),\n",
       " ('face', 999440),\n",
       " ('dont', 961144),\n",
       " ('world', 957518),\n",
       " ('let', 937617),\n",
       " ('head', 936241),\n",
       " ('saw', 925013),\n",
       " ('god', 911105),\n",
       " ('took', 894364),\n",
       " ('far', 886483),\n",
       " ('tell', 880279)]"
      ]
     },
     "execution_count": 31,
     "metadata": {},
     "output_type": "execute_result"
    }
   ],
   "source": [
    "# fifty most common words (excluding stop words)\n",
    "word_count.take(50)"
   ]
  },
  {
   "cell_type": "markdown",
   "metadata": {},
   "source": [
    "## Reduces, Shuffles, and Partitioning\n",
    "During a `reduceByKey`, or any other reduction for that matter, data must be shuffled around the cluster and combined. Other common RDD methods like `join`, `sortByKey` etc. also typically require lots of data shuffling. By default, this is done in an intelligent way by first reducing values locally on each partition, and then combining the results of the partitions. Still, as is the case here, for common keys, every partition will have to send its results to others. This can result in a lot of temporary file IO if the data that needs to be communicated can't all be held in memory on all of the executors. \n",
    "\n",
    "One way around this is to pre-partition the data ahead of time so that the same keys land on the same partition by design. This results in much less data needing to be shipped around the network and can improve the performance. Of course, at the cost of an expensive initial shuffle that takes place during the partitioning step! But if many \"by key\" have to be done on the same data, it might be worth it. "
   ]
  },
  {
   "cell_type": "markdown",
   "metadata": {},
   "source": [
    "Lets have a look at these concepts by performing the word count in a few different ways. "
   ]
  },
  {
   "cell_type": "markdown",
   "metadata": {},
   "source": [
    "Now we will create a re-partitioned `words_rdd` using the default partitioning of `partitionBy` (just a hash function). You may also specify your own partitioning function. "
   ]
  },
  {
   "cell_type": "code",
   "execution_count": 32,
   "metadata": {
    "collapsed": true
   },
   "outputs": [],
   "source": [
    "num_partitions = words_rdd.getNumPartitions()"
   ]
  },
  {
   "cell_type": "code",
   "execution_count": 33,
   "metadata": {
    "collapsed": false
   },
   "outputs": [
    {
     "data": {
      "text/plain": [
       "769377171"
      ]
     },
     "execution_count": 33,
     "metadata": {},
     "output_type": "execute_result"
    }
   ],
   "source": [
    "par = (words_rdd.map(lambda word: (word,1))\n",
    "                .partitionBy(num_partitions)\n",
    "                .cache())\n",
    "par.count() # call count to compute and cache the data"
   ]
  },
  {
   "cell_type": "markdown",
   "metadata": {},
   "source": [
    "Since both datasets are cached in memory, we can compare the time it takes the reduce step to complete:"
   ]
  },
  {
   "cell_type": "code",
   "execution_count": 34,
   "metadata": {
    "collapsed": false
   },
   "outputs": [
    {
     "name": "stdout",
     "output_type": "stream",
     "text": [
      "CPU times: user 143 ms, sys: 45 ms, total: 188 ms\n",
      "Wall time: 33.6 s\n"
     ]
    },
    {
     "data": {
      "text/plain": [
       "3688153"
      ]
     },
     "execution_count": 34,
     "metadata": {},
     "output_type": "execute_result"
    }
   ],
   "source": [
    "%%time\n",
    "(words_rdd.map(lambda word: (word,1))\n",
    "          .reduceByKey(lambda a,b: a+b)\n",
    "          .count())"
   ]
  },
  {
   "cell_type": "code",
   "execution_count": 35,
   "metadata": {
    "collapsed": false
   },
   "outputs": [
    {
     "name": "stdout",
     "output_type": "stream",
     "text": [
      "CPU times: user 91 ms, sys: 28 ms, total: 119 ms\n",
      "Wall time: 18.9 s\n"
     ]
    },
    {
     "data": {
      "text/plain": [
       "3688153"
      ]
     },
     "execution_count": 35,
     "metadata": {},
     "output_type": "execute_result"
    }
   ],
   "source": [
    "%%time\n",
    "par.reduceByKey(lambda a,b: a+b).count()"
   ]
  },
  {
   "cell_type": "markdown",
   "metadata": {
    "collapsed": true
   },
   "source": [
    "Quite a speedup, but at the cost of an expensive initial shuffle. If the \"by key\" operation is only done once, then this is not worth it -- but if it's done repeatedly  (i.e. frequent joins) then it may be beneficial. However, we can also expect the difference to depend on the nature of the dataset. If you inspect the Spark UI, you can see that the first `reduceByKey` (i.e. one done on `word_rdd`) shuffled ~390 Mb of data, while the second `reduceByKey` (i.e. done on `par`) only shuffled ~50 Mb of data. This dataset is still pretty small, but when the shuffles are in the Gb range, the differences can be substantial. \n",
    "\n",
    "If you need to do lookups of individual keys, this becomes even more dramatic: "
   ]
  },
  {
   "cell_type": "code",
   "execution_count": 36,
   "metadata": {
    "collapsed": false
   },
   "outputs": [
    {
     "name": "stdout",
     "output_type": "stream",
     "text": [
      "CPU times: user 72 ms, sys: 27 ms, total: 99 ms\n",
      "Wall time: 12.1 s\n"
     ]
    }
   ],
   "source": [
    "%time x = words_rdd.lookup('environment')"
   ]
  },
  {
   "cell_type": "code",
   "execution_count": 37,
   "metadata": {
    "collapsed": false
   },
   "outputs": [
    {
     "name": "stdout",
     "output_type": "stream",
     "text": [
      "CPU times: user 11 ms, sys: 2 ms, total: 13 ms\n",
      "Wall time: 888 ms\n"
     ]
    }
   ],
   "source": [
    "%time x = par.lookup('environment')"
   ]
  },
  {
   "cell_type": "markdown",
   "metadata": {},
   "source": [
    "# Computing word frequency vs. time\n",
    "\n",
    "Now we have all the components to build a simple tool that visualizes the relative word frequency as a function of time in the Gutenberg corpus. For inspiration, see the [Google Ngram viewer](https://books.google.com/ngrams).\n",
    "\n",
    "### Converting documents into vectors\n",
    "\n",
    "To make quantitative analysis of the corpus possible, we will convert each document into a vector that represents the word counts for each word appearing in the document. \n",
    "\n",
    "This will look something like this. Imagine we have have a corpus consisting of two \"documents\"\n",
    "\n",
    "    document 1: \"a dog bit me\"\n",
    "    document 2: \"i bit the dog back\"\n",
    "    \n",
    "Then our corpus vocabulary (of 1-grams) is\n",
    "\n",
    "    [\"a\", \"dog\", \"bit\", \"me\", \"i\", \"the\", \"back\"]\n",
    "    \n",
    "Since this is an array and each word in the array has a unique index, we can \"encode\" the two documents using this index mapping. Our corpus now looks like this: \n",
    "\n",
    "    document 1: [1, 1, 1, 1, 0, 0, 0]\n",
    "    document 2: [0, 1, 1, 0, 1, 1, 1]\n",
    "    \n",
    "In order for the vector indices to remain consistent across the whole corpus, the first step is to build a corpus-wide lookup table, a `word --> index` mapping. \n",
    "\n",
    "\n",
    "### Generating word counts \n",
    "\n",
    "Once each document is converted to a vector, doing the word counts for sub-groups of documents is a simple vector addition operation. In our case, we will reduce the vectors by year, yielding an RDD that will have the total number of occurrences of each word in every year. From there, it is trivial to look up the desired word and plot the relative frequency vs. year. \n",
    "\n",
    "## Create the vocabulary lookup table\n",
    "Create a look-up table of words by attaching a unique index to each word. The Spark API provides a [zipWithIndex](http://spark.apache.org/docs/latest/api/python/pyspark.html#pyspark.RDD.zipWithIndex) method that makes this easy. \n",
    "\n",
    "Above, we created the `word_count` RDD that already contains the unique words and their associated counts. To reduce the size of the lookup table (and the size of the vectors), we will restrict ourselves to using only the first 100k words. \n",
    "\n",
    "You can either create the `(word, index)` pairs in the RDD and collect the top 100,000 as a dictionary using `collectAsMap`, or you can collect the top 100,000 words from `word_count` RDD and turn them into a dictionary locally. \n",
    "\n",
    "These are the steps we need to take to make the vocabulary lookup from an RDD:\n",
    "\n",
    "1. use `zipWithIndex` on the keys of `word_count` to generate a unique index for each word -- we don't care about the counts anymore, so we can get rid of the values and just work with the keys\n",
    "2. use filter to retain only the first 100000 words \n",
    "3. finally, use [collectAsMap](http://spark.apache.org/docs/latest/api/python/pyspark.html#pyspark.RDD.collectAsMap) to return the resulting RDD to the driver as a dictionary. "
   ]
  },
  {
   "cell_type": "code",
   "execution_count": 38,
   "metadata": {
    "collapsed": true
   },
   "outputs": [],
   "source": [
    "# TODO: create an RDD of (word, index) pairs and keep only the top 100000\n",
    "word_lookup = (word_count.keys()\n",
    "                         .zipWithIndex()\n",
    "                         .filter(lambda (word, index): index < 100000)\n",
    "                         .collectAsMap())"
   ]
  },
  {
   "cell_type": "markdown",
   "metadata": {},
   "source": [
    "Make a `word_lookup` into a broadcast variable so we can use it on all the workers:"
   ]
  },
  {
   "cell_type": "code",
   "execution_count": 39,
   "metadata": {
    "collapsed": true
   },
   "outputs": [],
   "source": [
    "word_lookup_b = sc.broadcast(word_lookup)"
   ]
  },
  {
   "cell_type": "markdown",
   "metadata": {},
   "source": [
    "This dictionary is approximately 6 Mb in size - without a broadcast, it would get sent over the network to each task, resulting in a lot of network traffic! As a broadcast variable, it gets sent only *once* to each *executor*, i.e. it's transferred only 20 times (if you are using the defaults, otherwise however many executors you have). "
   ]
  },
  {
   "cell_type": "markdown",
   "metadata": {},
   "source": [
    "## Vectorize the documents\n",
    "\n",
    "Now that we have a vocabulary lookup table, we can use this to turn each document into a vector. \n",
    "\n",
    "This is done by counting up the occurrences of all words in the document that are also in the global vocabulary. \n",
    "\n",
    "The function `vectorize_doc` below accomplishes this by using a dictionary to keep track of the local word count. Once the counting is done we use the counts to create a sparse vector that represents the document. A sparse vector consists of two arrays, one representing the *locations* of the non-zero values, and the other the values themselves. \n",
    "\n",
    "To return to our contrived example from above, we had \n",
    "\n",
    "    document 1: \"a dog bit me\"\n",
    "    document 2: \"i bit the dog back\"\n",
    "    \n",
    "which turned into \n",
    "\n",
    "    document 1: [1, 1, 1, 1, 0, 0, 0]\n",
    "    document 2: [0, 1, 1, 0, 1, 1, 1]\n",
    "\n",
    "with a vocabulary of \n",
    "\n",
    "    [\"a\", \"dog\", \"bit\", \"me\", \"i\", \"the\", \"back\"]\n",
    "    \n",
    "As sparse vectors, these two documents could be represented with two arrays: \n",
    "\n",
    "    document 1: indices = [0,1,2,3]; values = [1, 1, 1, 1]\n",
    "    document 2: indices = [1,2,4,5,6]; values = [1, 1, 1, 1, 1]\n",
    "\n",
    "We use Spark's own `SparseVector` data type, for which we must specify a size (total number of features), a (sorted) array of indices, and an array of values. This means that we start to save space if sparsity is > 50%. Note that the `SparseVector` provides some nice higher-level methods, but it does not allow simple operations like addition. If a lot of vector arithmetic is needed, you should use the scipy sparse types instead. "
   ]
  },
  {
   "cell_type": "markdown",
   "metadata": {},
   "source": [
    "In the next cell, we define two functions: \n",
    "\n",
    "* `extract_ngrams` converts a sequence of words or characters into a sequence of n-grams (here we are just using single worde, i.e. 1-grams so we'll postpone talking about ngrams until later)\n",
    "\n",
    "* `vectorize_doc` converts a document into a sparse vector by using `extract_ngrams` to tokenize it and a vocabulary mapping to turn each word into a vector component"
   ]
  },
  {
   "cell_type": "code",
   "execution_count": 40,
   "metadata": {
    "collapsed": false
   },
   "outputs": [],
   "source": [
    "from pyspark.mllib.linalg import SparseVector\n",
    "\n",
    "def extract_ngrams(tokens, ngram_range=[1,1], select_ngrams = None, ngram_type='word'):\n",
    "    \"\"\"\n",
    "    Turn tokens into a sequence of n-grams \n",
    "\n",
    "    **Inputs**:\n",
    "\n",
    "    *tokens*: a list of tokens\n",
    "\n",
    "    **Optional Keywords**:\n",
    "\n",
    "    *ngram_range*: a tuple with min, max ngram ngram_range\n",
    "    \n",
    "    *select_ngrams*: the vocabulary to use\n",
    "    \n",
    "    *ngram_type*: whether to produce word or character ngrams\n",
    "\n",
    "    **Output**\n",
    "\n",
    "    Generator yielding a list of ngrams in the desired range\n",
    "    generated from the input list of tokens\n",
    "\n",
    "    \"\"\"\n",
    "    join_str = \"\" if ngram_type=='character' else \" \"\n",
    "    \n",
    "    # handle token n-grams\n",
    "    min_n, max_n = ngram_range\n",
    "    n_tokens = len(tokens)\n",
    "    \n",
    "    for n in xrange(min_n, min(max_n + 1, n_tokens + 1)):\n",
    "        for i in xrange(n_tokens - n + 1):\n",
    "            if n == 1: \n",
    "                res = tokens[i]\n",
    "            else : \n",
    "                res = join_str.join(tokens[i: i+n])\n",
    "           \n",
    "            # if we are using a lookup vocabulary, check for membership here\n",
    "            if select_ngrams is not None : \n",
    "                if res in select_ngrams: \n",
    "                    yield res\n",
    "            else : \n",
    "                yield res\n",
    "            \n",
    "\n",
    "def vectorize_doc(doc, vocab, ngram_range = [1,1], ngram_type='word') : \n",
    "    \"\"\"\n",
    "    Returns a vector representation of `doc` given the reference \n",
    "    vocabulary `vocab` after tokenizing it with `tokenizer`\n",
    "    \n",
    "    Arguments: \n",
    "        \n",
    "        doc: a sequence of tokens (words or characters)\n",
    "        \n",
    "        vocab: the vocabulary mapping\n",
    "        \n",
    "    Keywords:\n",
    "    \n",
    "        ngram_range: the range of ngrams to process\n",
    "        \n",
    "        ngram_type: whether to produce character or word ngrams; default is \n",
    "        \n",
    "    Returns:\n",
    "    \n",
    "        a sparse vector representation of the document given the vocabulary mapping\n",
    "    \"\"\"\n",
    "    from collections import defaultdict\n",
    "    from scipy.sparse import csr_matrix \n",
    "        \n",
    "    # count all the word occurences \n",
    "    data = np.zeros(len(vocab))\n",
    "    \n",
    "    for ngram in extract_ngrams(doc, ngram_range, vocab, ngram_type) : \n",
    "         data[vocab[ngram]] += 1\n",
    "            \n",
    "    # only keep the nonzero indices for the sparse representation\n",
    "    indices = data.nonzero()[0]\n",
    "    values = data[indices]\n",
    "    \n",
    "    return SparseVector(len(vocab), indices, values)"
   ]
  },
  {
   "cell_type": "markdown",
   "metadata": {},
   "source": [
    "Using these functions to vectorize our two-sentence test corpus: "
   ]
  },
  {
   "cell_type": "code",
   "execution_count": 41,
   "metadata": {
    "collapsed": true
   },
   "outputs": [],
   "source": [
    "import string\n",
    "s1 = \"a dog bit me\"\n",
    "s2 = \"i bit the dog back\"\n",
    "vocab = [\"a\", \"dog\", \"bit\", \"me\", \"i\", \"the\", \"back\"]\n",
    "vocab_dict = {word:ind for ind, word in enumerate(vocab)}"
   ]
  },
  {
   "cell_type": "code",
   "execution_count": 42,
   "metadata": {
    "collapsed": false
   },
   "outputs": [
    {
     "name": "stdout",
     "output_type": "stream",
     "text": [
      "a dog bit me\n",
      "(7,[0,1,2,3],[1.0,1.0,1.0,1.0])\n",
      "i bit the dog back\n",
      "(7,[1,2,4,5,6],[1.0,1.0,1.0,1.0,1.0])\n"
     ]
    }
   ],
   "source": [
    "print(s1)\n",
    "print(vectorize_doc(s1.split(), vocab_dict))\n",
    "print(s2)\n",
    "print(vectorize_doc(s2.split(), vocab_dict))"
   ]
  },
  {
   "cell_type": "markdown",
   "metadata": {},
   "source": [
    "Now we have all the components we need to create an RDD of english-language books vectorized using the most common 100k words. All we need to do is to use `mapValues` to map the text of each document in `english_rdd` into a vector using `vectorize_doc` and our broadcast vocabulary lookup table `word_lookup_b`. "
   ]
  },
  {
   "cell_type": "code",
   "execution_count": 43,
   "metadata": {
    "collapsed": true
   },
   "outputs": [],
   "source": [
    "# FILL IN \n",
    "vector_rdd = english_rdd.mapValues(lambda text: vectorize_doc(text.split(), word_lookup_b.value)).cache()"
   ]
  },
  {
   "cell_type": "code",
   "execution_count": 44,
   "metadata": {
    "collapsed": false,
    "scrolled": true
   },
   "outputs": [
    {
     "data": {
      "text/plain": [
       "(25600,\n",
       " SparseVector(100000, {0: 28.0, 1: 50.0, 2: 106.0, 3: 165.0, 4: 134.0, 5: 88.0, 6: 110.0, 7: 63.0, 8: 58.0, 9: 76.0, 10: 56.0, 11: 64.0, 12: 4.0, 13: 35.0, 14: 39.0, 15: 129.0, 16: 33.0, 17: 69.0, 18: 69.0, 19: 80.0, 20: 32.0, 21: 22.0, 22: 10.0, 23: 22.0, 24: 55.0, 25: 46.0, 26: 73.0, 27: 35.0, 28: 11.0, 29: 58.0, 30: 58.0, 31: 26.0, 32: 50.0, 33: 15.0, 34: 39.0, 35: 12.0, 36: 40.0, 37: 58.0, 38: 32.0, 39: 51.0, 40: 2.0, 41: 13.0, 42: 58.0, 43: 6.0, 44: 34.0, 45: 16.0, 46: 1.0, 47: 23.0, 48: 57.0, 49: 28.0, 50: 39.0, 51: 12.0, 52: 58.0, 53: 14.0, 54: 10.0, 55: 34.0, 56: 49.0, 57: 13.0, 58: 12.0, 59: 51.0, 60: 26.0, 61: 30.0, 62: 14.0, 63: 19.0, 64: 10.0, 65: 28.0, 66: 57.0, 67: 10.0, 68: 20.0, 69: 11.0, 70: 49.0, 71: 39.0, 73: 19.0, 74: 33.0, 75: 25.0, 76: 11.0, 77: 16.0, 78: 22.0, 79: 20.0, 80: 17.0, 81: 3.0, 82: 21.0, 83: 7.0, 84: 23.0, 85: 10.0, 86: 11.0, 87: 1.0, 88: 1.0, 89: 21.0, 90: 17.0, 91: 4.0, 92: 3.0, 93: 61.0, 94: 5.0, 95: 80.0, 96: 20.0, 97: 13.0, 98: 24.0, 99: 3.0, 100: 9.0, 101: 13.0, 102: 31.0, 103: 7.0, 104: 6.0, 105: 11.0, 106: 17.0, 107: 54.0, 108: 16.0, 109: 4.0, 110: 7.0, 111: 7.0, 112: 12.0, 113: 15.0, 114: 3.0, 115: 13.0, 116: 18.0, 117: 40.0, 118: 3.0, 119: 16.0, 121: 15.0, 122: 24.0, 123: 19.0, 124: 2.0, 125: 8.0, 126: 24.0, 127: 18.0, 128: 5.0, 129: 6.0, 130: 9.0, 131: 22.0, 132: 2.0, 133: 10.0, 134: 10.0, 135: 36.0, 136: 68.0, 137: 25.0, 138: 12.0, 139: 7.0, 140: 2.0, 141: 3.0, 142: 12.0, 143: 2.0, 144: 3.0, 145: 24.0, 146: 26.0, 147: 9.0, 148: 4.0, 149: 6.0, 150: 7.0, 151: 57.0, 152: 18.0, 153: 12.0, 154: 7.0, 155: 1.0, 156: 1.0, 157: 3.0, 158: 19.0, 159: 5.0, 160: 14.0, 161: 16.0, 162: 17.0, 164: 14.0, 165: 2.0, 166: 3.0, 167: 8.0, 168: 21.0, 169: 16.0, 170: 25.0, 171: 19.0, 172: 28.0, 173: 1.0, 174: 21.0, 175: 50.0, 176: 1.0, 177: 3.0, 178: 6.0, 179: 14.0, 180: 9.0, 181: 4.0, 182: 17.0, 183: 12.0, 184: 22.0, 185: 45.0, 186: 21.0, 187: 4.0, 188: 28.0, 189: 17.0, 190: 1.0, 191: 19.0, 192: 11.0, 193: 10.0, 194: 13.0, 195: 13.0, 196: 1.0, 197: 2.0, 198: 10.0, 199: 8.0, 200: 24.0, 201: 5.0, 202: 1.0, 203: 6.0, 204: 8.0, 205: 11.0, 207: 14.0, 208: 2.0, 209: 15.0, 211: 16.0, 212: 1.0, 213: 2.0, 214: 19.0, 215: 17.0, 216: 11.0, 217: 1.0, 218: 3.0, 219: 3.0, 221: 3.0, 222: 10.0, 223: 9.0, 224: 5.0, 225: 1.0, 226: 7.0, 227: 2.0, 228: 1.0, 229: 1.0, 230: 13.0, 231: 4.0, 232: 34.0, 233: 9.0, 234: 27.0, 235: 10.0, 236: 9.0, 237: 32.0, 238: 22.0, 239: 28.0, 240: 20.0, 241: 16.0, 242: 2.0, 243: 6.0, 244: 12.0, 245: 5.0, 246: 28.0, 247: 5.0, 248: 24.0, 249: 16.0, 250: 9.0, 251: 8.0, 253: 11.0, 254: 15.0, 255: 10.0, 256: 6.0, 257: 5.0, 258: 7.0, 259: 17.0, 260: 4.0, 261: 5.0, 262: 2.0, 263: 3.0, 264: 2.0, 265: 1.0, 266: 1.0, 267: 3.0, 268: 12.0, 269: 7.0, 270: 8.0, 271: 13.0, 272: 3.0, 273: 22.0, 274: 10.0, 275: 2.0, 277: 4.0, 278: 10.0, 279: 2.0, 280: 14.0, 281: 42.0, 282: 4.0, 283: 11.0, 284: 3.0, 285: 15.0, 286: 8.0, 287: 4.0, 288: 10.0, 289: 2.0, 290: 9.0, 291: 11.0, 292: 3.0, 293: 19.0, 294: 5.0, 295: 2.0, 296: 6.0, 297: 18.0, 298: 8.0, 299: 3.0, 300: 3.0, 301: 2.0, 302: 7.0, 304: 7.0, 305: 7.0, 306: 1.0, 308: 11.0, 309: 23.0, 310: 12.0, 311: 2.0, 312: 6.0, 313: 9.0, 314: 1.0, 315: 1.0, 317: 1.0, 318: 1.0, 319: 5.0, 322: 2.0, 323: 4.0, 324: 10.0, 325: 45.0, 326: 6.0, 327: 2.0, 328: 10.0, 329: 11.0, 330: 12.0, 331: 6.0, 332: 5.0, 333: 3.0, 334: 7.0, 335: 2.0, 336: 4.0, 337: 16.0, 338: 2.0, 339: 5.0, 340: 15.0, 341: 2.0, 342: 8.0, 343: 10.0, 344: 22.0, 345: 11.0, 347: 6.0, 348: 34.0, 350: 2.0, 351: 5.0, 352: 9.0, 353: 13.0, 354: 3.0, 355: 7.0, 357: 4.0, 358: 1.0, 359: 34.0, 360: 8.0, 361: 7.0, 362: 12.0, 363: 4.0, 364: 5.0, 365: 8.0, 366: 2.0, 367: 10.0, 368: 11.0, 369: 22.0, 370: 8.0, 371: 1.0, 372: 1.0, 373: 10.0, 374: 3.0, 375: 9.0, 378: 8.0, 379: 10.0, 381: 9.0, 382: 6.0, 383: 14.0, 384: 8.0, 385: 9.0, 386: 1.0, 387: 10.0, 388: 10.0, 389: 2.0, 390: 2.0, 391: 6.0, 392: 6.0, 395: 9.0, 396: 8.0, 397: 11.0, 398: 10.0, 399: 2.0, 400: 5.0, 401: 3.0, 402: 4.0, 403: 1.0, 404: 4.0, 405: 6.0, 406: 2.0, 407: 3.0, 408: 3.0, 409: 3.0, 410: 2.0, 411: 5.0, 412: 5.0, 413: 3.0, 414: 3.0, 415: 1.0, 416: 7.0, 417: 6.0, 418: 26.0, 419: 8.0, 420: 5.0, 421: 12.0, 422: 40.0, 424: 4.0, 425: 1.0, 426: 2.0, 427: 1.0, 428: 6.0, 429: 8.0, 430: 9.0, 431: 33.0, 432: 8.0, 433: 1.0, 434: 1.0, 435: 6.0, 436: 17.0, 437: 9.0, 438: 7.0, 439: 1.0, 440: 4.0, 441: 2.0, 442: 11.0, 443: 3.0, 444: 2.0, 445: 6.0, 446: 7.0, 447: 2.0, 448: 7.0, 449: 8.0, 450: 5.0, 452: 2.0, 453: 7.0, 454: 5.0, 455: 12.0, 456: 14.0, 457: 2.0, 458: 4.0, 459: 16.0, 460: 2.0, 462: 8.0, 463: 3.0, 464: 7.0, 465: 18.0, 466: 5.0, 467: 2.0, 468: 6.0, 469: 4.0, 470: 1.0, 471: 8.0, 472: 7.0, 474: 1.0, 475: 5.0, 476: 9.0, 477: 7.0, 478: 3.0, 481: 2.0, 482: 13.0, 483: 7.0, 484: 7.0, 485: 1.0, 486: 1.0, 488: 2.0, 489: 2.0, 490: 4.0, 492: 8.0, 493: 3.0, 494: 5.0, 495: 10.0, 497: 9.0, 498: 2.0, 500: 5.0, 501: 8.0, 505: 2.0, 506: 5.0, 507: 2.0, 508: 7.0, 509: 7.0, 511: 17.0, 512: 1.0, 513: 5.0, 514: 9.0, 515: 4.0, 516: 4.0, 517: 4.0, 518: 5.0, 519: 20.0, 520: 2.0, 521: 1.0, 522: 1.0, 523: 4.0, 524: 22.0, 525: 7.0, 526: 1.0, 527: 6.0, 528: 11.0, 529: 36.0, 530: 6.0, 531: 6.0, 533: 1.0, 534: 4.0, 535: 3.0, 536: 3.0, 538: 15.0, 539: 17.0, 540: 1.0, 541: 8.0, 542: 1.0, 543: 8.0, 544: 1.0, 545: 1.0, 546: 3.0, 547: 6.0, 548: 1.0, 549: 10.0, 551: 7.0, 552: 3.0, 554: 12.0, 555: 1.0, 557: 2.0, 558: 4.0, 559: 3.0, 562: 1.0, 563: 12.0, 564: 2.0, 565: 7.0, 566: 6.0, 567: 56.0, 569: 6.0, 571: 8.0, 572: 14.0, 573: 12.0, 576: 5.0, 577: 12.0, 579: 1.0, 580: 8.0, 581: 1.0, 583: 7.0, 584: 1.0, 585: 1.0, 587: 4.0, 590: 7.0, 592: 4.0, 593: 15.0, 594: 1.0, 596: 21.0, 597: 1.0, 598: 5.0, 599: 23.0, 602: 6.0, 604: 5.0, 605: 1.0, 606: 4.0, 607: 4.0, 609: 5.0, 610: 5.0, 611: 36.0, 612: 7.0, 614: 7.0, 615: 5.0, 616: 2.0, 618: 15.0, 620: 3.0, 622: 2.0, 623: 6.0, 624: 13.0, 625: 9.0, 626: 6.0, 627: 2.0, 628: 2.0, 630: 7.0, 632: 7.0, 633: 13.0, 634: 12.0, 635: 6.0, 636: 1.0, 637: 1.0, 638: 18.0, 639: 11.0, 640: 2.0, 642: 3.0, 644: 8.0, 645: 5.0, 646: 3.0, 647: 17.0, 648: 7.0, 650: 1.0, 651: 2.0, 652: 3.0, 654: 4.0, 656: 10.0, 657: 8.0, 659: 1.0, 662: 6.0, 663: 1.0, 664: 7.0, 665: 1.0, 666: 2.0, 667: 2.0, 669: 4.0, 670: 4.0, 671: 1.0, 672: 1.0, 673: 3.0, 674: 3.0, 675: 5.0, 677: 5.0, 679: 32.0, 680: 4.0, 681: 32.0, 682: 1.0, 683: 24.0, 684: 24.0, 686: 4.0, 687: 1.0, 689: 2.0, 690: 5.0, 691: 6.0, 692: 12.0, 696: 8.0, 698: 6.0, 699: 4.0, 703: 8.0, 704: 9.0, 706: 1.0, 707: 2.0, 708: 4.0, 709: 1.0, 711: 6.0, 712: 30.0, 713: 9.0, 714: 5.0, 715: 1.0, 716: 3.0, 717: 5.0, 718: 1.0, 719: 1.0, 721: 3.0, 723: 12.0, 724: 2.0, 725: 5.0, 727: 6.0, 728: 6.0, 729: 8.0, 734: 12.0, 735: 2.0, 736: 13.0, 737: 12.0, 738: 16.0, 739: 13.0, 740: 4.0, 741: 4.0, 744: 2.0, 745: 16.0, 746: 6.0, 747: 3.0, 748: 6.0, 749: 2.0, 750: 4.0, 752: 6.0, 753: 9.0, 755: 15.0, 756: 3.0, 757: 6.0, 758: 11.0, 761: 5.0, 762: 5.0, 763: 1.0, 764: 8.0, 765: 4.0, 766: 2.0, 767: 5.0, 768: 3.0, 770: 3.0, 771: 2.0, 772: 9.0, 773: 3.0, 774: 1.0, 775: 7.0, 776: 2.0, 777: 10.0, 778: 12.0, 780: 4.0, 781: 2.0, 782: 21.0, 783: 2.0, 785: 1.0, 788: 9.0, 789: 4.0, 790: 1.0, 791: 1.0, 792: 3.0, 793: 1.0, 794: 1.0, 795: 6.0, 796: 3.0, 797: 9.0, 798: 4.0, 799: 3.0, 800: 2.0, 801: 10.0, 803: 3.0, 804: 1.0, 805: 1.0, 806: 2.0, 809: 2.0, 810: 2.0, 811: 2.0, 812: 28.0, 814: 1.0, 815: 2.0, 817: 4.0, 818: 26.0, 819: 2.0, 820: 4.0, 821: 2.0, 822: 5.0, 824: 39.0, 826: 4.0, 830: 1.0, 831: 1.0, 833: 6.0, 834: 4.0, 835: 1.0, 836: 4.0, 837: 2.0, 838: 8.0, 839: 8.0, 840: 1.0, 841: 1.0, 842: 6.0, 843: 7.0, 844: 4.0, 845: 5.0, 846: 2.0, 848: 1.0, 849: 8.0, 850: 11.0, 852: 2.0, 853: 13.0, 854: 22.0, 855: 2.0, 856: 3.0, 857: 9.0, 858: 14.0, 859: 9.0, 860: 1.0, 861: 16.0, 862: 1.0, 863: 3.0, 865: 7.0, 866: 3.0, 867: 2.0, 868: 3.0, 872: 2.0, 873: 1.0, 874: 2.0, 875: 3.0, 876: 18.0, 878: 3.0, 879: 1.0, 881: 6.0, 882: 1.0, 883: 5.0, 884: 3.0, 885: 1.0, 886: 10.0, 887: 1.0, 888: 3.0, 889: 2.0, 890: 4.0, 891: 2.0, 897: 20.0, 898: 4.0, 899: 1.0, 900: 6.0, 901: 1.0, 903: 5.0, 904: 1.0, 906: 8.0, 907: 3.0, 908: 1.0, 909: 2.0, 910: 1.0, 911: 18.0, 912: 1.0, 913: 1.0, 914: 4.0, 918: 3.0, 920: 7.0, 921: 2.0, 923: 1.0, 924: 22.0, 925: 6.0, 927: 2.0, 929: 2.0, 931: 5.0, 932: 5.0, 933: 3.0, 934: 2.0, 935: 10.0, 936: 3.0, 937: 1.0, 939: 117.0, 941: 14.0, 942: 4.0, 943: 7.0, 944: 3.0, 945: 5.0, 949: 2.0, 950: 1.0, 951: 2.0, 952: 2.0, 954: 1.0, 956: 1.0, 957: 1.0, 958: 1.0, 959: 1.0, 960: 3.0, 962: 2.0, 963: 1.0, 964: 2.0, 965: 21.0, 966: 5.0, 967: 13.0, 969: 41.0, 972: 5.0, 974: 1.0, 975: 1.0, 977: 4.0, 979: 6.0, 981: 10.0, 982: 5.0, 983: 14.0, 984: 9.0, 985: 1.0, 986: 1.0, 988: 3.0, 989: 5.0, 990: 4.0, 992: 2.0, 993: 11.0, 994: 1.0, 995: 1.0, 996: 1.0, 998: 1.0, 999: 8.0, 1001: 2.0, 1003: 1.0, 1004: 2.0, 1007: 1.0, 1009: 5.0, 1010: 2.0, 1011: 13.0, 1012: 6.0, 1013: 2.0, 1015: 1.0, 1018: 1.0, 1019: 1.0, 1020: 1.0, 1021: 1.0, 1023: 2.0, 1025: 4.0, 1026: 1.0, 1027: 3.0, 1028: 6.0, 1029: 5.0, 1032: 1.0, 1033: 3.0, 1034: 7.0, 1035: 1.0, 1036: 8.0, 1037: 8.0, 1038: 3.0, 1039: 3.0, 1041: 7.0, 1043: 2.0, 1044: 2.0, 1045: 2.0, 1048: 3.0, 1049: 1.0, 1050: 6.0, 1051: 1.0, 1052: 1.0, 1055: 3.0, 1056: 1.0, 1058: 3.0, 1059: 3.0, 1060: 5.0, 1061: 10.0, 1063: 3.0, 1065: 11.0, 1066: 2.0, 1067: 14.0, 1068: 1.0, 1069: 2.0, 1071: 2.0, 1073: 1.0, 1074: 9.0, 1075: 4.0, 1076: 2.0, 1077: 3.0, 1078: 4.0, 1080: 2.0, 1083: 6.0, 1085: 2.0, 1087: 4.0, 1089: 3.0, 1091: 1.0, 1092: 4.0, 1093: 7.0, 1094: 2.0, 1096: 1.0, 1097: 1.0, 1098: 2.0, 1099: 1.0, 1100: 2.0, 1102: 1.0, 1106: 6.0, 1107: 2.0, 1108: 6.0, 1110: 2.0, 1111: 2.0, 1112: 2.0, 1113: 11.0, 1117: 1.0, 1119: 1.0, 1120: 4.0, 1121: 1.0, 1122: 1.0, 1123: 2.0, 1124: 3.0, 1125: 1.0, 1126: 5.0, 1127: 8.0, 1128: 2.0, 1131: 1.0, 1132: 1.0, 1134: 6.0, 1136: 1.0, 1137: 3.0, 1138: 17.0, 1139: 8.0, 1141: 6.0, 1144: 4.0, 1145: 10.0, 1146: 1.0, 1147: 21.0, 1148: 6.0, 1149: 1.0, 1150: 1.0, 1153: 6.0, 1156: 9.0, 1157: 1.0, 1158: 5.0, 1159: 1.0, 1160: 13.0, 1162: 4.0, 1163: 1.0, 1164: 5.0, 1165: 1.0, 1168: 2.0, 1169: 12.0, 1170: 4.0, 1171: 4.0, 1172: 3.0, 1174: 8.0, 1175: 1.0, 1177: 2.0, 1180: 2.0, 1182: 7.0, 1184: 12.0, 1185: 4.0, 1186: 1.0, 1187: 4.0, 1188: 1.0, 1189: 1.0, 1191: 3.0, 1192: 1.0, 1193: 2.0, 1195: 1.0, 1198: 28.0, 1200: 10.0, 1201: 15.0, 1205: 3.0, 1206: 3.0, 1209: 5.0, 1213: 9.0, 1214: 3.0, 1215: 1.0, 1216: 1.0, 1218: 3.0, 1219: 11.0, 1220: 4.0, 1221: 4.0, 1222: 4.0, 1223: 1.0, 1224: 1.0, 1225: 2.0, 1226: 3.0, 1228: 22.0, 1230: 2.0, 1231: 16.0, 1233: 3.0, 1235: 3.0, 1236: 2.0, 1237: 6.0, 1238: 1.0, 1239: 1.0, 1240: 6.0, 1242: 1.0, 1243: 1.0, 1244: 1.0, 1245: 8.0, 1246: 3.0, 1247: 4.0, 1249: 3.0, 1250: 5.0, 1252: 1.0, 1253: 4.0, 1254: 79.0, 1255: 4.0, 1256: 7.0, 1258: 5.0, 1259: 2.0, 1260: 1.0, 1261: 6.0, 1262: 1.0, 1263: 11.0, 1264: 3.0, 1265: 13.0, 1269: 4.0, 1273: 1.0, 1276: 3.0, 1280: 2.0, 1281: 19.0, 1283: 3.0, 1284: 4.0, 1288: 1.0, 1291: 12.0, 1293: 2.0, 1296: 2.0, 1297: 8.0, 1298: 1.0, 1301: 1.0, 1302: 17.0, 1303: 4.0, 1304: 7.0, 1305: 6.0, 1306: 1.0, 1307: 7.0, 1308: 2.0, 1309: 16.0, 1311: 2.0, 1312: 1.0, 1313: 2.0, 1314: 1.0, 1315: 1.0, 1316: 3.0, 1319: 11.0, 1320: 1.0, 1321: 2.0, 1322: 2.0, 1323: 4.0, 1324: 16.0, 1326: 6.0, 1328: 1.0, 1329: 1.0, 1330: 11.0, 1331: 4.0, 1333: 2.0, 1334: 2.0, 1337: 1.0, 1338: 4.0, 1339: 4.0, 1340: 2.0, 1341: 4.0, 1344: 14.0, 1345: 1.0, 1347: 9.0, 1348: 3.0, 1349: 2.0, 1350: 11.0, 1351: 2.0, 1352: 4.0, 1353: 1.0, 1356: 2.0, 1358: 7.0, 1359: 1.0, 1362: 1.0, 1364: 1.0, 1366: 1.0, 1367: 2.0, 1369: 1.0, 1370: 13.0, 1371: 3.0, 1374: 1.0, 1375: 1.0, 1380: 3.0, 1382: 11.0, 1383: 1.0, 1385: 1.0, 1386: 7.0, 1387: 1.0, 1389: 2.0, 1390: 1.0, 1392: 2.0, 1396: 1.0, 1397: 3.0, 1398: 6.0, 1399: 2.0, 1400: 9.0, 1403: 1.0, 1405: 4.0, 1406: 3.0, 1408: 1.0, 1409: 3.0, 1410: 4.0, 1411: 4.0, 1412: 1.0, 1414: 4.0, 1415: 1.0, 1416: 1.0, 1417: 2.0, 1420: 2.0, 1424: 8.0, 1426: 2.0, 1428: 3.0, 1429: 1.0, 1430: 4.0, 1431: 3.0, 1433: 3.0, 1435: 4.0, 1436: 3.0, 1437: 10.0, 1438: 3.0, 1440: 2.0, 1441: 1.0, 1443: 6.0, 1444: 1.0, 1445: 1.0, 1448: 2.0, 1449: 1.0, 1450: 1.0, 1452: 17.0, 1453: 1.0, 1454: 6.0, 1456: 1.0, 1457: 2.0, 1458: 15.0, 1462: 1.0, 1463: 1.0, 1464: 2.0, 1465: 3.0, 1466: 2.0, 1470: 3.0, 1471: 2.0, 1472: 1.0, 1473: 5.0, 1475: 1.0, 1477: 1.0, 1478: 5.0, 1480: 4.0, 1482: 1.0, 1484: 3.0, 1485: 5.0, 1487: 3.0, 1489: 9.0, 1493: 2.0, 1495: 3.0, 1496: 1.0, 1498: 1.0, 1499: 1.0, 1500: 8.0, 1502: 5.0, 1504: 3.0, 1505: 1.0, 1507: 3.0, 1508: 3.0, 1509: 5.0, 1510: 4.0, 1511: 5.0, 1512: 6.0, 1514: 1.0, 1516: 21.0, 1517: 1.0, 1520: 4.0, 1521: 12.0, 1522: 1.0, 1526: 1.0, 1528: 1.0, 1529: 3.0, 1533: 2.0, 1536: 3.0, 1540: 12.0, 1544: 6.0, 1545: 1.0, 1547: 1.0, 1548: 3.0, 1549: 2.0, 1551: 1.0, 1552: 3.0, 1553: 2.0, 1555: 2.0, 1556: 1.0, 1558: 1.0, 1559: 5.0, 1560: 1.0, 1561: 2.0, 1563: 2.0, 1564: 2.0, 1565: 1.0, 1566: 3.0, 1568: 1.0, 1571: 1.0, 1572: 5.0, 1574: 2.0, 1575: 4.0, 1577: 2.0, 1580: 2.0, 1581: 5.0, 1582: 5.0, 1583: 2.0, 1584: 3.0, 1585: 5.0, 1588: 3.0, 1589: 23.0, 1590: 5.0, 1591: 1.0, 1592: 3.0, 1593: 1.0, 1594: 2.0, 1595: 2.0, 1596: 5.0, 1599: 1.0, 1601: 3.0, 1602: 2.0, 1603: 1.0, 1604: 3.0, 1605: 3.0, 1607: 2.0, 1612: 5.0, 1613: 5.0, 1616: 2.0, 1617: 3.0, 1619: 2.0, 1620: 3.0, 1621: 2.0, 1623: 1.0, 1624: 3.0, 1626: 3.0, 1627: 2.0, 1628: 1.0, 1630: 1.0, 1631: 3.0, 1632: 2.0, 1633: 1.0, 1634: 1.0, 1635: 2.0, 1637: 4.0, 1638: 4.0, 1640: 2.0, 1641: 1.0, 1642: 2.0, 1643: 1.0, 1645: 1.0, 1648: 3.0, 1649: 2.0, 1650: 1.0, 1653: 1.0, 1656: 1.0, 1658: 1.0, 1659: 6.0, 1664: 4.0, 1665: 2.0, 1666: 3.0, 1668: 2.0, 1670: 1.0, 1672: 3.0, 1674: 2.0, 1677: 1.0, 1678: 4.0, 1683: 1.0, 1684: 2.0, 1687: 4.0, 1689: 7.0, 1690: 8.0, 1692: 3.0, 1693: 1.0, 1694: 1.0, 1696: 3.0, 1697: 2.0, 1699: 2.0, 1700: 4.0, 1701: 8.0, 1703: 5.0, 1705: 1.0, 1707: 1.0, 1708: 2.0, 1709: 1.0, 1710: 2.0, 1711: 3.0, 1712: 1.0, 1713: 1.0, 1716: 3.0, 1717: 2.0, 1719: 2.0, 1721: 1.0, 1724: 2.0, 1725: 1.0, 1726: 1.0, 1728: 2.0, 1729: 8.0, 1731: 1.0, 1732: 11.0, 1733: 5.0, 1734: 1.0, 1735: 2.0, 1736: 4.0, 1737: 6.0, 1738: 1.0, 1741: 6.0, 1743: 1.0, 1745: 9.0, 1746: 1.0, 1747: 4.0, 1748: 3.0, 1749: 1.0, 1751: 1.0, 1754: 1.0, 1755: 3.0, 1757: 1.0, 1759: 5.0, 1760: 4.0, 1763: 2.0, 1764: 1.0, 1765: 1.0, 1767: 2.0, 1769: 6.0, 1773: 1.0, 1774: 1.0, 1776: 17.0, 1777: 1.0, 1779: 1.0, 1782: 6.0, 1783: 1.0, 1784: 6.0, 1786: 3.0, 1787: 2.0, 1788: 2.0, 1789: 1.0, 1790: 1.0, 1791: 7.0, 1794: 2.0, 1796: 1.0, 1797: 1.0, 1800: 1.0, 1801: 4.0, 1803: 1.0, 1805: 6.0, 1806: 6.0, 1807: 3.0, 1809: 3.0, 1810: 4.0, 1811: 4.0, 1813: 1.0, 1814: 33.0, 1815: 2.0, 1816: 1.0, 1818: 2.0, 1819: 3.0, 1820: 23.0, 1823: 1.0, 1827: 2.0, 1829: 1.0, 1830: 1.0, 1831: 3.0, 1833: 2.0, 1834: 1.0, 1835: 3.0, 1837: 1.0, 1841: 2.0, 1842: 3.0, 1843: 3.0, 1845: 21.0, 1846: 4.0, 1847: 6.0, 1850: 5.0, 1852: 1.0, 1853: 1.0, 1854: 3.0, 1856: 2.0, 1857: 3.0, 1859: 3.0, 1860: 2.0, 1864: 1.0, 1865: 1.0, 1867: 9.0, 1868: 1.0, 1869: 5.0, 1870: 6.0, 1871: 1.0, 1873: 2.0, 1876: 4.0, 1882: 12.0, 1884: 3.0, 1885: 1.0, 1889: 1.0, 1890: 1.0, 1891: 1.0, 1892: 8.0, 1893: 1.0, 1898: 1.0, 1899: 2.0, 1902: 7.0, 1904: 5.0, 1908: 1.0, 1909: 2.0, 1911: 1.0, 1912: 1.0, 1914: 2.0, 1918: 1.0, 1919: 1.0, 1920: 1.0, 1921: 2.0, 1923: 1.0, 1925: 1.0, 1927: 4.0, 1928: 1.0, 1929: 2.0, 1930: 1.0, 1931: 1.0, 1932: 9.0, 1933: 2.0, 1934: 2.0, 1938: 4.0, 1940: 1.0, 1941: 1.0, 1944: 1.0, 1946: 3.0, 1947: 10.0, 1949: 4.0, 1951: 1.0, 1952: 1.0, 1955: 2.0, 1957: 1.0, 1959: 10.0, 1960: 5.0, 1961: 5.0, 1965: 2.0, 1966: 1.0, 1967: 1.0, 1968: 1.0, 1969: 2.0, 1970: 4.0, 1972: 6.0, 1973: 4.0, 1974: 1.0, 1976: 1.0, 1977: 1.0, 1980: 1.0, 1981: 1.0, 1982: 4.0, 1983: 59.0, 1984: 1.0, 1985: 7.0, 1986: 1.0, 1988: 9.0, 1990: 2.0, 1991: 2.0, 1994: 3.0, 1998: 2.0, 1999: 2.0, 2002: 1.0, 2003: 2.0, 2004: 5.0, 2006: 5.0, 2007: 3.0, 2009: 1.0, 2012: 1.0, 2015: 1.0, 2016: 5.0, 2020: 11.0, 2022: 5.0, 2023: 2.0, 2024: 2.0, 2028: 3.0, 2030: 2.0, 2031: 3.0, 2032: 1.0, 2034: 2.0, 2036: 1.0, 2037: 1.0, 2038: 7.0, 2042: 1.0, 2044: 3.0, 2045: 4.0, 2046: 1.0, 2052: 22.0, 2056: 2.0, 2058: 2.0, 2059: 4.0, 2062: 1.0, 2063: 1.0, 2066: 14.0, 2067: 1.0, 2072: 3.0, 2073: 1.0, 2074: 11.0, 2075: 1.0, 2077: 2.0, 2078: 3.0, 2081: 2.0, 2082: 2.0, 2083: 1.0, 2084: 1.0, 2085: 1.0, 2086: 2.0, 2088: 17.0, 2089: 3.0, 2090: 2.0, 2093: 2.0, 2094: 2.0, 2095: 2.0, 2096: 1.0, 2097: 7.0, 2099: 3.0, 2101: 4.0, 2105: 1.0, 2106: 3.0, 2107: 6.0, 2108: 1.0, 2113: 1.0, 2115: 3.0, 2116: 4.0, 2119: 1.0, 2120: 5.0, 2122: 1.0, 2123: 2.0, 2127: 1.0, 2129: 1.0, 2132: 3.0, 2133: 1.0, 2136: 2.0, 2139: 1.0, 2140: 2.0, 2141: 3.0, 2142: 15.0, 2143: 5.0, 2144: 2.0, 2146: 1.0, 2147: 1.0, 2149: 1.0, 2150: 4.0, 2152: 2.0, 2153: 1.0, 2154: 2.0, 2155: 1.0, 2156: 6.0, 2164: 2.0, 2166: 2.0, 2168: 1.0, 2169: 3.0, 2170: 2.0, 2171: 2.0, 2172: 9.0, 2178: 9.0, 2179: 1.0, 2184: 3.0, 2185: 1.0, 2188: 13.0, 2189: 1.0, 2191: 1.0, 2193: 48.0, 2194: 1.0, 2195: 1.0, 2196: 4.0, 2198: 9.0, 2206: 1.0, 2208: 3.0, 2210: 1.0, 2212: 1.0, 2218: 1.0, 2221: 2.0, 2223: 4.0, 2227: 2.0, 2228: 1.0, 2233: 2.0, 2234: 1.0, 2237: 2.0, 2239: 1.0, 2240: 1.0, 2246: 3.0, 2247: 2.0, 2251: 1.0, 2256: 1.0, 2258: 6.0, 2259: 2.0, 2262: 5.0, 2270: 3.0, 2271: 6.0, 2272: 1.0, 2274: 1.0, 2275: 3.0, 2277: 1.0, 2282: 2.0, 2283: 1.0, 2284: 2.0, 2287: 17.0, 2290: 1.0, 2291: 3.0, 2296: 1.0, 2298: 1.0, 2299: 1.0, 2300: 3.0, 2302: 4.0, 2303: 1.0, 2312: 1.0, 2319: 2.0, 2320: 1.0, 2321: 1.0, 2322: 1.0, 2325: 1.0, 2326: 2.0, 2330: 1.0, 2335: 2.0, 2336: 1.0, 2337: 2.0, 2343: 1.0, 2344: 2.0, 2346: 2.0, 2347: 1.0, 2348: 1.0, 2349: 1.0, 2350: 2.0, 2351: 6.0, 2353: 1.0, 2357: 1.0, 2360: 1.0, 2362: 1.0, 2366: 2.0, 2370: 1.0, 2373: 2.0, 2375: 1.0, 2377: 8.0, 2382: 1.0, 2388: 2.0, 2389: 2.0, 2392: 1.0, 2393: 1.0, 2394: 2.0, 2395: 1.0, 2399: 6.0, 2400: 6.0, 2403: 3.0, 2406: 1.0, 2409: 1.0, 2410: 2.0, 2413: 2.0, 2414: 1.0, 2416: 2.0, 2419: 1.0, 2420: 1.0, 2423: 1.0, 2425: 2.0, 2427: 2.0, 2429: 2.0, 2430: 4.0, 2432: 5.0, 2433: 1.0, 2434: 1.0, 2435: 2.0, 2436: 2.0, 2437: 7.0, 2440: 1.0, 2442: 1.0, 2444: 1.0, 2445: 2.0, 2446: 2.0, 2447: 2.0, 2451: 1.0, 2452: 1.0, 2454: 5.0, 2455: 9.0, 2456: 1.0, 2462: 2.0, 2463: 1.0, 2464: 8.0, 2468: 1.0, 2469: 2.0, 2470: 1.0, 2472: 1.0, 2473: 1.0, 2474: 1.0, 2475: 1.0, 2480: 2.0, 2482: 1.0, 2484: 2.0, 2485: 2.0, 2486: 1.0, 2490: 1.0, 2492: 2.0, 2493: 1.0, 2495: 1.0, 2496: 2.0, 2498: 1.0, 2500: 4.0, 2502: 4.0, 2503: 1.0, 2504: 2.0, 2505: 42.0, 2506: 2.0, 2507: 2.0, 2508: 3.0, 2509: 2.0, 2510: 1.0, 2516: 1.0, 2517: 1.0, 2518: 28.0, 2519: 3.0, 2520: 2.0, 2521: 2.0, 2522: 1.0, 2523: 1.0, 2524: 2.0, 2525: 1.0, 2526: 1.0, 2527: 4.0, 2532: 2.0, 2533: 1.0, 2534: 1.0, 2537: 4.0, 2538: 1.0, 2539: 5.0, 2543: 1.0, 2544: 2.0, 2546: 1.0, 2548: 10.0, 2549: 1.0, 2550: 1.0, 2551: 4.0, 2556: 1.0, 2562: 5.0, 2567: 2.0, 2569: 2.0, 2571: 1.0, 2574: 1.0, 2576: 1.0, 2578: 2.0, 2580: 1.0, 2581: 1.0, 2585: 2.0, 2586: 2.0, 2588: 2.0, 2592: 19.0, 2593: 8.0, 2602: 2.0, 2606: 1.0, 2607: 4.0, 2608: 1.0, 2610: 1.0, 2611: 1.0, 2612: 1.0, 2613: 1.0, 2616: 1.0, 2617: 1.0, 2620: 1.0, 2621: 9.0, 2623: 17.0, 2625: 1.0, 2627: 2.0, 2628: 3.0, 2629: 1.0, 2631: 3.0, 2634: 6.0, 2636: 11.0, 2638: 8.0, 2641: 1.0, 2642: 1.0, 2643: 1.0, 2645: 1.0, 2646: 3.0, 2649: 1.0, 2652: 2.0, 2656: 5.0, 2659: 2.0, 2661: 2.0, 2662: 1.0, 2663: 13.0, 2666: 1.0, 2669: 1.0, 2673: 1.0, 2675: 2.0, 2682: 1.0, 2685: 10.0, 2686: 1.0, 2687: 1.0, 2689: 5.0, 2691: 1.0, 2693: 1.0, 2694: 1.0, 2695: 2.0, 2696: 1.0, 2699: 3.0, 2701: 1.0, 2702: 2.0, 2704: 2.0, 2705: 1.0, 2707: 1.0, 2710: 5.0, 2711: 1.0, 2713: 1.0, 2714: 1.0, 2715: 1.0, 2719: 7.0, 2721: 1.0, 2723: 3.0, 2724: 2.0, 2727: 1.0, 2728: 2.0, 2730: 1.0, 2732: 32.0, 2733: 4.0, 2734: 1.0, 2736: 1.0, 2745: 2.0, 2748: 2.0, 2749: 1.0, 2755: 7.0, 2757: 1.0, 2760: 2.0, 2765: 2.0, 2767: 5.0, 2770: 6.0, 2779: 1.0, 2780: 1.0, 2781: 10.0, 2787: 1.0, 2793: 1.0, 2794: 3.0, 2796: 1.0, 2798: 1.0, 2800: 38.0, 2806: 1.0, 2807: 1.0, 2808: 2.0, 2809: 6.0, 2811: 16.0, 2813: 2.0, 2814: 1.0, 2818: 1.0, 2821: 1.0, 2823: 1.0, 2827: 5.0, 2829: 2.0, 2832: 1.0, 2836: 1.0, 2837: 2.0, 2838: 2.0, 2841: 1.0, 2843: 6.0, 2845: 1.0, 2846: 3.0, 2852: 3.0, 2853: 88.0, 2859: 1.0, 2868: 1.0, 2869: 3.0, 2870: 2.0, 2871: 1.0, 2881: 3.0, 2889: 1.0, 2890: 6.0, 2891: 1.0, 2893: 2.0, 2894: 1.0, 2897: 2.0, 2906: 2.0, 2907: 5.0, 2910: 2.0, 2911: 1.0, 2913: 1.0, 2915: 1.0, 2916: 1.0, 2917: 2.0, 2920: 17.0, 2922: 1.0, 2923: 1.0, 2926: 2.0, 2934: 2.0, 2936: 1.0, 2939: 2.0, 2942: 12.0, 2949: 6.0, 2951: 1.0, 2954: 1.0, 2956: 2.0, 2960: 2.0, 2962: 1.0, 2963: 1.0, 2965: 1.0, 2969: 1.0, 2970: 3.0, 2972: 2.0, 2975: 1.0, 2976: 2.0, 2982: 4.0, 2984: 1.0, 2991: 2.0, 2992: 1.0, 2997: 2.0, 3006: 11.0, 3009: 1.0, 3011: 1.0, 3012: 1.0, 3015: 1.0, 3016: 1.0, 3022: 1.0, 3023: 2.0, 3024: 2.0, 3025: 1.0, 3028: 2.0, 3030: 1.0, 3032: 1.0, 3033: 2.0, 3034: 1.0, 3035: 1.0, 3036: 1.0, 3039: 5.0, 3040: 2.0, 3041: 2.0, 3042: 1.0, 3043: 4.0, 3046: 2.0, 3051: 1.0, 3058: 3.0, 3059: 1.0, 3064: 1.0, 3065: 3.0, 3066: 3.0, 3069: 4.0, 3070: 1.0, 3072: 1.0, 3076: 2.0, 3082: 4.0, 3083: 2.0, 3085: 3.0, 3090: 1.0, 3096: 3.0, 3097: 2.0, 3103: 6.0, 3104: 4.0, 3114: 1.0, 3119: 1.0, 3122: 3.0, 3124: 2.0, 3125: 4.0, 3132: 1.0, 3135: 1.0, 3138: 15.0, 3139: 1.0, 3141: 2.0, 3144: 5.0, 3146: 3.0, 3148: 1.0, 3150: 3.0, 3151: 1.0, 3153: 2.0, 3156: 1.0, 3157: 1.0, 3161: 1.0, 3162: 13.0, 3165: 3.0, 3167: 2.0, 3173: 1.0, 3174: 1.0, 3175: 1.0, 3176: 2.0, 3180: 1.0, 3181: 2.0, 3182: 2.0, 3183: 2.0, 3185: 1.0, 3188: 1.0, 3189: 5.0, 3191: 1.0, 3192: 1.0, 3197: 2.0, 3199: 3.0, 3209: 1.0, 3211: 1.0, 3212: 4.0, 3213: 5.0, 3218: 1.0, 3220: 1.0, 3223: 1.0, 3230: 1.0, 3231: 1.0, 3235: 1.0, 3237: 1.0, 3238: 1.0, 3243: 1.0, 3244: 1.0, 3246: 1.0, 3249: 1.0, 3251: 1.0, 3252: 9.0, 3254: 7.0, 3255: 1.0, 3257: 1.0, 3258: 6.0, 3268: 1.0, 3274: 1.0, 3277: 7.0, 3278: 1.0, 3280: 3.0, 3281: 5.0, 3282: 3.0, 3290: 1.0, 3291: 1.0, 3293: 1.0, 3294: 1.0, 3295: 4.0, 3299: 1.0, 3300: 1.0, 3307: 1.0, 3309: 1.0, 3311: 1.0, 3313: 2.0, 3315: 1.0, 3316: 10.0, 3323: 1.0, 3324: 1.0, 3326: 3.0, 3333: 1.0, 3335: 1.0, 3336: 1.0, 3339: 1.0, 3340: 1.0, 3341: 3.0, 3344: 1.0, 3352: 10.0, 3355: 1.0, 3356: 3.0, 3362: 4.0, 3368: 4.0, 3372: 1.0, 3375: 2.0, 3381: 3.0, 3382: 1.0, 3384: 2.0, 3388: 1.0, 3391: 1.0, 3397: 5.0, 3401: 1.0, 3410: 4.0, 3412: 1.0, 3413: 6.0, 3420: 2.0, 3422: 1.0, 3423: 1.0, 3424: 1.0, 3427: 1.0, 3429: 1.0, 3433: 2.0, 3435: 1.0, 3437: 1.0, 3439: 1.0, 3441: 1.0, 3442: 1.0, 3445: 1.0, 3449: 5.0, 3452: 1.0, 3454: 1.0, 3457: 2.0, 3459: 4.0, 3460: 1.0, 3461: 1.0, 3462: 3.0, 3464: 1.0, 3466: 8.0, 3468: 3.0, 3472: 3.0, 3474: 4.0, 3477: 4.0, 3478: 1.0, 3480: 1.0, 3481: 2.0, 3484: 8.0, 3485: 3.0, 3487: 1.0, 3490: 1.0, 3491: 1.0, 3495: 4.0, 3496: 1.0, 3499: 1.0, 3502: 2.0, 3503: 1.0, 3504: 1.0, 3511: 3.0, 3513: 6.0, 3517: 8.0, 3524: 4.0, 3526: 2.0, 3534: 1.0, 3539: 1.0, 3545: 1.0, 3546: 1.0, 3548: 17.0, 3551: 5.0, 3552: 7.0, 3556: 33.0, 3557: 1.0, 3560: 1.0, 3561: 1.0, 3565: 1.0, 3567: 6.0, 3568: 1.0, 3569: 2.0, 3572: 1.0, 3580: 1.0, 3583: 2.0, 3589: 1.0, 3596: 1.0, 3597: 2.0, 3599: 1.0, 3600: 1.0, 3609: 2.0, 3620: 3.0, 3621: 3.0, 3624: 3.0, 3630: 1.0, 3633: 1.0, 3635: 1.0, 3641: 5.0, 3643: 1.0, 3644: 2.0, 3645: 1.0, 3655: 1.0, 3656: 9.0, 3657: 1.0, 3658: 1.0, 3666: 1.0, 3672: 1.0, 3674: 3.0, 3675: 1.0, 3679: 2.0, 3682: 3.0, 3683: 1.0, 3685: 1.0, 3686: 1.0, 3687: 2.0, 3688: 1.0, 3691: 1.0, 3692: 7.0, 3693: 1.0, 3697: 4.0, 3699: 2.0, 3702: 45.0, 3703: 1.0, 3706: 1.0, 3707: 5.0, 3711: 1.0, 3715: 1.0, 3721: 2.0, 3723: 2.0, 3725: 1.0, 3730: 1.0, 3732: 3.0, 3733: 8.0, 3734: 1.0, 3735: 1.0, 3737: 1.0, 3738: 1.0, 3739: 1.0, 3740: 2.0, 3741: 1.0, 3742: 5.0, 3744: 1.0, 3748: 1.0, 3749: 2.0, 3758: 3.0, 3760: 1.0, 3763: 6.0, 3769: 2.0, 3771: 4.0, 3772: 2.0, 3773: 1.0, 3776: 1.0, 3777: 2.0, 3780: 1.0, 3781: 1.0, 3782: 3.0, 3784: 1.0, 3787: 1.0, 3791: 4.0, 3792: 1.0, 3794: 1.0, 3798: 1.0, 3807: 1.0, 3811: 1.0, 3812: 9.0, 3821: 59.0, 3826: 2.0, 3827: 1.0, 3828: 2.0, 3837: 2.0, 3839: 3.0, 3841: 4.0, 3845: 1.0, 3847: 1.0, 3849: 2.0, 3851: 4.0, 3859: 1.0, 3860: 1.0, 3861: 3.0, 3867: 1.0, 3869: 1.0, 3871: 2.0, 3874: 1.0, 3875: 1.0, 3878: 1.0, 3880: 1.0, 3881: 3.0, 3883: 3.0, 3887: 1.0, 3891: 1.0, 3896: 1.0, 3897: 3.0, 3898: 4.0, 3899: 7.0, 3901: 3.0, 3904: 2.0, 3907: 2.0, 3911: 1.0, 3917: 5.0, 3918: 1.0, 3919: 2.0, 3920: 1.0, 3937: 1.0, 3945: 1.0, 3949: 3.0, 3957: 1.0, 3958: 1.0, 3960: 1.0, 3963: 15.0, 3966: 1.0, 3972: 5.0, 3976: 1.0, 3983: 4.0, 3990: 2.0, 3992: 1.0, 3997: 2.0, 3999: 1.0, 4000: 1.0, 4002: 1.0, 4003: 1.0, 4007: 1.0, 4008: 1.0, 4009: 4.0, 4018: 1.0, 4019: 1.0, 4020: 2.0, 4027: 1.0, 4028: 9.0, 4029: 6.0, 4031: 2.0, 4032: 1.0, 4033: 1.0, 4039: 2.0, 4041: 1.0, 4044: 1.0, 4047: 5.0, 4049: 2.0, 4053: 3.0, 4055: 5.0, 4060: 3.0, 4061: 3.0, 4072: 1.0, 4074: 1.0, 4077: 2.0, 4078: 6.0, 4079: 3.0, 4082: 1.0, 4089: 1.0, 4092: 1.0, 4093: 1.0, 4098: 1.0, 4099: 2.0, 4100: 1.0, 4101: 1.0, 4110: 1.0, 4121: 4.0, 4130: 1.0, 4133: 1.0, 4135: 4.0, 4136: 1.0, 4137: 1.0, 4144: 1.0, 4148: 1.0, 4151: 1.0, 4163: 1.0, 4165: 1.0, 4167: 1.0, 4169: 1.0, 4170: 2.0, 4171: 2.0, 4174: 1.0, 4177: 1.0, 4179: 2.0, 4181: 2.0, 4184: 1.0, 4187: 3.0, 4192: 1.0, 4196: 2.0, 4207: 2.0, 4219: 5.0, 4220: 1.0, 4221: 1.0, 4222: 1.0, 4226: 1.0, 4229: 1.0, 4231: 13.0, 4235: 2.0, 4239: 14.0, 4243: 1.0, 4245: 1.0, 4251: 2.0, 4254: 4.0, 4257: 2.0, 4264: 1.0, 4265: 8.0, 4269: 1.0, 4273: 2.0, 4278: 7.0, 4282: 1.0, 4283: 1.0, 4284: 2.0, 4285: 1.0, 4290: 1.0, 4294: 1.0, 4297: 1.0, 4299: 1.0, 4306: 3.0, 4310: 1.0, 4311: 4.0, 4313: 1.0, 4315: 1.0, 4319: 1.0, 4323: 1.0, 4329: 1.0, 4332: 1.0, 4334: 1.0, 4341: 1.0, 4343: 2.0, 4349: 1.0, 4350: 1.0, 4352: 1.0, 4355: 1.0, 4356: 4.0, 4358: 1.0, 4360: 1.0, 4364: 1.0, 4371: 1.0, 4376: 1.0, 4379: 5.0, 4385: 2.0, 4388: 2.0, 4392: 1.0, 4393: 2.0, 4396: 1.0, 4399: 5.0, 4400: 1.0, 4401: 1.0, 4402: 1.0, 4408: 1.0, 4413: 1.0, 4414: 1.0, 4420: 1.0, 4421: 1.0, 4431: 1.0, 4435: 1.0, 4439: 1.0, 4445: 1.0, 4447: 1.0, 4448: 1.0, 4449: 5.0, 4450: 1.0, 4451: 1.0, 4460: 1.0, 4463: 1.0, 4466: 1.0, 4467: 1.0, 4473: 2.0, 4477: 2.0, 4478: 1.0, 4481: 1.0, 4482: 1.0, 4483: 4.0, 4487: 4.0, 4491: 1.0, 4494: 1.0, 4495: 1.0, 4496: 5.0, 4499: 1.0, 4502: 1.0, 4504: 1.0, 4509: 1.0, 4510: 2.0, 4513: 1.0, 4519: 1.0, 4522: 1.0, 4526: 15.0, 4529: 1.0, 4530: 1.0, 4533: 3.0, 4535: 1.0, 4541: 6.0, 4542: 1.0, 4544: 13.0, 4545: 1.0, 4546: 2.0, 4547: 2.0, 4548: 1.0, 4560: 1.0, 4564: 1.0, 4565: 1.0, 4567: 1.0, 4573: 1.0, 4578: 1.0, 4581: 1.0, 4582: 3.0, 4586: 1.0, 4592: 1.0, 4597: 1.0, 4602: 2.0, 4606: 1.0, 4607: 1.0, 4609: 1.0, 4611: 1.0, 4613: 1.0, 4623: 1.0, 4624: 2.0, 4625: 1.0, 4626: 1.0, 4627: 1.0, 4630: 1.0, 4631: 9.0, 4636: 1.0, 4637: 2.0, 4639: 1.0, 4640: 1.0, 4650: 13.0, 4651: 3.0, 4654: 1.0, 4656: 2.0, 4660: 5.0, 4664: 1.0, 4665: 8.0, 4667: 1.0, 4669: 1.0, 4673: 7.0, 4688: 1.0, 4694: 1.0, 4700: 1.0, 4701: 1.0, 4702: 1.0, 4703: 4.0, 4709: 2.0, 4712: 3.0, 4714: 1.0, 4716: 1.0, 4718: 1.0, 4720: 3.0, 4721: 2.0, 4723: 2.0, 4725: 1.0, 4728: 1.0, 4735: 1.0, 4743: 1.0, 4745: 1.0, 4752: 8.0, 4768: 1.0, 4772: 1.0, 4777: 4.0, 4779: 4.0, 4785: 7.0, 4787: 4.0, 4789: 1.0, 4790: 1.0, 4798: 1.0, 4800: 2.0, 4804: 2.0, 4809: 1.0, 4811: 3.0, 4814: 10.0, 4817: 2.0, 4825: 1.0, 4827: 1.0, 4832: 1.0, 4834: 2.0, 4835: 1.0, 4838: 1.0, 4839: 1.0, 4847: 1.0, 4850: 1.0, 4851: 1.0, 4854: 1.0, 4856: 1.0, 4857: 1.0, 4861: 1.0, 4862: 1.0, 4863: 1.0, 4864: 2.0, 4868: 1.0, 4871: 2.0, 4881: 4.0, 4883: 4.0, 4889: 1.0, 4904: 1.0, 4905: 1.0, 4908: 1.0, 4914: 1.0, 4915: 4.0, 4918: 1.0, 4921: 1.0, 4924: 1.0, 4930: 2.0, 4932: 1.0, 4936: 1.0, 4939: 1.0, 4941: 1.0, 4945: 1.0, 4949: 1.0, 4950: 1.0, 4952: 7.0, 4957: 3.0, 4958: 1.0, 4960: 1.0, 4965: 2.0, 4969: 2.0, 4980: 1.0, 4981: 2.0, 4984: 1.0, 4987: 1.0, 5006: 1.0, 5007: 1.0, 5008: 8.0, 5010: 2.0, 5013: 9.0, 5016: 1.0, 5026: 1.0, 5036: 1.0, 5037: 8.0, 5045: 1.0, 5047: 1.0, 5049: 4.0, 5050: 2.0, 5062: 1.0, 5072: 2.0, 5079: 2.0, 5085: 1.0, 5090: 1.0, 5093: 2.0, 5098: 4.0, 5109: 1.0, 5115: 1.0, 5120: 1.0, 5124: 5.0, 5132: 1.0, 5138: 1.0, 5141: 4.0, 5145: 1.0, 5146: 1.0, 5153: 1.0, 5161: 7.0, 5164: 1.0, 5165: 2.0, 5175: 3.0, 5178: 5.0, 5181: 3.0, 5190: 1.0, 5196: 1.0, 5200: 3.0, 5201: 1.0, 5202: 2.0, 5209: 2.0, 5214: 3.0, 5226: 4.0, 5227: 1.0, 5230: 1.0, 5232: 1.0, 5234: 2.0, 5236: 2.0, 5257: 2.0, 5261: 1.0, 5266: 1.0, 5274: 1.0, 5280: 4.0, 5287: 1.0, 5288: 1.0, 5292: 1.0, 5294: 3.0, 5295: 2.0, 5297: 2.0, 5300: 1.0, 5305: 1.0, 5311: 2.0, 5312: 1.0, 5313: 16.0, 5316: 2.0, 5318: 1.0, 5325: 1.0, 5334: 1.0, 5335: 8.0, 5337: 1.0, 5344: 1.0, 5345: 1.0, 5348: 2.0, 5349: 7.0, 5352: 4.0, 5359: 1.0, 5365: 1.0, 5366: 1.0, 5368: 5.0, 5384: 1.0, 5385: 1.0, 5386: 3.0, 5389: 1.0, 5402: 1.0, 5411: 4.0, 5413: 1.0, 5418: 2.0, 5429: 1.0, 5438: 1.0, 5445: 1.0, 5447: 2.0, 5463: 3.0, 5470: 1.0, 5472: 1.0, 5474: 1.0, 5475: 1.0, 5477: 1.0, 5479: 1.0, 5492: 1.0, 5495: 1.0, 5500: 2.0, 5503: 1.0, 5510: 1.0, 5513: 2.0, 5515: 1.0, 5524: 1.0, 5525: 5.0, 5526: 1.0, 5530: 5.0, 5533: 2.0, 5535: 1.0, 5542: 2.0, 5547: 1.0, 5551: 2.0, 5554: 2.0, 5561: 1.0, 5575: 1.0, 5582: 7.0, 5590: 1.0, 5591: 1.0, 5592: 1.0, 5600: 1.0, 5603: 1.0, 5607: 2.0, 5611: 9.0, 5623: 4.0, 5626: 15.0, 5627: 1.0, 5635: 7.0, 5637: 1.0, 5640: 1.0, 5641: 1.0, 5645: 1.0, 5648: 3.0, 5653: 2.0, 5667: 7.0, 5668: 2.0, 5675: 1.0, 5679: 1.0, 5680: 1.0, 5691: 1.0, 5692: 9.0, 5700: 39.0, 5703: 2.0, 5710: 1.0, 5711: 1.0, 5714: 3.0, 5717: 1.0, 5725: 1.0, 5728: 1.0, 5737: 5.0, 5740: 1.0, 5742: 5.0, 5744: 1.0, 5750: 1.0, 5762: 2.0, 5765: 1.0, 5770: 1.0, 5772: 1.0, 5777: 1.0, 5784: 1.0, 5789: 1.0, 5791: 12.0, 5808: 1.0, 5809: 1.0, 5811: 1.0, 5812: 6.0, 5816: 1.0, 5826: 6.0, 5828: 14.0, 5829: 2.0, 5830: 1.0, 5832: 1.0, 5834: 1.0, 5839: 2.0, 5842: 2.0, 5848: 1.0, 5849: 4.0, 5860: 1.0, 5861: 1.0, 5869: 1.0, 5871: 1.0, 5876: 5.0, 5893: 3.0, 5895: 1.0, 5896: 1.0, 5899: 1.0, 5900: 4.0, 5901: 5.0, 5904: 1.0, 5906: 2.0, 5909: 1.0, 5912: 2.0, 5913: 1.0, 5915: 1.0, 5929: 1.0, 5934: 2.0, 5940: 1.0, 5945: 1.0, 5949: 1.0, 5956: 1.0, 5965: 1.0, 5986: 8.0, 5999: 1.0, 6002: 1.0, 6005: 11.0, 6008: 1.0, 6010: 1.0, 6014: 1.0, 6017: 2.0, 6024: 1.0, 6029: 1.0, 6031: 1.0, 6042: 1.0, 6046: 1.0, 6063: 2.0, 6078: 1.0, 6080: 5.0, 6083: 1.0, 6089: 7.0, 6094: 1.0, 6100: 1.0, 6105: 1.0, 6110: 2.0, 6118: 1.0, 6124: 1.0, 6128: 1.0, 6135: 1.0, 6139: 1.0, 6146: 2.0, 6151: 1.0, 6162: 1.0, 6168: 1.0, 6170: 2.0, 6179: 5.0, 6184: 1.0, 6189: 5.0, 6191: 4.0, 6192: 2.0, 6195: 1.0, 6196: 1.0, 6197: 1.0, 6198: 1.0, 6199: 1.0, 6200: 1.0, 6203: 1.0, 6220: 1.0, 6239: 1.0, 6248: 2.0, 6250: 1.0, 6251: 2.0, 6253: 1.0, 6256: 4.0, 6264: 1.0, 6268: 2.0, 6272: 2.0, 6281: 1.0, 6282: 32.0, 6285: 2.0, 6288: 1.0, 6290: 1.0, 6300: 1.0, 6302: 1.0, 6308: 1.0, 6310: 1.0, 6313: 1.0, 6317: 7.0, 6325: 1.0, 6330: 1.0, 6332: 1.0, 6334: 1.0, 6357: 2.0, 6360: 1.0, 6361: 1.0, 6363: 1.0, 6371: 1.0, 6372: 1.0, 6385: 1.0, 6386: 1.0, 6400: 1.0, 6403: 1.0, 6406: 3.0, 6414: 1.0, 6415: 1.0, 6418: 2.0, 6426: 26.0, 6437: 2.0, 6441: 1.0, 6456: 1.0, 6459: 3.0, 6468: 1.0, 6505: 2.0, 6520: 1.0, 6523: 1.0, 6525: 2.0, 6532: 1.0, 6536: 4.0, 6545: 2.0, 6559: 1.0, 6562: 2.0, 6566: 2.0, 6567: 2.0, 6573: 1.0, 6574: 1.0, 6583: 1.0, 6585: 1.0, 6587: 1.0, 6588: 2.0, 6590: 1.0, 6600: 2.0, 6608: 6.0, 6609: 4.0, 6613: 1.0, 6616: 1.0, 6618: 1.0, 6622: 5.0, 6629: 2.0, 6633: 1.0, 6634: 2.0, 6636: 1.0, 6660: 1.0, 6669: 3.0, 6674: 1.0, 6675: 1.0, 6687: 6.0, 6690: 1.0, 6696: 1.0, 6704: 1.0, 6721: 1.0, 6732: 8.0, 6739: 2.0, 6756: 4.0, 6758: 1.0, 6765: 1.0, 6776: 1.0, 6792: 7.0, 6793: 1.0, 6796: 5.0, 6802: 1.0, 6805: 2.0, 6808: 1.0, 6822: 1.0, 6823: 1.0, 6824: 1.0, 6826: 1.0, 6836: 1.0, 6838: 5.0, 6844: 2.0, 6847: 3.0, 6848: 1.0, 6858: 1.0, 6866: 1.0, 6874: 1.0, 6879: 10.0, 6881: 1.0, 6885: 3.0, 6897: 1.0, 6899: 1.0, 6901: 1.0, 6903: 1.0, 6911: 1.0, 6924: 1.0, 6929: 1.0, 6942: 4.0, 6947: 12.0, 6951: 1.0, 6954: 4.0, 6957: 1.0, 6965: 2.0, 6967: 1.0, 6971: 2.0, 6989: 5.0, 6998: 2.0, 7003: 1.0, 7006: 1.0, 7014: 1.0, 7015: 1.0, 7017: 3.0, 7035: 2.0, 7037: 1.0, 7043: 1.0, 7051: 1.0, 7055: 17.0, 7066: 5.0, 7072: 2.0, 7077: 2.0, 7081: 1.0, 7087: 1.0, 7098: 1.0, 7099: 3.0, 7112: 1.0, 7117: 2.0, 7120: 3.0, 7121: 1.0, 7134: 1.0, 7156: 2.0, 7168: 3.0, 7171: 3.0, 7179: 1.0, 7182: 1.0, 7184: 11.0, 7189: 1.0, 7211: 1.0, 7215: 1.0, 7223: 1.0, 7226: 1.0, 7231: 1.0, 7234: 1.0, 7241: 1.0, 7259: 1.0, 7260: 2.0, 7277: 1.0, 7278: 4.0, 7279: 1.0, 7284: 1.0, 7292: 2.0, 7295: 1.0, 7299: 2.0, 7300: 1.0, 7301: 2.0, 7304: 3.0, 7309: 6.0, 7326: 1.0, 7328: 3.0, 7330: 15.0, 7331: 1.0, 7334: 1.0, 7342: 1.0, 7356: 4.0, 7360: 1.0, 7373: 2.0, 7378: 1.0, 7397: 4.0, 7412: 1.0, 7418: 1.0, 7419: 6.0, 7426: 1.0, 7433: 1.0, 7451: 2.0, 7459: 1.0, 7468: 1.0, 7473: 1.0, 7477: 19.0, 7514: 1.0, 7517: 3.0, 7528: 1.0, 7535: 1.0, 7553: 6.0, 7564: 1.0, 7565: 1.0, 7580: 1.0, 7581: 1.0, 7582: 4.0, 7583: 6.0, 7586: 1.0, 7588: 2.0, 7602: 4.0, 7623: 2.0, 7625: 3.0, 7631: 1.0, 7636: 1.0, 7651: 6.0, 7676: 1.0, 7683: 3.0, 7691: 1.0, 7695: 1.0, 7704: 1.0, 7707: 1.0, 7710: 4.0, 7717: 1.0, 7719: 3.0, 7720: 3.0, 7731: 2.0, 7736: 1.0, 7748: 1.0, 7755: 1.0, 7768: 3.0, 7770: 6.0, 7775: 1.0, 7792: 1.0, 7796: 2.0, 7800: 2.0, 7803: 1.0, 7806: 25.0, 7808: 1.0, 7810: 1.0, 7817: 1.0, 7818: 7.0, 7823: 1.0, 7829: 5.0, 7837: 1.0, 7841: 3.0, 7846: 1.0, 7848: 7.0, 7851: 1.0, 7857: 1.0, 7859: 3.0, 7861: 1.0, 7874: 2.0, 7879: 2.0, 7891: 1.0, 7899: 6.0, 7905: 3.0, 7906: 1.0, 7911: 2.0, 7917: 1.0, 7918: 12.0, 7922: 2.0, 7924: 12.0, 7926: 1.0, 7938: 1.0, 7946: 2.0, 7954: 4.0, 7959: 1.0, 7967: 1.0, 7986: 7.0, 7996: 1.0, 8027: 1.0, 8048: 3.0, 8049: 1.0, 8054: 5.0, 8069: 1.0, 8073: 2.0, 8075: 1.0, 8076: 1.0, 8083: 3.0, 8119: 2.0, 8137: 2.0, 8169: 2.0, 8176: 1.0, 8187: 3.0, 8191: 1.0, 8196: 6.0, 8197: 2.0, 8218: 2.0, 8223: 1.0, 8239: 1.0, 8248: 1.0, 8250: 5.0, 8254: 1.0, 8259: 3.0, 8260: 1.0, 8263: 1.0, 8273: 1.0, 8292: 1.0, 8295: 23.0, 8303: 1.0, 8310: 1.0, 8319: 1.0, 8323: 7.0, 8329: 1.0, 8340: 2.0, 8343: 1.0, 8351: 1.0, 8357: 1.0, 8358: 1.0, 8368: 1.0, 8369: 1.0, 8383: 4.0, 8391: 3.0, 8405: 2.0, 8416: 2.0, 8417: 1.0, 8434: 1.0, 8455: 1.0, 8458: 1.0, 8492: 2.0, 8494: 1.0, 8497: 1.0, 8498: 2.0, 8499: 1.0, 8517: 1.0, 8521: 2.0, 8524: 1.0, 8545: 1.0, 8548: 1.0, 8558: 1.0, 8565: 1.0, 8577: 1.0, 8590: 1.0, 8595: 5.0, 8597: 2.0, 8608: 1.0, 8612: 2.0, 8615: 2.0, 8623: 2.0, 8631: 1.0, 8641: 6.0, 8647: 2.0, 8667: 1.0, 8669: 2.0, 8671: 1.0, 8674: 4.0, 8677: 3.0, 8690: 1.0, 8693: 2.0, 8703: 1.0, 8707: 2.0, 8718: 7.0, 8727: 1.0, 8730: 2.0, 8735: 1.0, 8739: 1.0, 8752: 1.0, 8758: 1.0, 8763: 1.0, 8766: 1.0, 8767: 1.0, 8777: 1.0, 8788: 3.0, 8798: 3.0, 8801: 1.0, 8805: 1.0, 8825: 1.0, 8836: 2.0, 8838: 1.0, 8866: 1.0, 8870: 4.0, 8875: 1.0, 8876: 1.0, 8883: 1.0, 8893: 1.0, 8897: 19.0, 8900: 2.0, 8902: 1.0, 8904: 1.0, 8907: 1.0, 8909: 3.0, 8938: 1.0, 8939: 2.0, 8981: 2.0, 9001: 1.0, 9012: 1.0, 9019: 1.0, 9025: 2.0, 9033: 2.0, 9035: 1.0, 9037: 2.0, 9049: 1.0, 9053: 4.0, 9059: 1.0, 9075: 22.0, 9086: 1.0, 9087: 1.0, 9093: 2.0, 9110: 1.0, 9113: 1.0, 9116: 3.0, 9121: 1.0, 9124: 1.0, 9127: 1.0, 9129: 1.0, 9135: 1.0, 9138: 4.0, 9170: 1.0, 9171: 1.0, 9174: 1.0, 9177: 2.0, 9183: 1.0, 9185: 1.0, 9189: 1.0, 9195: 2.0, 9213: 1.0, 9222: 1.0, 9226: 1.0, 9251: 1.0, 9265: 1.0, 9266: 1.0, 9274: 2.0, 9281: 1.0, 9288: 1.0, 9296: 1.0, 9299: 1.0, 9309: 1.0, 9318: 1.0, 9325: 2.0, 9335: 9.0, 9340: 1.0, 9341: 1.0, 9353: 1.0, 9356: 1.0, 9368: 2.0, 9384: 2.0, 9395: 2.0, 9407: 1.0, 9411: 1.0, 9417: 1.0, 9418: 3.0, 9424: 1.0, 9433: 1.0, 9437: 1.0, 9442: 2.0, 9445: 1.0, 9449: 1.0, 9466: 2.0, 9472: 2.0, 9497: 1.0, 9498: 3.0, 9500: 1.0, 9501: 3.0, 9505: 1.0, 9526: 1.0, 9531: 12.0, 9536: 1.0, 9546: 1.0, 9552: 2.0, 9561: 4.0, 9574: 1.0, 9575: 1.0, 9583: 1.0, 9609: 1.0, 9613: 2.0, 9614: 1.0, 9622: 1.0, 9623: 1.0, 9644: 1.0, 9648: 1.0, 9658: 10.0, 9663: 1.0, 9670: 2.0, 9672: 1.0, 9674: 1.0, 9680: 1.0, 9685: 1.0, 9686: 2.0, 9702: 4.0, 9704: 13.0, 9706: 1.0, 9715: 1.0, 9722: 1.0, 9732: 1.0, 9733: 5.0, 9753: 1.0, 9759: 1.0, 9789: 1.0, 9797: 1.0, 9798: 2.0, 9802: 1.0, 9844: 1.0, 9845: 3.0, 9846: 3.0, 9854: 2.0, 9855: 1.0, 9863: 36.0, 9872: 1.0, 9886: 1.0, 9892: 4.0, 9898: 2.0, 9910: 2.0, 9919: 1.0, 9924: 1.0, 9927: 1.0, 9943: 4.0, 9945: 3.0, 9952: 1.0, 9954: 1.0, 9956: 3.0, 9960: 2.0, 9966: 1.0, 9969: 1.0, 9974: 1.0, 9978: 1.0, 9979: 1.0, 9982: 1.0, 9998: 2.0, 10008: 2.0, 10011: 2.0, 10013: 1.0, 10032: 3.0, 10060: 1.0, 10072: 1.0, 10090: 4.0, 10091: 1.0, 10114: 9.0, 10133: 4.0, 10142: 1.0, 10144: 10.0, 10164: 1.0, 10166: 1.0, 10168: 1.0, 10199: 2.0, 10201: 3.0, 10203: 1.0, 10207: 1.0, 10212: 7.0, 10239: 1.0, 10241: 2.0, 10242: 1.0, 10250: 1.0, 10261: 1.0, 10267: 2.0, 10268: 2.0, 10279: 1.0, 10289: 2.0, 10294: 1.0, 10331: 1.0, 10332: 1.0, 10333: 1.0, 10385: 2.0, 10395: 1.0, 10397: 5.0, 10398: 1.0, 10413: 16.0, 10426: 1.0, 10427: 1.0, 10447: 1.0, 10458: 1.0, 10461: 1.0, 10467: 1.0, 10472: 4.0, 10489: 1.0, 10518: 2.0, 10520: 2.0, 10529: 2.0, 10562: 1.0, 10580: 3.0, 10594: 1.0, 10612: 2.0, 10614: 2.0, 10637: 1.0, 10661: 2.0, 10680: 6.0, 10685: 1.0, 10686: 5.0, 10706: 1.0, 10710: 1.0, 10713: 1.0, 10714: 1.0, 10728: 2.0, 10736: 1.0, 10742: 1.0, 10748: 3.0, 10764: 1.0, 10867: 2.0, 10870: 1.0, 10879: 1.0, 10883: 1.0, 10921: 1.0, 10922: 1.0, 10950: 5.0, 10959: 1.0, 10993: 2.0, 11000: 9.0, 11002: 1.0, 11014: 2.0, 11015: 1.0, 11016: 2.0, 11019: 4.0, 11027: 1.0, 11032: 1.0, 11038: 1.0, 11046: 2.0, 11047: 1.0, 11057: 1.0, 11065: 1.0, 11091: 9.0, 11100: 1.0, 11101: 5.0, 11103: 2.0, 11129: 1.0, 11135: 1.0, 11138: 2.0, 11151: 1.0, 11154: 1.0, 11218: 1.0, 11219: 1.0, 11245: 1.0, 11255: 1.0, 11259: 1.0, 11264: 1.0, 11279: 4.0, 11288: 1.0, 11289: 1.0, 11300: 1.0, 11312: 1.0, 11345: 1.0, 11372: 1.0, 11373: 1.0, 11427: 1.0, 11442: 1.0, 11445: 1.0, 11450: 1.0, 11457: 10.0, 11460: 1.0, 11483: 1.0, 11490: 1.0, 11548: 2.0, 11558: 2.0, 11563: 3.0, 11567: 1.0, 11569: 1.0, 11573: 2.0, 11587: 1.0, 11595: 4.0, 11609: 1.0, 11611: 1.0, 11615: 1.0, 11619: 2.0, 11621: 2.0, 11624: 1.0, 11650: 1.0, 11654: 1.0, 11668: 1.0, 11678: 7.0, 11708: 1.0, 11730: 1.0, 11734: 1.0, 11760: 2.0, 11779: 2.0, 11781: 1.0, 11797: 2.0, 11805: 1.0, 11815: 7.0, 11819: 1.0, 11823: 3.0, 11832: 1.0, 11848: 19.0, 11855: 1.0, 11903: 3.0, 11908: 1.0, 11917: 1.0, 11934: 1.0, 11940: 1.0, 11950: 4.0, 11990: 1.0, 12007: 1.0, 12009: 1.0, 12013: 1.0, 12025: 1.0, 12034: 2.0, 12040: 6.0, 12052: 3.0, 12054: 3.0, 12085: 1.0, 12122: 1.0, 12128: 1.0, 12161: 27.0, 12163: 3.0, 12166: 2.0, 12167: 1.0, 12178: 1.0, 12210: 1.0, 12211: 1.0, 12237: 2.0, 12239: 1.0, 12256: 2.0, 12260: 1.0, 12263: 3.0, 12284: 2.0, 12314: 1.0, 12319: 7.0, 12322: 4.0, 12388: 1.0, 12406: 1.0, 12449: 1.0, 12485: 1.0, 12489: 1.0, 12516: 3.0, 12524: 3.0, 12541: 1.0, 12565: 2.0, 12597: 7.0, 12668: 1.0, 12683: 6.0, 12706: 1.0, 12742: 1.0, 12744: 1.0, 12752: 1.0, 12761: 1.0, 12785: 2.0, 12805: 2.0, 12806: 1.0, 12868: 1.0, 12879: 1.0, 12885: 1.0, 12891: 1.0, 12904: 1.0, 12953: 1.0, 12975: 1.0, 12995: 1.0, 13004: 1.0, 13011: 2.0, 13020: 2.0, 13033: 5.0, 13042: 5.0, 13046: 1.0, 13050: 1.0, 13052: 1.0, 13059: 5.0, 13063: 1.0, 13094: 8.0, 13096: 1.0, 13103: 1.0, 13110: 2.0, 13145: 1.0, 13168: 1.0, 13169: 1.0, 13187: 2.0, 13207: 3.0, 13223: 1.0, 13226: 4.0, 13234: 1.0, 13237: 8.0, 13281: 1.0, 13311: 1.0, 13326: 1.0, 13334: 1.0, 13344: 1.0, 13350: 4.0, 13360: 1.0, 13385: 2.0, 13401: 3.0, 13405: 1.0, 13407: 1.0, 13437: 1.0, 13447: 1.0, 13449: 3.0, 13479: 1.0, 13488: 1.0, 13493: 1.0, 13495: 1.0, 13502: 1.0, 13507: 6.0, 13527: 8.0, 13549: 2.0, 13599: 1.0, 13608: 1.0, 13611: 1.0, 13620: 5.0, 13625: 10.0, 13631: 4.0, 13648: 3.0, 13658: 1.0, 13661: 1.0, 13663: 1.0, 13689: 1.0, 13732: 1.0, 13738: 1.0, 13744: 2.0, 13748: 4.0, 13769: 23.0, 13784: 1.0, 13811: 1.0, 13827: 1.0, 13828: 1.0, 13830: 1.0, 13848: 1.0, 13850: 1.0, 13872: 1.0, 13878: 4.0, 13895: 1.0, 13926: 1.0, 13952: 1.0, 13970: 1.0, 13978: 1.0, 13998: 1.0, 14040: 2.0, 14044: 1.0, 14061: 3.0, 14063: 1.0, 14079: 1.0, 14088: 1.0, 14133: 1.0, 14137: 1.0, 14168: 1.0, 14169: 2.0, 14183: 1.0, 14197: 2.0, 14214: 1.0, 14219: 7.0, 14259: 1.0, 14283: 1.0, 14319: 2.0, 14363: 1.0, 14388: 1.0, 14396: 1.0, 14445: 1.0, 14457: 6.0, 14495: 1.0, 14498: 1.0, 14507: 1.0, 14511: 2.0, 14522: 1.0, 14534: 5.0, 14538: 1.0, 14564: 1.0, 14568: 1.0, 14579: 1.0, 14621: 1.0, 14632: 1.0, 14634: 4.0, 14635: 2.0, 14642: 1.0, 14644: 1.0, 14658: 3.0, 14668: 1.0, 14682: 1.0, 14694: 1.0, 14708: 1.0, 14725: 1.0, 14762: 1.0, 14778: 1.0, 14830: 1.0, 14839: 1.0, 14852: 1.0, 14856: 1.0, 14862: 1.0, 14870: 1.0, 14928: 1.0, 14962: 2.0, 14964: 1.0, 14994: 1.0, 14998: 3.0, 15013: 1.0, 15015: 1.0, 15019: 1.0, 15132: 1.0, 15156: 1.0, 15174: 1.0, 15175: 1.0, 15211: 1.0, 15232: 1.0, 15235: 5.0, 15304: 1.0, 15310: 21.0, 15328: 1.0, 15341: 2.0, 15347: 3.0, 15390: 1.0, 15394: 1.0, 15424: 1.0, 15431: 3.0, 15445: 1.0, 15453: 1.0, 15490: 1.0, 15495: 1.0, 15521: 1.0, 15536: 1.0, 15537: 1.0, 15548: 17.0, 15566: 2.0, 15590: 1.0, 15603: 2.0, 15628: 1.0, 15661: 1.0, 15673: 2.0, 15694: 1.0, 15698: 1.0, 15714: 1.0, 15719: 1.0, 15734: 1.0, 15735: 3.0, 15746: 1.0, 15750: 2.0, 15762: 1.0, 15773: 1.0, 15789: 3.0, 15832: 2.0, 15844: 1.0, 15856: 1.0, 15864: 1.0, 15870: 1.0, 15899: 1.0, 15920: 5.0, 15925: 1.0, 15939: 1.0, 15942: 1.0, 16001: 2.0, 16010: 1.0, 16029: 1.0, 16065: 7.0, 16068: 1.0, 16092: 1.0, 16106: 3.0, 16144: 1.0, 16154: 4.0, 16165: 1.0, 16174: 3.0, 16183: 1.0, 16195: 1.0, 16201: 2.0, 16202: 1.0, 16204: 3.0, 16221: 13.0, 16246: 1.0, 16257: 1.0, 16276: 1.0, 16307: 1.0, 16355: 2.0, 16387: 1.0, 16400: 1.0, 16423: 1.0, 16494: 1.0, 16536: 7.0, 16547: 2.0, 16553: 1.0, 16639: 2.0, 16669: 1.0, 16671: 1.0, 16677: 1.0, 16731: 2.0, 16759: 1.0, 16763: 1.0, 16784: 1.0, 16800: 1.0, 16807: 1.0, 16859: 1.0, 16868: 1.0, 16924: 8.0, 16945: 1.0, 16949: 1.0, 16954: 1.0, 17077: 1.0, 17096: 5.0, 17106: 2.0, 17150: 1.0, 17177: 3.0, 17179: 4.0, 17238: 1.0, 17250: 3.0, 17270: 1.0, 17284: 1.0, 17296: 1.0, 17305: 2.0, 17348: 1.0, 17360: 1.0, 17393: 1.0, 17409: 2.0, 17414: 1.0, 17434: 1.0, 17436: 1.0, 17437: 1.0, 17441: 2.0, 17450: 1.0, 17456: 2.0, 17461: 1.0, 17509: 3.0, 17525: 1.0, 17556: 1.0, 17561: 1.0, 17568: 3.0, 17612: 1.0, 17649: 1.0, 17686: 4.0, 17721: 1.0, 17744: 8.0, 17776: 1.0, 17777: 1.0, 17778: 1.0, 17780: 4.0, 17781: 1.0, 17820: 1.0, 17833: 1.0, 17853: 1.0, 17883: 3.0, 17902: 1.0, 17917: 1.0, 17933: 3.0, 17938: 1.0, 17944: 1.0, 17970: 1.0, 17977: 1.0, 17978: 2.0, 17981: 1.0, 17991: 1.0, 18027: 1.0, 18035: 1.0, 18042: 1.0, 18057: 1.0, 18077: 1.0, 18087: 1.0, 18093: 1.0, 18117: 1.0, 18157: 3.0, 18163: 1.0, 18176: 3.0, 18196: 1.0, 18212: 1.0, 18222: 1.0, 18231: 1.0, 18273: 1.0, 18323: 2.0, 18331: 1.0, 18344: 1.0, 18367: 3.0, 18434: 2.0, 18466: 3.0, 18473: 1.0, 18507: 1.0, 18545: 1.0, 18558: 1.0, 18615: 11.0, 18682: 1.0, 18688: 1.0, 18693: 1.0, 18699: 2.0, 18730: 1.0, 18842: 1.0, 18865: 1.0, 18880: 43.0, 18895: 1.0, 18965: 2.0, 19009: 1.0, 19041: 1.0, 19093: 1.0, 19107: 1.0, 19111: 1.0, 19193: 1.0, 19198: 11.0, 19199: 1.0, 19236: 2.0, 19238: 2.0, 19316: 1.0, 19327: 4.0, 19331: 1.0, 19436: 1.0, 19457: 2.0, 19539: 1.0, 19607: 1.0, 19634: 1.0, 19637: 1.0, 19713: 1.0, 19762: 1.0, 19864: 2.0, 19891: 1.0, 19896: 1.0, 19915: 1.0, 20024: 1.0, 20044: 1.0, 20074: 1.0, 20117: 1.0, 20124: 1.0, 20135: 1.0, 20149: 1.0, 20187: 1.0, 20194: 17.0, 20206: 1.0, 20237: 1.0, 20283: 1.0, 20285: 1.0, 20293: 1.0, 20300: 1.0, 20338: 3.0, 20349: 18.0, 20399: 2.0, 20441: 1.0, 20470: 1.0, 20480: 1.0, 20500: 1.0, 20534: 1.0, 20542: 12.0, 20557: 1.0, 20592: 1.0, 20623: 1.0, 20631: 1.0, 20640: 1.0, 20645: 1.0, 20675: 1.0, 20735: 2.0, 20788: 1.0, 20829: 1.0, 20855: 5.0, 20926: 2.0, 20947: 1.0, 20962: 3.0, 20963: 1.0, 21010: 3.0, 21043: 1.0, 21097: 2.0, 21163: 2.0, 21171: 1.0, 21186: 1.0, 21199: 1.0, 21237: 1.0, 21254: 1.0, 21285: 1.0, 21375: 2.0, 21388: 2.0, 21399: 1.0, 21435: 7.0, 21448: 1.0, 21453: 3.0, 21456: 2.0, 21501: 1.0, 21521: 1.0, 21561: 1.0, 21608: 1.0, 21623: 2.0, 21629: 1.0, 21639: 2.0, 21701: 1.0, 21703: 1.0, 21747: 1.0, 21801: 1.0, 21823: 1.0, 21845: 7.0, 21849: 1.0, 21855: 1.0, 21864: 1.0, 21884: 1.0, 21961: 4.0, 22002: 1.0, 22122: 1.0, 22192: 1.0, 22223: 2.0, 22241: 1.0, 22250: 1.0, 22262: 1.0, 22284: 1.0, 22370: 1.0, 22376: 1.0, 22384: 1.0, 22390: 1.0, 22397: 2.0, 22409: 1.0, 22524: 4.0, 22538: 1.0, 22545: 2.0, 22577: 1.0, 22583: 2.0, 22592: 1.0, 22617: 1.0, 22625: 1.0, 22903: 1.0, 22904: 2.0, 22971: 1.0, 23004: 1.0, 23056: 1.0, 23073: 1.0, 23091: 1.0, 23164: 4.0, 23194: 2.0, 23268: 3.0, 23275: 3.0, 23317: 1.0, 23344: 1.0, 23360: 1.0, 23414: 1.0, 23426: 1.0, 23441: 1.0, 23454: 2.0, 23528: 1.0, 23530: 1.0, 23556: 1.0, 23599: 1.0, 23604: 1.0, 23827: 4.0, 23889: 2.0, 23894: 1.0, 23913: 2.0, 23922: 1.0, 23932: 1.0, 23987: 1.0, 23995: 1.0, 24053: 1.0, 24061: 1.0, 24074: 8.0, 24161: 1.0, 24261: 1.0, 24266: 1.0, 24272: 1.0, 24481: 1.0, 24558: 1.0, 24579: 1.0, 24597: 1.0, 24631: 1.0, 24649: 1.0, 24655: 1.0, 24673: 1.0, 24683: 1.0, 24768: 2.0, 24803: 15.0, 24820: 1.0, 24825: 1.0, 24852: 1.0, 24856: 1.0, 24882: 1.0, 24912: 2.0, 24929: 1.0, 24947: 1.0, 24990: 1.0, 25017: 1.0, 25036: 1.0, 25056: 1.0, 25231: 1.0, 25246: 1.0, 25346: 1.0, 25433: 2.0, 25449: 1.0, 25475: 1.0, 25492: 1.0, 25615: 1.0, 25638: 1.0, 25711: 1.0, 25789: 1.0, 25844: 1.0, 25859: 1.0, 25977: 1.0, 26241: 1.0, 26304: 1.0, 26327: 2.0, 26344: 1.0, 26412: 3.0, 26437: 2.0, 26449: 23.0, 26479: 1.0, 26487: 1.0, 26499: 1.0, 26563: 1.0, 26565: 1.0, 26647: 6.0, 26755: 2.0, 26817: 1.0, 26843: 3.0, 26908: 1.0, 26995: 1.0, 27052: 9.0, 27090: 1.0, 27151: 2.0, 27176: 3.0, 27256: 1.0, 27376: 1.0, 27402: 2.0, 27404: 1.0, 27458: 2.0, 27468: 1.0, 27503: 1.0, 27543: 3.0, 27551: 1.0, 27659: 1.0, 27708: 1.0, 27770: 1.0, 27777: 1.0, 27814: 2.0, 27872: 1.0, 27903: 2.0, 27943: 1.0, 27968: 1.0, 28009: 1.0, 28067: 1.0, 28285: 1.0, 28386: 1.0, 28413: 8.0, 28460: 1.0, 28466: 1.0, 28537: 3.0, 28720: 1.0, 28782: 2.0, 28964: 1.0, 29077: 2.0, 29104: 1.0, 29108: 6.0, 29120: 1.0, 29186: 1.0, 29221: 1.0, 29229: 1.0, 29255: 1.0, 29324: 3.0, 29412: 1.0, 29468: 2.0, 29473: 1.0, 29497: 1.0, 29505: 3.0, 29542: 2.0, 29642: 2.0, 29780: 1.0, 29826: 1.0, 29840: 1.0, 29909: 1.0, 29959: 1.0, 29969: 1.0, 30150: 1.0, 30240: 20.0, 30323: 1.0, 30346: 1.0, 30421: 4.0, 30461: 1.0, 30466: 1.0, 30475: 4.0, 30486: 1.0, 30521: 1.0, 30575: 1.0, 30591: 2.0, 30598: 1.0, 30660: 1.0, 30696: 1.0, 30793: 1.0, 30851: 1.0, 30859: 2.0, 30880: 1.0, 30941: 2.0, 31005: 1.0, 31227: 2.0, 31243: 1.0, 31291: 4.0, 31318: 1.0, 31382: 1.0, 31547: 4.0, 31581: 5.0, 31603: 1.0, 31639: 1.0, 31698: 4.0, 31760: 1.0, 31767: 1.0, 31803: 1.0, 31913: 1.0, 31994: 4.0, 32044: 1.0, 32166: 1.0, 32218: 1.0, 32233: 1.0, 32242: 1.0, 32297: 1.0, 32377: 2.0, 32517: 1.0, 32522: 2.0, 32533: 1.0, 32581: 1.0, 32651: 2.0, 32655: 1.0, 32751: 2.0, 32851: 1.0, 32854: 2.0, 32889: 2.0, 32931: 1.0, 33018: 1.0, 33149: 1.0, 33255: 2.0, 33288: 1.0, 33310: 2.0, 33581: 1.0, 33603: 1.0, 33711: 1.0, 33776: 2.0, 33890: 1.0, 33916: 3.0, 33924: 1.0, 33946: 1.0, 34072: 2.0, 34297: 3.0, 34400: 1.0, 34570: 1.0, 34604: 1.0, 34608: 1.0, 34655: 2.0, 34764: 1.0, 34785: 5.0, 34827: 1.0, 34890: 2.0, 34916: 1.0, 35031: 1.0, 35145: 1.0, 35160: 5.0, 35292: 1.0, 35322: 1.0, 35386: 1.0, 35467: 1.0, 35641: 1.0, 35738: 1.0, 35750: 1.0, 35949: 1.0, 36094: 3.0, 36226: 1.0, 36232: 1.0, 36446: 1.0, 36458: 2.0, 36465: 1.0, 36591: 1.0, 36631: 1.0, 36800: 1.0, 36846: 1.0, 37355: 1.0, 37444: 1.0, 37507: 1.0, 37522: 1.0, 37587: 1.0, 37650: 3.0, 37661: 2.0, 37708: 1.0, 37746: 1.0, 37833: 1.0, 37889: 3.0, 38075: 2.0, 38319: 1.0, 38323: 2.0, 38419: 2.0, 38533: 2.0, 38819: 1.0, 38899: 1.0, 39214: 1.0, 39306: 1.0, 39314: 1.0, 39411: 1.0, 39443: 1.0, 39466: 3.0, 39469: 1.0, 39705: 1.0, 39874: 3.0, 39919: 2.0, 39925: 1.0, 39950: 1.0, 40051: 1.0, 40214: 1.0, 40601: 1.0, 40708: 2.0, 40800: 1.0, 40987: 1.0, 41117: 1.0, 41121: 1.0, 41189: 12.0, 41425: 4.0, 41434: 1.0, 41444: 2.0, 41548: 1.0, 41554: 1.0, 41722: 1.0, 42043: 1.0, 42045: 2.0, 42154: 1.0, 42187: 1.0, 42306: 1.0, 42377: 2.0, 42386: 1.0, 42408: 1.0, 42445: 1.0, 42608: 1.0, 42730: 1.0, 42882: 1.0, 42917: 1.0, 43159: 14.0, 43249: 1.0, 43348: 1.0, 43349: 1.0, 43360: 1.0, 43507: 1.0, 43561: 2.0, 43605: 1.0, 44049: 1.0, 44172: 1.0, 44323: 1.0, 44446: 1.0, 44541: 2.0, 44581: 1.0, 44738: 1.0, 44788: 1.0, 44931: 1.0, 44998: 6.0, 45115: 1.0, 45157: 10.0, 45276: 2.0, 45422: 4.0, 45434: 6.0, 45446: 1.0, 45546: 2.0, 45575: 1.0, 45718: 2.0, 45764: 1.0, 45802: 1.0, 46014: 2.0, 46166: 1.0, 46286: 1.0, 46301: 1.0, 46304: 3.0, 46345: 2.0, 46406: 1.0, 46615: 2.0, 46660: 4.0, 46751: 1.0, 46814: 5.0, 46857: 2.0, 47030: 1.0, 47467: 2.0, 47537: 1.0, 47867: 2.0, 47955: 1.0, 48318: 1.0, 48584: 1.0, 48736: 1.0, 48804: 2.0, 48832: 2.0, 48885: 3.0, 49015: 14.0, 49039: 1.0, 49378: 1.0, 49462: 2.0, 49632: 1.0, 49860: 1.0, 49907: 1.0, 50078: 7.0, 50136: 1.0, 50140: 2.0, 50203: 1.0, 50328: 1.0, 50331: 17.0, 50922: 1.0, 50999: 1.0, 51017: 1.0, 51183: 7.0, 51257: 1.0, 51278: 1.0, 51384: 1.0, 51398: 1.0, 51474: 1.0, 51605: 1.0, 51651: 7.0, 51939: 1.0, 52149: 6.0, 52296: 1.0, 52657: 1.0, 52773: 1.0, 52817: 1.0, 52846: 1.0, 52947: 1.0, 53293: 1.0, 53372: 1.0, 53604: 2.0, 53777: 1.0, 54177: 1.0, 55168: 1.0, 55276: 1.0, 56075: 1.0, 56506: 1.0, 56880: 1.0, 56911: 1.0, 57131: 1.0, 57453: 3.0, 57752: 1.0, 57846: 1.0, 57953: 2.0, 58046: 1.0, 58182: 1.0, 58391: 1.0, 58558: 1.0, 58736: 1.0, 59041: 1.0, 59275: 1.0, 59311: 1.0, 59526: 1.0, 59549: 1.0, 59671: 2.0, 60066: 2.0, 60094: 1.0, 60133: 1.0, 60198: 1.0, 61017: 13.0, 61408: 3.0, 61450: 35.0, 61510: 1.0, 62132: 1.0, 62256: 1.0, 62311: 3.0, 62921: 1.0, 63285: 1.0, 63424: 3.0, 63774: 1.0, 63822: 1.0, 64260: 6.0, 64376: 2.0, 64730: 1.0, 65443: 1.0, 65447: 1.0, 65611: 1.0, 65776: 1.0, 65868: 1.0, 66674: 1.0, 67892: 5.0, 68789: 1.0, 68837: 1.0, 68871: 1.0, 69077: 2.0, 69161: 1.0, 69178: 1.0, 69246: 2.0, 69342: 2.0, 70058: 1.0, 70228: 3.0, 70582: 10.0, 70776: 1.0, 71127: 38.0, 71475: 2.0, 72628: 1.0, 72816: 1.0, 73105: 8.0, 74453: 1.0, 74797: 1.0, 75205: 2.0, 76487: 1.0, 76522: 2.0, 76960: 1.0, 77687: 2.0, 78478: 2.0, 78496: 1.0, 78947: 2.0, 79459: 1.0, 81302: 1.0, 83005: 1.0, 83331: 1.0, 83526: 1.0, 84524: 16.0, 84741: 2.0, 85137: 1.0, 85193: 2.0, 85485: 1.0, 86383: 1.0, 86618: 3.0, 86889: 1.0, 87285: 1.0, 87303: 1.0, 87637: 1.0, 87949: 1.0, 87994: 1.0, 89300: 1.0, 89346: 1.0, 89682: 1.0, 89930: 1.0, 90101: 1.0, 90696: 2.0, 90893: 1.0, 91176: 1.0, 91389: 1.0, 91694: 1.0, 92349: 1.0, 93786: 1.0, 94457: 1.0, 95038: 1.0, 95473: 1.0, 95575: 2.0, 96490: 1.0, 97069: 1.0, 98204: 1.0, 98222: 1.0, 98929: 1.0}))"
      ]
     },
     "execution_count": 44,
     "metadata": {},
     "output_type": "execute_result"
    }
   ],
   "source": [
    "vector_rdd.first()"
   ]
  },
  {
   "cell_type": "code",
   "execution_count": 45,
   "metadata": {
    "collapsed": false
   },
   "outputs": [
    {
     "data": {
      "text/plain": [
       "27524"
      ]
     },
     "execution_count": 45,
     "metadata": {},
     "output_type": "execute_result"
    }
   ],
   "source": [
    "# make sure the transformation can be carried out for all elements by using count\n",
    "# this is a good way of catching anomalies in the data\n",
    "vector_rdd.count()"
   ]
  },
  {
   "cell_type": "markdown",
   "metadata": {},
   "source": [
    "## Perform the aggregation\n",
    "\n",
    "We now have the entire Gutenberg English book corpus in the form of sparse vectors encoding the most used 100k words. \n",
    "\n",
    "To get the yearly sums, we will turn the metadata of each document into its publication year (i.e. the key will be the year, the value is the vector) and then do an aggregation by year. \n",
    "\n",
    "We will use the powerful [`treeAggregate`](http://spark.apache.org/docs/latest/api/python/pyspark.html?highlight=values#pyspark.RDD.treeAggregate) method, which requires that we specify three different components:\n",
    "\n",
    "1. the starting aggregate\n",
    "2. a function that adds a new value to the aggregate \n",
    "3. a function that adds together two aggregates\n",
    "\n",
    "The way `treeAggregate` works is that it performs the reduction in a tree pattern in order to minimize the strain on the driver. In a \"normal\" reduction, the workers send their results to the driver, which is tasked with putting it all together -- however, if these partial results are large (as is potentially the case here) then the driver can run into memory issues. Furthermore, most of the cluster is sitting idle while the driver performs the aggregation. `treeAggregate` fixes this by performing partial aggregations on the workers and only sending the final stages to the driver. See this [blog post](https://databricks.com/blog/2014/09/22/spark-1-1-mllib-performance-improvements.html) for a bit more description of this method. \n",
    "\n",
    "The aggregation methods are powerful because the \"aggregate\" can be any object -- we can write a class that gets passed around to do the aggregation, for example. Aggregation methods are more general reduction methods because they allow you to change the type of the variables -- in our case here, we are converting the data `(year, vector)` tuples into a dictionary of arrays. \n",
    "\n",
    "Below, we will use an instance of a dictionary as the aggregation object and define two functions that will do the actual aggregation. "
   ]
  },
  {
   "cell_type": "code",
   "execution_count": 46,
   "metadata": {
    "collapsed": true
   },
   "outputs": [],
   "source": [
    "def add_vector(d, data_tuple) : \n",
    "    \"\"\"Add a new vector to the aggregation dictionary\n",
    "    \n",
    "    The vectors in the aggregation dictionary are dense since for most years we can expect that \n",
    "    this will be the case anyway. Note that we use 32-bit floats to save a bit on memory. \n",
    "    \n",
    "    Arguments: \n",
    "        d: the aggregation dictionary\n",
    "        \n",
    "        data_tuple: the (year, vec) tuple\n",
    "        \n",
    "    Returns: \n",
    "        the updated aggregation dictionary \n",
    "    \"\"\"\n",
    "    # expand the data tuple\n",
    "    year, vec = data_tuple\n",
    "    \n",
    "    if year in d : \n",
    "        \n",
    "        d[year][vec.indices] += vec.values\n",
    "    else :\n",
    "        # this is the first time we've encountered this year --> make an empty vector \n",
    "        new_vec = np.zeros(vec.size, dtype=np.float32)\n",
    "        \n",
    "        # now put in the contents of the current vector\n",
    "        new_vec[vec.indices] = vec.values\n",
    "        \n",
    "        # create the year in the dictionary\n",
    "        d[year] = new_vec\n",
    "        \n",
    "    return d\n",
    "\n",
    "def add_dicts(d1, d2) : \n",
    "    \"\"\"Add two dictionaries together\n",
    "    \n",
    "    Arguments: \n",
    "        d1: first dictionary\n",
    "        \n",
    "        d2: second dictionary\n",
    "        \n",
    "    Returns: \n",
    "        merged dictionaries\n",
    "    \"\"\"\n",
    "    \n",
    "    # iterate through all the items in the second dictionary\n",
    "    for year, vec in d2.iteritems() : \n",
    "        # if this year is also in d1, add the vectors together\n",
    "        if year in d1 : \n",
    "            d1[year] += vec\n",
    "        # if not, create a new year entry in d1\n",
    "        else : \n",
    "            d1[year] = vec\n",
    "    return d1"
   ]
  },
  {
   "cell_type": "markdown",
   "metadata": {},
   "source": [
    "Now we create an RDD of `(year, vec)` pairs:"
   ]
  },
  {
   "cell_type": "code",
   "execution_count": 47,
   "metadata": {
    "collapsed": true
   },
   "outputs": [],
   "source": [
    "year_vec = vector_rdd.map(lambda (gid, vec): (publication_year(meta_b.value[gid]), vec))"
   ]
  },
  {
   "cell_type": "markdown",
   "metadata": {},
   "source": [
    "Before we perform the aggregation, we can do one final bit of optimization. Passing around dictionaries full of large arrays can get expensive very quickly. The memory footprint of our partial results will depend on how heterogeneous the years on each partition or group of partitions are: if most of the data on a partition is for the same key (year in this case) then the dictionary we create on that partition will only contain a handful of vectors.  We can control this by first partitioning the RDD in a way that groups data with the same keys onto the same partitions. \n",
    "\n",
    "Spark provides a `partitionBy` method that does exactly this -- by default, it uses a hash function to map the keys to partitions, but you can also pass a custom partitioner if you want. If you look at the Spark UI after executing the next cell, you'll see that the partition step caused some shuffling of data, but that the aggregation itself ran very quickly and with minimal data movement. "
   ]
  },
  {
   "cell_type": "code",
   "execution_count": 48,
   "metadata": {
    "collapsed": true
   },
   "outputs": [],
   "source": [
    "n_partitions = year_vec.getNumPartitions()"
   ]
  },
  {
   "cell_type": "code",
   "execution_count": 49,
   "metadata": {
    "collapsed": false
   },
   "outputs": [],
   "source": [
    "# TODO: use an empty dictionary and the two functions defined above as arguments to the treeAggregate method\n",
    "year_sums = (year_vec.partitionBy(n_partitions)\n",
    "                     .treeAggregate(dict(), add_vector, add_dicts))"
   ]
  },
  {
   "cell_type": "markdown",
   "metadata": {},
   "source": [
    "Note that `year_sums` is a single \"value\", in this case our aggregate dictionary containing years as keys and vectors representing cummulative word counts as values. "
   ]
  },
  {
   "cell_type": "code",
   "execution_count": 50,
   "metadata": {
    "collapsed": false
   },
   "outputs": [
    {
     "data": {
      "text/plain": [
       "[(91, array([ 19.,  19.,  48., ...,   0.,   0.,   0.], dtype=float32)),\n",
       " (95, array([  1.,  12.,  10., ...,   0.,   0.,   0.], dtype=float32)),\n",
       " (96, array([  91.,   94.,  132., ...,    0.,    0.,    0.], dtype=float32)),\n",
       " (97, array([ 19.,  30.,  57., ...,   0.,   0.,   0.], dtype=float32)),\n",
       " (101, array([  58.,   98.,  124., ...,    0.,    0.,    0.], dtype=float32)),\n",
       " (156, array([ 30.,  38.,  37., ...,   0.,   0.,   0.], dtype=float32)),\n",
       " (157, array([  47.,  381.,  139., ...,    0.,    0.,    0.], dtype=float32)),\n",
       " (159, array([ 38.,  35.,  66., ...,   0.,   0.,   0.], dtype=float32)),\n",
       " (167, array([  47.,  359.,  153., ...,    0.,    0.,    0.], dtype=float32)),\n",
       " (392, array([ 131.,  249.,  227., ...,    0.,    0.,    0.], dtype=float32))]"
      ]
     },
     "execution_count": 50,
     "metadata": {},
     "output_type": "execute_result"
    }
   ],
   "source": [
    "list(year_sums.iteritems())[0:10]"
   ]
  },
  {
   "cell_type": "markdown",
   "metadata": {},
   "source": [
    "## Gutenberg Project N-gram viewer\n",
    "\n",
    "Lets plot some results!\n",
    "\n",
    "Below we define a plotting function and then make a plot of some interesting examples -- feel free to change the word list..."
   ]
  },
  {
   "cell_type": "code",
   "execution_count": 51,
   "metadata": {
    "collapsed": false
   },
   "outputs": [],
   "source": [
    "def plot_usage_frequency(words, year_data, word_lookup, plot_range = [1300,2015]) : \n",
    "    years = sorted(year_data.keys())\n",
    "    tot_count = np.array([year_data[year].sum() for year in years])\n",
    "    \n",
    "    if ',' in words:\n",
    "        words = [word.strip() for word in words.split(',')]\n",
    "    elif type(words) is not list: \n",
    "        words = [words]\n",
    "    \n",
    "    n_words = len(words)\n",
    "        \n",
    "    for i, word in enumerate(words) : \n",
    "        word_ind = word_lookup[word]\n",
    "        w_count = np.array([year_data[year][word_ind] for year in years])\n",
    "        \n",
    "        plt.plot(years, smooth(w_count/(tot_count-w_count)),label=word, color = plt.cm.Set1(1.*i/n_words))\n",
    "    \n",
    "    plt.xlim(plot_range)\n",
    "    plt.xlabel('year')\n",
    "    plt.ylabel('relative frequency')\n",
    "    plt.legend(loc='upper left', fontsize = 'small')\n",
    "    \n",
    "    \n",
    "def smooth(x,window_len=11,window='hanning'):\n",
    "        if x.ndim != 1:\n",
    "                raise ValueError, \"smooth only accepts 1 dimension arrays.\"\n",
    "        if x.size < window_len:\n",
    "                raise ValueError, \"Input vector needs to be bigger than window size.\"\n",
    "        if window_len<3:\n",
    "                return x\n",
    "        if not window in ['flat', 'hanning', 'hamming', 'bartlett', 'blackman']:\n",
    "                raise ValueError, \"Window is on of 'flat', 'hanning', 'hamming', 'bartlett', 'blackman'\"\n",
    "        s=np.r_[2*x[0]-x[window_len-1::-1],x,2*x[-1]-x[-1:-window_len:-1]]\n",
    "        if window == 'flat': #moving average\n",
    "                w=np.ones(window_len,'d')\n",
    "        else:  \n",
    "                w=eval('np.'+window+'(window_len)')\n",
    "        y=np.convolve(w/w.sum(),s,mode='same')\n",
    "        return y[window_len:-window_len+1]\n",
    "\n",
    "from ipywidgets import interact, interactive, fixed\n",
    "import ipywidgets as widgets\n",
    "from functools import partial\n",
    "\n",
    "plot_partial = lambda words: plot_usage_frequency(words, year_sums, word_lookup)"
   ]
  },
  {
   "cell_type": "markdown",
   "metadata": {},
   "source": [
    "Here are just some illustrative examples -- feel free to try your own..."
   ]
  },
  {
   "cell_type": "code",
   "execution_count": 53,
   "metadata": {
    "collapsed": false,
    "scrolled": false
   },
   "outputs": [
    {
     "data": {
      "text/plain": [
       "<function __main__.<lambda>>"
      ]
     },
     "execution_count": 53,
     "metadata": {},
     "output_type": "execute_result"
    },
    {
     "data": {
      "image/png": "[encoded data removed]",
      "text/plain": [
       "<matplotlib.figure.Figure at 0x2b0c0004b810>"
      ]
     },
     "metadata": {},
     "output_type": "display_data"
    }
   ],
   "source": [
    "interact(plot_partial, words = 'giveth, environment, machine')"
   ]
  },
  {
   "cell_type": "markdown",
   "metadata": {},
   "source": [
    "If you are very motivated, you can adapt the workflow above to work with higher-order n-grams and allow for the lookup of phrases (i.e. \"world war\") instead of just single words. To do this, you have to create a new `word_lookup` table and regenerate the vectors. Since single words (i.e. one-grams) will dominate, it might make sense to build separate list of top N-grams (top two-grams, top three-grams) and then merge them together into a vocabulary map. Beware that the size of the data will increase quickly for N > 1!"
   ]
  },
  {
   "cell_type": "markdown",
   "metadata": {},
   "source": [
    "To continue the exploration of the Gutenberg books corpus, you can move on to the [language classification notebook](part3-lang-classification-SOLUTIONS.ipynb)."
   ]
  }
 ],
 "metadata": {
  "kernelspec": {
   "display_name": "Python 2",
   "language": "python",
   "name": "python2"
  },
  "language_info": {
   "codemirror_mode": {
    "name": "ipython",
    "version": 2
   },
   "file_extension": ".py",
   "mimetype": "text/x-python",
   "name": "python",
   "nbconvert_exporter": "python",
   "pygments_lexer": "ipython2",
   "version": "2.7.10"
  }
 },
 "nbformat": 4,
 "nbformat_minor": 0
}
