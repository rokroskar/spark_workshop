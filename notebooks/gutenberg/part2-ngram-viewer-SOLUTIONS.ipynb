{
 "cells": [
  {
   "cell_type": "code",
   "execution_count": 1,
   "metadata": {
    "collapsed": false
   },
   "outputs": [],
   "source": [
    "from __future__ import print_function\n",
    "%matplotlib inline\n",
    "import matplotlib.pylab as plt\n",
    "import sys, os, glob\n",
    "import numpy as np\n",
    "\n",
    "plt.rcParams['figure.figsize'] = (10,6)\n",
    "plt.rcParams['font.size'] = 18\n",
    "plt.style.use('fivethirtyeight')"
   ]
  },
  {
   "cell_type": "markdown",
   "metadata": {},
   "source": [
    "# Analyzing the Gutenberg Books Corpus"
   ]
  },
  {
   "cell_type": "markdown",
   "metadata": {},
   "source": [
    "In this notebook, we will use the cleaned, pre-processed data that we created in the [pre-processing part](gutenberg-preprocessing-SOLUTIONS.ipynb). As a reminder, we ended up with an RDD of `(gid, text)` tuples that has been cleaned and we stored it on HDFS at `/user/<YOUR_USERNAME>/gutenberg/cleaned_rdd`. \n",
    "\n",
    "We have two goals in this notebook:\n",
    "\n",
    "1. generate data that will enable us to create something like the [Google Ngram Viewer](https://books.google.com/ngrams) but for the Gutenberg book corpus. \n",
    "2. Use Spark's machine learning library to perform language classification on the English and German book corpus"
   ]
  },
  {
   "cell_type": "markdown",
   "metadata": {},
   "source": [
    "## Setting up Python and Spark\n",
    "\n",
    "These steps are identical to those used in the previous notebook so we have omitted the lengthy explanations -- if you need to check what any of this is doing, have a look at the pre-processing notebook. }"
   ]
  },
  {
   "cell_type": "code",
   "execution_count": 2,
   "metadata": {
    "collapsed": false
   },
   "outputs": [],
   "source": [
    "import findspark, os\n",
    "findspark.init()\n",
    "\n",
    "import pyspark\n",
    "from pyspark import SparkConf, SparkContext"
   ]
  },
  {
   "cell_type": "code",
   "execution_count": 3,
   "metadata": {
    "collapsed": true
   },
   "outputs": [],
   "source": [
    "# put the number of executors and cores into variables so we can refer to it later\n",
    "num_execs = 20\n",
    "exec_cores = 4"
   ]
  },
  {
   "cell_type": "code",
   "execution_count": 4,
   "metadata": {
    "collapsed": false
   },
   "outputs": [],
   "source": [
    "# initializing the SparkConf\n",
    "os.environ['SPARK_DRIVER_MEMORY'] = '4g'\n",
    "os.environ['SPARK_CONF_DIR'] = '%s/../../spark_config'%os.getcwd()\n",
    "conf = (SparkConf()\n",
    "            .set('spark.executor.memory', '8g')\n",
    "            .set('spark.executor.instances', str(num_execs))\n",
    "            .set('spark.executor.cores', str(exec_cores))\n",
    "            .set('spark.storage.memoryFraction', 0.3)\n",
    "            .set('spark.shuffle.memoryFraction', 0.5)\n",
    "            .set('spark.yarn.executor.memoryOverhead', 3072)\n",
    "            .set('spark.yarn.am.memory', '8g')\n",
    "            .set('spark.yarn.am.cores', 4)\n",
    "            .set('spark.executorEnv.PYTHONPATH', \n",
    "                 '/cluster/apps/spark/spark-current/python:/cluster/apps/spark/spark-current/python/lib/py4j-0.8.2.1-src.zip')\n",
    "            .set('spark.executorEnv.PATH', os.environ['PATH']))"
   ]
  },
  {
   "cell_type": "code",
   "execution_count": 5,
   "metadata": {
    "collapsed": false
   },
   "outputs": [],
   "source": [
    "sc = SparkContext(master = 'yarn-client', conf = conf)"
   ]
  },
  {
   "cell_type": "markdown",
   "metadata": {},
   "source": [
    "If this works successfully, you can check the [YARN application scheduler](http://hadoop.hpc-net.ethz.ch:8088/cluster) and you should see your app listed there. Clicking on the \"Application Master\" link will bring up the familiar Spark Web UI. \n",
    "\n",
    "Note that we specified a custom `SPARK_CONF_DIR`: this way we can override default spark settings. In particular in this case we override the logging options to keep the console a bit more quiet. We still want to see the warnings and the outputs from the machine learning library, however. Here is the log configuration file that accomplishes this: "
   ]
  },
  {
   "cell_type": "code",
   "execution_count": 6,
   "metadata": {
    "collapsed": false
   },
   "outputs": [
    {
     "name": "stdout",
     "output_type": "stream",
     "text": [
      "# Set everything to be logged to the console\r\n",
      "log4j.rootCategory=WARN, console\r\n",
      "log4j.appender.console=org.apache.log4j.ConsoleAppender\r\n",
      "log4j.appender.console.target=System.err\r\n",
      "log4j.appender.console.layout=org.apache.log4j.PatternLayout\r\n",
      "log4j.appender.console.layout.ConversionPattern=%d{yy/MM/dd HH:mm:ss} %p %c{1}: %m%n\r\n",
      "log4j.appender.file_appender.File=${spark.yarn.app.container.log.dir}/spark.log\r\n",
      "\r\n",
      "# Settings to quiet third party logs that are too verbose\r\n",
      "log4j.logger.org.eclipse.jetty=WARN\r\n",
      "log4j.logger.org.eclipse.jetty.util.component.AbstractLifeCycle=ERROR\r\n",
      "log4j.logger.org.apache.spark.repl.SparkIMain$exprTyper=INFO\r\n",
      "log4j.logger.org.apache.spark.repl.SparkILoop$SparkILoopInterpreter=INFO\r\n",
      "\r\n",
      "# get all info from the mllib components\r\n",
      "log4j.logger.org.apache.spark.mllib=INFO, console\r\n",
      "log4j.additivity.org.apache.spark.mllib=false\r\n",
      "\r\n",
      "# make sure we get warnings from scheduler and storage\r\n",
      "log4j.logger.org.apache.spark.scheduler=WARN, console\r\n",
      "log4j.additivity.spark.scheduler=false\r\n",
      "log4j.logger.org.apache.spark.storage=WARN, console\r\n",
      "log4j.additivity.spark.storage=false\r\n"
     ]
    }
   ],
   "source": [
    "!cat ../../spark_config/log4j.properties"
   ]
  },
  {
   "cell_type": "markdown",
   "metadata": {},
   "source": [
    "## Load the data from HDFS"
   ]
  },
  {
   "cell_type": "code",
   "execution_count": 7,
   "metadata": {
    "collapsed": false
   },
   "outputs": [],
   "source": [
    "# TODO: load cleaned_rdd from the HDFS\n",
    "cleaned_rdd = sc.pickleFile('/user/roskarr/gutenberg/cleaned_rdd').setName('cleaned_rdd').cache()"
   ]
  },
  {
   "cell_type": "markdown",
   "metadata": {},
   "source": [
    "A quick inspection of the data to remind ourselves what it looks like: "
   ]
  },
  {
   "cell_type": "code",
   "execution_count": 8,
   "metadata": {
    "collapsed": false
   },
   "outputs": [
    {
     "name": "stdout",
     "output_type": "stream",
     "text": [
      "8000 n five years of nearly or per annum and by a report of the inspectorgeneral it was shown that the number retained from to averaged per annum taking the thirteen years at that rate we obtain nearly or per annum and if we take the four years at the same rate we obtain as the total number retained in that period in a committee of the house of assembly made a report on the number of the slaves by which it was made to be and if to this be added the free negroes amounting to we obtain as the total num\n"
     ]
    }
   ],
   "source": [
    "gid, text = cleaned_rdd.first()\n",
    "print(gid, text[10000:10500]) # somewhere in the middle of the book"
   ]
  },
  {
   "cell_type": "markdown",
   "metadata": {},
   "source": [
    "### Load in the metadata dictionary and broadcast it"
   ]
  },
  {
   "cell_type": "code",
   "execution_count": 9,
   "metadata": {
    "collapsed": true
   },
   "outputs": [],
   "source": [
    "from cPickle import load\n",
    "\n",
    "with open('{home}/gutenberg_metadata.dump'.format(home=os.environ['HOME']), 'r') as f :\n",
    "    meta_dict = load(f)"
   ]
  },
  {
   "cell_type": "code",
   "execution_count": 10,
   "metadata": {
    "collapsed": false
   },
   "outputs": [],
   "source": [
    "# TODO: create meta_b by broadcasting meta_dict\n",
    "meta_b = sc.broadcast(meta_dict)"
   ]
  },
  {
   "cell_type": "markdown",
   "metadata": {},
   "source": [
    "Now, our `cleaned_rdd` contains `gid`'s as keys and text as values and if we want some other piece of metadata, we can just access it via the lookup table, for example `meta_b.value[gid][meta_name]`. "
   ]
  },
  {
   "cell_type": "markdown",
   "metadata": {},
   "source": [
    "### Histogram of book publication years\n",
    "Now we're ready to start asking some questions of the data. To begin with, lets do a simple histogram of the year distribution of the books. Since we don't have original publication dates, we just use the simple formula: \n",
    "\n",
    "$year = max\\left((year_{birth} + year_{death})/2, year_{birth} + offset\\right)$, \n",
    "\n",
    "where $offset$ is a number drawn from a gaussian centered on 40 with $\\sigma = 5$ years. This means that we assume most people write their books around age 40. ;)\n",
    "\n",
    "The function `publication_year` is provided for you and you should use it to *transform* the `year_rdd` into an RDD of publication years. \n",
    "\n",
    "Remember that we created a broadcast variable at the beginning of the notebook, which can be used to efficiently look up metadata."
   ]
  },
  {
   "cell_type": "code",
   "execution_count": 11,
   "metadata": {
    "collapsed": false
   },
   "outputs": [],
   "source": [
    "import numpy as np\n",
    "def publication_year(meta) : \n",
    "    \"\"\"Returns the publication year for the given metadata dictionary\"\"\"\n",
    "    \n",
    "    birth_year = int(meta['birth_year'])\n",
    "    if meta['death_year'] is None : \n",
    "        year = birth_year + np.random.normal(40,5)\n",
    "    else :\n",
    "        death_year = int(meta['death_year'])\n",
    "        year = max((birth_year + death_year) / 2.0, birth_year+np.random.normal(40,5))\n",
    "\n",
    "    return min(int(year),2015)"
   ]
  },
  {
   "cell_type": "code",
   "execution_count": 12,
   "metadata": {
    "collapsed": false
   },
   "outputs": [
    {
     "data": {
      "text/plain": [
       "30850"
      ]
     },
     "execution_count": 12,
     "metadata": {},
     "output_type": "execute_result"
    }
   ],
   "source": [
    "# TODO: map cleaned_rdd to contain just the publication years by using the publication_year function above\n",
    "year_rdd = cleaned_rdd.map(lambda (gid, text): publication_year(meta_b.value[gid]))\n",
    "                       \n",
    "year_rdd.count()"
   ]
  },
  {
   "cell_type": "code",
   "execution_count": 13,
   "metadata": {
    "collapsed": false
   },
   "outputs": [
    {
     "data": {
      "text/plain": [
       "1836"
      ]
     },
     "execution_count": 13,
     "metadata": {},
     "output_type": "execute_result"
    }
   ],
   "source": [
    "year_rdd.first()"
   ]
  },
  {
   "cell_type": "markdown",
   "metadata": {},
   "source": [
    "The histogram function actually already exists in the Spark API (but it didn't use to!). However, for fun we will write our own. Calculating the histogram can be split up into two parts:\n",
    "\n",
    "2. calculate the bin that the value maps to and create an RDD of (`bin`, 1) pair\n",
    "3. do a `reduceByKey` where we just add up all the values belonging to each bin. \n",
    "\n",
    "The last step is the simplest for us to execute, but the most complicated in terms of what happens behind the scenes. The reduction happens in two parts - first, it creates a list of `(key, count)` pairs locally by iterating through all the elements of the partition and creating a hash table. Then, these pairs are communicated to other partitions and added up. "
   ]
  },
  {
   "cell_type": "code",
   "execution_count": 14,
   "metadata": {
    "collapsed": true
   },
   "outputs": [],
   "source": [
    "# define a helper function to determine which bin a value falls into\n",
    "from bisect import bisect_right\n",
    "def get_bin(bin_edges, value) : \n",
    "    \"\"\"Returns which bin, specified by `bin_edges`, the `value` falls into.\"\"\"\n",
    "    \n",
    "    return bisect_right(bin_edges, value) - 1"
   ]
  },
  {
   "cell_type": "code",
   "execution_count": 15,
   "metadata": {
    "collapsed": true
   },
   "outputs": [],
   "source": [
    "# TODO: fill in the bits and pieces of the histogram function\n",
    "\n",
    "def histogram(rdd, nbins = 100, min_val=None, max_val=None) :\n",
    "    \"\"\"\n",
    "    Calculate a histogram of the data, given the number of bins and the data range. \n",
    "    \n",
    "    Arguments: \n",
    "        \n",
    "        rdd: the data RDD\n",
    "    \n",
    "    Optional Keywords:\n",
    "        \n",
    "        nbins: number of bins (default 100)\n",
    "        \n",
    "        min_val: minimum value to consider (default, min value of the input data)\n",
    "        \n",
    "        max_val: maximum value to consider (default, max value of the input data)\n",
    "    \n",
    "    Returns: \n",
    "        \n",
    "        tuple of bins and array of counts\n",
    "        \n",
    "    \"\"\"\n",
    "    # if either min_val or max_val are missing, get them from the data\n",
    "    if min_val is None : \n",
    "        min_val = rdd.min() # FILL IN\n",
    "    if max_val is None : \n",
    "        max_val = rdd.max() # FILL IN\n",
    "        \n",
    "    # create the array of bin edges\n",
    "    bin_edges = np.linspace(min_val,max_val,nbins+1)\n",
    "    \n",
    "    # create an RDD where each data value is mapped into a tuple (bin, 1) that will \n",
    "    # be used for counting up the bin values\n",
    "    binned_rdd = rdd.map(lambda x: (get_bin(bin_edges, x),1)) # FILL IN \n",
    "    \n",
    "    # reduce binned_rdd \n",
    "    summed_bins = binned_rdd.reduceByKey(lambda a,b:a+b).collect() # FILL IN \n",
    "    \n",
    "    # This is a sparse result -- turn into a dense vector for plotting: \n",
    "    res_full = np.zeros(nbins)\n",
    "    overflow = 0\n",
    "    for item in summed_bins : \n",
    "        if item[0] > len(res_full)-1 or item[0] < 0: \n",
    "            continue # ignore\n",
    "        else: res_full[item[0]] = item[1]\n",
    "            \n",
    "    return .5*(bin_edges[:-1]+bin_edges[1:]), res_full"
   ]
  },
  {
   "cell_type": "code",
   "execution_count": 16,
   "metadata": {
    "collapsed": false
   },
   "outputs": [
    {
     "name": "stdout",
     "output_type": "stream",
     "text": [
      "CPU times: user 80 ms, sys: 10 ms, total: 90 ms\n",
      "Wall time: 5.79 s\n"
     ]
    }
   ],
   "source": [
    "# FILL IN \n",
    "%time bins, vals = histogram(year_rdd, min_val=1500, max_val=2015)"
   ]
  },
  {
   "cell_type": "markdown",
   "metadata": {},
   "source": [
    "Finally, here is the histogram of publication years:"
   ]
  },
  {
   "cell_type": "code",
   "execution_count": 17,
   "metadata": {
    "collapsed": false
   },
   "outputs": [
    {
     "data": {
      "image/png": "[encoded data removed]",
      "text/plain": [
       "<matplotlib.figure.Figure at 0x2b11525cc250>"
      ]
     },
     "metadata": {},
     "output_type": "display_data"
    }
   ],
   "source": [
    "plt.plot(bins, vals)\n",
    "plt.xlim(1500,2015)\n",
    "plt.xlabel('year')\n",
    "plt.ylabel('Number of books')\n",
    "plt.semilogy()\n",
    "pass"
   ]
  },
  {
   "cell_type": "markdown",
   "metadata": {},
   "source": [
    "### Reducing network traffic by using `mapPartition`\n",
    "\n",
    "This kind of operation is a good candidate for first computing a partial result on each partition and then following with a reduce step. \n",
    "\n",
    "In our `histogram` function above, the `reduceByKey` step requires a reshuffling of the data which means spending potentially a lot of time in network communication and other overhead associated with creating distributed hash tables for all the keys. \n",
    "\n",
    "However, since our binning function effectively already hashes the values anyway, we can avoid this by instructing first each partition to calculate its local histogram and then simply adding up the histograms in the end. In this way, we are basically combinging the `map` operation with a local `reduce` operation, and since the number of bins is always relatively small, we end up sending a trivial amount of data across the network. \n",
    "\n",
    "Here is where our knowledge of generators comes in handy, because the method [`mapPartitions`](http://spark.apache.org/docs/latest/api/python/pyspark.html#pyspark.RDD.mapPartitions) *requires* a generator function. "
   ]
  },
  {
   "cell_type": "markdown",
   "metadata": {},
   "source": [
    "The key here is to define a histogram function that calculates the histogram on each partition locally. `mapPartitions` gives us an *iterator* over the data; we need to extract the data out of this iterator and calculate the local histograms *for the data in each partition*. Below, this is accomplished using the `bin_partition` function.\n",
    "\n",
    "Finally, we define a new `histogram_partition` function that uses `bin_partition` to compute the local histograms and a simple addition in a `reduce` operation to sum up the histograms in the end. "
   ]
  },
  {
   "cell_type": "code",
   "execution_count": 18,
   "metadata": {
    "collapsed": false
   },
   "outputs": [],
   "source": [
    "def bin_partition(iterator, nbins,  min_val, max_val) : \n",
    "    \"\"\"\n",
    "    Perform the binning of data contained in an iterator\n",
    "    \n",
    "    Arguments: \n",
    "        \n",
    "        iterator: the data iterable \n",
    "        \n",
    "        nbins: number of bins\n",
    "        \n",
    "        min_val, max_val: min and max values to consider\n",
    "    \n",
    "    yields the local histogram\n",
    "    \"\"\"\n",
    "    from bisect import bisect_right\n",
    "    \n",
    "    bin_edges = np.linspace(min_val,max_val,nbins+1)\n",
    "    \n",
    "    histogram = np.zeros(len(bin_edges)-1)\n",
    "    \n",
    "    for item in iterator : # iterating over all the items in the partition\n",
    "        try : \n",
    "            ind = get_bin(bin_edges,item)\n",
    "            histogram[ind] += 1\n",
    "        except IndexError : \n",
    "            pass\n",
    "        \n",
    "    yield histogram\n",
    "\n",
    "def histogram_partition(rdd, nbins = 100, min_val=None, max_val=None) :\n",
    "    \"\"\"\n",
    "    Calculate a histogram of the data by using partition methods\n",
    "    \n",
    "    Arguments: \n",
    "    \n",
    "        rdd: the data\n",
    "        \n",
    "    Optional Keywords:\n",
    "    \n",
    "        nbins: number of bins (default 100)\n",
    "        \n",
    "        min_val: minimum value to consider (default, min value of the input data)\n",
    "        \n",
    "        max_val: maximum value to consider (default, max value of the input data)\n",
    "    \n",
    "    Returns: \n",
    "        \n",
    "        tuple of bins and array of counts\n",
    "    \"\"\"\n",
    "    # if either min_val or max_val are missing, get them from the data\n",
    "    if min_val is None : \n",
    "        min_val = rdd.min() # FILL IN\n",
    "    if max_val is None : \n",
    "        max_val = rdd.max() # FILL IN\n",
    "        \n",
    "    bin_edges = np.linspace(min_val,max_val,nbins+1)\n",
    "    \n",
    "    result = (rdd.mapPartitions(lambda iterator: bin_partition(iterator, nbins, min_val, max_val))\n",
    "                 .reduce(lambda a,b: a+b))\n",
    "    \n",
    "    return .5*(bin_edges[:-1]+bin_edges[1:]), result"
   ]
  },
  {
   "cell_type": "code",
   "execution_count": 19,
   "metadata": {
    "collapsed": false
   },
   "outputs": [
    {
     "name": "stdout",
     "output_type": "stream",
     "text": [
      "CPU times: user 51 ms, sys: 8 ms, total: 59 ms\n",
      "Wall time: 3.17 s\n"
     ]
    }
   ],
   "source": [
    "%time bins, vals = histogram_partition(year_rdd, min_val=1500, max_val=2015)"
   ]
  },
  {
   "cell_type": "markdown",
   "metadata": {},
   "source": [
    "The difference here doesn't look dramatic because the total amount of data is rather small, but have a look at the Spark Web UI and you will see that the second implementation didn't do any shuffle writing. If you have a large number of keys, the intermediate shuffles that need to take place can have a substantial impact on performance. With a bigger data set, this difference could potentially matter quite a lot!"
   ]
  },
  {
   "cell_type": "markdown",
   "metadata": {},
   "source": [
    "### Inspecting the metadata some more\n",
    "\n",
    "Lets do a couple more checks and practice using the Spark API. \n",
    "\n",
    "#### How many unique authors are there in the dataset? \n",
    "\n",
    "1. make `author_rdd` that is composed of a string `\"last_name, first_name\"` (use the broadcast variable `meta_b` to get the data for each `gid`)\n",
    "2. keep only the unique author strings (*hint*: look at the Spark API to find an appropriate method)\n",
    "3. count the number of elements remaining"
   ]
  },
  {
   "cell_type": "code",
   "execution_count": 20,
   "metadata": {
    "collapsed": true
   },
   "outputs": [],
   "source": [
    "# TODO: map cleaned_rdd to contain the string \"last_name, first_name\" \n",
    "author_rdd = cleaned_rdd.map(lambda (gid, text): \n",
    "                             \"%s %s\"%(meta_b.value[gid]['last_name'], meta_b.value[gid]['first_name']))"
   ]
  },
  {
   "cell_type": "code",
   "execution_count": 21,
   "metadata": {
    "collapsed": false
   },
   "outputs": [
    {
     "name": "stdout",
     "output_type": "stream",
     "text": [
      "Number of distinct authors: 9725 \n"
     ]
    }
   ],
   "source": [
    "# TODO: use RDD methods to obtain the distinct author strings and count them\n",
    "n_authors = (author_rdd.distinct()\n",
    "                       .count())\n",
    "print(\"Number of distinct authors: %s \" % n_authors)"
   ]
  },
  {
   "cell_type": "code",
   "execution_count": 22,
   "metadata": {
    "collapsed": true
   },
   "outputs": [],
   "source": [
    "#assert(n_authors == 3831)"
   ]
  },
  {
   "cell_type": "markdown",
   "metadata": {},
   "source": [
    "#### Most-represented authors in the corpus: \n",
    "\n",
    "1. use the `author_rdd` from above\n",
    "2. use the pattern `(key, 1)` to set up an RDD that can be passed to `reduceByKey`\n",
    "3. run `reduceByKey`, yielding an RDD composed of `(author, count)` tuples\n",
    "4. sort by descending order of number of books per author and print out the top 10 "
   ]
  },
  {
   "cell_type": "code",
   "execution_count": 23,
   "metadata": {
    "collapsed": false
   },
   "outputs": [
    {
     "data": {
      "text/plain": [
       "[(u'Shakespeare William', 276),\n",
       " (u'Lytton Baron Lytton', 218),\n",
       " (u'Ebers Georg', 169),\n",
       " (u'Twain Mark', 156),\n",
       " (u'Parker Gilbert', 133),\n",
       " (u'Balzac Honor\\xe9 de', 125),\n",
       " (u'Verne Jules', 123),\n",
       " (u'Meredith George', 110),\n",
       " (u'Jacobs W. W. (William Wymark)', 109),\n",
       " (u'Motley John Lothrop', 103)]"
      ]
     },
     "execution_count": 23,
     "metadata": {},
     "output_type": "execute_result"
    }
   ],
   "source": [
    "# TODO: generate a list of authors, reverse-sorted by the number of books they have in the corpus\n",
    "(author_rdd.map(lambda author: (author, 1))\n",
    "           .reduceByKey(lambda a,b: a+b)\n",
    "           .takeOrdered(10, lambda (a,c): -1*c))"
   ]
  },
  {
   "cell_type": "markdown",
   "metadata": {},
   "source": [
    "Finally, lets do the same thing per language, just to get an idea of how much data there is: "
   ]
  },
  {
   "cell_type": "code",
   "execution_count": 24,
   "metadata": {
    "collapsed": true
   },
   "outputs": [],
   "source": [
    "# FILL IN \n",
    "lang_rdd = cleaned_rdd.map(lambda (gid, text): meta_b.value[gid]['lang'])"
   ]
  },
  {
   "cell_type": "code",
   "execution_count": 25,
   "metadata": {
    "collapsed": false
   },
   "outputs": [
    {
     "data": {
      "text/plain": [
       "[(u'zh', 129),\n",
       " (u'ru', 4),\n",
       " (u'bg', 5),\n",
       " (u'nah', 1),\n",
       " (u'nap', 1),\n",
       " (u'ro', 1),\n",
       " (u'ja', 21),\n",
       " (u'ga', 1),\n",
       " (u'gl', 1),\n",
       " (u'oji', 1),\n",
       " (u'kld', 1),\n",
       " (u'sr', 4),\n",
       " (u'sv', 70),\n",
       " (u'pt', 393),\n",
       " (u'sl', 1),\n",
       " (u'pl', 29),\n",
       " (u'hu', 66),\n",
       " (u'el', 120),\n",
       " (u'eo', 50),\n",
       " (u'en', 25367),\n",
       " (u'he', 3),\n",
       " (u'es', 289),\n",
       " (u'ceb', 1),\n",
       " (u'nl', 446),\n",
       " (u'no', 13),\n",
       " (u'fr', 1661),\n",
       " (u'fy', 1),\n",
       " (u'fur', 1),\n",
       " (u'myn', 1),\n",
       " (u'fi', 750),\n",
       " (u'ca', 22),\n",
       " (u'cy', 6),\n",
       " (u'cs', 8),\n",
       " (u'kha', 1),\n",
       " (u'oc', 1),\n",
       " (u'la', 35),\n",
       " (u'de', 934),\n",
       " (u'da', 36),\n",
       " (u'tl', 34),\n",
       " (u'af', 3),\n",
       " (u'te', 4),\n",
       " (u'is', 2),\n",
       " (u'it', 328),\n",
       " (u'ia', 1),\n",
       " (u'mi', 1),\n",
       " (u'enm', 2)]"
      ]
     },
     "execution_count": 25,
     "metadata": {},
     "output_type": "execute_result"
    }
   ],
   "source": [
    "# FILL IN: reduce the `lang_rdd` to yield number of books in each language\n",
    "lang_rdd.map(lambda l: (l,1)).reduceByKey(lambda a,b: a+b).collect()"
   ]
  },
  {
   "cell_type": "markdown",
   "metadata": {},
   "source": [
    "## How many unique words were used in English in these 500+ years? \n",
    "\n",
    "We could have done the above metadata gymnastics without ever invoking a distributed processing framework by simply extracting the years from the metadata -- nevertheless we used the metadata to have a closer look at some of the RDD methods. However, the text body of each data element is where the bulk of the data volume lies. \n",
    "\n",
    "To construct a corpus wide vocabulary, we have to deconstruct each document into a list of words and then extract the unique words from the entire data set. If our dataset fits into memory of a single machine, this is a simple `set` operation. But what if it doesn't? \n",
    "\n",
    "We'll assume this is the case and instead of converting each `gid,text` pair into a `gid,list_of_words` pair, we will simply construct one global RDD of words. Here we aren't necessarily interested in preserving the provenance of words, but just finding the unique words in the whole corpus, so we drop the metadata altogether. \n",
    "\n",
    "The steps are as follows:\n",
    "\n",
    "1. map the entire RDD of text into an RDD of single words (use flatMap -- this returns a different number of elements than it takes in)\n",
    "2. use the `distinct` method of the resulting RDD to transform it into an RDD with only unique words\n",
    "\n",
    "As a reminder, here's an illustration of how `flatMap` differs from `map`:\n",
    "\n",
    "![flatMap](../figs/flatMap_example.svg)"
   ]
  },
  {
   "cell_type": "markdown",
   "metadata": {},
   "source": [
    "*Hint:* In python, splitting a string into a set of words separated by spaces is easy: "
   ]
  },
  {
   "cell_type": "code",
   "execution_count": 26,
   "metadata": {
    "collapsed": false
   },
   "outputs": [
    {
     "data": {
      "text/plain": [
       "['splitting', 'a', 'string', 'is', 'super', 'simple']"
      ]
     },
     "execution_count": 26,
     "metadata": {},
     "output_type": "execute_result"
    }
   ],
   "source": [
    "line = 'splitting a string is super simple'\n",
    "line.split()"
   ]
  },
  {
   "cell_type": "markdown",
   "metadata": {},
   "source": [
    "Make an RDD `distinct_rdd` which holds the *unique English* words. Consider the steps this will require:\n",
    "\n",
    "* use `cleaned_rdd` but keep only books in the english language (make sure you use the broadcast metadata variable!)\n",
    "* convert each document into individual words\n",
    "* retain only the unique words\n",
    "\n",
    "Which RDD methods can you use to achieve these three steps? (note that this will be a pretty expensive operation so it might take some time...)"
   ]
  },
  {
   "cell_type": "code",
   "execution_count": 27,
   "metadata": {
    "collapsed": false
   },
   "outputs": [
    {
     "name": "stdout",
     "output_type": "stream",
     "text": [
      "Number of unique English words:  3439378\n"
     ]
    }
   ],
   "source": [
    "# TODO: create distinct_rdd by filtering for english books and using RDD methods to generate an RDD of distinct words\n",
    "distinct_rdd = (cleaned_rdd.filter(lambda (gid, text): meta_b.value[gid]['lang'] == 'en')\n",
    "                           .flatMap(lambda (gid, text): text.split())\n",
    "                           .distinct())\n",
    "nwords = distinct_rdd.count()\n",
    "print(\"Number of unique English words: \", nwords)"
   ]
  },
  {
   "cell_type": "code",
   "execution_count": 28,
   "metadata": {
    "collapsed": true
   },
   "outputs": [],
   "source": [
    "sample = distinct_rdd.takeSample(False, 1000)"
   ]
  },
  {
   "cell_type": "code",
   "execution_count": 29,
   "metadata": {
    "collapsed": false
   },
   "outputs": [],
   "source": [
    "#assert(nwords == 2807419)"
   ]
  },
  {
   "cell_type": "markdown",
   "metadata": {},
   "source": [
    "**Bonus question**: can you write this by using `mapPartitions` to first make sets of words unique to each partition? It's much faster...\n",
    "\n",
    "*hint*: use the python [set](https://docs.python.org/2/library/stdtypes.html#set) to find unique words in each partition"
   ]
  },
  {
   "cell_type": "code",
   "execution_count": 30,
   "metadata": {
    "collapsed": true
   },
   "outputs": [],
   "source": [
    "# FILL IN \n",
    "def partition_set(iterator): \n",
    "    words = set()\n",
    "    \n",
    "    # iterate through the data\n",
    "    for text in iterator : \n",
    "        # use the \"update\" method of the words set to add a new set composed of all the words\n",
    "        # from the \"text\" item. Remember that \"text\" is just a string, so can use the split() method\n",
    "        words.update(set(text.split())) # FILL IN\n",
    "    \n",
    "    # now we have the unique words of the partition --> yield them into the RDD\n",
    "    for word in words: \n",
    "        yield word\n",
    "        "
   ]
  },
  {
   "cell_type": "code",
   "execution_count": 31,
   "metadata": {
    "collapsed": false
   },
   "outputs": [
    {
     "data": {
      "text/plain": [
       "3439378"
      ]
     },
     "execution_count": 31,
     "metadata": {},
     "output_type": "execute_result"
    }
   ],
   "source": [
    "res = (cleaned_rdd.filter(lambda (gid, text): meta_b.value[gid]['lang'] == 'en')\n",
    "            .values()\n",
    "            .mapPartitions(partition_set)\n",
    "            .distinct())\n",
    "res.count()"
   ]
  },
  {
   "cell_type": "markdown",
   "metadata": {},
   "source": [
    "## What are the most common words? \n",
    "\n",
    "A \"MapReduce\" tutorial has to include a word counting example -- it's basically the equivalent of a \"Hello World!\" example for a programming tutorial!\n",
    "\n",
    "So, lets count the occurences of all the words across the entire corpus. This is a fairly straightforward operation, but it exposes some very common patterns that can be useful for many tasks. To simplify this a bit, we'll use only the English-language corpus for the moment.\n",
    "\n",
    "Here are the steps we need to take:\n",
    "\n",
    "0. keep only the english language books (use a filter)\n",
    "1. `flatMap` each document into (`word, count`) pairs, but only for words that are not in the `stop_words` set\n",
    "2. call `reduceByKey` to sum up all the `count`s for each word\n",
    "3. finally sort it in descending order to see the most common words first\n",
    "\n",
    "The first part here (filtering and `flatMap`) is much like what we did before, but with a twist: for each word, check that it is *not* a member of the `stop_words` set. \"Stop words\" include common words like \"a, the, he\" etc.  \n",
    "\n",
    "*hint:* list comprehension can lead to a nice concise solution here..."
   ]
  },
  {
   "cell_type": "code",
   "execution_count": 32,
   "metadata": {
    "collapsed": false,
    "scrolled": true
   },
   "outputs": [],
   "source": [
    "from pickle import load\n",
    "stop_words = load(open('./stop_words.dump')).union(['gutenbergtm', 'gutenberg', 'electronic', 'foundation', 'license', 'copyright', 'donation', 'donations'])"
   ]
  },
  {
   "cell_type": "code",
   "execution_count": 33,
   "metadata": {
    "collapsed": true
   },
   "outputs": [],
   "source": [
    "# TODO: create english_rdd which contains only the english books by filtering on the metadata\n",
    "english_rdd = cleaned_rdd.filter(lambda (gid, text): meta_b.value[gid]['lang'] == 'en').cache()"
   ]
  },
  {
   "cell_type": "code",
   "execution_count": 34,
   "metadata": {
    "collapsed": true
   },
   "outputs": [],
   "source": [
    "# TODO: use flatMap to extract the words from each document's text using the english_rdd we made above\n",
    "words_rdd = (english_rdd.flatMap(lambda (gid, text): [word for word in text.split() if word not in stop_words])\n",
    "                        .setName('words_rdd')\n",
    "                        .cache())"
   ]
  },
  {
   "cell_type": "markdown",
   "metadata": {},
   "source": [
    "Now that we have our \"flattened\" data set, do the counting by first mapping each word into a `(word, 1)` tuple, and then using `reduceByKey` to calculate the word frequencies. At the end of this step, use the `sortBy` method to sort the word counts in descending order. "
   ]
  },
  {
   "cell_type": "code",
   "execution_count": 35,
   "metadata": {
    "collapsed": false
   },
   "outputs": [],
   "source": [
    "# TODO: the word count!\n",
    "word_count = (words_rdd.map(lambda word: (word,1))\n",
    "                       .reduceByKey(lambda a,b: a+b)\n",
    "                       .sortBy(lambda (word, count): count, False)\n",
    "                       .setName('word_count')\n",
    "                       .cache())"
   ]
  },
  {
   "cell_type": "code",
   "execution_count": 36,
   "metadata": {
    "collapsed": false
   },
   "outputs": [],
   "source": [
    "#assert(word_count.take(5) == [('said', 1873861),('man', 1213607), ('time', 1125220), ('little', 1047679), ('like', 1025455)])"
   ]
  },
  {
   "cell_type": "code",
   "execution_count": 37,
   "metadata": {
    "collapsed": false
   },
   "outputs": [
    {
     "data": {
      "text/plain": [
       "[('said', 4029116),\n",
       " ('man', 2565472),\n",
       " ('time', 2470694),\n",
       " ('little', 2278162),\n",
       " ('like', 2175037),\n",
       " ('project', 2121027),\n",
       " ('did', 2037174),\n",
       " ('work', 1992250),\n",
       " ('great', 1971377),\n",
       " ('know', 1741965),\n",
       " ('old', 1656571),\n",
       " ('good', 1643871),\n",
       " ('mr', 1596189),\n",
       " ('men', 1581134),\n",
       " ('come', 1561999),\n",
       " ('way', 1501967),\n",
       " ('life', 1476909),\n",
       " ('came', 1454313),\n",
       " ('day', 1423159),\n",
       " ('long', 1400421),\n",
       " ('make', 1354099),\n",
       " ('say', 1290457),\n",
       " ('shall', 1224035),\n",
       " ('think', 1213593),\n",
       " ('new', 1198308),\n",
       " ('just', 1195726),\n",
       " ('people', 1192349),\n",
       " ('away', 1157734),\n",
       " ('thought', 1155616),\n",
       " ('went', 1135095),\n",
       " ('eyes', 1101972),\n",
       " ('right', 1084559),\n",
       " ('place', 1071763),\n",
       " ('hand', 1059031),\n",
       " ('house', 1006795),\n",
       " ('left', 1006538),\n",
       " ('years', 990291),\n",
       " ('young', 988822),\n",
       " ('face', 935343),\n",
       " ('works', 933602),\n",
       " ('things', 930710),\n",
       " ('dont', 913564),\n",
       " ('world', 886240),\n",
       " ('let', 870539),\n",
       " ('head', 863828),\n",
       " ('saw', 861317),\n",
       " ('took', 827845),\n",
       " ('god', 827134),\n",
       " ('tell', 821718),\n",
       " ('far', 814098)]"
      ]
     },
     "execution_count": 37,
     "metadata": {},
     "output_type": "execute_result"
    }
   ],
   "source": [
    "# fifty most common words (excluding stop words)\n",
    "word_count.take(50)"
   ]
  },
  {
   "cell_type": "markdown",
   "metadata": {},
   "source": [
    "## Reduces, Shuffles, and Partitioning\n",
    "During a `reduceByKey`, or any other reduction for that matter, data must be shuffled around the cluster and combined. Other common RDD methods like `join`, `sortByKey` etc. also typically require lots of data shuffling. By default, this is done in an intelligent way by first reducing values locally on each partition, and then combining the results of the partitions. Still, as is the case here, for common keys, every partition will have to send its results to others. This can result in a lot of temporary file IO if the data that needs to be communicated can't all be held in memory on all of the executors. \n",
    "\n",
    "One way around this is to pre-partition the data ahead of time so that the same keys land on the same partition by design. This results in much less data needing to be shipped around the network and can improve the performance. Of course, at the cost of an expensive initial shuffle that takes place during the partitioning step! But if many \"by key\" have to be done on the same data, it might be worth it. "
   ]
  },
  {
   "cell_type": "markdown",
   "metadata": {},
   "source": [
    "Lets have a look at these concepts by performing the word count in a few different ways. "
   ]
  },
  {
   "cell_type": "markdown",
   "metadata": {},
   "source": [
    "Now we will create a re-partitioned `words_rdd` using the default partitioning of `partitionBy` (just a hash function). You may also specify your own partitioning function. "
   ]
  },
  {
   "cell_type": "code",
   "execution_count": 38,
   "metadata": {
    "collapsed": true
   },
   "outputs": [],
   "source": [
    "num_partitions = words_rdd.getNumPartitions()"
   ]
  },
  {
   "cell_type": "code",
   "execution_count": 39,
   "metadata": {
    "collapsed": false
   },
   "outputs": [
    {
     "data": {
      "text/plain": [
       "704361750"
      ]
     },
     "execution_count": 39,
     "metadata": {},
     "output_type": "execute_result"
    }
   ],
   "source": [
    "par = (words_rdd.map(lambda word: (word,1))\n",
    "                .partitionBy(num_partitions)\n",
    "                .cache())\n",
    "par.count() # call count to compute and cache the data"
   ]
  },
  {
   "cell_type": "markdown",
   "metadata": {},
   "source": [
    "Since both datasets are cached in memory, we can compare the time it takes the reduce step to complete:"
   ]
  },
  {
   "cell_type": "code",
   "execution_count": 40,
   "metadata": {
    "collapsed": false
   },
   "outputs": [
    {
     "name": "stdout",
     "output_type": "stream",
     "text": [
      "CPU times: user 112 ms, sys: 25 ms, total: 137 ms\n",
      "Wall time: 36 s\n"
     ]
    },
    {
     "data": {
      "text/plain": [
       "3439052"
      ]
     },
     "execution_count": 40,
     "metadata": {},
     "output_type": "execute_result"
    }
   ],
   "source": [
    "%%time\n",
    "(words_rdd.map(lambda word: (word,1))\n",
    "          .reduceByKey(lambda a,b: a+b)\n",
    "          .count())"
   ]
  },
  {
   "cell_type": "code",
   "execution_count": 41,
   "metadata": {
    "collapsed": false
   },
   "outputs": [
    {
     "name": "stdout",
     "output_type": "stream",
     "text": [
      "CPU times: user 82 ms, sys: 16 ms, total: 98 ms\n",
      "Wall time: 17.1 s\n"
     ]
    },
    {
     "data": {
      "text/plain": [
       "3439052"
      ]
     },
     "execution_count": 41,
     "metadata": {},
     "output_type": "execute_result"
    }
   ],
   "source": [
    "%%time\n",
    "par.reduceByKey(lambda a,b: a+b).count()"
   ]
  },
  {
   "cell_type": "markdown",
   "metadata": {
    "collapsed": true
   },
   "source": [
    "Quite a speedup, but at the cost of an expensive initial shuffle. If the \"by key\" operation is only done once, then this is not worth it -- but if it's done repeatedly  (i.e. frequent joins) then it may be beneficial. However, we can also expect the difference to depend on the nature of the dataset. If you inspect the Spark UI, you can see that the first `reduceByKey` (i.e. one done on `word_rdd`) shuffled ~390 Mb of data, while the second `reduceByKey` (i.e. done on `par`) only shuffled ~50 Mb of data. This dataset is still pretty small, but when the shuffles are in the Gb range, the differences can be substantial. \n",
    "\n",
    "If you need to do lookups of individual keys, this becomes even more dramatic: "
   ]
  },
  {
   "cell_type": "code",
   "execution_count": 42,
   "metadata": {
    "collapsed": false
   },
   "outputs": [
    {
     "name": "stdout",
     "output_type": "stream",
     "text": [
      "CPU times: user 59 ms, sys: 12 ms, total: 71 ms\n",
      "Wall time: 12.6 s\n"
     ]
    }
   ],
   "source": [
    "%time x = words_rdd.lookup('environment')"
   ]
  },
  {
   "cell_type": "code",
   "execution_count": 43,
   "metadata": {
    "collapsed": false
   },
   "outputs": [
    {
     "name": "stdout",
     "output_type": "stream",
     "text": [
      "CPU times: user 12 ms, sys: 1 ms, total: 13 ms\n",
      "Wall time: 792 ms\n"
     ]
    }
   ],
   "source": [
    "%time x = par.lookup('environment')"
   ]
  },
  {
   "cell_type": "markdown",
   "metadata": {},
   "source": [
    "# Computing word frequency vs. time\n",
    "\n",
    "Now we have all the components to build a simple tool that visualizes the relative word frequency as a function of time in the Gutenberg corpus. For inspiration, see the [Google Ngram viewer](https://books.google.com/ngrams).\n",
    "\n",
    "### Converting documents into vectors\n",
    "\n",
    "To make quantitative analysis of the corpus possible, we will convert each document into a vector that represents the word counts for each word appearing in the document. \n",
    "\n",
    "This will look something like this. Imagine we have have a corpus consisting of two \"documents\"\n",
    "\n",
    "    document 1: \"a dog bit me\"\n",
    "    document 2: \"i bit the dog back\"\n",
    "    \n",
    "Then our corpus vocabulary (of 1-grams) is\n",
    "\n",
    "    [\"a\", \"dog\", \"bit\", \"me\", \"i\", \"the\", \"back\"]\n",
    "    \n",
    "Since this is an array and each word in the array has a unique index, we can \"encode\" the two documents using this index mapping. Our corpus now looks like this: \n",
    "\n",
    "    document 1: [1, 1, 1, 1, 0, 0, 0]\n",
    "    document 2: [0, 1, 1, 0, 1, 1, 1]\n",
    "    \n",
    "In order for the vector indices to remain consistent across the whole corpus, the first step is to build a corpus-wide lookup table, a `word --> index` mapping. \n",
    "\n",
    "\n",
    "### Generating word counts \n",
    "\n",
    "Once each document is converted to a vector, doing the word counts for sub-groups of documents is a simple vector addition operation. In our case, we will reduce the vectors by year, yielding an RDD that will have the total number of occurrences of each word in every year. From there, it is trivial to look up the desired word and plot the relative frequency vs. year. \n",
    "\n",
    "## Create the vocabulary lookup table\n",
    "Create a look-up table of words by attaching a unique index to each word. The Spark API provides a [zipWithIndex](http://spark.apache.org/docs/latest/api/python/pyspark.html#pyspark.RDD.zipWithIndex) method that makes this easy. \n",
    "\n",
    "Above, we created the `word_count` RDD that already contains the unique words and their associated counts. To reduce the size of the lookup table (and the size of the vectors), we will restrict ourselves to using only the first 100k words. \n",
    "\n",
    "These are the steps we need to take to make the vocabulary lookup: \n",
    "\n",
    "1. use `zipWithIndex` on the keys of `word_count` to generate a unique index for each word -- we don't care about the counts anymore, so we can get rid of the values and just work with the keys\n",
    "2. use filter to retain only the first 100000 words \n",
    "3. finally, use [collectAsMap](http://spark.apache.org/docs/latest/api/python/pyspark.html#pyspark.RDD.collectAsMap) to return the resulting RDD to the driver as a dictionary. "
   ]
  },
  {
   "cell_type": "code",
   "execution_count": 44,
   "metadata": {
    "collapsed": true
   },
   "outputs": [],
   "source": [
    "# TODO: create an RDD of (word, index) pairs and keep only the top 100000\n",
    "word_lookup = (word_count.keys()\n",
    "                         .zipWithIndex()\n",
    "                         .filter(lambda (word, index): index < 100000)\n",
    "                         .collectAsMap())"
   ]
  },
  {
   "cell_type": "markdown",
   "metadata": {},
   "source": [
    "Make a `word_lookup` into a broadcast variable so we can use it on all the workers:"
   ]
  },
  {
   "cell_type": "code",
   "execution_count": 45,
   "metadata": {
    "collapsed": true
   },
   "outputs": [],
   "source": [
    "word_lookup_b = sc.broadcast(word_lookup)"
   ]
  },
  {
   "cell_type": "markdown",
   "metadata": {},
   "source": [
    "This dictionary is approximately 6 Mb in size - without a broadcast, it would get sent over the network to each task, resulting in a lot of network traffic! As a broadcast variable, it gets sent only *once* to each *executor*, i.e. it's transferred only 20 times (if you are using the defaults, otherwise however many executors you have). "
   ]
  },
  {
   "cell_type": "markdown",
   "metadata": {},
   "source": [
    "## Vectorize the documents\n",
    "\n",
    "Now that we have a vocabulary lookup table, we can use this to turn each document into a vector. \n",
    "\n",
    "This is done by counting up the occurrences of all words in the document that are also in the global vocabulary. \n",
    "\n",
    "The function `vectorize_doc` below accomplishes this by using a dictionary to keep track of the local word count. Once the counting is done we use the counts to create a sparse vector that represents the document. A sparse vector consists of two arrays, one representing the *locations* of the non-zero values, and the other the values themselves. \n",
    "\n",
    "To return to our contrived example from above, we had \n",
    "\n",
    "    document 1: \"a dog bit me\"\n",
    "    document 2: \"i bit the dog back\"\n",
    "    \n",
    "which turned into \n",
    "\n",
    "    document 1: [1, 1, 1, 1, 0, 0, 0]\n",
    "    document 2: [0, 1, 1, 0, 1, 1, 1]\n",
    "\n",
    "with a vocabulary of \n",
    "\n",
    "    [\"a\", \"dog\", \"bit\", \"me\", \"i\", \"the\", \"back\"]\n",
    "    \n",
    "As sparse vectors, these two documents could be represented with two arrays: \n",
    "\n",
    "    document 1: indices = [0,1,2,3]; values = [1, 1, 1, 1]\n",
    "    document 2: indices = [1,2,4,5,6]; values = [1, 1, 1, 1, 1]\n",
    "\n",
    "We use Spark's own `SparseVector` data type, for which we must specify a size, a (sorted) array of indices, and an array of values. This means that we start to save space if sparsity is > 50%. Note that the `SparseVector` provides some nice higher-level methods, but it does not allow simple operations like addition. If a lot of vector arithmetic is needed, you should use the scipy sparse types instead. "
   ]
  },
  {
   "cell_type": "markdown",
   "metadata": {},
   "source": [
    "In the next cell, we define two functions: \n",
    "\n",
    "* `extract_ngrams` converts a sequence of words or characters into a sequence of n-grams (here we are just using single worde, i.e. 1-grams so we'll postpone talking about ngrams until later)\n",
    "\n",
    "* `vectorize_doc` converts a document into a sparse vector by using `extract_ngrams` to tokenize it and a vocabulary mapping to turn each word into a vector component"
   ]
  },
  {
   "cell_type": "code",
   "execution_count": 51,
   "metadata": {
    "collapsed": false
   },
   "outputs": [],
   "source": [
    "from pyspark.mllib.linalg import SparseVector\n",
    "\n",
    "def extract_ngrams(tokens, ngram_range=[1,1], select_ngrams = None, ngram_type='word'):\n",
    "    \"\"\"\n",
    "    Turn tokens into a sequence of n-grams \n",
    "\n",
    "    **Inputs**:\n",
    "\n",
    "    *tokens*: a list of tokens\n",
    "\n",
    "    **Optional Keywords**:\n",
    "\n",
    "    *ngram_range*: a tuple with min, max ngram ngram_range\n",
    "    \n",
    "    *select_ngrams*: the vocabulary to use\n",
    "    \n",
    "    *ngram_type*: whether to produce word or character ngrams\n",
    "\n",
    "    **Output**\n",
    "\n",
    "    Generator yielding a list of ngrams in the desired range\n",
    "    generated from the input list of tokens\n",
    "\n",
    "    \"\"\"\n",
    "    join_str = \"\" if ngram_type=='character' else \" \"\n",
    "    \n",
    "    # handle token n-grams\n",
    "    min_n, max_n = ngram_range\n",
    "    n_tokens = len(tokens)\n",
    "    \n",
    "    for n in xrange(min_n, min(max_n + 1, n_tokens + 1)):\n",
    "        for i in xrange(n_tokens - n + 1):\n",
    "            if n == 1: \n",
    "                res = tokens[i]\n",
    "            else : \n",
    "                res = join_str.join(tokens[i: i+n])\n",
    "           \n",
    "            # if we are using a lookup vocabulary, check for membership here\n",
    "            if select_ngrams is not None : \n",
    "                if res in select_ngrams: \n",
    "                    yield res\n",
    "            else : \n",
    "                yield res\n",
    "            \n",
    "\n",
    "def vectorize_doc(doc, vocab, ngram_range = [1,1], ngram_type='word') : \n",
    "    \"\"\"\n",
    "    Returns a vector representation of `doc` given the reference \n",
    "    vocabulary `vocab` after tokenizing it with `tokenizer`\n",
    "    \n",
    "    Arguments: \n",
    "        \n",
    "        doc: a sequence of tokens (words or characters)\n",
    "        \n",
    "        vocab: the vocabulary mapping\n",
    "        \n",
    "    Keywords:\n",
    "    \n",
    "        ngram_range: the range of ngrams to process\n",
    "        \n",
    "        ngram_type: whether to produce character or word ngrams; default is \n",
    "        \n",
    "    Returns:\n",
    "    \n",
    "        a sparse vector representation of the document given the vocabulary mapping\n",
    "    \"\"\"\n",
    "    from collections import defaultdict\n",
    "    from scipy.sparse import csr_matrix \n",
    "        \n",
    "    # count all the word occurences \n",
    "    data = np.zeros(len(vocab))\n",
    "    \n",
    "    for ngram in extract_ngrams(doc, ngram_range, vocab, ngram_type) : \n",
    "         data[vocab[ngram]] += 1\n",
    "            \n",
    "    # only keep the nonzero indices for the sparse representation\n",
    "    indices = data.nonzero()[0]\n",
    "    values = data[indices]\n",
    "    \n",
    "    return SparseVector(len(vocab), indices, values)"
   ]
  },
  {
   "cell_type": "markdown",
   "metadata": {},
   "source": [
    "Using these functions to vectorize our two-sentence test corpus: "
   ]
  },
  {
   "cell_type": "code",
   "execution_count": 52,
   "metadata": {
    "collapsed": true
   },
   "outputs": [],
   "source": [
    "import string\n",
    "s1 = \"a dog bit me\"\n",
    "s2 = \"i bit the dog back\"\n",
    "vocab = [\"a\", \"dog\", \"bit\", \"me\", \"i\", \"the\", \"back\"]\n",
    "vocab_dict = {word:ind for ind, word in enumerate(vocab)}"
   ]
  },
  {
   "cell_type": "code",
   "execution_count": 53,
   "metadata": {
    "collapsed": false
   },
   "outputs": [
    {
     "name": "stdout",
     "output_type": "stream",
     "text": [
      "a dog bit me\n",
      "(7,[0,1,2,3],[1.0,1.0,1.0,1.0])\n",
      "i bit the dog back\n",
      "(7,[1,2,4,5,6],[1.0,1.0,1.0,1.0,1.0])\n"
     ]
    }
   ],
   "source": [
    "print(s1)\n",
    "print(vectorize_doc(s1.split(), vocab_dict))\n",
    "print(s2)\n",
    "print(vectorize_doc(s2.split(), vocab_dict))"
   ]
  },
  {
   "cell_type": "markdown",
   "metadata": {},
   "source": [
    "Now we have all the components we need to create an RDD of english-language books vectorized using the most common 100k words. \n",
    "\n",
    "1. filter the `cleaned_rdd` to keep just the english language books by using the `meta_b` broadcast variable (look up above for examples)\n",
    "2. use `mapValues` to map the text of each document into a vector using the `count_doc_words` function and the `split_iter` function as the tokenizer"
   ]
  },
  {
   "cell_type": "code",
   "execution_count": 54,
   "metadata": {
    "collapsed": true
   },
   "outputs": [],
   "source": [
    "# FILL IN \n",
    "vector_rdd = english_rdd.mapValues(lambda text: vectorize_doc(text.split(), word_lookup_b.value)).cache()"
   ]
  },
  {
   "cell_type": "code",
   "execution_count": 55,
   "metadata": {
    "collapsed": false,
    "scrolled": true
   },
   "outputs": [
    {
     "data": {
      "text/plain": [
       "(8000,\n",
       " SparseVector(100000, {0: 80.0, 1: 250.0, 2: 155.0, 3: 187.0, 4: 72.0, 5: 84.0, 6: 57.0, 7: 236.0, 8: 419.0, 9: 36.0, 10: 47.0, 11: 68.0, 12: 139.0, 13: 351.0, 14: 53.0, 15: 43.0, 16: 96.0, 17: 34.0, 18: 187.0, 19: 91.0, 20: 104.0, 21: 36.0, 22: 111.0, 23: 22.0, 24: 139.0, 25: 10.0, 26: 493.0, 27: 43.0, 28: 25.0, 29: 10.0, 30: 17.0, 31: 41.0, 32: 130.0, 33: 56.0, 34: 42.0, 35: 40.0, 36: 230.0, 37: 30.0, 38: 12.0, 39: 65.0, 40: 107.0, 41: 6.0, 42: 206.0, 43: 39.0, 44: 40.0, 45: 32.0, 46: 23.0, 47: 17.0, 48: 8.0, 49: 88.0, 50: 13.0, 51: 9.0, 52: 20.0, 53: 62.0, 54: 30.0, 55: 61.0, 56: 27.0, 57: 1.0, 58: 71.0, 59: 6.0, 60: 2.0, 61: 12.0, 62: 326.0, 63: 13.0, 64: 78.0, 65: 3.0, 66: 58.0, 67: 163.0, 68: 101.0, 69: 142.0, 70: 31.0, 71: 75.0, 72: 20.0, 73: 109.0, 74: 14.0, 75: 31.0, 76: 96.0, 77: 175.0, 78: 28.0, 79: 26.0, 80: 35.0, 81: 17.0, 82: 40.0, 83: 30.0, 84: 58.0, 85: 175.0, 86: 22.0, 87: 18.0, 88: 79.0, 89: 39.0, 90: 8.0, 92: 10.0, 93: 10.0, 94: 28.0, 95: 35.0, 96: 30.0, 97: 22.0, 98: 12.0, 99: 91.0, 100: 15.0, 101: 62.0, 102: 13.0, 103: 5.0, 104: 42.0, 105: 56.0, 106: 41.0, 107: 56.0, 108: 215.0, 109: 26.0, 110: 9.0, 111: 39.0, 112: 3.0, 113: 90.0, 114: 3.0, 115: 282.0, 116: 179.0, 117: 7.0, 119: 10.0, 121: 43.0, 122: 47.0, 123: 32.0, 124: 52.0, 125: 90.0, 126: 15.0, 127: 45.0, 128: 60.0, 129: 82.0, 130: 3.0, 131: 11.0, 132: 108.0, 133: 46.0, 134: 16.0, 135: 70.0, 136: 2.0, 137: 42.0, 138: 37.0, 139: 25.0, 140: 6.0, 141: 11.0, 143: 7.0, 144: 16.0, 145: 110.0, 146: 144.0, 147: 61.0, 148: 30.0, 149: 43.0, 150: 17.0, 151: 173.0, 152: 19.0, 153: 33.0, 154: 37.0, 155: 47.0, 156: 8.0, 157: 25.0, 158: 124.0, 159: 147.0, 160: 19.0, 161: 35.0, 162: 8.0, 163: 30.0, 164: 21.0, 165: 53.0, 166: 10.0, 167: 15.0, 168: 12.0, 169: 7.0, 170: 27.0, 171: 25.0, 172: 13.0, 173: 20.0, 174: 9.0, 175: 149.0, 176: 128.0, 177: 10.0, 178: 17.0, 179: 21.0, 180: 147.0, 181: 74.0, 182: 28.0, 183: 18.0, 184: 7.0, 185: 2.0, 186: 32.0, 187: 20.0, 188: 2.0, 189: 21.0, 190: 548.0, 191: 17.0, 192: 50.0, 193: 45.0, 194: 65.0, 195: 15.0, 196: 9.0, 197: 26.0, 198: 8.0, 199: 4.0, 200: 13.0, 202: 47.0, 203: 28.0, 204: 5.0, 205: 21.0, 206: 137.0, 207: 8.0, 208: 30.0, 209: 27.0, 210: 50.0, 211: 9.0, 212: 376.0, 213: 1.0, 214: 8.0, 215: 7.0, 216: 36.0, 217: 20.0, 218: 19.0, 219: 66.0, 220: 25.0, 221: 25.0, 222: 3.0, 223: 10.0, 224: 12.0, 225: 4.0, 226: 139.0, 227: 56.0, 228: 19.0, 229: 26.0, 230: 13.0, 231: 36.0, 232: 42.0, 233: 29.0, 234: 5.0, 235: 56.0, 236: 29.0, 237: 13.0, 238: 9.0, 239: 33.0, 240: 8.0, 241: 60.0, 242: 5.0, 243: 13.0, 244: 20.0, 245: 7.0, 246: 6.0, 247: 21.0, 248: 79.0, 249: 3.0, 250: 4.0, 251: 2.0, 252: 30.0, 253: 20.0, 254: 12.0, 255: 82.0, 256: 3.0, 257: 2.0, 258: 64.0, 259: 15.0, 260: 5.0, 261: 9.0, 262: 2.0, 263: 9.0, 264: 24.0, 265: 50.0, 266: 27.0, 267: 10.0, 268: 20.0, 270: 24.0, 271: 5.0, 272: 12.0, 273: 11.0, 274: 23.0, 275: 22.0, 276: 71.0, 277: 8.0, 278: 21.0, 279: 33.0, 280: 5.0, 281: 13.0, 282: 20.0, 283: 39.0, 284: 46.0, 285: 11.0, 286: 18.0, 287: 31.0, 288: 7.0, 289: 2.0, 290: 12.0, 291: 7.0, 292: 85.0, 293: 1.0, 294: 38.0, 295: 27.0, 296: 55.0, 297: 3.0, 298: 1.0, 299: 28.0, 300: 12.0, 301: 51.0, 302: 17.0, 303: 21.0, 304: 12.0, 305: 45.0, 306: 4.0, 307: 7.0, 308: 29.0, 309: 11.0, 310: 13.0, 311: 3.0, 312: 35.0, 313: 13.0, 314: 6.0, 315: 13.0, 316: 3.0, 317: 21.0, 319: 24.0, 320: 29.0, 321: 60.0, 322: 32.0, 323: 8.0, 324: 63.0, 325: 14.0, 326: 11.0, 327: 11.0, 328: 28.0, 329: 31.0, 330: 37.0, 331: 7.0, 332: 22.0, 333: 11.0, 334: 19.0, 335: 3.0, 336: 39.0, 337: 4.0, 338: 9.0, 339: 20.0, 340: 36.0, 342: 87.0, 343: 5.0, 344: 7.0, 345: 35.0, 346: 6.0, 347: 2.0, 348: 12.0, 349: 12.0, 350: 8.0, 351: 13.0, 352: 1.0, 353: 5.0, 354: 25.0, 355: 25.0, 356: 19.0, 357: 26.0, 358: 12.0, 359: 8.0, 360: 17.0, 361: 20.0, 362: 12.0, 363: 5.0, 364: 43.0, 365: 61.0, 366: 13.0, 367: 81.0, 368: 13.0, 369: 15.0, 370: 16.0, 371: 1.0, 372: 41.0, 373: 5.0, 374: 7.0, 375: 17.0, 376: 8.0, 377: 1.0, 378: 15.0, 379: 14.0, 380: 2.0, 381: 27.0, 382: 23.0, 383: 6.0, 384: 22.0, 385: 2.0, 386: 31.0, 387: 12.0, 388: 82.0, 389: 10.0, 390: 11.0, 391: 2.0, 392: 4.0, 393: 6.0, 394: 13.0, 395: 12.0, 396: 4.0, 397: 23.0, 398: 8.0, 399: 16.0, 400: 3.0, 401: 50.0, 402: 24.0, 403: 10.0, 404: 29.0, 405: 14.0, 406: 17.0, 407: 9.0, 408: 22.0, 409: 12.0, 410: 6.0, 411: 1.0, 412: 60.0, 413: 3.0, 414: 3.0, 415: 19.0, 416: 9.0, 417: 8.0, 418: 32.0, 419: 53.0, 421: 10.0, 422: 185.0, 423: 5.0, 424: 45.0, 425: 5.0, 426: 2.0, 427: 10.0, 428: 28.0, 429: 2.0, 430: 23.0, 431: 6.0, 432: 9.0, 433: 3.0, 434: 12.0, 435: 11.0, 436: 3.0, 437: 2.0, 438: 22.0, 439: 2.0, 440: 1.0, 441: 22.0, 442: 15.0, 443: 2.0, 444: 41.0, 445: 26.0, 446: 1.0, 447: 6.0, 448: 2.0, 449: 8.0, 450: 12.0, 451: 51.0, 452: 8.0, 453: 5.0, 454: 17.0, 455: 5.0, 456: 64.0, 457: 28.0, 458: 13.0, 459: 15.0, 460: 7.0, 461: 19.0, 462: 12.0, 463: 5.0, 464: 41.0, 465: 4.0, 466: 16.0, 467: 40.0, 468: 2.0, 469: 13.0, 470: 20.0, 471: 6.0, 472: 46.0, 473: 27.0, 474: 1.0, 476: 12.0, 477: 6.0, 478: 4.0, 479: 7.0, 480: 5.0, 481: 2.0, 483: 5.0, 484: 8.0, 485: 66.0, 486: 83.0, 487: 29.0, 488: 1.0, 489: 9.0, 490: 36.0, 491: 15.0, 493: 14.0, 494: 4.0, 495: 10.0, 496: 25.0, 497: 73.0, 498: 1.0, 499: 17.0, 500: 3.0, 501: 46.0, 502: 7.0, 503: 45.0, 505: 5.0, 506: 18.0, 507: 1.0, 508: 9.0, 509: 17.0, 510: 11.0, 511: 1.0, 512: 5.0, 513: 3.0, 514: 8.0, 515: 1.0, 516: 86.0, 517: 67.0, 518: 15.0, 520: 19.0, 521: 5.0, 522: 142.0, 523: 13.0, 525: 75.0, 527: 11.0, 528: 6.0, 530: 53.0, 531: 49.0, 532: 63.0, 533: 40.0, 534: 12.0, 535: 3.0, 536: 5.0, 537: 4.0, 538: 4.0, 539: 2.0, 540: 11.0, 541: 8.0, 542: 5.0, 543: 5.0, 544: 40.0, 545: 2.0, 546: 24.0, 547: 1.0, 548: 2.0, 549: 3.0, 551: 8.0, 552: 5.0, 553: 48.0, 554: 3.0, 555: 7.0, 556: 2.0, 557: 12.0, 558: 40.0, 559: 7.0, 560: 1.0, 561: 1.0, 562: 5.0, 563: 1.0, 564: 8.0, 566: 8.0, 567: 8.0, 568: 2.0, 569: 227.0, 570: 1.0, 571: 34.0, 572: 3.0, 573: 33.0, 574: 25.0, 575: 2.0, 576: 29.0, 577: 130.0, 578: 54.0, 579: 5.0, 580: 35.0, 581: 2.0, 582: 11.0, 583: 2.0, 584: 8.0, 586: 7.0, 587: 59.0, 588: 34.0, 589: 11.0, 590: 15.0, 591: 18.0, 592: 3.0, 593: 37.0, 595: 15.0, 596: 50.0, 597: 2.0, 598: 1.0, 599: 30.0, 600: 1.0, 601: 77.0, 602: 5.0, 603: 50.0, 604: 6.0, 605: 56.0, 607: 7.0, 608: 36.0, 609: 2.0, 610: 8.0, 611: 2.0, 612: 7.0, 613: 1.0, 614: 2.0, 615: 3.0, 616: 7.0, 617: 42.0, 618: 1.0, 620: 4.0, 621: 29.0, 622: 12.0, 623: 4.0, 624: 4.0, 625: 3.0, 626: 1.0, 627: 20.0, 628: 10.0, 630: 13.0, 631: 9.0, 632: 42.0, 633: 9.0, 634: 15.0, 635: 37.0, 636: 12.0, 637: 5.0, 638: 24.0, 639: 8.0, 640: 3.0, 641: 26.0, 642: 10.0, 643: 5.0, 644: 46.0, 645: 1.0, 646: 13.0, 647: 3.0, 648: 9.0, 649: 12.0, 650: 15.0, 651: 4.0, 652: 8.0, 653: 27.0, 654: 3.0, 655: 21.0, 656: 3.0, 657: 24.0, 658: 22.0, 659: 4.0, 660: 20.0, 661: 4.0, 662: 4.0, 663: 2.0, 664: 34.0, 665: 9.0, 666: 4.0, 667: 34.0, 668: 16.0, 669: 8.0, 670: 239.0, 671: 25.0, 672: 8.0, 673: 40.0, 674: 9.0, 676: 56.0, 677: 14.0, 679: 12.0, 680: 7.0, 681: 1.0, 682: 4.0, 683: 11.0, 684: 3.0, 685: 17.0, 686: 15.0, 687: 8.0, 688: 53.0, 689: 7.0, 690: 10.0, 691: 13.0, 692: 10.0, 693: 14.0, 694: 1.0, 695: 2.0, 696: 1.0, 697: 23.0, 698: 2.0, 699: 7.0, 700: 12.0, 702: 2.0, 704: 47.0, 705: 27.0, 706: 6.0, 707: 2.0, 708: 1.0, 709: 10.0, 710: 4.0, 711: 6.0, 712: 12.0, 713: 3.0, 714: 15.0, 715: 4.0, 716: 1.0, 717: 9.0, 718: 16.0, 719: 10.0, 720: 16.0, 721: 21.0, 722: 33.0, 723: 23.0, 724: 1.0, 725: 37.0, 726: 14.0, 728: 28.0, 729: 3.0, 730: 6.0, 731: 7.0, 732: 9.0, 733: 32.0, 734: 20.0, 735: 16.0, 736: 11.0, 737: 25.0, 738: 6.0, 739: 16.0, 740: 7.0, 741: 8.0, 742: 3.0, 743: 4.0, 744: 4.0, 745: 16.0, 746: 10.0, 747: 3.0, 748: 13.0, 749: 11.0, 751: 6.0, 752: 5.0, 753: 22.0, 754: 10.0, 755: 12.0, 756: 8.0, 757: 12.0, 758: 15.0, 759: 1.0, 760: 3.0, 761: 15.0, 762: 14.0, 763: 23.0, 764: 21.0, 766: 16.0, 767: 6.0, 768: 6.0, 769: 1.0, 771: 3.0, 773: 5.0, 774: 4.0, 775: 3.0, 777: 3.0, 778: 108.0, 779: 3.0, 780: 14.0, 781: 13.0, 782: 5.0, 783: 2.0, 784: 52.0, 785: 9.0, 786: 16.0, 787: 3.0, 788: 2.0, 789: 3.0, 790: 34.0, 791: 2.0, 792: 86.0, 793: 6.0, 794: 3.0, 796: 14.0, 798: 10.0, 799: 11.0, 800: 33.0, 801: 3.0, 802: 7.0, 803: 16.0, 804: 4.0, 805: 42.0, 806: 2.0, 807: 5.0, 808: 11.0, 809: 6.0, 810: 1.0, 811: 9.0, 812: 18.0, 813: 4.0, 814: 1.0, 815: 5.0, 816: 35.0, 817: 5.0, 818: 2.0, 820: 7.0, 821: 1.0, 822: 16.0, 823: 5.0, 824: 2.0, 825: 14.0, 826: 1.0, 827: 9.0, 828: 2.0, 829: 6.0, 830: 8.0, 832: 8.0, 833: 35.0, 834: 4.0, 835: 5.0, 836: 63.0, 837: 13.0, 838: 6.0, 839: 4.0, 840: 2.0, 841: 36.0, 842: 84.0, 844: 14.0, 845: 2.0, 846: 4.0, 847: 60.0, 848: 20.0, 849: 70.0, 850: 1.0, 851: 5.0, 852: 2.0, 853: 13.0, 854: 1.0, 855: 4.0, 856: 8.0, 857: 22.0, 858: 6.0, 859: 8.0, 860: 8.0, 861: 37.0, 862: 13.0, 863: 16.0, 864: 10.0, 865: 5.0, 866: 2.0, 867: 3.0, 868: 11.0, 869: 7.0, 870: 1.0, 871: 4.0, 872: 42.0, 873: 3.0, 874: 3.0, 875: 7.0, 876: 37.0, 877: 16.0, 879: 6.0, 880: 3.0, 881: 10.0, 882: 4.0, 883: 11.0, 884: 1.0, 885: 4.0, 886: 7.0, 887: 18.0, 889: 5.0, 890: 2.0, 891: 1.0, 892: 17.0, 893: 21.0, 894: 14.0, 895: 15.0, 896: 37.0, 897: 2.0, 898: 6.0, 900: 4.0, 901: 3.0, 902: 8.0, 903: 1.0, 904: 4.0, 906: 1.0, 907: 5.0, 908: 8.0, 909: 2.0, 910: 1.0, 914: 5.0, 915: 5.0, 916: 14.0, 917: 3.0, 918: 1.0, 919: 8.0, 920: 28.0, 922: 2.0, 923: 34.0, 924: 43.0, 925: 4.0, 926: 15.0, 927: 15.0, 928: 38.0, 929: 3.0, 932: 2.0, 933: 10.0, 934: 5.0, 936: 4.0, 937: 5.0, 938: 2.0, 939: 3.0, 941: 37.0, 942: 92.0, 943: 37.0, 944: 2.0, 945: 14.0, 946: 18.0, 947: 2.0, 949: 11.0, 950: 17.0, 951: 19.0, 952: 7.0, 953: 8.0, 954: 15.0, 955: 4.0, 956: 3.0, 957: 8.0, 959: 47.0, 960: 20.0, 961: 93.0, 963: 7.0, 964: 1.0, 965: 6.0, 966: 2.0, 967: 8.0, 968: 259.0, 969: 28.0, 970: 17.0, 971: 2.0, 972: 11.0, 973: 46.0, 974: 5.0, 975: 8.0, 976: 3.0, 977: 5.0, 978: 6.0, 979: 4.0, 980: 3.0, 981: 15.0, 982: 4.0, 983: 66.0, 984: 38.0, 985: 1.0, 986: 29.0, 987: 12.0, 989: 35.0, 990: 29.0, 991: 1.0, 992: 4.0, 993: 10.0, 994: 4.0, 995: 4.0, 996: 7.0, 997: 187.0, 998: 3.0, 999: 39.0, 1001: 4.0, 1002: 2.0, 1003: 7.0, 1004: 10.0, 1005: 2.0, 1006: 13.0, 1007: 103.0, 1008: 1.0, 1010: 4.0, 1011: 6.0, 1012: 6.0, 1013: 10.0, 1014: 2.0, 1016: 16.0, 1017: 32.0, 1018: 26.0, 1020: 46.0, 1021: 5.0, 1022: 9.0, 1023: 31.0, 1024: 4.0, 1025: 22.0, 1026: 1.0, 1027: 6.0, 1028: 9.0, 1029: 4.0, 1030: 6.0, 1031: 37.0, 1032: 7.0, 1033: 5.0, 1035: 1.0, 1036: 14.0, 1037: 26.0, 1038: 3.0, 1039: 9.0, 1040: 11.0, 1041: 5.0, 1042: 1.0, 1043: 4.0, 1045: 56.0, 1046: 8.0, 1048: 4.0, 1049: 1.0, 1050: 9.0, 1051: 6.0, 1052: 7.0, 1053: 2.0, 1054: 33.0, 1055: 2.0, 1056: 8.0, 1057: 3.0, 1058: 2.0, 1059: 40.0, 1060: 3.0, 1061: 20.0, 1062: 18.0, 1063: 6.0, 1064: 2.0, 1065: 18.0, 1066: 6.0, 1067: 5.0, 1068: 10.0, 1069: 66.0, 1070: 4.0, 1072: 91.0, 1073: 5.0, 1075: 8.0, 1076: 6.0, 1077: 2.0, 1078: 2.0, 1079: 33.0, 1080: 46.0, 1081: 3.0, 1083: 2.0, 1084: 9.0, 1086: 19.0, 1087: 5.0, 1088: 1.0, 1089: 9.0, 1090: 22.0, 1091: 1.0, 1092: 22.0, 1093: 10.0, 1094: 17.0, 1095: 8.0, 1097: 7.0, 1098: 6.0, 1099: 20.0, 1100: 7.0, 1101: 21.0, 1102: 2.0, 1103: 8.0, 1104: 1.0, 1105: 3.0, 1106: 1.0, 1107: 3.0, 1109: 1.0, 1110: 27.0, 1111: 5.0, 1112: 155.0, 1113: 4.0, 1114: 5.0, 1115: 1.0, 1116: 3.0, 1117: 8.0, 1118: 4.0, 1120: 46.0, 1121: 18.0, 1122: 2.0, 1123: 4.0, 1124: 14.0, 1125: 2.0, 1126: 27.0, 1127: 5.0, 1128: 2.0, 1129: 1.0, 1130: 14.0, 1135: 4.0, 1136: 165.0, 1138: 28.0, 1139: 85.0, 1140: 158.0, 1141: 6.0, 1142: 52.0, 1143: 3.0, 1144: 7.0, 1146: 43.0, 1147: 18.0, 1148: 10.0, 1149: 10.0, 1150: 5.0, 1151: 4.0, 1153: 2.0, 1154: 22.0, 1155: 9.0, 1156: 7.0, 1157: 46.0, 1158: 8.0, 1159: 2.0, 1160: 13.0, 1161: 1.0, 1162: 5.0, 1163: 4.0, 1164: 6.0, 1165: 1.0, 1166: 4.0, 1167: 5.0, 1169: 3.0, 1170: 3.0, 1174: 11.0, 1175: 69.0, 1176: 2.0, 1177: 1.0, 1178: 4.0, 1179: 4.0, 1180: 11.0, 1181: 65.0, 1182: 13.0, 1183: 2.0, 1185: 6.0, 1186: 3.0, 1187: 6.0, 1188: 4.0, 1189: 9.0, 1190: 1.0, 1191: 1.0, 1193: 91.0, 1195: 14.0, 1196: 9.0, 1197: 3.0, 1198: 28.0, 1199: 4.0, 1201: 20.0, 1202: 48.0, 1203: 9.0, 1205: 1.0, 1206: 1.0, 1207: 5.0, 1208: 4.0, 1209: 1.0, 1210: 52.0, 1211: 3.0, 1212: 8.0, 1213: 1.0, 1215: 12.0, 1216: 14.0, 1217: 10.0, 1218: 9.0, 1219: 1.0, 1220: 3.0, 1221: 17.0, 1222: 3.0, 1223: 4.0, 1224: 31.0, 1225: 10.0, 1226: 10.0, 1227: 8.0, 1228: 4.0, 1229: 19.0, 1230: 25.0, 1231: 22.0, 1232: 9.0, 1235: 2.0, 1236: 1.0, 1237: 9.0, 1238: 8.0, 1239: 1.0, 1240: 4.0, 1241: 10.0, 1244: 4.0, 1245: 85.0, 1246: 106.0, 1247: 14.0, 1248: 1.0, 1249: 11.0, 1250: 20.0, 1251: 2.0, 1252: 19.0, 1253: 11.0, 1254: 39.0, 1255: 98.0, 1256: 7.0, 1257: 5.0, 1258: 4.0, 1259: 8.0, 1260: 75.0, 1262: 7.0, 1263: 6.0, 1264: 2.0, 1265: 12.0, 1267: 4.0, 1268: 5.0, 1269: 7.0, 1270: 32.0, 1271: 15.0, 1272: 3.0, 1273: 13.0, 1274: 16.0, 1275: 6.0, 1276: 1.0, 1277: 4.0, 1278: 19.0, 1279: 120.0, 1280: 12.0, 1281: 5.0, 1282: 4.0, 1283: 6.0, 1284: 8.0, 1285: 9.0, 1286: 5.0, 1287: 3.0, 1288: 20.0, 1289: 4.0, 1291: 6.0, 1292: 4.0, 1294: 1.0, 1296: 17.0, 1297: 1.0, 1298: 3.0, 1299: 18.0, 1300: 2.0, 1301: 5.0, 1302: 10.0, 1303: 32.0, 1304: 13.0, 1305: 15.0, 1306: 3.0, 1307: 8.0, 1308: 1.0, 1312: 52.0, 1313: 3.0, 1314: 15.0, 1315: 4.0, 1316: 1.0, 1317: 9.0, 1319: 51.0, 1320: 50.0, 1321: 5.0, 1322: 3.0, 1324: 8.0, 1325: 3.0, 1326: 5.0, 1327: 3.0, 1328: 3.0, 1329: 1.0, 1330: 2.0, 1331: 20.0, 1333: 6.0, 1334: 2.0, 1335: 11.0, 1337: 3.0, 1338: 3.0, 1339: 2.0, 1340: 12.0, 1341: 4.0, 1342: 1.0, 1343: 8.0, 1344: 12.0, 1345: 10.0, 1346: 1.0, 1347: 7.0, 1348: 2.0, 1349: 1.0, 1350: 129.0, 1351: 22.0, 1352: 2.0, 1353: 7.0, 1354: 1.0, 1355: 3.0, 1356: 9.0, 1357: 4.0, 1358: 3.0, 1359: 1.0, 1360: 1.0, 1361: 78.0, 1362: 27.0, 1363: 15.0, 1364: 2.0, 1366: 1.0, 1367: 2.0, 1368: 18.0, 1369: 8.0, 1371: 7.0, 1372: 4.0, 1373: 1.0, 1376: 2.0, 1377: 12.0, 1378: 5.0, 1379: 2.0, 1380: 1.0, 1381: 1.0, 1382: 12.0, 1383: 1.0, 1384: 10.0, 1385: 49.0, 1387: 1.0, 1388: 3.0, 1390: 1.0, 1392: 1.0, 1394: 10.0, 1395: 40.0, 1396: 20.0, 1397: 15.0, 1398: 4.0, 1399: 3.0, 1400: 76.0, 1401: 2.0, 1402: 2.0, 1403: 8.0, 1404: 1.0, 1405: 6.0, 1406: 1.0, 1409: 4.0, 1410: 3.0, 1411: 16.0, 1412: 7.0, 1414: 1.0, 1416: 2.0, 1418: 10.0, 1419: 7.0, 1421: 4.0, 1422: 5.0, 1423: 1.0, 1424: 4.0, 1425: 4.0, 1428: 4.0, 1429: 3.0, 1430: 19.0, 1431: 1.0, 1433: 1.0, 1435: 2.0, 1436: 1.0, 1438: 4.0, 1440: 2.0, 1441: 29.0, 1442: 2.0, 1443: 4.0, 1444: 27.0, 1445: 3.0, 1446: 4.0, 1448: 5.0, 1449: 11.0, 1450: 10.0, 1451: 27.0, 1452: 21.0, 1453: 8.0, 1454: 14.0, 1455: 3.0, 1456: 9.0, 1457: 4.0, 1458: 22.0, 1459: 2.0, 1460: 14.0, 1461: 10.0, 1462: 4.0, 1463: 65.0, 1465: 10.0, 1466: 2.0, 1467: 7.0, 1468: 8.0, 1469: 6.0, 1470: 1.0, 1471: 3.0, 1472: 21.0, 1474: 2.0, 1476: 26.0, 1477: 2.0, 1478: 1.0, 1480: 6.0, 1481: 6.0, 1482: 3.0, 1485: 5.0, 1486: 2.0, 1487: 3.0, 1488: 104.0, 1489: 1.0, 1490: 7.0, 1491: 16.0, 1494: 2.0, 1495: 9.0, 1496: 1.0, 1497: 28.0, 1498: 8.0, 1499: 5.0, 1500: 7.0, 1501: 2.0, 1502: 4.0, 1503: 18.0, 1504: 2.0, 1505: 14.0, 1506: 4.0, 1508: 1.0, 1509: 6.0, 1510: 5.0, 1511: 21.0, 1512: 5.0, 1513: 1.0, 1515: 4.0, 1516: 25.0, 1517: 6.0, 1519: 5.0, 1520: 3.0, 1521: 33.0, 1522: 6.0, 1523: 5.0, 1524: 13.0, 1525: 1.0, 1526: 1.0, 1527: 3.0, 1528: 7.0, 1529: 8.0, 1531: 2.0, 1532: 49.0, 1533: 5.0, 1534: 3.0, 1535: 3.0, 1536: 8.0, 1537: 2.0, 1538: 29.0, 1539: 4.0, 1540: 4.0, 1541: 8.0, 1542: 6.0, 1543: 3.0, 1544: 15.0, 1545: 1.0, 1546: 12.0, 1547: 3.0, 1548: 5.0, 1549: 1.0, 1550: 1.0, 1551: 4.0, 1552: 8.0, 1554: 6.0, 1555: 80.0, 1557: 61.0, 1558: 12.0, 1559: 8.0, 1561: 19.0, 1563: 5.0, 1564: 10.0, 1565: 10.0, 1566: 5.0, 1568: 3.0, 1569: 17.0, 1570: 15.0, 1571: 12.0, 1572: 5.0, 1573: 3.0, 1574: 9.0, 1575: 64.0, 1576: 1.0, 1578: 10.0, 1579: 7.0, 1580: 3.0, 1582: 2.0, 1583: 2.0, 1584: 11.0, 1585: 5.0, 1586: 1.0, 1587: 13.0, 1588: 2.0, 1589: 2.0, 1590: 3.0, 1591: 17.0, 1592: 3.0, 1593: 1.0, 1594: 1.0, 1595: 13.0, 1596: 5.0, 1597: 13.0, 1598: 27.0, 1599: 7.0, 1600: 2.0, 1601: 1.0, 1602: 2.0, 1603: 6.0, 1604: 2.0, 1605: 11.0, 1606: 28.0, 1607: 1.0, 1608: 3.0, 1609: 6.0, 1612: 7.0, 1614: 3.0, 1615: 6.0, 1616: 3.0, 1617: 2.0, 1618: 1.0, 1619: 6.0, 1621: 1.0, 1622: 9.0, 1623: 4.0, 1624: 7.0, 1625: 3.0, 1627: 8.0, 1628: 4.0, 1629: 2.0, 1630: 2.0, 1632: 2.0, 1633: 14.0, 1634: 25.0, 1635: 1.0, 1636: 3.0, 1637: 13.0, 1638: 7.0, 1640: 1.0, 1641: 14.0, 1643: 12.0, 1644: 3.0, 1645: 39.0, 1647: 14.0, 1648: 4.0, 1649: 174.0, 1650: 4.0, 1651: 5.0, 1652: 27.0, 1653: 22.0, 1654: 21.0, 1655: 45.0, 1656: 254.0, 1657: 3.0, 1658: 21.0, 1659: 2.0, 1660: 2.0, 1662: 1.0, 1663: 3.0, 1664: 1.0, 1666: 2.0, 1667: 6.0, 1668: 10.0, 1669: 39.0, 1670: 4.0, 1671: 4.0, 1672: 6.0, 1673: 3.0, 1675: 2.0, 1676: 14.0, 1677: 9.0, 1678: 4.0, 1679: 25.0, 1680: 18.0, 1681: 2.0, 1682: 4.0, 1683: 25.0, 1684: 5.0, 1685: 5.0, 1686: 16.0, 1687: 213.0, 1690: 6.0, 1691: 13.0, 1693: 2.0, 1694: 7.0, 1695: 7.0, 1696: 1.0, 1697: 3.0, 1698: 103.0, 1699: 3.0, 1700: 3.0, 1701: 13.0, 1702: 20.0, 1703: 4.0, 1704: 35.0, 1705: 1.0, 1708: 3.0, 1709: 1.0, 1710: 7.0, 1711: 3.0, 1712: 12.0, 1713: 4.0, 1714: 7.0, 1715: 1.0, 1717: 2.0, 1718: 1.0, 1720: 6.0, 1721: 7.0, 1722: 6.0, 1723: 4.0, 1724: 1.0, 1726: 2.0, 1727: 7.0, 1730: 1.0, 1731: 11.0, 1733: 15.0, 1736: 2.0, 1737: 37.0, 1738: 32.0, 1739: 18.0, 1740: 6.0, 1741: 8.0, 1742: 3.0, 1743: 3.0, 1744: 14.0, 1745: 2.0, 1748: 13.0, 1750: 4.0, 1751: 18.0, 1752: 15.0, 1754: 7.0, 1755: 4.0, 1756: 1.0, 1757: 1.0, 1758: 15.0, 1759: 13.0, 1760: 6.0, 1761: 1.0, 1763: 2.0, 1764: 55.0, 1765: 3.0, 1766: 15.0, 1767: 1.0, 1769: 2.0, 1771: 3.0, 1772: 19.0, 1773: 1.0, 1774: 14.0, 1775: 1.0, 1776: 1.0, 1777: 8.0, 1778: 57.0, 1779: 1.0, 1780: 3.0, 1781: 3.0, 1782: 6.0, 1783: 10.0, 1784: 2.0, 1785: 9.0, 1786: 3.0, 1787: 2.0, 1788: 2.0, 1789: 9.0, 1790: 5.0, 1791: 9.0, 1792: 1.0, 1793: 10.0, 1794: 13.0, 1796: 8.0, 1797: 3.0, 1798: 1.0, 1800: 45.0, 1801: 3.0, 1803: 5.0, 1804: 3.0, 1805: 34.0, 1808: 5.0, 1809: 4.0, 1810: 1.0, 1811: 101.0, 1812: 24.0, 1813: 3.0, 1814: 4.0, 1815: 21.0, 1816: 3.0, 1818: 1.0, 1819: 1.0, 1820: 11.0, 1821: 2.0, 1822: 3.0, 1823: 1.0, 1824: 1.0, 1825: 1.0, 1827: 2.0, 1829: 21.0, 1830: 4.0, 1831: 11.0, 1832: 58.0, 1833: 8.0, 1834: 3.0, 1835: 688.0, 1836: 5.0, 1837: 8.0, 1839: 7.0, 1840: 3.0, 1841: 35.0, 1842: 6.0, 1843: 4.0, 1845: 5.0, 1846: 11.0, 1847: 2.0, 1848: 2.0, 1849: 10.0, 1851: 11.0, 1855: 5.0, 1856: 3.0, 1857: 7.0, 1859: 30.0, 1861: 3.0, 1863: 32.0, 1864: 78.0, 1865: 4.0, 1866: 2.0, 1867: 5.0, 1868: 174.0, 1870: 9.0, 1871: 4.0, 1872: 6.0, 1874: 11.0, 1876: 1.0, 1877: 6.0, 1878: 3.0, 1879: 16.0, 1880: 1.0, 1881: 1.0, 1882: 4.0, 1883: 14.0, 1884: 3.0, 1885: 2.0, 1886: 11.0, 1888: 12.0, 1889: 2.0, 1890: 15.0, 1891: 2.0, 1892: 53.0, 1893: 4.0, 1894: 1.0, 1896: 49.0, 1897: 28.0, 1899: 3.0, 1900: 109.0, 1901: 39.0, 1903: 26.0, 1904: 4.0, 1905: 6.0, 1906: 5.0, 1907: 1.0, 1908: 5.0, 1911: 4.0, 1912: 1.0, 1913: 31.0, 1914: 3.0, 1915: 57.0, 1916: 10.0, 1918: 9.0, 1919: 2.0, 1920: 11.0, 1921: 5.0, 1922: 3.0, 1923: 9.0, 1926: 37.0, 1927: 54.0, 1928: 8.0, 1929: 1.0, 1930: 9.0, 1931: 12.0, 1934: 2.0, 1935: 6.0, 1936: 1.0, 1938: 5.0, 1939: 16.0, 1941: 23.0, 1942: 6.0, 1943: 3.0, 1944: 16.0, 1946: 2.0, 1947: 4.0, 1948: 13.0, 1949: 5.0, 1950: 3.0, 1951: 63.0, 1952: 8.0, 1953: 42.0, 1954: 4.0, 1957: 15.0, 1958: 16.0, 1961: 4.0, 1962: 6.0, 1963: 10.0, 1964: 2.0, 1966: 1.0, 1967: 1.0, 1968: 6.0, 1969: 26.0, 1971: 1.0, 1973: 7.0, 1974: 2.0, 1975: 7.0, 1976: 5.0, 1977: 15.0, 1979: 13.0, 1980: 5.0, 1981: 2.0, 1982: 1.0, 1983: 2.0, 1984: 34.0, 1986: 3.0, 1987: 12.0, 1988: 2.0, 1989: 4.0, 1990: 2.0, 1992: 1.0, 1993: 2.0, 1995: 6.0, 1996: 73.0, 1998: 25.0, 1999: 4.0, 2002: 2.0, 2005: 6.0, 2006: 23.0, 2007: 151.0, 2009: 11.0, 2010: 23.0, 2011: 17.0, 2012: 13.0, 2013: 1.0, 2015: 2.0, 2016: 8.0, 2018: 100.0, 2019: 1.0, 2020: 5.0, 2021: 6.0, 2022: 3.0, 2023: 31.0, 2026: 2.0, 2027: 1.0, 2028: 2.0, 2029: 10.0, 2031: 29.0, 2032: 7.0, 2033: 1.0, 2034: 171.0, 2036: 2.0, 2037: 33.0, 2038: 8.0, 2039: 7.0, 2040: 27.0, 2042: 1.0, 2043: 5.0, 2044: 8.0, 2046: 1.0, 2048: 1.0, 2049: 1.0, 2050: 17.0, 2051: 6.0, 2052: 2.0, 2053: 6.0, 2055: 5.0, 2056: 3.0, 2057: 5.0, 2058: 2.0, 2059: 2.0, 2060: 8.0, 2061: 6.0, 2063: 58.0, 2064: 1.0, 2065: 8.0, 2066: 2.0, 2067: 5.0, 2069: 7.0, 2071: 3.0, 2072: 3.0, 2073: 3.0, 2075: 2.0, 2076: 1.0, 2077: 65.0, 2078: 8.0, 2079: 91.0, 2080: 1.0, 2082: 6.0, 2083: 2.0, 2084: 3.0, 2085: 4.0, 2086: 27.0, 2088: 108.0, 2089: 5.0, 2090: 6.0, 2091: 49.0, 2092: 1.0, 2094: 2.0, 2095: 7.0, 2099: 46.0, 2100: 10.0, 2101: 1.0, 2102: 3.0, 2103: 9.0, 2104: 3.0, 2105: 36.0, 2106: 1.0, 2107: 4.0, 2108: 5.0, 2109: 12.0, 2110: 13.0, 2111: 15.0, 2113: 1.0, 2114: 2.0, 2115: 2.0, 2116: 1.0, 2119: 16.0, 2121: 37.0, 2123: 4.0, 2124: 1.0, 2126: 1.0, 2127: 1.0, 2128: 3.0, 2129: 7.0, 2130: 2.0, 2131: 3.0, 2133: 4.0, 2134: 5.0, 2136: 3.0, 2137: 3.0, 2138: 2.0, 2139: 7.0, 2141: 3.0, 2143: 11.0, 2144: 4.0, 2146: 1.0, 2147: 1.0, 2148: 3.0, 2149: 5.0, 2150: 8.0, 2151: 1.0, 2153: 7.0, 2154: 4.0, 2156: 4.0, 2157: 1.0, 2158: 13.0, 2159: 6.0, 2160: 8.0, 2161: 1.0, 2163: 5.0, 2164: 8.0, 2165: 5.0, 2166: 1.0, 2168: 4.0, 2169: 5.0, 2174: 10.0, 2179: 5.0, 2180: 19.0, 2181: 43.0, 2182: 2.0, 2183: 1.0, 2184: 5.0, 2185: 3.0, 2186: 10.0, 2188: 1.0, 2189: 5.0, 2190: 7.0, 2191: 1.0, 2192: 3.0, 2193: 2.0, 2194: 47.0, 2195: 6.0, 2198: 88.0, 2199: 2.0, 2200: 7.0, 2202: 1.0, 2203: 2.0, 2204: 1.0, 2206: 9.0, 2207: 1.0, 2208: 1.0, 2211: 3.0, 2213: 4.0, 2214: 1.0, 2217: 3.0, 2218: 3.0, 2219: 3.0, 2221: 10.0, 2222: 3.0, 2224: 14.0, 2226: 103.0, 2227: 2.0, 2228: 14.0, 2229: 3.0, 2230: 233.0, 2231: 2.0, 2232: 20.0, 2233: 69.0, 2234: 23.0, 2235: 18.0, 2236: 12.0, 2237: 26.0, 2239: 1.0, 2241: 4.0, 2242: 7.0, 2243: 33.0, 2244: 4.0, 2248: 4.0, 2249: 14.0, 2251: 1.0, 2252: 26.0, 2253: 3.0, 2254: 2.0, 2255: 3.0, 2256: 1.0, 2257: 29.0, 2259: 7.0, 2261: 7.0, 2262: 1.0, 2263: 12.0, 2264: 1.0, 2265: 2.0, 2266: 2.0, 2267: 17.0, 2268: 3.0, 2270: 6.0, 2271: 12.0, 2272: 1.0, 2274: 2.0, 2275: 2.0, 2276: 2.0, 2277: 1.0, 2278: 6.0, 2279: 5.0, 2280: 9.0, 2281: 9.0, 2282: 60.0, 2283: 6.0, 2284: 2.0, 2285: 4.0, 2286: 2.0, 2287: 6.0, 2288: 1.0, 2289: 7.0, 2290: 2.0, 2293: 9.0, 2294: 31.0, 2295: 36.0, 2298: 5.0, 2300: 6.0, 2301: 5.0, 2302: 1.0, 2304: 4.0, 2305: 1.0, 2306: 6.0, 2307: 8.0, 2308: 4.0, 2309: 8.0, 2310: 4.0, 2311: 29.0, 2312: 5.0, 2313: 9.0, 2314: 4.0, 2315: 2.0, 2316: 33.0, 2317: 5.0, 2318: 4.0, 2319: 4.0, 2320: 3.0, 2322: 16.0, 2323: 33.0, 2324: 5.0, 2325: 15.0, 2327: 3.0, 2329: 3.0, 2330: 5.0, 2331: 1.0, 2332: 2.0, 2334: 6.0, 2335: 1.0, 2336: 1.0, 2338: 4.0, 2339: 13.0, 2340: 3.0, 2342: 1.0, 2343: 2.0, 2344: 1.0, 2345: 21.0, 2346: 1.0, 2347: 3.0, 2348: 1.0, 2349: 14.0, 2352: 2.0, 2353: 3.0, 2354: 150.0, 2355: 16.0, 2358: 14.0, 2359: 1.0, 2360: 5.0, 2361: 8.0, 2362: 6.0, 2366: 3.0, 2367: 3.0, 2368: 2.0, 2369: 29.0, 2370: 1.0, 2371: 28.0, 2373: 1.0, 2376: 9.0, 2377: 11.0, 2380: 12.0, 2382: 2.0, 2384: 15.0, 2385: 17.0, 2386: 2.0, 2387: 33.0, 2388: 5.0, 2389: 2.0, 2390: 16.0, 2392: 5.0, 2394: 52.0, 2395: 2.0, 2397: 2.0, 2398: 2.0, 2399: 3.0, 2400: 27.0, 2401: 2.0, 2403: 4.0, 2405: 23.0, 2406: 9.0, 2407: 2.0, 2409: 2.0, 2411: 3.0, 2412: 2.0, 2414: 1.0, 2415: 5.0, 2418: 5.0, 2419: 1.0, 2421: 6.0, 2422: 32.0, 2423: 19.0, 2424: 4.0, 2425: 19.0, 2427: 1.0, 2428: 1.0, 2429: 5.0, 2431: 4.0, 2432: 3.0, 2435: 4.0, 2437: 3.0, 2438: 4.0, 2441: 6.0, 2443: 2.0, 2445: 2.0, 2446: 1.0, 2447: 13.0, 2448: 12.0, 2449: 3.0, 2450: 1.0, 2451: 1.0, 2453: 3.0, 2454: 9.0, 2455: 70.0, 2456: 3.0, 2457: 6.0, 2458: 2.0, 2460: 1.0, 2461: 3.0, 2462: 16.0, 2464: 2.0, 2467: 2.0, 2468: 1.0, 2469: 17.0, 2470: 5.0, 2471: 4.0, 2472: 1.0, 2473: 2.0, 2475: 7.0, 2476: 1.0, 2477: 1.0, 2478: 1.0, 2480: 7.0, 2481: 64.0, 2482: 26.0, 2484: 5.0, 2485: 3.0, 2486: 3.0, 2487: 1.0, 2488: 3.0, 2489: 5.0, 2490: 2.0, 2491: 10.0, 2492: 9.0, 2493: 14.0, 2494: 12.0, 2495: 3.0, 2496: 2.0, 2497: 131.0, 2498: 17.0, 2499: 3.0, 2501: 5.0, 2503: 26.0, 2504: 3.0, 2505: 2.0, 2507: 1.0, 2508: 2.0, 2510: 13.0, 2511: 2.0, 2512: 6.0, 2513: 1.0, 2515: 3.0, 2516: 1.0, 2517: 74.0, 2519: 5.0, 2520: 2.0, 2521: 8.0, 2523: 1.0, 2525: 1.0, 2526: 2.0, 2527: 1.0, 2528: 36.0, 2529: 2.0, 2530: 23.0, 2531: 3.0, 2532: 6.0, 2534: 2.0, 2535: 5.0, 2536: 6.0, 2538: 23.0, 2539: 47.0, 2540: 1.0, 2541: 2.0, 2544: 15.0, 2545: 12.0, 2546: 4.0, 2548: 2.0, 2550: 9.0, 2552: 6.0, 2553: 57.0, 2554: 97.0, 2555: 10.0, 2556: 20.0, 2558: 4.0, 2559: 29.0, 2560: 9.0, 2561: 2.0, 2562: 7.0, 2563: 4.0, 2564: 1.0, 2565: 3.0, 2566: 7.0, 2568: 3.0, 2569: 6.0, 2570: 4.0, 2572: 1.0, 2573: 2.0, 2574: 12.0, 2575: 2.0, 2576: 8.0, 2577: 16.0, 2578: 44.0, 2579: 7.0, 2580: 1.0, 2581: 8.0, 2582: 19.0, 2583: 4.0, 2584: 55.0, 2586: 30.0, 2587: 4.0, 2588: 3.0, 2589: 8.0, 2590: 2.0, 2591: 1.0, 2593: 1.0, 2594: 1.0, 2595: 4.0, 2599: 1.0, 2600: 32.0, 2601: 3.0, 2602: 11.0, 2603: 29.0, 2604: 9.0, 2605: 7.0, 2606: 3.0, 2610: 4.0, 2611: 1.0, 2612: 8.0, 2613: 7.0, 2614: 8.0, 2616: 4.0, 2617: 1.0, 2618: 3.0, 2620: 4.0, 2621: 9.0, 2622: 73.0, 2623: 6.0, 2624: 3.0, 2625: 1.0, 2626: 11.0, 2628: 6.0, 2630: 3.0, 2631: 7.0, 2632: 5.0, 2634: 6.0, 2635: 29.0, 2636: 2.0, 2637: 1.0, 2638: 8.0, 2641: 4.0, 2642: 9.0, 2643: 1.0, 2644: 2.0, 2648: 11.0, 2649: 3.0, 2650: 27.0, 2651: 9.0, 2653: 13.0, 2655: 1.0, 2657: 19.0, 2658: 4.0, 2659: 4.0, 2660: 1.0, 2661: 2.0, 2662: 1.0, 2663: 2.0, 2664: 28.0, 2665: 15.0, 2666: 3.0, 2668: 5.0, 2669: 1.0, 2670: 1.0, 2671: 11.0, 2672: 23.0, 2673: 3.0, 2674: 27.0, 2675: 2.0, 2677: 2.0, 2678: 3.0, 2679: 1.0, 2680: 2.0, 2681: 2.0, 2682: 28.0, 2684: 11.0, 2685: 1.0, 2686: 2.0, 2687: 3.0, 2688: 2.0, 2689: 43.0, 2690: 1.0, 2691: 130.0, 2693: 2.0, 2694: 1.0, 2695: 3.0, 2696: 1.0, 2697: 18.0, 2698: 75.0, 2699: 6.0, 2700: 2.0, 2701: 4.0, 2702: 28.0, 2704: 13.0, 2705: 10.0, 2706: 1.0, 2707: 3.0, 2708: 2.0, 2709: 2.0, 2710: 2.0, 2712: 1.0, 2714: 9.0, 2715: 10.0, 2716: 1.0, 2717: 6.0, 2718: 2.0, 2719: 3.0, 2720: 2.0, 2721: 1.0, 2722: 1.0, 2723: 5.0, 2724: 1.0, 2725: 5.0, 2727: 3.0, 2729: 2.0, 2730: 10.0, 2731: 2.0, 2732: 25.0, 2733: 1.0, 2734: 9.0, 2735: 3.0, 2736: 33.0, 2737: 2.0, 2740: 6.0, 2741: 2.0, 2742: 38.0, 2743: 9.0, 2744: 1.0, 2745: 21.0, 2746: 5.0, 2749: 1.0, 2751: 6.0, 2754: 5.0, 2755: 2.0, 2756: 3.0, 2757: 1.0, 2758: 3.0, 2759: 3.0, 2760: 37.0, 2762: 3.0, 2764: 2.0, 2765: 1.0, 2766: 35.0, 2770: 2.0, 2772: 1.0, 2773: 2.0, 2774: 1.0, 2775: 1.0, 2777: 3.0, 2778: 17.0, 2779: 7.0, 2780: 11.0, 2783: 4.0, 2784: 25.0, 2785: 2.0, 2786: 10.0, 2787: 1.0, 2788: 3.0, 2789: 1.0, 2790: 1.0, 2791: 1.0, 2793: 1.0, 2796: 1.0, 2797: 1.0, 2798: 3.0, 2799: 1.0, 2800: 1.0, 2803: 8.0, 2804: 11.0, 2805: 67.0, 2806: 20.0, 2808: 13.0, 2809: 42.0, 2810: 17.0, 2812: 3.0, 2813: 3.0, 2814: 3.0, 2816: 20.0, 2818: 2.0, 2820: 9.0, 2822: 1.0, 2823: 29.0, 2824: 8.0, 2825: 1.0, 2827: 11.0, 2828: 1.0, 2829: 1.0, 2832: 2.0, 2833: 1.0, 2834: 2.0, 2835: 10.0, 2836: 9.0, 2837: 5.0, 2838: 71.0, 2839: 2.0, 2840: 2.0, 2841: 3.0, 2843: 41.0, 2844: 2.0, 2845: 5.0, 2846: 5.0, 2848: 4.0, 2850: 2.0, 2851: 12.0, 2852: 14.0, 2853: 1.0, 2854: 16.0, 2855: 9.0, 2856: 4.0, 2858: 5.0, 2859: 4.0, 2860: 1.0, 2863: 3.0, 2864: 4.0, 2865: 1.0, 2866: 5.0, 2867: 5.0, 2868: 1.0, 2871: 3.0, 2873: 5.0, 2874: 5.0, 2875: 3.0, 2877: 8.0, 2878: 1.0, 2879: 5.0, 2880: 10.0, 2881: 2.0, 2882: 2.0, 2884: 8.0, 2886: 4.0, 2887: 1.0, 2891: 4.0, 2892: 1.0, 2894: 4.0, 2895: 4.0, 2896: 2.0, 2897: 2.0, 2898: 5.0, 2899: 1.0, 2901: 3.0, 2902: 2.0, 2903: 1.0, 2907: 1.0, 2908: 3.0, 2909: 3.0, 2910: 5.0, 2911: 1.0, 2916: 7.0, 2918: 4.0, 2919: 1.0, 2921: 9.0, 2923: 2.0, 2924: 5.0, 2925: 12.0, 2926: 1.0, 2927: 10.0, 2928: 4.0, 2932: 5.0, 2934: 5.0, 2935: 2.0, 2937: 1.0, 2938: 4.0, 2939: 43.0, 2942: 4.0, 2943: 72.0, 2945: 5.0, 2946: 1.0, 2948: 6.0, 2949: 2.0, 2950: 1.0, 2951: 6.0, 2953: 12.0, 2955: 1.0, 2956: 5.0, 2957: 1.0, 2960: 2.0, 2961: 1.0, 2962: 12.0, 2963: 5.0, 2964: 2.0, 2967: 5.0, 2969: 1.0, 2970: 1.0, 2971: 7.0, 2974: 11.0, 2975: 10.0, 2976: 2.0, 2977: 3.0, 2978: 6.0, 2979: 1.0, 2980: 2.0, 2982: 42.0, 2983: 12.0, 2984: 1.0, 2986: 9.0, 2988: 1.0, 2989: 1.0, 2990: 9.0, 2991: 9.0, 2992: 3.0, 2993: 1.0, 2994: 5.0, 2995: 1.0, 2996: 5.0, 2997: 8.0, 2998: 1.0, 3001: 30.0, 3003: 1.0, 3004: 1.0, 3006: 7.0, 3007: 3.0, 3008: 5.0, 3010: 2.0, 3015: 1.0, 3016: 2.0, 3018: 4.0, 3022: 4.0, 3023: 5.0, 3025: 7.0, 3026: 1.0, 3028: 10.0, 3030: 3.0, 3031: 4.0, 3032: 2.0, 3033: 1.0, 3038: 4.0, 3042: 1.0, 3043: 4.0, 3044: 5.0, 3045: 16.0, 3047: 3.0, 3048: 1.0, 3049: 3.0, 3050: 3.0, 3051: 1.0, 3053: 1.0, 3055: 2.0, 3056: 3.0, 3058: 9.0, 3060: 2.0, 3063: 9.0, 3064: 5.0, 3065: 1.0, 3068: 2.0, 3069: 6.0, 3071: 9.0, 3072: 275.0, 3073: 1.0, 3074: 1.0, 3079: 1.0, 3080: 18.0, 3081: 60.0, 3083: 2.0, 3084: 15.0, 3085: 1.0, 3087: 2.0, 3088: 1.0, 3091: 2.0, 3093: 2.0, 3094: 10.0, 3095: 2.0, 3096: 4.0, 3097: 1.0, 3098: 15.0, 3099: 2.0, 3100: 35.0, 3101: 5.0, 3102: 11.0, 3103: 3.0, 3104: 2.0, 3105: 1.0, 3106: 5.0, 3109: 1.0, 3112: 3.0, 3114: 20.0, 3117: 11.0, 3119: 1.0, 3120: 3.0, 3121: 11.0, 3122: 6.0, 3123: 26.0, 3124: 11.0, 3125: 3.0, 3126: 5.0, 3127: 1.0, 3128: 1.0, 3132: 2.0, 3133: 1.0, 3134: 1.0, 3136: 37.0, 3139: 4.0, 3141: 5.0, 3142: 5.0, 3144: 1.0, 3146: 48.0, 3148: 7.0, 3149: 2.0, 3150: 3.0, 3153: 3.0, 3155: 12.0, 3159: 7.0, 3160: 6.0, 3161: 2.0, 3162: 2.0, 3164: 19.0, 3165: 2.0, 3166: 7.0, 3167: 97.0, 3169: 1.0, 3170: 10.0, 3171: 1.0, 3173: 1.0, 3174: 3.0, 3175: 18.0, 3176: 2.0, 3177: 4.0, 3178: 2.0, 3179: 2.0, 3180: 1.0, 3183: 15.0, 3184: 2.0, 3185: 24.0, 3186: 58.0, 3187: 3.0, 3188: 4.0, 3190: 1.0, 3191: 3.0, 3192: 13.0, 3194: 108.0, 3195: 3.0, 3196: 8.0, 3197: 2.0, 3198: 16.0, 3199: 1.0, 3201: 2.0, 3202: 5.0, 3203: 6.0, 3204: 3.0, 3205: 2.0, 3206: 14.0, 3208: 1.0, 3209: 1.0, 3210: 3.0, 3212: 5.0, 3214: 10.0, 3215: 17.0, 3216: 108.0, 3217: 1.0, 3219: 7.0, 3220: 1.0, 3221: 2.0, 3223: 2.0, 3225: 7.0, 3226: 15.0, 3227: 2.0, 3228: 12.0, 3232: 1.0, 3233: 4.0, 3234: 1.0, 3235: 13.0, 3237: 1.0, 3239: 3.0, 3242: 5.0, 3245: 1.0, 3246: 3.0, 3247: 14.0, 3248: 1.0, 3249: 3.0, 3250: 3.0, 3251: 2.0, 3252: 5.0, 3255: 6.0, 3257: 3.0, 3260: 3.0, 3264: 3.0, 3266: 1.0, 3267: 2.0, 3269: 7.0, 3270: 1.0, 3272: 4.0, 3273: 4.0, 3277: 2.0, 3278: 2.0, 3281: 5.0, 3282: 1.0, 3283: 10.0, 3285: 3.0, 3286: 3.0, 3290: 33.0, 3291: 2.0, 3293: 1.0, 3295: 3.0, 3296: 29.0, 3297: 2.0, 3298: 50.0, 3299: 3.0, 3300: 1.0, 3301: 3.0, 3303: 1.0, 3305: 1.0, 3306: 3.0, 3307: 9.0, 3308: 4.0, 3309: 2.0, 3311: 6.0, 3313: 3.0, 3314: 5.0, 3315: 4.0, 3316: 3.0, 3317: 2.0, 3318: 15.0, 3320: 1.0, 3322: 4.0, 3323: 33.0, 3325: 1.0, 3326: 4.0, 3328: 1.0, 3329: 1.0, 3330: 5.0, 3331: 1.0, 3333: 11.0, 3334: 26.0, 3336: 1.0, 3337: 18.0, 3338: 4.0, 3339: 5.0, 3340: 18.0, 3342: 1.0, 3343: 9.0, 3345: 1.0, 3346: 5.0, 3347: 1.0, 3348: 1.0, 3349: 3.0, 3350: 2.0, 3351: 1.0, 3355: 4.0, 3359: 5.0, 3361: 5.0, 3366: 1.0, 3367: 2.0, 3369: 1.0, 3370: 3.0, 3373: 2.0, 3374: 1.0, 3375: 1.0, 3378: 10.0, 3379: 4.0, 3381: 1.0, 3382: 1.0, 3384: 1.0, 3385: 37.0, 3386: 3.0, 3387: 4.0, 3389: 2.0, 3390: 1.0, 3392: 2.0, 3394: 2.0, 3395: 37.0, 3396: 4.0, 3397: 2.0, 3398: 1.0, 3399: 7.0, 3401: 3.0, 3406: 2.0, 3409: 6.0, 3410: 1.0, 3415: 1.0, 3416: 1.0, 3417: 1.0, 3418: 2.0, 3419: 1.0, 3420: 1.0, 3421: 1.0, 3422: 2.0, 3423: 2.0, 3424: 8.0, 3427: 1.0, 3429: 1.0, 3430: 1.0, 3432: 3.0, 3433: 1.0, 3435: 3.0, 3437: 7.0, 3441: 1.0, 3443: 1.0, 3445: 7.0, 3446: 1.0, 3447: 1.0, 3448: 3.0, 3449: 5.0, 3450: 1.0, 3451: 3.0, 3453: 50.0, 3454: 5.0, 3455: 11.0, 3456: 4.0, 3458: 3.0, 3460: 3.0, 3461: 1.0, 3462: 2.0, 3465: 1.0, 3466: 3.0, 3467: 6.0, 3468: 2.0, 3469: 1.0, 3471: 2.0, 3475: 2.0, 3477: 4.0, 3481: 4.0, 3482: 3.0, 3483: 4.0, 3484: 1.0, 3485: 1.0, 3486: 2.0, 3487: 1.0, 3489: 9.0, 3490: 3.0, 3493: 11.0, 3494: 12.0, 3495: 11.0, 3496: 3.0, 3498: 61.0, 3500: 3.0, 3501: 10.0, 3502: 1.0, 3504: 2.0, 3506: 1.0, 3508: 1.0, 3510: 1.0, 3511: 2.0, 3512: 13.0, 3513: 2.0, 3515: 35.0, 3516: 1.0, 3517: 10.0, 3520: 5.0, 3521: 1.0, 3522: 1.0, 3523: 14.0, 3525: 1.0, 3527: 1.0, 3528: 3.0, 3530: 1.0, 3531: 7.0, 3532: 1.0, 3533: 4.0, 3536: 2.0, 3539: 3.0, 3540: 1.0, 3541: 6.0, 3543: 2.0, 3544: 1.0, 3545: 17.0, 3546: 5.0, 3547: 2.0, 3548: 76.0, 3549: 1.0, 3551: 1.0, 3552: 1.0, 3553: 1.0, 3554: 2.0, 3555: 1.0, 3556: 6.0, 3558: 1.0, 3559: 23.0, 3560: 7.0, 3561: 4.0, 3563: 6.0, 3564: 4.0, 3565: 19.0, 3566: 5.0, 3567: 1.0, 3568: 5.0, 3569: 2.0, 3570: 10.0, 3572: 3.0, 3573: 3.0, 3575: 13.0, 3576: 1.0, 3577: 4.0, 3578: 1.0, 3579: 9.0, 3581: 10.0, 3582: 7.0, 3583: 1.0, 3584: 10.0, 3585: 1.0, 3587: 1.0, 3588: 3.0, 3589: 3.0, 3590: 40.0, 3591: 7.0, 3592: 2.0, 3593: 1.0, 3594: 1.0, 3596: 103.0, 3597: 12.0, 3598: 1.0, 3600: 2.0, 3601: 8.0, 3602: 1.0, 3603: 5.0, 3605: 4.0, 3607: 2.0, 3608: 1.0, 3609: 1.0, 3610: 1.0, 3611: 4.0, 3612: 1.0, 3616: 141.0, 3621: 5.0, 3622: 3.0, 3623: 10.0, 3627: 9.0, 3629: 1.0, 3631: 7.0, 3632: 1.0, 3633: 1.0, 3634: 1.0, 3637: 5.0, 3638: 2.0, 3639: 7.0, 3641: 13.0, 3642: 1.0, 3643: 1.0, 3644: 2.0, 3646: 3.0, 3647: 2.0, 3648: 1.0, 3649: 2.0, 3653: 3.0, 3654: 6.0, 3655: 2.0, 3657: 25.0, 3658: 3.0, 3659: 14.0, 3660: 5.0, 3661: 5.0, 3665: 2.0, 3666: 4.0, 3667: 1.0, 3668: 41.0, 3669: 5.0, 3671: 5.0, 3672: 1.0, 3673: 1.0, 3675: 3.0, 3676: 7.0, 3678: 1.0, 3679: 11.0, 3680: 1.0, 3681: 1.0, 3683: 3.0, 3684: 4.0, 3685: 10.0, 3686: 1.0, 3687: 1.0, 3690: 12.0, 3691: 1.0, 3692: 2.0, 3693: 2.0, 3694: 1.0, 3695: 2.0, 3697: 3.0, 3698: 2.0, 3704: 1.0, 3705: 4.0, 3706: 2.0, 3707: 1.0, 3714: 8.0, 3715: 10.0, 3717: 16.0, 3718: 2.0, 3719: 30.0, 3720: 1.0, 3722: 5.0, 3726: 2.0, 3732: 1.0, 3734: 20.0, 3735: 1.0, 3736: 1.0, 3738: 1.0, 3740: 1.0, 3741: 1.0, 3742: 2.0, 3743: 1.0, 3744: 6.0, 3745: 5.0, 3746: 2.0, 3748: 2.0, 3749: 3.0, 3750: 3.0, 3751: 2.0, 3752: 2.0, 3756: 1.0, 3757: 2.0, 3758: 1.0, 3760: 3.0, 3761: 2.0, 3762: 2.0, 3763: 6.0, 3764: 6.0, 3765: 1.0, 3767: 2.0, 3769: 22.0, 3770: 3.0, 3772: 21.0, 3775: 1.0, 3776: 8.0, 3778: 3.0, 3779: 5.0, 3781: 1.0, 3782: 7.0, 3783: 9.0, 3784: 1.0, 3785: 1.0, 3787: 1.0, 3788: 1.0, 3789: 1.0, 3791: 1.0, 3792: 19.0, 3793: 126.0, 3797: 1.0, 3798: 20.0, 3799: 17.0, 3800: 1.0, 3801: 30.0, 3803: 2.0, 3804: 9.0, 3807: 1.0, 3811: 1.0, 3815: 4.0, 3816: 2.0, 3818: 1.0, 3819: 1.0, 3820: 1.0, 3821: 1.0, 3824: 2.0, 3825: 3.0, 3826: 2.0, 3828: 2.0, 3832: 4.0, 3833: 3.0, 3834: 1.0, 3835: 5.0, 3836: 4.0, 3838: 12.0, 3841: 1.0, 3844: 1.0, 3845: 2.0, 3846: 1.0, 3848: 1.0, 3849: 11.0, 3850: 1.0, 3851: 1.0, 3852: 1.0, 3860: 1.0, 3864: 10.0, 3865: 1.0, 3866: 6.0, 3867: 1.0, 3869: 2.0, 3871: 10.0, 3873: 6.0, 3874: 1.0, 3877: 4.0, 3878: 2.0, 3880: 3.0, 3881: 6.0, 3883: 8.0, 3884: 54.0, 3886: 2.0, 3888: 6.0, 3889: 1.0, 3890: 1.0, 3892: 1.0, 3895: 2.0, 3896: 1.0, 3899: 5.0, 3900: 2.0, 3903: 9.0, 3904: 1.0, 3905: 20.0, 3906: 1.0, 3907: 1.0, 3908: 5.0, 3909: 3.0, 3910: 1.0, 3912: 1.0, 3915: 1.0, 3916: 3.0, 3917: 2.0, 3918: 3.0, 3919: 7.0, 3921: 5.0, 3922: 2.0, 3923: 6.0, 3925: 1.0, 3926: 4.0, 3927: 5.0, 3928: 20.0, 3929: 3.0, 3930: 3.0, 3931: 1.0, 3934: 1.0, 3935: 10.0, 3936: 10.0, 3937: 18.0, 3938: 3.0, 3939: 2.0, 3942: 1.0, 3943: 1.0, 3945: 2.0, 3947: 4.0, 3948: 9.0, 3950: 7.0, 3952: 1.0, 3953: 1.0, 3954: 2.0, 3957: 3.0, 3958: 3.0, 3959: 1.0, 3961: 2.0, 3963: 29.0, 3967: 1.0, 3968: 4.0, 3969: 1.0, 3970: 13.0, 3972: 1.0, 3974: 6.0, 3976: 3.0, 3977: 1.0, 3982: 2.0, 3983: 1.0, 3984: 13.0, 3985: 5.0, 3987: 1.0, 3988: 15.0, 3989: 3.0, 3992: 3.0, 3993: 1.0, 3994: 2.0, 3997: 8.0, 3998: 2.0, 3999: 1.0, 4002: 3.0, 4003: 64.0, 4004: 1.0, 4006: 1.0, 4007: 1.0, 4009: 7.0, 4010: 5.0, 4012: 17.0, 4014: 1.0, 4016: 5.0, 4017: 17.0, 4022: 7.0, 4023: 7.0, 4026: 6.0, 4028: 1.0, 4031: 1.0, 4035: 1.0, 4036: 1.0, 4037: 3.0, 4041: 6.0, 4042: 1.0, 4043: 1.0, 4045: 7.0, 4046: 1.0, 4047: 10.0, 4050: 5.0, 4056: 1.0, 4060: 1.0, 4061: 1.0, 4062: 4.0, 4064: 4.0, 4065: 1.0, 4066: 5.0, 4067: 1.0, 4070: 1.0, 4071: 2.0, 4072: 2.0, 4073: 4.0, 4080: 3.0, 4081: 3.0, 4082: 5.0, 4084: 1.0, 4089: 1.0, 4090: 14.0, 4092: 2.0, 4093: 3.0, 4094: 1.0, 4096: 5.0, 4097: 2.0, 4099: 11.0, 4100: 21.0, 4101: 9.0, 4103: 39.0, 4104: 2.0, 4105: 6.0, 4106: 16.0, 4107: 3.0, 4109: 1.0, 4112: 1.0, 4114: 4.0, 4118: 11.0, 4120: 1.0, 4121: 2.0, 4123: 4.0, 4124: 1.0, 4125: 3.0, 4126: 2.0, 4127: 4.0, 4128: 8.0, 4129: 1.0, 4132: 11.0, 4133: 3.0, 4134: 1.0, 4136: 1.0, 4137: 5.0, 4138: 1.0, 4141: 4.0, 4142: 2.0, 4146: 10.0, 4147: 6.0, 4148: 3.0, 4152: 3.0, 4153: 12.0, 4154: 1.0, 4155: 2.0, 4156: 2.0, 4159: 1.0, 4160: 2.0, 4161: 2.0, 4164: 36.0, 4165: 18.0, 4166: 3.0, 4167: 6.0, 4168: 1.0, 4169: 5.0, 4170: 2.0, 4171: 1.0, 4173: 3.0, 4174: 1.0, 4175: 7.0, 4177: 1.0, 4178: 2.0, 4180: 3.0, 4186: 4.0, 4187: 1.0, 4188: 15.0, 4190: 4.0, 4193: 3.0, 4194: 1.0, 4195: 5.0, 4198: 2.0, 4202: 1.0, 4203: 1.0, 4204: 1.0, 4207: 1.0, 4208: 1.0, 4209: 46.0, 4212: 1.0, 4214: 2.0, 4216: 8.0, 4217: 3.0, 4218: 1.0, 4219: 5.0, 4220: 5.0, 4222: 4.0, 4223: 1.0, 4224: 3.0, 4225: 1.0, 4227: 1.0, 4228: 6.0, 4229: 2.0, 4230: 3.0, 4231: 2.0, 4233: 1.0, 4235: 5.0, 4239: 2.0, 4244: 1.0, 4246: 24.0, 4249: 1.0, 4253: 1.0, 4254: 18.0, 4255: 7.0, 4256: 4.0, 4257: 1.0, 4260: 4.0, 4261: 4.0, 4262: 9.0, 4264: 1.0, 4266: 1.0, 4268: 5.0, 4269: 1.0, 4272: 4.0, 4274: 1.0, 4275: 7.0, 4277: 2.0, 4278: 1.0, 4282: 2.0, 4286: 4.0, 4288: 10.0, 4290: 7.0, 4293: 5.0, 4295: 1.0, 4296: 2.0, 4299: 16.0, 4302: 1.0, 4303: 2.0, 4304: 1.0, 4305: 1.0, 4306: 4.0, 4307: 1.0, 4309: 4.0, 4313: 8.0, 4314: 1.0, 4315: 66.0, 4316: 15.0, 4317: 1.0, 4318: 3.0, 4321: 1.0, 4322: 4.0, 4323: 9.0, 4324: 4.0, 4325: 1.0, 4326: 1.0, 4327: 2.0, 4328: 1.0, 4332: 4.0, 4333: 1.0, 4337: 1.0, 4338: 12.0, 4341: 1.0, 4343: 1.0, 4345: 1.0, 4348: 2.0, 4349: 5.0, 4350: 2.0, 4352: 1.0, 4355: 3.0, 4356: 1.0, 4362: 3.0, 4363: 2.0, 4364: 1.0, 4365: 1.0, 4366: 2.0, 4367: 2.0, 4369: 1.0, 4370: 2.0, 4372: 1.0, 4373: 2.0, 4375: 1.0, 4377: 7.0, 4378: 2.0, 4379: 1.0, 4380: 4.0, 4381: 2.0, 4383: 2.0, 4385: 79.0, 4386: 4.0, 4387: 5.0, 4389: 11.0, 4390: 1.0, 4391: 1.0, 4392: 8.0, 4393: 5.0, 4396: 1.0, 4397: 1.0, 4398: 1.0, 4400: 1.0, 4401: 2.0, 4403: 4.0, 4404: 2.0, 4405: 4.0, 4410: 3.0, 4411: 1.0, 4413: 1.0, 4414: 1.0, 4416: 8.0, 4417: 4.0, 4420: 3.0, 4423: 2.0, 4425: 2.0, 4428: 1.0, 4429: 1.0, 4430: 2.0, 4432: 1.0, 4435: 4.0, 4437: 4.0, 4438: 1.0, 4439: 3.0, 4441: 1.0, 4443: 4.0, 4444: 3.0, 4445: 1.0, 4447: 1.0, 4449: 3.0, 4450: 1.0, 4452: 4.0, 4455: 1.0, 4456: 3.0, 4457: 1.0, 4460: 6.0, 4461: 1.0, 4462: 22.0, 4463: 3.0, 4465: 1.0, 4466: 1.0, 4468: 2.0, 4469: 24.0, 4470: 2.0, 4471: 2.0, 4475: 1.0, 4476: 1.0, 4480: 1.0, 4481: 2.0, 4483: 4.0, 4484: 7.0, 4485: 2.0, 4487: 5.0, 4488: 36.0, 4489: 1.0, 4490: 1.0, 4492: 4.0, 4494: 3.0, 4495: 3.0, 4497: 3.0, 4499: 1.0, 4502: 1.0, 4503: 10.0, 4506: 4.0, 4507: 1.0, 4508: 1.0, 4510: 19.0, 4511: 1.0, 4512: 2.0, 4513: 1.0, 4515: 2.0, 4516: 2.0, 4517: 7.0, 4518: 2.0, 4520: 3.0, 4522: 1.0, 4525: 1.0, 4527: 7.0, 4529: 15.0, 4531: 4.0, 4532: 15.0, 4533: 1.0, 4535: 3.0, 4536: 1.0, 4540: 11.0, 4541: 3.0, 4545: 7.0, 4546: 1.0, 4547: 3.0, 4550: 1.0, 4554: 1.0, 4556: 2.0, 4559: 1.0, 4565: 4.0, 4566: 1.0, 4569: 3.0, 4570: 1.0, 4572: 1.0, 4573: 1.0, 4575: 3.0, 4577: 1.0, 4578: 3.0, 4579: 5.0, 4580: 2.0, 4581: 2.0, 4583: 92.0, 4584: 10.0, 4585: 2.0, 4586: 1.0, 4587: 3.0, 4589: 1.0, 4590: 1.0, 4591: 3.0, 4593: 8.0, 4596: 1.0, 4598: 2.0, 4599: 3.0, 4602: 1.0, 4603: 1.0, 4604: 1.0, 4606: 2.0, 4607: 1.0, 4608: 1.0, 4610: 1.0, 4611: 2.0, 4612: 1.0, 4614: 1.0, 4616: 1.0, 4619: 4.0, 4620: 2.0, 4622: 1.0, 4623: 1.0, 4625: 4.0, 4626: 3.0, 4631: 2.0, 4632: 4.0, 4636: 8.0, 4639: 3.0, 4640: 2.0, 4641: 1.0, 4642: 1.0, 4643: 2.0, 4646: 16.0, 4647: 2.0, 4648: 3.0, 4649: 2.0, 4651: 35.0, 4652: 1.0, 4653: 8.0, 4654: 13.0, 4655: 4.0, 4657: 6.0, 4659: 1.0, 4661: 2.0, 4662: 1.0, 4664: 9.0, 4666: 2.0, 4668: 4.0, 4672: 20.0, 4674: 6.0, 4676: 12.0, 4677: 2.0, 4678: 1.0, 4679: 8.0, 4680: 5.0, 4681: 4.0, 4684: 3.0, 4686: 2.0, 4688: 1.0, 4689: 1.0, 4690: 6.0, 4691: 4.0, 4693: 2.0, 4694: 1.0, 4695: 1.0, 4697: 4.0, 4699: 1.0, 4700: 2.0, 4703: 1.0, 4705: 5.0, 4707: 6.0, 4708: 1.0, 4710: 5.0, 4712: 1.0, 4713: 2.0, 4714: 3.0, 4715: 1.0, 4718: 1.0, 4721: 1.0, 4723: 2.0, 4724: 2.0, 4725: 1.0, 4726: 2.0, 4730: 1.0, 4732: 1.0, 4733: 47.0, 4735: 3.0, 4736: 44.0, 4738: 7.0, 4742: 16.0, 4743: 13.0, 4744: 12.0, 4748: 1.0, 4750: 3.0, 4754: 4.0, 4760: 3.0, 4761: 6.0, 4765: 35.0, 4766: 5.0, 4768: 9.0, 4769: 1.0, 4770: 4.0, 4771: 1.0, 4772: 5.0, 4773: 1.0, 4775: 2.0, 4776: 1.0, 4779: 3.0, 4782: 4.0, 4783: 2.0, 4784: 1.0, 4789: 15.0, 4790: 1.0, 4792: 7.0, 4793: 1.0, 4795: 1.0, 4800: 2.0, 4801: 5.0, 4802: 4.0, 4803: 1.0, 4805: 2.0, 4807: 1.0, 4808: 2.0, 4809: 1.0, 4812: 1.0, 4813: 8.0, 4814: 1.0, 4816: 2.0, 4817: 3.0, 4819: 1.0, 4822: 1.0, 4823: 1.0, 4824: 4.0, 4825: 1.0, 4827: 1.0, 4829: 2.0, 4830: 1.0, 4833: 19.0, 4835: 2.0, 4836: 102.0, 4838: 20.0, 4839: 1.0, 4840: 1.0, 4841: 1.0, 4843: 1.0, 4844: 1.0, 4845: 1.0, 4846: 1.0, 4848: 1.0, 4849: 1.0, 4852: 2.0, 4853: 2.0, 4854: 1.0, 4855: 6.0, 4860: 6.0, 4861: 7.0, 4862: 2.0, 4864: 1.0, 4867: 25.0, 4869: 1.0, 4871: 1.0, 4872: 10.0, 4882: 2.0, 4883: 2.0, 4884: 3.0, 4886: 1.0, 4899: 4.0, 4900: 3.0, 4901: 1.0, 4902: 1.0, 4904: 20.0, 4907: 1.0, 4909: 7.0, 4912: 19.0, 4914: 3.0, 4916: 14.0, 4918: 4.0, 4920: 1.0, 4921: 1.0, 4924: 1.0, 4926: 4.0, 4928: 1.0, 4929: 2.0, 4931: 4.0, 4932: 3.0, 4933: 2.0, 4934: 1.0, 4939: 5.0, 4944: 3.0, 4946: 6.0, 4949: 1.0, 4950: 2.0, 4952: 4.0, 4953: 4.0, 4957: 1.0, 4961: 1.0, 4962: 133.0, 4964: 1.0, 4966: 2.0, 4967: 1.0, 4969: 3.0, 4970: 4.0, 4976: 2.0, 4978: 2.0, 4980: 1.0, 4984: 5.0, 4986: 1.0, 4989: 41.0, 4991: 1.0, 4992: 1.0, 4993: 1.0, 4997: 2.0, 4998: 1.0, 5000: 1.0, 5001: 1.0, 5002: 1.0, 5004: 1.0, 5006: 4.0, 5007: 6.0, 5009: 1.0, 5011: 8.0, 5012: 2.0, 5013: 2.0, 5015: 2.0, 5016: 3.0, 5017: 1.0, 5019: 3.0, 5020: 10.0, 5021: 1.0, 5022: 1.0, 5023: 2.0, 5024: 2.0, 5026: 2.0, 5027: 1.0, 5030: 7.0, 5032: 1.0, 5034: 1.0, 5036: 1.0, 5037: 1.0, 5042: 1.0, 5044: 1.0, 5045: 4.0, 5051: 4.0, 5055: 2.0, 5056: 4.0, 5058: 6.0, 5059: 1.0, 5061: 1.0, 5065: 1.0, 5066: 3.0, 5067: 4.0, 5069: 9.0, 5071: 3.0, 5072: 1.0, 5073: 9.0, 5076: 7.0, 5077: 2.0, 5082: 1.0, 5083: 1.0, 5085: 1.0, 5086: 5.0, 5087: 22.0, 5088: 8.0, 5090: 3.0, 5091: 4.0, 5093: 2.0, 5094: 51.0, 5095: 1.0, 5096: 1.0, 5097: 5.0, 5098: 5.0, 5100: 9.0, 5101: 2.0, 5103: 8.0, 5105: 2.0, 5107: 4.0, 5108: 5.0, 5110: 6.0, 5111: 1.0, 5120: 6.0, 5124: 3.0, 5126: 4.0, 5127: 26.0, 5128: 2.0, 5129: 5.0, 5132: 1.0, 5135: 1.0, 5136: 1.0, 5138: 1.0, 5141: 5.0, 5143: 2.0, 5144: 2.0, 5146: 2.0, 5147: 1.0, 5148: 1.0, 5149: 1.0, 5150: 1.0, 5151: 1.0, 5152: 2.0, 5153: 1.0, 5154: 4.0, 5156: 25.0, 5158: 1.0, 5160: 2.0, 5171: 5.0, 5179: 3.0, 5180: 10.0, 5183: 3.0, 5184: 7.0, 5186: 3.0, 5187: 7.0, 5188: 7.0, 5189: 1.0, 5190: 10.0, 5191: 4.0, 5193: 3.0, 5196: 8.0, 5199: 1.0, 5202: 3.0, 5203: 3.0, 5207: 1.0, 5208: 1.0, 5211: 1.0, 5213: 3.0, 5214: 1.0, 5216: 1.0, 5217: 2.0, 5218: 17.0, 5221: 1.0, 5223: 2.0, 5224: 1.0, 5227: 27.0, 5228: 2.0, 5232: 2.0, 5233: 5.0, 5234: 14.0, 5236: 2.0, 5239: 1.0, 5240: 1.0, 5243: 1.0, 5245: 2.0, 5246: 4.0, 5248: 1.0, 5249: 98.0, 5251: 1.0, 5253: 7.0, 5255: 1.0, 5257: 2.0, 5258: 1.0, 5268: 1.0, 5269: 1.0, 5270: 2.0, 5275: 1.0, 5276: 3.0, 5277: 16.0, 5282: 5.0, 5285: 6.0, 5287: 3.0, 5290: 6.0, 5292: 1.0, 5293: 5.0, 5298: 1.0, 5300: 1.0, 5301: 1.0, 5304: 2.0, 5306: 11.0, 5308: 1.0, 5310: 1.0, 5313: 1.0, 5315: 4.0, 5316: 1.0, 5317: 3.0, 5318: 4.0, 5322: 2.0, 5323: 1.0, 5325: 2.0, 5326: 3.0, 5331: 9.0, 5335: 3.0, 5336: 2.0, 5339: 1.0, 5342: 1.0, 5344: 1.0, 5345: 8.0, 5346: 1.0, 5347: 3.0, 5348: 1.0, 5349: 4.0, 5350: 2.0, 5354: 1.0, 5355: 1.0, 5356: 3.0, 5357: 15.0, 5358: 1.0, 5359: 1.0, 5361: 15.0, 5363: 2.0, 5364: 1.0, 5367: 15.0, 5370: 6.0, 5372: 2.0, 5373: 12.0, 5374: 2.0, 5375: 2.0, 5378: 1.0, 5383: 1.0, 5386: 1.0, 5389: 1.0, 5393: 1.0, 5394: 1.0, 5398: 1.0, 5402: 1.0, 5403: 9.0, 5409: 5.0, 5411: 1.0, 5413: 3.0, 5416: 1.0, 5421: 3.0, 5424: 1.0, 5426: 11.0, 5427: 3.0, 5429: 1.0, 5430: 1.0, 5434: 37.0, 5436: 2.0, 5437: 3.0, 5438: 1.0, 5441: 1.0, 5442: 1.0, 5443: 20.0, 5444: 7.0, 5446: 2.0, 5447: 2.0, 5448: 2.0, 5449: 2.0, 5450: 7.0, 5454: 20.0, 5455: 7.0, 5458: 1.0, 5459: 1.0, 5464: 1.0, 5465: 1.0, 5467: 2.0, 5470: 2.0, 5471: 1.0, 5478: 2.0, 5479: 11.0, 5480: 2.0, 5482: 8.0, 5483: 13.0, 5486: 1.0, 5487: 3.0, 5488: 3.0, 5490: 1.0, 5491: 5.0, 5494: 61.0, 5495: 1.0, 5496: 1.0, 5499: 2.0, 5500: 5.0, 5502: 3.0, 5503: 1.0, 5509: 1.0, 5510: 1.0, 5512: 2.0, 5513: 1.0, 5514: 1.0, 5518: 11.0, 5521: 5.0, 5523: 2.0, 5524: 2.0, 5525: 1.0, 5526: 1.0, 5528: 1.0, 5530: 2.0, 5532: 5.0, 5533: 7.0, 5534: 2.0, 5539: 1.0, 5540: 2.0, 5541: 11.0, 5542: 1.0, 5543: 4.0, 5544: 3.0, 5545: 1.0, 5546: 1.0, 5552: 3.0, 5555: 1.0, 5556: 4.0, 5557: 3.0, 5559: 5.0, 5560: 1.0, 5561: 2.0, 5563: 1.0, 5564: 5.0, 5566: 5.0, 5567: 26.0, 5568: 1.0, 5569: 2.0, 5572: 2.0, 5574: 7.0, 5576: 3.0, 5577: 2.0, 5578: 1.0, 5579: 1.0, 5580: 2.0, 5581: 1.0, 5582: 1.0, 5585: 3.0, 5586: 3.0, 5587: 5.0, 5589: 2.0, 5590: 5.0, 5592: 33.0, 5596: 1.0, 5597: 1.0, 5599: 3.0, 5600: 1.0, 5603: 1.0, 5605: 2.0, 5609: 1.0, 5610: 2.0, 5612: 9.0, 5614: 6.0, 5616: 4.0, 5620: 1.0, 5622: 7.0, 5624: 2.0, 5625: 1.0, 5628: 1.0, 5630: 2.0, 5631: 1.0, 5632: 4.0, 5637: 1.0, 5641: 3.0, 5642: 1.0, 5643: 7.0, 5645: 1.0, 5647: 1.0, 5648: 1.0, 5649: 1.0, 5650: 62.0, 5651: 3.0, 5653: 1.0, 5655: 2.0, 5657: 1.0, 5660: 1.0, 5662: 35.0, 5664: 1.0, 5666: 6.0, 5667: 1.0, 5669: 1.0, 5670: 1.0, 5672: 6.0, 5675: 4.0, 5677: 1.0, 5678: 1.0, 5679: 2.0, 5680: 1.0, 5684: 6.0, 5685: 2.0, 5686: 2.0, 5687: 1.0, 5689: 1.0, 5694: 5.0, 5695: 1.0, 5698: 1.0, 5701: 1.0, 5708: 9.0, 5711: 1.0, 5714: 10.0, 5715: 1.0, 5716: 4.0, 5717: 6.0, 5718: 2.0, 5721: 1.0, 5724: 1.0, 5726: 3.0, 5728: 78.0, 5733: 11.0, 5735: 1.0, 5744: 3.0, 5746: 1.0, 5749: 3.0, 5750: 7.0, 5751: 4.0, 5753: 1.0, 5757: 2.0, 5758: 1.0, 5760: 1.0, 5761: 3.0, 5762: 2.0, 5763: 5.0, 5764: 2.0, 5765: 1.0, 5768: 6.0, 5769: 2.0, 5770: 1.0, 5771: 1.0, 5773: 1.0, 5777: 1.0, 5779: 6.0, 5780: 2.0, 5783: 1.0, 5788: 3.0, 5791: 4.0, 5795: 4.0, 5797: 9.0, 5798: 2.0, 5799: 3.0, 5800: 11.0, 5802: 1.0, 5803: 7.0, 5805: 12.0, 5806: 2.0, 5813: 4.0, 5814: 15.0, 5816: 1.0, 5817: 1.0, 5823: 5.0, 5824: 1.0, 5825: 1.0, 5827: 2.0, 5828: 1.0, 5829: 1.0, 5834: 7.0, 5836: 1.0, 5837: 1.0, 5838: 10.0, 5840: 1.0, 5841: 2.0, 5842: 1.0, 5843: 2.0, 5844: 1.0, 5849: 3.0, 5850: 5.0, 5851: 3.0, 5854: 93.0, 5856: 3.0, 5857: 1.0, 5858: 1.0, 5862: 1.0, 5863: 4.0, 5864: 1.0, 5865: 4.0, 5871: 2.0, 5873: 30.0, 5875: 5.0, 5877: 7.0, 5881: 3.0, 5883: 2.0, 5889: 6.0, 5893: 3.0, 5894: 47.0, 5895: 2.0, 5896: 4.0, 5900: 2.0, 5902: 4.0, 5904: 1.0, 5905: 1.0, 5913: 16.0, 5915: 7.0, 5917: 19.0, 5920: 1.0, 5921: 5.0, 5922: 1.0, 5924: 8.0, 5927: 2.0, 5929: 3.0, 5930: 1.0, 5931: 3.0, 5933: 4.0, 5934: 2.0, 5935: 1.0, 5936: 2.0, 5938: 2.0, 5940: 3.0, 5941: 14.0, 5942: 13.0, 5946: 3.0, 5949: 1.0, 5950: 1.0, 5951: 1.0, 5952: 1.0, 5959: 1.0, 5960: 31.0, 5962: 7.0, 5964: 1.0, 5965: 2.0, 5967: 2.0, 5969: 1.0, 5971: 2.0, 5972: 2.0, 5983: 1.0, 5987: 1.0, 5989: 5.0, 5991: 6.0, 5993: 11.0, 5995: 6.0, 5997: 6.0, 5998: 1.0, 5999: 1.0, 6001: 1.0, 6002: 1.0, 6004: 3.0, 6005: 1.0, 6006: 1.0, 6007: 1.0, 6010: 3.0, 6012: 38.0, 6013: 23.0, 6014: 8.0, 6015: 1.0, 6016: 14.0, 6017: 2.0, 6019: 2.0, 6020: 1.0, 6025: 2.0, 6027: 9.0, 6029: 1.0, 6030: 15.0, 6034: 3.0, 6035: 5.0, 6039: 2.0, 6041: 6.0, 6043: 13.0, 6046: 1.0, 6047: 2.0, 6049: 1.0, 6051: 1.0, 6053: 1.0, 6055: 1.0, 6057: 3.0, 6062: 2.0, 6063: 2.0, 6065: 1.0, 6069: 2.0, 6070: 3.0, 6072: 4.0, 6073: 1.0, 6075: 1.0, 6076: 1.0, 6077: 2.0, 6078: 1.0, 6079: 9.0, 6081: 1.0, 6083: 2.0, 6084: 2.0, 6085: 1.0, 6086: 2.0, 6091: 1.0, 6093: 1.0, 6094: 1.0, 6096: 1.0, 6098: 1.0, 6099: 1.0, 6101: 2.0, 6104: 1.0, 6105: 1.0, 6111: 3.0, 6112: 3.0, 6117: 1.0, 6120: 21.0, 6121: 1.0, 6130: 1.0, 6131: 1.0, 6133: 6.0, 6137: 3.0, 6138: 2.0, 6140: 1.0, 6142: 2.0, 6143: 3.0, 6146: 1.0, 6147: 4.0, 6149: 2.0, 6151: 3.0, 6152: 5.0, 6156: 7.0, 6157: 1.0, 6158: 1.0, 6159: 2.0, 6160: 1.0, 6163: 1.0, 6172: 2.0, 6176: 14.0, 6177: 1.0, 6178: 4.0, 6182: 18.0, 6185: 1.0, 6186: 1.0, 6188: 4.0, 6192: 6.0, 6194: 1.0, 6195: 1.0, 6198: 3.0, 6200: 1.0, 6201: 1.0, 6204: 5.0, 6205: 2.0, 6210: 12.0, 6213: 1.0, 6214: 1.0, 6215: 1.0, 6216: 1.0, 6219: 2.0, 6220: 1.0, 6222: 1.0, 6229: 12.0, 6230: 2.0, 6238: 1.0, 6239: 4.0, 6240: 6.0, 6243: 13.0, 6245: 1.0, 6247: 36.0, 6248: 3.0, 6249: 4.0, 6252: 6.0, 6254: 2.0, 6256: 1.0, 6257: 12.0, 6260: 12.0, 6263: 1.0, 6265: 3.0, 6273: 3.0, 6275: 6.0, 6276: 1.0, 6278: 4.0, 6280: 2.0, 6283: 4.0, 6287: 1.0, 6289: 4.0, 6294: 1.0, 6295: 2.0, 6296: 1.0, 6297: 1.0, 6299: 1.0, 6300: 2.0, 6303: 2.0, 6305: 2.0, 6306: 2.0, 6308: 1.0, 6311: 1.0, 6320: 1.0, 6323: 3.0, 6325: 1.0, 6326: 2.0, 6328: 3.0, 6329: 1.0, 6333: 1.0, 6337: 1.0, 6338: 1.0, 6340: 1.0, 6342: 3.0, 6344: 1.0, 6346: 4.0, 6347: 8.0, 6351: 5.0, 6358: 4.0, 6359: 3.0, 6361: 5.0, 6362: 1.0, 6363: 3.0, 6364: 1.0, 6365: 2.0, 6367: 2.0, 6368: 2.0, 6369: 2.0, 6370: 2.0, 6371: 5.0, 6374: 1.0, 6377: 1.0, 6380: 4.0, 6381: 1.0, 6383: 2.0, 6384: 1.0, 6392: 7.0, 6395: 9.0, 6399: 4.0, 6402: 1.0, 6403: 1.0, 6404: 1.0, 6405: 9.0, 6406: 1.0, 6407: 32.0, 6408: 2.0, 6410: 4.0, 6411: 1.0, 6413: 9.0, 6415: 7.0, 6416: 1.0, 6421: 3.0, 6424: 1.0, 6425: 3.0, 6426: 5.0, 6434: 2.0, 6435: 1.0, 6439: 2.0, 6440: 2.0, 6442: 12.0, 6443: 4.0, 6446: 1.0, 6449: 1.0, 6450: 2.0, 6451: 8.0, 6453: 1.0, 6454: 5.0, 6457: 3.0, 6460: 1.0, 6462: 2.0, 6463: 1.0, 6465: 1.0, 6466: 7.0, 6467: 1.0, 6468: 5.0, 6469: 1.0, 6473: 2.0, 6474: 3.0, 6475: 3.0, 6478: 24.0, 6479: 1.0, 6480: 1.0, 6483: 1.0, 6484: 6.0, 6486: 1.0, 6487: 1.0, 6488: 11.0, 6490: 1.0, 6491: 5.0, 6497: 1.0, 6501: 1.0, 6503: 1.0, 6506: 1.0, 6510: 59.0, 6511: 1.0, 6512: 2.0, 6514: 2.0, 6516: 3.0, 6518: 1.0, 6521: 15.0, 6528: 1.0, 6529: 4.0, 6534: 3.0, 6535: 2.0, 6539: 1.0, 6540: 4.0, 6541: 13.0, 6542: 1.0, 6543: 1.0, 6544: 1.0, 6547: 1.0, 6548: 17.0, 6549: 1.0, 6550: 1.0, 6551: 1.0, 6553: 3.0, 6554: 1.0, 6556: 1.0, 6559: 13.0, 6560: 19.0, 6562: 1.0, 6563: 5.0, 6566: 3.0, 6568: 2.0, 6569: 1.0, 6571: 1.0, 6572: 1.0, 6574: 3.0, 6578: 2.0, 6579: 1.0, 6587: 5.0, 6588: 1.0, 6589: 14.0, 6591: 1.0, 6592: 2.0, 6593: 2.0, 6595: 4.0, 6599: 1.0, 6600: 1.0, 6602: 1.0, 6604: 1.0, 6605: 1.0, 6606: 8.0, 6608: 14.0, 6610: 13.0, 6612: 1.0, 6613: 16.0, 6615: 7.0, 6616: 1.0, 6617: 1.0, 6620: 1.0, 6623: 14.0, 6627: 10.0, 6629: 3.0, 6631: 2.0, 6639: 3.0, 6640: 4.0, 6641: 1.0, 6643: 1.0, 6645: 1.0, 6646: 1.0, 6647: 2.0, 6651: 1.0, 6652: 1.0, 6654: 7.0, 6655: 5.0, 6657: 1.0, 6658: 2.0, 6662: 4.0, 6665: 28.0, 6667: 2.0, 6673: 1.0, 6675: 1.0, 6676: 1.0, 6678: 7.0, 6682: 2.0, 6684: 3.0, 6687: 1.0, 6694: 6.0, 6698: 2.0, 6702: 1.0, 6705: 1.0, 6711: 2.0, 6712: 3.0, 6713: 1.0, 6718: 5.0, 6719: 1.0, 6725: 3.0, 6728: 1.0, 6731: 1.0, 6736: 3.0, 6738: 1.0, 6743: 1.0, 6744: 2.0, 6745: 1.0, 6747: 4.0, 6749: 1.0, 6750: 3.0, 6756: 1.0, 6757: 5.0, 6760: 1.0, 6761: 5.0, 6762: 1.0, 6767: 2.0, 6768: 9.0, 6769: 7.0, 6770: 1.0, 6771: 5.0, 6772: 2.0, 6774: 7.0, 6776: 1.0, 6777: 2.0, 6779: 2.0, 6782: 5.0, 6783: 8.0, 6786: 2.0, 6788: 1.0, 6789: 2.0, 6790: 1.0, 6791: 1.0, 6792: 1.0, 6793: 9.0, 6794: 9.0, 6795: 2.0, 6797: 1.0, 6799: 2.0, 6802: 2.0, 6803: 1.0, 6807: 1.0, 6810: 9.0, 6813: 4.0, 6814: 2.0, 6816: 2.0, 6818: 11.0, 6819: 4.0, 6821: 1.0, 6824: 21.0, 6826: 3.0, 6827: 1.0, 6833: 4.0, 6838: 2.0, 6843: 1.0, 6844: 1.0, 6847: 2.0, 6850: 2.0, 6851: 1.0, 6854: 2.0, 6855: 1.0, 6856: 4.0, 6858: 1.0, 6861: 1.0, 6862: 1.0, 6864: 2.0, 6868: 24.0, 6869: 3.0, 6870: 2.0, 6875: 5.0, 6876: 2.0, 6883: 2.0, 6885: 1.0, 6887: 3.0, 6888: 1.0, 6890: 10.0, 6893: 1.0, 6894: 4.0, 6895: 1.0, 6897: 2.0, 6899: 1.0, 6904: 1.0, 6906: 4.0, 6907: 16.0, 6908: 1.0, 6910: 1.0, 6913: 1.0, 6915: 2.0, 6918: 1.0, 6921: 4.0, 6922: 1.0, 6923: 10.0, 6926: 5.0, 6931: 1.0, 6932: 2.0, 6933: 14.0, 6935: 1.0, 6936: 16.0, 6940: 6.0, 6941: 1.0, 6942: 1.0, 6944: 15.0, 6945: 4.0, 6947: 1.0, 6948: 1.0, 6951: 2.0, 6955: 2.0, 6957: 2.0, 6958: 39.0, 6967: 3.0, 6968: 1.0, 6972: 12.0, 6976: 1.0, 6978: 2.0, 6980: 14.0, 6984: 4.0, 6987: 1.0, 6990: 2.0, 6994: 7.0, 6996: 4.0, 7005: 1.0, 7007: 1.0, 7010: 1.0, 7011: 1.0, 7013: 2.0, 7014: 2.0, 7015: 1.0, 7017: 1.0, 7019: 3.0, 7023: 1.0, 7024: 3.0, 7033: 3.0, 7038: 3.0, 7039: 5.0, 7042: 2.0, 7044: 2.0, 7046: 1.0, 7048: 10.0, 7052: 8.0, 7053: 4.0, 7058: 1.0, 7060: 25.0, 7062: 1.0, 7066: 7.0, 7067: 4.0, 7071: 3.0, 7074: 4.0, 7077: 2.0, 7081: 1.0, 7083: 1.0, 7084: 1.0, 7085: 1.0, 7086: 1.0, 7087: 3.0, 7089: 1.0, 7094: 1.0, 7095: 3.0, 7100: 10.0, 7102: 1.0, 7107: 2.0, 7108: 1.0, 7109: 6.0, 7111: 1.0, 7112: 1.0, 7115: 2.0, 7116: 1.0, 7117: 1.0, 7118: 1.0, 7122: 1.0, 7123: 2.0, 7126: 1.0, 7129: 8.0, 7134: 4.0, 7135: 2.0, 7137: 1.0, 7139: 1.0, 7140: 1.0, 7141: 1.0, 7142: 28.0, 7144: 3.0, 7146: 3.0, 7150: 1.0, 7152: 1.0, 7153: 1.0, 7155: 21.0, 7164: 2.0, 7165: 7.0, 7168: 1.0, 7170: 2.0, 7172: 8.0, 7177: 1.0, 7178: 111.0, 7185: 2.0, 7187: 1.0, 7189: 1.0, 7191: 5.0, 7192: 1.0, 7197: 1.0, 7199: 1.0, 7200: 2.0, 7204: 1.0, 7208: 1.0, 7209: 1.0, 7210: 1.0, 7212: 1.0, 7213: 14.0, 7215: 1.0, 7217: 8.0, 7218: 2.0, 7221: 2.0, 7222: 4.0, 7224: 1.0, 7230: 1.0, 7232: 1.0, 7235: 1.0, 7237: 9.0, 7238: 2.0, 7240: 10.0, 7246: 1.0, 7250: 2.0, 7251: 1.0, 7256: 1.0, 7257: 1.0, 7262: 5.0, 7266: 1.0, 7267: 6.0, 7269: 2.0, 7271: 1.0, 7273: 2.0, 7275: 3.0, 7276: 1.0, 7282: 3.0, 7283: 1.0, 7285: 1.0, 7286: 1.0, 7287: 1.0, 7291: 1.0, 7292: 5.0, 7295: 2.0, 7296: 1.0, 7298: 3.0, 7304: 53.0, 7306: 1.0, 7307: 1.0, 7309: 13.0, 7314: 1.0, 7318: 19.0, 7321: 2.0, 7326: 10.0, 7333: 1.0, 7335: 1.0, 7336: 2.0, 7339: 2.0, 7344: 7.0, 7345: 26.0, 7346: 2.0, 7347: 1.0, 7349: 1.0, 7368: 2.0, 7369: 3.0, 7372: 5.0, 7376: 2.0, 7377: 2.0, 7378: 3.0, 7379: 2.0, 7385: 5.0, 7386: 7.0, 7387: 3.0, 7392: 2.0, 7393: 1.0, 7397: 24.0, 7400: 2.0, 7401: 1.0, 7402: 2.0, 7403: 1.0, 7405: 3.0, 7407: 3.0, 7408: 8.0, 7411: 15.0, 7421: 2.0, 7424: 1.0, 7425: 12.0, 7426: 1.0, 7427: 4.0, 7435: 1.0, 7441: 2.0, 7443: 1.0, 7444: 6.0, 7446: 3.0, 7447: 1.0, 7451: 12.0, 7455: 1.0, 7457: 2.0, 7459: 1.0, 7463: 1.0, 7465: 10.0, 7466: 1.0, 7477: 2.0, 7482: 1.0, 7485: 1.0, 7489: 4.0, 7491: 1.0, 7492: 6.0, 7493: 1.0, 7494: 1.0, 7496: 10.0, 7499: 1.0, 7500: 2.0, 7503: 10.0, 7505: 3.0, 7514: 4.0, 7517: 1.0, 7518: 2.0, 7524: 1.0, 7526: 7.0, 7528: 7.0, 7530: 3.0, 7534: 3.0, 7536: 1.0, 7542: 1.0, 7543: 2.0, 7549: 6.0, 7550: 2.0, 7552: 1.0, 7556: 2.0, 7558: 36.0, 7562: 2.0, 7563: 2.0, 7564: 24.0, 7566: 19.0, 7570: 1.0, 7575: 1.0, 7578: 2.0, 7579: 4.0, 7584: 3.0, 7592: 1.0, 7594: 3.0, 7595: 1.0, 7604: 2.0, 7608: 2.0, 7611: 1.0, 7612: 2.0, 7616: 2.0, 7617: 2.0, 7620: 1.0, 7623: 5.0, 7631: 2.0, 7633: 1.0, 7634: 2.0, 7638: 1.0, 7647: 1.0, 7649: 3.0, 7650: 1.0, 7656: 41.0, 7657: 21.0, 7662: 4.0, 7664: 4.0, 7665: 3.0, 7667: 1.0, 7668: 2.0, 7669: 3.0, 7670: 1.0, 7672: 1.0, 7676: 1.0, 7678: 2.0, 7679: 1.0, 7680: 1.0, 7684: 1.0, 7685: 1.0, 7687: 1.0, 7688: 1.0, 7689: 3.0, 7691: 3.0, 7692: 10.0, 7697: 1.0, 7698: 35.0, 7701: 2.0, 7703: 2.0, 7704: 1.0, 7707: 1.0, 7708: 2.0, 7710: 1.0, 7712: 1.0, 7715: 28.0, 7718: 2.0, 7720: 1.0, 7722: 2.0, 7724: 2.0, 7732: 2.0, 7737: 41.0, 7738: 3.0, 7740: 1.0, 7746: 40.0, 7747: 2.0, 7751: 1.0, 7752: 2.0, 7753: 1.0, 7754: 1.0, 7755: 7.0, 7758: 2.0, 7760: 1.0, 7761: 4.0, 7766: 2.0, 7769: 1.0, 7770: 2.0, 7771: 1.0, 7773: 1.0, 7774: 3.0, 7778: 3.0, 7779: 1.0, 7781: 1.0, 7782: 1.0, 7783: 1.0, 7784: 1.0, 7790: 1.0, 7795: 2.0, 7796: 1.0, 7800: 1.0, 7801: 1.0, 7802: 3.0, 7804: 4.0, 7805: 1.0, 7809: 1.0, 7811: 1.0, 7814: 2.0, 7815: 3.0, 7816: 1.0, 7818: 1.0, 7819: 1.0, 7820: 2.0, 7823: 1.0, 7829: 1.0, 7833: 1.0, 7835: 3.0, 7837: 3.0, 7838: 5.0, 7846: 3.0, 7847: 2.0, 7852: 1.0, 7854: 1.0, 7855: 1.0, 7857: 5.0, 7859: 14.0, 7860: 1.0, 7863: 1.0, 7866: 2.0, 7870: 1.0, 7872: 1.0, 7873: 2.0, 7874: 1.0, 7875: 2.0, 7877: 1.0, 7886: 2.0, 7894: 1.0, 7897: 2.0, 7903: 1.0, 7904: 2.0, 7907: 2.0, 7908: 2.0, 7914: 4.0, 7915: 1.0, 7925: 1.0, 7934: 1.0, 7936: 1.0, 7940: 5.0, 7942: 9.0, 7943: 1.0, 7945: 1.0, 7946: 1.0, 7957: 1.0, 7963: 1.0, 7965: 6.0, 7968: 3.0, 7973: 2.0, 7975: 2.0, 7976: 1.0, 7985: 2.0, 7988: 11.0, 7989: 2.0, 7992: 9.0, 7995: 3.0, 8002: 1.0, 8003: 6.0, 8013: 3.0, 8020: 12.0, 8025: 8.0, 8028: 3.0, 8034: 2.0, 8037: 6.0, 8042: 1.0, 8047: 1.0, 8049: 1.0, 8055: 1.0, 8059: 1.0, 8061: 1.0, 8062: 1.0, 8065: 2.0, 8067: 1.0, 8069: 4.0, 8070: 1.0, 8071: 1.0, 8075: 2.0, 8076: 1.0, 8083: 1.0, 8091: 1.0, 8102: 1.0, 8103: 1.0, 8104: 1.0, 8105: 1.0, 8107: 2.0, 8111: 2.0, 8113: 1.0, 8115: 9.0, 8116: 2.0, 8118: 15.0, 8120: 2.0, 8123: 1.0, 8127: 3.0, 8133: 1.0, 8137: 1.0, 8138: 11.0, 8140: 1.0, 8141: 5.0, 8142: 2.0, 8143: 2.0, 8145: 1.0, 8147: 1.0, 8152: 13.0, 8154: 1.0, 8157: 6.0, 8159: 2.0, 8161: 1.0, 8163: 15.0, 8166: 1.0, 8170: 2.0, 8172: 1.0, 8173: 2.0, 8175: 7.0, 8185: 2.0, 8193: 4.0, 8194: 6.0, 8195: 1.0, 8196: 2.0, 8199: 1.0, 8204: 3.0, 8209: 24.0, 8210: 2.0, 8221: 1.0, 8222: 4.0, 8224: 1.0, 8232: 1.0, 8234: 1.0, 8235: 2.0, 8236: 6.0, 8238: 1.0, 8241: 3.0, 8244: 2.0, 8245: 1.0, 8247: 1.0, 8250: 3.0, 8253: 1.0, 8254: 2.0, 8257: 6.0, 8258: 3.0, 8259: 2.0, 8260: 2.0, 8264: 2.0, 8265: 1.0, 8266: 1.0, 8273: 6.0, 8279: 1.0, 8282: 6.0, 8285: 1.0, 8286: 10.0, 8288: 2.0, 8289: 2.0, 8294: 1.0, 8300: 17.0, 8303: 1.0, 8310: 1.0, 8311: 2.0, 8312: 3.0, 8314: 20.0, 8317: 1.0, 8318: 2.0, 8319: 1.0, 8320: 2.0, 8327: 1.0, 8329: 1.0, 8331: 16.0, 8333: 3.0, 8342: 2.0, 8343: 4.0, 8347: 2.0, 8350: 1.0, 8351: 1.0, 8352: 1.0, 8353: 1.0, 8355: 1.0, 8356: 1.0, 8360: 6.0, 8361: 1.0, 8362: 3.0, 8363: 3.0, 8366: 3.0, 8369: 1.0, 8371: 3.0, 8372: 2.0, 8374: 1.0, 8387: 1.0, 8390: 4.0, 8395: 1.0, 8396: 1.0, 8397: 1.0, 8399: 1.0, 8401: 7.0, 8403: 1.0, 8406: 3.0, 8408: 4.0, 8410: 8.0, 8415: 1.0, 8416: 1.0, 8419: 1.0, 8420: 3.0, 8424: 1.0, 8426: 1.0, 8428: 2.0, 8430: 10.0, 8433: 3.0, 8435: 1.0, 8437: 1.0, 8441: 1.0, 8442: 1.0, 8443: 2.0, 8445: 1.0, 8446: 24.0, 8451: 11.0, 8456: 4.0, 8460: 2.0, 8461: 1.0, 8467: 2.0, 8469: 4.0, 8470: 16.0, 8475: 3.0, 8477: 1.0, 8478: 1.0, 8481: 2.0, 8485: 2.0, 8492: 4.0, 8494: 1.0, 8497: 1.0, 8500: 1.0, 8501: 1.0, 8502: 2.0, 8505: 3.0, 8507: 5.0, 8508: 3.0, 8510: 1.0, 8511: 28.0, 8515: 1.0, 8516: 2.0, 8521: 1.0, 8527: 2.0, 8529: 2.0, 8531: 2.0, 8532: 1.0, 8536: 1.0, 8540: 2.0, 8542: 13.0, 8543: 1.0, 8546: 9.0, 8552: 2.0, 8557: 6.0, 8558: 1.0, 8559: 1.0, 8562: 10.0, 8566: 19.0, 8569: 9.0, 8573: 1.0, 8582: 3.0, 8591: 1.0, 8592: 1.0, 8597: 2.0, 8601: 2.0, 8602: 10.0, 8608: 1.0, 8612: 2.0, 8621: 4.0, 8622: 1.0, 8627: 2.0, 8639: 1.0, 8640: 3.0, 8641: 1.0, 8647: 1.0, 8651: 1.0, 8653: 1.0, 8656: 4.0, 8660: 4.0, 8675: 1.0, 8690: 2.0, 8693: 1.0, 8696: 2.0, 8705: 1.0, 8706: 3.0, 8707: 1.0, 8714: 1.0, 8715: 3.0, 8716: 1.0, 8717: 1.0, 8725: 2.0, 8726: 3.0, 8732: 28.0, 8735: 1.0, 8736: 3.0, 8737: 1.0, 8740: 1.0, 8741: 1.0, 8742: 4.0, 8744: 1.0, 8745: 4.0, 8753: 3.0, 8755: 30.0, 8757: 1.0, 8758: 10.0, 8763: 2.0, 8766: 1.0, 8767: 1.0, 8768: 1.0, 8772: 1.0, 8773: 2.0, 8775: 3.0, 8778: 1.0, 8782: 1.0, 8784: 1.0, 8792: 1.0, 8793: 7.0, 8794: 1.0, 8795: 1.0, 8796: 2.0, 8797: 1.0, 8799: 1.0, 8803: 2.0, 8807: 4.0, 8810: 1.0, 8813: 1.0, 8818: 1.0, 8823: 4.0, 8827: 1.0, 8832: 5.0, 8833: 1.0, 8834: 1.0, 8836: 7.0, 8843: 2.0, 8844: 1.0, 8847: 1.0, 8848: 1.0, 8849: 8.0, 8851: 2.0, 8852: 8.0, 8853: 2.0, 8855: 1.0, 8859: 3.0, 8862: 1.0, 8863: 4.0, 8867: 18.0, 8873: 1.0, 8877: 1.0, 8878: 1.0, 8884: 3.0, 8885: 2.0, 8886: 2.0, 8887: 1.0, 8892: 3.0, 8895: 1.0, 8904: 9.0, 8908: 7.0, 8915: 2.0, 8918: 1.0, 8922: 1.0, 8924: 1.0, 8928: 1.0, 8932: 1.0, 8934: 1.0, 8935: 3.0, 8937: 13.0, 8944: 5.0, 8947: 19.0, 8950: 2.0, 8953: 1.0, 8962: 1.0, 8963: 1.0, 8964: 2.0, 8970: 1.0, 8971: 4.0, 8972: 2.0, 8975: 1.0, 8978: 1.0, 8980: 1.0, 8993: 2.0, 8995: 3.0, 8999: 2.0, 9000: 2.0, 9005: 1.0, 9006: 1.0, 9011: 6.0, 9012: 3.0, 9016: 1.0, 9018: 1.0, 9025: 2.0, 9028: 1.0, 9036: 1.0, 9038: 4.0, 9044: 4.0, 9048: 2.0, 9049: 7.0, 9051: 6.0, 9053: 1.0, 9058: 62.0, 9063: 14.0, 9070: 39.0, 9072: 2.0, 9073: 38.0, 9077: 1.0, 9078: 1.0, 9080: 5.0, 9081: 70.0, 9082: 2.0, 9086: 4.0, 9088: 7.0, 9091: 5.0, 9094: 6.0, 9098: 1.0, 9103: 1.0, 9105: 3.0, 9110: 1.0, 9112: 1.0, 9116: 3.0, 9128: 3.0, 9136: 1.0, 9137: 1.0, 9138: 1.0, 9144: 1.0, 9148: 5.0, 9149: 2.0, 9152: 2.0, 9153: 3.0, 9154: 2.0, 9155: 1.0, 9158: 2.0, 9162: 2.0, 9163: 43.0, 9170: 1.0, 9173: 49.0, 9175: 1.0, 9177: 1.0, 9179: 4.0, 9182: 3.0, 9183: 4.0, 9184: 2.0, 9185: 2.0, 9187: 1.0, 9188: 1.0, 9192: 2.0, 9200: 2.0, 9201: 5.0, 9206: 1.0, 9209: 2.0, 9210: 3.0, 9213: 1.0, 9215: 2.0, 9217: 3.0, 9221: 1.0, 9222: 1.0, 9225: 3.0, 9227: 1.0, 9228: 1.0, 9231: 2.0, 9234: 1.0, 9235: 1.0, 9238: 2.0, 9239: 3.0, 9247: 12.0, 9250: 2.0, 9253: 2.0, 9257: 8.0, 9259: 1.0, 9263: 1.0, 9271: 5.0, 9281: 1.0, 9284: 1.0, 9285: 1.0, 9286: 1.0, 9291: 9.0, 9293: 2.0, 9294: 92.0, 9296: 13.0, 9303: 19.0, 9305: 7.0, 9306: 2.0, 9312: 1.0, 9313: 2.0, 9321: 6.0, 9323: 15.0, 9330: 11.0, 9336: 2.0, 9337: 1.0, 9344: 1.0, 9349: 1.0, 9354: 1.0, 9356: 2.0, 9359: 1.0, 9361: 4.0, 9362: 2.0, 9363: 1.0, 9366: 17.0, 9382: 1.0, 9393: 1.0, 9394: 1.0, 9395: 1.0, 9396: 1.0, 9397: 1.0, 9405: 2.0, 9406: 1.0, 9407: 1.0, 9409: 1.0, 9414: 1.0, 9416: 1.0, 9417: 1.0, 9418: 2.0, 9420: 2.0, 9421: 38.0, 9422: 1.0, 9430: 9.0, 9435: 1.0, 9439: 1.0, 9446: 1.0, 9455: 1.0, 9456: 2.0, 9460: 3.0, 9462: 5.0, 9465: 2.0, 9471: 1.0, 9472: 1.0, 9475: 1.0, 9477: 1.0, 9480: 1.0, 9490: 1.0, 9493: 1.0, 9496: 2.0, 9498: 9.0, 9499: 23.0, 9501: 1.0, 9508: 1.0, 9510: 2.0, 9512: 1.0, 9513: 2.0, 9515: 14.0, 9520: 4.0, 9523: 2.0, 9527: 2.0, 9529: 2.0, 9530: 1.0, 9531: 93.0, 9533: 4.0, 9538: 1.0, 9541: 1.0, 9543: 2.0, 9544: 20.0, 9556: 2.0, 9558: 1.0, 9564: 1.0, 9567: 1.0, 9568: 1.0, 9570: 1.0, 9572: 2.0, 9577: 1.0, 9578: 2.0, 9579: 2.0, 9583: 1.0, 9592: 8.0, 9594: 1.0, 9606: 1.0, 9610: 1.0, 9613: 1.0, 9622: 1.0, 9624: 2.0, 9625: 2.0, 9626: 1.0, 9627: 1.0, 9628: 2.0, 9630: 1.0, 9632: 1.0, 9639: 3.0, 9641: 4.0, 9647: 1.0, 9649: 1.0, 9651: 2.0, 9652: 1.0, 9653: 1.0, 9657: 1.0, 9658: 2.0, 9660: 1.0, 9661: 1.0, 9664: 2.0, 9667: 3.0, 9672: 1.0, 9675: 3.0, 9678: 1.0, 9679: 1.0, 9691: 9.0, 9692: 1.0, 9699: 5.0, 9700: 15.0, 9702: 2.0, 9703: 1.0, 9705: 2.0, 9710: 5.0, 9711: 2.0, 9713: 1.0, 9714: 3.0, 9716: 8.0, 9718: 1.0, 9725: 8.0, 9726: 1.0, 9727: 1.0, 9728: 1.0, 9730: 1.0, 9732: 1.0, 9733: 1.0, 9734: 1.0, 9737: 1.0, 9741: 1.0, 9744: 1.0, 9750: 1.0, 9757: 1.0, 9760: 1.0, 9761: 1.0, 9765: 1.0, 9766: 1.0, 9767: 1.0, 9769: 2.0, 9771: 2.0, 9772: 2.0, 9775: 1.0, 9779: 1.0, 9784: 2.0, 9788: 1.0, 9791: 1.0, 9792: 4.0, 9795: 2.0, 9798: 1.0, 9805: 1.0, 9811: 2.0, 9814: 2.0, 9818: 4.0, 9825: 1.0, 9840: 2.0, 9843: 1.0, 9848: 1.0, 9850: 2.0, 9851: 3.0, 9853: 6.0, 9854: 1.0, 9855: 3.0, 9858: 1.0, 9860: 3.0, 9864: 1.0, 9866: 31.0, 9870: 2.0, 9875: 1.0, 9878: 1.0, 9885: 1.0, 9887: 4.0, 9895: 1.0, 9901: 1.0, 9909: 3.0, 9912: 31.0, 9914: 1.0, 9920: 2.0, 9923: 6.0, 9933: 28.0, 9934: 1.0, 9940: 1.0, 9942: 1.0, 9943: 1.0, 9944: 1.0, 9950: 1.0, 9954: 2.0, 9955: 6.0, 9961: 8.0, 9970: 9.0, 9972: 3.0, 9973: 3.0, 9976: 2.0, 9978: 13.0, 9992: 8.0, 9993: 5.0, 9997: 1.0, 10004: 1.0, 10005: 6.0, 10011: 3.0, 10016: 2.0, 10023: 2.0, 10025: 9.0, 10028: 4.0, 10032: 1.0, 10034: 2.0, 10035: 3.0, 10040: 3.0, 10041: 1.0, 10042: 1.0, 10046: 2.0, 10048: 1.0, 10049: 8.0, 10050: 1.0, 10052: 5.0, 10053: 4.0, 10060: 9.0, 10065: 1.0, 10070: 1.0, 10072: 2.0, 10075: 1.0, 10076: 1.0, 10083: 2.0, 10084: 1.0, 10087: 6.0, 10088: 2.0, 10089: 1.0, 10090: 1.0, 10101: 2.0, 10107: 1.0, 10108: 1.0, 10110: 2.0, 10114: 2.0, 10115: 3.0, 10116: 1.0, 10117: 1.0, 10127: 53.0, 10130: 1.0, 10132: 5.0, 10133: 1.0, 10136: 7.0, 10141: 1.0, 10148: 8.0, 10150: 15.0, 10155: 3.0, 10158: 1.0, 10160: 11.0, 10162: 1.0, 10173: 4.0, 10174: 3.0, 10175: 1.0, 10180: 1.0, 10181: 4.0, 10182: 1.0, 10183: 1.0, 10184: 1.0, 10185: 1.0, 10188: 1.0, 10190: 3.0, 10193: 1.0, 10195: 1.0, 10199: 1.0, 10209: 2.0, 10216: 2.0, 10222: 6.0, 10225: 1.0, 10234: 2.0, 10237: 3.0, 10242: 8.0, 10246: 1.0, 10247: 4.0, 10249: 16.0, 10252: 1.0, 10253: 12.0, 10254: 3.0, 10259: 11.0, 10262: 4.0, 10271: 1.0, 10281: 3.0, 10292: 1.0, 10293: 3.0, 10294: 2.0, 10300: 2.0, 10304: 4.0, 10306: 1.0, 10307: 1.0, 10312: 1.0, 10318: 1.0, 10320: 2.0, 10326: 21.0, 10333: 1.0, 10341: 2.0, 10345: 6.0, 10347: 1.0, 10350: 3.0, 10353: 9.0, 10354: 1.0, 10356: 1.0, 10361: 5.0, 10365: 1.0, 10366: 1.0, 10368: 1.0, 10370: 4.0, 10374: 2.0, 10375: 1.0, 10378: 1.0, 10381: 1.0, 10387: 1.0, 10391: 5.0, 10403: 10.0, 10407: 1.0, 10410: 1.0, 10411: 4.0, 10415: 1.0, 10422: 1.0, 10424: 1.0, 10430: 2.0, 10431: 1.0, 10435: 7.0, 10439: 1.0, 10440: 1.0, 10442: 1.0, 10445: 1.0, 10455: 2.0, 10456: 1.0, 10460: 1.0, 10461: 1.0, 10462: 1.0, 10469: 1.0, 10476: 2.0, 10477: 1.0, 10481: 1.0, 10482: 1.0, 10483: 1.0, 10486: 3.0, 10490: 6.0, 10502: 1.0, 10503: 1.0, 10504: 1.0, 10506: 11.0, 10508: 7.0, 10511: 2.0, 10515: 1.0, 10523: 3.0, 10526: 1.0, 10537: 1.0, 10544: 1.0, 10551: 1.0, 10554: 2.0, 10556: 6.0, 10568: 1.0, 10569: 1.0, 10570: 1.0, 10574: 11.0, 10575: 1.0, 10580: 1.0, 10583: 2.0, 10585: 1.0, 10588: 1.0, 10593: 1.0, 10599: 2.0, 10602: 5.0, 10604: 1.0, 10606: 3.0, 10609: 1.0, 10615: 1.0, 10618: 1.0, 10630: 1.0, 10633: 1.0, 10634: 6.0, 10640: 1.0, 10644: 14.0, 10647: 1.0, 10649: 1.0, 10654: 5.0, 10659: 2.0, 10660: 8.0, 10661: 1.0, 10671: 2.0, 10674: 1.0, 10676: 1.0, 10678: 3.0, 10679: 2.0, 10682: 16.0, 10683: 3.0, 10687: 4.0, 10691: 2.0, 10692: 2.0, 10693: 3.0, 10697: 11.0, 10700: 4.0, 10702: 1.0, 10707: 2.0, 10715: 1.0, 10716: 4.0, 10719: 9.0, 10725: 1.0, 10726: 1.0, 10729: 1.0, 10740: 2.0, 10741: 1.0, 10742: 1.0, 10745: 7.0, 10747: 1.0, 10748: 1.0, 10752: 1.0, 10754: 1.0, 10757: 2.0, 10758: 2.0, 10765: 17.0, 10766: 4.0, 10768: 1.0, 10773: 2.0, 10778: 15.0, 10783: 1.0, 10786: 2.0, 10790: 1.0, 10802: 2.0, 10803: 1.0, 10804: 1.0, 10806: 1.0, 10807: 3.0, 10809: 11.0, 10813: 4.0, 10814: 2.0, 10817: 1.0, 10818: 9.0, 10822: 1.0, 10825: 3.0, 10827: 1.0, 10829: 2.0, 10830: 8.0, 10831: 1.0, 10841: 7.0, 10843: 7.0, 10846: 1.0, 10856: 1.0, 10858: 3.0, 10860: 11.0, 10861: 1.0, 10863: 1.0, 10866: 5.0, 10867: 1.0, 10868: 3.0, 10869: 2.0, 10870: 2.0, 10880: 1.0, 10887: 1.0, 10889: 1.0, 10899: 2.0, 10903: 7.0, 10907: 2.0, 10909: 1.0, 10912: 1.0, 10926: 1.0, 10927: 1.0, 10928: 1.0, 10932: 1.0, 10938: 3.0, 10944: 1.0, 10945: 6.0, 10953: 1.0, 10957: 1.0, 10963: 1.0, 10970: 1.0, 10972: 1.0, 10973: 1.0, 10975: 1.0, 10977: 1.0, 10981: 1.0, 10984: 1.0, 10995: 1.0, 10996: 1.0, 10998: 4.0, 11003: 1.0, 11006: 4.0, 11014: 1.0, 11016: 3.0, 11017: 4.0, 11021: 3.0, 11023: 1.0, 11027: 16.0, 11032: 1.0, 11033: 1.0, 11037: 8.0, 11047: 1.0, 11049: 1.0, 11058: 23.0, 11059: 2.0, 11064: 4.0, 11068: 1.0, 11073: 1.0, 11083: 1.0, 11085: 3.0, 11088: 9.0, 11089: 1.0, 11091: 1.0, 11099: 3.0, 11110: 2.0, 11112: 1.0, 11115: 1.0, 11118: 1.0, 11121: 1.0, 11126: 1.0, 11127: 4.0, 11128: 1.0, 11133: 1.0, 11134: 1.0, 11135: 2.0, 11138: 1.0, 11140: 1.0, 11143: 14.0, 11150: 1.0, 11152: 2.0, 11154: 1.0, 11155: 1.0, 11158: 1.0, 11164: 2.0, 11169: 1.0, 11174: 2.0, 11182: 1.0, 11185: 4.0, 11188: 3.0, 11194: 3.0, 11195: 2.0, 11196: 3.0, 11200: 1.0, 11202: 1.0, 11203: 1.0, 11211: 3.0, 11213: 1.0, 11216: 1.0, 11220: 3.0, 11221: 1.0, 11222: 3.0, 11226: 2.0, 11227: 2.0, 11240: 1.0, 11242: 1.0, 11243: 1.0, 11245: 1.0, 11256: 5.0, 11260: 1.0, 11268: 1.0, 11271: 1.0, 11275: 2.0, 11279: 1.0, 11281: 7.0, 11292: 1.0, 11293: 1.0, 11300: 18.0, 11304: 8.0, 11308: 1.0, 11309: 1.0, 11310: 14.0, 11315: 3.0, 11319: 1.0, 11321: 7.0, 11322: 1.0, 11324: 4.0, 11329: 1.0, 11335: 2.0, 11336: 1.0, 11338: 1.0, 11339: 1.0, 11340: 2.0, 11343: 1.0, 11353: 11.0, 11358: 5.0, 11361: 1.0, 11362: 3.0, 11365: 10.0, 11366: 3.0, 11372: 1.0, 11375: 10.0, 11378: 5.0, 11379: 33.0, 11383: 1.0, 11393: 1.0, 11407: 1.0, 11414: 13.0, 11415: 1.0, 11417: 1.0, 11419: 2.0, 11420: 1.0, 11421: 1.0, 11424: 1.0, 11432: 2.0, 11439: 1.0, 11441: 3.0, 11443: 2.0, 11446: 1.0, 11447: 2.0, 11449: 1.0, 11450: 9.0, 11451: 1.0, 11459: 1.0, 11461: 1.0, 11466: 18.0, 11467: 1.0, 11469: 5.0, 11474: 1.0, 11475: 2.0, 11481: 2.0, 11492: 11.0, 11493: 1.0, 11495: 4.0, 11499: 2.0, 11508: 1.0, 11513: 3.0, 11519: 20.0, 11520: 1.0, 11525: 2.0, 11536: 1.0, 11542: 24.0, 11545: 1.0, 11565: 1.0, 11567: 1.0, 11570: 1.0, 11572: 1.0, 11581: 2.0, 11583: 3.0, 11586: 3.0, 11592: 2.0, 11605: 1.0, 11609: 1.0, 11612: 7.0, 11621: 1.0, 11633: 5.0, 11640: 1.0, 11646: 1.0, 11660: 1.0, 11666: 1.0, 11669: 1.0, 11678: 7.0, 11683: 2.0, 11686: 1.0, 11692: 2.0, 11700: 1.0, 11712: 1.0, 11715: 1.0, 11719: 1.0, 11726: 1.0, 11729: 2.0, 11732: 1.0, 11739: 1.0, 11740: 3.0, 11752: 1.0, 11756: 1.0, 11758: 1.0, 11759: 12.0, 11762: 53.0, 11763: 1.0, 11764: 1.0, 11768: 1.0, 11772: 12.0, 11782: 1.0, 11788: 3.0, 11791: 6.0, 11795: 2.0, 11796: 1.0, 11800: 1.0, 11803: 1.0, 11810: 1.0, 11823: 1.0, 11826: 1.0, 11828: 26.0, 11829: 52.0, 11833: 1.0, 11839: 1.0, 11842: 1.0, 11850: 1.0, 11860: 1.0, 11864: 1.0, 11866: 1.0, 11869: 1.0, 11872: 2.0, 11876: 5.0, 11877: 1.0, 11879: 2.0, 11883: 2.0, 11888: 2.0, 11891: 1.0, 11892: 6.0, 11893: 2.0, 11894: 3.0, 11898: 1.0, 11902: 1.0, 11903: 3.0, 11916: 1.0, 11920: 1.0, 11924: 1.0, 11925: 1.0, 11927: 1.0, 11930: 24.0, 11936: 2.0, 11937: 2.0, 11939: 1.0, 11941: 1.0, 11942: 1.0, 11950: 1.0, 11955: 1.0, 11956: 1.0, 11969: 1.0, 11976: 1.0, 11983: 3.0, 11986: 1.0, 11988: 1.0, 11989: 2.0, 11993: 8.0, 11994: 1.0, 11998: 1.0, 12000: 1.0, 12001: 1.0, 12002: 4.0, 12003: 1.0, 12004: 4.0, 12008: 1.0, 12011: 1.0, 12023: 2.0, 12032: 1.0, 12037: 1.0, 12038: 1.0, 12039: 1.0, 12044: 1.0, 12045: 1.0, 12048: 1.0, 12061: 1.0, 12066: 1.0, 12067: 1.0, 12071: 7.0, 12072: 1.0, 12073: 2.0, 12078: 3.0, 12079: 2.0, 12089: 3.0, 12093: 1.0, 12106: 1.0, 12110: 11.0, 12111: 1.0, 12116: 2.0, 12126: 1.0, 12127: 3.0, 12130: 2.0, 12134: 3.0, 12140: 1.0, 12143: 2.0, 12145: 1.0, 12148: 2.0, 12150: 1.0, 12157: 1.0, 12177: 1.0, 12186: 27.0, 12188: 2.0, 12189: 1.0, 12197: 1.0, 12199: 2.0, 12203: 1.0, 12209: 2.0, 12212: 1.0, 12213: 1.0, 12215: 2.0, 12218: 1.0, 12224: 2.0, 12226: 4.0, 12227: 122.0, 12234: 2.0, 12238: 1.0, 12244: 1.0, 12245: 1.0, 12256: 1.0, 12258: 3.0, 12260: 1.0, 12270: 1.0, 12288: 7.0, 12291: 14.0, 12293: 1.0, 12294: 1.0, 12297: 1.0, 12307: 1.0, 12309: 1.0, 12312: 9.0, 12325: 1.0, 12326: 4.0, 12331: 5.0, 12335: 2.0, 12337: 1.0, 12339: 3.0, 12341: 2.0, 12342: 1.0, 12343: 3.0, 12349: 1.0, 12355: 1.0, 12361: 2.0, 12362: 1.0, 12366: 3.0, 12372: 1.0, 12374: 2.0, 12382: 1.0, 12390: 3.0, 12391: 2.0, 12395: 1.0, 12396: 3.0, 12397: 5.0, 12406: 1.0, 12409: 4.0, 12410: 1.0, 12412: 14.0, 12420: 1.0, 12421: 20.0, 12425: 2.0, 12426: 10.0, 12430: 1.0, 12432: 1.0, 12433: 1.0, 12434: 1.0, 12449: 2.0, 12458: 2.0, 12461: 4.0, 12470: 7.0, 12474: 16.0, 12482: 2.0, 12483: 1.0, 12485: 1.0, 12486: 1.0, 12498: 1.0, 12516: 6.0, 12523: 1.0, 12527: 1.0, 12528: 1.0, 12531: 1.0, 12546: 1.0, 12547: 1.0, 12552: 7.0, 12558: 1.0, 12566: 1.0, 12567: 2.0, 12568: 3.0, 12570: 1.0, 12572: 2.0, 12586: 3.0, 12587: 3.0, 12594: 2.0, 12595: 3.0, 12596: 1.0, 12605: 5.0, 12607: 2.0, 12610: 2.0, 12618: 3.0, 12623: 1.0, 12624: 1.0, 12632: 1.0, 12634: 1.0, 12649: 8.0, 12668: 2.0, 12674: 3.0, 12676: 1.0, 12685: 8.0, 12692: 7.0, 12693: 1.0, 12696: 1.0, 12703: 1.0, 12704: 1.0, 12712: 1.0, 12713: 1.0, 12715: 1.0, 12717: 1.0, 12718: 1.0, 12725: 7.0, 12731: 1.0, 12734: 1.0, 12737: 4.0, 12739: 1.0, 12747: 2.0, 12750: 1.0, 12756: 1.0, 12758: 1.0, 12763: 15.0, 12780: 4.0, 12792: 1.0, 12798: 1.0, 12802: 3.0, 12804: 2.0, 12805: 1.0, 12814: 1.0, 12820: 1.0, 12821: 1.0, 12822: 1.0, 12828: 1.0, 12832: 3.0, 12835: 1.0, 12845: 3.0, 12846: 1.0, 12847: 3.0, 12853: 1.0, 12857: 2.0, 12865: 1.0, 12868: 1.0, 12874: 7.0, 12877: 1.0, 12884: 1.0, 12887: 1.0, 12891: 1.0, 12892: 2.0, 12897: 1.0, 12901: 1.0, 12904: 1.0, 12914: 3.0, 12923: 3.0, 12933: 1.0, 12943: 1.0, 12949: 1.0, 12951: 30.0, 12953: 2.0, 12955: 2.0, 12958: 3.0, 12960: 2.0, 12967: 1.0, 12977: 3.0, 12982: 1.0, 12986: 1.0, 12990: 2.0, 12996: 3.0, 12997: 1.0, 13009: 2.0, 13012: 1.0, 13016: 4.0, 13020: 2.0, 13024: 3.0, 13026: 2.0, 13029: 1.0, 13037: 4.0, 13045: 4.0, 13047: 9.0, 13049: 1.0, 13052: 3.0, 13059: 2.0, 13061: 2.0, 13068: 24.0, 13090: 2.0, 13097: 1.0, 13104: 3.0, 13105: 1.0, 13107: 1.0, 13115: 1.0, 13128: 1.0, 13130: 2.0, 13132: 1.0, 13138: 2.0, 13141: 34.0, 13156: 2.0, 13167: 3.0, 13171: 3.0, 13174: 1.0, 13176: 5.0, 13178: 5.0, 13179: 1.0, 13184: 2.0, 13185: 1.0, 13189: 3.0, 13195: 3.0, 13196: 3.0, 13202: 3.0, 13205: 3.0, 13206: 6.0, 13208: 1.0, 13215: 1.0, 13223: 1.0, 13227: 1.0, 13231: 1.0, 13236: 2.0, 13237: 1.0, 13247: 2.0, 13249: 1.0, 13261: 2.0, 13264: 2.0, 13266: 1.0, 13270: 1.0, 13274: 2.0, 13276: 1.0, 13278: 1.0, 13281: 1.0, 13286: 1.0, 13287: 1.0, 13288: 2.0, 13294: 1.0, 13298: 3.0, 13299: 1.0, 13300: 2.0, 13306: 1.0, 13308: 1.0, 13314: 2.0, 13315: 1.0, 13329: 1.0, 13336: 1.0, 13337: 1.0, 13339: 1.0, 13346: 1.0, 13351: 1.0, 13358: 1.0, 13359: 1.0, 13361: 1.0, 13368: 2.0, 13373: 1.0, 13377: 1.0, 13384: 1.0, 13388: 2.0, 13401: 1.0, 13404: 1.0, 13411: 1.0, 13413: 1.0, 13414: 1.0, 13418: 1.0, 13419: 7.0, 13421: 5.0, 13424: 1.0, 13426: 5.0, 13427: 2.0, 13428: 13.0, 13430: 1.0, 13431: 2.0, 13434: 2.0, 13443: 2.0, 13445: 2.0, 13446: 1.0, 13451: 1.0, 13453: 4.0, 13460: 1.0, 13468: 2.0, 13469: 2.0, 13470: 1.0, 13474: 61.0, 13481: 1.0, 13482: 2.0, 13485: 2.0, 13500: 1.0, 13510: 5.0, 13516: 1.0, 13519: 2.0, 13521: 1.0, 13523: 1.0, 13525: 1.0, 13539: 3.0, 13542: 1.0, 13559: 3.0, 13562: 2.0, 13567: 2.0, 13569: 1.0, 13572: 1.0, 13586: 3.0, 13588: 1.0, 13592: 8.0, 13606: 2.0, 13607: 1.0, 13610: 2.0, 13617: 3.0, 13626: 1.0, 13645: 23.0, 13646: 1.0, 13647: 18.0, 13650: 1.0, 13656: 1.0, 13657: 3.0, 13665: 1.0, 13676: 2.0, 13679: 1.0, 13685: 3.0, 13687: 4.0, 13695: 1.0, 13702: 2.0, 13704: 21.0, 13713: 1.0, 13714: 1.0, 13718: 1.0, 13719: 1.0, 13720: 1.0, 13725: 8.0, 13735: 1.0, 13736: 2.0, 13739: 2.0, 13741: 2.0, 13751: 4.0, 13758: 1.0, 13764: 2.0, 13773: 1.0, 13776: 1.0, 13782: 10.0, 13786: 1.0, 13802: 3.0, 13806: 1.0, 13813: 1.0, 13817: 1.0, 13820: 4.0, 13822: 1.0, 13825: 1.0, 13834: 4.0, 13836: 2.0, 13837: 2.0, 13845: 1.0, 13855: 2.0, 13860: 1.0, 13861: 1.0, 13862: 1.0, 13868: 6.0, 13880: 2.0, 13889: 3.0, 13893: 2.0, 13898: 1.0, 13902: 1.0, 13906: 1.0, 13910: 1.0, 13915: 8.0, 13917: 2.0, 13922: 2.0, 13923: 1.0, 13925: 1.0, 13926: 1.0, 13930: 2.0, 13935: 2.0, 13937: 2.0, 13941: 2.0, 13944: 1.0, 13947: 2.0, 13952: 5.0, 13954: 1.0, 13963: 1.0, 13966: 2.0, 13970: 3.0, 13976: 1.0, 13977: 1.0, 13980: 98.0, 13987: 2.0, 14000: 1.0, 14001: 2.0, 14010: 1.0, 14016: 1.0, 14021: 1.0, 14026: 1.0, 14030: 1.0, 14031: 2.0, 14034: 1.0, 14041: 1.0, 14050: 1.0, 14058: 1.0, 14062: 1.0, 14067: 2.0, 14071: 1.0, 14073: 3.0, 14074: 2.0, 14084: 2.0, 14087: 1.0, 14088: 2.0, 14094: 1.0, 14099: 8.0, 14102: 1.0, 14103: 1.0, 14105: 1.0, 14113: 2.0, 14119: 1.0, 14121: 1.0, 14123: 1.0, 14124: 14.0, 14131: 2.0, 14138: 2.0, 14153: 1.0, 14154: 9.0, 14161: 4.0, 14170: 1.0, 14175: 2.0, 14183: 1.0, 14190: 2.0, 14192: 5.0, 14199: 1.0, 14208: 2.0, 14209: 6.0, 14212: 2.0, 14218: 1.0, 14233: 1.0, 14241: 1.0, 14244: 17.0, 14245: 1.0, 14253: 3.0, 14258: 1.0, 14259: 1.0, 14268: 1.0, 14272: 6.0, 14276: 1.0, 14279: 12.0, 14289: 1.0, 14300: 1.0, 14303: 4.0, 14306: 2.0, 14309: 3.0, 14310: 2.0, 14312: 1.0, 14320: 1.0, 14340: 2.0, 14343: 2.0, 14345: 1.0, 14348: 1.0, 14349: 1.0, 14365: 1.0, 14368: 3.0, 14376: 1.0, 14381: 1.0, 14385: 1.0, 14399: 8.0, 14400: 2.0, 14404: 1.0, 14405: 1.0, 14408: 3.0, 14410: 2.0, 14423: 1.0, 14425: 1.0, 14432: 1.0, 14438: 2.0, 14442: 7.0, 14447: 2.0, 14449: 1.0, 14453: 2.0, 14463: 2.0, 14471: 1.0, 14477: 2.0, 14485: 1.0, 14488: 6.0, 14492: 1.0, 14495: 4.0, 14512: 6.0, 14519: 1.0, 14523: 1.0, 14525: 2.0, 14526: 2.0, 14527: 5.0, 14539: 1.0, 14545: 1.0, 14549: 2.0, 14553: 2.0, 14554: 1.0, 14562: 4.0, 14564: 2.0, 14565: 1.0, 14591: 2.0, 14595: 2.0, 14596: 40.0, 14602: 1.0, 14610: 1.0, 14616: 1.0, 14617: 2.0, 14629: 3.0, 14630: 1.0, 14641: 3.0, 14645: 1.0, 14654: 1.0, 14665: 1.0, 14672: 1.0, 14673: 1.0, 14677: 20.0, 14680: 1.0, 14684: 1.0, 14687: 1.0, 14689: 4.0, 14696: 9.0, 14707: 1.0, 14714: 2.0, 14722: 1.0, 14723: 1.0, 14727: 2.0, 14729: 1.0, 14735: 1.0, 14736: 1.0, 14739: 1.0, 14741: 3.0, 14748: 3.0, 14754: 2.0, 14763: 1.0, 14772: 4.0, 14774: 2.0, 14778: 1.0, 14783: 7.0, 14785: 1.0, 14793: 3.0, 14802: 3.0, 14805: 1.0, 14810: 5.0, 14820: 1.0, 14825: 1.0, 14844: 2.0, 14845: 1.0, 14848: 2.0, 14856: 1.0, 14857: 10.0, 14858: 1.0, 14861: 1.0, 14864: 1.0, 14865: 1.0, 14866: 3.0, 14868: 1.0, 14876: 1.0, 14881: 2.0, 14883: 1.0, 14884: 1.0, 14901: 3.0, 14903: 2.0, 14910: 2.0, 14918: 9.0, 14924: 6.0, 14933: 1.0, 14939: 4.0, 14943: 1.0, 14944: 1.0, 14947: 1.0, 14951: 12.0, 14954: 1.0, 14965: 4.0, 14967: 1.0, 14970: 5.0, 14976: 2.0, 14978: 3.0, 14979: 1.0, 14986: 2.0, 14988: 9.0, 14989: 2.0, 14995: 1.0, 14997: 2.0, 15000: 2.0, 15006: 1.0, 15007: 4.0, 15010: 1.0, 15017: 5.0, 15019: 1.0, 15021: 2.0, 15027: 4.0, 15030: 2.0, 15046: 1.0, 15055: 1.0, 15060: 1.0, 15083: 2.0, 15086: 2.0, 15088: 2.0, 15089: 10.0, 15094: 1.0, 15099: 1.0, 15114: 2.0, 15117: 2.0, 15120: 1.0, 15123: 2.0, 15126: 2.0, 15128: 2.0, 15129: 1.0, 15130: 1.0, 15136: 6.0, 15154: 1.0, 15159: 1.0, 15160: 1.0, 15163: 1.0, 15168: 1.0, 15170: 1.0, 15175: 3.0, 15177: 1.0, 15189: 3.0, 15210: 2.0, 15226: 3.0, 15227: 2.0, 15228: 1.0, 15231: 1.0, 15236: 1.0, 15243: 1.0, 15244: 1.0, 15252: 1.0, 15256: 3.0, 15258: 9.0, 15261: 1.0, 15263: 1.0, 15265: 16.0, 15273: 1.0, 15279: 1.0, 15281: 1.0, 15282: 1.0, 15295: 17.0, 15300: 2.0, 15303: 1.0, 15308: 1.0, 15313: 4.0, 15314: 2.0, 15319: 2.0, 15324: 5.0, 15327: 1.0, 15343: 3.0, 15345: 1.0, 15348: 12.0, 15350: 1.0, 15352: 1.0, 15353: 1.0, 15357: 1.0, 15360: 1.0, 15367: 3.0, 15370: 2.0, 15376: 6.0, 15380: 1.0, 15388: 2.0, 15390: 1.0, 15398: 1.0, 15423: 1.0, 15424: 1.0, 15430: 1.0, 15446: 1.0, 15447: 3.0, 15454: 1.0, 15462: 1.0, 15479: 2.0, 15499: 3.0, 15504: 1.0, 15505: 6.0, 15527: 1.0, 15530: 3.0, 15535: 1.0, 15536: 33.0, 15537: 1.0, 15539: 1.0, 15541: 1.0, 15549: 1.0, 15553: 8.0, 15557: 2.0, 15560: 2.0, 15565: 1.0, 15571: 1.0, 15576: 5.0, 15582: 20.0, 15585: 17.0, 15586: 1.0, 15600: 1.0, 15602: 1.0, 15604: 1.0, 15605: 4.0, 15613: 1.0, 15635: 2.0, 15636: 3.0, 15637: 1.0, 15657: 1.0, 15662: 1.0, 15676: 1.0, 15679: 26.0, 15681: 1.0, 15682: 1.0, 15695: 1.0, 15702: 1.0, 15722: 1.0, 15724: 1.0, 15731: 1.0, 15734: 2.0, 15738: 4.0, 15750: 1.0, 15752: 1.0, 15753: 1.0, 15756: 2.0, 15774: 1.0, 15785: 1.0, 15789: 2.0, 15808: 1.0, 15815: 1.0, 15816: 1.0, 15830: 2.0, 15835: 1.0, 15836: 1.0, 15841: 1.0, 15844: 1.0, 15847: 1.0, 15850: 1.0, 15853: 3.0, 15868: 1.0, 15870: 3.0, 15885: 1.0, 15886: 1.0, 15887: 1.0, 15926: 1.0, 15930: 6.0, 15942: 1.0, 15943: 1.0, 15959: 1.0, 15966: 6.0, 15984: 1.0, 15989: 3.0, 16000: 23.0, 16002: 1.0, 16003: 1.0, 16007: 2.0, 16013: 1.0, 16022: 2.0, 16033: 3.0, 16039: 2.0, 16040: 2.0, 16049: 1.0, 16053: 1.0, 16057: 1.0, 16062: 1.0, 16063: 1.0, 16065: 2.0, 16077: 1.0, 16082: 2.0, 16086: 1.0, 16103: 1.0, 16110: 33.0, 16131: 12.0, 16149: 9.0, 16156: 1.0, 16158: 1.0, 16170: 2.0, 16171: 1.0, 16180: 6.0, 16188: 2.0, 16207: 1.0, 16211: 2.0, 16212: 1.0, 16215: 2.0, 16218: 1.0, 16222: 1.0, 16225: 2.0, 16226: 1.0, 16228: 1.0, 16231: 3.0, 16232: 1.0, 16244: 1.0, 16261: 1.0, 16276: 1.0, 16281: 1.0, 16289: 3.0, 16291: 1.0, 16304: 1.0, 16309: 2.0, 16319: 1.0, 16322: 1.0, 16325: 2.0, 16335: 1.0, 16336: 1.0, 16338: 1.0, 16345: 1.0, 16350: 1.0, 16351: 1.0, 16356: 9.0, 16357: 3.0, 16362: 1.0, 16368: 2.0, 16370: 2.0, 16376: 1.0, 16385: 2.0, 16386: 1.0, 16390: 1.0, 16394: 1.0, 16413: 5.0, 16425: 19.0, 16430: 1.0, 16431: 1.0, 16435: 2.0, 16437: 1.0, 16440: 1.0, 16444: 1.0, 16447: 2.0, 16465: 12.0, 16479: 1.0, 16486: 1.0, 16488: 1.0, 16490: 1.0, 16503: 1.0, 16505: 2.0, 16513: 1.0, 16516: 2.0, 16524: 1.0, 16538: 1.0, 16541: 1.0, 16543: 3.0, 16544: 1.0, 16553: 1.0, 16556: 1.0, 16563: 1.0, 16569: 2.0, 16577: 2.0, 16578: 1.0, 16579: 1.0, 16587: 2.0, 16591: 8.0, 16594: 5.0, 16602: 1.0, 16623: 1.0, 16632: 5.0, 16635: 1.0, 16666: 3.0, 16674: 1.0, 16675: 1.0, 16678: 1.0, 16682: 2.0, 16692: 1.0, 16698: 1.0, 16702: 1.0, 16707: 1.0, 16723: 9.0, 16724: 3.0, 16737: 2.0, 16743: 2.0, 16749: 1.0, 16750: 1.0, 16759: 2.0, 16776: 2.0, 16777: 2.0, 16794: 1.0, 16798: 5.0, 16800: 1.0, 16817: 1.0, 16824: 2.0, 16832: 6.0, 16840: 1.0, 16851: 1.0, 16856: 1.0, 16859: 1.0, 16861: 19.0, 16872: 5.0, 16878: 1.0, 16887: 1.0, 16899: 2.0, 16909: 1.0, 16914: 2.0, 16932: 1.0, 16938: 1.0, 16942: 1.0, 16947: 1.0, 16949: 31.0, 16952: 1.0, 16958: 1.0, 16964: 2.0, 16968: 1.0, 16969: 1.0, 16971: 1.0, 16972: 1.0, 16975: 1.0, 16977: 14.0, 16981: 1.0, 16996: 2.0, 17000: 1.0, 17003: 1.0, 17004: 1.0, 17011: 1.0, 17014: 1.0, 17018: 1.0, 17019: 1.0, 17034: 2.0, 17037: 2.0, 17042: 1.0, 17045: 1.0, 17046: 1.0, 17049: 5.0, 17060: 2.0, 17064: 8.0, 17084: 1.0, 17087: 4.0, 17090: 1.0, 17095: 1.0, 17102: 2.0, 17103: 2.0, 17108: 1.0, 17114: 1.0, 17118: 5.0, 17125: 1.0, 17143: 1.0, 17165: 8.0, 17171: 3.0, 17174: 2.0, 17176: 1.0, 17179: 1.0, 17186: 1.0, 17189: 1.0, 17201: 1.0, 17203: 1.0, 17212: 1.0, 17221: 1.0, 17223: 1.0, 17227: 32.0, 17229: 1.0, 17233: 1.0, 17245: 1.0, 17247: 1.0, 17258: 1.0, 17262: 1.0, 17270: 2.0, 17274: 8.0, 17275: 5.0, 17282: 1.0, 17296: 1.0, 17300: 1.0, 17310: 1.0, 17328: 1.0, 17339: 1.0, 17340: 3.0, 17366: 1.0, 17371: 3.0, 17372: 1.0, 17384: 1.0, 17385: 1.0, 17389: 1.0, 17394: 2.0, 17399: 2.0, 17415: 1.0, 17437: 1.0, 17455: 2.0, 17457: 1.0, 17464: 2.0, 17466: 1.0, 17477: 1.0, 17502: 23.0, 17515: 1.0, 17522: 2.0, 17524: 1.0, 17531: 1.0, 17535: 3.0, 17538: 1.0, 17539: 2.0, 17542: 1.0, 17546: 2.0, 17564: 1.0, 17568: 4.0, 17570: 1.0, 17591: 1.0, 17599: 2.0, 17609: 1.0, 17610: 6.0, 17619: 1.0, 17627: 2.0, 17634: 1.0, 17659: 1.0, 17669: 4.0, 17674: 1.0, 17676: 15.0, 17681: 2.0, 17696: 2.0, 17703: 7.0, 17718: 3.0, 17723: 1.0, 17752: 1.0, 17754: 1.0, 17761: 2.0, 17762: 1.0, 17776: 2.0, 17777: 2.0, 17783: 2.0, 17785: 1.0, 17787: 2.0, 17790: 1.0, 17795: 1.0, 17796: 1.0, 17798: 7.0, 17800: 11.0, 17804: 3.0, 17823: 3.0, 17828: 1.0, 17846: 1.0, 17848: 1.0, 17857: 1.0, 17859: 1.0, 17863: 1.0, 17870: 2.0, 17873: 2.0, 17881: 2.0, 17890: 1.0, 17903: 3.0, 17913: 1.0, 17926: 3.0, 17927: 1.0, 17929: 1.0, 17933: 1.0, 17934: 1.0, 17949: 7.0, 17951: 3.0, 17959: 1.0, 17964: 1.0, 17992: 2.0, 17995: 1.0, 18004: 1.0, 18008: 3.0, 18013: 9.0, 18017: 1.0, 18044: 1.0, 18058: 5.0, 18076: 8.0, 18081: 5.0, 18115: 8.0, 18117: 1.0, 18121: 1.0, 18125: 1.0, 18126: 1.0, 18131: 1.0, 18141: 1.0, 18144: 1.0, 18145: 1.0, 18162: 1.0, 18163: 1.0, 18165: 1.0, 18166: 1.0, 18178: 3.0, 18204: 1.0, 18208: 2.0, 18209: 1.0, 18214: 17.0, 18219: 1.0, 18222: 1.0, 18226: 1.0, 18227: 3.0, 18235: 2.0, 18244: 1.0, 18245: 1.0, 18246: 1.0, 18267: 55.0, 18274: 2.0, 18276: 3.0, 18279: 1.0, 18282: 1.0, 18284: 3.0, 18290: 2.0, 18297: 2.0, 18303: 2.0, 18306: 1.0, 18308: 1.0, 18337: 1.0, 18339: 1.0, 18344: 1.0, 18348: 1.0, 18356: 1.0, 18360: 1.0, 18368: 14.0, 18378: 1.0, 18381: 1.0, 18384: 1.0, 18409: 1.0, 18415: 1.0, 18419: 1.0, 18421: 1.0, 18439: 1.0, 18443: 2.0, 18451: 1.0, 18458: 1.0, 18460: 1.0, 18477: 1.0, 18494: 1.0, 18496: 1.0, 18498: 1.0, 18504: 20.0, 18515: 1.0, 18524: 1.0, 18536: 1.0, 18537: 4.0, 18538: 1.0, 18542: 3.0, 18548: 1.0, 18550: 3.0, 18558: 2.0, 18591: 1.0, 18628: 2.0, 18635: 5.0, 18643: 1.0, 18646: 2.0, 18651: 1.0, 18653: 1.0, 18656: 4.0, 18658: 2.0, 18662: 4.0, 18665: 1.0, 18678: 1.0, 18684: 1.0, 18690: 1.0, 18698: 1.0, 18722: 2.0, 18733: 1.0, 18737: 25.0, 18746: 1.0, 18751: 1.0, 18756: 1.0, 18765: 1.0, 18791: 1.0, 18806: 1.0, 18811: 1.0, 18812: 1.0, 18814: 1.0, 18817: 1.0, 18819: 2.0, 18820: 3.0, 18828: 1.0, 18852: 1.0, 18860: 3.0, 18868: 1.0, 18878: 1.0, 18881: 2.0, 18886: 1.0, 18889: 1.0, 18891: 1.0, 18902: 1.0, 18923: 3.0, 18929: 1.0, 18935: 1.0, 18939: 1.0, 18941: 1.0, 18952: 1.0, 18957: 1.0, 18966: 1.0, 18971: 1.0, 18973: 1.0, 18982: 3.0, 18983: 2.0, 18985: 2.0, 19002: 1.0, 19003: 2.0, 19005: 1.0, 19012: 1.0, 19016: 3.0, 19037: 2.0, 19042: 1.0, 19053: 1.0, 19055: 2.0, 19068: 3.0, 19074: 2.0, 19092: 1.0, 19094: 2.0, 19096: 1.0, 19101: 6.0, 19102: 5.0, 19108: 4.0, 19110: 3.0, 19119: 4.0, 19122: 5.0, 19126: 1.0, 19129: 1.0, 19145: 2.0, 19156: 1.0, 19157: 2.0, 19158: 4.0, 19162: 1.0, 19180: 2.0, 19191: 2.0, 19198: 1.0, 19214: 1.0, 19223: 1.0, 19228: 1.0, 19230: 2.0, 19232: 1.0, 19248: 1.0, 19259: 1.0, 19260: 1.0, 19264: 1.0, 19266: 2.0, 19268: 1.0, 19286: 2.0, 19293: 1.0, 19295: 1.0, 19305: 1.0, 19315: 1.0, 19318: 6.0, 19334: 3.0, 19339: 1.0, 19349: 1.0, 19351: 1.0, 19355: 1.0, 19363: 1.0, 19399: 5.0, 19411: 1.0, 19421: 1.0, 19457: 1.0, 19462: 3.0, 19465: 1.0, 19471: 1.0, 19474: 1.0, 19478: 1.0, 19488: 1.0, 19522: 1.0, 19525: 1.0, 19529: 1.0, 19530: 3.0, 19534: 1.0, 19544: 2.0, 19554: 1.0, 19556: 2.0, 19563: 1.0, 19582: 1.0, 19584: 1.0, 19590: 1.0, 19593: 2.0, 19596: 1.0, 19608: 3.0, 19612: 7.0, 19617: 3.0, 19628: 1.0, 19636: 2.0, 19637: 8.0, 19639: 1.0, 19646: 2.0, 19650: 1.0, 19655: 1.0, 19660: 2.0, 19662: 2.0, 19666: 7.0, 19674: 2.0, 19676: 1.0, 19679: 3.0, 19687: 2.0, 19694: 2.0, 19701: 1.0, 19707: 1.0, 19720: 6.0, 19721: 1.0, 19726: 3.0, 19739: 2.0, 19751: 11.0, 19758: 1.0, 19767: 9.0, 19780: 1.0, 19793: 1.0, 19796: 9.0, 19797: 3.0, 19800: 1.0, 19824: 1.0, 19831: 2.0, 19839: 1.0, 19840: 2.0, 19855: 40.0, 19857: 1.0, 19860: 7.0, 19861: 1.0, 19870: 2.0, 19879: 1.0, 19900: 1.0, 19908: 14.0, 19912: 1.0, 19916: 1.0, 19932: 4.0, 19936: 1.0, 19937: 1.0, 19938: 3.0, 19950: 2.0, 19972: 1.0, 19981: 10.0, 19988: 2.0, 19994: 4.0, 20030: 1.0, 20035: 16.0, 20049: 2.0, 20051: 1.0, 20060: 1.0, 20105: 3.0, 20119: 1.0, 20124: 1.0, 20128: 23.0, 20141: 4.0, 20165: 1.0, 20201: 1.0, 20217: 1.0, 20242: 1.0, 20260: 1.0, 20283: 9.0, 20286: 2.0, 20291: 3.0, 20295: 1.0, 20298: 1.0, 20319: 1.0, 20333: 1.0, 20349: 1.0, 20352: 7.0, 20367: 1.0, 20369: 1.0, 20371: 3.0, 20374: 26.0, 20375: 1.0, 20395: 1.0, 20406: 23.0, 20410: 7.0, 20411: 2.0, 20419: 2.0, 20427: 1.0, 20428: 1.0, 20436: 1.0, 20443: 1.0, 20454: 2.0, 20458: 1.0, 20472: 1.0, 20500: 1.0, 20513: 1.0, 20519: 2.0, 20526: 1.0, 20541: 1.0, 20544: 3.0, 20547: 5.0, 20564: 1.0, 20565: 1.0, 20569: 12.0, 20572: 1.0, 20589: 1.0, 20593: 1.0, 20597: 38.0, 20602: 1.0, 20603: 1.0, 20612: 10.0, 20616: 1.0, 20623: 1.0, 20667: 2.0, 20669: 3.0, 20675: 1.0, 20676: 1.0, 20682: 1.0, 20715: 8.0, 20725: 1.0, 20728: 3.0, 20742: 1.0, 20756: 1.0, 20761: 1.0, 20762: 2.0, 20790: 1.0, 20791: 1.0, 20792: 1.0, 20800: 1.0, 20804: 1.0, 20812: 1.0, 20819: 47.0, 20826: 17.0, 20841: 1.0, 20842: 1.0, 20850: 1.0, 20860: 1.0, 20864: 1.0, 20868: 1.0, 20876: 2.0, 20881: 4.0, 20883: 1.0, 20892: 2.0, 20913: 1.0, 20928: 1.0, 20929: 1.0, 20948: 1.0, 20952: 1.0, 20972: 1.0, 20982: 1.0, 20983: 1.0, 20997: 1.0, 21001: 1.0, 21002: 1.0, 21044: 2.0, 21046: 1.0, 21058: 1.0, 21090: 1.0, 21091: 2.0, 21120: 1.0, 21151: 1.0, 21166: 1.0, 21173: 1.0, 21183: 1.0, 21187: 1.0, 21193: 1.0, 21233: 1.0, 21240: 2.0, 21251: 1.0, 21256: 1.0, 21271: 2.0, 21277: 2.0, 21280: 1.0, 21282: 2.0, 21296: 21.0, 21300: 1.0, 21310: 1.0, 21320: 1.0, 21348: 2.0, 21364: 1.0, 21372: 2.0, 21381: 12.0, 21387: 1.0, 21392: 1.0, 21409: 1.0, 21411: 1.0, 21422: 1.0, 21424: 1.0, 21445: 1.0, 21452: 1.0, 21460: 1.0, 21481: 1.0, 21504: 2.0, 21511: 1.0, 21515: 2.0, 21519: 2.0, 21523: 1.0, 21534: 1.0, 21541: 2.0, 21550: 1.0, 21554: 2.0, 21555: 1.0, 21557: 1.0, 21561: 1.0, 21565: 1.0, 21579: 1.0, 21582: 1.0, 21587: 1.0, 21600: 1.0, 21610: 2.0, 21614: 1.0, 21618: 1.0, 21624: 1.0, 21631: 1.0, 21633: 1.0, 21639: 1.0, 21691: 2.0, 21694: 1.0, 21716: 1.0, 21739: 1.0, 21740: 4.0, 21748: 6.0, 21756: 2.0, 21761: 1.0, 21770: 1.0, 21773: 3.0, 21781: 1.0, 21789: 1.0, 21795: 1.0, 21805: 3.0, 21808: 2.0, 21823: 1.0, 21825: 1.0, 21829: 1.0, 21830: 1.0, 21833: 4.0, 21834: 2.0, 21852: 3.0, 21864: 11.0, 21866: 1.0, 21883: 1.0, 21894: 1.0, 21896: 1.0, 21902: 1.0, 21906: 2.0, 21928: 1.0, 21930: 12.0, 21935: 1.0, 21951: 1.0, 21957: 1.0, 21967: 2.0, 21975: 2.0, 21985: 1.0, 21991: 1.0, 22057: 1.0, 22064: 1.0, 22066: 1.0, 22070: 1.0, 22082: 1.0, 22092: 2.0, 22094: 1.0, 22096: 2.0, 22136: 5.0, 22147: 1.0, 22148: 1.0, 22155: 1.0, 22189: 1.0, 22210: 1.0, 22214: 2.0, 22219: 1.0, 22247: 1.0, 22254: 4.0, 22263: 1.0, 22268: 1.0, 22285: 1.0, 22292: 1.0, 22301: 2.0, 22308: 1.0, 22310: 1.0, 22313: 1.0, 22321: 4.0, 22328: 1.0, 22330: 3.0, 22337: 1.0, 22357: 2.0, 22365: 1.0, 22368: 4.0, 22385: 1.0, 22389: 3.0, 22395: 1.0, 22399: 3.0, 22402: 1.0, 22410: 1.0, 22412: 1.0, 22417: 4.0, 22426: 1.0, 22431: 4.0, 22439: 6.0, 22443: 1.0, 22447: 1.0, 22459: 1.0, 22465: 2.0, 22488: 1.0, 22529: 1.0, 22544: 2.0, 22549: 1.0, 22578: 2.0, 22583: 2.0, 22592: 1.0, 22604: 2.0, 22605: 1.0, 22609: 3.0, 22648: 1.0, 22655: 2.0, 22656: 1.0, 22668: 2.0, 22674: 2.0, 22692: 1.0, 22706: 2.0, 22711: 1.0, 22737: 1.0, 22745: 1.0, 22759: 2.0, 22768: 1.0, 22769: 1.0, 22772: 2.0, 22792: 2.0, 22793: 1.0, 22818: 1.0, 22833: 8.0, 22834: 1.0, 22851: 1.0, 22861: 2.0, 22874: 2.0, 22887: 1.0, 22891: 2.0, 22909: 2.0, 22916: 2.0, 22945: 1.0, 22950: 1.0, 22960: 1.0, 22963: 3.0, 22970: 1.0, 22984: 1.0, 22985: 1.0, 22997: 1.0, 23004: 1.0, 23015: 2.0, 23027: 3.0, 23030: 1.0, 23044: 1.0, 23045: 3.0, 23059: 1.0, 23089: 1.0, 23096: 1.0, 23099: 1.0, 23121: 2.0, 23130: 1.0, 23137: 1.0, 23157: 1.0, 23158: 2.0, 23174: 1.0, 23230: 2.0, 23235: 1.0, 23262: 1.0, 23286: 2.0, 23291: 2.0, 23312: 1.0, 23329: 2.0, 23345: 3.0, 23361: 1.0, 23392: 1.0, 23397: 1.0, 23407: 2.0, 23408: 1.0, 23409: 1.0, 23422: 1.0, 23430: 1.0, 23440: 2.0, 23469: 1.0, 23486: 1.0, 23496: 1.0, 23506: 2.0, 23515: 1.0, 23517: 2.0, 23531: 3.0, 23545: 26.0, 23549: 1.0, 23560: 1.0, 23564: 2.0, 23574: 1.0, 23587: 1.0, 23589: 3.0, 23592: 2.0, 23615: 1.0, 23616: 3.0, 23617: 1.0, 23623: 3.0, 23652: 1.0, 23682: 2.0, 23691: 10.0, 23703: 1.0, 23704: 1.0, 23728: 1.0, 23735: 1.0, 23750: 1.0, 23762: 1.0, 23777: 9.0, 23787: 2.0, 23820: 1.0, 23827: 1.0, 23842: 2.0, 23850: 1.0, 23869: 1.0, 23893: 1.0, 23897: 5.0, 23904: 2.0, 23912: 3.0, 23922: 1.0, 23930: 6.0, 23951: 3.0, 23953: 1.0, 23956: 2.0, 23965: 1.0, 23982: 26.0, 24004: 1.0, 24018: 1.0, 24052: 1.0, 24064: 1.0, 24078: 1.0, 24080: 3.0, 24089: 1.0, 24098: 2.0, 24099: 1.0, 24100: 2.0, 24108: 2.0, 24111: 1.0, 24112: 6.0, 24117: 1.0, 24124: 1.0, 24133: 1.0, 24135: 2.0, 24136: 1.0, 24138: 1.0, 24146: 1.0, 24149: 2.0, 24174: 1.0, 24181: 1.0, 24194: 2.0, 24208: 1.0, 24239: 1.0, 24248: 2.0, 24256: 1.0, 24261: 1.0, 24284: 1.0, 24285: 2.0, 24298: 1.0, 24299: 1.0, 24301: 1.0, 24302: 1.0, 24335: 2.0, 24368: 2.0, 24373: 1.0, 24405: 2.0, 24407: 1.0, 24414: 7.0, 24419: 4.0, 24427: 1.0, 24453: 1.0, 24458: 1.0, 24464: 1.0, 24466: 2.0, 24472: 1.0, 24488: 1.0, 24522: 1.0, 24535: 1.0, 24555: 1.0, 24563: 1.0, 24572: 2.0, 24574: 1.0, 24594: 1.0, 24603: 1.0, 24673: 4.0, 24691: 2.0, 24709: 1.0, 24726: 1.0, 24733: 4.0, 24750: 2.0, 24754: 2.0, 24771: 3.0, 24795: 1.0, 24808: 1.0, 24839: 2.0, 24845: 1.0, 24888: 1.0, 24892: 2.0, 24925: 2.0, 24940: 1.0, 24942: 7.0, 24950: 1.0, 24966: 1.0, 24970: 1.0, 24975: 1.0, 25015: 1.0, 25029: 3.0, 25074: 1.0, 25108: 1.0, 25128: 1.0, 25143: 1.0, 25146: 1.0, 25163: 1.0, 25164: 1.0, 25171: 1.0, 25181: 3.0, 25208: 2.0, 25224: 2.0, 25232: 5.0, 25239: 1.0, 25252: 1.0, 25288: 4.0, 25320: 1.0, 25324: 2.0, 25331: 1.0, 25339: 4.0, 25376: 1.0, 25407: 2.0, 25420: 3.0, 25433: 1.0, 25488: 1.0, 25501: 1.0, 25514: 4.0, 25533: 1.0, 25539: 5.0, 25542: 2.0, 25557: 5.0, 25562: 1.0, 25598: 1.0, 25665: 17.0, 25670: 1.0, 25674: 2.0, 25705: 1.0, 25706: 1.0, 25715: 1.0, 25719: 1.0, 25729: 1.0, 25750: 1.0, 25762: 11.0, 25769: 1.0, 25794: 3.0, 25818: 1.0, 25829: 1.0, 25831: 2.0, 25847: 1.0, 25865: 4.0, 25879: 1.0, 25887: 1.0, 25903: 1.0, 25941: 1.0, 25943: 2.0, 25953: 1.0, 25956: 1.0, 25960: 1.0, 25971: 1.0, 25992: 1.0, 26044: 1.0, 26083: 1.0, 26088: 2.0, 26099: 9.0, 26111: 1.0, 26121: 1.0, 26128: 1.0, 26129: 1.0, 26130: 1.0, 26132: 1.0, 26163: 1.0, 26165: 3.0, 26180: 1.0, 26187: 1.0, 26228: 1.0, 26229: 1.0, 26245: 1.0, 26271: 1.0, 26285: 2.0, 26320: 1.0, 26322: 1.0, 26341: 4.0, 26345: 1.0, 26361: 2.0, 26362: 1.0, 26377: 1.0, 26384: 1.0, 26395: 1.0, 26404: 1.0, 26412: 1.0, 26429: 1.0, 26433: 1.0, 26436: 1.0, 26445: 1.0, 26455: 2.0, 26465: 1.0, 26474: 2.0, 26480: 1.0, 26500: 2.0, 26551: 2.0, 26556: 1.0, 26578: 1.0, 26592: 1.0, 26597: 5.0, 26626: 1.0, 26640: 1.0, 26651: 1.0, 26656: 1.0, 26667: 1.0, 26673: 5.0, 26683: 1.0, 26685: 2.0, 26704: 1.0, 26705: 1.0, 26721: 2.0, 26729: 1.0, 26761: 1.0, 26815: 1.0, 26825: 1.0, 26843: 1.0, 26851: 1.0, 26878: 7.0, 26887: 1.0, 26900: 2.0, 26920: 1.0, 26930: 2.0, 26936: 1.0, 26947: 1.0, 26951: 1.0, 26985: 1.0, 27047: 2.0, 27066: 1.0, 27075: 1.0, 27132: 5.0, 27137: 2.0, 27141: 2.0, 27156: 1.0, 27200: 1.0, 27211: 1.0, 27212: 1.0, 27226: 1.0, 27280: 1.0, 27283: 9.0, 27349: 4.0, 27353: 1.0, 27366: 3.0, 27406: 2.0, 27412: 1.0, 27420: 9.0, 27441: 1.0, 27444: 1.0, 27485: 1.0, 27512: 4.0, 27524: 2.0, 27532: 1.0, 27552: 7.0, 27557: 1.0, 27559: 1.0, 27568: 1.0, 27656: 2.0, 27691: 1.0, 27696: 2.0, 27701: 6.0, 27731: 2.0, 27743: 1.0, 27746: 1.0, 27781: 1.0, 27782: 2.0, 27784: 1.0, 27816: 1.0, 27823: 11.0, 27833: 1.0, 27844: 1.0, 27849: 1.0, 27859: 3.0, 27895: 1.0, 27962: 2.0, 27989: 2.0, 28004: 5.0, 28010: 1.0, 28030: 2.0, 28032: 2.0, 28044: 2.0, 28058: 2.0, 28070: 1.0, 28078: 1.0, 28099: 1.0, 28103: 1.0, 28112: 1.0, 28158: 3.0, 28168: 2.0, 28169: 1.0, 28177: 4.0, 28214: 1.0, 28219: 2.0, 28220: 1.0, 28271: 1.0, 28273: 2.0, 28281: 1.0, 28322: 1.0, 28331: 1.0, 28345: 1.0, 28373: 1.0, 28388: 1.0, 28410: 1.0, 28425: 1.0, 28436: 2.0, 28458: 1.0, 28482: 3.0, 28511: 1.0, 28520: 1.0, 28553: 2.0, 28558: 1.0, 28562: 9.0, 28573: 1.0, 28582: 1.0, 28606: 3.0, 28623: 1.0, 28686: 1.0, 28694: 1.0, 28732: 1.0, 28747: 3.0, 28793: 11.0, 28810: 1.0, 28827: 35.0, 28880: 2.0, 28946: 1.0, 28949: 2.0, 28964: 5.0, 28971: 2.0, 28986: 2.0, 28996: 1.0, 29032: 4.0, 29063: 4.0, 29072: 1.0, 29078: 1.0, 29125: 1.0, 29130: 1.0, 29137: 1.0, 29145: 5.0, 29152: 3.0, 29165: 4.0, 29166: 1.0, 29172: 1.0, 29223: 1.0, 29231: 1.0, 29249: 1.0, 29268: 2.0, 29271: 1.0, 29288: 1.0, 29299: 1.0, 29325: 1.0, 29329: 1.0, 29340: 2.0, 29356: 1.0, 29390: 1.0, 29400: 1.0, 29405: 4.0, 29425: 1.0, 29447: 1.0, 29469: 2.0, 29481: 1.0, 29483: 1.0, 29532: 1.0, 29536: 2.0, 29545: 1.0, 29641: 3.0, 29652: 2.0, 29654: 4.0, 29669: 2.0, 29678: 1.0, 29684: 1.0, 29700: 1.0, 29781: 1.0, 29828: 1.0, 29831: 1.0, 29833: 1.0, 29861: 1.0, 29872: 3.0, 29888: 1.0, 29900: 2.0, 29904: 1.0, 29921: 13.0, 29958: 1.0, 29965: 5.0, 29988: 6.0, 29991: 1.0, 30002: 1.0, 30009: 1.0, 30025: 1.0, 30054: 2.0, 30057: 2.0, 30101: 1.0, 30113: 1.0, 30131: 2.0, 30135: 1.0, 30143: 3.0, 30174: 1.0, 30181: 1.0, 30200: 1.0, 30216: 1.0, 30226: 6.0, 30229: 1.0, 30240: 2.0, 30288: 6.0, 30290: 1.0, 30322: 1.0, 30340: 1.0, 30346: 1.0, 30349: 1.0, 30372: 1.0, 30392: 3.0, 30397: 1.0, 30402: 1.0, 30442: 1.0, 30470: 1.0, 30474: 1.0, 30483: 3.0, 30504: 1.0, 30509: 1.0, 30517: 2.0, 30521: 1.0, 30549: 1.0, 30574: 1.0, 30621: 1.0, 30627: 1.0, 30630: 1.0, 30634: 1.0, 30646: 1.0, 30649: 1.0, 30666: 4.0, 30698: 1.0, 30702: 1.0, 30714: 1.0, 30716: 6.0, 30733: 2.0, 30752: 2.0, 30757: 1.0, 30766: 2.0, 30783: 2.0, 30784: 1.0, 30826: 2.0, 30836: 1.0, 30845: 1.0, 30848: 1.0, 30866: 2.0, 30867: 1.0, 30882: 38.0, 30886: 2.0, 30887: 1.0, 30910: 1.0, 30934: 3.0, 30935: 1.0, 30991: 1.0, 30998: 2.0, 31065: 1.0, 31085: 1.0, 31126: 1.0, 31128: 1.0, 31176: 2.0, 31187: 1.0, 31197: 1.0, 31213: 1.0, 31221: 1.0, 31261: 1.0, 31266: 1.0, 31335: 2.0, 31353: 12.0, 31364: 6.0, 31366: 2.0, 31404: 2.0, 31418: 1.0, 31428: 1.0, 31429: 1.0, 31455: 1.0, 31467: 2.0, 31486: 1.0, 31494: 1.0, 31508: 1.0, 31518: 1.0, 31591: 2.0, 31601: 2.0, 31610: 2.0, 31634: 1.0, 31675: 2.0, 31712: 1.0, 31737: 1.0, 31753: 1.0, 31779: 1.0, 31792: 1.0, 31834: 1.0, 31852: 1.0, 31860: 1.0, 31903: 1.0, 31943: 1.0, 31946: 6.0, 31960: 1.0, 31980: 1.0, 31993: 1.0, 31994: 1.0, 31995: 1.0, 32016: 1.0, 32043: 1.0, 32062: 4.0, 32087: 1.0, 32162: 1.0, 32171: 2.0, 32189: 1.0, 32192: 1.0, 32193: 4.0, 32205: 1.0, 32224: 1.0, 32230: 1.0, 32235: 1.0, 32243: 1.0, 32258: 2.0, 32274: 1.0, 32307: 1.0, 32314: 1.0, 32315: 1.0, 32325: 1.0, 32328: 1.0, 32340: 1.0, 32384: 1.0, 32392: 1.0, 32398: 1.0, 32410: 1.0, 32448: 1.0, 32465: 7.0, 32473: 7.0, 32486: 1.0, 32539: 3.0, 32572: 1.0, 32575: 1.0, 32598: 1.0, 32630: 1.0, 32670: 1.0, 32681: 1.0, 32714: 1.0, 32721: 1.0, 32725: 1.0, 32746: 2.0, 32756: 1.0, 32764: 1.0, 32787: 3.0, 32821: 3.0, 32849: 1.0, 32859: 1.0, 32923: 1.0, 32930: 1.0, 32938: 1.0, 32960: 1.0, 32965: 2.0, 32982: 1.0, 32992: 2.0, 33026: 1.0, 33080: 1.0, 33104: 1.0, 33110: 2.0, 33124: 1.0, 33182: 1.0, 33239: 1.0, 33304: 4.0, 33305: 3.0, 33324: 1.0, 33325: 1.0, 33388: 2.0, 33470: 2.0, 33501: 2.0, 33580: 1.0, 33612: 1.0, 33643: 1.0, 33657: 5.0, 33667: 1.0, 33741: 4.0, 33751: 1.0, 33761: 1.0, 33774: 2.0, 33835: 1.0, 33839: 1.0, 33854: 1.0, 33864: 1.0, 33924: 1.0, 33938: 1.0, 33949: 1.0, 34002: 1.0, 34012: 1.0, 34049: 1.0, 34063: 1.0, 34146: 7.0, 34156: 1.0, 34195: 1.0, 34209: 1.0, 34213: 1.0, 34215: 1.0, 34244: 1.0, 34284: 1.0, 34286: 2.0, 34313: 1.0, 34319: 5.0, 34331: 1.0, 34333: 1.0, 34338: 1.0, 34420: 1.0, 34507: 4.0, 34512: 1.0, 34530: 1.0, 34563: 2.0, 34565: 2.0, 34566: 1.0, 34591: 2.0, 34607: 1.0, 34633: 1.0, 34670: 3.0, 34676: 1.0, 34681: 1.0, 34697: 4.0, 34704: 1.0, 34712: 1.0, 34720: 1.0, 34745: 1.0, 34749: 1.0, 34751: 2.0, 34770: 1.0, 34791: 1.0, 34833: 1.0, 34941: 1.0, 34955: 1.0, 34987: 1.0, 35004: 5.0, 35014: 2.0, 35053: 1.0, 35080: 1.0, 35108: 2.0, 35163: 1.0, 35199: 1.0, 35202: 1.0, 35212: 4.0, 35343: 1.0, 35356: 3.0, 35400: 2.0, 35406: 2.0, 35504: 1.0, 35524: 1.0, 35607: 3.0, 35614: 1.0, 35621: 1.0, 35630: 1.0, 35639: 3.0, 35676: 1.0, 35680: 1.0, 35784: 1.0, 35876: 1.0, 35981: 2.0, 35992: 2.0, 36001: 1.0, 36018: 1.0, 36037: 1.0, 36046: 2.0, 36058: 1.0, 36080: 1.0, 36146: 3.0, 36165: 1.0, 36184: 1.0, 36212: 1.0, 36221: 1.0, 36245: 1.0, 36247: 1.0, 36280: 1.0, 36344: 9.0, 36446: 1.0, 36460: 1.0, 36517: 4.0, 36629: 3.0, 36634: 1.0, 36708: 1.0, 36727: 1.0, 36751: 1.0, 36895: 1.0, 36928: 1.0, 36986: 1.0, 37056: 1.0, 37145: 1.0, 37226: 1.0, 37249: 1.0, 37253: 2.0, 37286: 1.0, 37321: 1.0, 37322: 1.0, 37338: 1.0, 37341: 2.0, 37352: 1.0, 37389: 2.0, 37433: 1.0, 37441: 1.0, 37463: 1.0, 37521: 2.0, 37549: 2.0, 37660: 1.0, 37674: 1.0, 37750: 1.0, 37760: 1.0, 37784: 1.0, 37822: 1.0, 37835: 1.0, 37900: 1.0, 37912: 1.0, 37923: 1.0, 37932: 1.0, 37933: 3.0, 37950: 1.0, 38028: 1.0, 38113: 1.0, 38122: 1.0, 38125: 1.0, 38126: 1.0, 38131: 1.0, 38218: 1.0, 38244: 3.0, 38253: 4.0, 38390: 1.0, 38400: 3.0, 38421: 1.0, 38431: 1.0, 38432: 1.0, 38534: 1.0, 38668: 1.0, 38682: 2.0, 38699: 3.0, 38706: 2.0, 38787: 2.0, 38799: 1.0, 38845: 2.0, 38935: 2.0, 38964: 1.0, 39037: 1.0, 39152: 3.0, 39167: 1.0, 39213: 1.0, 39223: 1.0, 39273: 1.0, 39290: 2.0, 39297: 2.0, 39305: 1.0, 39314: 1.0, 39320: 1.0, 39362: 1.0, 39405: 1.0, 39439: 2.0, 39449: 2.0, 39477: 1.0, 39496: 1.0, 39574: 1.0, 39598: 1.0, 39671: 1.0, 39680: 16.0, 39762: 1.0, 39773: 1.0, 39822: 1.0, 39829: 1.0, 39834: 2.0, 39852: 1.0, 39943: 2.0, 39951: 1.0, 40000: 1.0, 40004: 1.0, 40053: 1.0, 40063: 3.0, 40069: 1.0, 40094: 1.0, 40212: 1.0, 40285: 1.0, 40367: 2.0, 40625: 1.0, 40643: 5.0, 40766: 1.0, 40812: 3.0, 40861: 1.0, 40884: 3.0, 40901: 1.0, 40903: 1.0, 40953: 2.0, 40966: 1.0, 40969: 12.0, 40970: 1.0, 41027: 1.0, 41100: 1.0, 41139: 1.0, 41182: 2.0, 41223: 1.0, 41248: 1.0, 41274: 8.0, 41277: 3.0, 41363: 1.0, 41417: 1.0, 41451: 8.0, 41454: 2.0, 41470: 1.0, 41491: 1.0, 41578: 1.0, 41601: 1.0, 41631: 1.0, 41632: 1.0, 41652: 1.0, 41710: 1.0, 41744: 1.0, 41759: 1.0, 41778: 2.0, 41780: 2.0, 41809: 1.0, 41835: 1.0, 41838: 1.0, 41845: 1.0, 41856: 2.0, 41861: 2.0, 41891: 1.0, 41900: 7.0, 41929: 4.0, 41994: 1.0, 42051: 2.0, 42202: 1.0, 42237: 2.0, 42241: 1.0, 42283: 1.0, 42319: 1.0, 42348: 1.0, 42419: 1.0, 42456: 2.0, 42503: 1.0, 42558: 1.0, 42618: 1.0, 42639: 2.0, 42669: 1.0, 42781: 1.0, 42831: 2.0, 42836: 1.0, 42873: 1.0, 42933: 1.0, 42960: 2.0, 42977: 1.0, 43016: 1.0, 43021: 1.0, 43080: 10.0, 43130: 1.0, 43133: 5.0, 43160: 1.0, 43186: 1.0, 43235: 1.0, 43249: 1.0, 43254: 1.0, 43269: 1.0, 43295: 1.0, 43365: 8.0, 43405: 1.0, 43478: 1.0, 43484: 1.0, 43510: 1.0, 43544: 4.0, 43659: 1.0, 43664: 1.0, 43736: 2.0, 43760: 1.0, 43793: 1.0, 43802: 3.0, 43881: 1.0, 43926: 8.0, 43929: 1.0, 44003: 1.0, 44021: 1.0, 44103: 1.0, 44142: 1.0, 44218: 2.0, 44229: 2.0, 44235: 1.0, 44320: 1.0, 44445: 1.0, 44507: 1.0, 44543: 1.0, 44604: 1.0, 44623: 1.0, 44676: 1.0, 44760: 1.0, 44792: 2.0, 44804: 1.0, 44811: 1.0, 44814: 7.0, 44855: 1.0, 44859: 3.0, 44884: 1.0, 44937: 1.0, 45077: 1.0, 45211: 1.0, 45224: 1.0, 45230: 1.0, 45257: 1.0, 45271: 1.0, 45295: 2.0, 45303: 1.0, 45327: 1.0, 45364: 3.0, 45426: 1.0, 45436: 1.0, 45463: 1.0, 45465: 1.0, 45515: 1.0, 45532: 1.0, 45682: 1.0, 45705: 1.0, 45722: 1.0, 45866: 1.0, 45872: 1.0, 45905: 1.0, 46047: 1.0, 46203: 1.0, 46242: 2.0, 46244: 2.0, 46380: 1.0, 46411: 1.0, 46551: 6.0, 46568: 1.0, 46570: 1.0, 46572: 2.0, 46593: 5.0, 46708: 5.0, 46719: 1.0, 46740: 1.0, 46765: 3.0, 46847: 1.0, 46922: 1.0, 47049: 1.0, 47088: 1.0, 47153: 1.0, 47270: 1.0, 47334: 2.0, 47346: 1.0, 47349: 1.0, 47355: 1.0, 47374: 1.0, 47403: 1.0, 47455: 1.0, 47517: 1.0, 47624: 1.0, 47656: 1.0, 47671: 9.0, 47692: 1.0, 47776: 1.0, 47847: 3.0, 47894: 1.0, 47999: 1.0, 48062: 1.0, 48122: 1.0, 48219: 1.0, 48288: 1.0, 48302: 1.0, 48328: 1.0, 48385: 1.0, 48536: 1.0, 48586: 1.0, 48735: 1.0, 48784: 9.0, 48928: 1.0, 49075: 2.0, 49084: 1.0, 49139: 1.0, 49141: 2.0, 49243: 1.0, 49331: 1.0, 49333: 1.0, 49374: 1.0, 49387: 1.0, 49432: 2.0, 49488: 1.0, 49635: 1.0, 49671: 1.0, 49675: 1.0, 49790: 1.0, 49861: 1.0, 49978: 1.0, 49984: 1.0, 50062: 1.0, 50073: 1.0, 50095: 1.0, 50108: 1.0, 50245: 1.0, 50536: 1.0, 50608: 2.0, 50640: 1.0, 50731: 3.0, 50735: 1.0, 50836: 1.0, 50892: 1.0, 50931: 1.0, 50946: 14.0, 50967: 1.0, 51022: 1.0, 51043: 1.0, 51059: 3.0, 51070: 1.0, 51132: 1.0, 51180: 1.0, 51191: 1.0, 51284: 6.0, 51285: 1.0, 51318: 1.0, 51381: 1.0, 51418: 2.0, 51453: 2.0, 51494: 1.0, 51497: 1.0, 51637: 2.0, 51658: 1.0, 51662: 1.0, 51688: 1.0, 51700: 3.0, 51704: 1.0, 51742: 1.0, 51776: 1.0, 51918: 2.0, 51977: 1.0, 52043: 1.0, 52180: 1.0, 52206: 2.0, 52243: 1.0, 52248: 1.0, 52279: 1.0, 52298: 1.0, 52304: 1.0, 52346: 1.0, 52360: 4.0, 52400: 1.0, 52429: 1.0, 52600: 2.0, 52624: 1.0, 52709: 1.0, 52755: 1.0, 52855: 1.0, 52960: 1.0, 52998: 5.0, 53241: 1.0, 53551: 1.0, 53763: 1.0, 53786: 1.0, 53791: 5.0, 53932: 1.0, 54011: 2.0, 54086: 1.0, 54091: 1.0, 54143: 2.0, 54155: 1.0, 54168: 1.0, 54201: 1.0, 54256: 1.0, 54277: 1.0, 54381: 2.0, 54407: 1.0, 54436: 1.0, 54448: 1.0, 54460: 1.0, 54478: 1.0, 54497: 1.0, 54623: 1.0, 54668: 1.0, 54871: 1.0, 55042: 1.0, 55084: 1.0, 55119: 1.0, 55124: 2.0, 55202: 2.0, 55311: 1.0, 55414: 1.0, 55429: 2.0, 55433: 1.0, 55446: 1.0, 55467: 1.0, 55572: 1.0, 55673: 1.0, 55744: 1.0, 55823: 3.0, 55873: 2.0, 55922: 1.0, 55973: 1.0, 56211: 1.0, 56217: 2.0, 56295: 1.0, 56369: 4.0, 56400: 5.0, 56645: 1.0, 56699: 1.0, 56718: 1.0, 56757: 1.0, 56790: 4.0, 56922: 1.0, 56944: 1.0, 56957: 1.0, 57121: 1.0, 57185: 1.0, 57290: 1.0, 57312: 1.0, 57396: 1.0, 57422: 1.0, 57436: 1.0, 57529: 1.0, 57532: 1.0, 57539: 1.0, 57546: 1.0, 57664: 2.0, 57672: 2.0, 57697: 1.0, 57731: 1.0, 57766: 1.0, 57807: 1.0, 57944: 1.0, 58010: 1.0, 58163: 1.0, 58216: 3.0, 58288: 1.0, 58332: 1.0, 58481: 1.0, 58487: 8.0, 58502: 2.0, 58608: 1.0, 58686: 1.0, 58693: 1.0, 58739: 1.0, 58798: 1.0, 58955: 1.0, 59041: 1.0, 59493: 1.0, 59579: 2.0, 59592: 1.0, 59608: 1.0, 59636: 1.0, 59674: 2.0, 59849: 1.0, 60068: 1.0, 60274: 2.0, 60277: 1.0, 60389: 2.0, 60606: 1.0, 60615: 1.0, 60657: 1.0, 60667: 1.0, 60941: 4.0, 60969: 1.0, 61049: 1.0, 61088: 1.0, 61241: 2.0, 61378: 1.0, 61667: 1.0, 61731: 8.0, 61744: 1.0, 61782: 1.0, 61935: 1.0, 62260: 1.0, 62302: 1.0, 62627: 2.0, 62824: 1.0, 63090: 1.0, 63117: 1.0, 63170: 2.0, 63184: 1.0, 63275: 1.0, 63590: 7.0, 63762: 1.0, 63771: 1.0, 64044: 1.0, 64050: 1.0, 64072: 1.0, 64174: 1.0, 64185: 1.0, 64309: 1.0, 64622: 1.0, 64638: 1.0, 64778: 1.0, 64895: 1.0, 64898: 1.0, 64923: 1.0, 65052: 1.0, 65071: 1.0, 65257: 5.0, 65308: 1.0, 65649: 1.0, 65844: 1.0, 65857: 1.0, 65901: 1.0, 66089: 2.0, 66161: 2.0, 66452: 1.0, 66494: 3.0, 66510: 2.0, 66637: 1.0, 66711: 2.0, 66824: 1.0, 67161: 1.0, 67807: 1.0, 67902: 1.0, 68008: 2.0, 68099: 2.0, 68270: 1.0, 68276: 1.0, 68384: 1.0, 68397: 1.0, 68425: 1.0, 68481: 1.0, 68559: 1.0, 68619: 1.0, 68642: 1.0, 68772: 1.0, 68819: 3.0, 69050: 1.0, 69375: 1.0, 69695: 1.0, 69762: 4.0, 69951: 1.0, 70035: 1.0, 70135: 1.0, 70304: 8.0, 70312: 1.0, 70347: 1.0, 70383: 1.0, 70427: 3.0, 70678: 1.0, 70819: 2.0, 70862: 1.0, 71019: 1.0, 71061: 1.0, 71201: 1.0, 71230: 1.0, 71330: 1.0, 71341: 2.0, 71352: 2.0, 71476: 2.0, 71557: 1.0, 72219: 1.0, 72236: 1.0, 72248: 4.0, 72382: 1.0, 72483: 1.0, 72505: 1.0, 72513: 1.0, 72619: 1.0, 72709: 1.0, 72821: 1.0, 72990: 1.0, 73130: 1.0, 73137: 3.0, 73298: 1.0, 73436: 1.0, 73440: 2.0, 73498: 1.0, 73572: 1.0, 73725: 1.0, 73737: 1.0, 73861: 7.0, 73914: 1.0, 74207: 1.0, 74292: 1.0, 74473: 3.0, 74564: 1.0, 74749: 1.0, 74755: 1.0, 74818: 1.0, 74974: 2.0, 74985: 1.0, 74998: 1.0, 75180: 1.0, 75308: 1.0, 75373: 1.0, 75490: 1.0, 75492: 1.0, 75527: 1.0, 75814: 1.0, 75931: 18.0, 75964: 3.0, 75994: 1.0, 76734: 1.0, 76740: 1.0, 76836: 2.0, 76939: 1.0, 77282: 3.0, 77317: 1.0, 77515: 2.0, 77588: 3.0, 77778: 1.0, 78146: 2.0, 78437: 1.0, 78469: 1.0, 78802: 1.0, 78837: 2.0, 78886: 1.0, 78925: 1.0, 78980: 3.0, 79349: 1.0, 79372: 1.0, 79423: 1.0, 79495: 1.0, 79562: 1.0, 79876: 1.0, 79885: 5.0, 79952: 1.0, 80096: 13.0, 80365: 1.0, 80641: 1.0, 80646: 8.0, 80774: 1.0, 81033: 1.0, 81239: 1.0, 81369: 1.0, 81473: 1.0, 81520: 1.0, 81593: 1.0, 81639: 1.0, 81915: 1.0, 82130: 1.0, 82656: 3.0, 82678: 2.0, 82854: 2.0, 82944: 3.0, 82969: 1.0, 83271: 1.0, 83407: 3.0, 83973: 1.0, 84008: 1.0, 84218: 18.0, 84346: 1.0, 84962: 1.0, 85351: 1.0, 86571: 2.0, 86669: 2.0, 86679: 1.0, 87121: 1.0, 87149: 2.0, 87467: 1.0, 87556: 1.0, 87760: 1.0, 87825: 1.0, 88459: 1.0, 88550: 3.0, 89015: 2.0, 89128: 1.0, 89682: 1.0, 89717: 1.0, 90289: 1.0, 90608: 1.0, 90666: 2.0, 90872: 1.0, 91059: 1.0, 91171: 1.0, 91241: 1.0, 91580: 2.0, 91604: 1.0, 91770: 1.0, 91902: 1.0, 92039: 2.0, 92376: 1.0, 92462: 1.0, 92468: 1.0, 93317: 1.0, 93365: 1.0, 93822: 1.0, 94065: 1.0, 94203: 2.0, 94310: 1.0, 94380: 2.0, 94493: 1.0, 94731: 2.0, 94896: 1.0, 95344: 1.0, 95611: 5.0, 95628: 1.0, 95712: 3.0, 95719: 1.0, 96724: 1.0, 97072: 3.0, 98284: 1.0, 98503: 1.0, 98614: 1.0, 98629: 1.0, 98704: 1.0, 98783: 3.0, 99195: 1.0}))"
      ]
     },
     "execution_count": 55,
     "metadata": {},
     "output_type": "execute_result"
    }
   ],
   "source": [
    "vector_rdd.first()"
   ]
  },
  {
   "cell_type": "code",
   "execution_count": 56,
   "metadata": {
    "collapsed": false
   },
   "outputs": [
    {
     "data": {
      "text/plain": [
       "25367"
      ]
     },
     "execution_count": 56,
     "metadata": {},
     "output_type": "execute_result"
    }
   ],
   "source": [
    "vector_rdd.count()"
   ]
  },
  {
   "cell_type": "markdown",
   "metadata": {},
   "source": [
    "## Perform the aggregation\n",
    "\n",
    "We now have the entire Gutenberg English book corpus in the form of sparse vectors encoding the most used 100k words. \n",
    "\n",
    "To get the yearly sums, we will turn the metadata of each document into its publication year (i.e. the key will be the year, the value is the vector) and then do an aggregation by year. \n",
    "\n",
    "We will use the powerful [`treeAggregate`](http://spark.apache.org/docs/latest/api/python/pyspark.html?highlight=values#pyspark.RDD.treeAggregate) method, which requires that we specify three different components:\n",
    "\n",
    "1. the starting aggregate\n",
    "2. a function that adds a new value to the aggregate\n",
    "3. a function that adds together two aggregates\n",
    "\n",
    "The way `treeAggregate` works is that it performs the reduction in a tree pattern in order to minimize the strain on the driver. In a \"normal\" reduction, the workers send their results to the driver, which is tasked with putting it all together -- however, if these partial results are large (as is potentially the case here) then the driver can run into memory issues. Furthermore, most of the cluster is sitting idle while the driver performs the aggregation. `treeAggregate` fixes this by performing partial aggregations on the workers and only sending the final stages to the driver. \n",
    "\n",
    "The aggregation methods are powerful because the \"aggregate\" can be any object -- we can write a class that gets passed around to do the aggregation, for example. This allows the programmer to design a very clean interface. \n",
    "\n",
    "Below, we will use an instance of a dictionary as the aggregation object and define two functions that will do the actual aggregtion. "
   ]
  },
  {
   "cell_type": "code",
   "execution_count": 57,
   "metadata": {
    "collapsed": true
   },
   "outputs": [],
   "source": [
    "def add_vector(d, data_tuple) : \n",
    "    \"\"\"Add a new vector to the aggregation dictionary\n",
    "    \n",
    "    The vectors in the aggregation dictionary are dense since for most years we can expect that \n",
    "    this will be the case anyway. Note that we use 32-bit floats to save a bit on memory. \n",
    "    \n",
    "    Arguments: \n",
    "        d: the aggregation dictionary\n",
    "        \n",
    "        data_tuple: the (year, vec) tuple\n",
    "        \n",
    "    Returns: \n",
    "        the updated aggregation dictionary \n",
    "    \"\"\"\n",
    "    # expand the data tuple\n",
    "    year, vec = data_tuple\n",
    "    \n",
    "    if year in d : \n",
    "        \n",
    "        d[year][vec.indices] += vec.values\n",
    "    else :\n",
    "        # this is the first time we've encountered this year --> make an empty vector \n",
    "        new_vec = np.zeros(vec.size, dtype=np.float32)\n",
    "        \n",
    "        # now put in the contents of the current vector\n",
    "        new_vec[vec.indices] = vec.values\n",
    "        \n",
    "        # create the year in the dictionary\n",
    "        d[year] = new_vec\n",
    "        \n",
    "    return d\n",
    "\n",
    "def add_dicts(d1, d2) : \n",
    "    \"\"\"Add two dictionaries together\n",
    "    \n",
    "    Arguments: \n",
    "        d1: first dictionary\n",
    "        \n",
    "        d2: second dictionary\n",
    "        \n",
    "    Returns: \n",
    "        merged dictionaries\n",
    "    \"\"\"\n",
    "    \n",
    "    # iterate through all the items in the second dictionary\n",
    "    for year, vec in d2.iteritems() : \n",
    "        # if this year is also in d1, add the vectors together\n",
    "        if year in d1 : \n",
    "            d1[year] += vec\n",
    "        # if not, create a new year entry in d1\n",
    "        else : \n",
    "            d1[year] = vec\n",
    "    return d1"
   ]
  },
  {
   "cell_type": "markdown",
   "metadata": {},
   "source": [
    "Now we create an RDD of `(year, vec)` pairs:"
   ]
  },
  {
   "cell_type": "code",
   "execution_count": 58,
   "metadata": {
    "collapsed": true
   },
   "outputs": [],
   "source": [
    "year_vec = vector_rdd.map(lambda (gid, vec): (publication_year(meta_b.value[gid]), vec))"
   ]
  },
  {
   "cell_type": "markdown",
   "metadata": {},
   "source": [
    "Before we perform the aggregation, we can do one final bit of optimization. Passing around dictionaries full of large arrays can get expensive very quickly. The memory footprint of our partial results will depend on how heterogeneous the years on each partition or group of partitions are: if most of the data on a partition is for the same key (year in this case) then the dictionary we create on that partition will only contain a handful of vectors.  We can control this by first partitioning the RDD in a way that groups data with the same keys onto the same partitions. \n",
    "\n",
    "Spark provides a `partitionBy` method that does exactly this -- by default, it uses a hash function to map the keys to partitions, but you can also pass a custom partitioner if you want. If you look at the Spark UI after executing the next cell, you'll see that the partition step caused some shuffling of data, but that the aggregation itself ran very quickly and with minimal data movement. "
   ]
  },
  {
   "cell_type": "code",
   "execution_count": 59,
   "metadata": {
    "collapsed": true
   },
   "outputs": [],
   "source": [
    "n_partitions = year_vec.getNumPartitions()"
   ]
  },
  {
   "cell_type": "code",
   "execution_count": 60,
   "metadata": {
    "collapsed": false
   },
   "outputs": [],
   "source": [
    "# TODO: use an empty dictionary and the two functions defined above as arguments to the treeAggregate method\n",
    "year_sums = (year_vec.partitionBy(n_partitions)\n",
    "                     .treeAggregate(dict(), add_vector, add_dicts))"
   ]
  },
  {
   "cell_type": "markdown",
   "metadata": {},
   "source": [
    "Note that `year_sums` is a single \"value\", in this case our aggregate dictionary containing years as keys and vectors representing cummulative word counts as values. "
   ]
  },
  {
   "cell_type": "code",
   "execution_count": 61,
   "metadata": {
    "collapsed": false
   },
   "outputs": [
    {
     "data": {
      "text/plain": [
       "[(86, array([  58.,   98.,  124., ...,    0.,    0.,    0.], dtype=float32)),\n",
       " (90, array([ 19.,  30.,  57., ...,   0.,   0.,   0.], dtype=float32)),\n",
       " (93, array([ 110.,  113.,  180., ...,    0.,    0.,    0.], dtype=float32)),\n",
       " (94, array([  1.,  12.,  10., ...,   0.,   0.,   0.], dtype=float32)),\n",
       " (156, array([ 38.,  35.,  66., ...,   0.,   0.,   0.], dtype=float32)),\n",
       " (157, array([  47.,  359.,  153., ...,    0.,    0.,    0.], dtype=float32)),\n",
       " (158, array([  47.,  381.,  139., ...,    0.,    0.,    0.], dtype=float32)),\n",
       " (392, array([ 26.,  42.,  10., ...,   0.,   0.,   0.], dtype=float32)),\n",
       " (397, array([ 131.,  249.,  227., ...,    0.,    0.,    0.], dtype=float32)),\n",
       " (404, array([ 0.,  1.,  1., ...,  0.,  0.,  0.], dtype=float32))]"
      ]
     },
     "execution_count": 61,
     "metadata": {},
     "output_type": "execute_result"
    }
   ],
   "source": [
    "list(year_sums.iteritems())[0:10]"
   ]
  },
  {
   "cell_type": "markdown",
   "metadata": {},
   "source": [
    "## Gutenberg Project N-gram viewer\n",
    "\n",
    "Lets plot some results!\n",
    "\n",
    "Below we define a plotting function and then make a plot of some interesting examples -- feel free to change the word list..."
   ]
  },
  {
   "cell_type": "code",
   "execution_count": 62,
   "metadata": {
    "collapsed": false
   },
   "outputs": [],
   "source": [
    "def plot_usage_frequency(words, year_data, word_lookup, plot_range = [1500,2015]) : \n",
    "    years = sorted(year_data.keys())\n",
    "    tot_count = np.array([year_data[year].sum() for year in years])\n",
    "    \n",
    "    if type(words) is not str : \n",
    "        n_words = len(words) \n",
    "    else : \n",
    "        n_words = 1\n",
    "        words = [words]\n",
    "        \n",
    "    for i, word in enumerate(words) : \n",
    "        word_ind = word_lookup[word]\n",
    "        w_count = np.array([year_data[year][word_ind] for year in years])\n",
    "        \n",
    "        plt.plot(years, smooth(w_count/(tot_count-w_count)),label=word, color = plt.cm.Set1(1.*i/n_words))\n",
    "    \n",
    "    plt.xlim(plot_range)\n",
    "    plt.xlabel('year')\n",
    "    plt.ylabel('relative frequency')\n",
    "    plt.legend(loc='upper left', fontsize = 'small')\n",
    "    \n",
    "    \n",
    "def smooth(x,window_len=11,window='hanning'):\n",
    "        if x.ndim != 1:\n",
    "                raise ValueError, \"smooth only accepts 1 dimension arrays.\"\n",
    "        if x.size < window_len:\n",
    "                raise ValueError, \"Input vector needs to be bigger than window size.\"\n",
    "        if window_len<3:\n",
    "                return x\n",
    "        if not window in ['flat', 'hanning', 'hamming', 'bartlett', 'blackman']:\n",
    "                raise ValueError, \"Window is on of 'flat', 'hanning', 'hamming', 'bartlett', 'blackman'\"\n",
    "        s=np.r_[2*x[0]-x[window_len-1::-1],x,2*x[-1]-x[-1:-window_len:-1]]\n",
    "        if window == 'flat': #moving average\n",
    "                w=np.ones(window_len,'d')\n",
    "        else:  \n",
    "                w=eval('np.'+window+'(window_len)')\n",
    "        y=np.convolve(w/w.sum(),s,mode='same')\n",
    "        return y[window_len:-window_len+1]"
   ]
  },
  {
   "cell_type": "code",
   "execution_count": 63,
   "metadata": {
    "collapsed": false
   },
   "outputs": [
    {
     "data": {
      "image/png": "[encoded data removed]",
      "text/plain": [
       "<matplotlib.figure.Figure at 0x2b1155dd4590>"
      ]
     },
     "metadata": {},
     "output_type": "display_data"
    }
   ],
   "source": [
    "plot_usage_frequency(['giveth', 'environment', 'machine'], year_sums, word_lookup, [1300, 2015])\n",
    "plt.ylim(0,0.001);"
   ]
  },
  {
   "cell_type": "markdown",
   "metadata": {},
   "source": [
    "If you are very motivated, you can adapt the workflow above to work with higher-order n-grams and allow for the lookup of phrases (i.e. \"world war\") instead of just single words. To do this, you have to create a new `word_lookup` table and regenerate the vectors. Since single words (i.e. one-grams) will dominate, it might make sense to build separate list of top N-grams (top two-grams, top three-grams) and then merge them together into a vocabulary map. Beware that the size of the data will increase quickly for N > 1!"
   ]
  },
  {
   "cell_type": "code",
   "execution_count": 64,
   "metadata": {
    "collapsed": true
   },
   "outputs": [],
   "source": [
    "sc.stop()"
   ]
  },
  {
   "cell_type": "markdown",
   "metadata": {},
   "source": [
    "To continue the exploration of the Gutenberg books corpus, you can move on to the [language classification notebook](part3-lang-classification-SOLUTIONS.ipynb)."
   ]
  }
 ],
 "metadata": {
  "kernelspec": {
   "display_name": "Python 2",
   "language": "python",
   "name": "python2"
  },
  "language_info": {
   "codemirror_mode": {
    "name": "ipython",
    "version": 2
   },
   "file_extension": ".py",
   "mimetype": "text/x-python",
   "name": "python",
   "nbconvert_exporter": "python",
   "pygments_lexer": "ipython2",
   "version": "2.7.10"
  }
 },
 "nbformat": 4,
 "nbformat_minor": 0
}
