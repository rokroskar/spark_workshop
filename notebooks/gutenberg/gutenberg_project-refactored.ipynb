{
 "cells": [
  {
   "cell_type": "markdown",
   "metadata": {},
   "source": [
    "# Gutenberg Project\n",
    "\n",
    "In this notebook, we will quantitatively explore the text of the [Gutenberg E-Books Project](https://www.gutenberg.org/), a free repository of e-books that are in the public domain. All of the English and German books have been downloaded for this tutorial and a small python package has been made available that allows you to easily parse the text and the associated metadata. \n",
    "\n",
    "<div class=\"alert alert-success\">\n",
    "<h2>Your goals for this project are to</h2>\n",
    "<ul>\n",
    "<li> get a general understanding of the data </li>\n",
    "<li> create a n-gram viewer to visualize the usage of selected words over time </li>\n",
    "<li> create a language classifier that can detect languages </li>\n",
    "</ul>\n",
    "</div>\n",
    "\n",
    "The notebook follows a classical data analytics workflow where you load raw data, clean and prepare it, visualize it over and over before you start with the real work of building your analytics tools. \n",
    "\n",
    "<div class=\"alert alert-success\">\n",
    "<h2>This notebook is structured into the following chapters:</h2>\n",
    "<ol>\n",
    "<li> <b><a href=#Chapter-1.-System-Setup>System Setup</a> </b></li>\n",
    "<li> <b><a href=#Chapter-2.-Data-Preparation,-Clean-up,-and-Visualization>Prepare, Clean-Up and Visualize Data</a></b> </li>\n",
    "<li> <b><a href=#Analyze-Word-Usage-over-Time>Analyzing Evolution of Words over Time</a></b> </li>\n",
    "<li> <b><a href=#Create-a-Language-Classifier>Create a Language Classifier</a></b> </li>\n",
    "<li> <b><a href=#Create-Language-Classifier-using-Spark-Pipelines>Create a Languae Classifier using Spark Pipelines</a></b> </li>\n",
    "</ol>\n",
    "</div>\n",
    "\n",
    "Every chapter starts by giving an additional overview its structure. On your way through the notebook you will learn all required Spark concepts to successfully implement the whole workflow. These concepts reflect the standard APIs and helpful techniques for general data analytics workloads. Every chapter we give an overview about the respective learning goals.\n",
    "\n",
    "<div class=\"alert alert-success\">\n",
    "<b>Note.</b> To increase reability of such long notebooks me highlight different aspects in different colors.\n",
    "<ul>\n",
    "<li> Important information and general notes are highlighted green </li>\n",
    "<li> Spark and system specific notes are highlighted yellow </li>\n",
    "<li> Exercises are highlighted blue </li>\n",
    "</ul>\n",
    "</div>"
   ]
  },
  {
   "cell_type": "markdown",
   "metadata": {},
   "source": [
    "## Chapter 1. System Setup\n",
    "Let us first load a couple of libraries that we will use over and over again."
   ]
  },
  {
   "cell_type": "code",
   "execution_count": 5,
   "metadata": {
    "collapsed": false
   },
   "outputs": [
    {
     "name": "stdout",
     "output_type": "stream",
     "text": [
      "The history saving thread hit an unexpected error (OperationalError('disk I/O error',)).History will not be written to the database.\n"
     ]
    }
   ],
   "source": [
    "from __future__ import print_function\n",
    "%matplotlib inline\n",
    "import matplotlib.pylab as plt\n",
    "import sys, os, glob\n",
    "import numpy as np\n",
    "import os, subprocess\n",
    "\n",
    "plt.rcParams['figure.figsize'] = (10,6)\n",
    "plt.rcParams['font.size'] = 18\n",
    "plt.style.use('fivethirtyeight')"
   ]
  },
  {
   "cell_type": "markdown",
   "metadata": {},
   "source": [
    "### Spark configuration\n",
    "\n",
    "Below we specify that this notebook should use the configuration stored in <code>./spark_config</code> -- the options will be discussed in detail in the next notebook."
   ]
  },
  {
   "cell_type": "markdown",
   "metadata": {},
   "source": [
    "<div class=\"alert alert-warning\">\n",
    "Note that the environment variables have to be declared before any other spark initialization takes place (including creating a <code>SparkConf</code> object.\n",
    "</div>"
   ]
  },
  {
   "cell_type": "code",
   "execution_count": 3,
   "metadata": {
    "collapsed": true
   },
   "outputs": [],
   "source": [
    "ncores = int(os.environ.get('LSB_DJOB_NUMPROC', 1))\n",
    "\n",
    "os.environ['SPARK_CONF_DIR'] = os.path.abspath('./spark_config')\n",
    "os.environ['SPARK_DRIVER_MEMORY'] = '%dG'%(ncores*2*0.7)\n",
    "os.environ['PYSPARK_PYTHON'] = subprocess.check_output('which python', shell=True).rstrip()\n",
    "\n",
    "import findspark\n",
    "findspark.init()\n",
    "\n",
    "import pyspark\n",
    "from pyspark import SparkConf, SparkContext"
   ]
  },
  {
   "cell_type": "markdown",
   "metadata": {},
   "source": [
    "## Setting up Python and Spark"
   ]
  },
  {
   "cell_type": "markdown",
   "metadata": {},
   "source": [
    "Setting up the spark environment can be a bit of a trial and error procedure. Often you'll need to configure settings (in particular dealing with memory) to fit your cluster and your particular application. Below, we will specify a few of the most important ones -- but you can see the full list in the [Spark Configuration guide](http://spark.apache.org/docs/latest/configuration.html) and if you are using YARN there are critical options also listed under the [YARN deployment guide](http://spark.apache.org/docs/latest/running-on-yarn.html)."
   ]
  },
  {
   "cell_type": "markdown",
   "metadata": {},
   "source": [
    "## Python environment setup\n",
    "\n",
    "First, we need to make sure that the `pyspark` libraries are accessible in this notebook. To do this, we can add them to the library search path with a convenient `findspark` library: "
   ]
  },
  {
   "cell_type": "code",
   "execution_count": 2,
   "metadata": {
    "collapsed": true
   },
   "outputs": [],
   "source": [
    "import findspark\n",
    "findspark.init()"
   ]
  },
  {
   "cell_type": "markdown",
   "metadata": {},
   "source": [
    "<div class=\"alert alert-danger\">\n",
    "I think we could use this whole part out of the Gutenberg project into the \"Introduction to Apache Spark\" section of the introductory notebook where we introduce all the low level concepts.\n",
    "</div>"
   ]
  },
  {
   "cell_type": "markdown",
   "metadata": {},
   "source": [
    "## Runtime settings\n",
    "\n",
    "Below we will specify a range of settings for the Spark runtime system. "
   ]
  },
  {
   "cell_type": "markdown",
   "metadata": {},
   "source": [
    "<div class=\"alert alert-warning\">\n",
    "<b>Note.</b>\n",
    "\n",
    "The environment variables have to be declared before any other spark initialization takes place (including creating a <code>SparkConf</code> object).\n",
    "</div>"
   ]
  },
  {
   "cell_type": "code",
   "execution_count": 3,
   "metadata": {
    "collapsed": true
   },
   "outputs": [],
   "source": [
    "ncores = int(os.environ.get('LSB_DJOB_NUMPROC', 1)) # how many cores do we have for the driver\n",
    "\n",
    "# here we set the memory we want spark to use for the driver JVM\n",
    "os.environ['SPARK_DRIVER_MEMORY'] = '%dG'%(ncores*2*0.7)\n",
    "\n",
    "# we have to tell spark which python executable we are using\n",
    "os.environ['PYSPARK_PYTHON'] = subprocess.check_output('which python', shell=True).rstrip()\n",
    "\n",
    "import pyspark\n",
    "from pyspark import SparkConf, SparkContext"
   ]
  },
  {
   "cell_type": "markdown",
   "metadata": {},
   "source": [
    "### Initializing `SparkConf` \n",
    "\n",
    "When starting the Spark runtime through the notebook or inside a script (i.e. when not calling one of the spark scripts like `spark_submit`), you can create a `SparkConf` object that allows you to set up the runtime. This is quite convenient and much cleaner and more readable than specifying the options on the commandline. \n",
    "\n",
    "<div class=\"alert alert-warning\" role=\"alert\" style=\"margin-top: 10px\">\n",
    "<p><strong>Pro tip</strong></p>\n",
    "\n",
    "<p>If you use the same base configuration often, you can store it in a file and only override those that are needed through `SparkConf` (we'll do this at the end of this section).</p>\n",
    "</div>"
   ]
  },
  {
   "cell_type": "code",
   "execution_count": 4,
   "metadata": {
    "collapsed": true
   },
   "outputs": [],
   "source": [
    "# initializing the SparkConf\n",
    "conf = SparkConf()"
   ]
  },
  {
   "cell_type": "markdown",
   "metadata": {},
   "source": [
    "### Executor options\n",
    "\n",
    "The full list of options is very long, but the basic ones you'll *always* want to at least think about are ones pertaining to the basic configuration of the executors: \n",
    "\n",
    "* number of executors \n",
    "* memory per executor\n",
    "* number of cores per executor\n",
    "\n",
    "A few notes about the memory configuration: the `spark.executor.memory` should **never** be set to the total memory of the node. Some memory is needed for the OS (including HDFS and other services), and still more is required for the Spark overhead. The amount of memory specified in `spark.executor.memory` is used only for caching of RDDs and temporary shuffle data. This does *not* include memory needed for the python processes and other JVM functions, for example. \n",
    "\n",
    "For our case here, this is the basic reasoning: \n",
    "\n",
    "* we have 16 Gb of memory per node\n",
    "* of these, only around 80% (~12 Gb)should be used for the executors \n",
    "* leave at least 10% for YARN overhead --> we end up with conservative 9 Gb / executor\n",
    "* if executors start dying off for unexplained reasons, try reducing the `spark.executor.memory`"
   ]
  },
  {
   "cell_type": "code",
   "execution_count": 5,
   "metadata": {
    "collapsed": false
   },
   "outputs": [
    {
     "data": {
      "text/plain": [
       "<pyspark.conf.SparkConf at 0x2b66684aef10>"
      ]
     },
     "execution_count": 5,
     "metadata": {},
     "output_type": "execute_result"
    }
   ],
   "source": [
    "conf.set('spark.executor.memory', '9g')\n",
    "\n",
    "# put the number of executors and cores into variables so we can refer to it later\n",
    "num_execs = 20\n",
    "exec_cores = 4\n",
    "\n",
    "conf.set('spark.executor.instances', str(num_execs))\n",
    "conf.set('spark.executor.cores', str(exec_cores))"
   ]
  },
  {
   "cell_type": "markdown",
   "metadata": {},
   "source": [
    "### Memory configuration\n",
    "\n",
    "Two other key memory options exist, specifying the amount of executor memory reserved for *cached* data and for *shuffle* data. Depending on what your application is doing, you may need more of one or the other. For example, if you are running a lot of iterative operations on a large dataset, you probably want a good amount of memory for RDD caching. On the other hand, if you are doing lots of expensive shuffles that occur when sorting of grouping by key, you may want more shuffle memory. Note that if either one starts to run low, your application (hopefully) won't crash, but instead simply spill to local disk. \n",
    "\n",
    "You can check on the cache memory and shuffle memory in two ways while your application is running. In the Spark UI, you can see the cached RDDs under the `Storage` tab - if they start spilling to disk, this is where you will see it. Similarly, if you are running a large shuffle job, you can click on the stage details in the Spark UI and see the shuffle memory and disk statistics. We will check on both of these later on in this application. \n",
    "\n",
    "Here we will set these two options explicitly (30% of the heap for caching, 50% for shuffles). Note that the default here is 60% for caching and 20% for shuffles, but we expect to have some fairly memory-hungry shuffles in our application, so we adjust the allocations a bit. "
   ]
  },
  {
   "cell_type": "code",
   "execution_count": 6,
   "metadata": {
    "collapsed": false
   },
   "outputs": [
    {
     "data": {
      "text/plain": [
       "<pyspark.conf.SparkConf at 0x2b66684aef10>"
      ]
     },
     "execution_count": 6,
     "metadata": {},
     "output_type": "execute_result"
    }
   ],
   "source": [
    "conf.set('spark.storage.memoryFraction', 0.3)\n",
    "conf.set('spark.shuffle.memoryFraction', 0.5)"
   ]
  },
  {
   "cell_type": "markdown",
   "metadata": {},
   "source": [
    "### Driver memory\n",
    "\n",
    "The amount of memory allocated to the driver program could be crucial if the driver has to deal with a lot of late-stage aggegation products or if you want to collect a significant chunk of data out of the RDD. You can see how much memory has been allocated to the driver either in the Spark Web UI or in the messages printed to the console at initialization. "
   ]
  },
  {
   "cell_type": "code",
   "execution_count": 7,
   "metadata": {
    "collapsed": false
   },
   "outputs": [
    {
     "data": {
      "text/plain": [
       "<pyspark.conf.SparkConf at 0x2b66684aef10>"
      ]
     },
     "execution_count": 7,
     "metadata": {},
     "output_type": "execute_result"
    }
   ],
   "source": [
    "conf.set('spark.yarn.am.memory', '8g')\n",
    "conf.set('spark.yarn.am.cores', 2)"
   ]
  },
  {
   "cell_type": "markdown",
   "metadata": {},
   "source": [
    "### Reusing a saved configuration\n",
    "\n",
    "Often, you will probably have a few different jobs that all need the same configuration. Instead of always specifying it inside the notebook, it might be a little cleaner to save it in an external file. \n",
    "\n",
    "In this case, we have the configuration saved in `~/spark_workshop/notebooks/gutenberg/spark_config`:"
   ]
  },
  {
   "cell_type": "code",
   "execution_count": 8,
   "metadata": {
    "collapsed": false
   },
   "outputs": [
    {
     "name": "stdout",
     "output_type": "stream",
     "text": [
      "# Some default options for Spark \r\n",
      "\r\n",
      "spark.executor.memory 8g\r\n",
      "spark.executor.instances 20\r\n",
      "spark.executor.cores 4\r\n",
      "spark.storage.memoryFraction 0.5\r\n",
      "spark.shuffle.memoryFraction 0.2\r\n",
      "spark.yarn.executor.memoryOverhead 2048\r\n",
      "spark.yarn.am.memory  8g\r\n",
      "spark.yarn.am.cores  4\r\n",
      "spark.master yarn\r\n",
      "spark.app.name gutenberg"
     ]
    }
   ],
   "source": [
    "!cat ./spark_config/spark-defaults.conf"
   ]
  },
  {
   "cell_type": "markdown",
   "metadata": {},
   "source": [
    "Next time we start the `SparkContext` we can simply set the `SPARK_CONF_DIR` environment variable to point to the directory where our configuration lives, and it will be taken care of automatically. "
   ]
  },
  {
   "cell_type": "markdown",
   "metadata": {},
   "source": [
    "<div class=\"alert alert-warning\">\n",
    "<b>Pro tip.</b>\n",
    "\n",
    "You can edit the configuration straight from Jupyter by navigating to it directly in the Jupyter file browser.\n",
    "</div>"
   ]
  },
  {
   "cell_type": "markdown",
   "metadata": {},
   "source": [
    "### Starting the `SparkContext`\n",
    "\n",
    "This is our entry point to the Spark runtime - it is used to push data into spark or load RDDs from disk etc. Note that here we specify `master = 'yarn-client'`, which will automatically request the resources we have configured in `conf` above. "
   ]
  },
  {
   "cell_type": "code",
   "execution_count": 10,
   "metadata": {
    "collapsed": false
   },
   "outputs": [
    {
     "data": {
      "text/html": [
       "If this works successfully, you can check the <a target='_blank' href='http://hadoop.ethz.ch:8088'>YARN application scheduler</a> and you should see your app listed there. Clicking on the 'Application Master' link will bring up the familiar Spark Web UI. "
      ],
      "text/plain": [
       "<IPython.core.display.HTML object>"
      ]
     },
     "execution_count": 10,
     "metadata": {},
     "output_type": "execute_result"
    }
   ],
   "source": [
    "sc = SparkContext(master = 'yarn-client', conf = conf)\n",
    "\n",
    "HTML(yarn_web_app_string.format(yarn_web_app=yarn_web_app))"
   ]
  },
  {
   "cell_type": "markdown",
   "metadata": {},
   "source": [
    "### Starting the `SparkContext`\n",
    "This is our entry point to the Spark runtime - it is used to push data into spark or load RDDs from disk etc. "
   ]
  },
  {
   "cell_type": "code",
   "execution_count": 4,
   "metadata": {
    "collapsed": true
   },
   "outputs": [],
   "source": [
    "sc = SparkContext(master = 'yarn-client')"
   ]
  },
  {
   "cell_type": "markdown",
   "metadata": {},
   "source": [
    "If this works successfully, you can check the [YARN application scheduler](http://hadoop.ethz.ch:8088/cluster) and you should see your app listed there. Clicking on the \"Application Master\" link will bring up the familiar Spark Web UI. "
   ]
  },
  {
   "cell_type": "markdown",
   "metadata": {},
   "source": [
    "## Chapter 2. Data Preparation, Clean-up, and Visualization\n",
    "\n",
    "In this chapter you will learn the basics of Spark framework to load and prepare data for further analytics. Our workflow for this chapter is as follows:\n",
    "\n",
    "<div class=\"alert alert-success\">\n",
    "<b> Overview </b>\n",
    "<ol>\n",
    "<li> Load raw data and parallelize it over the Spark workers </li>\n",
    "<li> Convert raw data to plain text and metadata</li>\n",
    "<li> Have an initial look at the data and create a histogram of book lengths </li>\n",
    "<li> Create a metadata lookup table and distribute it to the workers </li>\n",
    "<li> Clean the dataset for missing values and repeated entries </li>\n",
    "</ol>\n",
    "</div>\n",
    "\n",
    "we will first load the raw data and parallelize it over the Spark Cluster. Then we will do some simple conversions and clean-up steps. Finally, we create a metadata lookup table that can be distributed to the workers.\n",
    "\n",
    "<div class=\"alert alert-success\">\n",
    "<b>The learning goals of this chapter are</b>\n",
    "<ul>\n",
    "<li> Loading, querying and transforming data using RDDs </li>\n",
    "<li> Learn the principals behind the partitioning of RDDs </li>\n",
    "<li> Converting data to DataFrames </li>\n",
    "<li> Doing complex queries on DataFrames </li>\n",
    "<li> Principles of broadcast variables </li>\n",
    "</ul>\n",
    "</div>\n",
    "\n",
    "\n"
   ]
  },
  {
   "cell_type": "markdown",
   "metadata": {},
   "source": [
    "### 2.1. Load Raw Data and Parallelize it over the Spark Workers"
   ]
  },
  {
   "cell_type": "markdown",
   "metadata": {},
   "source": [
    "#### Make a key-value RDD of book metadata and text"
   ]
  },
  {
   "cell_type": "markdown",
   "metadata": {},
   "source": [
    "Getting data into spark from a collection of local files is a very common task. A useful pattern to keep in mind is the following: \n",
    "\n",
    "1. make a list of filenames and distribute it among the workers\n",
    "3. \"map\" each filename to the data you want to get out\n",
    "4. now you are left with the RDD of raw data distributed among the workers!"
   ]
  },
  {
   "cell_type": "markdown",
   "metadata": {},
   "source": [
    "In our case of the Gutenberg Project e-book data, we have a directory of `html` files which hold the actual book text, and another directory of associated metadata files (the RDF files). To make your life easier for the purpose of this tutorial, we have made a small python module called `gutenberg_cleanup` that has some handy functions for pulling out the relevant text and metadata out of the raw dataset. \n",
    "\n",
    "The [`gutenberg_cleanup`](gutenberg_cleanup.py) module contains three functions that can help with this: `get_gid`, `get_metadata` and `get_text`.\n",
    "\n",
    "They pretty much do the obvious: \n",
    "\n",
    "`get_gid` takes an html path and pulls out the book ID (`gid`)\n",
    "\n",
    "`get_metadata` takes a `gid` and returns a metadata object with various useful fields that will be used to create a unique key for each book\n",
    "\n",
    "`get_text` takes a path to an html file and returns the raw text extracted from HTML, cleaned of tags and punctuation and converted to lower case. "
   ]
  },
  {
   "cell_type": "markdown",
   "metadata": {},
   "source": [
    "#### Initializing the raw dataset using `sc.parallelize`"
   ]
  },
  {
   "cell_type": "code",
   "execution_count": 5,
   "metadata": {
    "collapsed": false
   },
   "outputs": [
    {
     "name": "stdout",
     "output_type": "stream",
     "text": [
      "number of books:  48177\n"
     ]
    }
   ],
   "source": [
    "import glob\n",
    "\n",
    "# get a list of all html files in the data directory\n",
    "flist = glob.glob('/cluster/work/sdid/roskarr/gutenberg/html/*html')\n",
    "print('number of books: ', len(flist))"
   ]
  },
  {
   "cell_type": "markdown",
   "metadata": {},
   "source": [
    "When you use `sc.parallelize` to distribute a dataset across the cluster, you can choose the number of partitions across which to distribute the dataset. The higher the number of partitions, the higher the \"parallelism\". When Spark subsequently executes maps and reduces on this dataset, it does so by dispatching tasks to different executors, which then request the cores under their control to do the actual work. By increasing the number of partitions, you increase the number of tasks - more tasks gives the Spark scheduler more flexibility in distributing the work across the cluster and therefore maximally leveraging the compute resources at its disposal. In some cases, where a single partition might require a lot of memory it can cause `Out of memory` errors - in such cases, simply reducing the amount of data per task by increasing the parallelism can help. \n",
    "\n",
    "Note that as long as the tasks take a few hundred milliseconds the scheduler should have no trouble dispatching them. On the other hand, there is a bit of overhead associated with partitioning the data so you don't want an unreasonably high number of partitions. You can see the [Spark guide](http://spark.apache.org/docs/latest/tuning.html#level-of-parallelism) for a bit more detail. \n",
    "\n",
    "Below, we will choose to use 5 times as many partitions as we have cores in the job. "
   ]
  },
  {
   "cell_type": "code",
   "execution_count": 6,
   "metadata": {
    "collapsed": true
   },
   "outputs": [],
   "source": [
    "job_conf = dict(sc._conf.getAll())"
   ]
  },
  {
   "cell_type": "code",
   "execution_count": 7,
   "metadata": {
    "collapsed": true
   },
   "outputs": [],
   "source": [
    "num_execs = int(job_conf['spark.executor.instances'])\n",
    "exec_cores = int(job_conf['spark.executor.cores'])"
   ]
  },
  {
   "cell_type": "code",
   "execution_count": 8,
   "metadata": {
    "collapsed": true
   },
   "outputs": [],
   "source": [
    "files_rdd = sc.parallelize(flist, num_execs*exec_cores*5)"
   ]
  },
  {
   "cell_type": "code",
   "execution_count": 9,
   "metadata": {
    "collapsed": false,
    "scrolled": true
   },
   "outputs": [
    {
     "data": {
      "text/plain": [
       "['/cluster/work/sdid/roskarr/gutenberg/html/1000.html',\n",
       " '/cluster/work/sdid/roskarr/gutenberg/html/10000.html',\n",
       " '/cluster/work/sdid/roskarr/gutenberg/html/10001.html',\n",
       " '/cluster/work/sdid/roskarr/gutenberg/html/10002.html',\n",
       " '/cluster/work/sdid/roskarr/gutenberg/html/10003.html']"
      ]
     },
     "execution_count": 9,
     "metadata": {},
     "output_type": "execute_result"
    }
   ],
   "source": [
    "files_rdd.take(5)"
   ]
  },
  {
   "cell_type": "markdown",
   "metadata": {},
   "source": [
    "#### Transforming the list of filenames into a `key,value` pair RDD of metadata and text\n",
    "\n",
    "The raw Gutenberg Project dataset consists of HTML files and files that hold metadata in JSON format. For example: "
   ]
  },
  {
   "cell_type": "code",
   "execution_count": 10,
   "metadata": {
    "collapsed": false
   },
   "outputs": [
    {
     "name": "stdout",
     "output_type": "stream",
     "text": [
      "<?xml version='1.0' encoding='utf-8'?>\r",
      "\r\n",
      "<!DOCTYPE html PUBLIC '-//W3C//DTD XHTML 1.1//EN' 'http://www.w3.org/TR/xhtml11/DTD/xhtml11.dtd'>\r",
      "\r\n",
      "<html xmlns=\"http://www.w3.org/1999/xhtml\">\r",
      "\r\n",
      "  <head><title> </title><meta http-equiv=\"Content-Style-Type\" content=\"text/css\"/><meta http-equiv=\"Content-Type\" content=\"application/xhtml+xml; charset=utf-8\"/><link rel=\"schema.DCTERMS\" href=\"http://purl.org/dc/terms/\"/>\r",
      "\r\n",
      "<link rel=\"schema.MARCREL\" href=\"http://id.loc.gov/vocabulary/relators/\"/>\r",
      "\r\n",
      "<meta content=\"The Magna Carta\" name=\"DCTERMS.title\"/>\r",
      "\r\n",
      "<meta content=\"http://www.gutenberg.orgfiles/10000/10000.txt\" name=\"DCTERMS.source\"/>\r",
      "\r\n",
      "<meta content=\"en\" scheme=\"DCTERMS.RFC4646\" name=\"DCTERMS.language\"/>\r",
      "\r\n",
      "<meta content=\"2015-04-04T04:40:30.599547+00:00\" scheme=\"DCTERMS.W3CDTF\" name=\"DCTERMS.modified\"/>\r",
      "\r\n",
      "<meta content=\"Public domain in the USA.\" name=\"DCTERMS.rights\"/>\r",
      "\r\n"
     ]
    }
   ],
   "source": [
    "!head /cluster/work/sdid/roskarr/gutenberg/html/10000.html"
   ]
  },
  {
   "cell_type": "code",
   "execution_count": 11,
   "metadata": {
    "collapsed": false
   },
   "outputs": [
    {
     "name": "stdout",
     "output_type": "stream",
     "text": [
      "<?xml version=\"1.0\" encoding=\"utf-8\"?>\r\n",
      "<rdf:RDF xml:base=\"http://www.gutenberg.org/\"\r\n",
      "  xmlns:cc=\"http://web.resource.org/cc/\"\r\n",
      "  xmlns:dcterms=\"http://purl.org/dc/terms/\"\r\n",
      "  xmlns:rdfs=\"http://www.w3.org/2000/01/rdf-schema#\"\r\n",
      "  xmlns:pgterms=\"http://www.gutenberg.org/2009/pgterms/\"\r\n",
      "  xmlns:rdf=\"http://www.w3.org/1999/02/22-rdf-syntax-ns#\"\r\n",
      "  xmlns:dcam=\"http://purl.org/dc/dcam/\"\r\n",
      ">\r\n",
      "  <pgterms:ebook rdf:about=\"ebooks/10000\">\r\n"
     ]
    }
   ],
   "source": [
    "!head /cluster/work/sdid/roskarr/gutenberg/rdf-files/10000/pg10000.rdf"
   ]
  },
  {
   "cell_type": "markdown",
   "metadata": {},
   "source": [
    "### 2.2 Convert Raw Data to Plain Book Texts and Metadata"
   ]
  },
  {
   "cell_type": "markdown",
   "metadata": {},
   "source": [
    "#### Data Ingestion procedure\n",
    "\n",
    "Our first task is to ingest this dataset by doing the following: \n",
    "\n",
    "1. convert the html into raw text\n",
    "2. deal with special characters, HTML tags, etc.\n",
    "3. match each metadata entry with its corresponding raw text and compose tuples of the type (metadata, text)\n",
    "\n",
    "\n",
    "These three steps are often the first step of any analysis, and can be quite time consuming to get right. For the purposes of this exercise, we have already built the functions needed to perform these operations. They are found in [`gutenberg_cleanup.py`](gutenberg_cleanup.py) if you want to have a look. \n",
    "\n",
    "The important functions are:\n",
    "\n",
    "* `get_gid` -- returns the Gutenberg ID given an html file\n",
    "* `get_text` -- get cleaned, raw text out of an html file\n",
    "* `get_metadata` -- return the metadata given an ID \n",
    "\n",
    "These will be used to construct a `key,value` pair RDD. The `key` will be the dictionary returned by `get_metadata`, while the `value` we will use the raw text returned by `get_text`. "
   ]
  },
  {
   "cell_type": "code",
   "execution_count": 12,
   "metadata": {
    "collapsed": true
   },
   "outputs": [],
   "source": [
    "import gutenberg_cleanup\n",
    "from gutenberg_cleanup import get_metadata, get_text, get_gid"
   ]
  },
  {
   "cell_type": "markdown",
   "metadata": {},
   "source": [
    "To pass the `gutenberg_cleanup` source file to the executors, we will use the `addPyFile` method of the `SparkContext`:"
   ]
  },
  {
   "cell_type": "code",
   "execution_count": 13,
   "metadata": {
    "collapsed": true
   },
   "outputs": [],
   "source": [
    "sc.addPyFile('{cwd}/gutenberg_cleanup.py'.format(cwd=os.getcwd()))"
   ]
  },
  {
   "cell_type": "markdown",
   "metadata": {},
   "source": [
    "<div class=\"alert alert-info\">\n",
    "<b>Exercise.</b> \n",
    "Use the `map` method of `files_rdd` to map the filenames to `(metadata, text)` tuples using `get_gid` and `get_text` functions. \n",
    "</div>"
   ]
  },
  {
   "cell_type": "code",
   "execution_count": null,
   "metadata": {
    "collapsed": true
   },
   "outputs": [],
   "source": [
    "id_text_rdd = files_rdd.map(lambda filename: (get_gid(filename), get_text(filename)))"
   ]
  },
  {
   "cell_type": "markdown",
   "metadata": {},
   "source": [
    "<div class=\"alert alert-info\">\n",
    "<b>Exercise.</b> \n",
    "Now we have (ID, text), and we need to make another `map` to get (`metadata, text`) tuples.\n",
    "</div>"
   ]
  },
  {
   "cell_type": "code",
   "execution_count": 15,
   "metadata": {
    "collapsed": true
   },
   "outputs": [],
   "source": [
    "text_rdd = (id_text_rdd.map(lambda (ID, text): (get_metadata(ID), text)))"
   ]
  },
  {
   "cell_type": "markdown",
   "metadata": {},
   "source": [
    "So that we don't have to constantly re-load the data off disk, lets cache this RDD: "
   ]
  },
  {
   "cell_type": "code",
   "execution_count": 16,
   "metadata": {
    "collapsed": false
   },
   "outputs": [
    {
     "name": "stdout",
     "output_type": "stream",
     "text": [
      "CPU times: user 86 ms, sys: 19 ms, total: 105 ms\n",
      "Wall time: 2min 26s\n"
     ]
    }
   ],
   "source": [
    "%%time\n",
    "text_rdd.cache()\n",
    "text_rdd.count()"
   ]
  },
  {
   "cell_type": "markdown",
   "metadata": {
    "variables": {
     "UI_url": {}
    }
   },
   "source": [
    "Since we called `count()`, it means that the entire RDD was generated/calculated. This combination of `cache` and `count` is a common way to check how much memory your dataset needs - once `count` completes you can check the memory taken up by the RDD by going to the \"Storage\" tag of the Spark UI. "
   ]
  },
  {
   "cell_type": "markdown",
   "metadata": {},
   "source": [
    "Because the data is cached, next time you try to use `text_rdd` it will be much much quicker. For example, "
   ]
  },
  {
   "cell_type": "code",
   "execution_count": 17,
   "metadata": {
    "collapsed": false
   },
   "outputs": [
    {
     "name": "stdout",
     "output_type": "stream",
     "text": [
      "CPU times: user 47 ms, sys: 10 ms, total: 57 ms\n",
      "Wall time: 3.09 s\n"
     ]
    }
   ],
   "source": [
    "%%time\n",
    "assert(text_rdd.count() == 48177)"
   ]
  },
  {
   "cell_type": "markdown",
   "metadata": {},
   "source": [
    "As an aside, we could call the native python `map` in exactly the same way (and run it on the local machine only), though this would take much longer to complete, i.e. \n",
    "\n",
    "    text = map(lambda f: (get_metadata(get_gid(f)), get_text(f)), flist)"
   ]
  },
  {
   "cell_type": "markdown",
   "metadata": {},
   "source": [
    "<div class=\"alert alert-danger\">\n",
    "I am not sure whether we should keep this. I think we just should make sure that students can load the data required for every chapter at the beginning of the chapter in case they have failed to get to this point.\n",
    "</div>\n",
    "\n",
    "### 2.3 Save the raw dataset to HDFS (or local storage)\n",
    "\n",
    "As a final bit of preparation before continuing with analysis, we save the raw data in a way that makes it faster to access later. We don't want to have to read the data off local disk every time we need to repeat some part of the analysis. Instead, it's much more advantageous to use the Hadoop Distributed File System (HDFS) to store the data once we've read it in and put it in a `key,value` format. \n",
    "\n",
    "By storing the data in HDFS, we make sure that the system can take advantage of data-locality at a later stage in our analysis. "
   ]
  },
  {
   "cell_type": "code",
   "execution_count": 18,
   "metadata": {
    "collapsed": false
   },
   "outputs": [
    {
     "name": "stdout",
     "output_type": "stream",
     "text": [
      "Picked up _JAVA_OPTIONS: -XX:ParallelGCThreads=1\n",
      "15/11/20 15:00:58 WARN util.NativeCodeLoader: Unable to load native-hadoop library for your platform... using builtin-java classes where applicable\n",
      "15/11/20 15:00:59 INFO fs.TrashPolicyDefault: Namenode trash configuration: Deletion interval = 0 minutes, Emptier interval = 0 minutes.\n",
      "Deleted /user/roskarr/gutenberg/raw_text_rdd\n"
     ]
    }
   ],
   "source": [
    "!hadoop fs -rm -r -f /user/roskarr/gutenberg/raw_text_rdd"
   ]
  },
  {
   "cell_type": "code",
   "execution_count": 19,
   "metadata": {
    "collapsed": true
   },
   "outputs": [],
   "source": [
    "text_rdd.saveAsPickleFile('hdfs:///user/roskarr/gutenberg/raw_text_rdd')"
   ]
  },
  {
   "cell_type": "markdown",
   "metadata": {},
   "source": [
    "Now, whenever we need it, we can read the data off the HDFS instead: "
   ]
  },
  {
   "cell_type": "code",
   "execution_count": 20,
   "metadata": {
    "collapsed": true
   },
   "outputs": [],
   "source": [
    "text_rdd = sc.pickleFile('hdfs:///user/roskarr/gutenberg/raw_text_rdd')"
   ]
  },
  {
   "cell_type": "code",
   "execution_count": 21,
   "metadata": {
    "collapsed": false,
    "scrolled": true
   },
   "outputs": [
    {
     "name": "stdout",
     "output_type": "stream",
     "text": [
      "CPU times: user 48 ms, sys: 9 ms, total: 57 ms\n",
      "Wall time: 6.17 s\n"
     ]
    },
    {
     "data": {
      "text/plain": [
       "48177"
      ]
     },
     "execution_count": 21,
     "metadata": {},
     "output_type": "execute_result"
    }
   ],
   "source": [
    "%time text_rdd.count()"
   ]
  },
  {
   "cell_type": "code",
   "execution_count": 1,
   "metadata": {
    "collapsed": true
   },
   "outputs": [],
   "source": [
    "from __future__ import print_function\n",
    "%matplotlib inline\n",
    "import matplotlib.pylab as plt\n",
    "import sys, os, glob\n",
    "import numpy as np\n",
    "import subprocess\n",
    "\n",
    "from IPython.display import HTML\n",
    "import xml.etree.ElementTree as ET\n",
    "try:\n",
    "    tree = ET.parse(os.environ['HADOOP_CONF_DIR'] + '/yarn-site.xml')\n",
    "except IOError:\n",
    "    raise IOError(\"Can't find the yarn configuration -- is HADOOP_CONF_DIR set?\")\n",
    "root = tree.getroot()\n",
    "yarn_web_app = root.findall(\"./property[name='yarn.resourcemanager.webapp.address']\")[0].find('value').text\n",
    "yarn_web_app_string = \"If this works successfully, you can check the <a target='_blank' href='http://{yarn_web_app}'>YARN application scheduler</a> and you should see your app listed there. Clicking on the 'Application Master' link will bring up the familiar Spark Web UI. \"\n",
    "\n",
    "plt.rcParams['figure.figsize'] = (10,6)\n",
    "plt.rcParams['font.size'] = 18\n",
    "plt.style.use('fivethirtyeight')"
   ]
  },
  {
   "cell_type": "markdown",
   "metadata": {},
   "source": [
    "<div class=\"alert alert-danger\"> delete </div>\n",
    "### Preprocessing procedure\n",
    "\n",
    "#### In this notebook, we will pre-process the text corpus using Spark\n",
    "\n",
    "The basic steps will be something like:\n",
    "\n",
    "2. create a metadata lookup table that can be distributed to the workers\n",
    "3. clean the dataset for missing values and repeated entries\n",
    "4. save the final, cleaned dataset to HDFS\n",
    "\n",
    "But first, we need to set up the Spark runtime."
   ]
  },
  {
   "cell_type": "markdown",
   "metadata": {},
   "source": [
    "<div class=\"alert alert-danger\"> maybe delete </div>\n",
    "### Loading the dataset from HDFS\n",
    "\n",
    "I have already pre-loaded the data for you to avoid some tedious boilerplate code. If you want to see the process anyway, you can have a look at the [data input notebook](part0-data-input.ipynb).\n",
    "\n",
    "Here, we just load the data from my HDFS:"
   ]
  },
  {
   "cell_type": "code",
   "execution_count": 11,
   "metadata": {
    "collapsed": true
   },
   "outputs": [],
   "source": [
    "text_rdd = sc.pickleFile('hdfs:///user/roskarr/gutenberg/raw_text_rdd')"
   ]
  },
  {
   "cell_type": "code",
   "execution_count": 12,
   "metadata": {
    "collapsed": false,
    "scrolled": true
   },
   "outputs": [
    {
     "name": "stdout",
     "output_type": "stream",
     "text": [
      "CPU times: user 44 ms, sys: 19 ms, total: 63 ms\n",
      "Wall time: 31.1 s\n"
     ]
    },
    {
     "data": {
      "text/plain": [
       "48177"
      ]
     },
     "execution_count": 12,
     "metadata": {},
     "output_type": "execute_result"
    }
   ],
   "source": [
    "%time text_rdd.cache().count()"
   ]
  },
  {
   "cell_type": "markdown",
   "metadata": {},
   "source": [
    "This operation loaded the data from the Hadoop distributed filesystem and created an RDD. If you look at the details for this stage in the Spark UI (click on the \"Stages\" tab at the top, then click on the \"count\" stage at the top of the list) you can understand why this is: in the column named \"locality level\", you see that for many tasks it says `NODE LOCAL` while for others it might say `RACK LOCAL`. These mean that either the data chunk was physically present on the disk of the node that was reading it in (`NODE LOCAL`) or it was on one of the nodes on the same switch (`RACK LOCAL`). Of course the additional advantage is not having to deal with the filesystem overhead of 10k+ small files. \n",
    "\n",
    "You can also check how much memory this raw data occupies by clicking on the \"Storage\" tab in the Spark UI. Note that if the value reported there says the data is serialized, it means it's also likely compressed so the actual size is a bit larger. \n",
    "\n",
    "Before we continue, have a look at the [Transformations](http://spark.apache.org/docs/latest/programming-guide.html#transformations) and [Actions](http://spark.apache.org/docs/latest/programming-guide.html#actions) in the Spark programming guide or the list of [RDD methods in the Spark API](http://spark.apache.org/docs/latest/api/python/pyspark.html#pyspark.RDD) to refresh your memory about what is available to you."
   ]
  },
  {
   "cell_type": "markdown",
   "metadata": {},
   "source": [
    "### 2.3. A first look at the data: creating a histogram of book lengths"
   ]
  },
  {
   "cell_type": "markdown",
   "metadata": {},
   "source": [
    "Lets have a look at what the RDD looks like\n",
    "\n",
    "<div class=\"alert alert-info\">\n",
    "<b>Exercise.</b>\n",
    "Use the `first` method of the RDD to retrieve data.\n",
    "</div>"
   ]
  },
  {
   "cell_type": "code",
   "execution_count": 13,
   "metadata": {
    "collapsed": false,
    "scrolled": true
   },
   "outputs": [
    {
     "name": "stdout",
     "output_type": "stream",
     "text": [
      "metadata:  {'lang': u'en', 'first_name': None, 'last_name': None, 'title': '- No Title -', 'downloads': u'243', 'death_year': None, 'gid': 1000, 'birth_year': None}\n",
      "\n",
      "text:  di qua nuova schiera sauna ltltquelli che muoion ne lira di dio tutti convegnon qui dogne paese che la divina giustizia li sprona si che la tema si volve in disio e pero se caron di te si lagna ben puoi sapere omai che l suo dir suonagtgt tremo si forte che de lo spavento la mente di sudore ancor mi bagna che baleno una luce vermiglia la qual mi vinse ciascun sentimento un greve truono si chio mi riscossi come persona che per forza desta dritto levato e fiso riguardai per conoscer lo loco dovio fossi de la valle dabisso dolorosa che ntrono accoglie dinfiniti guai tanto che per ficcar lo viso a fondo io non vi discernea alcuna cosa comincio il poeta tutto smorto ltltio saro primo e tu sarai secondogtgt dissi ltltcome verro se tu paventi che suoli al mio dubbiare esser confortogtgt che son qua giu nel viso mi dipigne quella pieta che tu per tema senti cosi si mise e cosi mi fe intrare nel primo cerchio che labisso cigne non avea pianto mai che di sospiri che laura etterna facevan tremare\n"
     ]
    }
   ],
   "source": [
    "meta, text = text_rdd.first()\n",
    "print('metadata: ', meta)\n",
    "print('\\ntext: ', text[20000:21000])"
   ]
  },
  {
   "cell_type": "markdown",
   "metadata": {},
   "source": [
    "For each data element we have a tuple containing a dictionary of metadata (`'lang'`, `'first_name'` etc.), and the text."
   ]
  },
  {
   "cell_type": "markdown",
   "metadata": {},
   "source": [
    "#### How long are the documents? \n",
    "\n",
    "Lets have a quick look at the number of words in these books. We'll do this by taking the values (text) of the `text_rdd` (there is a `values()` method that discards the keys of the RDD), use the `split` method of the text string to break it up into a list of words, and then use the built-in `len` method to get the length of this sequence. Finally, we will use the `collect` method to extract the numbers to the driver. "
   ]
  },
  {
   "cell_type": "markdown",
   "metadata": {},
   "source": [
    "<div class=\"alert alert-info\">\n",
    "<b>Exercise.</b>\n",
    "Map text_rdd to contain only the number of words in each document.\n",
    "</div>"
   ]
  },
  {
   "cell_type": "code",
   "execution_count": 14,
   "metadata": {
    "collapsed": true
   },
   "outputs": [],
   "source": [
    "text_lengths = (text_rdd.values()\n",
    "                        .map(lambda text: len(text.split()))).collect()"
   ]
  },
  {
   "cell_type": "code",
   "execution_count": 15,
   "metadata": {
    "collapsed": true
   },
   "outputs": [],
   "source": [
    "assert(text_lengths[:10] == [66976, 17180, 8455, 53847, 65001, 50678, 72798, 16398, 30705, 68609])"
   ]
  },
  {
   "cell_type": "markdown",
   "metadata": {},
   "source": [
    "We can quickly plot a histogram:"
   ]
  },
  {
   "cell_type": "code",
   "execution_count": 16,
   "metadata": {
    "collapsed": false
   },
   "outputs": [
    {
     "data": {
      "image/png": "[encoded data removed]",
      "text/plain": [
       "<matplotlib.figure.Figure at 0x2b66686cc110>"
      ]
     },
     "metadata": {},
     "output_type": "display_data"
    }
   ],
   "source": [
    "plt.hist(text_lengths, bins = 100, range=[0,3e5]);\n",
    "plt.xlabel('$N_{words}$'); plt.ylabel('count');"
   ]
  },
  {
   "cell_type": "markdown",
   "metadata": {},
   "source": [
    "### 2.4 Create a Metadata Lookup Table and Distribute it to the Workers\n",
    "#### Broadcast variables: a good way to distribute metadata"
   ]
  },
  {
   "cell_type": "markdown",
   "metadata": {},
   "source": [
    "Note that our dataset at the moment is composed of `(dictionary, text)` tuples. This is not ideal for several reasons: first, complex structures like dictionaries are more expensive to serialize, so replacing them by simple integer IDs can improve performance. And second, dictionaries are not hashable so cannot serve as keys. \n",
    "\n",
    "The solution is to replace the dictionary with just a single ID integer (in this case we already have it, the `gid` or the gutenberg ID of the book). However, as we manipulate the dataset, we will still want ready access to the metadata, but at the moment we have no efficient way of working with it. What we want is to generate a lookup table of metadata that can easily be retrieved when needed. \n",
    "\n",
    "For these kinds of situations when passing around some data to all the workers is required, you should use Spark's [broadcast variable](http://spark.apache.org/docs/latest/programming-guide.html#broadcast-variables) mechanism. By placing data inside a broadcast variable, you make it available to all the workers and it only needs to be sent across the network once. The next time a value from the broadcast variable is needed, it's simply taken from the local executor's memory, incurring no extra network cost. "
   ]
  },
  {
   "cell_type": "code",
   "execution_count": 17,
   "metadata": {
    "collapsed": true
   },
   "outputs": [],
   "source": [
    "# set up the list of fields\n",
    "metadata_fields = text_rdd.first()[0].keys() # this takes the metadata of the first element and extracts the keys\n",
    "meta_dict = dict()\n",
    "\n",
    "for meta in text_rdd.keys().collect() :\n",
    "    meta_dict[meta['gid']] = {key: meta[key] for key in metadata_fields}"
   ]
  },
  {
   "cell_type": "markdown",
   "metadata": {},
   "source": [
    "This is now a look-up table that allows us to quickly access all the metadata indexed by `gid`. For example to get the metadata of book with `gid=101`:"
   ]
  },
  {
   "cell_type": "code",
   "execution_count": 18,
   "metadata": {
    "collapsed": false
   },
   "outputs": [
    {
     "data": {
      "text/plain": [
       "{'birth_year': u'1954',\n",
       " 'death_year': None,\n",
       " 'downloads': u'352',\n",
       " 'first_name': u'Bruce',\n",
       " 'gid': 101,\n",
       " 'lang': u'en',\n",
       " 'last_name': u'Sterling',\n",
       " 'title': u'The Hacker Crackdown: Law and Disorder on the Electronic Frontier'}"
      ]
     },
     "execution_count": 18,
     "metadata": {},
     "output_type": "execute_result"
    }
   ],
   "source": [
    "meta_dict[101]"
   ]
  },
  {
   "cell_type": "markdown",
   "metadata": {},
   "source": [
    "To get, for example, the author birth year for book with `gid = 101`:"
   ]
  },
  {
   "cell_type": "code",
   "execution_count": 19,
   "metadata": {
    "collapsed": false
   },
   "outputs": [
    {
     "data": {
      "text/plain": [
       "u'1954'"
      ]
     },
     "execution_count": 19,
     "metadata": {},
     "output_type": "execute_result"
    }
   ],
   "source": [
    "meta_dict[101]['birth_year']"
   ]
  },
  {
   "cell_type": "markdown",
   "metadata": {},
   "source": [
    "Now we need to create the broadcast variable: "
   ]
  },
  {
   "cell_type": "code",
   "execution_count": 20,
   "metadata": {
    "collapsed": true
   },
   "outputs": [],
   "source": [
    "# call it meta_b for 'broadcast'\n",
    "meta_b = sc.broadcast(meta_dict)"
   ]
  },
  {
   "cell_type": "markdown",
   "metadata": {},
   "source": [
    "The underlying data object stored in `meta_b` can be accessed simply by\n",
    "\n",
    "    > meta_b.value\n",
    "    \n",
    "We'll make use of this soon. If you check the console output, you will see an INFO message that the broadcast has been created, i.e. \n",
    "\n",
    "```\n",
    "15/06/24 17:18:44 INFO storage.MemoryStore: Block broadcast_6_piece0 stored as bytes in memory (estimated size 910.7 KB, free 4.1 GB)\n",
    "15/06/24 17:18:44 INFO storage.BlockManagerInfo: Added broadcast_6_piece0 in memory on 10.201.20.22:47821 (size: 910.7 KB, free: 4.1 GB)\n",
    "15/06/24 17:18:44 INFO spark.SparkContext: Created broadcast 6 from broadcast at PythonRDD.scala:403\n",
    "```"
   ]
  },
  {
   "cell_type": "markdown",
   "metadata": {},
   "source": [
    "#### Save the metadata dictionary for later use\n",
    "We will need the metadata dictionary at a later point, so we save it to disk now to avoid having to regenerate it later. "
   ]
  },
  {
   "cell_type": "code",
   "execution_count": 21,
   "metadata": {
    "collapsed": true
   },
   "outputs": [],
   "source": [
    "from cPickle import dump"
   ]
  },
  {
   "cell_type": "code",
   "execution_count": 22,
   "metadata": {
    "collapsed": true
   },
   "outputs": [],
   "source": [
    "dump(meta_dict, open('{home}/gutenberg_metadata.dump'.format(home=os.environ['HOME']), 'w'))"
   ]
  },
  {
   "cell_type": "markdown",
   "metadata": {},
   "source": [
    "### 2.5. Clean the Dataset for Missing Values and Repeated Entries"
   ]
  },
  {
   "cell_type": "markdown",
   "metadata": {},
   "source": [
    "Now we're ready to do some quality checks on the data. Let's check out the first couple of metadata entries: "
   ]
  },
  {
   "cell_type": "code",
   "execution_count": 23,
   "metadata": {
    "collapsed": false
   },
   "outputs": [
    {
     "data": {
      "text/plain": [
       "[{'birth_year': None,\n",
       "  'death_year': None,\n",
       "  'downloads': u'243',\n",
       "  'first_name': None,\n",
       "  'gid': 1000,\n",
       "  'lang': u'en',\n",
       "  'last_name': None,\n",
       "  'title': '- No Title -'},\n",
       " {'birth_year': None,\n",
       "  'death_year': None,\n",
       "  'downloads': u'269',\n",
       "  'first_name': None,\n",
       "  'gid': 10000,\n",
       "  'lang': u'en',\n",
       "  'last_name': u'Anonymous',\n",
       "  'title': u'The Magna Carta'},\n",
       " {'birth_year': u'1863',\n",
       "  'death_year': u'1950',\n",
       "  'downloads': u'274',\n",
       "  'first_name': u'Lucius Annaeus',\n",
       "  'gid': 10001,\n",
       "  'lang': u'en',\n",
       "  'last_name': u'Seneca',\n",
       "  'title': u'Apocolocyntosis'},\n",
       " {'birth_year': u'1877',\n",
       "  'death_year': u'1918',\n",
       "  'downloads': u'865',\n",
       "  'first_name': u'William Hope',\n",
       "  'gid': 10002,\n",
       "  'lang': u'en',\n",
       "  'last_name': u'Hodgson',\n",
       "  'title': u'The House on the Borderland'},\n",
       " {'birth_year': u'1833',\n",
       "  'death_year': u'1923',\n",
       "  'downloads': u'15',\n",
       "  'first_name': u'Mary King',\n",
       "  'gid': 10003,\n",
       "  'lang': u'en',\n",
       "  'last_name': u'Waddington',\n",
       "  'title': u'My First Years as a Frenchwoman, 1876-1879'}]"
      ]
     },
     "execution_count": 23,
     "metadata": {},
     "output_type": "execute_result"
    }
   ],
   "source": [
    "text_rdd.keys().take(2)"
   ]
  },
  {
   "cell_type": "markdown",
   "metadata": {},
   "source": [
    "If you look at just the first few entries it becomes clear that we're going to have to do some quality control here. For example, we probably don't want books with \"None\" as either of the author names, and likewise we have to have the birth date in order to be able to create a time series out of the data in the end. \n",
    "\n",
    "Construct an RDD, as above, except that you filter out all the elements that have `None` for `title`, `first_name`, `last_name`, or `birth_year`. In addition, filter out the data with \"BC\" in either birth or death year. \n",
    "\n",
    "As a reminder, here is a cartoon illustration of the difference between `map` and `filter` RDD methods. `map` simply applies the function to each element, returning another element. \n",
    "\n",
    "![map](../figs/map_example.svg)\n",
    "\n",
    "In this example, with `filter` we are filtering out all the even elements of the RDD. The function that is passed to `filter` just has to evaluate to either `True` (1) or `False` (0) given the input data. The function `lambda (k,v): v%2` evaluates to 0 if `v` is even and 1 of `v` is odd. Hence, only the odd values pass the filter. \n",
    "\n",
    "![filter](../figs/filter_example.svg)\n",
    "\n",
    "The `filter_func` has already been defined for you below, but you need to apply it to `text_rdd`. "
   ]
  },
  {
   "cell_type": "code",
   "execution_count": 24,
   "metadata": {
    "collapsed": true
   },
   "outputs": [],
   "source": [
    "def filter_func(meta) : \n",
    "    no_none = all([meta[name] is not None for name in ['title', 'first_name', 'last_name', 'birth_year']])\n",
    "    if not no_none : \n",
    "        return False\n",
    "    else : \n",
    "        no_birth_bc = 'BC' not in meta['birth_year']\n",
    "        no_death_bc = True if meta['death_year'] is None else 'BC' not in meta['death_year']\n",
    "        return no_birth_bc & no_death_bc"
   ]
  },
  {
   "cell_type": "code",
   "execution_count": 25,
   "metadata": {
    "collapsed": true
   },
   "outputs": [],
   "source": [
    "# TODO\n",
    "filtered_rdd = text_rdd.filter(lambda (meta, text): filter_func(meta))"
   ]
  },
  {
   "cell_type": "code",
   "execution_count": 26,
   "metadata": {
    "collapsed": false,
    "scrolled": false
   },
   "outputs": [
    {
     "data": {
      "text/plain": [
       "[{'birth_year': u'1863',\n",
       "  'death_year': u'1950',\n",
       "  'downloads': u'274',\n",
       "  'first_name': u'Lucius Annaeus',\n",
       "  'gid': 10001,\n",
       "  'lang': u'en',\n",
       "  'last_name': u'Seneca',\n",
       "  'title': u'Apocolocyntosis'},\n",
       " {'birth_year': u'1877',\n",
       "  'death_year': u'1918',\n",
       "  'downloads': u'865',\n",
       "  'first_name': u'William Hope',\n",
       "  'gid': 10002,\n",
       "  'lang': u'en',\n",
       "  'last_name': u'Hodgson',\n",
       "  'title': u'The House on the Borderland'},\n",
       " {'birth_year': u'1833',\n",
       "  'death_year': u'1923',\n",
       "  'downloads': u'15',\n",
       "  'first_name': u'Mary King',\n",
       "  'gid': 10003,\n",
       "  'lang': u'en',\n",
       "  'last_name': u'Waddington',\n",
       "  'title': u'My First Years as a Frenchwoman, 1876-1879'},\n",
       " {'birth_year': u'1864',\n",
       "  'death_year': u'1948',\n",
       "  'downloads': u'9',\n",
       "  'first_name': u'Anna Robertson Brown',\n",
       "  'gid': 10004,\n",
       "  'lang': u'en',\n",
       "  'last_name': u'Lindsay',\n",
       "  'title': u'The Warriors'},\n",
       " {'birth_year': u'1775',\n",
       "  'death_year': u'1861',\n",
       "  'downloads': u'17',\n",
       "  'first_name': u'George',\n",
       "  'gid': 10005,\n",
       "  'lang': u'en',\n",
       "  'last_name': u'Tucker',\n",
       "  'title': u'A Voyage to the Moon\\r'}]"
      ]
     },
     "execution_count": 26,
     "metadata": {},
     "output_type": "execute_result"
    }
   ],
   "source": [
    "filtered_rdd.keys().take(5)"
   ]
  },
  {
   "cell_type": "markdown",
   "metadata": {},
   "source": [
    "How many do we have left? "
   ]
  },
  {
   "cell_type": "code",
   "execution_count": 27,
   "metadata": {
    "collapsed": false
   },
   "outputs": [
    {
     "name": "stdout",
     "output_type": "stream",
     "text": [
      "number of books after filtering:  34123\n"
     ]
    }
   ],
   "source": [
    "nfiltered = filtered_rdd.count()\n",
    "print('number of books after filtering: ', nfiltered)\n",
    "assert(nfiltered == 34123)"
   ]
  },
  {
   "cell_type": "markdown",
   "metadata": {},
   "source": [
    "#### A final bit of cleanup: \n",
    "\n",
    "some of the books end up split across multiple entries. Since it's the same book, each of the entries should have the same `gid`. \n",
    "\n",
    "To check for this we will use one of the most basic and common MapReduce patterns -- the key count: \n",
    "\n",
    "* map the data into `key`,`value` pairs where `key` is the quantity we want to count and `value` is just 1. In this case, the `key` will be `gid`\n",
    "* invoke a reduction *by key*, where the reduction operator is a simple addition\n",
    "\n",
    "Finally, we will sort the result in descending order and print out the first few elements to check whether we have to worry about documents spanning multiple files or not. \n",
    "\n",
    "The RDD operations that are needed are [`reduceByKey`](http://spark.apache.org/docs/latest/api/python/pyspark.html#pyspark.RDD.reduceByKey) and [sortBy](http://spark.apache.org/docs/latest/api/python/pyspark.html#pyspark.RDD.sortBy).\n",
    "\n",
    "`reduceByKey` works by grouping all data of a key together and applying the reduction function just to that data. Here's a simple illustration, in this case using a simple addition of two elements as a reduction:\n",
    "\n",
    "![reducebykey](../../slides/figs/reduceByKey_example.svg)\n",
    "\n",
    "\n",
    "\n",
    "For the `keyFunc` of the call to `sortBy`, use a `lambda` function that extracts the counts obtained from the `reduceByKey`. \n",
    "\n",
    "So, the procedure should be : \n",
    "\n",
    "1. `map` the `filtered_rdd` using a lambda function to contain (`gid`, 1) tuples\n",
    "2. `reduceByKey`\n",
    "3. `sortBy` (specify decreasing order, see the API) "
   ]
  },
  {
   "cell_type": "code",
   "execution_count": 28,
   "metadata": {
    "collapsed": true
   },
   "outputs": [],
   "source": [
    "from operator import add"
   ]
  },
  {
   "cell_type": "code",
   "execution_count": 29,
   "metadata": {
    "collapsed": false
   },
   "outputs": [
    {
     "data": {
      "text/plain": [
       "[(30310, 51),\n",
       " (6478, 43),\n",
       " (3772, 40),\n",
       " (8700, 35),\n",
       " (3332, 33),\n",
       " (12233, 29),\n",
       " (27672, 23),\n",
       " (3425, 23),\n",
       " (20776, 18),\n",
       " (2440, 16)]"
      ]
     },
     "execution_count": 29,
     "metadata": {},
     "output_type": "execute_result"
    }
   ],
   "source": [
    "# TODO: map the filtered_rdd to contain just the tuple (gid, 1)\n",
    "map_filtered = filtered_rdd.map(lambda (meta, text): (meta['gid'],1))\n",
    "\n",
    "# reduce the map_filtered rdd by key to get the total counts per gid\n",
    "reduced_gid_rdd = map_filtered.reduceByKey(add)\n",
    "\n",
    "# sort by count and print out the top 10\n",
    "reduced_gid_rdd.sortBy(lambda (key, count): count, False).take(10)"
   ]
  },
  {
   "cell_type": "code",
   "execution_count": 30,
   "metadata": {
    "collapsed": false
   },
   "outputs": [
    {
     "ename": "AssertionError",
     "evalue": "",
     "output_type": "error",
     "traceback": [
      "\u001b[1;31m---------------------------------------------------------------------------\u001b[0m",
      "\u001b[1;31mAssertionError\u001b[0m                            Traceback (most recent call last)",
      "\u001b[1;32m<ipython-input-30-2fd74742f103>\u001b[0m in \u001b[0;36m<module>\u001b[1;34m()\u001b[0m\n\u001b[1;32m----> 1\u001b[1;33m \u001b[1;32massert\u001b[0m\u001b[1;33m(\u001b[0m\u001b[0m_\u001b[0m \u001b[1;33m==\u001b[0m \u001b[1;33m[\u001b[0m\u001b[1;33m(\u001b[0m\u001b[1;36m30310\u001b[0m\u001b[1;33m,\u001b[0m \u001b[1;36m51\u001b[0m\u001b[1;33m)\u001b[0m\u001b[1;33m,\u001b[0m \u001b[1;33m(\u001b[0m\u001b[1;36m6478\u001b[0m\u001b[1;33m,\u001b[0m \u001b[1;36m43\u001b[0m\u001b[1;33m)\u001b[0m\u001b[1;33m,\u001b[0m \u001b[1;33m(\u001b[0m\u001b[1;36m3772\u001b[0m\u001b[1;33m,\u001b[0m \u001b[1;36m40\u001b[0m\u001b[1;33m)\u001b[0m\u001b[1;33m,\u001b[0m \u001b[1;33m(\u001b[0m\u001b[1;36m8700\u001b[0m\u001b[1;33m,\u001b[0m \u001b[1;36m35\u001b[0m\u001b[1;33m)\u001b[0m\u001b[1;33m,\u001b[0m \u001b[1;33m(\u001b[0m\u001b[1;36m3332\u001b[0m\u001b[1;33m,\u001b[0m \u001b[1;36m33\u001b[0m\u001b[1;33m)\u001b[0m\u001b[1;33m,\u001b[0m \u001b[1;33m(\u001b[0m\u001b[1;36m12233\u001b[0m\u001b[1;33m,\u001b[0m \u001b[1;36m29\u001b[0m\u001b[1;33m)\u001b[0m\u001b[1;33m,\u001b[0m \u001b[1;33m(\u001b[0m\u001b[1;36m3425\u001b[0m\u001b[1;33m,\u001b[0m \u001b[1;36m23\u001b[0m\u001b[1;33m)\u001b[0m\u001b[1;33m,\u001b[0m \u001b[1;33m(\u001b[0m\u001b[1;36m27672\u001b[0m\u001b[1;33m,\u001b[0m \u001b[1;36m23\u001b[0m\u001b[1;33m)\u001b[0m\u001b[1;33m,\u001b[0m \u001b[1;33m(\u001b[0m\u001b[1;36m20776\u001b[0m\u001b[1;33m,\u001b[0m \u001b[1;36m18\u001b[0m\u001b[1;33m)\u001b[0m\u001b[1;33m,\u001b[0m \u001b[1;33m(\u001b[0m\u001b[1;36m2440\u001b[0m\u001b[1;33m,\u001b[0m \u001b[1;36m16\u001b[0m\u001b[1;33m)\u001b[0m\u001b[1;33m]\u001b[0m\u001b[1;33m)\u001b[0m\u001b[1;33m\u001b[0m\u001b[0m\n\u001b[0m",
      "\u001b[1;31mAssertionError\u001b[0m: "
     ]
    }
   ],
   "source": [
    "assert(_ == [(30310, 51), (6478, 43), (3772, 40), (8700, 35), (3332, 33), (12233, 29), (3425, 23), (27672, 23), (20776, 18), (2440, 16)])"
   ]
  },
  {
   "cell_type": "markdown",
   "metadata": {},
   "source": [
    "Note that there are several transformations here that lead to the final result, `sorted_reduced`. A common syntax is to group them all together, by enclosing them in `( )` and chaining them: "
   ]
  },
  {
   "cell_type": "code",
   "execution_count": null,
   "metadata": {
    "collapsed": true
   },
   "outputs": [],
   "source": [
    "# TODO: repeat the above steps but chain them together\n",
    "(filtered_rdd.map(lambda (meta, text): (meta['gid'], 1))\n",
    "             .reduceByKey(add)\n",
    "             .sortBy(lambda (key,count): count, False)\n",
    "             .take(10))"
   ]
  },
  {
   "cell_type": "markdown",
   "metadata": {},
   "source": [
    "Looks like we have a few that are made up of multiple sections. To combine them, we will use `reduceByKey` which will result in having an RDD of `gid`'s as keys and the combined text of each `gid`. The reduction function in `reduceByKey` can be a simple in-line function that just adds two elements together -- in this case we just use the `add` operator."
   ]
  },
  {
   "cell_type": "code",
   "execution_count": 32,
   "metadata": {
    "collapsed": true
   },
   "outputs": [],
   "source": [
    "cleaned_rdd = (filtered_rdd.map(lambda (meta, text): (meta['gid'], text))\n",
    "                           .reduceByKey(add))"
   ]
  },
  {
   "cell_type": "markdown",
   "metadata": {},
   "source": [
    "As a simple sanity check, lets look at `gid`=6478, which according to the cell above has 43 sections in the original dataset: "
   ]
  },
  {
   "cell_type": "code",
   "execution_count": 34,
   "metadata": {
    "collapsed": false
   },
   "outputs": [
    {
     "data": {
      "text/plain": [
       "43"
      ]
     },
     "execution_count": 34,
     "metadata": {},
     "output_type": "execute_result"
    }
   ],
   "source": [
    "len(filtered_rdd.map(lambda (meta, text): (meta['gid'],1))\n",
    "                .lookup(6478))"
   ]
  },
  {
   "cell_type": "code",
   "execution_count": 35,
   "metadata": {
    "collapsed": false
   },
   "outputs": [
    {
     "data": {
      "text/plain": [
       "1"
      ]
     },
     "execution_count": 35,
     "metadata": {},
     "output_type": "execute_result"
    }
   ],
   "source": [
    "len(cleaned_rdd.lookup(6478))"
   ]
  },
  {
   "cell_type": "markdown",
   "metadata": {},
   "source": [
    "To avoid having to do all these pre-processing steps again at a later point, lets also save the `cleaned_rdd`:"
   ]
  },
  {
   "cell_type": "code",
   "execution_count": 39,
   "metadata": {
    "collapsed": true
   },
   "outputs": [],
   "source": [
    "cleaned_rdd.saveAsPickleFile('/user/{username}/gutenberg/cleaned_rdd'.format(username=os.environ['USER']))"
   ]
  },
  {
   "cell_type": "markdown",
   "metadata": {},
   "source": [
    "This is now saved in the directory we specified, one file per partition:"
   ]
  },
  {
   "cell_type": "code",
   "execution_count": 40,
   "metadata": {
    "collapsed": false,
    "scrolled": true
   },
   "outputs": [
    {
     "name": "stdout",
     "output_type": "stream",
     "text": [
      "Picked up _JAVA_OPTIONS: -XX:ParallelGCThreads=1\n",
      "15/11/20 16:22:17 WARN util.NativeCodeLoader: Unable to load native-hadoop library for your platform... using builtin-java classes where applicable\n",
      "Found 401 items\n",
      "-rw-r--r--   3 roskarr supergroup          0 2015-11-20 16:22 /user/roskarr/gutenberg/cleaned_rdd/_SUCCESS\n",
      "-rw-r--r--   3 roskarr supergroup   81072401 2015-11-20 16:21 /user/roskarr/gutenberg/cleaned_rdd/part-00000\n",
      "-rw-r--r--   3 roskarr supergroup   33277657 2015-11-20 16:21 /user/roskarr/gutenberg/cleaned_rdd/part-00001\n",
      "-rw-r--r--   3 roskarr supergroup   24855133 2015-11-20 16:21 /user/roskarr/gutenberg/cleaned_rdd/part-00002\n",
      "-rw-r--r--   3 roskarr supergroup   26256221 2015-11-20 16:21 /user/roskarr/gutenberg/cleaned_rdd/part-00003\n",
      "-rw-r--r--   3 roskarr supergroup   32900633 2015-11-20 16:21 /user/roskarr/gutenberg/cleaned_rdd/part-00004\n",
      "-rw-r--r--   3 roskarr supergroup   27338328 2015-11-20 16:21 /user/roskarr/gutenberg/cleaned_rdd/part-00005\n",
      "-rw-r--r--   3 roskarr supergroup   29599492 2015-11-20 16:21 /user/roskarr/gutenberg/cleaned_rdd/part-00006\n",
      "-rw-r--r--   3 roskarr supergroup   32496350 2015-11-20 16:21 /user/roskarr/gutenberg/cleaned_rdd/part-00007\n"
     ]
    }
   ],
   "source": [
    "!hadoop fs -ls /user/$USER/gutenberg/cleaned_rdd | head"
   ]
  },
  {
   "cell_type": "code",
   "execution_count": 41,
   "metadata": {
    "collapsed": false
   },
   "outputs": [
    {
     "name": "stdout",
     "output_type": "stream",
     "text": [
      "Picked up _JAVA_OPTIONS: -XX:ParallelGCThreads=1\n",
      "15/11/20 16:22:21 WARN util.NativeCodeLoader: Unable to load native-hadoop library for your platform... using builtin-java classes where applicable\n",
      "10.8 G  /user/roskarr/gutenberg/cleaned_rdd\n",
      "14.6 G  /user/roskarr/gutenberg/raw_text_rdd\n"
     ]
    }
   ],
   "source": [
    "!hadoop fs -du -h /user/$USER/gutenberg/"
   ]
  },
  {
   "cell_type": "markdown",
   "metadata": {},
   "source": [
    "Note that here we used the `hadoop` command in the local bash shell (the `!` at the beginning of the line means we are executing the command in the shell). This allows us to access the hadoop filesystem (HDFS), which is separate from the local file system we are used to. You'll notice, for example, that this directory doesn't exist in the local filesystem:"
   ]
  },
  {
   "cell_type": "code",
   "execution_count": 42,
   "metadata": {
    "collapsed": false
   },
   "outputs": [
    {
     "name": "stdout",
     "output_type": "stream",
     "text": [
      "ls: cannot access /user/roskarr/gutenberg/: No such file or directory\r\n"
     ]
    }
   ],
   "source": [
    "!ls /user/$USER/gutenberg/"
   ]
  },
  {
   "cell_type": "markdown",
   "metadata": {},
   "source": [
    "You can also browse the filesystem via the [HDFS web UI](http://hadoop.ethz.ch:50070). The `hadoop fs` command has many of the same options as regular Linux/Unix shell commands you might be used to for manipulating files and directories. Try running\n",
    "\n",
    "```bash\n",
    "cluster $> module load hadoop\n",
    "cluster $> hadoop fs -help\n",
    "```\n",
    "\n",
    "in a new shell to see all the options. "
   ]
  },
  {
   "cell_type": "markdown",
   "metadata": {},
   "source": [
    "#### Recap of steps up until this point\n",
    "\n",
    "We've done quite a lot already with our dataset in Spark, although it's only the beginning!\n",
    "\n",
    "1. created an RDD of filenames (`filename_rdd`)\n",
    "2. transformed the `filename_rdd` into an RDD of `(metadata, text)` (`text_rdd`); we also saved this to HDFS\n",
    "3. filtered out data with bad metadata, e.g. missing author names etc.\n",
    "3. cleaned up the entries a bit more by merging ones with identical IDs; we called this `cleaned_rdd`"
   ]
  },
  {
   "cell_type": "markdown",
   "metadata": {},
   "source": [
    "#### Shutting down the `SparkContext`\n",
    "\n",
    "Now that the pre-processing is done, we will shut down the `SparkContext` before continuing to the data analysis notebook. We have all of our results saved in HDFS, so to continue from where we left off will just require loading data from there. "
   ]
  },
  {
   "cell_type": "code",
   "execution_count": 43,
   "metadata": {
    "collapsed": true
   },
   "outputs": [],
   "source": [
    "sc.stop()"
   ]
  },
  {
   "cell_type": "markdown",
   "metadata": {},
   "source": [
    "Now that the pre-processing steps are complete, we can continue to the [analysis notebook](part2-ngram-viewer-SOLUTIONS.ipynb)"
   ]
  },
  {
   "cell_type": "code",
   "execution_count": 1,
   "metadata": {
    "collapsed": true
   },
   "outputs": [],
   "source": [
    "from __future__ import print_function\n",
    "%matplotlib inline\n",
    "import matplotlib.pylab as plt\n",
    "import sys, os, glob\n",
    "import numpy as np\n",
    "import subprocess\n",
    "\n",
    "from IPython.display import HTML\n",
    "import xml.etree.ElementTree as ET\n",
    "try:\n",
    "    tree = ET.parse(os.environ['HADOOP_CONF_DIR'] + '/yarn-site.xml')\n",
    "except IOError:\n",
    "    raise IOError(\"Can't find the yarn configuration -- is HADOOP_CONF_DIR set?\")\n",
    "root = tree.getroot()\n",
    "yarn_web_app = root.findall(\"./property[name='yarn.resourcemanager.webapp.address']\")[0].find('value').text\n",
    "yarn_web_app_string = \"If this works successfully, you can check the <a target='_blank' href='http://{yarn_web_app}'>YARN application scheduler</a> and you should see your app listed there. Clicking on the 'Application Master' link will bring up the familiar Spark Web UI. \"\n",
    "\n",
    "plt.rcParams['figure.figsize'] = (10,6)\n",
    "plt.rcParams['font.size'] = 18\n",
    "plt.style.use('fivethirtyeight')"
   ]
  },
  {
   "cell_type": "markdown",
   "metadata": {},
   "source": [
    "<div class=\"alert alert-danger\">\n",
    "<h1>Analyze Word Usage over Time</h1>\n",
    "</div>\n",
    "\n",
    "<div class=\"alert alert-success\">\n",
    "<b>The learning goals of this chapter are</b>\n",
    "<ul>\n",
    "<li> Learn about reduce, shuffles, partitioning and implications on network load </li>\n",
    "<li> Reduce network load with mapPartition </li>\n",
    "<li> Learn word vectorization methods using n-grams </li>\n",
    "<li> Learn to use treeAggregate </li>\n",
    "</ul>\n",
    "</div>"
   ]
  },
  {
   "cell_type": "markdown",
   "metadata": {},
   "source": [
    "\n",
    "# Analyzing the Gutenberg Books Corpus"
   ]
  },
  {
   "cell_type": "markdown",
   "metadata": {},
   "source": [
    "In this notebook, we will use the cleaned, pre-processed data that we created in the [pre-processing part](gutenberg-preprocessing-SOLUTIONS.ipynb). As a reminder, we ended up with an RDD of `(gid, text)` tuples that has been cleaned and we stored it on HDFS at `/user/<YOUR_USERNAME>/gutenberg/cleaned_rdd`. \n",
    "\n",
    "We have two goals in this notebook:\n",
    "\n",
    "1. generate data that will enable us to create something like the [Google Ngram Viewer](https://books.google.com/ngrams) but for the Gutenberg book corpus. \n",
    "2. Use Spark's machine learning library to perform language classification on the English and German book corpus"
   ]
  },
  {
   "cell_type": "markdown",
   "metadata": {},
   "source": [
    "## Set up and launch the Spark runtime\n",
    "\n",
    "Remember from the previous notebook that we have a saved configuration in `./spark_config/` -- so all we need to do is set the `SPARK_CONF_DIR` environment variable and our default configuration will be used: "
   ]
  },
  {
   "cell_type": "code",
   "execution_count": 2,
   "metadata": {
    "collapsed": true
   },
   "outputs": [],
   "source": [
    "os.environ['SPARK_CONF_DIR'] = os.path.realpath('./spark_config')"
   ]
  },
  {
   "cell_type": "markdown",
   "metadata": {},
   "source": [
    "As before, we'll also set the amount of memory we want to use for the driver and set up the paths using `findspark`:"
   ]
  },
  {
   "cell_type": "code",
   "execution_count": 3,
   "metadata": {
    "collapsed": true
   },
   "outputs": [],
   "source": [
    "# how many cores do we have for the driver\n",
    "ncores = int(os.environ.get('LSB_DJOB_NUMPROC', 1)) \n",
    "\n",
    "# here we set the memory we want spark to use for the driver JVM\n",
    "os.environ['SPARK_DRIVER_MEMORY'] = '%dG'%(ncores*2*0.7)\n",
    "\n",
    "# we have to tell spark which python executable we are using\n",
    "os.environ['PYSPARK_PYTHON'] = subprocess.check_output('which python', shell=True).rstrip()\n",
    "\n",
    "import findspark\n",
    "findspark.init()\n",
    "\n",
    "import pyspark\n",
    "from pyspark import SparkConf, SparkContext"
   ]
  },
  {
   "cell_type": "markdown",
   "metadata": {},
   "source": [
    "Note that there is another file in `./spark_config`: "
   ]
  },
  {
   "cell_type": "code",
   "execution_count": 4,
   "metadata": {
    "collapsed": false
   },
   "outputs": [
    {
     "name": "stdout",
     "output_type": "stream",
     "text": [
      "# Set everything to be logged to the console\r\n",
      "log4j.rootCategory=WARN, console\r\n",
      "log4j.appender.console=org.apache.log4j.ConsoleAppender\r\n",
      "log4j.appender.console.target=System.err\r\n",
      "log4j.appender.console.layout=org.apache.log4j.PatternLayout\r\n",
      "log4j.appender.console.layout.ConversionPattern=%d{yy/MM/dd HH:mm:ss} %p %c{1}: %m%n\r\n",
      "log4j.appender.file_appender.File=${spark.yarn.app.container.log.dir}/spark.log\r\n",
      "\r\n",
      "# Settings to quiet third party logs that are too verbose\r\n",
      "log4j.logger.org.eclipse.jetty=WARN\r\n",
      "log4j.logger.org.eclipse.jetty.util.component.AbstractLifeCycle=ERROR\r\n",
      "log4j.logger.org.apache.spark.repl.SparkIMain$exprTyper=INFO\r\n",
      "log4j.logger.org.apache.spark.repl.SparkILoop$SparkILoopInterpreter=INFO\r\n",
      "\r\n",
      "# get all info from the mllib components\r\n",
      "log4j.logger.org.apache.spark.mllib=INFO, console\r\n",
      "log4j.additivity.org.apache.spark.mllib=false\r\n",
      "\r\n",
      "# make sure we get warnings from scheduler and storage\r\n",
      "log4j.logger.org.apache.spark.scheduler=WARN, console\r\n",
      "log4j.additivity.spark.scheduler=false\r\n",
      "log4j.logger.org.apache.spark.storage=WARN, console\r\n",
      "log4j.additivity.spark.storage=false\r\n"
     ]
    }
   ],
   "source": [
    "!cat ./spark_config/log4j.properties"
   ]
  },
  {
   "cell_type": "markdown",
   "metadata": {},
   "source": [
    "This logging set-up quiets down the amount of stuff we see in the console..."
   ]
  },
  {
   "cell_type": "markdown",
   "metadata": {},
   "source": [
    "### Initializing the `SparkContext`\n",
    "\n",
    "We'll create an empty `SparkConf` here for completeness -- if we needed to, we could alter any of the settings here. Then we launch the `SparkContext` as before:  "
   ]
  },
  {
   "cell_type": "code",
   "execution_count": 5,
   "metadata": {
    "collapsed": true
   },
   "outputs": [],
   "source": [
    "conf = SparkConf()"
   ]
  },
  {
   "cell_type": "code",
   "execution_count": 6,
   "metadata": {
    "collapsed": false
   },
   "outputs": [
    {
     "data": {
      "text/plain": [
       "<pyspark.conf.SparkConf at 0x2b6d7c4af890>"
      ]
     },
     "execution_count": 6,
     "metadata": {},
     "output_type": "execute_result"
    }
   ],
   "source": [
    "conf.set('spark.metrics.conf', '/cluster/home03/sdid/roskarr/spark_graphite_conf/metrics.properties')"
   ]
  },
  {
   "cell_type": "code",
   "execution_count": 7,
   "metadata": {
    "collapsed": true
   },
   "outputs": [],
   "source": [
    "sc = SparkContext(master='yarn-client', conf=conf)"
   ]
  },
  {
   "cell_type": "markdown",
   "metadata": {},
   "source": [
    "## Load the data from HDFS"
   ]
  },
  {
   "cell_type": "code",
   "execution_count": 8,
   "metadata": {
    "collapsed": true
   },
   "outputs": [],
   "source": [
    "# TODO: load cleaned_rdd from your directory HDFS\n",
    "cleaned_rdd = sc.pickleFile('/user/roskarr/gutenberg/cleaned_rdd').setName('cleaned_rdd').cache()"
   ]
  },
  {
   "cell_type": "markdown",
   "metadata": {},
   "source": [
    "A quick inspection of the data to remind ourselves what it looks like: "
   ]
  },
  {
   "cell_type": "code",
   "execution_count": 8,
   "metadata": {
    "collapsed": false
   },
   "outputs": [
    {
     "name": "stdout",
     "output_type": "stream",
     "text": [
      "12800  conceive what might have happened if it had been some other of our presidents who had happened to have his term begin in yet after all the study that can be made of him there are unexplainable elements in lincolns character which will leave him forever an enigma if the world ever settles down to the acceptance of any definite accurate picture of him it will surely be a false picture there must always be vague indefinable uncertainties in any presentation of him which shall be truly made of the \n"
     ]
    }
   ],
   "source": [
    "gid, text = cleaned_rdd.first()\n",
    "print(gid, text[10000:10500]) # somewhere in the middle of the book"
   ]
  },
  {
   "cell_type": "code",
   "execution_count": 9,
   "metadata": {
    "collapsed": false
   },
   "outputs": [
    {
     "data": {
      "text/plain": [
       "33666"
      ]
     },
     "execution_count": 9,
     "metadata": {},
     "output_type": "execute_result"
    }
   ],
   "source": [
    "cleaned_rdd.count()"
   ]
  },
  {
   "cell_type": "markdown",
   "metadata": {},
   "source": [
    "### Load in the metadata dictionary and broadcast it"
   ]
  },
  {
   "cell_type": "code",
   "execution_count": 10,
   "metadata": {
    "collapsed": true
   },
   "outputs": [],
   "source": [
    "from cPickle import load\n",
    "\n",
    "with open('{home}/gutenberg_metadata.dump'.format(home=os.environ['HOME']), 'r') as f :\n",
    "    meta_dict = load(f)"
   ]
  },
  {
   "cell_type": "code",
   "execution_count": 11,
   "metadata": {
    "collapsed": true
   },
   "outputs": [],
   "source": [
    "# TODO: create meta_b by broadcasting meta_dict\n",
    "meta_b = sc.broadcast(meta_dict)"
   ]
  },
  {
   "cell_type": "markdown",
   "metadata": {},
   "source": [
    "Now, our `cleaned_rdd` contains `gid`'s as keys and text as values and if we want some other piece of metadata, we can just access it via the lookup table, for example `meta_b.value[gid][meta_name]`. "
   ]
  },
  {
   "cell_type": "markdown",
   "metadata": {},
   "source": [
    "### Histogram of book publication years\n",
    "Now we're ready to start asking some questions of the data. To begin with, lets do a simple histogram of the year distribution of the books. Since we don't have original publication dates, we just use the simple formula: \n",
    "\n",
    "$year = max\\left((year_{birth} + year_{death})/2, year_{birth} + offset\\right)$, \n",
    "\n",
    "where $offset$ is a number drawn from a gaussian centered on 40 with $\\sigma = 5$ years. This means that we assume most people write their books around age 40. ;)\n",
    "\n",
    "The function `publication_year` is provided for you and you should use it to *transform* the `year_rdd` into an RDD of publication years. \n",
    "\n",
    "Remember that we created a broadcast variable at the beginning of the notebook, which can be used to efficiently look up metadata."
   ]
  },
  {
   "cell_type": "code",
   "execution_count": 19,
   "metadata": {
    "collapsed": true
   },
   "outputs": [],
   "source": [
    "from random import gauss\n",
    "\n",
    "def publication_year(gid) : \n",
    "    \"\"\"Returns the publication year for the given gutenberg id (gid)\"\"\"\n",
    "    \n",
    "    # extract the metadata dictionary for this gid\n",
    "    meta = meta_b.value[gid]\n",
    "    \n",
    "    birth_year = int(meta['birth_year'])\n",
    "    if meta['death_year'] is None : \n",
    "        year = birth_year + np.random.normal(40,5)\n",
    "    else :\n",
    "        death_year = int(meta['death_year'])\n",
    "        year = max((birth_year + death_year) / 2.0, birth_year+gauss(40,5))\n",
    "\n",
    "    return min(int(year),2015)"
   ]
  },
  {
   "cell_type": "code",
   "execution_count": 24,
   "metadata": {
    "collapsed": false
   },
   "outputs": [
    {
     "data": {
      "text/plain": [
       "33666"
      ]
     },
     "execution_count": 24,
     "metadata": {},
     "output_type": "execute_result"
    }
   ],
   "source": [
    "# TODO: map cleaned_rdd to contain just the publication years by using the publication_year function above\n",
    "year_rdd = cleaned_rdd.map(lambda (gid, text): publication_year(gid))\n",
    "                       \n",
    "year_rdd.count()"
   ]
  },
  {
   "cell_type": "code",
   "execution_count": 25,
   "metadata": {
    "collapsed": false
   },
   "outputs": [
    {
     "data": {
      "text/plain": [
       "1888"
      ]
     },
     "execution_count": 25,
     "metadata": {},
     "output_type": "execute_result"
    }
   ],
   "source": [
    "year_rdd.first()"
   ]
  },
  {
   "cell_type": "markdown",
   "metadata": {},
   "source": [
    "The histogram function actually already exists in the Spark API (but it didn't use to!). However, for fun we will write our own. Calculating the histogram can be split up into two parts:\n",
    "\n",
    "2. calculate the bin that the value maps to and create an RDD of (`bin`, 1) pair\n",
    "3. do a `reduceByKey` where we just add up all the values belonging to each bin. \n",
    "\n",
    "The last step is the simplest for us to execute, but the most complicated in terms of what happens behind the scenes. The reduction happens in two parts - first, it creates a list of `(key, count)` pairs locally by iterating through all the elements of the partition and creating a hash table. Then, these pairs are communicated to other partitions and added up. "
   ]
  },
  {
   "cell_type": "code",
   "execution_count": 31,
   "metadata": {
    "collapsed": true
   },
   "outputs": [],
   "source": [
    "# define a helper function to determine which bin a value falls into\n",
    "from bisect import bisect_right\n",
    "def get_bin(bin_edges, value) : \n",
    "    \"\"\"Returns which bin, specified by `bin_edges`, the `value` falls into.\"\"\"\n",
    "    \n",
    "    return bisect_right(bin_edges, value) - 1"
   ]
  },
  {
   "cell_type": "code",
   "execution_count": 32,
   "metadata": {
    "collapsed": true
   },
   "outputs": [],
   "source": [
    "# TODO: fill in the bits and pieces of the histogram function\n",
    "\n",
    "def histogram(rdd, nbins = 100, min_val=None, max_val=None) :\n",
    "    \"\"\"\n",
    "    Calculate a histogram of the data, given the number of bins and the data range. \n",
    "    \n",
    "    Arguments: \n",
    "        \n",
    "        rdd: the data RDD\n",
    "    \n",
    "    Optional Keywords:\n",
    "        \n",
    "        nbins: number of bins (default 100)\n",
    "        \n",
    "        min_val: minimum value to consider (default, min value of the input data)\n",
    "        \n",
    "        max_val: maximum value to consider (default, max value of the input data)\n",
    "    \n",
    "    Returns: \n",
    "        \n",
    "        tuple of bins and array of counts\n",
    "        \n",
    "    \"\"\"\n",
    "    # if either min_val or max_val are missing, get them from the data\n",
    "    if min_val is None : \n",
    "        min_val = rdd.min() # FILL IN --> look at the Spark API!\n",
    "    if max_val is None : \n",
    "        max_val = rdd.max() # FILL IN --> look at the Spark API!\n",
    "        \n",
    "    # create the array of bin edges\n",
    "    bin_edges = np.linspace(min_val,max_val,nbins+1)\n",
    "    \n",
    "    # create an RDD where each data value is mapped into a tuple (bin, 1) that will \n",
    "    # be used for counting up the bin values (use the get_bin function defined above to generate the bin)\n",
    "    binned_rdd = rdd.map(lambda x: (get_bin(bin_edges, x),1)) # FILL IN \n",
    "    \n",
    "    # reduce binned_rdd \n",
    "    summed_bins = binned_rdd.reduceByKey(lambda a,b:a+b).collect() # FILL IN \n",
    "    \n",
    "    # This is a sparse result -- turn into a dense vector for plotting: \n",
    "    res_full = np.zeros(nbins)\n",
    "    overflow = 0\n",
    "    for item in summed_bins : \n",
    "        if item[0] > len(res_full)-1 or item[0] < 0: \n",
    "            continue # ignore\n",
    "        else: res_full[item[0]] = item[1]\n",
    "            \n",
    "    return .5*(bin_edges[:-1]+bin_edges[1:]), res_full"
   ]
  },
  {
   "cell_type": "code",
   "execution_count": 33,
   "metadata": {
    "collapsed": false
   },
   "outputs": [
    {
     "name": "stdout",
     "output_type": "stream",
     "text": [
      "CPU times: user 170 ms, sys: 49 ms, total: 219 ms\n",
      "Wall time: 5.52 s\n"
     ]
    }
   ],
   "source": [
    "%time bins, vals = histogram(year_rdd, min_val=1500, max_val=2015)"
   ]
  },
  {
   "cell_type": "markdown",
   "metadata": {},
   "source": [
    "Finally, here is the histogram of publication years:"
   ]
  },
  {
   "cell_type": "code",
   "execution_count": 34,
   "metadata": {
    "collapsed": false
   },
   "outputs": [
    {
     "data": {
      "image/png": "[encoded data removed]",
      "text/plain": [
       "<matplotlib.figure.Figure at 0x2ad22a4fd810>"
      ]
     },
     "metadata": {},
     "output_type": "display_data"
    }
   ],
   "source": [
    "plt.plot(bins, vals)\n",
    "plt.xlim(1500,2015)\n",
    "plt.xlabel('year')\n",
    "plt.ylabel('Number of books')\n",
    "plt.semilogy();"
   ]
  },
  {
   "cell_type": "markdown",
   "metadata": {},
   "source": [
    "### Reducing network traffic by using `mapPartition`\n",
    "\n",
    "This kind of operation is a good candidate for first computing a partial result on each partition and then following with a reduce step. \n",
    "\n",
    "In our `histogram` function above, the `reduceByKey` step requires a reshuffling of the data which means spending potentially a lot of time in network communication and other overhead associated with creating distributed hash tables for all the keys. \n",
    "\n",
    "However, since our binning function effectively already hashes the values anyway, we can avoid this by instructing first each partition to calculate its local histogram and then simply adding up the histograms in the end. In this way, we are basically combinging the `map` operation with a local `reduce` operation, and since the number of bins is always relatively small, we end up sending a trivial amount of data across the network. \n",
    "\n",
    "Here is where our knowledge of generators comes in handy, because the method [`mapPartitions`](http://spark.apache.org/docs/latest/api/python/pyspark.html#pyspark.RDD.mapPartitions) *requires* a generator function. "
   ]
  },
  {
   "cell_type": "markdown",
   "metadata": {},
   "source": [
    "The key here is to define a histogram function that calculates the histogram on each partition locally. `mapPartitions` gives us an *iterator* over the data; we need to extract the data out of this iterator and calculate the local histograms *for the data in each partition*. Below, this is accomplished using the `bin_partition` function.\n",
    "\n",
    "Finally, we define a new `histogram_partition` function that uses `bin_partition` to compute the local histograms and a simple addition in a `reduce` operation to sum up the histograms in the end. "
   ]
  },
  {
   "cell_type": "code",
   "execution_count": 35,
   "metadata": {
    "collapsed": true
   },
   "outputs": [],
   "source": [
    "def bin_partition(iterator, nbins,  min_val, max_val) : \n",
    "    \"\"\"\n",
    "    Perform the binning of data contained in an iterator\n",
    "    \n",
    "    Arguments: \n",
    "        \n",
    "        iterator: the data iterable \n",
    "        \n",
    "        nbins: number of bins\n",
    "        \n",
    "        min_val, max_val: min and max values to consider\n",
    "    \n",
    "    yields the local histogram\n",
    "    \"\"\"\n",
    "    from bisect import bisect_right\n",
    "    \n",
    "    bin_edges = np.linspace(min_val,max_val,nbins+1)\n",
    "    \n",
    "    histogram = np.zeros(len(bin_edges)-1)\n",
    "    \n",
    "    for item in iterator : # iterating over all the items in the partition\n",
    "        try : \n",
    "            ind = get_bin(bin_edges,item)\n",
    "            histogram[ind] += 1\n",
    "        except IndexError : \n",
    "            pass\n",
    "        \n",
    "    yield histogram\n",
    "\n",
    "def histogram_partition(rdd, nbins = 100, min_val=None, max_val=None) :\n",
    "    \"\"\"\n",
    "    Calculate a histogram of the data by using partition methods\n",
    "    \n",
    "    Arguments: \n",
    "    \n",
    "        rdd: the data\n",
    "        \n",
    "    Optional Keywords:\n",
    "    \n",
    "        nbins: number of bins (default 100)\n",
    "        \n",
    "        min_val: minimum value to consider (default, min value of the input data)\n",
    "        \n",
    "        max_val: maximum value to consider (default, max value of the input data)\n",
    "    \n",
    "    Returns: \n",
    "        \n",
    "        tuple of bins and array of counts\n",
    "    \"\"\"\n",
    "    # if either min_val or max_val are missing, get them from the data\n",
    "    if min_val is None : \n",
    "        min_val = rdd.min() # FILL IN\n",
    "    if max_val is None : \n",
    "        max_val = rdd.max() # FILL IN\n",
    "        \n",
    "    bin_edges = np.linspace(min_val,max_val,nbins+1)\n",
    "    \n",
    "    result = (rdd.mapPartitions(lambda iterator: bin_partition(iterator, nbins, min_val, max_val))\n",
    "                 .reduce(lambda a,b: a+b))\n",
    "    \n",
    "    return .5*(bin_edges[:-1]+bin_edges[1:]), result"
   ]
  },
  {
   "cell_type": "code",
   "execution_count": 36,
   "metadata": {
    "collapsed": false
   },
   "outputs": [
    {
     "name": "stdout",
     "output_type": "stream",
     "text": [
      "CPU times: user 89 ms, sys: 6 ms, total: 95 ms\n",
      "Wall time: 3.75 s\n"
     ]
    }
   ],
   "source": [
    "%time bins, vals = histogram_partition(year_rdd, min_val=1500, max_val=2015)"
   ]
  },
  {
   "cell_type": "markdown",
   "metadata": {},
   "source": [
    "The difference here doesn't look dramatic because the total amount of data is rather small, but have a look at the Spark Web UI and you will see that the second implementation didn't do any shuffle writing. If you have a large number of keys, the intermediate shuffles that need to take place can have a substantial impact on performance. With a bigger data set, this difference could potentially matter quite a lot!"
   ]
  },
  {
   "cell_type": "markdown",
   "metadata": {},
   "source": [
    "### Inspecting the metadata some more\n",
    "\n",
    "Lets do a couple more checks and practice using the Spark API. \n",
    "\n",
    "#### How many unique authors are there in the dataset? \n",
    "\n",
    "1. make `author_rdd` that is composed of a string `\"last_name, first_name\"` (use the broadcast variable `meta_b` to get the data for each `gid`)\n",
    "2. keep only the unique author strings (*hint*: look at the Spark API to find an appropriate method)\n",
    "3. count the number of elements remaining\n",
    "\n",
    "**note**: use `meta_b.value` to access the actual metadata dictionary, for example, to get the metadata for `gid=101`:"
   ]
  },
  {
   "cell_type": "code",
   "execution_count": 38,
   "metadata": {
    "collapsed": false
   },
   "outputs": [
    {
     "data": {
      "text/plain": [
       "{'birth_year': u'1954',\n",
       " 'death_year': None,\n",
       " 'downloads': u'352',\n",
       " 'first_name': u'Bruce',\n",
       " 'gid': 101,\n",
       " 'lang': u'en',\n",
       " 'last_name': u'Sterling',\n",
       " 'title': u'The Hacker Crackdown: Law and Disorder on the Electronic Frontier'}"
      ]
     },
     "execution_count": 38,
     "metadata": {},
     "output_type": "execute_result"
    }
   ],
   "source": [
    "meta_b.value[101]"
   ]
  },
  {
   "cell_type": "code",
   "execution_count": 39,
   "metadata": {
    "collapsed": true
   },
   "outputs": [],
   "source": [
    "# TODO: map cleaned_rdd to contain the string \"last_name, first_name\" \n",
    "author_rdd = cleaned_rdd.map(lambda (gid, text): \n",
    "                             \"%s %s\"%(meta_b.value[gid]['last_name'], meta_b.value[gid]['first_name']))"
   ]
  },
  {
   "cell_type": "code",
   "execution_count": 40,
   "metadata": {
    "collapsed": false
   },
   "outputs": [
    {
     "name": "stdout",
     "output_type": "stream",
     "text": [
      "Number of distinct authors: 10192 \n"
     ]
    }
   ],
   "source": [
    "# TODO: use RDD methods to obtain the distinct author strings and count them\n",
    "n_authors = (author_rdd.distinct()\n",
    "                       .count())\n",
    "print(\"Number of distinct authors: %s \" % n_authors)"
   ]
  },
  {
   "cell_type": "code",
   "execution_count": 41,
   "metadata": {
    "collapsed": true
   },
   "outputs": [],
   "source": [
    "assert(n_authors == 10192)"
   ]
  },
  {
   "cell_type": "markdown",
   "metadata": {},
   "source": [
    "#### Most-represented authors in the corpus: \n",
    "\n",
    "1. use the `author_rdd` from above\n",
    "2. use the pattern `(key, 1)` to set up an RDD that can be passed to `reduceByKey`\n",
    "3. run `reduceByKey`, yielding an RDD composed of `(author, count)` tuples\n",
    "4. sort by descending order of number of books per author and print out the top 10 (try using `takeOrdered`)"
   ]
  },
  {
   "cell_type": "code",
   "execution_count": 42,
   "metadata": {
    "collapsed": false
   },
   "outputs": [
    {
     "data": {
      "text/plain": [
       "[(u'Shakespeare William', 295),\n",
       " (u'Lytton Baron Lytton', 218),\n",
       " (u'Ebers Georg', 171),\n",
       " (u'Twain Mark', 161),\n",
       " (u'Parker Gilbert', 133),\n",
       " (u'Kingston William Henry Giles', 132),\n",
       " (u'Verne Jules', 131),\n",
       " (u'Balzac Honor\\xe9 de', 129),\n",
       " (u'Fenn George Manville', 128),\n",
       " (u'Meredith George', 111)]"
      ]
     },
     "execution_count": 42,
     "metadata": {},
     "output_type": "execute_result"
    }
   ],
   "source": [
    "# TODO: generate a list of authors, reverse-sorted by the number of books they have in the corpus\n",
    "(author_rdd.map(lambda author: (author, 1))\n",
    "           .reduceByKey(lambda a,b: a+b)\n",
    "           .takeOrdered(10, lambda (a,c): -1*c))"
   ]
  },
  {
   "cell_type": "markdown",
   "metadata": {},
   "source": [
    "Finally, lets do the same thing per language, just to get an idea of how much data there is: "
   ]
  },
  {
   "cell_type": "code",
   "execution_count": 43,
   "metadata": {
    "collapsed": true
   },
   "outputs": [],
   "source": [
    "# FILL IN \n",
    "lang_rdd = cleaned_rdd.map(lambda (gid, text): meta_b.value[gid]['lang'])"
   ]
  },
  {
   "cell_type": "code",
   "execution_count": 44,
   "metadata": {
    "collapsed": false
   },
   "outputs": [
    {
     "data": {
      "text/plain": [
       "[(u'zh', 155),\n",
       " (u'ru', 4),\n",
       " (u'bg', 5),\n",
       " (u'nah', 1),\n",
       " (u'nap', 1),\n",
       " (u'ro', 1),\n",
       " (u'ja', 21),\n",
       " (u'ga', 1),\n",
       " (u'gl', 1),\n",
       " (u'oji', 1),\n",
       " (u'kld', 1),\n",
       " (u'sr', 4),\n",
       " (u'sv', 71),\n",
       " (u'pt', 423),\n",
       " (u'sl', 1),\n",
       " (u'pl', 29),\n",
       " (u'hu', 83),\n",
       " (u'el', 121),\n",
       " (u'eo', 60),\n",
       " (u'en', 27524),\n",
       " (u'he', 5),\n",
       " (u'et', 1),\n",
       " (u'es', 328),\n",
       " (u'ceb', 1),\n",
       " (u'nl', 483),\n",
       " (u'no', 16),\n",
       " (u'fr', 1822),\n",
       " (u'fy', 1),\n",
       " (u'fa', 1),\n",
       " (u'fur', 1),\n",
       " (u'myn', 1),\n",
       " (u'fi', 947),\n",
       " (u'ca', 22),\n",
       " (u'cy', 6),\n",
       " (u'cs', 9),\n",
       " (u'kha', 1),\n",
       " (u'oc', 1),\n",
       " (u'la', 37),\n",
       " (u'de', 934),\n",
       " (u'da', 42),\n",
       " (u'tl', 36),\n",
       " (u'af', 3),\n",
       " (u'te', 5),\n",
       " (u'is', 2),\n",
       " (u'it', 449),\n",
       " (u'ia', 1),\n",
       " (u'mi', 1),\n",
       " (u'enm', 2)]"
      ]
     },
     "execution_count": 44,
     "metadata": {},
     "output_type": "execute_result"
    }
   ],
   "source": [
    "# FILL IN: reduce the `lang_rdd` to yield number of books in each language\n",
    "lang_rdd.map(lambda l: (l,1)).reduceByKey(lambda a,b: a+b).collect()"
   ]
  },
  {
   "cell_type": "markdown",
   "metadata": {},
   "source": [
    "## How many unique words were used in English in these 500+ years? \n",
    "\n",
    "We could have done the above metadata gymnastics without ever invoking a distributed processing framework by simply extracting the years from the metadata -- nevertheless we used the metadata to have a closer look at some of the RDD methods. However, the text body of each data element is where the bulk of the data volume lies. \n",
    "\n",
    "To construct a corpus wide vocabulary, we have to deconstruct each document into a list of words and then extract the unique words from the entire data set. If our dataset fits into memory of a single machine, this is a simple `set` operation. But what if it doesn't? \n",
    "\n",
    "We'll assume this is the case and instead of converting each `gid,text` pair into a `gid,list_of_words` pair, we will simply construct one global RDD of words. Here we aren't necessarily interested in preserving the provenance of words, but just finding the unique words in the whole corpus, so we drop the metadata altogether. \n",
    "\n",
    "The steps are as follows:\n",
    "\n",
    "1. map the entire RDD of text into an RDD of single words (use flatMap -- this returns a different number of elements than it takes in)\n",
    "2. use the `distinct` method of the resulting RDD to transform it into an RDD with only unique words\n",
    "\n",
    "As a reminder, here's an illustration of how `flatMap` differs from `map`:\n",
    "\n",
    "![flatMap](../../slides/figs/flatMap_example.svg)"
   ]
  },
  {
   "cell_type": "markdown",
   "metadata": {},
   "source": [
    "*Hint:* In python, splitting a string into a set of words separated by spaces is easy: "
   ]
  },
  {
   "cell_type": "code",
   "execution_count": 45,
   "metadata": {
    "collapsed": false
   },
   "outputs": [
    {
     "data": {
      "text/plain": [
       "['splitting', 'a', 'string', 'is', 'super', 'simple']"
      ]
     },
     "execution_count": 45,
     "metadata": {},
     "output_type": "execute_result"
    }
   ],
   "source": [
    "line = 'splitting a string is super simple'\n",
    "line.split()"
   ]
  },
  {
   "cell_type": "markdown",
   "metadata": {},
   "source": [
    "Make an RDD `distinct_rdd` which holds the *unique English* words. Consider the steps this will require:\n",
    "\n",
    "* use `cleaned_rdd` but keep only books in the english language (make sure you use the broadcast metadata variable!)\n",
    "* convert each document into individual words\n",
    "* retain only the unique words\n",
    "\n",
    "Which RDD methods can you use to achieve these three steps? (note that this will be a pretty expensive operation so it might take some time...)"
   ]
  },
  {
   "cell_type": "code",
   "execution_count": 46,
   "metadata": {
    "collapsed": false
   },
   "outputs": [
    {
     "name": "stdout",
     "output_type": "stream",
     "text": [
      "Number of unique English words:  3688480\n"
     ]
    }
   ],
   "source": [
    "# TODO: create distinct_rdd by filtering for english books and using RDD methods to generate an RDD of distinct words\n",
    "distinct_rdd = (cleaned_rdd.filter(lambda (gid, text): meta_b.value[gid]['lang'] == 'en')\n",
    "                           .flatMap(lambda (gid, text): text.split())\n",
    "                           .distinct())\n",
    "nwords = distinct_rdd.count()\n",
    "print(\"Number of unique English words: \", nwords)"
   ]
  },
  {
   "cell_type": "code",
   "execution_count": 47,
   "metadata": {
    "collapsed": true
   },
   "outputs": [],
   "source": [
    "assert(nwords == 3688480)"
   ]
  },
  {
   "cell_type": "markdown",
   "metadata": {},
   "source": [
    "Note that not all of these are actual words, this is just how many character sequences separated by spaces we found. The pre-processing steps are less than perfect so there is some garbage in there. We will trim this down to just the most commonly-used ones later and that will get rid of most of the nonsense. "
   ]
  },
  {
   "cell_type": "markdown",
   "metadata": {},
   "source": [
    "**Bonus question**: can you write this by using `mapPartitions` to first make sets of words unique to each partition? It's a bit faster...\n",
    "\n",
    "*hint*: use the python [set](https://docs.python.org/2/library/stdtypes.html#set) to find unique words in each partition"
   ]
  },
  {
   "cell_type": "code",
   "execution_count": 48,
   "metadata": {
    "collapsed": true
   },
   "outputs": [],
   "source": [
    "# FILL IN \n",
    "def partition_set(iterator): \n",
    "    words = set()\n",
    "    \n",
    "    # iterate through the data\n",
    "    for text in iterator : \n",
    "        # use the \"update\" method of the words set to add a new set composed of all the words\n",
    "        # from the \"text\" item. Remember that \"text\" is just a string, so can use the split() method\n",
    "        words.update(set(text.split())) # FILL IN\n",
    "    \n",
    "    # now we have the unique words of the partition --> yield them into the RDD\n",
    "    for word in words: \n",
    "        yield word"
   ]
  },
  {
   "cell_type": "code",
   "execution_count": 49,
   "metadata": {
    "collapsed": false
   },
   "outputs": [
    {
     "data": {
      "text/plain": [
       "3688480"
      ]
     },
     "execution_count": 49,
     "metadata": {},
     "output_type": "execute_result"
    }
   ],
   "source": [
    "res = (cleaned_rdd.filter(lambda (gid, text): meta_b.value[gid]['lang'] == 'en')\n",
    "            .values()\n",
    "            .mapPartitions(partition_set)\n",
    "            .distinct())\n",
    "res.count()"
   ]
  },
  {
   "cell_type": "markdown",
   "metadata": {},
   "source": [
    "## What are the most common words? \n",
    "\n",
    "A \"MapReduce\" tutorial has to include a word counting example -- it's basically the equivalent of a \"Hello World!\" example for a programming tutorial!\n",
    "\n",
    "So, lets count the occurences of all the words across the entire corpus. This is a fairly straightforward operation, but it exposes some very common patterns that can be useful for many tasks. To simplify this a bit, we'll use only the English-language corpus for the moment.\n",
    "\n",
    "Here are the steps we need to take:\n",
    "\n",
    "0. keep only the english language books (use a filter)\n",
    "1. `flatMap` each document into (`word, count`) pairs, but only for words that are not in the `stop_words` set (try with a list comprehension!)\n",
    "2. call `reduceByKey` to sum up all the `count`s for each word\n",
    "3. finally sort it in descending order to see the most common words first\n",
    "\n",
    "The first part here (filtering and `flatMap`) is much like what we did before, but with a twist: for each word, check that it is *not* a member of the `stop_words` set. \"Stop words\" include common words like \"a, the, he\" etc.  "
   ]
  },
  {
   "cell_type": "code",
   "execution_count": 50,
   "metadata": {
    "collapsed": true,
    "scrolled": true
   },
   "outputs": [],
   "source": [
    "from pickle import load\n",
    "stop_words = load(open('./stop_words.dump')).union(['gutenbergtm', 'gutenberg', 'electronic', 'foundation', 'license', 'copyright', 'donation', 'donations'])"
   ]
  },
  {
   "cell_type": "code",
   "execution_count": 51,
   "metadata": {
    "collapsed": true
   },
   "outputs": [],
   "source": [
    "# TODO: create english_rdd which contains only the english books by filtering on the metadata\n",
    "english_rdd = cleaned_rdd.filter(lambda (gid, text): meta_b.value[gid]['lang'] == 'en').cache()"
   ]
  },
  {
   "cell_type": "code",
   "execution_count": 52,
   "metadata": {
    "collapsed": true
   },
   "outputs": [],
   "source": [
    "# TODO: use flatMap to extract the words from each document's text using the english_rdd we made above\n",
    "words_rdd = (english_rdd.flatMap(lambda (gid, text): [word for word in text.split() if word not in stop_words])\n",
    "                        .setName('words_rdd')\n",
    "                        .cache())"
   ]
  },
  {
   "cell_type": "markdown",
   "metadata": {},
   "source": [
    "Now that we have our \"flattened\" data set, do the counting by first mapping each word in `words_rdd` into a `(word, 1)` tuple, and then using `reduceByKey` to calculate the word frequencies. At the end of this step, use the `sortBy` method to sort the word counts in descending order. "
   ]
  },
  {
   "cell_type": "code",
   "execution_count": 53,
   "metadata": {
    "collapsed": true
   },
   "outputs": [],
   "source": [
    "# TODO: do the word count!\n",
    "word_count = (words_rdd.map(lambda word: (word,1))\n",
    "                       .reduceByKey(lambda a,b: a+b)\n",
    "                       .sortBy(lambda (word, count): count, False)\n",
    "                       .setName('word_count')\n",
    "                       .cache())"
   ]
  },
  {
   "cell_type": "code",
   "execution_count": 54,
   "metadata": {
    "collapsed": true
   },
   "outputs": [],
   "source": [
    "assert(word_count.take(5) == [('said', 4339532), ('man', 2775185), ('time', 2688315), ('little', 2458328), ('like', 2342552)])"
   ]
  },
  {
   "cell_type": "code",
   "execution_count": 55,
   "metadata": {
    "collapsed": false
   },
   "outputs": [
    {
     "data": {
      "text/plain": [
       "[('said', 4339532),\n",
       " ('man', 2775185),\n",
       " ('time', 2688315),\n",
       " ('little', 2458328),\n",
       " ('like', 2342552),\n",
       " ('project', 2312744),\n",
       " ('did', 2191390),\n",
       " ('work', 2171932),\n",
       " ('great', 2152157),\n",
       " ('know', 1869099),\n",
       " ('old', 1795532),\n",
       " ('good', 1778801),\n",
       " ('mr', 1732731),\n",
       " ('men', 1721180),\n",
       " ('come', 1683570),\n",
       " ('way', 1623895),\n",
       " ('life', 1602771),\n",
       " ('came', 1569277),\n",
       " ('day', 1544134),\n",
       " ('long', 1531792),\n",
       " ('make', 1465303),\n",
       " ('say', 1392275),\n",
       " ('shall', 1332589),\n",
       " ('new', 1302405),\n",
       " ('think', 1300065),\n",
       " ('people', 1298256),\n",
       " ('just', 1285777),\n",
       " ('away', 1249704),\n",
       " ('thought', 1238659),\n",
       " ('went', 1220658),\n",
       " ('right', 1177801),\n",
       " ('eyes', 1176248),\n",
       " ('place', 1172754),\n",
       " ('hand', 1141677),\n",
       " ('left', 1127134),\n",
       " ('house', 1091411),\n",
       " ('years', 1078848),\n",
       " ('young', 1070013),\n",
       " ('works', 1021823),\n",
       " ('things', 1001645),\n",
       " ('face', 999440),\n",
       " ('dont', 961144),\n",
       " ('world', 957518),\n",
       " ('let', 937617),\n",
       " ('head', 936241),\n",
       " ('saw', 925013),\n",
       " ('god', 911105),\n",
       " ('took', 894364),\n",
       " ('far', 886483),\n",
       " ('tell', 880279)]"
      ]
     },
     "execution_count": 55,
     "metadata": {},
     "output_type": "execute_result"
    }
   ],
   "source": [
    "# fifty most common words (excluding stop words)\n",
    "word_count.take(50)"
   ]
  },
  {
   "cell_type": "markdown",
   "metadata": {},
   "source": [
    "## Reduces, Shuffles, and Partitioning\n",
    "During a `reduceByKey`, or any other reduction for that matter, data must be shuffled around the cluster and combined. Other common RDD methods like `join`, `sortByKey` etc. also typically require lots of data shuffling. By default, this is done in an intelligent way by first reducing values locally on each partition, and then combining the results of the partitions. Still, as is the case here, for common keys, every partition will have to send its results to others. This can result in a lot of temporary file IO if the data that needs to be communicated can't all be held in memory on all of the executors. \n",
    "\n",
    "One way around this is to pre-partition the data ahead of time so that the same keys land on the same partition by design. This results in much less data needing to be shipped around the network and can improve the performance. Of course, at the cost of an expensive initial shuffle that takes place during the partitioning step! But if many \"by key\" have to be done on the same data, it might be worth it. "
   ]
  },
  {
   "cell_type": "markdown",
   "metadata": {},
   "source": [
    "Lets have a look at these concepts by performing the word count in a few different ways. "
   ]
  },
  {
   "cell_type": "markdown",
   "metadata": {},
   "source": [
    "Now we will create a re-partitioned `words_rdd` using the default partitioning of `partitionBy` (just a hash function). You may also specify your own partitioning function. "
   ]
  },
  {
   "cell_type": "code",
   "execution_count": 56,
   "metadata": {
    "collapsed": true
   },
   "outputs": [],
   "source": [
    "num_partitions = words_rdd.getNumPartitions()"
   ]
  },
  {
   "cell_type": "code",
   "execution_count": 57,
   "metadata": {
    "collapsed": false
   },
   "outputs": [
    {
     "data": {
      "text/plain": [
       "769377172"
      ]
     },
     "execution_count": 57,
     "metadata": {},
     "output_type": "execute_result"
    }
   ],
   "source": [
    "par = (words_rdd.map(lambda word: (word,1))\n",
    "                .partitionBy(num_partitions)\n",
    "                .cache())\n",
    "par.count() # call count to compute and cache the data"
   ]
  },
  {
   "cell_type": "markdown",
   "metadata": {},
   "source": [
    "Since both datasets are cached in memory, we can compare the time it takes the reduce step to complete:"
   ]
  },
  {
   "cell_type": "code",
   "execution_count": 58,
   "metadata": {
    "collapsed": false
   },
   "outputs": [
    {
     "name": "stdout",
     "output_type": "stream",
     "text": [
      "CPU times: user 177 ms, sys: 43 ms, total: 220 ms\n",
      "Wall time: 45 s\n"
     ]
    },
    {
     "data": {
      "text/plain": [
       "3688154"
      ]
     },
     "execution_count": 58,
     "metadata": {},
     "output_type": "execute_result"
    }
   ],
   "source": [
    "%%time\n",
    "(words_rdd.map(lambda word: (word,1))\n",
    "          .reduceByKey(lambda a,b: a+b)\n",
    "          .count())"
   ]
  },
  {
   "cell_type": "code",
   "execution_count": 59,
   "metadata": {
    "collapsed": false
   },
   "outputs": [
    {
     "name": "stdout",
     "output_type": "stream",
     "text": [
      "CPU times: user 59 ms, sys: 22 ms, total: 81 ms\n",
      "Wall time: 19 s\n"
     ]
    },
    {
     "data": {
      "text/plain": [
       "3688154"
      ]
     },
     "execution_count": 59,
     "metadata": {},
     "output_type": "execute_result"
    }
   ],
   "source": [
    "%%time\n",
    "par.reduceByKey(lambda a,b: a+b).count()"
   ]
  },
  {
   "cell_type": "markdown",
   "metadata": {
    "collapsed": true
   },
   "source": [
    "Quite a speedup, but at the cost of an expensive initial shuffle. If the \"by key\" operation is only done once, then this is not worth it -- but if it's done repeatedly  (i.e. frequent joins) then it may be beneficial. However, we can also expect the difference to depend on the nature of the dataset. If you inspect the Spark UI, you can see that the first `reduceByKey` (i.e. one done on `word_rdd`) shuffled ~390 Mb of data, while the second `reduceByKey` (i.e. done on `par`) only shuffled ~50 Mb of data. This dataset is still pretty small, but when the shuffles are in the Gb range, the differences can be substantial. \n",
    "\n",
    "If you need to do lookups of individual keys, this becomes even more dramatic: "
   ]
  },
  {
   "cell_type": "code",
   "execution_count": 60,
   "metadata": {
    "collapsed": false
   },
   "outputs": [
    {
     "name": "stdout",
     "output_type": "stream",
     "text": [
      "CPU times: user 81 ms, sys: 16 ms, total: 97 ms\n",
      "Wall time: 16 s\n"
     ]
    }
   ],
   "source": [
    "%time x = words_rdd.lookup('environment')"
   ]
  },
  {
   "cell_type": "code",
   "execution_count": 61,
   "metadata": {
    "collapsed": false
   },
   "outputs": [
    {
     "name": "stdout",
     "output_type": "stream",
     "text": [
      "CPU times: user 11 ms, sys: 1e+03 µs, total: 12 ms\n",
      "Wall time: 831 ms\n"
     ]
    }
   ],
   "source": [
    "%time x = par.lookup('environment')"
   ]
  },
  {
   "cell_type": "markdown",
   "metadata": {},
   "source": [
    "# Computing word frequency vs. time\n",
    "\n",
    "Now we have all the components to build a simple tool that visualizes the relative word frequency as a function of time in the Gutenberg corpus. For inspiration, see the [Google Ngram viewer](https://books.google.com/ngrams).\n",
    "\n",
    "### Converting documents into vectors\n",
    "\n",
    "To make quantitative analysis of the corpus possible, we will convert each document into a vector that represents the word counts for each word appearing in the document. \n",
    "\n",
    "This will look something like this. Imagine we have have a corpus consisting of two \"documents\"\n",
    "\n",
    "    document 1: \"a dog bit me\"\n",
    "    document 2: \"i bit the dog back\"\n",
    "    \n",
    "Then our corpus vocabulary (of 1-grams) is\n",
    "\n",
    "    [\"a\", \"dog\", \"bit\", \"me\", \"i\", \"the\", \"back\"]\n",
    "    \n",
    "Since this is an array and each word in the array has a unique index, we can \"encode\" the two documents using this index mapping. Our corpus now looks like this: \n",
    "\n",
    "    document 1: [1, 1, 1, 1, 0, 0, 0]\n",
    "    document 2: [0, 1, 1, 0, 1, 1, 1]\n",
    "    \n",
    "In order for the vector indices to remain consistent across the whole corpus, the first step is to build a corpus-wide lookup table, a `word --> index` mapping. \n",
    "\n",
    "\n",
    "### Generating word counts \n",
    "\n",
    "Once each document is converted to a vector, doing the word counts for sub-groups of documents is a simple vector addition operation. In our case, we will reduce the vectors by year, yielding an RDD that will have the total number of occurrences of each word in every year. From there, it is trivial to look up the desired word and plot the relative frequency vs. year. \n",
    "\n",
    "## Create the vocabulary lookup table\n",
    "Create a look-up table of words by attaching a unique index to each word. The Spark API provides a [zipWithIndex](http://spark.apache.org/docs/latest/api/python/pyspark.html#pyspark.RDD.zipWithIndex) method that makes this easy. \n",
    "\n",
    "Above, we created the `word_count` RDD that already contains the unique words and their associated counts. To reduce the size of the lookup table (and the size of the vectors), we will restrict ourselves to using only the first 100k words. \n",
    "\n",
    "You can either create the `(word, index)` pairs in the RDD and collect the top 100,000 as a dictionary using `collectAsMap`, or you can collect the top 100,000 words from `word_count` RDD and turn them into a dictionary locally. \n",
    "\n",
    "These are the steps we need to take to make the vocabulary lookup from an RDD:\n",
    "\n",
    "1. use `zipWithIndex` on the keys of `word_count` to generate a unique index for each word -- we don't care about the counts anymore, so we can get rid of the values and just work with the keys using the `keys` method\n",
    "2. use filter to retain only the first 100000 words \n",
    "3. finally, use [collectAsMap](http://spark.apache.org/docs/latest/api/python/pyspark.html#pyspark.RDD.collectAsMap) to return the resulting RDD to the driver as a dictionary. "
   ]
  },
  {
   "cell_type": "code",
   "execution_count": 62,
   "metadata": {
    "collapsed": true
   },
   "outputs": [],
   "source": [
    "# TODO: create word_lookup, a dictionary that maps each of the top 100,000 words to a unique integer\n",
    "word_lookup = (word_count.keys()\n",
    "                         .zipWithIndex()\n",
    "                         .filter(lambda (word, index): index < 100000)\n",
    "                         .collectAsMap())"
   ]
  },
  {
   "cell_type": "markdown",
   "metadata": {},
   "source": [
    "Make a `word_lookup` into a broadcast variable so we can use it on all the workers:"
   ]
  },
  {
   "cell_type": "code",
   "execution_count": 63,
   "metadata": {
    "collapsed": true
   },
   "outputs": [],
   "source": [
    "word_lookup_b = sc.broadcast(word_lookup)"
   ]
  },
  {
   "cell_type": "markdown",
   "metadata": {},
   "source": [
    "This dictionary is approximately 6 Mb in size - without a broadcast, it would get sent over the network to each task, resulting in a lot of network traffic! As a broadcast variable, it gets sent only *once* to each *executor*, i.e. it's transferred only 20 times (if you are using the defaults, otherwise however many executors you have). "
   ]
  },
  {
   "cell_type": "markdown",
   "metadata": {},
   "source": [
    "## Vectorize the documents\n",
    "\n",
    "Now that we have a vocabulary lookup table, we can use this to turn each document into a vector. \n",
    "\n",
    "This is done by counting up the occurrences of all words in the document that are also in the global vocabulary. \n",
    "\n",
    "The function `vectorize_doc` below accomplishes this by using a dictionary to keep track of the local word count. Once the counting is done we use the counts to create a sparse vector that represents the document. A sparse vector consists of two arrays, one representing the *locations* of the non-zero values, and the other the values themselves. \n",
    "\n",
    "To return to our contrived example from above, we had \n",
    "\n",
    "    document 1: \"a dog bit me\"\n",
    "    document 2: \"i bit the dog back\"\n",
    "    \n",
    "which turned into \n",
    "\n",
    "    document 1: [1, 1, 1, 1, 0, 0, 0]\n",
    "    document 2: [0, 1, 1, 0, 1, 1, 1]\n",
    "\n",
    "with a vocabulary of \n",
    "\n",
    "    [\"a\", \"dog\", \"bit\", \"me\", \"i\", \"the\", \"back\"]\n",
    "    \n",
    "As sparse vectors, these two documents could be represented with two arrays: \n",
    "\n",
    "    document 1: indices = [0,1,2,3]; values = [1, 1, 1, 1]\n",
    "    document 2: indices = [1,2,4,5,6]; values = [1, 1, 1, 1, 1]\n",
    "\n",
    "We use Spark's own `SparseVector` data type, for which we must specify a size (total number of features), a (sorted) array of indices, and an array of values. This means that we start to save space if sparsity is > 50%. Note that the `SparseVector` provides some nice higher-level methods, but it does not allow simple operations like addition. If a lot of vector arithmetic is needed, you should use the scipy sparse types instead. "
   ]
  },
  {
   "cell_type": "markdown",
   "metadata": {},
   "source": [
    "In the next cell, we define two functions: \n",
    "\n",
    "* **`extract_ngrams`** converts a sequence of words or characters into a sequence of n-grams (here we are just using single worde, i.e. 1-grams so we'll postpone talking about ngrams until later)\n",
    "\n",
    "* **`vectorize_doc`** converts a document into a sparse vector by using `extract_ngrams` to tokenize it and a vocabulary mapping to turn each word into a vector component"
   ]
  },
  {
   "cell_type": "code",
   "execution_count": 64,
   "metadata": {
    "collapsed": true
   },
   "outputs": [],
   "source": [
    "from pyspark.mllib.linalg import SparseVector\n",
    "\n",
    "def extract_ngrams(tokens, ngram_range=[1,1], select_ngrams = None, ngram_type='word'):\n",
    "    \"\"\"\n",
    "    Turn tokens into a sequence of n-grams \n",
    "\n",
    "    **Inputs**:\n",
    "\n",
    "    *tokens*: a list of tokens\n",
    "\n",
    "    **Optional Keywords**:\n",
    "\n",
    "    *ngram_range*: a tuple with min, max ngram ngram_range\n",
    "    \n",
    "    *select_ngrams*: the vocabulary to use\n",
    "    \n",
    "    *ngram_type*: whether to produce word or character ngrams\n",
    "\n",
    "    **Output**\n",
    "\n",
    "    Generator yielding a list of ngrams in the desired range\n",
    "    generated from the input list of tokens\n",
    "\n",
    "    \"\"\"\n",
    "    join_str = \"\" if ngram_type=='character' else \" \"\n",
    "    \n",
    "    # handle token n-grams\n",
    "    min_n, max_n = ngram_range\n",
    "    n_tokens = len(tokens)\n",
    "    \n",
    "    for n in xrange(min_n, min(max_n + 1, n_tokens + 1)):\n",
    "        for i in xrange(n_tokens - n + 1):\n",
    "            if n == 1: \n",
    "                res = tokens[i]\n",
    "            else : \n",
    "                res = join_str.join(tokens[i: i+n])\n",
    "           \n",
    "            # if we are using a lookup vocabulary, check for membership here\n",
    "            if select_ngrams is not None : \n",
    "                if res in select_ngrams: \n",
    "                    yield res\n",
    "            else : \n",
    "                yield res\n",
    "            \n",
    "\n",
    "def vectorize_doc(doc, vocab, ngram_range = [1,1], ngram_type='word') : \n",
    "    \"\"\"\n",
    "    Returns a vector representation of `doc` given the reference \n",
    "    vocabulary `vocab` after tokenizing it with `tokenizer`\n",
    "    \n",
    "    Arguments: \n",
    "        \n",
    "        doc: a sequence of tokens (words or characters)\n",
    "        \n",
    "        vocab: the vocabulary mapping\n",
    "        \n",
    "    Keywords:\n",
    "    \n",
    "        ngram_range: the range of ngrams to process\n",
    "        \n",
    "        ngram_type: whether to produce character or word ngrams; default is \n",
    "        \n",
    "    Returns:\n",
    "    \n",
    "        a sparse vector representation of the document given the vocabulary mapping\n",
    "    \"\"\"\n",
    "    from collections import defaultdict\n",
    "    from scipy.sparse import csr_matrix \n",
    "        \n",
    "    # count all the word occurences \n",
    "    data = np.zeros(len(vocab))\n",
    "    \n",
    "    for ngram in extract_ngrams(doc, ngram_range, vocab, ngram_type) : \n",
    "         data[vocab[ngram]] += 1\n",
    "            \n",
    "    # only keep the nonzero indices for the sparse representation\n",
    "    indices = data.nonzero()[0]\n",
    "    values = data[indices]\n",
    "    \n",
    "    return SparseVector(len(vocab), indices, values)"
   ]
  },
  {
   "cell_type": "markdown",
   "metadata": {},
   "source": [
    "Using these functions to vectorize our two-sentence test corpus: "
   ]
  },
  {
   "cell_type": "code",
   "execution_count": 65,
   "metadata": {
    "collapsed": true
   },
   "outputs": [],
   "source": [
    "import string\n",
    "s1 = \"a dog bit me\"\n",
    "s2 = \"i bit the dog back\"\n",
    "vocab = [\"a\", \"dog\", \"bit\", \"me\", \"i\", \"the\", \"back\"]\n",
    "vocab_dict = {word:ind for ind, word in enumerate(vocab)}"
   ]
  },
  {
   "cell_type": "code",
   "execution_count": 66,
   "metadata": {
    "collapsed": false
   },
   "outputs": [
    {
     "name": "stdout",
     "output_type": "stream",
     "text": [
      "a dog bit me\n",
      "(7,[0,1,2,3],[1.0,1.0,1.0,1.0])\n",
      "i bit the dog back\n",
      "(7,[1,2,4,5,6],[1.0,1.0,1.0,1.0,1.0])\n"
     ]
    }
   ],
   "source": [
    "print(s1)\n",
    "print(vectorize_doc(s1.split(), vocab_dict))\n",
    "print(s2)\n",
    "print(vectorize_doc(s2.split(), vocab_dict))"
   ]
  },
  {
   "cell_type": "markdown",
   "metadata": {},
   "source": [
    "Now we have all the components we need to create an RDD of english-language books vectorized using the most common 100k words. All we need to do is to use `mapValues` to map the text of each document in `english_rdd` into a vector using `vectorize_doc` and our broadcast vocabulary lookup table `word_lookup_b`. Recall that the broadcast variable, `word_lookup_b` is just a wrapper for the lookup table; to pass the actual lookup table to the `vectorize_doc` function, use `word_lookup_b.value`."
   ]
  },
  {
   "cell_type": "code",
   "execution_count": 67,
   "metadata": {
    "collapsed": true
   },
   "outputs": [],
   "source": [
    "# FILL IN \n",
    "vector_rdd = english_rdd.mapValues(lambda text: vectorize_doc(text.split(), word_lookup_b.value)).cache()"
   ]
  },
  {
   "cell_type": "code",
   "execution_count": 68,
   "metadata": {
    "collapsed": false,
    "scrolled": true
   },
   "outputs": [
    {
     "data": {
      "text/plain": [
       "(12800,\n",
       " SparseVector(100000, {0: 187.0, 1: 122.0, 2: 173.0, 3: 79.0, 4: 60.0, 5: 93.0, 6: 171.0, 7: 79.0, 8: 171.0, 9: 32.0, 10: 36.0, 11: 62.0, 12: 281.0, 13: 207.0, 14: 51.0, 15: 82.0, 16: 57.0, 17: 89.0, 18: 65.0, 19: 84.0, 20: 83.0, 21: 71.0, 22: 34.0, 23: 135.0, 24: 19.0, 25: 155.0, 26: 36.0, 27: 44.0, 28: 38.0, 29: 37.0, 30: 111.0, 31: 8.0, 32: 74.0, 33: 49.0, 34: 34.0, 35: 49.0, 36: 65.0, 37: 9.0, 38: 35.0, 39: 25.0, 40: 19.0, 41: 2.0, 42: 19.0, 43: 16.0, 44: 13.0, 45: 33.0, 46: 1.0, 47: 35.0, 48: 66.0, 49: 9.0, 50: 11.0, 51: 6.0, 52: 63.0, 53: 56.0, 54: 51.0, 55: 4.0, 56: 12.0, 57: 8.0, 58: 28.0, 59: 13.0, 60: 86.0, 61: 27.0, 62: 16.0, 63: 6.0, 64: 31.0, 65: 15.0, 66: 38.0, 67: 15.0, 68: 20.0, 69: 23.0, 70: 16.0, 71: 39.0, 73: 56.0, 74: 58.0, 75: 15.0, 76: 26.0, 77: 22.0, 78: 208.0, 79: 47.0, 80: 59.0, 81: 165.0, 82: 22.0, 83: 170.0, 84: 27.0, 85: 3.0, 86: 16.0, 87: 4.0, 89: 29.0, 90: 22.0, 91: 40.0, 92: 9.0, 93: 4.0, 94: 12.0, 95: 4.0, 96: 54.0, 97: 10.0, 98: 39.0, 99: 5.0, 100: 4.0, 101: 48.0, 102: 33.0, 103: 25.0, 104: 8.0, 105: 65.0, 106: 37.0, 107: 19.0, 108: 47.0, 109: 6.0, 110: 7.0, 111: 15.0, 112: 30.0, 113: 23.0, 114: 50.0, 115: 55.0, 116: 31.0, 117: 28.0, 118: 8.0, 119: 4.0, 121: 17.0, 122: 1.0, 123: 18.0, 124: 6.0, 125: 26.0, 126: 21.0, 127: 54.0, 128: 29.0, 129: 37.0, 130: 29.0, 131: 6.0, 132: 43.0, 133: 99.0, 134: 13.0, 136: 17.0, 137: 19.0, 138: 1.0, 139: 20.0, 140: 55.0, 141: 13.0, 142: 19.0, 143: 14.0, 144: 21.0, 145: 20.0, 146: 2.0, 147: 54.0, 149: 27.0, 150: 28.0, 151: 5.0, 152: 24.0, 153: 97.0, 154: 21.0, 155: 3.0, 156: 34.0, 157: 134.0, 158: 2.0, 159: 34.0, 160: 23.0, 161: 24.0, 162: 7.0, 163: 4.0, 164: 39.0, 165: 65.0, 166: 22.0, 167: 36.0, 168: 16.0, 169: 10.0, 170: 21.0, 171: 14.0, 172: 29.0, 173: 9.0, 174: 10.0, 175: 6.0, 176: 37.0, 177: 41.0, 178: 4.0, 179: 32.0, 180: 2.0, 181: 12.0, 182: 51.0, 183: 15.0, 184: 14.0, 185: 3.0, 186: 48.0, 187: 13.0, 188: 20.0, 189: 16.0, 190: 33.0, 191: 22.0, 192: 31.0, 193: 54.0, 194: 30.0, 195: 16.0, 196: 74.0, 197: 7.0, 198: 3.0, 199: 23.0, 200: 10.0, 201: 11.0, 202: 35.0, 203: 40.0, 204: 15.0, 205: 3.0, 207: 16.0, 208: 16.0, 209: 16.0, 210: 10.0, 211: 18.0, 212: 33.0, 213: 9.0, 214: 20.0, 215: 17.0, 216: 5.0, 217: 8.0, 218: 10.0, 219: 25.0, 220: 39.0, 221: 2.0, 222: 23.0, 223: 11.0, 224: 24.0, 225: 97.0, 226: 31.0, 227: 21.0, 228: 18.0, 229: 34.0, 230: 13.0, 231: 6.0, 232: 14.0, 233: 26.0, 234: 14.0, 235: 26.0, 236: 65.0, 237: 28.0, 239: 2.0, 240: 22.0, 241: 35.0, 242: 19.0, 243: 41.0, 244: 13.0, 245: 32.0, 246: 17.0, 247: 26.0, 248: 18.0, 249: 2.0, 250: 12.0, 251: 17.0, 252: 10.0, 253: 10.0, 254: 10.0, 255: 2.0, 256: 9.0, 257: 22.0, 258: 78.0, 259: 28.0, 260: 2.0, 261: 6.0, 262: 2.0, 263: 17.0, 264: 29.0, 265: 1.0, 266: 29.0, 267: 8.0, 268: 13.0, 269: 26.0, 271: 13.0, 272: 72.0, 273: 5.0, 274: 11.0, 275: 3.0, 276: 6.0, 277: 16.0, 278: 18.0, 279: 20.0, 280: 12.0, 281: 10.0, 282: 24.0, 283: 19.0, 284: 56.0, 285: 19.0, 286: 16.0, 287: 8.0, 288: 15.0, 289: 23.0, 290: 3.0, 291: 4.0, 292: 14.0, 293: 5.0, 294: 8.0, 295: 4.0, 296: 22.0, 297: 10.0, 298: 16.0, 299: 9.0, 300: 8.0, 301: 6.0, 302: 19.0, 304: 12.0, 305: 17.0, 306: 5.0, 307: 25.0, 308: 6.0, 309: 21.0, 310: 11.0, 312: 38.0, 313: 23.0, 314: 54.0, 315: 3.0, 316: 25.0, 318: 26.0, 319: 11.0, 320: 4.0, 321: 13.0, 322: 13.0, 323: 6.0, 324: 5.0, 325: 4.0, 326: 33.0, 327: 18.0, 328: 24.0, 329: 20.0, 330: 9.0, 331: 14.0, 332: 40.0, 333: 28.0, 334: 33.0, 335: 21.0, 336: 5.0, 337: 122.0, 338: 30.0, 339: 8.0, 340: 3.0, 341: 21.0, 342: 23.0, 343: 3.0, 344: 6.0, 346: 3.0, 347: 11.0, 348: 18.0, 349: 60.0, 350: 4.0, 351: 8.0, 352: 14.0, 353: 6.0, 354: 21.0, 355: 15.0, 356: 3.0, 357: 10.0, 358: 13.0, 360: 14.0, 361: 12.0, 362: 12.0, 363: 14.0, 364: 22.0, 366: 34.0, 367: 13.0, 368: 8.0, 369: 106.0, 370: 19.0, 371: 32.0, 373: 14.0, 374: 25.0, 375: 5.0, 376: 21.0, 377: 3.0, 378: 21.0, 379: 31.0, 381: 12.0, 382: 6.0, 383: 30.0, 384: 18.0, 385: 5.0, 387: 10.0, 388: 10.0, 390: 17.0, 391: 13.0, 392: 7.0, 393: 4.0, 394: 9.0, 395: 14.0, 396: 3.0, 397: 17.0, 398: 4.0, 399: 2.0, 400: 13.0, 401: 4.0, 402: 9.0, 403: 14.0, 404: 6.0, 405: 35.0, 406: 10.0, 407: 7.0, 408: 4.0, 409: 16.0, 410: 5.0, 411: 6.0, 412: 4.0, 413: 29.0, 414: 28.0, 415: 7.0, 416: 3.0, 417: 21.0, 418: 7.0, 419: 16.0, 420: 17.0, 421: 9.0, 422: 3.0, 423: 1.0, 424: 24.0, 425: 1.0, 426: 19.0, 427: 2.0, 428: 7.0, 429: 9.0, 430: 10.0, 431: 1.0, 432: 3.0, 433: 7.0, 434: 4.0, 435: 7.0, 436: 1.0, 437: 32.0, 439: 6.0, 440: 17.0, 441: 3.0, 442: 9.0, 443: 18.0, 444: 28.0, 445: 2.0, 446: 19.0, 447: 2.0, 448: 8.0, 449: 11.0, 450: 6.0, 451: 45.0, 452: 3.0, 454: 11.0, 455: 16.0, 456: 4.0, 457: 1.0, 458: 7.0, 459: 6.0, 460: 1.0, 461: 21.0, 462: 10.0, 463: 11.0, 464: 23.0, 465: 4.0, 466: 42.0, 467: 7.0, 468: 22.0, 469: 21.0, 470: 1.0, 471: 9.0, 472: 4.0, 473: 13.0, 474: 14.0, 475: 2.0, 476: 4.0, 477: 9.0, 478: 9.0, 479: 22.0, 480: 28.0, 481: 17.0, 482: 10.0, 483: 9.0, 484: 7.0, 486: 27.0, 487: 2.0, 488: 5.0, 489: 7.0, 490: 49.0, 491: 4.0, 492: 2.0, 493: 14.0, 494: 15.0, 495: 3.0, 496: 29.0, 497: 9.0, 498: 7.0, 500: 6.0, 503: 4.0, 504: 22.0, 505: 8.0, 506: 10.0, 507: 8.0, 508: 4.0, 509: 8.0, 511: 7.0, 512: 33.0, 513: 13.0, 514: 3.0, 515: 26.0, 516: 15.0, 517: 3.0, 518: 3.0, 519: 3.0, 520: 22.0, 521: 6.0, 522: 14.0, 523: 5.0, 524: 8.0, 525: 11.0, 526: 52.0, 527: 3.0, 528: 7.0, 529: 8.0, 530: 7.0, 531: 10.0, 533: 3.0, 534: 4.0, 535: 4.0, 536: 3.0, 537: 2.0, 538: 4.0, 539: 3.0, 541: 3.0, 542: 8.0, 543: 6.0, 544: 20.0, 545: 21.0, 546: 2.0, 547: 15.0, 548: 11.0, 549: 11.0, 551: 6.0, 552: 6.0, 553: 14.0, 554: 2.0, 555: 5.0, 556: 2.0, 557: 12.0, 558: 10.0, 559: 30.0, 560: 4.0, 561: 36.0, 562: 29.0, 563: 2.0, 564: 14.0, 565: 5.0, 566: 12.0, 567: 1.0, 568: 9.0, 569: 1.0, 570: 9.0, 571: 9.0, 572: 6.0, 573: 2.0, 574: 8.0, 575: 23.0, 577: 1.0, 578: 3.0, 579: 5.0, 580: 18.0, 581: 19.0, 582: 4.0, 583: 1.0, 584: 25.0, 585: 10.0, 586: 4.0, 587: 1.0, 588: 23.0, 589: 5.0, 590: 8.0, 591: 3.0, 592: 24.0, 593: 17.0, 594: 10.0, 595: 4.0, 596: 1.0, 597: 8.0, 598: 5.0, 599: 10.0, 600: 2.0, 601: 3.0, 602: 3.0, 604: 16.0, 605: 5.0, 606: 19.0, 607: 13.0, 608: 14.0, 609: 2.0, 610: 6.0, 614: 5.0, 615: 6.0, 616: 7.0, 618: 15.0, 619: 3.0, 620: 22.0, 621: 30.0, 622: 8.0, 623: 7.0, 624: 6.0, 625: 5.0, 626: 6.0, 627: 15.0, 628: 12.0, 629: 14.0, 630: 10.0, 632: 3.0, 633: 1.0, 635: 9.0, 636: 7.0, 637: 13.0, 638: 4.0, 639: 8.0, 640: 18.0, 641: 6.0, 642: 18.0, 643: 6.0, 644: 9.0, 645: 12.0, 646: 7.0, 647: 1.0, 648: 6.0, 649: 1.0, 650: 40.0, 651: 7.0, 653: 11.0, 654: 9.0, 655: 1.0, 656: 33.0, 657: 12.0, 658: 1.0, 659: 20.0, 660: 12.0, 661: 26.0, 662: 5.0, 663: 49.0, 664: 4.0, 665: 29.0, 666: 1.0, 668: 13.0, 669: 11.0, 670: 20.0, 671: 14.0, 672: 4.0, 673: 14.0, 674: 1.0, 675: 4.0, 676: 20.0, 677: 3.0, 678: 69.0, 679: 10.0, 680: 8.0, 681: 4.0, 682: 1.0, 683: 1.0, 684: 12.0, 685: 9.0, 686: 8.0, 687: 13.0, 689: 13.0, 690: 7.0, 691: 3.0, 692: 8.0, 693: 3.0, 694: 41.0, 696: 9.0, 697: 20.0, 698: 15.0, 699: 6.0, 700: 12.0, 701: 13.0, 702: 13.0, 703: 16.0, 704: 3.0, 705: 5.0, 706: 10.0, 707: 5.0, 708: 4.0, 709: 16.0, 710: 12.0, 711: 7.0, 712: 14.0, 713: 1.0, 714: 9.0, 715: 11.0, 716: 14.0, 717: 13.0, 718: 28.0, 719: 4.0, 720: 4.0, 721: 10.0, 722: 9.0, 723: 5.0, 724: 2.0, 725: 20.0, 726: 19.0, 727: 6.0, 728: 13.0, 729: 1.0, 730: 4.0, 731: 17.0, 732: 2.0, 733: 4.0, 734: 6.0, 735: 14.0, 736: 1.0, 737: 10.0, 738: 7.0, 739: 2.0, 740: 9.0, 741: 34.0, 742: 18.0, 743: 12.0, 744: 7.0, 745: 4.0, 746: 6.0, 747: 6.0, 748: 8.0, 749: 3.0, 750: 5.0, 751: 43.0, 752: 10.0, 753: 17.0, 755: 6.0, 756: 7.0, 757: 7.0, 758: 6.0, 759: 7.0, 760: 3.0, 761: 1.0, 762: 9.0, 763: 19.0, 764: 14.0, 765: 11.0, 766: 17.0, 767: 6.0, 768: 7.0, 769: 5.0, 770: 7.0, 771: 6.0, 772: 11.0, 773: 6.0, 774: 31.0, 775: 5.0, 776: 21.0, 777: 4.0, 780: 9.0, 781: 9.0, 782: 6.0, 783: 2.0, 784: 42.0, 785: 1.0, 786: 2.0, 787: 3.0, 788: 9.0, 789: 4.0, 790: 3.0, 791: 4.0, 792: 7.0, 793: 1.0, 794: 6.0, 796: 1.0, 797: 10.0, 798: 7.0, 799: 28.0, 800: 4.0, 801: 7.0, 802: 10.0, 803: 31.0, 804: 7.0, 805: 9.0, 806: 48.0, 808: 28.0, 809: 8.0, 810: 8.0, 811: 6.0, 814: 1.0, 815: 35.0, 816: 28.0, 817: 5.0, 818: 2.0, 819: 6.0, 820: 2.0, 821: 3.0, 822: 5.0, 825: 15.0, 826: 5.0, 827: 60.0, 828: 2.0, 829: 9.0, 830: 16.0, 831: 7.0, 832: 7.0, 833: 5.0, 834: 19.0, 835: 7.0, 836: 4.0, 837: 7.0, 838: 13.0, 839: 19.0, 840: 29.0, 841: 5.0, 842: 6.0, 843: 1.0, 844: 19.0, 845: 4.0, 846: 5.0, 847: 45.0, 848: 1.0, 849: 5.0, 851: 1.0, 853: 9.0, 854: 1.0, 855: 2.0, 856: 5.0, 858: 7.0, 859: 9.0, 860: 11.0, 861: 5.0, 862: 6.0, 863: 2.0, 864: 1.0, 865: 6.0, 869: 41.0, 870: 20.0, 871: 4.0, 872: 8.0, 873: 4.0, 874: 1.0, 876: 33.0, 877: 20.0, 878: 1.0, 879: 15.0, 880: 10.0, 881: 2.0, 882: 11.0, 883: 1.0, 884: 10.0, 885: 13.0, 886: 5.0, 887: 1.0, 888: 8.0, 889: 7.0, 890: 2.0, 891: 6.0, 892: 2.0, 893: 5.0, 894: 2.0, 895: 14.0, 896: 9.0, 897: 3.0, 898: 5.0, 899: 6.0, 901: 9.0, 902: 13.0, 903: 23.0, 905: 4.0, 906: 5.0, 907: 7.0, 910: 8.0, 911: 11.0, 912: 3.0, 913: 1.0, 914: 2.0, 915: 18.0, 916: 15.0, 917: 17.0, 918: 13.0, 919: 68.0, 920: 2.0, 921: 11.0, 922: 3.0, 923: 8.0, 924: 7.0, 925: 2.0, 926: 5.0, 928: 5.0, 929: 14.0, 931: 8.0, 932: 3.0, 933: 2.0, 934: 12.0, 935: 1.0, 936: 1.0, 937: 6.0, 938: 7.0, 939: 1.0, 940: 5.0, 941: 1.0, 943: 6.0, 944: 15.0, 945: 6.0, 946: 14.0, 947: 15.0, 948: 14.0, 949: 9.0, 950: 6.0, 952: 14.0, 953: 2.0, 954: 4.0, 955: 6.0, 956: 166.0, 957: 8.0, 958: 1.0, 959: 4.0, 960: 8.0, 961: 45.0, 962: 5.0, 963: 1.0, 964: 21.0, 965: 3.0, 966: 12.0, 967: 2.0, 968: 18.0, 969: 1.0, 970: 28.0, 971: 16.0, 972: 18.0, 973: 6.0, 974: 11.0, 976: 3.0, 977: 1.0, 978: 7.0, 979: 4.0, 980: 13.0, 981: 10.0, 982: 5.0, 983: 21.0, 984: 3.0, 985: 9.0, 986: 6.0, 987: 6.0, 988: 13.0, 990: 2.0, 991: 16.0, 992: 22.0, 993: 14.0, 994: 7.0, 995: 1.0, 996: 14.0, 997: 10.0, 998: 12.0, 999: 7.0, 1000: 3.0, 1001: 7.0, 1002: 7.0, 1003: 5.0, 1004: 13.0, 1006: 5.0, 1007: 9.0, 1010: 5.0, 1011: 2.0, 1012: 4.0, 1013: 1.0, 1014: 5.0, 1015: 7.0, 1016: 2.0, 1017: 4.0, 1018: 6.0, 1019: 7.0, 1020: 15.0, 1021: 3.0, 1022: 23.0, 1023: 9.0, 1024: 15.0, 1025: 2.0, 1026: 2.0, 1027: 3.0, 1028: 21.0, 1029: 4.0, 1030: 8.0, 1032: 3.0, 1033: 8.0, 1034: 5.0, 1036: 4.0, 1037: 2.0, 1038: 1.0, 1039: 8.0, 1040: 3.0, 1042: 6.0, 1043: 6.0, 1044: 4.0, 1045: 16.0, 1046: 4.0, 1047: 14.0, 1048: 4.0, 1049: 19.0, 1050: 1.0, 1051: 10.0, 1052: 15.0, 1053: 19.0, 1054: 4.0, 1055: 4.0, 1056: 7.0, 1057: 7.0, 1058: 6.0, 1059: 2.0, 1060: 1.0, 1062: 1.0, 1063: 10.0, 1064: 4.0, 1065: 9.0, 1066: 8.0, 1067: 2.0, 1068: 3.0, 1069: 8.0, 1070: 16.0, 1071: 11.0, 1072: 2.0, 1073: 3.0, 1075: 12.0, 1076: 5.0, 1077: 3.0, 1078: 4.0, 1080: 10.0, 1081: 97.0, 1082: 22.0, 1083: 8.0, 1084: 5.0, 1085: 6.0, 1087: 4.0, 1088: 8.0, 1089: 5.0, 1090: 17.0, 1091: 15.0, 1092: 7.0, 1093: 10.0, 1094: 4.0, 1096: 7.0, 1097: 10.0, 1098: 9.0, 1099: 29.0, 1100: 8.0, 1101: 1.0, 1102: 8.0, 1104: 4.0, 1105: 1.0, 1106: 3.0, 1107: 2.0, 1108: 24.0, 1109: 5.0, 1110: 6.0, 1112: 6.0, 1113: 2.0, 1114: 23.0, 1115: 1.0, 1117: 2.0, 1118: 5.0, 1119: 2.0, 1120: 8.0, 1121: 20.0, 1122: 3.0, 1123: 15.0, 1124: 2.0, 1125: 7.0, 1126: 4.0, 1127: 11.0, 1128: 9.0, 1129: 8.0, 1131: 6.0, 1133: 18.0, 1134: 1.0, 1135: 11.0, 1136: 20.0, 1138: 7.0, 1139: 3.0, 1140: 8.0, 1141: 29.0, 1142: 12.0, 1143: 4.0, 1144: 4.0, 1145: 2.0, 1146: 5.0, 1148: 1.0, 1149: 3.0, 1150: 1.0, 1151: 9.0, 1152: 2.0, 1153: 2.0, 1154: 7.0, 1155: 20.0, 1156: 1.0, 1157: 19.0, 1158: 1.0, 1159: 29.0, 1160: 4.0, 1161: 12.0, 1162: 8.0, 1164: 3.0, 1168: 3.0, 1170: 4.0, 1171: 7.0, 1172: 3.0, 1175: 25.0, 1176: 23.0, 1177: 2.0, 1179: 3.0, 1180: 7.0, 1181: 1.0, 1182: 2.0, 1183: 13.0, 1184: 1.0, 1185: 5.0, 1186: 15.0, 1187: 2.0, 1188: 1.0, 1189: 6.0, 1190: 4.0, 1191: 8.0, 1192: 16.0, 1193: 3.0, 1194: 6.0, 1195: 15.0, 1196: 3.0, 1199: 16.0, 1202: 6.0, 1203: 14.0, 1204: 55.0, 1205: 3.0, 1207: 18.0, 1208: 5.0, 1209: 3.0, 1210: 1.0, 1213: 1.0, 1214: 2.0, 1215: 3.0, 1216: 10.0, 1217: 16.0, 1218: 7.0, 1219: 9.0, 1220: 3.0, 1221: 2.0, 1222: 6.0, 1223: 5.0, 1224: 9.0, 1225: 7.0, 1226: 3.0, 1227: 2.0, 1228: 11.0, 1229: 15.0, 1230: 4.0, 1231: 2.0, 1232: 14.0, 1233: 4.0, 1234: 1.0, 1236: 3.0, 1237: 3.0, 1238: 3.0, 1239: 1.0, 1241: 1.0, 1242: 22.0, 1243: 2.0, 1244: 5.0, 1245: 4.0, 1246: 3.0, 1247: 3.0, 1249: 11.0, 1250: 4.0, 1251: 1.0, 1252: 5.0, 1253: 3.0, 1255: 4.0, 1256: 1.0, 1257: 4.0, 1258: 2.0, 1259: 2.0, 1260: 9.0, 1261: 3.0, 1263: 15.0, 1264: 2.0, 1265: 13.0, 1266: 1.0, 1268: 2.0, 1269: 8.0, 1270: 9.0, 1272: 19.0, 1273: 8.0, 1274: 7.0, 1275: 7.0, 1276: 5.0, 1277: 9.0, 1279: 1.0, 1280: 1.0, 1281: 5.0, 1282: 4.0, 1283: 1.0, 1284: 4.0, 1285: 17.0, 1286: 13.0, 1287: 28.0, 1288: 13.0, 1289: 13.0, 1290: 1.0, 1293: 12.0, 1294: 2.0, 1295: 7.0, 1296: 12.0, 1297: 10.0, 1298: 16.0, 1299: 3.0, 1300: 7.0, 1301: 6.0, 1302: 1.0, 1303: 1.0, 1304: 7.0, 1305: 7.0, 1306: 1.0, 1307: 5.0, 1308: 15.0, 1309: 5.0, 1310: 2.0, 1311: 2.0, 1312: 1.0, 1313: 6.0, 1314: 16.0, 1316: 2.0, 1317: 1.0, 1319: 1.0, 1320: 18.0, 1321: 3.0, 1322: 1.0, 1323: 5.0, 1325: 4.0, 1328: 5.0, 1329: 3.0, 1331: 16.0, 1333: 13.0, 1334: 6.0, 1335: 4.0, 1336: 7.0, 1337: 19.0, 1338: 1.0, 1339: 4.0, 1341: 2.0, 1343: 2.0, 1345: 1.0, 1346: 3.0, 1347: 5.0, 1348: 1.0, 1350: 3.0, 1351: 12.0, 1352: 4.0, 1353: 9.0, 1354: 13.0, 1355: 17.0, 1357: 3.0, 1358: 1.0, 1359: 14.0, 1360: 13.0, 1361: 83.0, 1362: 10.0, 1363: 2.0, 1364: 6.0, 1365: 4.0, 1366: 5.0, 1367: 4.0, 1369: 11.0, 1370: 4.0, 1371: 6.0, 1373: 10.0, 1374: 23.0, 1375: 36.0, 1376: 1.0, 1377: 27.0, 1378: 21.0, 1380: 5.0, 1381: 3.0, 1382: 3.0, 1383: 2.0, 1384: 1.0, 1385: 5.0, 1386: 4.0, 1388: 9.0, 1389: 9.0, 1390: 4.0, 1392: 2.0, 1394: 6.0, 1395: 2.0, 1396: 3.0, 1397: 1.0, 1398: 1.0, 1399: 7.0, 1400: 4.0, 1401: 1.0, 1403: 1.0, 1405: 1.0, 1406: 4.0, 1407: 4.0, 1408: 6.0, 1409: 4.0, 1410: 2.0, 1411: 5.0, 1412: 4.0, 1413: 2.0, 1414: 2.0, 1416: 8.0, 1417: 2.0, 1420: 7.0, 1421: 12.0, 1422: 4.0, 1423: 1.0, 1425: 8.0, 1426: 6.0, 1427: 17.0, 1428: 2.0, 1429: 3.0, 1430: 60.0, 1431: 6.0, 1432: 1.0, 1433: 3.0, 1434: 3.0, 1435: 1.0, 1436: 1.0, 1438: 3.0, 1439: 1.0, 1440: 1.0, 1441: 6.0, 1442: 1.0, 1443: 4.0, 1444: 4.0, 1445: 4.0, 1446: 9.0, 1447: 72.0, 1448: 6.0, 1449: 2.0, 1450: 1.0, 1451: 3.0, 1452: 7.0, 1454: 1.0, 1456: 9.0, 1457: 4.0, 1458: 5.0, 1459: 2.0, 1460: 1.0, 1461: 8.0, 1462: 11.0, 1463: 63.0, 1464: 2.0, 1465: 10.0, 1466: 4.0, 1468: 2.0, 1469: 9.0, 1470: 9.0, 1471: 21.0, 1472: 5.0, 1475: 6.0, 1476: 2.0, 1477: 8.0, 1480: 3.0, 1481: 18.0, 1482: 5.0, 1483: 2.0, 1484: 9.0, 1485: 4.0, 1486: 16.0, 1487: 2.0, 1488: 2.0, 1492: 13.0, 1493: 2.0, 1495: 15.0, 1496: 1.0, 1497: 3.0, 1498: 18.0, 1499: 12.0, 1500: 13.0, 1501: 8.0, 1502: 18.0, 1503: 5.0, 1504: 2.0, 1505: 3.0, 1506: 13.0, 1507: 3.0, 1508: 2.0, 1509: 10.0, 1510: 5.0, 1514: 16.0, 1515: 17.0, 1516: 5.0, 1517: 13.0, 1518: 1.0, 1519: 7.0, 1521: 1.0, 1522: 4.0, 1523: 31.0, 1524: 6.0, 1525: 5.0, 1526: 1.0, 1527: 5.0, 1528: 2.0, 1529: 2.0, 1532: 1.0, 1533: 1.0, 1534: 5.0, 1535: 6.0, 1536: 3.0, 1537: 8.0, 1538: 1.0, 1540: 1.0, 1541: 2.0, 1542: 2.0, 1543: 2.0, 1544: 3.0, 1545: 2.0, 1546: 1.0, 1548: 7.0, 1549: 4.0, 1551: 5.0, 1552: 4.0, 1553: 2.0, 1554: 3.0, 1555: 10.0, 1556: 1.0, 1557: 1.0, 1558: 8.0, 1559: 6.0, 1560: 3.0, 1562: 8.0, 1563: 4.0, 1564: 4.0, 1565: 4.0, 1566: 7.0, 1567: 11.0, 1568: 24.0, 1570: 9.0, 1572: 3.0, 1573: 2.0, 1574: 5.0, 1575: 6.0, 1576: 4.0, 1577: 3.0, 1578: 1.0, 1580: 4.0, 1581: 2.0, 1582: 1.0, 1583: 7.0, 1584: 5.0, 1586: 1.0, 1587: 4.0, 1588: 20.0, 1590: 3.0, 1591: 1.0, 1592: 4.0, 1593: 4.0, 1594: 1.0, 1595: 8.0, 1596: 5.0, 1597: 14.0, 1598: 9.0, 1599: 8.0, 1600: 5.0, 1602: 6.0, 1603: 13.0, 1604: 4.0, 1606: 43.0, 1607: 2.0, 1608: 11.0, 1609: 7.0, 1611: 9.0, 1612: 1.0, 1613: 1.0, 1614: 3.0, 1615: 1.0, 1617: 3.0, 1618: 5.0, 1619: 3.0, 1620: 18.0, 1621: 3.0, 1623: 9.0, 1624: 1.0, 1625: 12.0, 1626: 3.0, 1627: 8.0, 1628: 3.0, 1630: 5.0, 1632: 3.0, 1634: 22.0, 1635: 7.0, 1636: 5.0, 1638: 4.0, 1639: 86.0, 1640: 6.0, 1641: 3.0, 1642: 13.0, 1643: 5.0, 1644: 4.0, 1645: 16.0, 1646: 20.0, 1647: 3.0, 1648: 11.0, 1649: 1.0, 1650: 1.0, 1651: 7.0, 1652: 1.0, 1653: 1.0, 1655: 16.0, 1656: 23.0, 1657: 9.0, 1658: 5.0, 1659: 6.0, 1660: 2.0, 1662: 20.0, 1663: 7.0, 1664: 11.0, 1665: 9.0, 1666: 4.0, 1669: 17.0, 1670: 4.0, 1671: 11.0, 1672: 3.0, 1673: 20.0, 1674: 3.0, 1675: 6.0, 1677: 8.0, 1678: 8.0, 1679: 5.0, 1680: 1.0, 1681: 2.0, 1682: 9.0, 1683: 2.0, 1684: 3.0, 1685: 3.0, 1686: 1.0, 1687: 17.0, 1688: 33.0, 1689: 1.0, 1690: 1.0, 1691: 3.0, 1692: 3.0, 1693: 1.0, 1694: 10.0, 1696: 7.0, 1697: 4.0, 1700: 13.0, 1701: 2.0, 1702: 6.0, 1704: 28.0, 1706: 4.0, 1707: 3.0, 1708: 3.0, 1709: 6.0, 1710: 5.0, 1713: 13.0, 1715: 2.0, 1716: 4.0, 1717: 4.0, 1718: 2.0, 1719: 4.0, 1720: 2.0, 1721: 1.0, 1722: 12.0, 1723: 7.0, 1724: 17.0, 1725: 1.0, 1726: 6.0, 1727: 2.0, 1728: 8.0, 1729: 1.0, 1730: 10.0, 1731: 4.0, 1733: 8.0, 1735: 12.0, 1737: 10.0, 1738: 4.0, 1739: 9.0, 1740: 7.0, 1741: 3.0, 1743: 5.0, 1744: 13.0, 1745: 3.0, 1746: 3.0, 1747: 11.0, 1748: 3.0, 1749: 4.0, 1750: 1.0, 1751: 5.0, 1752: 4.0, 1753: 8.0, 1754: 4.0, 1755: 1.0, 1757: 13.0, 1758: 1.0, 1760: 10.0, 1761: 5.0, 1762: 4.0, 1763: 2.0, 1764: 6.0, 1765: 24.0, 1766: 5.0, 1767: 6.0, 1768: 11.0, 1770: 5.0, 1771: 8.0, 1772: 15.0, 1773: 1.0, 1774: 4.0, 1775: 44.0, 1778: 5.0, 1779: 11.0, 1780: 9.0, 1784: 1.0, 1785: 2.0, 1786: 1.0, 1787: 1.0, 1788: 19.0, 1789: 2.0, 1790: 9.0, 1791: 1.0, 1792: 3.0, 1793: 3.0, 1795: 3.0, 1797: 2.0, 1802: 7.0, 1803: 9.0, 1804: 6.0, 1805: 3.0, 1806: 8.0, 1807: 3.0, 1808: 1.0, 1812: 4.0, 1813: 2.0, 1814: 3.0, 1816: 1.0, 1817: 4.0, 1818: 3.0, 1819: 3.0, 1820: 2.0, 1821: 1.0, 1822: 12.0, 1823: 7.0, 1824: 3.0, 1825: 1.0, 1826: 5.0, 1827: 4.0, 1829: 6.0, 1830: 1.0, 1831: 3.0, 1832: 2.0, 1833: 3.0, 1834: 2.0, 1835: 3.0, 1836: 1.0, 1837: 10.0, 1838: 24.0, 1839: 26.0, 1840: 6.0, 1842: 3.0, 1843: 3.0, 1844: 7.0, 1846: 9.0, 1847: 5.0, 1849: 2.0, 1850: 2.0, 1851: 6.0, 1852: 4.0, 1853: 1.0, 1854: 2.0, 1855: 43.0, 1858: 2.0, 1859: 3.0, 1860: 1.0, 1861: 2.0, 1862: 10.0, 1863: 1.0, 1864: 3.0, 1865: 9.0, 1866: 20.0, 1867: 3.0, 1868: 2.0, 1869: 1.0, 1870: 10.0, 1871: 1.0, 1872: 15.0, 1873: 2.0, 1874: 13.0, 1876: 1.0, 1877: 11.0, 1879: 1.0, 1880: 13.0, 1883: 7.0, 1884: 4.0, 1885: 5.0, 1886: 9.0, 1888: 4.0, 1890: 3.0, 1891: 4.0, 1892: 3.0, 1893: 1.0, 1894: 43.0, 1895: 12.0, 1896: 10.0, 1897: 2.0, 1898: 15.0, 1900: 9.0, 1901: 5.0, 1902: 1.0, 1904: 1.0, 1906: 1.0, 1907: 3.0, 1909: 5.0, 1910: 2.0, 1911: 3.0, 1913: 1.0, 1914: 5.0, 1915: 3.0, 1917: 5.0, 1918: 7.0, 1921: 3.0, 1922: 9.0, 1924: 1.0, 1925: 1.0, 1926: 11.0, 1927: 1.0, 1928: 1.0, 1929: 21.0, 1930: 16.0, 1931: 8.0, 1932: 2.0, 1933: 3.0, 1934: 2.0, 1935: 4.0, 1936: 4.0, 1938: 11.0, 1939: 8.0, 1940: 1.0, 1941: 1.0, 1942: 28.0, 1943: 2.0, 1944: 4.0, 1945: 1.0, 1946: 2.0, 1947: 4.0, 1949: 8.0, 1950: 4.0, 1952: 2.0, 1953: 4.0, 1954: 4.0, 1955: 7.0, 1956: 2.0, 1957: 3.0, 1958: 3.0, 1959: 4.0, 1960: 3.0, 1962: 24.0, 1963: 15.0, 1964: 6.0, 1965: 2.0, 1966: 2.0, 1967: 13.0, 1968: 1.0, 1970: 14.0, 1971: 3.0, 1972: 7.0, 1973: 3.0, 1974: 1.0, 1977: 1.0, 1978: 3.0, 1979: 3.0, 1980: 3.0, 1981: 4.0, 1983: 1.0, 1986: 1.0, 1987: 1.0, 1989: 5.0, 1990: 3.0, 1991: 1.0, 1992: 6.0, 1993: 9.0, 1994: 4.0, 1996: 5.0, 1998: 3.0, 2000: 3.0, 2001: 14.0, 2002: 4.0, 2003: 3.0, 2004: 3.0, 2005: 15.0, 2007: 3.0, 2008: 2.0, 2009: 6.0, 2010: 3.0, 2011: 1.0, 2012: 5.0, 2013: 3.0, 2014: 6.0, 2015: 1.0, 2016: 1.0, 2017: 31.0, 2018: 9.0, 2019: 2.0, 2022: 1.0, 2024: 10.0, 2025: 1.0, 2026: 4.0, 2027: 2.0, 2028: 12.0, 2029: 19.0, 2032: 1.0, 2033: 1.0, 2034: 2.0, 2035: 2.0, 2036: 17.0, 2038: 3.0, 2040: 12.0, 2042: 1.0, 2043: 2.0, 2046: 6.0, 2047: 4.0, 2048: 2.0, 2049: 5.0, 2050: 2.0, 2051: 9.0, 2054: 5.0, 2055: 6.0, 2057: 2.0, 2058: 9.0, 2059: 4.0, 2060: 9.0, 2061: 3.0, 2062: 1.0, 2064: 1.0, 2065: 6.0, 2066: 3.0, 2068: 1.0, 2069: 12.0, 2070: 5.0, 2072: 2.0, 2073: 4.0, 2076: 10.0, 2077: 1.0, 2078: 2.0, 2079: 5.0, 2080: 8.0, 2081: 12.0, 2082: 11.0, 2083: 10.0, 2084: 9.0, 2085: 11.0, 2086: 2.0, 2087: 7.0, 2089: 2.0, 2090: 5.0, 2093: 5.0, 2094: 2.0, 2095: 4.0, 2096: 7.0, 2098: 10.0, 2099: 2.0, 2101: 1.0, 2103: 12.0, 2104: 6.0, 2105: 6.0, 2106: 1.0, 2107: 10.0, 2110: 1.0, 2111: 1.0, 2112: 4.0, 2113: 2.0, 2114: 17.0, 2115: 9.0, 2116: 4.0, 2117: 2.0, 2118: 7.0, 2119: 1.0, 2121: 7.0, 2122: 8.0, 2123: 3.0, 2125: 16.0, 2126: 13.0, 2128: 21.0, 2129: 6.0, 2130: 5.0, 2131: 7.0, 2136: 2.0, 2138: 3.0, 2139: 3.0, 2140: 6.0, 2141: 1.0, 2143: 3.0, 2145: 2.0, 2146: 1.0, 2147: 3.0, 2148: 5.0, 2149: 7.0, 2150: 1.0, 2151: 3.0, 2152: 1.0, 2153: 1.0, 2154: 11.0, 2156: 11.0, 2157: 3.0, 2160: 49.0, 2162: 23.0, 2163: 1.0, 2164: 3.0, 2165: 2.0, 2166: 5.0, 2168: 2.0, 2169: 1.0, 2170: 2.0, 2171: 1.0, 2173: 1.0, 2177: 5.0, 2179: 5.0, 2180: 1.0, 2182: 2.0, 2183: 8.0, 2184: 12.0, 2185: 1.0, 2186: 5.0, 2188: 2.0, 2189: 4.0, 2190: 5.0, 2192: 1.0, 2194: 2.0, 2195: 1.0, 2197: 6.0, 2200: 7.0, 2201: 2.0, 2202: 3.0, 2203: 2.0, 2204: 9.0, 2205: 11.0, 2206: 17.0, 2207: 3.0, 2208: 1.0, 2209: 3.0, 2210: 2.0, 2211: 8.0, 2212: 5.0, 2216: 8.0, 2218: 3.0, 2219: 3.0, 2221: 2.0, 2222: 15.0, 2223: 1.0, 2224: 3.0, 2226: 2.0, 2227: 39.0, 2228: 1.0, 2229: 2.0, 2231: 1.0, 2233: 3.0, 2234: 3.0, 2235: 1.0, 2237: 1.0, 2238: 3.0, 2239: 7.0, 2240: 2.0, 2242: 4.0, 2243: 20.0, 2244: 1.0, 2245: 7.0, 2246: 3.0, 2248: 3.0, 2249: 6.0, 2250: 16.0, 2251: 9.0, 2252: 2.0, 2253: 27.0, 2254: 2.0, 2255: 13.0, 2257: 2.0, 2258: 2.0, 2259: 3.0, 2260: 131.0, 2261: 1.0, 2262: 1.0, 2263: 2.0, 2265: 3.0, 2266: 2.0, 2267: 5.0, 2268: 2.0, 2269: 9.0, 2271: 2.0, 2274: 30.0, 2276: 3.0, 2277: 1.0, 2278: 2.0, 2279: 18.0, 2280: 2.0, 2282: 1.0, 2283: 1.0, 2284: 2.0, 2285: 8.0, 2286: 4.0, 2288: 5.0, 2289: 8.0, 2290: 13.0, 2292: 3.0, 2293: 5.0, 2294: 10.0, 2295: 5.0, 2296: 4.0, 2297: 1.0, 2298: 1.0, 2299: 3.0, 2300: 3.0, 2301: 1.0, 2302: 5.0, 2303: 1.0, 2305: 2.0, 2306: 5.0, 2307: 28.0, 2308: 12.0, 2310: 6.0, 2311: 28.0, 2313: 3.0, 2314: 2.0, 2315: 2.0, 2316: 31.0, 2317: 5.0, 2318: 7.0, 2319: 5.0, 2320: 1.0, 2321: 9.0, 2322: 8.0, 2323: 6.0, 2324: 4.0, 2325: 8.0, 2326: 2.0, 2328: 1.0, 2329: 1.0, 2330: 2.0, 2332: 8.0, 2333: 3.0, 2334: 5.0, 2335: 2.0, 2336: 1.0, 2337: 2.0, 2338: 4.0, 2339: 10.0, 2341: 1.0, 2342: 1.0, 2343: 4.0, 2344: 2.0, 2345: 4.0, 2346: 2.0, 2347: 2.0, 2348: 2.0, 2349: 1.0, 2350: 2.0, 2351: 5.0, 2353: 5.0, 2354: 8.0, 2355: 7.0, 2356: 4.0, 2357: 2.0, 2358: 5.0, 2359: 6.0, 2360: 1.0, 2361: 8.0, 2362: 5.0, 2363: 2.0, 2364: 8.0, 2365: 1.0, 2366: 2.0, 2367: 1.0, 2369: 1.0, 2370: 4.0, 2372: 3.0, 2374: 12.0, 2375: 8.0, 2377: 3.0, 2379: 8.0, 2380: 1.0, 2381: 6.0, 2382: 5.0, 2384: 56.0, 2386: 6.0, 2388: 2.0, 2389: 6.0, 2390: 5.0, 2391: 4.0, 2393: 1.0, 2394: 7.0, 2396: 6.0, 2397: 2.0, 2398: 22.0, 2400: 9.0, 2401: 3.0, 2403: 3.0, 2404: 3.0, 2405: 3.0, 2407: 4.0, 2409: 1.0, 2411: 6.0, 2412: 2.0, 2413: 2.0, 2415: 6.0, 2416: 2.0, 2417: 1.0, 2418: 2.0, 2421: 4.0, 2422: 11.0, 2425: 2.0, 2426: 6.0, 2427: 3.0, 2429: 7.0, 2432: 3.0, 2433: 1.0, 2434: 1.0, 2435: 6.0, 2436: 2.0, 2437: 6.0, 2438: 1.0, 2441: 10.0, 2443: 9.0, 2445: 2.0, 2446: 2.0, 2447: 5.0, 2450: 11.0, 2451: 4.0, 2454: 9.0, 2457: 2.0, 2458: 1.0, 2459: 2.0, 2460: 4.0, 2461: 2.0, 2462: 2.0, 2465: 3.0, 2469: 2.0, 2471: 6.0, 2472: 6.0, 2473: 2.0, 2475: 1.0, 2476: 4.0, 2477: 6.0, 2480: 2.0, 2483: 17.0, 2484: 2.0, 2485: 3.0, 2486: 2.0, 2489: 2.0, 2491: 10.0, 2492: 1.0, 2493: 24.0, 2494: 4.0, 2495: 3.0, 2496: 2.0, 2497: 26.0, 2499: 9.0, 2500: 5.0, 2501: 3.0, 2503: 2.0, 2504: 2.0, 2505: 1.0, 2506: 2.0, 2508: 8.0, 2509: 1.0, 2510: 1.0, 2511: 2.0, 2512: 3.0, 2513: 5.0, 2514: 5.0, 2515: 11.0, 2516: 3.0, 2519: 6.0, 2520: 2.0, 2521: 1.0, 2522: 3.0, 2523: 4.0, 2524: 2.0, 2525: 3.0, 2526: 5.0, 2527: 1.0, 2528: 1.0, 2529: 1.0, 2530: 3.0, 2532: 5.0, 2533: 2.0, 2534: 11.0, 2536: 7.0, 2537: 8.0, 2538: 8.0, 2540: 3.0, 2542: 3.0, 2543: 6.0, 2545: 9.0, 2547: 1.0, 2549: 6.0, 2550: 2.0, 2551: 5.0, 2552: 9.0, 2553: 1.0, 2554: 2.0, 2557: 6.0, 2558: 7.0, 2560: 1.0, 2561: 2.0, 2563: 12.0, 2565: 2.0, 2566: 4.0, 2567: 2.0, 2568: 7.0, 2571: 1.0, 2572: 1.0, 2573: 5.0, 2574: 1.0, 2575: 10.0, 2576: 2.0, 2577: 4.0, 2578: 2.0, 2579: 2.0, 2580: 4.0, 2581: 2.0, 2582: 2.0, 2583: 5.0, 2584: 7.0, 2585: 9.0, 2587: 1.0, 2588: 2.0, 2589: 8.0, 2590: 8.0, 2593: 2.0, 2594: 1.0, 2595: 1.0, 2596: 2.0, 2597: 1.0, 2600: 13.0, 2601: 8.0, 2603: 13.0, 2605: 2.0, 2606: 2.0, 2607: 4.0, 2608: 2.0, 2609: 2.0, 2610: 3.0, 2611: 2.0, 2612: 12.0, 2613: 3.0, 2616: 2.0, 2617: 1.0, 2618: 2.0, 2619: 3.0, 2620: 1.0, 2621: 4.0, 2624: 1.0, 2625: 2.0, 2626: 4.0, 2628: 4.0, 2629: 8.0, 2630: 36.0, 2631: 7.0, 2632: 1.0, 2633: 12.0, 2636: 1.0, 2637: 2.0, 2638: 3.0, 2639: 1.0, 2640: 3.0, 2641: 7.0, 2643: 2.0, 2644: 16.0, 2645: 2.0, 2646: 2.0, 2647: 1.0, 2648: 13.0, 2649: 3.0, 2650: 1.0, 2652: 4.0, 2653: 5.0, 2654: 7.0, 2655: 14.0, 2656: 2.0, 2657: 8.0, 2659: 1.0, 2661: 1.0, 2662: 4.0, 2664: 3.0, 2665: 6.0, 2666: 1.0, 2667: 1.0, 2668: 1.0, 2669: 18.0, 2670: 3.0, 2671: 34.0, 2672: 2.0, 2673: 3.0, 2675: 2.0, 2676: 3.0, 2680: 6.0, 2681: 3.0, 2682: 1.0, 2683: 1.0, 2686: 1.0, 2687: 3.0, 2688: 1.0, 2690: 10.0, 2691: 1.0, 2694: 1.0, 2695: 2.0, 2696: 9.0, 2697: 1.0, 2698: 2.0, 2699: 6.0, 2700: 1.0, 2701: 2.0, 2702: 3.0, 2703: 1.0, 2704: 2.0, 2706: 4.0, 2707: 18.0, 2708: 3.0, 2711: 12.0, 2712: 5.0, 2714: 3.0, 2715: 1.0, 2716: 8.0, 2718: 6.0, 2719: 4.0, 2720: 2.0, 2722: 1.0, 2723: 2.0, 2724: 1.0, 2725: 1.0, 2727: 1.0, 2728: 2.0, 2733: 9.0, 2734: 3.0, 2735: 3.0, 2736: 1.0, 2738: 3.0, 2741: 25.0, 2742: 2.0, 2743: 1.0, 2745: 2.0, 2746: 2.0, 2749: 2.0, 2751: 2.0, 2752: 5.0, 2753: 13.0, 2755: 5.0, 2756: 5.0, 2757: 4.0, 2758: 7.0, 2759: 4.0, 2760: 1.0, 2762: 2.0, 2763: 2.0, 2764: 1.0, 2765: 1.0, 2766: 2.0, 2767: 3.0, 2768: 1.0, 2769: 5.0, 2771: 7.0, 2775: 54.0, 2776: 1.0, 2777: 29.0, 2778: 1.0, 2779: 1.0, 2780: 5.0, 2782: 4.0, 2783: 7.0, 2786: 14.0, 2788: 2.0, 2789: 12.0, 2791: 11.0, 2792: 7.0, 2793: 4.0, 2794: 5.0, 2795: 1.0, 2797: 5.0, 2798: 4.0, 2800: 2.0, 2801: 5.0, 2804: 3.0, 2805: 4.0, 2806: 2.0, 2807: 6.0, 2808: 12.0, 2809: 1.0, 2811: 1.0, 2812: 1.0, 2813: 1.0, 2814: 4.0, 2815: 2.0, 2816: 2.0, 2818: 6.0, 2821: 2.0, 2822: 54.0, 2823: 1.0, 2824: 11.0, 2825: 22.0, 2829: 4.0, 2830: 6.0, 2831: 4.0, 2832: 6.0, 2833: 2.0, 2834: 1.0, 2835: 2.0, 2836: 4.0, 2837: 1.0, 2838: 2.0, 2839: 1.0, 2840: 6.0, 2841: 2.0, 2842: 5.0, 2844: 3.0, 2846: 1.0, 2847: 2.0, 2848: 7.0, 2851: 19.0, 2854: 2.0, 2855: 8.0, 2857: 4.0, 2859: 1.0, 2860: 2.0, 2861: 9.0, 2862: 1.0, 2865: 7.0, 2866: 1.0, 2868: 5.0, 2870: 9.0, 2871: 5.0, 2872: 4.0, 2873: 1.0, 2874: 1.0, 2876: 5.0, 2877: 12.0, 2878: 5.0, 2879: 6.0, 2880: 3.0, 2881: 5.0, 2882: 2.0, 2884: 26.0, 2886: 2.0, 2887: 11.0, 2889: 12.0, 2890: 1.0, 2892: 12.0, 2893: 3.0, 2894: 1.0, 2896: 4.0, 2898: 5.0, 2899: 3.0, 2900: 7.0, 2901: 3.0, 2902: 1.0, 2904: 4.0, 2907: 1.0, 2908: 3.0, 2910: 3.0, 2911: 8.0, 2912: 10.0, 2913: 6.0, 2916: 4.0, 2917: 3.0, 2918: 6.0, 2919: 4.0, 2920: 12.0, 2921: 3.0, 2924: 1.0, 2925: 3.0, 2926: 2.0, 2927: 3.0, 2928: 3.0, 2929: 15.0, 2930: 4.0, 2933: 5.0, 2934: 5.0, 2935: 5.0, 2937: 8.0, 2938: 2.0, 2943: 1.0, 2944: 22.0, 2945: 2.0, 2946: 5.0, 2947: 3.0, 2950: 1.0, 2951: 1.0, 2952: 1.0, 2954: 8.0, 2955: 2.0, 2956: 2.0, 2957: 52.0, 2958: 4.0, 2959: 1.0, 2964: 8.0, 2965: 2.0, 2967: 9.0, 2971: 5.0, 2972: 7.0, 2975: 1.0, 2978: 1.0, 2979: 3.0, 2980: 1.0, 2981: 3.0, 2982: 4.0, 2984: 7.0, 2985: 1.0, 2986: 1.0, 2987: 9.0, 2988: 4.0, 2989: 2.0, 2990: 4.0, 2991: 1.0, 2992: 1.0, 2993: 1.0, 2994: 5.0, 2995: 2.0, 2997: 2.0, 3000: 1.0, 3001: 6.0, 3002: 7.0, 3003: 1.0, 3007: 1.0, 3008: 7.0, 3009: 13.0, 3010: 5.0, 3011: 2.0, 3012: 5.0, 3013: 1.0, 3015: 1.0, 3018: 1.0, 3019: 2.0, 3020: 5.0, 3021: 1.0, 3023: 5.0, 3030: 1.0, 3031: 7.0, 3033: 5.0, 3034: 3.0, 3035: 1.0, 3038: 5.0, 3039: 1.0, 3040: 5.0, 3042: 3.0, 3043: 1.0, 3045: 2.0, 3048: 1.0, 3049: 8.0, 3050: 18.0, 3052: 2.0, 3054: 1.0, 3055: 3.0, 3057: 8.0, 3060: 4.0, 3062: 1.0, 3063: 1.0, 3064: 6.0, 3066: 1.0, 3069: 5.0, 3070: 2.0, 3071: 3.0, 3072: 1.0, 3073: 2.0, 3074: 3.0, 3077: 15.0, 3079: 1.0, 3080: 5.0, 3081: 1.0, 3082: 2.0, 3083: 1.0, 3085: 1.0, 3086: 15.0, 3087: 6.0, 3088: 1.0, 3090: 2.0, 3092: 15.0, 3093: 2.0, 3094: 7.0, 3095: 2.0, 3097: 1.0, 3098: 9.0, 3100: 7.0, 3103: 8.0, 3105: 1.0, 3106: 14.0, 3107: 2.0, 3109: 1.0, 3110: 8.0, 3112: 1.0, 3114: 2.0, 3117: 4.0, 3118: 4.0, 3119: 1.0, 3120: 2.0, 3121: 3.0, 3123: 1.0, 3124: 1.0, 3126: 1.0, 3127: 3.0, 3128: 14.0, 3130: 4.0, 3131: 2.0, 3133: 9.0, 3134: 3.0, 3135: 1.0, 3136: 1.0, 3137: 3.0, 3140: 9.0, 3141: 2.0, 3142: 3.0, 3146: 2.0, 3147: 3.0, 3148: 3.0, 3149: 1.0, 3151: 2.0, 3152: 2.0, 3153: 1.0, 3154: 2.0, 3155: 4.0, 3157: 2.0, 3159: 1.0, 3160: 3.0, 3166: 1.0, 3168: 7.0, 3169: 6.0, 3170: 4.0, 3171: 1.0, 3172: 9.0, 3174: 7.0, 3176: 5.0, 3177: 2.0, 3178: 5.0, 3183: 2.0, 3184: 4.0, 3186: 1.0, 3188: 9.0, 3191: 5.0, 3192: 3.0, 3193: 1.0, 3194: 1.0, 3196: 11.0, 3197: 2.0, 3200: 2.0, 3202: 1.0, 3203: 1.0, 3204: 2.0, 3205: 2.0, 3206: 1.0, 3207: 1.0, 3208: 4.0, 3209: 4.0, 3210: 6.0, 3212: 2.0, 3214: 3.0, 3216: 3.0, 3218: 2.0, 3219: 1.0, 3220: 4.0, 3221: 1.0, 3222: 487.0, 3223: 1.0, 3224: 4.0, 3225: 1.0, 3229: 4.0, 3230: 4.0, 3231: 1.0, 3232: 1.0, 3233: 1.0, 3234: 2.0, 3235: 3.0, 3236: 1.0, 3238: 3.0, 3239: 4.0, 3240: 1.0, 3241: 2.0, 3242: 12.0, 3243: 3.0, 3244: 1.0, 3245: 1.0, 3248: 2.0, 3249: 5.0, 3250: 5.0, 3251: 5.0, 3252: 1.0, 3254: 1.0, 3255: 2.0, 3256: 4.0, 3257: 1.0, 3259: 4.0, 3261: 9.0, 3262: 2.0, 3264: 3.0, 3265: 1.0, 3266: 2.0, 3267: 2.0, 3269: 1.0, 3270: 3.0, 3272: 8.0, 3273: 5.0, 3274: 1.0, 3275: 3.0, 3276: 4.0, 3277: 2.0, 3278: 1.0, 3279: 1.0, 3280: 4.0, 3282: 2.0, 3283: 1.0, 3284: 3.0, 3285: 4.0, 3286: 17.0, 3287: 1.0, 3288: 1.0, 3290: 3.0, 3291: 7.0, 3292: 5.0, 3293: 2.0, 3294: 1.0, 3295: 6.0, 3296: 10.0, 3299: 2.0, 3300: 1.0, 3301: 2.0, 3302: 7.0, 3304: 3.0, 3306: 4.0, 3308: 2.0, 3309: 1.0, 3310: 8.0, 3311: 1.0, 3313: 3.0, 3315: 7.0, 3316: 4.0, 3317: 5.0, 3319: 4.0, 3320: 4.0, 3322: 4.0, 3323: 4.0, 3324: 1.0, 3325: 3.0, 3328: 1.0, 3329: 10.0, 3331: 1.0, 3332: 1.0, 3334: 1.0, 3335: 2.0, 3336: 5.0, 3337: 5.0, 3338: 4.0, 3339: 2.0, 3340: 1.0, 3341: 3.0, 3342: 3.0, 3343: 4.0, 3344: 2.0, 3345: 4.0, 3346: 34.0, 3347: 4.0, 3348: 9.0, 3352: 1.0, 3353: 6.0, 3354: 4.0, 3355: 1.0, 3359: 4.0, 3360: 2.0, 3361: 2.0, 3362: 1.0, 3364: 1.0, 3365: 6.0, 3366: 5.0, 3368: 6.0, 3371: 1.0, 3374: 1.0, 3375: 2.0, 3376: 6.0, 3377: 2.0, 3378: 1.0, 3380: 2.0, 3385: 4.0, 3386: 1.0, 3388: 10.0, 3389: 2.0, 3391: 2.0, 3392: 19.0, 3394: 2.0, 3396: 1.0, 3397: 4.0, 3398: 7.0, 3399: 4.0, 3400: 5.0, 3404: 2.0, 3405: 4.0, 3406: 2.0, 3410: 21.0, 3412: 1.0, 3416: 2.0, 3417: 4.0, 3418: 2.0, 3420: 1.0, 3422: 1.0, 3423: 3.0, 3424: 2.0, 3425: 1.0, 3427: 1.0, 3428: 1.0, 3430: 2.0, 3431: 21.0, 3432: 9.0, 3434: 4.0, 3435: 1.0, 3436: 1.0, 3437: 1.0, 3439: 3.0, 3440: 2.0, 3441: 1.0, 3442: 1.0, 3444: 1.0, 3445: 7.0, 3446: 13.0, 3448: 2.0, 3450: 1.0, 3451: 1.0, 3452: 4.0, 3453: 1.0, 3454: 1.0, 3455: 9.0, 3456: 5.0, 3458: 11.0, 3461: 1.0, 3464: 3.0, 3465: 1.0, 3467: 5.0, 3468: 1.0, 3469: 11.0, 3470: 3.0, 3472: 1.0, 3473: 5.0, 3478: 1.0, 3479: 1.0, 3480: 3.0, 3482: 2.0, 3485: 1.0, 3486: 1.0, 3487: 7.0, 3490: 1.0, 3494: 1.0, 3497: 1.0, 3498: 2.0, 3501: 3.0, 3502: 2.0, 3503: 1.0, 3504: 1.0, 3505: 6.0, 3507: 2.0, 3509: 4.0, 3510: 1.0, 3511: 5.0, 3512: 3.0, 3513: 3.0, 3514: 1.0, 3515: 4.0, 3516: 5.0, 3517: 5.0, 3518: 2.0, 3520: 11.0, 3522: 1.0, 3523: 1.0, 3524: 1.0, 3525: 1.0, 3526: 5.0, 3527: 7.0, 3528: 2.0, 3531: 2.0, 3532: 1.0, 3533: 1.0, 3534: 1.0, 3535: 1.0, 3536: 11.0, 3537: 6.0, 3539: 2.0, 3540: 10.0, 3542: 1.0, 3543: 1.0, 3545: 1.0, 3546: 3.0, 3549: 7.0, 3551: 2.0, 3555: 1.0, 3557: 20.0, 3558: 3.0, 3559: 2.0, 3560: 2.0, 3561: 11.0, 3563: 2.0, 3564: 1.0, 3565: 1.0, 3568: 4.0, 3570: 10.0, 3572: 1.0, 3576: 2.0, 3577: 22.0, 3578: 6.0, 3579: 1.0, 3580: 2.0, 3585: 3.0, 3586: 2.0, 3589: 1.0, 3591: 1.0, 3592: 3.0, 3593: 1.0, 3594: 3.0, 3596: 3.0, 3598: 3.0, 3599: 2.0, 3600: 2.0, 3603: 3.0, 3604: 2.0, 3605: 1.0, 3606: 12.0, 3607: 3.0, 3608: 1.0, 3609: 15.0, 3610: 3.0, 3612: 3.0, 3613: 1.0, 3615: 4.0, 3616: 1.0, 3617: 3.0, 3618: 1.0, 3619: 1.0, 3621: 2.0, 3623: 4.0, 3624: 1.0, 3626: 2.0, 3628: 1.0, 3630: 4.0, 3631: 2.0, 3634: 9.0, 3637: 5.0, 3638: 3.0, 3640: 1.0, 3641: 1.0, 3643: 2.0, 3645: 1.0, 3647: 2.0, 3648: 1.0, 3650: 1.0, 3653: 3.0, 3654: 3.0, 3657: 2.0, 3659: 1.0, 3660: 2.0, 3661: 3.0, 3662: 6.0, 3663: 7.0, 3664: 2.0, 3665: 1.0, 3666: 1.0, 3667: 4.0, 3668: 1.0, 3669: 1.0, 3670: 4.0, 3671: 3.0, 3672: 8.0, 3673: 2.0, 3674: 2.0, 3675: 2.0, 3677: 8.0, 3678: 5.0, 3679: 2.0, 3680: 2.0, 3682: 1.0, 3688: 1.0, 3689: 5.0, 3690: 6.0, 3691: 2.0, 3693: 10.0, 3697: 6.0, 3699: 2.0, 3700: 4.0, 3701: 1.0, 3703: 2.0, 3705: 1.0, 3706: 7.0, 3707: 1.0, 3708: 3.0, 3709: 8.0, 3710: 5.0, 3711: 6.0, 3713: 1.0, 3714: 4.0, 3715: 2.0, 3716: 1.0, 3717: 3.0, 3718: 1.0, 3721: 2.0, 3722: 68.0, 3723: 1.0, 3724: 1.0, 3725: 1.0, 3727: 1.0, 3728: 1.0, 3733: 3.0, 3735: 1.0, 3736: 1.0, 3737: 3.0, 3738: 2.0, 3739: 1.0, 3740: 3.0, 3741: 8.0, 3743: 4.0, 3744: 3.0, 3745: 4.0, 3748: 1.0, 3749: 4.0, 3750: 20.0, 3752: 1.0, 3753: 1.0, 3754: 2.0, 3758: 4.0, 3759: 1.0, 3762: 1.0, 3767: 1.0, 3768: 7.0, 3770: 1.0, 3771: 3.0, 3772: 4.0, 3773: 5.0, 3774: 1.0, 3775: 3.0, 3776: 1.0, 3778: 2.0, 3779: 6.0, 3781: 1.0, 3784: 4.0, 3787: 4.0, 3788: 8.0, 3789: 3.0, 3791: 1.0, 3792: 2.0, 3794: 7.0, 3795: 2.0, 3797: 2.0, 3798: 11.0, 3799: 1.0, 3800: 2.0, 3801: 7.0, 3803: 8.0, 3804: 17.0, 3805: 2.0, 3806: 1.0, 3807: 4.0, 3808: 5.0, 3810: 1.0, 3813: 1.0, 3814: 3.0, 3818: 4.0, 3819: 9.0, 3820: 3.0, 3824: 1.0, 3825: 4.0, 3827: 4.0, 3828: 2.0, 3832: 3.0, 3835: 7.0, 3836: 2.0, 3839: 1.0, 3840: 1.0, 3841: 2.0, 3842: 5.0, 3843: 2.0, 3844: 1.0, 3845: 1.0, 3846: 3.0, 3847: 1.0, 3849: 1.0, 3850: 1.0, 3851: 10.0, 3852: 4.0, 3853: 2.0, 3854: 2.0, 3855: 4.0, 3859: 1.0, 3861: 1.0, 3862: 2.0, 3863: 3.0, 3865: 2.0, 3866: 2.0, 3867: 1.0, 3868: 3.0, 3869: 3.0, 3870: 8.0, 3873: 4.0, 3874: 3.0, 3875: 1.0, 3876: 8.0, 3880: 1.0, 3882: 6.0, 3884: 2.0, 3885: 1.0, 3886: 1.0, 3888: 1.0, 3889: 3.0, 3891: 1.0, 3892: 2.0, 3895: 3.0, 3896: 2.0, 3897: 2.0, 3898: 1.0, 3902: 3.0, 3903: 14.0, 3904: 2.0, 3905: 4.0, 3908: 1.0, 3910: 5.0, 3912: 3.0, 3913: 2.0, 3915: 3.0, 3919: 1.0, 3922: 4.0, 3923: 1.0, 3924: 3.0, 3925: 1.0, 3927: 1.0, 3928: 4.0, 3931: 12.0, 3932: 1.0, 3934: 1.0, 3935: 1.0, 3936: 4.0, 3937: 2.0, 3941: 1.0, 3942: 3.0, 3944: 1.0, 3946: 14.0, 3947: 2.0, 3948: 1.0, 3950: 1.0, 3951: 1.0, 3952: 1.0, 3953: 6.0, 3957: 1.0, 3958: 1.0, 3959: 2.0, 3962: 1.0, 3964: 2.0, 3968: 6.0, 3970: 11.0, 3976: 1.0, 3979: 4.0, 3983: 1.0, 3985: 1.0, 3986: 15.0, 3988: 1.0, 3990: 1.0, 3991: 10.0, 3993: 1.0, 3994: 10.0, 3995: 1.0, 3997: 1.0, 3998: 2.0, 3999: 1.0, 4000: 1.0, 4001: 1.0, 4002: 1.0, 4003: 3.0, 4004: 5.0, 4005: 2.0, 4006: 2.0, 4007: 1.0, 4008: 11.0, 4012: 1.0, 4013: 2.0, 4017: 4.0, 4019: 1.0, 4022: 4.0, 4023: 4.0, 4026: 10.0, 4032: 1.0, 4033: 1.0, 4035: 25.0, 4036: 2.0, 4037: 16.0, 4038: 6.0, 4039: 5.0, 4041: 2.0, 4042: 15.0, 4044: 3.0, 4045: 6.0, 4050: 12.0, 4051: 52.0, 4053: 3.0, 4054: 1.0, 4056: 5.0, 4057: 4.0, 4058: 9.0, 4060: 5.0, 4063: 2.0, 4065: 1.0, 4066: 5.0, 4067: 1.0, 4068: 4.0, 4070: 3.0, 4075: 1.0, 4076: 3.0, 4080: 1.0, 4084: 1.0, 4085: 1.0, 4086: 1.0, 4088: 5.0, 4089: 4.0, 4090: 1.0, 4091: 1.0, 4092: 1.0, 4095: 1.0, 4096: 2.0, 4097: 3.0, 4098: 1.0, 4099: 2.0, 4100: 1.0, 4104: 1.0, 4105: 7.0, 4107: 4.0, 4114: 8.0, 4117: 1.0, 4119: 3.0, 4120: 2.0, 4121: 3.0, 4122: 1.0, 4125: 7.0, 4127: 3.0, 4128: 7.0, 4132: 1.0, 4133: 1.0, 4135: 33.0, 4137: 1.0, 4138: 1.0, 4139: 2.0, 4140: 6.0, 4141: 5.0, 4143: 2.0, 4144: 2.0, 4145: 5.0, 4146: 1.0, 4148: 1.0, 4150: 1.0, 4158: 1.0, 4160: 4.0, 4162: 2.0, 4163: 1.0, 4164: 3.0, 4166: 1.0, 4167: 4.0, 4168: 2.0, 4170: 1.0, 4172: 1.0, 4174: 1.0, 4177: 1.0, 4179: 8.0, 4181: 1.0, 4182: 6.0, 4183: 3.0, 4184: 1.0, 4186: 5.0, 4188: 2.0, 4189: 2.0, 4191: 1.0, 4192: 1.0, 4194: 5.0, 4195: 2.0, 4196: 13.0, 4197: 5.0, 4198: 4.0, 4199: 3.0, 4200: 1.0, 4202: 8.0, 4203: 5.0, 4205: 3.0, 4206: 2.0, 4209: 3.0, 4211: 6.0, 4212: 6.0, 4214: 2.0, 4216: 8.0, 4219: 7.0, 4220: 2.0, 4221: 1.0, 4222: 1.0, 4223: 3.0, 4224: 5.0, 4225: 1.0, 4228: 7.0, 4230: 3.0, 4232: 7.0, 4233: 1.0, 4236: 4.0, 4237: 3.0, 4240: 2.0, 4241: 4.0, 4243: 1.0, 4245: 1.0, 4247: 18.0, 4248: 3.0, 4249: 1.0, 4250: 1.0, 4252: 1.0, 4253: 8.0, 4254: 1.0, 4255: 3.0, 4258: 4.0, 4259: 6.0, 4260: 6.0, 4262: 3.0, 4264: 2.0, 4265: 1.0, 4266: 6.0, 4267: 5.0, 4269: 1.0, 4271: 3.0, 4272: 4.0, 4274: 5.0, 4275: 1.0, 4276: 1.0, 4281: 1.0, 4282: 1.0, 4284: 1.0, 4285: 1.0, 4286: 1.0, 4287: 5.0, 4288: 1.0, 4289: 6.0, 4290: 2.0, 4292: 1.0, 4294: 5.0, 4295: 1.0, 4296: 3.0, 4299: 2.0, 4300: 3.0, 4301: 6.0, 4302: 6.0, 4304: 4.0, 4305: 1.0, 4306: 3.0, 4307: 3.0, 4309: 4.0, 4310: 1.0, 4311: 1.0, 4312: 3.0, 4313: 2.0, 4314: 1.0, 4315: 1.0, 4316: 2.0, 4322: 2.0, 4323: 1.0, 4324: 1.0, 4325: 1.0, 4328: 2.0, 4330: 3.0, 4335: 5.0, 4337: 5.0, 4338: 2.0, 4341: 1.0, 4342: 2.0, 4343: 1.0, 4345: 1.0, 4346: 1.0, 4347: 2.0, 4348: 1.0, 4349: 1.0, 4350: 1.0, 4352: 1.0, 4353: 5.0, 4355: 3.0, 4359: 5.0, 4360: 2.0, 4363: 5.0, 4364: 1.0, 4366: 2.0, 4367: 3.0, 4368: 3.0, 4370: 3.0, 4371: 1.0, 4372: 1.0, 4373: 1.0, 4374: 4.0, 4375: 1.0, 4376: 1.0, 4378: 27.0, 4383: 7.0, 4384: 1.0, 4387: 3.0, 4388: 3.0, 4389: 1.0, 4390: 1.0, 4391: 1.0, 4396: 1.0, 4397: 2.0, 4398: 8.0, 4400: 1.0, 4402: 9.0, 4404: 2.0, 4405: 1.0, 4406: 3.0, 4407: 3.0, 4413: 2.0, 4414: 1.0, 4417: 26.0, 4420: 1.0, 4422: 3.0, 4428: 5.0, 4431: 1.0, 4433: 7.0, 4436: 1.0, 4439: 1.0, 4442: 1.0, 4443: 3.0, 4444: 3.0, 4445: 1.0, 4446: 1.0, 4447: 1.0, 4450: 1.0, 4451: 3.0, 4454: 3.0, 4456: 6.0, 4457: 2.0, 4459: 9.0, 4463: 1.0, 4464: 1.0, 4465: 3.0, 4467: 1.0, 4469: 1.0, 4471: 1.0, 4472: 10.0, 4473: 2.0, 4474: 3.0, 4475: 2.0, 4481: 1.0, 4483: 1.0, 4485: 1.0, 4487: 1.0, 4488: 4.0, 4489: 12.0, 4492: 4.0, 4495: 1.0, 4498: 4.0, 4500: 4.0, 4501: 1.0, 4502: 1.0, 4503: 1.0, 4506: 1.0, 4507: 1.0, 4509: 1.0, 4513: 2.0, 4514: 2.0, 4515: 1.0, 4516: 15.0, 4517: 1.0, 4519: 2.0, 4521: 3.0, 4524: 13.0, 4525: 5.0, 4526: 1.0, 4528: 1.0, 4529: 1.0, 4530: 1.0, 4531: 7.0, 4532: 4.0, 4534: 1.0, 4535: 1.0, 4538: 1.0, 4539: 1.0, 4540: 6.0, 4543: 98.0, 4548: 2.0, 4549: 1.0, 4551: 1.0, 4552: 7.0, 4554: 1.0, 4559: 3.0, 4561: 2.0, 4562: 6.0, 4570: 1.0, 4571: 3.0, 4572: 23.0, 4573: 1.0, 4575: 5.0, 4579: 1.0, 4580: 4.0, 4581: 1.0, 4582: 3.0, 4583: 28.0, 4588: 1.0, 4589: 1.0, 4592: 1.0, 4593: 1.0, 4594: 2.0, 4595: 5.0, 4597: 7.0, 4598: 2.0, 4600: 1.0, 4602: 2.0, 4604: 2.0, 4605: 4.0, 4606: 1.0, 4607: 2.0, 4609: 2.0, 4610: 2.0, 4611: 1.0, 4617: 4.0, 4618: 4.0, 4621: 4.0, 4624: 1.0, 4625: 1.0, 4626: 1.0, 4627: 1.0, 4628: 5.0, 4629: 2.0, 4630: 1.0, 4631: 1.0, 4633: 4.0, 4634: 1.0, 4636: 2.0, 4637: 5.0, 4640: 1.0, 4642: 5.0, 4644: 2.0, 4645: 4.0, 4647: 2.0, 4648: 5.0, 4649: 2.0, 4651: 2.0, 4653: 2.0, 4655: 1.0, 4657: 2.0, 4663: 1.0, 4666: 6.0, 4669: 1.0, 4672: 4.0, 4673: 1.0, 4674: 1.0, 4675: 2.0, 4677: 2.0, 4678: 4.0, 4680: 1.0, 4682: 1.0, 4683: 1.0, 4684: 1.0, 4685: 6.0, 4688: 1.0, 4689: 3.0, 4690: 3.0, 4691: 1.0, 4692: 2.0, 4697: 1.0, 4702: 1.0, 4705: 11.0, 4709: 1.0, 4710: 6.0, 4712: 1.0, 4716: 1.0, 4718: 3.0, 4720: 8.0, 4723: 8.0, 4724: 4.0, 4725: 1.0, 4727: 1.0, 4728: 1.0, 4730: 2.0, 4731: 1.0, 4733: 4.0, 4734: 3.0, 4735: 1.0, 4736: 7.0, 4739: 1.0, 4741: 5.0, 4742: 14.0, 4743: 1.0, 4745: 2.0, 4746: 3.0, 4747: 2.0, 4750: 1.0, 4752: 1.0, 4754: 1.0, 4755: 1.0, 4758: 6.0, 4763: 5.0, 4764: 3.0, 4767: 1.0, 4768: 4.0, 4771: 1.0, 4772: 11.0, 4773: 6.0, 4774: 2.0, 4779: 1.0, 4781: 2.0, 4786: 1.0, 4787: 1.0, 4789: 1.0, 4791: 3.0, 4794: 2.0, 4796: 1.0, 4798: 3.0, 4801: 27.0, 4802: 1.0, 4803: 3.0, 4805: 1.0, 4808: 10.0, 4809: 1.0, 4813: 1.0, 4816: 11.0, 4818: 11.0, 4819: 1.0, 4821: 1.0, 4822: 3.0, 4824: 2.0, 4825: 1.0, 4828: 5.0, 4829: 7.0, 4830: 1.0, 4831: 1.0, 4834: 2.0, 4835: 2.0, 4837: 4.0, 4838: 1.0, 4839: 1.0, 4840: 1.0, 4842: 1.0, 4844: 2.0, 4845: 4.0, 4847: 3.0, 4848: 1.0, 4850: 1.0, 4851: 1.0, 4852: 10.0, 4853: 1.0, 4854: 1.0, 4856: 1.0, 4857: 1.0, 4858: 1.0, 4861: 1.0, 4862: 1.0, 4863: 1.0, 4864: 2.0, 4867: 4.0, 4870: 1.0, 4871: 1.0, 4872: 3.0, 4873: 2.0, 4874: 7.0, 4876: 2.0, 4877: 1.0, 4878: 2.0, 4879: 1.0, 4880: 1.0, 4883: 3.0, 4886: 12.0, 4887: 1.0, 4889: 1.0, 4892: 3.0, 4894: 1.0, 4895: 1.0, 4897: 7.0, 4898: 1.0, 4900: 5.0, 4905: 1.0, 4906: 1.0, 4909: 7.0, 4910: 49.0, 4913: 2.0, 4917: 3.0, 4918: 2.0, 4919: 1.0, 4920: 1.0, 4921: 1.0, 4923: 2.0, 4925: 3.0, 4926: 2.0, 4927: 3.0, 4929: 4.0, 4930: 4.0, 4934: 6.0, 4936: 1.0, 4937: 1.0, 4938: 1.0, 4939: 1.0, 4941: 1.0, 4942: 1.0, 4943: 1.0, 4946: 5.0, 4947: 4.0, 4948: 6.0, 4949: 1.0, 4950: 2.0, 4951: 1.0, 4953: 3.0, 4954: 3.0, 4958: 1.0, 4959: 1.0, 4963: 1.0, 4965: 2.0, 4966: 1.0, 4970: 3.0, 4971: 2.0, 4973: 2.0, 4974: 6.0, 4975: 2.0, 4976: 1.0, 4978: 11.0, 4979: 1.0, 4980: 1.0, 4988: 1.0, 4989: 1.0, 4990: 9.0, 4992: 4.0, 4995: 2.0, 4997: 1.0, 4999: 2.0, 5002: 1.0, 5003: 3.0, 5004: 2.0, 5005: 1.0, 5008: 2.0, 5009: 3.0, 5011: 2.0, 5014: 4.0, 5015: 2.0, 5016: 1.0, 5018: 12.0, 5020: 6.0, 5021: 2.0, 5023: 2.0, 5024: 4.0, 5025: 1.0, 5026: 1.0, 5027: 1.0, 5029: 1.0, 5031: 1.0, 5032: 5.0, 5036: 1.0, 5039: 3.0, 5044: 1.0, 5046: 2.0, 5051: 3.0, 5052: 1.0, 5055: 1.0, 5056: 1.0, 5061: 4.0, 5062: 1.0, 5063: 1.0, 5065: 20.0, 5066: 1.0, 5067: 1.0, 5069: 1.0, 5071: 3.0, 5073: 7.0, 5075: 1.0, 5078: 1.0, 5081: 3.0, 5083: 18.0, 5084: 2.0, 5087: 3.0, 5088: 1.0, 5089: 1.0, 5092: 1.0, 5094: 5.0, 5096: 1.0, 5099: 3.0, 5101: 6.0, 5103: 11.0, 5104: 8.0, 5106: 3.0, 5108: 1.0, 5110: 1.0, 5111: 1.0, 5113: 2.0, 5114: 2.0, 5121: 5.0, 5126: 1.0, 5128: 3.0, 5132: 2.0, 5133: 1.0, 5134: 1.0, 5137: 2.0, 5138: 1.0, 5141: 1.0, 5144: 3.0, 5145: 1.0, 5146: 1.0, 5147: 8.0, 5148: 1.0, 5151: 1.0, 5152: 3.0, 5153: 3.0, 5155: 1.0, 5157: 6.0, 5160: 2.0, 5163: 1.0, 5165: 1.0, 5166: 1.0, 5171: 2.0, 5172: 3.0, 5173: 1.0, 5174: 1.0, 5175: 2.0, 5176: 3.0, 5180: 5.0, 5182: 1.0, 5183: 1.0, 5184: 12.0, 5190: 3.0, 5191: 4.0, 5193: 5.0, 5195: 1.0, 5196: 1.0, 5198: 9.0, 5199: 1.0, 5205: 3.0, 5207: 3.0, 5208: 1.0, 5211: 2.0, 5214: 31.0, 5219: 1.0, 5220: 10.0, 5225: 1.0, 5226: 1.0, 5232: 7.0, 5233: 2.0, 5234: 1.0, 5235: 1.0, 5236: 1.0, 5237: 1.0, 5238: 1.0, 5239: 8.0, 5240: 1.0, 5241: 3.0, 5243: 9.0, 5246: 5.0, 5248: 1.0, 5249: 6.0, 5251: 2.0, 5252: 3.0, 5253: 3.0, 5254: 4.0, 5257: 1.0, 5258: 3.0, 5260: 6.0, 5262: 1.0, 5263: 2.0, 5265: 1.0, 5267: 2.0, 5269: 1.0, 5275: 1.0, 5276: 1.0, 5279: 1.0, 5282: 13.0, 5284: 4.0, 5285: 4.0, 5286: 1.0, 5287: 2.0, 5288: 2.0, 5290: 5.0, 5292: 1.0, 5293: 2.0, 5294: 1.0, 5296: 1.0, 5297: 1.0, 5299: 5.0, 5301: 1.0, 5302: 1.0, 5303: 6.0, 5304: 1.0, 5305: 1.0, 5306: 5.0, 5309: 1.0, 5310: 4.0, 5311: 1.0, 5312: 2.0, 5314: 6.0, 5316: 2.0, 5317: 2.0, 5318: 2.0, 5319: 1.0, 5320: 1.0, 5321: 3.0, 5322: 11.0, 5323: 5.0, 5324: 2.0, 5325: 2.0, 5327: 11.0, 5328: 1.0, 5329: 2.0, 5333: 4.0, 5335: 1.0, 5337: 4.0, 5338: 5.0, 5339: 1.0, 5342: 3.0, 5349: 1.0, 5350: 2.0, 5351: 1.0, 5352: 1.0, 5356: 3.0, 5357: 1.0, 5363: 1.0, 5365: 1.0, 5367: 1.0, 5369: 9.0, 5371: 12.0, 5373: 1.0, 5374: 2.0, 5375: 10.0, 5376: 3.0, 5377: 1.0, 5378: 1.0, 5380: 32.0, 5385: 1.0, 5386: 1.0, 5388: 2.0, 5389: 2.0, 5391: 1.0, 5392: 5.0, 5393: 6.0, 5398: 1.0, 5400: 4.0, 5402: 1.0, 5405: 8.0, 5406: 1.0, 5408: 2.0, 5412: 5.0, 5414: 1.0, 5418: 1.0, 5420: 2.0, 5426: 4.0, 5428: 9.0, 5433: 5.0, 5434: 7.0, 5435: 2.0, 5437: 2.0, 5439: 6.0, 5440: 6.0, 5442: 1.0, 5443: 1.0, 5444: 1.0, 5446: 2.0, 5447: 2.0, 5451: 3.0, 5452: 1.0, 5453: 2.0, 5457: 1.0, 5460: 5.0, 5461: 2.0, 5463: 1.0, 5465: 1.0, 5467: 1.0, 5471: 1.0, 5473: 1.0, 5475: 1.0, 5477: 1.0, 5479: 1.0, 5482: 2.0, 5484: 8.0, 5485: 1.0, 5486: 2.0, 5487: 2.0, 5488: 2.0, 5491: 6.0, 5495: 1.0, 5496: 2.0, 5499: 2.0, 5501: 4.0, 5503: 1.0, 5507: 4.0, 5509: 1.0, 5511: 7.0, 5513: 2.0, 5515: 1.0, 5521: 3.0, 5522: 3.0, 5527: 2.0, 5529: 1.0, 5530: 2.0, 5534: 7.0, 5537: 17.0, 5545: 1.0, 5546: 3.0, 5548: 1.0, 5549: 1.0, 5551: 1.0, 5552: 1.0, 5553: 2.0, 5556: 4.0, 5558: 1.0, 5560: 1.0, 5561: 2.0, 5563: 33.0, 5568: 1.0, 5571: 2.0, 5573: 1.0, 5576: 1.0, 5578: 1.0, 5581: 1.0, 5587: 4.0, 5589: 11.0, 5590: 1.0, 5592: 6.0, 5593: 1.0, 5595: 4.0, 5596: 7.0, 5597: 5.0, 5601: 3.0, 5602: 2.0, 5604: 1.0, 5605: 6.0, 5612: 4.0, 5613: 6.0, 5617: 1.0, 5618: 1.0, 5619: 1.0, 5620: 3.0, 5623: 2.0, 5624: 1.0, 5625: 2.0, 5630: 2.0, 5631: 2.0, 5636: 5.0, 5640: 2.0, 5642: 1.0, 5644: 2.0, 5647: 3.0, 5648: 1.0, 5650: 1.0, 5652: 2.0, 5655: 1.0, 5657: 2.0, 5662: 2.0, 5672: 7.0, 5675: 1.0, 5676: 1.0, 5683: 15.0, 5684: 1.0, 5685: 1.0, 5686: 2.0, 5687: 2.0, 5693: 1.0, 5695: 1.0, 5697: 2.0, 5698: 5.0, 5700: 4.0, 5704: 1.0, 5707: 2.0, 5708: 1.0, 5710: 1.0, 5713: 2.0, 5715: 1.0, 5717: 1.0, 5720: 1.0, 5721: 7.0, 5724: 3.0, 5725: 1.0, 5728: 1.0, 5731: 6.0, 5733: 2.0, 5736: 1.0, 5741: 3.0, 5746: 2.0, 5748: 2.0, 5754: 1.0, 5756: 5.0, 5759: 11.0, 5764: 1.0, 5765: 1.0, 5767: 8.0, 5768: 1.0, 5771: 3.0, 5772: 2.0, 5775: 4.0, 5777: 3.0, 5779: 1.0, 5781: 1.0, 5783: 1.0, 5784: 1.0, 5785: 4.0, 5787: 1.0, 5788: 1.0, 5789: 1.0, 5792: 1.0, 5793: 4.0, 5795: 1.0, 5798: 2.0, 5799: 2.0, 5802: 4.0, 5803: 4.0, 5804: 1.0, 5807: 4.0, 5808: 2.0, 5810: 1.0, 5811: 1.0, 5813: 4.0, 5814: 1.0, 5816: 2.0, 5817: 1.0, 5819: 1.0, 5823: 1.0, 5825: 1.0, 5828: 3.0, 5832: 5.0, 5833: 2.0, 5834: 1.0, 5835: 3.0, 5836: 1.0, 5839: 8.0, 5844: 1.0, 5847: 5.0, 5849: 1.0, 5850: 11.0, 5851: 1.0, 5852: 1.0, 5855: 5.0, 5856: 3.0, 5858: 1.0, 5860: 2.0, 5861: 1.0, 5864: 3.0, 5866: 2.0, 5867: 7.0, 5869: 37.0, 5877: 5.0, 5878: 2.0, 5880: 1.0, 5881: 5.0, 5885: 37.0, 5888: 2.0, 5889: 1.0, 5890: 1.0, 5891: 1.0, 5892: 1.0, 5895: 1.0, 5896: 2.0, 5898: 1.0, 5901: 1.0, 5902: 2.0, 5903: 2.0, 5905: 2.0, 5911: 12.0, 5912: 1.0, 5913: 1.0, 5914: 1.0, 5916: 2.0, 5917: 1.0, 5918: 4.0, 5920: 1.0, 5926: 1.0, 5927: 5.0, 5929: 1.0, 5933: 6.0, 5934: 1.0, 5935: 1.0, 5936: 1.0, 5937: 2.0, 5939: 1.0, 5943: 10.0, 5944: 1.0, 5946: 5.0, 5947: 24.0, 5950: 1.0, 5953: 1.0, 5959: 1.0, 5960: 3.0, 5962: 2.0, 5964: 1.0, 5967: 1.0, 5968: 1.0, 5972: 5.0, 5974: 5.0, 5978: 2.0, 5979: 4.0, 5984: 1.0, 5985: 1.0, 5987: 2.0, 5988: 3.0, 5990: 14.0, 5994: 5.0, 5995: 1.0, 5997: 3.0, 5998: 3.0, 5999: 1.0, 6000: 2.0, 6003: 15.0, 6005: 1.0, 6009: 51.0, 6014: 1.0, 6015: 1.0, 6018: 1.0, 6019: 7.0, 6021: 1.0, 6023: 1.0, 6024: 1.0, 6025: 7.0, 6026: 2.0, 6029: 1.0, 6033: 4.0, 6035: 1.0, 6036: 5.0, 6039: 2.0, 6041: 3.0, 6047: 1.0, 6048: 2.0, 6050: 1.0, 6051: 1.0, 6052: 3.0, 6053: 1.0, 6054: 3.0, 6057: 1.0, 6058: 1.0, 6059: 4.0, 6061: 9.0, 6062: 2.0, 6068: 3.0, 6069: 1.0, 6072: 1.0, 6073: 2.0, 6074: 4.0, 6075: 1.0, 6076: 1.0, 6079: 3.0, 6085: 1.0, 6087: 1.0, 6091: 1.0, 6093: 4.0, 6098: 7.0, 6099: 1.0, 6102: 1.0, 6104: 1.0, 6107: 2.0, 6109: 7.0, 6110: 1.0, 6111: 2.0, 6112: 2.0, 6117: 3.0, 6119: 2.0, 6120: 2.0, 6121: 1.0, 6122: 1.0, 6123: 2.0, 6128: 4.0, 6129: 3.0, 6133: 1.0, 6135: 6.0, 6136: 1.0, 6137: 3.0, 6140: 1.0, 6141: 1.0, 6144: 1.0, 6145: 1.0, 6147: 1.0, 6155: 1.0, 6156: 1.0, 6158: 12.0, 6159: 1.0, 6161: 1.0, 6163: 1.0, 6164: 1.0, 6170: 2.0, 6177: 5.0, 6178: 1.0, 6180: 4.0, 6182: 4.0, 6185: 7.0, 6188: 1.0, 6191: 3.0, 6195: 4.0, 6196: 1.0, 6203: 1.0, 6204: 1.0, 6211: 4.0, 6213: 2.0, 6217: 1.0, 6220: 5.0, 6221: 1.0, 6224: 5.0, 6225: 14.0, 6228: 2.0, 6232: 3.0, 6239: 1.0, 6246: 2.0, 6253: 1.0, 6254: 1.0, 6256: 1.0, 6258: 4.0, 6263: 4.0, 6265: 1.0, 6266: 1.0, 6268: 2.0, 6271: 3.0, 6272: 1.0, 6273: 12.0, 6275: 3.0, 6278: 1.0, 6280: 3.0, 6285: 1.0, 6287: 4.0, 6289: 17.0, 6292: 5.0, 6293: 3.0, 6294: 3.0, 6296: 4.0, 6300: 1.0, 6308: 6.0, 6311: 1.0, 6315: 7.0, 6318: 8.0, 6319: 4.0, 6324: 2.0, 6328: 2.0, 6329: 1.0, 6331: 1.0, 6333: 1.0, 6335: 1.0, 6339: 2.0, 6341: 1.0, 6342: 5.0, 6346: 2.0, 6349: 1.0, 6361: 2.0, 6364: 1.0, 6366: 2.0, 6367: 1.0, 6371: 1.0, 6372: 1.0, 6373: 6.0, 6376: 24.0, 6378: 2.0, 6384: 2.0, 6385: 1.0, 6386: 1.0, 6387: 1.0, 6395: 3.0, 6398: 1.0, 6399: 5.0, 6401: 2.0, 6410: 1.0, 6412: 1.0, 6413: 5.0, 6414: 12.0, 6418: 5.0, 6419: 1.0, 6420: 2.0, 6421: 5.0, 6424: 1.0, 6425: 1.0, 6429: 1.0, 6430: 1.0, 6431: 2.0, 6432: 5.0, 6433: 1.0, 6439: 1.0, 6440: 5.0, 6441: 1.0, 6442: 1.0, 6449: 3.0, 6453: 1.0, 6456: 1.0, 6457: 3.0, 6459: 1.0, 6460: 8.0, 6461: 2.0, 6462: 1.0, 6463: 1.0, 6469: 2.0, 6472: 7.0, 6473: 1.0, 6474: 2.0, 6475: 4.0, 6476: 7.0, 6477: 1.0, 6482: 1.0, 6484: 2.0, 6485: 1.0, 6486: 2.0, 6488: 3.0, 6489: 2.0, 6491: 3.0, 6492: 3.0, 6494: 1.0, 6495: 4.0, 6497: 4.0, 6499: 2.0, 6502: 1.0, 6503: 3.0, 6504: 3.0, 6505: 1.0, 6507: 1.0, 6510: 3.0, 6514: 3.0, 6515: 2.0, 6516: 1.0, 6517: 1.0, 6518: 10.0, 6520: 2.0, 6524: 1.0, 6525: 3.0, 6540: 1.0, 6541: 6.0, 6543: 5.0, 6546: 2.0, 6547: 1.0, 6549: 1.0, 6550: 1.0, 6552: 5.0, 6553: 4.0, 6554: 1.0, 6556: 1.0, 6557: 5.0, 6569: 1.0, 6570: 1.0, 6571: 1.0, 6577: 2.0, 6581: 2.0, 6585: 5.0, 6586: 1.0, 6587: 4.0, 6590: 1.0, 6592: 8.0, 6601: 1.0, 6605: 1.0, 6610: 4.0, 6611: 6.0, 6615: 1.0, 6619: 3.0, 6620: 2.0, 6621: 3.0, 6622: 4.0, 6624: 7.0, 6625: 3.0, 6628: 6.0, 6632: 2.0, 6633: 1.0, 6634: 2.0, 6635: 3.0, 6636: 2.0, 6637: 1.0, 6649: 2.0, 6650: 7.0, 6652: 22.0, 6653: 1.0, 6658: 2.0, 6663: 2.0, 6669: 2.0, 6672: 1.0, 6674: 2.0, 6680: 8.0, 6681: 4.0, 6683: 12.0, 6686: 1.0, 6688: 1.0, 6690: 11.0, 6692: 2.0, 6696: 2.0, 6701: 2.0, 6702: 1.0, 6705: 1.0, 6708: 1.0, 6710: 2.0, 6711: 3.0, 6713: 1.0, 6714: 3.0, 6717: 2.0, 6726: 1.0, 6729: 2.0, 6730: 2.0, 6734: 1.0, 6735: 2.0, 6736: 2.0, 6738: 2.0, 6741: 1.0, 6742: 2.0, 6743: 1.0, 6744: 6.0, 6746: 1.0, 6747: 2.0, 6748: 2.0, 6751: 1.0, 6759: 1.0, 6760: 1.0, 6764: 1.0, 6768: 1.0, 6769: 2.0, 6770: 5.0, 6771: 2.0, 6772: 2.0, 6773: 3.0, 6775: 1.0, 6779: 2.0, 6783: 1.0, 6785: 1.0, 6786: 20.0, 6788: 1.0, 6795: 1.0, 6799: 8.0, 6802: 1.0, 6803: 1.0, 6806: 3.0, 6810: 2.0, 6812: 1.0, 6816: 1.0, 6818: 3.0, 6827: 1.0, 6832: 1.0, 6834: 2.0, 6835: 1.0, 6837: 1.0, 6838: 11.0, 6839: 4.0, 6840: 1.0, 6841: 1.0, 6843: 1.0, 6848: 1.0, 6849: 3.0, 6851: 2.0, 6859: 9.0, 6860: 1.0, 6862: 1.0, 6863: 2.0, 6865: 1.0, 6872: 4.0, 6875: 1.0, 6878: 1.0, 6882: 6.0, 6884: 10.0, 6887: 1.0, 6889: 1.0, 6890: 6.0, 6891: 1.0, 6892: 1.0, 6895: 4.0, 6902: 1.0, 6909: 2.0, 6910: 1.0, 6913: 3.0, 6915: 3.0, 6920: 13.0, 6921: 1.0, 6926: 4.0, 6928: 4.0, 6933: 1.0, 6934: 1.0, 6935: 1.0, 6937: 11.0, 6939: 3.0, 6940: 3.0, 6941: 1.0, 6944: 2.0, 6949: 1.0, 6952: 5.0, 6957: 2.0, 6960: 1.0, 6961: 1.0, 6964: 1.0, 6969: 1.0, 6973: 4.0, 6974: 1.0, 6976: 1.0, 6978: 2.0, 6981: 2.0, 6982: 1.0, 6983: 1.0, 6986: 2.0, 6989: 9.0, 6991: 6.0, 6997: 2.0, 7014: 3.0, 7019: 1.0, 7022: 1.0, 7034: 4.0, 7036: 3.0, 7037: 4.0, 7045: 1.0, 7050: 9.0, 7056: 2.0, 7058: 1.0, 7065: 1.0, 7068: 2.0, 7069: 1.0, 7073: 6.0, 7076: 1.0, 7080: 4.0, 7084: 2.0, 7086: 1.0, 7090: 2.0, 7091: 1.0, 7094: 7.0, 7098: 1.0, 7102: 3.0, 7103: 1.0, 7104: 1.0, 7107: 1.0, 7109: 4.0, 7110: 1.0, 7112: 2.0, 7114: 1.0, 7118: 1.0, 7124: 1.0, 7127: 2.0, 7130: 2.0, 7132: 3.0, 7135: 2.0, 7138: 1.0, 7141: 1.0, 7144: 4.0, 7145: 5.0, 7146: 1.0, 7147: 1.0, 7149: 2.0, 7150: 2.0, 7152: 3.0, 7153: 4.0, 7154: 3.0, 7155: 2.0, 7156: 1.0, 7159: 2.0, 7161: 6.0, 7163: 9.0, 7164: 1.0, 7173: 2.0, 7175: 3.0, 7176: 3.0, 7179: 1.0, 7182: 1.0, 7194: 1.0, 7197: 2.0, 7204: 1.0, 7210: 4.0, 7212: 1.0, 7213: 4.0, 7216: 7.0, 7220: 2.0, 7221: 1.0, 7222: 1.0, 7223: 1.0, 7226: 1.0, 7228: 1.0, 7230: 2.0, 7236: 1.0, 7237: 1.0, 7238: 4.0, 7239: 2.0, 7245: 3.0, 7247: 2.0, 7251: 1.0, 7259: 1.0, 7261: 1.0, 7266: 2.0, 7269: 3.0, 7275: 1.0, 7282: 6.0, 7284: 2.0, 7286: 2.0, 7289: 2.0, 7290: 2.0, 7292: 1.0, 7294: 2.0, 7301: 2.0, 7304: 3.0, 7306: 1.0, 7308: 2.0, 7310: 3.0, 7311: 2.0, 7314: 4.0, 7315: 1.0, 7319: 9.0, 7321: 1.0, 7323: 3.0, 7326: 1.0, 7330: 1.0, 7333: 1.0, 7334: 4.0, 7337: 1.0, 7340: 1.0, 7346: 1.0, 7352: 3.0, 7355: 1.0, 7356: 2.0, 7361: 1.0, 7364: 20.0, 7365: 1.0, 7367: 3.0, 7369: 3.0, 7376: 1.0, 7378: 1.0, 7383: 3.0, 7384: 1.0, 7385: 2.0, 7388: 1.0, 7389: 1.0, 7391: 4.0, 7393: 2.0, 7394: 2.0, 7395: 1.0, 7397: 1.0, 7398: 6.0, 7400: 2.0, 7402: 1.0, 7406: 1.0, 7407: 2.0, 7408: 1.0, 7410: 1.0, 7411: 2.0, 7415: 1.0, 7416: 1.0, 7417: 5.0, 7418: 3.0, 7420: 2.0, 7421: 1.0, 7422: 1.0, 7424: 5.0, 7425: 8.0, 7430: 1.0, 7435: 3.0, 7438: 1.0, 7439: 3.0, 7444: 1.0, 7446: 1.0, 7447: 2.0, 7449: 1.0, 7450: 1.0, 7451: 1.0, 7452: 4.0, 7455: 1.0, 7458: 1.0, 7464: 4.0, 7466: 2.0, 7468: 1.0, 7469: 3.0, 7472: 1.0, 7473: 3.0, 7474: 1.0, 7475: 1.0, 7476: 1.0, 7479: 2.0, 7483: 1.0, 7491: 1.0, 7493: 2.0, 7496: 4.0, 7503: 4.0, 7507: 2.0, 7508: 4.0, 7515: 1.0, 7519: 1.0, 7520: 2.0, 7524: 1.0, 7525: 2.0, 7533: 9.0, 7535: 1.0, 7537: 4.0, 7538: 1.0, 7541: 4.0, 7542: 4.0, 7543: 8.0, 7546: 1.0, 7550: 2.0, 7554: 1.0, 7556: 1.0, 7557: 2.0, 7559: 1.0, 7561: 1.0, 7564: 2.0, 7567: 1.0, 7571: 1.0, 7572: 2.0, 7575: 1.0, 7578: 1.0, 7583: 1.0, 7588: 2.0, 7590: 1.0, 7595: 1.0, 7597: 1.0, 7602: 1.0, 7605: 1.0, 7611: 1.0, 7612: 3.0, 7616: 1.0, 7619: 1.0, 7620: 2.0, 7626: 1.0, 7630: 5.0, 7634: 1.0, 7638: 6.0, 7639: 2.0, 7640: 4.0, 7644: 4.0, 7647: 4.0, 7648: 3.0, 7649: 1.0, 7655: 2.0, 7659: 2.0, 7661: 4.0, 7662: 1.0, 7665: 3.0, 7668: 1.0, 7671: 1.0, 7674: 3.0, 7676: 1.0, 7678: 2.0, 7684: 1.0, 7687: 2.0, 7688: 2.0, 7697: 7.0, 7699: 2.0, 7702: 1.0, 7703: 3.0, 7705: 1.0, 7706: 12.0, 7707: 1.0, 7710: 1.0, 7720: 1.0, 7721: 1.0, 7722: 1.0, 7723: 1.0, 7724: 3.0, 7729: 1.0, 7733: 5.0, 7735: 1.0, 7743: 1.0, 7745: 2.0, 7747: 1.0, 7750: 1.0, 7755: 1.0, 7756: 1.0, 7760: 4.0, 7762: 1.0, 7765: 1.0, 7766: 3.0, 7774: 1.0, 7781: 1.0, 7782: 3.0, 7784: 1.0, 7785: 3.0, 7787: 1.0, 7789: 1.0, 7790: 1.0, 7800: 2.0, 7801: 7.0, 7803: 5.0, 7809: 5.0, 7810: 6.0, 7813: 7.0, 7814: 1.0, 7816: 4.0, 7817: 1.0, 7824: 1.0, 7825: 2.0, 7827: 3.0, 7833: 1.0, 7834: 8.0, 7835: 3.0, 7836: 1.0, 7840: 2.0, 7845: 3.0, 7847: 1.0, 7853: 1.0, 7854: 2.0, 7857: 2.0, 7858: 5.0, 7861: 2.0, 7868: 1.0, 7870: 3.0, 7871: 1.0, 7879: 2.0, 7880: 1.0, 7881: 1.0, 7882: 1.0, 7885: 5.0, 7887: 2.0, 7889: 4.0, 7890: 1.0, 7894: 1.0, 7895: 3.0, 7898: 2.0, 7900: 2.0, 7901: 1.0, 7902: 1.0, 7904: 1.0, 7906: 5.0, 7907: 1.0, 7908: 1.0, 7909: 2.0, 7910: 2.0, 7912: 2.0, 7913: 1.0, 7915: 2.0, 7921: 2.0, 7923: 1.0, 7928: 1.0, 7935: 1.0, 7936: 1.0, 7937: 5.0, 7938: 33.0, 7939: 3.0, 7942: 1.0, 7945: 4.0, 7946: 2.0, 7947: 1.0, 7949: 3.0, 7951: 4.0, 7953: 4.0, 7954: 1.0, 7955: 6.0, 7957: 2.0, 7961: 3.0, 7963: 2.0, 7964: 1.0, 7966: 7.0, 7969: 1.0, 7971: 1.0, 7972: 6.0, 7973: 1.0, 7974: 1.0, 7978: 1.0, 7980: 1.0, 7983: 2.0, 7987: 4.0, 7992: 13.0, 7994: 1.0, 7995: 1.0, 7997: 2.0, 7998: 1.0, 8003: 1.0, 8004: 2.0, 8008: 5.0, 8010: 1.0, 8017: 2.0, 8018: 3.0, 8025: 1.0, 8026: 6.0, 8034: 1.0, 8036: 1.0, 8037: 1.0, 8041: 3.0, 8045: 4.0, 8052: 1.0, 8053: 1.0, 8055: 2.0, 8064: 25.0, 8065: 1.0, 8067: 2.0, 8068: 1.0, 8072: 2.0, 8076: 1.0, 8079: 1.0, 8082: 2.0, 8083: 1.0, 8084: 1.0, 8087: 2.0, 8088: 1.0, 8089: 4.0, 8093: 2.0, 8102: 1.0, 8109: 2.0, 8113: 2.0, 8114: 1.0, 8117: 3.0, 8120: 3.0, 8122: 1.0, 8125: 1.0, 8133: 3.0, 8134: 1.0, 8135: 5.0, 8139: 3.0, 8141: 3.0, 8146: 1.0, 8147: 1.0, 8148: 3.0, 8149: 2.0, 8152: 1.0, 8153: 1.0, 8155: 3.0, 8166: 4.0, 8167: 3.0, 8171: 1.0, 8173: 2.0, 8174: 1.0, 8180: 1.0, 8182: 1.0, 8189: 4.0, 8190: 2.0, 8192: 1.0, 8204: 1.0, 8205: 11.0, 8206: 1.0, 8207: 1.0, 8220: 1.0, 8221: 1.0, 8222: 1.0, 8226: 3.0, 8229: 2.0, 8230: 1.0, 8232: 5.0, 8236: 3.0, 8242: 1.0, 8248: 2.0, 8253: 4.0, 8256: 3.0, 8258: 3.0, 8266: 1.0, 8267: 3.0, 8268: 1.0, 8271: 2.0, 8272: 5.0, 8273: 1.0, 8276: 2.0, 8278: 1.0, 8281: 2.0, 8283: 1.0, 8285: 1.0, 8288: 1.0, 8289: 2.0, 8292: 4.0, 8293: 1.0, 8296: 1.0, 8297: 27.0, 8301: 1.0, 8304: 1.0, 8305: 2.0, 8308: 2.0, 8309: 1.0, 8311: 1.0, 8312: 5.0, 8318: 1.0, 8319: 3.0, 8320: 2.0, 8321: 21.0, 8323: 1.0, 8324: 4.0, 8325: 1.0, 8326: 4.0, 8328: 1.0, 8329: 1.0, 8337: 1.0, 8341: 2.0, 8342: 2.0, 8349: 1.0, 8352: 2.0, 8360: 1.0, 8363: 1.0, 8369: 1.0, 8370: 1.0, 8371: 1.0, 8373: 1.0, 8376: 1.0, 8379: 5.0, 8383: 1.0, 8391: 20.0, 8394: 3.0, 8395: 1.0, 8396: 1.0, 8402: 1.0, 8403: 3.0, 8410: 2.0, 8412: 1.0, 8415: 1.0, 8424: 1.0, 8427: 1.0, 8433: 1.0, 8434: 3.0, 8436: 1.0, 8437: 1.0, 8440: 1.0, 8441: 2.0, 8444: 6.0, 8445: 8.0, 8447: 2.0, 8449: 1.0, 8450: 1.0, 8452: 1.0, 8460: 1.0, 8464: 1.0, 8465: 1.0, 8468: 1.0, 8471: 3.0, 8475: 1.0, 8476: 1.0, 8482: 3.0, 8484: 1.0, 8490: 1.0, 8491: 1.0, 8496: 4.0, 8499: 4.0, 8502: 2.0, 8503: 1.0, 8506: 3.0, 8507: 27.0, 8509: 1.0, 8510: 3.0, 8513: 6.0, 8516: 1.0, 8518: 5.0, 8520: 3.0, 8521: 5.0, 8525: 2.0, 8526: 1.0, 8529: 1.0, 8537: 1.0, 8538: 1.0, 8541: 3.0, 8543: 1.0, 8544: 1.0, 8546: 1.0, 8549: 2.0, 8553: 1.0, 8557: 1.0, 8558: 1.0, 8559: 2.0, 8560: 1.0, 8561: 5.0, 8566: 1.0, 8570: 4.0, 8573: 1.0, 8576: 1.0, 8581: 2.0, 8585: 1.0, 8586: 2.0, 8592: 1.0, 8595: 1.0, 8600: 2.0, 8603: 1.0, 8604: 1.0, 8606: 1.0, 8609: 6.0, 8611: 1.0, 8619: 1.0, 8620: 1.0, 8624: 4.0, 8631: 1.0, 8632: 2.0, 8638: 1.0, 8639: 2.0, 8640: 4.0, 8646: 1.0, 8647: 3.0, 8649: 5.0, 8652: 1.0, 8653: 1.0, 8660: 1.0, 8661: 2.0, 8672: 1.0, 8675: 2.0, 8676: 2.0, 8677: 1.0, 8690: 1.0, 8693: 1.0, 8695: 1.0, 8698: 1.0, 8699: 6.0, 8700: 1.0, 8703: 1.0, 8705: 1.0, 8709: 7.0, 8710: 1.0, 8711: 3.0, 8717: 1.0, 8724: 1.0, 8726: 13.0, 8731: 2.0, 8734: 1.0, 8745: 1.0, 8746: 2.0, 8748: 3.0, 8750: 1.0, 8753: 2.0, 8756: 2.0, 8761: 1.0, 8762: 1.0, 8767: 4.0, 8768: 1.0, 8770: 3.0, 8771: 5.0, 8774: 16.0, 8776: 1.0, 8789: 1.0, 8791: 2.0, 8793: 1.0, 8794: 4.0, 8795: 3.0, 8807: 2.0, 8808: 1.0, 8810: 1.0, 8817: 10.0, 8820: 5.0, 8821: 3.0, 8826: 1.0, 8831: 19.0, 8832: 1.0, 8833: 3.0, 8835: 1.0, 8841: 2.0, 8843: 10.0, 8844: 1.0, 8846: 1.0, 8848: 1.0, 8852: 2.0, 8853: 1.0, 8854: 1.0, 8855: 2.0, 8859: 2.0, 8864: 1.0, 8868: 1.0, 8873: 2.0, 8876: 3.0, 8878: 1.0, 8879: 2.0, 8881: 3.0, 8884: 1.0, 8885: 2.0, 8887: 2.0, 8891: 1.0, 8892: 3.0, 8893: 1.0, 8896: 2.0, 8900: 2.0, 8905: 1.0, 8908: 2.0, 8912: 5.0, 8916: 4.0, 8923: 1.0, 8924: 2.0, 8928: 1.0, 8932: 4.0, 8934: 7.0, 8936: 2.0, 8937: 18.0, 8941: 1.0, 8943: 6.0, 8945: 4.0, 8946: 1.0, 8948: 1.0, 8953: 2.0, 8954: 1.0, 8956: 1.0, 8957: 3.0, 8961: 2.0, 8966: 2.0, 8972: 2.0, 8978: 1.0, 8980: 2.0, 8982: 5.0, 8983: 1.0, 8996: 1.0, 9007: 1.0, 9009: 7.0, 9015: 1.0, 9017: 1.0, 9021: 2.0, 9022: 1.0, 9027: 1.0, 9029: 1.0, 9031: 2.0, 9035: 1.0, 9036: 2.0, 9037: 1.0, 9038: 1.0, 9042: 2.0, 9043: 1.0, 9046: 1.0, 9048: 2.0, 9051: 1.0, 9054: 7.0, 9062: 1.0, 9063: 7.0, 9065: 2.0, 9069: 1.0, 9071: 1.0, 9078: 1.0, 9079: 1.0, 9087: 1.0, 9089: 1.0, 9090: 1.0, 9093: 1.0, 9097: 1.0, 9098: 3.0, 9099: 2.0, 9104: 1.0, 9106: 1.0, 9108: 1.0, 9111: 1.0, 9112: 2.0, 9113: 1.0, 9114: 5.0, 9118: 1.0, 9138: 1.0, 9140: 15.0, 9148: 1.0, 9149: 1.0, 9152: 2.0, 9155: 5.0, 9157: 3.0, 9158: 1.0, 9159: 1.0, 9163: 2.0, 9170: 1.0, 9177: 4.0, 9181: 1.0, 9182: 37.0, 9184: 2.0, 9191: 1.0, 9193: 1.0, 9194: 12.0, 9195: 3.0, 9203: 2.0, 9206: 2.0, 9212: 1.0, 9213: 1.0, 9215: 5.0, 9216: 3.0, 9217: 1.0, 9219: 1.0, 9234: 1.0, 9238: 2.0, 9240: 3.0, 9243: 1.0, 9255: 2.0, 9256: 1.0, 9259: 3.0, 9263: 1.0, 9267: 1.0, 9272: 4.0, 9278: 1.0, 9286: 2.0, 9288: 1.0, 9299: 1.0, 9302: 1.0, 9305: 2.0, 9308: 1.0, 9311: 3.0, 9314: 5.0, 9319: 1.0, 9323: 1.0, 9327: 1.0, 9330: 1.0, 9332: 3.0, 9350: 1.0, 9354: 6.0, 9356: 2.0, 9360: 2.0, 9363: 1.0, 9365: 1.0, 9366: 3.0, 9367: 1.0, 9374: 3.0, 9376: 1.0, 9378: 1.0, 9383: 1.0, 9385: 3.0, 9392: 1.0, 9393: 1.0, 9394: 1.0, 9402: 4.0, 9407: 1.0, 9408: 3.0, 9410: 3.0, 9413: 3.0, 9421: 1.0, 9425: 1.0, 9430: 1.0, 9432: 2.0, 9435: 1.0, 9439: 2.0, 9443: 1.0, 9445: 1.0, 9447: 1.0, 9450: 3.0, 9457: 1.0, 9458: 1.0, 9463: 1.0, 9465: 5.0, 9472: 3.0, 9475: 5.0, 9484: 1.0, 9486: 3.0, 9488: 1.0, 9490: 3.0, 9492: 1.0, 9493: 1.0, 9495: 1.0, 9497: 2.0, 9498: 1.0, 9499: 1.0, 9501: 2.0, 9504: 1.0, 9509: 7.0, 9515: 1.0, 9527: 1.0, 9528: 4.0, 9546: 1.0, 9550: 1.0, 9553: 2.0, 9564: 1.0, 9574: 1.0, 9575: 1.0, 9582: 3.0, 9587: 1.0, 9589: 2.0, 9591: 2.0, 9592: 1.0, 9596: 4.0, 9602: 7.0, 9604: 2.0, 9612: 1.0, 9613: 1.0, 9620: 2.0, 9621: 1.0, 9627: 5.0, 9628: 2.0, 9630: 2.0, 9634: 1.0, 9635: 2.0, 9639: 1.0, 9645: 2.0, 9646: 3.0, 9654: 2.0, 9665: 1.0, 9677: 1.0, 9682: 1.0, 9685: 3.0, 9688: 1.0, 9692: 4.0, 9694: 3.0, 9698: 1.0, 9709: 1.0, 9710: 3.0, 9711: 2.0, 9712: 4.0, 9714: 3.0, 9715: 1.0, 9717: 1.0, 9725: 1.0, 9734: 1.0, 9739: 6.0, 9741: 2.0, 9745: 3.0, 9746: 1.0, 9747: 15.0, 9748: 1.0, 9749: 1.0, 9752: 2.0, 9753: 2.0, 9761: 1.0, 9765: 1.0, 9768: 1.0, 9779: 1.0, 9783: 1.0, 9784: 3.0, 9786: 3.0, 9788: 1.0, 9789: 1.0, 9790: 2.0, 9791: 1.0, 9796: 8.0, 9798: 2.0, 9801: 1.0, 9811: 2.0, 9825: 3.0, 9826: 3.0, 9833: 2.0, 9836: 1.0, 9838: 1.0, 9852: 1.0, 9857: 1.0, 9859: 1.0, 9864: 1.0, 9869: 2.0, 9875: 2.0, 9876: 2.0, 9877: 2.0, 9878: 1.0, 9884: 3.0, 9889: 2.0, 9890: 1.0, 9894: 1.0, 9895: 1.0, 9906: 1.0, 9908: 1.0, 9911: 5.0, 9913: 2.0, 9919: 1.0, 9933: 2.0, 9935: 1.0, 9940: 2.0, 9943: 1.0, 9944: 4.0, 9952: 1.0, 9958: 2.0, 9961: 12.0, 9962: 3.0, 9965: 3.0, 9967: 1.0, 9968: 2.0, 9972: 7.0, 9973: 3.0, 9975: 2.0, 9977: 1.0, 9985: 1.0, 9986: 3.0, 9988: 1.0, 9990: 2.0, 9996: 1.0, 9997: 1.0, 10010: 3.0, 10013: 2.0, 10015: 1.0, 10017: 1.0, 10021: 2.0, 10023: 1.0, 10024: 1.0, 10026: 2.0, 10033: 1.0, 10041: 1.0, 10048: 3.0, 10049: 2.0, 10054: 2.0, 10056: 1.0, 10057: 2.0, 10058: 1.0, 10067: 1.0, 10070: 1.0, 10074: 3.0, 10078: 14.0, 10087: 2.0, 10095: 1.0, 10097: 1.0, 10102: 2.0, 10103: 3.0, 10104: 1.0, 10107: 7.0, 10109: 2.0, 10120: 5.0, 10121: 1.0, 10123: 2.0, 10124: 1.0, 10131: 1.0, 10132: 4.0, 10135: 11.0, 10136: 1.0, 10141: 2.0, 10142: 1.0, 10143: 1.0, 10150: 2.0, 10153: 2.0, 10155: 2.0, 10158: 1.0, 10161: 11.0, 10167: 1.0, 10168: 1.0, 10170: 15.0, 10172: 1.0, 10173: 1.0, 10176: 1.0, 10178: 10.0, 10180: 4.0, 10199: 1.0, 10204: 2.0, 10205: 1.0, 10208: 2.0, 10209: 4.0, 10214: 12.0, 10218: 2.0, 10219: 2.0, 10221: 2.0, 10225: 3.0, 10227: 3.0, 10229: 1.0, 10230: 7.0, 10248: 1.0, 10249: 2.0, 10252: 2.0, 10254: 1.0, 10256: 1.0, 10258: 1.0, 10263: 1.0, 10267: 1.0, 10269: 1.0, 10271: 2.0, 10273: 2.0, 10274: 16.0, 10282: 1.0, 10286: 5.0, 10288: 4.0, 10289: 1.0, 10296: 4.0, 10299: 1.0, 10301: 8.0, 10302: 1.0, 10305: 1.0, 10306: 2.0, 10316: 2.0, 10317: 1.0, 10318: 2.0, 10319: 8.0, 10324: 1.0, 10325: 1.0, 10326: 1.0, 10329: 6.0, 10336: 6.0, 10337: 1.0, 10341: 1.0, 10344: 2.0, 10351: 1.0, 10354: 1.0, 10364: 1.0, 10365: 3.0, 10367: 4.0, 10369: 5.0, 10381: 1.0, 10383: 1.0, 10384: 1.0, 10386: 1.0, 10389: 1.0, 10390: 1.0, 10399: 2.0, 10407: 6.0, 10409: 2.0, 10411: 1.0, 10412: 1.0, 10418: 1.0, 10419: 1.0, 10426: 1.0, 10431: 17.0, 10434: 1.0, 10437: 2.0, 10451: 1.0, 10453: 1.0, 10454: 1.0, 10461: 1.0, 10463: 1.0, 10464: 1.0, 10469: 1.0, 10470: 1.0, 10479: 1.0, 10484: 2.0, 10487: 2.0, 10491: 2.0, 10493: 1.0, 10499: 1.0, 10502: 1.0, 10504: 1.0, 10505: 2.0, 10508: 3.0, 10510: 1.0, 10512: 1.0, 10515: 8.0, 10516: 1.0, 10522: 4.0, 10525: 1.0, 10527: 1.0, 10547: 79.0, 10553: 1.0, 10554: 12.0, 10580: 2.0, 10581: 1.0, 10585: 4.0, 10587: 1.0, 10589: 1.0, 10600: 1.0, 10602: 1.0, 10608: 1.0, 10609: 1.0, 10614: 20.0, 10618: 4.0, 10621: 2.0, 10626: 1.0, 10629: 1.0, 10630: 6.0, 10632: 2.0, 10635: 1.0, 10636: 1.0, 10640: 1.0, 10648: 2.0, 10654: 2.0, 10655: 1.0, 10660: 1.0, 10669: 1.0, 10671: 2.0, 10677: 1.0, 10681: 1.0, 10683: 8.0, 10684: 4.0, 10692: 2.0, 10698: 1.0, 10700: 1.0, 10704: 7.0, 10706: 1.0, 10714: 1.0, 10716: 1.0, 10719: 1.0, 10721: 1.0, 10726: 4.0, 10730: 1.0, 10735: 1.0, 10742: 3.0, 10746: 5.0, 10751: 2.0, 10753: 1.0, 10754: 2.0, 10759: 8.0, 10760: 1.0, 10761: 1.0, 10762: 1.0, 10765: 2.0, 10774: 1.0, 10777: 2.0, 10778: 3.0, 10779: 1.0, 10782: 1.0, 10783: 1.0, 10790: 11.0, 10794: 1.0, 10795: 1.0, 10797: 1.0, 10799: 8.0, 10802: 6.0, 10806: 1.0, 10807: 27.0, 10808: 1.0, 10814: 1.0, 10821: 1.0, 10822: 2.0, 10826: 1.0, 10827: 3.0, 10833: 4.0, 10837: 1.0, 10840: 1.0, 10841: 1.0, 10846: 1.0, 10850: 1.0, 10852: 1.0, 10853: 1.0, 10857: 1.0, 10861: 1.0, 10863: 1.0, 10875: 2.0, 10876: 1.0, 10877: 7.0, 10884: 6.0, 10886: 1.0, 10888: 1.0, 10890: 1.0, 10891: 1.0, 10897: 2.0, 10900: 1.0, 10910: 2.0, 10914: 6.0, 10920: 1.0, 10923: 1.0, 10924: 1.0, 10925: 1.0, 10938: 1.0, 10941: 1.0, 10944: 1.0, 10945: 3.0, 10946: 1.0, 10952: 4.0, 10953: 2.0, 10957: 1.0, 10963: 2.0, 10964: 2.0, 10975: 1.0, 10977: 1.0, 10979: 1.0, 10981: 1.0, 10985: 1.0, 10989: 1.0, 10992: 1.0, 10997: 1.0, 10998: 2.0, 11001: 1.0, 11002: 1.0, 11015: 1.0, 11020: 1.0, 11022: 1.0, 11030: 1.0, 11036: 3.0, 11042: 1.0, 11043: 1.0, 11046: 2.0, 11051: 3.0, 11052: 1.0, 11054: 2.0, 11055: 2.0, 11058: 1.0, 11063: 1.0, 11065: 5.0, 11069: 1.0, 11076: 1.0, 11082: 1.0, 11083: 1.0, 11085: 1.0, 11086: 1.0, 11089: 5.0, 11092: 1.0, 11093: 1.0, 11095: 1.0, 11096: 1.0, 11109: 3.0, 11119: 2.0, 11122: 1.0, 11124: 2.0, 11133: 3.0, 11141: 5.0, 11143: 1.0, 11146: 1.0, 11153: 1.0, 11154: 2.0, 11163: 1.0, 11167: 3.0, 11172: 1.0, 11188: 1.0, 11189: 1.0, 11197: 1.0, 11199: 1.0, 11212: 1.0, 11216: 2.0, 11217: 1.0, 11230: 1.0, 11233: 1.0, 11234: 1.0, 11238: 1.0, 11239: 2.0, 11242: 2.0, 11249: 1.0, 11250: 1.0, 11251: 2.0, 11256: 1.0, 11257: 9.0, 11263: 1.0, 11265: 5.0, 11271: 3.0, 11272: 4.0, 11274: 8.0, 11278: 2.0, 11281: 1.0, 11287: 1.0, 11292: 12.0, 11297: 5.0, 11302: 2.0, 11305: 1.0, 11306: 7.0, 11312: 1.0, 11326: 1.0, 11331: 1.0, 11332: 1.0, 11339: 1.0, 11343: 2.0, 11344: 1.0, 11351: 3.0, 11353: 1.0, 11357: 4.0, 11360: 2.0, 11361: 1.0, 11362: 1.0, 11374: 1.0, 11376: 2.0, 11379: 1.0, 11385: 1.0, 11387: 1.0, 11388: 2.0, 11393: 2.0, 11401: 2.0, 11402: 1.0, 11403: 1.0, 11409: 2.0, 11412: 13.0, 11423: 3.0, 11427: 2.0, 11430: 1.0, 11432: 1.0, 11436: 2.0, 11443: 1.0, 11452: 1.0, 11455: 1.0, 11459: 1.0, 11463: 1.0, 11465: 2.0, 11473: 1.0, 11475: 1.0, 11480: 1.0, 11494: 5.0, 11495: 4.0, 11497: 6.0, 11503: 5.0, 11504: 1.0, 11506: 4.0, 11508: 10.0, 11510: 1.0, 11511: 1.0, 11514: 2.0, 11515: 2.0, 11526: 2.0, 11529: 1.0, 11536: 2.0, 11539: 1.0, 11540: 2.0, 11545: 1.0, 11556: 2.0, 11557: 2.0, 11558: 1.0, 11559: 1.0, 11560: 2.0, 11562: 2.0, 11566: 1.0, 11569: 1.0, 11571: 1.0, 11573: 2.0, 11574: 1.0, 11577: 4.0, 11579: 1.0, 11580: 6.0, 11582: 2.0, 11584: 1.0, 11599: 1.0, 11600: 20.0, 11601: 1.0, 11604: 5.0, 11605: 1.0, 11606: 2.0, 11608: 1.0, 11609: 1.0, 11611: 1.0, 11615: 1.0, 11624: 1.0, 11634: 1.0, 11637: 6.0, 11641: 6.0, 11647: 1.0, 11649: 1.0, 11652: 1.0, 11657: 1.0, 11659: 1.0, 11660: 3.0, 11663: 1.0, 11669: 1.0, 11670: 1.0, 11671: 1.0, 11673: 2.0, 11679: 1.0, 11680: 3.0, 11681: 1.0, 11691: 1.0, 11696: 3.0, 11700: 1.0, 11701: 1.0, 11713: 1.0, 11714: 4.0, 11715: 2.0, 11716: 3.0, 11717: 2.0, 11720: 1.0, 11735: 1.0, 11737: 1.0, 11739: 3.0, 11740: 1.0, 11747: 4.0, 11754: 6.0, 11755: 2.0, 11776: 1.0, 11782: 1.0, 11784: 1.0, 11788: 3.0, 11792: 1.0, 11798: 1.0, 11802: 1.0, 11808: 1.0, 11811: 6.0, 11813: 2.0, 11819: 1.0, 11822: 1.0, 11831: 1.0, 11832: 1.0, 11838: 1.0, 11851: 1.0, 11853: 1.0, 11855: 1.0, 11856: 1.0, 11858: 1.0, 11867: 1.0, 11868: 1.0, 11869: 1.0, 11872: 1.0, 11874: 2.0, 11876: 2.0, 11882: 3.0, 11883: 1.0, 11887: 1.0, 11889: 1.0, 11890: 1.0, 11892: 1.0, 11898: 1.0, 11905: 3.0, 11907: 1.0, 11919: 1.0, 11924: 1.0, 11925: 1.0, 11926: 1.0, 11927: 1.0, 11931: 1.0, 11938: 3.0, 11942: 1.0, 11943: 1.0, 11944: 8.0, 11945: 1.0, 11946: 3.0, 11952: 1.0, 11959: 1.0, 11961: 2.0, 11971: 3.0, 11973: 2.0, 11979: 1.0, 11989: 3.0, 12001: 1.0, 12016: 1.0, 12021: 1.0, 12028: 1.0, 12029: 6.0, 12036: 1.0, 12040: 1.0, 12042: 1.0, 12044: 3.0, 12046: 1.0, 12051: 1.0, 12053: 4.0, 12054: 1.0, 12066: 1.0, 12072: 2.0, 12073: 1.0, 12081: 1.0, 12085: 2.0, 12090: 3.0, 12099: 2.0, 12112: 1.0, 12114: 2.0, 12117: 1.0, 12122: 1.0, 12123: 1.0, 12125: 1.0, 12137: 1.0, 12138: 1.0, 12140: 2.0, 12143: 2.0, 12144: 1.0, 12149: 4.0, 12150: 3.0, 12154: 3.0, 12155: 1.0, 12158: 4.0, 12164: 1.0, 12167: 1.0, 12170: 1.0, 12173: 1.0, 12181: 1.0, 12182: 3.0, 12190: 1.0, 12197: 1.0, 12203: 1.0, 12207: 2.0, 12211: 1.0, 12216: 3.0, 12220: 1.0, 12221: 1.0, 12225: 2.0, 12228: 1.0, 12232: 49.0, 12233: 1.0, 12244: 2.0, 12245: 1.0, 12249: 1.0, 12271: 1.0, 12272: 2.0, 12275: 3.0, 12282: 2.0, 12288: 4.0, 12293: 1.0, 12295: 1.0, 12301: 2.0, 12310: 2.0, 12325: 9.0, 12334: 2.0, 12336: 1.0, 12338: 1.0, 12347: 1.0, 12349: 10.0, 12350: 2.0, 12358: 1.0, 12366: 2.0, 12368: 1.0, 12369: 1.0, 12372: 2.0, 12374: 1.0, 12377: 1.0, 12389: 1.0, 12390: 4.0, 12394: 1.0, 12405: 2.0, 12413: 2.0, 12414: 1.0, 12424: 3.0, 12432: 1.0, 12435: 2.0, 12437: 1.0, 12444: 2.0, 12445: 1.0, 12450: 1.0, 12453: 1.0, 12459: 3.0, 12465: 3.0, 12469: 3.0, 12471: 5.0, 12478: 1.0, 12484: 1.0, 12485: 4.0, 12488: 1.0, 12496: 2.0, 12510: 1.0, 12511: 1.0, 12515: 1.0, 12520: 1.0, 12521: 1.0, 12534: 2.0, 12546: 3.0, 12552: 2.0, 12557: 1.0, 12565: 1.0, 12567: 1.0, 12571: 2.0, 12572: 1.0, 12575: 1.0, 12576: 1.0, 12579: 1.0, 12580: 1.0, 12584: 1.0, 12586: 2.0, 12590: 5.0, 12592: 1.0, 12596: 11.0, 12598: 2.0, 12601: 4.0, 12604: 2.0, 12609: 1.0, 12616: 10.0, 12617: 1.0, 12636: 1.0, 12642: 2.0, 12645: 1.0, 12647: 2.0, 12654: 6.0, 12656: 1.0, 12664: 2.0, 12669: 1.0, 12670: 1.0, 12671: 1.0, 12673: 1.0, 12676: 1.0, 12679: 2.0, 12680: 3.0, 12687: 1.0, 12697: 4.0, 12712: 1.0, 12716: 1.0, 12721: 3.0, 12722: 1.0, 12723: 1.0, 12725: 2.0, 12729: 1.0, 12730: 1.0, 12735: 2.0, 12757: 2.0, 12768: 1.0, 12779: 1.0, 12780: 1.0, 12785: 1.0, 12793: 2.0, 12797: 1.0, 12798: 2.0, 12802: 1.0, 12805: 1.0, 12817: 1.0, 12820: 2.0, 12835: 1.0, 12836: 2.0, 12838: 17.0, 12852: 1.0, 12865: 1.0, 12867: 1.0, 12869: 2.0, 12873: 2.0, 12876: 1.0, 12877: 2.0, 12882: 1.0, 12890: 1.0, 12891: 1.0, 12898: 2.0, 12901: 1.0, 12906: 1.0, 12912: 74.0, 12914: 1.0, 12917: 1.0, 12920: 1.0, 12927: 4.0, 12928: 1.0, 12930: 3.0, 12933: 2.0, 12938: 2.0, 12941: 3.0, 12943: 2.0, 12947: 1.0, 12952: 2.0, 12958: 1.0, 12959: 1.0, 12960: 1.0, 12964: 3.0, 12965: 3.0, 12967: 1.0, 12968: 3.0, 12980: 1.0, 12988: 1.0, 13003: 1.0, 13006: 1.0, 13009: 1.0, 13016: 3.0, 13017: 10.0, 13029: 1.0, 13030: 1.0, 13037: 3.0, 13039: 1.0, 13053: 2.0, 13056: 1.0, 13066: 1.0, 13087: 1.0, 13092: 1.0, 13094: 1.0, 13097: 1.0, 13101: 3.0, 13104: 1.0, 13123: 2.0, 13125: 5.0, 13128: 2.0, 13129: 1.0, 13137: 1.0, 13144: 2.0, 13160: 1.0, 13165: 1.0, 13167: 1.0, 13180: 18.0, 13186: 1.0, 13194: 1.0, 13203: 3.0, 13206: 1.0, 13209: 1.0, 13214: 1.0, 13237: 1.0, 13242: 1.0, 13245: 1.0, 13248: 1.0, 13251: 1.0, 13260: 2.0, 13266: 32.0, 13267: 2.0, 13270: 1.0, 13273: 1.0, 13278: 1.0, 13279: 1.0, 13282: 1.0, 13285: 1.0, 13295: 3.0, 13306: 3.0, 13310: 3.0, 13311: 1.0, 13312: 1.0, 13314: 4.0, 13316: 1.0, 13317: 2.0, 13319: 1.0, 13327: 1.0, 13329: 9.0, 13330: 1.0, 13331: 6.0, 13337: 2.0, 13339: 1.0, 13348: 2.0, 13353: 1.0, 13360: 1.0, 13361: 2.0, 13380: 1.0, 13384: 1.0, 13385: 1.0, 13395: 2.0, 13404: 1.0, 13408: 1.0, 13409: 1.0, 13415: 1.0, 13430: 10.0, 13435: 1.0, 13441: 1.0, 13447: 1.0, 13470: 2.0, 13473: 2.0, 13482: 2.0, 13498: 1.0, 13500: 2.0, 13501: 2.0, 13505: 1.0, 13523: 1.0, 13528: 4.0, 13539: 5.0, 13543: 1.0, 13546: 1.0, 13560: 1.0, 13561: 2.0, 13562: 1.0, 13568: 1.0, 13581: 1.0, 13586: 1.0, 13587: 1.0, 13588: 1.0, 13593: 1.0, 13595: 1.0, 13597: 2.0, 13598: 1.0, 13605: 2.0, 13611: 1.0, 13623: 1.0, 13630: 11.0, 13632: 1.0, 13640: 1.0, 13643: 3.0, 13644: 2.0, 13664: 2.0, 13676: 1.0, 13695: 5.0, 13701: 1.0, 13705: 2.0, 13707: 1.0, 13708: 1.0, 13709: 2.0, 13712: 3.0, 13713: 1.0, 13715: 2.0, 13720: 1.0, 13722: 6.0, 13724: 1.0, 13726: 1.0, 13729: 74.0, 13731: 1.0, 13733: 1.0, 13737: 1.0, 13741: 1.0, 13746: 1.0, 13747: 2.0, 13750: 9.0, 13758: 1.0, 13763: 1.0, 13783: 1.0, 13784: 1.0, 13795: 3.0, 13800: 4.0, 13823: 1.0, 13838: 4.0, 13846: 1.0, 13855: 1.0, 13859: 6.0, 13885: 1.0, 13888: 1.0, 13890: 1.0, 13906: 10.0, 13908: 2.0, 13919: 2.0, 13921: 1.0, 13922: 3.0, 13938: 5.0, 13940: 1.0, 13946: 1.0, 13947: 5.0, 13948: 3.0, 13952: 1.0, 13955: 1.0, 13962: 1.0, 13967: 1.0, 13975: 3.0, 13977: 1.0, 13985: 1.0, 13987: 1.0, 14001: 1.0, 14008: 1.0, 14022: 1.0, 14028: 5.0, 14030: 3.0, 14031: 2.0, 14033: 1.0, 14034: 2.0, 14043: 1.0, 14048: 1.0, 14052: 1.0, 14054: 1.0, 14070: 2.0, 14072: 2.0, 14079: 1.0, 14086: 2.0, 14096: 1.0, 14102: 1.0, 14103: 1.0, 14112: 1.0, 14117: 1.0, 14121: 2.0, 14125: 1.0, 14132: 2.0, 14159: 1.0, 14165: 2.0, 14174: 1.0, 14183: 3.0, 14207: 1.0, 14221: 1.0, 14222: 1.0, 14225: 1.0, 14226: 1.0, 14229: 5.0, 14232: 1.0, 14233: 1.0, 14241: 1.0, 14242: 2.0, 14244: 2.0, 14245: 1.0, 14249: 1.0, 14254: 5.0, 14256: 1.0, 14264: 11.0, 14267: 1.0, 14271: 1.0, 14275: 1.0, 14293: 4.0, 14295: 4.0, 14296: 6.0, 14300: 2.0, 14309: 1.0, 14316: 3.0, 14321: 1.0, 14324: 2.0, 14325: 1.0, 14334: 1.0, 14341: 1.0, 14344: 1.0, 14350: 8.0, 14353: 2.0, 14360: 1.0, 14369: 4.0, 14386: 1.0, 14391: 1.0, 14402: 2.0, 14406: 1.0, 14410: 3.0, 14414: 2.0, 14421: 7.0, 14432: 2.0, 14434: 1.0, 14436: 1.0, 14437: 17.0, 14438: 1.0, 14449: 1.0, 14459: 1.0, 14461: 2.0, 14463: 1.0, 14465: 5.0, 14466: 2.0, 14469: 1.0, 14473: 3.0, 14474: 1.0, 14477: 1.0, 14481: 1.0, 14482: 1.0, 14483: 1.0, 14490: 1.0, 14493: 4.0, 14495: 4.0, 14498: 11.0, 14501: 1.0, 14506: 33.0, 14513: 4.0, 14519: 1.0, 14520: 2.0, 14521: 1.0, 14524: 5.0, 14531: 1.0, 14535: 1.0, 14542: 1.0, 14544: 1.0, 14546: 4.0, 14548: 1.0, 14556: 2.0, 14561: 3.0, 14570: 1.0, 14577: 1.0, 14579: 1.0, 14582: 1.0, 14586: 1.0, 14591: 1.0, 14594: 3.0, 14595: 5.0, 14596: 2.0, 14606: 2.0, 14619: 5.0, 14626: 2.0, 14637: 1.0, 14639: 2.0, 14640: 2.0, 14642: 1.0, 14646: 1.0, 14647: 1.0, 14658: 1.0, 14669: 3.0, 14681: 5.0, 14698: 1.0, 14702: 1.0, 14707: 1.0, 14715: 1.0, 14727: 1.0, 14737: 4.0, 14739: 1.0, 14742: 1.0, 14744: 1.0, 14748: 1.0, 14749: 1.0, 14759: 4.0, 14769: 1.0, 14778: 1.0, 14786: 2.0, 14787: 1.0, 14794: 1.0, 14814: 2.0, 14815: 1.0, 14818: 2.0, 14822: 2.0, 14824: 1.0, 14829: 3.0, 14835: 3.0, 14837: 1.0, 14840: 3.0, 14843: 1.0, 14855: 1.0, 14858: 1.0, 14869: 3.0, 14871: 1.0, 14874: 1.0, 14878: 1.0, 14887: 1.0, 14899: 1.0, 14908: 1.0, 14918: 1.0, 14921: 1.0, 14927: 4.0, 14936: 1.0, 14943: 2.0, 14945: 1.0, 14953: 3.0, 14958: 1.0, 14977: 3.0, 14985: 2.0, 14986: 1.0, 15007: 2.0, 15016: 3.0, 15020: 1.0, 15021: 3.0, 15025: 1.0, 15028: 1.0, 15033: 1.0, 15044: 2.0, 15046: 5.0, 15051: 1.0, 15053: 2.0, 15059: 1.0, 15060: 1.0, 15061: 1.0, 15063: 3.0, 15070: 1.0, 15073: 1.0, 15074: 2.0, 15080: 1.0, 15081: 3.0, 15084: 5.0, 15088: 3.0, 15090: 6.0, 15091: 3.0, 15092: 1.0, 15103: 1.0, 15112: 2.0, 15116: 1.0, 15120: 1.0, 15139: 1.0, 15147: 3.0, 15149: 1.0, 15164: 1.0, 15171: 1.0, 15186: 6.0, 15190: 1.0, 15197: 1.0, 15207: 1.0, 15214: 1.0, 15218: 3.0, 15223: 2.0, 15227: 2.0, 15230: 2.0, 15238: 1.0, 15240: 1.0, 15242: 4.0, 15243: 1.0, 15244: 1.0, 15245: 1.0, 15250: 1.0, 15252: 2.0, 15253: 3.0, 15255: 1.0, 15260: 1.0, 15267: 1.0, 15279: 4.0, 15281: 1.0, 15294: 1.0, 15298: 1.0, 15306: 1.0, 15310: 1.0, 15313: 1.0, 15317: 5.0, 15321: 2.0, 15328: 1.0, 15329: 1.0, 15334: 2.0, 15335: 1.0, 15339: 1.0, 15343: 1.0, 15354: 1.0, 15358: 2.0, 15370: 2.0, 15373: 1.0, 15391: 1.0, 15393: 2.0, 15402: 1.0, 15403: 1.0, 15432: 1.0, 15448: 2.0, 15456: 8.0, 15458: 2.0, 15461: 2.0, 15464: 2.0, 15467: 1.0, 15469: 1.0, 15471: 1.0, 15473: 2.0, 15487: 1.0, 15504: 1.0, 15510: 1.0, 15518: 5.0, 15521: 1.0, 15534: 1.0, 15544: 1.0, 15547: 3.0, 15548: 2.0, 15564: 1.0, 15566: 2.0, 15570: 1.0, 15572: 1.0, 15576: 2.0, 15595: 2.0, 15614: 2.0, 15618: 1.0, 15619: 1.0, 15622: 1.0, 15623: 1.0, 15624: 1.0, 15627: 1.0, 15628: 1.0, 15658: 1.0, 15665: 2.0, 15668: 1.0, 15671: 1.0, 15683: 3.0, 15707: 3.0, 15714: 1.0, 15741: 5.0, 15745: 1.0, 15747: 3.0, 15764: 1.0, 15769: 1.0, 15772: 4.0, 15778: 1.0, 15781: 1.0, 15789: 1.0, 15791: 1.0, 15807: 1.0, 15818: 2.0, 15820: 4.0, 15823: 1.0, 15831: 4.0, 15832: 1.0, 15840: 3.0, 15841: 1.0, 15848: 1.0, 15856: 1.0, 15872: 1.0, 15874: 1.0, 15889: 2.0, 15892: 1.0, 15896: 1.0, 15901: 1.0, 15914: 1.0, 15923: 2.0, 15924: 4.0, 15933: 4.0, 15937: 1.0, 15940: 1.0, 15944: 1.0, 15945: 1.0, 15946: 1.0, 15951: 1.0, 15952: 1.0, 15958: 1.0, 15964: 2.0, 15976: 1.0, 15980: 1.0, 15982: 1.0, 15983: 1.0, 15986: 1.0, 15996: 1.0, 16005: 1.0, 16010: 1.0, 16018: 1.0, 16024: 1.0, 16032: 1.0, 16034: 2.0, 16035: 1.0, 16036: 1.0, 16037: 1.0, 16045: 1.0, 16051: 1.0, 16057: 2.0, 16063: 1.0, 16064: 4.0, 16069: 1.0, 16071: 2.0, 16081: 3.0, 16084: 1.0, 16086: 1.0, 16096: 1.0, 16097: 1.0, 16100: 3.0, 16102: 1.0, 16105: 1.0, 16113: 1.0, 16117: 1.0, 16119: 7.0, 16127: 1.0, 16131: 1.0, 16132: 1.0, 16139: 2.0, 16141: 1.0, 16142: 1.0, 16152: 5.0, 16155: 1.0, 16172: 1.0, 16194: 1.0, 16205: 1.0, 16206: 3.0, 16209: 2.0, 16212: 8.0, 16215: 1.0, 16218: 4.0, 16225: 2.0, 16232: 2.0, 16235: 1.0, 16243: 1.0, 16245: 1.0, 16254: 3.0, 16271: 1.0, 16274: 2.0, 16275: 1.0, 16293: 2.0, 16296: 1.0, 16299: 1.0, 16302: 1.0, 16305: 2.0, 16308: 4.0, 16318: 3.0, 16320: 2.0, 16324: 4.0, 16328: 3.0, 16332: 1.0, 16337: 3.0, 16344: 1.0, 16352: 1.0, 16362: 1.0, 16367: 1.0, 16370: 1.0, 16376: 1.0, 16385: 1.0, 16394: 1.0, 16398: 1.0, 16406: 3.0, 16410: 1.0, 16414: 3.0, 16418: 1.0, 16421: 1.0, 16422: 2.0, 16439: 1.0, 16443: 1.0, 16455: 1.0, 16457: 2.0, 16459: 2.0, 16460: 1.0, 16468: 1.0, 16471: 1.0, 16472: 1.0, 16476: 1.0, 16489: 1.0, 16490: 1.0, 16491: 2.0, 16492: 1.0, 16502: 2.0, 16503: 1.0, 16504: 1.0, 16506: 1.0, 16511: 1.0, 16518: 1.0, 16520: 1.0, 16539: 7.0, 16541: 1.0, 16548: 1.0, 16551: 1.0, 16559: 1.0, 16560: 1.0, 16571: 1.0, 16576: 1.0, 16584: 1.0, 16600: 1.0, 16608: 3.0, 16613: 1.0, 16617: 3.0, 16619: 1.0, 16625: 1.0, 16627: 1.0, 16629: 1.0, 16635: 1.0, 16642: 1.0, 16643: 3.0, 16669: 2.0, 16675: 5.0, 16687: 2.0, 16688: 1.0, 16694: 1.0, 16706: 1.0, 16713: 1.0, 16722: 4.0, 16726: 2.0, 16736: 1.0, 16741: 1.0, 16750: 2.0, 16787: 1.0, 16802: 1.0, 16826: 1.0, 16834: 4.0, 16848: 1.0, 16853: 1.0, 16862: 3.0, 16876: 1.0, 16879: 3.0, 16890: 1.0, 16891: 1.0, 16896: 1.0, 16897: 1.0, 16905: 5.0, 16919: 1.0, 16920: 1.0, 16924: 1.0, 16928: 1.0, 16929: 1.0, 16931: 1.0, 16944: 1.0, 16948: 2.0, 16949: 1.0, 16950: 1.0, 16951: 1.0, 16966: 2.0, 16973: 1.0, 16977: 1.0, 16989: 2.0, 16999: 2.0, 17000: 1.0, 17003: 1.0, 17005: 2.0, 17019: 1.0, 17040: 1.0, 17055: 1.0, 17066: 2.0, 17071: 3.0, 17072: 1.0, 17096: 1.0, 17098: 1.0, 17100: 1.0, 17104: 1.0, 17132: 3.0, 17142: 7.0, 17153: 1.0, 17163: 1.0, 17171: 1.0, 17193: 1.0, 17197: 1.0, 17198: 1.0, 17210: 1.0, 17216: 1.0, 17226: 1.0, 17232: 1.0, 17239: 1.0, 17240: 1.0, 17242: 2.0, 17260: 1.0, 17267: 3.0, 17278: 1.0, 17283: 2.0, 17287: 1.0, 17293: 1.0, 17298: 4.0, 17302: 1.0, 17305: 1.0, 17318: 2.0, 17324: 2.0, 17327: 3.0, 17333: 2.0, 17353: 3.0, 17354: 1.0, 17373: 1.0, 17388: 1.0, 17389: 1.0, 17393: 1.0, 17421: 1.0, 17423: 2.0, 17429: 2.0, 17443: 1.0, 17463: 1.0, 17466: 1.0, 17478: 7.0, 17480: 1.0, 17503: 4.0, 17508: 1.0, 17512: 1.0, 17514: 1.0, 17515: 1.0, 17516: 1.0, 17520: 1.0, 17564: 1.0, 17570: 2.0, 17574: 2.0, 17575: 1.0, 17579: 1.0, 17589: 1.0, 17609: 1.0, 17623: 1.0, 17628: 1.0, 17632: 3.0, 17660: 1.0, 17664: 3.0, 17666: 2.0, 17674: 4.0, 17684: 1.0, 17685: 2.0, 17690: 2.0, 17691: 1.0, 17699: 2.0, 17706: 1.0, 17732: 2.0, 17736: 1.0, 17747: 1.0, 17760: 1.0, 17780: 2.0, 17785: 1.0, 17793: 2.0, 17799: 3.0, 17807: 4.0, 17808: 2.0, 17809: 1.0, 17814: 1.0, 17820: 1.0, 17825: 1.0, 17827: 1.0, 17828: 1.0, 17829: 1.0, 17831: 1.0, 17834: 1.0, 17841: 2.0, 17850: 3.0, 17863: 1.0, 17866: 1.0, 17873: 2.0, 17874: 3.0, 17876: 2.0, 17884: 4.0, 17890: 1.0, 17892: 5.0, 17920: 1.0, 17931: 4.0, 17943: 1.0, 17947: 1.0, 17953: 1.0, 17965: 10.0, 17974: 1.0, 17990: 1.0, 17994: 2.0, 18002: 3.0, 18005: 2.0, 18011: 2.0, 18019: 7.0, 18024: 1.0, 18039: 1.0, 18048: 1.0, 18055: 1.0, 18056: 1.0, 18058: 1.0, 18067: 2.0, 18085: 1.0, 18087: 1.0, 18092: 3.0, 18098: 3.0, 18106: 1.0, 18141: 1.0, 18148: 1.0, 18165: 2.0, 18184: 1.0, 18198: 1.0, 18204: 2.0, 18227: 1.0, 18228: 1.0, 18232: 1.0, 18237: 1.0, 18239: 1.0, 18241: 1.0, 18245: 1.0, 18247: 1.0, 18260: 1.0, 18282: 1.0, 18300: 8.0, 18321: 1.0, 18324: 2.0, 18338: 1.0, 18339: 1.0, 18342: 4.0, 18385: 2.0, 18391: 1.0, 18396: 3.0, 18402: 1.0, 18403: 2.0, 18408: 1.0, 18409: 1.0, 18410: 3.0, 18412: 1.0, 18424: 1.0, 18438: 12.0, 18445: 4.0, 18455: 1.0, 18457: 2.0, 18458: 1.0, 18460: 2.0, 18461: 3.0, 18468: 1.0, 18469: 1.0, 18481: 3.0, 18503: 1.0, 18514: 1.0, 18515: 1.0, 18523: 1.0, 18529: 3.0, 18535: 1.0, 18541: 4.0, 18544: 5.0, 18565: 23.0, 18567: 1.0, 18588: 1.0, 18594: 1.0, 18609: 1.0, 18615: 1.0, 18620: 1.0, 18624: 1.0, 18629: 1.0, 18631: 1.0, 18632: 1.0, 18634: 1.0, 18641: 1.0, 18645: 1.0, 18651: 4.0, 18661: 1.0, 18667: 1.0, 18679: 1.0, 18703: 1.0, 18713: 2.0, 18715: 2.0, 18724: 1.0, 18730: 1.0, 18732: 3.0, 18741: 2.0, 18742: 1.0, 18743: 1.0, 18747: 1.0, 18749: 3.0, 18757: 1.0, 18775: 1.0, 18776: 2.0, 18782: 1.0, 18791: 1.0, 18797: 1.0, 18802: 5.0, 18812: 11.0, 18816: 1.0, 18820: 3.0, 18825: 1.0, 18838: 1.0, 18844: 1.0, 18852: 1.0, 18854: 1.0, 18855: 1.0, 18858: 3.0, 18861: 1.0, 18876: 2.0, 18880: 1.0, 18887: 4.0, 18890: 1.0, 18930: 4.0, 18936: 1.0, 18937: 1.0, 18941: 1.0, 18944: 1.0, 18947: 3.0, 18961: 3.0, 18962: 1.0, 18976: 1.0, 18979: 1.0, 18996: 2.0, 19005: 6.0, 19017: 1.0, 19020: 8.0, 19037: 2.0, 19038: 1.0, 19039: 1.0, 19048: 28.0, 19050: 1.0, 19067: 2.0, 19071: 1.0, 19098: 9.0, 19100: 1.0, 19107: 5.0, 19109: 1.0, 19111: 2.0, 19112: 3.0, 19114: 1.0, 19116: 1.0, 19118: 1.0, 19124: 1.0, 19153: 3.0, 19156: 1.0, 19162: 1.0, 19164: 1.0, 19170: 2.0, 19171: 1.0, 19176: 3.0, 19193: 1.0, 19197: 1.0, 19211: 1.0, 19217: 2.0, 19222: 1.0, 19235: 1.0, 19243: 1.0, 19248: 1.0, 19249: 1.0, 19257: 1.0, 19260: 1.0, 19262: 2.0, 19264: 5.0, 19267: 1.0, 19272: 1.0, 19274: 1.0, 19283: 1.0, 19285: 1.0, 19286: 1.0, 19288: 2.0, 19291: 1.0, 19294: 6.0, 19298: 4.0, 19304: 3.0, 19311: 1.0, 19312: 1.0, 19317: 3.0, 19329: 1.0, 19342: 1.0, 19348: 3.0, 19352: 1.0, 19357: 1.0, 19367: 1.0, 19368: 1.0, 19394: 1.0, 19399: 1.0, 19405: 1.0, 19431: 2.0, 19438: 1.0, 19443: 1.0, 19445: 1.0, 19454: 1.0, 19456: 1.0, 19462: 1.0, 19476: 1.0, 19479: 1.0, 19482: 3.0, 19491: 1.0, 19494: 1.0, 19550: 1.0, 19552: 1.0, 19559: 2.0, 19569: 1.0, 19577: 1.0, 19592: 5.0, 19593: 7.0, 19594: 1.0, 19600: 1.0, 19608: 8.0, 19624: 1.0, 19629: 1.0, 19645: 1.0, 19649: 1.0, 19666: 1.0, 19680: 1.0, 19682: 1.0, 19689: 1.0, 19694: 1.0, 19695: 1.0, 19707: 2.0, 19725: 6.0, 19728: 3.0, 19746: 1.0, 19748: 4.0, 19754: 1.0, 19772: 1.0, 19816: 1.0, 19842: 2.0, 19865: 1.0, 19885: 1.0, 19887: 1.0, 19888: 2.0, 19916: 2.0, 19922: 2.0, 19948: 1.0, 19954: 1.0, 19960: 1.0, 19965: 1.0, 19968: 5.0, 19973: 1.0, 19981: 1.0, 19986: 1.0, 19987: 2.0, 19988: 1.0, 19995: 1.0, 20003: 1.0, 20004: 13.0, 20026: 5.0, 20043: 1.0, 20054: 3.0, 20071: 1.0, 20073: 1.0, 20078: 1.0, 20079: 1.0, 20095: 1.0, 20104: 1.0, 20106: 5.0, 20111: 1.0, 20113: 1.0, 20115: 2.0, 20118: 2.0, 20121: 1.0, 20123: 1.0, 20124: 3.0, 20145: 1.0, 20148: 2.0, 20150: 1.0, 20153: 1.0, 20156: 1.0, 20157: 1.0, 20160: 1.0, 20163: 1.0, 20185: 2.0, 20201: 1.0, 20228: 1.0, 20235: 1.0, 20244: 4.0, 20267: 1.0, 20270: 5.0, 20273: 2.0, 20282: 1.0, 20308: 2.0, 20316: 1.0, 20319: 1.0, 20329: 2.0, 20343: 2.0, 20359: 1.0, 20361: 1.0, 20372: 1.0, 20374: 1.0, 20381: 3.0, 20387: 1.0, 20408: 1.0, 20413: 1.0, 20414: 4.0, 20417: 3.0, 20418: 5.0, 20435: 2.0, 20442: 1.0, 20444: 1.0, 20458: 1.0, 20463: 1.0, 20478: 2.0, 20488: 1.0, 20490: 2.0, 20491: 1.0, 20499: 1.0, 20513: 1.0, 20532: 2.0, 20538: 4.0, 20543: 7.0, 20549: 1.0, 20570: 1.0, 20583: 1.0, 20592: 1.0, 20593: 1.0, 20604: 2.0, 20612: 1.0, 20615: 1.0, 20617: 3.0, 20626: 1.0, 20633: 1.0, 20635: 2.0, 20657: 1.0, 20674: 1.0, 20680: 1.0, 20692: 1.0, 20702: 1.0, 20703: 2.0, 20706: 1.0, 20719: 1.0, 20733: 1.0, 20734: 1.0, 20742: 1.0, 20762: 1.0, 20800: 1.0, 20802: 1.0, 20830: 1.0, 20859: 1.0, 20862: 2.0, 20869: 1.0, 20871: 1.0, 20874: 1.0, 20880: 1.0, 20884: 1.0, 20890: 1.0, 20901: 1.0, 20904: 1.0, 20910: 1.0, 20919: 1.0, 20921: 1.0, 20924: 1.0, 20934: 1.0, 20956: 1.0, 20962: 1.0, 20964: 1.0, 20975: 2.0, 20987: 1.0, 20992: 1.0, 20997: 1.0, 21000: 1.0, 21001: 1.0, 21013: 1.0, 21015: 1.0, 21032: 1.0, 21034: 1.0, 21043: 2.0, 21053: 2.0, 21094: 1.0, 21096: 1.0, 21102: 2.0, 21103: 3.0, 21105: 1.0, 21110: 1.0, 21123: 2.0, 21133: 1.0, 21136: 2.0, 21142: 1.0, 21163: 1.0, 21189: 1.0, 21208: 1.0, 21211: 1.0, 21217: 1.0, 21223: 3.0, 21229: 1.0, 21249: 1.0, 21252: 6.0, 21262: 1.0, 21268: 2.0, 21271: 2.0, 21272: 1.0, 21278: 1.0, 21279: 2.0, 21283: 1.0, 21303: 1.0, 21309: 1.0, 21319: 3.0, 21330: 1.0, 21353: 1.0, 21354: 2.0, 21366: 1.0, 21389: 2.0, 21409: 1.0, 21411: 2.0, 21417: 1.0, 21421: 1.0, 21422: 2.0, 21423: 4.0, 21427: 1.0, 21434: 1.0, 21435: 1.0, 21438: 5.0, 21448: 4.0, 21452: 1.0, 21458: 1.0, 21480: 2.0, 21483: 1.0, 21488: 2.0, 21521: 2.0, 21523: 1.0, 21531: 4.0, 21532: 1.0, 21536: 1.0, 21559: 5.0, 21564: 1.0, 21575: 1.0, 21597: 1.0, 21602: 2.0, 21624: 10.0, 21625: 2.0, 21628: 1.0, 21629: 4.0, 21639: 1.0, 21643: 1.0, 21650: 1.0, 21664: 1.0, 21676: 2.0, 21687: 1.0, 21696: 1.0, 21712: 2.0, 21714: 2.0, 21730: 2.0, 21731: 1.0, 21733: 1.0, 21736: 1.0, 21747: 1.0, 21758: 1.0, 21776: 1.0, 21781: 1.0, 21782: 1.0, 21786: 1.0, 21811: 1.0, 21855: 2.0, 21859: 1.0, 21873: 1.0, 21895: 1.0, 21900: 1.0, 21908: 1.0, 21913: 1.0, 21920: 1.0, 21931: 2.0, 21942: 1.0, 21943: 1.0, 21953: 1.0, 21957: 2.0, 21962: 1.0, 21964: 1.0, 21973: 1.0, 21975: 1.0, 22014: 1.0, 22030: 1.0, 22035: 2.0, 22059: 1.0, 22091: 4.0, 22112: 1.0, 22113: 2.0, 22120: 1.0, 22125: 4.0, 22129: 5.0, 22134: 1.0, 22139: 1.0, 22158: 1.0, 22169: 1.0, 22187: 1.0, 22191: 1.0, 22231: 1.0, 22247: 2.0, 22258: 1.0, 22272: 1.0, 22276: 1.0, 22279: 2.0, 22281: 1.0, 22284: 1.0, 22291: 1.0, 22309: 1.0, 22310: 1.0, 22319: 1.0, 22337: 1.0, 22339: 2.0, 22373: 9.0, 22374: 1.0, 22377: 1.0, 22390: 1.0, 22397: 1.0, 22405: 23.0, 22415: 1.0, 22424: 1.0, 22425: 1.0, 22450: 11.0, 22458: 1.0, 22476: 3.0, 22482: 2.0, 22501: 1.0, 22512: 1.0, 22517: 2.0, 22523: 1.0, 22549: 2.0, 22566: 1.0, 22592: 1.0, 22599: 1.0, 22615: 3.0, 22643: 14.0, 22647: 1.0, 22663: 1.0, 22666: 1.0, 22675: 1.0, 22678: 1.0, 22695: 1.0, 22701: 1.0, 22709: 1.0, 22722: 5.0, 22725: 1.0, 22746: 1.0, 22749: 3.0, 22785: 1.0, 22798: 1.0, 22820: 1.0, 22821: 4.0, 22828: 1.0, 22851: 1.0, 22856: 1.0, 22865: 1.0, 22871: 2.0, 22875: 3.0, 22879: 2.0, 22885: 1.0, 22903: 2.0, 22906: 2.0, 22915: 2.0, 22927: 1.0, 22939: 3.0, 22941: 2.0, 22948: 1.0, 22951: 1.0, 22971: 1.0, 22979: 1.0, 22980: 1.0, 22990: 1.0, 23013: 2.0, 23016: 3.0, 23018: 1.0, 23022: 3.0, 23046: 1.0, 23049: 1.0, 23058: 1.0, 23061: 2.0, 23066: 2.0, 23080: 1.0, 23115: 1.0, 23116: 1.0, 23128: 1.0, 23138: 2.0, 23142: 2.0, 23144: 1.0, 23164: 2.0, 23175: 1.0, 23193: 1.0, 23197: 1.0, 23210: 3.0, 23211: 1.0, 23213: 1.0, 23261: 1.0, 23270: 1.0, 23299: 1.0, 23307: 1.0, 23315: 1.0, 23316: 1.0, 23349: 1.0, 23357: 1.0, 23359: 9.0, 23380: 3.0, 23385: 1.0, 23389: 1.0, 23394: 1.0, 23405: 1.0, 23438: 1.0, 23439: 3.0, 23441: 1.0, 23444: 1.0, 23460: 1.0, 23478: 3.0, 23482: 1.0, 23511: 1.0, 23544: 1.0, 23545: 1.0, 23557: 2.0, 23571: 1.0, 23585: 1.0, 23588: 1.0, 23596: 1.0, 23602: 1.0, 23620: 1.0, 23625: 1.0, 23626: 1.0, 23643: 1.0, 23644: 9.0, 23664: 1.0, 23667: 2.0, 23674: 1.0, 23680: 1.0, 23681: 1.0, 23708: 3.0, 23711: 4.0, 23720: 2.0, 23721: 1.0, 23772: 1.0, 23785: 1.0, 23788: 3.0, 23800: 1.0, 23806: 3.0, 23808: 1.0, 23822: 1.0, 23823: 1.0, 23834: 3.0, 23841: 1.0, 23843: 3.0, 23847: 1.0, 23868: 1.0, 23882: 1.0, 23885: 1.0, 23886: 2.0, 23895: 1.0, 23898: 1.0, 23905: 2.0, 23913: 1.0, 23956: 2.0, 23971: 12.0, 23989: 1.0, 24020: 2.0, 24091: 1.0, 24121: 2.0, 24130: 2.0, 24131: 4.0, 24161: 1.0, 24176: 4.0, 24196: 1.0, 24222: 1.0, 24223: 2.0, 24229: 1.0, 24231: 2.0, 24238: 1.0, 24240: 1.0, 24242: 1.0, 24243: 1.0, 24282: 1.0, 24286: 1.0, 24290: 1.0, 24291: 2.0, 24315: 1.0, 24323: 5.0, 24339: 1.0, 24340: 1.0, 24342: 1.0, 24350: 1.0, 24351: 1.0, 24368: 1.0, 24373: 2.0, 24430: 1.0, 24435: 1.0, 24448: 1.0, 24454: 1.0, 24473: 1.0, 24481: 3.0, 24496: 2.0, 24508: 1.0, 24534: 1.0, 24550: 1.0, 24552: 1.0, 24555: 1.0, 24559: 1.0, 24576: 2.0, 24577: 6.0, 24586: 2.0, 24591: 1.0, 24598: 1.0, 24606: 1.0, 24615: 1.0, 24660: 1.0, 24663: 1.0, 24674: 1.0, 24693: 1.0, 24694: 2.0, 24695: 1.0, 24713: 1.0, 24715: 2.0, 24738: 2.0, 24796: 1.0, 24804: 1.0, 24805: 1.0, 24811: 1.0, 24815: 2.0, 24889: 2.0, 24893: 1.0, 24901: 1.0, 24926: 1.0, 24927: 1.0, 24948: 1.0, 24954: 3.0, 24966: 1.0, 24973: 1.0, 24976: 1.0, 24991: 2.0, 24996: 3.0, 25013: 2.0, 25033: 1.0, 25037: 4.0, 25065: 2.0, 25076: 2.0, 25090: 1.0, 25105: 2.0, 25108: 1.0, 25144: 1.0, 25151: 1.0, 25164: 1.0, 25168: 1.0, 25181: 1.0, 25232: 1.0, 25258: 2.0, 25260: 1.0, 25269: 1.0, 25270: 1.0, 25271: 1.0, 25297: 1.0, 25320: 1.0, 25323: 1.0, 25325: 1.0, 25347: 1.0, 25352: 3.0, 25380: 1.0, 25382: 1.0, 25400: 1.0, 25477: 1.0, 25490: 3.0, 25496: 1.0, 25514: 3.0, 25517: 1.0, 25532: 1.0, 25536: 3.0, 25542: 1.0, 25551: 1.0, 25590: 1.0, 25597: 2.0, 25598: 2.0, 25601: 2.0, 25664: 1.0, 25684: 1.0, 25692: 1.0, 25708: 2.0, 25724: 1.0, 25764: 2.0, 25778: 1.0, 25822: 1.0, 25838: 1.0, 25876: 2.0, 25881: 1.0, 25885: 1.0, 25902: 1.0, 25945: 1.0, 25958: 2.0, 25974: 1.0, 25991: 3.0, 25996: 1.0, 26003: 1.0, 26007: 5.0, 26031: 1.0, 26105: 1.0, 26117: 1.0, 26136: 1.0, 26158: 1.0, 26163: 1.0, 26164: 1.0, 26167: 2.0, 26178: 2.0, 26212: 1.0, 26222: 1.0, 26225: 3.0, 26231: 2.0, 26258: 1.0, 26276: 1.0, 26283: 1.0, 26312: 1.0, 26319: 1.0, 26327: 4.0, 26329: 1.0, 26349: 1.0, 26390: 2.0, 26402: 2.0, 26409: 1.0, 26420: 1.0, 26425: 1.0, 26427: 1.0, 26428: 1.0, 26464: 1.0, 26478: 2.0, 26486: 1.0, 26511: 1.0, 26526: 3.0, 26533: 2.0, 26541: 1.0, 26609: 1.0, 26629: 6.0, 26654: 1.0, 26714: 2.0, 26729: 2.0, 26770: 1.0, 26809: 1.0, 26861: 1.0, 26862: 1.0, 26867: 1.0, 26904: 1.0, 26945: 3.0, 26952: 2.0, 26959: 14.0, 26972: 1.0, 26982: 1.0, 26983: 1.0, 26985: 1.0, 26989: 1.0, 26992: 1.0, 27022: 7.0, 27040: 1.0, 27042: 1.0, 27068: 2.0, 27100: 1.0, 27108: 1.0, 27119: 1.0, 27134: 1.0, 27143: 1.0, 27154: 3.0, 27170: 1.0, 27171: 5.0, 27189: 1.0, 27209: 1.0, 27243: 1.0, 27261: 1.0, 27332: 1.0, 27350: 1.0, 27355: 1.0, 27358: 2.0, 27365: 3.0, 27402: 1.0, 27411: 2.0, 27464: 2.0, 27486: 1.0, 27487: 1.0, 27565: 2.0, 27575: 1.0, 27592: 1.0, 27595: 2.0, 27635: 7.0, 27637: 1.0, 27661: 7.0, 27670: 1.0, 27704: 1.0, 27746: 2.0, 27750: 2.0, 27757: 2.0, 27776: 1.0, 27778: 5.0, 27796: 1.0, 27803: 1.0, 27806: 1.0, 27807: 1.0, 27843: 13.0, 27846: 1.0, 27847: 1.0, 27859: 1.0, 27865: 1.0, 27882: 1.0, 27912: 2.0, 27921: 1.0, 27929: 1.0, 27942: 6.0, 27951: 13.0, 27977: 1.0, 27981: 1.0, 28033: 1.0, 28035: 1.0, 28050: 6.0, 28058: 3.0, 28059: 2.0, 28073: 1.0, 28080: 1.0, 28086: 1.0, 28097: 1.0, 28099: 3.0, 28100: 1.0, 28160: 1.0, 28176: 1.0, 28195: 1.0, 28207: 1.0, 28214: 1.0, 28231: 1.0, 28240: 1.0, 28252: 1.0, 28259: 1.0, 28284: 3.0, 28288: 1.0, 28298: 1.0, 28329: 1.0, 28350: 1.0, 28357: 1.0, 28380: 2.0, 28383: 2.0, 28391: 1.0, 28417: 1.0, 28418: 9.0, 28422: 1.0, 28424: 1.0, 28442: 3.0, 28443: 1.0, 28450: 16.0, 28472: 1.0, 28476: 1.0, 28479: 1.0, 28496: 1.0, 28504: 2.0, 28547: 1.0, 28556: 2.0, 28557: 7.0, 28559: 1.0, 28563: 2.0, 28590: 1.0, 28591: 1.0, 28593: 1.0, 28628: 1.0, 28631: 1.0, 28634: 2.0, 28649: 1.0, 28658: 1.0, 28687: 14.0, 28705: 1.0, 28713: 2.0, 28714: 1.0, 28717: 1.0, 28749: 1.0, 28781: 1.0, 28791: 1.0, 28796: 1.0, 28805: 1.0, 28806: 1.0, 28807: 1.0, 28809: 1.0, 28815: 1.0, 28816: 1.0, 28824: 1.0, 28889: 8.0, 28962: 1.0, 28978: 1.0, 28983: 1.0, 28984: 1.0, 28988: 1.0, 29010: 1.0, 29025: 1.0, 29046: 1.0, 29070: 3.0, 29072: 1.0, 29083: 1.0, 29095: 2.0, 29101: 1.0, 29171: 1.0, 29187: 2.0, 29202: 1.0, 29260: 1.0, 29264: 1.0, 29268: 8.0, 29292: 1.0, 29298: 1.0, 29320: 2.0, 29375: 2.0, 29387: 1.0, 29388: 1.0, 29391: 1.0, 29392: 1.0, 29395: 1.0, 29423: 6.0, 29468: 1.0, 29512: 1.0, 29571: 2.0, 29575: 1.0, 29588: 1.0, 29619: 1.0, 29621: 9.0, 29629: 3.0, 29631: 1.0, 29637: 1.0, 29655: 1.0, 29666: 1.0, 29682: 1.0, 29688: 1.0, 29703: 1.0, 29719: 1.0, 29789: 1.0, 29796: 1.0, 29834: 1.0, 29867: 1.0, 29875: 1.0, 29878: 1.0, 29900: 1.0, 29905: 1.0, 29926: 1.0, 29937: 1.0, 29944: 9.0, 29994: 1.0, 30056: 1.0, 30076: 1.0, 30091: 2.0, 30097: 1.0, 30111: 1.0, 30145: 1.0, 30170: 1.0, 30177: 1.0, 30186: 2.0, 30191: 2.0, 30204: 1.0, 30219: 1.0, 30221: 1.0, 30283: 1.0, 30317: 1.0, 30319: 1.0, 30327: 1.0, 30331: 1.0, 30353: 2.0, 30368: 2.0, 30388: 1.0, 30396: 1.0, 30413: 1.0, 30491: 1.0, 30537: 1.0, 30552: 1.0, 30615: 1.0, 30616: 1.0, 30628: 16.0, 30643: 1.0, 30654: 2.0, 30673: 1.0, 30680: 1.0, 30681: 1.0, 30683: 2.0, 30710: 1.0, 30724: 1.0, 30726: 1.0, 30745: 1.0, 30749: 2.0, 30752: 2.0, 30754: 1.0, 30804: 1.0, 30820: 1.0, 30824: 1.0, 30855: 1.0, 30890: 1.0, 30913: 1.0, 30973: 2.0, 31040: 1.0, 31052: 1.0, 31065: 1.0, 31088: 2.0, 31090: 1.0, 31118: 1.0, 31141: 1.0, 31166: 1.0, 31188: 1.0, 31192: 1.0, 31273: 1.0, 31363: 2.0, 31372: 1.0, 31379: 1.0, 31390: 1.0, 31394: 1.0, 31401: 1.0, 31406: 1.0, 31431: 1.0, 31470: 1.0, 31503: 1.0, 31621: 1.0, 31644: 3.0, 31664: 1.0, 31668: 1.0, 31670: 1.0, 31752: 1.0, 31753: 2.0, 31762: 5.0, 31767: 1.0, 31774: 1.0, 31812: 1.0, 31853: 1.0, 31860: 1.0, 31870: 1.0, 31875: 12.0, 31941: 1.0, 31996: 1.0, 32005: 26.0, 32013: 1.0, 32021: 2.0, 32087: 1.0, 32104: 1.0, 32124: 1.0, 32133: 1.0, 32144: 1.0, 32150: 1.0, 32154: 1.0, 32164: 2.0, 32176: 3.0, 32195: 1.0, 32219: 1.0, 32231: 1.0, 32281: 2.0, 32309: 4.0, 32313: 2.0, 32317: 1.0, 32327: 1.0, 32333: 1.0, 32365: 1.0, 32370: 1.0, 32373: 2.0, 32376: 1.0, 32388: 1.0, 32427: 1.0, 32430: 2.0, 32467: 2.0, 32500: 1.0, 32507: 1.0, 32558: 1.0, 32568: 1.0, 32579: 2.0, 32595: 4.0, 32636: 1.0, 32643: 1.0, 32671: 2.0, 32677: 2.0, 32697: 2.0, 32738: 1.0, 32742: 1.0, 32747: 3.0, 32752: 1.0, 32778: 1.0, 32794: 1.0, 32827: 13.0, 32846: 2.0, 32910: 1.0, 32927: 3.0, 32929: 1.0, 32955: 1.0, 32981: 12.0, 32982: 4.0, 33026: 2.0, 33029: 1.0, 33038: 7.0, 33084: 1.0, 33102: 2.0, 33129: 1.0, 33149: 1.0, 33153: 1.0, 33173: 1.0, 33190: 1.0, 33216: 1.0, 33220: 1.0, 33280: 1.0, 33286: 1.0, 33346: 1.0, 33359: 1.0, 33399: 1.0, 33443: 1.0, 33450: 1.0, 33461: 1.0, 33482: 1.0, 33523: 2.0, 33527: 1.0, 33541: 3.0, 33562: 1.0, 33579: 1.0, 33617: 1.0, 33648: 1.0, 33655: 1.0, 33663: 1.0, 33687: 2.0, 33712: 1.0, 33737: 1.0, 33743: 1.0, 33747: 1.0, 33789: 1.0, 33792: 1.0, 33801: 1.0, 33804: 2.0, 33808: 1.0, 33812: 1.0, 33825: 1.0, 33838: 1.0, 33918: 4.0, 34010: 1.0, 34011: 3.0, 34013: 2.0, 34047: 1.0, 34072: 2.0, 34085: 1.0, 34110: 1.0, 34140: 1.0, 34145: 1.0, 34151: 1.0, 34231: 1.0, 34239: 9.0, 34283: 2.0, 34310: 1.0, 34369: 1.0, 34383: 1.0, 34397: 1.0, 34431: 1.0, 34462: 1.0, 34498: 2.0, 34602: 2.0, 34604: 1.0, 34655: 1.0, 34693: 1.0, 34694: 1.0, 34752: 1.0, 34758: 3.0, 34776: 1.0, 34798: 1.0, 34815: 2.0, 34817: 1.0, 34834: 3.0, 34904: 1.0, 34929: 10.0, 34936: 1.0, 34962: 1.0, 35000: 1.0, 35026: 2.0, 35029: 1.0, 35057: 2.0, 35105: 1.0, 35110: 3.0, 35119: 1.0, 35145: 1.0, 35154: 1.0, 35227: 2.0, 35229: 1.0, 35274: 1.0, 35279: 1.0, 35288: 2.0, 35292: 1.0, 35299: 1.0, 35321: 1.0, 35342: 1.0, 35343: 1.0, 35346: 1.0, 35359: 2.0, 35437: 1.0, 35462: 1.0, 35464: 1.0, 35491: 3.0, 35532: 1.0, 35584: 2.0, 35603: 13.0, 35618: 2.0, 35701: 1.0, 35709: 1.0, 35728: 1.0, 35734: 1.0, 35799: 1.0, 35812: 1.0, 35816: 3.0, 35824: 1.0, 35840: 1.0, 35849: 2.0, 35865: 1.0, 35896: 1.0, 35927: 1.0, 35973: 2.0, 36012: 1.0, 36024: 2.0, 36027: 1.0, 36046: 3.0, 36094: 1.0, 36098: 5.0, 36124: 2.0, 36174: 4.0, 36181: 2.0, 36195: 3.0, 36212: 1.0, 36225: 1.0, 36230: 1.0, 36243: 1.0, 36291: 1.0, 36295: 1.0, 36299: 46.0, 36417: 5.0, 36434: 2.0, 36474: 1.0, 36489: 1.0, 36530: 1.0, 36567: 2.0, 36576: 2.0, 36577: 1.0, 36602: 3.0, 36604: 1.0, 36617: 10.0, 36618: 1.0, 36649: 1.0, 36654: 1.0, 36687: 2.0, 36707: 1.0, 36745: 1.0, 36831: 2.0, 36848: 1.0, 36888: 1.0, 36894: 1.0, 36913: 1.0, 36936: 1.0, 36946: 1.0, 37011: 1.0, 37035: 1.0, 37058: 2.0, 37077: 5.0, 37097: 1.0, 37104: 3.0, 37108: 1.0, 37126: 1.0, 37229: 2.0, 37246: 1.0, 37283: 1.0, 37293: 12.0, 37319: 1.0, 37325: 2.0, 37352: 2.0, 37399: 1.0, 37437: 2.0, 37471: 1.0, 37497: 1.0, 37501: 1.0, 37502: 18.0, 37617: 1.0, 37693: 1.0, 37714: 1.0, 37724: 1.0, 37749: 1.0, 37789: 1.0, 37814: 1.0, 37954: 1.0, 38174: 2.0, 38251: 1.0, 38254: 2.0, 38263: 1.0, 38305: 1.0, 38349: 2.0, 38369: 1.0, 38495: 2.0, 38497: 3.0, 38498: 3.0, 38510: 1.0, 38564: 1.0, 38565: 1.0, 38598: 2.0, 38599: 4.0, 38652: 4.0, 38705: 1.0, 38718: 2.0, 38750: 1.0, 38807: 8.0, 38837: 1.0, 38846: 1.0, 38918: 3.0, 38975: 2.0, 38980: 1.0, 38990: 1.0, 39036: 1.0, 39076: 1.0, 39165: 5.0, 39261: 1.0, 39264: 1.0, 39292: 1.0, 39306: 1.0, 39364: 1.0, 39391: 1.0, 39453: 1.0, 39458: 2.0, 39483: 1.0, 39500: 3.0, 39505: 1.0, 39519: 1.0, 39521: 1.0, 39572: 2.0, 39585: 1.0, 39644: 1.0, 39653: 1.0, 39721: 1.0, 39731: 1.0, 39754: 1.0, 39781: 2.0, 39815: 1.0, 39847: 1.0, 39870: 1.0, 39885: 1.0, 39897: 2.0, 39913: 1.0, 39946: 1.0, 39960: 1.0, 39962: 2.0, 40025: 1.0, 40030: 1.0, 40059: 1.0, 40094: 5.0, 40113: 1.0, 40178: 1.0, 40189: 1.0, 40221: 1.0, 40246: 1.0, 40251: 1.0, 40328: 1.0, 40484: 1.0, 40580: 1.0, 40625: 6.0, 40665: 1.0, 40714: 1.0, 40715: 1.0, 40755: 1.0, 40759: 1.0, 40775: 1.0, 40777: 1.0, 40787: 3.0, 40898: 1.0, 40915: 1.0, 40931: 1.0, 41000: 3.0, 41001: 1.0, 41007: 2.0, 41016: 1.0, 41018: 1.0, 41087: 1.0, 41188: 1.0, 41240: 1.0, 41294: 1.0, 41318: 1.0, 41377: 1.0, 41445: 1.0, 41457: 2.0, 41488: 2.0, 41512: 1.0, 41540: 1.0, 41601: 1.0, 41635: 1.0, 41674: 1.0, 41683: 1.0, 41704: 2.0, 41708: 1.0, 41710: 1.0, 41770: 1.0, 41836: 1.0, 41850: 1.0, 41876: 1.0, 41888: 1.0, 41907: 1.0, 41917: 1.0, 41994: 1.0, 42010: 1.0, 42043: 1.0, 42061: 5.0, 42083: 1.0, 42098: 1.0, 42120: 1.0, 42134: 1.0, 42156: 2.0, 42203: 2.0, 42255: 1.0, 42260: 2.0, 42297: 1.0, 42298: 1.0, 42458: 1.0, 42480: 1.0, 42502: 1.0, 42520: 1.0, 42603: 1.0, 42664: 1.0, 42673: 1.0, 42686: 1.0, 42726: 1.0, 42738: 1.0, 42835: 1.0, 42867: 1.0, 42876: 4.0, 42880: 1.0, 42893: 4.0, 42903: 1.0, 42928: 1.0, 42929: 1.0, 43004: 1.0, 43025: 1.0, 43040: 1.0, 43095: 1.0, 43111: 1.0, 43114: 1.0, 43142: 1.0, 43168: 1.0, 43260: 1.0, 43284: 1.0, 43293: 1.0, 43333: 1.0, 43374: 1.0, 43404: 1.0, 43451: 2.0, 43516: 2.0, 43524: 1.0, 43535: 11.0, 43555: 1.0, 43617: 1.0, 43631: 1.0, 43654: 1.0, 43675: 1.0, 43809: 1.0, 43971: 1.0, 43976: 2.0, 44028: 2.0, 44124: 1.0, 44154: 2.0, 44171: 1.0, 44208: 2.0, 44214: 1.0, 44356: 1.0, 44382: 1.0, 44389: 1.0, 44506: 1.0, 44513: 1.0, 44558: 2.0, 44595: 1.0, 44621: 1.0, 44665: 1.0, 44724: 1.0, 44748: 1.0, 44769: 2.0, 44805: 1.0, 44808: 1.0, 44927: 1.0, 44941: 2.0, 45032: 1.0, 45084: 1.0, 45087: 1.0, 45257: 2.0, 45339: 1.0, 45355: 1.0, 45379: 1.0, 45412: 2.0, 45464: 1.0, 45469: 1.0, 45484: 1.0, 45488: 2.0, 45638: 1.0, 45755: 1.0, 45777: 1.0, 45820: 1.0, 45841: 2.0, 45979: 2.0, 45995: 1.0, 46006: 1.0, 46050: 1.0, 46074: 1.0, 46146: 2.0, 46149: 1.0, 46233: 1.0, 46245: 2.0, 46254: 1.0, 46259: 1.0, 46281: 1.0, 46357: 1.0, 46563: 1.0, 46774: 1.0, 46805: 1.0, 46823: 2.0, 46871: 1.0, 46997: 1.0, 47010: 1.0, 47043: 1.0, 47051: 1.0, 47127: 10.0, 47133: 1.0, 47135: 3.0, 47190: 1.0, 47225: 1.0, 47267: 1.0, 47369: 4.0, 47426: 1.0, 47534: 1.0, 47631: 1.0, 47647: 1.0, 47650: 2.0, 47688: 1.0, 47735: 1.0, 47865: 1.0, 47900: 1.0, 47939: 1.0, 48007: 1.0, 48115: 1.0, 48142: 1.0, 48149: 1.0, 48162: 1.0, 48219: 1.0, 48269: 1.0, 48403: 1.0, 48443: 1.0, 48495: 1.0, 48517: 3.0, 48552: 2.0, 48588: 14.0, 48594: 1.0, 48645: 1.0, 48671: 3.0, 48719: 1.0, 48738: 1.0, 48763: 1.0, 48797: 4.0, 48848: 1.0, 48928: 1.0, 48999: 1.0, 49066: 1.0, 49077: 2.0, 49152: 1.0, 49234: 1.0, 49332: 2.0, 49341: 1.0, 49430: 1.0, 49522: 1.0, 49545: 1.0, 49564: 1.0, 49580: 1.0, 49584: 1.0, 49587: 5.0, 49605: 1.0, 49630: 1.0, 49772: 1.0, 49785: 2.0, 49811: 1.0, 49829: 5.0, 49938: 2.0, 49952: 3.0, 50203: 1.0, 50228: 1.0, 50451: 2.0, 50455: 1.0, 50495: 1.0, 50594: 7.0, 50605: 1.0, 50736: 1.0, 50746: 1.0, 50794: 1.0, 50904: 1.0, 50947: 1.0, 50988: 1.0, 51142: 1.0, 51500: 1.0, 51542: 1.0, 51560: 1.0, 51611: 1.0, 51620: 1.0, 51660: 1.0, 51864: 3.0, 51909: 1.0, 51941: 1.0, 52045: 1.0, 52091: 1.0, 52168: 1.0, 52274: 1.0, 52322: 2.0, 52368: 1.0, 52420: 1.0, 52475: 2.0, 52566: 1.0, 52612: 3.0, 52613: 1.0, 52719: 1.0, 52747: 4.0, 52780: 4.0, 53044: 1.0, 53120: 1.0, 53131: 1.0, 53136: 1.0, 53172: 1.0, 53257: 1.0, 53369: 1.0, 53431: 1.0, 53509: 1.0, 53533: 1.0, 53608: 1.0, 53647: 1.0, 53692: 1.0, 53749: 1.0, 53809: 1.0, 54014: 4.0, 54089: 1.0, 54127: 1.0, 54185: 1.0, 54206: 1.0, 54271: 1.0, 54282: 1.0, 54395: 1.0, 54470: 3.0, 54478: 1.0, 54647: 1.0, 54744: 1.0, 54769: 1.0, 54798: 1.0, 54944: 1.0, 54959: 1.0, 55008: 1.0, 55035: 1.0, 55118: 1.0, 55164: 1.0, 55281: 1.0, 55319: 1.0, 55491: 1.0, 55524: 2.0, 55538: 1.0, 55559: 3.0, 55570: 1.0, 55579: 1.0, 55670: 2.0, 55673: 1.0, 55680: 1.0, 55691: 1.0, 55714: 1.0, 55803: 2.0, 55930: 6.0, 55955: 1.0, 56051: 1.0, 56077: 1.0, 56154: 1.0, 56160: 8.0, 56189: 1.0, 56204: 1.0, 56264: 1.0, 56299: 1.0, 56375: 4.0, 56418: 9.0, 56511: 1.0, 56645: 1.0, 56799: 1.0, 56949: 1.0, 56953: 1.0, 56969: 1.0, 57099: 1.0, 57106: 1.0, 57113: 1.0, 57171: 1.0, 57454: 1.0, 57532: 1.0, 57590: 1.0, 57602: 4.0, 57639: 2.0, 57721: 1.0, 57821: 2.0, 57833: 1.0, 57836: 1.0, 57921: 1.0, 57996: 1.0, 58133: 1.0, 58432: 1.0, 58493: 1.0, 58610: 1.0, 58777: 1.0, 58869: 1.0, 58905: 1.0, 59096: 1.0, 59335: 1.0, 59342: 2.0, 59591: 1.0, 59609: 3.0, 59671: 4.0, 59758: 1.0, 59866: 2.0, 59960: 1.0, 59994: 3.0, 60276: 1.0, 60375: 1.0, 60534: 1.0, 60538: 1.0, 60763: 1.0, 60944: 1.0, 61172: 4.0, 61190: 1.0, 61452: 1.0, 61631: 1.0, 61731: 1.0, 61732: 1.0, 61793: 1.0, 61860: 1.0, 61887: 1.0, 61889: 1.0, 61934: 4.0, 61949: 1.0, 61987: 1.0, 62167: 1.0, 62294: 1.0, 62429: 1.0, 62512: 1.0, 62522: 1.0, 62685: 2.0, 62972: 1.0, 62975: 1.0, 63067: 1.0, 63227: 1.0, 63329: 1.0, 63394: 1.0, 63396: 3.0, 63426: 2.0, 63451: 1.0, 63475: 6.0, 63743: 1.0, 63999: 2.0, 64111: 3.0, 64126: 2.0, 64164: 4.0, 64302: 1.0, 64311: 1.0, 64343: 1.0, 64363: 1.0, 64435: 1.0, 64455: 1.0, 64807: 1.0, 65308: 2.0, 65415: 1.0, 65602: 1.0, 66082: 1.0, 66089: 1.0, 66092: 1.0, 66122: 1.0, 66126: 1.0, 66148: 49.0, 66192: 5.0, 66207: 2.0, 66298: 1.0, 66308: 2.0, 66503: 1.0, 66516: 1.0, 66589: 1.0, 66608: 1.0, 66749: 1.0, 66756: 2.0, 66815: 1.0, 66876: 1.0, 67105: 1.0, 67113: 1.0, 67214: 1.0, 67390: 1.0, 67456: 1.0, 67546: 1.0, 67572: 1.0, 67602: 1.0, 67874: 1.0, 68262: 1.0, 68280: 2.0, 68376: 1.0, 68738: 1.0, 68754: 4.0, 68771: 1.0, 68789: 1.0, 69245: 1.0, 69422: 1.0, 69532: 1.0, 69598: 2.0, 69611: 1.0, 69629: 1.0, 69787: 1.0, 69801: 1.0, 69915: 1.0, 69958: 1.0, 70036: 1.0, 70101: 1.0, 70125: 1.0, 70579: 2.0, 70703: 1.0, 70789: 2.0, 70973: 1.0, 71188: 1.0, 71320: 1.0, 71642: 1.0, 71755: 2.0, 71891: 2.0, 72089: 1.0, 72116: 1.0, 72190: 1.0, 72269: 1.0, 72368: 1.0, 72411: 1.0, 72492: 1.0, 72607: 1.0, 72629: 4.0, 73261: 1.0, 73481: 1.0, 73523: 1.0, 73614: 1.0, 73680: 1.0, 73826: 1.0, 73860: 1.0, 73945: 1.0, 74048: 1.0, 74125: 1.0, 74127: 1.0, 74235: 1.0, 74241: 13.0, 74425: 2.0, 74502: 1.0, 74580: 1.0, 74862: 1.0, 75017: 1.0, 75132: 1.0, 75408: 2.0, 75503: 1.0, 75560: 2.0, 75644: 1.0, 75902: 2.0, 76003: 2.0, 76015: 2.0, 76448: 1.0, 76460: 2.0, 76588: 1.0, 76795: 2.0, 76836: 1.0, 76881: 2.0, 77024: 3.0, 77044: 1.0, 77185: 1.0, 77340: 1.0, 77502: 1.0, 77602: 1.0, 77647: 1.0, 77941: 1.0, 78067: 2.0, 78086: 1.0, 78091: 1.0, 78278: 1.0, 78297: 1.0, 78709: 2.0, 78877: 1.0, 78918: 2.0, 78993: 1.0, 78999: 1.0, 79064: 1.0, 79083: 1.0, 79117: 1.0, 79351: 1.0, 79931: 1.0, 80060: 3.0, 80194: 3.0, 80323: 1.0, 80537: 3.0, 80938: 1.0, 81014: 3.0, 81036: 1.0, 81060: 1.0, 81159: 1.0, 81197: 1.0, 81230: 1.0, 81855: 2.0, 81953: 1.0, 82121: 1.0, 82137: 5.0, 82322: 1.0, 82481: 1.0, 82738: 1.0, 83391: 1.0, 84107: 1.0, 84122: 1.0, 84521: 1.0, 84669: 2.0, 84814: 1.0, 84819: 1.0, 84916: 1.0, 85064: 1.0, 85281: 1.0, 85563: 1.0, 85607: 1.0, 86516: 1.0, 86710: 1.0, 86751: 1.0, 86846: 1.0, 86850: 1.0, 86910: 1.0, 87033: 1.0, 87079: 2.0, 87132: 1.0, 87333: 4.0, 87362: 1.0, 87433: 7.0, 87678: 1.0, 88045: 1.0, 88211: 2.0, 88265: 3.0, 88306: 1.0, 88434: 2.0, 88439: 1.0, 88474: 1.0, 88702: 1.0, 88720: 1.0, 88771: 1.0, 88983: 1.0, 88990: 6.0, 89065: 1.0, 89075: 5.0, 89079: 1.0, 89159: 1.0, 89249: 1.0, 89322: 1.0, 89483: 2.0, 89528: 5.0, 89619: 3.0, 90176: 1.0, 90365: 1.0, 90490: 1.0, 90538: 1.0, 90617: 1.0, 90999: 2.0, 91303: 1.0, 91323: 1.0, 91459: 1.0, 91624: 2.0, 92270: 1.0, 92609: 1.0, 92625: 1.0, 92643: 1.0, 92783: 1.0, 93124: 1.0, 93142: 1.0, 93149: 3.0, 93312: 3.0, 93452: 1.0, 93667: 3.0, 93841: 1.0, 94063: 1.0, 94216: 1.0, 94529: 1.0, 94823: 3.0, 94873: 1.0, 94978: 2.0, 95195: 1.0, 95273: 1.0, 95279: 3.0, 95565: 2.0, 95922: 2.0, 95954: 1.0, 96224: 1.0, 96485: 1.0, 96613: 2.0, 97072: 1.0, 97093: 1.0, 97408: 1.0, 97422: 1.0, 97574: 1.0, 97772: 1.0, 97896: 1.0, 98046: 2.0, 98149: 1.0, 98189: 2.0, 98293: 1.0, 98326: 2.0, 98405: 1.0, 98591: 1.0, 98913: 1.0, 99077: 2.0, 99310: 1.0, 99714: 1.0, 99807: 1.0, 99923: 1.0, 99930: 3.0}))"
      ]
     },
     "execution_count": 68,
     "metadata": {},
     "output_type": "execute_result"
    }
   ],
   "source": [
    "vector_rdd.first()"
   ]
  },
  {
   "cell_type": "code",
   "execution_count": 69,
   "metadata": {
    "collapsed": false
   },
   "outputs": [
    {
     "data": {
      "text/plain": [
       "27524"
      ]
     },
     "execution_count": 69,
     "metadata": {},
     "output_type": "execute_result"
    }
   ],
   "source": [
    "# make sure the transformation can be carried out for all elements by using count\n",
    "# this is a good way of catching anomalies in the data\n",
    "vector_rdd.count()"
   ]
  },
  {
   "cell_type": "markdown",
   "metadata": {},
   "source": [
    "## Perform the aggregation\n",
    "\n",
    "We now have the entire Gutenberg English book corpus in the form of sparse vectors encoding the most used 100k words. \n",
    "\n",
    "To get the yearly sums, we will turn the metadata of each document into its publication year (i.e. the key will be the year, the value is the vector) and then do an aggregation by year. \n",
    "\n",
    "We will use the powerful [`treeAggregate`](http://spark.apache.org/docs/latest/api/python/pyspark.html?highlight=values#pyspark.RDD.treeAggregate) method, which requires that we specify three different components:\n",
    "\n",
    "1. the starting aggregate\n",
    "2. a function that adds a new value to the aggregate \n",
    "3. a function that adds together two aggregates\n",
    "\n",
    "The way `treeAggregate` works is that it performs the reduction in a tree pattern in order to minimize the strain on the driver. In a \"normal\" reduction, the workers send their results to the driver, which is tasked with putting it all together -- however, if these partial results are large (as is potentially the case here) then the driver can run into memory issues. Furthermore, most of the cluster is sitting idle while the driver performs the aggregation. `treeAggregate` fixes this by performing partial aggregations on the workers and only sending the final stages to the driver. See this [blog post](https://databricks.com/blog/2014/09/22/spark-1-1-mllib-performance-improvements.html) for a bit more description of this method. \n",
    "\n",
    "The aggregation methods are powerful because the \"aggregate\" can be any object -- we can write a class that gets passed around to do the aggregation, for example. Aggregation methods are more general reduction methods because they allow you to change the type of the variables -- in our case here, we are converting the data `(year, vector)` tuples into a dictionary of arrays. \n",
    "\n",
    "Below, we will use an instance of a dictionary as the aggregation object and define two functions that will do the actual aggregation. "
   ]
  },
  {
   "cell_type": "code",
   "execution_count": 76,
   "metadata": {
    "collapsed": true
   },
   "outputs": [],
   "source": [
    "def add_vector(d, data_tuple) : \n",
    "    \"\"\"Add a new vector to the aggregation dictionary\n",
    "    \n",
    "    The vectors in the aggregation dictionary are dense since for most years we can expect that \n",
    "    this will be the case anyway. Note that we use 32-bit floats to save a bit on memory. \n",
    "    \n",
    "    Arguments: \n",
    "        d: the aggregation dictionary\n",
    "        \n",
    "        data_tuple: the (year, vec) tuple\n",
    "        \n",
    "    Returns: \n",
    "        the updated aggregation dictionary \n",
    "    \"\"\"\n",
    "    # expand the data tuple\n",
    "    year, vec = data_tuple\n",
    "    \n",
    "    if year in d : \n",
    "        \n",
    "        d[year][vec.indices] += vec.values\n",
    "    else :\n",
    "        # this is the first time we've encountered this year --> make an empty vector \n",
    "        new_vec = np.zeros(vec.size, dtype=np.float32)\n",
    "        \n",
    "        # now put in the contents of the current vector\n",
    "        new_vec[vec.indices] = vec.values\n",
    "        \n",
    "        # create the year in the dictionary\n",
    "        d[year] = new_vec\n",
    "        \n",
    "    return d\n",
    "\n",
    "def add_dicts(d1, d2) : \n",
    "    \"\"\"Add two dictionaries together\n",
    "    \n",
    "    Arguments: \n",
    "        d1: first dictionary\n",
    "        \n",
    "        d2: second dictionary\n",
    "        \n",
    "    Returns: \n",
    "        merged dictionaries\n",
    "    \"\"\"\n",
    "    \n",
    "    # iterate through all the items in the second dictionary\n",
    "    for year, vec in d2.iteritems() : \n",
    "        # if this year is also in d1, add the vectors together\n",
    "        if year in d1 : \n",
    "            d1[year] += vec\n",
    "        # if not, create a new year entry in d1\n",
    "        else : \n",
    "            d1[year] = vec\n",
    "    return d1"
   ]
  },
  {
   "cell_type": "markdown",
   "metadata": {},
   "source": [
    "Now we create an RDD of `(year, vec)` pairs:"
   ]
  },
  {
   "cell_type": "code",
   "execution_count": 77,
   "metadata": {
    "collapsed": true
   },
   "outputs": [],
   "source": [
    "year_vec = vector_rdd.map(lambda (gid, vec): (publication_year(gid), vec))"
   ]
  },
  {
   "cell_type": "markdown",
   "metadata": {},
   "source": [
    "Before we perform the aggregation, we can do one final bit of optimization. Passing around dictionaries full of large arrays can get expensive very quickly. The memory footprint of our partial results will depend on how heterogeneous the years on each partition or group of partitions are: if most of the data on a partition is for the same key (year in this case) then the dictionary we create on that partition will only contain a handful of vectors.  We can control this by first partitioning the RDD in a way that groups data with the same keys onto the same partitions. \n",
    "\n",
    "Spark provides a `partitionBy` method that does exactly this -- by default, it uses a hash function to map the keys to partitions, but you can also pass a custom partitioner if you want. If you look at the Spark UI after executing the next cell, you'll see that the partition step caused some shuffling of data, but that the aggregation itself ran very quickly and with minimal data movement. "
   ]
  },
  {
   "cell_type": "code",
   "execution_count": 78,
   "metadata": {
    "collapsed": true
   },
   "outputs": [],
   "source": [
    "n_partitions = year_vec.getNumPartitions()"
   ]
  },
  {
   "cell_type": "code",
   "execution_count": 83,
   "metadata": {
    "collapsed": true
   },
   "outputs": [],
   "source": [
    "# TODO: use an empty dictionary and the two functions defined above as arguments to the treeAggregate method\n",
    "year_sums = (year_vec.partitionBy(n_partitions)\n",
    "                     .treeAggregate(dict(), add_vector, add_dicts))"
   ]
  },
  {
   "cell_type": "markdown",
   "metadata": {},
   "source": [
    "Note that `year_sums` is a single \"value\", in this case our aggregate dictionary containing years as keys and vectors representing cummulative word counts as values. "
   ]
  },
  {
   "cell_type": "code",
   "execution_count": 84,
   "metadata": {
    "collapsed": false
   },
   "outputs": [
    {
     "data": {
      "text/plain": [
       "[(92, array([  58.,   98.,  124., ...,    0.,    0.,    0.], dtype=float32)),\n",
       " (93, array([ 19.,  19.,  48., ...,   0.,   0.,   0.], dtype=float32)),\n",
       " (99, array([ 111.,  136.,  199., ...,    0.,    0.,    0.], dtype=float32)),\n",
       " (163, array([ 38.,  35.,  66., ...,   0.,   0.,   0.], dtype=float32)),\n",
       " (164, array([  47.,  359.,  153., ...,    0.,    0.,    0.], dtype=float32)),\n",
       " (165, array([  47.,  381.,  139., ...,    0.,    0.,    0.], dtype=float32)),\n",
       " (166, array([ 30.,  38.,  37., ...,   0.,   0.,   0.], dtype=float32)),\n",
       " (392, array([ 131.,  249.,  227., ...,    0.,    0.,    0.], dtype=float32)),\n",
       " (393, array([ 26.,  42.,  10., ...,   0.,   0.,   0.], dtype=float32)),\n",
       " (403, array([ 0.,  1.,  1., ...,  0.,  0.,  0.], dtype=float32))]"
      ]
     },
     "execution_count": 84,
     "metadata": {},
     "output_type": "execute_result"
    }
   ],
   "source": [
    "list(year_sums.iteritems())[0:10]"
   ]
  },
  {
   "cell_type": "markdown",
   "metadata": {},
   "source": [
    "## Gutenberg Project N-gram viewer\n",
    "\n",
    "Lets plot some results!\n",
    "\n",
    "Below we define a plotting function and then make a plot of some interesting examples -- feel free to change the word list..."
   ]
  },
  {
   "cell_type": "code",
   "execution_count": 87,
   "metadata": {
    "collapsed": true
   },
   "outputs": [],
   "source": [
    "def plot_usage_frequency(words, year_data, word_lookup, plot_range = [1500,2015]) : \n",
    "    years = sorted(year_data.keys())\n",
    "    tot_count = np.array([year_data[year].sum() for year in years])\n",
    "    \n",
    "    if ',' in words:\n",
    "        words = [word.strip() for word in words.split(',')]\n",
    "    elif type(words) is not list: \n",
    "        words = [words]\n",
    "    \n",
    "    n_words = len(words)\n",
    "        \n",
    "    for i, word in enumerate(words) : \n",
    "        word_ind = word_lookup[word]\n",
    "        w_count = np.array([year_data[year][word_ind] for year in years])\n",
    "        \n",
    "        plt.plot(years, smooth(w_count/(tot_count-w_count)),label=word, color = plt.cm.Set1(1.*i/n_words))\n",
    "    \n",
    "    plt.xlim(plot_range)\n",
    "    plt.xlabel('year')\n",
    "    plt.ylabel('relative frequency')\n",
    "    plt.legend(loc='upper left', fontsize = 'small')\n",
    "    \n",
    "    \n",
    "def smooth(x,window_len=11,window='hanning'):\n",
    "        if x.ndim != 1:\n",
    "                raise ValueError, \"smooth only accepts 1 dimension arrays.\"\n",
    "        if x.size < window_len:\n",
    "                raise ValueError, \"Input vector needs to be bigger than window size.\"\n",
    "        if window_len<3:\n",
    "                return x\n",
    "        if not window in ['flat', 'hanning', 'hamming', 'bartlett', 'blackman']:\n",
    "                raise ValueError, \"Window is on of 'flat', 'hanning', 'hamming', 'bartlett', 'blackman'\"\n",
    "        s=np.r_[2*x[0]-x[window_len-1::-1],x,2*x[-1]-x[-1:-window_len:-1]]\n",
    "        if window == 'flat': #moving average\n",
    "                w=np.ones(window_len,'d')\n",
    "        else:  \n",
    "                w=eval('np.'+window+'(window_len)')\n",
    "        y=np.convolve(w/w.sum(),s,mode='same')\n",
    "        return y[window_len:-window_len+1]\n",
    "\n",
    "from ipywidgets import interact, interactive, fixed\n",
    "import ipywidgets as widgets\n",
    "\n",
    "plot_partial = lambda words: plot_usage_frequency(words, year_sums, word_lookup)"
   ]
  },
  {
   "cell_type": "markdown",
   "metadata": {},
   "source": [
    "Here are just some illustrative examples -- feel free to try your own..."
   ]
  },
  {
   "cell_type": "code",
   "execution_count": 88,
   "metadata": {
    "collapsed": false,
    "scrolled": false
   },
   "outputs": [
    {
     "data": {
      "image/png": "[encoded data removed]",
      "text/plain": [
       "<matplotlib.figure.Figure at 0x2ad22a42a710>"
      ]
     },
     "metadata": {},
     "output_type": "display_data"
    }
   ],
   "source": [
    "interact(plot_partial, words = 'giveth, environment, machine');"
   ]
  },
  {
   "cell_type": "markdown",
   "metadata": {},
   "source": [
    "If you are very motivated, you can adapt the workflow above to work with higher-order n-grams and allow for the lookup of phrases (i.e. \"world war\") instead of just single words. To do this, you have to create a new `word_lookup` table and regenerate the vectors. Since single words (i.e. one-grams) will dominate, it might make sense to build separate list of top N-grams (top two-grams, top three-grams) and then merge them together into a vocabulary map. Beware that the size of the data will increase quickly for N > 1!"
   ]
  },
  {
   "cell_type": "code",
   "execution_count": 89,
   "metadata": {
    "collapsed": true
   },
   "outputs": [],
   "source": [
    "sc.stop()"
   ]
  },
  {
   "cell_type": "markdown",
   "metadata": {},
   "source": [
    "To continue the exploration of the Gutenberg books corpus, you can move on to the [language classification notebook](part3-lang-classification-SOLUTIONS.ipynb)."
   ]
  },
  {
   "cell_type": "code",
   "execution_count": 1,
   "metadata": {
    "collapsed": true
   },
   "outputs": [],
   "source": [
    "from __future__ import print_function\n",
    "%matplotlib inline\n",
    "import matplotlib.pylab as plt\n",
    "import sys, os, glob\n",
    "import numpy as np\n",
    "import subprocess\n",
    "\n",
    "from ipywidgets import interact, interactive, fixed\n",
    "import ipywidgets as widgets\n",
    "\n",
    "from IPython.display import HTML\n",
    "import xml.etree.ElementTree as ET\n",
    "try:\n",
    "    tree = ET.parse(os.environ['HADOOP_CONF_DIR'] + '/yarn-site.xml')\n",
    "except IOError:\n",
    "    raise IOError(\"Can't find the yarn configuration -- is HADOOP_CONF_DIR set?\")\n",
    "root = tree.getroot()\n",
    "yarn_web_app = root.findall(\"./property[name='yarn.resourcemanager.webapp.address']\")[0].find('value').text\n",
    "yarn_web_app_string = \"If this works successfully, you can check the <a target='_blank' href='http://{yarn_web_app}'>YARN application scheduler</a> and you should see your app listed there. Clicking on the 'Application Master' link will bring up the familiar Spark Web UI. \"\n",
    "\n",
    "plt.rcParams['figure.figsize'] = (10,6)\n",
    "plt.rcParams['font.size'] = 18\n",
    "plt.style.use('fivethirtyeight')"
   ]
  },
  {
   "cell_type": "markdown",
   "metadata": {},
   "source": [
    "<div class=\"alert alert-danger\">\n",
    "<h1>Create a Language Classifier</h1>\n",
    "</div>\n",
    "\n",
    "<div class=\"alert alert-success\">\n",
    "<b>The learning goals of this chapter are</b>\n",
    "<ul>\n",
    "<li> Learn about reduce, shuffles, partitioning and implications on network load </li>\n",
    "<li> Reduce network load with mapPartition </li>\n",
    "<li> Learn word vectorization methods using n-grams </li>\n",
    "<li> Learn to use treeAggregate </li>\n",
    "</ul>\n",
    "</div>"
   ]
  },
  {
   "cell_type": "markdown",
   "metadata": {},
   "source": [
    "# Analyzing the Gutenberg Books Corpus"
   ]
  },
  {
   "cell_type": "markdown",
   "metadata": {},
   "source": [
    "In this notebook, we will use the cleaned, pre-processed data that we created in the [pre-processing part](gutenberg-preprocessing-SOLUTIONS.ipynb). As a reminder, we ended up with an RDD of `(gid, text)` tuples that has been cleaned and we stored it on HDFS at `/user/<YOUR_USERNAME>/gutenberg/cleaned_rdd`. \n",
    "\n",
    "In the [first analysis notebook](gutenberg-analysis-SOLUTIONS.ipynb) we build an N-gram viewer for the gutenberg books project. Now, we will use the corpus to train a simple language classification model using [Spark's machine learning library](http://spark.apache.org/docs/latest/mllib-guide.html)."
   ]
  },
  {
   "cell_type": "markdown",
   "metadata": {},
   "source": [
    "## Set up and launch the Spark runtime\n",
    "\n",
    "Remember from the previous notebook that we have a saved configuration in `./spark_config/` -- so all we need to do is set the `SPARK_CONF_DIR` environment variable and our default configuration will be used: "
   ]
  },
  {
   "cell_type": "code",
   "execution_count": 2,
   "metadata": {
    "collapsed": true
   },
   "outputs": [],
   "source": [
    "# specify the configuration directory\n",
    "os.environ['SPARK_CONF_DIR'] = os.path.realpath('./spark_config')\n",
    "\n",
    "# how many cores do we have for the driver\n",
    "ncores = int(os.environ.get('LSB_DJOB_NUMPROC', 1)) \n",
    "\n",
    "# here we set the memory we want spark to use for the driver JVM\n",
    "os.environ['SPARK_DRIVER_MEMORY'] = '%dG'%(ncores*2*0.7)\n",
    "\n",
    "# we have to tell spark which python executable we are using\n",
    "os.environ['PYSPARK_PYTHON'] = subprocess.check_output('which python', shell=True).rstrip()\n",
    "\n",
    "import findspark\n",
    "findspark.init()\n",
    "\n",
    "import pyspark\n",
    "from pyspark import SparkConf, SparkContext"
   ]
  },
  {
   "cell_type": "code",
   "execution_count": 3,
   "metadata": {
    "collapsed": true
   },
   "outputs": [],
   "source": [
    "conf = SparkConf()\n",
    "\n",
    "sc = SparkContext(master='yarn-client', conf=conf)"
   ]
  },
  {
   "cell_type": "markdown",
   "metadata": {},
   "source": [
    "## Load the data from HDFS"
   ]
  },
  {
   "cell_type": "code",
   "execution_count": 4,
   "metadata": {
    "collapsed": true
   },
   "outputs": [],
   "source": [
    "# TODO: load cleaned_rdd from the HDFS\n",
    "cleaned_rdd = sc.pickleFile('/user/roskarr/gutenberg/cleaned_rdd').setName('cleaned_rdd').cache()"
   ]
  },
  {
   "cell_type": "markdown",
   "metadata": {},
   "source": [
    "### A brief aside - correcting for data skew\n",
    "\n",
    "Before we begin the loop-heavy analysis, we can do one more bit of optimization. Not all of the books in the corpus are the same length. This means that when we extract the ngrams, the differences will become even more pronounced. Since our basic unit of work here is a full book, this will result in uneven task execution times. Furthermore, because an individual \"task\" will actually process many books, this means that shorter books will be stuck in the queue behind longer books. \n",
    "\n",
    "To visualize this, lets count the number of characters in each partition: "
   ]
  },
  {
   "cell_type": "code",
   "execution_count": 5,
   "metadata": {
    "collapsed": true
   },
   "outputs": [],
   "source": [
    "def count_chars_in_partition(iterator): \n",
    "    \"\"\"\n",
    "    Sum up the string lengths in each partition\n",
    "    \"\"\"\n",
    "    c = 0\n",
    "    for (gid, text) in iterator: \n",
    "        c+=len(text)\n",
    "    yield c    "
   ]
  },
  {
   "cell_type": "code",
   "execution_count": 6,
   "metadata": {
    "collapsed": false
   },
   "outputs": [
    {
     "data": {
      "text/plain": [
       "<matplotlib.text.Text at 0x2b66f2051590>"
      ]
     },
     "execution_count": 6,
     "metadata": {},
     "output_type": "execute_result"
    },
    {
     "data": {
      "image/png": "[encoded data removed]",
      "text/plain": [
       "<matplotlib.figure.Figure at 0x2b66e44add90>"
      ]
     },
     "metadata": {},
     "output_type": "display_data"
    }
   ],
   "source": [
    "plt.hist(cleaned_rdd.mapPartitions(count_chars_in_partition).collect())\n",
    "plt.xlabel('Number of characters per partition')\n",
    "plt.ylabel('Number of partitions')"
   ]
  },
  {
   "cell_type": "markdown",
   "metadata": {},
   "source": [
    "It's easy to see that some of the partitions have much more data than others. You can also verify this by looking at the Spark web UI for your job and clicking on the last stage that just executed (it will be named \"collect\"). You should see something like this at the top of the page: \n",
    "\n",
    "![Task summary](../../slides/figs/summary_tasks.png)\n",
    "    \n",
    "You can see that the longest tasks are taking several times more to execute than the mean even for this extremely simple operation. The data skew is clear if you scroll down a bit more and see the actual data input into each task and sort by duration: \n",
    "\n",
    "![Task duration](../../slides/figs/task_duration.png)\n",
    "\n",
    "The longest few tasks are processing considerably more data than even the next several. Such a data skew may not matter for certain applications, but in our case we can expect it to make a difference. \n",
    "\n",
    "To try and correct it, we must first realize that for our application we have very few requirements about text order. We don't care about the order of words, as long as the documents are tagged with the correct language. So splitting a book into two and processing them out of order doesn't really matter. \n",
    "\n",
    "With this in mind, we can use a function like `chunk_text` below that creates approximately equal-sized \"blocks\" of text. The blocking means we'll get some spurious character ngrams at the beginning and end of each document, but if we block the data in large enough chunks this shouldn't matter too much."
   ]
  },
  {
   "cell_type": "code",
   "execution_count": 7,
   "metadata": {
    "collapsed": true
   },
   "outputs": [],
   "source": [
    "def chunk_text(text, block_len=10000) : \n",
    "    \"\"\"\n",
    "    Ensure that blocks of text are no larger than `block_len`.\n",
    "    \n",
    "    Arguments: \n",
    "        \n",
    "        text: the raw text string\n",
    "    \"\"\"\n",
    "    len_text = len(text)\n",
    "    \n",
    "    if len_text < block_len : \n",
    "        return text\n",
    "    else : \n",
    "        nblocks = len_text/block_len\n",
    "        return [text[i*block_len:(i+1)*block_len] for i in xrange(nblocks)]"
   ]
  },
  {
   "cell_type": "markdown",
   "metadata": {},
   "source": [
    "Now we apply this function to the `cleaned_rdd` and visualize the partition size distribution again. Since we want to keep the keys untouched, we can use the `flatMapValues` RDD method. However, since this method keeps the same data within each partition, we also need to *repartition* the data afterwards to randomize the chunk distributions. "
   ]
  },
  {
   "cell_type": "code",
   "execution_count": 8,
   "metadata": {
    "collapsed": false
   },
   "outputs": [
    {
     "data": {
      "text/plain": [
       "<matplotlib.text.Text at 0x2b66f23e24d0>"
      ]
     },
     "execution_count": 8,
     "metadata": {},
     "output_type": "execute_result"
    },
    {
     "data": {
      "image/png": "[encoded data removed]",
      "text/plain": [
       "<matplotlib.figure.Figure at 0x2b66f2045750>"
      ]
     },
     "metadata": {},
     "output_type": "display_data"
    }
   ],
   "source": [
    "plt.hist(cleaned_rdd.flatMapValues(chunk_text)\n",
    "                    .repartition(400)\n",
    "                    .mapPartitions(count_chars_in_partition)\n",
    "                    .collect())\n",
    "plt.xlabel('Number of characters per partition')\n",
    "plt.ylabel('Number of partitions')"
   ]
  },
  {
   "cell_type": "markdown",
   "metadata": {},
   "source": [
    "The distribution is now still not perfect, but we have corrected it considerably. Lets make a restructured version of the full dataset and cache it: "
   ]
  },
  {
   "cell_type": "code",
   "execution_count": 9,
   "metadata": {
    "collapsed": true
   },
   "outputs": [],
   "source": [
    "equalized_rdd = (cleaned_rdd.flatMapValues(chunk_text)\n",
    "                            .setName('equalized_rdd')\n",
    "                            .repartition(400)).cache()"
   ]
  },
  {
   "cell_type": "markdown",
   "metadata": {},
   "source": [
    "### Load in the metadata dictionary and broadcast it\n",
    "\n",
    "Just as in the previous notebook, we will load our pre-generated metadata dictionary and broadcast it to all the executors. "
   ]
  },
  {
   "cell_type": "code",
   "execution_count": 10,
   "metadata": {
    "collapsed": true
   },
   "outputs": [],
   "source": [
    "from cPickle import load\n",
    "\n",
    "with open('{home}/gutenberg_metadata.dump'.format(home=os.environ['HOME']), 'r') as f :\n",
    "    meta_dict = load(f)"
   ]
  },
  {
   "cell_type": "code",
   "execution_count": 11,
   "metadata": {
    "collapsed": true
   },
   "outputs": [],
   "source": [
    "# TODO: create meta_b by broadcasting meta_dict\n",
    "meta_b = sc.broadcast(meta_dict)"
   ]
  },
  {
   "cell_type": "markdown",
   "metadata": {},
   "source": [
    "Now, our `cleaned_rdd` contains `gid`'s as keys and text as values and if we want some other piece of metadata, we can just access it via the lookup table, for example `meta_b.value[gid][meta_name]`. "
   ]
  },
  {
   "cell_type": "markdown",
   "metadata": {},
   "source": [
    "We will use the same `extract_ngrams` and `vectorize_doc` functions as in the previous notebook: "
   ]
  },
  {
   "cell_type": "code",
   "execution_count": 38,
   "metadata": {
    "collapsed": true
   },
   "outputs": [],
   "source": [
    "from pyspark.mllib.linalg import SparseVector\n",
    "\n",
    "def extract_ngrams(tokens, ngram_range=[1,1], select_ngrams = None, ngram_type='word'):\n",
    "    \"\"\"\n",
    "    Turn tokens into a sequence of n-grams \n",
    "\n",
    "    **Inputs**:\n",
    "\n",
    "    *tokens*: a list of tokens\n",
    "\n",
    "    **Optional Keywords**:\n",
    "\n",
    "    *ngram_range*: a tuple with min, max ngram ngram_range\n",
    "    \n",
    "    *select_ngrams*: the vocabulary to use\n",
    "    \n",
    "    *ngram_type*: whether to produce word or character ngrams\n",
    "\n",
    "    **Output**\n",
    "\n",
    "    Generator yielding a list of ngrams in the desired range\n",
    "    generated from the input list of tokens\n",
    "\n",
    "    \"\"\"\n",
    "    join_str = \"\" if ngram_type=='character' else \" \"\n",
    "    \n",
    "    # handle token n-grams\n",
    "    min_n, max_n = ngram_range\n",
    "    n_tokens = len(tokens)\n",
    "    \n",
    "    for n in xrange(min_n, min(max_n + 1, n_tokens + 1)):\n",
    "        for i in xrange(n_tokens - n + 1):\n",
    "            if n == 1: \n",
    "                res = tokens[i]\n",
    "            else : \n",
    "                res = join_str.join(tokens[i: i+n])\n",
    "           \n",
    "            # if we are using a lookup vocabulary, check for membership here\n",
    "            if select_ngrams is not None : \n",
    "                if res in select_ngrams: \n",
    "                    yield res\n",
    "            else : \n",
    "                yield res\n",
    "            \n",
    "def vectorize_doc(doc, vocab, ngram_range = [1,1], ngram_type='word') : \n",
    "    \"\"\"\n",
    "    Returns a vector representation of `doc` given the reference \n",
    "    vocabulary `vocab` after tokenizing it with `tokenizer`\n",
    "    \n",
    "    Arguments: \n",
    "        \n",
    "        doc: a sequence of tokens (words or characters)\n",
    "        \n",
    "        vocab: the vocabulary mapping\n",
    "        \n",
    "    Keywords:\n",
    "    \n",
    "        ngram_range: the range of ngrams to process\n",
    "        \n",
    "        ngram_type: whether to produce character or word ngrams; default is \n",
    "        \n",
    "    Returns:\n",
    "    \n",
    "        a sparse vector representation of the document given the vocabulary mapping\n",
    "    \"\"\"\n",
    "    from collections import defaultdict\n",
    "    from scipy.sparse import csr_matrix \n",
    "        \n",
    "    # count all the word occurences \n",
    "    data = np.zeros(len(vocab))\n",
    "    \n",
    "    for ngram in extract_ngrams(doc, ngram_range, vocab, ngram_type) : \n",
    "         data[vocab[ngram]] += 1\n",
    "            \n",
    "    # only keep the nonzero indices for the sparse representation\n",
    "    #indices = data.nonzero()[0]\n",
    "    #values = data[indices]\n",
    "    \n",
    "    #return SparseVector(len(vocab), indices, values)\n",
    "    return data"
   ]
  },
  {
   "cell_type": "markdown",
   "metadata": {},
   "source": [
    "# Language classification\n",
    "\n",
    "Here we will try to use some of the same techniques we developed before, but apply them to a classification problem: determining whether a text is English or German. \n",
    "\n",
    "We will use the rather straightforward method outlined in [Cavnar & Trenkle 1994](http://odur.let.rug.nl/~vannoord/TextCat/textcat.pdf):\n",
    "\n",
    "For each of the English/German training sets:\n",
    "\n",
    "1. tokenize the text (spaces are also tokens, so we replace them with \"_\")\n",
    "2. extract N-grams where 1 < N < 5\n",
    "3. determine the most common N-grams for each corpus\n",
    "4. encode both sets of documents using the combined top ngrams\n",
    "\n",
    "\n",
    "\n",
    "In the last notebook, we used words as \"tokens\" -- now we will use characters, even accounting for white space (which we will replace with \"_\"). We will use the two example sentences again:\n",
    "\n",
    "    document 1: \"a dog bit me\"\n",
    "    document 2: \"i bit the dog back\"\n",
    "    \n",
    "First, we use the `extract_ngrams` function: "
   ]
  },
  {
   "cell_type": "code",
   "execution_count": 39,
   "metadata": {
    "collapsed": true
   },
   "outputs": [],
   "source": [
    "s1 = \"a dog bit me\"\n",
    "s2 = \"i bit the dog back\""
   ]
  },
  {
   "cell_type": "code",
   "execution_count": 40,
   "metadata": {
    "collapsed": true
   },
   "outputs": [],
   "source": [
    "ngrams1 = list(extract_ngrams(s1.replace(' ','_'), ngram_range=[1,5], ngram_type='character'))\n",
    "ngrams2 = list(extract_ngrams(s2.replace(' ','_'), ngram_range=[1,5], ngram_type='character'))"
   ]
  },
  {
   "cell_type": "code",
   "execution_count": 41,
   "metadata": {
    "collapsed": false
   },
   "outputs": [
    {
     "name": "stdout",
     "output_type": "stream",
     "text": [
      "['a', '_', 'd', 'o', 'g', '_', 'b', 'i', 't', '_', 'm', 'e', 'a_', '_d', 'do', 'og', 'g_', '_b', 'bi', 'it', 't_', '_m', 'me', 'a_d', '_do', 'dog', 'og_', 'g_b', '_bi', 'bit', 'it_', 't_m', '_me', 'a_do', '_dog', 'dog_', 'og_b', 'g_bi', '_bit', 'bit_', 'it_m', 't_me', 'a_dog', '_dog_', 'dog_b', 'og_bi', 'g_bit', '_bit_', 'bit_m', 'it_me']\n"
     ]
    }
   ],
   "source": [
    "print(list(ngrams1))"
   ]
  },
  {
   "cell_type": "markdown",
   "metadata": {
    "collapsed": true
   },
   "source": [
    "We can create the vocabulary by getting the set of all ngrams and building a lookup table:"
   ]
  },
  {
   "cell_type": "code",
   "execution_count": 42,
   "metadata": {
    "collapsed": true
   },
   "outputs": [],
   "source": [
    "vocab = set(ngrams1) | set(ngrams2)"
   ]
  },
  {
   "cell_type": "code",
   "execution_count": 43,
   "metadata": {
    "collapsed": false
   },
   "outputs": [
    {
     "name": "stdout",
     "output_type": "stream",
     "text": [
      "number of ngrams:  89\n"
     ]
    }
   ],
   "source": [
    "vocab_dict = {word:ind for ind,word in enumerate(vocab)}\n",
    "print('number of ngrams: ',len(vocab_dict))"
   ]
  },
  {
   "cell_type": "markdown",
   "metadata": {},
   "source": [
    "Note that extracting ngrams can increase the size of the data quite a lot!"
   ]
  },
  {
   "cell_type": "code",
   "execution_count": 44,
   "metadata": {
    "collapsed": false
   },
   "outputs": [
    {
     "data": {
      "text/plain": [
       "{'_': 73,\n",
       " '_b': 24,\n",
       " '_ba': 12,\n",
       " '_bac': 19,\n",
       " '_back': 27,\n",
       " '_bi': 8,\n",
       " '_bit': 29,\n",
       " '_bit_': 54,\n",
       " '_d': 23,\n",
       " '_do': 55,\n",
       " '_dog': 83,\n",
       " '_dog_': 72,\n",
       " '_m': 18,\n",
       " '_me': 84,\n",
       " '_t': 15,\n",
       " '_th': 71,\n",
       " '_the': 36,\n",
       " '_the_': 31,\n",
       " 'a': 74,\n",
       " 'a_': 66,\n",
       " 'a_d': 34,\n",
       " 'a_do': 58,\n",
       " 'a_dog': 88,\n",
       " 'ac': 5,\n",
       " 'ack': 62,\n",
       " 'b': 41,\n",
       " 'ba': 68,\n",
       " 'bac': 67,\n",
       " 'back': 25,\n",
       " 'bi': 70,\n",
       " 'bit': 37,\n",
       " 'bit_': 6,\n",
       " 'bit_m': 35,\n",
       " 'bit_t': 30,\n",
       " 'c': 75,\n",
       " 'ck': 0,\n",
       " 'd': 42,\n",
       " 'do': 26,\n",
       " 'dog': 81,\n",
       " 'dog_': 7,\n",
       " 'dog_b': 9,\n",
       " 'e': 76,\n",
       " 'e_': 64,\n",
       " 'e_d': 49,\n",
       " 'e_do': 21,\n",
       " 'e_dog': 51,\n",
       " 'g': 77,\n",
       " 'g_': 14,\n",
       " 'g_b': 59,\n",
       " 'g_ba': 63,\n",
       " 'g_bac': 22,\n",
       " 'g_bi': 65,\n",
       " 'g_bit': 3,\n",
       " 'h': 44,\n",
       " 'he': 38,\n",
       " 'he_': 4,\n",
       " 'he_d': 50,\n",
       " 'he_do': 11,\n",
       " 'i': 78,\n",
       " 'i_': 60,\n",
       " 'i_b': 57,\n",
       " 'i_bi': 28,\n",
       " 'i_bit': 85,\n",
       " 'it': 56,\n",
       " 'it_': 17,\n",
       " 'it_m': 53,\n",
       " 'it_me': 33,\n",
       " 'it_t': 43,\n",
       " 'it_th': 69,\n",
       " 'k': 79,\n",
       " 'm': 80,\n",
       " 'me': 39,\n",
       " 'o': 82,\n",
       " 'og': 47,\n",
       " 'og_': 40,\n",
       " 'og_b': 2,\n",
       " 'og_ba': 13,\n",
       " 'og_bi': 16,\n",
       " 't': 48,\n",
       " 't_': 1,\n",
       " 't_m': 61,\n",
       " 't_me': 32,\n",
       " 't_t': 87,\n",
       " 't_th': 10,\n",
       " 't_the': 52,\n",
       " 'th': 20,\n",
       " 'the': 86,\n",
       " 'the_': 46,\n",
       " 'the_d': 45}"
      ]
     },
     "execution_count": 44,
     "metadata": {},
     "output_type": "execute_result"
    }
   ],
   "source": [
    "vocab_dict"
   ]
  },
  {
   "cell_type": "markdown",
   "metadata": {},
   "source": [
    "And finally, we can use `vectorize_doc` with the vocabulary mapping to turn the documents into vectors: "
   ]
  },
  {
   "cell_type": "code",
   "execution_count": 45,
   "metadata": {
    "collapsed": false
   },
   "outputs": [
    {
     "data": {
      "text/plain": [
       "array([ 0.,  1.,  1.,  1.,  0.,  0.,  1.,  1.,  1.,  1.,  0.,  0.,  0.,\n",
       "        0.,  1.,  0.,  1.,  1.,  1.,  0.,  0.,  0.,  0.,  1.,  1.,  0.,\n",
       "        1.,  0.,  0.,  1.,  0.,  0.,  1.,  1.,  1.,  1.,  0.,  1.,  0.,\n",
       "        1.,  1.,  1.,  1.,  0.,  0.,  0.,  0.,  1.,  1.,  0.,  0.,  0.,\n",
       "        0.,  1.,  1.,  1.,  1.,  0.,  1.,  1.,  0.,  1.,  0.,  0.,  0.,\n",
       "        1.,  1.,  0.,  0.,  0.,  1.,  0.,  1.,  3.,  1.,  0.,  1.,  1.,\n",
       "        1.,  0.,  1.,  1.,  1.,  1.,  1.,  0.,  0.,  0.,  1.])"
      ]
     },
     "execution_count": 45,
     "metadata": {},
     "output_type": "execute_result"
    }
   ],
   "source": [
    "vectorize_doc(s1.replace(' ','_'), vocab_dict, ngram_range=[1,5], ngram_type='character')"
   ]
  },
  {
   "cell_type": "markdown",
   "metadata": {},
   "source": [
    "### Saving memory consumption with `mapPartitions`\n",
    "\n",
    "As you could see from the simple example of extracting ngrams from two short phrases above, by extracting the 1-5 grams from a simple 12-character string, we created a vector with 48 stored values. Our actual documents will therefore swell in size very rapidly -- we definitely don't want to be holding all of those huge lists in memory! \n",
    "\n",
    "Remember, our first goal is to get the top most-used N-grams. For this, we just need to create an RDD of N-grams and to avoid building lists we'll use the technique of generators discussed on the first day. \n",
    "\n",
    "Note that the `extract_ngrams` function above is already a generator: now we just want to make a small wrapper function that uses `extract_ngrams` to \"yield\" ngrams one by one into the RDD. \n",
    "\n",
    "A slight complication is that `mapPartitions` gives us a partition *iterator* over the data in the partition. This iterator will give us partition data one element at a time, which in this case are just the individual documents. We can pass each of these documents to `extract_ngrams`. "
   ]
  },
  {
   "cell_type": "code",
   "execution_count": 46,
   "metadata": {
    "collapsed": true
   },
   "outputs": [],
   "source": [
    "from collections import defaultdict\n",
    "\n",
    "def ngram_generator(iterator, ngram_range=[1,1], ngram_type='word') : \n",
    "    \"\"\"Take an iterator of documents and create a generator of ngrams\n",
    "    \n",
    "    Arguments:\n",
    "        \n",
    "        iterator: the document iterator\n",
    "        \n",
    "    Keywords:\n",
    "        \n",
    "        ngram_range: the range of ngrams to consider\n",
    "        \n",
    "        ngram_type: whether to extract word or character ngrams; default is word\n",
    "    \"\"\" \n",
    "    for text in iterator : \n",
    "        for ngram in extract_ngrams(text.replace(' ', '_'), ngram_range, ngram_type=ngram_type): \n",
    "            yield ngram"
   ]
  },
  {
   "cell_type": "markdown",
   "metadata": {},
   "source": [
    "We will subsample the english part of `equalized_rdd` in order to make this next set of cells complete in a reasonable amount of time -- once it's working, you can go back and do it for the full dataset, but it will take approximately 30 minutes. "
   ]
  },
  {
   "cell_type": "code",
   "execution_count": 47,
   "metadata": {
    "collapsed": true
   },
   "outputs": [],
   "source": [
    "# TODO: create english_rdd and german_rdd by filtering the sampled_rdd for 'en' and 'de' \n",
    "# Use only a 10% sample of the english documents to make the ngram extraction \n",
    "# complete in a reasonable amount of time\n",
    "\n",
    "english_rdd = (equalized_rdd.filter(lambda (gid, text): (meta_b.value[gid]['lang'] == 'en'))\n",
    "                            .sample(False, 0.1)\n",
    "                            .setName('english_rdd')).cache()\n",
    "\n",
    "german_rdd  = (equalized_rdd.filter(lambda (gid, text): (meta_b.value[gid]['lang'] == 'de'))\n",
    "                            .setName('german_rdd')).cache()\n",
    "\n",
    "ngram_range = [1,3] # should use 1-5 ngram range, but make it smaller to speed up the processing a bit"
   ]
  },
  {
   "cell_type": "markdown",
   "metadata": {},
   "source": [
    "#### Making the sets of most common english and german ngrams\n",
    "\n",
    "To build the sets of ngrams, we use the now-familiar pattern: \n",
    "\n",
    "1. map the documents in the RDDs to their constituent ngrams (here we use the mapPartition call with the `ngram_generator` defined above)\n",
    "2. do the distributed key count using the `map` --> `(key, 1)` --> `reduceByKey` pattern\n",
    "3. sort the result (in descending order) and take the top 1000 ngrams"
   ]
  },
  {
   "cell_type": "code",
   "execution_count": 23,
   "metadata": {
    "collapsed": true
   },
   "outputs": [],
   "source": [
    "# TODO: \n",
    "en_ngram_counts = (english_rdd.values()\n",
    "                               .mapPartitions(lambda it: ngram_generator(it, ngram_range, ngram_type='character'))\n",
    "                               .map(lambda ngram: (ngram,1))\n",
    "                               .reduceByKey(lambda a,b:a+b).cache())"
   ]
  },
  {
   "cell_type": "code",
   "execution_count": 24,
   "metadata": {
    "collapsed": true
   },
   "outputs": [],
   "source": [
    "# TODO\n",
    "de_ngram_counts = (german_rdd.values()\n",
    "                               .mapPartitions(lambda it: ngram_generator(it, ngram_range, ngram_type='character'))\n",
    "                               .map(lambda ngram: (ngram,1))\n",
    "                               .reduceByKey(lambda a,b:a+b).cache())"
   ]
  },
  {
   "cell_type": "code",
   "execution_count": 25,
   "metadata": {
    "collapsed": false
   },
   "outputs": [
    {
     "name": "stdout",
     "output_type": "stream",
     "text": [
      "CPU times: user 423 ms, sys: 115 ms, total: 538 ms\n",
      "Wall time: 2min 52s\n"
     ]
    }
   ],
   "source": [
    "%%time\n",
    "top_1000_en_ngrams = (en_ngram_counts.sortBy(lambda (ngram,count): count, False)\n",
    "                                     .map(lambda (ngram, count): ngram)\n",
    "                                     .take(1000))"
   ]
  },
  {
   "cell_type": "code",
   "execution_count": 26,
   "metadata": {
    "collapsed": false
   },
   "outputs": [
    {
     "name": "stdout",
     "output_type": "stream",
     "text": [
      "CPU times: user 332 ms, sys: 93 ms, total: 425 ms\n",
      "Wall time: 53.2 s\n"
     ]
    }
   ],
   "source": [
    "%%time\n",
    "top_1000_de_ngrams = (de_ngram_counts.sortBy(lambda (ngram,count): count, False)\n",
    "                                     .map(lambda (ngram, count): ngram)\n",
    "                                     .take(1000))"
   ]
  },
  {
   "cell_type": "code",
   "execution_count": 27,
   "metadata": {
    "collapsed": true
   },
   "outputs": [],
   "source": [
    "# building the top_ngrams dictionaries\n",
    "# combine the german and english ngrams\n",
    "top_ngrams = set(top_1000_de_ngrams) | set(top_1000_en_ngrams)\n",
    "\n",
    "# build the ngrams dictionary lookup\n",
    "top_ngrams_dict = {ngram:i for (i,ngram) in enumerate(top_ngrams)}\n",
    "\n",
    "# broadcast the ngrams dictionary\n",
    "top_ngrams_dict_b = sc.broadcast(top_ngrams_dict)"
   ]
  },
  {
   "cell_type": "markdown",
   "metadata": {},
   "source": [
    "### Vectorizing the documents based on top 1000 ngrams from each language\n",
    "\n",
    "For our logistic regression application, we are going to want to balance out the number of documents from the two languages. We know that English is by far over-represented, so we'll create a list of english and german document ID's that will balance out the two samples. "
   ]
  },
  {
   "cell_type": "code",
   "execution_count": 28,
   "metadata": {
    "collapsed": true
   },
   "outputs": [],
   "source": [
    "german_ids = cleaned_rdd.map(lambda (gid, _): gid).filter(lambda gid: meta_b.value[gid]['lang'] == 'de').collect()\n",
    "english_ids = cleaned_rdd.map(lambda (gid, _): gid).filter(lambda gid: meta_b.value[gid]['lang'] == 'en').collect()\n",
    "\n",
    "combined_ids = set(german_ids + english_ids[:len(german_ids)])"
   ]
  },
  {
   "cell_type": "code",
   "execution_count": 29,
   "metadata": {
    "collapsed": true
   },
   "outputs": [],
   "source": [
    "# create an RDD of german and english\n",
    "en_de_rdd = equalized_rdd.filter(lambda (gid, text): gid in combined_ids)"
   ]
  },
  {
   "cell_type": "markdown",
   "metadata": {},
   "source": [
    "Now we can vectorize the documents just like we did in the previous notebook by using `vectorize_doc` with the broadcast vocabulary lookup we made above (`top_ngrams_dict_b` - remember to pass in its `value`!) and the pre-defined `ngram_range`. Be sure to change all spaces to '_' before passing in to `vectorize_doc` and to specify `ngram_type`. "
   ]
  },
  {
   "cell_type": "code",
   "execution_count": 48,
   "metadata": {
    "collapsed": true
   },
   "outputs": [],
   "source": [
    "vector_rdd = (en_de_rdd.map(lambda (gid,text): (gid, \n",
    "                                                 vectorize_doc(text.replace(' ','_'),top_ngrams_dict_b.value, ngram_range, ngram_type='character')))\n",
    "                           .cache())"
   ]
  },
  {
   "cell_type": "code",
   "execution_count": 49,
   "metadata": {
    "collapsed": false
   },
   "outputs": [
    {
     "data": {
      "text/plain": [
       "(13208, array([ 179.,   11.,    0., ...,    0.,    8.,  353.]))"
      ]
     },
     "execution_count": 49,
     "metadata": {},
     "output_type": "execute_result"
    }
   ],
   "source": [
    "vector_rdd.first()"
   ]
  },
  {
   "cell_type": "markdown",
   "metadata": {},
   "source": [
    "Since we split the documents to equalize the vectorization load, we must now add the vectors for a given document back together: "
   ]
  },
  {
   "cell_type": "code",
   "execution_count": 31,
   "metadata": {
    "collapsed": true
   },
   "outputs": [],
   "source": [
    "def add_sparse(v1, v2) :\n",
    "    temp_vec = np.zeros(v1.size, dtype = np.float32)\n",
    "    for v in [v1,v2]: \n",
    "        temp_vec[v.indices] += v.values\n",
    "    nonzero = temp_vec.nonzero()[0]\n",
    "    \n",
    "    return SparseVector(v1.size, nonzero, temp_vec[nonzero])"
   ]
  },
  {
   "cell_type": "code",
   "execution_count": 51,
   "metadata": {
    "collapsed": true
   },
   "outputs": [],
   "source": [
    "combined_rdd = vector_rdd.reduceByKey(lambda x,y: x+y)"
   ]
  },
  {
   "cell_type": "markdown",
   "metadata": {},
   "source": [
    "## Train the language classification model\n",
    "\n",
    "To train the model, we need to first map the `vector_rdd` elements into [`LabeledPoint`](http://spark.apache.org/docs/latest/api/python/pyspark.mllib.html?highlight=labeledpoint#pyspark.mllib.regression.LabeledPoint), which is just a Spark abstraction that encompases a *label* and a *vector*. We then split the data into a training and validation sets and produce the trained model. "
   ]
  },
  {
   "cell_type": "code",
   "execution_count": 53,
   "metadata": {
    "collapsed": true
   },
   "outputs": [],
   "source": [
    "from pyspark.mllib.feature import LabeledPoint\n",
    "from pyspark.mllib.classification import LogisticRegressionWithSGD"
   ]
  },
  {
   "cell_type": "code",
   "execution_count": 64,
   "metadata": {
    "collapsed": false
   },
   "outputs": [
    {
     "data": {
      "text/plain": [
       "LabeledPoint(0.0, [1.0,2.0,3.0,4.0])"
      ]
     },
     "execution_count": 64,
     "metadata": {},
     "output_type": "execute_result"
    }
   ],
   "source": [
    "# making a simple LabeledPoint with label '0' and vector [1,2,3,4]\n",
    "LabeledPoint(0, [1,2,3,4])"
   ]
  },
  {
   "cell_type": "markdown",
   "metadata": {},
   "source": [
    "First, create a `vector_lp` RDD by mapping the contents of `vector_rdd` into a `LabeledPoint` using 0 if the language is English and 1 if it is German with the provided `gid_to_label` function:"
   ]
  },
  {
   "cell_type": "code",
   "execution_count": 54,
   "metadata": {
    "collapsed": true
   },
   "outputs": [],
   "source": [
    "# TODO: create an RDD of LabeledPoint with 0 for english and 1 for german\n",
    "def gid_to_label(gid):\n",
    "    \"\"\"Simple helper function that converts gid to 0 for english or 1 for german\"\"\"\n",
    "    lang = meta_b.value[gid]['lang']\n",
    "    if lang == 'en':\n",
    "        return 0\n",
    "    elif lang == 'de':\n",
    "        return 1\n",
    "    else:\n",
    "        raise RuntimeError(\"Can't handle language '{lang}'\".format(lang=lang))\n",
    "    \n",
    "vector_lp = combined_rdd.map(lambda (gid, vec): LabeledPoint(gid_to_label(gid), vec))"
   ]
  },
  {
   "cell_type": "markdown",
   "metadata": {},
   "source": [
    "The Spark machine learning library provides a simple method for creating training and validation sets, which we will use below. These will be our inputs for the logistic regression model fitting -- it is *always* a good idea to cache the inputs, since the training requires many iterations over the data. "
   ]
  },
  {
   "cell_type": "code",
   "execution_count": 56,
   "metadata": {
    "collapsed": false
   },
   "outputs": [
    {
     "name": "stdout",
     "output_type": "stream",
     "text": [
      "1327\n",
      "541\n"
     ]
    }
   ],
   "source": [
    "training, validation = vector_lp.randomSplit([0.7,0.3], seed=10)\n",
    "print(training.cache().count())\n",
    "print(validation.cache().count())"
   ]
  },
  {
   "cell_type": "markdown",
   "metadata": {},
   "source": [
    "#### Pass the training set to the model\n",
    "\n",
    "Here we will use the basic logistic regression model with stochastic gradient descent -- feel free to experiment with different parameters and other models from [pyspark.mllib.classification](http://spark.apache.org/docs/latest/api/python/pyspark.mllib.html#module-pyspark.mllib.classification)."
   ]
  },
  {
   "cell_type": "code",
   "execution_count": 57,
   "metadata": {
    "collapsed": true
   },
   "outputs": [],
   "source": [
    "model = LogisticRegressionWithSGD.train(training, regType='l1', regParam=.1)"
   ]
  },
  {
   "cell_type": "markdown",
   "metadata": {},
   "source": [
    "To check the performance of the model, we define a function that takes a data RDD and a model as parameters and computes the error:"
   ]
  },
  {
   "cell_type": "code",
   "execution_count": 58,
   "metadata": {
    "collapsed": true
   },
   "outputs": [],
   "source": [
    "def check_model(data, model) : \n",
    "    \"\"\"Calculates the model error on the data\n",
    "    \n",
    "    Arguments: \n",
    "        \n",
    "        data: the data RDD\n",
    "        \n",
    "        model: the classification model\n",
    "        \n",
    "    Returns:\n",
    "    \n",
    "        the error, which is the fraction of incorrectly predicted elements\n",
    "    \"\"\"\n",
    "    \n",
    "    error = (data.map(lambda p: (p.label, model.predict(p.features)))\n",
    "                 .filter(lambda (v,p): v!=p).count())/float(data.count())\n",
    "    return error"
   ]
  },
  {
   "cell_type": "code",
   "execution_count": 59,
   "metadata": {
    "collapsed": false
   },
   "outputs": [
    {
     "name": "stdout",
     "output_type": "stream",
     "text": [
      "Training Error = 0.0135644310475\n",
      "Validation Error = 0.0147874306839\n"
     ]
    }
   ],
   "source": [
    "train_error = check_model(training, model)\n",
    "print(\"Training Error = \" + str(train_error))\n",
    "validation_error = check_model(validation, model)\n",
    "print(\"Validation Error = \" + str(validation_error))"
   ]
  },
  {
   "cell_type": "markdown",
   "metadata": {},
   "source": [
    "For fun, lets create a function that will score a new string of text: "
   ]
  },
  {
   "cell_type": "code",
   "execution_count": 60,
   "metadata": {
    "collapsed": true
   },
   "outputs": [],
   "source": [
    "def predict_language(text, model) : \n",
    "    \"\"\"Predict the language given the pre-trained model\n",
    "    \n",
    "    Arguments: \n",
    "        text: a string\n",
    "        \n",
    "        model: the trained logistic regression model\n",
    "    \"\"\"\n",
    "    vec = vectorize_doc(text.replace(' ','_'), top_ngrams_dict_b.value, [1,2])\n",
    "    \n",
    "    res = 'german' if model.predict(vec) == 1 else 'english'\n",
    "    print(text + ' is ' + res)\n",
    "\n",
    "predict_lang_partial = lambda text: predict_language(text, model)"
   ]
  },
  {
   "cell_type": "markdown",
   "metadata": {},
   "source": [
    "Try it out! Enter your own sentence:"
   ]
  },
  {
   "cell_type": "code",
   "execution_count": 61,
   "metadata": {
    "collapsed": false
   },
   "outputs": [
    {
     "name": "stdout",
     "output_type": "stream",
     "text": [
      "a dog bit me is english\n"
     ]
    }
   ],
   "source": [
    "interact(predict_lang_partial, text='a dog bit me');"
   ]
  },
  {
   "cell_type": "markdown",
   "metadata": {},
   "source": [
    "### Which character sequences define each language? \n",
    "\n",
    "Here we'll use the weights of the trained model to identify the words with the lowest weights (i.e. those that pull a prediction toward zero) and the highest weights (those that pull a prediction toward 1). "
   ]
  },
  {
   "cell_type": "code",
   "execution_count": 63,
   "metadata": {
    "collapsed": false
   },
   "outputs": [
    {
     "name": "stdout",
     "output_type": "stream",
     "text": [
      "top 50 english and german ngrams and their weights:\n",
      "o\t-8841\te\t9530\n",
      "t\t-5978\tn\t6590\n",
      "_t\t-5874\ten\t5341\n",
      "th\t-5444\tn_\t4951\n",
      "_\t-4593\ten_\t4534\n",
      "_th\t-4532\tch\t4531\n",
      "the\t-3670\t_d\t3847\n",
      "a\t-3542\tu\t3608\n",
      "he\t-3356\ter\t3520\n",
      "y\t-3193\tei\t3283\n",
      "he_\t-2979\tde\t2896\n",
      "d_\t-2855\tie\t2607\n",
      "_o\t-2418\tge\t2406\n",
      "y_\t-2372\tr_\t2325\n",
      "e_\t-2352\ti\t2297\n",
      "_a\t-2217\tg\t2284\n",
      "s_\t-1990\tr\t2244\n",
      "p\t-1932\ter_\t2139\n",
      "h\t-1774\tz\t2135\n",
      "ed_\t-1617\tte\t1900\n",
      "ou\t-1515\tich\t1897\n",
      "_of\t-1470\tun\t1887\n",
      "to\t-1446\t_e\t1885\n",
      "of\t-1445\td\t1843\n",
      "of_\t-1434\t_de\t1795\n",
      "_c\t-1383\tein\t1783\n",
      "ed\t-1357\tie_\t1724\n",
      "f\t-1348\tic\t1574\n",
      "o_\t-1326\tch_\t1510\n",
      "at\t-1269\tau\t1484\n",
      "_to\t-1249\t_u\t1467\n",
      "_an\t-1208\tsch\t1433\n",
      "an\t-1204\tc\t1425\n",
      "_h\t-1202\tder\t1370\n",
      "on\t-1193\t_un\t1368\n",
      "and\t-1193\tsc\t1309\n",
      "to_\t-1188\tdie\t1231\n",
      "f_\t-1154\tn_d\t1218\n",
      "ea\t-1049\tund\t1138\n",
      "hi\t-1042\tm\t1137\n",
      "ing\t-883\tbe\t1101\n",
      "_p\t-868\t_di\t1087\n",
      "or\t-867\tcht\t1059\n",
      "re\t-865\t_z\t1046\n",
      "d_t\t-853\t_g\t1046\n",
      "is_\t-842\tdi\t1031\n",
      "_a_\t-830\t_ei\t1008\n",
      "at_\t-828\th_\t993\n",
      "co\t-812\tk\t993\n",
      "w\t-791\tte_\t986\n"
     ]
    }
   ],
   "source": [
    "sorted_weights = np.argsort(model.weights)\n",
    "\n",
    "top_ngram_inds = {v:k for k,v in top_ngrams_dict.iteritems()}\n",
    "\n",
    "print('top 50 english and german ngrams and their weights:')\n",
    "for i in range(50): \n",
    "    eng_ind = sorted_weights[i]\n",
    "    ger_ind = sorted_weights[len(top_ngram_inds)-i-1]\n",
    "    print('%s\\t%d\\t%s\\t%d'%(top_ngram_inds[eng_ind], model.weights[eng_ind], \n",
    "                            top_ngram_inds[ger_ind], model.weights[ger_ind]))"
   ]
  },
  {
   "cell_type": "markdown",
   "metadata": {
    "collapsed": true
   },
   "source": [
    "Some other ideas for things you could do with this dataset: \n",
    "\n",
    "* try other [classifiers that are included in MLlib](http://spark.apache.org/docs/latest/mllib-classification-regression.html)\n",
    "* build a regression model to predict year of publication\n",
    "* run a clustering algorithm on the full language data\n",
    "* do clustering on the english books and see if sub-groups of the language pop up\n",
    "* cluster by author -- do certain authors write in similar ways?"
   ]
  },
  {
   "cell_type": "markdown",
   "metadata": {
    "collapsed": true
   },
   "source": [
    "<div class=\"alert alert-danger\">\n",
    "<h1>Create Language Classifier using Spark Pipelines</h1>\n",
    "</div>\n",
    "\n",
    "<div class=\"alert alert-success\">\n",
    "<b>The learning goals of this chapter are</b>\n",
    "<ul>\n",
    "<li> Learn Spark Pipeline Concepts </li>\n",
    "</ul>\n",
    "</div>\n",
    "\n"
   ]
  },
  {
   "cell_type": "code",
   "execution_count": null,
   "metadata": {
    "collapsed": true
   },
   "outputs": [],
   "source": []
  }
 ],
 "metadata": {
  "kernelspec": {
   "display_name": "Python 3",
   "language": "python",
   "name": "python3"
  },
  "language_info": {
   "codemirror_mode": {
    "name": "ipython",
    "version": 3
   },
   "file_extension": ".py",
   "mimetype": "text/x-python",
   "name": "python",
   "nbconvert_exporter": "python",
   "pygments_lexer": "ipython3",
   "version": "3.5.2"
  }
 },
 "nbformat": 4,
 "nbformat_minor": 2
}
