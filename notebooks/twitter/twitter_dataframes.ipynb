{
 "cells": [
  {
   "cell_type": "code",
   "execution_count": 1,
   "metadata": {
    "collapsed": true
   },
   "outputs": [],
   "source": [
    "from __future__ import print_function\n",
    "%matplotlib inline\n",
    "import matplotlib.pylab as plt\n",
    "import sys, os, glob\n",
    "import numpy as np"
   ]
  },
  {
   "cell_type": "code",
   "execution_count": 2,
   "metadata": {
    "collapsed": true
   },
   "outputs": [],
   "source": [
    "plt.rcParams['figure.figsize'] = (10,6)\n",
    "plt.rcParams['font.size'] = 18\n",
    "plt.style.use('fivethirtyeight')"
   ]
  },
  {
   "cell_type": "code",
   "execution_count": 3,
   "metadata": {
    "collapsed": true
   },
   "outputs": [],
   "source": [
    "from pyspark.sql import SQLContext"
   ]
  },
  {
   "cell_type": "code",
   "execution_count": 4,
   "metadata": {
    "collapsed": false
   },
   "outputs": [],
   "source": [
    "sqc = SQLContext(sc)"
   ]
  },
  {
   "cell_type": "code",
   "execution_count": 5,
   "metadata": {
    "collapsed": false
   },
   "outputs": [
    {
     "name": "stdout",
     "output_type": "stream",
     "text": [
      "CPU times: user 5 ms, sys: 0 ns, total: 5 ms\n",
      "Wall time: 5.95 s\n"
     ]
    }
   ],
   "source": [
    "%%time\n",
    "data = sqc.read.parquet('/user/roskarr/twitter/2014_10')"
   ]
  },
  {
   "cell_type": "code",
   "execution_count": 6,
   "metadata": {
    "collapsed": false
   },
   "outputs": [
    {
     "name": "stdout",
     "output_type": "stream",
     "text": [
      "CPU times: user 36 ms, sys: 4 ms, total: 40 ms\n",
      "Wall time: 3min 28s\n"
     ]
    },
    {
     "data": {
      "text/plain": [
       "162751019"
      ]
     },
     "execution_count": 6,
     "metadata": {},
     "output_type": "execute_result"
    }
   ],
   "source": [
    "%time data.cache().count()"
   ]
  },
  {
   "cell_type": "code",
   "execution_count": 154,
   "metadata": {
    "collapsed": true
   },
   "outputs": [],
   "source": [
    "from pyspark.sql.functions import instr, regexp_extract, size, to_date, locate\n",
    "from pyspark.sql.functions import udf"
   ]
  },
  {
   "cell_type": "code",
   "execution_count": 134,
   "metadata": {
    "collapsed": true
   },
   "outputs": [],
   "source": [
    "def number_of_hashtags(row):\n",
    "    if row is not None:\n",
    "        return len(row)\n",
    "    else:\n",
    "        return 0\n",
    "\n",
    "num_hashtags = udf(number_of_hashtags)"
   ]
  },
  {
   "cell_type": "code",
   "execution_count": 142,
   "metadata": {
    "collapsed": false
   },
   "outputs": [],
   "source": [
    "hashtags = data.select('created_at', 'entities.hashtags').filter(num_hashtags('hashtags') > 0)"
   ]
  },
  {
   "cell_type": "code",
   "execution_count": 143,
   "metadata": {
    "collapsed": false
   },
   "outputs": [
    {
     "data": {
      "text/plain": [
       "[Row(created_at=u'Wed Oct 01 10:38:00 +0000 2014', hashtags=[Row(indices=[9, 19], text=u'WengerOut')]),\n",
       " Row(created_at=u'Wed Oct 01 10:38:00 +0000 2014', hashtags=[Row(indices=[0, 10], text=u'CRISEnaPF'), Row(indices=[27, 33], text=u'Dilma')]),\n",
       " Row(created_at=u'Wed Oct 01 10:38:00 +0000 2014', hashtags=[Row(indices=[35, 52], text=u'RT\\u3057\\u305f\\u4eba\\u306b\\u3076\\u3093\\u6295\\u3052\\u305f\\u3044\\u7269\\u3092\\u8a00\\u3046')]),\n",
       " Row(created_at=u'Wed Oct 01 10:38:00 +0000 2014', hashtags=[Row(indices=[0, 7], text=u'\\uc0dd\\ubc29\\uc1a1\\uce74\\uc9c0\\ub178'), Row(indices=[43, 56], text=u'\\ubc14\\uce74\\ub77c\\uc0ac\\uc774\\ud2b8\\uc628\\ub77c\\uc778\\ubc14\\uce74\\ub77c')]),\n",
       " Row(created_at=u'Wed Oct 01 10:38:00 +0000 2014', hashtags=[Row(indices=[83, 99], text=u'\\u30c9\\u30af\\u30bf\\u30fc\\u306b\\u8a00\\u308f\\u308c\\u305f\\u885d\\u6483\\u7684\\u306a\\u8a00\\u8449')]),\n",
       " Row(created_at=u'Wed Oct 01 10:38:00 +0000 2014', hashtags=[Row(indices=[0, 11], text=u'\\uc6d4\\ub4dc\\ub77c\\uc774\\ube0c\\ubc14\\uce74\\ub77c\\uac8c\\uc784'), Row(indices=[46, 55], text=u'\\uc6b0\\ub9ac\\ubc14\\uce74\\ub77c\\uc0ac\\uc774\\ud2b8')]),\n",
       " Row(created_at=u'Wed Oct 01 10:38:00 +0000 2014', hashtags=[Row(indices=[14, 38], text=u'\\u062c\\u0631\\u0628_\\u062d\\u0638\\u0643_\\u0645\\u0639_\\u062e\\u0627\\u0644\\u062f_\\u0627\\u0644\\u0642\\u0631\\u0627\\u0635\\u0647'), Row(indices=[114, 130], text=u'\\u0643\\u0641\\u0648_\\u0623\\u0628\\u0648_\\u0639\\u0628\\u062f\\u0627\\u0644\\u0644\\u0647')]),\n",
       " Row(created_at=u'Wed Oct 01 10:38:00 +0000 2014', hashtags=[Row(indices=[126, 129], text=u'\\u7121\\u6599'), Row(indices=[130, 135], text=u'\\u6687\\u3064\\u3076\\u3057')]),\n",
       " Row(created_at=u'Wed Oct 01 10:38:00 +0000 2014', hashtags=[Row(indices=[64, 80], text=u'ColorWonderland')]),\n",
       " Row(created_at=u'Wed Oct 01 10:38:01 +0000 2014', hashtags=[Row(indices=[0, 17], text=u'GanbateKeTheater')])]"
      ]
     },
     "execution_count": 143,
     "metadata": {},
     "output_type": "execute_result"
    }
   ],
   "source": [
    "hashtags.take(10)"
   ]
  },
  {
   "cell_type": "code",
   "execution_count": 141,
   "metadata": {
    "collapsed": true
   },
   "outputs": [],
   "source": [
    "def hashtag_text(row):\n",
    "    return \" \".join([r.text for r in row])\n",
    "hash_text_udf = udf(hashtag_text)"
   ]
  },
  {
   "cell_type": "code",
   "execution_count": 169,
   "metadata": {
    "collapsed": false
   },
   "outputs": [],
   "source": [
    "hash_count = (hashtags.withColumn('hash_text', hash_text_udf('hashtags'))\n",
    "         .filter(instr('hash_text', '\\\\') != 1)\n",
    "         .select('hash_text')\n",
    "         .rdd\n",
    "         .flatMap(lambda row: [(word, 1) for word in row.hash_text.split(' ')])).reduceByKey(lambda a,b: a+b)"
   ]
  },
  {
   "cell_type": "code",
   "execution_count": 172,
   "metadata": {
    "collapsed": false
   },
   "outputs": [
    {
     "name": "stdout",
     "output_type": "stream",
     "text": [
      "EMABiggestFans1D 997652\n",
      "EMABiggestFansJustinBieber 966601\n",
      "KCAArgentina 736812\n",
      "gameinsight 366820\n",
      "تطبيق_قرآنى 282558\n",
      "androidgames 183913\n",
      "android 179361\n",
      "كنز_المسلم 173564\n",
      "رتويت 162817\n",
      "RT 161550\n",
      "الهلال 154979\n",
      "相互フォロー 143476\n",
      "RTした人全員フォローする 137458\n",
      "sougofollow 135996\n",
      "ipadgames 125524\n",
      "الرياض 120912\n",
      "porn 116836\n",
      "السعودية 116091\n",
      "ipad 114143\n",
      "TeamFollowBack 113479\n",
      "GonzaloHiguain 109841\n",
      "LaliEsposito 109672\n",
      "MGWV 108014\n",
      "النصر 88614\n",
      "FOLLOWTRICK 84330\n",
      "RETWEET 83261\n",
      "TFB 82303\n",
      "sex 78239\n",
      "BabyOneMoreTime 77890\n",
      "FF 77640\n",
      "openfollow 75209\n",
      "TFBJP 75153\n",
      "سكس 69524\n",
      "拡散希望 66190\n",
      "Android 64966\n",
      "OrianaSabatini 62640\n",
      "Love 61172\n",
      "JulianSerrano 58967\n",
      "iphone 57469\n",
      "AMAs 57444\n",
      "ريتويت 56489\n",
      "ANDROID 55906\n",
      "followme 54173\n",
      "Wannabe 52066\n",
      "TEAMFOLLOWBACK 52050\n",
      "MercedesLambre 51999\n",
      "EMABiggestFansArianaGrande 51817\n",
      "FOLLOWBACK 50667\n",
      "الاتحاد 50412\n",
      "FOLLOW 49931\n",
      "news 49307\n",
      "PeterLanzani 48396\n",
      "JorgeBlanco 47379\n",
      "job 47073\n",
      "VoteVampsVevo 45738\n",
      "followback 45397\n",
      "xxx 44745\n",
      "teen 44725\n",
      "طيز 44052\n",
      "Follow 43651\n",
      "iPad 43012\n",
      "TuitUtil 42990\n",
      "nowplaying 42606\n",
      "جدة 42341\n",
      "Lali 42087\n",
      "hot 41632\n",
      "EMABiggestFans5SOS 41362\n",
      "nsfw 41338\n",
      "adult 41177\n",
      "ヤフオク 41176\n",
      "ff 40683\n",
      "NowPlaying 39970\n",
      "Quran 39514\n",
      "FANS 39438\n",
      "モンスト 38880\n",
      "F4F 37837\n",
      "pussy 37668\n",
      "sexy 37043\n",
      "GAIN 37005\n",
      "iphonegames 36259\n",
      "movie 36252\n",
      "FREE 35822\n",
      "비스트 35648\n",
      "Ebola 35552\n",
      "البحرين 35473\n",
      "الكويت 35413\n",
      "SexyList2014 34826\n",
      "ممحونه 34012\n",
      "ERROR 33881\n",
      "love 33522\n",
      "غرد_بصورة 33401\n",
      "iPhone 33400\n",
      "بيع_متابعين 33160\n",
      "相互希望 32743\n",
      "MPN 32409\n",
      "قطر 32383\n",
      "TFW 32290\n",
      "video 32079\n",
      "NOWMillion 31456\n",
      "مكة 31345\n"
     ]
    }
   ],
   "source": [
    "for hashtag, count in hash_count.sortBy(lambda (k,v): v, ascending=False).take(100):\n",
    "    print(hashtag, count)"
   ]
  },
  {
   "cell_type": "code",
   "execution_count": null,
   "metadata": {
    "collapsed": true
   },
   "outputs": [],
   "source": []
  }
 ],
 "metadata": {
  "kernelspec": {
   "display_name": "Python 2",
   "language": "python",
   "name": "python2"
  },
  "language_info": {
   "codemirror_mode": {
    "name": "ipython",
    "version": 2
   },
   "file_extension": ".py",
   "mimetype": "text/x-python",
   "name": "python",
   "nbconvert_exporter": "python",
   "pygments_lexer": "ipython2",
   "version": "2.7.10"
  }
 },
 "nbformat": 4,
 "nbformat_minor": 0
}
