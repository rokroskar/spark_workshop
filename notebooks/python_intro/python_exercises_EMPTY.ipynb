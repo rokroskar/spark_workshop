{
 "cells": [
  {
   "cell_type": "code",
   "execution_count": 1,
   "metadata": {
    "collapsed": false
   },
   "outputs": [],
   "source": [
    "from __future__ import print_function\n",
    "from functools import reduce"
   ]
  },
  {
   "cell_type": "markdown",
   "metadata": {},
   "source": [
    "# Python Exercises\n",
    "\n",
    "The purpose of this notebook is to get some practice with the special python concepts that are useful for writing Spark applications. Here we will do them in the (safe) controlled environment of a simple python shell for simpler debugging -- later on we will use these same constructs in the Spark framework. \n",
    "\n",
    "### How to use this notebook\n",
    "You can (and should) execute all the cells in this notebook. Where your input is required, you will see `<FILL>` in the source code with some instructions. Replace those with working code, execute, debug, rinse, repeat. "
   ]
  },
  {
   "cell_type": "markdown",
   "metadata": {},
   "source": [
    "## 0. Data types\n",
    "This is a quick primer on various high-level python data types that we will be using. If you are not familiar with these at least superficially already, we recommend you first find a python tutorial of some sort. "
   ]
  },
  {
   "cell_type": "markdown",
   "metadata": {},
   "source": [
    "### Lists\n",
    "\n",
    "A list is just that -- an ordered collection of objects. You can put just about any python object into a list. Most likely, we will be dealing with lists of arrays, lists of tuples, lists of dictionaries, etc. A list is really an essential building block!"
   ]
  },
  {
   "cell_type": "code",
   "execution_count": 17,
   "metadata": {
    "collapsed": true
   },
   "outputs": [],
   "source": [
    "# a list of integers\n",
    "my_list = [1,2,3,4]"
   ]
  },
  {
   "cell_type": "markdown",
   "metadata": {},
   "source": [
    "The methods of a `list` object are not many, but they are quite useful. \n",
    "\n",
    "add an empty cell below this one, and type \n",
    "\n",
    "```\n",
    "my_list.\n",
    "```\n",
    "\n",
    "followed by tapping <tab> to see the list of methods. "
   ]
  },
  {
   "cell_type": "code",
   "execution_count": 22,
   "metadata": {
    "collapsed": false
   },
   "outputs": [],
   "source": [
    "# TODO: append the value 1 to my_list, making it [1,2,3,4,1]\n",
    "<FILL>\n",
    "assert(len(my_list) == 5 and sum(my_list) == 11)"
   ]
  },
  {
   "cell_type": "markdown",
   "metadata": {},
   "source": [
    "#### Indexing \n",
    "List indexing tricks will be essential to your experience with any sort of application in Spark. Here are a few of the most common ones: "
   ]
  },
  {
   "cell_type": "code",
   "execution_count": 23,
   "metadata": {
    "collapsed": false
   },
   "outputs": [
    {
     "data": {
      "text/plain": [
       "[3, 4, 1]"
      ]
     },
     "execution_count": 23,
     "metadata": {},
     "output_type": "execute_result"
    }
   ],
   "source": [
    "# slices --> getting consecutive items from a list\n",
    "my_list[2:5]"
   ]
  },
  {
   "cell_type": "code",
   "execution_count": 28,
   "metadata": {
    "collapsed": false
   },
   "outputs": [
    {
     "data": {
      "text/plain": [
       "[1, 2, 3]"
      ]
     },
     "execution_count": 28,
     "metadata": {},
     "output_type": "execute_result"
    }
   ],
   "source": [
    "# all elements from the first to the third\n",
    "my_list[:3] # zero is implied"
   ]
  },
  {
   "cell_type": "code",
   "execution_count": 24,
   "metadata": {
    "collapsed": false
   },
   "outputs": [
    {
     "data": {
      "text/plain": [
       "[1, 4, 3, 2, 1]"
      ]
     },
     "execution_count": 24,
     "metadata": {},
     "output_type": "execute_result"
    }
   ],
   "source": [
    "# reversing \n",
    "my_list[::-1]"
   ]
  },
  {
   "cell_type": "code",
   "execution_count": 25,
   "metadata": {
    "collapsed": false
   },
   "outputs": [
    {
     "data": {
      "text/plain": [
       "[1, 3, 1]"
      ]
     },
     "execution_count": 25,
     "metadata": {},
     "output_type": "execute_result"
    }
   ],
   "source": [
    "# skipping elements --> here, getting every other one\n",
    "my_list[::2]"
   ]
  },
  {
   "cell_type": "code",
   "execution_count": 29,
   "metadata": {
    "collapsed": false
   },
   "outputs": [
    {
     "data": {
      "text/plain": [
       "4"
      ]
     },
     "execution_count": 29,
     "metadata": {},
     "output_type": "execute_result"
    }
   ],
   "source": [
    "# getting the second to last element\n",
    "my_list[-2]"
   ]
  },
  {
   "cell_type": "code",
   "execution_count": 31,
   "metadata": {
    "collapsed": false
   },
   "outputs": [
    {
     "ename": "SyntaxError",
     "evalue": "invalid syntax (<ipython-input-31-fbbedc7466e5>, line 2)",
     "output_type": "error",
     "traceback": [
      "\u001b[1;36m  File \u001b[1;32m\"<ipython-input-31-fbbedc7466e5>\"\u001b[1;36m, line \u001b[1;32m2\u001b[0m\n\u001b[1;33m    new_list = <FILL>\u001b[0m\n\u001b[1;37m               ^\u001b[0m\n\u001b[1;31mSyntaxError\u001b[0m\u001b[1;31m:\u001b[0m invalid syntax\n"
     ]
    }
   ],
   "source": [
    "# TODO: make a new_list composed of all elements from my_list except for the first and last one\n",
    "new_list = <FILL>\n",
    "assert(new_list == [2,3,4])"
   ]
  },
  {
   "cell_type": "code",
   "execution_count": 6,
   "metadata": {
    "collapsed": false
   },
   "outputs": [
    {
     "ename": "NameError",
     "evalue": "name 'my_list' is not defined",
     "output_type": "error",
     "traceback": [
      "\u001b[1;31m---------------------------------------------------------------------------\u001b[0m",
      "\u001b[1;31mNameError\u001b[0m                                 Traceback (most recent call last)",
      "\u001b[1;32m<ipython-input-6-929119b3ba03>\u001b[0m in \u001b[0;36m<module>\u001b[1;34m()\u001b[0m\n\u001b[0;32m      1\u001b[0m \u001b[1;31m# combining lists\u001b[0m\u001b[1;33m\u001b[0m\u001b[1;33m\u001b[0m\u001b[0m\n\u001b[1;32m----> 2\u001b[1;33m \u001b[0mmy_list\u001b[0m \u001b[1;33m+\u001b[0m \u001b[0mnew_list\u001b[0m\u001b[1;33m\u001b[0m\u001b[0m\n\u001b[0m",
      "\u001b[1;31mNameError\u001b[0m: name 'my_list' is not defined"
     ]
    }
   ],
   "source": [
    "# combining lists \n",
    "my_list + new_list"
   ]
  },
  {
   "cell_type": "markdown",
   "metadata": {},
   "source": [
    "### Dictionaries\n",
    "Certainly one of the most useful built-in data structures in python. A dictionary provides a mapping between \"keys\" and \"values\". Best to look at some examples. "
   ]
  },
  {
   "cell_type": "code",
   "execution_count": 37,
   "metadata": {
    "collapsed": false
   },
   "outputs": [
    {
     "data": {
      "text/plain": [
       "dict"
      ]
     },
     "execution_count": 37,
     "metadata": {},
     "output_type": "execute_result"
    }
   ],
   "source": [
    "# creating a dictionary\n",
    "d = {} # makes an empty dictionary\n",
    "type(d) "
   ]
  },
  {
   "cell_type": "code",
   "execution_count": 38,
   "metadata": {
    "collapsed": false
   },
   "outputs": [
    {
     "data": {
      "text/plain": [
       "{'first': 1, 'second': 2}"
      ]
     },
     "execution_count": 38,
     "metadata": {},
     "output_type": "execute_result"
    }
   ],
   "source": [
    "# add an element\n",
    "d['first'] = 1\n",
    "d['second'] = 2\n",
    "d"
   ]
  },
  {
   "cell_type": "code",
   "execution_count": 40,
   "metadata": {
    "collapsed": false
   },
   "outputs": [
    {
     "data": {
      "text/plain": [
       "(1, 2)"
      ]
     },
     "execution_count": 40,
     "metadata": {},
     "output_type": "execute_result"
    }
   ],
   "source": [
    "d['first'], d['second']"
   ]
  },
  {
   "cell_type": "markdown",
   "metadata": {},
   "source": [
    "Dictionaries have some very useful methods: "
   ]
  },
  {
   "cell_type": "code",
   "execution_count": 44,
   "metadata": {
    "collapsed": false
   },
   "outputs": [
    {
     "name": "stdout",
     "output_type": "stream",
     "text": [
      "['second', 'first']\n",
      "[2, 1]\n"
     ]
    }
   ],
   "source": [
    "# to see all the currently stored keys or values\n",
    "print d.keys()\n",
    "print d.values()"
   ]
  },
  {
   "cell_type": "code",
   "execution_count": 46,
   "metadata": {
    "collapsed": false
   },
   "outputs": [
    {
     "name": "stdout",
     "output_type": "stream",
     "text": [
      "second 2\n",
      "first 1\n"
     ]
    }
   ],
   "source": [
    "# to iterate through all the keys and values\n",
    "for key,value in d.iteritems() : \n",
    "    print key, value"
   ]
  },
  {
   "cell_type": "code",
   "execution_count": 7,
   "metadata": {
    "collapsed": false
   },
   "outputs": [
    {
     "name": "stdout",
     "output_type": "stream",
     "text": [
      "{'second': 2, 'first': 1}\n",
      "{'second': 2, 'third': 3, 'first': 1}\n"
     ]
    }
   ],
   "source": [
    "# alternative way of initializing a dictionary: \n",
    "d = {'first': 1, 'second': 2}\n",
    "print d\n",
    "d['third'] = 3\n",
    "print d"
   ]
  },
  {
   "cell_type": "markdown",
   "metadata": {},
   "source": [
    "**Note:** you cannot trust that the keys from a dictionary are returned in the order they are entered!"
   ]
  },
  {
   "cell_type": "markdown",
   "metadata": {},
   "source": [
    "### Strings\n",
    "Not a complex data type really, but strings are objects like all other things in python, and have some nice properties. "
   ]
  },
  {
   "cell_type": "code",
   "execution_count": 10,
   "metadata": {
    "collapsed": false
   },
   "outputs": [
    {
     "name": "stdout",
     "output_type": "stream",
     "text": [
      "second to seventh characteres: \"at is\"\n",
      "last character: \"e\"\n"
     ]
    }
   ],
   "source": [
    "# they can be indexed like any other collection\n",
    "string = 'what is going on here'\n",
    "print 'second to seventh characteres: \"%s\"'%string[2:7]\n",
    "print 'last character: \"%s\"'%string[-1]"
   ]
  },
  {
   "cell_type": "markdown",
   "metadata": {},
   "source": [
    "... you get the idea... "
   ]
  },
  {
   "cell_type": "code",
   "execution_count": 14,
   "metadata": {
    "collapsed": false
   },
   "outputs": [
    {
     "name": "stdout",
     "output_type": "stream",
     "text": [
      "['what', 'is', 'going', 'on', 'here']\n",
      "['one', 'two', 'three', 'four']\n"
     ]
    }
   ],
   "source": [
    "# getting words from a string\n",
    "string2 = 'one,two,three,four'\n",
    "print string.split()    # default splits on whitespaces\n",
    "print string2.split(',') # but you can specify any delimiter you want"
   ]
  },
  {
   "cell_type": "markdown",
   "metadata": {},
   "source": [
    "##1.  `map`\n",
    "\n",
    "Use the python `map` function to convert the first and last letters of each word in the string `test_string` to uppercase.\n",
    "\n",
    "*hint*: use the standard string method `split` to create a list of words; then use a `map` to convert the appropriate letters of each word\n",
    "\n",
    "*hint \\#2:* Use `Edit -> Split Cell` to create easily-executable code chunks that you can debug. When they all run individually, you can merge them back together."
   ]
  },
  {
   "cell_type": "code",
   "execution_count": 2,
   "metadata": {
    "collapsed": false
   },
   "outputs": [
    {
     "ename": "SyntaxError",
     "evalue": "invalid syntax (<ipython-input-2-dbd52777543a>, line 4)",
     "output_type": "error",
     "traceback": [
      "\u001b[1;36m  File \u001b[1;32m\"<ipython-input-2-dbd52777543a>\"\u001b[1;36m, line \u001b[1;32m4\u001b[0m\n\u001b[1;33m    words = <FILL>\u001b[0m\n\u001b[1;37m            ^\u001b[0m\n\u001b[1;31mSyntaxError\u001b[0m\u001b[1;31m:\u001b[0m invalid syntax\n"
     ]
    }
   ],
   "source": [
    "# From Sun Tzu's Art of War\n",
    "test_string = 'The supreme art of war is to subdue the enemy without fighting.'\n",
    "\n",
    "words = <FILL>\n",
    "\n",
    "def first_last_capitalize(word) : \n",
    "    # first convert the string `word` to a list of characters\n",
    "    l = <FILL>\n",
    "    \n",
    "    # now change the first and last character to uppercase (use the upper() method of a string)\n",
    "    l[0] = <FILL>\n",
    "    l[-1] = <FILL>\n",
    "    \n",
    "    # convert back to a string\n",
    "    return str(\"\".join(l))\n",
    "\n",
    "upper_lower = <FILL>\n",
    "\n",
    "result = \" \".join(upper_lower)\n",
    "print(result)\n",
    "assert(result == 'ThE SupremE ArT OF WaR IS TO SubduE ThE EnemY WithouT Fighting.')"
   ]
  },
  {
   "cell_type": "markdown",
   "metadata": {},
   "source": [
    "## 2. List comprehension and tuples\n",
    "\n",
    "Use a list comprehension to convert the list of words into a list of tuples, where the first element of the tuple is the word and the second element is the word length.\n",
    "\n",
    "\n",
    "*hint:* use the python built-in len() function to get the string length"
   ]
  },
  {
   "cell_type": "code",
   "execution_count": null,
   "metadata": {
    "collapsed": true
   },
   "outputs": [],
   "source": [
    "word_length = <FILL>"
   ]
  },
  {
   "cell_type": "code",
   "execution_count": null,
   "metadata": {
    "collapsed": false
   },
   "outputs": [],
   "source": [
    "print(word_length)\n",
    "assert(word_length == [('The', 3),\n",
    " ('supreme', 7),\n",
    " ('art', 3),\n",
    " ('of', 2),\n",
    " ('war', 3),\n",
    " ('is', 2),\n",
    " ('to', 2),\n",
    " ('subdue', 6),\n",
    " ('the', 3),\n",
    " ('enemy', 5),\n",
    " ('without', 7),\n",
    " ('fighting.', 9)])"
   ]
  },
  {
   "cell_type": "markdown",
   "metadata": {},
   "source": [
    "## 3. `reduce`"
   ]
  },
  {
   "cell_type": "markdown",
   "metadata": {},
   "source": [
    "Compute the average word length in the sentence by: \n",
    "\n",
    "1. mapping the `word_length` list from above to contain just the word lengths\n",
    "2. using `reduce` to sum up the lengths\n",
    "3. dividing by the total number of words"
   ]
  },
  {
   "cell_type": "code",
   "execution_count": null,
   "metadata": {
    "collapsed": true
   },
   "outputs": [],
   "source": [
    "word_counts = <FILL>"
   ]
  },
  {
   "cell_type": "code",
   "execution_count": null,
   "metadata": {
    "collapsed": true
   },
   "outputs": [],
   "source": [
    "total_chars = <FILL>"
   ]
  },
  {
   "cell_type": "code",
   "execution_count": null,
   "metadata": {
    "collapsed": false
   },
   "outputs": [],
   "source": [
    "import numpy as np\n",
    "print(float(total_chars)/len(words))\n",
    "assert(np.allclose(float(total_chars)/len(words),4.33333333333))"
   ]
  },
  {
   "cell_type": "markdown",
   "metadata": {},
   "source": [
    "## 4. Generators\n",
    "\n",
    "Write a generator that returns the words with an even character count into the list `result`. At least two possible solutions! "
   ]
  },
  {
   "cell_type": "code",
   "execution_count": null,
   "metadata": {
    "collapsed": true
   },
   "outputs": [],
   "source": [
    "result = <FILL>"
   ]
  },
  {
   "cell_type": "code",
   "execution_count": null,
   "metadata": {
    "collapsed": false
   },
   "outputs": [],
   "source": [
    "assert(result == ['of', 'is', 'to', 'subdue'])"
   ]
  }
 ],
 "metadata": {
  "kernelspec": {
   "display_name": "Python 2",
   "language": "python",
   "name": "python2"
  },
  "language_info": {
   "codemirror_mode": {
    "name": "ipython",
    "version": 2
   },
   "file_extension": ".py",
   "mimetype": "text/x-python",
   "name": "python",
   "nbconvert_exporter": "python",
   "pygments_lexer": "ipython2",
   "version": "2.7.10"
  }
 },
 "nbformat": 4,
 "nbformat_minor": 0
}
