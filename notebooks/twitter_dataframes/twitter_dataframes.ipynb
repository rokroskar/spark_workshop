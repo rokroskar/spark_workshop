{
 "cells": [
  {
   "cell_type": "code",
   "execution_count": 1,
   "metadata": {
    "collapsed": true
   },
   "outputs": [],
   "source": [
    "from __future__ import print_function\n",
    "%matplotlib inline\n",
    "import matplotlib.pylab as plt\n",
    "import sys, os, glob\n",
    "import numpy as np\n",
    "import subprocess\n",
    "\n",
    "from ipywidgets import interact, interactive, fixed\n",
    "import ipywidgets as widgets\n",
    "\n",
    "from IPython.display import HTML\n",
    "import xml.etree.ElementTree as ET\n",
    "try:\n",
    "    tree = ET.parse(os.environ['HADOOP_CONF_DIR'] + '/yarn-site.xml')\n",
    "except IOError:\n",
    "    raise IOError(\"Can't find the yarn configuration -- is HADOOP_CONF_DIR set?\")\n",
    "root = tree.getroot()\n",
    "yarn_web_app = root.findall(\"./property[name='yarn.resourcemanager.webapp.address']\")[0].find('value').text\n",
    "yarn_web_app_string = \"If this works successfully, you can check the <a target='_blank' href='http://{yarn_web_app}'>YARN application scheduler</a> and you should see your app listed there. Clicking on the 'Application Master' link will bring up the familiar Spark Web UI. \"\n",
    "\n",
    "plt.rcParams['figure.figsize'] = (10,6)\n",
    "plt.rcParams['font.size'] = 18\n",
    "plt.style.use('fivethirtyeight')"
   ]
  },
  {
   "cell_type": "markdown",
   "metadata": {},
   "source": [
    "## Set up and launch the Spark runtime\n",
    "\n",
    "Remember from the previous notebook that we have a saved configuration in `./spark_config/` -- so all we need to do is set the `SPARK_CONF_DIR` environment variable and our default configuration will be used: "
   ]
  },
  {
   "cell_type": "code",
   "execution_count": 2,
   "metadata": {
    "collapsed": true
   },
   "outputs": [],
   "source": [
    "# specify the configuration directory\n",
    "os.environ['SPARK_CONF_DIR'] = os.path.realpath('./spark_config')\n",
    "\n",
    "# how many cores do we have for the driver\n",
    "ncores = int(os.environ.get('LSB_DJOB_NUMPROC', 1)) \n",
    "\n",
    "# here we set the memory we want spark to use for the driver JVM\n",
    "os.environ['SPARK_DRIVER_MEMORY'] = '%dG'%(ncores*2*0.7)\n",
    "\n",
    "# we have to tell spark which python executable we are using\n",
    "os.environ['PYSPARK_PYTHON'] = subprocess.check_output('which python', shell=True).rstrip()\n",
    "\n",
    "import findspark\n",
    "findspark.init()\n",
    "\n",
    "import pyspark\n",
    "from pyspark import SparkConf, SparkContext\n",
    "\n",
    "conf = SparkConf()\n",
    "\n",
    "sc = SparkContext(master='yarn-client', conf=conf)"
   ]
  },
  {
   "cell_type": "markdown",
   "metadata": {},
   "source": [
    "# Uncovering World Events using Twitter Hashtags\n",
    "## ... and learning about Spark `DataFrames` along the way\n",
    "\n",
    "In this notebook, we will use temporal information about Twitter hashtags to uncover world events. In case someone isn't familiar with [Twitter](http://twitter.com): a \"tweet\" is a 140 character message broadcast into the world.  A hashtag is a part of a tweet, a single words preceded by a \"#\", and is used to indicate the topic of the tweet. If you want to find out about photography, for example, you might search for the [#photography](https://twitter.com/search?q=%23photography&src=typd) hashtag. \n",
    "\n",
    "The idea here is that when an event is happening and people are having a conversation about it on Twitter, a set of uniform hashtags that represent the event spontaneously evolves and Twitter users then use those hashtags to communicate with one another. Some hashtags, like \"#RT\" for \"retweet\" or just \"#retweet\" are used frequently and don't tell us much about what is going on. But a sudden appearance of a hashtag like \"#oscars\" probably indicates that the oscars are underway. For a particularly cool example of this type of analysis, check out this [blog post about earthquake detection using Twitter data](https://blog.twitter.com/2015/usgs-twitter-data-earthquake-detection) (although they search the text and not necessarily hashtags).\n",
    "\n",
    "We will do some simple statistics to try and find some of these event hashtags. This entire notebook uses the Spark `DataFrame`, which is a higher-level abstraction built on top of the `RDD` that we have grown to love. `DataFrame`s are designed to be efficient at handling tabular, structured data. Anything that has columns and rows, essentially. \n",
    "\n",
    "As we'll see below, the `DataFrame` allows us to process data efficiently and often use fewer lines of code. By using the optimized built-in functions, we can benefit from the performance saving of the pure scala implementation while still using Python. When something more complex is required that is not easily expressed in terms of `DataFrame` operations, we can temporarily switch into `RDD` mode. For some more background, see the [DataFrame API blog post](https://databricks.com/blog/2015/02/17/introducing-dataframes-in-spark-for-large-scale-data-science.html). "
   ]
  },
  {
   "cell_type": "markdown",
   "metadata": {},
   "source": [
    "<div class=\"alert alert-info\">\n",
    "<p><strong>Viewer discretion is advised!</strong></p> \n",
    "\n",
    "<p>The internet is, in general, not a safe place. The data used in this tutorial is an unfiltered stream of what people all over the world tweet. The chances of there being something more or less offensive in this sea of tweets are pretty high, so be prepared to perhaps see some foul language and/or sexual references. </p>\n",
    "</div>"
   ]
  },
  {
   "cell_type": "markdown",
   "metadata": {},
   "source": [
    "## Initialization\n",
    "\n",
    "Using `DataFrame`s, our entry point into the Spark universe is the `SQLContext` or the equivalent `HiveContext`:"
   ]
  },
  {
   "cell_type": "code",
   "execution_count": 3,
   "metadata": {
    "collapsed": false
   },
   "outputs": [],
   "source": [
    "from pyspark.sql import SQLContext, HiveContext\n",
    "\n",
    "hc = HiveContext(sc)"
   ]
  },
  {
   "cell_type": "markdown",
   "metadata": {},
   "source": [
    "We'll load the data off the disk, but only for the last three months of the year. "
   ]
  },
  {
   "cell_type": "code",
   "execution_count": 4,
   "metadata": {
    "collapsed": false
   },
   "outputs": [
    {
     "name": "stdout",
     "output_type": "stream",
     "text": [
      "CPU times: user 13 ms, sys: 7 ms, total: 20 ms\n",
      "Wall time: 39.7 s\n"
     ]
    }
   ],
   "source": [
    "%%time\n",
    "data = hc.read.parquet('/user/roskarr/twitter/2014_1*')"
   ]
  },
  {
   "cell_type": "markdown",
   "metadata": {},
   "source": [
    "`data` is now a `DataFrame` object, which is essentially a collection of `Row` objects. Each `Row` object contains data for whatever columns are defined in the `DataFrame`. Here is a critical difference between `DataFrames` and `RDD`s: each column has an associated data type. While in dealing with an `RDD` we relied on Python to convert types, here each column has a specified data type. This means that:\n",
    "\n",
    "a) we have to be a bit more careful about what we are doing and \n",
    "\n",
    "b) the execution engine can optimize our calculations because the data is no longer a black box. "
   ]
  },
  {
   "cell_type": "markdown",
   "metadata": {},
   "source": [
    "### Importing libraries and types for `DataFrame` API\n",
    "\n",
    "The next few cells are a bit lengthy and complicated so you can just treat them as black boxes for now. First, we just import some necessary libraries and classes, then a series of functions are defined and executed on the `data` to give us a `DataFrame` of hashtags. "
   ]
  },
  {
   "cell_type": "code",
   "execution_count": 5,
   "metadata": {
    "collapsed": true
   },
   "outputs": [],
   "source": [
    "import pyspark.sql.functions as func\n",
    "from pyspark.sql import Row, Window\n",
    "from pyspark.sql.types import IntegerType, ArrayType, StringType, NullType, LongType, StructField, StructType, DateType, DataType, DateConverter, DatetimeConverter, TimestampType, BooleanType\n",
    "import datetime"
   ]
  },
  {
   "cell_type": "markdown",
   "metadata": {},
   "source": [
    "### Custom functions to extract hashtags\n",
    "\n",
    "The twitter data is rather complex and includes many different kinds of fields that we will not be using here. We will also change the format of the time string to something that Spark will have an easier time understanding. \n",
    "\n",
    "Here we define a few \"user defined functions\" (UDFs) -- these are crucial for working with `DataFrame`s and we will discuss them in more detail in a bit. "
   ]
  },
  {
   "cell_type": "code",
   "execution_count": 6,
   "metadata": {
    "collapsed": false
   },
   "outputs": [
    {
     "data": {
      "text/plain": [
       "DataFrame[date: string, hashtag: string]"
      ]
     },
     "execution_count": 6,
     "metadata": {},
     "output_type": "execute_result"
    }
   ],
   "source": [
    "# change the date format to YYYY-MM-DD HH:MM:SS\n",
    "convert_date_string = func.udf(lambda date_string: datetime.date.strftime(datetime.datetime.strptime(date_string, '%a %b %d %H:%M:%S +0000 %Y'),'%Y-%m-%d %H:%M:%S'), StringType())\n",
    "\n",
    "# make UDF for converting the date string to a datetime object\n",
    "datetime_udf = func.udf(lambda date_string: datetime.strptime(date_string, '%a %b %d %H:%M:%S +0000 %Y'), DateType())\n",
    "\n",
    "# make a UDF \n",
    "hash_text_udf = func.udf(lambda row: [r.text.lower() for r in row], returnType=ArrayType(StringType()))\n",
    "\n",
    "Npartitions = sc.defaultParallelism*5\n",
    "\n",
    "# only keep the tweets with at least one hashtag\n",
    "hashtag_df = (data.select('created_at', 'entities.hashtags')\n",
    "                .filter(func.size('hashtags') > 0)\n",
    "                .withColumn('hash_text', hash_text_udf('hashtags'))\n",
    "                .select(convert_date_string('created_at').alias('date'), func.explode('hash_text').alias('hashtag'))\n",
    "                .withColumn('hashtag', func.lower(func.col('hashtag')))\n",
    "                .repartition(Npartitions))\n",
    "hashtag_df.cache()"
   ]
  },
  {
   "cell_type": "markdown",
   "metadata": {},
   "source": [
    "#### A look at the raw data\n",
    "\n",
    "We now have a `DataFrame` consisting of a timestamp and hashtag. The `show()` method is extremelly useful here -- it functions like `take()` for an RDD, but it formats the output nicely so it's more easily readable. "
   ]
  },
  {
   "cell_type": "markdown",
   "metadata": {},
   "source": [
    "<div class=\"alert alert-info\">\n",
    "<p>We're dealing with ~3 Tb of raw data here, so some of these operations might take a little time...</p>\n",
    "</div>"
   ]
  },
  {
   "cell_type": "code",
   "execution_count": 7,
   "metadata": {
    "collapsed": false
   },
   "outputs": [
    {
     "name": "stdout",
     "output_type": "stream",
     "text": [
      "+-------------------+----------------------+\n",
      "|date               |hashtag               |\n",
      "+-------------------+----------------------+\n",
      "|2014-10-06 07:18:25|hennessyartistry2014  |\n",
      "|2014-10-01 23:19:00|followback            |\n",
      "|2014-10-01 23:19:31|sexysaturday          |\n",
      "|2014-10-02 07:58:01|السعودية              |\n",
      "|2014-10-02 07:58:34|android용              |\n",
      "|2014-10-02 15:25:04|สาระ                  |\n",
      "|2014-10-02 15:25:29|幽々子愛してる               |\n",
      "|2014-10-02 15:25:51|كنز_المسلم            |\n",
      "|2014-10-02 19:02:15|مكوة                  |\n",
      "|2014-10-02 19:02:34|threewitnesses        |\n",
      "|2014-10-02 19:02:52|tityfollowtrain       |\n",
      "|2014-10-03 00:58:15|mgwv                  |\n",
      "|2014-10-03 00:58:42|meponedemalhumor      |\n",
      "|2014-10-03 12:57:06|النويصيب              |\n",
      "|2014-10-03 12:57:23|broelibibleexpo       |\n",
      "|2014-10-03 12:57:46|まとめ                   |\n",
      "|2014-10-03 19:14:09|obamacare             |\n",
      "|2014-10-03 19:14:32|osona                 |\n",
      "|2014-10-03 19:14:57|مغرد_تهنئه_بقدوم_العيد|\n",
      "|2014-10-04 00:45:18|followback            |\n",
      "+-------------------+----------------------+\n",
      "only showing top 20 rows\n",
      "\n"
     ]
    }
   ],
   "source": [
    "hashtag_df.show(truncate=False)"
   ]
  },
  {
   "cell_type": "markdown",
   "metadata": {},
   "source": [
    "Underneath the `DataFrame` object is an RDD of `Row` objects, which are just containers used by `DataFrame`:"
   ]
  },
  {
   "cell_type": "code",
   "execution_count": 8,
   "metadata": {
    "collapsed": false
   },
   "outputs": [
    {
     "data": {
      "text/plain": [
       "[Row(date=u'2014-10-06 07:18:25', hashtag=u'hennessyartistry2014'),\n",
       " Row(date=u'2014-10-01 23:19:00', hashtag=u'followback'),\n",
       " Row(date=u'2014-10-01 23:19:31', hashtag=u'sexysaturday'),\n",
       " Row(date=u'2014-10-02 07:58:01', hashtag=u'\\u0627\\u0644\\u0633\\u0639\\u0648\\u062f\\u064a\\u0629'),\n",
       " Row(date=u'2014-10-02 07:58:34', hashtag=u'android\\uc6a9')]"
      ]
     },
     "execution_count": 8,
     "metadata": {},
     "output_type": "execute_result"
    }
   ],
   "source": [
    "hashtag_df.take(5)"
   ]
  },
  {
   "cell_type": "markdown",
   "metadata": {},
   "source": [
    "The structure of `Row`s is revealed by the `DataFrame` schema: "
   ]
  },
  {
   "cell_type": "code",
   "execution_count": 9,
   "metadata": {
    "collapsed": false
   },
   "outputs": [
    {
     "name": "stdout",
     "output_type": "stream",
     "text": [
      "root\n",
      " |-- date: string (nullable = true)\n",
      " |-- hashtag: string (nullable = true)\n",
      "\n"
     ]
    }
   ],
   "source": [
    "hashtag_df.printSchema()"
   ]
  },
  {
   "cell_type": "markdown",
   "metadata": {},
   "source": [
    "In `DataFrame`s, you can think of the `select` method to be analogous to `map` in an `RDD`. In its simplest form, `select` is just used to, well, trim down the `DataFrame` to the columns that are needed: "
   ]
  },
  {
   "cell_type": "code",
   "execution_count": 10,
   "metadata": {
    "collapsed": false
   },
   "outputs": [
    {
     "name": "stdout",
     "output_type": "stream",
     "text": [
      "+-------------------+\n",
      "|               date|\n",
      "+-------------------+\n",
      "|2014-10-06 07:18:25|\n",
      "|2014-10-01 23:19:00|\n",
      "|2014-10-01 23:19:31|\n",
      "|2014-10-02 07:58:01|\n",
      "|2014-10-02 07:58:34|\n",
      "+-------------------+\n",
      "only showing top 5 rows\n",
      "\n"
     ]
    }
   ],
   "source": [
    "hashtag_df.select('date').show(5)"
   ]
  },
  {
   "cell_type": "markdown",
   "metadata": {},
   "source": [
    "You can select multiple columns: "
   ]
  },
  {
   "cell_type": "code",
   "execution_count": 11,
   "metadata": {
    "collapsed": false
   },
   "outputs": [
    {
     "name": "stdout",
     "output_type": "stream",
     "text": [
      "+-------------------+--------------------+\n",
      "|               date|             hashtag|\n",
      "+-------------------+--------------------+\n",
      "|2014-10-06 07:18:25|hennessyartistry2014|\n",
      "|2014-10-01 23:19:00|          followback|\n",
      "|2014-10-01 23:19:31|        sexysaturday|\n",
      "|2014-10-02 07:58:01|            السعودية|\n",
      "|2014-10-02 07:58:34|            android용|\n",
      "+-------------------+--------------------+\n",
      "only showing top 5 rows\n",
      "\n"
     ]
    }
   ],
   "source": [
    "hashtag_df.select('date', 'hashtag').show(5)"
   ]
  },
  {
   "cell_type": "markdown",
   "metadata": {},
   "source": [
    "In addition, we can pass functions to `select` that will operate on existing columns and define a new column. For example, lets use the `month` function to extract the month from the date string: "
   ]
  },
  {
   "cell_type": "code",
   "execution_count": 12,
   "metadata": {
    "collapsed": false
   },
   "outputs": [
    {
     "name": "stdout",
     "output_type": "stream",
     "text": [
      "+--------------------+-----------+\n",
      "|             hashtag|month(date)|\n",
      "+--------------------+-----------+\n",
      "|hennessyartistry2014|         10|\n",
      "|          followback|         10|\n",
      "|        sexysaturday|         10|\n",
      "|            السعودية|         10|\n",
      "|            android용|         10|\n",
      "+--------------------+-----------+\n",
      "only showing top 5 rows\n",
      "\n"
     ]
    }
   ],
   "source": [
    "hashtag_df.select('hashtag', func.month('date')).show(5)"
   ]
  },
  {
   "cell_type": "markdown",
   "metadata": {},
   "source": [
    "If some extra functionality is needed, we can define a custom \"user defined function\" (UDF) that uses the standard python interpreter. The function has to be registered as a UDF using [`pyspark.sql.functions.udf`](https://spark.apache.org/docs/latest/api/python/pyspark.sql.html#pyspark.sql.functions.udf). For example: "
   ]
  },
  {
   "cell_type": "code",
   "execution_count": 13,
   "metadata": {
    "collapsed": false
   },
   "outputs": [],
   "source": [
    "def string_length(x):\n",
    "    return len(x)\n",
    "\n",
    "string_length_udf = func.udf(string_length, LongType())"
   ]
  },
  {
   "cell_type": "code",
   "execution_count": 14,
   "metadata": {
    "collapsed": false
   },
   "outputs": [
    {
     "name": "stdout",
     "output_type": "stream",
     "text": [
      "+--------------------+--------------------------------+\n",
      "|             hashtag|PythonUDF#string_length(hashtag)|\n",
      "+--------------------+--------------------------------+\n",
      "|hennessyartistry2014|                              20|\n",
      "|          followback|                              10|\n",
      "|        sexysaturday|                              12|\n",
      "|            السعودية|                               8|\n",
      "|            android용|                               8|\n",
      "+--------------------+--------------------------------+\n",
      "only showing top 5 rows\n",
      "\n"
     ]
    }
   ],
   "source": [
    "hashtag_df.select('hashtag', string_length_udf('hashtag')).show(5)"
   ]
  },
  {
   "cell_type": "markdown",
   "metadata": {},
   "source": [
    "### `DataFrame` superpower:  `groupBy`\n",
    "\n",
    "`DataFrame`'s `groupBy()` method to allows you to collect together rows that share a common value. This is a powerful method that allows you to perform aggregations on your data quickly. It can serve as a replacement to `reduceByKey` that is used on `RDD`s and requires considerably less wrangling with keys and values. \n",
    "\n",
    "This is also where things get a little confusing: unlike other `DataFrame` and `RDD` methods, `groupBy` doesn't return another `DataFrame`. Instead, it returns a `GroupedData` object, which has very limited functionality. It can *only* perform the dedicated aggregation functions `avg`, `count`, `max`, `mean`, `min`, and `sum`. You can specify a column (or columns) for the aggregation for all of these except `count`, which just counts the number of rows in each group. These methods all return another `DataFrame`, so the `GroupedData` is a sort of intermediate stage. \n",
    "\n",
    "Here, we will try to find out how many hashtags are tweeted each minute, so we will first create a custom UDF that calculates minute-of-the-year for each hashtag. Then we will use `groupBy` aggregation methods to obtain counts. "
   ]
  },
  {
   "cell_type": "code",
   "execution_count": 15,
   "metadata": {
    "collapsed": true
   },
   "outputs": [],
   "source": [
    "minute_of_the_year = (func.dayofyear('date')*60*24 + func.hour('date')*60 + func.minute('date')).alias('moy')"
   ]
  },
  {
   "cell_type": "code",
   "execution_count": 16,
   "metadata": {
    "collapsed": true
   },
   "outputs": [],
   "source": [
    "moy_df = hashtag_df.select('hashtag', minute_of_the_year)"
   ]
  },
  {
   "cell_type": "code",
   "execution_count": 17,
   "metadata": {
    "collapsed": false
   },
   "outputs": [
    {
     "name": "stdout",
     "output_type": "stream",
     "text": [
      "+--------------------+------+\n",
      "|             hashtag|   moy|\n",
      "+--------------------+------+\n",
      "|hennessyartistry2014|402198|\n",
      "|          followback|395959|\n",
      "|        sexysaturday|395959|\n",
      "|            السعودية|396478|\n",
      "|            android용|396478|\n",
      "+--------------------+------+\n",
      "only showing top 5 rows\n",
      "\n"
     ]
    }
   ],
   "source": [
    "moy_df.show(5)"
   ]
  },
  {
   "cell_type": "code",
   "execution_count": 18,
   "metadata": {
    "collapsed": false
   },
   "outputs": [
    {
     "data": {
      "text/plain": [
       "<pyspark.sql.group.GroupedData at 0x2ae65c032d50>"
      ]
     },
     "execution_count": 18,
     "metadata": {},
     "output_type": "execute_result"
    }
   ],
   "source": [
    "moy_group = moy_df.groupBy('moy')\n",
    "moy_group"
   ]
  },
  {
   "cell_type": "markdown",
   "metadata": {},
   "source": [
    "Note that `moy_group` is a `GroupedData` instance - it contains groups of rows that all have the same value of `'moy'`. Calling `count()` will give us back a `DataFrame`:"
   ]
  },
  {
   "cell_type": "code",
   "execution_count": 19,
   "metadata": {
    "collapsed": false
   },
   "outputs": [
    {
     "data": {
      "text/plain": [
       "DataFrame[moy: int, count: bigint]"
      ]
     },
     "execution_count": 19,
     "metadata": {},
     "output_type": "execute_result"
    }
   ],
   "source": [
    "moy_count = moy_group.count()\n",
    "moy_count"
   ]
  },
  {
   "cell_type": "code",
   "execution_count": 20,
   "metadata": {
    "collapsed": false
   },
   "outputs": [
    {
     "name": "stdout",
     "output_type": "stream",
     "text": [
      "+------+-----+\n",
      "|   moy|count|\n",
      "+------+-----+\n",
      "|424831| 1097|\n",
      "|427631|  815|\n",
      "|404431|  991|\n",
      "|415431| 1029|\n",
      "|409631|  743|\n",
      "|409031|  968|\n",
      "|418631|  991|\n",
      "|438631| 1296|\n",
      "|417231| 1071|\n",
      "|412631| 1167|\n",
      "|427431| 1109|\n",
      "|397831|  830|\n",
      "|416831|  975|\n",
      "|477631| 1161|\n",
      "|457231| 1052|\n",
      "|470431| 1190|\n",
      "|454431| 1159|\n",
      "|466231| 1202|\n",
      "|475431|  799|\n",
      "|462631|  697|\n",
      "+------+-----+\n",
      "only showing top 20 rows\n",
      "\n"
     ]
    }
   ],
   "source": [
    "moy_count.show()"
   ]
  },
  {
   "cell_type": "markdown",
   "metadata": {},
   "source": [
    "We can collect this \"reduced\" data into a Pandas dataframe and plot it: "
   ]
  },
  {
   "cell_type": "code",
   "execution_count": 21,
   "metadata": {
    "collapsed": true
   },
   "outputs": [],
   "source": [
    "moy_data = moy_count.toPandas()"
   ]
  },
  {
   "cell_type": "code",
   "execution_count": 22,
   "metadata": {
    "collapsed": false
   },
   "outputs": [
    {
     "data": {
      "text/plain": [
       "<matplotlib.text.Text at 0x2ae65e34fbd0>"
      ]
     },
     "execution_count": 22,
     "metadata": {},
     "output_type": "execute_result"
    },
    {
     "data": {
      "image/png": "[encoded data removed]",
      "text/plain": [
       "<matplotlib.figure.Figure at 0x2ae65c0323d0>"
      ]
     },
     "metadata": {},
     "output_type": "display_data"
    }
   ],
   "source": [
    "fig, ax = plt.subplots()\n",
    "plt.plot(moy_data['moy'][:1000], moy_data['count'][:1000], 'o', alpha=.5)\n",
    "plt.xlabel('minute of year'); plt.ylabel('hashtags per minute')"
   ]
  },
  {
   "cell_type": "markdown",
   "metadata": {},
   "source": [
    "For fun, lets do a quick aside and check for any obvious periods in there..."
   ]
  },
  {
   "cell_type": "code",
   "execution_count": 23,
   "metadata": {
    "collapsed": false
   },
   "outputs": [
    {
     "data": {
      "image/png": "[encoded data removed]",
      "text/plain": [
       "<matplotlib.figure.Figure at 0x2b9dae34e910>"
      ]
     },
     "metadata": {},
     "output_type": "display_data"
    }
   ],
   "source": [
    "import scipy.fftpack\n",
    "\n",
    "N = len(moy_data['count'])\n",
    "T = (moy_data['moy'].max() - moy_data['moy'].min())/N\n",
    "\n",
    "yf = scipy.fftpack.fft(moy_data['count'])\n",
    "\n",
    "xf = np.linspace(0.0, 1.0/(2.0*T), N/2)\n",
    "\n",
    "fig, ax = plt.subplots()\n",
    "ax.plot(1./xf/60.,2.0/N * np.abs(yf[0:N/2]))\n",
    "ax.set_xlim(0,36)\n",
    "ax.set_xlabel('period (hours)'); ax.set_ylabel('power');"
   ]
  },
  {
   "cell_type": "markdown",
   "metadata": {},
   "source": [
    "A lot of structure in there! some of it might be harmonics, but looking into periodicity on Twitter [has been done before](http://theory.stanford.edu/~nmishra/Papers/groupChatsOnTwitter.pdf) (obviously)."
   ]
  },
  {
   "cell_type": "markdown",
   "metadata": {},
   "source": [
    "### Simple word count revisited\n",
    "\n",
    "OK, back to Spark. Now that we have a `DataFrame` consisting of `(timestamp, hashtag)` columns, lets do a simple word count (or a hashtag count in this case) using the `DataFrame` API. To accomplish this, we'll once again use the `groupBy` method of the `DataFrame`:"
   ]
  },
  {
   "cell_type": "code",
   "execution_count": 24,
   "metadata": {
    "collapsed": false
   },
   "outputs": [
    {
     "name": "stdout",
     "output_type": "stream",
     "text": [
      "+--------------------------+-------+\n",
      "|hashtag                   |count  |\n",
      "+--------------------------+-------+\n",
      "|mtvstars                  |2415609|\n",
      "|emabiggestfans1d          |1563015|\n",
      "|emabiggestfansjustinbieber|1463966|\n",
      "|vote5sos                  |1164349|\n",
      "|votefifthharmony          |1074152|\n",
      "|kcaargentina              |747381 |\n",
      "|gameinsight               |695806 |\n",
      "|android                   |500114 |\n",
      "|rt                        |417169 |\n",
      "|teamfollowback            |403850 |\n",
      "|تطبيق_قرآنى               |393429 |\n",
      "|رتويت                     |365394 |\n",
      "|androidgames              |352950 |\n",
      "|rtした人全員フォローする             |332244 |\n",
      "|الهلال                    |324080 |\n",
      "|amas                      |311910 |\n",
      "|sougofollow               |305094 |\n",
      "|follow                    |298020 |\n",
      "|相互フォロー                    |295854 |\n",
      "|ipad                      |293422 |\n",
      "|الرياض                    |283517 |\n",
      "|السعودية                  |278007 |\n",
      "|ff                        |252875 |\n",
      "|ipadgames                 |252507 |\n",
      "|كنز_المسلم                |250930 |\n",
      "+--------------------------+-------+\n",
      "only showing top 25 rows\n",
      "\n",
      "CPU times: user 43 ms, sys: 6 ms, total: 49 ms\n",
      "Wall time: 3.36 s\n"
     ]
    }
   ],
   "source": [
    "%%time \n",
    "hashtag_df.groupBy('hashtag').count().sort('count', ascending=False).show(25, False)"
   ]
  },
  {
   "cell_type": "code",
   "execution_count": 25,
   "metadata": {
    "collapsed": false,
    "scrolled": false
   },
   "outputs": [
    {
     "name": "stdout",
     "output_type": "stream",
     "text": [
      "mtvstars 2415609\n",
      "emabiggestfans1d 1563015\n",
      "emabiggestfansjustinbieber 1463966\n",
      "vote5sos 1164349\n",
      "votefifthharmony 1074152\n",
      "kcaargentina 747381\n",
      "gameinsight 695806\n",
      "android 500114\n",
      "rt 417169\n",
      "teamfollowback 403850\n",
      "تطبيق_قرآنى 393429\n",
      "رتويت 365394\n",
      "androidgames 352950\n",
      "rtした人全員フォローする 332244\n",
      "الهلال 324080\n",
      "amas 311910\n",
      "sougofollow 305094\n",
      "follow 298020\n",
      "相互フォロー 295854\n",
      "ipad 293422\n",
      "الرياض 283517\n",
      "السعودية 278007\n",
      "ff 252875\n",
      "ipadgames 252507\n",
      "كنز_المسلم 250930\n",
      "CPU times: user 172 ms, sys: 34 ms, total: 206 ms\n",
      "Wall time: 41.2 s\n"
     ]
    }
   ],
   "source": [
    "%%time\n",
    "res = (hashtag_df.map(lambda r: (r.hashtag, 1))\n",
    "           .reduceByKey(lambda a,b:a+b)\n",
    "           .sortBy(lambda (k,count): count, ascending=False)).take(25)\n",
    "for x in res: \n",
    "    print(x[0], x[1])"
   ]
  },
  {
   "cell_type": "markdown",
   "metadata": {},
   "source": [
    " As we can see here, there are lots os languages represented on Twitter! This is very interesting by itself, but for now lets focus on just plain ascii hash tags which we are more likely to understand: "
   ]
  },
  {
   "cell_type": "code",
   "execution_count": 26,
   "metadata": {
    "collapsed": true
   },
   "outputs": [],
   "source": [
    "# define a helper UDF that can be used to filter non-ascii hashtags\n",
    "def is_ascii(s):\n",
    "    return all(ord(c) > 0 and ord(c) < 128 for c in s)\n",
    "is_ascii_udf = func.udf(is_ascii, BooleanType())"
   ]
  },
  {
   "cell_type": "code",
   "execution_count": 27,
   "metadata": {
    "collapsed": true
   },
   "outputs": [],
   "source": [
    "hashtag_df = hashtag_df.filter(is_ascii_udf('hashtag'))"
   ]
  },
  {
   "cell_type": "markdown",
   "metadata": {},
   "source": [
    "### Daily hashtag trends\n",
    "\n",
    "Now lets do something slightly more complicated and incorporate the time data into our analysis. \n",
    "\n",
    "To get information about daily hashtag usage, we must first convert the date string into a number representing day of the year. The [Spark DataFrame functions module](http://spark.apache.org/docs/latest/api/python/pyspark.sql.html#module-pyspark.sql.functions) provides a function [dayofyear](http://spark.apache.org/docs/latest/api/python/pyspark.sql.html#pyspark.sql.functions.dayofyear) that will do this for us and we can use it just like we used the User Defined Functions (UDFs) above. "
   ]
  },
  {
   "cell_type": "code",
   "execution_count": 28,
   "metadata": {
    "collapsed": false
   },
   "outputs": [
    {
     "name": "stdout",
     "output_type": "stream",
     "text": [
      "+-----+----+---+--------------------+\n",
      "|month|week|day|             hashtag|\n",
      "+-----+----+---+--------------------+\n",
      "|   10|  41|279|hennessyartistry2014|\n",
      "|   10|  40|274|          followback|\n",
      "|   10|  40|274|        sexysaturday|\n",
      "|   10|  40|275|      threewitnesses|\n",
      "|   10|  40|275|     tityfollowtrain|\n",
      "+-----+----+---+--------------------+\n",
      "only showing top 5 rows\n",
      "\n"
     ]
    }
   ],
   "source": [
    "daily_hashtag = hashtag_df.select(func.month('date').alias('month'),\n",
    "                                  func.weekofyear('date').alias('week'),\n",
    "                                  func.dayofyear('date').alias('day'), \n",
    "                                  'hashtag')\n",
    "daily_hashtag.show(5)"
   ]
  },
  {
   "cell_type": "markdown",
   "metadata": {},
   "source": [
    "We can now use the same technique as above using `groupBy` to get daily counts for each hashtag. Since we want to satisfy two conditions (counts per day and counts per hashtag), we simply give `groupBy` two columns:"
   ]
  },
  {
   "cell_type": "code",
   "execution_count": 39,
   "metadata": {
    "collapsed": false
   },
   "outputs": [],
   "source": [
    "day_counts = daily_hashtag.groupby('day', 'hashtag', 'week').count()"
   ]
  },
  {
   "cell_type": "code",
   "execution_count": 33,
   "metadata": {
    "collapsed": false
   },
   "outputs": [
    {
     "name": "stdout",
     "output_type": "stream",
     "text": [
      "CPU times: user 148 ms, sys: 25 ms, total: 173 ms\n",
      "Wall time: 37.2 s\n"
     ]
    },
    {
     "data": {
      "text/plain": [
       "11164340"
      ]
     },
     "execution_count": 33,
     "metadata": {},
     "output_type": "execute_result"
    }
   ],
   "source": [
    "%time day_counts.sort('day').count()"
   ]
  },
  {
   "cell_type": "markdown",
   "metadata": {},
   "source": [
    "#### Important aside concerning `count()` (read this while waiting for the above line to complete)\n",
    "\n",
    "The use of `count()` here is very confusing -- in the first of the two cells above, `count()` is a method of a [GroupedData](http://spark.apache.org/docs/latest/api/python/pyspark.sql.html#pyspark.sql.GroupedData) object, which performs a counting of items in each group. Our grouping here is defined by week, day, and hashtag, so calling `count()` gives us the number of times a hashtag appears each day of the year (week here has no effect since days are unique anyway). To make it even more confusing, `count()` in this case actually returns a `DataFrame`, with \"count\" as one of the columns. \n",
    "\n",
    "However, we are much more used to seeing `count()` as an `RDD` method! This is done in the second of the two cells above. There, it returns a single number representing the number of elements in the `RDD` (or `DataFrame`), which is much different. "
   ]
  },
  {
   "cell_type": "code",
   "execution_count": 31,
   "metadata": {
    "collapsed": false
   },
   "outputs": [
    {
     "name": "stdout",
     "output_type": "stream",
     "text": [
      "+---+--------------------+----+-----+\n",
      "|day|             hashtag|week|count|\n",
      "+---+--------------------+----+-----+\n",
      "|274|               crack|  40|   27|\n",
      "|282|emabiggestfansari...|  41|  796|\n",
      "|288|          mtvhottest|  42|  897|\n",
      "|275|   nationalpoetryday|  40|  916|\n",
      "|288|                  ff|  42| 3813|\n",
      "+---+--------------------+----+-----+\n",
      "only showing top 5 rows\n",
      "\n"
     ]
    }
   ],
   "source": [
    "day_counts.show(5)"
   ]
  },
  {
   "cell_type": "markdown",
   "metadata": {},
   "source": [
    "#### `RDD` analogy:\n",
    "\n",
    "The same counting of daily occurences of each hashtag can be done with an `RDD` operation using a `map` and `reduceByKey`, though it might look a bit messier: "
   ]
  },
  {
   "cell_type": "code",
   "execution_count": 31,
   "metadata": {
    "collapsed": true
   },
   "outputs": [],
   "source": [
    "# TODO\n",
    "day_counts_rdd = daily_hashtag.rdd.map(lambda r: ((r.day, r.hashtag), 1)).reduceByKey(lambda a,b: a+b)"
   ]
  },
  {
   "cell_type": "code",
   "execution_count": 34,
   "metadata": {
    "collapsed": false
   },
   "outputs": [
    {
     "name": "stdout",
     "output_type": "stream",
     "text": [
      "CPU times: user 285 ms, sys: 51 ms, total: 336 ms\n",
      "Wall time: 13.4 s\n"
     ]
    },
    {
     "data": {
      "text/plain": [
       "11164340"
      ]
     },
     "execution_count": 34,
     "metadata": {},
     "output_type": "execute_result"
    }
   ],
   "source": [
    "%time day_counts_rdd.sortBy(lambda ((day, hashtag), count): day).count()"
   ]
  },
  {
   "cell_type": "markdown",
   "metadata": {},
   "source": [
    "Wow, that takes way longer! The `DataFrame` API avoids shipping data back and forth to the Python intepreter (and can do some extra optimizations) so the performance difference can be significant, as we can see above. "
   ]
  },
  {
   "cell_type": "markdown",
   "metadata": {},
   "source": [
    "Lets make sure that the results are the same by looking up a hashtag in both places:"
   ]
  },
  {
   "cell_type": "code",
   "execution_count": 42,
   "metadata": {
    "collapsed": false
   },
   "outputs": [
    {
     "data": {
      "text/plain": [
       "[2204]"
      ]
     },
     "execution_count": 42,
     "metadata": {},
     "output_type": "execute_result"
    }
   ],
   "source": [
    "day_counts_rdd.lookup((274,'retweet'))"
   ]
  },
  {
   "cell_type": "code",
   "execution_count": 36,
   "metadata": {
    "collapsed": false
   },
   "outputs": [
    {
     "name": "stdout",
     "output_type": "stream",
     "text": [
      "+---+-------+-----+\n",
      "|day|hashtag|count|\n",
      "+---+-------+-----+\n",
      "|274|retweet| 2204|\n",
      "+---+-------+-----+\n",
      "\n"
     ]
    }
   ],
   "source": [
    "day_counts.filter((day_counts.hashtag == 'retweet') & (day_counts.day == 274)).show()"
   ]
  },
  {
   "cell_type": "markdown",
   "metadata": {},
   "source": [
    "At this point we should persist `day_counts` in memory since we'll be using it later on. "
   ]
  },
  {
   "cell_type": "code",
   "execution_count": 37,
   "metadata": {
    "collapsed": false
   },
   "outputs": [
    {
     "data": {
      "text/plain": [
       "DataFrame[day: int, hashtag: string, count: bigint]"
      ]
     },
     "execution_count": 37,
     "metadata": {},
     "output_type": "execute_result"
    }
   ],
   "source": [
    "day_counts.cache()"
   ]
  },
  {
   "cell_type": "markdown",
   "metadata": {},
   "source": [
    "We can get a quick idea of the most popular hashtags by looking at the weekly averages of daily hashtag counts:"
   ]
  },
  {
   "cell_type": "code",
   "execution_count": 41,
   "metadata": {
    "collapsed": false
   },
   "outputs": [
    {
     "name": "stdout",
     "output_type": "stream",
     "text": [
      "+----+--------------------+------------------+\n",
      "|week|             hashtag|        avg(count)|\n",
      "+----+--------------------+------------------+\n",
      "|  45|            vote5sos|          159567.0|\n",
      "|  45|    votefifthharmony|149373.85714285713|\n",
      "|  47|            mtvstars|130512.57142857143|\n",
      "|  48|            mtvstars| 97469.71428571429|\n",
      "|  49|            mtvstars| 71965.85714285714|\n",
      "|  45|    emabiggestfans1d| 65711.57142857143|\n",
      "|  46|            mtvstars|           63171.2|\n",
      "|  45|emabiggestfansjus...| 58197.57142857143|\n",
      "|  42|    emabiggestfans1d|54077.857142857145|\n",
      "|  42|emabiggestfansjus...| 52082.28571428572|\n",
      "|  44|    emabiggestfans1d| 49943.71428571428|\n",
      "|  44|emabiggestfansjus...|           47232.0|\n",
      "|  46|           murrayftw|37438.666666666664|\n",
      "|  43|        kcaargentina| 36302.28571428572|\n",
      "|  43|    emabiggestfans1d|30190.571428571428|\n",
      "|  43|emabiggestfansjus...| 29586.85714285714|\n",
      "|  42|        kcaargentina|25964.285714285714|\n",
      "|  40|       votevampsvevo|           21236.0|\n",
      "|  41|    emabiggestfans1d| 19649.14285714286|\n",
      "|  41|emabiggestfansjus...| 19479.85714285714|\n",
      "+----+--------------------+------------------+\n",
      "only showing top 20 rows\n",
      "\n"
     ]
    }
   ],
   "source": [
    "day_counts.groupBy('week', 'hashtag')\\\n",
    "           .avg('count')\\\n",
    "           .sort('avg(count)', ascending=False)\\\n",
    "           .show(20)"
   ]
  },
  {
   "cell_type": "markdown",
   "metadata": {},
   "source": [
    "Apparently, the [MTV Europe Music Awards](https://en.wikipedia.org/wiki/2014_MTV_Europe_Music_Awards) happened in late 2014... (and [yet another boy band](https://en.wikipedia.org/wiki/One_Direction) is on the scene?)"
   ]
  },
  {
   "cell_type": "markdown",
   "metadata": {},
   "source": [
    "## Using `window` functions\n",
    "\n",
    "### top daily hashtags"
   ]
  },
  {
   "cell_type": "markdown",
   "metadata": {},
   "source": [
    "Now lets say we want to know the top tweets for each day. This is a non-trivial thing to try and compute using a standard RDD, but the `DataFrame` API gives us [\"window\"](https://databricks.com/blog/2015/07/15/introducing-window-functions-in-spark-sql.html) functions that let us do it relatively easily. \n",
    "\n",
    "A window function defines how the data should be grouped and ordered. Then, when using either a ranking or analytic function (see the list in the [window functions article](https://databricks.com/blog/2015/07/15/introducing-window-functions-in-spark-sql.html)) we can specify which window to run the function over. \n",
    "\n",
    "In this example, we will define a window function, `daily_window`, over the `'day'` column so our data will be grouped by day. Applying `daily_window` to the built-in `rank` function will give us `daily_rank`, a function that will yield a new column `'rank'` that will hold the rank of each hashtag on a given day based on its counts (in descending order).\n",
    "\n",
    "In the end, this is a fairly complicated operation achieved in just a few lines of code! "
   ]
  },
  {
   "cell_type": "markdown",
   "metadata": {},
   "source": [
    "First, specify the quantity to window over -- in this case we want rankings per day:"
   ]
  },
  {
   "cell_type": "code",
   "execution_count": 43,
   "metadata": {
    "collapsed": false
   },
   "outputs": [],
   "source": [
    "daily_window = Window.partitionBy('day')"
   ]
  },
  {
   "cell_type": "markdown",
   "metadata": {},
   "source": [
    "Second, define a function that we want to compute over the window\n",
    "\n",
    "Here, we want to know the daily ranking of hashtags, so our function is `func.rank()` and we want the hashtags ordered by descending `'count'` column values."
   ]
  },
  {
   "cell_type": "code",
   "execution_count": 47,
   "metadata": {
    "collapsed": false
   },
   "outputs": [],
   "source": [
    "daily_rank = func.rank() \\\n",
    "                 .over(daily_window.orderBy(func.desc('count'))) \\\n",
    "                 .alias('rank')"
   ]
  },
  {
   "cell_type": "markdown",
   "metadata": {},
   "source": [
    "So here are the top five hashtags for a few days:"
   ]
  },
  {
   "cell_type": "code",
   "execution_count": 49,
   "metadata": {
    "collapsed": false
   },
   "outputs": [
    {
     "name": "stdout",
     "output_type": "stream",
     "text": [
      "+---+-----+-------------+----+\n",
      "|day|count|      hashtag|rank|\n",
      "+---+-----+-------------+----+\n",
      "|274| 9880|  gameinsight|   1|\n",
      "|274| 9179| kcaargentina|   2|\n",
      "|274| 6675|      android|   3|\n",
      "|274| 5893| androidgames|   4|\n",
      "|274| 4618|           rt|   5|\n",
      "|275|13857| kcaargentina|   1|\n",
      "|275|13725|  gameinsight|   2|\n",
      "|275|10093|   1dproposal|   3|\n",
      "|275| 9774|      android|   4|\n",
      "|275| 7515| androidgames|   5|\n",
      "|276|15196|  gameinsight|   1|\n",
      "|276|14743| kcaargentina|   2|\n",
      "|276|11497|      android|   3|\n",
      "|276| 7423| androidgames|   4|\n",
      "|276| 6806|           ff|   5|\n",
      "|277|21738|votevampsvevo|   1|\n",
      "|277|19660| kcaargentina|   2|\n",
      "|277|15055|  gameinsight|   3|\n",
      "|277|11135|      android|   4|\n",
      "|277| 7401| androidgames|   5|\n",
      "+---+-----+-------------+----+\n",
      "only showing top 20 rows\n",
      "\n"
     ]
    }
   ],
   "source": [
    "(day_counts.select('day', 'count', 'hashtag', daily_rank)\n",
    "           .filter('rank <= 5')\n",
    "           .show(20))"
   ]
  },
  {
   "cell_type": "markdown",
   "metadata": {},
   "source": [
    "### A more complicated `Window` example: calculating the daily standard deviation based on a weekly window\n",
    "\n",
    "The above list of top daily hashtags is interesting, but it really only uncovers very frequent hashtags (e.g. \"ff\" for \"friend forward\" or \"rt\" for \"retweet\"). We want to try and identify \"world events\" and for that we want to detect a rapid *change* in the tweeting pattern. \n",
    "\n",
    "One very simple model to do this is to just look at the standard deviation of daily tweets. We want to have some sort of reasonably fine-grained control, so we will look at top hashtags per week. Remember standard deviation is just:\n",
    "\n",
    "$$\\sigma = \\sqrt{\\frac{1}{N}\\sum_i{(x_i-\\mu)^2}},$$\n",
    "\n",
    "where $x_i$ is the daily count of a hashtag, $\\mu$ is the weekly average and $N$ is the number of samples (here $N=7$ since there are always seven days in a week). \n",
    "\n",
    "So the procedure is something like this: \n",
    "\n",
    "1. calculate $\\mu$ for each hastag and each week\n",
    "2. compute the sum and take the square root\n",
    "3. order tweets for each week in order of decreasing $\\sigma$\n",
    "\n",
    "Using standard `RDD`s, the first step would be the most time consuming -- we would need to do an expensive `reduceByKey` on `(week, hashtag, count)` key-value pairs and then either join this result with the original `RDD` or broadcast it as a lookup-table (depending on its size). \n",
    "\n",
    "Using a `DataFrame`, we can instead use a \"window\" function to do the same thing. \n",
    "\n",
    "#### Constructing the window function and calculating $\\sigma$\n",
    "\n",
    "Our procedure to calculate $\\sigma$ using a weekly mean is as follows:\n",
    "\n",
    "1. define a `Window` function that will group the data by hashtag and by week\n",
    "2. compute `mean_diff` which is the difference between the data point and the weekly mean using the window function\n",
    "2. calculate `var_arg`, which is just $1/7 \n",
    "3. use `groupBy` to sum up the `sum_arg` column for each hashtag each week\n",
    "4. calculate `sigma` by taking the square root of the variance "
   ]
  },
  {
   "cell_type": "code",
   "execution_count": 50,
   "metadata": {
    "collapsed": true
   },
   "outputs": [],
   "source": [
    "# define the window function, partitioned over 'week' and 'hashtag'\n",
    "weekly_window = Window.partitionBy('week', 'hashtag')"
   ]
  },
  {
   "cell_type": "code",
   "execution_count": 51,
   "metadata": {
    "collapsed": false
   },
   "outputs": [],
   "source": [
    "# define the mean_diff function which computes the difference between each data point 'count' \n",
    "# and the mean of 'count' over the weekly window (defined above)\n",
    "mean_diff = day_counts['count'] - func.mean('count').over(weekly_window)\n",
    "\n",
    "var_arg = 1./7*func.pow(mean_diff, 2)"
   ]
  },
  {
   "cell_type": "code",
   "execution_count": 52,
   "metadata": {
    "collapsed": false
   },
   "outputs": [],
   "source": [
    "weekly_stats = (day_counts.withColumn('var_arg', var_arg)\n",
    "                         .groupBy('week', 'hashtag')\n",
    "                         .sum('var_arg')\n",
    "                         .withColumnRenamed('sum(var_arg)', 'variance')\n",
    "                         .withColumn('stddev', func.sqrt('variance'))\n",
    "                         .sort('stddev', ascending=False))"
   ]
  },
  {
   "cell_type": "code",
   "execution_count": 53,
   "metadata": {
    "collapsed": false
   },
   "outputs": [
    {
     "name": "stdout",
     "output_type": "stream",
     "text": [
      "+----+--------------------+--------------------+------------------+\n",
      "|week|             hashtag|            variance|            stddev|\n",
      "+----+--------------------+--------------------+------------------+\n",
      "|  45|            vote5sos|2.996737583968431...|173110.87730031385|\n",
      "|  45|    votefifthharmony|2.716333743123814E10|164813.03780720182|\n",
      "|  46|           murrayftw| 5.839912011898922E9|  76419.3170075402|\n",
      "|  46|            mtvstars| 4.506280249538351E9| 67128.83322044523|\n",
      "|  45|    emabiggestfans1d| 2.444459140813882E9|49441.471871434835|\n",
      "|  45|emabiggestfansjus...|1.9072126811001334E9| 43671.64619178139|\n",
      "|  41|    emabiggestfans1d| 5.615435298361732E8| 23696.90971068112|\n",
      "|  49|            mtvstars| 5.328185101219162E8|23082.861826946766|\n",
      "|  41|emabiggestfansjus...| 4.734708501219754E8|21759.385334194885|\n",
      "|  44|        kcaargentina|3.2434063599967563E8|18009.459625421183|\n",
      "|  46|            vote5sos|2.2709849277528304E8|15069.787416393207|\n",
      "|  48|            ferguson| 2.010179525304112E8|14178.080001552087|\n",
      "|  49|            2014mama|  1.36033745632517E8|11663.350532009103|\n",
      "|  45|         fourhangout|1.0834253697132023E8|10408.772116408363|\n",
      "|  43|emabiggestfansjus...|1.0385722155091652E8|10191.036333509783|\n",
      "|  43|    emabiggestfans1d| 9.939805853051284E7| 9969.857498004314|\n",
      "|  44|    emabiggestfans1d| 9.878084763255428E7| 9938.855448820768|\n",
      "|  47|         followmecam|  9.79572685713306E7|  9897.33643822067|\n",
      "|  48|                amas| 8.395723820399767E7| 9162.818245714452|\n",
      "|  44|emabiggestfansjus...| 7.830238657135026E7|  8848.86357513496|\n",
      "+----+--------------------+--------------------+------------------+\n",
      "only showing top 20 rows\n",
      "\n"
     ]
    }
   ],
   "source": [
    "weekly_stats.show()"
   ]
  },
  {
   "cell_type": "markdown",
   "metadata": {},
   "source": [
    "#### Top weekly hashtags by $\\sigma$\n",
    "\n",
    "To get the hashtags that had the most abrupt changes in their usage, we need to rank the hashtags for each week by the standard deviations that we calculated above. Here we use the same pattern as before for getting the top daily tweets:\n",
    "\n",
    "1. window over the `'week'` and order by '`stddev`'\n",
    "2. create a column of rank computed over this window\n",
    "3. display the top 10 for several weeks in a row"
   ]
  },
  {
   "cell_type": "code",
   "execution_count": 56,
   "metadata": {
    "collapsed": true
   },
   "outputs": [],
   "source": [
    "weekly_stats_window = Window.partitionBy('week').orderBy(func.desc('stddev'))"
   ]
  },
  {
   "cell_type": "code",
   "execution_count": 57,
   "metadata": {
    "collapsed": false
   },
   "outputs": [
    {
     "name": "stdout",
     "output_type": "stream",
     "text": [
      "Top ten hashtags with highest variation each week\n",
      "+----+--------------------+------------------+----+\n",
      "|week|             hashtag|            stddev|rank|\n",
      "+----+--------------------+------------------+----+\n",
      "|  40|      followmecarter| 4248.384701437773|   1|\n",
      "|  40|          1dproposal|3329.9083041841595|   2|\n",
      "|  40|        kcaargentina| 3225.485788438413|   3|\n",
      "|  40|  hormonestheseries2|2207.9251410694505|   4|\n",
      "|  40|       nashsnewvideo|1888.8845839343926|   5|\n",
      "|  40|         gameinsight|1659.7393427015975|   6|\n",
      "|  40|       debatenaglobo| 1627.613643167789|   7|\n",
      "|  40|     sbspopasiabeast| 1622.262210177133|   8|\n",
      "|  40|                  ff|1599.9488027515165|   9|\n",
      "|  41|    emabiggestfans1d|23696.909710681124|   1|\n",
      "|  41|emabiggestfansjus...|21759.385334194885|   2|\n",
      "|  41|        kcaargentina| 4302.523236899845|   3|\n",
      "|  41|  hormonestheseries2|2998.8986413707776|   4|\n",
      "|  41|  alwayssupportluhan| 2590.285808829184|   5|\n",
      "|  41|thankyou1dforthewwat|2133.0928393344575|   6|\n",
      "|  41|       jamesandjames|  2045.59757248762|   7|\n",
      "|  41|        myfirsttweet| 1812.567544131123|   8|\n",
      "|  41|          nashandsky|1805.1097993617573|   9|\n",
      "|  42|    emabiggestfans1d| 8329.088535768204|   1|\n",
      "|  42|emabiggestfansjus...|7270.9480166737285|   2|\n",
      "|  42|        kcaargentina|  5104.66791180091|   3|\n",
      "|  42|        camilasayshi| 3878.516556437059|   4|\n",
      "|  42|nowplayingjalenmc...|2849.2790366272147|   5|\n",
      "|  42|    bigpaynodanceoff| 2362.085978837983|   6|\n",
      "|  42|wewantzaynssongsi...| 2213.371335014025|   7|\n",
      "|  42|                  ff| 2132.682444284361|   8|\n",
      "|  42|      thewalkingdead| 2061.790058394333|   9|\n",
      "|  43|emabiggestfansjus...|10191.036333509785|   1|\n",
      "|  43|    emabiggestfans1d| 9969.857498004314|   2|\n",
      "|  43|stealmygirlvevore...|6848.8197821315425|   3|\n",
      "|  43|        followmenash|3982.6082777322813|   4|\n",
      "|  43|        kcaargentina|3689.8047069589725|   5|\n",
      "|  43|somethingbigishap...|3166.7812410334564|   6|\n",
      "|  43|stealmygirlvideot...| 3152.220275719438|   7|\n",
      "|  43|bryantandnashnewv...|2402.3266698277434|   8|\n",
      "|  43|             wannabe| 2373.569266151476|   9|\n",
      "|  44|        kcaargentina| 18009.45962542118|   1|\n",
      "|  44|    emabiggestfans1d| 9938.855448820768|   2|\n",
      "|  44|emabiggestfansjus...|  8848.86357513496|   3|\n",
      "|  44|  wildlifemusicvideo|  5251.86455130733|   4|\n",
      "|  44|somethingbigishap...| 4078.757759064176|   5|\n",
      "|  44|           halloween|4071.1469426385056|   6|\n",
      "|  44|        laliesposito| 3711.671464611424|   7|\n",
      "|  44|      gonzalohiguain|  2854.27090515106|   8|\n",
      "|  44|  rollersmusicawards|2544.3089435038205|   9|\n",
      "|  45|            vote5sos|173110.87730031385|   1|\n",
      "|  45|    votefifthharmony|164813.03780720182|   2|\n",
      "|  45|    emabiggestfans1d|49441.471871434835|   3|\n",
      "|  45|emabiggestfansjus...| 43671.64619178139|   4|\n",
      "|  45|         fourhangout|10408.772116408363|   5|\n",
      "|  45| getsomethingbignov7| 7062.943333381795|   6|\n",
      "|  45|              mtvema|  6287.00107282927|   7|\n",
      "|  45|      alexfromtarget| 5089.328286536187|   8|\n",
      "|  45|takipedenitakiped...| 4234.933081415065|   9|\n",
      "|  46|           murrayftw|  76419.3170075402|   1|\n",
      "|  46|            mtvstars| 67128.83322044523|   2|\n",
      "|  46|            vote5sos|15069.787416393207|   3|\n",
      "|  46|    votefifthharmony| 8151.188164294178|   4|\n",
      "|  46|          nashvschad| 5043.025096013522|   5|\n",
      "|  46|  rollersmusicawards| 4735.626053905286|   6|\n",
      "|  46|          murraryftw| 4155.208676208678|   7|\n",
      "|  46|        kingyammouni|3501.6320276594734|   8|\n",
      "|  46|                amas|3084.0794743443494|   9|\n",
      "|  47|         followmecam|  9897.33643822067|   1|\n",
      "|  47|   nightchangesvideo| 7797.922331866144|   2|\n",
      "|  47|           1dorlando| 7280.551896547015|   3|\n",
      "|  47|                aoty|  7193.94622198736|   4|\n",
      "|  47|            mtvstars| 7151.966240271948|   5|\n",
      "|  47|                amas| 6618.531858285481|   6|\n",
      "|  47|        sexylist2014| 6002.517981848363|   7|\n",
      "|  47|       nashsnewvideo| 3405.269251991659|   8|\n",
      "|  47|           callmecam|3234.9611990212816|   9|\n",
      "|  48|            ferguson|14178.080001552087|   1|\n",
      "|  48|                amas| 9162.818245714452|   2|\n",
      "|  48|         camfollowme| 7615.070241005805|   3|\n",
      "|  48|     academiakidscd9| 4994.973826136086|   4|\n",
      "|  48|            mtvstars| 4994.854029447232|   5|\n",
      "|  48|            amas2014| 4643.028796824516|   6|\n",
      "|  48|       mattsnewvideo| 4002.892646037146|   7|\n",
      "|  48|    fergusondecision|3861.5795435823484|   8|\n",
      "|  48|         blackfriday| 3735.141687882466|   9|\n",
      "|  49|            mtvstars|23082.861826946766|   1|\n",
      "|  49|            2014mama|11663.350532009103|   2|\n",
      "|  49|          hayesvideo|3367.7589093367756|   3|\n",
      "|  49|                rwya| 3294.901371453809|   4|\n",
      "|  49|            mama2014|2944.8195121560507|   5|\n",
      "|  49|          ericgarner|2847.8089178603523|   6|\n",
      "|  49|        welovekingth|2553.7221350120735|   7|\n",
      "|  49|      fwenvivoawards| 2331.021500992602|   8|\n",
      "|  49|      voicesavechris|2328.5702909713887|   9|\n",
      "+----+--------------------+------------------+----+\n",
      "\n"
     ]
    }
   ],
   "source": [
    "print('Top ten hashtags with highest variation each week')\n",
    "weekly_stats.select('week', 'hashtag', 'stddev', \n",
    "                     func.rank().over(weekly_stats_window).alias('rank')) \\\n",
    "            .filter('rank < 10') \\\n",
    "            .show(150)"
   ]
  },
  {
   "cell_type": "markdown",
   "metadata": {},
   "source": [
    "A lot of these are pop-culture events and probably PR campaigns, e.g. 'votefifthharmony' and 'vote5sos'. Turns out the MTV Europe Music Awards were happening during November 2014, so these are not surprising. Also, who knew Twitter was so big in Argentina... check out what [kcaaargentina](http://kidschoiceawardsargentina.mundonick.com/) refers to... (We also see another \"world event\" -- 'halloween' pop up in week 44. \n",
    "\n",
    "Interestingly, in week 48 we finally see something that we are after: [\"ferguson\"](https://en.wikipedia.org/wiki/Ferguson_unrest). This was a huge event covered world-wide and spanned several months -- it actually started in August, but in November the riots returned when the grand jury decided not to indict the police officer who shot Michael Brown. We'll explore this more a bit further down. "
   ]
  },
  {
   "cell_type": "markdown",
   "metadata": {},
   "source": [
    "### Plotting the timeseries of hashtag counts\n",
    "\n",
    "These standard deviation lists we obtained above are nice, but lets actually look at some data. Below we define a simple function for plotting time series data of hashtags. You can specify a single hashtag or a series of hashtags separated by a comma (','). Note that the time-series is normalized by the standard deviation because often the counts for different hashtags differ by orders of magnitude. "
   ]
  },
  {
   "cell_type": "code",
   "execution_count": 58,
   "metadata": {
    "collapsed": false
   },
   "outputs": [
    {
     "data": {
      "image/png": "[encoded data removed]",
      "text/plain": [
       "<matplotlib.figure.Figure at 0x2ae646f54a90>"
      ]
     },
     "metadata": {},
     "output_type": "display_data"
    }
   ],
   "source": [
    "minmax = day_counts.select(func.min('day').alias('min'), func.max('day').alias('max')).map(lambda r: (r.min,r.max)).collect()[0]\n",
    "\n",
    "from ipywidgets import interact, interactive, fixed\n",
    "import ipywidgets as widgets\n",
    "\n",
    "def plot_hashtag_timeseries(hashtags): \n",
    "    \n",
    "    if ',' in hashtags : hashtags = map(lambda x: x.strip(), hashtags.split(','))\n",
    "        \n",
    "    if type(hashtags) is not list:\n",
    "        hashtags = [hashtags]\n",
    "    max_data = 0\n",
    "    for hashtag in hashtags:\n",
    "        day_data = day_counts.filter(day_counts['hashtag'] == hashtag).select('day', 'count').sort('day').toPandas()\n",
    "        max_data = day_data['count'].max()\n",
    "        plt.plot(day_data['day'],day_data['count']/day_data['count'].std(), label = hashtag, alpha=.5)\n",
    "        \n",
    "    plt.xlabel('day of year')\n",
    "    plt.legend(fontsize='small', loc='upper left')\n",
    "    plt.xlim(minmax)\n",
    "interact(plot_hashtag_timeseries, hashtags='ferguson, fergusondecision');"
   ]
  },
  {
   "cell_type": "markdown",
   "metadata": {},
   "source": [
    "## Identifying hashtag trends with K-Means clustering\n",
    "\n",
    "The lists above give us some indication of what was big news on Twitter in the last 2.5 months of 2014. We can now use a clustering approach to identify groups of hashtags that may have been a part of the same viral development. \n",
    "\n",
    "Spark includes a K-Means clustering algorithm in MLLib, but it doesn't take a `DataFrame` as input. Instead, we have to pass to it an `RDD` of vectors. "
   ]
  },
  {
   "cell_type": "code",
   "execution_count": 64,
   "metadata": {
    "collapsed": true
   },
   "outputs": [],
   "source": [
    "from pyspark.mllib.linalg import SparseVector\n",
    "\n",
    "minday, maxday = day_counts.select(func.min('day').alias('min'), func.max('day').alias('max')).map(lambda r: (r.min,r.max)).collect()[0]\n",
    "\n",
    "Ndays = maxday-minday+1"
   ]
  },
  {
   "cell_type": "markdown",
   "metadata": {},
   "source": [
    "For each hashtag, we want an array of daily occurence counts -- the procedure is a bit complex, but the steps go as follows:\n",
    "\n",
    "1. select `'hashtag'`, `'day'` and `'counts'` from `day_counts`\n",
    "2. map to an RDD of the form `(hashtag, (day, counts))`\n",
    "3. use `aggregateByKey` to build a list of `(day, count)` pairs for each hashtag\n",
    "4. use this list of `(day,count)` pairs to create a `SparseVector`"
   ]
  },
  {
   "cell_type": "code",
   "execution_count": 80,
   "metadata": {
    "collapsed": true
   },
   "outputs": [],
   "source": [
    "def add_tuple_to_vector(vec, tup):\n",
    "    day, count = tup\n",
    "    vec[day] += count\n",
    "    return vec"
   ]
  },
  {
   "cell_type": "code",
   "execution_count": 81,
   "metadata": {
    "collapsed": false
   },
   "outputs": [
    {
     "data": {
      "text/plain": [
       "PythonRDD[755] at RDD at PythonRDD.scala:43"
      ]
     },
     "execution_count": 81,
     "metadata": {},
     "output_type": "execute_result"
    }
   ],
   "source": [
    "day_counts_vec = \\\n",
    "    day_counts.withColumnRenamed('count', 'counts') \\\n",
    "              .map(lambda r: (r.hashtag, (r.day-minday, r.counts))) \\\n",
    "              .aggregateByKey(np.zeros(Ndays), add_tuple_to_vector, lambda a,b: a+b) \n",
    "\n",
    "day_counts_vec.cache()"
   ]
  },
  {
   "cell_type": "code",
   "execution_count": 82,
   "metadata": {
    "collapsed": false
   },
   "outputs": [
    {
     "data": {
      "text/plain": [
       "(u'rootsstep',\n",
       " array([ 0.,  0.,  0.,  0.,  0.,  0.,  0.,  0.,  0.,  0.,  0.,  0.,  0.,\n",
       "         0.,  0.,  0.,  0.,  0.,  0.,  0.,  0.,  0.,  0.,  0.,  0.,  0.,\n",
       "         0.,  0.,  0.,  0.,  0.,  0.,  0.,  0.,  0.,  0.,  0.,  0.,  0.,\n",
       "         0.,  0.,  0.,  0.,  0.,  0.,  0.,  0.,  0.,  0.,  0.,  1.,  0.,\n",
       "         0.,  0.,  0.,  0.,  0.,  0.,  0.,  0.,  0.,  0.,  0.,  0.,  0.,\n",
       "         0.,  0.,  0.]))"
      ]
     },
     "execution_count": 82,
     "metadata": {},
     "output_type": "execute_result"
    }
   ],
   "source": [
    "day_counts_vec.first()"
   ]
  },
  {
   "cell_type": "markdown",
   "metadata": {},
   "source": [
    "To filter out some of the noise, we'll get rid of everything with a mean count of less than 10 and with 'followme' in the name:"
   ]
  },
  {
   "cell_type": "code",
   "execution_count": 83,
   "metadata": {
    "collapsed": false
   },
   "outputs": [],
   "source": [
    "day_counts_filtered = day_counts_vec.filter(lambda (h,vec): (vec.mean() > 10) & ('followme' not in h)).mapValues(lambda v: v/v.std()).cache()"
   ]
  },
  {
   "cell_type": "markdown",
   "metadata": {},
   "source": [
    "### Building the model\n",
    "\n",
    "Now we have our RDD of vectors and we can feed it directly to the [KMeans clustering](https://en.wikipedia.org/wiki/K-means_clustering) algorithm from [Spark's MLlib](http://spark.apache.org/docs/latest/mllib-guide.html)."
   ]
  },
  {
   "cell_type": "code",
   "execution_count": 84,
   "metadata": {
    "collapsed": true
   },
   "outputs": [],
   "source": [
    "from pyspark.mllib.clustering import KMeans\n",
    "model = KMeans.train(day_counts_filtered.values(), 500, runs=10, maxIterations=1000, initializationMode='random')"
   ]
  },
  {
   "cell_type": "markdown",
   "metadata": {},
   "source": [
    "After we compute the model, we calculate which cluster each hashtag belongs to:"
   ]
  },
  {
   "cell_type": "code",
   "execution_count": 85,
   "metadata": {
    "collapsed": false
   },
   "outputs": [],
   "source": [
    "clusters = day_counts_filtered.mapValues(lambda vec: model.predict(vec)).cache()"
   ]
  },
  {
   "cell_type": "markdown",
   "metadata": {},
   "source": [
    "Find the cluster for `'ferguson'` and plot the timeseries for a few hashtags from that cluster:"
   ]
  },
  {
   "cell_type": "code",
   "execution_count": 118,
   "metadata": {
    "collapsed": false
   },
   "outputs": [
    {
     "data": {
      "image/png": "[encoded data removed]",
      "text/plain": [
       "<matplotlib.figure.Figure at 0x2ae65307d590>"
      ]
     },
     "metadata": {},
     "output_type": "display_data"
    }
   ],
   "source": [
    "ferguson_cluster = clusters.lookup('ferguson')[0]\n",
    "\n",
    "hashtags = clusters.filter(lambda (hashtag, cluster): cluster == ferguson_cluster).keys().takeSample(False, 5, None)\n",
    "\n",
    "days = range(minday, maxday+1)\n",
    "for hashtag in hashtags: \n",
    "    vec = day_counts_filtered.lookup(hashtag)[0]\n",
    "    plt.plot(days, vec, label = hashtag, alpha = .5)\n",
    "plt.ylabel('normalized frequency'); plt.xlabel('days');\n",
    "plt.legend(fontsize='small', loc='upper left');"
   ]
  },
  {
   "cell_type": "markdown",
   "metadata": {},
   "source": [
    "Depending on which hashtags are randomly selected, these may or may not make sense, but for the most part you should see that they all peak at about the same time. "
   ]
  },
  {
   "cell_type": "code",
   "execution_count": 119,
   "metadata": {
    "collapsed": false
   },
   "outputs": [
    {
     "data": {
      "text/plain": [
       "[u'sherlock',\n",
       " u'16days',\n",
       " u'handsup',\n",
       " u'dontsellshots',\n",
       " u'oficialsamuel',\n",
       " u'jurassicworld',\n",
       " u'camfoilowme',\n",
       " u'dwtsbethany',\n",
       " u'teamjanelskiy',\n",
       " u'lodijocallejeros',\n",
       " u'epnrenuncia30nov',\n",
       " u'oakland',\n",
       " u'ferguson',\n",
       " u'fergsuon',\n",
       " u'eunaomereciaissoluansantana',\n",
       " u'foilowmecarter',\n",
       " u'texaswantsotratour',\n",
       " u'ripverdaderaanahi',\n",
       " u'r8',\n",
       " u'fergusondecision',\n",
       " u'michaelbrown',\n",
       " u'ftp',\n",
       " u'darrenwilson',\n",
       " u'u2',\n",
       " u'prayfortrevor',\n",
       " u'justiceformikebrown',\n",
       " u'nojusticenopeace',\n",
       " u'shaw',\n",
       " u'copaamerica2015',\n",
       " u'25n',\n",
       " u'smallzywelcomeshome5sos',\n",
       " u'girlonline',\n",
       " u'foilowmenash',\n",
       " u'ripmikebrown',\n",
       " u'mikebrown',\n",
       " u'5hsledgehammervideo',\n",
       " u'bunuyayalim',\n",
       " u'sledgehammervideopremiere',\n",
       " u'papertowns',\n",
       " u'samandskatemusic']"
      ]
     },
     "metadata": {},
     "output_type": "display_data"
    }
   ],
   "source": [
    "def extract_hashtag_cluster(hashtag):\n",
    "    cluster_id = clusters.lookup(hashtag)[0]\n",
    "    return clusters.filter(lambda (hashtag, cluster): cluster == ferguson_cluster).keys().collect()\n",
    "\n",
    "interact(extract_hashtag_cluster, hashtag='ferguson');"
   ]
  },
  {
   "cell_type": "markdown",
   "metadata": {},
   "source": [
    "These are obviously not all related to Ferguson, but many are (it's nice that it catches the misspelling of \"ferguson\" also...). You can see hashtags like \"fergusondecision\", \"justiceformikebrown\", \"ripmikebrown\" etc. that are all clearly related. \n",
    "\n",
    "Feel free to build your own algorithm and experiment to clean up the clustering results!"
   ]
  },
  {
   "cell_type": "markdown",
   "metadata": {},
   "source": [
    "### Word2Vec"
   ]
  },
  {
   "cell_type": "markdown",
   "metadata": {},
   "source": [
    "<div class=\"alert alert-info\" style=\"margin=10px\"><p>Only do the following section if a) you have plenty of time and b) you have a driver with many cores and lots of memory</p></div>\n",
    "\n",
    "This section is here just for fun because word2vec is implemented in Spark and is fun to play with -- it takes a while to train the model, so only run these next few cells if you're willing to wait a while (~15 minutes on 20 executors). \n",
    "\n",
    "[Word2Vec](http://papers.nips.cc/paper/5021-distributed-representations-of-words-and-phrases-and-their-compositionality.pdf) is a popular natural language processing technique that projects words into a vector space that provides information about their context. It can then be used to complete such phrases as, for example, \"woman is to queen as man is to X?\" The answer obviously being \"king\" -- in vector space, the separation of \"woman\" and \"queen\" is similar to the offset between \"man\" and \"king\". "
   ]
  },
  {
   "cell_type": "code",
   "execution_count": 54,
   "metadata": {
    "collapsed": false
   },
   "outputs": [],
   "source": [
    "hashtag_list_df = (data.select('created_at', 'entities.hashtags')\n",
    "                .filter(func.size('hashtags') > 0)\n",
    "                .select(hash_text_udf('hashtags').alias('hashtags'), 'created_at'))"
   ]
  },
  {
   "cell_type": "code",
   "execution_count": 55,
   "metadata": {
    "collapsed": false
   },
   "outputs": [
    {
     "data": {
      "text/plain": [
       "DataFrame[hashtags: array<string>, created_at: string]"
      ]
     },
     "execution_count": 55,
     "metadata": {},
     "output_type": "execute_result"
    }
   ],
   "source": [
    "hashtag_list_df.cache()"
   ]
  },
  {
   "cell_type": "code",
   "execution_count": 56,
   "metadata": {
    "collapsed": true
   },
   "outputs": [],
   "source": [
    "from pyspark.ml.feature import Word2Vec"
   ]
  },
  {
   "cell_type": "code",
   "execution_count": 57,
   "metadata": {
    "collapsed": true
   },
   "outputs": [],
   "source": [
    "w2v = Word2Vec(numPartitions=20, inputCol='hashtags', outputCol='model')"
   ]
  },
  {
   "cell_type": "code",
   "execution_count": null,
   "metadata": {
    "collapsed": false
   },
   "outputs": [],
   "source": [
    "%time model = w2v.fit(hashtag_list_df)"
   ]
  },
  {
   "cell_type": "code",
   "execution_count": null,
   "metadata": {
    "collapsed": false
   },
   "outputs": [],
   "source": [
    "model.findSynonyms('ferguson', 10).show()"
   ]
  },
  {
   "cell_type": "code",
   "execution_count": null,
   "metadata": {
    "collapsed": true
   },
   "outputs": [],
   "source": [
    "sc.stop()"
   ]
  },
  {
   "cell_type": "code",
   "execution_count": null,
   "metadata": {
    "collapsed": true
   },
   "outputs": [],
   "source": []
  }
 ],
 "metadata": {
  "kernelspec": {
   "display_name": "Python 2",
   "language": "python",
   "name": "python2"
  },
  "language_info": {
   "codemirror_mode": {
    "name": "ipython",
    "version": 2
   },
   "file_extension": ".py",
   "mimetype": "text/x-python",
   "name": "python",
   "nbconvert_exporter": "python",
   "pygments_lexer": "ipython2",
   "version": "2.7.10"
  }
 },
 "nbformat": 4,
 "nbformat_minor": 0
}
