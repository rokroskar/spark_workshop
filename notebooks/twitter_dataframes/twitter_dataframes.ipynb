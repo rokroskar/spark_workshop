{
 "cells": [
  {
   "cell_type": "code",
   "execution_count": 1,
   "metadata": {
    "collapsed": true
   },
   "outputs": [],
   "source": [
    "from __future__ import print_function\n",
    "%matplotlib inline\n",
    "import matplotlib.pylab as plt\n",
    "import sys, os, glob\n",
    "import numpy as np\n",
    "\n",
    "# set some nicer plotting options\n",
    "plt.rcParams['figure.figsize'] = (10,6)\n",
    "plt.rcParams['font.size'] = 18\n",
    "plt.style.use('fivethirtyeight')"
   ]
  },
  {
   "cell_type": "code",
   "execution_count": 2,
   "metadata": {
    "collapsed": true
   },
   "outputs": [],
   "source": [
    "from pyspark.sql import SQLContext, HiveContext"
   ]
  },
  {
   "cell_type": "code",
   "execution_count": 3,
   "metadata": {
    "collapsed": false
   },
   "outputs": [],
   "source": [
    "sqc = SQLContext(sc)\n",
    "hc = HiveContext(sc)"
   ]
  },
  {
   "cell_type": "code",
   "execution_count": 4,
   "metadata": {
    "collapsed": false
   },
   "outputs": [
    {
     "name": "stdout",
     "output_type": "stream",
     "text": [
      "Picked up _JAVA_OPTIONS: -Xmx10G -Xms256m -XX:ParallelGCThreads=5\n",
      "15/11/11 23:35:09 WARN util.NativeCodeLoader: Unable to load native-hadoop library for your platform... using builtin-java classes where applicable\n",
      "Found 7 items\n",
      "drwxr-xr-x   - roskarr supergroup          0 2015-11-02 16:21 /user/roskarr/twitter/2014_05\n",
      "drwxr-xr-x   - roskarr supergroup          0 2015-11-02 16:26 /user/roskarr/twitter/2014_06\n",
      "drwxr-xr-x   - roskarr supergroup          0 2015-11-02 16:31 /user/roskarr/twitter/2014_07\n",
      "drwxr-xr-x   - roskarr supergroup          0 2015-11-02 16:37 /user/roskarr/twitter/2014_09\n",
      "drwxr-xr-x   - roskarr supergroup          0 2015-11-02 16:43 /user/roskarr/twitter/2014_10\n",
      "drwxr-xr-x   - roskarr supergroup          0 2015-11-02 16:49 /user/roskarr/twitter/2014_11\n",
      "drwxr-xr-x   - roskarr supergroup          0 2015-11-02 16:50 /user/roskarr/twitter/2014_12\n"
     ]
    }
   ],
   "source": [
    "!hadoop fs -ls /user/roskarr/twitter"
   ]
  },
  {
   "cell_type": "code",
   "execution_count": 5,
   "metadata": {
    "collapsed": false
   },
   "outputs": [
    {
     "name": "stdout",
     "output_type": "stream",
     "text": [
      "Picked up _JAVA_OPTIONS: -Xmx10G -Xms256m -XX:ParallelGCThreads=5\n",
      "15/11/11 23:35:11 WARN util.NativeCodeLoader: Unable to load native-hadoop library for your platform... using builtin-java classes where applicable\n",
      "55.1 G  /user/roskarr/twitter/2014_05\n",
      "31.7 G  /user/roskarr/twitter/2014_06\n",
      "51.0 G  /user/roskarr/twitter/2014_07\n",
      "59.6 G  /user/roskarr/twitter/2014_09\n",
      "61.9 G  /user/roskarr/twitter/2014_10\n",
      "62.0 G  /user/roskarr/twitter/2014_11\n",
      "12.1 G  /user/roskarr/twitter/2014_12\n"
     ]
    }
   ],
   "source": [
    "!hadoop fs -du -h /user/roskarr/twitter"
   ]
  },
  {
   "cell_type": "code",
   "execution_count": 101,
   "metadata": {
    "collapsed": false
   },
   "outputs": [
    {
     "name": "stdout",
     "output_type": "stream",
     "text": [
      "CPU times: user 4 ms, sys: 0 ns, total: 4 ms\n",
      "Wall time: 5.22 s\n"
     ]
    }
   ],
   "source": [
    "%%time\n",
    "data = hc.read.parquet('/user/roskarr/twitter/2014_09','/user/roskarr/twitter/2014_1*')"
   ]
  },
  {
   "cell_type": "code",
   "execution_count": 102,
   "metadata": {
    "collapsed": true
   },
   "outputs": [],
   "source": [
    "import pyspark.sql.functions as func\n",
    "from pyspark.sql import Row\n",
    "from pyspark.sql import Window\n",
    "from pyspark.sql.types import IntegerType, ArrayType, StringType, StructField, StructType, DateType, DataType, DateConverter, DatetimeConverter, TimestampType, BooleanType\n",
    "import datetime"
   ]
  },
  {
   "cell_type": "code",
   "execution_count": 103,
   "metadata": {
    "collapsed": false
   },
   "outputs": [],
   "source": [
    "convert_date_string = func.udf(lambda date_string: datetime.date.strftime(datetime.datetime.strptime(date_string, '%a %b %d %H:%M:%S +0000 %Y'),'%Y-%m-%d %H:%M:%S'), StringType())"
   ]
  },
  {
   "cell_type": "code",
   "execution_count": 104,
   "metadata": {
    "collapsed": false
   },
   "outputs": [],
   "source": [
    "# make UDF for converting the date string to a datetime object\n",
    "datetime_udf = func.udf(lambda date_string: datetime.strptime(date_string, '%a %b %d %H:%M:%S +0000 %Y'), DateType())"
   ]
  },
  {
   "cell_type": "code",
   "execution_count": 105,
   "metadata": {
    "collapsed": false
   },
   "outputs": [],
   "source": [
    "hash_text_udf = func.udf(lambda row: [r.text for r in row], returnType=ArrayType(StringType()))"
   ]
  },
  {
   "cell_type": "code",
   "execution_count": 106,
   "metadata": {
    "collapsed": false
   },
   "outputs": [
    {
     "data": {
      "text/plain": [
       "DataFrame[date: string, hashtag: string]"
      ]
     },
     "execution_count": 106,
     "metadata": {},
     "output_type": "execute_result"
    }
   ],
   "source": [
    "# only keep the tweets with at least one hashtag\n",
    "hashtag_df = (data.select('created_at', 'entities.hashtags')\n",
    "                .filter(func.size('hashtags') > 0)\n",
    "                .withColumn('hash_text', hash_text_udf('hashtags'))\n",
    "                .select(convert_date_string('created_at').alias('date'), func.explode('hash_text').alias('hashtag'))\n",
    "                .withColumn('hashtag', func.lower(func.col('hashtag'))))\n",
    "             #   .repartition(1200))\n",
    "hashtag_df.cache()"
   ]
  },
  {
   "cell_type": "code",
   "execution_count": 107,
   "metadata": {
    "collapsed": false
   },
   "outputs": [
    {
     "name": "stdout",
     "output_type": "stream",
     "text": [
      "+-------------------+--------------+\n",
      "|date               |hashtag       |\n",
      "+-------------------+--------------+\n",
      "|2014-09-01 06:29:00|lovemusic     |\n",
      "|2014-09-01 06:29:00|uangtunai     |\n",
      "|2014-09-01 06:29:00|500ribu       |\n",
      "|2014-09-01 06:29:00|samsung       |\n",
      "|2014-09-01 06:29:00|smartphone    |\n",
      "|2014-09-01 06:29:00|my_inspiration|\n",
      "|2014-09-01 06:29:00|三代目jsbが好きな人rt |\n",
      "|2014-09-01 06:29:00|rtしてくれた人フォロー  |\n",
      "|2014-09-01 06:29:02|عرب           |\n",
      "|2014-09-01 06:29:02|الرياض        |\n",
      "|2014-09-01 06:29:02|الهلال        |\n",
      "|2014-09-01 06:29:02|غرد_بصورة     |\n",
      "|2014-09-01 06:29:02|النصر         |\n",
      "|2014-09-01 06:29:02|دبي           |\n",
      "|2014-09-01 06:29:02|رتويت         |\n",
      "|2014-09-01 06:29:02|نكت           |\n",
      "|2014-09-01 06:29:02|الامارات      |\n",
      "|2014-09-01 06:29:02|صباح_الخير    |\n",
      "|2014-09-01 06:29:02|شعر           |\n",
      "|2014-09-01 06:29:02|porn          |\n",
      "+-------------------+--------------+\n",
      "only showing top 20 rows\n",
      "\n"
     ]
    }
   ],
   "source": [
    "hashtag_df.show(truncate=False)"
   ]
  },
  {
   "cell_type": "markdown",
   "metadata": {},
   "source": [
    "### Simple word count revisited\n",
    "\n",
    "Now that we have a `DataFrame` consisting of `(timestamp, hashtag)` columns, lets do a simple word count using the `DataFrame` API. This will let us decide later on which hashtags we might be interested in investigating further. "
   ]
  },
  {
   "cell_type": "code",
   "execution_count": 108,
   "metadata": {
    "collapsed": false
   },
   "outputs": [
    {
     "name": "stdout",
     "output_type": "stream",
     "text": [
      "+--------------------------+-------+\n",
      "|hashtag                   |count  |\n",
      "+--------------------------+-------+\n",
      "|mtvstars                  |2415671|\n",
      "|emabiggestfans1d          |1651343|\n",
      "|emabiggestfansjustinbieber|1546400|\n",
      "|vote5sos                  |1165841|\n",
      "|gameinsight               |1143538|\n",
      "|votefifthharmony          |1074212|\n",
      "|kcaargentina              |887787 |\n",
      "|android                   |821058 |\n",
      "|teamfollowback            |607494 |\n",
      "|تطبيق_قرآنى               |592314 |\n",
      "|رتويت                     |592117 |\n",
      "|rt                        |589686 |\n",
      "|androidgames              |584018 |\n",
      "|الهلال                    |499439 |\n",
      "|rtした人全員フォローする             |484903 |\n",
      "|ipad                      |471822 |\n",
      "|الرياض                    |466448 |\n",
      "|sougofollow               |452099 |\n",
      "|السعودية                  |436591 |\n",
      "|相互フォロー                    |427585 |\n",
      "|ipadgames                 |411636 |\n",
      "|follow                    |410051 |\n",
      "|porn                      |388949 |\n",
      "|followback                |356910 |\n",
      "|ff                        |345144 |\n",
      "|mgwv                      |330897 |\n",
      "|النصر                     |324042 |\n",
      "|كنز_المسلم                |312882 |\n",
      "|followtrick               |312301 |\n",
      "|amas                      |312131 |\n",
      "|retweet                   |306436 |\n",
      "|tfb                       |303111 |\n",
      "|openfollow                |285937 |\n",
      "|iphone                    |284904 |\n",
      "|love                      |275776 |\n",
      "|news                      |274700 |\n",
      "|nowplaying                |272856 |\n",
      "|sex                       |262229 |\n",
      "|tfbjp                     |236920 |\n",
      "|mtvema                    |226581 |\n",
      "|murrayftw                 |225070 |\n",
      "|free                      |224638 |\n",
      "|拡散希望                      |199936 |\n",
      "|بيع_متابعين               |199852 |\n",
      "|سكس                       |199244 |\n",
      "|sexylist2014              |195272 |\n",
      "|followme                  |192908 |\n",
      "|job                       |181202 |\n",
      "|ريتويت                    |173268 |\n",
      "|الاتحاد                   |165238 |\n",
      "+--------------------------+-------+\n",
      "only showing top 50 rows\n",
      "\n",
      "CPU times: user 139 ms, sys: 74 ms, total: 213 ms\n",
      "Wall time: 1min 59s\n"
     ]
    }
   ],
   "source": [
    "%%time \n",
    "hashtag_df.groupBy('hashtag').count().sort('count', ascending=False).show(50, False)"
   ]
  },
  {
   "cell_type": "markdown",
   "metadata": {},
   "source": [
    "As we can see here, there are lots os languages represented on Twitter! This is very interesting by itself, but for now lets focus on just plain ascii hash tags which we are more likely to understand: "
   ]
  },
  {
   "cell_type": "code",
   "execution_count": 109,
   "metadata": {
    "collapsed": true
   },
   "outputs": [],
   "source": [
    "# define a helper UDF that can be used to filter non-ascii hashtags\n",
    "def is_ascii(s):\n",
    "    return all(ord(c) > 0 and ord(c) < 128 for c in s)\n",
    "is_ascii_udf = func.udf(is_ascii, BooleanType())"
   ]
  },
  {
   "cell_type": "code",
   "execution_count": 110,
   "metadata": {
    "collapsed": true
   },
   "outputs": [],
   "source": [
    "hashtag_df = hashtag_df.filter(is_ascii_udf('hashtag'))"
   ]
  },
  {
   "cell_type": "markdown",
   "metadata": {},
   "source": [
    "### Daily hashtag trends\n",
    "\n",
    "Now lets do something slightly more complicated and incorporate the time data into our analysis. First, we'll try daily trends and later on do more fine-grained analysis. \n",
    "\n",
    "To get information about daily hashtag usage, we must first convert the date string into a number representing day of the year. The [Spark DataFrame functions module](http://spark.apache.org/docs/latest/api/python/pyspark.sql.html#module-pyspark.sql.functions) provides a function [dayofyear](http://spark.apache.org/docs/latest/api/python/pyspark.sql.html#pyspark.sql.functions.dayofyear) that will do this for us and we can use it just like we used the User Defined Functions (UDFs) above. "
   ]
  },
  {
   "cell_type": "code",
   "execution_count": 111,
   "metadata": {
    "collapsed": false
   },
   "outputs": [
    {
     "name": "stdout",
     "output_type": "stream",
     "text": [
      "+-----+----+---+----------+\n",
      "|month|week|day|   hashtag|\n",
      "+-----+----+---+----------+\n",
      "|    9|  36|244| lovemusic|\n",
      "|    9|  36|244| uangtunai|\n",
      "|    9|  36|244|   500ribu|\n",
      "|    9|  36|244|   samsung|\n",
      "|    9|  36|244|smartphone|\n",
      "+-----+----+---+----------+\n",
      "only showing top 5 rows\n",
      "\n"
     ]
    }
   ],
   "source": [
    "daily_hashtag = hashtag_df.select(func.month('date').alias('month'),\n",
    "                                  func.weekofyear('date').alias('week'),\n",
    "                                  func.dayofyear('date').alias('day'), \n",
    "                                  'hashtag')\n",
    "daily_hashtag.show(5)"
   ]
  },
  {
   "cell_type": "markdown",
   "metadata": {},
   "source": [
    "We can now use the same technique as above using `groupBy` to get daily counts for each hashtag. Since we want to satisfy two conditions (counts per day and counts per hashtag), we simply give `groupBy` two columns:"
   ]
  },
  {
   "cell_type": "code",
   "execution_count": 112,
   "metadata": {
    "collapsed": false
   },
   "outputs": [],
   "source": [
    "day_counts = (daily_hashtag.select('day', 'hashtag', 'week').groupby('day', 'hashtag', 'week')\n",
    "                       .count())"
   ]
  },
  {
   "cell_type": "markdown",
   "metadata": {},
   "source": [
    "#### Important aside concerning `count()`\n",
    "\n",
    "The use of `count()` here is very confusing -- in this case, `count()` is a method of a [GroupedData](http://spark.apache.org/docs/latest/api/python/pyspark.sql.html#pyspark.sql.GroupedData) object, which performs a counting of items in each group. Our grouping here is defined by week, day, and hashtag, so calling `count()` gives us the number of times a hashtag appears each week. To make it even more confusing, `count()` in this case actually returns a `DataFrame`, with \"count\" as one of the columns. \n",
    "\n",
    "However, we are much more used to seeing `count()` as an RDD method! There, it returns the number of elements in the RDD, which is much different. See for example the line below, which uses `count()` as an RDD method and actually just returns the number of rows: "
   ]
  },
  {
   "cell_type": "code",
   "execution_count": 113,
   "metadata": {
    "collapsed": false
   },
   "outputs": [
    {
     "name": "stdout",
     "output_type": "stream",
     "text": [
      "CPU times: user 134 ms, sys: 95 ms, total: 229 ms\n",
      "Wall time: 26.1 s\n"
     ]
    },
    {
     "data": {
      "text/plain": [
       "16143463"
      ]
     },
     "execution_count": 113,
     "metadata": {},
     "output_type": "execute_result"
    }
   ],
   "source": [
    "%time day_counts.sort('day').count()"
   ]
  },
  {
   "cell_type": "code",
   "execution_count": 114,
   "metadata": {
    "collapsed": false
   },
   "outputs": [
    {
     "name": "stdout",
     "output_type": "stream",
     "text": [
      "+---+--------------------+----+-----+\n",
      "|day|             hashtag|week|count|\n",
      "+---+--------------------+----+-----+\n",
      "|249|explainafilmplotb...|  36| 3171|\n",
      "|249|                 bbc|  36|   88|\n",
      "|249|      exoplanetinbkk|  36|  217|\n",
      "|249|            discount|  36|   45|\n",
      "|249|             pokemon|  36|   31|\n",
      "+---+--------------------+----+-----+\n",
      "only showing top 5 rows\n",
      "\n"
     ]
    }
   ],
   "source": [
    "day_counts.show(5)"
   ]
  },
  {
   "cell_type": "markdown",
   "metadata": {},
   "source": [
    "The same counting of daily occurences of each hashtag can be done with an RDD operation using a `map` and `reduceByKey`, though it might look a bit messier: "
   ]
  },
  {
   "cell_type": "code",
   "execution_count": 115,
   "metadata": {
    "collapsed": true
   },
   "outputs": [],
   "source": [
    "day_counts_rdd = daily_hashtag.rdd.map(lambda r: ((r.day, r.hashtag, r.week), 1)).reduceByKey(lambda a,b: a+b)"
   ]
  },
  {
   "cell_type": "code",
   "execution_count": 116,
   "metadata": {
    "collapsed": false
   },
   "outputs": [
    {
     "name": "stdout",
     "output_type": "stream",
     "text": [
      "CPU times: user 871 ms, sys: 335 ms, total: 1.21 s\n",
      "Wall time: 1min 20s\n"
     ]
    },
    {
     "data": {
      "text/plain": [
       "16143463"
      ]
     },
     "execution_count": 116,
     "metadata": {},
     "output_type": "execute_result"
    }
   ],
   "source": [
    "%time day_counts_rdd.sortBy(lambda ((day, hashtag, week), count): day).count()"
   ]
  },
  {
   "cell_type": "markdown",
   "metadata": {},
   "source": [
    "The `DataFrame` API avoids shipping data back and forth to the Python intepreter (and can do some extra optimizations) so the performance difference can be significant, as we can see above. "
   ]
  },
  {
   "cell_type": "markdown",
   "metadata": {},
   "source": [
    "Lets make sure that the results are the same by looking up a hashtag in both places:"
   ]
  },
  {
   "cell_type": "code",
   "execution_count": 117,
   "metadata": {
    "collapsed": false
   },
   "outputs": [
    {
     "data": {
      "text/plain": [
       "[3238]"
      ]
     },
     "execution_count": 117,
     "metadata": {},
     "output_type": "execute_result"
    }
   ],
   "source": [
    "day_counts_rdd.lookup((274,'retweet',40))"
   ]
  },
  {
   "cell_type": "code",
   "execution_count": 118,
   "metadata": {
    "collapsed": false
   },
   "outputs": [
    {
     "name": "stdout",
     "output_type": "stream",
     "text": [
      "+---+-------+----+-----+\n",
      "|day|hashtag|week|count|\n",
      "+---+-------+----+-----+\n",
      "|274|retweet|  40| 3238|\n",
      "+---+-------+----+-----+\n",
      "\n"
     ]
    }
   ],
   "source": [
    "day_counts.filter((day_counts.hashtag == 'retweet') & (day_counts.day == 274)).show()"
   ]
  },
  {
   "cell_type": "markdown",
   "metadata": {},
   "source": [
    "At this point we should persist `day_counts` in memory since we'll be using it later on. "
   ]
  },
  {
   "cell_type": "code",
   "execution_count": 119,
   "metadata": {
    "collapsed": false
   },
   "outputs": [
    {
     "data": {
      "text/plain": [
       "DataFrame[day: int, hashtag: string, week: int, count: bigint]"
      ]
     },
     "execution_count": 119,
     "metadata": {},
     "output_type": "execute_result"
    }
   ],
   "source": [
    "day_counts.cache()"
   ]
  },
  {
   "cell_type": "markdown",
   "metadata": {},
   "source": [
    "We can get a quick idea of the most popular hashtags by looking at the weekly averages of daily hashtag counts:"
   ]
  },
  {
   "cell_type": "code",
   "execution_count": 120,
   "metadata": {
    "collapsed": false
   },
   "outputs": [
    {
     "name": "stdout",
     "output_type": "stream",
     "text": [
      "+----+--------------------+------------------+\n",
      "|week|             hashtag|        avg(count)|\n",
      "+----+--------------------+------------------+\n",
      "|  45|            vote5sos|          159567.0|\n",
      "|  45|    votefifthharmony|149373.85714285713|\n",
      "|  47|            mtvstars|130512.57142857143|\n",
      "|  48|            mtvstars| 97469.71428571429|\n",
      "|  49|            mtvstars| 71965.85714285714|\n",
      "|  45|    emabiggestfans1d| 65711.57142857143|\n",
      "|  46|            mtvstars|           63171.2|\n",
      "|  45|emabiggestfansjus...| 58197.28571428572|\n",
      "|  42|    emabiggestfans1d|54077.857142857145|\n",
      "|  42|emabiggestfansjus...| 52082.28571428572|\n",
      "|  44|    emabiggestfans1d| 49943.57142857143|\n",
      "|  44|emabiggestfansjus...| 47231.71428571428|\n",
      "|  46|           murrayftw|37438.666666666664|\n",
      "|  43|        kcaargentina| 36302.28571428572|\n",
      "|  43|    emabiggestfans1d|30190.571428571428|\n",
      "|  43|emabiggestfansjus...| 29586.85714285714|\n",
      "|  37|              mtvema|28533.666666666668|\n",
      "|  42|        kcaargentina| 25964.14285714286|\n",
      "|  40|       votevampsvevo|           21236.0|\n",
      "|  41|    emabiggestfans1d| 19649.14285714286|\n",
      "|  41|emabiggestfansjus...| 19479.85714285714|\n",
      "|  41|        kcaargentina|19261.714285714286|\n",
      "|  40|        kcaargentina| 16121.57142857143|\n",
      "|  36|         gameinsight|16010.857142857143|\n",
      "|  38|         gameinsight|15275.285714285714|\n",
      "|  37|         gameinsight|           14935.0|\n",
      "|  37| menunggu17september|           14827.0|\n",
      "|  44|        kcaargentina|           14222.0|\n",
      "|  42|         gameinsight| 14074.42857142857|\n",
      "|  40|         gameinsight|14014.857142857143|\n",
      "|  41|         gameinsight|13817.714285714286|\n",
      "|  39|         gameinsight|13489.142857142857|\n",
      "|  43|         gameinsight| 12464.42857142857|\n",
      "|  46|                amas|12068.714285714286|\n",
      "|  36|             android|11648.285714285714|\n",
      "|  37|annasnurdayasayan...|11534.333333333334|\n",
      "|  38|             android|           11170.0|\n",
      "|  47|                amas| 11051.42857142857|\n",
      "|  44|         gameinsight| 10852.57142857143|\n",
      "|  37|             android|           10839.0|\n",
      "|  42|             android|10360.714285714286|\n",
      "|  46|         gameinsight|           10172.0|\n",
      "|  48|            ferguson| 10126.57142857143|\n",
      "|  40|             android|10042.857142857143|\n",
      "|  41|             android| 9980.142857142857|\n",
      "|  37|      forumgrombyang|            9659.5|\n",
      "|  39|        kcaargentina| 9537.285714285714|\n",
      "|  46|        sexylist2014| 9255.714285714286|\n",
      "|  39|             android| 9197.142857142857|\n",
      "|  43|             android| 9072.714285714286|\n",
      "|  45|         gameinsight|  9051.42857142857|\n",
      "|  38|    emabiggestfans1d|            8981.5|\n",
      "|  46|  rollersmusicawards| 8506.142857142857|\n",
      "|  45|   5sosfamvotinghour|            8381.0|\n",
      "|  40|onedirectionradio...|            8345.0|\n",
      "|  43|               by3_7|            8289.0|\n",
      "|  47|                aoty|  8257.42857142857|\n",
      "|  46|             android|            8246.0|\n",
      "|  44|             android|            8113.0|\n",
      "|  38|emabiggestfansjus...|            7984.5|\n",
      "|  44|     babyonemoretime| 7975.857142857143|\n",
      "|  37|     danusayangfarah| 7933.333333333333|\n",
      "|  45|nashandjacksnewvideo|            7930.5|\n",
      "|  37|        androidgames| 7820.714285714285|\n",
      "|  36|        androidgames|            7739.0|\n",
      "|  38|        androidgames| 7575.714285714285|\n",
      "|  40|        androidgames| 7514.428571428572|\n",
      "|  38|       exodoubleplay|            7502.0|\n",
      "|  39|        androidgames|            7501.0|\n",
      "|  45|                amas|            7421.0|\n",
      "|  42|        androidgames| 7359.857142857143|\n",
      "|  41|        androidgames| 7351.285714285715|\n",
      "|  38|      teamfollowback| 7274.142857142857|\n",
      "|  37|              ngawag| 7273.666666666667|\n",
      "|  47|         gameinsight| 7240.714285714285|\n",
      "|  36|      teamfollowback| 7015.571428571428|\n",
      "|  45|                  rt| 6971.142857142857|\n",
      "|  46|      teamfollowback| 6949.142857142857|\n",
      "|  43|        androidgames| 6925.714285714285|\n",
      "|  43|        laliesposito| 6911.285714285715|\n",
      "|  37|            tanyamdl|            6902.0|\n",
      "|  37|nominatefifthharmony|            6853.0|\n",
      "|  44|                  rt| 6764.285714285715|\n",
      "|  48|         gameinsight| 6695.428571428572|\n",
      "|  45|        sexylist2014| 6666.571428571428|\n",
      "|  39|       nashsnewvideo| 6662.666666666667|\n",
      "|  46|                  rt| 6590.285714285715|\n",
      "|  39|      teamfollowback| 6571.142857142857|\n",
      "|  38| menunggu17september|            6505.5|\n",
      "|  36|             riprise|            6485.0|\n",
      "|  46|            vote5sos| 6464.285714285715|\n",
      "|  38|                ipad| 6405.857142857143|\n",
      "|  45|         fourhangout|            6390.8|\n",
      "|  49|          hayesvideo|            6338.5|\n",
      "|  37|      teamfollowback| 6317.428571428572|\n",
      "|  40|      teamfollowback|            6312.0|\n",
      "|  36|                ipad| 6311.285714285715|\n",
      "|  47|                  rt| 6307.571428571428|\n",
      "|  45|        camsnewvideo|            6282.0|\n",
      "|  44|      teamfollowback| 6235.714285714285|\n",
      "+----+--------------------+------------------+\n",
      "only showing top 100 rows\n",
      "\n"
     ]
    }
   ],
   "source": [
    "day_counts.groupBy('week', 'hashtag').avg('count').sort('avg(count)', ascending=False).show(100)"
   ]
  },
  {
   "cell_type": "markdown",
   "metadata": {},
   "source": [
    "Apparently, the [MTV Europe Music Awards](https://en.wikipedia.org/wiki/2014_MTV_Europe_Music_Awards) happened in late 2014... (and [yet another boy band](https://en.wikipedia.org/wiki/One_Direction) is on the scene?)"
   ]
  },
  {
   "cell_type": "markdown",
   "metadata": {},
   "source": [
    "## Using `window` functions\n",
    "\n",
    "### top daily hashtags"
   ]
  },
  {
   "cell_type": "markdown",
   "metadata": {},
   "source": [
    "Now lets say we want to know the top tweets for each day. This is a non-trivial thing to try and compute using a standard RDD, but the `DataFrame` API gives us \"window\" functions that let us do it relatively easily. "
   ]
  },
  {
   "cell_type": "code",
   "execution_count": 121,
   "metadata": {
    "collapsed": false
   },
   "outputs": [],
   "source": [
    "daily_window = Window.partitionBy('day').orderBy(func.desc('count'))"
   ]
  },
  {
   "cell_type": "code",
   "execution_count": 122,
   "metadata": {
    "collapsed": false
   },
   "outputs": [],
   "source": [
    "daily_rank = func.rank().over(daily_window)"
   ]
  },
  {
   "cell_type": "code",
   "execution_count": 123,
   "metadata": {
    "collapsed": false
   },
   "outputs": [
    {
     "name": "stdout",
     "output_type": "stream",
     "text": [
      "+---+-----+----------------+----+\n",
      "|day|count|         hashtag|rank|\n",
      "+---+-----+----------------+----+\n",
      "|244|17639|      followmejg|   1|\n",
      "|244|12164|     gameinsight|   2|\n",
      "|244| 8264|         android|   3|\n",
      "|244| 6348|    androidgames|   4|\n",
      "|244| 5551|            mufc|   5|\n",
      "|245|16592|     gameinsight|   1|\n",
      "|245|13997|jackandjacktides|   2|\n",
      "|245|11964|         android|   3|\n",
      "|245| 7939|    androidgames|   4|\n",
      "|245| 7686|  teamfollowback|   5|\n",
      "|246|16222|     gameinsight|   1|\n",
      "|246|11924|         android|   2|\n",
      "|246| 8655|jackandjacktides|   3|\n",
      "|246| 8536|    mashnewvideo|   4|\n",
      "|246| 8012|    androidgames|   5|\n",
      "|247|15375|     gameinsight|   1|\n",
      "|247|13369|1dwwafilmtrailer|   2|\n",
      "|247|10783|         android|   3|\n",
      "|247| 8784|      favnashpic|   4|\n",
      "|247| 7874|    androidgames|   5|\n",
      "+---+-----+----------------+----+\n",
      "only showing top 20 rows\n",
      "\n"
     ]
    }
   ],
   "source": [
    "(day_counts.select('day', 'count', 'hashtag', daily_rank.alias('rank'))\n",
    "           .filter('rank < 6')\n",
    "           .show(20))"
   ]
  },
  {
   "cell_type": "markdown",
   "metadata": {},
   "source": [
    "### More complicated example: calculating the daily standard deviation based on a weekly window"
   ]
  },
  {
   "cell_type": "code",
   "execution_count": 124,
   "metadata": {
    "collapsed": true
   },
   "outputs": [],
   "source": [
    "weekly_window = Window.partitionBy('week', 'hashtag')"
   ]
  },
  {
   "cell_type": "code",
   "execution_count": 125,
   "metadata": {
    "collapsed": true
   },
   "outputs": [],
   "source": [
    "mean_diff = day_counts['count'] - func.mean('count').over(weekly_window)"
   ]
  },
  {
   "cell_type": "code",
   "execution_count": 126,
   "metadata": {
    "collapsed": false
   },
   "outputs": [],
   "source": [
    "variance_arg = (1./7.)*mean_diff*mean_diff"
   ]
  },
  {
   "cell_type": "code",
   "execution_count": 127,
   "metadata": {
    "collapsed": false
   },
   "outputs": [],
   "source": [
    "weekly_stats = (day_counts.withColumn('var_arg', variance_arg)\n",
    "                         .groupBy('week', 'hashtag')\n",
    "                         .sum('var_arg')\n",
    "                         .withColumn('stddev', func.sqrt('sum(var_arg)'))\n",
    "                         .sort('stddev', ascending=False))"
   ]
  },
  {
   "cell_type": "code",
   "execution_count": 128,
   "metadata": {
    "collapsed": true
   },
   "outputs": [],
   "source": [
    "weekly_stats_window = Window.partitionBy('week').orderBy(func.desc('stddev'))"
   ]
  },
  {
   "cell_type": "code",
   "execution_count": 143,
   "metadata": {
    "collapsed": false
   },
   "outputs": [
    {
     "name": "stdout",
     "output_type": "stream",
     "text": [
      "+----+--------------------+------------------+----+--------------------+\n",
      "|week|             hashtag|            stddev|rank|        percent_rank|\n",
      "+----+--------------------+------------------+----+--------------------+\n",
      "|  36|          followmejg| 6157.914018658151|   1|                 0.0|\n",
      "|  36|    jackandjacktides| 5240.560026154422|   2|1.431055331754402...|\n",
      "|  36|    1dwwafilmtrailer|4320.0187623578895|   3|2.862110663508804...|\n",
      "|  36|             riprise|3465.8437851185863|   4|4.293165995263207E-6|\n",
      "|  36|        mashnewvideo| 2887.346652286118|   5|5.724221327017609E-6|\n",
      "|  36|          favnashpic| 2746.839352522073|   6|7.155276658772012E-6|\n",
      "|  36|             ripeunb|2543.1875948994943|   7|8.586331990526415E-6|\n",
      "|  36|         gameinsight| 2245.851758786393|   8|1.001738732228081...|\n",
      "|  36|   connorhit2million|2196.1062539336767|   9|1.144844265403521...|\n",
      "|  36|             android|  2187.59442011859|  10|1.287949798578962E-5|\n",
      "|  36|                mufc|1962.2773005051508|  11|1.431055331754402...|\n",
      "|  36|                love|1860.1965663076205|  12|1.574160864929842...|\n",
      "|  36|                  ff| 1795.672803247659|  13|1.717266398105283E-5|\n",
      "|  36|sammywilkfollowspree|1782.3963003286879|  14|1.860371931280723E-5|\n",
      "|  36|       ripjoanrivers| 1646.170917758384|  15|2.003477464456163...|\n",
      "|  36|camsierramakeupch...|1522.4109990399052|  16|2.146582997631603...|\n",
      "|  36|          followback|1447.9485417616677|  17|2.289688530807043...|\n",
      "|  36|         followtrick| 1355.106427026893|  18|2.432794063982484E-5|\n",
      "|  36|            verified| 1345.798935765812|  19|2.575899597157924E-5|\n",
      "|  36|        cd9exafanday|   1344.8096443698|  20|2.719005130333364...|\n",
      "|  36|  hastasiemprecerati| 1319.115558676008|  21|2.862110663508804...|\n",
      "|  36|                porn|1300.0482251645174|  22|3.005216196684244...|\n",
      "|  36|                 tbt|1226.5326771683503|  23|3.148321729859685E-5|\n",
      "|  36|                gain|1221.8049879460862|  24|3.291427263035125...|\n",
      "|  36|  irmagakusahbingung|  1171.96786076466|  25|3.434532796210566E-5|\n",
      "|  36|       followmericky|1111.5395051132173|  26|3.577638329386005...|\n",
      "|  36|  hormonestheseries2|1096.9506342020811|  27|3.720743862561446E-5|\n",
      "|  36|           ripnannys|1085.8824258896373|  28|3.863849395736886E-5|\n",
      "|  36|        novaldynanya| 988.7006444241537|  29|4.006954928912326...|\n",
      "|  36|           ipadgames| 964.3103277277162|  30|4.150060462087767E-5|\n",
      "|  36|happybirthdaybeyonce| 957.3350979646583|  31|4.293165995263206...|\n",
      "|  36|                ipad| 950.0775478548437|  32|4.436271528438647E-5|\n",
      "|  36|                 mpn| 947.5706424579023|  33|4.579377061614087E-5|\n",
      "|  36|           celebrity| 943.0898630539027|  34|4.722482594789527...|\n",
      "|  36|      teamfollowback| 941.4720779016769|  35|4.865588127964968E-5|\n",
      "|  36|           kcamexico| 883.4270698559794|  36|5.008693661140408E-5|\n",
      "|  36|              movies| 864.5270973428587|  37|5.151799194315848E-5|\n",
      "|  36| transferdeadlineday| 824.5331868334931|  38|5.294904727491288...|\n",
      "|  36|        proudoflouis| 815.8092097212442|  39|5.438010260666729E-5|\n",
      "|  36|   prayforladiescode| 812.9807588652103|  40|5.581115793842169E-5|\n",
      "|  36|         deadlineday| 799.9545905475733|  41|5.724221327017609...|\n",
      "|  36|            belieber| 796.9844952780766|  42|5.867326860193049E-5|\n",
      "|  36|   sammywilkfollowme| 774.3125983731637|  43|6.010432393368489...|\n",
      "|  36|       lhhatlreunion| 772.0839015416731|  44| 6.15353792654393E-5|\n",
      "|  36|             retweet| 767.0706270860508|  45| 6.29664345971937E-5|\n",
      "|  36|    difkalagitesttti| 746.3733905322999|  46| 6.43974899289481E-5|\n",
      "|  36|          mtvhottest| 734.9342050236507|  47|6.582854526070251E-5|\n",
      "|  36|         whereismike| 684.4560405373766|  48|6.725960059245691E-5|\n",
      "|  36|        onedirection| 682.7548638282751|  49|6.869065592421132E-5|\n",
      "|  36|                 wcw|  678.979245872854|  50| 7.01217112559657E-5|\n",
      "|  36|staystrongladiescode|   672.32404318689|  51|7.155276658772011E-5|\n",
      "|  36|      bestfandom2014| 667.2345914290976|  52|7.298382191947451E-5|\n",
      "|  36|        directioners|  658.988061580548|  53|7.441487725122892E-5|\n",
      "|  36|          joanrivers| 656.1417218735926|  54|7.584593258298332E-5|\n",
      "|  36|             gocrazy| 651.6631156710544|  55|7.727698791473772E-5|\n",
      "|  36|       tcfollowtrain|  638.307551742761|  56|7.870804324649213E-5|\n",
      "|  36|   internetfriendday| 635.5018264554143|  57|8.013909857824653E-5|\n",
      "|  36|                 ss8| 634.3963867408149|  58|8.157015391000093E-5|\n",
      "|  36|            mamacita| 632.6171102356188|  59|8.300120924175534E-5|\n",
      "|  36|              gal_id| 624.0522871863124|  60|8.443226457350973E-5|\n",
      "|  36|        myfirsttweet|  613.301836665085|  61|8.586331990526413E-5|\n",
      "|  36|         sougofollow| 613.1468512714664|  62|8.729437523701854E-5|\n",
      "|  36|       tipsforyear7s| 610.6763062540049|  63|8.872543056877294E-5|\n",
      "|  36|         superjunior| 590.2351658619298|  64|9.015648590052734E-5|\n",
      "|  36|openordertti_pin_...| 589.9870155953269|  65|9.158754123228175E-5|\n",
      "|  36|    8thstarmagicball| 584.1751205145852|  66|9.301859656403615E-5|\n",
      "|  36|        androidgames| 581.9081910892853|  67|9.444965189579055E-5|\n",
      "|  36|              iphone| 579.7284726839628|  68|9.588070722754496E-5|\n",
      "|  36|                 afc| 568.9446011549364|  69|9.731176255929936E-5|\n",
      "|  36|            laborday| 564.7441176028556|  70|9.874281789105376E-5|\n",
      "|  36|      skydeadlineday| 545.1889253143511|  71|1.001738732228081...|\n",
      "|  36|   lovesicktheseries| 528.8184750853142|  72|1.016049285545625...|\n",
      "|  36|        senbitanesin| 527.2697872732236|  73|1.030359838863169...|\n",
      "|  36|            unpacked| 506.1594086239229|  74|1.044670392180713...|\n",
      "|  36|                 raw| 501.9247849983765|  75|1.058980945498257...|\n",
      "|  36|       demiworldtour| 494.3843006553196|  76|1.073291498815801...|\n",
      "|  36|hakkaveadaletesad...| 490.5943916746465|  77|1.087602052133345...|\n",
      "|  36|kathnielatthe8ths...| 486.1734944095886|  78|1.101912605450889...|\n",
      "|  36|        popasiabeast|483.70799928385986|  79|1.116223158768433...|\n",
      "|  36|           neorunway| 478.9416904560653|  80|1.130533712085977...|\n",
      "|  36|             ask5sos| 473.2684874616794|  81|1.144844265403521...|\n",
      "|  36|   fikarpengengen3an| 472.8375481479362|  82|1.159154818721065...|\n",
      "|  36|               myhyv| 469.6737034951834|  83|1.173465372038609...|\n",
      "|  36|               ivete|468.14218143700435|  84|1.187775925356153...|\n",
      "|  36|explainafilmplotb...| 462.8964709920876|  85|1.202086478673697...|\n",
      "|  36|                bb16| 452.4663929337616|  86|1.216397031991242E-4|\n",
      "|  36|        thevoicekids|445.83784917265973|  87|1.230707585308786E-4|\n",
      "|  36|     lostplanetinina|441.13651919925417|  88| 1.24501813862633E-4|\n",
      "|  36|besokulanganmatem...|436.43760804277076|  89|1.259328691943874E-4|\n",
      "|  36|         newsupdates| 431.8983566488809|  90|1.273639245261418E-4|\n",
      "|  36|      forumgrombyang| 429.7718426496891|  91|1.287949798578962E-4|\n",
      "|  36|      welcomewelbeck|426.98037999160675|  92|1.302260351896506...|\n",
      "|  36|  turkeyneedswwafilm| 426.5567706311161|  93|1.316570905214050...|\n",
      "|  36|      graciastotales|426.25457684995314|  94|1.330881458531594...|\n",
      "|  36|        usaheadlines| 425.1898495532137|  95|1.345192011849138...|\n",
      "|  36|      aaronsnewvideo|420.40193352803334|  96|1.359502565166682...|\n",
      "|  36|             qsf2014|413.53825181488924|  97|1.373813118484226...|\n",
      "|  36|          dannapaola| 412.2292704653583|  98| 1.38812367180177E-4|\n",
      "|  36|                 eva|411.00081930480235|  99|1.402434225119314E-4|\n",
      "|  36|      backtohogwarts|408.59739760939055| 100|1.416744778436858...|\n",
      "|  36|      segundoinforme| 406.8449035075142| 101|1.431055331754402...|\n",
      "|  36|              wsspm3| 405.2549021469345| 102|1.445365885071946...|\n",
      "|  36|      5sosblackboard| 403.8926218685318| 103|1.459676438389490...|\n",
      "|  36|          kiansnudes|  401.693646594173| 104|1.473986991707034...|\n",
      "|  36|                 2pm| 397.8267492877035| 105|1.488297545024578...|\n",
      "|  36|                 sex| 394.8312478585736| 106|1.502608098342122...|\n",
      "|  36|      paralalmevsimi| 389.7988492248161| 107|1.516918651659666...|\n",
      "|  36|           findalice|387.38126554830853| 108|1.531229204977210...|\n",
      "|  36|    septiembreconsde|384.95300534790266| 109|1.545539758294754...|\n",
      "|  36|         mariaeligea| 382.8058067926075| 110|1.559850311612298...|\n",
      "|  36|           askcarter|381.46581947590784| 111|1.574160864929842...|\n",
      "|  36|      labanpilipinas|377.71131401448804| 112|1.588471418247386...|\n",
      "|  36|                isis|374.59191400866627| 113|1.602781971564930...|\n",
      "|  36|harvey15yearoldsi...| 373.1058830946797| 114|1.617092524882474...|\n",
      "|  36|           ripmiriam| 360.4915012158395| 115|1.631403078200018...|\n",
      "|  36|            arabidol|359.20814271921694| 116|1.645713631517562...|\n",
      "|  36|             gbvssea| 359.0630096484881| 117|1.660024184835106...|\n",
      "|  36|                  rt|353.67730016631845| 118|1.674334738152650...|\n",
      "|  36|bienvenidochicharito|350.78727782744807| 119|1.688645291470194...|\n",
      "|  36|          happyjsday| 349.9889794181571| 120|1.702955844787738...|\n",
      "|  36|        definebulsam| 348.5010760383367| 121|1.717266398105282...|\n",
      "|  36|      beautifulsmile|348.14106922555317| 122|1.731576951422826...|\n",
      "|  36|     remajaindonesia|345.70253817095363| 123|1.745887504740370...|\n",
      "|  36|       devonnebydemi|344.60975858812674| 124|1.760198058057914...|\n",
      "|  36|           12devadam| 344.4274752602746| 125|1.774508611375458...|\n",
      "|  36|                mgwv| 340.2416908069167| 126|1.788819164693002...|\n",
      "|  36|      itunesfestival|338.46815784861724| 127|1.803129718010546...|\n",
      "|  36|       askdemilovato| 337.7785975343418| 128|1.817440271328091E-4|\n",
      "|  36|              fraesp|336.58173644155016| 129|1.831750824645635E-4|\n",
      "|  36|secondaryschoolme...| 335.1206301238131| 130|1.846061377963179E-4|\n",
      "|  36|                 ksa| 334.8704897387153| 131|1.860371931280723E-4|\n",
      "|  36|              cerati|  330.834270119655| 132|1.874682484598267E-4|\n",
      "|  36|septiembreeducaci...|330.21162045816203| 133|1.888993037915811E-4|\n",
      "|  36|              falcao|  328.116579580811| 134|1.903303591233355E-4|\n",
      "|  36|            teenwolf|328.08311540238896| 135|1.917614144550899E-4|\n",
      "|  36|                 nfl|327.94412167115905| 136|1.931924697868443...|\n",
      "|  36|                nyfw|327.46447073190933| 137|1.946235251185987...|\n",
      "|  36|  turkeywantswwafilm|324.59133647431247| 138|1.960545804503531...|\n",
      "|  36|              lhhatl| 322.0979696314657| 139|1.974856357821075...|\n",
      "|  36|           1dwwafilm| 320.2897922511824| 140|1.989166911138619...|\n",
      "|  36|          alexto500k|317.24753742133186| 141|2.003477464456163E-4|\n",
      "|  36|      hijabersinlove|  314.532154461793| 142|2.017788017773707E-4|\n",
      "|  36|camandsierramakeu...| 311.1834553073894| 143|2.032098571091251...|\n",
      "|  36|              selfie|  310.916157738321| 144|2.046409124408795...|\n",
      "|  36|          tuitpareja|310.62353354461123| 145|2.060719677726339...|\n",
      "|  36|  stopmobbingourboys| 309.2212568925204| 146|2.075030231043883...|\n",
      "|  36|      lomas40con5sos|307.79695301548963| 147|2.089340784361427...|\n",
      "|  36|     tampannbertanya| 306.7994226105903| 148|2.103651337678971...|\n",
      "|  36|                puso| 302.4824501569797| 149|2.117961890996515...|\n",
      "|  36|        kcaargentina| 300.6084306391592| 150|2.132272444314059...|\n",
      "|  36|        followmejenn| 298.5308072160288| 151|2.146582997631603...|\n",
      "|  36|               movie| 297.1175813424188| 152|2.160893550949147...|\n",
      "|  36|               49ers|297.05451983602904| 153|2.175204104266691...|\n",
      "|  36|       100achchhedin|295.95575602397383| 154|2.189514657584235...|\n",
      "|  36|            prospera|295.00092816626966| 155|2.203825210901779...|\n",
      "|  36|                  f1|293.92752126164646| 156|2.218135764219323...|\n",
      "|  36|              beyday| 291.3706525077161| 157|2.232446317536867...|\n",
      "|  36|     diganloquedigan|  291.257086568045| 158|2.246756870854411...|\n",
      "|  36|            unfalert|288.10846880269827| 159|2.261067424171955...|\n",
      "|  36|         debatenosbt|287.98285096320694| 160|2.275377977489499...|\n",
      "|  36|                 mcm| 287.8738385798415| 161|2.289688530807043...|\n",
      "|  36|       findingcarter| 282.1254605846918| 162|2.303999084124587...|\n",
      "|  36|              follow|281.02044373290596| 163|2.318309637442131...|\n",
      "|  36|      followmebryant| 279.8343387484439| 164|2.332620190759675...|\n",
      "|  36|bachemeariefjalan...| 279.8225202821684| 165|2.346930744077219...|\n",
      "|  36|             xfactor| 279.5025464451257| 166|2.361241297394763...|\n",
      "|  36|          ilkrandevu|277.50435432005327| 167|2.375551850712307...|\n",
      "|  36|    followmevictoria|276.49231454042905| 168|2.389862404029851...|\n",
      "|  36|             novsatl|271.64420006416043| 169|2.404172957347395...|\n",
      "|  36|                 cd9| 270.0266741672604| 170|2.418483510664939...|\n",
      "|  36|    hbdtampanbangets| 268.5975481218522| 171|2.432794063982484E-4|\n",
      "|  36|            pemalang| 266.0550963346568| 172|2.447104617300028E-4|\n",
      "|  36|                soon| 264.1863133532763| 173|2.461415170617572E-4|\n",
      "|  36|          halamadrid|264.13184710101024| 174|2.475725723935116E-4|\n",
      "|  36|      ashrafmassacre|263.97982297650293| 175| 2.49003627725266E-4|\n",
      "|  36|                 tfb|262.79642155783705| 176|2.504346830570204E-4|\n",
      "|  36|              usopen| 260.4525888148174| 177|2.518657383887748E-4|\n",
      "|  36|        flyeaglesfly|260.18698143076784| 178|2.532967937205292E-4|\n",
      "|  36|                news| 259.9603580452883| 179|2.547278490522836E-4|\n",
      "|  36|     farewellcaptain| 259.7350298173472| 180| 2.56158904384038E-4|\n",
      "|  36|                 rip| 259.6628897753069| 181|2.575899597157924E-4|\n",
      "|  36|       freebiefriday| 259.2702474724444| 182|2.590210150475468E-4|\n",
      "|  36|                 hot| 257.8347833596887| 183|2.604520703793012...|\n",
      "|  36|         favpichayes| 255.9545160485526| 184|2.618831257110556...|\n",
      "|  36|       mariobautista|255.38366495620934| 185|2.633141810428100...|\n",
      "|  36|         teamretweet|254.49886732424366| 186|2.647452363745644...|\n",
      "|  36|      somosmaisaecio|252.90620992839263| 187|2.661762917063188...|\n",
      "|  36|        eizagonzalez|249.24820293555686| 188|2.676073470380732...|\n",
      "|  36|portuguesedirecti...|247.10341000891546| 189|2.690384023698276...|\n",
      "|  36|    thelostplanetina|245.26696824934572| 190|2.704694577015820...|\n",
      "|  36|demiworldtourinbr...|244.84140639535283| 191|2.719005130333364...|\n",
      "|  36|           maxmonday|244.18640420781082| 192|2.733315683650908...|\n",
      "|  36|              r15sos| 243.5190664285374| 193|2.747626236968452...|\n",
      "|  36|       gustavocerati|242.87848645694103| 194|2.761936790285996E-4|\n",
      "|  36|           nflsunday|242.22209407294827| 195| 2.77624734360354E-4|\n",
      "|  36|  5sositunesfestival|241.80950505436172| 196|2.790557896921084E-4|\n",
      "|  36|              gersco|239.56428702749128| 197|2.804868450238628E-4|\n",
      "|  36|                tgif| 236.7759640309824| 198|2.819179003556172...|\n",
      "|  36|hakkaveadaletesir...|233.05180294751753| 199|2.833489556873716...|\n",
      "|  36|                  is|230.36297888498328| 200|2.847800110191260...|\n",
      "+----+--------------------+------------------+----+--------------------+\n",
      "only showing top 200 rows\n",
      "\n"
     ]
    }
   ],
   "source": [
    "(weekly_stats.select('week', 'hashtag', 'stddev', \n",
    "                     func.rank().over(weekly_stats_window).alias('rank'), \n",
    "                     func.percentRank().over(weekly_stats_window).alias('percent_rank'))\n",
    "             ).show(200)"
   ]
  },
  {
   "cell_type": "code",
   "execution_count": 151,
   "metadata": {
    "collapsed": true
   },
   "outputs": [],
   "source": [
    "def plot_hashtag_timeseries(hashtag): \n",
    "    day_data = day_counts.filter(day_counts['hashtag'] == hashtag).select('day', 'count').sort('day').toPandas()\n",
    "    day_data.plot.line(x='day',y='count', label = hashtag)"
   ]
  },
  {
   "cell_type": "code",
   "execution_count": 152,
   "metadata": {
    "collapsed": false
   },
   "outputs": [
    {
     "data": {
      "image/png": "[encoded data removed]",
      "text/plain": [
       "<matplotlib.figure.Figure at 0x2ba634036590>"
      ]
     },
     "metadata": {},
     "output_type": "display_data"
    }
   ],
   "source": [
    "plot_hashtag_timeseries('worldcup')"
   ]
  },
  {
   "cell_type": "code",
   "execution_count": 147,
   "metadata": {
    "collapsed": true
   },
   "outputs": [],
   "source": [
    "from ipywidgets import interact, interactive, fixed\n",
    "import ipywidgets as widgets"
   ]
  },
  {
   "cell_type": "code",
   "execution_count": 150,
   "metadata": {
    "collapsed": false
   },
   "outputs": [
    {
     "data": {
      "text/plain": [
       "u'Hi there!'"
      ]
     },
     "metadata": {},
     "output_type": "display_data"
    }
   ],
   "source": [
    "interact(f, x='Hi there!');"
   ]
  },
  {
   "cell_type": "code",
   "execution_count": 154,
   "metadata": {
    "collapsed": false
   },
   "outputs": [
    {
     "data": {
      "text/plain": [
       "None"
      ]
     },
     "metadata": {},
     "output_type": "display_data"
    },
    {
     "data": {
      "image/png": "[encoded data removed]",
      "text/plain": [
       "<matplotlib.figure.Figure at 0x2ba62807b4d0>"
      ]
     },
     "metadata": {},
     "output_type": "display_data"
    }
   ],
   "source": [
    "interact(plot_hashtag_timeseries, hashtag='worldcup')"
   ]
  },
  {
   "cell_type": "code",
   "execution_count": null,
   "metadata": {
    "collapsed": true
   },
   "outputs": [],
   "source": []
  }
 ],
 "metadata": {
  "kernelspec": {
   "display_name": "Python 2",
   "language": "python",
   "name": "python2"
  }
 },
 "nbformat": 4,
 "nbformat_minor": 0
}
