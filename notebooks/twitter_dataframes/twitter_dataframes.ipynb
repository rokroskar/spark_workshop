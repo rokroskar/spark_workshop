{
 "cells": [
  {
   "cell_type": "code",
   "execution_count": 1,
   "metadata": {
    "collapsed": true
   },
   "outputs": [],
   "source": [
    "from __future__ import print_function\n",
    "%matplotlib inline\n",
    "import matplotlib.pylab as plt\n",
    "import sys, os, glob\n",
    "import numpy as np\n",
    "\n",
    "# set some nicer plotting options\n",
    "plt.rcParams['figure.figsize'] = (10,6)\n",
    "plt.rcParams['font.size'] = 18\n",
    "plt.style.use('fivethirtyeight')"
   ]
  },
  {
   "cell_type": "code",
   "execution_count": 2,
   "metadata": {
    "collapsed": true
   },
   "outputs": [],
   "source": [
    "from pyspark.sql import SQLContext, HiveContext"
   ]
  },
  {
   "cell_type": "code",
   "execution_count": 3,
   "metadata": {
    "collapsed": false
   },
   "outputs": [],
   "source": [
    "hc = HiveContext(sc)"
   ]
  },
  {
   "cell_type": "code",
   "execution_count": 4,
   "metadata": {
    "collapsed": false
   },
   "outputs": [
    {
     "name": "stdout",
     "output_type": "stream",
     "text": [
      "Picked up _JAVA_OPTIONS: -Xmx10G -Xms256m -XX:ParallelGCThreads=5\n",
      "15/11/13 16:35:01 WARN util.NativeCodeLoader: Unable to load native-hadoop library for your platform... using builtin-java classes where applicable\n",
      "Found 7 items\n",
      "drwxr-xr-x   - roskarr supergroup          0 2015-11-02 16:21 /user/roskarr/twitter/2014_05\n",
      "drwxr-xr-x   - roskarr supergroup          0 2015-11-02 16:26 /user/roskarr/twitter/2014_06\n",
      "drwxr-xr-x   - roskarr supergroup          0 2015-11-02 16:31 /user/roskarr/twitter/2014_07\n",
      "drwxr-xr-x   - roskarr supergroup          0 2015-11-02 16:37 /user/roskarr/twitter/2014_09\n",
      "drwxr-xr-x   - roskarr supergroup          0 2015-11-02 16:43 /user/roskarr/twitter/2014_10\n",
      "drwxr-xr-x   - roskarr supergroup          0 2015-11-02 16:49 /user/roskarr/twitter/2014_11\n",
      "drwxr-xr-x   - roskarr supergroup          0 2015-11-02 16:50 /user/roskarr/twitter/2014_12\n"
     ]
    }
   ],
   "source": [
    "!hadoop fs -ls /user/roskarr/twitter"
   ]
  },
  {
   "cell_type": "code",
   "execution_count": 5,
   "metadata": {
    "collapsed": false
   },
   "outputs": [
    {
     "name": "stdout",
     "output_type": "stream",
     "text": [
      "Picked up _JAVA_OPTIONS: -Xmx10G -Xms256m -XX:ParallelGCThreads=5\n",
      "15/11/13 16:35:03 WARN util.NativeCodeLoader: Unable to load native-hadoop library for your platform... using builtin-java classes where applicable\n",
      "55.1 G  /user/roskarr/twitter/2014_05\n",
      "31.7 G  /user/roskarr/twitter/2014_06\n",
      "51.0 G  /user/roskarr/twitter/2014_07\n",
      "59.6 G  /user/roskarr/twitter/2014_09\n",
      "61.9 G  /user/roskarr/twitter/2014_10\n",
      "62.0 G  /user/roskarr/twitter/2014_11\n",
      "12.1 G  /user/roskarr/twitter/2014_12\n"
     ]
    }
   ],
   "source": [
    "!hadoop fs -du -h /user/roskarr/twitter"
   ]
  },
  {
   "cell_type": "markdown",
   "metadata": {},
   "source": [
    "We'll load the data off the disk, but only for the last three months of the year. "
   ]
  },
  {
   "cell_type": "code",
   "execution_count": 6,
   "metadata": {
    "collapsed": false
   },
   "outputs": [
    {
     "name": "stdout",
     "output_type": "stream",
     "text": [
      "CPU times: user 9 ms, sys: 5 ms, total: 14 ms\n",
      "Wall time: 30.3 s\n"
     ]
    }
   ],
   "source": [
    "%%time\n",
    "data = hc.read.parquet('/user/roskarr/twitter/2014_1*')"
   ]
  },
  {
   "cell_type": "markdown",
   "metadata": {},
   "source": [
    "`data` is now a `DataFrame` object, which is essentially a collection of `Row` objects. Each `Row` object contains data for whatever columns are defined in the `DataFrame`. Here is a critical difference between `DataFrames` and `RDD`s: each column has an associated data type. While in dealing with an `RDD` we relied on Python to convert types, here each column has a specified data type. This means that a) we have to be a bit more careful about what we are doing and b) the execution engine can optimize our calculations because the data is no longer a black box. "
   ]
  },
  {
   "cell_type": "markdown",
   "metadata": {},
   "source": [
    "### Importing libraries and types for `DataFrame` API"
   ]
  },
  {
   "cell_type": "code",
   "execution_count": 7,
   "metadata": {
    "collapsed": true
   },
   "outputs": [],
   "source": [
    "import pyspark.sql.functions as func\n",
    "from pyspark.sql import Row, Window\n",
    "from pyspark.sql.types import IntegerType, ArrayType, StringType, NullType, LongType, StructField, StructType, DateType, DataType, DateConverter, DatetimeConverter, TimestampType, BooleanType\n",
    "import datetime"
   ]
  },
  {
   "cell_type": "markdown",
   "metadata": {},
   "source": [
    "### Custom functions to extract hashtags\n",
    "\n",
    "The twitter data is rather complex and includes many different kinds of fields that we will not be using here. We will also change the format of the time string to something that Spark will have an easier time understanding. "
   ]
  },
  {
   "cell_type": "code",
   "execution_count": 8,
   "metadata": {
    "collapsed": false
   },
   "outputs": [],
   "source": [
    "convert_date_string = func.udf(lambda date_string: datetime.date.strftime(datetime.datetime.strptime(date_string, '%a %b %d %H:%M:%S +0000 %Y'),'%Y-%m-%d %H:%M:%S'), StringType())"
   ]
  },
  {
   "cell_type": "code",
   "execution_count": 9,
   "metadata": {
    "collapsed": false
   },
   "outputs": [],
   "source": [
    "# make UDF for converting the date string to a datetime object\n",
    "datetime_udf = func.udf(lambda date_string: datetime.strptime(date_string, '%a %b %d %H:%M:%S +0000 %Y'), DateType())"
   ]
  },
  {
   "cell_type": "code",
   "execution_count": 10,
   "metadata": {
    "collapsed": false
   },
   "outputs": [],
   "source": [
    "hash_text_udf = func.udf(lambda row: [r.text for r in row], returnType=ArrayType(StringType()))"
   ]
  },
  {
   "cell_type": "code",
   "execution_count": 11,
   "metadata": {
    "collapsed": true
   },
   "outputs": [],
   "source": [
    "Npartitions = sc.defaultParallelism*5"
   ]
  },
  {
   "cell_type": "code",
   "execution_count": 12,
   "metadata": {
    "collapsed": false
   },
   "outputs": [
    {
     "data": {
      "text/plain": [
       "DataFrame[date: string, hashtag: string]"
      ]
     },
     "execution_count": 12,
     "metadata": {},
     "output_type": "execute_result"
    }
   ],
   "source": [
    "# only keep the tweets with at least one hashtag\n",
    "hashtag_df = (data.select('created_at', 'entities.hashtags')\n",
    "                .filter(func.size('hashtags') > 0)\n",
    "                .withColumn('hash_text', hash_text_udf('hashtags'))\n",
    "                .select(convert_date_string('created_at').alias('date'), func.explode('hash_text').alias('hashtag'))\n",
    "                .withColumn('hashtag', func.lower(func.col('hashtag')))\n",
    "                .repartition(Npartitions))\n",
    "hashtag_df.cache()"
   ]
  },
  {
   "cell_type": "markdown",
   "metadata": {},
   "source": [
    "#### A look at the raw data\n",
    "\n",
    "We now have a `DataFrame` consisting of a timestamp and hashtag. The `show()` method is extremelly useful here -- it functions like `take()` for an RDD, but it formats the output nicely so it's more easily readable. "
   ]
  },
  {
   "cell_type": "code",
   "execution_count": 13,
   "metadata": {
    "collapsed": false
   },
   "outputs": [
    {
     "name": "stdout",
     "output_type": "stream",
     "text": [
      "+-------------------+-----------------------+\n",
      "|date               |hashtag                |\n",
      "+-------------------+-----------------------+\n",
      "|2014-10-01 07:51:33|android                |\n",
      "|2014-10-01 11:32:41|windows                |\n",
      "|2014-10-02 03:23:51|video                  |\n",
      "|2014-10-02 14:59:46|vishalbhardwaj         |\n",
      "|2014-10-03 01:51:51|3yearsofalwaysinmyheart|\n",
      "|2014-10-03 15:04:05|kobane                 |\n",
      "|2014-10-03 15:04:55|10月4日は跡部景吾様御生誕祭        |\n",
      "|2014-10-04 03:11:57|startups               |\n",
      "|2014-10-04 13:15:49|af10                   |\n",
      "|2014-10-04 21:32:53|goldbar                |\n",
      "|2014-10-05 14:08:06|mixnmatch              |\n",
      "|2014-10-05 14:08:44|votevampsvevo          |\n",
      "|2014-10-06 02:56:39|ساديه                  |\n",
      "|2014-10-06 05:48:59|바카라사이트씽크풀              |\n",
      "|2014-10-06 18:02:55|yahalashow             |\n",
      "|2014-10-07 16:23:04|steelers               |\n",
      "|2014-10-07 21:01:06|rt                     |\n",
      "|2014-10-07 21:01:58|vaga                   |\n",
      "|2014-10-08 16:38:12|depechemode            |\n",
      "|2014-10-09 00:52:16|tallyraggnation        |\n",
      "+-------------------+-----------------------+\n",
      "only showing top 20 rows\n",
      "\n"
     ]
    }
   ],
   "source": [
    "hashtag_df.show(truncate=False)"
   ]
  },
  {
   "cell_type": "markdown",
   "metadata": {},
   "source": [
    "Underneath the `DataFrame` object is an RDD of `Row` objects, which are just containers used by `DataFrame`:"
   ]
  },
  {
   "cell_type": "code",
   "execution_count": 14,
   "metadata": {
    "collapsed": false
   },
   "outputs": [
    {
     "data": {
      "text/plain": [
       "[Row(date=u'2014-10-01 07:51:33', hashtag=u'android'),\n",
       " Row(date=u'2014-10-01 11:32:41', hashtag=u'windows'),\n",
       " Row(date=u'2014-10-02 03:23:51', hashtag=u'video'),\n",
       " Row(date=u'2014-10-02 14:59:46', hashtag=u'vishalbhardwaj'),\n",
       " Row(date=u'2014-10-03 01:51:51', hashtag=u'3yearsofalwaysinmyheart')]"
      ]
     },
     "execution_count": 14,
     "metadata": {},
     "output_type": "execute_result"
    }
   ],
   "source": [
    "hashtag_df.take(5)"
   ]
  },
  {
   "cell_type": "markdown",
   "metadata": {},
   "source": [
    "In `DataFrame`s, you can think of the `select` method to be analogous to `map` in an `RDD`. In its simplest form, `select` is just used to, well, trim down the `DataFrame` to the columns that are needed: "
   ]
  },
  {
   "cell_type": "code",
   "execution_count": 15,
   "metadata": {
    "collapsed": false
   },
   "outputs": [
    {
     "name": "stdout",
     "output_type": "stream",
     "text": [
      "+-------------------+\n",
      "|               date|\n",
      "+-------------------+\n",
      "|2014-10-01 07:51:33|\n",
      "|2014-10-01 11:32:41|\n",
      "|2014-10-02 03:23:51|\n",
      "|2014-10-02 14:59:46|\n",
      "|2014-10-03 01:51:51|\n",
      "+-------------------+\n",
      "only showing top 5 rows\n",
      "\n"
     ]
    }
   ],
   "source": [
    "hashtag_df.select('date').show(5)"
   ]
  },
  {
   "cell_type": "markdown",
   "metadata": {},
   "source": [
    "You can select multiple columns: "
   ]
  },
  {
   "cell_type": "code",
   "execution_count": 16,
   "metadata": {
    "collapsed": false
   },
   "outputs": [
    {
     "name": "stdout",
     "output_type": "stream",
     "text": [
      "+-------------------+--------------------+\n",
      "|               date|             hashtag|\n",
      "+-------------------+--------------------+\n",
      "|2014-10-01 07:51:33|             android|\n",
      "|2014-10-01 11:32:41|             windows|\n",
      "|2014-10-02 03:23:51|               video|\n",
      "|2014-10-02 14:59:46|      vishalbhardwaj|\n",
      "|2014-10-03 01:51:51|3yearsofalwaysinm...|\n",
      "+-------------------+--------------------+\n",
      "only showing top 5 rows\n",
      "\n"
     ]
    }
   ],
   "source": [
    "hashtag_df.select('date', 'hashtag').show(5)"
   ]
  },
  {
   "cell_type": "markdown",
   "metadata": {},
   "source": [
    "In addition, we can pass functions to `select` that will operate on existing columns and define a new column. For example, lets use the `month` function to extract the month from the date string: "
   ]
  },
  {
   "cell_type": "code",
   "execution_count": 17,
   "metadata": {
    "collapsed": false
   },
   "outputs": [
    {
     "name": "stdout",
     "output_type": "stream",
     "text": [
      "+--------------------+-----------+\n",
      "|             hashtag|month(date)|\n",
      "+--------------------+-----------+\n",
      "|             android|         10|\n",
      "|             windows|         10|\n",
      "|               video|         10|\n",
      "|      vishalbhardwaj|         10|\n",
      "|3yearsofalwaysinm...|         10|\n",
      "+--------------------+-----------+\n",
      "only showing top 5 rows\n",
      "\n"
     ]
    }
   ],
   "source": [
    "hashtag_df.select('hashtag', func.month('date')).show(5)"
   ]
  },
  {
   "cell_type": "markdown",
   "metadata": {},
   "source": [
    "If some extra functionality is needed, we can define a custom \"user defined function\" (UDF) that uses the standard python interpreter. The function has to be registered as a UDF using [`pyspark.sql.functions.udf`](https://spark.apache.org/docs/latest/api/python/pyspark.sql.html#pyspark.sql.functions.udf). For example: "
   ]
  },
  {
   "cell_type": "code",
   "execution_count": 18,
   "metadata": {
    "collapsed": false
   },
   "outputs": [],
   "source": [
    "def string_length(x):\n",
    "    return len(x)\n",
    "\n",
    "string_length_udf = func.udf(string_length, LongType())"
   ]
  },
  {
   "cell_type": "code",
   "execution_count": 19,
   "metadata": {
    "collapsed": false
   },
   "outputs": [
    {
     "name": "stdout",
     "output_type": "stream",
     "text": [
      "+--------------------+--------------------------------+\n",
      "|             hashtag|PythonUDF#string_length(hashtag)|\n",
      "+--------------------+--------------------------------+\n",
      "|             android|                               7|\n",
      "|             windows|                               7|\n",
      "|               video|                               5|\n",
      "|      vishalbhardwaj|                              14|\n",
      "|3yearsofalwaysinm...|                              23|\n",
      "+--------------------+--------------------------------+\n",
      "only showing top 5 rows\n",
      "\n"
     ]
    }
   ],
   "source": [
    "hashtag_df.select('hashtag', string_length_udf('hashtag')).show(5)"
   ]
  },
  {
   "cell_type": "markdown",
   "metadata": {},
   "source": [
    "### `DataFrame` superpower:  `groupBy`\n",
    "\n",
    "`DataFrame`'s `groupBy()` method to allows you to collect together rows that share a common value. This is a powerful method that allows you to perform aggregations on your data quickly. It can serve as a replacement to `reduceByKey` that is used on `RDD`s and requires considerably less wrangling with keys and values. \n",
    "\n",
    "This is also where things get a little confusing: unlike other `DataFrame` and `RDD` methods, `groupBy` doesn't return another `DataFrame`. Instead, it returns a `GroupedData` object, which has very limited functionality. It can *only* perform the dedicated aggregation functions `avg`, `count`, `max`, `mean`, `min`, and `sum`. You can specify a column (or columns) for the aggregation for all of these except `count`, which just counts the number of rows in each group. These methods all return another `DataFrame`, so the `GroupedData` is a sort of intermediate stage. \n",
    "\n",
    "Here, we will try to find out how many hashtags are tweeted each minute, so we will first create a custom UDF that calculates minute-of-the-year for each hashtag. Then we will use `groupBy` aggregation methods to obtain counts. "
   ]
  },
  {
   "cell_type": "code",
   "execution_count": 20,
   "metadata": {
    "collapsed": true
   },
   "outputs": [],
   "source": [
    "minute_of_the_year = (func.dayofyear('date')*60*24 + func.hour('date')*60 + func.minute('date')).alias('moy')"
   ]
  },
  {
   "cell_type": "code",
   "execution_count": 21,
   "metadata": {
    "collapsed": true
   },
   "outputs": [],
   "source": [
    "moy_df = hashtag_df.select('hashtag', minute_of_the_year)"
   ]
  },
  {
   "cell_type": "code",
   "execution_count": 22,
   "metadata": {
    "collapsed": false
   },
   "outputs": [
    {
     "name": "stdout",
     "output_type": "stream",
     "text": [
      "+--------------------+------+\n",
      "|             hashtag|   moy|\n",
      "+--------------------+------+\n",
      "|             android|395031|\n",
      "|             windows|395252|\n",
      "|               video|396203|\n",
      "|      vishalbhardwaj|396899|\n",
      "|3yearsofalwaysinm...|397551|\n",
      "+--------------------+------+\n",
      "only showing top 5 rows\n",
      "\n"
     ]
    }
   ],
   "source": [
    "moy_df.show(5)"
   ]
  },
  {
   "cell_type": "code",
   "execution_count": 23,
   "metadata": {
    "collapsed": false
   },
   "outputs": [
    {
     "data": {
      "text/plain": [
       "<pyspark.sql.group.GroupedData at 0x2b96c59fec10>"
      ]
     },
     "execution_count": 23,
     "metadata": {},
     "output_type": "execute_result"
    }
   ],
   "source": [
    "moy_group = moy_df.groupBy('moy')\n",
    "moy_group"
   ]
  },
  {
   "cell_type": "markdown",
   "metadata": {},
   "source": [
    "Note that `moy_group` is a `GroupedData` instance - it contains groups of rows that all have the same value of `'moy'`. Calling `count()` will give us back a `DataFrame`:"
   ]
  },
  {
   "cell_type": "code",
   "execution_count": 24,
   "metadata": {
    "collapsed": false
   },
   "outputs": [
    {
     "data": {
      "text/plain": [
       "DataFrame[moy: int, count: bigint]"
      ]
     },
     "execution_count": 24,
     "metadata": {},
     "output_type": "execute_result"
    }
   ],
   "source": [
    "moy_count = moy_group.count()\n",
    "moy_count"
   ]
  },
  {
   "cell_type": "code",
   "execution_count": 25,
   "metadata": {
    "collapsed": false
   },
   "outputs": [
    {
     "name": "stdout",
     "output_type": "stream",
     "text": [
      "+------+-----+\n",
      "|   moy|count|\n",
      "+------+-----+\n",
      "|418031|  846|\n",
      "|397631| 1064|\n",
      "|466431| 1020|\n",
      "|443631| 1032|\n",
      "|487631| 1309|\n",
      "|483231| 1031|\n",
      "|438031|  744|\n",
      "|411631| 1006|\n",
      "|396431|  832|\n",
      "|400231|  871|\n",
      "|405831| 1017|\n",
      "|423031| 1178|\n",
      "|426431| 1032|\n",
      "|403831|  875|\n",
      "|402231|  833|\n",
      "|411431| 1267|\n",
      "|460031| 1080|\n",
      "|472831|  826|\n",
      "|406031|  960|\n",
      "|420431|  929|\n",
      "+------+-----+\n",
      "only showing top 20 rows\n",
      "\n"
     ]
    }
   ],
   "source": [
    "moy_count.show()"
   ]
  },
  {
   "cell_type": "markdown",
   "metadata": {},
   "source": [
    "We can collect this \"reduced\" data into a Pandas dataframe and plot it: "
   ]
  },
  {
   "cell_type": "code",
   "execution_count": 26,
   "metadata": {
    "collapsed": true
   },
   "outputs": [],
   "source": [
    "moy_data = moy_count.toPandas()"
   ]
  },
  {
   "cell_type": "code",
   "execution_count": 27,
   "metadata": {
    "collapsed": false
   },
   "outputs": [
    {
     "data": {
      "text/plain": [
       "<matplotlib.text.Text at 0x2b96c7d26950>"
      ]
     },
     "execution_count": 27,
     "metadata": {},
     "output_type": "execute_result"
    },
    {
     "data": {
      "image/png": "[encoded data removed]",
      "text/plain": [
       "<matplotlib.figure.Figure at 0x2b96c59e1790>"
      ]
     },
     "metadata": {},
     "output_type": "display_data"
    }
   ],
   "source": [
    "fig, ax = plt.subplots()\n",
    "plt.plot(moy_data['moy'][:1000], moy_data['count'][:1000], 'o', alpha=.5)\n",
    "plt.xlabel('minute of year'); plt.ylabel('hashtags per minute')"
   ]
  },
  {
   "cell_type": "markdown",
   "metadata": {},
   "source": [
    "For fun, lets do a quick aside and check for any obvious periods in there..."
   ]
  },
  {
   "cell_type": "code",
   "execution_count": 28,
   "metadata": {
    "collapsed": false
   },
   "outputs": [
    {
     "data": {
      "image/png": "[encoded data removed]",
      "text/plain": [
       "<matplotlib.figure.Figure at 0x2b96c59725d0>"
      ]
     },
     "metadata": {},
     "output_type": "display_data"
    }
   ],
   "source": [
    "import scipy.fftpack\n",
    "\n",
    "N = len(moy_data['count'])\n",
    "T = (moy_data['moy'].max() - moy_data['moy'].min())/N\n",
    "\n",
    "yf = scipy.fftpack.fft(moy_data['count'])\n",
    "\n",
    "xf = np.linspace(0.0, 1.0/(2.0*T), N/2)\n",
    "\n",
    "fig, ax = plt.subplots()\n",
    "ax.plot(1./xf/60.,2.0/N * np.abs(yf[0:N/2]))\n",
    "ax.set_xlim(0,36)\n",
    "ax.set_xlabel('period (hours)'); ax.set_ylabel('power');"
   ]
  },
  {
   "cell_type": "markdown",
   "metadata": {},
   "source": [
    "A lot of structure in there! some of it might be harmonics, but looking into periodicity on Twitter [has been done before](http://theory.stanford.edu/~nmishra/Papers/groupChatsOnTwitter.pdf) (obviously)."
   ]
  },
  {
   "cell_type": "markdown",
   "metadata": {},
   "source": [
    "### Simple word count revisited\n",
    "\n",
    "OK, back to Spark. Now that we have a `DataFrame` consisting of `(timestamp, hashtag)` columns, lets do a simple word count using the `DataFrame` API. To accomplish this, we'll once again use the `groupBy` method of the `DataFrame`:"
   ]
  },
  {
   "cell_type": "code",
   "execution_count": 29,
   "metadata": {
    "collapsed": false
   },
   "outputs": [
    {
     "name": "stdout",
     "output_type": "stream",
     "text": [
      "+--------------------------+-------+\n",
      "|hashtag                   |count  |\n",
      "+--------------------------+-------+\n",
      "|mtvstars                  |2415609|\n",
      "|emabiggestfans1d          |1563014|\n",
      "|emabiggestfansjustinbieber|1463962|\n",
      "|vote5sos                  |1164349|\n",
      "|votefifthharmony          |1074152|\n",
      "|kcaargentina              |747380 |\n",
      "|gameinsight               |695806 |\n",
      "|android                   |500114 |\n",
      "|rt                        |417169 |\n",
      "|teamfollowback            |403850 |\n",
      "|تطبيق_قرآنى               |393429 |\n",
      "|رتويت                     |365394 |\n",
      "|androidgames              |352950 |\n",
      "|rtした人全員フォローする             |332244 |\n",
      "|الهلال                    |324080 |\n",
      "|amas                      |311910 |\n",
      "|sougofollow               |305094 |\n",
      "|follow                    |298020 |\n",
      "|相互フォロー                    |295854 |\n",
      "|ipad                      |293422 |\n",
      "|الرياض                    |283517 |\n",
      "|السعودية                  |278007 |\n",
      "|ff                        |252875 |\n",
      "|ipadgames                 |252507 |\n",
      "|كنز_المسلم                |250930 |\n",
      "+--------------------------+-------+\n",
      "only showing top 25 rows\n",
      "\n",
      "CPU times: user 79 ms, sys: 22 ms, total: 101 ms\n",
      "Wall time: 4.3 s\n"
     ]
    }
   ],
   "source": [
    "%%time \n",
    "hashtag_df.groupBy('hashtag').count().sort('count', ascending=False).show(25, False)"
   ]
  },
  {
   "cell_type": "code",
   "execution_count": 30,
   "metadata": {
    "collapsed": false,
    "scrolled": false
   },
   "outputs": [
    {
     "name": "stdout",
     "output_type": "stream",
     "text": [
      "mtvstars 2415609\n",
      "emabiggestfans1d 1563014\n",
      "emabiggestfansjustinbieber 1463962\n",
      "vote5sos 1164349\n",
      "votefifthharmony 1074152\n",
      "kcaargentina 747380\n",
      "gameinsight 695806\n",
      "android 500114\n",
      "rt 417169\n",
      "teamfollowback 403850\n",
      "تطبيق_قرآنى 393429\n",
      "رتويت 365394\n",
      "androidgames 352950\n",
      "rtした人全員フォローする 332244\n",
      "الهلال 324080\n",
      "amas 311910\n",
      "sougofollow 305094\n",
      "follow 298020\n",
      "相互フォロー 295854\n",
      "ipad 293422\n",
      "الرياض 283517\n",
      "السعودية 278007\n",
      "ff 252875\n",
      "ipadgames 252507\n",
      "كنز_المسلم 250930\n",
      "CPU times: user 375 ms, sys: 123 ms, total: 498 ms\n",
      "Wall time: 28.4 s\n"
     ]
    }
   ],
   "source": [
    "%%time\n",
    "res = (hashtag_df.map(lambda r: (r.hashtag, 1))\n",
    "           .reduceByKey(lambda a,b:a+b)\n",
    "           .sortBy(lambda (k,count): count, ascending=False)).take(25)\n",
    "for x in res: \n",
    "    print(x[0], x[1])"
   ]
  },
  {
   "cell_type": "markdown",
   "metadata": {},
   "source": [
    " As we can see here, there are lots os languages represented on Twitter! This is very interesting by itself, but for now lets focus on just plain ascii hash tags which we are more likely to understand: "
   ]
  },
  {
   "cell_type": "code",
   "execution_count": 31,
   "metadata": {
    "collapsed": true
   },
   "outputs": [],
   "source": [
    "# define a helper UDF that can be used to filter non-ascii hashtags\n",
    "def is_ascii(s):\n",
    "    return all(ord(c) > 0 and ord(c) < 128 for c in s)\n",
    "is_ascii_udf = func.udf(is_ascii, BooleanType())"
   ]
  },
  {
   "cell_type": "code",
   "execution_count": 32,
   "metadata": {
    "collapsed": true
   },
   "outputs": [],
   "source": [
    "hashtag_df = hashtag_df.filter(is_ascii_udf('hashtag'))"
   ]
  },
  {
   "cell_type": "markdown",
   "metadata": {},
   "source": [
    "### Daily hashtag trends\n",
    "\n",
    "Now lets do something slightly more complicated and incorporate the time data into our analysis. \n",
    "\n",
    "To get information about daily hashtag usage, we must first convert the date string into a number representing day of the year. The [Spark DataFrame functions module](http://spark.apache.org/docs/latest/api/python/pyspark.sql.html#module-pyspark.sql.functions) provides a function [dayofyear](http://spark.apache.org/docs/latest/api/python/pyspark.sql.html#pyspark.sql.functions.dayofyear) that will do this for us and we can use it just like we used the User Defined Functions (UDFs) above. "
   ]
  },
  {
   "cell_type": "code",
   "execution_count": 33,
   "metadata": {
    "collapsed": false
   },
   "outputs": [
    {
     "name": "stdout",
     "output_type": "stream",
     "text": [
      "+-----+----+---+--------------------+\n",
      "|month|week|day|             hashtag|\n",
      "+-----+----+---+--------------------+\n",
      "|   10|  40|274|             android|\n",
      "|   10|  40|274|             windows|\n",
      "|   10|  40|275|               video|\n",
      "|   10|  40|275|      vishalbhardwaj|\n",
      "|   10|  40|276|3yearsofalwaysinm...|\n",
      "+-----+----+---+--------------------+\n",
      "only showing top 5 rows\n",
      "\n"
     ]
    }
   ],
   "source": [
    "daily_hashtag = hashtag_df.select(func.month('date').alias('month'),\n",
    "                                  func.weekofyear('date').alias('week'),\n",
    "                                  func.dayofyear('date').alias('day'), \n",
    "                                  'hashtag')\n",
    "daily_hashtag.show(5)"
   ]
  },
  {
   "cell_type": "markdown",
   "metadata": {},
   "source": [
    "We can now use the same technique as above using `groupBy` to get daily counts for each hashtag. Since we want to satisfy two conditions (counts per day and counts per hashtag), we simply give `groupBy` two columns:"
   ]
  },
  {
   "cell_type": "code",
   "execution_count": 34,
   "metadata": {
    "collapsed": false
   },
   "outputs": [],
   "source": [
    "day_counts = daily_hashtag.groupby('day', 'hashtag', 'week').count()"
   ]
  },
  {
   "cell_type": "code",
   "execution_count": 35,
   "metadata": {
    "collapsed": false
   },
   "outputs": [
    {
     "name": "stdout",
     "output_type": "stream",
     "text": [
      "CPU times: user 122 ms, sys: 49 ms, total: 171 ms\n",
      "Wall time: 24.2 s\n"
     ]
    },
    {
     "data": {
      "text/plain": [
       "11160949"
      ]
     },
     "execution_count": 35,
     "metadata": {},
     "output_type": "execute_result"
    }
   ],
   "source": [
    "%time day_counts.sort('day').count()"
   ]
  },
  {
   "cell_type": "markdown",
   "metadata": {},
   "source": [
    "#### Important aside concerning `count()` (read this while waiting for the above line to complete)\n",
    "\n",
    "The use of `count()` here is very confusing -- in the first of the two cells above, `count()` is a method of a [GroupedData](http://spark.apache.org/docs/latest/api/python/pyspark.sql.html#pyspark.sql.GroupedData) object, which performs a counting of items in each group. Our grouping here is defined by week, day, and hashtag, so calling `count()` gives us the number of times a hashtag appears each day of the year (week here has no effect since days are unique anyway). To make it even more confusing, `count()` in this case actually returns a `DataFrame`, with \"count\" as one of the columns. \n",
    "\n",
    "However, we are much more used to seeing `count()` as an `RDD` method! This is done in the second of the two cells above. There, it returns a single number representing the number of elements in the `RDD` (or `DataFrame`), which is much different. "
   ]
  },
  {
   "cell_type": "code",
   "execution_count": 36,
   "metadata": {
    "collapsed": false
   },
   "outputs": [
    {
     "name": "stdout",
     "output_type": "stream",
     "text": [
      "+---+------------------+----+-----+\n",
      "|day|           hashtag|week|count|\n",
      "+---+------------------+----+-----+\n",
      "|301|              epic|  44|   40|\n",
      "|288|                ff|  42| 3813|\n",
      "|279|1forthemostcountry|  41|    3|\n",
      "|282|           average|  41|    6|\n",
      "|302|            anakkl|  44|   80|\n",
      "+---+------------------+----+-----+\n",
      "only showing top 5 rows\n",
      "\n"
     ]
    }
   ],
   "source": [
    "day_counts.show(5)"
   ]
  },
  {
   "cell_type": "markdown",
   "metadata": {},
   "source": [
    "#### `RDD` analogy:\n",
    "\n",
    "The same counting of daily occurences of each hashtag can be done with an `RDD` operation using a `map` and `reduceByKey`, though it might look a bit messier: "
   ]
  },
  {
   "cell_type": "code",
   "execution_count": 37,
   "metadata": {
    "collapsed": true
   },
   "outputs": [],
   "source": [
    "# TODO\n",
    "day_counts_rdd = daily_hashtag.rdd.map(lambda r: ((r.day, r.hashtag, r.week), 1)).reduceByKey(lambda a,b: a+b)"
   ]
  },
  {
   "cell_type": "code",
   "execution_count": 38,
   "metadata": {
    "collapsed": false
   },
   "outputs": [
    {
     "name": "stdout",
     "output_type": "stream",
     "text": [
      "CPU times: user 425 ms, sys: 138 ms, total: 563 ms\n",
      "Wall time: 48.6 s\n"
     ]
    },
    {
     "data": {
      "text/plain": [
       "11160949"
      ]
     },
     "execution_count": 38,
     "metadata": {},
     "output_type": "execute_result"
    }
   ],
   "source": [
    "%time day_counts_rdd.sortBy(lambda ((day, hashtag, week), count): day).count()"
   ]
  },
  {
   "cell_type": "markdown",
   "metadata": {},
   "source": [
    "Wow, that takes way longer! The `DataFrame` API avoids shipping data back and forth to the Python intepreter (and can do some extra optimizations) so the performance difference can be significant, as we can see above. "
   ]
  },
  {
   "cell_type": "markdown",
   "metadata": {},
   "source": [
    "Lets make sure that the results are the same by looking up a hashtag in both places:"
   ]
  },
  {
   "cell_type": "code",
   "execution_count": 39,
   "metadata": {
    "collapsed": false
   },
   "outputs": [
    {
     "data": {
      "text/plain": [
       "[2204]"
      ]
     },
     "execution_count": 39,
     "metadata": {},
     "output_type": "execute_result"
    }
   ],
   "source": [
    "day_counts_rdd.lookup((274,'retweet',40))"
   ]
  },
  {
   "cell_type": "code",
   "execution_count": 40,
   "metadata": {
    "collapsed": false
   },
   "outputs": [
    {
     "name": "stdout",
     "output_type": "stream",
     "text": [
      "+---+-------+----+-----+\n",
      "|day|hashtag|week|count|\n",
      "+---+-------+----+-----+\n",
      "|274|retweet|  40| 2204|\n",
      "+---+-------+----+-----+\n",
      "\n"
     ]
    }
   ],
   "source": [
    "day_counts.filter((day_counts.hashtag == 'retweet') & (day_counts.day == 274)).show()"
   ]
  },
  {
   "cell_type": "markdown",
   "metadata": {},
   "source": [
    "At this point we should persist `day_counts` in memory since we'll be using it later on. "
   ]
  },
  {
   "cell_type": "code",
   "execution_count": 41,
   "metadata": {
    "collapsed": false
   },
   "outputs": [
    {
     "data": {
      "text/plain": [
       "DataFrame[day: int, hashtag: string, week: int, count: bigint]"
      ]
     },
     "execution_count": 41,
     "metadata": {},
     "output_type": "execute_result"
    }
   ],
   "source": [
    "day_counts.cache()"
   ]
  },
  {
   "cell_type": "markdown",
   "metadata": {},
   "source": [
    "We can get a quick idea of the most popular hashtags by looking at the weekly averages of daily hashtag counts:"
   ]
  },
  {
   "cell_type": "code",
   "execution_count": 49,
   "metadata": {
    "collapsed": false
   },
   "outputs": [
    {
     "name": "stdout",
     "output_type": "stream",
     "text": [
      "+----+--------------------+------------------+\n",
      "|week|             hashtag|        avg(count)|\n",
      "+----+--------------------+------------------+\n",
      "|  45|            vote5sos|          159567.0|\n",
      "|  45|    votefifthharmony|149373.85714285713|\n",
      "|  47|            mtvstars|130512.57142857143|\n",
      "|  48|            mtvstars| 97469.71428571429|\n",
      "|  49|            mtvstars| 71965.85714285714|\n",
      "|  45|    emabiggestfans1d| 65711.57142857143|\n",
      "|  46|            mtvstars|           63171.2|\n",
      "|  45|emabiggestfansjus...| 58197.28571428572|\n",
      "|  42|    emabiggestfans1d|54077.857142857145|\n",
      "|  42|emabiggestfansjus...| 52082.28571428572|\n",
      "|  44|    emabiggestfans1d| 49943.57142857143|\n",
      "|  44|emabiggestfansjus...| 47231.71428571428|\n",
      "|  46|           murrayftw|37438.666666666664|\n",
      "|  43|        kcaargentina| 36302.28571428572|\n",
      "|  43|    emabiggestfans1d|30190.571428571428|\n",
      "|  43|emabiggestfansjus...| 29586.85714285714|\n",
      "|  42|        kcaargentina| 25964.14285714286|\n",
      "|  40|       votevampsvevo|           21236.0|\n",
      "|  41|    emabiggestfans1d| 19649.14285714286|\n",
      "|  41|emabiggestfansjus...| 19479.85714285714|\n",
      "+----+--------------------+------------------+\n",
      "only showing top 20 rows\n",
      "\n"
     ]
    }
   ],
   "source": [
    "(day_counts.groupBy('week', 'hashtag')\n",
    "           .avg('count')\n",
    "           .sort('avg(count)', ascending=False)\n",
    "           .show(20))"
   ]
  },
  {
   "cell_type": "markdown",
   "metadata": {},
   "source": [
    "Apparently, the [MTV Europe Music Awards](https://en.wikipedia.org/wiki/2014_MTV_Europe_Music_Awards) happened in late 2014... (and [yet another boy band](https://en.wikipedia.org/wiki/One_Direction) is on the scene?)"
   ]
  },
  {
   "cell_type": "markdown",
   "metadata": {},
   "source": [
    "## Using `window` functions\n",
    "\n",
    "### top daily hashtags"
   ]
  },
  {
   "cell_type": "markdown",
   "metadata": {},
   "source": [
    "Now lets say we want to know the top tweets for each day. This is a non-trivial thing to try and compute using a standard RDD, but the `DataFrame` API gives us [\"window\"](https://databricks.com/blog/2015/07/15/introducing-window-functions-in-spark-sql.html) functions that let us do it relatively easily. \n",
    "\n",
    "A window function defines how the data should be grouped and ordered. Then, when using either a ranking or analytic function (see the list in the [window functions article](https://databricks.com/blog/2015/07/15/introducing-window-functions-in-spark-sql.html)) we can specify which window to run the function over. \n",
    "\n",
    "In this example, we will define a window function, `daily_window`, over the `'day'` column so our data will be grouped by day. Applying `daily_window` to the built-in `rank` function will give us `daily_rank`, a function that will yield a new column `'rank'` that will hold the rank of each hashtag on a given day based on its counts (in descending order).\n",
    "\n",
    "In the end, this is a fairly complicated operation achieved in just a few lines of code! "
   ]
  },
  {
   "cell_type": "code",
   "execution_count": 44,
   "metadata": {
    "collapsed": false
   },
   "outputs": [],
   "source": [
    "daily_window = Window.partitionBy('day')"
   ]
  },
  {
   "cell_type": "code",
   "execution_count": 45,
   "metadata": {
    "collapsed": false
   },
   "outputs": [],
   "source": [
    "daily_rank = (func.rank() # define the basic function\n",
    "                  .over(daily_window.orderBy(func.desc('count'))) # give the window *over* which rank should be applied\n",
    "                  .alias('rank')) # name of the new column"
   ]
  },
  {
   "cell_type": "code",
   "execution_count": 46,
   "metadata": {
    "collapsed": false
   },
   "outputs": [
    {
     "name": "stdout",
     "output_type": "stream",
     "text": [
      "+---+-----+-------------+----+\n",
      "|day|count|      hashtag|rank|\n",
      "+---+-----+-------------+----+\n",
      "|274| 9880|  gameinsight|   1|\n",
      "|274| 9179| kcaargentina|   2|\n",
      "|274| 6675|      android|   3|\n",
      "|274| 5893| androidgames|   4|\n",
      "|274| 4618|           rt|   5|\n",
      "|275|13857| kcaargentina|   1|\n",
      "|275|13725|  gameinsight|   2|\n",
      "|275|10093|   1dproposal|   3|\n",
      "|275| 9774|      android|   4|\n",
      "|275| 7515| androidgames|   5|\n",
      "|276|15196|  gameinsight|   1|\n",
      "|276|14743| kcaargentina|   2|\n",
      "|276|11497|      android|   3|\n",
      "|276| 7423| androidgames|   4|\n",
      "|276| 6806|           ff|   5|\n",
      "|277|21738|votevampsvevo|   1|\n",
      "|277|19660| kcaargentina|   2|\n",
      "|277|15055|  gameinsight|   3|\n",
      "|277|11135|      android|   4|\n",
      "|277| 7401| androidgames|   5|\n",
      "+---+-----+-------------+----+\n",
      "only showing top 20 rows\n",
      "\n"
     ]
    }
   ],
   "source": [
    "(day_counts.select('day', 'count', 'hashtag', daily_rank)\n",
    "           .filter('rank < 6')\n",
    "           .show(20))"
   ]
  },
  {
   "cell_type": "markdown",
   "metadata": {},
   "source": [
    "### A more complicated `Window` example: calculating the daily standard deviation based on a weekly window\n",
    "\n",
    "The above list of top daily hashtags is interesting, but it really only uncovers very frequent hashtags (e.g. \"ff\" for \"friend forward\" or \"rt\" for \"retweet\"). We want to try and identify \"world events\" and for that we want to detect a rapid *change* in the tweeting pattern. \n",
    "\n",
    "One very simple model to do this is to just look at the standard deviation of daily tweets. We want to have some sort of reasonably fine-grained control, so we will look at top hashtags per week. Remember standard deviation is just:\n",
    "\n",
    "$$\\sigma = \\sqrt{\\frac{1}{N}\\sum_i{(x_i-\\mu)^2}},$$\n",
    "\n",
    "where $x_i$ is the daily count of a hashtag, $\\mu$ is the weekly average and $N$ is the number of samples (here $N=7$ since there are always seven days in a week). \n",
    "\n",
    "So the procedure is something like this: \n",
    "\n",
    "1. calculate $\\mu$ for each hastag and each week\n",
    "2. compute the sum and take the square root\n",
    "3. order tweets for each week in order of decreasing $\\sigma$\n",
    "\n",
    "Using standard `RDD`s, the first step would be the most time consuming -- we would need to do an expensive `reduceByKey` on `(week, hashtag, count)` key-value pairs and then either join this result with the original `RDD` or broadcast it as a lookup-table (depending on its size). \n",
    "\n",
    "Using a `DataFrame`, we can instead use a \"window\" function to do the same thing. \n",
    "\n",
    "#### Constructing the window function and calculating $\\sigma$\n",
    "\n",
    "Our procedure to calculate $\\sigma$ using a weekly mean is as follows:\n",
    "\n",
    "1. define a `Window` function that will group the data by hashtag and by week\n",
    "2. compute `mean_diff` which is the difference between the data point and the weekly mean using the window function\n",
    "2. calculate `var_arg`, which is just $1/7 \n",
    "3. use `groupBy` to sum up the `sum_arg` column for each hashtag each week\n",
    "4. calculate `sigma` by taking the square root of the variance "
   ]
  },
  {
   "cell_type": "code",
   "execution_count": 52,
   "metadata": {
    "collapsed": true
   },
   "outputs": [],
   "source": [
    "# define the window function, partitioned over 'week' and 'hashtag'\n",
    "weekly_window = Window.partitionBy('week', 'hashtag')"
   ]
  },
  {
   "cell_type": "code",
   "execution_count": 53,
   "metadata": {
    "collapsed": false
   },
   "outputs": [],
   "source": [
    "# define the mean_diff function which computes the difference between each data point 'count' \n",
    "# and the mean of 'count' over the weekly window (defined above)\n",
    "mean_diff = day_counts['count'] - func.mean('count').over(weekly_window)\n",
    "\n",
    "var_arg = 1./7*mean_diff*mean_diff"
   ]
  },
  {
   "cell_type": "code",
   "execution_count": 55,
   "metadata": {
    "collapsed": false
   },
   "outputs": [],
   "source": [
    "weekly_stats = (day_counts.withColumn('var_arg', var_arg)\n",
    "                         .groupBy('week', 'hashtag')\n",
    "                         .sum('var_arg')\n",
    "                         .withColumnRenamed('sum(var_arg)', 'variance')\n",
    "                         .withColumn('stddev', func.sqrt('variance'))\n",
    "                         .sort('stddev', ascending=False))"
   ]
  },
  {
   "cell_type": "code",
   "execution_count": 56,
   "metadata": {
    "collapsed": false
   },
   "outputs": [
    {
     "name": "stdout",
     "output_type": "stream",
     "text": [
      "+----+--------------------+--------------------+------------------+\n",
      "|week|             hashtag|            variance|            stddev|\n",
      "+----+--------------------+--------------------+------------------+\n",
      "|  45|            vote5sos|2.996737583968431...|173110.87730031385|\n",
      "|  45|    votefifthharmony|2.716333743123813...|164813.03780720182|\n",
      "|  46|           murrayftw| 5.839912011898922E9|  76419.3170075402|\n",
      "|  46|            mtvstars|  4.50628024953835E9| 67128.83322044522|\n",
      "|  45|    emabiggestfans1d|2.4444591408138824E9| 49441.47187143484|\n",
      "|  45|emabiggestfansjus...|1.9072142253450317E9| 43671.66387195514|\n",
      "|  41|    emabiggestfans1d| 5.615435298361732E8| 23696.90971068112|\n",
      "|  49|            mtvstars| 5.328185101219162E8|23082.861826946766|\n",
      "|  41|emabiggestfansjus...| 4.734708501219754E8|21759.385334194885|\n",
      "|  44|        kcaargentina|3.2434063599967563E8|18009.459625421183|\n",
      "|  46|            vote5sos|2.2709849277528307E8|15069.787416393208|\n",
      "|  48|            ferguson| 2.010179525304112E8|14178.080001552087|\n",
      "|  49|            2014mama|  1.36033745632517E8|11663.350532009103|\n",
      "|  45|         fourhangout|1.0834253697132021E8|10408.772116408361|\n",
      "|  43|emabiggestfansjus...|1.0385722155091655E8|10191.036333509785|\n",
      "|  43|    emabiggestfans1d| 9.939805853051284E7| 9969.857498004314|\n",
      "|  44|    emabiggestfans1d| 9.878371310194203E7|   9938.9996026734|\n",
      "|  47|         followmecam| 9.795726857133059E7|  9897.33643822067|\n",
      "|  48|                amas| 8.395723820399767E7| 9162.818245714452|\n",
      "|  44|emabiggestfansjus...|  7.83021744897176E7| 8848.851591574898|\n",
      "+----+--------------------+--------------------+------------------+\n",
      "only showing top 20 rows\n",
      "\n"
     ]
    }
   ],
   "source": [
    "weekly_stats.show()"
   ]
  },
  {
   "cell_type": "code",
   "execution_count": 57,
   "metadata": {
    "collapsed": true
   },
   "outputs": [],
   "source": [
    "weekly_stats_window = Window.partitionBy('week').orderBy(func.desc('stddev'))"
   ]
  },
  {
   "cell_type": "code",
   "execution_count": 59,
   "metadata": {
    "collapsed": false
   },
   "outputs": [
    {
     "name": "stdout",
     "output_type": "stream",
     "text": [
      "Top ten hashtags with highest variation each week\n",
      "+----+--------------------+------------------+----+\n",
      "|week|             hashtag|            stddev|rank|\n",
      "+----+--------------------+------------------+----+\n",
      "|  40|      followmecarter| 4248.384701437773|   1|\n",
      "|  40|          1dproposal|3329.9083041841595|   2|\n",
      "|  40|        kcaargentina| 3225.485788438413|   3|\n",
      "|  40|  hormonestheseries2| 2207.925141069451|   4|\n",
      "|  40|       nashsnewvideo|1888.8845839343926|   5|\n",
      "|  40|         gameinsight|1659.7393427015975|   6|\n",
      "|  40|       debatenaglobo| 1627.613643167789|   7|\n",
      "|  40|     sbspopasiabeast|1622.2622101771333|   8|\n",
      "|  40|                  ff|1599.9488027515167|   9|\n",
      "|  41|    emabiggestfans1d| 23696.90971068112|   1|\n",
      "|  41|emabiggestfansjus...|21759.385334194885|   2|\n",
      "|  41|        kcaargentina| 4302.523236899845|   3|\n",
      "|  41|  hormonestheseries2|2998.8986413707776|   4|\n",
      "|  41|  alwayssupportluhan| 2590.285808829184|   5|\n",
      "|  41|thankyou1dforthewwat| 2133.092839334458|   6|\n",
      "|  41|       jamesandjames|  2045.59757248762|   7|\n",
      "|  41|        myfirsttweet| 1812.567544131123|   8|\n",
      "|  41|          nashandsky|1805.1097993617573|   9|\n",
      "|  42|    emabiggestfans1d| 8329.088535768204|   1|\n",
      "|  42|emabiggestfansjus...|7270.9480166737285|   2|\n",
      "|  42|        kcaargentina| 5104.842335007033|   3|\n",
      "|  42|        camilasayshi| 3878.516556437059|   4|\n",
      "|  42|nowplayingjalenmc...| 2849.279036627215|   5|\n",
      "|  42|    bigpaynodanceoff|2362.0859788379826|   6|\n",
      "|  42|wewantzaynssongsi...|2213.0642191518846|   7|\n",
      "|  42|                  ff|2132.6824442843613|   8|\n",
      "|  42|      thewalkingdead|2061.7900583943333|   9|\n",
      "|  43|emabiggestfansjus...|10191.036333509785|   1|\n",
      "|  43|    emabiggestfans1d| 9969.857498004314|   2|\n",
      "|  43|stealmygirlvevore...|6848.8197821315425|   3|\n",
      "|  43|        followmenash|3982.6082777322813|   4|\n",
      "|  43|        kcaargentina| 3689.804706958973|   5|\n",
      "|  43|somethingbigishap...| 3166.781241033457|   6|\n",
      "|  43|stealmygirlvideot...|3152.2202757194377|   7|\n",
      "|  43|bryantandnashnewv...|2402.3266698277434|   8|\n",
      "|  43|             wannabe| 2373.569266151476|   9|\n",
      "|  44|        kcaargentina|18009.459625421183|   1|\n",
      "|  44|    emabiggestfans1d|   9938.9996026734|   2|\n",
      "|  44|emabiggestfansjus...| 8848.851591574898|   3|\n",
      "|  44|  wildlifemusicvideo|  5251.86455130733|   4|\n",
      "|  44|somethingbigishap...|4078.7577590641763|   5|\n",
      "|  44|           halloween|4071.1469426385056|   6|\n",
      "|  44|        laliesposito| 3711.671464611424|   7|\n",
      "|  44|      gonzalohiguain|  2854.27090515106|   8|\n",
      "|  44|  rollersmusicawards|  2544.30894350382|   9|\n",
      "|  45|            vote5sos|173110.87730031385|   1|\n",
      "|  45|    votefifthharmony|164813.03780720182|   2|\n",
      "|  45|    emabiggestfans1d|49441.471871434835|   3|\n",
      "|  45|emabiggestfansjus...| 43671.66387195514|   4|\n",
      "|  45|         fourhangout|10408.772116408363|   5|\n",
      "|  45| getsomethingbignov7| 7062.943333381796|   6|\n",
      "|  45|              mtvema| 6287.001072829271|   7|\n",
      "|  45|      alexfromtarget| 5089.328286536187|   8|\n",
      "|  45|takipedenitakiped...| 4231.731517078459|   9|\n",
      "|  46|           murrayftw|  76419.3170075402|   1|\n",
      "|  46|            mtvstars| 67128.83322044523|   2|\n",
      "|  46|            vote5sos|15069.787416393207|   3|\n",
      "|  46|    votefifthharmony| 8151.188164294177|   4|\n",
      "|  46|          nashvschad| 5043.025096013522|   5|\n",
      "|  46|  rollersmusicawards| 4735.626053905286|   6|\n",
      "|  46|          murraryftw| 4155.208676208678|   7|\n",
      "|  46|        kingyammouni|3501.6320276594734|   8|\n",
      "|  46|                amas|3084.0794743443494|   9|\n",
      "|  47|         followmecam|  9897.33643822067|   1|\n",
      "|  47|   nightchangesvideo| 7797.922331866144|   2|\n",
      "|  47|           1dorlando| 7280.551896547016|   3|\n",
      "|  47|                aoty| 7193.946221987359|   4|\n",
      "|  47|            mtvstars| 7151.966240271948|   5|\n",
      "|  47|                amas| 6618.531858285481|   6|\n",
      "|  47|        sexylist2014| 6002.517981848363|   7|\n",
      "|  47|       nashsnewvideo| 3405.269251991659|   8|\n",
      "|  47|           callmecam| 3234.961199021282|   9|\n",
      "|  48|            ferguson|14178.080001552087|   1|\n",
      "|  48|                amas| 9162.818245714452|   2|\n",
      "|  48|         camfollowme| 7615.070241005805|   3|\n",
      "|  48|     academiakidscd9| 4994.973826136086|   4|\n",
      "|  48|            mtvstars| 4994.854029447232|   5|\n",
      "|  48|            amas2014| 4643.028796824516|   6|\n",
      "|  48|       mattsnewvideo| 4002.892646037146|   7|\n",
      "|  48|    fergusondecision|3861.5795435823484|   8|\n",
      "|  48|         blackfriday| 3735.141687882466|   9|\n",
      "|  49|            mtvstars|23082.861826946766|   1|\n",
      "|  49|            2014mama|11663.350532009103|   2|\n",
      "|  49|          hayesvideo|3367.7589093367756|   3|\n",
      "|  49|                rwya| 3294.901371453809|   4|\n",
      "|  49|            mama2014| 2944.819512156051|   5|\n",
      "|  49|          ericgarner|2847.8089178603523|   6|\n",
      "|  49|        welovekingth|2553.7221350120735|   7|\n",
      "|  49|      fwenvivoawards| 2331.021500992602|   8|\n",
      "|  49|      voicesavechris| 2328.570290971388|   9|\n",
      "+----+--------------------+------------------+----+\n",
      "\n"
     ]
    }
   ],
   "source": [
    "print('Top ten hashtags with highest variation each week')\n",
    "(weekly_stats.select('week', 'hashtag', 'stddev', \n",
    "                     func.rank().over(weekly_stats_window).alias('rank'))\n",
    "             .filter('rank < 10')\n",
    "             ).show(150)"
   ]
  },
  {
   "cell_type": "markdown",
   "metadata": {},
   "source": [
    "A lot of these are pop-culture events and probably PR campaigns, e.g. 'votefifthharmony' and 'vote5sos'. Turns out the MTV Europe Music Awards were happening during November 2014, so these are not surprising. Also, who knew Twitter was so big in Argentina... check out what [kcaaargentina](http://kidschoiceawardsargentina.mundonick.com/) refers to... (We also see another \"world event\" -- 'halloween' pop up in week 44. \n",
    "\n",
    "Interestingly, in week 48 we finally see something that we are after: [\"ferguson\"](https://en.wikipedia.org/wiki/Ferguson_unrest). This was a huge event covered world-wide and spanned several months -- it actually started in August, but in November the riots returned when the grand jury decided not to indict the police officer who shot Michael Brown. We'll explore this more a bit further down. "
   ]
  },
  {
   "cell_type": "markdown",
   "metadata": {},
   "source": [
    "### Plotting the timeseries of hashtag counts\n",
    "\n",
    "These standard deviation lists we obtained above are nice, but lets actually look at some data. Below we define a simple function for plotting time series data of hashtags. You can specify a single hashtag or a series of hashtags separated by a comma (','). Note that the time-series is normalized by the standard deviation because often the counts for different hashtags differ by orders of magnitude. "
   ]
  },
  {
   "cell_type": "code",
   "execution_count": 184,
   "metadata": {
    "collapsed": false
   },
   "outputs": [
    {
     "data": {
      "text/plain": [
       "<function __main__.plot_hashtag_timeseries>"
      ]
     },
     "execution_count": 184,
     "metadata": {},
     "output_type": "execute_result"
    },
    {
     "data": {
      "image/png": "[encoded data removed]",
      "text/plain": [
       "<matplotlib.figure.Figure at 0x2b96bb3a1d50>"
      ]
     },
     "metadata": {},
     "output_type": "display_data"
    }
   ],
   "source": [
    "minmax = day_counts.select(func.min('day').alias('min'), func.max('day').alias('max')).map(lambda r: (r.min,r.max)).collect()[0]\n",
    "\n",
    "from ipywidgets import interact, interactive, fixed\n",
    "import ipywidgets as widgets\n",
    "\n",
    "def plot_hashtag_timeseries(hashtags): \n",
    "    \n",
    "    if ',' in hashtags : hashtags = map(lambda x: x.strip(), hashtags.split(','))\n",
    "        \n",
    "    if type(hashtags) is not list:\n",
    "        hashtags = [hashtags]\n",
    "    max_data = 0\n",
    "    for hashtag in hashtags:\n",
    "        day_data = day_counts.filter(day_counts['hashtag'] == hashtag).select('day', 'count').sort('day').toPandas()\n",
    "        max_data = day_data['count'].max()\n",
    "        plt.plot(day_data['day'],day_data['count']/day_data['count'].std(), label = hashtag, alpha=.5)\n",
    "        \n",
    "    plt.xlabel('day of year')\n",
    "    plt.legend(fontsize='small', loc='upper left')\n",
    "    plt.xlim(minmax)\n",
    "interact(plot_hashtag_timeseries, hashtags='ferguson, fergusondecision')"
   ]
  },
  {
   "cell_type": "markdown",
   "metadata": {},
   "source": [
    "### Identifying hashtag trends with K-Means clustering\n",
    "\n",
    "The lists above give us some indication of what was big news on Twitter in the last 2.5 months of 2014. We can now use a clustering approach to identify groups of hashtags that may have been a part of the same viral development. \n",
    "\n",
    "Spark includes a K-Means clustering algorithm in MLLib, but it doesn't take a `DataFrame` as input. Instead, we have to pass to it an `RDD` of vectors. "
   ]
  },
  {
   "cell_type": "code",
   "execution_count": 125,
   "metadata": {
    "collapsed": false
   },
   "outputs": [
    {
     "data": {
      "text/plain": [
       "PythonRDD[1195] at RDD at PythonRDD.scala:43"
      ]
     },
     "execution_count": 125,
     "metadata": {},
     "output_type": "execute_result"
    }
   ],
   "source": [
    "from pyspark.mllib.linalg import SparseVector\n",
    "\n",
    "minmax = day_counts.select(func.min('day').alias('min'), func.max('day').alias('max')).map(lambda r: (r.min,r.max)).collect()[0]\n",
    "\n",
    "Ndays = minmax[1]-minmax[0]+1\n",
    "\n",
    "day_counts_vec = (day_counts.select(day_counts['hashtag'], day_counts['day'], day_counts['count'].alias('counts'))\n",
    "           .map(lambda r: (r.hashtag, (r.day-minmax[0], r.counts)))\n",
    "           .aggregateByKey([], lambda a,b: a + [b], lambda a,b: a+b)\n",
    "           .mapValues(lambda x: SparseVector(Ndays, x).toArray()))\n",
    "\n",
    "\n",
    "day_counts_vec.cache()"
   ]
  },
  {
   "cell_type": "code",
   "execution_count": 134,
   "metadata": {
    "collapsed": true
   },
   "outputs": [],
   "source": [
    "day_counts_filtered = day_counts_vec.filter(lambda (h,vec): vec.mean() > 10).mapValues(lambda v: v/v.std()).cache()"
   ]
  },
  {
   "cell_type": "code",
   "execution_count": 186,
   "metadata": {
    "collapsed": false
   },
   "outputs": [],
   "source": [
    "from pyspark.mllib.clustering import KMeans\n",
    "model = KMeans.train(day_counts_filtered.values(), 500, runs=1, maxIterations=1000, initializationMode='random')\n",
    "\n",
    "clusters = day_counts_filtered.mapValues(lambda vec: model.predict(vec)).cache()"
   ]
  },
  {
   "cell_type": "code",
   "execution_count": 187,
   "metadata": {
    "collapsed": true
   },
   "outputs": [],
   "source": [
    "ferguson_cluster = clusters.lookup('ferguson')[0]"
   ]
  },
  {
   "cell_type": "code",
   "execution_count": 188,
   "metadata": {
    "collapsed": false
   },
   "outputs": [
    {
     "data": {
      "image/png": "[encoded data removed]",
      "text/plain": [
       "<matplotlib.figure.Figure at 0x2b96bb135110>"
      ]
     },
     "metadata": {},
     "output_type": "display_data"
    }
   ],
   "source": [
    "hashtags = clusters.filter(lambda (hashtag, cluster): cluster == ferguson_cluster).keys().takeSample(False, 5, None)\n",
    "plot_hashtag_timeseries(hashtags)"
   ]
  },
  {
   "cell_type": "code",
   "execution_count": 192,
   "metadata": {
    "collapsed": false
   },
   "outputs": [
    {
     "data": {
      "text/plain": [
       "[u'camfollowme',\n",
       " u'handsup',\n",
       " u'dontsellshots',\n",
       " u'jurassicworld',\n",
       " u'followmebryant',\n",
       " u'camfoilowme',\n",
       " u'dwtsbethany',\n",
       " u'lodijocallejeros',\n",
       " u'epnrenuncia30nov',\n",
       " u'fergsuon',\n",
       " u'ferguson',\n",
       " u'eunaomereciaissoluansantana',\n",
       " u'foilowmecarter',\n",
       " u'fergusondecision',\n",
       " u'michaelbrown',\n",
       " u'followmestereokicks',\n",
       " u'prayfortrevor',\n",
       " u'nojusticenopeace',\n",
       " u'justiceformikebrown',\n",
       " u'25n',\n",
       " u'smallzywelcomeshome5sos',\n",
       " u'foilowmenash',\n",
       " u'ripmikebrown',\n",
       " u'5hsledgehammervideo',\n",
       " u'sledgehammervideopremiere',\n",
       " u'papertowns',\n",
       " u'samandskatemusic']"
      ]
     },
     "metadata": {},
     "output_type": "display_data"
    },
    {
     "data": {
      "text/plain": [
       "<function __main__.extract_hashtag_cluster>"
      ]
     },
     "execution_count": 192,
     "metadata": {},
     "output_type": "execute_result"
    }
   ],
   "source": [
    "def extract_hashtag_cluster(hashtag):\n",
    "    cluster_id = clusters.lookup(hashtag)[0]\n",
    "    return clusters.filter(lambda (hashtag, cluster): cluster == ferguson_cluster).keys().collect()\n",
    "\n",
    "interact(extract_hashtag_cluster, hashtag='ferguson')"
   ]
  },
  {
   "cell_type": "code",
   "execution_count": 198,
   "metadata": {
    "collapsed": false
   },
   "outputs": [
    {
     "data": {
      "text/plain": [
       "(u'four', 130)"
      ]
     },
     "execution_count": 198,
     "metadata": {},
     "output_type": "execute_result"
    }
   ],
   "source": [
    "clusters.first()"
   ]
  },
  {
   "cell_type": "code",
   "execution_count": 199,
   "metadata": {
    "collapsed": true
   },
   "outputs": [],
   "source": [
    "cluster_df = clusters.toDF(['hashtag', 'cluster'])"
   ]
  },
  {
   "cell_type": "code",
   "execution_count": 200,
   "metadata": {
    "collapsed": false
   },
   "outputs": [
    {
     "name": "stdout",
     "output_type": "stream",
     "text": [
      "+-------+-----+\n",
      "|cluster|count|\n",
      "+-------+-----+\n",
      "|      0|   15|\n",
      "|      1|   39|\n",
      "|      2|    6|\n",
      "|      3|    1|\n",
      "|      4|    9|\n",
      "|      5|   21|\n",
      "|      6|   23|\n",
      "|      7|   34|\n",
      "|      8|   29|\n",
      "|      9|   24|\n",
      "|     10|   21|\n",
      "|     11|   13|\n",
      "|     12|   20|\n",
      "|     13|    4|\n",
      "|     14|    6|\n",
      "|     15|   16|\n",
      "|     16|   11|\n",
      "|     17|   17|\n",
      "|     18|   51|\n",
      "|     19|   10|\n",
      "|     20|   36|\n",
      "|     21|   27|\n",
      "|     22|    7|\n",
      "|     23|   25|\n",
      "|     24|   29|\n",
      "|     25|   35|\n",
      "|     26|    9|\n",
      "|     27|   32|\n",
      "|     28|   26|\n",
      "|     29|   19|\n",
      "|     30|    7|\n",
      "|     31|    2|\n",
      "|     32|   22|\n",
      "|     33|   16|\n",
      "|     34|   19|\n",
      "|     35|    8|\n",
      "|     36|   21|\n",
      "|     37|   17|\n",
      "|     38|    1|\n",
      "|     39|   34|\n",
      "|     40|   12|\n",
      "|     41|   15|\n",
      "|     42|    9|\n",
      "|     43|    3|\n",
      "|     44|   19|\n",
      "|     45|   16|\n",
      "|     46|   16|\n",
      "|     47|   27|\n",
      "|     48|   12|\n",
      "|     49|   47|\n",
      "|     50|   12|\n",
      "|     51|   16|\n",
      "|     52|   12|\n",
      "|     53|    8|\n",
      "|     54|   17|\n",
      "|     55|   34|\n",
      "|     56|   19|\n",
      "|     57|    5|\n",
      "|     58|    7|\n",
      "|     59|   27|\n",
      "|     60|   16|\n",
      "|     61|   10|\n",
      "|     62|   26|\n",
      "|     63|   32|\n",
      "|     64|    2|\n",
      "|     65|   12|\n",
      "|     66|   16|\n",
      "|     67|   22|\n",
      "|     68|   40|\n",
      "|     69|    6|\n",
      "|     70|   13|\n",
      "|     71|   20|\n",
      "|     72|   16|\n",
      "|     73|   24|\n",
      "|     74|   13|\n",
      "|     75|   47|\n",
      "|     76|   18|\n",
      "|     77|    8|\n",
      "|     78|    8|\n",
      "|     79|   11|\n",
      "|     80|    4|\n",
      "|     81|    6|\n",
      "|     82|   11|\n",
      "|     83|   17|\n",
      "|     84|   12|\n",
      "|     85|   28|\n",
      "|     86|    8|\n",
      "|     87|   21|\n",
      "|     88|   17|\n",
      "|     89|   20|\n",
      "|     90|   15|\n",
      "|     91|   14|\n",
      "|     92|   20|\n",
      "|     93|   12|\n",
      "|     94|    1|\n",
      "|     95|   32|\n",
      "|     96|   16|\n",
      "|     97|   27|\n",
      "|     98|   19|\n",
      "|     99|   23|\n",
      "|    100|   13|\n",
      "|    101|   26|\n",
      "|    102|   20|\n",
      "|    103|   12|\n",
      "|    104|   27|\n",
      "|    105|   10|\n",
      "|    106|   32|\n",
      "|    107|    4|\n",
      "|    108|    9|\n",
      "|    109|   35|\n",
      "|    110|   31|\n",
      "|    111|   25|\n",
      "|    112|   31|\n",
      "|    113|    5|\n",
      "|    114|   23|\n",
      "|    115|   18|\n",
      "|    116|   25|\n",
      "|    117|    9|\n",
      "|    118|    5|\n",
      "|    119|    8|\n",
      "|    120|   18|\n",
      "|    121|   31|\n",
      "|    122|   12|\n",
      "|    123|   10|\n",
      "|    124|   21|\n",
      "|    125|   31|\n",
      "|    126|   12|\n",
      "|    127|   27|\n",
      "|    128|   12|\n",
      "|    129|   17|\n",
      "|    130|   18|\n",
      "|    131|   20|\n",
      "|    132|   10|\n",
      "|    133|   27|\n",
      "|    134|   17|\n",
      "|    135|   21|\n",
      "|    136|   10|\n",
      "|    137|   20|\n",
      "|    138|   11|\n",
      "|    139|    9|\n",
      "|    140|    3|\n",
      "|    141|    6|\n",
      "|    142|   19|\n",
      "|    143|   34|\n",
      "|    144|   23|\n",
      "|    145|   16|\n",
      "|    146|   14|\n",
      "|    147|    5|\n",
      "|    148|   14|\n",
      "|    149|   43|\n",
      "|    150|   11|\n",
      "|    151|   28|\n",
      "|    152|   21|\n",
      "|    153|    9|\n",
      "|    154|   25|\n",
      "|    155|    8|\n",
      "|    156|   31|\n",
      "|    157|   16|\n",
      "|    158|   22|\n",
      "|    159|   22|\n",
      "|    160|   23|\n",
      "|    161|    3|\n",
      "|    162|   20|\n",
      "|    163|   16|\n",
      "|    164|   24|\n",
      "|    165|   45|\n",
      "|    166|   12|\n",
      "|    167|   19|\n",
      "|    168|    8|\n",
      "|    169|   13|\n",
      "|    170|   15|\n",
      "|    171|   11|\n",
      "|    172|    7|\n",
      "|    173|   14|\n",
      "|    174|   13|\n",
      "|    175|    1|\n",
      "|    176|   30|\n",
      "|    177|   11|\n",
      "|    178|   15|\n",
      "|    179|   35|\n",
      "|    180|   14|\n",
      "|    181|   30|\n",
      "|    182|   10|\n",
      "|    183|   61|\n",
      "|    184|   23|\n",
      "|    185|   38|\n",
      "|    186|   17|\n",
      "|    187|   24|\n",
      "|    188|   11|\n",
      "|    189|   15|\n",
      "|    190|   14|\n",
      "|    191|   44|\n",
      "|    192|   24|\n",
      "|    193|    6|\n",
      "|    194|   33|\n",
      "|    195|    9|\n",
      "|    196|   11|\n",
      "|    197|   31|\n",
      "|    198|   27|\n",
      "|    199|   29|\n",
      "+-------+-----+\n",
      "only showing top 200 rows\n",
      "\n"
     ]
    }
   ],
   "source": [
    "cluster_df.groupBy('cluster').count().sort('cluster').show(200)"
   ]
  },
  {
   "cell_type": "code",
   "execution_count": null,
   "metadata": {
    "collapsed": true
   },
   "outputs": [],
   "source": []
  },
  {
   "cell_type": "code",
   "execution_count": 217,
   "metadata": {
    "collapsed": false
   },
   "outputs": [],
   "source": [
    "hashtag_list_df = (data.select('created_at', 'entities.hashtags')\n",
    "                .filter(func.size('hashtags') > 0)\n",
    "                .select(hash_text_udf('hashtags').alias('hashtags'), 'created_at'))"
   ]
  },
  {
   "cell_type": "code",
   "execution_count": 218,
   "metadata": {
    "collapsed": true
   },
   "outputs": [],
   "source": [
    "from pyspark.mllib.feature import Word2Vec"
   ]
  },
  {
   "cell_type": "code",
   "execution_count": 219,
   "metadata": {
    "collapsed": true
   },
   "outputs": [],
   "source": [
    "w2v = Word2Vec()"
   ]
  },
  {
   "cell_type": "code",
   "execution_count": null,
   "metadata": {
    "collapsed": true
   },
   "outputs": [],
   "source": [
    "model = w2v.fit(hashtag_list_df.map(lambda r:r.hashtags))"
   ]
  },
  {
   "cell_type": "code",
   "execution_count": null,
   "metadata": {
    "collapsed": true
   },
   "outputs": [],
   "source": []
  }
 ],
 "metadata": {
  "kernelspec": {
   "display_name": "Python 2",
   "language": "python",
   "name": "python2"
  },
  "language_info": {
   "codemirror_mode": {
    "name": "ipython",
    "version": 2
   },
   "file_extension": ".py",
   "mimetype": "text/x-python",
   "name": "python",
   "nbconvert_exporter": "python",
   "pygments_lexer": "ipython2",
   "version": "2.7.10"
  }
 },
 "nbformat": 4,
 "nbformat_minor": 0
}
