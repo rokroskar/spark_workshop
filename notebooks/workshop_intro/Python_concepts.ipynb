{
 "cells": [
  {
   "cell_type": "markdown",
   "metadata": {
    "slideshow": {
     "slide_type": "slide"
    }
   },
   "source": [
    "# Distributed Data Analysis Workshop\n",
    "## Day 1: Programming Background / Python basics"
   ]
  },
  {
   "cell_type": "markdown",
   "metadata": {
    "slideshow": {
     "slide_type": "slide"
    }
   },
   "source": [
    "## Outline\n",
    "\n",
    "#### 1. [MapReduce](#Map-reduce)\n",
    "#### 2. [Lambda functions](#\"Lambda\"-functions)\n",
    "#### 3. [List comprehensions](#List-comprehension) (and [Tuples](#Tuples))\n",
    "#### 4. [Generator expressions](#Generator-expressions)\n",
    "#### 5. [Generators](#Generators)"
   ]
  },
  {
   "cell_type": "markdown",
   "metadata": {
    "slideshow": {
     "slide_type": "slide"
    }
   },
   "source": [
    "People have been doing this (using many machines for computation) for decades! \n",
    "\n",
    "But mostly for *creating* data on various HPC platforms, not processing it! \n",
    "\n",
    "Some interactive tools exist, but are often specialized and hard to taylor to specific needs"
   ]
  },
  {
   "cell_type": "markdown",
   "metadata": {
    "slideshow": {
     "slide_type": "slide"
    }
   },
   "source": [
    "Distributed data processing has really been driven by *industry* for the past decade or so.\n",
    "\n",
    "Enormous amounts of data in data warehouses needed a sensible way to chug through it all as cheaply as possible\n",
    "\n",
    "---> [MapReduce (Dean & Gemawat 2004)](http://research.google.com/archive/mapreduce.html) was born"
   ]
  },
  {
   "cell_type": "markdown",
   "metadata": {
    "slideshow": {
     "slide_type": "slide"
    }
   },
   "source": [
    "## Map-reduce \n",
    "\n",
    "The map-reduce programming model is at the heart of distributed data processing. In essence, it is quite simple: \n",
    "\n",
    "1. start with a collection of data and distribute it\n",
    "2. define a function you want to use to operate on that data\n",
    "2. apply the function to every element in the data collection (the *map* step)\n",
    "3. once the data has been massaged into a useful state, compute some aggregate value and return it to the user (the *reduce* step)"
   ]
  },
  {
   "cell_type": "markdown",
   "metadata": {
    "slideshow": {
     "slide_type": "subslide"
    }
   },
   "source": [
    "A few things to note: \n",
    "\n",
    "1. this is an extremely limiting programming model (compare to MPI where anything is possible)\n",
    "2. strictly task-parallel --> individual tasks *never* communicate to each other (except maybe via shared variables)\n",
    "3. very clear on intent *because* it is so limiting\n",
    "\n",
    "Let's see how this works through a simple example. "
   ]
  },
  {
   "cell_type": "markdown",
   "metadata": {
    "slideshow": {
     "slide_type": "slide"
    }
   },
   "source": [
    "Before we get started, we need to get set up. If you have `git`, check out the repository:\n",
    "\n",
    "```bash\n",
    "> git clone git@github.com:rokroskar/spark_workshop.git\n",
    "```\n",
    "\n",
    "If you don't have `git` (why don't you?) download the zip file:\n",
    "\n",
    "```bash\n",
    "> wget https://github.com/rokroskar/spark_workshop/archive/master.zip\n",
    "> unzip spark_workshop-master.zip\n",
    "```\n",
    "\n",
    "(or if you don't have `wget` just go to http://github.com/rokroskar/spark_workshop and download from there)"
   ]
  },
  {
   "cell_type": "markdown",
   "metadata": {
    "slideshow": {
     "slide_type": "subslide"
    }
   },
   "source": [
    "### If you are using Vagrant:\n",
    "\n",
    "```bash\n",
    "> cd spark_workshop\n",
    "> vagrant up\n",
    "> vagrant ssh -c \"notebooks/start_notebook.py --setup --launch\n",
    "```\n",
    "\n",
    "If running your own installation: \n",
    "\n",
    "```bash\n",
    "> cd spark_workshop\n",
    "> notebooks/start_notebook.py --setup --launch\n",
    "```"
   ]
  },
  {
   "cell_type": "markdown",
   "metadata": {
    "slideshow": {
     "slide_type": "subslide"
    }
   },
   "source": [
    "Look for output like this: \n",
    "\n",
    "```bash\n",
    "To access the notebook, inspect the output below for the port number, then point your browser to https://localhost:<port_number>\n",
    "[I 00:20:18.462 NotebookApp] Serving notebooks from local directory: /Users/rokstar/spark_workshop\n",
    "[I 00:20:18.462 NotebookApp] 0 active kernels\n",
    "[I 00:20:18.462 NotebookApp] The IPython Notebook is running at: https://[all ip addresses on your system]:8889/\n",
    "```\n",
    "\n",
    "and go to https://localhost:8889 (or whatever port it says the server is running on)"
   ]
  },
  {
   "cell_type": "markdown",
   "metadata": {
    "slideshow": {
     "slide_type": "slide"
    }
   },
   "source": [
    "### Very very basic MapReduce example\n",
    "\n",
    "First, we define our data array, in this case we're not very creative and just use 10 random integers in the range 0 - 100:"
   ]
  },
  {
   "cell_type": "code",
   "execution_count": 1,
   "metadata": {
    "collapsed": false,
    "slideshow": {
     "slide_type": "-"
    }
   },
   "outputs": [
    {
     "name": "stdout",
     "output_type": "stream",
     "text": [
      "[13, 85, 77, 25, 50, 45, 65, 79, 9, 2]\n"
     ]
    }
   ],
   "source": [
    "import random\n",
    "random.seed(1) # initialized to make sure we get the same numbers every time\n",
    "data = []\n",
    "for x in xrange(10) : data.append(random.randint(0,100))\n",
    "print data"
   ]
  },
  {
   "cell_type": "markdown",
   "metadata": {
    "slideshow": {
     "slide_type": "subslide"
    }
   },
   "source": [
    "Lets say now that we wanted to compute the total sum of all the values doubled. The most obvious choice for this would be some sort of a loop, in this case a `for` loop:"
   ]
  },
  {
   "cell_type": "code",
   "execution_count": 2,
   "metadata": {
    "collapsed": false,
    "slideshow": {
     "slide_type": "-"
    }
   },
   "outputs": [
    {
     "name": "stdout",
     "output_type": "stream",
     "text": [
      "900\n"
     ]
    }
   ],
   "source": [
    "dbl_sum = 0\n",
    "for x in data : \n",
    "    dbl_sum += x*2\n",
    "    \n",
    "print dbl_sum"
   ]
  },
  {
   "cell_type": "markdown",
   "metadata": {
    "slideshow": {
     "slide_type": "fragment"
    }
   },
   "source": [
    "In this case, the calculation was entirely sequential:\n",
    "\n",
    "we went through each element in `data`, doubled it, and added the result to the aggregate variable `dbl_sum` all in a single step. "
   ]
  },
  {
   "cell_type": "markdown",
   "metadata": {
    "slideshow": {
     "slide_type": "subslide"
    }
   },
   "source": [
    "But the two stages are separable: \n",
    "\n",
    "we might *first* double all the elements in `data` and then sum them all together. \n",
    "\n",
    "This is exactly a map-reduce operation: \n",
    "\n",
    "1. *map* the values to be double the original\n",
    "2. *reduce* them to a single number by summing them together. "
   ]
  },
  {
   "cell_type": "markdown",
   "metadata": {
    "slideshow": {
     "slide_type": "subslide"
    }
   },
   "source": [
    "As it turns out, the `python` language already includes the `map` and `reduce` functions so we can try this out immediately. First, we define the function that will be used as a `map`:"
   ]
  },
  {
   "cell_type": "code",
   "execution_count": 3,
   "metadata": {
    "collapsed": true,
    "slideshow": {
     "slide_type": "fragment"
    }
   },
   "outputs": [],
   "source": [
    "def double_the_number(x) : \n",
    "    return x*2"
   ]
  },
  {
   "cell_type": "markdown",
   "metadata": {
    "slideshow": {
     "slide_type": "fragment"
    }
   },
   "source": [
    "Now we apply the `map` -- notice how compact this looks!"
   ]
  },
  {
   "cell_type": "code",
   "execution_count": 4,
   "metadata": {
    "collapsed": false
   },
   "outputs": [
    {
     "name": "stdout",
     "output_type": "stream",
     "text": [
      "[26, 170, 154, 50, 100, 90, 130, 158, 18, 4]\n"
     ]
    }
   ],
   "source": [
    "dbl_data = map(double_the_number, data)\n",
    "print dbl_data"
   ]
  },
  {
   "cell_type": "markdown",
   "metadata": {},
   "source": [
    "`map` implicitly loops over all of the elements of data and applies `double_the_number` to each one. "
   ]
  },
  {
   "cell_type": "markdown",
   "metadata": {
    "slideshow": {
     "slide_type": "fragment"
    }
   },
   "source": [
    "For the reduction, we will use the standard `add` operator: "
   ]
  },
  {
   "cell_type": "code",
   "execution_count": 5,
   "metadata": {
    "collapsed": false
   },
   "outputs": [
    {
     "data": {
      "text/plain": [
       "900"
      ]
     },
     "execution_count": 5,
     "metadata": {},
     "output_type": "execute_result"
    }
   ],
   "source": [
    "from operator import add\n",
    "from functools import reduce\n",
    "reduce(add, dbl_data)"
   ]
  },
  {
   "cell_type": "markdown",
   "metadata": {
    "slideshow": {
     "slide_type": "slide"
    }
   },
   "source": [
    "## \"Lambda\" functions\n",
    "\n",
    "* our function `double_the_number` needed a lot of writing for a very simple operation \n",
    "* but! `map` *requires* a function to apply to the data array\n",
    "* when a function needed is very simple, the concept of \"in-line\" lambda functions is great "
   ]
  },
  {
   "cell_type": "markdown",
   "metadata": {
    "slideshow": {
     "slide_type": "subslide"
    }
   },
   "source": [
    "Basic idea: \n",
    "\n",
    "* the lambda function gets its items from an *iterable* object (list, dictionary, tuple, etc.)\n",
    "* it returns one element for each element it takes in  \n",
    "\n",
    "Here's how we can write the above using a lambda function: "
   ]
  },
  {
   "cell_type": "code",
   "execution_count": 6,
   "metadata": {
    "collapsed": false,
    "slideshow": {
     "slide_type": "fragment"
    }
   },
   "outputs": [
    {
     "data": {
      "text/plain": [
       "[26, 170, 154, 50, 100, 90, 130, 158, 18, 4]"
      ]
     },
     "execution_count": 6,
     "metadata": {},
     "output_type": "execute_result"
    }
   ],
   "source": [
    "dbl_data = map(lambda x: x*2, data)\n",
    "dbl_data"
   ]
  },
  {
   "cell_type": "markdown",
   "metadata": {},
   "source": [
    "This form has the advantage of being much more compact and allowing function creation \"on the fly\". \n",
    "\n",
    "The concept of in-line functions will be key to writing simple Spark applications!"
   ]
  },
  {
   "cell_type": "markdown",
   "metadata": {
    "slideshow": {
     "slide_type": "subslide"
    }
   },
   "source": [
    "Note that a `lambda` function is a function just like any other and you can also give it a name (although tha almost defies the point of an in-line function...)"
   ]
  },
  {
   "cell_type": "code",
   "execution_count": 7,
   "metadata": {
    "collapsed": false
   },
   "outputs": [
    {
     "name": "stdout",
     "output_type": "stream",
     "text": [
      "type of double_lambda is <type 'function'> \n"
     ]
    }
   ],
   "source": [
    "double_lambda = lambda x: x*2\n",
    "print 'type of double_lambda is %s ' % type(double_lambda)"
   ]
  },
  {
   "cell_type": "markdown",
   "metadata": {
    "slideshow": {
     "slide_type": "slide"
    }
   },
   "source": [
    "## List comprehension\n",
    "\n",
    "\"List comprehension\" is a complicated name for a pretty nice feature of python: creating lists on the fly using any kind of iterable object, often with the help of lambda functions. \n",
    "\n",
    "* In many cases, a handy replacement for `for` loops when creating lists of objects \n",
    "* can sometimes perform faster than the equivalent for loop "
   ]
  },
  {
   "cell_type": "markdown",
   "metadata": {
    "slideshow": {
     "slide_type": "subslide"
    }
   },
   "source": [
    "A normal python list is made by "
   ]
  },
  {
   "cell_type": "code",
   "execution_count": 8,
   "metadata": {
    "collapsed": true,
    "slideshow": {
     "slide_type": "-"
    }
   },
   "outputs": [],
   "source": [
    "my_list = [1, 2, 3, 4, 5]"
   ]
  },
  {
   "cell_type": "markdown",
   "metadata": {
    "slideshow": {
     "slide_type": "subslide"
    }
   },
   "source": [
    "The basic syntax for a *list comprehension* is that you enclose a `for` loop *inside* the list brackets `[]`. "
   ]
  },
  {
   "cell_type": "markdown",
   "metadata": {
    "slideshow": {
     "slide_type": "fragment"
    }
   },
   "source": [
    "To make a simple (slightly contrived) example, consider: "
   ]
  },
  {
   "cell_type": "code",
   "execution_count": 9,
   "metadata": {
    "collapsed": false,
    "slideshow": {
     "slide_type": "-"
    }
   },
   "outputs": [
    {
     "data": {
      "text/plain": [
       "[0, 1, 2, 3, 4, 5, 6, 7, 8, 9]"
      ]
     },
     "execution_count": 9,
     "metadata": {},
     "output_type": "execute_result"
    }
   ],
   "source": [
    "simple_list = [x for x in range(10)]\n",
    "simple_list"
   ]
  },
  {
   "cell_type": "markdown",
   "metadata": {},
   "source": [
    "(should really be called list *expansion*)"
   ]
  },
  {
   "cell_type": "markdown",
   "metadata": {
    "slideshow": {
     "slide_type": "fragment"
    }
   },
   "source": [
    "The equivalent `for` loop:"
   ]
  },
  {
   "cell_type": "code",
   "execution_count": 10,
   "metadata": {
    "collapsed": false
   },
   "outputs": [
    {
     "data": {
      "text/plain": [
       "[0, 1, 2, 3, 4, 5, 6, 7, 8, 9]"
      ]
     },
     "execution_count": 10,
     "metadata": {},
     "output_type": "execute_result"
    }
   ],
   "source": [
    "simple_list = []\n",
    "for x in range(10) : \n",
    "    simple_list.append(x)\n",
    "simple_list"
   ]
  },
  {
   "cell_type": "markdown",
   "metadata": {
    "slideshow": {
     "slide_type": "subslide"
    }
   },
   "source": [
    "The list comprehension gives you much more concise syntax!\n",
    "\n",
    "Even neater when a conditional is used in the iteration: "
   ]
  },
  {
   "cell_type": "code",
   "execution_count": 11,
   "metadata": {
    "collapsed": false
   },
   "outputs": [
    {
     "data": {
      "text/plain": [
       "[0, 2, 4, 6, 8]"
      ]
     },
     "execution_count": 11,
     "metadata": {},
     "output_type": "execute_result"
    }
   ],
   "source": [
    "# only even numbers\n",
    "simple_list = []\n",
    "for x in range(10) : \n",
    "    if x % 2 == 0 :\n",
    "        simple_list.append(x)\n",
    "simple_list"
   ]
  },
  {
   "cell_type": "code",
   "execution_count": 12,
   "metadata": {
    "collapsed": false
   },
   "outputs": [
    {
     "data": {
      "text/plain": [
       "[0, 2, 4, 6, 8]"
      ]
     },
     "execution_count": 12,
     "metadata": {},
     "output_type": "execute_result"
    }
   ],
   "source": [
    "[x for x in range(10) if x % 2 == 0]"
   ]
  },
  {
   "cell_type": "markdown",
   "metadata": {
    "slideshow": {
     "slide_type": "slide"
    }
   },
   "source": [
    "The construct \n",
    "\n",
    "    f(x) for x in y  \n",
    "    \n",
    "is *extremely* powerful! \n",
    "\n",
    "Anything that can be iterated can be used as the `y`. In the case above, `f(x) = x`, but it could be any function you want (including of course a lambda function!) "
   ]
  },
  {
   "cell_type": "markdown",
   "metadata": {
    "slideshow": {
     "slide_type": "subslide"
    }
   },
   "source": [
    "\n",
    "### Tuples\n",
    "Lets make a simple list of tuples to see one common application of such list comprehensions: "
   ]
  },
  {
   "cell_type": "code",
   "execution_count": 13,
   "metadata": {
    "collapsed": false,
    "slideshow": {
     "slide_type": "-"
    }
   },
   "outputs": [
    {
     "data": {
      "text/plain": [
       "[(1, 'a'), (2, 'b'), (3, 'c'), (4, 'd')]"
      ]
     },
     "execution_count": 13,
     "metadata": {},
     "output_type": "execute_result"
    }
   ],
   "source": [
    "tuple_list = zip([1,2,3,4], ['a','b','c','d'])\n",
    "tuple_list"
   ]
  },
  {
   "cell_type": "markdown",
   "metadata": {
    "slideshow": {
     "slide_type": "fragment"
    }
   },
   "source": [
    "Now we want to extract just the letters out of this list:"
   ]
  },
  {
   "cell_type": "code",
   "execution_count": 14,
   "metadata": {
    "collapsed": false
   },
   "outputs": [
    {
     "data": {
      "text/plain": [
       "['a', 'b', 'c', 'd']"
      ]
     },
     "execution_count": 14,
     "metadata": {},
     "output_type": "execute_result"
    }
   ],
   "source": [
    "[x[1] for x in tuple_list]"
   ]
  },
  {
   "cell_type": "markdown",
   "metadata": {
    "slideshow": {
     "slide_type": "fragment"
    }
   },
   "source": [
    "An even clearer syntax is to label the tuple elements that we are extracting from the list:"
   ]
  },
  {
   "cell_type": "code",
   "execution_count": 15,
   "metadata": {
    "collapsed": false
   },
   "outputs": [
    {
     "data": {
      "text/plain": [
       "['a', 'b', 'c', 'd']"
      ]
     },
     "execution_count": 15,
     "metadata": {},
     "output_type": "execute_result"
    }
   ],
   "source": [
    "[letter for (num, letter) in tuple_list]"
   ]
  },
  {
   "cell_type": "markdown",
   "metadata": {},
   "source": [
    "This notation is very elegant and allows us to do a reasonably complex operation (iterate over the list and extracting elements of a tuple into a new list) in a very simple way. "
   ]
  },
  {
   "cell_type": "markdown",
   "metadata": {
    "slideshow": {
     "slide_type": "subslide"
    }
   },
   "source": [
    "A conditional can be applied on the values in the iterator when creating the new list when processing a tuple, just as we did above."
   ]
  },
  {
   "cell_type": "markdown",
   "metadata": {
    "slideshow": {
     "slide_type": "-"
    }
   },
   "source": [
    "For example, if we wanted only the letters corresponding to all the even values: "
   ]
  },
  {
   "cell_type": "code",
   "execution_count": 16,
   "metadata": {
    "collapsed": false
   },
   "outputs": [
    {
     "data": {
      "text/plain": [
       "['b', 'd']"
      ]
     },
     "execution_count": 16,
     "metadata": {},
     "output_type": "execute_result"
    }
   ],
   "source": [
    "[letter for (num, letter) in tuple_list if num%2 == 0]"
   ]
  },
  {
   "cell_type": "markdown",
   "metadata": {
    "slideshow": {
     "slide_type": "slide"
    }
   },
   "source": [
    "## Filter\n",
    "\n",
    "Sometimes some more complex logic needs to be applied to the values. \n",
    "\n",
    "* for such cases, use the `filter` function\n",
    "* can be any function of the form `f(x) --> boolean`"
   ]
  },
  {
   "cell_type": "code",
   "execution_count": 17,
   "metadata": {
    "collapsed": false
   },
   "outputs": [
    {
     "data": {
      "text/plain": [
       "[(2, 'b'), (4, 'd')]"
      ]
     },
     "execution_count": 17,
     "metadata": {},
     "output_type": "execute_result"
    }
   ],
   "source": [
    "def filter_func(x) :\n",
    "    num, letter = x\n",
    "    return num%2 == 0\n",
    "\n",
    "filtered_tuple_list = filter(filter_func, tuple_list)\n",
    "filtered_tuple_list"
   ]
  },
  {
   "cell_type": "markdown",
   "metadata": {
    "slideshow": {
     "slide_type": "fragment"
    }
   },
   "source": [
    "We can of course use the results of `filter` also in a list comprehension:"
   ]
  },
  {
   "cell_type": "code",
   "execution_count": 18,
   "metadata": {
    "collapsed": false
   },
   "outputs": [
    {
     "data": {
      "text/plain": [
       "['b', 'd']"
      ]
     },
     "execution_count": 18,
     "metadata": {},
     "output_type": "execute_result"
    }
   ],
   "source": [
    "[letter for (num,letter) in filter(filter_func, tuple_list)]"
   ]
  },
  {
   "cell_type": "markdown",
   "metadata": {
    "slideshow": {
     "slide_type": "subslide"
    }
   },
   "source": [
    "Slight **warning** here: \n",
    "\n",
    "the elements of the list are tuples and the function arguments don't expand the tuple automatically. That's why we have the extra line\n",
    "\n",
    "    num, letter = x\n",
    "\n",
    "which takes `num` and `letter` out of each tuple that gets passed to `filter_func`. \n",
    "\n",
    "The same would happen with a `lambda funcion`: "
   ]
  },
  {
   "cell_type": "code",
   "execution_count": 19,
   "metadata": {
    "collapsed": false
   },
   "outputs": [
    {
     "ename": "TypeError",
     "evalue": "<lambda>() takes exactly 2 arguments (1 given)",
     "output_type": "error",
     "traceback": [
      "\u001b[0;31m---------------------------------------------------------------------------\u001b[0m",
      "\u001b[0;31mTypeError\u001b[0m                                 Traceback (most recent call last)",
      "\u001b[0;32m<ipython-input-19-cefd26cb6b0b>\u001b[0m in \u001b[0;36m<module>\u001b[0;34m()\u001b[0m\n\u001b[1;32m      1\u001b[0m \u001b[0;31m# error\u001b[0m\u001b[0;34m\u001b[0m\u001b[0;34m\u001b[0m\u001b[0m\n\u001b[0;32m----> 2\u001b[0;31m \u001b[0mfilter\u001b[0m\u001b[0;34m(\u001b[0m\u001b[0;32mlambda\u001b[0m \u001b[0mx\u001b[0m\u001b[0;34m,\u001b[0m\u001b[0my\u001b[0m\u001b[0;34m:\u001b[0m \u001b[0mx\u001b[0m\u001b[0;34m%\u001b[0m\u001b[0;36m2\u001b[0m\u001b[0;34m==\u001b[0m\u001b[0;36m0\u001b[0m\u001b[0;34m,\u001b[0m \u001b[0mtuple_list\u001b[0m\u001b[0;34m)\u001b[0m\u001b[0;34m\u001b[0m\u001b[0m\n\u001b[0m",
      "\u001b[0;31mTypeError\u001b[0m: <lambda>() takes exactly 2 arguments (1 given)"
     ]
    }
   ],
   "source": [
    "# error\n",
    "filter(lambda x,y: x%2==0, tuple_list)"
   ]
  },
  {
   "cell_type": "code",
   "execution_count": 20,
   "metadata": {
    "collapsed": false
   },
   "outputs": [
    {
     "data": {
      "text/plain": [
       "[(2, 'b'), (4, 'd')]"
      ]
     },
     "execution_count": 20,
     "metadata": {},
     "output_type": "execute_result"
    }
   ],
   "source": [
    "# correct syntax\n",
    "filter(lambda (x,y): x%2==0, tuple_list)"
   ]
  },
  {
   "cell_type": "markdown",
   "metadata": {
    "slideshow": {
     "slide_type": "slide"
    }
   },
   "source": [
    "## Generator expressions \n",
    "\n",
    "Unfortunately, creating long lists can have large memory overhead. \n",
    "\n",
    "Often, we don't need to hold the entire lists in memory, but only need the elements one by one -- this is the case with *all* reductions, for example, such as the `sum` we used above. "
   ]
  },
  {
   "cell_type": "markdown",
   "metadata": {
    "slideshow": {
     "slide_type": "subslide"
    }
   },
   "source": [
    "In the cell below, two lists are actually created -- first, the one returned by `range` and once this one is iterated over, we have a second list resulting from the `x for x in range` part:"
   ]
  },
  {
   "cell_type": "code",
   "execution_count": 21,
   "metadata": {
    "collapsed": false
   },
   "outputs": [
    {
     "data": {
      "text/plain": [
       "499999500000"
      ]
     },
     "execution_count": 21,
     "metadata": {},
     "output_type": "execute_result"
    }
   ],
   "source": [
    "sum([x for x in range(1000000)])"
   ]
  },
  {
   "cell_type": "markdown",
   "metadata": {
    "slideshow": {
     "slide_type": "subslide"
    }
   },
   "source": [
    "When dealing with large amounts of data, the memory footprint becomes a serious concern and can make a difference between a code completing or crashing with an \"out of memory\" error. \n",
    "\n",
    "Luckily, `python` has a neat solution for this, and it's called \"generator expressions\". The gist is that such an expression acts like an **iterable**, but only creates the items when they are requested, computing them on the fly. "
   ]
  },
  {
   "cell_type": "markdown",
   "metadata": {
    "slideshow": {
     "slide_type": "subslide"
    }
   },
   "source": [
    "Generator expressions work *exactly* the same way as list comprehension, but using `()` instead of `[]`. Very nice. \n",
    "\n",
    "So, lets see how this works: "
   ]
  },
  {
   "cell_type": "code",
   "execution_count": 22,
   "metadata": {
    "collapsed": false
   },
   "outputs": [
    {
     "name": "stdout",
     "output_type": "stream",
     "text": [
      "499999500000\n",
      "249999500000\n"
     ]
    }
   ],
   "source": [
    "print(sum(x for x in range(1000000)))\n",
    "\n",
    "# now summing only the even numbers -- conditionals work just like in list comprehension\n",
    "print(sum(x for x in range(1000000) if x % 2 == 0))"
   ]
  },
  {
   "cell_type": "markdown",
   "metadata": {
    "slideshow": {
     "slide_type": "subslide"
    }
   },
   "source": [
    "The downside is that the elements of a generator expression can be accessed exactly once, i.e. there is *no* indexing!"
   ]
  },
  {
   "cell_type": "code",
   "execution_count": 23,
   "metadata": {
    "collapsed": false
   },
   "outputs": [
    {
     "data": {
      "text/plain": [
       "5"
      ]
     },
     "execution_count": 23,
     "metadata": {},
     "output_type": "execute_result"
    }
   ],
   "source": [
    "list_expression = [x for x in range(100)]\n",
    "list_expression[5]"
   ]
  },
  {
   "cell_type": "code",
   "execution_count": 24,
   "metadata": {
    "collapsed": false,
    "slideshow": {
     "slide_type": "fragment"
    }
   },
   "outputs": [
    {
     "ename": "TypeError",
     "evalue": "'generator' object has no attribute '__getitem__'",
     "output_type": "error",
     "traceback": [
      "\u001b[0;31m---------------------------------------------------------------------------\u001b[0m",
      "\u001b[0;31mTypeError\u001b[0m                                 Traceback (most recent call last)",
      "\u001b[0;32m<ipython-input-24-7946e8f635be>\u001b[0m in \u001b[0;36m<module>\u001b[0;34m()\u001b[0m\n\u001b[1;32m      1\u001b[0m \u001b[0mgen_expression\u001b[0m \u001b[0;34m=\u001b[0m \u001b[0;34m(\u001b[0m\u001b[0mx\u001b[0m \u001b[0;32mfor\u001b[0m \u001b[0mx\u001b[0m \u001b[0;32min\u001b[0m \u001b[0mrange\u001b[0m\u001b[0;34m(\u001b[0m\u001b[0;36m100\u001b[0m\u001b[0;34m)\u001b[0m\u001b[0;34m)\u001b[0m\u001b[0;34m\u001b[0m\u001b[0m\n\u001b[0;32m----> 2\u001b[0;31m \u001b[0mgen_expression\u001b[0m\u001b[0;34m[\u001b[0m\u001b[0;36m5\u001b[0m\u001b[0;34m]\u001b[0m\u001b[0;34m\u001b[0m\u001b[0m\n\u001b[0m",
      "\u001b[0;31mTypeError\u001b[0m: 'generator' object has no attribute '__getitem__'"
     ]
    }
   ],
   "source": [
    "gen_expression = (x for x in range(100))\n",
    "gen_expression[5]"
   ]
  },
  {
   "cell_type": "markdown",
   "metadata": {
    "slideshow": {
     "slide_type": "subslide"
    }
   },
   "source": [
    "Finally, because `range` is so common and so wasteful, `python` includes the generator version of `range` which is simply `xrange` -- instead of making a list, this simply yields the elements one by one, but otherwise behaves exactly like `range`. \n",
    "\n",
    "*note:* this is the default `range` behavior in python3\n",
    "\n",
    "Compare memory usage of these two executions: "
   ]
  },
  {
   "cell_type": "code",
   "execution_count": 25,
   "metadata": {
    "collapsed": false
   },
   "outputs": [
    {
     "name": "stdout",
     "output_type": "stream",
     "text": [
      "peak memory: 3197.58 MiB, increment: 3149.74 MiB\n"
     ]
    }
   ],
   "source": [
    "%load_ext memory_profiler\n",
    "%memit sum([x for x in range(100000000)])"
   ]
  },
  {
   "cell_type": "code",
   "execution_count": 26,
   "metadata": {
    "collapsed": false
   },
   "outputs": [
    {
     "name": "stdout",
     "output_type": "stream",
     "text": [
      "peak memory: 51.28 MiB, increment: 0.06 MiB\n"
     ]
    }
   ],
   "source": [
    "%memit sum(x for x in xrange(100000000))"
   ]
  },
  {
   "cell_type": "markdown",
   "metadata": {
    "slideshow": {
     "slide_type": "slide"
    }
   },
   "source": [
    "## Generators\n",
    "Closely related to generator *expressions* are *generators* - they are \n",
    "\n",
    "* functions that keep track of their internal state when they return \n",
    "* on next call they continue from where they left off. \n",
    "\n",
    "It's easy to illustrate this with writing our own version of `xrange` discussed above."
   ]
  },
  {
   "cell_type": "code",
   "execution_count": 27,
   "metadata": {
    "collapsed": false,
    "slideshow": {
     "slide_type": "subslide"
    }
   },
   "outputs": [],
   "source": [
    "def my_xrange(N) :\n",
    "    i = 0\n",
    "    while i < N :\n",
    "        yield i\n",
    "        i += 1"
   ]
  },
  {
   "cell_type": "code",
   "execution_count": 28,
   "metadata": {
    "collapsed": false
   },
   "outputs": [
    {
     "data": {
      "text/plain": [
       "<generator object my_xrange at 0x1045771e0>"
      ]
     },
     "execution_count": 28,
     "metadata": {},
     "output_type": "execute_result"
    }
   ],
   "source": [
    "gen = my_xrange(10)\n",
    "gen"
   ]
  },
  {
   "cell_type": "code",
   "execution_count": 29,
   "metadata": {
    "collapsed": false
   },
   "outputs": [
    {
     "name": "stdout",
     "output_type": "stream",
     "text": [
      "first value 0\n",
      "next value 1\n"
     ]
    }
   ],
   "source": [
    "print 'first value', gen.next()\n",
    "print 'next value', gen.next()"
   ]
  },
  {
   "cell_type": "code",
   "execution_count": 30,
   "metadata": {
    "collapsed": false
   },
   "outputs": [
    {
     "data": {
      "text/plain": [
       "[2, 3, 4, 5, 6, 7, 8, 9]"
      ]
     },
     "execution_count": 30,
     "metadata": {},
     "output_type": "execute_result"
    }
   ],
   "source": [
    "[x for x in gen]"
   ]
  },
  {
   "cell_type": "code",
   "execution_count": 31,
   "metadata": {
    "collapsed": false
   },
   "outputs": [
    {
     "ename": "StopIteration",
     "evalue": "",
     "output_type": "error",
     "traceback": [
      "\u001b[0;31m---------------------------------------------------------------------------\u001b[0m",
      "\u001b[0;31mStopIteration\u001b[0m                             Traceback (most recent call last)",
      "\u001b[0;32m<ipython-input-31-4e0a0c01742f>\u001b[0m in \u001b[0;36m<module>\u001b[0;34m()\u001b[0m\n\u001b[1;32m      1\u001b[0m \u001b[0;31m# exhausted iterator\u001b[0m\u001b[0;34m\u001b[0m\u001b[0;34m\u001b[0m\u001b[0m\n\u001b[0;32m----> 2\u001b[0;31m \u001b[0mgen\u001b[0m\u001b[0;34m.\u001b[0m\u001b[0mnext\u001b[0m\u001b[0;34m(\u001b[0m\u001b[0;34m)\u001b[0m\u001b[0;34m\u001b[0m\u001b[0m\n\u001b[0m",
      "\u001b[0;31mStopIteration\u001b[0m: "
     ]
    }
   ],
   "source": [
    "# exhausted iterator\n",
    "gen.next()"
   ]
  },
  {
   "cell_type": "markdown",
   "metadata": {
    "slideshow": {
     "slide_type": "subslide"
    }
   },
   "source": [
    "This only scratches the surface of generator functionality in `python`, but for our purposes it is enough. For a more complete discussion see e.g. [the python wiki](https://wiki.python.org/moin/Generators) and [this pretty good example](http://jeffknupp.com/blog/2013/04/07/improve-your-python-yield-and-generators-explained/). \n",
    "\n",
    "Generators and generator expressions are useful in general when dealing with large data objects because they allow you to iterate through the data without ever holding it in memory. \n",
    "\n",
    "The concept of generators will be useful when we discuss the `mapPartitions` RDD method in Spark."
   ]
  }
 ],
 "metadata": {
  "celltoolbar": "Slideshow",
  "kernelspec": {
   "display_name": "Python 2",
   "language": "python",
   "name": "python2"
  },
  "language_info": {
   "codemirror_mode": {
    "name": "ipython",
    "version": 2
   },
   "file_extension": ".py",
   "mimetype": "text/x-python",
   "name": "python",
   "nbconvert_exporter": "python",
   "pygments_lexer": "ipython2",
   "version": "2.7.10"
  }
 },
 "nbformat": 4,
 "nbformat_minor": 0
}
