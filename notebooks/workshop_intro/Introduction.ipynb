{
 "cells": [
  {
   "cell_type": "markdown",
   "metadata": {
    "slideshow": {
     "slide_type": "slide"
    }
   },
   "source": [
    "# Distributed Data Analysis  \n",
    "\n",
    "<h4 text-align=right>(for scientists)</h4>\n",
    "\n",
    "### Scientific IT Services // ETH Zürich"
   ]
  },
  {
   "cell_type": "markdown",
   "metadata": {
    "slideshow": {
     "slide_type": "slide"
    }
   },
   "source": [
    "## Purpose\n",
    "\n",
    "What are we doing here? \n",
    "\n",
    "* presumably, you have some sort of a \"data problem\"\n",
    "* you live in constant fear that your \"data problem\" will outgrow even your group's new shiny workstation\n",
    "* you do some work in the batch queue of a cluster, but you find this limiting and rigid\n",
    "* you've heard of \"big data\" tools, but it always seems like such a pain to get going with them\n",
    "\n",
    "Hopefully we'll be able to address some of these problems!"
   ]
  },
  {
   "cell_type": "markdown",
   "metadata": {
    "slideshow": {
     "slide_type": "slide"
    }
   },
   "source": [
    "### Who am I? \n",
    "\n",
    "* Rok Roškar --> I work for the SIS Research Informatics group\n",
    "* background (PhD) in theoretical astrophysics -- spent many years running large simulations on supercomputers\n",
    "* dove into \"big data\" tools about a year ago, trying to come up with a solution for a D-GESS project"
   ]
  },
  {
   "cell_type": "markdown",
   "metadata": {
    "slideshow": {
     "slide_type": "slide"
    }
   },
   "source": [
    "## Big Data \n",
    "### Everyone is talking about it... but no one knows what it is\n",
    "\n",
    "1 Gb? 50 Gb? 500 Gb? 500 Tb? 1 Pb? "
   ]
  },
  {
   "cell_type": "markdown",
   "metadata": {
    "slideshow": {
     "slide_type": "fragment"
    }
   },
   "source": [
    "**It doesn't matter! **\n",
    "\n",
    "* \"Big data\" is when you start to seriously worry that your analysis will never complete\n",
    "* this could be due to memory or runtime"
   ]
  },
  {
   "cell_type": "markdown",
   "metadata": {
    "slideshow": {
     "slide_type": "slide"
    }
   },
   "source": [
    "## *Data exploration enables scientific discovery*\n",
    "Big or small data isn't the point: we want to enable scientific discovery\n",
    "\n",
    "This happens through efficient data exploration, irrespective of size\n",
    "\n",
    "Static, complicated, batch pipelines vs. limber, flexible, interactive analysis \n",
    "\n"
   ]
  },
  {
   "cell_type": "markdown",
   "metadata": {
    "slideshow": {
     "slide_type": "slide"
    }
   },
   "source": [
    "First try: move from laptop to a workstation\n",
    "\n",
    "<img src=\"https://raw.githubusercontent.com/rokroskar/spark_workshop/master/notebooks/figs/laptop_workstation.png?token=ADMr8uMMwA8iTKzHy4z2SAwdKuxTuWHhks5V10nZwA%3D%3D\">\n",
    "\n",
    "* more memory! problem solved? handled by operating system...\n",
    "* more cores! special libraries can provide simple multithreading support\n",
    "* still, we want analysis on Tb of data at interactive speeds! "
   ]
  },
  {
   "cell_type": "markdown",
   "metadata": {
    "slideshow": {
     "slide_type": "slide"
    }
   },
   "source": [
    "*Obtain results* of a model within seconds of changing a parameter; \n",
    "\n",
    "*discover relationships* in high-dimensional data by slicing, dicing, reducing, visualizing\n",
    "\n",
    "A single workstation will not cut it, and if it does for a problem today, it certainly won't tomorrow. "
   ]
  },
  {
   "cell_type": "markdown",
   "metadata": {
    "slideshow": {
     "slide_type": "slide"
    }
   },
   "source": [
    "<!-- .slide: data-background=\"#fffff\" -->\n",
    "\n",
    "Next, move to a *cluster* \n",
    "\n",
    "a set of interconnected servers steered through some common gateway\n",
    "\n",
    "<img src=\"https://raw.githubusercontent.com/rokroskar/spark_workshop/master/notebooks/figs/cluster-computing.png?token=ADMr8vpYR6DRDeRu8zTuySiCGIIWdqUYks5V2JG2wA%3D%3D\">"
   ]
  },
  {
   "cell_type": "markdown",
   "metadata": {
    "collapsed": true,
    "slideshow": {
     "slide_type": "fragment"
    }
   },
   "source": [
    "* easy for \"embarrasingly\" parallel work-loads\n",
    "* book-keeping nightmare (tons of files, intermediate products etc.)\n",
    "* not so easy for really parallel computation \n",
    "* definitely not easy for interactive use and data exploration"
   ]
  },
  {
   "cell_type": "markdown",
   "metadata": {
    "slideshow": {
     "slide_type": "slide"
    }
   },
   "source": [
    "What's so hard about distributed analysis/computation? \n",
    "\n",
    "* data and tasks need to be *coordinated* between the different machines\n",
    "* consumption of data and production of results has to be controlled\n",
    "* partial results calculated on various parts of the system need to be assembled for the user\n",
    "* in a \"true\" parallel environment, this is done via very complicated sequences of communication library calls\n",
    "* no longer have one machine but many, potentially hundreds --> hard to debug/control!\n"
   ]
  },
  {
   "cell_type": "markdown",
   "metadata": {
    "slideshow": {
     "slide_type": "slide"
    }
   },
   "source": [
    "## Liberation through limitation\n",
    "\n",
    "What if we only allowed the user a very rigid programming model? \n",
    "\n",
    "This makes a system more robust out-of-the-box, predictable, and easier to monitor, discover failures etc. "
   ]
  },
  {
   "cell_type": "markdown",
   "metadata": {
    "slideshow": {
     "slide_type": "slide"
    }
   },
   "source": [
    "**MapReduce** is such a programming paradigm\n",
    "\n",
    "<img src=\"https://raw.githubusercontent.com/rokroskar/spark_workshop/master/notebooks/figs/mapreduce.png?token=ADMr8i8bUDYu28G-28pF9ivkU8whgCaTks5V2Ka6wA%3D%3D\" width=850>"
   ]
  },
  {
   "cell_type": "markdown",
   "metadata": {
    "slideshow": {
     "slide_type": "slide"
    }
   },
   "source": [
    "We all know this to some extent --> it's all around us\n",
    "\n",
    "* Web 2.0\n",
    "    * multimedia content (images, video, music/audio)\n",
    "    * user activity tracking\n",
    "    * recommendation engines (shopping, movies, ads. etc.)\n",
    "* Sensors\n",
    "    * smartphone\n",
    "    * real-world, internet of things\n",
    "* Public infrastructure\n",
    "    * telecom\n",
    "    * transportation (trains, traffic)\n",
    "* Science\n",
    "    * CERN \n",
    "    * astronomy sky surveys\n",
    "    * medicine + genomics --> translational science\n",
    "    * high-content screening, lightsheet microscopy\n",
    "    * social science"
   ]
  },
  {
   "cell_type": "markdown",
   "metadata": {
    "slideshow": {
     "slide_type": "slide"
    }
   },
   "source": [
    "Many of these \"production\" systems based on MapReduce combined with efficient \"data stores\" (distributed databases etc)\n",
    "\n",
    "Most common is the open source Apache **Hadoop**\n",
    "\n",
    "* Java-based MR implementation\n",
    "* used together with the Hadoop Distributed File System (HDFS)\n",
    "* important feature: \"bringing computation *to the data*\"\n"
   ]
  },
  {
   "cell_type": "code",
   "execution_count": 13,
   "metadata": {
    "collapsed": false,
    "slideshow": {
     "slide_type": "skip"
    }
   },
   "outputs": [
    {
     "data": {
      "text/html": [
       "<style>\n",
       "    \n",
       "    @import url('http://fonts.googleapis.com/css?family=Source+Code+Pro');\n",
       "    \n",
       "    @import url('http://fonts.googleapis.com/css?family=Kameron');\n",
       "    @import url('http://fonts.googleapis.com/css?family=Crimson+Text');\n",
       "    \n",
       "    @import url('http://fonts.googleapis.com/css?family=Lato');\n",
       "    @import url('http://fonts.googleapis.com/css?family=Source+Sans+Pro');\n",
       "    \n",
       "    @import url('http://fonts.googleapis.com/css?family=Lora'); \n",
       "    @import url(https://fonts.googleapis.com/css?family=Ubuntu:300,700,300italic,700italic);\n",
       "    \n",
       "    body {\n",
       "        font-family: Ubuntu, sans-serif;\n",
       "    }\n",
       "    .rendered_html code\n",
       "    {\n",
       "        color: black;\n",
       "        background: #eaf0ff;\n",
       "        padding: 1pt;\n",
       "        font-family:  'Source Code Pro', Consolas, monocco, monospace;\n",
       "    }\n",
       "    \n",
       "    .CodeMirror pre {\n",
       "    font-family: 'Source Code Pro', monocco, Consolas, monocco, monospace;\n",
       "    }\n",
       "    \n",
       "    .cm-s-ipython span.cm-keyword {\n",
       "        font-weight: normal;\n",
       "     }\n",
       "        \n",
       "    div #notebook {\n",
       "        font-size: 12pt; \n",
       "        line-height: 145%;\n",
       "        }\n",
       "        \n",
       "    li {\n",
       "        line-heigt: 175%;\n",
       "    }\n",
       "\n",
       "    div.output_area pre {\n",
       "        background: #fffdf0;\n",
       "        padding: 3pt;\n",
       "    }\n",
       "    \n",
       "    h1, h2, h3, h4 {\n",
       "        font-family: Kameron, arial;\n",
       "    }\n",
       "    \n",
       "    div#maintoolbar {display: none !important;}\n",
       "    </style>"
      ],
      "text/plain": [
       "<IPython.core.display.HTML object>"
      ]
     },
     "execution_count": 13,
     "metadata": {},
     "output_type": "execute_result"
    }
   ],
   "source": [
    "\n",
    "# THE LINES BELOW ARE JUST FOR STYLING THE CONTENT ABOVE !\n",
    "\n",
    "from IPython import utils\n",
    "from IPython.core.display import HTML\n",
    "import os\n",
    "def css_styling():\n",
    "    \"\"\"Load default custom.css file from ipython profile\"\"\"\n",
    "    base = utils.path.get_ipython_dir()\n",
    "    styles = \"\"\"<style>\n",
    "    \n",
    "    @import url('http://fonts.googleapis.com/css?family=Source+Code+Pro');\n",
    "    \n",
    "    @import url('http://fonts.googleapis.com/css?family=Kameron');\n",
    "    @import url('http://fonts.googleapis.com/css?family=Crimson+Text');\n",
    "    \n",
    "    @import url('http://fonts.googleapis.com/css?family=Lato');\n",
    "    @import url('http://fonts.googleapis.com/css?family=Source+Sans+Pro');\n",
    "    \n",
    "    @import url('http://fonts.googleapis.com/css?family=Lora'); \n",
    "    @import url(https://fonts.googleapis.com/css?family=Ubuntu:300,700,300italic,700italic);\n",
    "    \n",
    "    body {\n",
    "        font-family: Ubuntu, sans-serif;\n",
    "    }\n",
    "    .rendered_html code\n",
    "    {\n",
    "        color: black;\n",
    "        background: #eaf0ff;\n",
    "        padding: 1pt;\n",
    "        font-family:  'Source Code Pro', Consolas, monocco, monospace;\n",
    "    }\n",
    "    \n",
    "    .CodeMirror pre {\n",
    "    font-family: 'Source Code Pro', monocco, Consolas, monocco, monospace;\n",
    "    }\n",
    "    \n",
    "    .cm-s-ipython span.cm-keyword {\n",
    "        font-weight: normal;\n",
    "     }\n",
    "        \n",
    "    div #notebook {\n",
    "        font-size: 12pt; \n",
    "        line-height: 145%;\n",
    "        }\n",
    "        \n",
    "    li {\n",
    "        line-heigt: 175%;\n",
    "    }\n",
    "\n",
    "    div.output_area pre {\n",
    "        background: #fffdf0;\n",
    "        padding: 3pt;\n",
    "    }\n",
    "    \n",
    "    h1, h2, h3, h4 {\n",
    "        font-family: Kameron, arial;\n",
    "    }\n",
    "    \n",
    "    div#maintoolbar {display: none !important;}\n",
    "    </style>\"\"\"\n",
    "    return HTML(styles)\n",
    "css_styling()"
   ]
  },
  {
   "cell_type": "code",
   "execution_count": null,
   "metadata": {
    "collapsed": true
   },
   "outputs": [],
   "source": []
  }
 ],
 "metadata": {
  "celltoolbar": "Slideshow",
  "kernelspec": {
   "display_name": "Python 2",
   "language": "python",
   "name": "python2"
  },
  "language_info": {
   "codemirror_mode": {
    "name": "ipython",
    "version": 2
   },
   "file_extension": ".py",
   "mimetype": "text/x-python",
   "name": "python",
   "nbconvert_exporter": "python",
   "pygments_lexer": "ipython2",
   "version": "2.7.10"
  }
 },
 "nbformat": 4,
 "nbformat_minor": 0
}
