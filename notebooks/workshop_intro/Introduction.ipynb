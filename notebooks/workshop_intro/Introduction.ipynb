{
 "cells": [
  {
   "cell_type": "markdown",
   "metadata": {
    "slideshow": {
     "slide_type": "slide"
    }
   },
   "source": [
    "# Distributed Data Analysis  <h4 text-align=right>(for scientists)</h4>\n",
    "### Scientific IT Services // ETH Zürich"
   ]
  },
  {
   "cell_type": "markdown",
   "metadata": {},
   "source": [
    "<link href='http://fonts.googleapis.com/css?family=Open+Sans' rel='stylesheet' type='text/css'>"
   ]
  },
  {
   "cell_type": "markdown",
   "metadata": {
    "slideshow": {
     "slide_type": "slide"
    }
   },
   "source": [
    "## Purpose\n",
    "\n",
    "What are we doing here? \n",
    "\n",
    "* presumably, you have some sort of a \"data problem\"\n",
    "* you live in constant fear that your \"data problem\" will outgrow even your group's new shiny workstation\n",
    "* you do some work in the batch queue of a cluster, but you find this limiting and rigid\n",
    "* you've heard of \"big data\" tools, but it always seems like such a pain to get going with them\n",
    "\n",
    "Hopefully we'll be able to address some of these problems!"
   ]
  },
  {
   "cell_type": "markdown",
   "metadata": {
    "slideshow": {
     "slide_type": "slide"
    }
   },
   "source": [
    "### Who am I? \n",
    "\n",
    "* Rok Roskar --> I work for the SIS Research Informatics group\n",
    "* background (PhD) in theoretical astrophysics -- spent many years running large simulations on supercomputers\n",
    "* dove into \"big data\" tools about a year ago, trying to come up with a solution for a D-GESS project"
   ]
  },
  {
   "cell_type": "markdown",
   "metadata": {
    "slideshow": {
     "slide_type": "slide"
    }
   },
   "source": [
    "## Big Data \n",
    "### Everyone is talking about it... but no one knows what it is\n",
    "\n",
    "1 Gb? 50 Gb? 500 Gb? 500 Tb? 1 Pb? "
   ]
  },
  {
   "cell_type": "markdown",
   "metadata": {
    "slideshow": {
     "slide_type": "fragment"
    }
   },
   "source": [
    "It doesn't matter! \n",
    "\n",
    "* \"Big data\" is when you start to seriously worry that your analysis will never complete\n",
    "* this could be due to memory or runtime"
   ]
  },
  {
   "cell_type": "markdown",
   "metadata": {
    "slideshow": {
     "slide_type": "slide"
    }
   },
   "source": [
    "First try: move from laptop to a workstation\n",
    "\n",
    "<img src=\"https://raw.githubusercontent.com/rokroskar/spark_workshop/master/notebooks/figs/laptop_workstation.png?token=ADMr8uMMwA8iTKzHy4z2SAwdKuxTuWHhks5V10nZwA%3D%3D\">\n",
    "\n",
    "* more memory! problem solved? handled by operating system...\n",
    "* more cores! special libraries can provide simple multithreading support"
   ]
  },
  {
   "cell_type": "markdown",
   "metadata": {
    "slideshow": {
     "slide_type": "slide"
    }
   },
   "source": [
    "Next, move to a \"cluster\"\n",
    "\n",
    "<img src=\"https://raw.githubusercontent.com/rokroskar/spark_workshop/master/notebooks/figs/cluster-computing.png?token=ADMr8opZXxDqV_GfHwQjp2Gy1YIDVqFyks5V11VIwA%3D%3D\">"
   ]
  },
  {
   "cell_type": "code",
   "execution_count": null,
   "metadata": {
    "collapsed": true
   },
   "outputs": [],
   "source": []
  }
 ],
 "metadata": {
  "celltoolbar": "Slideshow",
  "kernelspec": {
   "display_name": "Python 2",
   "language": "python",
   "name": "python2"
  },
  "language_info": {
   "codemirror_mode": {
    "name": "ipython",
    "version": 2
   },
   "file_extension": ".py",
   "mimetype": "text/x-python",
   "name": "python",
   "nbconvert_exporter": "python",
   "pygments_lexer": "ipython2",
   "version": "2.7.10"
  }
 },
 "nbformat": 4,
 "nbformat_minor": 0
}
